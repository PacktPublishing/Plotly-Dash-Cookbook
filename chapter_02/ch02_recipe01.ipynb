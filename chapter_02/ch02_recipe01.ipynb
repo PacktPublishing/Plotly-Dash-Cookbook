{
 "cells": [
  {
   "cell_type": "markdown",
   "metadata": {},
   "source": [
    "# Creating Series and Data Frames in Pandas"
   ]
  },
  {
   "cell_type": "markdown",
   "metadata": {},
   "source": [
    "Pandas provides two types of classes for handling data:\n",
    "\n",
    "- Series: a one-dimensional labeled array holding data of any type\n",
    "such as integers, strings, Python objects etc.\n",
    "- DataFrame: a two-dimensional data structure that holds data like a two-dimension array or a table with rows and columns.\n",
    "\n",
    "In this recipe, you will learn how to create objects of this types."
   ]
  },
  {
   "cell_type": "markdown",
   "metadata": {},
   "source": [
    "Import both `pandas` and `numpy` libraries."
   ]
  },
  {
   "cell_type": "code",
   "execution_count": 1,
   "metadata": {},
   "outputs": [],
   "source": [
    "import pandas as pd\n",
    "import numpy as np"
   ]
  },
  {
   "cell_type": "markdown",
   "metadata": {},
   "source": [
    "Create an array of a given shape and populate it with random numbers from a uniform distribution over the interval $[0, 1)$.\n",
    "To do this use the method `rand` from the `numpy.random` module. "
   ]
  },
  {
   "cell_type": "code",
   "execution_count": 2,
   "metadata": {},
   "outputs": [
    {
     "data": {
      "text/plain": [
       "array([0.87094373, 0.36844403, 0.34383077, 0.82472597, 0.38817593])"
      ]
     },
     "execution_count": 2,
     "metadata": {},
     "output_type": "execute_result"
    }
   ],
   "source": [
    "random_numbers = np.random.rand(5)\n",
    "random_numbers"
   ]
  },
  {
   "cell_type": "code",
   "execution_count": 4,
   "metadata": {},
   "outputs": [
    {
     "data": {
      "text/plain": [
       "numpy.ndarray"
      ]
     },
     "execution_count": 4,
     "metadata": {},
     "output_type": "execute_result"
    }
   ],
   "source": [
    "type(random_numbers)"
   ]
  },
  {
   "cell_type": "markdown",
   "metadata": {},
   "source": [
    "## Series\n",
    "\n",
    "Create a pandas `Series` object  from a `numpy.ndarray` of random numbers."
   ]
  },
  {
   "cell_type": "code",
   "execution_count": 3,
   "metadata": {},
   "outputs": [
    {
     "data": {
      "text/plain": [
       "0    0.870944\n",
       "1    0.368444\n",
       "2    0.343831\n",
       "3    0.824726\n",
       "4    0.388176\n",
       "dtype: float64"
      ]
     },
     "execution_count": 3,
     "metadata": {},
     "output_type": "execute_result"
    }
   ],
   "source": [
    "series = pd.Series(random_numbers)\n",
    "series"
   ]
  },
  {
   "cell_type": "code",
   "execution_count": 4,
   "metadata": {},
   "outputs": [
    {
     "data": {
      "text/plain": [
       "pandas.core.series.Series"
      ]
     },
     "execution_count": 4,
     "metadata": {},
     "output_type": "execute_result"
    }
   ],
   "source": [
    "type(series)"
   ]
  },
  {
   "cell_type": "markdown",
   "metadata": {},
   "source": [
    "Create a pandas `Series` object from a `numpy.ndarray` specifying the `index`"
   ]
  },
  {
   "cell_type": "code",
   "execution_count": 6,
   "metadata": {},
   "outputs": [
    {
     "data": {
      "text/plain": [
       "a    0.235502\n",
       "b    0.240055\n",
       "c    0.660849\n",
       "d    0.524272\n",
       "e    0.121879\n",
       "dtype: float64"
      ]
     },
     "execution_count": 6,
     "metadata": {},
     "output_type": "execute_result"
    }
   ],
   "source": [
    "series = pd.Series(random_numbers, index=[\"a\", \"b\", \"c\", \"d\", \"e\"])\n",
    "series"
   ]
  },
  {
   "cell_type": "markdown",
   "metadata": {},
   "source": [
    "Create a pandas `Series` from a dictionary. In this case, the keys of the dictionary act as indices."
   ]
  },
  {
   "cell_type": "code",
   "execution_count": 5,
   "metadata": {},
   "outputs": [
    {
     "data": {
      "text/plain": [
       "b    1.0\n",
       "a    0.0\n",
       "c    2.0\n",
       "d    NaN\n",
       "dtype: float64"
      ]
     },
     "execution_count": 5,
     "metadata": {},
     "output_type": "execute_result"
    }
   ],
   "source": [
    "d = {\"b\": 1, \"a\": 0, \"c\": 2, \"d\":None}\n",
    "series = pd.Series(d)\n",
    "series\n"
   ]
  },
  {
   "cell_type": "markdown",
   "metadata": {},
   "source": [
    "## DataFrames\n",
    "Create a `DataFrame` from a dictionary containing pandas `Series` objects."
   ]
  },
  {
   "cell_type": "code",
   "execution_count": 6,
   "metadata": {},
   "outputs": [
    {
     "data": {
      "text/html": [
       "<div>\n",
       "<style scoped>\n",
       "    .dataframe tbody tr th:only-of-type {\n",
       "        vertical-align: middle;\n",
       "    }\n",
       "\n",
       "    .dataframe tbody tr th {\n",
       "        vertical-align: top;\n",
       "    }\n",
       "\n",
       "    .dataframe thead th {\n",
       "        text-align: right;\n",
       "    }\n",
       "</style>\n",
       "<table border=\"1\" class=\"dataframe\">\n",
       "  <thead>\n",
       "    <tr style=\"text-align: right;\">\n",
       "      <th></th>\n",
       "      <th>one</th>\n",
       "      <th>two</th>\n",
       "    </tr>\n",
       "  </thead>\n",
       "  <tbody>\n",
       "    <tr>\n",
       "      <th>a</th>\n",
       "      <td>1.0</td>\n",
       "      <td>1.0</td>\n",
       "    </tr>\n",
       "    <tr>\n",
       "      <th>b</th>\n",
       "      <td>2.0</td>\n",
       "      <td>2.0</td>\n",
       "    </tr>\n",
       "    <tr>\n",
       "      <th>c</th>\n",
       "      <td>3.0</td>\n",
       "      <td>3.0</td>\n",
       "    </tr>\n",
       "    <tr>\n",
       "      <th>d</th>\n",
       "      <td>NaN</td>\n",
       "      <td>4.0</td>\n",
       "    </tr>\n",
       "  </tbody>\n",
       "</table>\n",
       "</div>"
      ],
      "text/plain": [
       "   one  two\n",
       "a  1.0  1.0\n",
       "b  2.0  2.0\n",
       "c  3.0  3.0\n",
       "d  NaN  4.0"
      ]
     },
     "execution_count": 6,
     "metadata": {},
     "output_type": "execute_result"
    }
   ],
   "source": [
    "d = {\n",
    "    \"one\": pd.Series([1.0, 2.0, 3.0], index=[\"a\", \"b\", \"c\"]),\n",
    "    \"two\": pd.Series([1.0, 2.0, 3.0, 4.0], index=[\"a\", \"b\", \"c\", \"d\"]),\n",
    "}\n",
    "df = pd.DataFrame(d)\n",
    "df"
   ]
  },
  {
   "cell_type": "markdown",
   "metadata": {},
   "source": [
    "Create a `DataFrame` from a dictionary containing iterable elements such as lists, tuples, or `numpy.ndarrays`"
   ]
  },
  {
   "cell_type": "code",
   "execution_count": 7,
   "metadata": {},
   "outputs": [
    {
     "data": {
      "text/html": [
       "<div>\n",
       "<style scoped>\n",
       "    .dataframe tbody tr th:only-of-type {\n",
       "        vertical-align: middle;\n",
       "    }\n",
       "\n",
       "    .dataframe tbody tr th {\n",
       "        vertical-align: top;\n",
       "    }\n",
       "\n",
       "    .dataframe thead th {\n",
       "        text-align: right;\n",
       "    }\n",
       "</style>\n",
       "<table border=\"1\" class=\"dataframe\">\n",
       "  <thead>\n",
       "    <tr style=\"text-align: right;\">\n",
       "      <th></th>\n",
       "      <th>one</th>\n",
       "      <th>two</th>\n",
       "    </tr>\n",
       "  </thead>\n",
       "  <tbody>\n",
       "    <tr>\n",
       "      <th>0</th>\n",
       "      <td>1.0</td>\n",
       "      <td>4.0</td>\n",
       "    </tr>\n",
       "    <tr>\n",
       "      <th>1</th>\n",
       "      <td>2.0</td>\n",
       "      <td>3.0</td>\n",
       "    </tr>\n",
       "    <tr>\n",
       "      <th>2</th>\n",
       "      <td>3.0</td>\n",
       "      <td>2.0</td>\n",
       "    </tr>\n",
       "    <tr>\n",
       "      <th>3</th>\n",
       "      <td>4.0</td>\n",
       "      <td>1.0</td>\n",
       "    </tr>\n",
       "  </tbody>\n",
       "</table>\n",
       "</div>"
      ],
      "text/plain": [
       "   one  two\n",
       "0  1.0  4.0\n",
       "1  2.0  3.0\n",
       "2  3.0  2.0\n",
       "3  4.0  1.0"
      ]
     },
     "execution_count": 7,
     "metadata": {},
     "output_type": "execute_result"
    }
   ],
   "source": [
    "d = {\"one\": [1.0, 2.0, 3.0, 4.0], \"two\": [4.0, 3.0, 2.0, 1.0]}\n",
    "df = pd.DataFrame(d)\n",
    "df"
   ]
  },
  {
   "cell_type": "code",
   "execution_count": 8,
   "metadata": {},
   "outputs": [
    {
     "data": {
      "text/html": [
       "<div>\n",
       "<style scoped>\n",
       "    .dataframe tbody tr th:only-of-type {\n",
       "        vertical-align: middle;\n",
       "    }\n",
       "\n",
       "    .dataframe tbody tr th {\n",
       "        vertical-align: top;\n",
       "    }\n",
       "\n",
       "    .dataframe thead th {\n",
       "        text-align: right;\n",
       "    }\n",
       "</style>\n",
       "<table border=\"1\" class=\"dataframe\">\n",
       "  <thead>\n",
       "    <tr style=\"text-align: right;\">\n",
       "      <th></th>\n",
       "      <th>one</th>\n",
       "      <th>two</th>\n",
       "    </tr>\n",
       "  </thead>\n",
       "  <tbody>\n",
       "    <tr>\n",
       "      <th>0</th>\n",
       "      <td>1.0</td>\n",
       "      <td>4.0</td>\n",
       "    </tr>\n",
       "    <tr>\n",
       "      <th>1</th>\n",
       "      <td>2.0</td>\n",
       "      <td>3.0</td>\n",
       "    </tr>\n",
       "    <tr>\n",
       "      <th>2</th>\n",
       "      <td>3.0</td>\n",
       "      <td>2.0</td>\n",
       "    </tr>\n",
       "    <tr>\n",
       "      <th>3</th>\n",
       "      <td>4.0</td>\n",
       "      <td>1.0</td>\n",
       "    </tr>\n",
       "  </tbody>\n",
       "</table>\n",
       "</div>"
      ],
      "text/plain": [
       "   one  two\n",
       "0  1.0  4.0\n",
       "1  2.0  3.0\n",
       "2  3.0  2.0\n",
       "3  4.0  1.0"
      ]
     },
     "execution_count": 8,
     "metadata": {},
     "output_type": "execute_result"
    }
   ],
   "source": [
    "d = {\"one\": (1.0, 2.0, 3.0, 4.0), \"two\": (4.0, 3.0, 2.0, 1.0)}\n",
    "df = pd.DataFrame(d)\n",
    "df"
   ]
  },
  {
   "cell_type": "code",
   "execution_count": 10,
   "metadata": {},
   "outputs": [
    {
     "data": {
      "text/html": [
       "<div>\n",
       "<style scoped>\n",
       "    .dataframe tbody tr th:only-of-type {\n",
       "        vertical-align: middle;\n",
       "    }\n",
       "\n",
       "    .dataframe tbody tr th {\n",
       "        vertical-align: top;\n",
       "    }\n",
       "\n",
       "    .dataframe thead th {\n",
       "        text-align: right;\n",
       "    }\n",
       "</style>\n",
       "<table border=\"1\" class=\"dataframe\">\n",
       "  <thead>\n",
       "    <tr style=\"text-align: right;\">\n",
       "      <th></th>\n",
       "      <th>one</th>\n",
       "      <th>two</th>\n",
       "    </tr>\n",
       "  </thead>\n",
       "  <tbody>\n",
       "    <tr>\n",
       "      <th>0</th>\n",
       "      <td>0.120951</td>\n",
       "      <td>0.267698</td>\n",
       "    </tr>\n",
       "    <tr>\n",
       "      <th>1</th>\n",
       "      <td>0.287852</td>\n",
       "      <td>0.399872</td>\n",
       "    </tr>\n",
       "    <tr>\n",
       "      <th>2</th>\n",
       "      <td>0.911299</td>\n",
       "      <td>0.700340</td>\n",
       "    </tr>\n",
       "    <tr>\n",
       "      <th>3</th>\n",
       "      <td>0.511067</td>\n",
       "      <td>0.596419</td>\n",
       "    </tr>\n",
       "    <tr>\n",
       "      <th>4</th>\n",
       "      <td>0.042200</td>\n",
       "      <td>0.743313</td>\n",
       "    </tr>\n",
       "  </tbody>\n",
       "</table>\n",
       "</div>"
      ],
      "text/plain": [
       "        one       two\n",
       "0  0.120951  0.267698\n",
       "1  0.287852  0.399872\n",
       "2  0.911299  0.700340\n",
       "3  0.511067  0.596419\n",
       "4  0.042200  0.743313"
      ]
     },
     "execution_count": 10,
     "metadata": {},
     "output_type": "execute_result"
    }
   ],
   "source": [
    "random_numbers1 = np.random.rand(5)\n",
    "random_numbers2 = np.random.rand(5)\n",
    "d = {\"one\": random_numbers1, \"two\": random_numbers2}\n",
    "df = pd.DataFrame(d)\n",
    "df"
   ]
  },
  {
   "cell_type": "markdown",
   "metadata": {},
   "source": [
    "Create a `DataFrame` from a structured or record `numpy.ndarrays`"
   ]
  },
  {
   "cell_type": "code",
   "execution_count": 11,
   "metadata": {},
   "outputs": [
    {
     "data": {
      "text/html": [
       "<div>\n",
       "<style scoped>\n",
       "    .dataframe tbody tr th:only-of-type {\n",
       "        vertical-align: middle;\n",
       "    }\n",
       "\n",
       "    .dataframe tbody tr th {\n",
       "        vertical-align: top;\n",
       "    }\n",
       "\n",
       "    .dataframe thead th {\n",
       "        text-align: right;\n",
       "    }\n",
       "</style>\n",
       "<table border=\"1\" class=\"dataframe\">\n",
       "  <thead>\n",
       "    <tr style=\"text-align: right;\">\n",
       "      <th></th>\n",
       "      <th>0</th>\n",
       "      <th>1</th>\n",
       "      <th>2</th>\n",
       "      <th>3</th>\n",
       "    </tr>\n",
       "  </thead>\n",
       "  <tbody>\n",
       "    <tr>\n",
       "      <th>0</th>\n",
       "      <td>-1.142535</td>\n",
       "      <td>-0.245003</td>\n",
       "      <td>-0.851253</td>\n",
       "      <td>-0.148273</td>\n",
       "    </tr>\n",
       "    <tr>\n",
       "      <th>1</th>\n",
       "      <td>0.213844</td>\n",
       "      <td>-1.838625</td>\n",
       "      <td>0.838224</td>\n",
       "      <td>0.669171</td>\n",
       "    </tr>\n",
       "    <tr>\n",
       "      <th>2</th>\n",
       "      <td>-1.153421</td>\n",
       "      <td>-1.967507</td>\n",
       "      <td>1.488544</td>\n",
       "      <td>-0.321826</td>\n",
       "    </tr>\n",
       "    <tr>\n",
       "      <th>3</th>\n",
       "      <td>-1.839831</td>\n",
       "      <td>0.026743</td>\n",
       "      <td>0.487918</td>\n",
       "      <td>1.432061</td>\n",
       "    </tr>\n",
       "    <tr>\n",
       "      <th>4</th>\n",
       "      <td>-1.361442</td>\n",
       "      <td>2.138890</td>\n",
       "      <td>0.512439</td>\n",
       "      <td>-0.411154</td>\n",
       "    </tr>\n",
       "    <tr>\n",
       "      <th>5</th>\n",
       "      <td>0.199373</td>\n",
       "      <td>-0.477661</td>\n",
       "      <td>-0.237204</td>\n",
       "      <td>-0.897375</td>\n",
       "    </tr>\n",
       "    <tr>\n",
       "      <th>6</th>\n",
       "      <td>-0.994734</td>\n",
       "      <td>-0.704414</td>\n",
       "      <td>0.077252</td>\n",
       "      <td>0.719550</td>\n",
       "    </tr>\n",
       "    <tr>\n",
       "      <th>7</th>\n",
       "      <td>2.036445</td>\n",
       "      <td>-0.524580</td>\n",
       "      <td>-0.175670</td>\n",
       "      <td>0.099778</td>\n",
       "    </tr>\n",
       "    <tr>\n",
       "      <th>8</th>\n",
       "      <td>-1.389724</td>\n",
       "      <td>0.961666</td>\n",
       "      <td>-1.036050</td>\n",
       "      <td>-0.390783</td>\n",
       "    </tr>\n",
       "    <tr>\n",
       "      <th>9</th>\n",
       "      <td>0.213573</td>\n",
       "      <td>1.442763</td>\n",
       "      <td>0.743532</td>\n",
       "      <td>-1.500745</td>\n",
       "    </tr>\n",
       "  </tbody>\n",
       "</table>\n",
       "</div>"
      ],
      "text/plain": [
       "          0         1         2         3\n",
       "0 -1.142535 -0.245003 -0.851253 -0.148273\n",
       "1  0.213844 -1.838625  0.838224  0.669171\n",
       "2 -1.153421 -1.967507  1.488544 -0.321826\n",
       "3 -1.839831  0.026743  0.487918  1.432061\n",
       "4 -1.361442  2.138890  0.512439 -0.411154\n",
       "5  0.199373 -0.477661 -0.237204 -0.897375\n",
       "6 -0.994734 -0.704414  0.077252  0.719550\n",
       "7  2.036445 -0.524580 -0.175670  0.099778\n",
       "8 -1.389724  0.961666 -1.036050 -0.390783\n",
       "9  0.213573  1.442763  0.743532 -1.500745"
      ]
     },
     "execution_count": 11,
     "metadata": {},
     "output_type": "execute_result"
    }
   ],
   "source": [
    "data = np.random.randn(10, 4)\n",
    "df = pd.DataFrame(data)\n",
    "df"
   ]
  },
  {
   "cell_type": "markdown",
   "metadata": {},
   "source": [
    "Specify the names of the columns of the columns by passing the input `columns`"
   ]
  },
  {
   "cell_type": "code",
   "execution_count": 12,
   "metadata": {},
   "outputs": [
    {
     "data": {
      "text/html": [
       "<div>\n",
       "<style scoped>\n",
       "    .dataframe tbody tr th:only-of-type {\n",
       "        vertical-align: middle;\n",
       "    }\n",
       "\n",
       "    .dataframe tbody tr th {\n",
       "        vertical-align: top;\n",
       "    }\n",
       "\n",
       "    .dataframe thead th {\n",
       "        text-align: right;\n",
       "    }\n",
       "</style>\n",
       "<table border=\"1\" class=\"dataframe\">\n",
       "  <thead>\n",
       "    <tr style=\"text-align: right;\">\n",
       "      <th></th>\n",
       "      <th>A</th>\n",
       "      <th>B</th>\n",
       "      <th>C</th>\n",
       "      <th>D</th>\n",
       "    </tr>\n",
       "  </thead>\n",
       "  <tbody>\n",
       "    <tr>\n",
       "      <th>0</th>\n",
       "      <td>-0.685967</td>\n",
       "      <td>-0.226106</td>\n",
       "      <td>-0.155559</td>\n",
       "      <td>-0.859795</td>\n",
       "    </tr>\n",
       "    <tr>\n",
       "      <th>1</th>\n",
       "      <td>0.050424</td>\n",
       "      <td>-1.905684</td>\n",
       "      <td>1.042699</td>\n",
       "      <td>-2.392223</td>\n",
       "    </tr>\n",
       "    <tr>\n",
       "      <th>2</th>\n",
       "      <td>-0.212897</td>\n",
       "      <td>0.940746</td>\n",
       "      <td>-0.999252</td>\n",
       "      <td>-0.676588</td>\n",
       "    </tr>\n",
       "    <tr>\n",
       "      <th>3</th>\n",
       "      <td>1.384519</td>\n",
       "      <td>1.696834</td>\n",
       "      <td>-0.064091</td>\n",
       "      <td>-0.207688</td>\n",
       "    </tr>\n",
       "    <tr>\n",
       "      <th>4</th>\n",
       "      <td>-0.802295</td>\n",
       "      <td>1.210706</td>\n",
       "      <td>-0.085844</td>\n",
       "      <td>0.699038</td>\n",
       "    </tr>\n",
       "    <tr>\n",
       "      <th>5</th>\n",
       "      <td>-0.239130</td>\n",
       "      <td>-1.992698</td>\n",
       "      <td>0.658110</td>\n",
       "      <td>1.662385</td>\n",
       "    </tr>\n",
       "    <tr>\n",
       "      <th>6</th>\n",
       "      <td>0.016091</td>\n",
       "      <td>0.505621</td>\n",
       "      <td>2.105684</td>\n",
       "      <td>-0.561361</td>\n",
       "    </tr>\n",
       "    <tr>\n",
       "      <th>7</th>\n",
       "      <td>0.982224</td>\n",
       "      <td>0.401623</td>\n",
       "      <td>-0.596864</td>\n",
       "      <td>-0.880070</td>\n",
       "    </tr>\n",
       "    <tr>\n",
       "      <th>8</th>\n",
       "      <td>-0.502540</td>\n",
       "      <td>-0.715308</td>\n",
       "      <td>-0.256149</td>\n",
       "      <td>0.599689</td>\n",
       "    </tr>\n",
       "    <tr>\n",
       "      <th>9</th>\n",
       "      <td>-1.372892</td>\n",
       "      <td>-0.478353</td>\n",
       "      <td>-0.247590</td>\n",
       "      <td>0.586483</td>\n",
       "    </tr>\n",
       "  </tbody>\n",
       "</table>\n",
       "</div>"
      ],
      "text/plain": [
       "          A         B         C         D\n",
       "0 -0.685967 -0.226106 -0.155559 -0.859795\n",
       "1  0.050424 -1.905684  1.042699 -2.392223\n",
       "2 -0.212897  0.940746 -0.999252 -0.676588\n",
       "3  1.384519  1.696834 -0.064091 -0.207688\n",
       "4 -0.802295  1.210706 -0.085844  0.699038\n",
       "5 -0.239130 -1.992698  0.658110  1.662385\n",
       "6  0.016091  0.505621  2.105684 -0.561361\n",
       "7  0.982224  0.401623 -0.596864 -0.880070\n",
       "8 -0.502540 -0.715308 -0.256149  0.599689\n",
       "9 -1.372892 -0.478353 -0.247590  0.586483"
      ]
     },
     "execution_count": 12,
     "metadata": {},
     "output_type": "execute_result"
    }
   ],
   "source": [
    "data = np.random.randn(10, 4)\n",
    "df = pd.DataFrame(data, columns=['A', 'B', 'C', 'D'])\n",
    "df"
   ]
  },
  {
   "cell_type": "markdown",
   "metadata": {},
   "source": [
    "Specify the index of the `DataFrame` by passing the input `index`"
   ]
  },
  {
   "cell_type": "code",
   "execution_count": 15,
   "metadata": {},
   "outputs": [
    {
     "data": {
      "text/html": [
       "<div>\n",
       "<style scoped>\n",
       "    .dataframe tbody tr th:only-of-type {\n",
       "        vertical-align: middle;\n",
       "    }\n",
       "\n",
       "    .dataframe tbody tr th {\n",
       "        vertical-align: top;\n",
       "    }\n",
       "\n",
       "    .dataframe thead th {\n",
       "        text-align: right;\n",
       "    }\n",
       "</style>\n",
       "<table border=\"1\" class=\"dataframe\">\n",
       "  <thead>\n",
       "    <tr style=\"text-align: right;\">\n",
       "      <th></th>\n",
       "      <th>A</th>\n",
       "      <th>B</th>\n",
       "      <th>C</th>\n",
       "      <th>D</th>\n",
       "    </tr>\n",
       "  </thead>\n",
       "  <tbody>\n",
       "    <tr>\n",
       "      <th>a</th>\n",
       "      <td>-0.256161</td>\n",
       "      <td>-1.256688</td>\n",
       "      <td>1.317764</td>\n",
       "      <td>-0.401302</td>\n",
       "    </tr>\n",
       "    <tr>\n",
       "      <th>b</th>\n",
       "      <td>0.003773</td>\n",
       "      <td>-0.316651</td>\n",
       "      <td>-0.839349</td>\n",
       "      <td>-0.846119</td>\n",
       "    </tr>\n",
       "    <tr>\n",
       "      <th>c</th>\n",
       "      <td>1.665411</td>\n",
       "      <td>0.083434</td>\n",
       "      <td>0.577263</td>\n",
       "      <td>0.308118</td>\n",
       "    </tr>\n",
       "    <tr>\n",
       "      <th>d</th>\n",
       "      <td>0.692807</td>\n",
       "      <td>-1.980146</td>\n",
       "      <td>0.552804</td>\n",
       "      <td>0.975452</td>\n",
       "    </tr>\n",
       "    <tr>\n",
       "      <th>e</th>\n",
       "      <td>0.007482</td>\n",
       "      <td>-0.203093</td>\n",
       "      <td>-0.392248</td>\n",
       "      <td>-0.465112</td>\n",
       "    </tr>\n",
       "    <tr>\n",
       "      <th>f</th>\n",
       "      <td>0.070412</td>\n",
       "      <td>-1.198515</td>\n",
       "      <td>-0.126279</td>\n",
       "      <td>0.881929</td>\n",
       "    </tr>\n",
       "    <tr>\n",
       "      <th>g</th>\n",
       "      <td>1.177999</td>\n",
       "      <td>0.095791</td>\n",
       "      <td>-0.355332</td>\n",
       "      <td>-0.231344</td>\n",
       "    </tr>\n",
       "    <tr>\n",
       "      <th>h</th>\n",
       "      <td>0.839825</td>\n",
       "      <td>-0.341552</td>\n",
       "      <td>0.497682</td>\n",
       "      <td>1.428032</td>\n",
       "    </tr>\n",
       "    <tr>\n",
       "      <th>j</th>\n",
       "      <td>0.847012</td>\n",
       "      <td>-0.077953</td>\n",
       "      <td>-0.575886</td>\n",
       "      <td>-2.679730</td>\n",
       "    </tr>\n",
       "    <tr>\n",
       "      <th>i</th>\n",
       "      <td>0.869556</td>\n",
       "      <td>0.344150</td>\n",
       "      <td>1.752955</td>\n",
       "      <td>-1.288218</td>\n",
       "    </tr>\n",
       "  </tbody>\n",
       "</table>\n",
       "</div>"
      ],
      "text/plain": [
       "          A         B         C         D\n",
       "a -0.256161 -1.256688  1.317764 -0.401302\n",
       "b  0.003773 -0.316651 -0.839349 -0.846119\n",
       "c  1.665411  0.083434  0.577263  0.308118\n",
       "d  0.692807 -1.980146  0.552804  0.975452\n",
       "e  0.007482 -0.203093 -0.392248 -0.465112\n",
       "f  0.070412 -1.198515 -0.126279  0.881929\n",
       "g  1.177999  0.095791 -0.355332 -0.231344\n",
       "h  0.839825 -0.341552  0.497682  1.428032\n",
       "j  0.847012 -0.077953 -0.575886 -2.679730\n",
       "i  0.869556  0.344150  1.752955 -1.288218"
      ]
     },
     "execution_count": 15,
     "metadata": {},
     "output_type": "execute_result"
    }
   ],
   "source": [
    "data = np.random.randn(10, 4)\n",
    "df = pd.DataFrame(data, columns=['A', 'B', 'C', 'D'], index=[\n",
    "                  'a', 'b', 'c', 'd', 'e', 'f', 'g', 'h', 'j', 'i'])\n",
    "df"
   ]
  },
  {
   "cell_type": "markdown",
   "metadata": {},
   "source": [
    "Finally, we will create a range of dates to be used as an index in our `DataFrame`. \n",
    "We can do this by simply calling the method `date_range`"
   ]
  },
  {
   "cell_type": "code",
   "execution_count": 16,
   "metadata": {},
   "outputs": [
    {
     "data": {
      "text/html": [
       "<div>\n",
       "<style scoped>\n",
       "    .dataframe tbody tr th:only-of-type {\n",
       "        vertical-align: middle;\n",
       "    }\n",
       "\n",
       "    .dataframe tbody tr th {\n",
       "        vertical-align: top;\n",
       "    }\n",
       "\n",
       "    .dataframe thead th {\n",
       "        text-align: right;\n",
       "    }\n",
       "</style>\n",
       "<table border=\"1\" class=\"dataframe\">\n",
       "  <thead>\n",
       "    <tr style=\"text-align: right;\">\n",
       "      <th></th>\n",
       "      <th>A</th>\n",
       "      <th>B</th>\n",
       "      <th>C</th>\n",
       "      <th>D</th>\n",
       "    </tr>\n",
       "  </thead>\n",
       "  <tbody>\n",
       "    <tr>\n",
       "      <th>2024-01-01</th>\n",
       "      <td>-0.555331</td>\n",
       "      <td>0.331893</td>\n",
       "      <td>0.396694</td>\n",
       "      <td>0.663127</td>\n",
       "    </tr>\n",
       "    <tr>\n",
       "      <th>2024-01-02</th>\n",
       "      <td>-0.052035</td>\n",
       "      <td>0.511458</td>\n",
       "      <td>-1.842102</td>\n",
       "      <td>-0.270067</td>\n",
       "    </tr>\n",
       "    <tr>\n",
       "      <th>2024-01-03</th>\n",
       "      <td>0.620550</td>\n",
       "      <td>1.254846</td>\n",
       "      <td>-0.140846</td>\n",
       "      <td>1.051753</td>\n",
       "    </tr>\n",
       "    <tr>\n",
       "      <th>2024-01-04</th>\n",
       "      <td>-0.526195</td>\n",
       "      <td>0.743207</td>\n",
       "      <td>1.012480</td>\n",
       "      <td>-0.300316</td>\n",
       "    </tr>\n",
       "    <tr>\n",
       "      <th>2024-01-05</th>\n",
       "      <td>0.667526</td>\n",
       "      <td>-0.572744</td>\n",
       "      <td>-0.500352</td>\n",
       "      <td>1.356439</td>\n",
       "    </tr>\n",
       "    <tr>\n",
       "      <th>2024-01-06</th>\n",
       "      <td>-0.968069</td>\n",
       "      <td>0.717376</td>\n",
       "      <td>1.141382</td>\n",
       "      <td>0.118077</td>\n",
       "    </tr>\n",
       "    <tr>\n",
       "      <th>2024-01-07</th>\n",
       "      <td>1.154459</td>\n",
       "      <td>2.115912</td>\n",
       "      <td>0.876782</td>\n",
       "      <td>-1.018108</td>\n",
       "    </tr>\n",
       "    <tr>\n",
       "      <th>2024-01-08</th>\n",
       "      <td>-1.577624</td>\n",
       "      <td>-1.149045</td>\n",
       "      <td>-0.582786</td>\n",
       "      <td>0.006208</td>\n",
       "    </tr>\n",
       "    <tr>\n",
       "      <th>2024-01-09</th>\n",
       "      <td>-1.066755</td>\n",
       "      <td>2.213815</td>\n",
       "      <td>0.629357</td>\n",
       "      <td>0.210622</td>\n",
       "    </tr>\n",
       "    <tr>\n",
       "      <th>2024-01-10</th>\n",
       "      <td>-1.094261</td>\n",
       "      <td>-0.825516</td>\n",
       "      <td>1.011318</td>\n",
       "      <td>0.172624</td>\n",
       "    </tr>\n",
       "  </tbody>\n",
       "</table>\n",
       "</div>"
      ],
      "text/plain": [
       "                   A         B         C         D\n",
       "2024-01-01 -0.555331  0.331893  0.396694  0.663127\n",
       "2024-01-02 -0.052035  0.511458 -1.842102 -0.270067\n",
       "2024-01-03  0.620550  1.254846 -0.140846  1.051753\n",
       "2024-01-04 -0.526195  0.743207  1.012480 -0.300316\n",
       "2024-01-05  0.667526 -0.572744 -0.500352  1.356439\n",
       "2024-01-06 -0.968069  0.717376  1.141382  0.118077\n",
       "2024-01-07  1.154459  2.115912  0.876782 -1.018108\n",
       "2024-01-08 -1.577624 -1.149045 -0.582786  0.006208\n",
       "2024-01-09 -1.066755  2.213815  0.629357  0.210622\n",
       "2024-01-10 -1.094261 -0.825516  1.011318  0.172624"
      ]
     },
     "execution_count": 16,
     "metadata": {},
     "output_type": "execute_result"
    }
   ],
   "source": [
    "dates = pd.date_range(start='1/1/2024', periods=10)\n",
    "data = np.random.randn(10, 4)\n",
    "df = pd.DataFrame(data, columns=['A', 'B', 'C', 'D'], index=dates)\n",
    "df"
   ]
  },
  {
   "cell_type": "code",
   "execution_count": null,
   "metadata": {},
   "outputs": [],
   "source": []
  }
 ],
 "metadata": {
  "kernelspec": {
   "display_name": "venv",
   "language": "python",
   "name": "python3"
  },
  "language_info": {
   "codemirror_mode": {
    "name": "ipython",
    "version": 3
   },
   "file_extension": ".py",
   "mimetype": "text/x-python",
   "name": "python",
   "nbconvert_exporter": "python",
   "pygments_lexer": "ipython3",
   "version": "3.11.9"
  }
 },
 "nbformat": 4,
 "nbformat_minor": 2
}
