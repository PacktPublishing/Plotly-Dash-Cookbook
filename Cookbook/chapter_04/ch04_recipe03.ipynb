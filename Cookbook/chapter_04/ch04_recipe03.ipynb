{
 "cells": [
  {
   "cell_type": "markdown",
   "metadata": {},
   "source": [
    "# Making Box Plots"
   ]
  },
  {
   "cell_type": "markdown",
   "metadata": {},
   "source": [
    "## Getting ready\n",
    "\n",
    "\n",
    "In addition to `plotly`, `numpy` and `pandas`, make sure the `scipy` Python library avaiable in your Python environment\n",
    "You can install it using the command:"
   ]
  },
  {
   "cell_type": "markdown",
   "metadata": {},
   "source": [
    "```\n",
    "pip install scipy \n",
    "```"
   ]
  },
  {
   "cell_type": "markdown",
   "metadata": {},
   "source": [
    "For this recipe we will create two data sets"
   ]
  },
  {
   "cell_type": "markdown",
   "metadata": {},
   "source": [
    "1. Import the Python modules `numpy`, `pandas`. Import the [`norm`](https://docs.scipy.org/doc/scipy/reference/generated/scipy.stats.norm.html) object from `scipy.stats`. This object will allow us to generate random samples from a normal distribution. This will help us to create data sets to be used in this recipe."
   ]
  },
  {
   "cell_type": "code",
   "execution_count": 1,
   "metadata": {},
   "outputs": [],
   "source": [
    "import numpy as np\n",
    "import pandas as pd\n",
    "from scipy.stats import norm, t"
   ]
  },
  {
   "cell_type": "markdown",
   "metadata": {},
   "source": [
    "2. Create two data sets to be used in this recipe"
   ]
  },
  {
   "cell_type": "code",
   "execution_count": 2,
   "metadata": {},
   "outputs": [],
   "source": [
    "n = 200\n",
    "sample1 = norm(loc=2).rvs(n)\n",
    "sample2 = t(df=3).rvs(n)"
   ]
  },
  {
   "cell_type": "code",
   "execution_count": 3,
   "metadata": {},
   "outputs": [],
   "source": [
    "data1 = pd.DataFrame({'Normal': sample1})"
   ]
  },
  {
   "cell_type": "code",
   "execution_count": 4,
   "metadata": {},
   "outputs": [],
   "source": [
    "samples =  np.concatenate( (sample1, sample2))\n",
    "labels = ['Normal']*n + ['t-Student']*n \n",
    "data2 = pd.DataFrame({'Data': samples, 'Label':labels})"
   ]
  },
  {
   "cell_type": "markdown",
   "metadata": {},
   "source": [
    "## How to do it"
   ]
  },
  {
   "cell_type": "markdown",
   "metadata": {},
   "source": [
    "1. Import the `plotly.express` module as `px`"
   ]
  },
  {
   "cell_type": "code",
   "execution_count": 5,
   "metadata": {},
   "outputs": [],
   "source": [
    "import plotly.express as px"
   ]
  },
  {
   "cell_type": "markdown",
   "metadata": {},
   "source": [
    "2. Make a simple scatter plot to illustrate the points in the `data1` data set using the function `histogram`"
   ]
  },
  {
   "cell_type": "code",
   "execution_count": 6,
   "metadata": {},
   "outputs": [
    {
     "data": {
      "application/vnd.plotly.v1+json": {
       "config": {
        "plotlyServerURL": "https://plot.ly"
       },
       "data": [
        {
         "alignmentgroup": "True",
         "hovertemplate": "Normal=%{y}<extra></extra>",
         "legendgroup": "",
         "marker": {
          "color": "#636efa"
         },
         "name": "",
         "notched": false,
         "offsetgroup": "",
         "orientation": "v",
         "showlegend": false,
         "type": "box",
         "x0": " ",
         "xaxis": "x",
         "y": [
          0.7661340288013501,
          2.936432806963716,
          1.698715946697745,
          3.0727074963317897,
          1.4342313016003732,
          2.1066729722938344,
          2.752195346607073,
          1.1960416335283588,
          2.638625760804452,
          2.3187846195686066,
          1.5134087439556256,
          1.2320552857983493,
          3.0621907351647897,
          3.5005790849030385,
          3.222192998133994,
          0.8121517482052838,
          2.562811342572542,
          1.5094589548994035,
          2.0617095629885784,
          2.349453915820724,
          1.2133023300704542,
          1.2117744338342904,
          0.31979158708017996,
          1.2501441281815648,
          2.101793598098098,
          2.697786236074823,
          1.0722918812586357,
          1.3693506387877665,
          -0.4497388122183299,
          2.346175895744964,
          2.261963226946059,
          3.3299616334667412,
          3.4385904384306256,
          1.0824620059049213,
          3.2777597306834974,
          0.6451948567883088,
          3.066608776453147,
          2.0203996785827156,
          3.11174134362932,
          2.1037891481558124,
          1.2970672230328515,
          2.662209583624894,
          1.9737345351547175,
          2.6477285936774027,
          2.15735791756473,
          1.7685210770487219,
          1.685840314655774,
          3.028535367038306,
          1.326835403378332,
          -0.09604122523542458,
          1.9341510802078192,
          1.1699117826004417,
          2.014907168831193,
          4.066784001888998,
          3.227902989434626,
          1.2880938291738808,
          1.9927850653588637,
          2.6966929562262174,
          3.1290940780117342,
          1.8387259064931831,
          0.06380274263616403,
          0.749678366264886,
          3.8199592042987476,
          3.1553366079911065,
          2.1910347356492004,
          1.6360209258074028,
          0.5539081321553978,
          3.687128610766363,
          3.0353051495023093,
          2.6418765194818867,
          -0.21461339512721933,
          3.708304115229878,
          1.6538056080387138,
          2.733734859352322,
          3.1052752452195076,
          2.4039517831724773,
          0.390071088352669,
          2.185600727991858,
          2.3228781069295352,
          1.8428373669737603,
          2.943151660220919,
          1.2002935847728033,
          1.7653026555494944,
          1.6501856150938115,
          1.855776312128536,
          2.7319866321534163,
          1.0372917882797001,
          2.7416585218838554,
          1.7202194360088137,
          1.9421306804161407,
          1.6213470853011518,
          2.677972886420598,
          0.6155922291580456,
          1.263745722533566,
          2.2595407887649213,
          3.9667832703443686,
          2.99553955747048,
          1.8929768142073133,
          2.3921020498455,
          -0.07367848604366323,
          1.7805796277037846,
          2.2559334388607413,
          1.2959957430531182,
          2.475858445381354,
          1.2722256069439264,
          2.623343939643732,
          2.4056061673377354,
          1.476108555761344,
          1.4891891488345594,
          1.1553908403754973,
          2.1163349591689453,
          0.48397833498945597,
          2.572235905895739,
          2.1226753136722087,
          2.4932425791668122,
          1.5149228564061608,
          0.9601070321512668,
          0.392187461871343,
          0.35407827208853493,
          2.6380432934098548,
          2.427375765672821,
          1.5728221763641668,
          2.808836019506046,
          1.100318912859535,
          1.81857651375086,
          2.5599204545796717,
          1.7215464199781856,
          0.7531448413698072,
          2.8425163339904262,
          2.1784334283353606,
          2.6146043974609046,
          0.8258182238576364,
          2.278795279525711,
          3.368915704104741,
          0.5730076150207477,
          2.863625187787865,
          0.5782525104759493,
          0.2328596832981631,
          2.0750613047530355,
          1.3974685436375895,
          1.5090650727623152,
          1.4232038366306985,
          1.6190038483029543,
          2.860981056067043,
          3.2115061187387948,
          1.9882968929429756,
          1.249931935419911,
          1.9457553987078775,
          -1.1402417992840883,
          2.616680708184526,
          2.103779901541481,
          1.4273745245795515,
          2.0926009081767503,
          2.2611891539715225,
          1.6612251748575915,
          3.649546685542741,
          2.480677266891096,
          3.364769742472105,
          1.1080153667577355,
          0.31799126076786943,
          3.114079848036117,
          0.5078611940771562,
          1.1270857370374807,
          2.153159125398661,
          1.3724662618207863,
          2.7359375176436895,
          2.535477845680289,
          3.3702811555747503,
          1.8653214490333065,
          2.131592225213798,
          2.20548949605025,
          1.9942251718773336,
          2.6414079721524764,
          1.1473064660416359,
          -0.6197694957419402,
          1.7407051393009674,
          0.728944230217518,
          2.012838456749605,
          2.662369246327774,
          2.4032876418162505,
          1.7318206658310875,
          0.874466475744333,
          3.377638572793296,
          3.297625163894365,
          1.221004144840529,
          2.7843323213097504,
          0.7826886864356879,
          1.5612640685603956,
          2.490932299987094,
          0.5163794440733254,
          2.329233534170101,
          2.9907964912517975,
          3.074260429806548,
          2.942646633491941,
          3.1602817971522157,
          2.3402421183239825,
          2.443680015752832,
          2.1230839264084715,
          2.4088790070529735,
          3.0745703114993357
         ],
         "y0": " ",
         "yaxis": "y"
        }
       ],
       "layout": {
        "boxmode": "group",
        "legend": {
         "tracegroupgap": 0
        },
        "margin": {
         "t": 60
        },
        "template": {
         "data": {
          "bar": [
           {
            "error_x": {
             "color": "#2a3f5f"
            },
            "error_y": {
             "color": "#2a3f5f"
            },
            "marker": {
             "line": {
              "color": "#E5ECF6",
              "width": 0.5
             },
             "pattern": {
              "fillmode": "overlay",
              "size": 10,
              "solidity": 0.2
             }
            },
            "type": "bar"
           }
          ],
          "barpolar": [
           {
            "marker": {
             "line": {
              "color": "#E5ECF6",
              "width": 0.5
             },
             "pattern": {
              "fillmode": "overlay",
              "size": 10,
              "solidity": 0.2
             }
            },
            "type": "barpolar"
           }
          ],
          "carpet": [
           {
            "aaxis": {
             "endlinecolor": "#2a3f5f",
             "gridcolor": "white",
             "linecolor": "white",
             "minorgridcolor": "white",
             "startlinecolor": "#2a3f5f"
            },
            "baxis": {
             "endlinecolor": "#2a3f5f",
             "gridcolor": "white",
             "linecolor": "white",
             "minorgridcolor": "white",
             "startlinecolor": "#2a3f5f"
            },
            "type": "carpet"
           }
          ],
          "choropleth": [
           {
            "colorbar": {
             "outlinewidth": 0,
             "ticks": ""
            },
            "type": "choropleth"
           }
          ],
          "contour": [
           {
            "colorbar": {
             "outlinewidth": 0,
             "ticks": ""
            },
            "colorscale": [
             [
              0,
              "#0d0887"
             ],
             [
              0.1111111111111111,
              "#46039f"
             ],
             [
              0.2222222222222222,
              "#7201a8"
             ],
             [
              0.3333333333333333,
              "#9c179e"
             ],
             [
              0.4444444444444444,
              "#bd3786"
             ],
             [
              0.5555555555555556,
              "#d8576b"
             ],
             [
              0.6666666666666666,
              "#ed7953"
             ],
             [
              0.7777777777777778,
              "#fb9f3a"
             ],
             [
              0.8888888888888888,
              "#fdca26"
             ],
             [
              1,
              "#f0f921"
             ]
            ],
            "type": "contour"
           }
          ],
          "contourcarpet": [
           {
            "colorbar": {
             "outlinewidth": 0,
             "ticks": ""
            },
            "type": "contourcarpet"
           }
          ],
          "heatmap": [
           {
            "colorbar": {
             "outlinewidth": 0,
             "ticks": ""
            },
            "colorscale": [
             [
              0,
              "#0d0887"
             ],
             [
              0.1111111111111111,
              "#46039f"
             ],
             [
              0.2222222222222222,
              "#7201a8"
             ],
             [
              0.3333333333333333,
              "#9c179e"
             ],
             [
              0.4444444444444444,
              "#bd3786"
             ],
             [
              0.5555555555555556,
              "#d8576b"
             ],
             [
              0.6666666666666666,
              "#ed7953"
             ],
             [
              0.7777777777777778,
              "#fb9f3a"
             ],
             [
              0.8888888888888888,
              "#fdca26"
             ],
             [
              1,
              "#f0f921"
             ]
            ],
            "type": "heatmap"
           }
          ],
          "heatmapgl": [
           {
            "colorbar": {
             "outlinewidth": 0,
             "ticks": ""
            },
            "colorscale": [
             [
              0,
              "#0d0887"
             ],
             [
              0.1111111111111111,
              "#46039f"
             ],
             [
              0.2222222222222222,
              "#7201a8"
             ],
             [
              0.3333333333333333,
              "#9c179e"
             ],
             [
              0.4444444444444444,
              "#bd3786"
             ],
             [
              0.5555555555555556,
              "#d8576b"
             ],
             [
              0.6666666666666666,
              "#ed7953"
             ],
             [
              0.7777777777777778,
              "#fb9f3a"
             ],
             [
              0.8888888888888888,
              "#fdca26"
             ],
             [
              1,
              "#f0f921"
             ]
            ],
            "type": "heatmapgl"
           }
          ],
          "histogram": [
           {
            "marker": {
             "pattern": {
              "fillmode": "overlay",
              "size": 10,
              "solidity": 0.2
             }
            },
            "type": "histogram"
           }
          ],
          "histogram2d": [
           {
            "colorbar": {
             "outlinewidth": 0,
             "ticks": ""
            },
            "colorscale": [
             [
              0,
              "#0d0887"
             ],
             [
              0.1111111111111111,
              "#46039f"
             ],
             [
              0.2222222222222222,
              "#7201a8"
             ],
             [
              0.3333333333333333,
              "#9c179e"
             ],
             [
              0.4444444444444444,
              "#bd3786"
             ],
             [
              0.5555555555555556,
              "#d8576b"
             ],
             [
              0.6666666666666666,
              "#ed7953"
             ],
             [
              0.7777777777777778,
              "#fb9f3a"
             ],
             [
              0.8888888888888888,
              "#fdca26"
             ],
             [
              1,
              "#f0f921"
             ]
            ],
            "type": "histogram2d"
           }
          ],
          "histogram2dcontour": [
           {
            "colorbar": {
             "outlinewidth": 0,
             "ticks": ""
            },
            "colorscale": [
             [
              0,
              "#0d0887"
             ],
             [
              0.1111111111111111,
              "#46039f"
             ],
             [
              0.2222222222222222,
              "#7201a8"
             ],
             [
              0.3333333333333333,
              "#9c179e"
             ],
             [
              0.4444444444444444,
              "#bd3786"
             ],
             [
              0.5555555555555556,
              "#d8576b"
             ],
             [
              0.6666666666666666,
              "#ed7953"
             ],
             [
              0.7777777777777778,
              "#fb9f3a"
             ],
             [
              0.8888888888888888,
              "#fdca26"
             ],
             [
              1,
              "#f0f921"
             ]
            ],
            "type": "histogram2dcontour"
           }
          ],
          "mesh3d": [
           {
            "colorbar": {
             "outlinewidth": 0,
             "ticks": ""
            },
            "type": "mesh3d"
           }
          ],
          "parcoords": [
           {
            "line": {
             "colorbar": {
              "outlinewidth": 0,
              "ticks": ""
             }
            },
            "type": "parcoords"
           }
          ],
          "pie": [
           {
            "automargin": true,
            "type": "pie"
           }
          ],
          "scatter": [
           {
            "fillpattern": {
             "fillmode": "overlay",
             "size": 10,
             "solidity": 0.2
            },
            "type": "scatter"
           }
          ],
          "scatter3d": [
           {
            "line": {
             "colorbar": {
              "outlinewidth": 0,
              "ticks": ""
             }
            },
            "marker": {
             "colorbar": {
              "outlinewidth": 0,
              "ticks": ""
             }
            },
            "type": "scatter3d"
           }
          ],
          "scattercarpet": [
           {
            "marker": {
             "colorbar": {
              "outlinewidth": 0,
              "ticks": ""
             }
            },
            "type": "scattercarpet"
           }
          ],
          "scattergeo": [
           {
            "marker": {
             "colorbar": {
              "outlinewidth": 0,
              "ticks": ""
             }
            },
            "type": "scattergeo"
           }
          ],
          "scattergl": [
           {
            "marker": {
             "colorbar": {
              "outlinewidth": 0,
              "ticks": ""
             }
            },
            "type": "scattergl"
           }
          ],
          "scattermapbox": [
           {
            "marker": {
             "colorbar": {
              "outlinewidth": 0,
              "ticks": ""
             }
            },
            "type": "scattermapbox"
           }
          ],
          "scatterpolar": [
           {
            "marker": {
             "colorbar": {
              "outlinewidth": 0,
              "ticks": ""
             }
            },
            "type": "scatterpolar"
           }
          ],
          "scatterpolargl": [
           {
            "marker": {
             "colorbar": {
              "outlinewidth": 0,
              "ticks": ""
             }
            },
            "type": "scatterpolargl"
           }
          ],
          "scatterternary": [
           {
            "marker": {
             "colorbar": {
              "outlinewidth": 0,
              "ticks": ""
             }
            },
            "type": "scatterternary"
           }
          ],
          "surface": [
           {
            "colorbar": {
             "outlinewidth": 0,
             "ticks": ""
            },
            "colorscale": [
             [
              0,
              "#0d0887"
             ],
             [
              0.1111111111111111,
              "#46039f"
             ],
             [
              0.2222222222222222,
              "#7201a8"
             ],
             [
              0.3333333333333333,
              "#9c179e"
             ],
             [
              0.4444444444444444,
              "#bd3786"
             ],
             [
              0.5555555555555556,
              "#d8576b"
             ],
             [
              0.6666666666666666,
              "#ed7953"
             ],
             [
              0.7777777777777778,
              "#fb9f3a"
             ],
             [
              0.8888888888888888,
              "#fdca26"
             ],
             [
              1,
              "#f0f921"
             ]
            ],
            "type": "surface"
           }
          ],
          "table": [
           {
            "cells": {
             "fill": {
              "color": "#EBF0F8"
             },
             "line": {
              "color": "white"
             }
            },
            "header": {
             "fill": {
              "color": "#C8D4E3"
             },
             "line": {
              "color": "white"
             }
            },
            "type": "table"
           }
          ]
         },
         "layout": {
          "annotationdefaults": {
           "arrowcolor": "#2a3f5f",
           "arrowhead": 0,
           "arrowwidth": 1
          },
          "autotypenumbers": "strict",
          "coloraxis": {
           "colorbar": {
            "outlinewidth": 0,
            "ticks": ""
           }
          },
          "colorscale": {
           "diverging": [
            [
             0,
             "#8e0152"
            ],
            [
             0.1,
             "#c51b7d"
            ],
            [
             0.2,
             "#de77ae"
            ],
            [
             0.3,
             "#f1b6da"
            ],
            [
             0.4,
             "#fde0ef"
            ],
            [
             0.5,
             "#f7f7f7"
            ],
            [
             0.6,
             "#e6f5d0"
            ],
            [
             0.7,
             "#b8e186"
            ],
            [
             0.8,
             "#7fbc41"
            ],
            [
             0.9,
             "#4d9221"
            ],
            [
             1,
             "#276419"
            ]
           ],
           "sequential": [
            [
             0,
             "#0d0887"
            ],
            [
             0.1111111111111111,
             "#46039f"
            ],
            [
             0.2222222222222222,
             "#7201a8"
            ],
            [
             0.3333333333333333,
             "#9c179e"
            ],
            [
             0.4444444444444444,
             "#bd3786"
            ],
            [
             0.5555555555555556,
             "#d8576b"
            ],
            [
             0.6666666666666666,
             "#ed7953"
            ],
            [
             0.7777777777777778,
             "#fb9f3a"
            ],
            [
             0.8888888888888888,
             "#fdca26"
            ],
            [
             1,
             "#f0f921"
            ]
           ],
           "sequentialminus": [
            [
             0,
             "#0d0887"
            ],
            [
             0.1111111111111111,
             "#46039f"
            ],
            [
             0.2222222222222222,
             "#7201a8"
            ],
            [
             0.3333333333333333,
             "#9c179e"
            ],
            [
             0.4444444444444444,
             "#bd3786"
            ],
            [
             0.5555555555555556,
             "#d8576b"
            ],
            [
             0.6666666666666666,
             "#ed7953"
            ],
            [
             0.7777777777777778,
             "#fb9f3a"
            ],
            [
             0.8888888888888888,
             "#fdca26"
            ],
            [
             1,
             "#f0f921"
            ]
           ]
          },
          "colorway": [
           "#636efa",
           "#EF553B",
           "#00cc96",
           "#ab63fa",
           "#FFA15A",
           "#19d3f3",
           "#FF6692",
           "#B6E880",
           "#FF97FF",
           "#FECB52"
          ],
          "font": {
           "color": "#2a3f5f"
          },
          "geo": {
           "bgcolor": "white",
           "lakecolor": "white",
           "landcolor": "#E5ECF6",
           "showlakes": true,
           "showland": true,
           "subunitcolor": "white"
          },
          "hoverlabel": {
           "align": "left"
          },
          "hovermode": "closest",
          "mapbox": {
           "style": "light"
          },
          "paper_bgcolor": "white",
          "plot_bgcolor": "#E5ECF6",
          "polar": {
           "angularaxis": {
            "gridcolor": "white",
            "linecolor": "white",
            "ticks": ""
           },
           "bgcolor": "#E5ECF6",
           "radialaxis": {
            "gridcolor": "white",
            "linecolor": "white",
            "ticks": ""
           }
          },
          "scene": {
           "xaxis": {
            "backgroundcolor": "#E5ECF6",
            "gridcolor": "white",
            "gridwidth": 2,
            "linecolor": "white",
            "showbackground": true,
            "ticks": "",
            "zerolinecolor": "white"
           },
           "yaxis": {
            "backgroundcolor": "#E5ECF6",
            "gridcolor": "white",
            "gridwidth": 2,
            "linecolor": "white",
            "showbackground": true,
            "ticks": "",
            "zerolinecolor": "white"
           },
           "zaxis": {
            "backgroundcolor": "#E5ECF6",
            "gridcolor": "white",
            "gridwidth": 2,
            "linecolor": "white",
            "showbackground": true,
            "ticks": "",
            "zerolinecolor": "white"
           }
          },
          "shapedefaults": {
           "line": {
            "color": "#2a3f5f"
           }
          },
          "ternary": {
           "aaxis": {
            "gridcolor": "white",
            "linecolor": "white",
            "ticks": ""
           },
           "baxis": {
            "gridcolor": "white",
            "linecolor": "white",
            "ticks": ""
           },
           "bgcolor": "#E5ECF6",
           "caxis": {
            "gridcolor": "white",
            "linecolor": "white",
            "ticks": ""
           }
          },
          "title": {
           "x": 0.05
          },
          "xaxis": {
           "automargin": true,
           "gridcolor": "white",
           "linecolor": "white",
           "ticks": "",
           "title": {
            "standoff": 15
           },
           "zerolinecolor": "white",
           "zerolinewidth": 2
          },
          "yaxis": {
           "automargin": true,
           "gridcolor": "white",
           "linecolor": "white",
           "ticks": "",
           "title": {
            "standoff": 15
           },
           "zerolinecolor": "white",
           "zerolinewidth": 2
          }
         }
        },
        "xaxis": {
         "anchor": "y",
         "domain": [
          0,
          1
         ]
        },
        "yaxis": {
         "anchor": "x",
         "domain": [
          0,
          1
         ],
         "title": {
          "text": "Normal"
         }
        }
       }
      }
     },
     "metadata": {},
     "output_type": "display_data"
    }
   ],
   "source": [
    "df = data1\n",
    "fig = px.box(df, y=\"Normal\")\n",
    "fig.show()"
   ]
  },
  {
   "cell_type": "markdown",
   "metadata": {},
   "source": [
    "2. Add a title to your chart by passing a string as the input `title` into the function `histogram`\n",
    "3. And customise the size of the figure by using the inputs `height` and `width`. Both have to be integers and correspond to the size of the figure in pixels."
   ]
  },
  {
   "cell_type": "code",
   "execution_count": 7,
   "metadata": {},
   "outputs": [
    {
     "data": {
      "application/vnd.plotly.v1+json": {
       "config": {
        "plotlyServerURL": "https://plot.ly"
       },
       "data": [
        {
         "alignmentgroup": "True",
         "hovertemplate": "Normal=%{y}<extra></extra>",
         "legendgroup": "",
         "marker": {
          "color": "#636efa"
         },
         "name": "",
         "notched": false,
         "offsetgroup": "",
         "orientation": "v",
         "showlegend": false,
         "type": "box",
         "x0": " ",
         "xaxis": "x",
         "y": [
          0.7661340288013501,
          2.936432806963716,
          1.698715946697745,
          3.0727074963317897,
          1.4342313016003732,
          2.1066729722938344,
          2.752195346607073,
          1.1960416335283588,
          2.638625760804452,
          2.3187846195686066,
          1.5134087439556256,
          1.2320552857983493,
          3.0621907351647897,
          3.5005790849030385,
          3.222192998133994,
          0.8121517482052838,
          2.562811342572542,
          1.5094589548994035,
          2.0617095629885784,
          2.349453915820724,
          1.2133023300704542,
          1.2117744338342904,
          0.31979158708017996,
          1.2501441281815648,
          2.101793598098098,
          2.697786236074823,
          1.0722918812586357,
          1.3693506387877665,
          -0.4497388122183299,
          2.346175895744964,
          2.261963226946059,
          3.3299616334667412,
          3.4385904384306256,
          1.0824620059049213,
          3.2777597306834974,
          0.6451948567883088,
          3.066608776453147,
          2.0203996785827156,
          3.11174134362932,
          2.1037891481558124,
          1.2970672230328515,
          2.662209583624894,
          1.9737345351547175,
          2.6477285936774027,
          2.15735791756473,
          1.7685210770487219,
          1.685840314655774,
          3.028535367038306,
          1.326835403378332,
          -0.09604122523542458,
          1.9341510802078192,
          1.1699117826004417,
          2.014907168831193,
          4.066784001888998,
          3.227902989434626,
          1.2880938291738808,
          1.9927850653588637,
          2.6966929562262174,
          3.1290940780117342,
          1.8387259064931831,
          0.06380274263616403,
          0.749678366264886,
          3.8199592042987476,
          3.1553366079911065,
          2.1910347356492004,
          1.6360209258074028,
          0.5539081321553978,
          3.687128610766363,
          3.0353051495023093,
          2.6418765194818867,
          -0.21461339512721933,
          3.708304115229878,
          1.6538056080387138,
          2.733734859352322,
          3.1052752452195076,
          2.4039517831724773,
          0.390071088352669,
          2.185600727991858,
          2.3228781069295352,
          1.8428373669737603,
          2.943151660220919,
          1.2002935847728033,
          1.7653026555494944,
          1.6501856150938115,
          1.855776312128536,
          2.7319866321534163,
          1.0372917882797001,
          2.7416585218838554,
          1.7202194360088137,
          1.9421306804161407,
          1.6213470853011518,
          2.677972886420598,
          0.6155922291580456,
          1.263745722533566,
          2.2595407887649213,
          3.9667832703443686,
          2.99553955747048,
          1.8929768142073133,
          2.3921020498455,
          -0.07367848604366323,
          1.7805796277037846,
          2.2559334388607413,
          1.2959957430531182,
          2.475858445381354,
          1.2722256069439264,
          2.623343939643732,
          2.4056061673377354,
          1.476108555761344,
          1.4891891488345594,
          1.1553908403754973,
          2.1163349591689453,
          0.48397833498945597,
          2.572235905895739,
          2.1226753136722087,
          2.4932425791668122,
          1.5149228564061608,
          0.9601070321512668,
          0.392187461871343,
          0.35407827208853493,
          2.6380432934098548,
          2.427375765672821,
          1.5728221763641668,
          2.808836019506046,
          1.100318912859535,
          1.81857651375086,
          2.5599204545796717,
          1.7215464199781856,
          0.7531448413698072,
          2.8425163339904262,
          2.1784334283353606,
          2.6146043974609046,
          0.8258182238576364,
          2.278795279525711,
          3.368915704104741,
          0.5730076150207477,
          2.863625187787865,
          0.5782525104759493,
          0.2328596832981631,
          2.0750613047530355,
          1.3974685436375895,
          1.5090650727623152,
          1.4232038366306985,
          1.6190038483029543,
          2.860981056067043,
          3.2115061187387948,
          1.9882968929429756,
          1.249931935419911,
          1.9457553987078775,
          -1.1402417992840883,
          2.616680708184526,
          2.103779901541481,
          1.4273745245795515,
          2.0926009081767503,
          2.2611891539715225,
          1.6612251748575915,
          3.649546685542741,
          2.480677266891096,
          3.364769742472105,
          1.1080153667577355,
          0.31799126076786943,
          3.114079848036117,
          0.5078611940771562,
          1.1270857370374807,
          2.153159125398661,
          1.3724662618207863,
          2.7359375176436895,
          2.535477845680289,
          3.3702811555747503,
          1.8653214490333065,
          2.131592225213798,
          2.20548949605025,
          1.9942251718773336,
          2.6414079721524764,
          1.1473064660416359,
          -0.6197694957419402,
          1.7407051393009674,
          0.728944230217518,
          2.012838456749605,
          2.662369246327774,
          2.4032876418162505,
          1.7318206658310875,
          0.874466475744333,
          3.377638572793296,
          3.297625163894365,
          1.221004144840529,
          2.7843323213097504,
          0.7826886864356879,
          1.5612640685603956,
          2.490932299987094,
          0.5163794440733254,
          2.329233534170101,
          2.9907964912517975,
          3.074260429806548,
          2.942646633491941,
          3.1602817971522157,
          2.3402421183239825,
          2.443680015752832,
          2.1230839264084715,
          2.4088790070529735,
          3.0745703114993357
         ],
         "y0": " ",
         "yaxis": "y"
        }
       ],
       "layout": {
        "boxmode": "group",
        "height": 500,
        "legend": {
         "tracegroupgap": 0
        },
        "template": {
         "data": {
          "bar": [
           {
            "error_x": {
             "color": "#2a3f5f"
            },
            "error_y": {
             "color": "#2a3f5f"
            },
            "marker": {
             "line": {
              "color": "#E5ECF6",
              "width": 0.5
             },
             "pattern": {
              "fillmode": "overlay",
              "size": 10,
              "solidity": 0.2
             }
            },
            "type": "bar"
           }
          ],
          "barpolar": [
           {
            "marker": {
             "line": {
              "color": "#E5ECF6",
              "width": 0.5
             },
             "pattern": {
              "fillmode": "overlay",
              "size": 10,
              "solidity": 0.2
             }
            },
            "type": "barpolar"
           }
          ],
          "carpet": [
           {
            "aaxis": {
             "endlinecolor": "#2a3f5f",
             "gridcolor": "white",
             "linecolor": "white",
             "minorgridcolor": "white",
             "startlinecolor": "#2a3f5f"
            },
            "baxis": {
             "endlinecolor": "#2a3f5f",
             "gridcolor": "white",
             "linecolor": "white",
             "minorgridcolor": "white",
             "startlinecolor": "#2a3f5f"
            },
            "type": "carpet"
           }
          ],
          "choropleth": [
           {
            "colorbar": {
             "outlinewidth": 0,
             "ticks": ""
            },
            "type": "choropleth"
           }
          ],
          "contour": [
           {
            "colorbar": {
             "outlinewidth": 0,
             "ticks": ""
            },
            "colorscale": [
             [
              0,
              "#0d0887"
             ],
             [
              0.1111111111111111,
              "#46039f"
             ],
             [
              0.2222222222222222,
              "#7201a8"
             ],
             [
              0.3333333333333333,
              "#9c179e"
             ],
             [
              0.4444444444444444,
              "#bd3786"
             ],
             [
              0.5555555555555556,
              "#d8576b"
             ],
             [
              0.6666666666666666,
              "#ed7953"
             ],
             [
              0.7777777777777778,
              "#fb9f3a"
             ],
             [
              0.8888888888888888,
              "#fdca26"
             ],
             [
              1,
              "#f0f921"
             ]
            ],
            "type": "contour"
           }
          ],
          "contourcarpet": [
           {
            "colorbar": {
             "outlinewidth": 0,
             "ticks": ""
            },
            "type": "contourcarpet"
           }
          ],
          "heatmap": [
           {
            "colorbar": {
             "outlinewidth": 0,
             "ticks": ""
            },
            "colorscale": [
             [
              0,
              "#0d0887"
             ],
             [
              0.1111111111111111,
              "#46039f"
             ],
             [
              0.2222222222222222,
              "#7201a8"
             ],
             [
              0.3333333333333333,
              "#9c179e"
             ],
             [
              0.4444444444444444,
              "#bd3786"
             ],
             [
              0.5555555555555556,
              "#d8576b"
             ],
             [
              0.6666666666666666,
              "#ed7953"
             ],
             [
              0.7777777777777778,
              "#fb9f3a"
             ],
             [
              0.8888888888888888,
              "#fdca26"
             ],
             [
              1,
              "#f0f921"
             ]
            ],
            "type": "heatmap"
           }
          ],
          "heatmapgl": [
           {
            "colorbar": {
             "outlinewidth": 0,
             "ticks": ""
            },
            "colorscale": [
             [
              0,
              "#0d0887"
             ],
             [
              0.1111111111111111,
              "#46039f"
             ],
             [
              0.2222222222222222,
              "#7201a8"
             ],
             [
              0.3333333333333333,
              "#9c179e"
             ],
             [
              0.4444444444444444,
              "#bd3786"
             ],
             [
              0.5555555555555556,
              "#d8576b"
             ],
             [
              0.6666666666666666,
              "#ed7953"
             ],
             [
              0.7777777777777778,
              "#fb9f3a"
             ],
             [
              0.8888888888888888,
              "#fdca26"
             ],
             [
              1,
              "#f0f921"
             ]
            ],
            "type": "heatmapgl"
           }
          ],
          "histogram": [
           {
            "marker": {
             "pattern": {
              "fillmode": "overlay",
              "size": 10,
              "solidity": 0.2
             }
            },
            "type": "histogram"
           }
          ],
          "histogram2d": [
           {
            "colorbar": {
             "outlinewidth": 0,
             "ticks": ""
            },
            "colorscale": [
             [
              0,
              "#0d0887"
             ],
             [
              0.1111111111111111,
              "#46039f"
             ],
             [
              0.2222222222222222,
              "#7201a8"
             ],
             [
              0.3333333333333333,
              "#9c179e"
             ],
             [
              0.4444444444444444,
              "#bd3786"
             ],
             [
              0.5555555555555556,
              "#d8576b"
             ],
             [
              0.6666666666666666,
              "#ed7953"
             ],
             [
              0.7777777777777778,
              "#fb9f3a"
             ],
             [
              0.8888888888888888,
              "#fdca26"
             ],
             [
              1,
              "#f0f921"
             ]
            ],
            "type": "histogram2d"
           }
          ],
          "histogram2dcontour": [
           {
            "colorbar": {
             "outlinewidth": 0,
             "ticks": ""
            },
            "colorscale": [
             [
              0,
              "#0d0887"
             ],
             [
              0.1111111111111111,
              "#46039f"
             ],
             [
              0.2222222222222222,
              "#7201a8"
             ],
             [
              0.3333333333333333,
              "#9c179e"
             ],
             [
              0.4444444444444444,
              "#bd3786"
             ],
             [
              0.5555555555555556,
              "#d8576b"
             ],
             [
              0.6666666666666666,
              "#ed7953"
             ],
             [
              0.7777777777777778,
              "#fb9f3a"
             ],
             [
              0.8888888888888888,
              "#fdca26"
             ],
             [
              1,
              "#f0f921"
             ]
            ],
            "type": "histogram2dcontour"
           }
          ],
          "mesh3d": [
           {
            "colorbar": {
             "outlinewidth": 0,
             "ticks": ""
            },
            "type": "mesh3d"
           }
          ],
          "parcoords": [
           {
            "line": {
             "colorbar": {
              "outlinewidth": 0,
              "ticks": ""
             }
            },
            "type": "parcoords"
           }
          ],
          "pie": [
           {
            "automargin": true,
            "type": "pie"
           }
          ],
          "scatter": [
           {
            "fillpattern": {
             "fillmode": "overlay",
             "size": 10,
             "solidity": 0.2
            },
            "type": "scatter"
           }
          ],
          "scatter3d": [
           {
            "line": {
             "colorbar": {
              "outlinewidth": 0,
              "ticks": ""
             }
            },
            "marker": {
             "colorbar": {
              "outlinewidth": 0,
              "ticks": ""
             }
            },
            "type": "scatter3d"
           }
          ],
          "scattercarpet": [
           {
            "marker": {
             "colorbar": {
              "outlinewidth": 0,
              "ticks": ""
             }
            },
            "type": "scattercarpet"
           }
          ],
          "scattergeo": [
           {
            "marker": {
             "colorbar": {
              "outlinewidth": 0,
              "ticks": ""
             }
            },
            "type": "scattergeo"
           }
          ],
          "scattergl": [
           {
            "marker": {
             "colorbar": {
              "outlinewidth": 0,
              "ticks": ""
             }
            },
            "type": "scattergl"
           }
          ],
          "scattermapbox": [
           {
            "marker": {
             "colorbar": {
              "outlinewidth": 0,
              "ticks": ""
             }
            },
            "type": "scattermapbox"
           }
          ],
          "scatterpolar": [
           {
            "marker": {
             "colorbar": {
              "outlinewidth": 0,
              "ticks": ""
             }
            },
            "type": "scatterpolar"
           }
          ],
          "scatterpolargl": [
           {
            "marker": {
             "colorbar": {
              "outlinewidth": 0,
              "ticks": ""
             }
            },
            "type": "scatterpolargl"
           }
          ],
          "scatterternary": [
           {
            "marker": {
             "colorbar": {
              "outlinewidth": 0,
              "ticks": ""
             }
            },
            "type": "scatterternary"
           }
          ],
          "surface": [
           {
            "colorbar": {
             "outlinewidth": 0,
             "ticks": ""
            },
            "colorscale": [
             [
              0,
              "#0d0887"
             ],
             [
              0.1111111111111111,
              "#46039f"
             ],
             [
              0.2222222222222222,
              "#7201a8"
             ],
             [
              0.3333333333333333,
              "#9c179e"
             ],
             [
              0.4444444444444444,
              "#bd3786"
             ],
             [
              0.5555555555555556,
              "#d8576b"
             ],
             [
              0.6666666666666666,
              "#ed7953"
             ],
             [
              0.7777777777777778,
              "#fb9f3a"
             ],
             [
              0.8888888888888888,
              "#fdca26"
             ],
             [
              1,
              "#f0f921"
             ]
            ],
            "type": "surface"
           }
          ],
          "table": [
           {
            "cells": {
             "fill": {
              "color": "#EBF0F8"
             },
             "line": {
              "color": "white"
             }
            },
            "header": {
             "fill": {
              "color": "#C8D4E3"
             },
             "line": {
              "color": "white"
             }
            },
            "type": "table"
           }
          ]
         },
         "layout": {
          "annotationdefaults": {
           "arrowcolor": "#2a3f5f",
           "arrowhead": 0,
           "arrowwidth": 1
          },
          "autotypenumbers": "strict",
          "coloraxis": {
           "colorbar": {
            "outlinewidth": 0,
            "ticks": ""
           }
          },
          "colorscale": {
           "diverging": [
            [
             0,
             "#8e0152"
            ],
            [
             0.1,
             "#c51b7d"
            ],
            [
             0.2,
             "#de77ae"
            ],
            [
             0.3,
             "#f1b6da"
            ],
            [
             0.4,
             "#fde0ef"
            ],
            [
             0.5,
             "#f7f7f7"
            ],
            [
             0.6,
             "#e6f5d0"
            ],
            [
             0.7,
             "#b8e186"
            ],
            [
             0.8,
             "#7fbc41"
            ],
            [
             0.9,
             "#4d9221"
            ],
            [
             1,
             "#276419"
            ]
           ],
           "sequential": [
            [
             0,
             "#0d0887"
            ],
            [
             0.1111111111111111,
             "#46039f"
            ],
            [
             0.2222222222222222,
             "#7201a8"
            ],
            [
             0.3333333333333333,
             "#9c179e"
            ],
            [
             0.4444444444444444,
             "#bd3786"
            ],
            [
             0.5555555555555556,
             "#d8576b"
            ],
            [
             0.6666666666666666,
             "#ed7953"
            ],
            [
             0.7777777777777778,
             "#fb9f3a"
            ],
            [
             0.8888888888888888,
             "#fdca26"
            ],
            [
             1,
             "#f0f921"
            ]
           ],
           "sequentialminus": [
            [
             0,
             "#0d0887"
            ],
            [
             0.1111111111111111,
             "#46039f"
            ],
            [
             0.2222222222222222,
             "#7201a8"
            ],
            [
             0.3333333333333333,
             "#9c179e"
            ],
            [
             0.4444444444444444,
             "#bd3786"
            ],
            [
             0.5555555555555556,
             "#d8576b"
            ],
            [
             0.6666666666666666,
             "#ed7953"
            ],
            [
             0.7777777777777778,
             "#fb9f3a"
            ],
            [
             0.8888888888888888,
             "#fdca26"
            ],
            [
             1,
             "#f0f921"
            ]
           ]
          },
          "colorway": [
           "#636efa",
           "#EF553B",
           "#00cc96",
           "#ab63fa",
           "#FFA15A",
           "#19d3f3",
           "#FF6692",
           "#B6E880",
           "#FF97FF",
           "#FECB52"
          ],
          "font": {
           "color": "#2a3f5f"
          },
          "geo": {
           "bgcolor": "white",
           "lakecolor": "white",
           "landcolor": "#E5ECF6",
           "showlakes": true,
           "showland": true,
           "subunitcolor": "white"
          },
          "hoverlabel": {
           "align": "left"
          },
          "hovermode": "closest",
          "mapbox": {
           "style": "light"
          },
          "paper_bgcolor": "white",
          "plot_bgcolor": "#E5ECF6",
          "polar": {
           "angularaxis": {
            "gridcolor": "white",
            "linecolor": "white",
            "ticks": ""
           },
           "bgcolor": "#E5ECF6",
           "radialaxis": {
            "gridcolor": "white",
            "linecolor": "white",
            "ticks": ""
           }
          },
          "scene": {
           "xaxis": {
            "backgroundcolor": "#E5ECF6",
            "gridcolor": "white",
            "gridwidth": 2,
            "linecolor": "white",
            "showbackground": true,
            "ticks": "",
            "zerolinecolor": "white"
           },
           "yaxis": {
            "backgroundcolor": "#E5ECF6",
            "gridcolor": "white",
            "gridwidth": 2,
            "linecolor": "white",
            "showbackground": true,
            "ticks": "",
            "zerolinecolor": "white"
           },
           "zaxis": {
            "backgroundcolor": "#E5ECF6",
            "gridcolor": "white",
            "gridwidth": 2,
            "linecolor": "white",
            "showbackground": true,
            "ticks": "",
            "zerolinecolor": "white"
           }
          },
          "shapedefaults": {
           "line": {
            "color": "#2a3f5f"
           }
          },
          "ternary": {
           "aaxis": {
            "gridcolor": "white",
            "linecolor": "white",
            "ticks": ""
           },
           "baxis": {
            "gridcolor": "white",
            "linecolor": "white",
            "ticks": ""
           },
           "bgcolor": "#E5ECF6",
           "caxis": {
            "gridcolor": "white",
            "linecolor": "white",
            "ticks": ""
           }
          },
          "title": {
           "x": 0.05
          },
          "xaxis": {
           "automargin": true,
           "gridcolor": "white",
           "linecolor": "white",
           "ticks": "",
           "title": {
            "standoff": 15
           },
           "zerolinecolor": "white",
           "zerolinewidth": 2
          },
          "yaxis": {
           "automargin": true,
           "gridcolor": "white",
           "linecolor": "white",
           "ticks": "",
           "title": {
            "standoff": 15
           },
           "zerolinecolor": "white",
           "zerolinewidth": 2
          }
         }
        },
        "title": {
         "text": "Sample from a Normal Distribution"
        },
        "width": 600,
        "xaxis": {
         "anchor": "y",
         "domain": [
          0,
          1
         ]
        },
        "yaxis": {
         "anchor": "x",
         "domain": [
          0,
          1
         ],
         "title": {
          "text": "Normal"
         }
        }
       }
      }
     },
     "metadata": {},
     "output_type": "display_data"
    }
   ],
   "source": [
    "fig = px.box(df, y=\"Normal\", \n",
    "                 height = 500, width = 600,\n",
    "                 title='Sample from a Normal Distribution')\n",
    "fig.show()"
   ]
  },
  {
   "cell_type": "code",
   "execution_count": 8,
   "metadata": {},
   "outputs": [
    {
     "data": {
      "application/vnd.plotly.v1+json": {
       "config": {
        "plotlyServerURL": "https://plot.ly"
       },
       "data": [
        {
         "alignmentgroup": "True",
         "hovertemplate": "Normal=%{x}<extra></extra>",
         "legendgroup": "",
         "marker": {
          "color": "#636efa"
         },
         "name": "",
         "notched": false,
         "offsetgroup": "",
         "orientation": "h",
         "showlegend": false,
         "type": "box",
         "x": [
          0.7661340288013501,
          2.936432806963716,
          1.698715946697745,
          3.0727074963317897,
          1.4342313016003732,
          2.1066729722938344,
          2.752195346607073,
          1.1960416335283588,
          2.638625760804452,
          2.3187846195686066,
          1.5134087439556256,
          1.2320552857983493,
          3.0621907351647897,
          3.5005790849030385,
          3.222192998133994,
          0.8121517482052838,
          2.562811342572542,
          1.5094589548994035,
          2.0617095629885784,
          2.349453915820724,
          1.2133023300704542,
          1.2117744338342904,
          0.31979158708017996,
          1.2501441281815648,
          2.101793598098098,
          2.697786236074823,
          1.0722918812586357,
          1.3693506387877665,
          -0.4497388122183299,
          2.346175895744964,
          2.261963226946059,
          3.3299616334667412,
          3.4385904384306256,
          1.0824620059049213,
          3.2777597306834974,
          0.6451948567883088,
          3.066608776453147,
          2.0203996785827156,
          3.11174134362932,
          2.1037891481558124,
          1.2970672230328515,
          2.662209583624894,
          1.9737345351547175,
          2.6477285936774027,
          2.15735791756473,
          1.7685210770487219,
          1.685840314655774,
          3.028535367038306,
          1.326835403378332,
          -0.09604122523542458,
          1.9341510802078192,
          1.1699117826004417,
          2.014907168831193,
          4.066784001888998,
          3.227902989434626,
          1.2880938291738808,
          1.9927850653588637,
          2.6966929562262174,
          3.1290940780117342,
          1.8387259064931831,
          0.06380274263616403,
          0.749678366264886,
          3.8199592042987476,
          3.1553366079911065,
          2.1910347356492004,
          1.6360209258074028,
          0.5539081321553978,
          3.687128610766363,
          3.0353051495023093,
          2.6418765194818867,
          -0.21461339512721933,
          3.708304115229878,
          1.6538056080387138,
          2.733734859352322,
          3.1052752452195076,
          2.4039517831724773,
          0.390071088352669,
          2.185600727991858,
          2.3228781069295352,
          1.8428373669737603,
          2.943151660220919,
          1.2002935847728033,
          1.7653026555494944,
          1.6501856150938115,
          1.855776312128536,
          2.7319866321534163,
          1.0372917882797001,
          2.7416585218838554,
          1.7202194360088137,
          1.9421306804161407,
          1.6213470853011518,
          2.677972886420598,
          0.6155922291580456,
          1.263745722533566,
          2.2595407887649213,
          3.9667832703443686,
          2.99553955747048,
          1.8929768142073133,
          2.3921020498455,
          -0.07367848604366323,
          1.7805796277037846,
          2.2559334388607413,
          1.2959957430531182,
          2.475858445381354,
          1.2722256069439264,
          2.623343939643732,
          2.4056061673377354,
          1.476108555761344,
          1.4891891488345594,
          1.1553908403754973,
          2.1163349591689453,
          0.48397833498945597,
          2.572235905895739,
          2.1226753136722087,
          2.4932425791668122,
          1.5149228564061608,
          0.9601070321512668,
          0.392187461871343,
          0.35407827208853493,
          2.6380432934098548,
          2.427375765672821,
          1.5728221763641668,
          2.808836019506046,
          1.100318912859535,
          1.81857651375086,
          2.5599204545796717,
          1.7215464199781856,
          0.7531448413698072,
          2.8425163339904262,
          2.1784334283353606,
          2.6146043974609046,
          0.8258182238576364,
          2.278795279525711,
          3.368915704104741,
          0.5730076150207477,
          2.863625187787865,
          0.5782525104759493,
          0.2328596832981631,
          2.0750613047530355,
          1.3974685436375895,
          1.5090650727623152,
          1.4232038366306985,
          1.6190038483029543,
          2.860981056067043,
          3.2115061187387948,
          1.9882968929429756,
          1.249931935419911,
          1.9457553987078775,
          -1.1402417992840883,
          2.616680708184526,
          2.103779901541481,
          1.4273745245795515,
          2.0926009081767503,
          2.2611891539715225,
          1.6612251748575915,
          3.649546685542741,
          2.480677266891096,
          3.364769742472105,
          1.1080153667577355,
          0.31799126076786943,
          3.114079848036117,
          0.5078611940771562,
          1.1270857370374807,
          2.153159125398661,
          1.3724662618207863,
          2.7359375176436895,
          2.535477845680289,
          3.3702811555747503,
          1.8653214490333065,
          2.131592225213798,
          2.20548949605025,
          1.9942251718773336,
          2.6414079721524764,
          1.1473064660416359,
          -0.6197694957419402,
          1.7407051393009674,
          0.728944230217518,
          2.012838456749605,
          2.662369246327774,
          2.4032876418162505,
          1.7318206658310875,
          0.874466475744333,
          3.377638572793296,
          3.297625163894365,
          1.221004144840529,
          2.7843323213097504,
          0.7826886864356879,
          1.5612640685603956,
          2.490932299987094,
          0.5163794440733254,
          2.329233534170101,
          2.9907964912517975,
          3.074260429806548,
          2.942646633491941,
          3.1602817971522157,
          2.3402421183239825,
          2.443680015752832,
          2.1230839264084715,
          2.4088790070529735,
          3.0745703114993357
         ],
         "x0": " ",
         "xaxis": "x",
         "y0": " ",
         "yaxis": "y"
        }
       ],
       "layout": {
        "boxmode": "group",
        "height": 500,
        "legend": {
         "tracegroupgap": 0
        },
        "template": {
         "data": {
          "bar": [
           {
            "error_x": {
             "color": "#2a3f5f"
            },
            "error_y": {
             "color": "#2a3f5f"
            },
            "marker": {
             "line": {
              "color": "#E5ECF6",
              "width": 0.5
             },
             "pattern": {
              "fillmode": "overlay",
              "size": 10,
              "solidity": 0.2
             }
            },
            "type": "bar"
           }
          ],
          "barpolar": [
           {
            "marker": {
             "line": {
              "color": "#E5ECF6",
              "width": 0.5
             },
             "pattern": {
              "fillmode": "overlay",
              "size": 10,
              "solidity": 0.2
             }
            },
            "type": "barpolar"
           }
          ],
          "carpet": [
           {
            "aaxis": {
             "endlinecolor": "#2a3f5f",
             "gridcolor": "white",
             "linecolor": "white",
             "minorgridcolor": "white",
             "startlinecolor": "#2a3f5f"
            },
            "baxis": {
             "endlinecolor": "#2a3f5f",
             "gridcolor": "white",
             "linecolor": "white",
             "minorgridcolor": "white",
             "startlinecolor": "#2a3f5f"
            },
            "type": "carpet"
           }
          ],
          "choropleth": [
           {
            "colorbar": {
             "outlinewidth": 0,
             "ticks": ""
            },
            "type": "choropleth"
           }
          ],
          "contour": [
           {
            "colorbar": {
             "outlinewidth": 0,
             "ticks": ""
            },
            "colorscale": [
             [
              0,
              "#0d0887"
             ],
             [
              0.1111111111111111,
              "#46039f"
             ],
             [
              0.2222222222222222,
              "#7201a8"
             ],
             [
              0.3333333333333333,
              "#9c179e"
             ],
             [
              0.4444444444444444,
              "#bd3786"
             ],
             [
              0.5555555555555556,
              "#d8576b"
             ],
             [
              0.6666666666666666,
              "#ed7953"
             ],
             [
              0.7777777777777778,
              "#fb9f3a"
             ],
             [
              0.8888888888888888,
              "#fdca26"
             ],
             [
              1,
              "#f0f921"
             ]
            ],
            "type": "contour"
           }
          ],
          "contourcarpet": [
           {
            "colorbar": {
             "outlinewidth": 0,
             "ticks": ""
            },
            "type": "contourcarpet"
           }
          ],
          "heatmap": [
           {
            "colorbar": {
             "outlinewidth": 0,
             "ticks": ""
            },
            "colorscale": [
             [
              0,
              "#0d0887"
             ],
             [
              0.1111111111111111,
              "#46039f"
             ],
             [
              0.2222222222222222,
              "#7201a8"
             ],
             [
              0.3333333333333333,
              "#9c179e"
             ],
             [
              0.4444444444444444,
              "#bd3786"
             ],
             [
              0.5555555555555556,
              "#d8576b"
             ],
             [
              0.6666666666666666,
              "#ed7953"
             ],
             [
              0.7777777777777778,
              "#fb9f3a"
             ],
             [
              0.8888888888888888,
              "#fdca26"
             ],
             [
              1,
              "#f0f921"
             ]
            ],
            "type": "heatmap"
           }
          ],
          "heatmapgl": [
           {
            "colorbar": {
             "outlinewidth": 0,
             "ticks": ""
            },
            "colorscale": [
             [
              0,
              "#0d0887"
             ],
             [
              0.1111111111111111,
              "#46039f"
             ],
             [
              0.2222222222222222,
              "#7201a8"
             ],
             [
              0.3333333333333333,
              "#9c179e"
             ],
             [
              0.4444444444444444,
              "#bd3786"
             ],
             [
              0.5555555555555556,
              "#d8576b"
             ],
             [
              0.6666666666666666,
              "#ed7953"
             ],
             [
              0.7777777777777778,
              "#fb9f3a"
             ],
             [
              0.8888888888888888,
              "#fdca26"
             ],
             [
              1,
              "#f0f921"
             ]
            ],
            "type": "heatmapgl"
           }
          ],
          "histogram": [
           {
            "marker": {
             "pattern": {
              "fillmode": "overlay",
              "size": 10,
              "solidity": 0.2
             }
            },
            "type": "histogram"
           }
          ],
          "histogram2d": [
           {
            "colorbar": {
             "outlinewidth": 0,
             "ticks": ""
            },
            "colorscale": [
             [
              0,
              "#0d0887"
             ],
             [
              0.1111111111111111,
              "#46039f"
             ],
             [
              0.2222222222222222,
              "#7201a8"
             ],
             [
              0.3333333333333333,
              "#9c179e"
             ],
             [
              0.4444444444444444,
              "#bd3786"
             ],
             [
              0.5555555555555556,
              "#d8576b"
             ],
             [
              0.6666666666666666,
              "#ed7953"
             ],
             [
              0.7777777777777778,
              "#fb9f3a"
             ],
             [
              0.8888888888888888,
              "#fdca26"
             ],
             [
              1,
              "#f0f921"
             ]
            ],
            "type": "histogram2d"
           }
          ],
          "histogram2dcontour": [
           {
            "colorbar": {
             "outlinewidth": 0,
             "ticks": ""
            },
            "colorscale": [
             [
              0,
              "#0d0887"
             ],
             [
              0.1111111111111111,
              "#46039f"
             ],
             [
              0.2222222222222222,
              "#7201a8"
             ],
             [
              0.3333333333333333,
              "#9c179e"
             ],
             [
              0.4444444444444444,
              "#bd3786"
             ],
             [
              0.5555555555555556,
              "#d8576b"
             ],
             [
              0.6666666666666666,
              "#ed7953"
             ],
             [
              0.7777777777777778,
              "#fb9f3a"
             ],
             [
              0.8888888888888888,
              "#fdca26"
             ],
             [
              1,
              "#f0f921"
             ]
            ],
            "type": "histogram2dcontour"
           }
          ],
          "mesh3d": [
           {
            "colorbar": {
             "outlinewidth": 0,
             "ticks": ""
            },
            "type": "mesh3d"
           }
          ],
          "parcoords": [
           {
            "line": {
             "colorbar": {
              "outlinewidth": 0,
              "ticks": ""
             }
            },
            "type": "parcoords"
           }
          ],
          "pie": [
           {
            "automargin": true,
            "type": "pie"
           }
          ],
          "scatter": [
           {
            "fillpattern": {
             "fillmode": "overlay",
             "size": 10,
             "solidity": 0.2
            },
            "type": "scatter"
           }
          ],
          "scatter3d": [
           {
            "line": {
             "colorbar": {
              "outlinewidth": 0,
              "ticks": ""
             }
            },
            "marker": {
             "colorbar": {
              "outlinewidth": 0,
              "ticks": ""
             }
            },
            "type": "scatter3d"
           }
          ],
          "scattercarpet": [
           {
            "marker": {
             "colorbar": {
              "outlinewidth": 0,
              "ticks": ""
             }
            },
            "type": "scattercarpet"
           }
          ],
          "scattergeo": [
           {
            "marker": {
             "colorbar": {
              "outlinewidth": 0,
              "ticks": ""
             }
            },
            "type": "scattergeo"
           }
          ],
          "scattergl": [
           {
            "marker": {
             "colorbar": {
              "outlinewidth": 0,
              "ticks": ""
             }
            },
            "type": "scattergl"
           }
          ],
          "scattermapbox": [
           {
            "marker": {
             "colorbar": {
              "outlinewidth": 0,
              "ticks": ""
             }
            },
            "type": "scattermapbox"
           }
          ],
          "scatterpolar": [
           {
            "marker": {
             "colorbar": {
              "outlinewidth": 0,
              "ticks": ""
             }
            },
            "type": "scatterpolar"
           }
          ],
          "scatterpolargl": [
           {
            "marker": {
             "colorbar": {
              "outlinewidth": 0,
              "ticks": ""
             }
            },
            "type": "scatterpolargl"
           }
          ],
          "scatterternary": [
           {
            "marker": {
             "colorbar": {
              "outlinewidth": 0,
              "ticks": ""
             }
            },
            "type": "scatterternary"
           }
          ],
          "surface": [
           {
            "colorbar": {
             "outlinewidth": 0,
             "ticks": ""
            },
            "colorscale": [
             [
              0,
              "#0d0887"
             ],
             [
              0.1111111111111111,
              "#46039f"
             ],
             [
              0.2222222222222222,
              "#7201a8"
             ],
             [
              0.3333333333333333,
              "#9c179e"
             ],
             [
              0.4444444444444444,
              "#bd3786"
             ],
             [
              0.5555555555555556,
              "#d8576b"
             ],
             [
              0.6666666666666666,
              "#ed7953"
             ],
             [
              0.7777777777777778,
              "#fb9f3a"
             ],
             [
              0.8888888888888888,
              "#fdca26"
             ],
             [
              1,
              "#f0f921"
             ]
            ],
            "type": "surface"
           }
          ],
          "table": [
           {
            "cells": {
             "fill": {
              "color": "#EBF0F8"
             },
             "line": {
              "color": "white"
             }
            },
            "header": {
             "fill": {
              "color": "#C8D4E3"
             },
             "line": {
              "color": "white"
             }
            },
            "type": "table"
           }
          ]
         },
         "layout": {
          "annotationdefaults": {
           "arrowcolor": "#2a3f5f",
           "arrowhead": 0,
           "arrowwidth": 1
          },
          "autotypenumbers": "strict",
          "coloraxis": {
           "colorbar": {
            "outlinewidth": 0,
            "ticks": ""
           }
          },
          "colorscale": {
           "diverging": [
            [
             0,
             "#8e0152"
            ],
            [
             0.1,
             "#c51b7d"
            ],
            [
             0.2,
             "#de77ae"
            ],
            [
             0.3,
             "#f1b6da"
            ],
            [
             0.4,
             "#fde0ef"
            ],
            [
             0.5,
             "#f7f7f7"
            ],
            [
             0.6,
             "#e6f5d0"
            ],
            [
             0.7,
             "#b8e186"
            ],
            [
             0.8,
             "#7fbc41"
            ],
            [
             0.9,
             "#4d9221"
            ],
            [
             1,
             "#276419"
            ]
           ],
           "sequential": [
            [
             0,
             "#0d0887"
            ],
            [
             0.1111111111111111,
             "#46039f"
            ],
            [
             0.2222222222222222,
             "#7201a8"
            ],
            [
             0.3333333333333333,
             "#9c179e"
            ],
            [
             0.4444444444444444,
             "#bd3786"
            ],
            [
             0.5555555555555556,
             "#d8576b"
            ],
            [
             0.6666666666666666,
             "#ed7953"
            ],
            [
             0.7777777777777778,
             "#fb9f3a"
            ],
            [
             0.8888888888888888,
             "#fdca26"
            ],
            [
             1,
             "#f0f921"
            ]
           ],
           "sequentialminus": [
            [
             0,
             "#0d0887"
            ],
            [
             0.1111111111111111,
             "#46039f"
            ],
            [
             0.2222222222222222,
             "#7201a8"
            ],
            [
             0.3333333333333333,
             "#9c179e"
            ],
            [
             0.4444444444444444,
             "#bd3786"
            ],
            [
             0.5555555555555556,
             "#d8576b"
            ],
            [
             0.6666666666666666,
             "#ed7953"
            ],
            [
             0.7777777777777778,
             "#fb9f3a"
            ],
            [
             0.8888888888888888,
             "#fdca26"
            ],
            [
             1,
             "#f0f921"
            ]
           ]
          },
          "colorway": [
           "#636efa",
           "#EF553B",
           "#00cc96",
           "#ab63fa",
           "#FFA15A",
           "#19d3f3",
           "#FF6692",
           "#B6E880",
           "#FF97FF",
           "#FECB52"
          ],
          "font": {
           "color": "#2a3f5f"
          },
          "geo": {
           "bgcolor": "white",
           "lakecolor": "white",
           "landcolor": "#E5ECF6",
           "showlakes": true,
           "showland": true,
           "subunitcolor": "white"
          },
          "hoverlabel": {
           "align": "left"
          },
          "hovermode": "closest",
          "mapbox": {
           "style": "light"
          },
          "paper_bgcolor": "white",
          "plot_bgcolor": "#E5ECF6",
          "polar": {
           "angularaxis": {
            "gridcolor": "white",
            "linecolor": "white",
            "ticks": ""
           },
           "bgcolor": "#E5ECF6",
           "radialaxis": {
            "gridcolor": "white",
            "linecolor": "white",
            "ticks": ""
           }
          },
          "scene": {
           "xaxis": {
            "backgroundcolor": "#E5ECF6",
            "gridcolor": "white",
            "gridwidth": 2,
            "linecolor": "white",
            "showbackground": true,
            "ticks": "",
            "zerolinecolor": "white"
           },
           "yaxis": {
            "backgroundcolor": "#E5ECF6",
            "gridcolor": "white",
            "gridwidth": 2,
            "linecolor": "white",
            "showbackground": true,
            "ticks": "",
            "zerolinecolor": "white"
           },
           "zaxis": {
            "backgroundcolor": "#E5ECF6",
            "gridcolor": "white",
            "gridwidth": 2,
            "linecolor": "white",
            "showbackground": true,
            "ticks": "",
            "zerolinecolor": "white"
           }
          },
          "shapedefaults": {
           "line": {
            "color": "#2a3f5f"
           }
          },
          "ternary": {
           "aaxis": {
            "gridcolor": "white",
            "linecolor": "white",
            "ticks": ""
           },
           "baxis": {
            "gridcolor": "white",
            "linecolor": "white",
            "ticks": ""
           },
           "bgcolor": "#E5ECF6",
           "caxis": {
            "gridcolor": "white",
            "linecolor": "white",
            "ticks": ""
           }
          },
          "title": {
           "x": 0.05
          },
          "xaxis": {
           "automargin": true,
           "gridcolor": "white",
           "linecolor": "white",
           "ticks": "",
           "title": {
            "standoff": 15
           },
           "zerolinecolor": "white",
           "zerolinewidth": 2
          },
          "yaxis": {
           "automargin": true,
           "gridcolor": "white",
           "linecolor": "white",
           "ticks": "",
           "title": {
            "standoff": 15
           },
           "zerolinecolor": "white",
           "zerolinewidth": 2
          }
         }
        },
        "title": {
         "text": "Sample from a Normal Distribution"
        },
        "width": 800,
        "xaxis": {
         "anchor": "y",
         "domain": [
          0,
          1
         ],
         "title": {
          "text": "Normal"
         }
        },
        "yaxis": {
         "anchor": "x",
         "domain": [
          0,
          1
         ]
        }
       }
      }
     },
     "metadata": {},
     "output_type": "display_data"
    }
   ],
   "source": [
    "fig = px.box(df, x=\"Normal\", \n",
    "                 height = 500, width = 800,\n",
    "                 title='Sample from a Normal Distribution')\n",
    "fig.show()"
   ]
  },
  {
   "cell_type": "markdown",
   "metadata": {},
   "source": [
    "4. Customise the color of the bars using the input `color_discrete_sequence` as follows. Note that we have to pass a list of strings, where each string corresponds to a color.  In this case, we pass the color `teal`"
   ]
  },
  {
   "cell_type": "code",
   "execution_count": 9,
   "metadata": {},
   "outputs": [
    {
     "data": {
      "application/vnd.plotly.v1+json": {
       "config": {
        "plotlyServerURL": "https://plot.ly"
       },
       "data": [
        {
         "alignmentgroup": "True",
         "hovertemplate": "Normal=%{x}<extra></extra>",
         "legendgroup": "",
         "marker": {
          "color": "teal"
         },
         "name": "",
         "notched": false,
         "offsetgroup": "",
         "orientation": "h",
         "showlegend": false,
         "type": "box",
         "x": [
          0.7661340288013501,
          2.936432806963716,
          1.698715946697745,
          3.0727074963317897,
          1.4342313016003732,
          2.1066729722938344,
          2.752195346607073,
          1.1960416335283588,
          2.638625760804452,
          2.3187846195686066,
          1.5134087439556256,
          1.2320552857983493,
          3.0621907351647897,
          3.5005790849030385,
          3.222192998133994,
          0.8121517482052838,
          2.562811342572542,
          1.5094589548994035,
          2.0617095629885784,
          2.349453915820724,
          1.2133023300704542,
          1.2117744338342904,
          0.31979158708017996,
          1.2501441281815648,
          2.101793598098098,
          2.697786236074823,
          1.0722918812586357,
          1.3693506387877665,
          -0.4497388122183299,
          2.346175895744964,
          2.261963226946059,
          3.3299616334667412,
          3.4385904384306256,
          1.0824620059049213,
          3.2777597306834974,
          0.6451948567883088,
          3.066608776453147,
          2.0203996785827156,
          3.11174134362932,
          2.1037891481558124,
          1.2970672230328515,
          2.662209583624894,
          1.9737345351547175,
          2.6477285936774027,
          2.15735791756473,
          1.7685210770487219,
          1.685840314655774,
          3.028535367038306,
          1.326835403378332,
          -0.09604122523542458,
          1.9341510802078192,
          1.1699117826004417,
          2.014907168831193,
          4.066784001888998,
          3.227902989434626,
          1.2880938291738808,
          1.9927850653588637,
          2.6966929562262174,
          3.1290940780117342,
          1.8387259064931831,
          0.06380274263616403,
          0.749678366264886,
          3.8199592042987476,
          3.1553366079911065,
          2.1910347356492004,
          1.6360209258074028,
          0.5539081321553978,
          3.687128610766363,
          3.0353051495023093,
          2.6418765194818867,
          -0.21461339512721933,
          3.708304115229878,
          1.6538056080387138,
          2.733734859352322,
          3.1052752452195076,
          2.4039517831724773,
          0.390071088352669,
          2.185600727991858,
          2.3228781069295352,
          1.8428373669737603,
          2.943151660220919,
          1.2002935847728033,
          1.7653026555494944,
          1.6501856150938115,
          1.855776312128536,
          2.7319866321534163,
          1.0372917882797001,
          2.7416585218838554,
          1.7202194360088137,
          1.9421306804161407,
          1.6213470853011518,
          2.677972886420598,
          0.6155922291580456,
          1.263745722533566,
          2.2595407887649213,
          3.9667832703443686,
          2.99553955747048,
          1.8929768142073133,
          2.3921020498455,
          -0.07367848604366323,
          1.7805796277037846,
          2.2559334388607413,
          1.2959957430531182,
          2.475858445381354,
          1.2722256069439264,
          2.623343939643732,
          2.4056061673377354,
          1.476108555761344,
          1.4891891488345594,
          1.1553908403754973,
          2.1163349591689453,
          0.48397833498945597,
          2.572235905895739,
          2.1226753136722087,
          2.4932425791668122,
          1.5149228564061608,
          0.9601070321512668,
          0.392187461871343,
          0.35407827208853493,
          2.6380432934098548,
          2.427375765672821,
          1.5728221763641668,
          2.808836019506046,
          1.100318912859535,
          1.81857651375086,
          2.5599204545796717,
          1.7215464199781856,
          0.7531448413698072,
          2.8425163339904262,
          2.1784334283353606,
          2.6146043974609046,
          0.8258182238576364,
          2.278795279525711,
          3.368915704104741,
          0.5730076150207477,
          2.863625187787865,
          0.5782525104759493,
          0.2328596832981631,
          2.0750613047530355,
          1.3974685436375895,
          1.5090650727623152,
          1.4232038366306985,
          1.6190038483029543,
          2.860981056067043,
          3.2115061187387948,
          1.9882968929429756,
          1.249931935419911,
          1.9457553987078775,
          -1.1402417992840883,
          2.616680708184526,
          2.103779901541481,
          1.4273745245795515,
          2.0926009081767503,
          2.2611891539715225,
          1.6612251748575915,
          3.649546685542741,
          2.480677266891096,
          3.364769742472105,
          1.1080153667577355,
          0.31799126076786943,
          3.114079848036117,
          0.5078611940771562,
          1.1270857370374807,
          2.153159125398661,
          1.3724662618207863,
          2.7359375176436895,
          2.535477845680289,
          3.3702811555747503,
          1.8653214490333065,
          2.131592225213798,
          2.20548949605025,
          1.9942251718773336,
          2.6414079721524764,
          1.1473064660416359,
          -0.6197694957419402,
          1.7407051393009674,
          0.728944230217518,
          2.012838456749605,
          2.662369246327774,
          2.4032876418162505,
          1.7318206658310875,
          0.874466475744333,
          3.377638572793296,
          3.297625163894365,
          1.221004144840529,
          2.7843323213097504,
          0.7826886864356879,
          1.5612640685603956,
          2.490932299987094,
          0.5163794440733254,
          2.329233534170101,
          2.9907964912517975,
          3.074260429806548,
          2.942646633491941,
          3.1602817971522157,
          2.3402421183239825,
          2.443680015752832,
          2.1230839264084715,
          2.4088790070529735,
          3.0745703114993357
         ],
         "x0": " ",
         "xaxis": "x",
         "y0": " ",
         "yaxis": "y"
        }
       ],
       "layout": {
        "boxmode": "group",
        "height": 500,
        "legend": {
         "tracegroupgap": 0
        },
        "template": {
         "data": {
          "bar": [
           {
            "error_x": {
             "color": "#2a3f5f"
            },
            "error_y": {
             "color": "#2a3f5f"
            },
            "marker": {
             "line": {
              "color": "#E5ECF6",
              "width": 0.5
             },
             "pattern": {
              "fillmode": "overlay",
              "size": 10,
              "solidity": 0.2
             }
            },
            "type": "bar"
           }
          ],
          "barpolar": [
           {
            "marker": {
             "line": {
              "color": "#E5ECF6",
              "width": 0.5
             },
             "pattern": {
              "fillmode": "overlay",
              "size": 10,
              "solidity": 0.2
             }
            },
            "type": "barpolar"
           }
          ],
          "carpet": [
           {
            "aaxis": {
             "endlinecolor": "#2a3f5f",
             "gridcolor": "white",
             "linecolor": "white",
             "minorgridcolor": "white",
             "startlinecolor": "#2a3f5f"
            },
            "baxis": {
             "endlinecolor": "#2a3f5f",
             "gridcolor": "white",
             "linecolor": "white",
             "minorgridcolor": "white",
             "startlinecolor": "#2a3f5f"
            },
            "type": "carpet"
           }
          ],
          "choropleth": [
           {
            "colorbar": {
             "outlinewidth": 0,
             "ticks": ""
            },
            "type": "choropleth"
           }
          ],
          "contour": [
           {
            "colorbar": {
             "outlinewidth": 0,
             "ticks": ""
            },
            "colorscale": [
             [
              0,
              "#0d0887"
             ],
             [
              0.1111111111111111,
              "#46039f"
             ],
             [
              0.2222222222222222,
              "#7201a8"
             ],
             [
              0.3333333333333333,
              "#9c179e"
             ],
             [
              0.4444444444444444,
              "#bd3786"
             ],
             [
              0.5555555555555556,
              "#d8576b"
             ],
             [
              0.6666666666666666,
              "#ed7953"
             ],
             [
              0.7777777777777778,
              "#fb9f3a"
             ],
             [
              0.8888888888888888,
              "#fdca26"
             ],
             [
              1,
              "#f0f921"
             ]
            ],
            "type": "contour"
           }
          ],
          "contourcarpet": [
           {
            "colorbar": {
             "outlinewidth": 0,
             "ticks": ""
            },
            "type": "contourcarpet"
           }
          ],
          "heatmap": [
           {
            "colorbar": {
             "outlinewidth": 0,
             "ticks": ""
            },
            "colorscale": [
             [
              0,
              "#0d0887"
             ],
             [
              0.1111111111111111,
              "#46039f"
             ],
             [
              0.2222222222222222,
              "#7201a8"
             ],
             [
              0.3333333333333333,
              "#9c179e"
             ],
             [
              0.4444444444444444,
              "#bd3786"
             ],
             [
              0.5555555555555556,
              "#d8576b"
             ],
             [
              0.6666666666666666,
              "#ed7953"
             ],
             [
              0.7777777777777778,
              "#fb9f3a"
             ],
             [
              0.8888888888888888,
              "#fdca26"
             ],
             [
              1,
              "#f0f921"
             ]
            ],
            "type": "heatmap"
           }
          ],
          "heatmapgl": [
           {
            "colorbar": {
             "outlinewidth": 0,
             "ticks": ""
            },
            "colorscale": [
             [
              0,
              "#0d0887"
             ],
             [
              0.1111111111111111,
              "#46039f"
             ],
             [
              0.2222222222222222,
              "#7201a8"
             ],
             [
              0.3333333333333333,
              "#9c179e"
             ],
             [
              0.4444444444444444,
              "#bd3786"
             ],
             [
              0.5555555555555556,
              "#d8576b"
             ],
             [
              0.6666666666666666,
              "#ed7953"
             ],
             [
              0.7777777777777778,
              "#fb9f3a"
             ],
             [
              0.8888888888888888,
              "#fdca26"
             ],
             [
              1,
              "#f0f921"
             ]
            ],
            "type": "heatmapgl"
           }
          ],
          "histogram": [
           {
            "marker": {
             "pattern": {
              "fillmode": "overlay",
              "size": 10,
              "solidity": 0.2
             }
            },
            "type": "histogram"
           }
          ],
          "histogram2d": [
           {
            "colorbar": {
             "outlinewidth": 0,
             "ticks": ""
            },
            "colorscale": [
             [
              0,
              "#0d0887"
             ],
             [
              0.1111111111111111,
              "#46039f"
             ],
             [
              0.2222222222222222,
              "#7201a8"
             ],
             [
              0.3333333333333333,
              "#9c179e"
             ],
             [
              0.4444444444444444,
              "#bd3786"
             ],
             [
              0.5555555555555556,
              "#d8576b"
             ],
             [
              0.6666666666666666,
              "#ed7953"
             ],
             [
              0.7777777777777778,
              "#fb9f3a"
             ],
             [
              0.8888888888888888,
              "#fdca26"
             ],
             [
              1,
              "#f0f921"
             ]
            ],
            "type": "histogram2d"
           }
          ],
          "histogram2dcontour": [
           {
            "colorbar": {
             "outlinewidth": 0,
             "ticks": ""
            },
            "colorscale": [
             [
              0,
              "#0d0887"
             ],
             [
              0.1111111111111111,
              "#46039f"
             ],
             [
              0.2222222222222222,
              "#7201a8"
             ],
             [
              0.3333333333333333,
              "#9c179e"
             ],
             [
              0.4444444444444444,
              "#bd3786"
             ],
             [
              0.5555555555555556,
              "#d8576b"
             ],
             [
              0.6666666666666666,
              "#ed7953"
             ],
             [
              0.7777777777777778,
              "#fb9f3a"
             ],
             [
              0.8888888888888888,
              "#fdca26"
             ],
             [
              1,
              "#f0f921"
             ]
            ],
            "type": "histogram2dcontour"
           }
          ],
          "mesh3d": [
           {
            "colorbar": {
             "outlinewidth": 0,
             "ticks": ""
            },
            "type": "mesh3d"
           }
          ],
          "parcoords": [
           {
            "line": {
             "colorbar": {
              "outlinewidth": 0,
              "ticks": ""
             }
            },
            "type": "parcoords"
           }
          ],
          "pie": [
           {
            "automargin": true,
            "type": "pie"
           }
          ],
          "scatter": [
           {
            "fillpattern": {
             "fillmode": "overlay",
             "size": 10,
             "solidity": 0.2
            },
            "type": "scatter"
           }
          ],
          "scatter3d": [
           {
            "line": {
             "colorbar": {
              "outlinewidth": 0,
              "ticks": ""
             }
            },
            "marker": {
             "colorbar": {
              "outlinewidth": 0,
              "ticks": ""
             }
            },
            "type": "scatter3d"
           }
          ],
          "scattercarpet": [
           {
            "marker": {
             "colorbar": {
              "outlinewidth": 0,
              "ticks": ""
             }
            },
            "type": "scattercarpet"
           }
          ],
          "scattergeo": [
           {
            "marker": {
             "colorbar": {
              "outlinewidth": 0,
              "ticks": ""
             }
            },
            "type": "scattergeo"
           }
          ],
          "scattergl": [
           {
            "marker": {
             "colorbar": {
              "outlinewidth": 0,
              "ticks": ""
             }
            },
            "type": "scattergl"
           }
          ],
          "scattermapbox": [
           {
            "marker": {
             "colorbar": {
              "outlinewidth": 0,
              "ticks": ""
             }
            },
            "type": "scattermapbox"
           }
          ],
          "scatterpolar": [
           {
            "marker": {
             "colorbar": {
              "outlinewidth": 0,
              "ticks": ""
             }
            },
            "type": "scatterpolar"
           }
          ],
          "scatterpolargl": [
           {
            "marker": {
             "colorbar": {
              "outlinewidth": 0,
              "ticks": ""
             }
            },
            "type": "scatterpolargl"
           }
          ],
          "scatterternary": [
           {
            "marker": {
             "colorbar": {
              "outlinewidth": 0,
              "ticks": ""
             }
            },
            "type": "scatterternary"
           }
          ],
          "surface": [
           {
            "colorbar": {
             "outlinewidth": 0,
             "ticks": ""
            },
            "colorscale": [
             [
              0,
              "#0d0887"
             ],
             [
              0.1111111111111111,
              "#46039f"
             ],
             [
              0.2222222222222222,
              "#7201a8"
             ],
             [
              0.3333333333333333,
              "#9c179e"
             ],
             [
              0.4444444444444444,
              "#bd3786"
             ],
             [
              0.5555555555555556,
              "#d8576b"
             ],
             [
              0.6666666666666666,
              "#ed7953"
             ],
             [
              0.7777777777777778,
              "#fb9f3a"
             ],
             [
              0.8888888888888888,
              "#fdca26"
             ],
             [
              1,
              "#f0f921"
             ]
            ],
            "type": "surface"
           }
          ],
          "table": [
           {
            "cells": {
             "fill": {
              "color": "#EBF0F8"
             },
             "line": {
              "color": "white"
             }
            },
            "header": {
             "fill": {
              "color": "#C8D4E3"
             },
             "line": {
              "color": "white"
             }
            },
            "type": "table"
           }
          ]
         },
         "layout": {
          "annotationdefaults": {
           "arrowcolor": "#2a3f5f",
           "arrowhead": 0,
           "arrowwidth": 1
          },
          "autotypenumbers": "strict",
          "coloraxis": {
           "colorbar": {
            "outlinewidth": 0,
            "ticks": ""
           }
          },
          "colorscale": {
           "diverging": [
            [
             0,
             "#8e0152"
            ],
            [
             0.1,
             "#c51b7d"
            ],
            [
             0.2,
             "#de77ae"
            ],
            [
             0.3,
             "#f1b6da"
            ],
            [
             0.4,
             "#fde0ef"
            ],
            [
             0.5,
             "#f7f7f7"
            ],
            [
             0.6,
             "#e6f5d0"
            ],
            [
             0.7,
             "#b8e186"
            ],
            [
             0.8,
             "#7fbc41"
            ],
            [
             0.9,
             "#4d9221"
            ],
            [
             1,
             "#276419"
            ]
           ],
           "sequential": [
            [
             0,
             "#0d0887"
            ],
            [
             0.1111111111111111,
             "#46039f"
            ],
            [
             0.2222222222222222,
             "#7201a8"
            ],
            [
             0.3333333333333333,
             "#9c179e"
            ],
            [
             0.4444444444444444,
             "#bd3786"
            ],
            [
             0.5555555555555556,
             "#d8576b"
            ],
            [
             0.6666666666666666,
             "#ed7953"
            ],
            [
             0.7777777777777778,
             "#fb9f3a"
            ],
            [
             0.8888888888888888,
             "#fdca26"
            ],
            [
             1,
             "#f0f921"
            ]
           ],
           "sequentialminus": [
            [
             0,
             "#0d0887"
            ],
            [
             0.1111111111111111,
             "#46039f"
            ],
            [
             0.2222222222222222,
             "#7201a8"
            ],
            [
             0.3333333333333333,
             "#9c179e"
            ],
            [
             0.4444444444444444,
             "#bd3786"
            ],
            [
             0.5555555555555556,
             "#d8576b"
            ],
            [
             0.6666666666666666,
             "#ed7953"
            ],
            [
             0.7777777777777778,
             "#fb9f3a"
            ],
            [
             0.8888888888888888,
             "#fdca26"
            ],
            [
             1,
             "#f0f921"
            ]
           ]
          },
          "colorway": [
           "#636efa",
           "#EF553B",
           "#00cc96",
           "#ab63fa",
           "#FFA15A",
           "#19d3f3",
           "#FF6692",
           "#B6E880",
           "#FF97FF",
           "#FECB52"
          ],
          "font": {
           "color": "#2a3f5f"
          },
          "geo": {
           "bgcolor": "white",
           "lakecolor": "white",
           "landcolor": "#E5ECF6",
           "showlakes": true,
           "showland": true,
           "subunitcolor": "white"
          },
          "hoverlabel": {
           "align": "left"
          },
          "hovermode": "closest",
          "mapbox": {
           "style": "light"
          },
          "paper_bgcolor": "white",
          "plot_bgcolor": "#E5ECF6",
          "polar": {
           "angularaxis": {
            "gridcolor": "white",
            "linecolor": "white",
            "ticks": ""
           },
           "bgcolor": "#E5ECF6",
           "radialaxis": {
            "gridcolor": "white",
            "linecolor": "white",
            "ticks": ""
           }
          },
          "scene": {
           "xaxis": {
            "backgroundcolor": "#E5ECF6",
            "gridcolor": "white",
            "gridwidth": 2,
            "linecolor": "white",
            "showbackground": true,
            "ticks": "",
            "zerolinecolor": "white"
           },
           "yaxis": {
            "backgroundcolor": "#E5ECF6",
            "gridcolor": "white",
            "gridwidth": 2,
            "linecolor": "white",
            "showbackground": true,
            "ticks": "",
            "zerolinecolor": "white"
           },
           "zaxis": {
            "backgroundcolor": "#E5ECF6",
            "gridcolor": "white",
            "gridwidth": 2,
            "linecolor": "white",
            "showbackground": true,
            "ticks": "",
            "zerolinecolor": "white"
           }
          },
          "shapedefaults": {
           "line": {
            "color": "#2a3f5f"
           }
          },
          "ternary": {
           "aaxis": {
            "gridcolor": "white",
            "linecolor": "white",
            "ticks": ""
           },
           "baxis": {
            "gridcolor": "white",
            "linecolor": "white",
            "ticks": ""
           },
           "bgcolor": "#E5ECF6",
           "caxis": {
            "gridcolor": "white",
            "linecolor": "white",
            "ticks": ""
           }
          },
          "title": {
           "x": 0.05
          },
          "xaxis": {
           "automargin": true,
           "gridcolor": "white",
           "linecolor": "white",
           "ticks": "",
           "title": {
            "standoff": 15
           },
           "zerolinecolor": "white",
           "zerolinewidth": 2
          },
          "yaxis": {
           "automargin": true,
           "gridcolor": "white",
           "linecolor": "white",
           "ticks": "",
           "title": {
            "standoff": 15
           },
           "zerolinecolor": "white",
           "zerolinewidth": 2
          }
         }
        },
        "title": {
         "text": "Sample from a Normal Distribution"
        },
        "width": 800,
        "xaxis": {
         "anchor": "y",
         "domain": [
          0,
          1
         ],
         "title": {
          "text": "Normal"
         }
        },
        "yaxis": {
         "anchor": "x",
         "domain": [
          0,
          1
         ]
        }
       }
      }
     },
     "metadata": {},
     "output_type": "display_data"
    }
   ],
   "source": [
    "fig = px.box(df, x=\"Normal\", \n",
    "             color_discrete_sequence=['teal'],\n",
    "                 height = 500, width = 800,\n",
    "                 title='Sample from a Normal Distribution')\n",
    "fig.show()"
   ]
  },
  {
   "cell_type": "code",
   "execution_count": 10,
   "metadata": {},
   "outputs": [
    {
     "data": {
      "application/vnd.plotly.v1+json": {
       "config": {
        "plotlyServerURL": "https://plot.ly"
       },
       "data": [
        {
         "alignmentgroup": "True",
         "hovertemplate": "Normal=%{x}<extra></extra>",
         "legendgroup": "",
         "marker": {
          "color": "teal"
         },
         "name": "",
         "notched": true,
         "offsetgroup": "",
         "orientation": "h",
         "showlegend": false,
         "type": "box",
         "x": [
          0.7661340288013501,
          2.936432806963716,
          1.698715946697745,
          3.0727074963317897,
          1.4342313016003732,
          2.1066729722938344,
          2.752195346607073,
          1.1960416335283588,
          2.638625760804452,
          2.3187846195686066,
          1.5134087439556256,
          1.2320552857983493,
          3.0621907351647897,
          3.5005790849030385,
          3.222192998133994,
          0.8121517482052838,
          2.562811342572542,
          1.5094589548994035,
          2.0617095629885784,
          2.349453915820724,
          1.2133023300704542,
          1.2117744338342904,
          0.31979158708017996,
          1.2501441281815648,
          2.101793598098098,
          2.697786236074823,
          1.0722918812586357,
          1.3693506387877665,
          -0.4497388122183299,
          2.346175895744964,
          2.261963226946059,
          3.3299616334667412,
          3.4385904384306256,
          1.0824620059049213,
          3.2777597306834974,
          0.6451948567883088,
          3.066608776453147,
          2.0203996785827156,
          3.11174134362932,
          2.1037891481558124,
          1.2970672230328515,
          2.662209583624894,
          1.9737345351547175,
          2.6477285936774027,
          2.15735791756473,
          1.7685210770487219,
          1.685840314655774,
          3.028535367038306,
          1.326835403378332,
          -0.09604122523542458,
          1.9341510802078192,
          1.1699117826004417,
          2.014907168831193,
          4.066784001888998,
          3.227902989434626,
          1.2880938291738808,
          1.9927850653588637,
          2.6966929562262174,
          3.1290940780117342,
          1.8387259064931831,
          0.06380274263616403,
          0.749678366264886,
          3.8199592042987476,
          3.1553366079911065,
          2.1910347356492004,
          1.6360209258074028,
          0.5539081321553978,
          3.687128610766363,
          3.0353051495023093,
          2.6418765194818867,
          -0.21461339512721933,
          3.708304115229878,
          1.6538056080387138,
          2.733734859352322,
          3.1052752452195076,
          2.4039517831724773,
          0.390071088352669,
          2.185600727991858,
          2.3228781069295352,
          1.8428373669737603,
          2.943151660220919,
          1.2002935847728033,
          1.7653026555494944,
          1.6501856150938115,
          1.855776312128536,
          2.7319866321534163,
          1.0372917882797001,
          2.7416585218838554,
          1.7202194360088137,
          1.9421306804161407,
          1.6213470853011518,
          2.677972886420598,
          0.6155922291580456,
          1.263745722533566,
          2.2595407887649213,
          3.9667832703443686,
          2.99553955747048,
          1.8929768142073133,
          2.3921020498455,
          -0.07367848604366323,
          1.7805796277037846,
          2.2559334388607413,
          1.2959957430531182,
          2.475858445381354,
          1.2722256069439264,
          2.623343939643732,
          2.4056061673377354,
          1.476108555761344,
          1.4891891488345594,
          1.1553908403754973,
          2.1163349591689453,
          0.48397833498945597,
          2.572235905895739,
          2.1226753136722087,
          2.4932425791668122,
          1.5149228564061608,
          0.9601070321512668,
          0.392187461871343,
          0.35407827208853493,
          2.6380432934098548,
          2.427375765672821,
          1.5728221763641668,
          2.808836019506046,
          1.100318912859535,
          1.81857651375086,
          2.5599204545796717,
          1.7215464199781856,
          0.7531448413698072,
          2.8425163339904262,
          2.1784334283353606,
          2.6146043974609046,
          0.8258182238576364,
          2.278795279525711,
          3.368915704104741,
          0.5730076150207477,
          2.863625187787865,
          0.5782525104759493,
          0.2328596832981631,
          2.0750613047530355,
          1.3974685436375895,
          1.5090650727623152,
          1.4232038366306985,
          1.6190038483029543,
          2.860981056067043,
          3.2115061187387948,
          1.9882968929429756,
          1.249931935419911,
          1.9457553987078775,
          -1.1402417992840883,
          2.616680708184526,
          2.103779901541481,
          1.4273745245795515,
          2.0926009081767503,
          2.2611891539715225,
          1.6612251748575915,
          3.649546685542741,
          2.480677266891096,
          3.364769742472105,
          1.1080153667577355,
          0.31799126076786943,
          3.114079848036117,
          0.5078611940771562,
          1.1270857370374807,
          2.153159125398661,
          1.3724662618207863,
          2.7359375176436895,
          2.535477845680289,
          3.3702811555747503,
          1.8653214490333065,
          2.131592225213798,
          2.20548949605025,
          1.9942251718773336,
          2.6414079721524764,
          1.1473064660416359,
          -0.6197694957419402,
          1.7407051393009674,
          0.728944230217518,
          2.012838456749605,
          2.662369246327774,
          2.4032876418162505,
          1.7318206658310875,
          0.874466475744333,
          3.377638572793296,
          3.297625163894365,
          1.221004144840529,
          2.7843323213097504,
          0.7826886864356879,
          1.5612640685603956,
          2.490932299987094,
          0.5163794440733254,
          2.329233534170101,
          2.9907964912517975,
          3.074260429806548,
          2.942646633491941,
          3.1602817971522157,
          2.3402421183239825,
          2.443680015752832,
          2.1230839264084715,
          2.4088790070529735,
          3.0745703114993357
         ],
         "x0": " ",
         "xaxis": "x",
         "y0": " ",
         "yaxis": "y"
        }
       ],
       "layout": {
        "boxmode": "group",
        "height": 500,
        "legend": {
         "tracegroupgap": 0
        },
        "template": {
         "data": {
          "bar": [
           {
            "error_x": {
             "color": "#2a3f5f"
            },
            "error_y": {
             "color": "#2a3f5f"
            },
            "marker": {
             "line": {
              "color": "#E5ECF6",
              "width": 0.5
             },
             "pattern": {
              "fillmode": "overlay",
              "size": 10,
              "solidity": 0.2
             }
            },
            "type": "bar"
           }
          ],
          "barpolar": [
           {
            "marker": {
             "line": {
              "color": "#E5ECF6",
              "width": 0.5
             },
             "pattern": {
              "fillmode": "overlay",
              "size": 10,
              "solidity": 0.2
             }
            },
            "type": "barpolar"
           }
          ],
          "carpet": [
           {
            "aaxis": {
             "endlinecolor": "#2a3f5f",
             "gridcolor": "white",
             "linecolor": "white",
             "minorgridcolor": "white",
             "startlinecolor": "#2a3f5f"
            },
            "baxis": {
             "endlinecolor": "#2a3f5f",
             "gridcolor": "white",
             "linecolor": "white",
             "minorgridcolor": "white",
             "startlinecolor": "#2a3f5f"
            },
            "type": "carpet"
           }
          ],
          "choropleth": [
           {
            "colorbar": {
             "outlinewidth": 0,
             "ticks": ""
            },
            "type": "choropleth"
           }
          ],
          "contour": [
           {
            "colorbar": {
             "outlinewidth": 0,
             "ticks": ""
            },
            "colorscale": [
             [
              0,
              "#0d0887"
             ],
             [
              0.1111111111111111,
              "#46039f"
             ],
             [
              0.2222222222222222,
              "#7201a8"
             ],
             [
              0.3333333333333333,
              "#9c179e"
             ],
             [
              0.4444444444444444,
              "#bd3786"
             ],
             [
              0.5555555555555556,
              "#d8576b"
             ],
             [
              0.6666666666666666,
              "#ed7953"
             ],
             [
              0.7777777777777778,
              "#fb9f3a"
             ],
             [
              0.8888888888888888,
              "#fdca26"
             ],
             [
              1,
              "#f0f921"
             ]
            ],
            "type": "contour"
           }
          ],
          "contourcarpet": [
           {
            "colorbar": {
             "outlinewidth": 0,
             "ticks": ""
            },
            "type": "contourcarpet"
           }
          ],
          "heatmap": [
           {
            "colorbar": {
             "outlinewidth": 0,
             "ticks": ""
            },
            "colorscale": [
             [
              0,
              "#0d0887"
             ],
             [
              0.1111111111111111,
              "#46039f"
             ],
             [
              0.2222222222222222,
              "#7201a8"
             ],
             [
              0.3333333333333333,
              "#9c179e"
             ],
             [
              0.4444444444444444,
              "#bd3786"
             ],
             [
              0.5555555555555556,
              "#d8576b"
             ],
             [
              0.6666666666666666,
              "#ed7953"
             ],
             [
              0.7777777777777778,
              "#fb9f3a"
             ],
             [
              0.8888888888888888,
              "#fdca26"
             ],
             [
              1,
              "#f0f921"
             ]
            ],
            "type": "heatmap"
           }
          ],
          "heatmapgl": [
           {
            "colorbar": {
             "outlinewidth": 0,
             "ticks": ""
            },
            "colorscale": [
             [
              0,
              "#0d0887"
             ],
             [
              0.1111111111111111,
              "#46039f"
             ],
             [
              0.2222222222222222,
              "#7201a8"
             ],
             [
              0.3333333333333333,
              "#9c179e"
             ],
             [
              0.4444444444444444,
              "#bd3786"
             ],
             [
              0.5555555555555556,
              "#d8576b"
             ],
             [
              0.6666666666666666,
              "#ed7953"
             ],
             [
              0.7777777777777778,
              "#fb9f3a"
             ],
             [
              0.8888888888888888,
              "#fdca26"
             ],
             [
              1,
              "#f0f921"
             ]
            ],
            "type": "heatmapgl"
           }
          ],
          "histogram": [
           {
            "marker": {
             "pattern": {
              "fillmode": "overlay",
              "size": 10,
              "solidity": 0.2
             }
            },
            "type": "histogram"
           }
          ],
          "histogram2d": [
           {
            "colorbar": {
             "outlinewidth": 0,
             "ticks": ""
            },
            "colorscale": [
             [
              0,
              "#0d0887"
             ],
             [
              0.1111111111111111,
              "#46039f"
             ],
             [
              0.2222222222222222,
              "#7201a8"
             ],
             [
              0.3333333333333333,
              "#9c179e"
             ],
             [
              0.4444444444444444,
              "#bd3786"
             ],
             [
              0.5555555555555556,
              "#d8576b"
             ],
             [
              0.6666666666666666,
              "#ed7953"
             ],
             [
              0.7777777777777778,
              "#fb9f3a"
             ],
             [
              0.8888888888888888,
              "#fdca26"
             ],
             [
              1,
              "#f0f921"
             ]
            ],
            "type": "histogram2d"
           }
          ],
          "histogram2dcontour": [
           {
            "colorbar": {
             "outlinewidth": 0,
             "ticks": ""
            },
            "colorscale": [
             [
              0,
              "#0d0887"
             ],
             [
              0.1111111111111111,
              "#46039f"
             ],
             [
              0.2222222222222222,
              "#7201a8"
             ],
             [
              0.3333333333333333,
              "#9c179e"
             ],
             [
              0.4444444444444444,
              "#bd3786"
             ],
             [
              0.5555555555555556,
              "#d8576b"
             ],
             [
              0.6666666666666666,
              "#ed7953"
             ],
             [
              0.7777777777777778,
              "#fb9f3a"
             ],
             [
              0.8888888888888888,
              "#fdca26"
             ],
             [
              1,
              "#f0f921"
             ]
            ],
            "type": "histogram2dcontour"
           }
          ],
          "mesh3d": [
           {
            "colorbar": {
             "outlinewidth": 0,
             "ticks": ""
            },
            "type": "mesh3d"
           }
          ],
          "parcoords": [
           {
            "line": {
             "colorbar": {
              "outlinewidth": 0,
              "ticks": ""
             }
            },
            "type": "parcoords"
           }
          ],
          "pie": [
           {
            "automargin": true,
            "type": "pie"
           }
          ],
          "scatter": [
           {
            "fillpattern": {
             "fillmode": "overlay",
             "size": 10,
             "solidity": 0.2
            },
            "type": "scatter"
           }
          ],
          "scatter3d": [
           {
            "line": {
             "colorbar": {
              "outlinewidth": 0,
              "ticks": ""
             }
            },
            "marker": {
             "colorbar": {
              "outlinewidth": 0,
              "ticks": ""
             }
            },
            "type": "scatter3d"
           }
          ],
          "scattercarpet": [
           {
            "marker": {
             "colorbar": {
              "outlinewidth": 0,
              "ticks": ""
             }
            },
            "type": "scattercarpet"
           }
          ],
          "scattergeo": [
           {
            "marker": {
             "colorbar": {
              "outlinewidth": 0,
              "ticks": ""
             }
            },
            "type": "scattergeo"
           }
          ],
          "scattergl": [
           {
            "marker": {
             "colorbar": {
              "outlinewidth": 0,
              "ticks": ""
             }
            },
            "type": "scattergl"
           }
          ],
          "scattermapbox": [
           {
            "marker": {
             "colorbar": {
              "outlinewidth": 0,
              "ticks": ""
             }
            },
            "type": "scattermapbox"
           }
          ],
          "scatterpolar": [
           {
            "marker": {
             "colorbar": {
              "outlinewidth": 0,
              "ticks": ""
             }
            },
            "type": "scatterpolar"
           }
          ],
          "scatterpolargl": [
           {
            "marker": {
             "colorbar": {
              "outlinewidth": 0,
              "ticks": ""
             }
            },
            "type": "scatterpolargl"
           }
          ],
          "scatterternary": [
           {
            "marker": {
             "colorbar": {
              "outlinewidth": 0,
              "ticks": ""
             }
            },
            "type": "scatterternary"
           }
          ],
          "surface": [
           {
            "colorbar": {
             "outlinewidth": 0,
             "ticks": ""
            },
            "colorscale": [
             [
              0,
              "#0d0887"
             ],
             [
              0.1111111111111111,
              "#46039f"
             ],
             [
              0.2222222222222222,
              "#7201a8"
             ],
             [
              0.3333333333333333,
              "#9c179e"
             ],
             [
              0.4444444444444444,
              "#bd3786"
             ],
             [
              0.5555555555555556,
              "#d8576b"
             ],
             [
              0.6666666666666666,
              "#ed7953"
             ],
             [
              0.7777777777777778,
              "#fb9f3a"
             ],
             [
              0.8888888888888888,
              "#fdca26"
             ],
             [
              1,
              "#f0f921"
             ]
            ],
            "type": "surface"
           }
          ],
          "table": [
           {
            "cells": {
             "fill": {
              "color": "#EBF0F8"
             },
             "line": {
              "color": "white"
             }
            },
            "header": {
             "fill": {
              "color": "#C8D4E3"
             },
             "line": {
              "color": "white"
             }
            },
            "type": "table"
           }
          ]
         },
         "layout": {
          "annotationdefaults": {
           "arrowcolor": "#2a3f5f",
           "arrowhead": 0,
           "arrowwidth": 1
          },
          "autotypenumbers": "strict",
          "coloraxis": {
           "colorbar": {
            "outlinewidth": 0,
            "ticks": ""
           }
          },
          "colorscale": {
           "diverging": [
            [
             0,
             "#8e0152"
            ],
            [
             0.1,
             "#c51b7d"
            ],
            [
             0.2,
             "#de77ae"
            ],
            [
             0.3,
             "#f1b6da"
            ],
            [
             0.4,
             "#fde0ef"
            ],
            [
             0.5,
             "#f7f7f7"
            ],
            [
             0.6,
             "#e6f5d0"
            ],
            [
             0.7,
             "#b8e186"
            ],
            [
             0.8,
             "#7fbc41"
            ],
            [
             0.9,
             "#4d9221"
            ],
            [
             1,
             "#276419"
            ]
           ],
           "sequential": [
            [
             0,
             "#0d0887"
            ],
            [
             0.1111111111111111,
             "#46039f"
            ],
            [
             0.2222222222222222,
             "#7201a8"
            ],
            [
             0.3333333333333333,
             "#9c179e"
            ],
            [
             0.4444444444444444,
             "#bd3786"
            ],
            [
             0.5555555555555556,
             "#d8576b"
            ],
            [
             0.6666666666666666,
             "#ed7953"
            ],
            [
             0.7777777777777778,
             "#fb9f3a"
            ],
            [
             0.8888888888888888,
             "#fdca26"
            ],
            [
             1,
             "#f0f921"
            ]
           ],
           "sequentialminus": [
            [
             0,
             "#0d0887"
            ],
            [
             0.1111111111111111,
             "#46039f"
            ],
            [
             0.2222222222222222,
             "#7201a8"
            ],
            [
             0.3333333333333333,
             "#9c179e"
            ],
            [
             0.4444444444444444,
             "#bd3786"
            ],
            [
             0.5555555555555556,
             "#d8576b"
            ],
            [
             0.6666666666666666,
             "#ed7953"
            ],
            [
             0.7777777777777778,
             "#fb9f3a"
            ],
            [
             0.8888888888888888,
             "#fdca26"
            ],
            [
             1,
             "#f0f921"
            ]
           ]
          },
          "colorway": [
           "#636efa",
           "#EF553B",
           "#00cc96",
           "#ab63fa",
           "#FFA15A",
           "#19d3f3",
           "#FF6692",
           "#B6E880",
           "#FF97FF",
           "#FECB52"
          ],
          "font": {
           "color": "#2a3f5f"
          },
          "geo": {
           "bgcolor": "white",
           "lakecolor": "white",
           "landcolor": "#E5ECF6",
           "showlakes": true,
           "showland": true,
           "subunitcolor": "white"
          },
          "hoverlabel": {
           "align": "left"
          },
          "hovermode": "closest",
          "mapbox": {
           "style": "light"
          },
          "paper_bgcolor": "white",
          "plot_bgcolor": "#E5ECF6",
          "polar": {
           "angularaxis": {
            "gridcolor": "white",
            "linecolor": "white",
            "ticks": ""
           },
           "bgcolor": "#E5ECF6",
           "radialaxis": {
            "gridcolor": "white",
            "linecolor": "white",
            "ticks": ""
           }
          },
          "scene": {
           "xaxis": {
            "backgroundcolor": "#E5ECF6",
            "gridcolor": "white",
            "gridwidth": 2,
            "linecolor": "white",
            "showbackground": true,
            "ticks": "",
            "zerolinecolor": "white"
           },
           "yaxis": {
            "backgroundcolor": "#E5ECF6",
            "gridcolor": "white",
            "gridwidth": 2,
            "linecolor": "white",
            "showbackground": true,
            "ticks": "",
            "zerolinecolor": "white"
           },
           "zaxis": {
            "backgroundcolor": "#E5ECF6",
            "gridcolor": "white",
            "gridwidth": 2,
            "linecolor": "white",
            "showbackground": true,
            "ticks": "",
            "zerolinecolor": "white"
           }
          },
          "shapedefaults": {
           "line": {
            "color": "#2a3f5f"
           }
          },
          "ternary": {
           "aaxis": {
            "gridcolor": "white",
            "linecolor": "white",
            "ticks": ""
           },
           "baxis": {
            "gridcolor": "white",
            "linecolor": "white",
            "ticks": ""
           },
           "bgcolor": "#E5ECF6",
           "caxis": {
            "gridcolor": "white",
            "linecolor": "white",
            "ticks": ""
           }
          },
          "title": {
           "x": 0.05
          },
          "xaxis": {
           "automargin": true,
           "gridcolor": "white",
           "linecolor": "white",
           "ticks": "",
           "title": {
            "standoff": 15
           },
           "zerolinecolor": "white",
           "zerolinewidth": 2
          },
          "yaxis": {
           "automargin": true,
           "gridcolor": "white",
           "linecolor": "white",
           "ticks": "",
           "title": {
            "standoff": 15
           },
           "zerolinecolor": "white",
           "zerolinewidth": 2
          }
         }
        },
        "title": {
         "text": "Sample from a Normal Distribution"
        },
        "width": 800,
        "xaxis": {
         "anchor": "y",
         "domain": [
          0,
          1
         ],
         "title": {
          "text": "Normal"
         }
        },
        "yaxis": {
         "anchor": "x",
         "domain": [
          0,
          1
         ]
        }
       }
      }
     },
     "metadata": {},
     "output_type": "display_data"
    }
   ],
   "source": [
    "fig = px.box(df, x=\"Normal\", \n",
    "             notched = True,\n",
    "             color_discrete_sequence=['teal'],\n",
    "             height = 500, width = 800,\n",
    "             title='Sample from a Normal Distribution')\n",
    "fig.show()"
   ]
  },
  {
   "cell_type": "code",
   "execution_count": 11,
   "metadata": {},
   "outputs": [
    {
     "data": {
      "application/vnd.plotly.v1+json": {
       "config": {
        "plotlyServerURL": "https://plot.ly"
       },
       "data": [
        {
         "alignmentgroup": "True",
         "boxpoints": "suspectedoutliers",
         "hovertemplate": "Normal=%{x}<extra></extra>",
         "legendgroup": "",
         "marker": {
          "color": "orange"
         },
         "name": "",
         "notched": true,
         "offsetgroup": "",
         "orientation": "h",
         "showlegend": false,
         "type": "box",
         "x": [
          0.7661340288013501,
          2.936432806963716,
          1.698715946697745,
          3.0727074963317897,
          1.4342313016003732,
          2.1066729722938344,
          2.752195346607073,
          1.1960416335283588,
          2.638625760804452,
          2.3187846195686066,
          1.5134087439556256,
          1.2320552857983493,
          3.0621907351647897,
          3.5005790849030385,
          3.222192998133994,
          0.8121517482052838,
          2.562811342572542,
          1.5094589548994035,
          2.0617095629885784,
          2.349453915820724,
          1.2133023300704542,
          1.2117744338342904,
          0.31979158708017996,
          1.2501441281815648,
          2.101793598098098,
          2.697786236074823,
          1.0722918812586357,
          1.3693506387877665,
          -0.4497388122183299,
          2.346175895744964,
          2.261963226946059,
          3.3299616334667412,
          3.4385904384306256,
          1.0824620059049213,
          3.2777597306834974,
          0.6451948567883088,
          3.066608776453147,
          2.0203996785827156,
          3.11174134362932,
          2.1037891481558124,
          1.2970672230328515,
          2.662209583624894,
          1.9737345351547175,
          2.6477285936774027,
          2.15735791756473,
          1.7685210770487219,
          1.685840314655774,
          3.028535367038306,
          1.326835403378332,
          -0.09604122523542458,
          1.9341510802078192,
          1.1699117826004417,
          2.014907168831193,
          4.066784001888998,
          3.227902989434626,
          1.2880938291738808,
          1.9927850653588637,
          2.6966929562262174,
          3.1290940780117342,
          1.8387259064931831,
          0.06380274263616403,
          0.749678366264886,
          3.8199592042987476,
          3.1553366079911065,
          2.1910347356492004,
          1.6360209258074028,
          0.5539081321553978,
          3.687128610766363,
          3.0353051495023093,
          2.6418765194818867,
          -0.21461339512721933,
          3.708304115229878,
          1.6538056080387138,
          2.733734859352322,
          3.1052752452195076,
          2.4039517831724773,
          0.390071088352669,
          2.185600727991858,
          2.3228781069295352,
          1.8428373669737603,
          2.943151660220919,
          1.2002935847728033,
          1.7653026555494944,
          1.6501856150938115,
          1.855776312128536,
          2.7319866321534163,
          1.0372917882797001,
          2.7416585218838554,
          1.7202194360088137,
          1.9421306804161407,
          1.6213470853011518,
          2.677972886420598,
          0.6155922291580456,
          1.263745722533566,
          2.2595407887649213,
          3.9667832703443686,
          2.99553955747048,
          1.8929768142073133,
          2.3921020498455,
          -0.07367848604366323,
          1.7805796277037846,
          2.2559334388607413,
          1.2959957430531182,
          2.475858445381354,
          1.2722256069439264,
          2.623343939643732,
          2.4056061673377354,
          1.476108555761344,
          1.4891891488345594,
          1.1553908403754973,
          2.1163349591689453,
          0.48397833498945597,
          2.572235905895739,
          2.1226753136722087,
          2.4932425791668122,
          1.5149228564061608,
          0.9601070321512668,
          0.392187461871343,
          0.35407827208853493,
          2.6380432934098548,
          2.427375765672821,
          1.5728221763641668,
          2.808836019506046,
          1.100318912859535,
          1.81857651375086,
          2.5599204545796717,
          1.7215464199781856,
          0.7531448413698072,
          2.8425163339904262,
          2.1784334283353606,
          2.6146043974609046,
          0.8258182238576364,
          2.278795279525711,
          3.368915704104741,
          0.5730076150207477,
          2.863625187787865,
          0.5782525104759493,
          0.2328596832981631,
          2.0750613047530355,
          1.3974685436375895,
          1.5090650727623152,
          1.4232038366306985,
          1.6190038483029543,
          2.860981056067043,
          3.2115061187387948,
          1.9882968929429756,
          1.249931935419911,
          1.9457553987078775,
          -1.1402417992840883,
          2.616680708184526,
          2.103779901541481,
          1.4273745245795515,
          2.0926009081767503,
          2.2611891539715225,
          1.6612251748575915,
          3.649546685542741,
          2.480677266891096,
          3.364769742472105,
          1.1080153667577355,
          0.31799126076786943,
          3.114079848036117,
          0.5078611940771562,
          1.1270857370374807,
          2.153159125398661,
          1.3724662618207863,
          2.7359375176436895,
          2.535477845680289,
          3.3702811555747503,
          1.8653214490333065,
          2.131592225213798,
          2.20548949605025,
          1.9942251718773336,
          2.6414079721524764,
          1.1473064660416359,
          -0.6197694957419402,
          1.7407051393009674,
          0.728944230217518,
          2.012838456749605,
          2.662369246327774,
          2.4032876418162505,
          1.7318206658310875,
          0.874466475744333,
          3.377638572793296,
          3.297625163894365,
          1.221004144840529,
          2.7843323213097504,
          0.7826886864356879,
          1.5612640685603956,
          2.490932299987094,
          0.5163794440733254,
          2.329233534170101,
          2.9907964912517975,
          3.074260429806548,
          2.942646633491941,
          3.1602817971522157,
          2.3402421183239825,
          2.443680015752832,
          2.1230839264084715,
          2.4088790070529735,
          3.0745703114993357
         ],
         "x0": " ",
         "xaxis": "x",
         "y0": " ",
         "yaxis": "y"
        }
       ],
       "layout": {
        "boxmode": "group",
        "height": 500,
        "legend": {
         "tracegroupgap": 0
        },
        "template": {
         "data": {
          "bar": [
           {
            "error_x": {
             "color": "#2a3f5f"
            },
            "error_y": {
             "color": "#2a3f5f"
            },
            "marker": {
             "line": {
              "color": "#E5ECF6",
              "width": 0.5
             },
             "pattern": {
              "fillmode": "overlay",
              "size": 10,
              "solidity": 0.2
             }
            },
            "type": "bar"
           }
          ],
          "barpolar": [
           {
            "marker": {
             "line": {
              "color": "#E5ECF6",
              "width": 0.5
             },
             "pattern": {
              "fillmode": "overlay",
              "size": 10,
              "solidity": 0.2
             }
            },
            "type": "barpolar"
           }
          ],
          "carpet": [
           {
            "aaxis": {
             "endlinecolor": "#2a3f5f",
             "gridcolor": "white",
             "linecolor": "white",
             "minorgridcolor": "white",
             "startlinecolor": "#2a3f5f"
            },
            "baxis": {
             "endlinecolor": "#2a3f5f",
             "gridcolor": "white",
             "linecolor": "white",
             "minorgridcolor": "white",
             "startlinecolor": "#2a3f5f"
            },
            "type": "carpet"
           }
          ],
          "choropleth": [
           {
            "colorbar": {
             "outlinewidth": 0,
             "ticks": ""
            },
            "type": "choropleth"
           }
          ],
          "contour": [
           {
            "colorbar": {
             "outlinewidth": 0,
             "ticks": ""
            },
            "colorscale": [
             [
              0,
              "#0d0887"
             ],
             [
              0.1111111111111111,
              "#46039f"
             ],
             [
              0.2222222222222222,
              "#7201a8"
             ],
             [
              0.3333333333333333,
              "#9c179e"
             ],
             [
              0.4444444444444444,
              "#bd3786"
             ],
             [
              0.5555555555555556,
              "#d8576b"
             ],
             [
              0.6666666666666666,
              "#ed7953"
             ],
             [
              0.7777777777777778,
              "#fb9f3a"
             ],
             [
              0.8888888888888888,
              "#fdca26"
             ],
             [
              1,
              "#f0f921"
             ]
            ],
            "type": "contour"
           }
          ],
          "contourcarpet": [
           {
            "colorbar": {
             "outlinewidth": 0,
             "ticks": ""
            },
            "type": "contourcarpet"
           }
          ],
          "heatmap": [
           {
            "colorbar": {
             "outlinewidth": 0,
             "ticks": ""
            },
            "colorscale": [
             [
              0,
              "#0d0887"
             ],
             [
              0.1111111111111111,
              "#46039f"
             ],
             [
              0.2222222222222222,
              "#7201a8"
             ],
             [
              0.3333333333333333,
              "#9c179e"
             ],
             [
              0.4444444444444444,
              "#bd3786"
             ],
             [
              0.5555555555555556,
              "#d8576b"
             ],
             [
              0.6666666666666666,
              "#ed7953"
             ],
             [
              0.7777777777777778,
              "#fb9f3a"
             ],
             [
              0.8888888888888888,
              "#fdca26"
             ],
             [
              1,
              "#f0f921"
             ]
            ],
            "type": "heatmap"
           }
          ],
          "heatmapgl": [
           {
            "colorbar": {
             "outlinewidth": 0,
             "ticks": ""
            },
            "colorscale": [
             [
              0,
              "#0d0887"
             ],
             [
              0.1111111111111111,
              "#46039f"
             ],
             [
              0.2222222222222222,
              "#7201a8"
             ],
             [
              0.3333333333333333,
              "#9c179e"
             ],
             [
              0.4444444444444444,
              "#bd3786"
             ],
             [
              0.5555555555555556,
              "#d8576b"
             ],
             [
              0.6666666666666666,
              "#ed7953"
             ],
             [
              0.7777777777777778,
              "#fb9f3a"
             ],
             [
              0.8888888888888888,
              "#fdca26"
             ],
             [
              1,
              "#f0f921"
             ]
            ],
            "type": "heatmapgl"
           }
          ],
          "histogram": [
           {
            "marker": {
             "pattern": {
              "fillmode": "overlay",
              "size": 10,
              "solidity": 0.2
             }
            },
            "type": "histogram"
           }
          ],
          "histogram2d": [
           {
            "colorbar": {
             "outlinewidth": 0,
             "ticks": ""
            },
            "colorscale": [
             [
              0,
              "#0d0887"
             ],
             [
              0.1111111111111111,
              "#46039f"
             ],
             [
              0.2222222222222222,
              "#7201a8"
             ],
             [
              0.3333333333333333,
              "#9c179e"
             ],
             [
              0.4444444444444444,
              "#bd3786"
             ],
             [
              0.5555555555555556,
              "#d8576b"
             ],
             [
              0.6666666666666666,
              "#ed7953"
             ],
             [
              0.7777777777777778,
              "#fb9f3a"
             ],
             [
              0.8888888888888888,
              "#fdca26"
             ],
             [
              1,
              "#f0f921"
             ]
            ],
            "type": "histogram2d"
           }
          ],
          "histogram2dcontour": [
           {
            "colorbar": {
             "outlinewidth": 0,
             "ticks": ""
            },
            "colorscale": [
             [
              0,
              "#0d0887"
             ],
             [
              0.1111111111111111,
              "#46039f"
             ],
             [
              0.2222222222222222,
              "#7201a8"
             ],
             [
              0.3333333333333333,
              "#9c179e"
             ],
             [
              0.4444444444444444,
              "#bd3786"
             ],
             [
              0.5555555555555556,
              "#d8576b"
             ],
             [
              0.6666666666666666,
              "#ed7953"
             ],
             [
              0.7777777777777778,
              "#fb9f3a"
             ],
             [
              0.8888888888888888,
              "#fdca26"
             ],
             [
              1,
              "#f0f921"
             ]
            ],
            "type": "histogram2dcontour"
           }
          ],
          "mesh3d": [
           {
            "colorbar": {
             "outlinewidth": 0,
             "ticks": ""
            },
            "type": "mesh3d"
           }
          ],
          "parcoords": [
           {
            "line": {
             "colorbar": {
              "outlinewidth": 0,
              "ticks": ""
             }
            },
            "type": "parcoords"
           }
          ],
          "pie": [
           {
            "automargin": true,
            "type": "pie"
           }
          ],
          "scatter": [
           {
            "fillpattern": {
             "fillmode": "overlay",
             "size": 10,
             "solidity": 0.2
            },
            "type": "scatter"
           }
          ],
          "scatter3d": [
           {
            "line": {
             "colorbar": {
              "outlinewidth": 0,
              "ticks": ""
             }
            },
            "marker": {
             "colorbar": {
              "outlinewidth": 0,
              "ticks": ""
             }
            },
            "type": "scatter3d"
           }
          ],
          "scattercarpet": [
           {
            "marker": {
             "colorbar": {
              "outlinewidth": 0,
              "ticks": ""
             }
            },
            "type": "scattercarpet"
           }
          ],
          "scattergeo": [
           {
            "marker": {
             "colorbar": {
              "outlinewidth": 0,
              "ticks": ""
             }
            },
            "type": "scattergeo"
           }
          ],
          "scattergl": [
           {
            "marker": {
             "colorbar": {
              "outlinewidth": 0,
              "ticks": ""
             }
            },
            "type": "scattergl"
           }
          ],
          "scattermapbox": [
           {
            "marker": {
             "colorbar": {
              "outlinewidth": 0,
              "ticks": ""
             }
            },
            "type": "scattermapbox"
           }
          ],
          "scatterpolar": [
           {
            "marker": {
             "colorbar": {
              "outlinewidth": 0,
              "ticks": ""
             }
            },
            "type": "scatterpolar"
           }
          ],
          "scatterpolargl": [
           {
            "marker": {
             "colorbar": {
              "outlinewidth": 0,
              "ticks": ""
             }
            },
            "type": "scatterpolargl"
           }
          ],
          "scatterternary": [
           {
            "marker": {
             "colorbar": {
              "outlinewidth": 0,
              "ticks": ""
             }
            },
            "type": "scatterternary"
           }
          ],
          "surface": [
           {
            "colorbar": {
             "outlinewidth": 0,
             "ticks": ""
            },
            "colorscale": [
             [
              0,
              "#0d0887"
             ],
             [
              0.1111111111111111,
              "#46039f"
             ],
             [
              0.2222222222222222,
              "#7201a8"
             ],
             [
              0.3333333333333333,
              "#9c179e"
             ],
             [
              0.4444444444444444,
              "#bd3786"
             ],
             [
              0.5555555555555556,
              "#d8576b"
             ],
             [
              0.6666666666666666,
              "#ed7953"
             ],
             [
              0.7777777777777778,
              "#fb9f3a"
             ],
             [
              0.8888888888888888,
              "#fdca26"
             ],
             [
              1,
              "#f0f921"
             ]
            ],
            "type": "surface"
           }
          ],
          "table": [
           {
            "cells": {
             "fill": {
              "color": "#EBF0F8"
             },
             "line": {
              "color": "white"
             }
            },
            "header": {
             "fill": {
              "color": "#C8D4E3"
             },
             "line": {
              "color": "white"
             }
            },
            "type": "table"
           }
          ]
         },
         "layout": {
          "annotationdefaults": {
           "arrowcolor": "#2a3f5f",
           "arrowhead": 0,
           "arrowwidth": 1
          },
          "autotypenumbers": "strict",
          "coloraxis": {
           "colorbar": {
            "outlinewidth": 0,
            "ticks": ""
           }
          },
          "colorscale": {
           "diverging": [
            [
             0,
             "#8e0152"
            ],
            [
             0.1,
             "#c51b7d"
            ],
            [
             0.2,
             "#de77ae"
            ],
            [
             0.3,
             "#f1b6da"
            ],
            [
             0.4,
             "#fde0ef"
            ],
            [
             0.5,
             "#f7f7f7"
            ],
            [
             0.6,
             "#e6f5d0"
            ],
            [
             0.7,
             "#b8e186"
            ],
            [
             0.8,
             "#7fbc41"
            ],
            [
             0.9,
             "#4d9221"
            ],
            [
             1,
             "#276419"
            ]
           ],
           "sequential": [
            [
             0,
             "#0d0887"
            ],
            [
             0.1111111111111111,
             "#46039f"
            ],
            [
             0.2222222222222222,
             "#7201a8"
            ],
            [
             0.3333333333333333,
             "#9c179e"
            ],
            [
             0.4444444444444444,
             "#bd3786"
            ],
            [
             0.5555555555555556,
             "#d8576b"
            ],
            [
             0.6666666666666666,
             "#ed7953"
            ],
            [
             0.7777777777777778,
             "#fb9f3a"
            ],
            [
             0.8888888888888888,
             "#fdca26"
            ],
            [
             1,
             "#f0f921"
            ]
           ],
           "sequentialminus": [
            [
             0,
             "#0d0887"
            ],
            [
             0.1111111111111111,
             "#46039f"
            ],
            [
             0.2222222222222222,
             "#7201a8"
            ],
            [
             0.3333333333333333,
             "#9c179e"
            ],
            [
             0.4444444444444444,
             "#bd3786"
            ],
            [
             0.5555555555555556,
             "#d8576b"
            ],
            [
             0.6666666666666666,
             "#ed7953"
            ],
            [
             0.7777777777777778,
             "#fb9f3a"
            ],
            [
             0.8888888888888888,
             "#fdca26"
            ],
            [
             1,
             "#f0f921"
            ]
           ]
          },
          "colorway": [
           "#636efa",
           "#EF553B",
           "#00cc96",
           "#ab63fa",
           "#FFA15A",
           "#19d3f3",
           "#FF6692",
           "#B6E880",
           "#FF97FF",
           "#FECB52"
          ],
          "font": {
           "color": "#2a3f5f"
          },
          "geo": {
           "bgcolor": "white",
           "lakecolor": "white",
           "landcolor": "#E5ECF6",
           "showlakes": true,
           "showland": true,
           "subunitcolor": "white"
          },
          "hoverlabel": {
           "align": "left"
          },
          "hovermode": "closest",
          "mapbox": {
           "style": "light"
          },
          "paper_bgcolor": "white",
          "plot_bgcolor": "#E5ECF6",
          "polar": {
           "angularaxis": {
            "gridcolor": "white",
            "linecolor": "white",
            "ticks": ""
           },
           "bgcolor": "#E5ECF6",
           "radialaxis": {
            "gridcolor": "white",
            "linecolor": "white",
            "ticks": ""
           }
          },
          "scene": {
           "xaxis": {
            "backgroundcolor": "#E5ECF6",
            "gridcolor": "white",
            "gridwidth": 2,
            "linecolor": "white",
            "showbackground": true,
            "ticks": "",
            "zerolinecolor": "white"
           },
           "yaxis": {
            "backgroundcolor": "#E5ECF6",
            "gridcolor": "white",
            "gridwidth": 2,
            "linecolor": "white",
            "showbackground": true,
            "ticks": "",
            "zerolinecolor": "white"
           },
           "zaxis": {
            "backgroundcolor": "#E5ECF6",
            "gridcolor": "white",
            "gridwidth": 2,
            "linecolor": "white",
            "showbackground": true,
            "ticks": "",
            "zerolinecolor": "white"
           }
          },
          "shapedefaults": {
           "line": {
            "color": "#2a3f5f"
           }
          },
          "ternary": {
           "aaxis": {
            "gridcolor": "white",
            "linecolor": "white",
            "ticks": ""
           },
           "baxis": {
            "gridcolor": "white",
            "linecolor": "white",
            "ticks": ""
           },
           "bgcolor": "#E5ECF6",
           "caxis": {
            "gridcolor": "white",
            "linecolor": "white",
            "ticks": ""
           }
          },
          "title": {
           "x": 0.05
          },
          "xaxis": {
           "automargin": true,
           "gridcolor": "white",
           "linecolor": "white",
           "ticks": "",
           "title": {
            "standoff": 15
           },
           "zerolinecolor": "white",
           "zerolinewidth": 2
          },
          "yaxis": {
           "automargin": true,
           "gridcolor": "white",
           "linecolor": "white",
           "ticks": "",
           "title": {
            "standoff": 15
           },
           "zerolinecolor": "white",
           "zerolinewidth": 2
          }
         }
        },
        "title": {
         "text": "Sample from a Normal Distribution"
        },
        "width": 800,
        "xaxis": {
         "anchor": "y",
         "domain": [
          0,
          1
         ],
         "title": {
          "text": "Normal"
         }
        },
        "yaxis": {
         "anchor": "x",
         "domain": [
          0,
          1
         ]
        }
       }
      }
     },
     "metadata": {},
     "output_type": "display_data"
    }
   ],
   "source": [
    "fig = px.box(df, x=\"Normal\",\n",
    "             points=\"suspectedoutliers\",\n",
    "             notched = True,\n",
    "             color_discrete_sequence=['orange'],\n",
    "             height = 500, width = 800,\n",
    "             title='Sample from a Normal Distribution')\n",
    "fig.show()"
   ]
  },
  {
   "cell_type": "code",
   "execution_count": 12,
   "metadata": {},
   "outputs": [
    {
     "data": {
      "application/vnd.plotly.v1+json": {
       "config": {
        "plotlyServerURL": "https://plot.ly"
       },
       "data": [
        {
         "alignmentgroup": "True",
         "boxpoints": "all",
         "hovertemplate": "Normal=%{x}<extra></extra>",
         "legendgroup": "",
         "marker": {
          "color": "purple"
         },
         "name": "",
         "notched": true,
         "offsetgroup": "",
         "orientation": "h",
         "showlegend": false,
         "type": "box",
         "x": [
          0.7661340288013501,
          2.936432806963716,
          1.698715946697745,
          3.0727074963317897,
          1.4342313016003732,
          2.1066729722938344,
          2.752195346607073,
          1.1960416335283588,
          2.638625760804452,
          2.3187846195686066,
          1.5134087439556256,
          1.2320552857983493,
          3.0621907351647897,
          3.5005790849030385,
          3.222192998133994,
          0.8121517482052838,
          2.562811342572542,
          1.5094589548994035,
          2.0617095629885784,
          2.349453915820724,
          1.2133023300704542,
          1.2117744338342904,
          0.31979158708017996,
          1.2501441281815648,
          2.101793598098098,
          2.697786236074823,
          1.0722918812586357,
          1.3693506387877665,
          -0.4497388122183299,
          2.346175895744964,
          2.261963226946059,
          3.3299616334667412,
          3.4385904384306256,
          1.0824620059049213,
          3.2777597306834974,
          0.6451948567883088,
          3.066608776453147,
          2.0203996785827156,
          3.11174134362932,
          2.1037891481558124,
          1.2970672230328515,
          2.662209583624894,
          1.9737345351547175,
          2.6477285936774027,
          2.15735791756473,
          1.7685210770487219,
          1.685840314655774,
          3.028535367038306,
          1.326835403378332,
          -0.09604122523542458,
          1.9341510802078192,
          1.1699117826004417,
          2.014907168831193,
          4.066784001888998,
          3.227902989434626,
          1.2880938291738808,
          1.9927850653588637,
          2.6966929562262174,
          3.1290940780117342,
          1.8387259064931831,
          0.06380274263616403,
          0.749678366264886,
          3.8199592042987476,
          3.1553366079911065,
          2.1910347356492004,
          1.6360209258074028,
          0.5539081321553978,
          3.687128610766363,
          3.0353051495023093,
          2.6418765194818867,
          -0.21461339512721933,
          3.708304115229878,
          1.6538056080387138,
          2.733734859352322,
          3.1052752452195076,
          2.4039517831724773,
          0.390071088352669,
          2.185600727991858,
          2.3228781069295352,
          1.8428373669737603,
          2.943151660220919,
          1.2002935847728033,
          1.7653026555494944,
          1.6501856150938115,
          1.855776312128536,
          2.7319866321534163,
          1.0372917882797001,
          2.7416585218838554,
          1.7202194360088137,
          1.9421306804161407,
          1.6213470853011518,
          2.677972886420598,
          0.6155922291580456,
          1.263745722533566,
          2.2595407887649213,
          3.9667832703443686,
          2.99553955747048,
          1.8929768142073133,
          2.3921020498455,
          -0.07367848604366323,
          1.7805796277037846,
          2.2559334388607413,
          1.2959957430531182,
          2.475858445381354,
          1.2722256069439264,
          2.623343939643732,
          2.4056061673377354,
          1.476108555761344,
          1.4891891488345594,
          1.1553908403754973,
          2.1163349591689453,
          0.48397833498945597,
          2.572235905895739,
          2.1226753136722087,
          2.4932425791668122,
          1.5149228564061608,
          0.9601070321512668,
          0.392187461871343,
          0.35407827208853493,
          2.6380432934098548,
          2.427375765672821,
          1.5728221763641668,
          2.808836019506046,
          1.100318912859535,
          1.81857651375086,
          2.5599204545796717,
          1.7215464199781856,
          0.7531448413698072,
          2.8425163339904262,
          2.1784334283353606,
          2.6146043974609046,
          0.8258182238576364,
          2.278795279525711,
          3.368915704104741,
          0.5730076150207477,
          2.863625187787865,
          0.5782525104759493,
          0.2328596832981631,
          2.0750613047530355,
          1.3974685436375895,
          1.5090650727623152,
          1.4232038366306985,
          1.6190038483029543,
          2.860981056067043,
          3.2115061187387948,
          1.9882968929429756,
          1.249931935419911,
          1.9457553987078775,
          -1.1402417992840883,
          2.616680708184526,
          2.103779901541481,
          1.4273745245795515,
          2.0926009081767503,
          2.2611891539715225,
          1.6612251748575915,
          3.649546685542741,
          2.480677266891096,
          3.364769742472105,
          1.1080153667577355,
          0.31799126076786943,
          3.114079848036117,
          0.5078611940771562,
          1.1270857370374807,
          2.153159125398661,
          1.3724662618207863,
          2.7359375176436895,
          2.535477845680289,
          3.3702811555747503,
          1.8653214490333065,
          2.131592225213798,
          2.20548949605025,
          1.9942251718773336,
          2.6414079721524764,
          1.1473064660416359,
          -0.6197694957419402,
          1.7407051393009674,
          0.728944230217518,
          2.012838456749605,
          2.662369246327774,
          2.4032876418162505,
          1.7318206658310875,
          0.874466475744333,
          3.377638572793296,
          3.297625163894365,
          1.221004144840529,
          2.7843323213097504,
          0.7826886864356879,
          1.5612640685603956,
          2.490932299987094,
          0.5163794440733254,
          2.329233534170101,
          2.9907964912517975,
          3.074260429806548,
          2.942646633491941,
          3.1602817971522157,
          2.3402421183239825,
          2.443680015752832,
          2.1230839264084715,
          2.4088790070529735,
          3.0745703114993357
         ],
         "x0": " ",
         "xaxis": "x",
         "y0": " ",
         "yaxis": "y"
        }
       ],
       "layout": {
        "boxmode": "group",
        "height": 500,
        "legend": {
         "tracegroupgap": 0
        },
        "template": {
         "data": {
          "bar": [
           {
            "error_x": {
             "color": "#2a3f5f"
            },
            "error_y": {
             "color": "#2a3f5f"
            },
            "marker": {
             "line": {
              "color": "#E5ECF6",
              "width": 0.5
             },
             "pattern": {
              "fillmode": "overlay",
              "size": 10,
              "solidity": 0.2
             }
            },
            "type": "bar"
           }
          ],
          "barpolar": [
           {
            "marker": {
             "line": {
              "color": "#E5ECF6",
              "width": 0.5
             },
             "pattern": {
              "fillmode": "overlay",
              "size": 10,
              "solidity": 0.2
             }
            },
            "type": "barpolar"
           }
          ],
          "carpet": [
           {
            "aaxis": {
             "endlinecolor": "#2a3f5f",
             "gridcolor": "white",
             "linecolor": "white",
             "minorgridcolor": "white",
             "startlinecolor": "#2a3f5f"
            },
            "baxis": {
             "endlinecolor": "#2a3f5f",
             "gridcolor": "white",
             "linecolor": "white",
             "minorgridcolor": "white",
             "startlinecolor": "#2a3f5f"
            },
            "type": "carpet"
           }
          ],
          "choropleth": [
           {
            "colorbar": {
             "outlinewidth": 0,
             "ticks": ""
            },
            "type": "choropleth"
           }
          ],
          "contour": [
           {
            "colorbar": {
             "outlinewidth": 0,
             "ticks": ""
            },
            "colorscale": [
             [
              0,
              "#0d0887"
             ],
             [
              0.1111111111111111,
              "#46039f"
             ],
             [
              0.2222222222222222,
              "#7201a8"
             ],
             [
              0.3333333333333333,
              "#9c179e"
             ],
             [
              0.4444444444444444,
              "#bd3786"
             ],
             [
              0.5555555555555556,
              "#d8576b"
             ],
             [
              0.6666666666666666,
              "#ed7953"
             ],
             [
              0.7777777777777778,
              "#fb9f3a"
             ],
             [
              0.8888888888888888,
              "#fdca26"
             ],
             [
              1,
              "#f0f921"
             ]
            ],
            "type": "contour"
           }
          ],
          "contourcarpet": [
           {
            "colorbar": {
             "outlinewidth": 0,
             "ticks": ""
            },
            "type": "contourcarpet"
           }
          ],
          "heatmap": [
           {
            "colorbar": {
             "outlinewidth": 0,
             "ticks": ""
            },
            "colorscale": [
             [
              0,
              "#0d0887"
             ],
             [
              0.1111111111111111,
              "#46039f"
             ],
             [
              0.2222222222222222,
              "#7201a8"
             ],
             [
              0.3333333333333333,
              "#9c179e"
             ],
             [
              0.4444444444444444,
              "#bd3786"
             ],
             [
              0.5555555555555556,
              "#d8576b"
             ],
             [
              0.6666666666666666,
              "#ed7953"
             ],
             [
              0.7777777777777778,
              "#fb9f3a"
             ],
             [
              0.8888888888888888,
              "#fdca26"
             ],
             [
              1,
              "#f0f921"
             ]
            ],
            "type": "heatmap"
           }
          ],
          "heatmapgl": [
           {
            "colorbar": {
             "outlinewidth": 0,
             "ticks": ""
            },
            "colorscale": [
             [
              0,
              "#0d0887"
             ],
             [
              0.1111111111111111,
              "#46039f"
             ],
             [
              0.2222222222222222,
              "#7201a8"
             ],
             [
              0.3333333333333333,
              "#9c179e"
             ],
             [
              0.4444444444444444,
              "#bd3786"
             ],
             [
              0.5555555555555556,
              "#d8576b"
             ],
             [
              0.6666666666666666,
              "#ed7953"
             ],
             [
              0.7777777777777778,
              "#fb9f3a"
             ],
             [
              0.8888888888888888,
              "#fdca26"
             ],
             [
              1,
              "#f0f921"
             ]
            ],
            "type": "heatmapgl"
           }
          ],
          "histogram": [
           {
            "marker": {
             "pattern": {
              "fillmode": "overlay",
              "size": 10,
              "solidity": 0.2
             }
            },
            "type": "histogram"
           }
          ],
          "histogram2d": [
           {
            "colorbar": {
             "outlinewidth": 0,
             "ticks": ""
            },
            "colorscale": [
             [
              0,
              "#0d0887"
             ],
             [
              0.1111111111111111,
              "#46039f"
             ],
             [
              0.2222222222222222,
              "#7201a8"
             ],
             [
              0.3333333333333333,
              "#9c179e"
             ],
             [
              0.4444444444444444,
              "#bd3786"
             ],
             [
              0.5555555555555556,
              "#d8576b"
             ],
             [
              0.6666666666666666,
              "#ed7953"
             ],
             [
              0.7777777777777778,
              "#fb9f3a"
             ],
             [
              0.8888888888888888,
              "#fdca26"
             ],
             [
              1,
              "#f0f921"
             ]
            ],
            "type": "histogram2d"
           }
          ],
          "histogram2dcontour": [
           {
            "colorbar": {
             "outlinewidth": 0,
             "ticks": ""
            },
            "colorscale": [
             [
              0,
              "#0d0887"
             ],
             [
              0.1111111111111111,
              "#46039f"
             ],
             [
              0.2222222222222222,
              "#7201a8"
             ],
             [
              0.3333333333333333,
              "#9c179e"
             ],
             [
              0.4444444444444444,
              "#bd3786"
             ],
             [
              0.5555555555555556,
              "#d8576b"
             ],
             [
              0.6666666666666666,
              "#ed7953"
             ],
             [
              0.7777777777777778,
              "#fb9f3a"
             ],
             [
              0.8888888888888888,
              "#fdca26"
             ],
             [
              1,
              "#f0f921"
             ]
            ],
            "type": "histogram2dcontour"
           }
          ],
          "mesh3d": [
           {
            "colorbar": {
             "outlinewidth": 0,
             "ticks": ""
            },
            "type": "mesh3d"
           }
          ],
          "parcoords": [
           {
            "line": {
             "colorbar": {
              "outlinewidth": 0,
              "ticks": ""
             }
            },
            "type": "parcoords"
           }
          ],
          "pie": [
           {
            "automargin": true,
            "type": "pie"
           }
          ],
          "scatter": [
           {
            "fillpattern": {
             "fillmode": "overlay",
             "size": 10,
             "solidity": 0.2
            },
            "type": "scatter"
           }
          ],
          "scatter3d": [
           {
            "line": {
             "colorbar": {
              "outlinewidth": 0,
              "ticks": ""
             }
            },
            "marker": {
             "colorbar": {
              "outlinewidth": 0,
              "ticks": ""
             }
            },
            "type": "scatter3d"
           }
          ],
          "scattercarpet": [
           {
            "marker": {
             "colorbar": {
              "outlinewidth": 0,
              "ticks": ""
             }
            },
            "type": "scattercarpet"
           }
          ],
          "scattergeo": [
           {
            "marker": {
             "colorbar": {
              "outlinewidth": 0,
              "ticks": ""
             }
            },
            "type": "scattergeo"
           }
          ],
          "scattergl": [
           {
            "marker": {
             "colorbar": {
              "outlinewidth": 0,
              "ticks": ""
             }
            },
            "type": "scattergl"
           }
          ],
          "scattermapbox": [
           {
            "marker": {
             "colorbar": {
              "outlinewidth": 0,
              "ticks": ""
             }
            },
            "type": "scattermapbox"
           }
          ],
          "scatterpolar": [
           {
            "marker": {
             "colorbar": {
              "outlinewidth": 0,
              "ticks": ""
             }
            },
            "type": "scatterpolar"
           }
          ],
          "scatterpolargl": [
           {
            "marker": {
             "colorbar": {
              "outlinewidth": 0,
              "ticks": ""
             }
            },
            "type": "scatterpolargl"
           }
          ],
          "scatterternary": [
           {
            "marker": {
             "colorbar": {
              "outlinewidth": 0,
              "ticks": ""
             }
            },
            "type": "scatterternary"
           }
          ],
          "surface": [
           {
            "colorbar": {
             "outlinewidth": 0,
             "ticks": ""
            },
            "colorscale": [
             [
              0,
              "#0d0887"
             ],
             [
              0.1111111111111111,
              "#46039f"
             ],
             [
              0.2222222222222222,
              "#7201a8"
             ],
             [
              0.3333333333333333,
              "#9c179e"
             ],
             [
              0.4444444444444444,
              "#bd3786"
             ],
             [
              0.5555555555555556,
              "#d8576b"
             ],
             [
              0.6666666666666666,
              "#ed7953"
             ],
             [
              0.7777777777777778,
              "#fb9f3a"
             ],
             [
              0.8888888888888888,
              "#fdca26"
             ],
             [
              1,
              "#f0f921"
             ]
            ],
            "type": "surface"
           }
          ],
          "table": [
           {
            "cells": {
             "fill": {
              "color": "#EBF0F8"
             },
             "line": {
              "color": "white"
             }
            },
            "header": {
             "fill": {
              "color": "#C8D4E3"
             },
             "line": {
              "color": "white"
             }
            },
            "type": "table"
           }
          ]
         },
         "layout": {
          "annotationdefaults": {
           "arrowcolor": "#2a3f5f",
           "arrowhead": 0,
           "arrowwidth": 1
          },
          "autotypenumbers": "strict",
          "coloraxis": {
           "colorbar": {
            "outlinewidth": 0,
            "ticks": ""
           }
          },
          "colorscale": {
           "diverging": [
            [
             0,
             "#8e0152"
            ],
            [
             0.1,
             "#c51b7d"
            ],
            [
             0.2,
             "#de77ae"
            ],
            [
             0.3,
             "#f1b6da"
            ],
            [
             0.4,
             "#fde0ef"
            ],
            [
             0.5,
             "#f7f7f7"
            ],
            [
             0.6,
             "#e6f5d0"
            ],
            [
             0.7,
             "#b8e186"
            ],
            [
             0.8,
             "#7fbc41"
            ],
            [
             0.9,
             "#4d9221"
            ],
            [
             1,
             "#276419"
            ]
           ],
           "sequential": [
            [
             0,
             "#0d0887"
            ],
            [
             0.1111111111111111,
             "#46039f"
            ],
            [
             0.2222222222222222,
             "#7201a8"
            ],
            [
             0.3333333333333333,
             "#9c179e"
            ],
            [
             0.4444444444444444,
             "#bd3786"
            ],
            [
             0.5555555555555556,
             "#d8576b"
            ],
            [
             0.6666666666666666,
             "#ed7953"
            ],
            [
             0.7777777777777778,
             "#fb9f3a"
            ],
            [
             0.8888888888888888,
             "#fdca26"
            ],
            [
             1,
             "#f0f921"
            ]
           ],
           "sequentialminus": [
            [
             0,
             "#0d0887"
            ],
            [
             0.1111111111111111,
             "#46039f"
            ],
            [
             0.2222222222222222,
             "#7201a8"
            ],
            [
             0.3333333333333333,
             "#9c179e"
            ],
            [
             0.4444444444444444,
             "#bd3786"
            ],
            [
             0.5555555555555556,
             "#d8576b"
            ],
            [
             0.6666666666666666,
             "#ed7953"
            ],
            [
             0.7777777777777778,
             "#fb9f3a"
            ],
            [
             0.8888888888888888,
             "#fdca26"
            ],
            [
             1,
             "#f0f921"
            ]
           ]
          },
          "colorway": [
           "#636efa",
           "#EF553B",
           "#00cc96",
           "#ab63fa",
           "#FFA15A",
           "#19d3f3",
           "#FF6692",
           "#B6E880",
           "#FF97FF",
           "#FECB52"
          ],
          "font": {
           "color": "#2a3f5f"
          },
          "geo": {
           "bgcolor": "white",
           "lakecolor": "white",
           "landcolor": "#E5ECF6",
           "showlakes": true,
           "showland": true,
           "subunitcolor": "white"
          },
          "hoverlabel": {
           "align": "left"
          },
          "hovermode": "closest",
          "mapbox": {
           "style": "light"
          },
          "paper_bgcolor": "white",
          "plot_bgcolor": "#E5ECF6",
          "polar": {
           "angularaxis": {
            "gridcolor": "white",
            "linecolor": "white",
            "ticks": ""
           },
           "bgcolor": "#E5ECF6",
           "radialaxis": {
            "gridcolor": "white",
            "linecolor": "white",
            "ticks": ""
           }
          },
          "scene": {
           "xaxis": {
            "backgroundcolor": "#E5ECF6",
            "gridcolor": "white",
            "gridwidth": 2,
            "linecolor": "white",
            "showbackground": true,
            "ticks": "",
            "zerolinecolor": "white"
           },
           "yaxis": {
            "backgroundcolor": "#E5ECF6",
            "gridcolor": "white",
            "gridwidth": 2,
            "linecolor": "white",
            "showbackground": true,
            "ticks": "",
            "zerolinecolor": "white"
           },
           "zaxis": {
            "backgroundcolor": "#E5ECF6",
            "gridcolor": "white",
            "gridwidth": 2,
            "linecolor": "white",
            "showbackground": true,
            "ticks": "",
            "zerolinecolor": "white"
           }
          },
          "shapedefaults": {
           "line": {
            "color": "#2a3f5f"
           }
          },
          "ternary": {
           "aaxis": {
            "gridcolor": "white",
            "linecolor": "white",
            "ticks": ""
           },
           "baxis": {
            "gridcolor": "white",
            "linecolor": "white",
            "ticks": ""
           },
           "bgcolor": "#E5ECF6",
           "caxis": {
            "gridcolor": "white",
            "linecolor": "white",
            "ticks": ""
           }
          },
          "title": {
           "x": 0.05
          },
          "xaxis": {
           "automargin": true,
           "gridcolor": "white",
           "linecolor": "white",
           "ticks": "",
           "title": {
            "standoff": 15
           },
           "zerolinecolor": "white",
           "zerolinewidth": 2
          },
          "yaxis": {
           "automargin": true,
           "gridcolor": "white",
           "linecolor": "white",
           "ticks": "",
           "title": {
            "standoff": 15
           },
           "zerolinecolor": "white",
           "zerolinewidth": 2
          }
         }
        },
        "title": {
         "text": "Sample from a Normal Distribution"
        },
        "width": 800,
        "xaxis": {
         "anchor": "y",
         "domain": [
          0,
          1
         ],
         "title": {
          "text": "Normal"
         }
        },
        "yaxis": {
         "anchor": "x",
         "domain": [
          0,
          1
         ]
        }
       }
      }
     },
     "metadata": {},
     "output_type": "display_data"
    }
   ],
   "source": [
    "fig = px.box(df, x=\"Normal\",\n",
    "             points=\"all\",\n",
    "             notched = True,\n",
    "             color_discrete_sequence=['purple'],\n",
    "             height = 500, width = 800,\n",
    "             title='Sample from a Normal Distribution')\n",
    "fig.show()"
   ]
  },
  {
   "cell_type": "code",
   "execution_count": 13,
   "metadata": {},
   "outputs": [],
   "source": [
    "df = data2"
   ]
  },
  {
   "cell_type": "code",
   "execution_count": 14,
   "metadata": {},
   "outputs": [
    {
     "data": {
      "text/html": [
       "<div>\n",
       "<style scoped>\n",
       "    .dataframe tbody tr th:only-of-type {\n",
       "        vertical-align: middle;\n",
       "    }\n",
       "\n",
       "    .dataframe tbody tr th {\n",
       "        vertical-align: top;\n",
       "    }\n",
       "\n",
       "    .dataframe thead th {\n",
       "        text-align: right;\n",
       "    }\n",
       "</style>\n",
       "<table border=\"1\" class=\"dataframe\">\n",
       "  <thead>\n",
       "    <tr style=\"text-align: right;\">\n",
       "      <th></th>\n",
       "      <th>Data</th>\n",
       "      <th>Label</th>\n",
       "    </tr>\n",
       "  </thead>\n",
       "  <tbody>\n",
       "    <tr>\n",
       "      <th>0</th>\n",
       "      <td>0.766134</td>\n",
       "      <td>Normal</td>\n",
       "    </tr>\n",
       "    <tr>\n",
       "      <th>1</th>\n",
       "      <td>2.936433</td>\n",
       "      <td>Normal</td>\n",
       "    </tr>\n",
       "    <tr>\n",
       "      <th>2</th>\n",
       "      <td>1.698716</td>\n",
       "      <td>Normal</td>\n",
       "    </tr>\n",
       "    <tr>\n",
       "      <th>3</th>\n",
       "      <td>3.072707</td>\n",
       "      <td>Normal</td>\n",
       "    </tr>\n",
       "    <tr>\n",
       "      <th>4</th>\n",
       "      <td>1.434231</td>\n",
       "      <td>Normal</td>\n",
       "    </tr>\n",
       "  </tbody>\n",
       "</table>\n",
       "</div>"
      ],
      "text/plain": [
       "       Data   Label\n",
       "0  0.766134  Normal\n",
       "1  2.936433  Normal\n",
       "2  1.698716  Normal\n",
       "3  3.072707  Normal\n",
       "4  1.434231  Normal"
      ]
     },
     "execution_count": 14,
     "metadata": {},
     "output_type": "execute_result"
    }
   ],
   "source": [
    "df.head()"
   ]
  },
  {
   "cell_type": "code",
   "execution_count": 15,
   "metadata": {},
   "outputs": [
    {
     "data": {
      "application/vnd.plotly.v1+json": {
       "config": {
        "plotlyServerURL": "https://plot.ly"
       },
       "data": [
        {
         "alignmentgroup": "True",
         "hovertemplate": "Label=Normal<br>Data=%{x}<extra></extra>",
         "legendgroup": "Normal",
         "marker": {
          "color": "#636efa"
         },
         "name": "Normal",
         "notched": false,
         "offsetgroup": "Normal",
         "orientation": "h",
         "showlegend": true,
         "type": "box",
         "x": [
          0.7661340288013501,
          2.936432806963716,
          1.698715946697745,
          3.0727074963317897,
          1.4342313016003732,
          2.1066729722938344,
          2.752195346607073,
          1.1960416335283588,
          2.638625760804452,
          2.3187846195686066,
          1.5134087439556256,
          1.2320552857983493,
          3.0621907351647897,
          3.5005790849030385,
          3.222192998133994,
          0.8121517482052838,
          2.562811342572542,
          1.5094589548994035,
          2.0617095629885784,
          2.349453915820724,
          1.2133023300704542,
          1.2117744338342904,
          0.31979158708017996,
          1.2501441281815648,
          2.101793598098098,
          2.697786236074823,
          1.0722918812586357,
          1.3693506387877665,
          -0.4497388122183299,
          2.346175895744964,
          2.261963226946059,
          3.3299616334667412,
          3.4385904384306256,
          1.0824620059049213,
          3.2777597306834974,
          0.6451948567883088,
          3.066608776453147,
          2.0203996785827156,
          3.11174134362932,
          2.1037891481558124,
          1.2970672230328515,
          2.662209583624894,
          1.9737345351547175,
          2.6477285936774027,
          2.15735791756473,
          1.7685210770487219,
          1.685840314655774,
          3.028535367038306,
          1.326835403378332,
          -0.09604122523542458,
          1.9341510802078192,
          1.1699117826004417,
          2.014907168831193,
          4.066784001888998,
          3.227902989434626,
          1.2880938291738808,
          1.9927850653588637,
          2.6966929562262174,
          3.1290940780117342,
          1.8387259064931831,
          0.06380274263616403,
          0.749678366264886,
          3.8199592042987476,
          3.1553366079911065,
          2.1910347356492004,
          1.6360209258074028,
          0.5539081321553978,
          3.687128610766363,
          3.0353051495023093,
          2.6418765194818867,
          -0.21461339512721933,
          3.708304115229878,
          1.6538056080387138,
          2.733734859352322,
          3.1052752452195076,
          2.4039517831724773,
          0.390071088352669,
          2.185600727991858,
          2.3228781069295352,
          1.8428373669737603,
          2.943151660220919,
          1.2002935847728033,
          1.7653026555494944,
          1.6501856150938115,
          1.855776312128536,
          2.7319866321534163,
          1.0372917882797001,
          2.7416585218838554,
          1.7202194360088137,
          1.9421306804161407,
          1.6213470853011518,
          2.677972886420598,
          0.6155922291580456,
          1.263745722533566,
          2.2595407887649213,
          3.9667832703443686,
          2.99553955747048,
          1.8929768142073133,
          2.3921020498455,
          -0.07367848604366323,
          1.7805796277037846,
          2.2559334388607413,
          1.2959957430531182,
          2.475858445381354,
          1.2722256069439264,
          2.623343939643732,
          2.4056061673377354,
          1.476108555761344,
          1.4891891488345594,
          1.1553908403754973,
          2.1163349591689453,
          0.48397833498945597,
          2.572235905895739,
          2.1226753136722087,
          2.4932425791668122,
          1.5149228564061608,
          0.9601070321512668,
          0.392187461871343,
          0.35407827208853493,
          2.6380432934098548,
          2.427375765672821,
          1.5728221763641668,
          2.808836019506046,
          1.100318912859535,
          1.81857651375086,
          2.5599204545796717,
          1.7215464199781856,
          0.7531448413698072,
          2.8425163339904262,
          2.1784334283353606,
          2.6146043974609046,
          0.8258182238576364,
          2.278795279525711,
          3.368915704104741,
          0.5730076150207477,
          2.863625187787865,
          0.5782525104759493,
          0.2328596832981631,
          2.0750613047530355,
          1.3974685436375895,
          1.5090650727623152,
          1.4232038366306985,
          1.6190038483029543,
          2.860981056067043,
          3.2115061187387948,
          1.9882968929429756,
          1.249931935419911,
          1.9457553987078775,
          -1.1402417992840883,
          2.616680708184526,
          2.103779901541481,
          1.4273745245795515,
          2.0926009081767503,
          2.2611891539715225,
          1.6612251748575915,
          3.649546685542741,
          2.480677266891096,
          3.364769742472105,
          1.1080153667577355,
          0.31799126076786943,
          3.114079848036117,
          0.5078611940771562,
          1.1270857370374807,
          2.153159125398661,
          1.3724662618207863,
          2.7359375176436895,
          2.535477845680289,
          3.3702811555747503,
          1.8653214490333065,
          2.131592225213798,
          2.20548949605025,
          1.9942251718773336,
          2.6414079721524764,
          1.1473064660416359,
          -0.6197694957419402,
          1.7407051393009674,
          0.728944230217518,
          2.012838456749605,
          2.662369246327774,
          2.4032876418162505,
          1.7318206658310875,
          0.874466475744333,
          3.377638572793296,
          3.297625163894365,
          1.221004144840529,
          2.7843323213097504,
          0.7826886864356879,
          1.5612640685603956,
          2.490932299987094,
          0.5163794440733254,
          2.329233534170101,
          2.9907964912517975,
          3.074260429806548,
          2.942646633491941,
          3.1602817971522157,
          2.3402421183239825,
          2.443680015752832,
          2.1230839264084715,
          2.4088790070529735,
          3.0745703114993357
         ],
         "x0": " ",
         "xaxis": "x",
         "y0": " ",
         "yaxis": "y"
        },
        {
         "alignmentgroup": "True",
         "hovertemplate": "Label=t-Student<br>Data=%{x}<extra></extra>",
         "legendgroup": "t-Student",
         "marker": {
          "color": "#EF553B"
         },
         "name": "t-Student",
         "notched": false,
         "offsetgroup": "t-Student",
         "orientation": "h",
         "showlegend": true,
         "type": "box",
         "x": [
          0.5799999831149955,
          0.31401869495397106,
          -1.3396221880629122,
          -0.8173640585071605,
          -0.8186702937873971,
          1.5381920211721505,
          -0.159481461253114,
          -1.1230724012674638,
          -2.4021031408374807,
          0.3398961180865356,
          1.5615046463438078,
          0.44057095410666813,
          3.7556699887507783,
          -0.07897271653943208,
          -0.22283497467440755,
          0.6064916149027823,
          2.278116553050947,
          1.6145743230236536,
          -1.271660658203279,
          1.1268786170046403,
          0.3309070622016834,
          -0.2798455165214374,
          0.6485301870888225,
          -0.25533698535941046,
          0.42268668553857286,
          -0.2890533947193254,
          -0.07177096616045489,
          -0.15785803043099064,
          -4.020727320209899,
          -1.0948853378152361,
          -0.31479135428596583,
          -0.5316093073185275,
          0.7957178587400849,
          -0.7261462719838147,
          -0.3170345876191921,
          1.9979885471778682,
          -2.3997051763828185,
          -0.08637255858423155,
          0.8527712952764581,
          -0.09508963005715945,
          -0.17313873380222722,
          0.8132001024353847,
          0.07609243523426255,
          0.38491872362905905,
          1.0237659767798009,
          -0.24346642464403914,
          0.7228621020134451,
          2.7117614010105,
          0.8284708566940598,
          1.1669556261618552,
          -0.0548054013153737,
          0.04941898329113556,
          1.3308170202435479,
          3.0607550197732953,
          6.0494938281713715,
          -1.685928770516481,
          -0.5120245371567006,
          0.8383720008300091,
          1.3451475217661102,
          0.2162883805029796,
          0.42920313382298986,
          0.5918740062006023,
          1.060045662936148,
          0.4558028796155138,
          -1.1154774957843223,
          0.6071542964341945,
          2.0444062923865856,
          0.3022898458231573,
          0.16122273958834005,
          -0.4357647573105171,
          -2.1884480140606493,
          0.328401435335518,
          8.029067036178036,
          -0.8359560657969409,
          -2.2650398931416618,
          -0.23123423795267156,
          0.9980890542776073,
          1.0138584860212594,
          0.3253965740249172,
          1.6693668169440912,
          0.8681027447393244,
          5.489009702808322,
          0.8564141881319194,
          1.4250923654975218,
          -1.6182697588268908,
          1.990055666285414,
          -5.7152856149403775,
          -0.9777507898416051,
          -0.9325218782666079,
          -0.8249984839174859,
          -2.5853495758923493,
          0.17089505498121468,
          0.020391294932425173,
          0.1182026573735361,
          1.6686517110617323,
          -0.09270384526485295,
          0.10940760732449245,
          -1.2984706001599158,
          0.2783099063198187,
          3.0047027546368703,
          0.2056979880197663,
          1.860251328325694,
          0.041630201200091914,
          0.3453567012935942,
          -0.656048734528062,
          0.9078412584754125,
          3.59024981216198,
          1.5795858899135922,
          0.2267380098906495,
          0.22762570758975367,
          -0.7567112196578656,
          -0.4667080370154893,
          -0.8777413331609135,
          -0.3715953184261207,
          -1.1004306499766328,
          -2.134468765612561,
          0.1798737485275294,
          4.907603544355433,
          0.13801998631719892,
          -0.877296359437821,
          1.2869956947722145,
          1.3592650282526524,
          -0.24655933740365474,
          0.19202845667089247,
          2.6524431311717036,
          0.6633256790680104,
          -0.6285226680782251,
          0.03592334927341612,
          1.4118560272965697,
          0.4980068294432477,
          -0.9898456735915845,
          -3.0508739941161602,
          0.8115914676734806,
          -3.429107252108827,
          2.204963011810137,
          -0.7748017771074959,
          0.8688071527492893,
          1.5210756427990255,
          -0.5490855859842143,
          -0.9433361278194717,
          0.9498033406894558,
          -0.7086298175338135,
          -1.3706267372064143,
          0.7729204523092911,
          0.0733071401751775,
          -1.6186041268003588,
          0.9147334211437532,
          -0.12587322618587454,
          1.1311840909100572,
          1.0791123634959896,
          -0.023328020128130393,
          -0.4234825464135628,
          -1.0092186900566764,
          0.9459750479041952,
          0.37195955366492434,
          0.7101683403736434,
          0.2949054039615913,
          0.7839513533674425,
          0.33656424265388474,
          -1.424285368743878,
          -0.587728296990065,
          0.2595354131199979,
          -0.08755820961766336,
          -0.3098321269394004,
          -1.063698151216011,
          -0.9614090390513929,
          -2.114151624812543,
          -0.8520577868892055,
          -1.5419105776574153,
          -0.7352374268045772,
          0.07777662623332063,
          -4.732080222752276,
          -0.5863449066922433,
          -0.7099648398048792,
          -0.7960892987577822,
          -5.631643417606087,
          0.612221444775737,
          4.097548193909055,
          -0.1591505263642057,
          -1.8969741411106948,
          1.1554553394292912,
          0.9845539422627996,
          -0.7380155870249763,
          -0.12468888830319422,
          -0.8525630938266612,
          -0.5670907269885107,
          -5.718526891259926,
          0.3980380800267177,
          -0.6739225393729046,
          0.47302201174108827,
          -1.8192977370034351,
          0.9465794164203633,
          -0.5480004546801658,
          -0.6642021983775994,
          -1.0171909495633755,
          0.604580861986493,
          1.588593749559271,
          -0.5067046201267281,
          0.6812473934900551,
          -0.8516539401139124
         ],
         "x0": " ",
         "xaxis": "x",
         "y0": " ",
         "yaxis": "y"
        }
       ],
       "layout": {
        "boxmode": "group",
        "height": 500,
        "legend": {
         "title": {
          "text": "Label"
         },
         "tracegroupgap": 0
        },
        "template": {
         "data": {
          "bar": [
           {
            "error_x": {
             "color": "#2a3f5f"
            },
            "error_y": {
             "color": "#2a3f5f"
            },
            "marker": {
             "line": {
              "color": "#E5ECF6",
              "width": 0.5
             },
             "pattern": {
              "fillmode": "overlay",
              "size": 10,
              "solidity": 0.2
             }
            },
            "type": "bar"
           }
          ],
          "barpolar": [
           {
            "marker": {
             "line": {
              "color": "#E5ECF6",
              "width": 0.5
             },
             "pattern": {
              "fillmode": "overlay",
              "size": 10,
              "solidity": 0.2
             }
            },
            "type": "barpolar"
           }
          ],
          "carpet": [
           {
            "aaxis": {
             "endlinecolor": "#2a3f5f",
             "gridcolor": "white",
             "linecolor": "white",
             "minorgridcolor": "white",
             "startlinecolor": "#2a3f5f"
            },
            "baxis": {
             "endlinecolor": "#2a3f5f",
             "gridcolor": "white",
             "linecolor": "white",
             "minorgridcolor": "white",
             "startlinecolor": "#2a3f5f"
            },
            "type": "carpet"
           }
          ],
          "choropleth": [
           {
            "colorbar": {
             "outlinewidth": 0,
             "ticks": ""
            },
            "type": "choropleth"
           }
          ],
          "contour": [
           {
            "colorbar": {
             "outlinewidth": 0,
             "ticks": ""
            },
            "colorscale": [
             [
              0,
              "#0d0887"
             ],
             [
              0.1111111111111111,
              "#46039f"
             ],
             [
              0.2222222222222222,
              "#7201a8"
             ],
             [
              0.3333333333333333,
              "#9c179e"
             ],
             [
              0.4444444444444444,
              "#bd3786"
             ],
             [
              0.5555555555555556,
              "#d8576b"
             ],
             [
              0.6666666666666666,
              "#ed7953"
             ],
             [
              0.7777777777777778,
              "#fb9f3a"
             ],
             [
              0.8888888888888888,
              "#fdca26"
             ],
             [
              1,
              "#f0f921"
             ]
            ],
            "type": "contour"
           }
          ],
          "contourcarpet": [
           {
            "colorbar": {
             "outlinewidth": 0,
             "ticks": ""
            },
            "type": "contourcarpet"
           }
          ],
          "heatmap": [
           {
            "colorbar": {
             "outlinewidth": 0,
             "ticks": ""
            },
            "colorscale": [
             [
              0,
              "#0d0887"
             ],
             [
              0.1111111111111111,
              "#46039f"
             ],
             [
              0.2222222222222222,
              "#7201a8"
             ],
             [
              0.3333333333333333,
              "#9c179e"
             ],
             [
              0.4444444444444444,
              "#bd3786"
             ],
             [
              0.5555555555555556,
              "#d8576b"
             ],
             [
              0.6666666666666666,
              "#ed7953"
             ],
             [
              0.7777777777777778,
              "#fb9f3a"
             ],
             [
              0.8888888888888888,
              "#fdca26"
             ],
             [
              1,
              "#f0f921"
             ]
            ],
            "type": "heatmap"
           }
          ],
          "heatmapgl": [
           {
            "colorbar": {
             "outlinewidth": 0,
             "ticks": ""
            },
            "colorscale": [
             [
              0,
              "#0d0887"
             ],
             [
              0.1111111111111111,
              "#46039f"
             ],
             [
              0.2222222222222222,
              "#7201a8"
             ],
             [
              0.3333333333333333,
              "#9c179e"
             ],
             [
              0.4444444444444444,
              "#bd3786"
             ],
             [
              0.5555555555555556,
              "#d8576b"
             ],
             [
              0.6666666666666666,
              "#ed7953"
             ],
             [
              0.7777777777777778,
              "#fb9f3a"
             ],
             [
              0.8888888888888888,
              "#fdca26"
             ],
             [
              1,
              "#f0f921"
             ]
            ],
            "type": "heatmapgl"
           }
          ],
          "histogram": [
           {
            "marker": {
             "pattern": {
              "fillmode": "overlay",
              "size": 10,
              "solidity": 0.2
             }
            },
            "type": "histogram"
           }
          ],
          "histogram2d": [
           {
            "colorbar": {
             "outlinewidth": 0,
             "ticks": ""
            },
            "colorscale": [
             [
              0,
              "#0d0887"
             ],
             [
              0.1111111111111111,
              "#46039f"
             ],
             [
              0.2222222222222222,
              "#7201a8"
             ],
             [
              0.3333333333333333,
              "#9c179e"
             ],
             [
              0.4444444444444444,
              "#bd3786"
             ],
             [
              0.5555555555555556,
              "#d8576b"
             ],
             [
              0.6666666666666666,
              "#ed7953"
             ],
             [
              0.7777777777777778,
              "#fb9f3a"
             ],
             [
              0.8888888888888888,
              "#fdca26"
             ],
             [
              1,
              "#f0f921"
             ]
            ],
            "type": "histogram2d"
           }
          ],
          "histogram2dcontour": [
           {
            "colorbar": {
             "outlinewidth": 0,
             "ticks": ""
            },
            "colorscale": [
             [
              0,
              "#0d0887"
             ],
             [
              0.1111111111111111,
              "#46039f"
             ],
             [
              0.2222222222222222,
              "#7201a8"
             ],
             [
              0.3333333333333333,
              "#9c179e"
             ],
             [
              0.4444444444444444,
              "#bd3786"
             ],
             [
              0.5555555555555556,
              "#d8576b"
             ],
             [
              0.6666666666666666,
              "#ed7953"
             ],
             [
              0.7777777777777778,
              "#fb9f3a"
             ],
             [
              0.8888888888888888,
              "#fdca26"
             ],
             [
              1,
              "#f0f921"
             ]
            ],
            "type": "histogram2dcontour"
           }
          ],
          "mesh3d": [
           {
            "colorbar": {
             "outlinewidth": 0,
             "ticks": ""
            },
            "type": "mesh3d"
           }
          ],
          "parcoords": [
           {
            "line": {
             "colorbar": {
              "outlinewidth": 0,
              "ticks": ""
             }
            },
            "type": "parcoords"
           }
          ],
          "pie": [
           {
            "automargin": true,
            "type": "pie"
           }
          ],
          "scatter": [
           {
            "fillpattern": {
             "fillmode": "overlay",
             "size": 10,
             "solidity": 0.2
            },
            "type": "scatter"
           }
          ],
          "scatter3d": [
           {
            "line": {
             "colorbar": {
              "outlinewidth": 0,
              "ticks": ""
             }
            },
            "marker": {
             "colorbar": {
              "outlinewidth": 0,
              "ticks": ""
             }
            },
            "type": "scatter3d"
           }
          ],
          "scattercarpet": [
           {
            "marker": {
             "colorbar": {
              "outlinewidth": 0,
              "ticks": ""
             }
            },
            "type": "scattercarpet"
           }
          ],
          "scattergeo": [
           {
            "marker": {
             "colorbar": {
              "outlinewidth": 0,
              "ticks": ""
             }
            },
            "type": "scattergeo"
           }
          ],
          "scattergl": [
           {
            "marker": {
             "colorbar": {
              "outlinewidth": 0,
              "ticks": ""
             }
            },
            "type": "scattergl"
           }
          ],
          "scattermapbox": [
           {
            "marker": {
             "colorbar": {
              "outlinewidth": 0,
              "ticks": ""
             }
            },
            "type": "scattermapbox"
           }
          ],
          "scatterpolar": [
           {
            "marker": {
             "colorbar": {
              "outlinewidth": 0,
              "ticks": ""
             }
            },
            "type": "scatterpolar"
           }
          ],
          "scatterpolargl": [
           {
            "marker": {
             "colorbar": {
              "outlinewidth": 0,
              "ticks": ""
             }
            },
            "type": "scatterpolargl"
           }
          ],
          "scatterternary": [
           {
            "marker": {
             "colorbar": {
              "outlinewidth": 0,
              "ticks": ""
             }
            },
            "type": "scatterternary"
           }
          ],
          "surface": [
           {
            "colorbar": {
             "outlinewidth": 0,
             "ticks": ""
            },
            "colorscale": [
             [
              0,
              "#0d0887"
             ],
             [
              0.1111111111111111,
              "#46039f"
             ],
             [
              0.2222222222222222,
              "#7201a8"
             ],
             [
              0.3333333333333333,
              "#9c179e"
             ],
             [
              0.4444444444444444,
              "#bd3786"
             ],
             [
              0.5555555555555556,
              "#d8576b"
             ],
             [
              0.6666666666666666,
              "#ed7953"
             ],
             [
              0.7777777777777778,
              "#fb9f3a"
             ],
             [
              0.8888888888888888,
              "#fdca26"
             ],
             [
              1,
              "#f0f921"
             ]
            ],
            "type": "surface"
           }
          ],
          "table": [
           {
            "cells": {
             "fill": {
              "color": "#EBF0F8"
             },
             "line": {
              "color": "white"
             }
            },
            "header": {
             "fill": {
              "color": "#C8D4E3"
             },
             "line": {
              "color": "white"
             }
            },
            "type": "table"
           }
          ]
         },
         "layout": {
          "annotationdefaults": {
           "arrowcolor": "#2a3f5f",
           "arrowhead": 0,
           "arrowwidth": 1
          },
          "autotypenumbers": "strict",
          "coloraxis": {
           "colorbar": {
            "outlinewidth": 0,
            "ticks": ""
           }
          },
          "colorscale": {
           "diverging": [
            [
             0,
             "#8e0152"
            ],
            [
             0.1,
             "#c51b7d"
            ],
            [
             0.2,
             "#de77ae"
            ],
            [
             0.3,
             "#f1b6da"
            ],
            [
             0.4,
             "#fde0ef"
            ],
            [
             0.5,
             "#f7f7f7"
            ],
            [
             0.6,
             "#e6f5d0"
            ],
            [
             0.7,
             "#b8e186"
            ],
            [
             0.8,
             "#7fbc41"
            ],
            [
             0.9,
             "#4d9221"
            ],
            [
             1,
             "#276419"
            ]
           ],
           "sequential": [
            [
             0,
             "#0d0887"
            ],
            [
             0.1111111111111111,
             "#46039f"
            ],
            [
             0.2222222222222222,
             "#7201a8"
            ],
            [
             0.3333333333333333,
             "#9c179e"
            ],
            [
             0.4444444444444444,
             "#bd3786"
            ],
            [
             0.5555555555555556,
             "#d8576b"
            ],
            [
             0.6666666666666666,
             "#ed7953"
            ],
            [
             0.7777777777777778,
             "#fb9f3a"
            ],
            [
             0.8888888888888888,
             "#fdca26"
            ],
            [
             1,
             "#f0f921"
            ]
           ],
           "sequentialminus": [
            [
             0,
             "#0d0887"
            ],
            [
             0.1111111111111111,
             "#46039f"
            ],
            [
             0.2222222222222222,
             "#7201a8"
            ],
            [
             0.3333333333333333,
             "#9c179e"
            ],
            [
             0.4444444444444444,
             "#bd3786"
            ],
            [
             0.5555555555555556,
             "#d8576b"
            ],
            [
             0.6666666666666666,
             "#ed7953"
            ],
            [
             0.7777777777777778,
             "#fb9f3a"
            ],
            [
             0.8888888888888888,
             "#fdca26"
            ],
            [
             1,
             "#f0f921"
            ]
           ]
          },
          "colorway": [
           "#636efa",
           "#EF553B",
           "#00cc96",
           "#ab63fa",
           "#FFA15A",
           "#19d3f3",
           "#FF6692",
           "#B6E880",
           "#FF97FF",
           "#FECB52"
          ],
          "font": {
           "color": "#2a3f5f"
          },
          "geo": {
           "bgcolor": "white",
           "lakecolor": "white",
           "landcolor": "#E5ECF6",
           "showlakes": true,
           "showland": true,
           "subunitcolor": "white"
          },
          "hoverlabel": {
           "align": "left"
          },
          "hovermode": "closest",
          "mapbox": {
           "style": "light"
          },
          "paper_bgcolor": "white",
          "plot_bgcolor": "#E5ECF6",
          "polar": {
           "angularaxis": {
            "gridcolor": "white",
            "linecolor": "white",
            "ticks": ""
           },
           "bgcolor": "#E5ECF6",
           "radialaxis": {
            "gridcolor": "white",
            "linecolor": "white",
            "ticks": ""
           }
          },
          "scene": {
           "xaxis": {
            "backgroundcolor": "#E5ECF6",
            "gridcolor": "white",
            "gridwidth": 2,
            "linecolor": "white",
            "showbackground": true,
            "ticks": "",
            "zerolinecolor": "white"
           },
           "yaxis": {
            "backgroundcolor": "#E5ECF6",
            "gridcolor": "white",
            "gridwidth": 2,
            "linecolor": "white",
            "showbackground": true,
            "ticks": "",
            "zerolinecolor": "white"
           },
           "zaxis": {
            "backgroundcolor": "#E5ECF6",
            "gridcolor": "white",
            "gridwidth": 2,
            "linecolor": "white",
            "showbackground": true,
            "ticks": "",
            "zerolinecolor": "white"
           }
          },
          "shapedefaults": {
           "line": {
            "color": "#2a3f5f"
           }
          },
          "ternary": {
           "aaxis": {
            "gridcolor": "white",
            "linecolor": "white",
            "ticks": ""
           },
           "baxis": {
            "gridcolor": "white",
            "linecolor": "white",
            "ticks": ""
           },
           "bgcolor": "#E5ECF6",
           "caxis": {
            "gridcolor": "white",
            "linecolor": "white",
            "ticks": ""
           }
          },
          "title": {
           "x": 0.05
          },
          "xaxis": {
           "automargin": true,
           "gridcolor": "white",
           "linecolor": "white",
           "ticks": "",
           "title": {
            "standoff": 15
           },
           "zerolinecolor": "white",
           "zerolinewidth": 2
          },
          "yaxis": {
           "automargin": true,
           "gridcolor": "white",
           "linecolor": "white",
           "ticks": "",
           "title": {
            "standoff": 15
           },
           "zerolinecolor": "white",
           "zerolinewidth": 2
          }
         }
        },
        "title": {
         "text": "Box Plots"
        },
        "width": 800,
        "xaxis": {
         "anchor": "y",
         "domain": [
          0,
          1
         ],
         "title": {
          "text": "Data"
         }
        },
        "yaxis": {
         "anchor": "x",
         "domain": [
          0,
          1
         ]
        }
       }
      }
     },
     "metadata": {},
     "output_type": "display_data"
    }
   ],
   "source": [
    "fig = px.box(df, x=\"Data\", \n",
    "             color=\"Label\",\n",
    "             height = 500, width = 800,\n",
    "             title='Box Plots')\n",
    "fig.show()"
   ]
  },
  {
   "cell_type": "code",
   "execution_count": 16,
   "metadata": {},
   "outputs": [
    {
     "data": {
      "application/vnd.plotly.v1+json": {
       "config": {
        "plotlyServerURL": "https://plot.ly"
       },
       "data": [
        {
         "alignmentgroup": "True",
         "hovertemplate": "Label=Normal<br>Data=%{x}<extra></extra>",
         "legendgroup": "Normal",
         "marker": {
          "color": "teal"
         },
         "name": "Normal",
         "notched": false,
         "offsetgroup": "Normal",
         "orientation": "h",
         "showlegend": true,
         "type": "box",
         "x": [
          0.7661340288013501,
          2.936432806963716,
          1.698715946697745,
          3.0727074963317897,
          1.4342313016003732,
          2.1066729722938344,
          2.752195346607073,
          1.1960416335283588,
          2.638625760804452,
          2.3187846195686066,
          1.5134087439556256,
          1.2320552857983493,
          3.0621907351647897,
          3.5005790849030385,
          3.222192998133994,
          0.8121517482052838,
          2.562811342572542,
          1.5094589548994035,
          2.0617095629885784,
          2.349453915820724,
          1.2133023300704542,
          1.2117744338342904,
          0.31979158708017996,
          1.2501441281815648,
          2.101793598098098,
          2.697786236074823,
          1.0722918812586357,
          1.3693506387877665,
          -0.4497388122183299,
          2.346175895744964,
          2.261963226946059,
          3.3299616334667412,
          3.4385904384306256,
          1.0824620059049213,
          3.2777597306834974,
          0.6451948567883088,
          3.066608776453147,
          2.0203996785827156,
          3.11174134362932,
          2.1037891481558124,
          1.2970672230328515,
          2.662209583624894,
          1.9737345351547175,
          2.6477285936774027,
          2.15735791756473,
          1.7685210770487219,
          1.685840314655774,
          3.028535367038306,
          1.326835403378332,
          -0.09604122523542458,
          1.9341510802078192,
          1.1699117826004417,
          2.014907168831193,
          4.066784001888998,
          3.227902989434626,
          1.2880938291738808,
          1.9927850653588637,
          2.6966929562262174,
          3.1290940780117342,
          1.8387259064931831,
          0.06380274263616403,
          0.749678366264886,
          3.8199592042987476,
          3.1553366079911065,
          2.1910347356492004,
          1.6360209258074028,
          0.5539081321553978,
          3.687128610766363,
          3.0353051495023093,
          2.6418765194818867,
          -0.21461339512721933,
          3.708304115229878,
          1.6538056080387138,
          2.733734859352322,
          3.1052752452195076,
          2.4039517831724773,
          0.390071088352669,
          2.185600727991858,
          2.3228781069295352,
          1.8428373669737603,
          2.943151660220919,
          1.2002935847728033,
          1.7653026555494944,
          1.6501856150938115,
          1.855776312128536,
          2.7319866321534163,
          1.0372917882797001,
          2.7416585218838554,
          1.7202194360088137,
          1.9421306804161407,
          1.6213470853011518,
          2.677972886420598,
          0.6155922291580456,
          1.263745722533566,
          2.2595407887649213,
          3.9667832703443686,
          2.99553955747048,
          1.8929768142073133,
          2.3921020498455,
          -0.07367848604366323,
          1.7805796277037846,
          2.2559334388607413,
          1.2959957430531182,
          2.475858445381354,
          1.2722256069439264,
          2.623343939643732,
          2.4056061673377354,
          1.476108555761344,
          1.4891891488345594,
          1.1553908403754973,
          2.1163349591689453,
          0.48397833498945597,
          2.572235905895739,
          2.1226753136722087,
          2.4932425791668122,
          1.5149228564061608,
          0.9601070321512668,
          0.392187461871343,
          0.35407827208853493,
          2.6380432934098548,
          2.427375765672821,
          1.5728221763641668,
          2.808836019506046,
          1.100318912859535,
          1.81857651375086,
          2.5599204545796717,
          1.7215464199781856,
          0.7531448413698072,
          2.8425163339904262,
          2.1784334283353606,
          2.6146043974609046,
          0.8258182238576364,
          2.278795279525711,
          3.368915704104741,
          0.5730076150207477,
          2.863625187787865,
          0.5782525104759493,
          0.2328596832981631,
          2.0750613047530355,
          1.3974685436375895,
          1.5090650727623152,
          1.4232038366306985,
          1.6190038483029543,
          2.860981056067043,
          3.2115061187387948,
          1.9882968929429756,
          1.249931935419911,
          1.9457553987078775,
          -1.1402417992840883,
          2.616680708184526,
          2.103779901541481,
          1.4273745245795515,
          2.0926009081767503,
          2.2611891539715225,
          1.6612251748575915,
          3.649546685542741,
          2.480677266891096,
          3.364769742472105,
          1.1080153667577355,
          0.31799126076786943,
          3.114079848036117,
          0.5078611940771562,
          1.1270857370374807,
          2.153159125398661,
          1.3724662618207863,
          2.7359375176436895,
          2.535477845680289,
          3.3702811555747503,
          1.8653214490333065,
          2.131592225213798,
          2.20548949605025,
          1.9942251718773336,
          2.6414079721524764,
          1.1473064660416359,
          -0.6197694957419402,
          1.7407051393009674,
          0.728944230217518,
          2.012838456749605,
          2.662369246327774,
          2.4032876418162505,
          1.7318206658310875,
          0.874466475744333,
          3.377638572793296,
          3.297625163894365,
          1.221004144840529,
          2.7843323213097504,
          0.7826886864356879,
          1.5612640685603956,
          2.490932299987094,
          0.5163794440733254,
          2.329233534170101,
          2.9907964912517975,
          3.074260429806548,
          2.942646633491941,
          3.1602817971522157,
          2.3402421183239825,
          2.443680015752832,
          2.1230839264084715,
          2.4088790070529735,
          3.0745703114993357
         ],
         "x0": " ",
         "xaxis": "x",
         "y0": " ",
         "yaxis": "y"
        },
        {
         "alignmentgroup": "True",
         "hovertemplate": "Label=t-Student<br>Data=%{x}<extra></extra>",
         "legendgroup": "t-Student",
         "marker": {
          "color": "purple"
         },
         "name": "t-Student",
         "notched": false,
         "offsetgroup": "t-Student",
         "orientation": "h",
         "showlegend": true,
         "type": "box",
         "x": [
          0.5799999831149955,
          0.31401869495397106,
          -1.3396221880629122,
          -0.8173640585071605,
          -0.8186702937873971,
          1.5381920211721505,
          -0.159481461253114,
          -1.1230724012674638,
          -2.4021031408374807,
          0.3398961180865356,
          1.5615046463438078,
          0.44057095410666813,
          3.7556699887507783,
          -0.07897271653943208,
          -0.22283497467440755,
          0.6064916149027823,
          2.278116553050947,
          1.6145743230236536,
          -1.271660658203279,
          1.1268786170046403,
          0.3309070622016834,
          -0.2798455165214374,
          0.6485301870888225,
          -0.25533698535941046,
          0.42268668553857286,
          -0.2890533947193254,
          -0.07177096616045489,
          -0.15785803043099064,
          -4.020727320209899,
          -1.0948853378152361,
          -0.31479135428596583,
          -0.5316093073185275,
          0.7957178587400849,
          -0.7261462719838147,
          -0.3170345876191921,
          1.9979885471778682,
          -2.3997051763828185,
          -0.08637255858423155,
          0.8527712952764581,
          -0.09508963005715945,
          -0.17313873380222722,
          0.8132001024353847,
          0.07609243523426255,
          0.38491872362905905,
          1.0237659767798009,
          -0.24346642464403914,
          0.7228621020134451,
          2.7117614010105,
          0.8284708566940598,
          1.1669556261618552,
          -0.0548054013153737,
          0.04941898329113556,
          1.3308170202435479,
          3.0607550197732953,
          6.0494938281713715,
          -1.685928770516481,
          -0.5120245371567006,
          0.8383720008300091,
          1.3451475217661102,
          0.2162883805029796,
          0.42920313382298986,
          0.5918740062006023,
          1.060045662936148,
          0.4558028796155138,
          -1.1154774957843223,
          0.6071542964341945,
          2.0444062923865856,
          0.3022898458231573,
          0.16122273958834005,
          -0.4357647573105171,
          -2.1884480140606493,
          0.328401435335518,
          8.029067036178036,
          -0.8359560657969409,
          -2.2650398931416618,
          -0.23123423795267156,
          0.9980890542776073,
          1.0138584860212594,
          0.3253965740249172,
          1.6693668169440912,
          0.8681027447393244,
          5.489009702808322,
          0.8564141881319194,
          1.4250923654975218,
          -1.6182697588268908,
          1.990055666285414,
          -5.7152856149403775,
          -0.9777507898416051,
          -0.9325218782666079,
          -0.8249984839174859,
          -2.5853495758923493,
          0.17089505498121468,
          0.020391294932425173,
          0.1182026573735361,
          1.6686517110617323,
          -0.09270384526485295,
          0.10940760732449245,
          -1.2984706001599158,
          0.2783099063198187,
          3.0047027546368703,
          0.2056979880197663,
          1.860251328325694,
          0.041630201200091914,
          0.3453567012935942,
          -0.656048734528062,
          0.9078412584754125,
          3.59024981216198,
          1.5795858899135922,
          0.2267380098906495,
          0.22762570758975367,
          -0.7567112196578656,
          -0.4667080370154893,
          -0.8777413331609135,
          -0.3715953184261207,
          -1.1004306499766328,
          -2.134468765612561,
          0.1798737485275294,
          4.907603544355433,
          0.13801998631719892,
          -0.877296359437821,
          1.2869956947722145,
          1.3592650282526524,
          -0.24655933740365474,
          0.19202845667089247,
          2.6524431311717036,
          0.6633256790680104,
          -0.6285226680782251,
          0.03592334927341612,
          1.4118560272965697,
          0.4980068294432477,
          -0.9898456735915845,
          -3.0508739941161602,
          0.8115914676734806,
          -3.429107252108827,
          2.204963011810137,
          -0.7748017771074959,
          0.8688071527492893,
          1.5210756427990255,
          -0.5490855859842143,
          -0.9433361278194717,
          0.9498033406894558,
          -0.7086298175338135,
          -1.3706267372064143,
          0.7729204523092911,
          0.0733071401751775,
          -1.6186041268003588,
          0.9147334211437532,
          -0.12587322618587454,
          1.1311840909100572,
          1.0791123634959896,
          -0.023328020128130393,
          -0.4234825464135628,
          -1.0092186900566764,
          0.9459750479041952,
          0.37195955366492434,
          0.7101683403736434,
          0.2949054039615913,
          0.7839513533674425,
          0.33656424265388474,
          -1.424285368743878,
          -0.587728296990065,
          0.2595354131199979,
          -0.08755820961766336,
          -0.3098321269394004,
          -1.063698151216011,
          -0.9614090390513929,
          -2.114151624812543,
          -0.8520577868892055,
          -1.5419105776574153,
          -0.7352374268045772,
          0.07777662623332063,
          -4.732080222752276,
          -0.5863449066922433,
          -0.7099648398048792,
          -0.7960892987577822,
          -5.631643417606087,
          0.612221444775737,
          4.097548193909055,
          -0.1591505263642057,
          -1.8969741411106948,
          1.1554553394292912,
          0.9845539422627996,
          -0.7380155870249763,
          -0.12468888830319422,
          -0.8525630938266612,
          -0.5670907269885107,
          -5.718526891259926,
          0.3980380800267177,
          -0.6739225393729046,
          0.47302201174108827,
          -1.8192977370034351,
          0.9465794164203633,
          -0.5480004546801658,
          -0.6642021983775994,
          -1.0171909495633755,
          0.604580861986493,
          1.588593749559271,
          -0.5067046201267281,
          0.6812473934900551,
          -0.8516539401139124
         ],
         "x0": " ",
         "xaxis": "x",
         "y0": " ",
         "yaxis": "y"
        }
       ],
       "layout": {
        "boxmode": "group",
        "height": 500,
        "legend": {
         "title": {
          "text": "Label"
         },
         "tracegroupgap": 0
        },
        "template": {
         "data": {
          "bar": [
           {
            "error_x": {
             "color": "#2a3f5f"
            },
            "error_y": {
             "color": "#2a3f5f"
            },
            "marker": {
             "line": {
              "color": "#E5ECF6",
              "width": 0.5
             },
             "pattern": {
              "fillmode": "overlay",
              "size": 10,
              "solidity": 0.2
             }
            },
            "type": "bar"
           }
          ],
          "barpolar": [
           {
            "marker": {
             "line": {
              "color": "#E5ECF6",
              "width": 0.5
             },
             "pattern": {
              "fillmode": "overlay",
              "size": 10,
              "solidity": 0.2
             }
            },
            "type": "barpolar"
           }
          ],
          "carpet": [
           {
            "aaxis": {
             "endlinecolor": "#2a3f5f",
             "gridcolor": "white",
             "linecolor": "white",
             "minorgridcolor": "white",
             "startlinecolor": "#2a3f5f"
            },
            "baxis": {
             "endlinecolor": "#2a3f5f",
             "gridcolor": "white",
             "linecolor": "white",
             "minorgridcolor": "white",
             "startlinecolor": "#2a3f5f"
            },
            "type": "carpet"
           }
          ],
          "choropleth": [
           {
            "colorbar": {
             "outlinewidth": 0,
             "ticks": ""
            },
            "type": "choropleth"
           }
          ],
          "contour": [
           {
            "colorbar": {
             "outlinewidth": 0,
             "ticks": ""
            },
            "colorscale": [
             [
              0,
              "#0d0887"
             ],
             [
              0.1111111111111111,
              "#46039f"
             ],
             [
              0.2222222222222222,
              "#7201a8"
             ],
             [
              0.3333333333333333,
              "#9c179e"
             ],
             [
              0.4444444444444444,
              "#bd3786"
             ],
             [
              0.5555555555555556,
              "#d8576b"
             ],
             [
              0.6666666666666666,
              "#ed7953"
             ],
             [
              0.7777777777777778,
              "#fb9f3a"
             ],
             [
              0.8888888888888888,
              "#fdca26"
             ],
             [
              1,
              "#f0f921"
             ]
            ],
            "type": "contour"
           }
          ],
          "contourcarpet": [
           {
            "colorbar": {
             "outlinewidth": 0,
             "ticks": ""
            },
            "type": "contourcarpet"
           }
          ],
          "heatmap": [
           {
            "colorbar": {
             "outlinewidth": 0,
             "ticks": ""
            },
            "colorscale": [
             [
              0,
              "#0d0887"
             ],
             [
              0.1111111111111111,
              "#46039f"
             ],
             [
              0.2222222222222222,
              "#7201a8"
             ],
             [
              0.3333333333333333,
              "#9c179e"
             ],
             [
              0.4444444444444444,
              "#bd3786"
             ],
             [
              0.5555555555555556,
              "#d8576b"
             ],
             [
              0.6666666666666666,
              "#ed7953"
             ],
             [
              0.7777777777777778,
              "#fb9f3a"
             ],
             [
              0.8888888888888888,
              "#fdca26"
             ],
             [
              1,
              "#f0f921"
             ]
            ],
            "type": "heatmap"
           }
          ],
          "heatmapgl": [
           {
            "colorbar": {
             "outlinewidth": 0,
             "ticks": ""
            },
            "colorscale": [
             [
              0,
              "#0d0887"
             ],
             [
              0.1111111111111111,
              "#46039f"
             ],
             [
              0.2222222222222222,
              "#7201a8"
             ],
             [
              0.3333333333333333,
              "#9c179e"
             ],
             [
              0.4444444444444444,
              "#bd3786"
             ],
             [
              0.5555555555555556,
              "#d8576b"
             ],
             [
              0.6666666666666666,
              "#ed7953"
             ],
             [
              0.7777777777777778,
              "#fb9f3a"
             ],
             [
              0.8888888888888888,
              "#fdca26"
             ],
             [
              1,
              "#f0f921"
             ]
            ],
            "type": "heatmapgl"
           }
          ],
          "histogram": [
           {
            "marker": {
             "pattern": {
              "fillmode": "overlay",
              "size": 10,
              "solidity": 0.2
             }
            },
            "type": "histogram"
           }
          ],
          "histogram2d": [
           {
            "colorbar": {
             "outlinewidth": 0,
             "ticks": ""
            },
            "colorscale": [
             [
              0,
              "#0d0887"
             ],
             [
              0.1111111111111111,
              "#46039f"
             ],
             [
              0.2222222222222222,
              "#7201a8"
             ],
             [
              0.3333333333333333,
              "#9c179e"
             ],
             [
              0.4444444444444444,
              "#bd3786"
             ],
             [
              0.5555555555555556,
              "#d8576b"
             ],
             [
              0.6666666666666666,
              "#ed7953"
             ],
             [
              0.7777777777777778,
              "#fb9f3a"
             ],
             [
              0.8888888888888888,
              "#fdca26"
             ],
             [
              1,
              "#f0f921"
             ]
            ],
            "type": "histogram2d"
           }
          ],
          "histogram2dcontour": [
           {
            "colorbar": {
             "outlinewidth": 0,
             "ticks": ""
            },
            "colorscale": [
             [
              0,
              "#0d0887"
             ],
             [
              0.1111111111111111,
              "#46039f"
             ],
             [
              0.2222222222222222,
              "#7201a8"
             ],
             [
              0.3333333333333333,
              "#9c179e"
             ],
             [
              0.4444444444444444,
              "#bd3786"
             ],
             [
              0.5555555555555556,
              "#d8576b"
             ],
             [
              0.6666666666666666,
              "#ed7953"
             ],
             [
              0.7777777777777778,
              "#fb9f3a"
             ],
             [
              0.8888888888888888,
              "#fdca26"
             ],
             [
              1,
              "#f0f921"
             ]
            ],
            "type": "histogram2dcontour"
           }
          ],
          "mesh3d": [
           {
            "colorbar": {
             "outlinewidth": 0,
             "ticks": ""
            },
            "type": "mesh3d"
           }
          ],
          "parcoords": [
           {
            "line": {
             "colorbar": {
              "outlinewidth": 0,
              "ticks": ""
             }
            },
            "type": "parcoords"
           }
          ],
          "pie": [
           {
            "automargin": true,
            "type": "pie"
           }
          ],
          "scatter": [
           {
            "fillpattern": {
             "fillmode": "overlay",
             "size": 10,
             "solidity": 0.2
            },
            "type": "scatter"
           }
          ],
          "scatter3d": [
           {
            "line": {
             "colorbar": {
              "outlinewidth": 0,
              "ticks": ""
             }
            },
            "marker": {
             "colorbar": {
              "outlinewidth": 0,
              "ticks": ""
             }
            },
            "type": "scatter3d"
           }
          ],
          "scattercarpet": [
           {
            "marker": {
             "colorbar": {
              "outlinewidth": 0,
              "ticks": ""
             }
            },
            "type": "scattercarpet"
           }
          ],
          "scattergeo": [
           {
            "marker": {
             "colorbar": {
              "outlinewidth": 0,
              "ticks": ""
             }
            },
            "type": "scattergeo"
           }
          ],
          "scattergl": [
           {
            "marker": {
             "colorbar": {
              "outlinewidth": 0,
              "ticks": ""
             }
            },
            "type": "scattergl"
           }
          ],
          "scattermapbox": [
           {
            "marker": {
             "colorbar": {
              "outlinewidth": 0,
              "ticks": ""
             }
            },
            "type": "scattermapbox"
           }
          ],
          "scatterpolar": [
           {
            "marker": {
             "colorbar": {
              "outlinewidth": 0,
              "ticks": ""
             }
            },
            "type": "scatterpolar"
           }
          ],
          "scatterpolargl": [
           {
            "marker": {
             "colorbar": {
              "outlinewidth": 0,
              "ticks": ""
             }
            },
            "type": "scatterpolargl"
           }
          ],
          "scatterternary": [
           {
            "marker": {
             "colorbar": {
              "outlinewidth": 0,
              "ticks": ""
             }
            },
            "type": "scatterternary"
           }
          ],
          "surface": [
           {
            "colorbar": {
             "outlinewidth": 0,
             "ticks": ""
            },
            "colorscale": [
             [
              0,
              "#0d0887"
             ],
             [
              0.1111111111111111,
              "#46039f"
             ],
             [
              0.2222222222222222,
              "#7201a8"
             ],
             [
              0.3333333333333333,
              "#9c179e"
             ],
             [
              0.4444444444444444,
              "#bd3786"
             ],
             [
              0.5555555555555556,
              "#d8576b"
             ],
             [
              0.6666666666666666,
              "#ed7953"
             ],
             [
              0.7777777777777778,
              "#fb9f3a"
             ],
             [
              0.8888888888888888,
              "#fdca26"
             ],
             [
              1,
              "#f0f921"
             ]
            ],
            "type": "surface"
           }
          ],
          "table": [
           {
            "cells": {
             "fill": {
              "color": "#EBF0F8"
             },
             "line": {
              "color": "white"
             }
            },
            "header": {
             "fill": {
              "color": "#C8D4E3"
             },
             "line": {
              "color": "white"
             }
            },
            "type": "table"
           }
          ]
         },
         "layout": {
          "annotationdefaults": {
           "arrowcolor": "#2a3f5f",
           "arrowhead": 0,
           "arrowwidth": 1
          },
          "autotypenumbers": "strict",
          "coloraxis": {
           "colorbar": {
            "outlinewidth": 0,
            "ticks": ""
           }
          },
          "colorscale": {
           "diverging": [
            [
             0,
             "#8e0152"
            ],
            [
             0.1,
             "#c51b7d"
            ],
            [
             0.2,
             "#de77ae"
            ],
            [
             0.3,
             "#f1b6da"
            ],
            [
             0.4,
             "#fde0ef"
            ],
            [
             0.5,
             "#f7f7f7"
            ],
            [
             0.6,
             "#e6f5d0"
            ],
            [
             0.7,
             "#b8e186"
            ],
            [
             0.8,
             "#7fbc41"
            ],
            [
             0.9,
             "#4d9221"
            ],
            [
             1,
             "#276419"
            ]
           ],
           "sequential": [
            [
             0,
             "#0d0887"
            ],
            [
             0.1111111111111111,
             "#46039f"
            ],
            [
             0.2222222222222222,
             "#7201a8"
            ],
            [
             0.3333333333333333,
             "#9c179e"
            ],
            [
             0.4444444444444444,
             "#bd3786"
            ],
            [
             0.5555555555555556,
             "#d8576b"
            ],
            [
             0.6666666666666666,
             "#ed7953"
            ],
            [
             0.7777777777777778,
             "#fb9f3a"
            ],
            [
             0.8888888888888888,
             "#fdca26"
            ],
            [
             1,
             "#f0f921"
            ]
           ],
           "sequentialminus": [
            [
             0,
             "#0d0887"
            ],
            [
             0.1111111111111111,
             "#46039f"
            ],
            [
             0.2222222222222222,
             "#7201a8"
            ],
            [
             0.3333333333333333,
             "#9c179e"
            ],
            [
             0.4444444444444444,
             "#bd3786"
            ],
            [
             0.5555555555555556,
             "#d8576b"
            ],
            [
             0.6666666666666666,
             "#ed7953"
            ],
            [
             0.7777777777777778,
             "#fb9f3a"
            ],
            [
             0.8888888888888888,
             "#fdca26"
            ],
            [
             1,
             "#f0f921"
            ]
           ]
          },
          "colorway": [
           "#636efa",
           "#EF553B",
           "#00cc96",
           "#ab63fa",
           "#FFA15A",
           "#19d3f3",
           "#FF6692",
           "#B6E880",
           "#FF97FF",
           "#FECB52"
          ],
          "font": {
           "color": "#2a3f5f"
          },
          "geo": {
           "bgcolor": "white",
           "lakecolor": "white",
           "landcolor": "#E5ECF6",
           "showlakes": true,
           "showland": true,
           "subunitcolor": "white"
          },
          "hoverlabel": {
           "align": "left"
          },
          "hovermode": "closest",
          "mapbox": {
           "style": "light"
          },
          "paper_bgcolor": "white",
          "plot_bgcolor": "#E5ECF6",
          "polar": {
           "angularaxis": {
            "gridcolor": "white",
            "linecolor": "white",
            "ticks": ""
           },
           "bgcolor": "#E5ECF6",
           "radialaxis": {
            "gridcolor": "white",
            "linecolor": "white",
            "ticks": ""
           }
          },
          "scene": {
           "xaxis": {
            "backgroundcolor": "#E5ECF6",
            "gridcolor": "white",
            "gridwidth": 2,
            "linecolor": "white",
            "showbackground": true,
            "ticks": "",
            "zerolinecolor": "white"
           },
           "yaxis": {
            "backgroundcolor": "#E5ECF6",
            "gridcolor": "white",
            "gridwidth": 2,
            "linecolor": "white",
            "showbackground": true,
            "ticks": "",
            "zerolinecolor": "white"
           },
           "zaxis": {
            "backgroundcolor": "#E5ECF6",
            "gridcolor": "white",
            "gridwidth": 2,
            "linecolor": "white",
            "showbackground": true,
            "ticks": "",
            "zerolinecolor": "white"
           }
          },
          "shapedefaults": {
           "line": {
            "color": "#2a3f5f"
           }
          },
          "ternary": {
           "aaxis": {
            "gridcolor": "white",
            "linecolor": "white",
            "ticks": ""
           },
           "baxis": {
            "gridcolor": "white",
            "linecolor": "white",
            "ticks": ""
           },
           "bgcolor": "#E5ECF6",
           "caxis": {
            "gridcolor": "white",
            "linecolor": "white",
            "ticks": ""
           }
          },
          "title": {
           "x": 0.05
          },
          "xaxis": {
           "automargin": true,
           "gridcolor": "white",
           "linecolor": "white",
           "ticks": "",
           "title": {
            "standoff": 15
           },
           "zerolinecolor": "white",
           "zerolinewidth": 2
          },
          "yaxis": {
           "automargin": true,
           "gridcolor": "white",
           "linecolor": "white",
           "ticks": "",
           "title": {
            "standoff": 15
           },
           "zerolinecolor": "white",
           "zerolinewidth": 2
          }
         }
        },
        "title": {
         "text": "Box Plots"
        },
        "width": 800,
        "xaxis": {
         "anchor": "y",
         "domain": [
          0,
          1
         ],
         "title": {
          "text": "Data"
         }
        },
        "yaxis": {
         "anchor": "x",
         "domain": [
          0,
          1
         ]
        }
       }
      }
     },
     "metadata": {},
     "output_type": "display_data"
    }
   ],
   "source": [
    "fig = px.box(df, x=\"Data\", \n",
    "             color=\"Label\",\n",
    "             color_discrete_sequence=['teal', 'purple'],\n",
    "             height = 500, width = 800,\n",
    "             title='Box Plots')\n",
    "fig.show()"
   ]
  },
  {
   "cell_type": "code",
   "execution_count": 17,
   "metadata": {},
   "outputs": [
    {
     "data": {
      "application/vnd.plotly.v1+json": {
       "config": {
        "plotlyServerURL": "https://plot.ly"
       },
       "data": [
        {
         "alignmentgroup": "True",
         "hovertemplate": "Label=Normal<br>Data=%{x}<extra></extra>",
         "legendgroup": "Normal",
         "marker": {
          "color": "rgb(95, 70, 144)"
         },
         "name": "Normal",
         "notched": false,
         "offsetgroup": "Normal",
         "orientation": "h",
         "showlegend": true,
         "type": "box",
         "x": [
          0.7661340288013501,
          2.936432806963716,
          1.698715946697745,
          3.0727074963317897,
          1.4342313016003732,
          2.1066729722938344,
          2.752195346607073,
          1.1960416335283588,
          2.638625760804452,
          2.3187846195686066,
          1.5134087439556256,
          1.2320552857983493,
          3.0621907351647897,
          3.5005790849030385,
          3.222192998133994,
          0.8121517482052838,
          2.562811342572542,
          1.5094589548994035,
          2.0617095629885784,
          2.349453915820724,
          1.2133023300704542,
          1.2117744338342904,
          0.31979158708017996,
          1.2501441281815648,
          2.101793598098098,
          2.697786236074823,
          1.0722918812586357,
          1.3693506387877665,
          -0.4497388122183299,
          2.346175895744964,
          2.261963226946059,
          3.3299616334667412,
          3.4385904384306256,
          1.0824620059049213,
          3.2777597306834974,
          0.6451948567883088,
          3.066608776453147,
          2.0203996785827156,
          3.11174134362932,
          2.1037891481558124,
          1.2970672230328515,
          2.662209583624894,
          1.9737345351547175,
          2.6477285936774027,
          2.15735791756473,
          1.7685210770487219,
          1.685840314655774,
          3.028535367038306,
          1.326835403378332,
          -0.09604122523542458,
          1.9341510802078192,
          1.1699117826004417,
          2.014907168831193,
          4.066784001888998,
          3.227902989434626,
          1.2880938291738808,
          1.9927850653588637,
          2.6966929562262174,
          3.1290940780117342,
          1.8387259064931831,
          0.06380274263616403,
          0.749678366264886,
          3.8199592042987476,
          3.1553366079911065,
          2.1910347356492004,
          1.6360209258074028,
          0.5539081321553978,
          3.687128610766363,
          3.0353051495023093,
          2.6418765194818867,
          -0.21461339512721933,
          3.708304115229878,
          1.6538056080387138,
          2.733734859352322,
          3.1052752452195076,
          2.4039517831724773,
          0.390071088352669,
          2.185600727991858,
          2.3228781069295352,
          1.8428373669737603,
          2.943151660220919,
          1.2002935847728033,
          1.7653026555494944,
          1.6501856150938115,
          1.855776312128536,
          2.7319866321534163,
          1.0372917882797001,
          2.7416585218838554,
          1.7202194360088137,
          1.9421306804161407,
          1.6213470853011518,
          2.677972886420598,
          0.6155922291580456,
          1.263745722533566,
          2.2595407887649213,
          3.9667832703443686,
          2.99553955747048,
          1.8929768142073133,
          2.3921020498455,
          -0.07367848604366323,
          1.7805796277037846,
          2.2559334388607413,
          1.2959957430531182,
          2.475858445381354,
          1.2722256069439264,
          2.623343939643732,
          2.4056061673377354,
          1.476108555761344,
          1.4891891488345594,
          1.1553908403754973,
          2.1163349591689453,
          0.48397833498945597,
          2.572235905895739,
          2.1226753136722087,
          2.4932425791668122,
          1.5149228564061608,
          0.9601070321512668,
          0.392187461871343,
          0.35407827208853493,
          2.6380432934098548,
          2.427375765672821,
          1.5728221763641668,
          2.808836019506046,
          1.100318912859535,
          1.81857651375086,
          2.5599204545796717,
          1.7215464199781856,
          0.7531448413698072,
          2.8425163339904262,
          2.1784334283353606,
          2.6146043974609046,
          0.8258182238576364,
          2.278795279525711,
          3.368915704104741,
          0.5730076150207477,
          2.863625187787865,
          0.5782525104759493,
          0.2328596832981631,
          2.0750613047530355,
          1.3974685436375895,
          1.5090650727623152,
          1.4232038366306985,
          1.6190038483029543,
          2.860981056067043,
          3.2115061187387948,
          1.9882968929429756,
          1.249931935419911,
          1.9457553987078775,
          -1.1402417992840883,
          2.616680708184526,
          2.103779901541481,
          1.4273745245795515,
          2.0926009081767503,
          2.2611891539715225,
          1.6612251748575915,
          3.649546685542741,
          2.480677266891096,
          3.364769742472105,
          1.1080153667577355,
          0.31799126076786943,
          3.114079848036117,
          0.5078611940771562,
          1.1270857370374807,
          2.153159125398661,
          1.3724662618207863,
          2.7359375176436895,
          2.535477845680289,
          3.3702811555747503,
          1.8653214490333065,
          2.131592225213798,
          2.20548949605025,
          1.9942251718773336,
          2.6414079721524764,
          1.1473064660416359,
          -0.6197694957419402,
          1.7407051393009674,
          0.728944230217518,
          2.012838456749605,
          2.662369246327774,
          2.4032876418162505,
          1.7318206658310875,
          0.874466475744333,
          3.377638572793296,
          3.297625163894365,
          1.221004144840529,
          2.7843323213097504,
          0.7826886864356879,
          1.5612640685603956,
          2.490932299987094,
          0.5163794440733254,
          2.329233534170101,
          2.9907964912517975,
          3.074260429806548,
          2.942646633491941,
          3.1602817971522157,
          2.3402421183239825,
          2.443680015752832,
          2.1230839264084715,
          2.4088790070529735,
          3.0745703114993357
         ],
         "x0": " ",
         "xaxis": "x",
         "y0": " ",
         "yaxis": "y"
        },
        {
         "alignmentgroup": "True",
         "hovertemplate": "Label=t-Student<br>Data=%{x}<extra></extra>",
         "legendgroup": "t-Student",
         "marker": {
          "color": "rgb(29, 105, 150)"
         },
         "name": "t-Student",
         "notched": false,
         "offsetgroup": "t-Student",
         "orientation": "h",
         "showlegend": true,
         "type": "box",
         "x": [
          0.5799999831149955,
          0.31401869495397106,
          -1.3396221880629122,
          -0.8173640585071605,
          -0.8186702937873971,
          1.5381920211721505,
          -0.159481461253114,
          -1.1230724012674638,
          -2.4021031408374807,
          0.3398961180865356,
          1.5615046463438078,
          0.44057095410666813,
          3.7556699887507783,
          -0.07897271653943208,
          -0.22283497467440755,
          0.6064916149027823,
          2.278116553050947,
          1.6145743230236536,
          -1.271660658203279,
          1.1268786170046403,
          0.3309070622016834,
          -0.2798455165214374,
          0.6485301870888225,
          -0.25533698535941046,
          0.42268668553857286,
          -0.2890533947193254,
          -0.07177096616045489,
          -0.15785803043099064,
          -4.020727320209899,
          -1.0948853378152361,
          -0.31479135428596583,
          -0.5316093073185275,
          0.7957178587400849,
          -0.7261462719838147,
          -0.3170345876191921,
          1.9979885471778682,
          -2.3997051763828185,
          -0.08637255858423155,
          0.8527712952764581,
          -0.09508963005715945,
          -0.17313873380222722,
          0.8132001024353847,
          0.07609243523426255,
          0.38491872362905905,
          1.0237659767798009,
          -0.24346642464403914,
          0.7228621020134451,
          2.7117614010105,
          0.8284708566940598,
          1.1669556261618552,
          -0.0548054013153737,
          0.04941898329113556,
          1.3308170202435479,
          3.0607550197732953,
          6.0494938281713715,
          -1.685928770516481,
          -0.5120245371567006,
          0.8383720008300091,
          1.3451475217661102,
          0.2162883805029796,
          0.42920313382298986,
          0.5918740062006023,
          1.060045662936148,
          0.4558028796155138,
          -1.1154774957843223,
          0.6071542964341945,
          2.0444062923865856,
          0.3022898458231573,
          0.16122273958834005,
          -0.4357647573105171,
          -2.1884480140606493,
          0.328401435335518,
          8.029067036178036,
          -0.8359560657969409,
          -2.2650398931416618,
          -0.23123423795267156,
          0.9980890542776073,
          1.0138584860212594,
          0.3253965740249172,
          1.6693668169440912,
          0.8681027447393244,
          5.489009702808322,
          0.8564141881319194,
          1.4250923654975218,
          -1.6182697588268908,
          1.990055666285414,
          -5.7152856149403775,
          -0.9777507898416051,
          -0.9325218782666079,
          -0.8249984839174859,
          -2.5853495758923493,
          0.17089505498121468,
          0.020391294932425173,
          0.1182026573735361,
          1.6686517110617323,
          -0.09270384526485295,
          0.10940760732449245,
          -1.2984706001599158,
          0.2783099063198187,
          3.0047027546368703,
          0.2056979880197663,
          1.860251328325694,
          0.041630201200091914,
          0.3453567012935942,
          -0.656048734528062,
          0.9078412584754125,
          3.59024981216198,
          1.5795858899135922,
          0.2267380098906495,
          0.22762570758975367,
          -0.7567112196578656,
          -0.4667080370154893,
          -0.8777413331609135,
          -0.3715953184261207,
          -1.1004306499766328,
          -2.134468765612561,
          0.1798737485275294,
          4.907603544355433,
          0.13801998631719892,
          -0.877296359437821,
          1.2869956947722145,
          1.3592650282526524,
          -0.24655933740365474,
          0.19202845667089247,
          2.6524431311717036,
          0.6633256790680104,
          -0.6285226680782251,
          0.03592334927341612,
          1.4118560272965697,
          0.4980068294432477,
          -0.9898456735915845,
          -3.0508739941161602,
          0.8115914676734806,
          -3.429107252108827,
          2.204963011810137,
          -0.7748017771074959,
          0.8688071527492893,
          1.5210756427990255,
          -0.5490855859842143,
          -0.9433361278194717,
          0.9498033406894558,
          -0.7086298175338135,
          -1.3706267372064143,
          0.7729204523092911,
          0.0733071401751775,
          -1.6186041268003588,
          0.9147334211437532,
          -0.12587322618587454,
          1.1311840909100572,
          1.0791123634959896,
          -0.023328020128130393,
          -0.4234825464135628,
          -1.0092186900566764,
          0.9459750479041952,
          0.37195955366492434,
          0.7101683403736434,
          0.2949054039615913,
          0.7839513533674425,
          0.33656424265388474,
          -1.424285368743878,
          -0.587728296990065,
          0.2595354131199979,
          -0.08755820961766336,
          -0.3098321269394004,
          -1.063698151216011,
          -0.9614090390513929,
          -2.114151624812543,
          -0.8520577868892055,
          -1.5419105776574153,
          -0.7352374268045772,
          0.07777662623332063,
          -4.732080222752276,
          -0.5863449066922433,
          -0.7099648398048792,
          -0.7960892987577822,
          -5.631643417606087,
          0.612221444775737,
          4.097548193909055,
          -0.1591505263642057,
          -1.8969741411106948,
          1.1554553394292912,
          0.9845539422627996,
          -0.7380155870249763,
          -0.12468888830319422,
          -0.8525630938266612,
          -0.5670907269885107,
          -5.718526891259926,
          0.3980380800267177,
          -0.6739225393729046,
          0.47302201174108827,
          -1.8192977370034351,
          0.9465794164203633,
          -0.5480004546801658,
          -0.6642021983775994,
          -1.0171909495633755,
          0.604580861986493,
          1.588593749559271,
          -0.5067046201267281,
          0.6812473934900551,
          -0.8516539401139124
         ],
         "x0": " ",
         "xaxis": "x",
         "y0": " ",
         "yaxis": "y"
        }
       ],
       "layout": {
        "boxmode": "group",
        "height": 500,
        "legend": {
         "title": {
          "text": "Label"
         },
         "tracegroupgap": 0
        },
        "template": {
         "data": {
          "bar": [
           {
            "error_x": {
             "color": "#2a3f5f"
            },
            "error_y": {
             "color": "#2a3f5f"
            },
            "marker": {
             "line": {
              "color": "#E5ECF6",
              "width": 0.5
             },
             "pattern": {
              "fillmode": "overlay",
              "size": 10,
              "solidity": 0.2
             }
            },
            "type": "bar"
           }
          ],
          "barpolar": [
           {
            "marker": {
             "line": {
              "color": "#E5ECF6",
              "width": 0.5
             },
             "pattern": {
              "fillmode": "overlay",
              "size": 10,
              "solidity": 0.2
             }
            },
            "type": "barpolar"
           }
          ],
          "carpet": [
           {
            "aaxis": {
             "endlinecolor": "#2a3f5f",
             "gridcolor": "white",
             "linecolor": "white",
             "minorgridcolor": "white",
             "startlinecolor": "#2a3f5f"
            },
            "baxis": {
             "endlinecolor": "#2a3f5f",
             "gridcolor": "white",
             "linecolor": "white",
             "minorgridcolor": "white",
             "startlinecolor": "#2a3f5f"
            },
            "type": "carpet"
           }
          ],
          "choropleth": [
           {
            "colorbar": {
             "outlinewidth": 0,
             "ticks": ""
            },
            "type": "choropleth"
           }
          ],
          "contour": [
           {
            "colorbar": {
             "outlinewidth": 0,
             "ticks": ""
            },
            "colorscale": [
             [
              0,
              "#0d0887"
             ],
             [
              0.1111111111111111,
              "#46039f"
             ],
             [
              0.2222222222222222,
              "#7201a8"
             ],
             [
              0.3333333333333333,
              "#9c179e"
             ],
             [
              0.4444444444444444,
              "#bd3786"
             ],
             [
              0.5555555555555556,
              "#d8576b"
             ],
             [
              0.6666666666666666,
              "#ed7953"
             ],
             [
              0.7777777777777778,
              "#fb9f3a"
             ],
             [
              0.8888888888888888,
              "#fdca26"
             ],
             [
              1,
              "#f0f921"
             ]
            ],
            "type": "contour"
           }
          ],
          "contourcarpet": [
           {
            "colorbar": {
             "outlinewidth": 0,
             "ticks": ""
            },
            "type": "contourcarpet"
           }
          ],
          "heatmap": [
           {
            "colorbar": {
             "outlinewidth": 0,
             "ticks": ""
            },
            "colorscale": [
             [
              0,
              "#0d0887"
             ],
             [
              0.1111111111111111,
              "#46039f"
             ],
             [
              0.2222222222222222,
              "#7201a8"
             ],
             [
              0.3333333333333333,
              "#9c179e"
             ],
             [
              0.4444444444444444,
              "#bd3786"
             ],
             [
              0.5555555555555556,
              "#d8576b"
             ],
             [
              0.6666666666666666,
              "#ed7953"
             ],
             [
              0.7777777777777778,
              "#fb9f3a"
             ],
             [
              0.8888888888888888,
              "#fdca26"
             ],
             [
              1,
              "#f0f921"
             ]
            ],
            "type": "heatmap"
           }
          ],
          "heatmapgl": [
           {
            "colorbar": {
             "outlinewidth": 0,
             "ticks": ""
            },
            "colorscale": [
             [
              0,
              "#0d0887"
             ],
             [
              0.1111111111111111,
              "#46039f"
             ],
             [
              0.2222222222222222,
              "#7201a8"
             ],
             [
              0.3333333333333333,
              "#9c179e"
             ],
             [
              0.4444444444444444,
              "#bd3786"
             ],
             [
              0.5555555555555556,
              "#d8576b"
             ],
             [
              0.6666666666666666,
              "#ed7953"
             ],
             [
              0.7777777777777778,
              "#fb9f3a"
             ],
             [
              0.8888888888888888,
              "#fdca26"
             ],
             [
              1,
              "#f0f921"
             ]
            ],
            "type": "heatmapgl"
           }
          ],
          "histogram": [
           {
            "marker": {
             "pattern": {
              "fillmode": "overlay",
              "size": 10,
              "solidity": 0.2
             }
            },
            "type": "histogram"
           }
          ],
          "histogram2d": [
           {
            "colorbar": {
             "outlinewidth": 0,
             "ticks": ""
            },
            "colorscale": [
             [
              0,
              "#0d0887"
             ],
             [
              0.1111111111111111,
              "#46039f"
             ],
             [
              0.2222222222222222,
              "#7201a8"
             ],
             [
              0.3333333333333333,
              "#9c179e"
             ],
             [
              0.4444444444444444,
              "#bd3786"
             ],
             [
              0.5555555555555556,
              "#d8576b"
             ],
             [
              0.6666666666666666,
              "#ed7953"
             ],
             [
              0.7777777777777778,
              "#fb9f3a"
             ],
             [
              0.8888888888888888,
              "#fdca26"
             ],
             [
              1,
              "#f0f921"
             ]
            ],
            "type": "histogram2d"
           }
          ],
          "histogram2dcontour": [
           {
            "colorbar": {
             "outlinewidth": 0,
             "ticks": ""
            },
            "colorscale": [
             [
              0,
              "#0d0887"
             ],
             [
              0.1111111111111111,
              "#46039f"
             ],
             [
              0.2222222222222222,
              "#7201a8"
             ],
             [
              0.3333333333333333,
              "#9c179e"
             ],
             [
              0.4444444444444444,
              "#bd3786"
             ],
             [
              0.5555555555555556,
              "#d8576b"
             ],
             [
              0.6666666666666666,
              "#ed7953"
             ],
             [
              0.7777777777777778,
              "#fb9f3a"
             ],
             [
              0.8888888888888888,
              "#fdca26"
             ],
             [
              1,
              "#f0f921"
             ]
            ],
            "type": "histogram2dcontour"
           }
          ],
          "mesh3d": [
           {
            "colorbar": {
             "outlinewidth": 0,
             "ticks": ""
            },
            "type": "mesh3d"
           }
          ],
          "parcoords": [
           {
            "line": {
             "colorbar": {
              "outlinewidth": 0,
              "ticks": ""
             }
            },
            "type": "parcoords"
           }
          ],
          "pie": [
           {
            "automargin": true,
            "type": "pie"
           }
          ],
          "scatter": [
           {
            "fillpattern": {
             "fillmode": "overlay",
             "size": 10,
             "solidity": 0.2
            },
            "type": "scatter"
           }
          ],
          "scatter3d": [
           {
            "line": {
             "colorbar": {
              "outlinewidth": 0,
              "ticks": ""
             }
            },
            "marker": {
             "colorbar": {
              "outlinewidth": 0,
              "ticks": ""
             }
            },
            "type": "scatter3d"
           }
          ],
          "scattercarpet": [
           {
            "marker": {
             "colorbar": {
              "outlinewidth": 0,
              "ticks": ""
             }
            },
            "type": "scattercarpet"
           }
          ],
          "scattergeo": [
           {
            "marker": {
             "colorbar": {
              "outlinewidth": 0,
              "ticks": ""
             }
            },
            "type": "scattergeo"
           }
          ],
          "scattergl": [
           {
            "marker": {
             "colorbar": {
              "outlinewidth": 0,
              "ticks": ""
             }
            },
            "type": "scattergl"
           }
          ],
          "scattermapbox": [
           {
            "marker": {
             "colorbar": {
              "outlinewidth": 0,
              "ticks": ""
             }
            },
            "type": "scattermapbox"
           }
          ],
          "scatterpolar": [
           {
            "marker": {
             "colorbar": {
              "outlinewidth": 0,
              "ticks": ""
             }
            },
            "type": "scatterpolar"
           }
          ],
          "scatterpolargl": [
           {
            "marker": {
             "colorbar": {
              "outlinewidth": 0,
              "ticks": ""
             }
            },
            "type": "scatterpolargl"
           }
          ],
          "scatterternary": [
           {
            "marker": {
             "colorbar": {
              "outlinewidth": 0,
              "ticks": ""
             }
            },
            "type": "scatterternary"
           }
          ],
          "surface": [
           {
            "colorbar": {
             "outlinewidth": 0,
             "ticks": ""
            },
            "colorscale": [
             [
              0,
              "#0d0887"
             ],
             [
              0.1111111111111111,
              "#46039f"
             ],
             [
              0.2222222222222222,
              "#7201a8"
             ],
             [
              0.3333333333333333,
              "#9c179e"
             ],
             [
              0.4444444444444444,
              "#bd3786"
             ],
             [
              0.5555555555555556,
              "#d8576b"
             ],
             [
              0.6666666666666666,
              "#ed7953"
             ],
             [
              0.7777777777777778,
              "#fb9f3a"
             ],
             [
              0.8888888888888888,
              "#fdca26"
             ],
             [
              1,
              "#f0f921"
             ]
            ],
            "type": "surface"
           }
          ],
          "table": [
           {
            "cells": {
             "fill": {
              "color": "#EBF0F8"
             },
             "line": {
              "color": "white"
             }
            },
            "header": {
             "fill": {
              "color": "#C8D4E3"
             },
             "line": {
              "color": "white"
             }
            },
            "type": "table"
           }
          ]
         },
         "layout": {
          "annotationdefaults": {
           "arrowcolor": "#2a3f5f",
           "arrowhead": 0,
           "arrowwidth": 1
          },
          "autotypenumbers": "strict",
          "coloraxis": {
           "colorbar": {
            "outlinewidth": 0,
            "ticks": ""
           }
          },
          "colorscale": {
           "diverging": [
            [
             0,
             "#8e0152"
            ],
            [
             0.1,
             "#c51b7d"
            ],
            [
             0.2,
             "#de77ae"
            ],
            [
             0.3,
             "#f1b6da"
            ],
            [
             0.4,
             "#fde0ef"
            ],
            [
             0.5,
             "#f7f7f7"
            ],
            [
             0.6,
             "#e6f5d0"
            ],
            [
             0.7,
             "#b8e186"
            ],
            [
             0.8,
             "#7fbc41"
            ],
            [
             0.9,
             "#4d9221"
            ],
            [
             1,
             "#276419"
            ]
           ],
           "sequential": [
            [
             0,
             "#0d0887"
            ],
            [
             0.1111111111111111,
             "#46039f"
            ],
            [
             0.2222222222222222,
             "#7201a8"
            ],
            [
             0.3333333333333333,
             "#9c179e"
            ],
            [
             0.4444444444444444,
             "#bd3786"
            ],
            [
             0.5555555555555556,
             "#d8576b"
            ],
            [
             0.6666666666666666,
             "#ed7953"
            ],
            [
             0.7777777777777778,
             "#fb9f3a"
            ],
            [
             0.8888888888888888,
             "#fdca26"
            ],
            [
             1,
             "#f0f921"
            ]
           ],
           "sequentialminus": [
            [
             0,
             "#0d0887"
            ],
            [
             0.1111111111111111,
             "#46039f"
            ],
            [
             0.2222222222222222,
             "#7201a8"
            ],
            [
             0.3333333333333333,
             "#9c179e"
            ],
            [
             0.4444444444444444,
             "#bd3786"
            ],
            [
             0.5555555555555556,
             "#d8576b"
            ],
            [
             0.6666666666666666,
             "#ed7953"
            ],
            [
             0.7777777777777778,
             "#fb9f3a"
            ],
            [
             0.8888888888888888,
             "#fdca26"
            ],
            [
             1,
             "#f0f921"
            ]
           ]
          },
          "colorway": [
           "#636efa",
           "#EF553B",
           "#00cc96",
           "#ab63fa",
           "#FFA15A",
           "#19d3f3",
           "#FF6692",
           "#B6E880",
           "#FF97FF",
           "#FECB52"
          ],
          "font": {
           "color": "#2a3f5f"
          },
          "geo": {
           "bgcolor": "white",
           "lakecolor": "white",
           "landcolor": "#E5ECF6",
           "showlakes": true,
           "showland": true,
           "subunitcolor": "white"
          },
          "hoverlabel": {
           "align": "left"
          },
          "hovermode": "closest",
          "mapbox": {
           "style": "light"
          },
          "paper_bgcolor": "white",
          "plot_bgcolor": "#E5ECF6",
          "polar": {
           "angularaxis": {
            "gridcolor": "white",
            "linecolor": "white",
            "ticks": ""
           },
           "bgcolor": "#E5ECF6",
           "radialaxis": {
            "gridcolor": "white",
            "linecolor": "white",
            "ticks": ""
           }
          },
          "scene": {
           "xaxis": {
            "backgroundcolor": "#E5ECF6",
            "gridcolor": "white",
            "gridwidth": 2,
            "linecolor": "white",
            "showbackground": true,
            "ticks": "",
            "zerolinecolor": "white"
           },
           "yaxis": {
            "backgroundcolor": "#E5ECF6",
            "gridcolor": "white",
            "gridwidth": 2,
            "linecolor": "white",
            "showbackground": true,
            "ticks": "",
            "zerolinecolor": "white"
           },
           "zaxis": {
            "backgroundcolor": "#E5ECF6",
            "gridcolor": "white",
            "gridwidth": 2,
            "linecolor": "white",
            "showbackground": true,
            "ticks": "",
            "zerolinecolor": "white"
           }
          },
          "shapedefaults": {
           "line": {
            "color": "#2a3f5f"
           }
          },
          "ternary": {
           "aaxis": {
            "gridcolor": "white",
            "linecolor": "white",
            "ticks": ""
           },
           "baxis": {
            "gridcolor": "white",
            "linecolor": "white",
            "ticks": ""
           },
           "bgcolor": "#E5ECF6",
           "caxis": {
            "gridcolor": "white",
            "linecolor": "white",
            "ticks": ""
           }
          },
          "title": {
           "x": 0.05
          },
          "xaxis": {
           "automargin": true,
           "gridcolor": "white",
           "linecolor": "white",
           "ticks": "",
           "title": {
            "standoff": 15
           },
           "zerolinecolor": "white",
           "zerolinewidth": 2
          },
          "yaxis": {
           "automargin": true,
           "gridcolor": "white",
           "linecolor": "white",
           "ticks": "",
           "title": {
            "standoff": 15
           },
           "zerolinecolor": "white",
           "zerolinewidth": 2
          }
         }
        },
        "title": {
         "text": "Box Plots"
        },
        "width": 800,
        "xaxis": {
         "anchor": "y",
         "domain": [
          0,
          1
         ],
         "title": {
          "text": "Data"
         }
        },
        "yaxis": {
         "anchor": "x",
         "domain": [
          0,
          1
         ]
        }
       }
      }
     },
     "metadata": {},
     "output_type": "display_data"
    }
   ],
   "source": [
    "fig = px.box(df, x=\"Data\", \n",
    "             color=\"Label\",\n",
    "             color_discrete_sequence=px.colors.qualitative.Prism,\n",
    "             height = 500, width = 800,\n",
    "             title='Box Plots')\n",
    "fig.show()"
   ]
  },
  {
   "cell_type": "code",
   "execution_count": 18,
   "metadata": {},
   "outputs": [
    {
     "data": {
      "application/vnd.plotly.v1+json": {
       "config": {
        "plotlyServerURL": "https://plot.ly"
       },
       "data": [
        {
         "alignmentgroup": "True",
         "hovertemplate": "Label=Normal<br>Data=%{x}<extra></extra>",
         "legendgroup": "Normal",
         "marker": {
          "color": "teal"
         },
         "name": "Normal",
         "notched": true,
         "offsetgroup": "Normal",
         "orientation": "h",
         "showlegend": true,
         "type": "box",
         "x": [
          0.7661340288013501,
          2.936432806963716,
          1.698715946697745,
          3.0727074963317897,
          1.4342313016003732,
          2.1066729722938344,
          2.752195346607073,
          1.1960416335283588,
          2.638625760804452,
          2.3187846195686066,
          1.5134087439556256,
          1.2320552857983493,
          3.0621907351647897,
          3.5005790849030385,
          3.222192998133994,
          0.8121517482052838,
          2.562811342572542,
          1.5094589548994035,
          2.0617095629885784,
          2.349453915820724,
          1.2133023300704542,
          1.2117744338342904,
          0.31979158708017996,
          1.2501441281815648,
          2.101793598098098,
          2.697786236074823,
          1.0722918812586357,
          1.3693506387877665,
          -0.4497388122183299,
          2.346175895744964,
          2.261963226946059,
          3.3299616334667412,
          3.4385904384306256,
          1.0824620059049213,
          3.2777597306834974,
          0.6451948567883088,
          3.066608776453147,
          2.0203996785827156,
          3.11174134362932,
          2.1037891481558124,
          1.2970672230328515,
          2.662209583624894,
          1.9737345351547175,
          2.6477285936774027,
          2.15735791756473,
          1.7685210770487219,
          1.685840314655774,
          3.028535367038306,
          1.326835403378332,
          -0.09604122523542458,
          1.9341510802078192,
          1.1699117826004417,
          2.014907168831193,
          4.066784001888998,
          3.227902989434626,
          1.2880938291738808,
          1.9927850653588637,
          2.6966929562262174,
          3.1290940780117342,
          1.8387259064931831,
          0.06380274263616403,
          0.749678366264886,
          3.8199592042987476,
          3.1553366079911065,
          2.1910347356492004,
          1.6360209258074028,
          0.5539081321553978,
          3.687128610766363,
          3.0353051495023093,
          2.6418765194818867,
          -0.21461339512721933,
          3.708304115229878,
          1.6538056080387138,
          2.733734859352322,
          3.1052752452195076,
          2.4039517831724773,
          0.390071088352669,
          2.185600727991858,
          2.3228781069295352,
          1.8428373669737603,
          2.943151660220919,
          1.2002935847728033,
          1.7653026555494944,
          1.6501856150938115,
          1.855776312128536,
          2.7319866321534163,
          1.0372917882797001,
          2.7416585218838554,
          1.7202194360088137,
          1.9421306804161407,
          1.6213470853011518,
          2.677972886420598,
          0.6155922291580456,
          1.263745722533566,
          2.2595407887649213,
          3.9667832703443686,
          2.99553955747048,
          1.8929768142073133,
          2.3921020498455,
          -0.07367848604366323,
          1.7805796277037846,
          2.2559334388607413,
          1.2959957430531182,
          2.475858445381354,
          1.2722256069439264,
          2.623343939643732,
          2.4056061673377354,
          1.476108555761344,
          1.4891891488345594,
          1.1553908403754973,
          2.1163349591689453,
          0.48397833498945597,
          2.572235905895739,
          2.1226753136722087,
          2.4932425791668122,
          1.5149228564061608,
          0.9601070321512668,
          0.392187461871343,
          0.35407827208853493,
          2.6380432934098548,
          2.427375765672821,
          1.5728221763641668,
          2.808836019506046,
          1.100318912859535,
          1.81857651375086,
          2.5599204545796717,
          1.7215464199781856,
          0.7531448413698072,
          2.8425163339904262,
          2.1784334283353606,
          2.6146043974609046,
          0.8258182238576364,
          2.278795279525711,
          3.368915704104741,
          0.5730076150207477,
          2.863625187787865,
          0.5782525104759493,
          0.2328596832981631,
          2.0750613047530355,
          1.3974685436375895,
          1.5090650727623152,
          1.4232038366306985,
          1.6190038483029543,
          2.860981056067043,
          3.2115061187387948,
          1.9882968929429756,
          1.249931935419911,
          1.9457553987078775,
          -1.1402417992840883,
          2.616680708184526,
          2.103779901541481,
          1.4273745245795515,
          2.0926009081767503,
          2.2611891539715225,
          1.6612251748575915,
          3.649546685542741,
          2.480677266891096,
          3.364769742472105,
          1.1080153667577355,
          0.31799126076786943,
          3.114079848036117,
          0.5078611940771562,
          1.1270857370374807,
          2.153159125398661,
          1.3724662618207863,
          2.7359375176436895,
          2.535477845680289,
          3.3702811555747503,
          1.8653214490333065,
          2.131592225213798,
          2.20548949605025,
          1.9942251718773336,
          2.6414079721524764,
          1.1473064660416359,
          -0.6197694957419402,
          1.7407051393009674,
          0.728944230217518,
          2.012838456749605,
          2.662369246327774,
          2.4032876418162505,
          1.7318206658310875,
          0.874466475744333,
          3.377638572793296,
          3.297625163894365,
          1.221004144840529,
          2.7843323213097504,
          0.7826886864356879,
          1.5612640685603956,
          2.490932299987094,
          0.5163794440733254,
          2.329233534170101,
          2.9907964912517975,
          3.074260429806548,
          2.942646633491941,
          3.1602817971522157,
          2.3402421183239825,
          2.443680015752832,
          2.1230839264084715,
          2.4088790070529735,
          3.0745703114993357
         ],
         "x0": " ",
         "xaxis": "x",
         "y0": " ",
         "yaxis": "y"
        },
        {
         "alignmentgroup": "True",
         "hovertemplate": "Label=t-Student<br>Data=%{x}<extra></extra>",
         "legendgroup": "t-Student",
         "marker": {
          "color": "purple"
         },
         "name": "t-Student",
         "notched": true,
         "offsetgroup": "t-Student",
         "orientation": "h",
         "showlegend": true,
         "type": "box",
         "x": [
          0.5799999831149955,
          0.31401869495397106,
          -1.3396221880629122,
          -0.8173640585071605,
          -0.8186702937873971,
          1.5381920211721505,
          -0.159481461253114,
          -1.1230724012674638,
          -2.4021031408374807,
          0.3398961180865356,
          1.5615046463438078,
          0.44057095410666813,
          3.7556699887507783,
          -0.07897271653943208,
          -0.22283497467440755,
          0.6064916149027823,
          2.278116553050947,
          1.6145743230236536,
          -1.271660658203279,
          1.1268786170046403,
          0.3309070622016834,
          -0.2798455165214374,
          0.6485301870888225,
          -0.25533698535941046,
          0.42268668553857286,
          -0.2890533947193254,
          -0.07177096616045489,
          -0.15785803043099064,
          -4.020727320209899,
          -1.0948853378152361,
          -0.31479135428596583,
          -0.5316093073185275,
          0.7957178587400849,
          -0.7261462719838147,
          -0.3170345876191921,
          1.9979885471778682,
          -2.3997051763828185,
          -0.08637255858423155,
          0.8527712952764581,
          -0.09508963005715945,
          -0.17313873380222722,
          0.8132001024353847,
          0.07609243523426255,
          0.38491872362905905,
          1.0237659767798009,
          -0.24346642464403914,
          0.7228621020134451,
          2.7117614010105,
          0.8284708566940598,
          1.1669556261618552,
          -0.0548054013153737,
          0.04941898329113556,
          1.3308170202435479,
          3.0607550197732953,
          6.0494938281713715,
          -1.685928770516481,
          -0.5120245371567006,
          0.8383720008300091,
          1.3451475217661102,
          0.2162883805029796,
          0.42920313382298986,
          0.5918740062006023,
          1.060045662936148,
          0.4558028796155138,
          -1.1154774957843223,
          0.6071542964341945,
          2.0444062923865856,
          0.3022898458231573,
          0.16122273958834005,
          -0.4357647573105171,
          -2.1884480140606493,
          0.328401435335518,
          8.029067036178036,
          -0.8359560657969409,
          -2.2650398931416618,
          -0.23123423795267156,
          0.9980890542776073,
          1.0138584860212594,
          0.3253965740249172,
          1.6693668169440912,
          0.8681027447393244,
          5.489009702808322,
          0.8564141881319194,
          1.4250923654975218,
          -1.6182697588268908,
          1.990055666285414,
          -5.7152856149403775,
          -0.9777507898416051,
          -0.9325218782666079,
          -0.8249984839174859,
          -2.5853495758923493,
          0.17089505498121468,
          0.020391294932425173,
          0.1182026573735361,
          1.6686517110617323,
          -0.09270384526485295,
          0.10940760732449245,
          -1.2984706001599158,
          0.2783099063198187,
          3.0047027546368703,
          0.2056979880197663,
          1.860251328325694,
          0.041630201200091914,
          0.3453567012935942,
          -0.656048734528062,
          0.9078412584754125,
          3.59024981216198,
          1.5795858899135922,
          0.2267380098906495,
          0.22762570758975367,
          -0.7567112196578656,
          -0.4667080370154893,
          -0.8777413331609135,
          -0.3715953184261207,
          -1.1004306499766328,
          -2.134468765612561,
          0.1798737485275294,
          4.907603544355433,
          0.13801998631719892,
          -0.877296359437821,
          1.2869956947722145,
          1.3592650282526524,
          -0.24655933740365474,
          0.19202845667089247,
          2.6524431311717036,
          0.6633256790680104,
          -0.6285226680782251,
          0.03592334927341612,
          1.4118560272965697,
          0.4980068294432477,
          -0.9898456735915845,
          -3.0508739941161602,
          0.8115914676734806,
          -3.429107252108827,
          2.204963011810137,
          -0.7748017771074959,
          0.8688071527492893,
          1.5210756427990255,
          -0.5490855859842143,
          -0.9433361278194717,
          0.9498033406894558,
          -0.7086298175338135,
          -1.3706267372064143,
          0.7729204523092911,
          0.0733071401751775,
          -1.6186041268003588,
          0.9147334211437532,
          -0.12587322618587454,
          1.1311840909100572,
          1.0791123634959896,
          -0.023328020128130393,
          -0.4234825464135628,
          -1.0092186900566764,
          0.9459750479041952,
          0.37195955366492434,
          0.7101683403736434,
          0.2949054039615913,
          0.7839513533674425,
          0.33656424265388474,
          -1.424285368743878,
          -0.587728296990065,
          0.2595354131199979,
          -0.08755820961766336,
          -0.3098321269394004,
          -1.063698151216011,
          -0.9614090390513929,
          -2.114151624812543,
          -0.8520577868892055,
          -1.5419105776574153,
          -0.7352374268045772,
          0.07777662623332063,
          -4.732080222752276,
          -0.5863449066922433,
          -0.7099648398048792,
          -0.7960892987577822,
          -5.631643417606087,
          0.612221444775737,
          4.097548193909055,
          -0.1591505263642057,
          -1.8969741411106948,
          1.1554553394292912,
          0.9845539422627996,
          -0.7380155870249763,
          -0.12468888830319422,
          -0.8525630938266612,
          -0.5670907269885107,
          -5.718526891259926,
          0.3980380800267177,
          -0.6739225393729046,
          0.47302201174108827,
          -1.8192977370034351,
          0.9465794164203633,
          -0.5480004546801658,
          -0.6642021983775994,
          -1.0171909495633755,
          0.604580861986493,
          1.588593749559271,
          -0.5067046201267281,
          0.6812473934900551,
          -0.8516539401139124
         ],
         "x0": " ",
         "xaxis": "x",
         "y0": " ",
         "yaxis": "y"
        }
       ],
       "layout": {
        "boxmode": "group",
        "height": 500,
        "legend": {
         "title": {
          "text": "Label"
         },
         "tracegroupgap": 0
        },
        "template": {
         "data": {
          "bar": [
           {
            "error_x": {
             "color": "#2a3f5f"
            },
            "error_y": {
             "color": "#2a3f5f"
            },
            "marker": {
             "line": {
              "color": "#E5ECF6",
              "width": 0.5
             },
             "pattern": {
              "fillmode": "overlay",
              "size": 10,
              "solidity": 0.2
             }
            },
            "type": "bar"
           }
          ],
          "barpolar": [
           {
            "marker": {
             "line": {
              "color": "#E5ECF6",
              "width": 0.5
             },
             "pattern": {
              "fillmode": "overlay",
              "size": 10,
              "solidity": 0.2
             }
            },
            "type": "barpolar"
           }
          ],
          "carpet": [
           {
            "aaxis": {
             "endlinecolor": "#2a3f5f",
             "gridcolor": "white",
             "linecolor": "white",
             "minorgridcolor": "white",
             "startlinecolor": "#2a3f5f"
            },
            "baxis": {
             "endlinecolor": "#2a3f5f",
             "gridcolor": "white",
             "linecolor": "white",
             "minorgridcolor": "white",
             "startlinecolor": "#2a3f5f"
            },
            "type": "carpet"
           }
          ],
          "choropleth": [
           {
            "colorbar": {
             "outlinewidth": 0,
             "ticks": ""
            },
            "type": "choropleth"
           }
          ],
          "contour": [
           {
            "colorbar": {
             "outlinewidth": 0,
             "ticks": ""
            },
            "colorscale": [
             [
              0,
              "#0d0887"
             ],
             [
              0.1111111111111111,
              "#46039f"
             ],
             [
              0.2222222222222222,
              "#7201a8"
             ],
             [
              0.3333333333333333,
              "#9c179e"
             ],
             [
              0.4444444444444444,
              "#bd3786"
             ],
             [
              0.5555555555555556,
              "#d8576b"
             ],
             [
              0.6666666666666666,
              "#ed7953"
             ],
             [
              0.7777777777777778,
              "#fb9f3a"
             ],
             [
              0.8888888888888888,
              "#fdca26"
             ],
             [
              1,
              "#f0f921"
             ]
            ],
            "type": "contour"
           }
          ],
          "contourcarpet": [
           {
            "colorbar": {
             "outlinewidth": 0,
             "ticks": ""
            },
            "type": "contourcarpet"
           }
          ],
          "heatmap": [
           {
            "colorbar": {
             "outlinewidth": 0,
             "ticks": ""
            },
            "colorscale": [
             [
              0,
              "#0d0887"
             ],
             [
              0.1111111111111111,
              "#46039f"
             ],
             [
              0.2222222222222222,
              "#7201a8"
             ],
             [
              0.3333333333333333,
              "#9c179e"
             ],
             [
              0.4444444444444444,
              "#bd3786"
             ],
             [
              0.5555555555555556,
              "#d8576b"
             ],
             [
              0.6666666666666666,
              "#ed7953"
             ],
             [
              0.7777777777777778,
              "#fb9f3a"
             ],
             [
              0.8888888888888888,
              "#fdca26"
             ],
             [
              1,
              "#f0f921"
             ]
            ],
            "type": "heatmap"
           }
          ],
          "heatmapgl": [
           {
            "colorbar": {
             "outlinewidth": 0,
             "ticks": ""
            },
            "colorscale": [
             [
              0,
              "#0d0887"
             ],
             [
              0.1111111111111111,
              "#46039f"
             ],
             [
              0.2222222222222222,
              "#7201a8"
             ],
             [
              0.3333333333333333,
              "#9c179e"
             ],
             [
              0.4444444444444444,
              "#bd3786"
             ],
             [
              0.5555555555555556,
              "#d8576b"
             ],
             [
              0.6666666666666666,
              "#ed7953"
             ],
             [
              0.7777777777777778,
              "#fb9f3a"
             ],
             [
              0.8888888888888888,
              "#fdca26"
             ],
             [
              1,
              "#f0f921"
             ]
            ],
            "type": "heatmapgl"
           }
          ],
          "histogram": [
           {
            "marker": {
             "pattern": {
              "fillmode": "overlay",
              "size": 10,
              "solidity": 0.2
             }
            },
            "type": "histogram"
           }
          ],
          "histogram2d": [
           {
            "colorbar": {
             "outlinewidth": 0,
             "ticks": ""
            },
            "colorscale": [
             [
              0,
              "#0d0887"
             ],
             [
              0.1111111111111111,
              "#46039f"
             ],
             [
              0.2222222222222222,
              "#7201a8"
             ],
             [
              0.3333333333333333,
              "#9c179e"
             ],
             [
              0.4444444444444444,
              "#bd3786"
             ],
             [
              0.5555555555555556,
              "#d8576b"
             ],
             [
              0.6666666666666666,
              "#ed7953"
             ],
             [
              0.7777777777777778,
              "#fb9f3a"
             ],
             [
              0.8888888888888888,
              "#fdca26"
             ],
             [
              1,
              "#f0f921"
             ]
            ],
            "type": "histogram2d"
           }
          ],
          "histogram2dcontour": [
           {
            "colorbar": {
             "outlinewidth": 0,
             "ticks": ""
            },
            "colorscale": [
             [
              0,
              "#0d0887"
             ],
             [
              0.1111111111111111,
              "#46039f"
             ],
             [
              0.2222222222222222,
              "#7201a8"
             ],
             [
              0.3333333333333333,
              "#9c179e"
             ],
             [
              0.4444444444444444,
              "#bd3786"
             ],
             [
              0.5555555555555556,
              "#d8576b"
             ],
             [
              0.6666666666666666,
              "#ed7953"
             ],
             [
              0.7777777777777778,
              "#fb9f3a"
             ],
             [
              0.8888888888888888,
              "#fdca26"
             ],
             [
              1,
              "#f0f921"
             ]
            ],
            "type": "histogram2dcontour"
           }
          ],
          "mesh3d": [
           {
            "colorbar": {
             "outlinewidth": 0,
             "ticks": ""
            },
            "type": "mesh3d"
           }
          ],
          "parcoords": [
           {
            "line": {
             "colorbar": {
              "outlinewidth": 0,
              "ticks": ""
             }
            },
            "type": "parcoords"
           }
          ],
          "pie": [
           {
            "automargin": true,
            "type": "pie"
           }
          ],
          "scatter": [
           {
            "fillpattern": {
             "fillmode": "overlay",
             "size": 10,
             "solidity": 0.2
            },
            "type": "scatter"
           }
          ],
          "scatter3d": [
           {
            "line": {
             "colorbar": {
              "outlinewidth": 0,
              "ticks": ""
             }
            },
            "marker": {
             "colorbar": {
              "outlinewidth": 0,
              "ticks": ""
             }
            },
            "type": "scatter3d"
           }
          ],
          "scattercarpet": [
           {
            "marker": {
             "colorbar": {
              "outlinewidth": 0,
              "ticks": ""
             }
            },
            "type": "scattercarpet"
           }
          ],
          "scattergeo": [
           {
            "marker": {
             "colorbar": {
              "outlinewidth": 0,
              "ticks": ""
             }
            },
            "type": "scattergeo"
           }
          ],
          "scattergl": [
           {
            "marker": {
             "colorbar": {
              "outlinewidth": 0,
              "ticks": ""
             }
            },
            "type": "scattergl"
           }
          ],
          "scattermapbox": [
           {
            "marker": {
             "colorbar": {
              "outlinewidth": 0,
              "ticks": ""
             }
            },
            "type": "scattermapbox"
           }
          ],
          "scatterpolar": [
           {
            "marker": {
             "colorbar": {
              "outlinewidth": 0,
              "ticks": ""
             }
            },
            "type": "scatterpolar"
           }
          ],
          "scatterpolargl": [
           {
            "marker": {
             "colorbar": {
              "outlinewidth": 0,
              "ticks": ""
             }
            },
            "type": "scatterpolargl"
           }
          ],
          "scatterternary": [
           {
            "marker": {
             "colorbar": {
              "outlinewidth": 0,
              "ticks": ""
             }
            },
            "type": "scatterternary"
           }
          ],
          "surface": [
           {
            "colorbar": {
             "outlinewidth": 0,
             "ticks": ""
            },
            "colorscale": [
             [
              0,
              "#0d0887"
             ],
             [
              0.1111111111111111,
              "#46039f"
             ],
             [
              0.2222222222222222,
              "#7201a8"
             ],
             [
              0.3333333333333333,
              "#9c179e"
             ],
             [
              0.4444444444444444,
              "#bd3786"
             ],
             [
              0.5555555555555556,
              "#d8576b"
             ],
             [
              0.6666666666666666,
              "#ed7953"
             ],
             [
              0.7777777777777778,
              "#fb9f3a"
             ],
             [
              0.8888888888888888,
              "#fdca26"
             ],
             [
              1,
              "#f0f921"
             ]
            ],
            "type": "surface"
           }
          ],
          "table": [
           {
            "cells": {
             "fill": {
              "color": "#EBF0F8"
             },
             "line": {
              "color": "white"
             }
            },
            "header": {
             "fill": {
              "color": "#C8D4E3"
             },
             "line": {
              "color": "white"
             }
            },
            "type": "table"
           }
          ]
         },
         "layout": {
          "annotationdefaults": {
           "arrowcolor": "#2a3f5f",
           "arrowhead": 0,
           "arrowwidth": 1
          },
          "autotypenumbers": "strict",
          "coloraxis": {
           "colorbar": {
            "outlinewidth": 0,
            "ticks": ""
           }
          },
          "colorscale": {
           "diverging": [
            [
             0,
             "#8e0152"
            ],
            [
             0.1,
             "#c51b7d"
            ],
            [
             0.2,
             "#de77ae"
            ],
            [
             0.3,
             "#f1b6da"
            ],
            [
             0.4,
             "#fde0ef"
            ],
            [
             0.5,
             "#f7f7f7"
            ],
            [
             0.6,
             "#e6f5d0"
            ],
            [
             0.7,
             "#b8e186"
            ],
            [
             0.8,
             "#7fbc41"
            ],
            [
             0.9,
             "#4d9221"
            ],
            [
             1,
             "#276419"
            ]
           ],
           "sequential": [
            [
             0,
             "#0d0887"
            ],
            [
             0.1111111111111111,
             "#46039f"
            ],
            [
             0.2222222222222222,
             "#7201a8"
            ],
            [
             0.3333333333333333,
             "#9c179e"
            ],
            [
             0.4444444444444444,
             "#bd3786"
            ],
            [
             0.5555555555555556,
             "#d8576b"
            ],
            [
             0.6666666666666666,
             "#ed7953"
            ],
            [
             0.7777777777777778,
             "#fb9f3a"
            ],
            [
             0.8888888888888888,
             "#fdca26"
            ],
            [
             1,
             "#f0f921"
            ]
           ],
           "sequentialminus": [
            [
             0,
             "#0d0887"
            ],
            [
             0.1111111111111111,
             "#46039f"
            ],
            [
             0.2222222222222222,
             "#7201a8"
            ],
            [
             0.3333333333333333,
             "#9c179e"
            ],
            [
             0.4444444444444444,
             "#bd3786"
            ],
            [
             0.5555555555555556,
             "#d8576b"
            ],
            [
             0.6666666666666666,
             "#ed7953"
            ],
            [
             0.7777777777777778,
             "#fb9f3a"
            ],
            [
             0.8888888888888888,
             "#fdca26"
            ],
            [
             1,
             "#f0f921"
            ]
           ]
          },
          "colorway": [
           "#636efa",
           "#EF553B",
           "#00cc96",
           "#ab63fa",
           "#FFA15A",
           "#19d3f3",
           "#FF6692",
           "#B6E880",
           "#FF97FF",
           "#FECB52"
          ],
          "font": {
           "color": "#2a3f5f"
          },
          "geo": {
           "bgcolor": "white",
           "lakecolor": "white",
           "landcolor": "#E5ECF6",
           "showlakes": true,
           "showland": true,
           "subunitcolor": "white"
          },
          "hoverlabel": {
           "align": "left"
          },
          "hovermode": "closest",
          "mapbox": {
           "style": "light"
          },
          "paper_bgcolor": "white",
          "plot_bgcolor": "#E5ECF6",
          "polar": {
           "angularaxis": {
            "gridcolor": "white",
            "linecolor": "white",
            "ticks": ""
           },
           "bgcolor": "#E5ECF6",
           "radialaxis": {
            "gridcolor": "white",
            "linecolor": "white",
            "ticks": ""
           }
          },
          "scene": {
           "xaxis": {
            "backgroundcolor": "#E5ECF6",
            "gridcolor": "white",
            "gridwidth": 2,
            "linecolor": "white",
            "showbackground": true,
            "ticks": "",
            "zerolinecolor": "white"
           },
           "yaxis": {
            "backgroundcolor": "#E5ECF6",
            "gridcolor": "white",
            "gridwidth": 2,
            "linecolor": "white",
            "showbackground": true,
            "ticks": "",
            "zerolinecolor": "white"
           },
           "zaxis": {
            "backgroundcolor": "#E5ECF6",
            "gridcolor": "white",
            "gridwidth": 2,
            "linecolor": "white",
            "showbackground": true,
            "ticks": "",
            "zerolinecolor": "white"
           }
          },
          "shapedefaults": {
           "line": {
            "color": "#2a3f5f"
           }
          },
          "ternary": {
           "aaxis": {
            "gridcolor": "white",
            "linecolor": "white",
            "ticks": ""
           },
           "baxis": {
            "gridcolor": "white",
            "linecolor": "white",
            "ticks": ""
           },
           "bgcolor": "#E5ECF6",
           "caxis": {
            "gridcolor": "white",
            "linecolor": "white",
            "ticks": ""
           }
          },
          "title": {
           "x": 0.05
          },
          "xaxis": {
           "automargin": true,
           "gridcolor": "white",
           "linecolor": "white",
           "ticks": "",
           "title": {
            "standoff": 15
           },
           "zerolinecolor": "white",
           "zerolinewidth": 2
          },
          "yaxis": {
           "automargin": true,
           "gridcolor": "white",
           "linecolor": "white",
           "ticks": "",
           "title": {
            "standoff": 15
           },
           "zerolinecolor": "white",
           "zerolinewidth": 2
          }
         }
        },
        "title": {
         "text": "Box Plots"
        },
        "width": 800,
        "xaxis": {
         "anchor": "y",
         "domain": [
          0,
          1
         ],
         "title": {
          "text": "Data"
         }
        },
        "yaxis": {
         "anchor": "x",
         "domain": [
          0,
          1
         ]
        }
       }
      }
     },
     "metadata": {},
     "output_type": "display_data"
    }
   ],
   "source": [
    "fig = px.box(df, x=\"Data\", \n",
    "             color=\"Label\",\n",
    "             notched=True,\n",
    "             color_discrete_sequence=['teal', 'purple'],\n",
    "             height = 500, width = 800,\n",
    "             title='Box Plots')\n",
    "fig.show()"
   ]
  },
  {
   "cell_type": "code",
   "execution_count": 19,
   "metadata": {},
   "outputs": [
    {
     "data": {
      "application/vnd.plotly.v1+json": {
       "config": {
        "plotlyServerURL": "https://plot.ly"
       },
       "data": [
        {
         "alignmentgroup": "True",
         "boxpoints": "suspectedoutliers",
         "hovertemplate": "Label=Normal<br>Data=%{x}<extra></extra>",
         "legendgroup": "Normal",
         "marker": {
          "color": "teal"
         },
         "name": "Normal",
         "notched": true,
         "offsetgroup": "Normal",
         "orientation": "h",
         "showlegend": true,
         "type": "box",
         "x": [
          0.7661340288013501,
          2.936432806963716,
          1.698715946697745,
          3.0727074963317897,
          1.4342313016003732,
          2.1066729722938344,
          2.752195346607073,
          1.1960416335283588,
          2.638625760804452,
          2.3187846195686066,
          1.5134087439556256,
          1.2320552857983493,
          3.0621907351647897,
          3.5005790849030385,
          3.222192998133994,
          0.8121517482052838,
          2.562811342572542,
          1.5094589548994035,
          2.0617095629885784,
          2.349453915820724,
          1.2133023300704542,
          1.2117744338342904,
          0.31979158708017996,
          1.2501441281815648,
          2.101793598098098,
          2.697786236074823,
          1.0722918812586357,
          1.3693506387877665,
          -0.4497388122183299,
          2.346175895744964,
          2.261963226946059,
          3.3299616334667412,
          3.4385904384306256,
          1.0824620059049213,
          3.2777597306834974,
          0.6451948567883088,
          3.066608776453147,
          2.0203996785827156,
          3.11174134362932,
          2.1037891481558124,
          1.2970672230328515,
          2.662209583624894,
          1.9737345351547175,
          2.6477285936774027,
          2.15735791756473,
          1.7685210770487219,
          1.685840314655774,
          3.028535367038306,
          1.326835403378332,
          -0.09604122523542458,
          1.9341510802078192,
          1.1699117826004417,
          2.014907168831193,
          4.066784001888998,
          3.227902989434626,
          1.2880938291738808,
          1.9927850653588637,
          2.6966929562262174,
          3.1290940780117342,
          1.8387259064931831,
          0.06380274263616403,
          0.749678366264886,
          3.8199592042987476,
          3.1553366079911065,
          2.1910347356492004,
          1.6360209258074028,
          0.5539081321553978,
          3.687128610766363,
          3.0353051495023093,
          2.6418765194818867,
          -0.21461339512721933,
          3.708304115229878,
          1.6538056080387138,
          2.733734859352322,
          3.1052752452195076,
          2.4039517831724773,
          0.390071088352669,
          2.185600727991858,
          2.3228781069295352,
          1.8428373669737603,
          2.943151660220919,
          1.2002935847728033,
          1.7653026555494944,
          1.6501856150938115,
          1.855776312128536,
          2.7319866321534163,
          1.0372917882797001,
          2.7416585218838554,
          1.7202194360088137,
          1.9421306804161407,
          1.6213470853011518,
          2.677972886420598,
          0.6155922291580456,
          1.263745722533566,
          2.2595407887649213,
          3.9667832703443686,
          2.99553955747048,
          1.8929768142073133,
          2.3921020498455,
          -0.07367848604366323,
          1.7805796277037846,
          2.2559334388607413,
          1.2959957430531182,
          2.475858445381354,
          1.2722256069439264,
          2.623343939643732,
          2.4056061673377354,
          1.476108555761344,
          1.4891891488345594,
          1.1553908403754973,
          2.1163349591689453,
          0.48397833498945597,
          2.572235905895739,
          2.1226753136722087,
          2.4932425791668122,
          1.5149228564061608,
          0.9601070321512668,
          0.392187461871343,
          0.35407827208853493,
          2.6380432934098548,
          2.427375765672821,
          1.5728221763641668,
          2.808836019506046,
          1.100318912859535,
          1.81857651375086,
          2.5599204545796717,
          1.7215464199781856,
          0.7531448413698072,
          2.8425163339904262,
          2.1784334283353606,
          2.6146043974609046,
          0.8258182238576364,
          2.278795279525711,
          3.368915704104741,
          0.5730076150207477,
          2.863625187787865,
          0.5782525104759493,
          0.2328596832981631,
          2.0750613047530355,
          1.3974685436375895,
          1.5090650727623152,
          1.4232038366306985,
          1.6190038483029543,
          2.860981056067043,
          3.2115061187387948,
          1.9882968929429756,
          1.249931935419911,
          1.9457553987078775,
          -1.1402417992840883,
          2.616680708184526,
          2.103779901541481,
          1.4273745245795515,
          2.0926009081767503,
          2.2611891539715225,
          1.6612251748575915,
          3.649546685542741,
          2.480677266891096,
          3.364769742472105,
          1.1080153667577355,
          0.31799126076786943,
          3.114079848036117,
          0.5078611940771562,
          1.1270857370374807,
          2.153159125398661,
          1.3724662618207863,
          2.7359375176436895,
          2.535477845680289,
          3.3702811555747503,
          1.8653214490333065,
          2.131592225213798,
          2.20548949605025,
          1.9942251718773336,
          2.6414079721524764,
          1.1473064660416359,
          -0.6197694957419402,
          1.7407051393009674,
          0.728944230217518,
          2.012838456749605,
          2.662369246327774,
          2.4032876418162505,
          1.7318206658310875,
          0.874466475744333,
          3.377638572793296,
          3.297625163894365,
          1.221004144840529,
          2.7843323213097504,
          0.7826886864356879,
          1.5612640685603956,
          2.490932299987094,
          0.5163794440733254,
          2.329233534170101,
          2.9907964912517975,
          3.074260429806548,
          2.942646633491941,
          3.1602817971522157,
          2.3402421183239825,
          2.443680015752832,
          2.1230839264084715,
          2.4088790070529735,
          3.0745703114993357
         ],
         "x0": " ",
         "xaxis": "x",
         "y0": " ",
         "yaxis": "y"
        },
        {
         "alignmentgroup": "True",
         "boxpoints": "suspectedoutliers",
         "hovertemplate": "Label=t-Student<br>Data=%{x}<extra></extra>",
         "legendgroup": "t-Student",
         "marker": {
          "color": "purple"
         },
         "name": "t-Student",
         "notched": true,
         "offsetgroup": "t-Student",
         "orientation": "h",
         "showlegend": true,
         "type": "box",
         "x": [
          0.5799999831149955,
          0.31401869495397106,
          -1.3396221880629122,
          -0.8173640585071605,
          -0.8186702937873971,
          1.5381920211721505,
          -0.159481461253114,
          -1.1230724012674638,
          -2.4021031408374807,
          0.3398961180865356,
          1.5615046463438078,
          0.44057095410666813,
          3.7556699887507783,
          -0.07897271653943208,
          -0.22283497467440755,
          0.6064916149027823,
          2.278116553050947,
          1.6145743230236536,
          -1.271660658203279,
          1.1268786170046403,
          0.3309070622016834,
          -0.2798455165214374,
          0.6485301870888225,
          -0.25533698535941046,
          0.42268668553857286,
          -0.2890533947193254,
          -0.07177096616045489,
          -0.15785803043099064,
          -4.020727320209899,
          -1.0948853378152361,
          -0.31479135428596583,
          -0.5316093073185275,
          0.7957178587400849,
          -0.7261462719838147,
          -0.3170345876191921,
          1.9979885471778682,
          -2.3997051763828185,
          -0.08637255858423155,
          0.8527712952764581,
          -0.09508963005715945,
          -0.17313873380222722,
          0.8132001024353847,
          0.07609243523426255,
          0.38491872362905905,
          1.0237659767798009,
          -0.24346642464403914,
          0.7228621020134451,
          2.7117614010105,
          0.8284708566940598,
          1.1669556261618552,
          -0.0548054013153737,
          0.04941898329113556,
          1.3308170202435479,
          3.0607550197732953,
          6.0494938281713715,
          -1.685928770516481,
          -0.5120245371567006,
          0.8383720008300091,
          1.3451475217661102,
          0.2162883805029796,
          0.42920313382298986,
          0.5918740062006023,
          1.060045662936148,
          0.4558028796155138,
          -1.1154774957843223,
          0.6071542964341945,
          2.0444062923865856,
          0.3022898458231573,
          0.16122273958834005,
          -0.4357647573105171,
          -2.1884480140606493,
          0.328401435335518,
          8.029067036178036,
          -0.8359560657969409,
          -2.2650398931416618,
          -0.23123423795267156,
          0.9980890542776073,
          1.0138584860212594,
          0.3253965740249172,
          1.6693668169440912,
          0.8681027447393244,
          5.489009702808322,
          0.8564141881319194,
          1.4250923654975218,
          -1.6182697588268908,
          1.990055666285414,
          -5.7152856149403775,
          -0.9777507898416051,
          -0.9325218782666079,
          -0.8249984839174859,
          -2.5853495758923493,
          0.17089505498121468,
          0.020391294932425173,
          0.1182026573735361,
          1.6686517110617323,
          -0.09270384526485295,
          0.10940760732449245,
          -1.2984706001599158,
          0.2783099063198187,
          3.0047027546368703,
          0.2056979880197663,
          1.860251328325694,
          0.041630201200091914,
          0.3453567012935942,
          -0.656048734528062,
          0.9078412584754125,
          3.59024981216198,
          1.5795858899135922,
          0.2267380098906495,
          0.22762570758975367,
          -0.7567112196578656,
          -0.4667080370154893,
          -0.8777413331609135,
          -0.3715953184261207,
          -1.1004306499766328,
          -2.134468765612561,
          0.1798737485275294,
          4.907603544355433,
          0.13801998631719892,
          -0.877296359437821,
          1.2869956947722145,
          1.3592650282526524,
          -0.24655933740365474,
          0.19202845667089247,
          2.6524431311717036,
          0.6633256790680104,
          -0.6285226680782251,
          0.03592334927341612,
          1.4118560272965697,
          0.4980068294432477,
          -0.9898456735915845,
          -3.0508739941161602,
          0.8115914676734806,
          -3.429107252108827,
          2.204963011810137,
          -0.7748017771074959,
          0.8688071527492893,
          1.5210756427990255,
          -0.5490855859842143,
          -0.9433361278194717,
          0.9498033406894558,
          -0.7086298175338135,
          -1.3706267372064143,
          0.7729204523092911,
          0.0733071401751775,
          -1.6186041268003588,
          0.9147334211437532,
          -0.12587322618587454,
          1.1311840909100572,
          1.0791123634959896,
          -0.023328020128130393,
          -0.4234825464135628,
          -1.0092186900566764,
          0.9459750479041952,
          0.37195955366492434,
          0.7101683403736434,
          0.2949054039615913,
          0.7839513533674425,
          0.33656424265388474,
          -1.424285368743878,
          -0.587728296990065,
          0.2595354131199979,
          -0.08755820961766336,
          -0.3098321269394004,
          -1.063698151216011,
          -0.9614090390513929,
          -2.114151624812543,
          -0.8520577868892055,
          -1.5419105776574153,
          -0.7352374268045772,
          0.07777662623332063,
          -4.732080222752276,
          -0.5863449066922433,
          -0.7099648398048792,
          -0.7960892987577822,
          -5.631643417606087,
          0.612221444775737,
          4.097548193909055,
          -0.1591505263642057,
          -1.8969741411106948,
          1.1554553394292912,
          0.9845539422627996,
          -0.7380155870249763,
          -0.12468888830319422,
          -0.8525630938266612,
          -0.5670907269885107,
          -5.718526891259926,
          0.3980380800267177,
          -0.6739225393729046,
          0.47302201174108827,
          -1.8192977370034351,
          0.9465794164203633,
          -0.5480004546801658,
          -0.6642021983775994,
          -1.0171909495633755,
          0.604580861986493,
          1.588593749559271,
          -0.5067046201267281,
          0.6812473934900551,
          -0.8516539401139124
         ],
         "x0": " ",
         "xaxis": "x",
         "y0": " ",
         "yaxis": "y"
        }
       ],
       "layout": {
        "boxmode": "group",
        "height": 500,
        "legend": {
         "title": {
          "text": "Label"
         },
         "tracegroupgap": 0
        },
        "template": {
         "data": {
          "bar": [
           {
            "error_x": {
             "color": "#2a3f5f"
            },
            "error_y": {
             "color": "#2a3f5f"
            },
            "marker": {
             "line": {
              "color": "#E5ECF6",
              "width": 0.5
             },
             "pattern": {
              "fillmode": "overlay",
              "size": 10,
              "solidity": 0.2
             }
            },
            "type": "bar"
           }
          ],
          "barpolar": [
           {
            "marker": {
             "line": {
              "color": "#E5ECF6",
              "width": 0.5
             },
             "pattern": {
              "fillmode": "overlay",
              "size": 10,
              "solidity": 0.2
             }
            },
            "type": "barpolar"
           }
          ],
          "carpet": [
           {
            "aaxis": {
             "endlinecolor": "#2a3f5f",
             "gridcolor": "white",
             "linecolor": "white",
             "minorgridcolor": "white",
             "startlinecolor": "#2a3f5f"
            },
            "baxis": {
             "endlinecolor": "#2a3f5f",
             "gridcolor": "white",
             "linecolor": "white",
             "minorgridcolor": "white",
             "startlinecolor": "#2a3f5f"
            },
            "type": "carpet"
           }
          ],
          "choropleth": [
           {
            "colorbar": {
             "outlinewidth": 0,
             "ticks": ""
            },
            "type": "choropleth"
           }
          ],
          "contour": [
           {
            "colorbar": {
             "outlinewidth": 0,
             "ticks": ""
            },
            "colorscale": [
             [
              0,
              "#0d0887"
             ],
             [
              0.1111111111111111,
              "#46039f"
             ],
             [
              0.2222222222222222,
              "#7201a8"
             ],
             [
              0.3333333333333333,
              "#9c179e"
             ],
             [
              0.4444444444444444,
              "#bd3786"
             ],
             [
              0.5555555555555556,
              "#d8576b"
             ],
             [
              0.6666666666666666,
              "#ed7953"
             ],
             [
              0.7777777777777778,
              "#fb9f3a"
             ],
             [
              0.8888888888888888,
              "#fdca26"
             ],
             [
              1,
              "#f0f921"
             ]
            ],
            "type": "contour"
           }
          ],
          "contourcarpet": [
           {
            "colorbar": {
             "outlinewidth": 0,
             "ticks": ""
            },
            "type": "contourcarpet"
           }
          ],
          "heatmap": [
           {
            "colorbar": {
             "outlinewidth": 0,
             "ticks": ""
            },
            "colorscale": [
             [
              0,
              "#0d0887"
             ],
             [
              0.1111111111111111,
              "#46039f"
             ],
             [
              0.2222222222222222,
              "#7201a8"
             ],
             [
              0.3333333333333333,
              "#9c179e"
             ],
             [
              0.4444444444444444,
              "#bd3786"
             ],
             [
              0.5555555555555556,
              "#d8576b"
             ],
             [
              0.6666666666666666,
              "#ed7953"
             ],
             [
              0.7777777777777778,
              "#fb9f3a"
             ],
             [
              0.8888888888888888,
              "#fdca26"
             ],
             [
              1,
              "#f0f921"
             ]
            ],
            "type": "heatmap"
           }
          ],
          "heatmapgl": [
           {
            "colorbar": {
             "outlinewidth": 0,
             "ticks": ""
            },
            "colorscale": [
             [
              0,
              "#0d0887"
             ],
             [
              0.1111111111111111,
              "#46039f"
             ],
             [
              0.2222222222222222,
              "#7201a8"
             ],
             [
              0.3333333333333333,
              "#9c179e"
             ],
             [
              0.4444444444444444,
              "#bd3786"
             ],
             [
              0.5555555555555556,
              "#d8576b"
             ],
             [
              0.6666666666666666,
              "#ed7953"
             ],
             [
              0.7777777777777778,
              "#fb9f3a"
             ],
             [
              0.8888888888888888,
              "#fdca26"
             ],
             [
              1,
              "#f0f921"
             ]
            ],
            "type": "heatmapgl"
           }
          ],
          "histogram": [
           {
            "marker": {
             "pattern": {
              "fillmode": "overlay",
              "size": 10,
              "solidity": 0.2
             }
            },
            "type": "histogram"
           }
          ],
          "histogram2d": [
           {
            "colorbar": {
             "outlinewidth": 0,
             "ticks": ""
            },
            "colorscale": [
             [
              0,
              "#0d0887"
             ],
             [
              0.1111111111111111,
              "#46039f"
             ],
             [
              0.2222222222222222,
              "#7201a8"
             ],
             [
              0.3333333333333333,
              "#9c179e"
             ],
             [
              0.4444444444444444,
              "#bd3786"
             ],
             [
              0.5555555555555556,
              "#d8576b"
             ],
             [
              0.6666666666666666,
              "#ed7953"
             ],
             [
              0.7777777777777778,
              "#fb9f3a"
             ],
             [
              0.8888888888888888,
              "#fdca26"
             ],
             [
              1,
              "#f0f921"
             ]
            ],
            "type": "histogram2d"
           }
          ],
          "histogram2dcontour": [
           {
            "colorbar": {
             "outlinewidth": 0,
             "ticks": ""
            },
            "colorscale": [
             [
              0,
              "#0d0887"
             ],
             [
              0.1111111111111111,
              "#46039f"
             ],
             [
              0.2222222222222222,
              "#7201a8"
             ],
             [
              0.3333333333333333,
              "#9c179e"
             ],
             [
              0.4444444444444444,
              "#bd3786"
             ],
             [
              0.5555555555555556,
              "#d8576b"
             ],
             [
              0.6666666666666666,
              "#ed7953"
             ],
             [
              0.7777777777777778,
              "#fb9f3a"
             ],
             [
              0.8888888888888888,
              "#fdca26"
             ],
             [
              1,
              "#f0f921"
             ]
            ],
            "type": "histogram2dcontour"
           }
          ],
          "mesh3d": [
           {
            "colorbar": {
             "outlinewidth": 0,
             "ticks": ""
            },
            "type": "mesh3d"
           }
          ],
          "parcoords": [
           {
            "line": {
             "colorbar": {
              "outlinewidth": 0,
              "ticks": ""
             }
            },
            "type": "parcoords"
           }
          ],
          "pie": [
           {
            "automargin": true,
            "type": "pie"
           }
          ],
          "scatter": [
           {
            "fillpattern": {
             "fillmode": "overlay",
             "size": 10,
             "solidity": 0.2
            },
            "type": "scatter"
           }
          ],
          "scatter3d": [
           {
            "line": {
             "colorbar": {
              "outlinewidth": 0,
              "ticks": ""
             }
            },
            "marker": {
             "colorbar": {
              "outlinewidth": 0,
              "ticks": ""
             }
            },
            "type": "scatter3d"
           }
          ],
          "scattercarpet": [
           {
            "marker": {
             "colorbar": {
              "outlinewidth": 0,
              "ticks": ""
             }
            },
            "type": "scattercarpet"
           }
          ],
          "scattergeo": [
           {
            "marker": {
             "colorbar": {
              "outlinewidth": 0,
              "ticks": ""
             }
            },
            "type": "scattergeo"
           }
          ],
          "scattergl": [
           {
            "marker": {
             "colorbar": {
              "outlinewidth": 0,
              "ticks": ""
             }
            },
            "type": "scattergl"
           }
          ],
          "scattermapbox": [
           {
            "marker": {
             "colorbar": {
              "outlinewidth": 0,
              "ticks": ""
             }
            },
            "type": "scattermapbox"
           }
          ],
          "scatterpolar": [
           {
            "marker": {
             "colorbar": {
              "outlinewidth": 0,
              "ticks": ""
             }
            },
            "type": "scatterpolar"
           }
          ],
          "scatterpolargl": [
           {
            "marker": {
             "colorbar": {
              "outlinewidth": 0,
              "ticks": ""
             }
            },
            "type": "scatterpolargl"
           }
          ],
          "scatterternary": [
           {
            "marker": {
             "colorbar": {
              "outlinewidth": 0,
              "ticks": ""
             }
            },
            "type": "scatterternary"
           }
          ],
          "surface": [
           {
            "colorbar": {
             "outlinewidth": 0,
             "ticks": ""
            },
            "colorscale": [
             [
              0,
              "#0d0887"
             ],
             [
              0.1111111111111111,
              "#46039f"
             ],
             [
              0.2222222222222222,
              "#7201a8"
             ],
             [
              0.3333333333333333,
              "#9c179e"
             ],
             [
              0.4444444444444444,
              "#bd3786"
             ],
             [
              0.5555555555555556,
              "#d8576b"
             ],
             [
              0.6666666666666666,
              "#ed7953"
             ],
             [
              0.7777777777777778,
              "#fb9f3a"
             ],
             [
              0.8888888888888888,
              "#fdca26"
             ],
             [
              1,
              "#f0f921"
             ]
            ],
            "type": "surface"
           }
          ],
          "table": [
           {
            "cells": {
             "fill": {
              "color": "#EBF0F8"
             },
             "line": {
              "color": "white"
             }
            },
            "header": {
             "fill": {
              "color": "#C8D4E3"
             },
             "line": {
              "color": "white"
             }
            },
            "type": "table"
           }
          ]
         },
         "layout": {
          "annotationdefaults": {
           "arrowcolor": "#2a3f5f",
           "arrowhead": 0,
           "arrowwidth": 1
          },
          "autotypenumbers": "strict",
          "coloraxis": {
           "colorbar": {
            "outlinewidth": 0,
            "ticks": ""
           }
          },
          "colorscale": {
           "diverging": [
            [
             0,
             "#8e0152"
            ],
            [
             0.1,
             "#c51b7d"
            ],
            [
             0.2,
             "#de77ae"
            ],
            [
             0.3,
             "#f1b6da"
            ],
            [
             0.4,
             "#fde0ef"
            ],
            [
             0.5,
             "#f7f7f7"
            ],
            [
             0.6,
             "#e6f5d0"
            ],
            [
             0.7,
             "#b8e186"
            ],
            [
             0.8,
             "#7fbc41"
            ],
            [
             0.9,
             "#4d9221"
            ],
            [
             1,
             "#276419"
            ]
           ],
           "sequential": [
            [
             0,
             "#0d0887"
            ],
            [
             0.1111111111111111,
             "#46039f"
            ],
            [
             0.2222222222222222,
             "#7201a8"
            ],
            [
             0.3333333333333333,
             "#9c179e"
            ],
            [
             0.4444444444444444,
             "#bd3786"
            ],
            [
             0.5555555555555556,
             "#d8576b"
            ],
            [
             0.6666666666666666,
             "#ed7953"
            ],
            [
             0.7777777777777778,
             "#fb9f3a"
            ],
            [
             0.8888888888888888,
             "#fdca26"
            ],
            [
             1,
             "#f0f921"
            ]
           ],
           "sequentialminus": [
            [
             0,
             "#0d0887"
            ],
            [
             0.1111111111111111,
             "#46039f"
            ],
            [
             0.2222222222222222,
             "#7201a8"
            ],
            [
             0.3333333333333333,
             "#9c179e"
            ],
            [
             0.4444444444444444,
             "#bd3786"
            ],
            [
             0.5555555555555556,
             "#d8576b"
            ],
            [
             0.6666666666666666,
             "#ed7953"
            ],
            [
             0.7777777777777778,
             "#fb9f3a"
            ],
            [
             0.8888888888888888,
             "#fdca26"
            ],
            [
             1,
             "#f0f921"
            ]
           ]
          },
          "colorway": [
           "#636efa",
           "#EF553B",
           "#00cc96",
           "#ab63fa",
           "#FFA15A",
           "#19d3f3",
           "#FF6692",
           "#B6E880",
           "#FF97FF",
           "#FECB52"
          ],
          "font": {
           "color": "#2a3f5f"
          },
          "geo": {
           "bgcolor": "white",
           "lakecolor": "white",
           "landcolor": "#E5ECF6",
           "showlakes": true,
           "showland": true,
           "subunitcolor": "white"
          },
          "hoverlabel": {
           "align": "left"
          },
          "hovermode": "closest",
          "mapbox": {
           "style": "light"
          },
          "paper_bgcolor": "white",
          "plot_bgcolor": "#E5ECF6",
          "polar": {
           "angularaxis": {
            "gridcolor": "white",
            "linecolor": "white",
            "ticks": ""
           },
           "bgcolor": "#E5ECF6",
           "radialaxis": {
            "gridcolor": "white",
            "linecolor": "white",
            "ticks": ""
           }
          },
          "scene": {
           "xaxis": {
            "backgroundcolor": "#E5ECF6",
            "gridcolor": "white",
            "gridwidth": 2,
            "linecolor": "white",
            "showbackground": true,
            "ticks": "",
            "zerolinecolor": "white"
           },
           "yaxis": {
            "backgroundcolor": "#E5ECF6",
            "gridcolor": "white",
            "gridwidth": 2,
            "linecolor": "white",
            "showbackground": true,
            "ticks": "",
            "zerolinecolor": "white"
           },
           "zaxis": {
            "backgroundcolor": "#E5ECF6",
            "gridcolor": "white",
            "gridwidth": 2,
            "linecolor": "white",
            "showbackground": true,
            "ticks": "",
            "zerolinecolor": "white"
           }
          },
          "shapedefaults": {
           "line": {
            "color": "#2a3f5f"
           }
          },
          "ternary": {
           "aaxis": {
            "gridcolor": "white",
            "linecolor": "white",
            "ticks": ""
           },
           "baxis": {
            "gridcolor": "white",
            "linecolor": "white",
            "ticks": ""
           },
           "bgcolor": "#E5ECF6",
           "caxis": {
            "gridcolor": "white",
            "linecolor": "white",
            "ticks": ""
           }
          },
          "title": {
           "x": 0.05
          },
          "xaxis": {
           "automargin": true,
           "gridcolor": "white",
           "linecolor": "white",
           "ticks": "",
           "title": {
            "standoff": 15
           },
           "zerolinecolor": "white",
           "zerolinewidth": 2
          },
          "yaxis": {
           "automargin": true,
           "gridcolor": "white",
           "linecolor": "white",
           "ticks": "",
           "title": {
            "standoff": 15
           },
           "zerolinecolor": "white",
           "zerolinewidth": 2
          }
         }
        },
        "title": {
         "text": "Box Plots"
        },
        "width": 800,
        "xaxis": {
         "anchor": "y",
         "domain": [
          0,
          1
         ],
         "title": {
          "text": "Data"
         }
        },
        "yaxis": {
         "anchor": "x",
         "domain": [
          0,
          1
         ]
        }
       }
      }
     },
     "metadata": {},
     "output_type": "display_data"
    }
   ],
   "source": [
    "fig = px.box(df, x=\"Data\", \n",
    "             color=\"Label\",\n",
    "             points=\"suspectedoutliers\",\n",
    "             notched=True,\n",
    "             color_discrete_sequence=['teal', 'purple'],\n",
    "             height = 500, width = 800,\n",
    "             title='Box Plots')\n",
    "fig.show()"
   ]
  },
  {
   "cell_type": "code",
   "execution_count": 20,
   "metadata": {},
   "outputs": [
    {
     "data": {
      "application/vnd.plotly.v1+json": {
       "config": {
        "plotlyServerURL": "https://plot.ly"
       },
       "data": [
        {
         "alignmentgroup": "True",
         "boxpoints": "all",
         "hovertemplate": "Label=Normal<br>Data=%{x}<extra></extra>",
         "legendgroup": "Normal",
         "marker": {
          "color": "teal"
         },
         "name": "Normal",
         "notched": true,
         "offsetgroup": "Normal",
         "orientation": "h",
         "showlegend": true,
         "type": "box",
         "x": [
          0.7661340288013501,
          2.936432806963716,
          1.698715946697745,
          3.0727074963317897,
          1.4342313016003732,
          2.1066729722938344,
          2.752195346607073,
          1.1960416335283588,
          2.638625760804452,
          2.3187846195686066,
          1.5134087439556256,
          1.2320552857983493,
          3.0621907351647897,
          3.5005790849030385,
          3.222192998133994,
          0.8121517482052838,
          2.562811342572542,
          1.5094589548994035,
          2.0617095629885784,
          2.349453915820724,
          1.2133023300704542,
          1.2117744338342904,
          0.31979158708017996,
          1.2501441281815648,
          2.101793598098098,
          2.697786236074823,
          1.0722918812586357,
          1.3693506387877665,
          -0.4497388122183299,
          2.346175895744964,
          2.261963226946059,
          3.3299616334667412,
          3.4385904384306256,
          1.0824620059049213,
          3.2777597306834974,
          0.6451948567883088,
          3.066608776453147,
          2.0203996785827156,
          3.11174134362932,
          2.1037891481558124,
          1.2970672230328515,
          2.662209583624894,
          1.9737345351547175,
          2.6477285936774027,
          2.15735791756473,
          1.7685210770487219,
          1.685840314655774,
          3.028535367038306,
          1.326835403378332,
          -0.09604122523542458,
          1.9341510802078192,
          1.1699117826004417,
          2.014907168831193,
          4.066784001888998,
          3.227902989434626,
          1.2880938291738808,
          1.9927850653588637,
          2.6966929562262174,
          3.1290940780117342,
          1.8387259064931831,
          0.06380274263616403,
          0.749678366264886,
          3.8199592042987476,
          3.1553366079911065,
          2.1910347356492004,
          1.6360209258074028,
          0.5539081321553978,
          3.687128610766363,
          3.0353051495023093,
          2.6418765194818867,
          -0.21461339512721933,
          3.708304115229878,
          1.6538056080387138,
          2.733734859352322,
          3.1052752452195076,
          2.4039517831724773,
          0.390071088352669,
          2.185600727991858,
          2.3228781069295352,
          1.8428373669737603,
          2.943151660220919,
          1.2002935847728033,
          1.7653026555494944,
          1.6501856150938115,
          1.855776312128536,
          2.7319866321534163,
          1.0372917882797001,
          2.7416585218838554,
          1.7202194360088137,
          1.9421306804161407,
          1.6213470853011518,
          2.677972886420598,
          0.6155922291580456,
          1.263745722533566,
          2.2595407887649213,
          3.9667832703443686,
          2.99553955747048,
          1.8929768142073133,
          2.3921020498455,
          -0.07367848604366323,
          1.7805796277037846,
          2.2559334388607413,
          1.2959957430531182,
          2.475858445381354,
          1.2722256069439264,
          2.623343939643732,
          2.4056061673377354,
          1.476108555761344,
          1.4891891488345594,
          1.1553908403754973,
          2.1163349591689453,
          0.48397833498945597,
          2.572235905895739,
          2.1226753136722087,
          2.4932425791668122,
          1.5149228564061608,
          0.9601070321512668,
          0.392187461871343,
          0.35407827208853493,
          2.6380432934098548,
          2.427375765672821,
          1.5728221763641668,
          2.808836019506046,
          1.100318912859535,
          1.81857651375086,
          2.5599204545796717,
          1.7215464199781856,
          0.7531448413698072,
          2.8425163339904262,
          2.1784334283353606,
          2.6146043974609046,
          0.8258182238576364,
          2.278795279525711,
          3.368915704104741,
          0.5730076150207477,
          2.863625187787865,
          0.5782525104759493,
          0.2328596832981631,
          2.0750613047530355,
          1.3974685436375895,
          1.5090650727623152,
          1.4232038366306985,
          1.6190038483029543,
          2.860981056067043,
          3.2115061187387948,
          1.9882968929429756,
          1.249931935419911,
          1.9457553987078775,
          -1.1402417992840883,
          2.616680708184526,
          2.103779901541481,
          1.4273745245795515,
          2.0926009081767503,
          2.2611891539715225,
          1.6612251748575915,
          3.649546685542741,
          2.480677266891096,
          3.364769742472105,
          1.1080153667577355,
          0.31799126076786943,
          3.114079848036117,
          0.5078611940771562,
          1.1270857370374807,
          2.153159125398661,
          1.3724662618207863,
          2.7359375176436895,
          2.535477845680289,
          3.3702811555747503,
          1.8653214490333065,
          2.131592225213798,
          2.20548949605025,
          1.9942251718773336,
          2.6414079721524764,
          1.1473064660416359,
          -0.6197694957419402,
          1.7407051393009674,
          0.728944230217518,
          2.012838456749605,
          2.662369246327774,
          2.4032876418162505,
          1.7318206658310875,
          0.874466475744333,
          3.377638572793296,
          3.297625163894365,
          1.221004144840529,
          2.7843323213097504,
          0.7826886864356879,
          1.5612640685603956,
          2.490932299987094,
          0.5163794440733254,
          2.329233534170101,
          2.9907964912517975,
          3.074260429806548,
          2.942646633491941,
          3.1602817971522157,
          2.3402421183239825,
          2.443680015752832,
          2.1230839264084715,
          2.4088790070529735,
          3.0745703114993357
         ],
         "x0": " ",
         "xaxis": "x",
         "y0": " ",
         "yaxis": "y"
        },
        {
         "alignmentgroup": "True",
         "boxpoints": "all",
         "hovertemplate": "Label=t-Student<br>Data=%{x}<extra></extra>",
         "legendgroup": "t-Student",
         "marker": {
          "color": "purple"
         },
         "name": "t-Student",
         "notched": true,
         "offsetgroup": "t-Student",
         "orientation": "h",
         "showlegend": true,
         "type": "box",
         "x": [
          0.5799999831149955,
          0.31401869495397106,
          -1.3396221880629122,
          -0.8173640585071605,
          -0.8186702937873971,
          1.5381920211721505,
          -0.159481461253114,
          -1.1230724012674638,
          -2.4021031408374807,
          0.3398961180865356,
          1.5615046463438078,
          0.44057095410666813,
          3.7556699887507783,
          -0.07897271653943208,
          -0.22283497467440755,
          0.6064916149027823,
          2.278116553050947,
          1.6145743230236536,
          -1.271660658203279,
          1.1268786170046403,
          0.3309070622016834,
          -0.2798455165214374,
          0.6485301870888225,
          -0.25533698535941046,
          0.42268668553857286,
          -0.2890533947193254,
          -0.07177096616045489,
          -0.15785803043099064,
          -4.020727320209899,
          -1.0948853378152361,
          -0.31479135428596583,
          -0.5316093073185275,
          0.7957178587400849,
          -0.7261462719838147,
          -0.3170345876191921,
          1.9979885471778682,
          -2.3997051763828185,
          -0.08637255858423155,
          0.8527712952764581,
          -0.09508963005715945,
          -0.17313873380222722,
          0.8132001024353847,
          0.07609243523426255,
          0.38491872362905905,
          1.0237659767798009,
          -0.24346642464403914,
          0.7228621020134451,
          2.7117614010105,
          0.8284708566940598,
          1.1669556261618552,
          -0.0548054013153737,
          0.04941898329113556,
          1.3308170202435479,
          3.0607550197732953,
          6.0494938281713715,
          -1.685928770516481,
          -0.5120245371567006,
          0.8383720008300091,
          1.3451475217661102,
          0.2162883805029796,
          0.42920313382298986,
          0.5918740062006023,
          1.060045662936148,
          0.4558028796155138,
          -1.1154774957843223,
          0.6071542964341945,
          2.0444062923865856,
          0.3022898458231573,
          0.16122273958834005,
          -0.4357647573105171,
          -2.1884480140606493,
          0.328401435335518,
          8.029067036178036,
          -0.8359560657969409,
          -2.2650398931416618,
          -0.23123423795267156,
          0.9980890542776073,
          1.0138584860212594,
          0.3253965740249172,
          1.6693668169440912,
          0.8681027447393244,
          5.489009702808322,
          0.8564141881319194,
          1.4250923654975218,
          -1.6182697588268908,
          1.990055666285414,
          -5.7152856149403775,
          -0.9777507898416051,
          -0.9325218782666079,
          -0.8249984839174859,
          -2.5853495758923493,
          0.17089505498121468,
          0.020391294932425173,
          0.1182026573735361,
          1.6686517110617323,
          -0.09270384526485295,
          0.10940760732449245,
          -1.2984706001599158,
          0.2783099063198187,
          3.0047027546368703,
          0.2056979880197663,
          1.860251328325694,
          0.041630201200091914,
          0.3453567012935942,
          -0.656048734528062,
          0.9078412584754125,
          3.59024981216198,
          1.5795858899135922,
          0.2267380098906495,
          0.22762570758975367,
          -0.7567112196578656,
          -0.4667080370154893,
          -0.8777413331609135,
          -0.3715953184261207,
          -1.1004306499766328,
          -2.134468765612561,
          0.1798737485275294,
          4.907603544355433,
          0.13801998631719892,
          -0.877296359437821,
          1.2869956947722145,
          1.3592650282526524,
          -0.24655933740365474,
          0.19202845667089247,
          2.6524431311717036,
          0.6633256790680104,
          -0.6285226680782251,
          0.03592334927341612,
          1.4118560272965697,
          0.4980068294432477,
          -0.9898456735915845,
          -3.0508739941161602,
          0.8115914676734806,
          -3.429107252108827,
          2.204963011810137,
          -0.7748017771074959,
          0.8688071527492893,
          1.5210756427990255,
          -0.5490855859842143,
          -0.9433361278194717,
          0.9498033406894558,
          -0.7086298175338135,
          -1.3706267372064143,
          0.7729204523092911,
          0.0733071401751775,
          -1.6186041268003588,
          0.9147334211437532,
          -0.12587322618587454,
          1.1311840909100572,
          1.0791123634959896,
          -0.023328020128130393,
          -0.4234825464135628,
          -1.0092186900566764,
          0.9459750479041952,
          0.37195955366492434,
          0.7101683403736434,
          0.2949054039615913,
          0.7839513533674425,
          0.33656424265388474,
          -1.424285368743878,
          -0.587728296990065,
          0.2595354131199979,
          -0.08755820961766336,
          -0.3098321269394004,
          -1.063698151216011,
          -0.9614090390513929,
          -2.114151624812543,
          -0.8520577868892055,
          -1.5419105776574153,
          -0.7352374268045772,
          0.07777662623332063,
          -4.732080222752276,
          -0.5863449066922433,
          -0.7099648398048792,
          -0.7960892987577822,
          -5.631643417606087,
          0.612221444775737,
          4.097548193909055,
          -0.1591505263642057,
          -1.8969741411106948,
          1.1554553394292912,
          0.9845539422627996,
          -0.7380155870249763,
          -0.12468888830319422,
          -0.8525630938266612,
          -0.5670907269885107,
          -5.718526891259926,
          0.3980380800267177,
          -0.6739225393729046,
          0.47302201174108827,
          -1.8192977370034351,
          0.9465794164203633,
          -0.5480004546801658,
          -0.6642021983775994,
          -1.0171909495633755,
          0.604580861986493,
          1.588593749559271,
          -0.5067046201267281,
          0.6812473934900551,
          -0.8516539401139124
         ],
         "x0": " ",
         "xaxis": "x",
         "y0": " ",
         "yaxis": "y"
        }
       ],
       "layout": {
        "boxmode": "group",
        "height": 500,
        "legend": {
         "title": {
          "text": "Label"
         },
         "tracegroupgap": 0
        },
        "template": {
         "data": {
          "bar": [
           {
            "error_x": {
             "color": "#2a3f5f"
            },
            "error_y": {
             "color": "#2a3f5f"
            },
            "marker": {
             "line": {
              "color": "#E5ECF6",
              "width": 0.5
             },
             "pattern": {
              "fillmode": "overlay",
              "size": 10,
              "solidity": 0.2
             }
            },
            "type": "bar"
           }
          ],
          "barpolar": [
           {
            "marker": {
             "line": {
              "color": "#E5ECF6",
              "width": 0.5
             },
             "pattern": {
              "fillmode": "overlay",
              "size": 10,
              "solidity": 0.2
             }
            },
            "type": "barpolar"
           }
          ],
          "carpet": [
           {
            "aaxis": {
             "endlinecolor": "#2a3f5f",
             "gridcolor": "white",
             "linecolor": "white",
             "minorgridcolor": "white",
             "startlinecolor": "#2a3f5f"
            },
            "baxis": {
             "endlinecolor": "#2a3f5f",
             "gridcolor": "white",
             "linecolor": "white",
             "minorgridcolor": "white",
             "startlinecolor": "#2a3f5f"
            },
            "type": "carpet"
           }
          ],
          "choropleth": [
           {
            "colorbar": {
             "outlinewidth": 0,
             "ticks": ""
            },
            "type": "choropleth"
           }
          ],
          "contour": [
           {
            "colorbar": {
             "outlinewidth": 0,
             "ticks": ""
            },
            "colorscale": [
             [
              0,
              "#0d0887"
             ],
             [
              0.1111111111111111,
              "#46039f"
             ],
             [
              0.2222222222222222,
              "#7201a8"
             ],
             [
              0.3333333333333333,
              "#9c179e"
             ],
             [
              0.4444444444444444,
              "#bd3786"
             ],
             [
              0.5555555555555556,
              "#d8576b"
             ],
             [
              0.6666666666666666,
              "#ed7953"
             ],
             [
              0.7777777777777778,
              "#fb9f3a"
             ],
             [
              0.8888888888888888,
              "#fdca26"
             ],
             [
              1,
              "#f0f921"
             ]
            ],
            "type": "contour"
           }
          ],
          "contourcarpet": [
           {
            "colorbar": {
             "outlinewidth": 0,
             "ticks": ""
            },
            "type": "contourcarpet"
           }
          ],
          "heatmap": [
           {
            "colorbar": {
             "outlinewidth": 0,
             "ticks": ""
            },
            "colorscale": [
             [
              0,
              "#0d0887"
             ],
             [
              0.1111111111111111,
              "#46039f"
             ],
             [
              0.2222222222222222,
              "#7201a8"
             ],
             [
              0.3333333333333333,
              "#9c179e"
             ],
             [
              0.4444444444444444,
              "#bd3786"
             ],
             [
              0.5555555555555556,
              "#d8576b"
             ],
             [
              0.6666666666666666,
              "#ed7953"
             ],
             [
              0.7777777777777778,
              "#fb9f3a"
             ],
             [
              0.8888888888888888,
              "#fdca26"
             ],
             [
              1,
              "#f0f921"
             ]
            ],
            "type": "heatmap"
           }
          ],
          "heatmapgl": [
           {
            "colorbar": {
             "outlinewidth": 0,
             "ticks": ""
            },
            "colorscale": [
             [
              0,
              "#0d0887"
             ],
             [
              0.1111111111111111,
              "#46039f"
             ],
             [
              0.2222222222222222,
              "#7201a8"
             ],
             [
              0.3333333333333333,
              "#9c179e"
             ],
             [
              0.4444444444444444,
              "#bd3786"
             ],
             [
              0.5555555555555556,
              "#d8576b"
             ],
             [
              0.6666666666666666,
              "#ed7953"
             ],
             [
              0.7777777777777778,
              "#fb9f3a"
             ],
             [
              0.8888888888888888,
              "#fdca26"
             ],
             [
              1,
              "#f0f921"
             ]
            ],
            "type": "heatmapgl"
           }
          ],
          "histogram": [
           {
            "marker": {
             "pattern": {
              "fillmode": "overlay",
              "size": 10,
              "solidity": 0.2
             }
            },
            "type": "histogram"
           }
          ],
          "histogram2d": [
           {
            "colorbar": {
             "outlinewidth": 0,
             "ticks": ""
            },
            "colorscale": [
             [
              0,
              "#0d0887"
             ],
             [
              0.1111111111111111,
              "#46039f"
             ],
             [
              0.2222222222222222,
              "#7201a8"
             ],
             [
              0.3333333333333333,
              "#9c179e"
             ],
             [
              0.4444444444444444,
              "#bd3786"
             ],
             [
              0.5555555555555556,
              "#d8576b"
             ],
             [
              0.6666666666666666,
              "#ed7953"
             ],
             [
              0.7777777777777778,
              "#fb9f3a"
             ],
             [
              0.8888888888888888,
              "#fdca26"
             ],
             [
              1,
              "#f0f921"
             ]
            ],
            "type": "histogram2d"
           }
          ],
          "histogram2dcontour": [
           {
            "colorbar": {
             "outlinewidth": 0,
             "ticks": ""
            },
            "colorscale": [
             [
              0,
              "#0d0887"
             ],
             [
              0.1111111111111111,
              "#46039f"
             ],
             [
              0.2222222222222222,
              "#7201a8"
             ],
             [
              0.3333333333333333,
              "#9c179e"
             ],
             [
              0.4444444444444444,
              "#bd3786"
             ],
             [
              0.5555555555555556,
              "#d8576b"
             ],
             [
              0.6666666666666666,
              "#ed7953"
             ],
             [
              0.7777777777777778,
              "#fb9f3a"
             ],
             [
              0.8888888888888888,
              "#fdca26"
             ],
             [
              1,
              "#f0f921"
             ]
            ],
            "type": "histogram2dcontour"
           }
          ],
          "mesh3d": [
           {
            "colorbar": {
             "outlinewidth": 0,
             "ticks": ""
            },
            "type": "mesh3d"
           }
          ],
          "parcoords": [
           {
            "line": {
             "colorbar": {
              "outlinewidth": 0,
              "ticks": ""
             }
            },
            "type": "parcoords"
           }
          ],
          "pie": [
           {
            "automargin": true,
            "type": "pie"
           }
          ],
          "scatter": [
           {
            "fillpattern": {
             "fillmode": "overlay",
             "size": 10,
             "solidity": 0.2
            },
            "type": "scatter"
           }
          ],
          "scatter3d": [
           {
            "line": {
             "colorbar": {
              "outlinewidth": 0,
              "ticks": ""
             }
            },
            "marker": {
             "colorbar": {
              "outlinewidth": 0,
              "ticks": ""
             }
            },
            "type": "scatter3d"
           }
          ],
          "scattercarpet": [
           {
            "marker": {
             "colorbar": {
              "outlinewidth": 0,
              "ticks": ""
             }
            },
            "type": "scattercarpet"
           }
          ],
          "scattergeo": [
           {
            "marker": {
             "colorbar": {
              "outlinewidth": 0,
              "ticks": ""
             }
            },
            "type": "scattergeo"
           }
          ],
          "scattergl": [
           {
            "marker": {
             "colorbar": {
              "outlinewidth": 0,
              "ticks": ""
             }
            },
            "type": "scattergl"
           }
          ],
          "scattermapbox": [
           {
            "marker": {
             "colorbar": {
              "outlinewidth": 0,
              "ticks": ""
             }
            },
            "type": "scattermapbox"
           }
          ],
          "scatterpolar": [
           {
            "marker": {
             "colorbar": {
              "outlinewidth": 0,
              "ticks": ""
             }
            },
            "type": "scatterpolar"
           }
          ],
          "scatterpolargl": [
           {
            "marker": {
             "colorbar": {
              "outlinewidth": 0,
              "ticks": ""
             }
            },
            "type": "scatterpolargl"
           }
          ],
          "scatterternary": [
           {
            "marker": {
             "colorbar": {
              "outlinewidth": 0,
              "ticks": ""
             }
            },
            "type": "scatterternary"
           }
          ],
          "surface": [
           {
            "colorbar": {
             "outlinewidth": 0,
             "ticks": ""
            },
            "colorscale": [
             [
              0,
              "#0d0887"
             ],
             [
              0.1111111111111111,
              "#46039f"
             ],
             [
              0.2222222222222222,
              "#7201a8"
             ],
             [
              0.3333333333333333,
              "#9c179e"
             ],
             [
              0.4444444444444444,
              "#bd3786"
             ],
             [
              0.5555555555555556,
              "#d8576b"
             ],
             [
              0.6666666666666666,
              "#ed7953"
             ],
             [
              0.7777777777777778,
              "#fb9f3a"
             ],
             [
              0.8888888888888888,
              "#fdca26"
             ],
             [
              1,
              "#f0f921"
             ]
            ],
            "type": "surface"
           }
          ],
          "table": [
           {
            "cells": {
             "fill": {
              "color": "#EBF0F8"
             },
             "line": {
              "color": "white"
             }
            },
            "header": {
             "fill": {
              "color": "#C8D4E3"
             },
             "line": {
              "color": "white"
             }
            },
            "type": "table"
           }
          ]
         },
         "layout": {
          "annotationdefaults": {
           "arrowcolor": "#2a3f5f",
           "arrowhead": 0,
           "arrowwidth": 1
          },
          "autotypenumbers": "strict",
          "coloraxis": {
           "colorbar": {
            "outlinewidth": 0,
            "ticks": ""
           }
          },
          "colorscale": {
           "diverging": [
            [
             0,
             "#8e0152"
            ],
            [
             0.1,
             "#c51b7d"
            ],
            [
             0.2,
             "#de77ae"
            ],
            [
             0.3,
             "#f1b6da"
            ],
            [
             0.4,
             "#fde0ef"
            ],
            [
             0.5,
             "#f7f7f7"
            ],
            [
             0.6,
             "#e6f5d0"
            ],
            [
             0.7,
             "#b8e186"
            ],
            [
             0.8,
             "#7fbc41"
            ],
            [
             0.9,
             "#4d9221"
            ],
            [
             1,
             "#276419"
            ]
           ],
           "sequential": [
            [
             0,
             "#0d0887"
            ],
            [
             0.1111111111111111,
             "#46039f"
            ],
            [
             0.2222222222222222,
             "#7201a8"
            ],
            [
             0.3333333333333333,
             "#9c179e"
            ],
            [
             0.4444444444444444,
             "#bd3786"
            ],
            [
             0.5555555555555556,
             "#d8576b"
            ],
            [
             0.6666666666666666,
             "#ed7953"
            ],
            [
             0.7777777777777778,
             "#fb9f3a"
            ],
            [
             0.8888888888888888,
             "#fdca26"
            ],
            [
             1,
             "#f0f921"
            ]
           ],
           "sequentialminus": [
            [
             0,
             "#0d0887"
            ],
            [
             0.1111111111111111,
             "#46039f"
            ],
            [
             0.2222222222222222,
             "#7201a8"
            ],
            [
             0.3333333333333333,
             "#9c179e"
            ],
            [
             0.4444444444444444,
             "#bd3786"
            ],
            [
             0.5555555555555556,
             "#d8576b"
            ],
            [
             0.6666666666666666,
             "#ed7953"
            ],
            [
             0.7777777777777778,
             "#fb9f3a"
            ],
            [
             0.8888888888888888,
             "#fdca26"
            ],
            [
             1,
             "#f0f921"
            ]
           ]
          },
          "colorway": [
           "#636efa",
           "#EF553B",
           "#00cc96",
           "#ab63fa",
           "#FFA15A",
           "#19d3f3",
           "#FF6692",
           "#B6E880",
           "#FF97FF",
           "#FECB52"
          ],
          "font": {
           "color": "#2a3f5f"
          },
          "geo": {
           "bgcolor": "white",
           "lakecolor": "white",
           "landcolor": "#E5ECF6",
           "showlakes": true,
           "showland": true,
           "subunitcolor": "white"
          },
          "hoverlabel": {
           "align": "left"
          },
          "hovermode": "closest",
          "mapbox": {
           "style": "light"
          },
          "paper_bgcolor": "white",
          "plot_bgcolor": "#E5ECF6",
          "polar": {
           "angularaxis": {
            "gridcolor": "white",
            "linecolor": "white",
            "ticks": ""
           },
           "bgcolor": "#E5ECF6",
           "radialaxis": {
            "gridcolor": "white",
            "linecolor": "white",
            "ticks": ""
           }
          },
          "scene": {
           "xaxis": {
            "backgroundcolor": "#E5ECF6",
            "gridcolor": "white",
            "gridwidth": 2,
            "linecolor": "white",
            "showbackground": true,
            "ticks": "",
            "zerolinecolor": "white"
           },
           "yaxis": {
            "backgroundcolor": "#E5ECF6",
            "gridcolor": "white",
            "gridwidth": 2,
            "linecolor": "white",
            "showbackground": true,
            "ticks": "",
            "zerolinecolor": "white"
           },
           "zaxis": {
            "backgroundcolor": "#E5ECF6",
            "gridcolor": "white",
            "gridwidth": 2,
            "linecolor": "white",
            "showbackground": true,
            "ticks": "",
            "zerolinecolor": "white"
           }
          },
          "shapedefaults": {
           "line": {
            "color": "#2a3f5f"
           }
          },
          "ternary": {
           "aaxis": {
            "gridcolor": "white",
            "linecolor": "white",
            "ticks": ""
           },
           "baxis": {
            "gridcolor": "white",
            "linecolor": "white",
            "ticks": ""
           },
           "bgcolor": "#E5ECF6",
           "caxis": {
            "gridcolor": "white",
            "linecolor": "white",
            "ticks": ""
           }
          },
          "title": {
           "x": 0.05
          },
          "xaxis": {
           "automargin": true,
           "gridcolor": "white",
           "linecolor": "white",
           "ticks": "",
           "title": {
            "standoff": 15
           },
           "zerolinecolor": "white",
           "zerolinewidth": 2
          },
          "yaxis": {
           "automargin": true,
           "gridcolor": "white",
           "linecolor": "white",
           "ticks": "",
           "title": {
            "standoff": 15
           },
           "zerolinecolor": "white",
           "zerolinewidth": 2
          }
         }
        },
        "title": {
         "text": "Box Plots"
        },
        "width": 800,
        "xaxis": {
         "anchor": "y",
         "domain": [
          0,
          1
         ],
         "title": {
          "text": "Data"
         }
        },
        "yaxis": {
         "anchor": "x",
         "domain": [
          0,
          1
         ]
        }
       }
      }
     },
     "metadata": {},
     "output_type": "display_data"
    }
   ],
   "source": [
    "fig = px.box(df, x=\"Data\", \n",
    "             color=\"Label\",\n",
    "             points=\"all\",\n",
    "             notched=True,\n",
    "             color_discrete_sequence=['teal', 'purple'],\n",
    "             height = 500, width = 800,\n",
    "             title='Box Plots')\n",
    "fig.show()"
   ]
  },
  {
   "cell_type": "code",
   "execution_count": 21,
   "metadata": {},
   "outputs": [
    {
     "data": {
      "application/vnd.plotly.v1+json": {
       "config": {
        "plotlyServerURL": "https://plot.ly"
       },
       "data": [
        {
         "alignmentgroup": "True",
         "hovertemplate": "Label=Normal<br>Data=%{x}<extra></extra>",
         "legendgroup": "Normal",
         "marker": {
          "color": "teal"
         },
         "name": "Normal",
         "notched": true,
         "offsetgroup": "Normal",
         "orientation": "h",
         "showlegend": true,
         "type": "box",
         "x": [
          0.7661340288013501,
          2.936432806963716,
          1.698715946697745,
          3.0727074963317897,
          1.4342313016003732,
          2.1066729722938344,
          2.752195346607073,
          1.1960416335283588,
          2.638625760804452,
          2.3187846195686066,
          1.5134087439556256,
          1.2320552857983493,
          3.0621907351647897,
          3.5005790849030385,
          3.222192998133994,
          0.8121517482052838,
          2.562811342572542,
          1.5094589548994035,
          2.0617095629885784,
          2.349453915820724,
          1.2133023300704542,
          1.2117744338342904,
          0.31979158708017996,
          1.2501441281815648,
          2.101793598098098,
          2.697786236074823,
          1.0722918812586357,
          1.3693506387877665,
          -0.4497388122183299,
          2.346175895744964,
          2.261963226946059,
          3.3299616334667412,
          3.4385904384306256,
          1.0824620059049213,
          3.2777597306834974,
          0.6451948567883088,
          3.066608776453147,
          2.0203996785827156,
          3.11174134362932,
          2.1037891481558124,
          1.2970672230328515,
          2.662209583624894,
          1.9737345351547175,
          2.6477285936774027,
          2.15735791756473,
          1.7685210770487219,
          1.685840314655774,
          3.028535367038306,
          1.326835403378332,
          -0.09604122523542458,
          1.9341510802078192,
          1.1699117826004417,
          2.014907168831193,
          4.066784001888998,
          3.227902989434626,
          1.2880938291738808,
          1.9927850653588637,
          2.6966929562262174,
          3.1290940780117342,
          1.8387259064931831,
          0.06380274263616403,
          0.749678366264886,
          3.8199592042987476,
          3.1553366079911065,
          2.1910347356492004,
          1.6360209258074028,
          0.5539081321553978,
          3.687128610766363,
          3.0353051495023093,
          2.6418765194818867,
          -0.21461339512721933,
          3.708304115229878,
          1.6538056080387138,
          2.733734859352322,
          3.1052752452195076,
          2.4039517831724773,
          0.390071088352669,
          2.185600727991858,
          2.3228781069295352,
          1.8428373669737603,
          2.943151660220919,
          1.2002935847728033,
          1.7653026555494944,
          1.6501856150938115,
          1.855776312128536,
          2.7319866321534163,
          1.0372917882797001,
          2.7416585218838554,
          1.7202194360088137,
          1.9421306804161407,
          1.6213470853011518,
          2.677972886420598,
          0.6155922291580456,
          1.263745722533566,
          2.2595407887649213,
          3.9667832703443686,
          2.99553955747048,
          1.8929768142073133,
          2.3921020498455,
          -0.07367848604366323,
          1.7805796277037846,
          2.2559334388607413,
          1.2959957430531182,
          2.475858445381354,
          1.2722256069439264,
          2.623343939643732,
          2.4056061673377354,
          1.476108555761344,
          1.4891891488345594,
          1.1553908403754973,
          2.1163349591689453,
          0.48397833498945597,
          2.572235905895739,
          2.1226753136722087,
          2.4932425791668122,
          1.5149228564061608,
          0.9601070321512668,
          0.392187461871343,
          0.35407827208853493,
          2.6380432934098548,
          2.427375765672821,
          1.5728221763641668,
          2.808836019506046,
          1.100318912859535,
          1.81857651375086,
          2.5599204545796717,
          1.7215464199781856,
          0.7531448413698072,
          2.8425163339904262,
          2.1784334283353606,
          2.6146043974609046,
          0.8258182238576364,
          2.278795279525711,
          3.368915704104741,
          0.5730076150207477,
          2.863625187787865,
          0.5782525104759493,
          0.2328596832981631,
          2.0750613047530355,
          1.3974685436375895,
          1.5090650727623152,
          1.4232038366306985,
          1.6190038483029543,
          2.860981056067043,
          3.2115061187387948,
          1.9882968929429756,
          1.249931935419911,
          1.9457553987078775,
          -1.1402417992840883,
          2.616680708184526,
          2.103779901541481,
          1.4273745245795515,
          2.0926009081767503,
          2.2611891539715225,
          1.6612251748575915,
          3.649546685542741,
          2.480677266891096,
          3.364769742472105,
          1.1080153667577355,
          0.31799126076786943,
          3.114079848036117,
          0.5078611940771562,
          1.1270857370374807,
          2.153159125398661,
          1.3724662618207863,
          2.7359375176436895,
          2.535477845680289,
          3.3702811555747503,
          1.8653214490333065,
          2.131592225213798,
          2.20548949605025,
          1.9942251718773336,
          2.6414079721524764,
          1.1473064660416359,
          -0.6197694957419402,
          1.7407051393009674,
          0.728944230217518,
          2.012838456749605,
          2.662369246327774,
          2.4032876418162505,
          1.7318206658310875,
          0.874466475744333,
          3.377638572793296,
          3.297625163894365,
          1.221004144840529,
          2.7843323213097504,
          0.7826886864356879,
          1.5612640685603956,
          2.490932299987094,
          0.5163794440733254,
          2.329233534170101,
          2.9907964912517975,
          3.074260429806548,
          2.942646633491941,
          3.1602817971522157,
          2.3402421183239825,
          2.443680015752832,
          2.1230839264084715,
          2.4088790070529735,
          3.0745703114993357
         ],
         "x0": " ",
         "xaxis": "x",
         "y0": " ",
         "yaxis": "y"
        },
        {
         "alignmentgroup": "True",
         "hovertemplate": "Label=t-Student<br>Data=%{x}<extra></extra>",
         "legendgroup": "t-Student",
         "marker": {
          "color": "purple"
         },
         "name": "t-Student",
         "notched": true,
         "offsetgroup": "t-Student",
         "orientation": "h",
         "showlegend": true,
         "type": "box",
         "x": [
          0.5799999831149955,
          0.31401869495397106,
          -1.3396221880629122,
          -0.8173640585071605,
          -0.8186702937873971,
          1.5381920211721505,
          -0.159481461253114,
          -1.1230724012674638,
          -2.4021031408374807,
          0.3398961180865356,
          1.5615046463438078,
          0.44057095410666813,
          3.7556699887507783,
          -0.07897271653943208,
          -0.22283497467440755,
          0.6064916149027823,
          2.278116553050947,
          1.6145743230236536,
          -1.271660658203279,
          1.1268786170046403,
          0.3309070622016834,
          -0.2798455165214374,
          0.6485301870888225,
          -0.25533698535941046,
          0.42268668553857286,
          -0.2890533947193254,
          -0.07177096616045489,
          -0.15785803043099064,
          -4.020727320209899,
          -1.0948853378152361,
          -0.31479135428596583,
          -0.5316093073185275,
          0.7957178587400849,
          -0.7261462719838147,
          -0.3170345876191921,
          1.9979885471778682,
          -2.3997051763828185,
          -0.08637255858423155,
          0.8527712952764581,
          -0.09508963005715945,
          -0.17313873380222722,
          0.8132001024353847,
          0.07609243523426255,
          0.38491872362905905,
          1.0237659767798009,
          -0.24346642464403914,
          0.7228621020134451,
          2.7117614010105,
          0.8284708566940598,
          1.1669556261618552,
          -0.0548054013153737,
          0.04941898329113556,
          1.3308170202435479,
          3.0607550197732953,
          6.0494938281713715,
          -1.685928770516481,
          -0.5120245371567006,
          0.8383720008300091,
          1.3451475217661102,
          0.2162883805029796,
          0.42920313382298986,
          0.5918740062006023,
          1.060045662936148,
          0.4558028796155138,
          -1.1154774957843223,
          0.6071542964341945,
          2.0444062923865856,
          0.3022898458231573,
          0.16122273958834005,
          -0.4357647573105171,
          -2.1884480140606493,
          0.328401435335518,
          8.029067036178036,
          -0.8359560657969409,
          -2.2650398931416618,
          -0.23123423795267156,
          0.9980890542776073,
          1.0138584860212594,
          0.3253965740249172,
          1.6693668169440912,
          0.8681027447393244,
          5.489009702808322,
          0.8564141881319194,
          1.4250923654975218,
          -1.6182697588268908,
          1.990055666285414,
          -5.7152856149403775,
          -0.9777507898416051,
          -0.9325218782666079,
          -0.8249984839174859,
          -2.5853495758923493,
          0.17089505498121468,
          0.020391294932425173,
          0.1182026573735361,
          1.6686517110617323,
          -0.09270384526485295,
          0.10940760732449245,
          -1.2984706001599158,
          0.2783099063198187,
          3.0047027546368703,
          0.2056979880197663,
          1.860251328325694,
          0.041630201200091914,
          0.3453567012935942,
          -0.656048734528062,
          0.9078412584754125,
          3.59024981216198,
          1.5795858899135922,
          0.2267380098906495,
          0.22762570758975367,
          -0.7567112196578656,
          -0.4667080370154893,
          -0.8777413331609135,
          -0.3715953184261207,
          -1.1004306499766328,
          -2.134468765612561,
          0.1798737485275294,
          4.907603544355433,
          0.13801998631719892,
          -0.877296359437821,
          1.2869956947722145,
          1.3592650282526524,
          -0.24655933740365474,
          0.19202845667089247,
          2.6524431311717036,
          0.6633256790680104,
          -0.6285226680782251,
          0.03592334927341612,
          1.4118560272965697,
          0.4980068294432477,
          -0.9898456735915845,
          -3.0508739941161602,
          0.8115914676734806,
          -3.429107252108827,
          2.204963011810137,
          -0.7748017771074959,
          0.8688071527492893,
          1.5210756427990255,
          -0.5490855859842143,
          -0.9433361278194717,
          0.9498033406894558,
          -0.7086298175338135,
          -1.3706267372064143,
          0.7729204523092911,
          0.0733071401751775,
          -1.6186041268003588,
          0.9147334211437532,
          -0.12587322618587454,
          1.1311840909100572,
          1.0791123634959896,
          -0.023328020128130393,
          -0.4234825464135628,
          -1.0092186900566764,
          0.9459750479041952,
          0.37195955366492434,
          0.7101683403736434,
          0.2949054039615913,
          0.7839513533674425,
          0.33656424265388474,
          -1.424285368743878,
          -0.587728296990065,
          0.2595354131199979,
          -0.08755820961766336,
          -0.3098321269394004,
          -1.063698151216011,
          -0.9614090390513929,
          -2.114151624812543,
          -0.8520577868892055,
          -1.5419105776574153,
          -0.7352374268045772,
          0.07777662623332063,
          -4.732080222752276,
          -0.5863449066922433,
          -0.7099648398048792,
          -0.7960892987577822,
          -5.631643417606087,
          0.612221444775737,
          4.097548193909055,
          -0.1591505263642057,
          -1.8969741411106948,
          1.1554553394292912,
          0.9845539422627996,
          -0.7380155870249763,
          -0.12468888830319422,
          -0.8525630938266612,
          -0.5670907269885107,
          -5.718526891259926,
          0.3980380800267177,
          -0.6739225393729046,
          0.47302201174108827,
          -1.8192977370034351,
          0.9465794164203633,
          -0.5480004546801658,
          -0.6642021983775994,
          -1.0171909495633755,
          0.604580861986493,
          1.588593749559271,
          -0.5067046201267281,
          0.6812473934900551,
          -0.8516539401139124
         ],
         "x0": " ",
         "xaxis": "x",
         "y0": " ",
         "yaxis": "y"
        }
       ],
       "layout": {
        "boxmode": "overlay",
        "height": 500,
        "legend": {
         "title": {
          "text": "Label"
         },
         "tracegroupgap": 0
        },
        "template": {
         "data": {
          "bar": [
           {
            "error_x": {
             "color": "#2a3f5f"
            },
            "error_y": {
             "color": "#2a3f5f"
            },
            "marker": {
             "line": {
              "color": "#E5ECF6",
              "width": 0.5
             },
             "pattern": {
              "fillmode": "overlay",
              "size": 10,
              "solidity": 0.2
             }
            },
            "type": "bar"
           }
          ],
          "barpolar": [
           {
            "marker": {
             "line": {
              "color": "#E5ECF6",
              "width": 0.5
             },
             "pattern": {
              "fillmode": "overlay",
              "size": 10,
              "solidity": 0.2
             }
            },
            "type": "barpolar"
           }
          ],
          "carpet": [
           {
            "aaxis": {
             "endlinecolor": "#2a3f5f",
             "gridcolor": "white",
             "linecolor": "white",
             "minorgridcolor": "white",
             "startlinecolor": "#2a3f5f"
            },
            "baxis": {
             "endlinecolor": "#2a3f5f",
             "gridcolor": "white",
             "linecolor": "white",
             "minorgridcolor": "white",
             "startlinecolor": "#2a3f5f"
            },
            "type": "carpet"
           }
          ],
          "choropleth": [
           {
            "colorbar": {
             "outlinewidth": 0,
             "ticks": ""
            },
            "type": "choropleth"
           }
          ],
          "contour": [
           {
            "colorbar": {
             "outlinewidth": 0,
             "ticks": ""
            },
            "colorscale": [
             [
              0,
              "#0d0887"
             ],
             [
              0.1111111111111111,
              "#46039f"
             ],
             [
              0.2222222222222222,
              "#7201a8"
             ],
             [
              0.3333333333333333,
              "#9c179e"
             ],
             [
              0.4444444444444444,
              "#bd3786"
             ],
             [
              0.5555555555555556,
              "#d8576b"
             ],
             [
              0.6666666666666666,
              "#ed7953"
             ],
             [
              0.7777777777777778,
              "#fb9f3a"
             ],
             [
              0.8888888888888888,
              "#fdca26"
             ],
             [
              1,
              "#f0f921"
             ]
            ],
            "type": "contour"
           }
          ],
          "contourcarpet": [
           {
            "colorbar": {
             "outlinewidth": 0,
             "ticks": ""
            },
            "type": "contourcarpet"
           }
          ],
          "heatmap": [
           {
            "colorbar": {
             "outlinewidth": 0,
             "ticks": ""
            },
            "colorscale": [
             [
              0,
              "#0d0887"
             ],
             [
              0.1111111111111111,
              "#46039f"
             ],
             [
              0.2222222222222222,
              "#7201a8"
             ],
             [
              0.3333333333333333,
              "#9c179e"
             ],
             [
              0.4444444444444444,
              "#bd3786"
             ],
             [
              0.5555555555555556,
              "#d8576b"
             ],
             [
              0.6666666666666666,
              "#ed7953"
             ],
             [
              0.7777777777777778,
              "#fb9f3a"
             ],
             [
              0.8888888888888888,
              "#fdca26"
             ],
             [
              1,
              "#f0f921"
             ]
            ],
            "type": "heatmap"
           }
          ],
          "heatmapgl": [
           {
            "colorbar": {
             "outlinewidth": 0,
             "ticks": ""
            },
            "colorscale": [
             [
              0,
              "#0d0887"
             ],
             [
              0.1111111111111111,
              "#46039f"
             ],
             [
              0.2222222222222222,
              "#7201a8"
             ],
             [
              0.3333333333333333,
              "#9c179e"
             ],
             [
              0.4444444444444444,
              "#bd3786"
             ],
             [
              0.5555555555555556,
              "#d8576b"
             ],
             [
              0.6666666666666666,
              "#ed7953"
             ],
             [
              0.7777777777777778,
              "#fb9f3a"
             ],
             [
              0.8888888888888888,
              "#fdca26"
             ],
             [
              1,
              "#f0f921"
             ]
            ],
            "type": "heatmapgl"
           }
          ],
          "histogram": [
           {
            "marker": {
             "pattern": {
              "fillmode": "overlay",
              "size": 10,
              "solidity": 0.2
             }
            },
            "type": "histogram"
           }
          ],
          "histogram2d": [
           {
            "colorbar": {
             "outlinewidth": 0,
             "ticks": ""
            },
            "colorscale": [
             [
              0,
              "#0d0887"
             ],
             [
              0.1111111111111111,
              "#46039f"
             ],
             [
              0.2222222222222222,
              "#7201a8"
             ],
             [
              0.3333333333333333,
              "#9c179e"
             ],
             [
              0.4444444444444444,
              "#bd3786"
             ],
             [
              0.5555555555555556,
              "#d8576b"
             ],
             [
              0.6666666666666666,
              "#ed7953"
             ],
             [
              0.7777777777777778,
              "#fb9f3a"
             ],
             [
              0.8888888888888888,
              "#fdca26"
             ],
             [
              1,
              "#f0f921"
             ]
            ],
            "type": "histogram2d"
           }
          ],
          "histogram2dcontour": [
           {
            "colorbar": {
             "outlinewidth": 0,
             "ticks": ""
            },
            "colorscale": [
             [
              0,
              "#0d0887"
             ],
             [
              0.1111111111111111,
              "#46039f"
             ],
             [
              0.2222222222222222,
              "#7201a8"
             ],
             [
              0.3333333333333333,
              "#9c179e"
             ],
             [
              0.4444444444444444,
              "#bd3786"
             ],
             [
              0.5555555555555556,
              "#d8576b"
             ],
             [
              0.6666666666666666,
              "#ed7953"
             ],
             [
              0.7777777777777778,
              "#fb9f3a"
             ],
             [
              0.8888888888888888,
              "#fdca26"
             ],
             [
              1,
              "#f0f921"
             ]
            ],
            "type": "histogram2dcontour"
           }
          ],
          "mesh3d": [
           {
            "colorbar": {
             "outlinewidth": 0,
             "ticks": ""
            },
            "type": "mesh3d"
           }
          ],
          "parcoords": [
           {
            "line": {
             "colorbar": {
              "outlinewidth": 0,
              "ticks": ""
             }
            },
            "type": "parcoords"
           }
          ],
          "pie": [
           {
            "automargin": true,
            "type": "pie"
           }
          ],
          "scatter": [
           {
            "fillpattern": {
             "fillmode": "overlay",
             "size": 10,
             "solidity": 0.2
            },
            "type": "scatter"
           }
          ],
          "scatter3d": [
           {
            "line": {
             "colorbar": {
              "outlinewidth": 0,
              "ticks": ""
             }
            },
            "marker": {
             "colorbar": {
              "outlinewidth": 0,
              "ticks": ""
             }
            },
            "type": "scatter3d"
           }
          ],
          "scattercarpet": [
           {
            "marker": {
             "colorbar": {
              "outlinewidth": 0,
              "ticks": ""
             }
            },
            "type": "scattercarpet"
           }
          ],
          "scattergeo": [
           {
            "marker": {
             "colorbar": {
              "outlinewidth": 0,
              "ticks": ""
             }
            },
            "type": "scattergeo"
           }
          ],
          "scattergl": [
           {
            "marker": {
             "colorbar": {
              "outlinewidth": 0,
              "ticks": ""
             }
            },
            "type": "scattergl"
           }
          ],
          "scattermapbox": [
           {
            "marker": {
             "colorbar": {
              "outlinewidth": 0,
              "ticks": ""
             }
            },
            "type": "scattermapbox"
           }
          ],
          "scatterpolar": [
           {
            "marker": {
             "colorbar": {
              "outlinewidth": 0,
              "ticks": ""
             }
            },
            "type": "scatterpolar"
           }
          ],
          "scatterpolargl": [
           {
            "marker": {
             "colorbar": {
              "outlinewidth": 0,
              "ticks": ""
             }
            },
            "type": "scatterpolargl"
           }
          ],
          "scatterternary": [
           {
            "marker": {
             "colorbar": {
              "outlinewidth": 0,
              "ticks": ""
             }
            },
            "type": "scatterternary"
           }
          ],
          "surface": [
           {
            "colorbar": {
             "outlinewidth": 0,
             "ticks": ""
            },
            "colorscale": [
             [
              0,
              "#0d0887"
             ],
             [
              0.1111111111111111,
              "#46039f"
             ],
             [
              0.2222222222222222,
              "#7201a8"
             ],
             [
              0.3333333333333333,
              "#9c179e"
             ],
             [
              0.4444444444444444,
              "#bd3786"
             ],
             [
              0.5555555555555556,
              "#d8576b"
             ],
             [
              0.6666666666666666,
              "#ed7953"
             ],
             [
              0.7777777777777778,
              "#fb9f3a"
             ],
             [
              0.8888888888888888,
              "#fdca26"
             ],
             [
              1,
              "#f0f921"
             ]
            ],
            "type": "surface"
           }
          ],
          "table": [
           {
            "cells": {
             "fill": {
              "color": "#EBF0F8"
             },
             "line": {
              "color": "white"
             }
            },
            "header": {
             "fill": {
              "color": "#C8D4E3"
             },
             "line": {
              "color": "white"
             }
            },
            "type": "table"
           }
          ]
         },
         "layout": {
          "annotationdefaults": {
           "arrowcolor": "#2a3f5f",
           "arrowhead": 0,
           "arrowwidth": 1
          },
          "autotypenumbers": "strict",
          "coloraxis": {
           "colorbar": {
            "outlinewidth": 0,
            "ticks": ""
           }
          },
          "colorscale": {
           "diverging": [
            [
             0,
             "#8e0152"
            ],
            [
             0.1,
             "#c51b7d"
            ],
            [
             0.2,
             "#de77ae"
            ],
            [
             0.3,
             "#f1b6da"
            ],
            [
             0.4,
             "#fde0ef"
            ],
            [
             0.5,
             "#f7f7f7"
            ],
            [
             0.6,
             "#e6f5d0"
            ],
            [
             0.7,
             "#b8e186"
            ],
            [
             0.8,
             "#7fbc41"
            ],
            [
             0.9,
             "#4d9221"
            ],
            [
             1,
             "#276419"
            ]
           ],
           "sequential": [
            [
             0,
             "#0d0887"
            ],
            [
             0.1111111111111111,
             "#46039f"
            ],
            [
             0.2222222222222222,
             "#7201a8"
            ],
            [
             0.3333333333333333,
             "#9c179e"
            ],
            [
             0.4444444444444444,
             "#bd3786"
            ],
            [
             0.5555555555555556,
             "#d8576b"
            ],
            [
             0.6666666666666666,
             "#ed7953"
            ],
            [
             0.7777777777777778,
             "#fb9f3a"
            ],
            [
             0.8888888888888888,
             "#fdca26"
            ],
            [
             1,
             "#f0f921"
            ]
           ],
           "sequentialminus": [
            [
             0,
             "#0d0887"
            ],
            [
             0.1111111111111111,
             "#46039f"
            ],
            [
             0.2222222222222222,
             "#7201a8"
            ],
            [
             0.3333333333333333,
             "#9c179e"
            ],
            [
             0.4444444444444444,
             "#bd3786"
            ],
            [
             0.5555555555555556,
             "#d8576b"
            ],
            [
             0.6666666666666666,
             "#ed7953"
            ],
            [
             0.7777777777777778,
             "#fb9f3a"
            ],
            [
             0.8888888888888888,
             "#fdca26"
            ],
            [
             1,
             "#f0f921"
            ]
           ]
          },
          "colorway": [
           "#636efa",
           "#EF553B",
           "#00cc96",
           "#ab63fa",
           "#FFA15A",
           "#19d3f3",
           "#FF6692",
           "#B6E880",
           "#FF97FF",
           "#FECB52"
          ],
          "font": {
           "color": "#2a3f5f"
          },
          "geo": {
           "bgcolor": "white",
           "lakecolor": "white",
           "landcolor": "#E5ECF6",
           "showlakes": true,
           "showland": true,
           "subunitcolor": "white"
          },
          "hoverlabel": {
           "align": "left"
          },
          "hovermode": "closest",
          "mapbox": {
           "style": "light"
          },
          "paper_bgcolor": "white",
          "plot_bgcolor": "#E5ECF6",
          "polar": {
           "angularaxis": {
            "gridcolor": "white",
            "linecolor": "white",
            "ticks": ""
           },
           "bgcolor": "#E5ECF6",
           "radialaxis": {
            "gridcolor": "white",
            "linecolor": "white",
            "ticks": ""
           }
          },
          "scene": {
           "xaxis": {
            "backgroundcolor": "#E5ECF6",
            "gridcolor": "white",
            "gridwidth": 2,
            "linecolor": "white",
            "showbackground": true,
            "ticks": "",
            "zerolinecolor": "white"
           },
           "yaxis": {
            "backgroundcolor": "#E5ECF6",
            "gridcolor": "white",
            "gridwidth": 2,
            "linecolor": "white",
            "showbackground": true,
            "ticks": "",
            "zerolinecolor": "white"
           },
           "zaxis": {
            "backgroundcolor": "#E5ECF6",
            "gridcolor": "white",
            "gridwidth": 2,
            "linecolor": "white",
            "showbackground": true,
            "ticks": "",
            "zerolinecolor": "white"
           }
          },
          "shapedefaults": {
           "line": {
            "color": "#2a3f5f"
           }
          },
          "ternary": {
           "aaxis": {
            "gridcolor": "white",
            "linecolor": "white",
            "ticks": ""
           },
           "baxis": {
            "gridcolor": "white",
            "linecolor": "white",
            "ticks": ""
           },
           "bgcolor": "#E5ECF6",
           "caxis": {
            "gridcolor": "white",
            "linecolor": "white",
            "ticks": ""
           }
          },
          "title": {
           "x": 0.05
          },
          "xaxis": {
           "automargin": true,
           "gridcolor": "white",
           "linecolor": "white",
           "ticks": "",
           "title": {
            "standoff": 15
           },
           "zerolinecolor": "white",
           "zerolinewidth": 2
          },
          "yaxis": {
           "automargin": true,
           "gridcolor": "white",
           "linecolor": "white",
           "ticks": "",
           "title": {
            "standoff": 15
           },
           "zerolinecolor": "white",
           "zerolinewidth": 2
          }
         }
        },
        "title": {
         "text": "Box Plots"
        },
        "width": 800,
        "xaxis": {
         "anchor": "y",
         "domain": [
          0,
          1
         ],
         "title": {
          "text": "Data"
         }
        },
        "yaxis": {
         "anchor": "x",
         "domain": [
          0,
          1
         ]
        }
       }
      }
     },
     "metadata": {},
     "output_type": "display_data"
    }
   ],
   "source": [
    "fig = px.box(df, x=\"Data\", \n",
    "             color=\"Label\",\n",
    "             boxmode=\"overlay\",\n",
    "             notched=True,\n",
    "             color_discrete_sequence=['teal', 'purple'],\n",
    "             height = 500, width = 800,\n",
    "             title='Box Plots')\n",
    "fig.show()"
   ]
  },
  {
   "cell_type": "code",
   "execution_count": null,
   "metadata": {},
   "outputs": [],
   "source": []
  }
 ],
 "metadata": {
  "kernelspec": {
   "display_name": ".venv",
   "language": "python",
   "name": "python3"
  },
  "language_info": {
   "codemirror_mode": {
    "name": "ipython",
    "version": 3
   },
   "file_extension": ".py",
   "mimetype": "text/x-python",
   "name": "python",
   "nbconvert_exporter": "python",
   "pygments_lexer": "ipython3",
   "version": "3.11.4"
  }
 },
 "nbformat": 4,
 "nbformat_minor": 2
}
