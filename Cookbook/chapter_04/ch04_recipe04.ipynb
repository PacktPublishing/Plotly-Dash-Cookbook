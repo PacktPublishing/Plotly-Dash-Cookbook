{
 "cells": [
  {
   "cell_type": "markdown",
   "metadata": {},
   "source": [
    "# Making Box Plots better with Jitter"
   ]
  },
  {
   "cell_type": "markdown",
   "metadata": {},
   "source": [
    "Adding **jitter** to a box plot is a technique used to improve the visualization of individual data points, especially when working with small to medium-sized datasets. Jitter involves slightly shifting the position of data points along the x-axis (or y-axis, depending on orientation) to avoid overlap and clustering, making each data point more distinct and easier to identify. This is particularly useful in situations where data points are tightly packed or where outliers and individual observations are of interest, as it can reveal patterns or variations that might be hidden in the summarized box plot alone.\n",
    "\n",
    "By combining a box plot with jittered data points, sometimes referred to as a **\"strip plot\"** or a **\"beeswarm plot,\"** you can achieve a more detailed and informative visualization. This hybrid approach allows the viewer to see the overall summary of the data distribution (via the box plot) while also observing the specific spread and density of individual points (via the jittered dots). It is particularly useful when you want to highlight the actual data behind the summary statistics, such as in smaller datasets where individual values are more significant.\n",
    "\n",
    "However, jitter should be applied carefully. It works well when the data is sparse enough that individual points can be meaningfully separated. In very large datasets, excessive use of jitter can make the plot appear cluttered and difficult to interpret, negating the purpose of summarization in a box plot. In such cases, alternative visualizations like a violin plot, which combines a box plot with a kernel density estimate, might be more effective for displaying the underlying distribution."
   ]
  },
  {
   "cell_type": "markdown",
   "metadata": {},
   "source": [
    "## Getting ready\n",
    "\n",
    "\n",
    "In addition to `plotly`, `numpy` and `pandas`, make sure the `scipy` Python library avaiable in your Python environment\n",
    "You can install it using the command:"
   ]
  },
  {
   "cell_type": "markdown",
   "metadata": {},
   "source": [
    "```\n",
    "pip install scipy \n",
    "```"
   ]
  },
  {
   "cell_type": "markdown",
   "metadata": {},
   "source": [
    "For this recipe we will create two data sets"
   ]
  },
  {
   "cell_type": "markdown",
   "metadata": {},
   "source": [
    "1. Import the Python modules `numpy`, `pandas`. Import the [`norm`](https://docs.scipy.org/doc/scipy/reference/generated/scipy.stats.norm.html) object from `scipy.stats`. This object will allow us to generate random samples from a normal distribution. This will help us to create data sets to be used in this recipe."
   ]
  },
  {
   "cell_type": "code",
   "execution_count": 1,
   "metadata": {},
   "outputs": [],
   "source": [
    "import numpy as np\n",
    "import pandas as pd\n",
    "from scipy.stats import norm, t"
   ]
  },
  {
   "cell_type": "markdown",
   "metadata": {},
   "source": [
    "2. Create two data sets to be used in this recipe"
   ]
  },
  {
   "cell_type": "code",
   "execution_count": 2,
   "metadata": {},
   "outputs": [],
   "source": [
    "n = 200\n",
    "sample1 = norm(loc=0).rvs(n)\n",
    "sample2 = t(df=3).rvs(n)"
   ]
  },
  {
   "cell_type": "code",
   "execution_count": 3,
   "metadata": {},
   "outputs": [],
   "source": [
    "data1 = pd.DataFrame({'Normal': sample1})"
   ]
  },
  {
   "cell_type": "code",
   "execution_count": 4,
   "metadata": {},
   "outputs": [],
   "source": [
    "samples =  np.concatenate( (sample1, sample2))\n",
    "labels = ['Normal']*n + ['t-Student']*n \n",
    "data2 = pd.DataFrame({'Data': samples, 'Label':labels})"
   ]
  },
  {
   "cell_type": "markdown",
   "metadata": {},
   "source": [
    "## How to do it"
   ]
  },
  {
   "cell_type": "markdown",
   "metadata": {},
   "source": [
    "1. Import the `plotly.graph_objects` module as `go`"
   ]
  },
  {
   "cell_type": "code",
   "execution_count": 5,
   "metadata": {},
   "outputs": [],
   "source": [
    "import plotly.graph_objects as go"
   ]
  },
  {
   "cell_type": "markdown",
   "metadata": {},
   "source": [
    "### Single data set"
   ]
  },
  {
   "cell_type": "markdown",
   "metadata": {},
   "source": [
    "Load the firs data set"
   ]
  },
  {
   "cell_type": "code",
   "execution_count": 6,
   "metadata": {},
   "outputs": [],
   "source": [
    "df = data1"
   ]
  },
  {
   "cell_type": "markdown",
   "metadata": {},
   "source": [
    "2. Create a `Figure` object and make a simple notched box plot using the function `Box`. Then customise the layout by calling the method `update_layout`"
   ]
  },
  {
   "cell_type": "code",
   "execution_count": 7,
   "metadata": {},
   "outputs": [
    {
     "data": {
      "application/vnd.plotly.v1+json": {
       "config": {
        "plotlyServerURL": "https://plot.ly"
       },
       "data": [
        {
         "marker": {
          "color": "purple"
         },
         "name": "Normal",
         "notched": true,
         "type": "box",
         "x": [
          -1.689336888453517,
          0.13776912596710247,
          1.1675091952590086,
          -0.7607604876302595,
          -0.6414780667145364,
          0.11477170637140893,
          1.9360016071063202,
          0.4335911086990883,
          -1.9939155637111687,
          0.05896021833051035,
          -0.1435860575122745,
          0.24395341270042556,
          0.7713106604048846,
          -2.473275307771809,
          0.11524284105619857,
          -2.200433888196964,
          -1.6166907263749857,
          -0.6570572327193407,
          0.0537983253306413,
          0.5713657463706605,
          -0.18129027059678798,
          0.430004557081076,
          1.6863812103799642,
          -0.6205237181163857,
          -1.378790952224102,
          -0.9560630562428023,
          0.7628953284442226,
          0.39728720166579823,
          -0.026977581814568462,
          -0.4775048077061331,
          -1.1220589139421688,
          -0.22818375928584564,
          -0.3726175003152722,
          0.40313929253122527,
          0.5456734426890402,
          0.5740447442738711,
          -2.237131128094541,
          0.4058095789096909,
          -0.057463031685277874,
          -0.12273862477813806,
          -2.307293811068429,
          0.06316488302106166,
          -0.7977993774509309,
          1.0363486351237172,
          1.8041182975160668,
          0.17306927422672233,
          -1.9214220031912495,
          0.23758276050622623,
          0.9522895107253445,
          0.7730070354998442,
          -0.29185508575737557,
          -1.5922511892721602,
          0.4844679481630889,
          -0.06886905558166533,
          -0.46890257964383103,
          0.468215986441292,
          -0.6170960484980602,
          0.35740225773385476,
          2.678687336946146,
          -1.031897653891675,
          0.42059595579664977,
          -0.43000647046019064,
          1.0319300779441793,
          0.4766188701301545,
          -2.4711327874864324,
          1.2171002747332798,
          1.1214780257098982,
          -1.2894650045211846,
          0.6653483531204847,
          0.9412819082345588,
          0.1614052968972017,
          -0.3451756071894113,
          1.1770428422416965,
          -0.9742353816864837,
          -0.36361931689461524,
          0.6412601937102383,
          1.6336644480044498,
          -0.6105004553744235,
          0.8152381839368957,
          -1.4288834184504773,
          0.44993084750598256,
          -0.7973688855485472,
          0.298340729784743,
          0.6074625171636029,
          -0.8301357035946288,
          -0.9034214419117117,
          -0.8798883621524541,
          0.4478482378005054,
          -0.3178034758313932,
          -0.11442334802179989,
          0.6625132412809478,
          0.11846246100215997,
          0.18726296072824145,
          -1.4163690578591572,
          -0.20504665253924703,
          -2.2520376076911903,
          -0.05149414351210116,
          -1.5439331507530487,
          -0.06701365016551912,
          1.057640785433957,
          0.05051365860776818,
          -0.3385267509147933,
          -1.7393596031683598,
          0.7760699180500408,
          1.4100114849001115,
          0.36738177670275723,
          0.7532249188234077,
          0.6276018174355962,
          0.3084812185167463,
          0.6754928369679085,
          -1.1003844369332827,
          0.14729148213127272,
          0.5803514316347554,
          -0.29784955145488823,
          0.903863427955898,
          1.080587909957928,
          -0.4760227808352415,
          -0.04425766076960422,
          0.06407344314800589,
          1.7262991655278872,
          -0.7605645076940213,
          0.7501785800543226,
          2.2182736935156284,
          -1.6769460826631943,
          -0.3969448008047011,
          -1.3385344020686465,
          1.9544731588727946,
          -0.1551787757725781,
          1.3706387591958122,
          1.0664504418332685,
          2.070083516538236,
          0.30840679379006686,
          0.5722331963172448,
          -0.1184287747459889,
          1.5264083447942185,
          0.9552146967566378,
          2.907381016549022,
          -0.04604202665734912,
          -0.5392618060603058,
          -1.0390014688221254,
          0.30044226187520795,
          -0.21053928413341894,
          2.7511366194329496,
          -0.28991441780949,
          2.261218036942313,
          -0.34766208037509183,
          -0.946703342006612,
          1.530695289551574,
          0.43387341147071556,
          -1.826544419107924,
          0.45677164528533054,
          -3.262154037479641,
          1.681917086418654,
          0.8169584882865069,
          -0.6073077104882263,
          -0.8914302540640905,
          -0.34814387409244735,
          -2.0811104094261728,
          0.16734218277132235,
          -0.9255167265691057,
          -0.15875968211489994,
          -0.8797187266103919,
          -0.1647272001439247,
          -1.1275673570323832,
          0.12361797224686759,
          -0.17916920363786906,
          -0.8927757138459166,
          -1.5286698179289708,
          0.27901683442676933,
          -1.1501065928276504,
          -1.2590574081380728,
          2.0370575301740974,
          0.48356603559643224,
          -0.491621228013522,
          0.34795437355165393,
          0.438153721287862,
          -1.2896965927423067,
          0.3210749016659769,
          0.5224109665262904,
          -2.7844960789982216,
          0.7382639393366289,
          0.5613682701771886,
          -0.25845818632285256,
          1.4098096719335358,
          -0.006037631103477602,
          0.20994706931352283,
          -0.48823809825368203,
          0.6120515452521044,
          0.9070998849125455,
          -0.5286897311076472,
          -1.5590038470687189,
          -2.094815510021006,
          -0.6131110942605921,
          -2.022790429559516,
          -0.44990968796858244,
          0.9565373696067946,
          -0.580460796755201,
          0.23328415591799653,
          1.6715392188260332,
          0.29645373322690705
         ]
        }
       ],
       "layout": {
        "height": 500,
        "template": {
         "data": {
          "bar": [
           {
            "error_x": {
             "color": "#2a3f5f"
            },
            "error_y": {
             "color": "#2a3f5f"
            },
            "marker": {
             "line": {
              "color": "#E5ECF6",
              "width": 0.5
             },
             "pattern": {
              "fillmode": "overlay",
              "size": 10,
              "solidity": 0.2
             }
            },
            "type": "bar"
           }
          ],
          "barpolar": [
           {
            "marker": {
             "line": {
              "color": "#E5ECF6",
              "width": 0.5
             },
             "pattern": {
              "fillmode": "overlay",
              "size": 10,
              "solidity": 0.2
             }
            },
            "type": "barpolar"
           }
          ],
          "carpet": [
           {
            "aaxis": {
             "endlinecolor": "#2a3f5f",
             "gridcolor": "white",
             "linecolor": "white",
             "minorgridcolor": "white",
             "startlinecolor": "#2a3f5f"
            },
            "baxis": {
             "endlinecolor": "#2a3f5f",
             "gridcolor": "white",
             "linecolor": "white",
             "minorgridcolor": "white",
             "startlinecolor": "#2a3f5f"
            },
            "type": "carpet"
           }
          ],
          "choropleth": [
           {
            "colorbar": {
             "outlinewidth": 0,
             "ticks": ""
            },
            "type": "choropleth"
           }
          ],
          "contour": [
           {
            "colorbar": {
             "outlinewidth": 0,
             "ticks": ""
            },
            "colorscale": [
             [
              0,
              "#0d0887"
             ],
             [
              0.1111111111111111,
              "#46039f"
             ],
             [
              0.2222222222222222,
              "#7201a8"
             ],
             [
              0.3333333333333333,
              "#9c179e"
             ],
             [
              0.4444444444444444,
              "#bd3786"
             ],
             [
              0.5555555555555556,
              "#d8576b"
             ],
             [
              0.6666666666666666,
              "#ed7953"
             ],
             [
              0.7777777777777778,
              "#fb9f3a"
             ],
             [
              0.8888888888888888,
              "#fdca26"
             ],
             [
              1,
              "#f0f921"
             ]
            ],
            "type": "contour"
           }
          ],
          "contourcarpet": [
           {
            "colorbar": {
             "outlinewidth": 0,
             "ticks": ""
            },
            "type": "contourcarpet"
           }
          ],
          "heatmap": [
           {
            "colorbar": {
             "outlinewidth": 0,
             "ticks": ""
            },
            "colorscale": [
             [
              0,
              "#0d0887"
             ],
             [
              0.1111111111111111,
              "#46039f"
             ],
             [
              0.2222222222222222,
              "#7201a8"
             ],
             [
              0.3333333333333333,
              "#9c179e"
             ],
             [
              0.4444444444444444,
              "#bd3786"
             ],
             [
              0.5555555555555556,
              "#d8576b"
             ],
             [
              0.6666666666666666,
              "#ed7953"
             ],
             [
              0.7777777777777778,
              "#fb9f3a"
             ],
             [
              0.8888888888888888,
              "#fdca26"
             ],
             [
              1,
              "#f0f921"
             ]
            ],
            "type": "heatmap"
           }
          ],
          "heatmapgl": [
           {
            "colorbar": {
             "outlinewidth": 0,
             "ticks": ""
            },
            "colorscale": [
             [
              0,
              "#0d0887"
             ],
             [
              0.1111111111111111,
              "#46039f"
             ],
             [
              0.2222222222222222,
              "#7201a8"
             ],
             [
              0.3333333333333333,
              "#9c179e"
             ],
             [
              0.4444444444444444,
              "#bd3786"
             ],
             [
              0.5555555555555556,
              "#d8576b"
             ],
             [
              0.6666666666666666,
              "#ed7953"
             ],
             [
              0.7777777777777778,
              "#fb9f3a"
             ],
             [
              0.8888888888888888,
              "#fdca26"
             ],
             [
              1,
              "#f0f921"
             ]
            ],
            "type": "heatmapgl"
           }
          ],
          "histogram": [
           {
            "marker": {
             "pattern": {
              "fillmode": "overlay",
              "size": 10,
              "solidity": 0.2
             }
            },
            "type": "histogram"
           }
          ],
          "histogram2d": [
           {
            "colorbar": {
             "outlinewidth": 0,
             "ticks": ""
            },
            "colorscale": [
             [
              0,
              "#0d0887"
             ],
             [
              0.1111111111111111,
              "#46039f"
             ],
             [
              0.2222222222222222,
              "#7201a8"
             ],
             [
              0.3333333333333333,
              "#9c179e"
             ],
             [
              0.4444444444444444,
              "#bd3786"
             ],
             [
              0.5555555555555556,
              "#d8576b"
             ],
             [
              0.6666666666666666,
              "#ed7953"
             ],
             [
              0.7777777777777778,
              "#fb9f3a"
             ],
             [
              0.8888888888888888,
              "#fdca26"
             ],
             [
              1,
              "#f0f921"
             ]
            ],
            "type": "histogram2d"
           }
          ],
          "histogram2dcontour": [
           {
            "colorbar": {
             "outlinewidth": 0,
             "ticks": ""
            },
            "colorscale": [
             [
              0,
              "#0d0887"
             ],
             [
              0.1111111111111111,
              "#46039f"
             ],
             [
              0.2222222222222222,
              "#7201a8"
             ],
             [
              0.3333333333333333,
              "#9c179e"
             ],
             [
              0.4444444444444444,
              "#bd3786"
             ],
             [
              0.5555555555555556,
              "#d8576b"
             ],
             [
              0.6666666666666666,
              "#ed7953"
             ],
             [
              0.7777777777777778,
              "#fb9f3a"
             ],
             [
              0.8888888888888888,
              "#fdca26"
             ],
             [
              1,
              "#f0f921"
             ]
            ],
            "type": "histogram2dcontour"
           }
          ],
          "mesh3d": [
           {
            "colorbar": {
             "outlinewidth": 0,
             "ticks": ""
            },
            "type": "mesh3d"
           }
          ],
          "parcoords": [
           {
            "line": {
             "colorbar": {
              "outlinewidth": 0,
              "ticks": ""
             }
            },
            "type": "parcoords"
           }
          ],
          "pie": [
           {
            "automargin": true,
            "type": "pie"
           }
          ],
          "scatter": [
           {
            "fillpattern": {
             "fillmode": "overlay",
             "size": 10,
             "solidity": 0.2
            },
            "type": "scatter"
           }
          ],
          "scatter3d": [
           {
            "line": {
             "colorbar": {
              "outlinewidth": 0,
              "ticks": ""
             }
            },
            "marker": {
             "colorbar": {
              "outlinewidth": 0,
              "ticks": ""
             }
            },
            "type": "scatter3d"
           }
          ],
          "scattercarpet": [
           {
            "marker": {
             "colorbar": {
              "outlinewidth": 0,
              "ticks": ""
             }
            },
            "type": "scattercarpet"
           }
          ],
          "scattergeo": [
           {
            "marker": {
             "colorbar": {
              "outlinewidth": 0,
              "ticks": ""
             }
            },
            "type": "scattergeo"
           }
          ],
          "scattergl": [
           {
            "marker": {
             "colorbar": {
              "outlinewidth": 0,
              "ticks": ""
             }
            },
            "type": "scattergl"
           }
          ],
          "scattermapbox": [
           {
            "marker": {
             "colorbar": {
              "outlinewidth": 0,
              "ticks": ""
             }
            },
            "type": "scattermapbox"
           }
          ],
          "scatterpolar": [
           {
            "marker": {
             "colorbar": {
              "outlinewidth": 0,
              "ticks": ""
             }
            },
            "type": "scatterpolar"
           }
          ],
          "scatterpolargl": [
           {
            "marker": {
             "colorbar": {
              "outlinewidth": 0,
              "ticks": ""
             }
            },
            "type": "scatterpolargl"
           }
          ],
          "scatterternary": [
           {
            "marker": {
             "colorbar": {
              "outlinewidth": 0,
              "ticks": ""
             }
            },
            "type": "scatterternary"
           }
          ],
          "surface": [
           {
            "colorbar": {
             "outlinewidth": 0,
             "ticks": ""
            },
            "colorscale": [
             [
              0,
              "#0d0887"
             ],
             [
              0.1111111111111111,
              "#46039f"
             ],
             [
              0.2222222222222222,
              "#7201a8"
             ],
             [
              0.3333333333333333,
              "#9c179e"
             ],
             [
              0.4444444444444444,
              "#bd3786"
             ],
             [
              0.5555555555555556,
              "#d8576b"
             ],
             [
              0.6666666666666666,
              "#ed7953"
             ],
             [
              0.7777777777777778,
              "#fb9f3a"
             ],
             [
              0.8888888888888888,
              "#fdca26"
             ],
             [
              1,
              "#f0f921"
             ]
            ],
            "type": "surface"
           }
          ],
          "table": [
           {
            "cells": {
             "fill": {
              "color": "#EBF0F8"
             },
             "line": {
              "color": "white"
             }
            },
            "header": {
             "fill": {
              "color": "#C8D4E3"
             },
             "line": {
              "color": "white"
             }
            },
            "type": "table"
           }
          ]
         },
         "layout": {
          "annotationdefaults": {
           "arrowcolor": "#2a3f5f",
           "arrowhead": 0,
           "arrowwidth": 1
          },
          "autotypenumbers": "strict",
          "coloraxis": {
           "colorbar": {
            "outlinewidth": 0,
            "ticks": ""
           }
          },
          "colorscale": {
           "diverging": [
            [
             0,
             "#8e0152"
            ],
            [
             0.1,
             "#c51b7d"
            ],
            [
             0.2,
             "#de77ae"
            ],
            [
             0.3,
             "#f1b6da"
            ],
            [
             0.4,
             "#fde0ef"
            ],
            [
             0.5,
             "#f7f7f7"
            ],
            [
             0.6,
             "#e6f5d0"
            ],
            [
             0.7,
             "#b8e186"
            ],
            [
             0.8,
             "#7fbc41"
            ],
            [
             0.9,
             "#4d9221"
            ],
            [
             1,
             "#276419"
            ]
           ],
           "sequential": [
            [
             0,
             "#0d0887"
            ],
            [
             0.1111111111111111,
             "#46039f"
            ],
            [
             0.2222222222222222,
             "#7201a8"
            ],
            [
             0.3333333333333333,
             "#9c179e"
            ],
            [
             0.4444444444444444,
             "#bd3786"
            ],
            [
             0.5555555555555556,
             "#d8576b"
            ],
            [
             0.6666666666666666,
             "#ed7953"
            ],
            [
             0.7777777777777778,
             "#fb9f3a"
            ],
            [
             0.8888888888888888,
             "#fdca26"
            ],
            [
             1,
             "#f0f921"
            ]
           ],
           "sequentialminus": [
            [
             0,
             "#0d0887"
            ],
            [
             0.1111111111111111,
             "#46039f"
            ],
            [
             0.2222222222222222,
             "#7201a8"
            ],
            [
             0.3333333333333333,
             "#9c179e"
            ],
            [
             0.4444444444444444,
             "#bd3786"
            ],
            [
             0.5555555555555556,
             "#d8576b"
            ],
            [
             0.6666666666666666,
             "#ed7953"
            ],
            [
             0.7777777777777778,
             "#fb9f3a"
            ],
            [
             0.8888888888888888,
             "#fdca26"
            ],
            [
             1,
             "#f0f921"
            ]
           ]
          },
          "colorway": [
           "#636efa",
           "#EF553B",
           "#00cc96",
           "#ab63fa",
           "#FFA15A",
           "#19d3f3",
           "#FF6692",
           "#B6E880",
           "#FF97FF",
           "#FECB52"
          ],
          "font": {
           "color": "#2a3f5f"
          },
          "geo": {
           "bgcolor": "white",
           "lakecolor": "white",
           "landcolor": "#E5ECF6",
           "showlakes": true,
           "showland": true,
           "subunitcolor": "white"
          },
          "hoverlabel": {
           "align": "left"
          },
          "hovermode": "closest",
          "mapbox": {
           "style": "light"
          },
          "paper_bgcolor": "white",
          "plot_bgcolor": "#E5ECF6",
          "polar": {
           "angularaxis": {
            "gridcolor": "white",
            "linecolor": "white",
            "ticks": ""
           },
           "bgcolor": "#E5ECF6",
           "radialaxis": {
            "gridcolor": "white",
            "linecolor": "white",
            "ticks": ""
           }
          },
          "scene": {
           "xaxis": {
            "backgroundcolor": "#E5ECF6",
            "gridcolor": "white",
            "gridwidth": 2,
            "linecolor": "white",
            "showbackground": true,
            "ticks": "",
            "zerolinecolor": "white"
           },
           "yaxis": {
            "backgroundcolor": "#E5ECF6",
            "gridcolor": "white",
            "gridwidth": 2,
            "linecolor": "white",
            "showbackground": true,
            "ticks": "",
            "zerolinecolor": "white"
           },
           "zaxis": {
            "backgroundcolor": "#E5ECF6",
            "gridcolor": "white",
            "gridwidth": 2,
            "linecolor": "white",
            "showbackground": true,
            "ticks": "",
            "zerolinecolor": "white"
           }
          },
          "shapedefaults": {
           "line": {
            "color": "#2a3f5f"
           }
          },
          "ternary": {
           "aaxis": {
            "gridcolor": "white",
            "linecolor": "white",
            "ticks": ""
           },
           "baxis": {
            "gridcolor": "white",
            "linecolor": "white",
            "ticks": ""
           },
           "bgcolor": "#E5ECF6",
           "caxis": {
            "gridcolor": "white",
            "linecolor": "white",
            "ticks": ""
           }
          },
          "title": {
           "x": 0.05
          },
          "xaxis": {
           "automargin": true,
           "gridcolor": "white",
           "linecolor": "white",
           "ticks": "",
           "title": {
            "standoff": 15
           },
           "zerolinecolor": "white",
           "zerolinewidth": 2
          },
          "yaxis": {
           "automargin": true,
           "gridcolor": "white",
           "linecolor": "white",
           "ticks": "",
           "title": {
            "standoff": 15
           },
           "zerolinecolor": "white",
           "zerolinewidth": 2
          }
         }
        },
        "title": {
         "text": "Box Plot - Sample from a Normal Distribution"
        },
        "width": 800
       }
      }
     },
     "metadata": {},
     "output_type": "display_data"
    }
   ],
   "source": [
    "fig = go.Figure()\n",
    "fig.add_trace(go.Box(x=df[\"Normal\"], \n",
    "                     notched=True, \n",
    "                     marker_color='purple', \n",
    "                     name='Normal',\n",
    "                     ))\n",
    "fig.update_layout(title='Box Plot - Sample from a Normal Distribution', \n",
    "                  height = 500, width = 800,)"
   ]
  },
  {
   "cell_type": "markdown",
   "metadata": {},
   "source": [
    "3. Hihglight all the points by setting the input `boxpoints` as `'all'`"
   ]
  },
  {
   "cell_type": "code",
   "execution_count": 8,
   "metadata": {},
   "outputs": [
    {
     "data": {
      "application/vnd.plotly.v1+json": {
       "config": {
        "plotlyServerURL": "https://plot.ly"
       },
       "data": [
        {
         "boxpoints": "all",
         "marker": {
          "color": "purple"
         },
         "name": "Normal",
         "notched": true,
         "type": "box",
         "x": [
          -1.689336888453517,
          0.13776912596710247,
          1.1675091952590086,
          -0.7607604876302595,
          -0.6414780667145364,
          0.11477170637140893,
          1.9360016071063202,
          0.4335911086990883,
          -1.9939155637111687,
          0.05896021833051035,
          -0.1435860575122745,
          0.24395341270042556,
          0.7713106604048846,
          -2.473275307771809,
          0.11524284105619857,
          -2.200433888196964,
          -1.6166907263749857,
          -0.6570572327193407,
          0.0537983253306413,
          0.5713657463706605,
          -0.18129027059678798,
          0.430004557081076,
          1.6863812103799642,
          -0.6205237181163857,
          -1.378790952224102,
          -0.9560630562428023,
          0.7628953284442226,
          0.39728720166579823,
          -0.026977581814568462,
          -0.4775048077061331,
          -1.1220589139421688,
          -0.22818375928584564,
          -0.3726175003152722,
          0.40313929253122527,
          0.5456734426890402,
          0.5740447442738711,
          -2.237131128094541,
          0.4058095789096909,
          -0.057463031685277874,
          -0.12273862477813806,
          -2.307293811068429,
          0.06316488302106166,
          -0.7977993774509309,
          1.0363486351237172,
          1.8041182975160668,
          0.17306927422672233,
          -1.9214220031912495,
          0.23758276050622623,
          0.9522895107253445,
          0.7730070354998442,
          -0.29185508575737557,
          -1.5922511892721602,
          0.4844679481630889,
          -0.06886905558166533,
          -0.46890257964383103,
          0.468215986441292,
          -0.6170960484980602,
          0.35740225773385476,
          2.678687336946146,
          -1.031897653891675,
          0.42059595579664977,
          -0.43000647046019064,
          1.0319300779441793,
          0.4766188701301545,
          -2.4711327874864324,
          1.2171002747332798,
          1.1214780257098982,
          -1.2894650045211846,
          0.6653483531204847,
          0.9412819082345588,
          0.1614052968972017,
          -0.3451756071894113,
          1.1770428422416965,
          -0.9742353816864837,
          -0.36361931689461524,
          0.6412601937102383,
          1.6336644480044498,
          -0.6105004553744235,
          0.8152381839368957,
          -1.4288834184504773,
          0.44993084750598256,
          -0.7973688855485472,
          0.298340729784743,
          0.6074625171636029,
          -0.8301357035946288,
          -0.9034214419117117,
          -0.8798883621524541,
          0.4478482378005054,
          -0.3178034758313932,
          -0.11442334802179989,
          0.6625132412809478,
          0.11846246100215997,
          0.18726296072824145,
          -1.4163690578591572,
          -0.20504665253924703,
          -2.2520376076911903,
          -0.05149414351210116,
          -1.5439331507530487,
          -0.06701365016551912,
          1.057640785433957,
          0.05051365860776818,
          -0.3385267509147933,
          -1.7393596031683598,
          0.7760699180500408,
          1.4100114849001115,
          0.36738177670275723,
          0.7532249188234077,
          0.6276018174355962,
          0.3084812185167463,
          0.6754928369679085,
          -1.1003844369332827,
          0.14729148213127272,
          0.5803514316347554,
          -0.29784955145488823,
          0.903863427955898,
          1.080587909957928,
          -0.4760227808352415,
          -0.04425766076960422,
          0.06407344314800589,
          1.7262991655278872,
          -0.7605645076940213,
          0.7501785800543226,
          2.2182736935156284,
          -1.6769460826631943,
          -0.3969448008047011,
          -1.3385344020686465,
          1.9544731588727946,
          -0.1551787757725781,
          1.3706387591958122,
          1.0664504418332685,
          2.070083516538236,
          0.30840679379006686,
          0.5722331963172448,
          -0.1184287747459889,
          1.5264083447942185,
          0.9552146967566378,
          2.907381016549022,
          -0.04604202665734912,
          -0.5392618060603058,
          -1.0390014688221254,
          0.30044226187520795,
          -0.21053928413341894,
          2.7511366194329496,
          -0.28991441780949,
          2.261218036942313,
          -0.34766208037509183,
          -0.946703342006612,
          1.530695289551574,
          0.43387341147071556,
          -1.826544419107924,
          0.45677164528533054,
          -3.262154037479641,
          1.681917086418654,
          0.8169584882865069,
          -0.6073077104882263,
          -0.8914302540640905,
          -0.34814387409244735,
          -2.0811104094261728,
          0.16734218277132235,
          -0.9255167265691057,
          -0.15875968211489994,
          -0.8797187266103919,
          -0.1647272001439247,
          -1.1275673570323832,
          0.12361797224686759,
          -0.17916920363786906,
          -0.8927757138459166,
          -1.5286698179289708,
          0.27901683442676933,
          -1.1501065928276504,
          -1.2590574081380728,
          2.0370575301740974,
          0.48356603559643224,
          -0.491621228013522,
          0.34795437355165393,
          0.438153721287862,
          -1.2896965927423067,
          0.3210749016659769,
          0.5224109665262904,
          -2.7844960789982216,
          0.7382639393366289,
          0.5613682701771886,
          -0.25845818632285256,
          1.4098096719335358,
          -0.006037631103477602,
          0.20994706931352283,
          -0.48823809825368203,
          0.6120515452521044,
          0.9070998849125455,
          -0.5286897311076472,
          -1.5590038470687189,
          -2.094815510021006,
          -0.6131110942605921,
          -2.022790429559516,
          -0.44990968796858244,
          0.9565373696067946,
          -0.580460796755201,
          0.23328415591799653,
          1.6715392188260332,
          0.29645373322690705
         ]
        }
       ],
       "layout": {
        "height": 500,
        "template": {
         "data": {
          "bar": [
           {
            "error_x": {
             "color": "#2a3f5f"
            },
            "error_y": {
             "color": "#2a3f5f"
            },
            "marker": {
             "line": {
              "color": "#E5ECF6",
              "width": 0.5
             },
             "pattern": {
              "fillmode": "overlay",
              "size": 10,
              "solidity": 0.2
             }
            },
            "type": "bar"
           }
          ],
          "barpolar": [
           {
            "marker": {
             "line": {
              "color": "#E5ECF6",
              "width": 0.5
             },
             "pattern": {
              "fillmode": "overlay",
              "size": 10,
              "solidity": 0.2
             }
            },
            "type": "barpolar"
           }
          ],
          "carpet": [
           {
            "aaxis": {
             "endlinecolor": "#2a3f5f",
             "gridcolor": "white",
             "linecolor": "white",
             "minorgridcolor": "white",
             "startlinecolor": "#2a3f5f"
            },
            "baxis": {
             "endlinecolor": "#2a3f5f",
             "gridcolor": "white",
             "linecolor": "white",
             "minorgridcolor": "white",
             "startlinecolor": "#2a3f5f"
            },
            "type": "carpet"
           }
          ],
          "choropleth": [
           {
            "colorbar": {
             "outlinewidth": 0,
             "ticks": ""
            },
            "type": "choropleth"
           }
          ],
          "contour": [
           {
            "colorbar": {
             "outlinewidth": 0,
             "ticks": ""
            },
            "colorscale": [
             [
              0,
              "#0d0887"
             ],
             [
              0.1111111111111111,
              "#46039f"
             ],
             [
              0.2222222222222222,
              "#7201a8"
             ],
             [
              0.3333333333333333,
              "#9c179e"
             ],
             [
              0.4444444444444444,
              "#bd3786"
             ],
             [
              0.5555555555555556,
              "#d8576b"
             ],
             [
              0.6666666666666666,
              "#ed7953"
             ],
             [
              0.7777777777777778,
              "#fb9f3a"
             ],
             [
              0.8888888888888888,
              "#fdca26"
             ],
             [
              1,
              "#f0f921"
             ]
            ],
            "type": "contour"
           }
          ],
          "contourcarpet": [
           {
            "colorbar": {
             "outlinewidth": 0,
             "ticks": ""
            },
            "type": "contourcarpet"
           }
          ],
          "heatmap": [
           {
            "colorbar": {
             "outlinewidth": 0,
             "ticks": ""
            },
            "colorscale": [
             [
              0,
              "#0d0887"
             ],
             [
              0.1111111111111111,
              "#46039f"
             ],
             [
              0.2222222222222222,
              "#7201a8"
             ],
             [
              0.3333333333333333,
              "#9c179e"
             ],
             [
              0.4444444444444444,
              "#bd3786"
             ],
             [
              0.5555555555555556,
              "#d8576b"
             ],
             [
              0.6666666666666666,
              "#ed7953"
             ],
             [
              0.7777777777777778,
              "#fb9f3a"
             ],
             [
              0.8888888888888888,
              "#fdca26"
             ],
             [
              1,
              "#f0f921"
             ]
            ],
            "type": "heatmap"
           }
          ],
          "heatmapgl": [
           {
            "colorbar": {
             "outlinewidth": 0,
             "ticks": ""
            },
            "colorscale": [
             [
              0,
              "#0d0887"
             ],
             [
              0.1111111111111111,
              "#46039f"
             ],
             [
              0.2222222222222222,
              "#7201a8"
             ],
             [
              0.3333333333333333,
              "#9c179e"
             ],
             [
              0.4444444444444444,
              "#bd3786"
             ],
             [
              0.5555555555555556,
              "#d8576b"
             ],
             [
              0.6666666666666666,
              "#ed7953"
             ],
             [
              0.7777777777777778,
              "#fb9f3a"
             ],
             [
              0.8888888888888888,
              "#fdca26"
             ],
             [
              1,
              "#f0f921"
             ]
            ],
            "type": "heatmapgl"
           }
          ],
          "histogram": [
           {
            "marker": {
             "pattern": {
              "fillmode": "overlay",
              "size": 10,
              "solidity": 0.2
             }
            },
            "type": "histogram"
           }
          ],
          "histogram2d": [
           {
            "colorbar": {
             "outlinewidth": 0,
             "ticks": ""
            },
            "colorscale": [
             [
              0,
              "#0d0887"
             ],
             [
              0.1111111111111111,
              "#46039f"
             ],
             [
              0.2222222222222222,
              "#7201a8"
             ],
             [
              0.3333333333333333,
              "#9c179e"
             ],
             [
              0.4444444444444444,
              "#bd3786"
             ],
             [
              0.5555555555555556,
              "#d8576b"
             ],
             [
              0.6666666666666666,
              "#ed7953"
             ],
             [
              0.7777777777777778,
              "#fb9f3a"
             ],
             [
              0.8888888888888888,
              "#fdca26"
             ],
             [
              1,
              "#f0f921"
             ]
            ],
            "type": "histogram2d"
           }
          ],
          "histogram2dcontour": [
           {
            "colorbar": {
             "outlinewidth": 0,
             "ticks": ""
            },
            "colorscale": [
             [
              0,
              "#0d0887"
             ],
             [
              0.1111111111111111,
              "#46039f"
             ],
             [
              0.2222222222222222,
              "#7201a8"
             ],
             [
              0.3333333333333333,
              "#9c179e"
             ],
             [
              0.4444444444444444,
              "#bd3786"
             ],
             [
              0.5555555555555556,
              "#d8576b"
             ],
             [
              0.6666666666666666,
              "#ed7953"
             ],
             [
              0.7777777777777778,
              "#fb9f3a"
             ],
             [
              0.8888888888888888,
              "#fdca26"
             ],
             [
              1,
              "#f0f921"
             ]
            ],
            "type": "histogram2dcontour"
           }
          ],
          "mesh3d": [
           {
            "colorbar": {
             "outlinewidth": 0,
             "ticks": ""
            },
            "type": "mesh3d"
           }
          ],
          "parcoords": [
           {
            "line": {
             "colorbar": {
              "outlinewidth": 0,
              "ticks": ""
             }
            },
            "type": "parcoords"
           }
          ],
          "pie": [
           {
            "automargin": true,
            "type": "pie"
           }
          ],
          "scatter": [
           {
            "fillpattern": {
             "fillmode": "overlay",
             "size": 10,
             "solidity": 0.2
            },
            "type": "scatter"
           }
          ],
          "scatter3d": [
           {
            "line": {
             "colorbar": {
              "outlinewidth": 0,
              "ticks": ""
             }
            },
            "marker": {
             "colorbar": {
              "outlinewidth": 0,
              "ticks": ""
             }
            },
            "type": "scatter3d"
           }
          ],
          "scattercarpet": [
           {
            "marker": {
             "colorbar": {
              "outlinewidth": 0,
              "ticks": ""
             }
            },
            "type": "scattercarpet"
           }
          ],
          "scattergeo": [
           {
            "marker": {
             "colorbar": {
              "outlinewidth": 0,
              "ticks": ""
             }
            },
            "type": "scattergeo"
           }
          ],
          "scattergl": [
           {
            "marker": {
             "colorbar": {
              "outlinewidth": 0,
              "ticks": ""
             }
            },
            "type": "scattergl"
           }
          ],
          "scattermapbox": [
           {
            "marker": {
             "colorbar": {
              "outlinewidth": 0,
              "ticks": ""
             }
            },
            "type": "scattermapbox"
           }
          ],
          "scatterpolar": [
           {
            "marker": {
             "colorbar": {
              "outlinewidth": 0,
              "ticks": ""
             }
            },
            "type": "scatterpolar"
           }
          ],
          "scatterpolargl": [
           {
            "marker": {
             "colorbar": {
              "outlinewidth": 0,
              "ticks": ""
             }
            },
            "type": "scatterpolargl"
           }
          ],
          "scatterternary": [
           {
            "marker": {
             "colorbar": {
              "outlinewidth": 0,
              "ticks": ""
             }
            },
            "type": "scatterternary"
           }
          ],
          "surface": [
           {
            "colorbar": {
             "outlinewidth": 0,
             "ticks": ""
            },
            "colorscale": [
             [
              0,
              "#0d0887"
             ],
             [
              0.1111111111111111,
              "#46039f"
             ],
             [
              0.2222222222222222,
              "#7201a8"
             ],
             [
              0.3333333333333333,
              "#9c179e"
             ],
             [
              0.4444444444444444,
              "#bd3786"
             ],
             [
              0.5555555555555556,
              "#d8576b"
             ],
             [
              0.6666666666666666,
              "#ed7953"
             ],
             [
              0.7777777777777778,
              "#fb9f3a"
             ],
             [
              0.8888888888888888,
              "#fdca26"
             ],
             [
              1,
              "#f0f921"
             ]
            ],
            "type": "surface"
           }
          ],
          "table": [
           {
            "cells": {
             "fill": {
              "color": "#EBF0F8"
             },
             "line": {
              "color": "white"
             }
            },
            "header": {
             "fill": {
              "color": "#C8D4E3"
             },
             "line": {
              "color": "white"
             }
            },
            "type": "table"
           }
          ]
         },
         "layout": {
          "annotationdefaults": {
           "arrowcolor": "#2a3f5f",
           "arrowhead": 0,
           "arrowwidth": 1
          },
          "autotypenumbers": "strict",
          "coloraxis": {
           "colorbar": {
            "outlinewidth": 0,
            "ticks": ""
           }
          },
          "colorscale": {
           "diverging": [
            [
             0,
             "#8e0152"
            ],
            [
             0.1,
             "#c51b7d"
            ],
            [
             0.2,
             "#de77ae"
            ],
            [
             0.3,
             "#f1b6da"
            ],
            [
             0.4,
             "#fde0ef"
            ],
            [
             0.5,
             "#f7f7f7"
            ],
            [
             0.6,
             "#e6f5d0"
            ],
            [
             0.7,
             "#b8e186"
            ],
            [
             0.8,
             "#7fbc41"
            ],
            [
             0.9,
             "#4d9221"
            ],
            [
             1,
             "#276419"
            ]
           ],
           "sequential": [
            [
             0,
             "#0d0887"
            ],
            [
             0.1111111111111111,
             "#46039f"
            ],
            [
             0.2222222222222222,
             "#7201a8"
            ],
            [
             0.3333333333333333,
             "#9c179e"
            ],
            [
             0.4444444444444444,
             "#bd3786"
            ],
            [
             0.5555555555555556,
             "#d8576b"
            ],
            [
             0.6666666666666666,
             "#ed7953"
            ],
            [
             0.7777777777777778,
             "#fb9f3a"
            ],
            [
             0.8888888888888888,
             "#fdca26"
            ],
            [
             1,
             "#f0f921"
            ]
           ],
           "sequentialminus": [
            [
             0,
             "#0d0887"
            ],
            [
             0.1111111111111111,
             "#46039f"
            ],
            [
             0.2222222222222222,
             "#7201a8"
            ],
            [
             0.3333333333333333,
             "#9c179e"
            ],
            [
             0.4444444444444444,
             "#bd3786"
            ],
            [
             0.5555555555555556,
             "#d8576b"
            ],
            [
             0.6666666666666666,
             "#ed7953"
            ],
            [
             0.7777777777777778,
             "#fb9f3a"
            ],
            [
             0.8888888888888888,
             "#fdca26"
            ],
            [
             1,
             "#f0f921"
            ]
           ]
          },
          "colorway": [
           "#636efa",
           "#EF553B",
           "#00cc96",
           "#ab63fa",
           "#FFA15A",
           "#19d3f3",
           "#FF6692",
           "#B6E880",
           "#FF97FF",
           "#FECB52"
          ],
          "font": {
           "color": "#2a3f5f"
          },
          "geo": {
           "bgcolor": "white",
           "lakecolor": "white",
           "landcolor": "#E5ECF6",
           "showlakes": true,
           "showland": true,
           "subunitcolor": "white"
          },
          "hoverlabel": {
           "align": "left"
          },
          "hovermode": "closest",
          "mapbox": {
           "style": "light"
          },
          "paper_bgcolor": "white",
          "plot_bgcolor": "#E5ECF6",
          "polar": {
           "angularaxis": {
            "gridcolor": "white",
            "linecolor": "white",
            "ticks": ""
           },
           "bgcolor": "#E5ECF6",
           "radialaxis": {
            "gridcolor": "white",
            "linecolor": "white",
            "ticks": ""
           }
          },
          "scene": {
           "xaxis": {
            "backgroundcolor": "#E5ECF6",
            "gridcolor": "white",
            "gridwidth": 2,
            "linecolor": "white",
            "showbackground": true,
            "ticks": "",
            "zerolinecolor": "white"
           },
           "yaxis": {
            "backgroundcolor": "#E5ECF6",
            "gridcolor": "white",
            "gridwidth": 2,
            "linecolor": "white",
            "showbackground": true,
            "ticks": "",
            "zerolinecolor": "white"
           },
           "zaxis": {
            "backgroundcolor": "#E5ECF6",
            "gridcolor": "white",
            "gridwidth": 2,
            "linecolor": "white",
            "showbackground": true,
            "ticks": "",
            "zerolinecolor": "white"
           }
          },
          "shapedefaults": {
           "line": {
            "color": "#2a3f5f"
           }
          },
          "ternary": {
           "aaxis": {
            "gridcolor": "white",
            "linecolor": "white",
            "ticks": ""
           },
           "baxis": {
            "gridcolor": "white",
            "linecolor": "white",
            "ticks": ""
           },
           "bgcolor": "#E5ECF6",
           "caxis": {
            "gridcolor": "white",
            "linecolor": "white",
            "ticks": ""
           }
          },
          "title": {
           "x": 0.05
          },
          "xaxis": {
           "automargin": true,
           "gridcolor": "white",
           "linecolor": "white",
           "ticks": "",
           "title": {
            "standoff": 15
           },
           "zerolinecolor": "white",
           "zerolinewidth": 2
          },
          "yaxis": {
           "automargin": true,
           "gridcolor": "white",
           "linecolor": "white",
           "ticks": "",
           "title": {
            "standoff": 15
           },
           "zerolinecolor": "white",
           "zerolinewidth": 2
          }
         }
        },
        "title": {
         "text": "Box Plot - Sample from a Normal Distribution"
        },
        "width": 800
       }
      }
     },
     "metadata": {},
     "output_type": "display_data"
    }
   ],
   "source": [
    "fig = go.Figure()\n",
    "fig.add_trace(go.Box(x=df[\"Normal\"], \n",
    "                     notched=True, \n",
    "                     marker_color='purple', \n",
    "                     boxpoints=\"all\",\n",
    "                     name='Normal',\n",
    "                     ))\n",
    "fig.update_layout(title='Box Plot - Sample from a Normal Distribution', \n",
    "                  height = 500, width = 800,)"
   ]
  },
  {
   "cell_type": "markdown",
   "metadata": {},
   "source": [
    "4. Set the amount of  jitter in the sample by using the input `jitter`. If 0, the sample points align along the distribution axis. If 1, the sample points are drawn in a random jitter of width equal to the width of the box(es)."
   ]
  },
  {
   "cell_type": "code",
   "execution_count": 9,
   "metadata": {},
   "outputs": [
    {
     "data": {
      "application/vnd.plotly.v1+json": {
       "config": {
        "plotlyServerURL": "https://plot.ly"
       },
       "data": [
        {
         "boxpoints": "all",
         "jitter": 0.5,
         "marker": {
          "color": "coral"
         },
         "name": "Normal",
         "notched": true,
         "type": "box",
         "x": [
          -1.689336888453517,
          0.13776912596710247,
          1.1675091952590086,
          -0.7607604876302595,
          -0.6414780667145364,
          0.11477170637140893,
          1.9360016071063202,
          0.4335911086990883,
          -1.9939155637111687,
          0.05896021833051035,
          -0.1435860575122745,
          0.24395341270042556,
          0.7713106604048846,
          -2.473275307771809,
          0.11524284105619857,
          -2.200433888196964,
          -1.6166907263749857,
          -0.6570572327193407,
          0.0537983253306413,
          0.5713657463706605,
          -0.18129027059678798,
          0.430004557081076,
          1.6863812103799642,
          -0.6205237181163857,
          -1.378790952224102,
          -0.9560630562428023,
          0.7628953284442226,
          0.39728720166579823,
          -0.026977581814568462,
          -0.4775048077061331,
          -1.1220589139421688,
          -0.22818375928584564,
          -0.3726175003152722,
          0.40313929253122527,
          0.5456734426890402,
          0.5740447442738711,
          -2.237131128094541,
          0.4058095789096909,
          -0.057463031685277874,
          -0.12273862477813806,
          -2.307293811068429,
          0.06316488302106166,
          -0.7977993774509309,
          1.0363486351237172,
          1.8041182975160668,
          0.17306927422672233,
          -1.9214220031912495,
          0.23758276050622623,
          0.9522895107253445,
          0.7730070354998442,
          -0.29185508575737557,
          -1.5922511892721602,
          0.4844679481630889,
          -0.06886905558166533,
          -0.46890257964383103,
          0.468215986441292,
          -0.6170960484980602,
          0.35740225773385476,
          2.678687336946146,
          -1.031897653891675,
          0.42059595579664977,
          -0.43000647046019064,
          1.0319300779441793,
          0.4766188701301545,
          -2.4711327874864324,
          1.2171002747332798,
          1.1214780257098982,
          -1.2894650045211846,
          0.6653483531204847,
          0.9412819082345588,
          0.1614052968972017,
          -0.3451756071894113,
          1.1770428422416965,
          -0.9742353816864837,
          -0.36361931689461524,
          0.6412601937102383,
          1.6336644480044498,
          -0.6105004553744235,
          0.8152381839368957,
          -1.4288834184504773,
          0.44993084750598256,
          -0.7973688855485472,
          0.298340729784743,
          0.6074625171636029,
          -0.8301357035946288,
          -0.9034214419117117,
          -0.8798883621524541,
          0.4478482378005054,
          -0.3178034758313932,
          -0.11442334802179989,
          0.6625132412809478,
          0.11846246100215997,
          0.18726296072824145,
          -1.4163690578591572,
          -0.20504665253924703,
          -2.2520376076911903,
          -0.05149414351210116,
          -1.5439331507530487,
          -0.06701365016551912,
          1.057640785433957,
          0.05051365860776818,
          -0.3385267509147933,
          -1.7393596031683598,
          0.7760699180500408,
          1.4100114849001115,
          0.36738177670275723,
          0.7532249188234077,
          0.6276018174355962,
          0.3084812185167463,
          0.6754928369679085,
          -1.1003844369332827,
          0.14729148213127272,
          0.5803514316347554,
          -0.29784955145488823,
          0.903863427955898,
          1.080587909957928,
          -0.4760227808352415,
          -0.04425766076960422,
          0.06407344314800589,
          1.7262991655278872,
          -0.7605645076940213,
          0.7501785800543226,
          2.2182736935156284,
          -1.6769460826631943,
          -0.3969448008047011,
          -1.3385344020686465,
          1.9544731588727946,
          -0.1551787757725781,
          1.3706387591958122,
          1.0664504418332685,
          2.070083516538236,
          0.30840679379006686,
          0.5722331963172448,
          -0.1184287747459889,
          1.5264083447942185,
          0.9552146967566378,
          2.907381016549022,
          -0.04604202665734912,
          -0.5392618060603058,
          -1.0390014688221254,
          0.30044226187520795,
          -0.21053928413341894,
          2.7511366194329496,
          -0.28991441780949,
          2.261218036942313,
          -0.34766208037509183,
          -0.946703342006612,
          1.530695289551574,
          0.43387341147071556,
          -1.826544419107924,
          0.45677164528533054,
          -3.262154037479641,
          1.681917086418654,
          0.8169584882865069,
          -0.6073077104882263,
          -0.8914302540640905,
          -0.34814387409244735,
          -2.0811104094261728,
          0.16734218277132235,
          -0.9255167265691057,
          -0.15875968211489994,
          -0.8797187266103919,
          -0.1647272001439247,
          -1.1275673570323832,
          0.12361797224686759,
          -0.17916920363786906,
          -0.8927757138459166,
          -1.5286698179289708,
          0.27901683442676933,
          -1.1501065928276504,
          -1.2590574081380728,
          2.0370575301740974,
          0.48356603559643224,
          -0.491621228013522,
          0.34795437355165393,
          0.438153721287862,
          -1.2896965927423067,
          0.3210749016659769,
          0.5224109665262904,
          -2.7844960789982216,
          0.7382639393366289,
          0.5613682701771886,
          -0.25845818632285256,
          1.4098096719335358,
          -0.006037631103477602,
          0.20994706931352283,
          -0.48823809825368203,
          0.6120515452521044,
          0.9070998849125455,
          -0.5286897311076472,
          -1.5590038470687189,
          -2.094815510021006,
          -0.6131110942605921,
          -2.022790429559516,
          -0.44990968796858244,
          0.9565373696067946,
          -0.580460796755201,
          0.23328415591799653,
          1.6715392188260332,
          0.29645373322690705
         ]
        }
       ],
       "layout": {
        "height": 500,
        "template": {
         "data": {
          "bar": [
           {
            "error_x": {
             "color": "#2a3f5f"
            },
            "error_y": {
             "color": "#2a3f5f"
            },
            "marker": {
             "line": {
              "color": "#E5ECF6",
              "width": 0.5
             },
             "pattern": {
              "fillmode": "overlay",
              "size": 10,
              "solidity": 0.2
             }
            },
            "type": "bar"
           }
          ],
          "barpolar": [
           {
            "marker": {
             "line": {
              "color": "#E5ECF6",
              "width": 0.5
             },
             "pattern": {
              "fillmode": "overlay",
              "size": 10,
              "solidity": 0.2
             }
            },
            "type": "barpolar"
           }
          ],
          "carpet": [
           {
            "aaxis": {
             "endlinecolor": "#2a3f5f",
             "gridcolor": "white",
             "linecolor": "white",
             "minorgridcolor": "white",
             "startlinecolor": "#2a3f5f"
            },
            "baxis": {
             "endlinecolor": "#2a3f5f",
             "gridcolor": "white",
             "linecolor": "white",
             "minorgridcolor": "white",
             "startlinecolor": "#2a3f5f"
            },
            "type": "carpet"
           }
          ],
          "choropleth": [
           {
            "colorbar": {
             "outlinewidth": 0,
             "ticks": ""
            },
            "type": "choropleth"
           }
          ],
          "contour": [
           {
            "colorbar": {
             "outlinewidth": 0,
             "ticks": ""
            },
            "colorscale": [
             [
              0,
              "#0d0887"
             ],
             [
              0.1111111111111111,
              "#46039f"
             ],
             [
              0.2222222222222222,
              "#7201a8"
             ],
             [
              0.3333333333333333,
              "#9c179e"
             ],
             [
              0.4444444444444444,
              "#bd3786"
             ],
             [
              0.5555555555555556,
              "#d8576b"
             ],
             [
              0.6666666666666666,
              "#ed7953"
             ],
             [
              0.7777777777777778,
              "#fb9f3a"
             ],
             [
              0.8888888888888888,
              "#fdca26"
             ],
             [
              1,
              "#f0f921"
             ]
            ],
            "type": "contour"
           }
          ],
          "contourcarpet": [
           {
            "colorbar": {
             "outlinewidth": 0,
             "ticks": ""
            },
            "type": "contourcarpet"
           }
          ],
          "heatmap": [
           {
            "colorbar": {
             "outlinewidth": 0,
             "ticks": ""
            },
            "colorscale": [
             [
              0,
              "#0d0887"
             ],
             [
              0.1111111111111111,
              "#46039f"
             ],
             [
              0.2222222222222222,
              "#7201a8"
             ],
             [
              0.3333333333333333,
              "#9c179e"
             ],
             [
              0.4444444444444444,
              "#bd3786"
             ],
             [
              0.5555555555555556,
              "#d8576b"
             ],
             [
              0.6666666666666666,
              "#ed7953"
             ],
             [
              0.7777777777777778,
              "#fb9f3a"
             ],
             [
              0.8888888888888888,
              "#fdca26"
             ],
             [
              1,
              "#f0f921"
             ]
            ],
            "type": "heatmap"
           }
          ],
          "heatmapgl": [
           {
            "colorbar": {
             "outlinewidth": 0,
             "ticks": ""
            },
            "colorscale": [
             [
              0,
              "#0d0887"
             ],
             [
              0.1111111111111111,
              "#46039f"
             ],
             [
              0.2222222222222222,
              "#7201a8"
             ],
             [
              0.3333333333333333,
              "#9c179e"
             ],
             [
              0.4444444444444444,
              "#bd3786"
             ],
             [
              0.5555555555555556,
              "#d8576b"
             ],
             [
              0.6666666666666666,
              "#ed7953"
             ],
             [
              0.7777777777777778,
              "#fb9f3a"
             ],
             [
              0.8888888888888888,
              "#fdca26"
             ],
             [
              1,
              "#f0f921"
             ]
            ],
            "type": "heatmapgl"
           }
          ],
          "histogram": [
           {
            "marker": {
             "pattern": {
              "fillmode": "overlay",
              "size": 10,
              "solidity": 0.2
             }
            },
            "type": "histogram"
           }
          ],
          "histogram2d": [
           {
            "colorbar": {
             "outlinewidth": 0,
             "ticks": ""
            },
            "colorscale": [
             [
              0,
              "#0d0887"
             ],
             [
              0.1111111111111111,
              "#46039f"
             ],
             [
              0.2222222222222222,
              "#7201a8"
             ],
             [
              0.3333333333333333,
              "#9c179e"
             ],
             [
              0.4444444444444444,
              "#bd3786"
             ],
             [
              0.5555555555555556,
              "#d8576b"
             ],
             [
              0.6666666666666666,
              "#ed7953"
             ],
             [
              0.7777777777777778,
              "#fb9f3a"
             ],
             [
              0.8888888888888888,
              "#fdca26"
             ],
             [
              1,
              "#f0f921"
             ]
            ],
            "type": "histogram2d"
           }
          ],
          "histogram2dcontour": [
           {
            "colorbar": {
             "outlinewidth": 0,
             "ticks": ""
            },
            "colorscale": [
             [
              0,
              "#0d0887"
             ],
             [
              0.1111111111111111,
              "#46039f"
             ],
             [
              0.2222222222222222,
              "#7201a8"
             ],
             [
              0.3333333333333333,
              "#9c179e"
             ],
             [
              0.4444444444444444,
              "#bd3786"
             ],
             [
              0.5555555555555556,
              "#d8576b"
             ],
             [
              0.6666666666666666,
              "#ed7953"
             ],
             [
              0.7777777777777778,
              "#fb9f3a"
             ],
             [
              0.8888888888888888,
              "#fdca26"
             ],
             [
              1,
              "#f0f921"
             ]
            ],
            "type": "histogram2dcontour"
           }
          ],
          "mesh3d": [
           {
            "colorbar": {
             "outlinewidth": 0,
             "ticks": ""
            },
            "type": "mesh3d"
           }
          ],
          "parcoords": [
           {
            "line": {
             "colorbar": {
              "outlinewidth": 0,
              "ticks": ""
             }
            },
            "type": "parcoords"
           }
          ],
          "pie": [
           {
            "automargin": true,
            "type": "pie"
           }
          ],
          "scatter": [
           {
            "fillpattern": {
             "fillmode": "overlay",
             "size": 10,
             "solidity": 0.2
            },
            "type": "scatter"
           }
          ],
          "scatter3d": [
           {
            "line": {
             "colorbar": {
              "outlinewidth": 0,
              "ticks": ""
             }
            },
            "marker": {
             "colorbar": {
              "outlinewidth": 0,
              "ticks": ""
             }
            },
            "type": "scatter3d"
           }
          ],
          "scattercarpet": [
           {
            "marker": {
             "colorbar": {
              "outlinewidth": 0,
              "ticks": ""
             }
            },
            "type": "scattercarpet"
           }
          ],
          "scattergeo": [
           {
            "marker": {
             "colorbar": {
              "outlinewidth": 0,
              "ticks": ""
             }
            },
            "type": "scattergeo"
           }
          ],
          "scattergl": [
           {
            "marker": {
             "colorbar": {
              "outlinewidth": 0,
              "ticks": ""
             }
            },
            "type": "scattergl"
           }
          ],
          "scattermapbox": [
           {
            "marker": {
             "colorbar": {
              "outlinewidth": 0,
              "ticks": ""
             }
            },
            "type": "scattermapbox"
           }
          ],
          "scatterpolar": [
           {
            "marker": {
             "colorbar": {
              "outlinewidth": 0,
              "ticks": ""
             }
            },
            "type": "scatterpolar"
           }
          ],
          "scatterpolargl": [
           {
            "marker": {
             "colorbar": {
              "outlinewidth": 0,
              "ticks": ""
             }
            },
            "type": "scatterpolargl"
           }
          ],
          "scatterternary": [
           {
            "marker": {
             "colorbar": {
              "outlinewidth": 0,
              "ticks": ""
             }
            },
            "type": "scatterternary"
           }
          ],
          "surface": [
           {
            "colorbar": {
             "outlinewidth": 0,
             "ticks": ""
            },
            "colorscale": [
             [
              0,
              "#0d0887"
             ],
             [
              0.1111111111111111,
              "#46039f"
             ],
             [
              0.2222222222222222,
              "#7201a8"
             ],
             [
              0.3333333333333333,
              "#9c179e"
             ],
             [
              0.4444444444444444,
              "#bd3786"
             ],
             [
              0.5555555555555556,
              "#d8576b"
             ],
             [
              0.6666666666666666,
              "#ed7953"
             ],
             [
              0.7777777777777778,
              "#fb9f3a"
             ],
             [
              0.8888888888888888,
              "#fdca26"
             ],
             [
              1,
              "#f0f921"
             ]
            ],
            "type": "surface"
           }
          ],
          "table": [
           {
            "cells": {
             "fill": {
              "color": "#EBF0F8"
             },
             "line": {
              "color": "white"
             }
            },
            "header": {
             "fill": {
              "color": "#C8D4E3"
             },
             "line": {
              "color": "white"
             }
            },
            "type": "table"
           }
          ]
         },
         "layout": {
          "annotationdefaults": {
           "arrowcolor": "#2a3f5f",
           "arrowhead": 0,
           "arrowwidth": 1
          },
          "autotypenumbers": "strict",
          "coloraxis": {
           "colorbar": {
            "outlinewidth": 0,
            "ticks": ""
           }
          },
          "colorscale": {
           "diverging": [
            [
             0,
             "#8e0152"
            ],
            [
             0.1,
             "#c51b7d"
            ],
            [
             0.2,
             "#de77ae"
            ],
            [
             0.3,
             "#f1b6da"
            ],
            [
             0.4,
             "#fde0ef"
            ],
            [
             0.5,
             "#f7f7f7"
            ],
            [
             0.6,
             "#e6f5d0"
            ],
            [
             0.7,
             "#b8e186"
            ],
            [
             0.8,
             "#7fbc41"
            ],
            [
             0.9,
             "#4d9221"
            ],
            [
             1,
             "#276419"
            ]
           ],
           "sequential": [
            [
             0,
             "#0d0887"
            ],
            [
             0.1111111111111111,
             "#46039f"
            ],
            [
             0.2222222222222222,
             "#7201a8"
            ],
            [
             0.3333333333333333,
             "#9c179e"
            ],
            [
             0.4444444444444444,
             "#bd3786"
            ],
            [
             0.5555555555555556,
             "#d8576b"
            ],
            [
             0.6666666666666666,
             "#ed7953"
            ],
            [
             0.7777777777777778,
             "#fb9f3a"
            ],
            [
             0.8888888888888888,
             "#fdca26"
            ],
            [
             1,
             "#f0f921"
            ]
           ],
           "sequentialminus": [
            [
             0,
             "#0d0887"
            ],
            [
             0.1111111111111111,
             "#46039f"
            ],
            [
             0.2222222222222222,
             "#7201a8"
            ],
            [
             0.3333333333333333,
             "#9c179e"
            ],
            [
             0.4444444444444444,
             "#bd3786"
            ],
            [
             0.5555555555555556,
             "#d8576b"
            ],
            [
             0.6666666666666666,
             "#ed7953"
            ],
            [
             0.7777777777777778,
             "#fb9f3a"
            ],
            [
             0.8888888888888888,
             "#fdca26"
            ],
            [
             1,
             "#f0f921"
            ]
           ]
          },
          "colorway": [
           "#636efa",
           "#EF553B",
           "#00cc96",
           "#ab63fa",
           "#FFA15A",
           "#19d3f3",
           "#FF6692",
           "#B6E880",
           "#FF97FF",
           "#FECB52"
          ],
          "font": {
           "color": "#2a3f5f"
          },
          "geo": {
           "bgcolor": "white",
           "lakecolor": "white",
           "landcolor": "#E5ECF6",
           "showlakes": true,
           "showland": true,
           "subunitcolor": "white"
          },
          "hoverlabel": {
           "align": "left"
          },
          "hovermode": "closest",
          "mapbox": {
           "style": "light"
          },
          "paper_bgcolor": "white",
          "plot_bgcolor": "#E5ECF6",
          "polar": {
           "angularaxis": {
            "gridcolor": "white",
            "linecolor": "white",
            "ticks": ""
           },
           "bgcolor": "#E5ECF6",
           "radialaxis": {
            "gridcolor": "white",
            "linecolor": "white",
            "ticks": ""
           }
          },
          "scene": {
           "xaxis": {
            "backgroundcolor": "#E5ECF6",
            "gridcolor": "white",
            "gridwidth": 2,
            "linecolor": "white",
            "showbackground": true,
            "ticks": "",
            "zerolinecolor": "white"
           },
           "yaxis": {
            "backgroundcolor": "#E5ECF6",
            "gridcolor": "white",
            "gridwidth": 2,
            "linecolor": "white",
            "showbackground": true,
            "ticks": "",
            "zerolinecolor": "white"
           },
           "zaxis": {
            "backgroundcolor": "#E5ECF6",
            "gridcolor": "white",
            "gridwidth": 2,
            "linecolor": "white",
            "showbackground": true,
            "ticks": "",
            "zerolinecolor": "white"
           }
          },
          "shapedefaults": {
           "line": {
            "color": "#2a3f5f"
           }
          },
          "ternary": {
           "aaxis": {
            "gridcolor": "white",
            "linecolor": "white",
            "ticks": ""
           },
           "baxis": {
            "gridcolor": "white",
            "linecolor": "white",
            "ticks": ""
           },
           "bgcolor": "#E5ECF6",
           "caxis": {
            "gridcolor": "white",
            "linecolor": "white",
            "ticks": ""
           }
          },
          "title": {
           "x": 0.05
          },
          "xaxis": {
           "automargin": true,
           "gridcolor": "white",
           "linecolor": "white",
           "ticks": "",
           "title": {
            "standoff": 15
           },
           "zerolinecolor": "white",
           "zerolinewidth": 2
          },
          "yaxis": {
           "automargin": true,
           "gridcolor": "white",
           "linecolor": "white",
           "ticks": "",
           "title": {
            "standoff": 15
           },
           "zerolinecolor": "white",
           "zerolinewidth": 2
          }
         }
        },
        "title": {
         "text": "Box Plot Sample from a Normal Distribution"
        },
        "width": 800
       }
      }
     },
     "metadata": {},
     "output_type": "display_data"
    }
   ],
   "source": [
    "fig = go.Figure()\n",
    "fig.add_trace(go.Box(x=df[\"Normal\"], \n",
    "                     jitter=0.5,\n",
    "                     notched=True, \n",
    "                     marker_color='coral', \n",
    "                     boxpoints=\"all\",\n",
    "                     name='Normal',\n",
    "                     ))\n",
    "fig.update_layout(title='Box Plot Sample from a Normal Distribution', \n",
    "                  height = 500, width = 800,)"
   ]
  },
  {
   "cell_type": "code",
   "execution_count": 10,
   "metadata": {},
   "outputs": [
    {
     "data": {
      "application/vnd.plotly.v1+json": {
       "config": {
        "plotlyServerURL": "https://plot.ly"
       },
       "data": [
        {
         "boxpoints": "all",
         "jitter": 0,
         "marker": {
          "color": "teal"
         },
         "name": "Normal",
         "notched": true,
         "type": "box",
         "x": [
          -1.689336888453517,
          0.13776912596710247,
          1.1675091952590086,
          -0.7607604876302595,
          -0.6414780667145364,
          0.11477170637140893,
          1.9360016071063202,
          0.4335911086990883,
          -1.9939155637111687,
          0.05896021833051035,
          -0.1435860575122745,
          0.24395341270042556,
          0.7713106604048846,
          -2.473275307771809,
          0.11524284105619857,
          -2.200433888196964,
          -1.6166907263749857,
          -0.6570572327193407,
          0.0537983253306413,
          0.5713657463706605,
          -0.18129027059678798,
          0.430004557081076,
          1.6863812103799642,
          -0.6205237181163857,
          -1.378790952224102,
          -0.9560630562428023,
          0.7628953284442226,
          0.39728720166579823,
          -0.026977581814568462,
          -0.4775048077061331,
          -1.1220589139421688,
          -0.22818375928584564,
          -0.3726175003152722,
          0.40313929253122527,
          0.5456734426890402,
          0.5740447442738711,
          -2.237131128094541,
          0.4058095789096909,
          -0.057463031685277874,
          -0.12273862477813806,
          -2.307293811068429,
          0.06316488302106166,
          -0.7977993774509309,
          1.0363486351237172,
          1.8041182975160668,
          0.17306927422672233,
          -1.9214220031912495,
          0.23758276050622623,
          0.9522895107253445,
          0.7730070354998442,
          -0.29185508575737557,
          -1.5922511892721602,
          0.4844679481630889,
          -0.06886905558166533,
          -0.46890257964383103,
          0.468215986441292,
          -0.6170960484980602,
          0.35740225773385476,
          2.678687336946146,
          -1.031897653891675,
          0.42059595579664977,
          -0.43000647046019064,
          1.0319300779441793,
          0.4766188701301545,
          -2.4711327874864324,
          1.2171002747332798,
          1.1214780257098982,
          -1.2894650045211846,
          0.6653483531204847,
          0.9412819082345588,
          0.1614052968972017,
          -0.3451756071894113,
          1.1770428422416965,
          -0.9742353816864837,
          -0.36361931689461524,
          0.6412601937102383,
          1.6336644480044498,
          -0.6105004553744235,
          0.8152381839368957,
          -1.4288834184504773,
          0.44993084750598256,
          -0.7973688855485472,
          0.298340729784743,
          0.6074625171636029,
          -0.8301357035946288,
          -0.9034214419117117,
          -0.8798883621524541,
          0.4478482378005054,
          -0.3178034758313932,
          -0.11442334802179989,
          0.6625132412809478,
          0.11846246100215997,
          0.18726296072824145,
          -1.4163690578591572,
          -0.20504665253924703,
          -2.2520376076911903,
          -0.05149414351210116,
          -1.5439331507530487,
          -0.06701365016551912,
          1.057640785433957,
          0.05051365860776818,
          -0.3385267509147933,
          -1.7393596031683598,
          0.7760699180500408,
          1.4100114849001115,
          0.36738177670275723,
          0.7532249188234077,
          0.6276018174355962,
          0.3084812185167463,
          0.6754928369679085,
          -1.1003844369332827,
          0.14729148213127272,
          0.5803514316347554,
          -0.29784955145488823,
          0.903863427955898,
          1.080587909957928,
          -0.4760227808352415,
          -0.04425766076960422,
          0.06407344314800589,
          1.7262991655278872,
          -0.7605645076940213,
          0.7501785800543226,
          2.2182736935156284,
          -1.6769460826631943,
          -0.3969448008047011,
          -1.3385344020686465,
          1.9544731588727946,
          -0.1551787757725781,
          1.3706387591958122,
          1.0664504418332685,
          2.070083516538236,
          0.30840679379006686,
          0.5722331963172448,
          -0.1184287747459889,
          1.5264083447942185,
          0.9552146967566378,
          2.907381016549022,
          -0.04604202665734912,
          -0.5392618060603058,
          -1.0390014688221254,
          0.30044226187520795,
          -0.21053928413341894,
          2.7511366194329496,
          -0.28991441780949,
          2.261218036942313,
          -0.34766208037509183,
          -0.946703342006612,
          1.530695289551574,
          0.43387341147071556,
          -1.826544419107924,
          0.45677164528533054,
          -3.262154037479641,
          1.681917086418654,
          0.8169584882865069,
          -0.6073077104882263,
          -0.8914302540640905,
          -0.34814387409244735,
          -2.0811104094261728,
          0.16734218277132235,
          -0.9255167265691057,
          -0.15875968211489994,
          -0.8797187266103919,
          -0.1647272001439247,
          -1.1275673570323832,
          0.12361797224686759,
          -0.17916920363786906,
          -0.8927757138459166,
          -1.5286698179289708,
          0.27901683442676933,
          -1.1501065928276504,
          -1.2590574081380728,
          2.0370575301740974,
          0.48356603559643224,
          -0.491621228013522,
          0.34795437355165393,
          0.438153721287862,
          -1.2896965927423067,
          0.3210749016659769,
          0.5224109665262904,
          -2.7844960789982216,
          0.7382639393366289,
          0.5613682701771886,
          -0.25845818632285256,
          1.4098096719335358,
          -0.006037631103477602,
          0.20994706931352283,
          -0.48823809825368203,
          0.6120515452521044,
          0.9070998849125455,
          -0.5286897311076472,
          -1.5590038470687189,
          -2.094815510021006,
          -0.6131110942605921,
          -2.022790429559516,
          -0.44990968796858244,
          0.9565373696067946,
          -0.580460796755201,
          0.23328415591799653,
          1.6715392188260332,
          0.29645373322690705
         ]
        }
       ],
       "layout": {
        "height": 500,
        "template": {
         "data": {
          "bar": [
           {
            "error_x": {
             "color": "#2a3f5f"
            },
            "error_y": {
             "color": "#2a3f5f"
            },
            "marker": {
             "line": {
              "color": "#E5ECF6",
              "width": 0.5
             },
             "pattern": {
              "fillmode": "overlay",
              "size": 10,
              "solidity": 0.2
             }
            },
            "type": "bar"
           }
          ],
          "barpolar": [
           {
            "marker": {
             "line": {
              "color": "#E5ECF6",
              "width": 0.5
             },
             "pattern": {
              "fillmode": "overlay",
              "size": 10,
              "solidity": 0.2
             }
            },
            "type": "barpolar"
           }
          ],
          "carpet": [
           {
            "aaxis": {
             "endlinecolor": "#2a3f5f",
             "gridcolor": "white",
             "linecolor": "white",
             "minorgridcolor": "white",
             "startlinecolor": "#2a3f5f"
            },
            "baxis": {
             "endlinecolor": "#2a3f5f",
             "gridcolor": "white",
             "linecolor": "white",
             "minorgridcolor": "white",
             "startlinecolor": "#2a3f5f"
            },
            "type": "carpet"
           }
          ],
          "choropleth": [
           {
            "colorbar": {
             "outlinewidth": 0,
             "ticks": ""
            },
            "type": "choropleth"
           }
          ],
          "contour": [
           {
            "colorbar": {
             "outlinewidth": 0,
             "ticks": ""
            },
            "colorscale": [
             [
              0,
              "#0d0887"
             ],
             [
              0.1111111111111111,
              "#46039f"
             ],
             [
              0.2222222222222222,
              "#7201a8"
             ],
             [
              0.3333333333333333,
              "#9c179e"
             ],
             [
              0.4444444444444444,
              "#bd3786"
             ],
             [
              0.5555555555555556,
              "#d8576b"
             ],
             [
              0.6666666666666666,
              "#ed7953"
             ],
             [
              0.7777777777777778,
              "#fb9f3a"
             ],
             [
              0.8888888888888888,
              "#fdca26"
             ],
             [
              1,
              "#f0f921"
             ]
            ],
            "type": "contour"
           }
          ],
          "contourcarpet": [
           {
            "colorbar": {
             "outlinewidth": 0,
             "ticks": ""
            },
            "type": "contourcarpet"
           }
          ],
          "heatmap": [
           {
            "colorbar": {
             "outlinewidth": 0,
             "ticks": ""
            },
            "colorscale": [
             [
              0,
              "#0d0887"
             ],
             [
              0.1111111111111111,
              "#46039f"
             ],
             [
              0.2222222222222222,
              "#7201a8"
             ],
             [
              0.3333333333333333,
              "#9c179e"
             ],
             [
              0.4444444444444444,
              "#bd3786"
             ],
             [
              0.5555555555555556,
              "#d8576b"
             ],
             [
              0.6666666666666666,
              "#ed7953"
             ],
             [
              0.7777777777777778,
              "#fb9f3a"
             ],
             [
              0.8888888888888888,
              "#fdca26"
             ],
             [
              1,
              "#f0f921"
             ]
            ],
            "type": "heatmap"
           }
          ],
          "heatmapgl": [
           {
            "colorbar": {
             "outlinewidth": 0,
             "ticks": ""
            },
            "colorscale": [
             [
              0,
              "#0d0887"
             ],
             [
              0.1111111111111111,
              "#46039f"
             ],
             [
              0.2222222222222222,
              "#7201a8"
             ],
             [
              0.3333333333333333,
              "#9c179e"
             ],
             [
              0.4444444444444444,
              "#bd3786"
             ],
             [
              0.5555555555555556,
              "#d8576b"
             ],
             [
              0.6666666666666666,
              "#ed7953"
             ],
             [
              0.7777777777777778,
              "#fb9f3a"
             ],
             [
              0.8888888888888888,
              "#fdca26"
             ],
             [
              1,
              "#f0f921"
             ]
            ],
            "type": "heatmapgl"
           }
          ],
          "histogram": [
           {
            "marker": {
             "pattern": {
              "fillmode": "overlay",
              "size": 10,
              "solidity": 0.2
             }
            },
            "type": "histogram"
           }
          ],
          "histogram2d": [
           {
            "colorbar": {
             "outlinewidth": 0,
             "ticks": ""
            },
            "colorscale": [
             [
              0,
              "#0d0887"
             ],
             [
              0.1111111111111111,
              "#46039f"
             ],
             [
              0.2222222222222222,
              "#7201a8"
             ],
             [
              0.3333333333333333,
              "#9c179e"
             ],
             [
              0.4444444444444444,
              "#bd3786"
             ],
             [
              0.5555555555555556,
              "#d8576b"
             ],
             [
              0.6666666666666666,
              "#ed7953"
             ],
             [
              0.7777777777777778,
              "#fb9f3a"
             ],
             [
              0.8888888888888888,
              "#fdca26"
             ],
             [
              1,
              "#f0f921"
             ]
            ],
            "type": "histogram2d"
           }
          ],
          "histogram2dcontour": [
           {
            "colorbar": {
             "outlinewidth": 0,
             "ticks": ""
            },
            "colorscale": [
             [
              0,
              "#0d0887"
             ],
             [
              0.1111111111111111,
              "#46039f"
             ],
             [
              0.2222222222222222,
              "#7201a8"
             ],
             [
              0.3333333333333333,
              "#9c179e"
             ],
             [
              0.4444444444444444,
              "#bd3786"
             ],
             [
              0.5555555555555556,
              "#d8576b"
             ],
             [
              0.6666666666666666,
              "#ed7953"
             ],
             [
              0.7777777777777778,
              "#fb9f3a"
             ],
             [
              0.8888888888888888,
              "#fdca26"
             ],
             [
              1,
              "#f0f921"
             ]
            ],
            "type": "histogram2dcontour"
           }
          ],
          "mesh3d": [
           {
            "colorbar": {
             "outlinewidth": 0,
             "ticks": ""
            },
            "type": "mesh3d"
           }
          ],
          "parcoords": [
           {
            "line": {
             "colorbar": {
              "outlinewidth": 0,
              "ticks": ""
             }
            },
            "type": "parcoords"
           }
          ],
          "pie": [
           {
            "automargin": true,
            "type": "pie"
           }
          ],
          "scatter": [
           {
            "fillpattern": {
             "fillmode": "overlay",
             "size": 10,
             "solidity": 0.2
            },
            "type": "scatter"
           }
          ],
          "scatter3d": [
           {
            "line": {
             "colorbar": {
              "outlinewidth": 0,
              "ticks": ""
             }
            },
            "marker": {
             "colorbar": {
              "outlinewidth": 0,
              "ticks": ""
             }
            },
            "type": "scatter3d"
           }
          ],
          "scattercarpet": [
           {
            "marker": {
             "colorbar": {
              "outlinewidth": 0,
              "ticks": ""
             }
            },
            "type": "scattercarpet"
           }
          ],
          "scattergeo": [
           {
            "marker": {
             "colorbar": {
              "outlinewidth": 0,
              "ticks": ""
             }
            },
            "type": "scattergeo"
           }
          ],
          "scattergl": [
           {
            "marker": {
             "colorbar": {
              "outlinewidth": 0,
              "ticks": ""
             }
            },
            "type": "scattergl"
           }
          ],
          "scattermapbox": [
           {
            "marker": {
             "colorbar": {
              "outlinewidth": 0,
              "ticks": ""
             }
            },
            "type": "scattermapbox"
           }
          ],
          "scatterpolar": [
           {
            "marker": {
             "colorbar": {
              "outlinewidth": 0,
              "ticks": ""
             }
            },
            "type": "scatterpolar"
           }
          ],
          "scatterpolargl": [
           {
            "marker": {
             "colorbar": {
              "outlinewidth": 0,
              "ticks": ""
             }
            },
            "type": "scatterpolargl"
           }
          ],
          "scatterternary": [
           {
            "marker": {
             "colorbar": {
              "outlinewidth": 0,
              "ticks": ""
             }
            },
            "type": "scatterternary"
           }
          ],
          "surface": [
           {
            "colorbar": {
             "outlinewidth": 0,
             "ticks": ""
            },
            "colorscale": [
             [
              0,
              "#0d0887"
             ],
             [
              0.1111111111111111,
              "#46039f"
             ],
             [
              0.2222222222222222,
              "#7201a8"
             ],
             [
              0.3333333333333333,
              "#9c179e"
             ],
             [
              0.4444444444444444,
              "#bd3786"
             ],
             [
              0.5555555555555556,
              "#d8576b"
             ],
             [
              0.6666666666666666,
              "#ed7953"
             ],
             [
              0.7777777777777778,
              "#fb9f3a"
             ],
             [
              0.8888888888888888,
              "#fdca26"
             ],
             [
              1,
              "#f0f921"
             ]
            ],
            "type": "surface"
           }
          ],
          "table": [
           {
            "cells": {
             "fill": {
              "color": "#EBF0F8"
             },
             "line": {
              "color": "white"
             }
            },
            "header": {
             "fill": {
              "color": "#C8D4E3"
             },
             "line": {
              "color": "white"
             }
            },
            "type": "table"
           }
          ]
         },
         "layout": {
          "annotationdefaults": {
           "arrowcolor": "#2a3f5f",
           "arrowhead": 0,
           "arrowwidth": 1
          },
          "autotypenumbers": "strict",
          "coloraxis": {
           "colorbar": {
            "outlinewidth": 0,
            "ticks": ""
           }
          },
          "colorscale": {
           "diverging": [
            [
             0,
             "#8e0152"
            ],
            [
             0.1,
             "#c51b7d"
            ],
            [
             0.2,
             "#de77ae"
            ],
            [
             0.3,
             "#f1b6da"
            ],
            [
             0.4,
             "#fde0ef"
            ],
            [
             0.5,
             "#f7f7f7"
            ],
            [
             0.6,
             "#e6f5d0"
            ],
            [
             0.7,
             "#b8e186"
            ],
            [
             0.8,
             "#7fbc41"
            ],
            [
             0.9,
             "#4d9221"
            ],
            [
             1,
             "#276419"
            ]
           ],
           "sequential": [
            [
             0,
             "#0d0887"
            ],
            [
             0.1111111111111111,
             "#46039f"
            ],
            [
             0.2222222222222222,
             "#7201a8"
            ],
            [
             0.3333333333333333,
             "#9c179e"
            ],
            [
             0.4444444444444444,
             "#bd3786"
            ],
            [
             0.5555555555555556,
             "#d8576b"
            ],
            [
             0.6666666666666666,
             "#ed7953"
            ],
            [
             0.7777777777777778,
             "#fb9f3a"
            ],
            [
             0.8888888888888888,
             "#fdca26"
            ],
            [
             1,
             "#f0f921"
            ]
           ],
           "sequentialminus": [
            [
             0,
             "#0d0887"
            ],
            [
             0.1111111111111111,
             "#46039f"
            ],
            [
             0.2222222222222222,
             "#7201a8"
            ],
            [
             0.3333333333333333,
             "#9c179e"
            ],
            [
             0.4444444444444444,
             "#bd3786"
            ],
            [
             0.5555555555555556,
             "#d8576b"
            ],
            [
             0.6666666666666666,
             "#ed7953"
            ],
            [
             0.7777777777777778,
             "#fb9f3a"
            ],
            [
             0.8888888888888888,
             "#fdca26"
            ],
            [
             1,
             "#f0f921"
            ]
           ]
          },
          "colorway": [
           "#636efa",
           "#EF553B",
           "#00cc96",
           "#ab63fa",
           "#FFA15A",
           "#19d3f3",
           "#FF6692",
           "#B6E880",
           "#FF97FF",
           "#FECB52"
          ],
          "font": {
           "color": "#2a3f5f"
          },
          "geo": {
           "bgcolor": "white",
           "lakecolor": "white",
           "landcolor": "#E5ECF6",
           "showlakes": true,
           "showland": true,
           "subunitcolor": "white"
          },
          "hoverlabel": {
           "align": "left"
          },
          "hovermode": "closest",
          "mapbox": {
           "style": "light"
          },
          "paper_bgcolor": "white",
          "plot_bgcolor": "#E5ECF6",
          "polar": {
           "angularaxis": {
            "gridcolor": "white",
            "linecolor": "white",
            "ticks": ""
           },
           "bgcolor": "#E5ECF6",
           "radialaxis": {
            "gridcolor": "white",
            "linecolor": "white",
            "ticks": ""
           }
          },
          "scene": {
           "xaxis": {
            "backgroundcolor": "#E5ECF6",
            "gridcolor": "white",
            "gridwidth": 2,
            "linecolor": "white",
            "showbackground": true,
            "ticks": "",
            "zerolinecolor": "white"
           },
           "yaxis": {
            "backgroundcolor": "#E5ECF6",
            "gridcolor": "white",
            "gridwidth": 2,
            "linecolor": "white",
            "showbackground": true,
            "ticks": "",
            "zerolinecolor": "white"
           },
           "zaxis": {
            "backgroundcolor": "#E5ECF6",
            "gridcolor": "white",
            "gridwidth": 2,
            "linecolor": "white",
            "showbackground": true,
            "ticks": "",
            "zerolinecolor": "white"
           }
          },
          "shapedefaults": {
           "line": {
            "color": "#2a3f5f"
           }
          },
          "ternary": {
           "aaxis": {
            "gridcolor": "white",
            "linecolor": "white",
            "ticks": ""
           },
           "baxis": {
            "gridcolor": "white",
            "linecolor": "white",
            "ticks": ""
           },
           "bgcolor": "#E5ECF6",
           "caxis": {
            "gridcolor": "white",
            "linecolor": "white",
            "ticks": ""
           }
          },
          "title": {
           "x": 0.05
          },
          "xaxis": {
           "automargin": true,
           "gridcolor": "white",
           "linecolor": "white",
           "ticks": "",
           "title": {
            "standoff": 15
           },
           "zerolinecolor": "white",
           "zerolinewidth": 2
          },
          "yaxis": {
           "automargin": true,
           "gridcolor": "white",
           "linecolor": "white",
           "ticks": "",
           "title": {
            "standoff": 15
           },
           "zerolinecolor": "white",
           "zerolinewidth": 2
          }
         }
        },
        "title": {
         "text": "Box Plot Sample from a Normal Distribution"
        },
        "width": 800
       }
      }
     },
     "metadata": {},
     "output_type": "display_data"
    }
   ],
   "source": [
    "fig = go.Figure()\n",
    "fig.add_trace(go.Box(x=df[\"Normal\"], \n",
    "                     jitter=0.0,\n",
    "                     notched=True, \n",
    "                     marker_color='teal', \n",
    "                     boxpoints=\"all\",\n",
    "                     name='Normal',\n",
    "                     ))\n",
    "fig.update_layout(title='Box Plot Sample from a Normal Distribution', \n",
    "                  height = 500, width = 800,)"
   ]
  },
  {
   "cell_type": "markdown",
   "metadata": {},
   "source": [
    "1. Customise the position of the points with respect to the box(es) by using the input `pointpos`.  If 0, the sample points are places over the center of the box(es). Positive (negative) values correspond to positions to the right (left) for vertical boxes and above (below) for horizontal boxes"
   ]
  },
  {
   "cell_type": "code",
   "execution_count": 11,
   "metadata": {},
   "outputs": [
    {
     "data": {
      "application/vnd.plotly.v1+json": {
       "config": {
        "plotlyServerURL": "https://plot.ly"
       },
       "data": [
        {
         "boxpoints": "all",
         "jitter": 0.5,
         "marker": {
          "color": "green"
         },
         "name": "Normal",
         "notched": true,
         "pointpos": 0,
         "type": "box",
         "x": [
          -1.689336888453517,
          0.13776912596710247,
          1.1675091952590086,
          -0.7607604876302595,
          -0.6414780667145364,
          0.11477170637140893,
          1.9360016071063202,
          0.4335911086990883,
          -1.9939155637111687,
          0.05896021833051035,
          -0.1435860575122745,
          0.24395341270042556,
          0.7713106604048846,
          -2.473275307771809,
          0.11524284105619857,
          -2.200433888196964,
          -1.6166907263749857,
          -0.6570572327193407,
          0.0537983253306413,
          0.5713657463706605,
          -0.18129027059678798,
          0.430004557081076,
          1.6863812103799642,
          -0.6205237181163857,
          -1.378790952224102,
          -0.9560630562428023,
          0.7628953284442226,
          0.39728720166579823,
          -0.026977581814568462,
          -0.4775048077061331,
          -1.1220589139421688,
          -0.22818375928584564,
          -0.3726175003152722,
          0.40313929253122527,
          0.5456734426890402,
          0.5740447442738711,
          -2.237131128094541,
          0.4058095789096909,
          -0.057463031685277874,
          -0.12273862477813806,
          -2.307293811068429,
          0.06316488302106166,
          -0.7977993774509309,
          1.0363486351237172,
          1.8041182975160668,
          0.17306927422672233,
          -1.9214220031912495,
          0.23758276050622623,
          0.9522895107253445,
          0.7730070354998442,
          -0.29185508575737557,
          -1.5922511892721602,
          0.4844679481630889,
          -0.06886905558166533,
          -0.46890257964383103,
          0.468215986441292,
          -0.6170960484980602,
          0.35740225773385476,
          2.678687336946146,
          -1.031897653891675,
          0.42059595579664977,
          -0.43000647046019064,
          1.0319300779441793,
          0.4766188701301545,
          -2.4711327874864324,
          1.2171002747332798,
          1.1214780257098982,
          -1.2894650045211846,
          0.6653483531204847,
          0.9412819082345588,
          0.1614052968972017,
          -0.3451756071894113,
          1.1770428422416965,
          -0.9742353816864837,
          -0.36361931689461524,
          0.6412601937102383,
          1.6336644480044498,
          -0.6105004553744235,
          0.8152381839368957,
          -1.4288834184504773,
          0.44993084750598256,
          -0.7973688855485472,
          0.298340729784743,
          0.6074625171636029,
          -0.8301357035946288,
          -0.9034214419117117,
          -0.8798883621524541,
          0.4478482378005054,
          -0.3178034758313932,
          -0.11442334802179989,
          0.6625132412809478,
          0.11846246100215997,
          0.18726296072824145,
          -1.4163690578591572,
          -0.20504665253924703,
          -2.2520376076911903,
          -0.05149414351210116,
          -1.5439331507530487,
          -0.06701365016551912,
          1.057640785433957,
          0.05051365860776818,
          -0.3385267509147933,
          -1.7393596031683598,
          0.7760699180500408,
          1.4100114849001115,
          0.36738177670275723,
          0.7532249188234077,
          0.6276018174355962,
          0.3084812185167463,
          0.6754928369679085,
          -1.1003844369332827,
          0.14729148213127272,
          0.5803514316347554,
          -0.29784955145488823,
          0.903863427955898,
          1.080587909957928,
          -0.4760227808352415,
          -0.04425766076960422,
          0.06407344314800589,
          1.7262991655278872,
          -0.7605645076940213,
          0.7501785800543226,
          2.2182736935156284,
          -1.6769460826631943,
          -0.3969448008047011,
          -1.3385344020686465,
          1.9544731588727946,
          -0.1551787757725781,
          1.3706387591958122,
          1.0664504418332685,
          2.070083516538236,
          0.30840679379006686,
          0.5722331963172448,
          -0.1184287747459889,
          1.5264083447942185,
          0.9552146967566378,
          2.907381016549022,
          -0.04604202665734912,
          -0.5392618060603058,
          -1.0390014688221254,
          0.30044226187520795,
          -0.21053928413341894,
          2.7511366194329496,
          -0.28991441780949,
          2.261218036942313,
          -0.34766208037509183,
          -0.946703342006612,
          1.530695289551574,
          0.43387341147071556,
          -1.826544419107924,
          0.45677164528533054,
          -3.262154037479641,
          1.681917086418654,
          0.8169584882865069,
          -0.6073077104882263,
          -0.8914302540640905,
          -0.34814387409244735,
          -2.0811104094261728,
          0.16734218277132235,
          -0.9255167265691057,
          -0.15875968211489994,
          -0.8797187266103919,
          -0.1647272001439247,
          -1.1275673570323832,
          0.12361797224686759,
          -0.17916920363786906,
          -0.8927757138459166,
          -1.5286698179289708,
          0.27901683442676933,
          -1.1501065928276504,
          -1.2590574081380728,
          2.0370575301740974,
          0.48356603559643224,
          -0.491621228013522,
          0.34795437355165393,
          0.438153721287862,
          -1.2896965927423067,
          0.3210749016659769,
          0.5224109665262904,
          -2.7844960789982216,
          0.7382639393366289,
          0.5613682701771886,
          -0.25845818632285256,
          1.4098096719335358,
          -0.006037631103477602,
          0.20994706931352283,
          -0.48823809825368203,
          0.6120515452521044,
          0.9070998849125455,
          -0.5286897311076472,
          -1.5590038470687189,
          -2.094815510021006,
          -0.6131110942605921,
          -2.022790429559516,
          -0.44990968796858244,
          0.9565373696067946,
          -0.580460796755201,
          0.23328415591799653,
          1.6715392188260332,
          0.29645373322690705
         ]
        }
       ],
       "layout": {
        "height": 500,
        "template": {
         "data": {
          "bar": [
           {
            "error_x": {
             "color": "#2a3f5f"
            },
            "error_y": {
             "color": "#2a3f5f"
            },
            "marker": {
             "line": {
              "color": "#E5ECF6",
              "width": 0.5
             },
             "pattern": {
              "fillmode": "overlay",
              "size": 10,
              "solidity": 0.2
             }
            },
            "type": "bar"
           }
          ],
          "barpolar": [
           {
            "marker": {
             "line": {
              "color": "#E5ECF6",
              "width": 0.5
             },
             "pattern": {
              "fillmode": "overlay",
              "size": 10,
              "solidity": 0.2
             }
            },
            "type": "barpolar"
           }
          ],
          "carpet": [
           {
            "aaxis": {
             "endlinecolor": "#2a3f5f",
             "gridcolor": "white",
             "linecolor": "white",
             "minorgridcolor": "white",
             "startlinecolor": "#2a3f5f"
            },
            "baxis": {
             "endlinecolor": "#2a3f5f",
             "gridcolor": "white",
             "linecolor": "white",
             "minorgridcolor": "white",
             "startlinecolor": "#2a3f5f"
            },
            "type": "carpet"
           }
          ],
          "choropleth": [
           {
            "colorbar": {
             "outlinewidth": 0,
             "ticks": ""
            },
            "type": "choropleth"
           }
          ],
          "contour": [
           {
            "colorbar": {
             "outlinewidth": 0,
             "ticks": ""
            },
            "colorscale": [
             [
              0,
              "#0d0887"
             ],
             [
              0.1111111111111111,
              "#46039f"
             ],
             [
              0.2222222222222222,
              "#7201a8"
             ],
             [
              0.3333333333333333,
              "#9c179e"
             ],
             [
              0.4444444444444444,
              "#bd3786"
             ],
             [
              0.5555555555555556,
              "#d8576b"
             ],
             [
              0.6666666666666666,
              "#ed7953"
             ],
             [
              0.7777777777777778,
              "#fb9f3a"
             ],
             [
              0.8888888888888888,
              "#fdca26"
             ],
             [
              1,
              "#f0f921"
             ]
            ],
            "type": "contour"
           }
          ],
          "contourcarpet": [
           {
            "colorbar": {
             "outlinewidth": 0,
             "ticks": ""
            },
            "type": "contourcarpet"
           }
          ],
          "heatmap": [
           {
            "colorbar": {
             "outlinewidth": 0,
             "ticks": ""
            },
            "colorscale": [
             [
              0,
              "#0d0887"
             ],
             [
              0.1111111111111111,
              "#46039f"
             ],
             [
              0.2222222222222222,
              "#7201a8"
             ],
             [
              0.3333333333333333,
              "#9c179e"
             ],
             [
              0.4444444444444444,
              "#bd3786"
             ],
             [
              0.5555555555555556,
              "#d8576b"
             ],
             [
              0.6666666666666666,
              "#ed7953"
             ],
             [
              0.7777777777777778,
              "#fb9f3a"
             ],
             [
              0.8888888888888888,
              "#fdca26"
             ],
             [
              1,
              "#f0f921"
             ]
            ],
            "type": "heatmap"
           }
          ],
          "heatmapgl": [
           {
            "colorbar": {
             "outlinewidth": 0,
             "ticks": ""
            },
            "colorscale": [
             [
              0,
              "#0d0887"
             ],
             [
              0.1111111111111111,
              "#46039f"
             ],
             [
              0.2222222222222222,
              "#7201a8"
             ],
             [
              0.3333333333333333,
              "#9c179e"
             ],
             [
              0.4444444444444444,
              "#bd3786"
             ],
             [
              0.5555555555555556,
              "#d8576b"
             ],
             [
              0.6666666666666666,
              "#ed7953"
             ],
             [
              0.7777777777777778,
              "#fb9f3a"
             ],
             [
              0.8888888888888888,
              "#fdca26"
             ],
             [
              1,
              "#f0f921"
             ]
            ],
            "type": "heatmapgl"
           }
          ],
          "histogram": [
           {
            "marker": {
             "pattern": {
              "fillmode": "overlay",
              "size": 10,
              "solidity": 0.2
             }
            },
            "type": "histogram"
           }
          ],
          "histogram2d": [
           {
            "colorbar": {
             "outlinewidth": 0,
             "ticks": ""
            },
            "colorscale": [
             [
              0,
              "#0d0887"
             ],
             [
              0.1111111111111111,
              "#46039f"
             ],
             [
              0.2222222222222222,
              "#7201a8"
             ],
             [
              0.3333333333333333,
              "#9c179e"
             ],
             [
              0.4444444444444444,
              "#bd3786"
             ],
             [
              0.5555555555555556,
              "#d8576b"
             ],
             [
              0.6666666666666666,
              "#ed7953"
             ],
             [
              0.7777777777777778,
              "#fb9f3a"
             ],
             [
              0.8888888888888888,
              "#fdca26"
             ],
             [
              1,
              "#f0f921"
             ]
            ],
            "type": "histogram2d"
           }
          ],
          "histogram2dcontour": [
           {
            "colorbar": {
             "outlinewidth": 0,
             "ticks": ""
            },
            "colorscale": [
             [
              0,
              "#0d0887"
             ],
             [
              0.1111111111111111,
              "#46039f"
             ],
             [
              0.2222222222222222,
              "#7201a8"
             ],
             [
              0.3333333333333333,
              "#9c179e"
             ],
             [
              0.4444444444444444,
              "#bd3786"
             ],
             [
              0.5555555555555556,
              "#d8576b"
             ],
             [
              0.6666666666666666,
              "#ed7953"
             ],
             [
              0.7777777777777778,
              "#fb9f3a"
             ],
             [
              0.8888888888888888,
              "#fdca26"
             ],
             [
              1,
              "#f0f921"
             ]
            ],
            "type": "histogram2dcontour"
           }
          ],
          "mesh3d": [
           {
            "colorbar": {
             "outlinewidth": 0,
             "ticks": ""
            },
            "type": "mesh3d"
           }
          ],
          "parcoords": [
           {
            "line": {
             "colorbar": {
              "outlinewidth": 0,
              "ticks": ""
             }
            },
            "type": "parcoords"
           }
          ],
          "pie": [
           {
            "automargin": true,
            "type": "pie"
           }
          ],
          "scatter": [
           {
            "fillpattern": {
             "fillmode": "overlay",
             "size": 10,
             "solidity": 0.2
            },
            "type": "scatter"
           }
          ],
          "scatter3d": [
           {
            "line": {
             "colorbar": {
              "outlinewidth": 0,
              "ticks": ""
             }
            },
            "marker": {
             "colorbar": {
              "outlinewidth": 0,
              "ticks": ""
             }
            },
            "type": "scatter3d"
           }
          ],
          "scattercarpet": [
           {
            "marker": {
             "colorbar": {
              "outlinewidth": 0,
              "ticks": ""
             }
            },
            "type": "scattercarpet"
           }
          ],
          "scattergeo": [
           {
            "marker": {
             "colorbar": {
              "outlinewidth": 0,
              "ticks": ""
             }
            },
            "type": "scattergeo"
           }
          ],
          "scattergl": [
           {
            "marker": {
             "colorbar": {
              "outlinewidth": 0,
              "ticks": ""
             }
            },
            "type": "scattergl"
           }
          ],
          "scattermapbox": [
           {
            "marker": {
             "colorbar": {
              "outlinewidth": 0,
              "ticks": ""
             }
            },
            "type": "scattermapbox"
           }
          ],
          "scatterpolar": [
           {
            "marker": {
             "colorbar": {
              "outlinewidth": 0,
              "ticks": ""
             }
            },
            "type": "scatterpolar"
           }
          ],
          "scatterpolargl": [
           {
            "marker": {
             "colorbar": {
              "outlinewidth": 0,
              "ticks": ""
             }
            },
            "type": "scatterpolargl"
           }
          ],
          "scatterternary": [
           {
            "marker": {
             "colorbar": {
              "outlinewidth": 0,
              "ticks": ""
             }
            },
            "type": "scatterternary"
           }
          ],
          "surface": [
           {
            "colorbar": {
             "outlinewidth": 0,
             "ticks": ""
            },
            "colorscale": [
             [
              0,
              "#0d0887"
             ],
             [
              0.1111111111111111,
              "#46039f"
             ],
             [
              0.2222222222222222,
              "#7201a8"
             ],
             [
              0.3333333333333333,
              "#9c179e"
             ],
             [
              0.4444444444444444,
              "#bd3786"
             ],
             [
              0.5555555555555556,
              "#d8576b"
             ],
             [
              0.6666666666666666,
              "#ed7953"
             ],
             [
              0.7777777777777778,
              "#fb9f3a"
             ],
             [
              0.8888888888888888,
              "#fdca26"
             ],
             [
              1,
              "#f0f921"
             ]
            ],
            "type": "surface"
           }
          ],
          "table": [
           {
            "cells": {
             "fill": {
              "color": "#EBF0F8"
             },
             "line": {
              "color": "white"
             }
            },
            "header": {
             "fill": {
              "color": "#C8D4E3"
             },
             "line": {
              "color": "white"
             }
            },
            "type": "table"
           }
          ]
         },
         "layout": {
          "annotationdefaults": {
           "arrowcolor": "#2a3f5f",
           "arrowhead": 0,
           "arrowwidth": 1
          },
          "autotypenumbers": "strict",
          "coloraxis": {
           "colorbar": {
            "outlinewidth": 0,
            "ticks": ""
           }
          },
          "colorscale": {
           "diverging": [
            [
             0,
             "#8e0152"
            ],
            [
             0.1,
             "#c51b7d"
            ],
            [
             0.2,
             "#de77ae"
            ],
            [
             0.3,
             "#f1b6da"
            ],
            [
             0.4,
             "#fde0ef"
            ],
            [
             0.5,
             "#f7f7f7"
            ],
            [
             0.6,
             "#e6f5d0"
            ],
            [
             0.7,
             "#b8e186"
            ],
            [
             0.8,
             "#7fbc41"
            ],
            [
             0.9,
             "#4d9221"
            ],
            [
             1,
             "#276419"
            ]
           ],
           "sequential": [
            [
             0,
             "#0d0887"
            ],
            [
             0.1111111111111111,
             "#46039f"
            ],
            [
             0.2222222222222222,
             "#7201a8"
            ],
            [
             0.3333333333333333,
             "#9c179e"
            ],
            [
             0.4444444444444444,
             "#bd3786"
            ],
            [
             0.5555555555555556,
             "#d8576b"
            ],
            [
             0.6666666666666666,
             "#ed7953"
            ],
            [
             0.7777777777777778,
             "#fb9f3a"
            ],
            [
             0.8888888888888888,
             "#fdca26"
            ],
            [
             1,
             "#f0f921"
            ]
           ],
           "sequentialminus": [
            [
             0,
             "#0d0887"
            ],
            [
             0.1111111111111111,
             "#46039f"
            ],
            [
             0.2222222222222222,
             "#7201a8"
            ],
            [
             0.3333333333333333,
             "#9c179e"
            ],
            [
             0.4444444444444444,
             "#bd3786"
            ],
            [
             0.5555555555555556,
             "#d8576b"
            ],
            [
             0.6666666666666666,
             "#ed7953"
            ],
            [
             0.7777777777777778,
             "#fb9f3a"
            ],
            [
             0.8888888888888888,
             "#fdca26"
            ],
            [
             1,
             "#f0f921"
            ]
           ]
          },
          "colorway": [
           "#636efa",
           "#EF553B",
           "#00cc96",
           "#ab63fa",
           "#FFA15A",
           "#19d3f3",
           "#FF6692",
           "#B6E880",
           "#FF97FF",
           "#FECB52"
          ],
          "font": {
           "color": "#2a3f5f"
          },
          "geo": {
           "bgcolor": "white",
           "lakecolor": "white",
           "landcolor": "#E5ECF6",
           "showlakes": true,
           "showland": true,
           "subunitcolor": "white"
          },
          "hoverlabel": {
           "align": "left"
          },
          "hovermode": "closest",
          "mapbox": {
           "style": "light"
          },
          "paper_bgcolor": "white",
          "plot_bgcolor": "#E5ECF6",
          "polar": {
           "angularaxis": {
            "gridcolor": "white",
            "linecolor": "white",
            "ticks": ""
           },
           "bgcolor": "#E5ECF6",
           "radialaxis": {
            "gridcolor": "white",
            "linecolor": "white",
            "ticks": ""
           }
          },
          "scene": {
           "xaxis": {
            "backgroundcolor": "#E5ECF6",
            "gridcolor": "white",
            "gridwidth": 2,
            "linecolor": "white",
            "showbackground": true,
            "ticks": "",
            "zerolinecolor": "white"
           },
           "yaxis": {
            "backgroundcolor": "#E5ECF6",
            "gridcolor": "white",
            "gridwidth": 2,
            "linecolor": "white",
            "showbackground": true,
            "ticks": "",
            "zerolinecolor": "white"
           },
           "zaxis": {
            "backgroundcolor": "#E5ECF6",
            "gridcolor": "white",
            "gridwidth": 2,
            "linecolor": "white",
            "showbackground": true,
            "ticks": "",
            "zerolinecolor": "white"
           }
          },
          "shapedefaults": {
           "line": {
            "color": "#2a3f5f"
           }
          },
          "ternary": {
           "aaxis": {
            "gridcolor": "white",
            "linecolor": "white",
            "ticks": ""
           },
           "baxis": {
            "gridcolor": "white",
            "linecolor": "white",
            "ticks": ""
           },
           "bgcolor": "#E5ECF6",
           "caxis": {
            "gridcolor": "white",
            "linecolor": "white",
            "ticks": ""
           }
          },
          "title": {
           "x": 0.05
          },
          "xaxis": {
           "automargin": true,
           "gridcolor": "white",
           "linecolor": "white",
           "ticks": "",
           "title": {
            "standoff": 15
           },
           "zerolinecolor": "white",
           "zerolinewidth": 2
          },
          "yaxis": {
           "automargin": true,
           "gridcolor": "white",
           "linecolor": "white",
           "ticks": "",
           "title": {
            "standoff": 15
           },
           "zerolinecolor": "white",
           "zerolinewidth": 2
          }
         }
        },
        "title": {
         "text": "Box Plot Sample from a Normal Distribution"
        },
        "width": 800
       }
      }
     },
     "metadata": {},
     "output_type": "display_data"
    }
   ],
   "source": [
    "fig = go.Figure()\n",
    "fig.add_trace(go.Box(x=df[\"Normal\"], \n",
    "                     pointpos=0.0,\n",
    "                     jitter=0.5,\n",
    "                     notched=True, \n",
    "                     marker_color='green', \n",
    "                     boxpoints=\"all\",\n",
    "                     name='Normal',\n",
    "                     ))\n",
    "fig.update_layout(title='Box Plot Sample from a Normal Distribution', \n",
    "                  height = 500, width = 800,)"
   ]
  },
  {
   "cell_type": "markdown",
   "metadata": {},
   "source": [
    "### Multiple data set"
   ]
  },
  {
   "cell_type": "code",
   "execution_count": 12,
   "metadata": {},
   "outputs": [],
   "source": [
    "df = data2"
   ]
  },
  {
   "cell_type": "markdown",
   "metadata": {},
   "source": [
    "1. To show several distributions, we will use the same method as for a single distribution for each different label. Note that in each iteration, we are getting a subset of the data set "
   ]
  },
  {
   "cell_type": "code",
   "execution_count": 13,
   "metadata": {},
   "outputs": [
    {
     "data": {
      "application/vnd.plotly.v1+json": {
       "config": {
        "plotlyServerURL": "https://plot.ly"
       },
       "data": [
        {
         "boxpoints": "all",
         "name": "Normal",
         "notched": true,
         "type": "box",
         "x": [
          -1.689336888453517,
          0.13776912596710247,
          1.1675091952590086,
          -0.7607604876302595,
          -0.6414780667145364,
          0.11477170637140893,
          1.9360016071063202,
          0.4335911086990883,
          -1.9939155637111687,
          0.05896021833051035,
          -0.1435860575122745,
          0.24395341270042556,
          0.7713106604048846,
          -2.473275307771809,
          0.11524284105619857,
          -2.200433888196964,
          -1.6166907263749857,
          -0.6570572327193407,
          0.0537983253306413,
          0.5713657463706605,
          -0.18129027059678798,
          0.430004557081076,
          1.6863812103799642,
          -0.6205237181163857,
          -1.378790952224102,
          -0.9560630562428023,
          0.7628953284442226,
          0.39728720166579823,
          -0.026977581814568462,
          -0.4775048077061331,
          -1.1220589139421688,
          -0.22818375928584564,
          -0.3726175003152722,
          0.40313929253122527,
          0.5456734426890402,
          0.5740447442738711,
          -2.237131128094541,
          0.4058095789096909,
          -0.057463031685277874,
          -0.12273862477813806,
          -2.307293811068429,
          0.06316488302106166,
          -0.7977993774509309,
          1.0363486351237172,
          1.8041182975160668,
          0.17306927422672233,
          -1.9214220031912495,
          0.23758276050622623,
          0.9522895107253445,
          0.7730070354998442,
          -0.29185508575737557,
          -1.5922511892721602,
          0.4844679481630889,
          -0.06886905558166533,
          -0.46890257964383103,
          0.468215986441292,
          -0.6170960484980602,
          0.35740225773385476,
          2.678687336946146,
          -1.031897653891675,
          0.42059595579664977,
          -0.43000647046019064,
          1.0319300779441793,
          0.4766188701301545,
          -2.4711327874864324,
          1.2171002747332798,
          1.1214780257098982,
          -1.2894650045211846,
          0.6653483531204847,
          0.9412819082345588,
          0.1614052968972017,
          -0.3451756071894113,
          1.1770428422416965,
          -0.9742353816864837,
          -0.36361931689461524,
          0.6412601937102383,
          1.6336644480044498,
          -0.6105004553744235,
          0.8152381839368957,
          -1.4288834184504773,
          0.44993084750598256,
          -0.7973688855485472,
          0.298340729784743,
          0.6074625171636029,
          -0.8301357035946288,
          -0.9034214419117117,
          -0.8798883621524541,
          0.4478482378005054,
          -0.3178034758313932,
          -0.11442334802179989,
          0.6625132412809478,
          0.11846246100215997,
          0.18726296072824145,
          -1.4163690578591572,
          -0.20504665253924703,
          -2.2520376076911903,
          -0.05149414351210116,
          -1.5439331507530487,
          -0.06701365016551912,
          1.057640785433957,
          0.05051365860776818,
          -0.3385267509147933,
          -1.7393596031683598,
          0.7760699180500408,
          1.4100114849001115,
          0.36738177670275723,
          0.7532249188234077,
          0.6276018174355962,
          0.3084812185167463,
          0.6754928369679085,
          -1.1003844369332827,
          0.14729148213127272,
          0.5803514316347554,
          -0.29784955145488823,
          0.903863427955898,
          1.080587909957928,
          -0.4760227808352415,
          -0.04425766076960422,
          0.06407344314800589,
          1.7262991655278872,
          -0.7605645076940213,
          0.7501785800543226,
          2.2182736935156284,
          -1.6769460826631943,
          -0.3969448008047011,
          -1.3385344020686465,
          1.9544731588727946,
          -0.1551787757725781,
          1.3706387591958122,
          1.0664504418332685,
          2.070083516538236,
          0.30840679379006686,
          0.5722331963172448,
          -0.1184287747459889,
          1.5264083447942185,
          0.9552146967566378,
          2.907381016549022,
          -0.04604202665734912,
          -0.5392618060603058,
          -1.0390014688221254,
          0.30044226187520795,
          -0.21053928413341894,
          2.7511366194329496,
          -0.28991441780949,
          2.261218036942313,
          -0.34766208037509183,
          -0.946703342006612,
          1.530695289551574,
          0.43387341147071556,
          -1.826544419107924,
          0.45677164528533054,
          -3.262154037479641,
          1.681917086418654,
          0.8169584882865069,
          -0.6073077104882263,
          -0.8914302540640905,
          -0.34814387409244735,
          -2.0811104094261728,
          0.16734218277132235,
          -0.9255167265691057,
          -0.15875968211489994,
          -0.8797187266103919,
          -0.1647272001439247,
          -1.1275673570323832,
          0.12361797224686759,
          -0.17916920363786906,
          -0.8927757138459166,
          -1.5286698179289708,
          0.27901683442676933,
          -1.1501065928276504,
          -1.2590574081380728,
          2.0370575301740974,
          0.48356603559643224,
          -0.491621228013522,
          0.34795437355165393,
          0.438153721287862,
          -1.2896965927423067,
          0.3210749016659769,
          0.5224109665262904,
          -2.7844960789982216,
          0.7382639393366289,
          0.5613682701771886,
          -0.25845818632285256,
          1.4098096719335358,
          -0.006037631103477602,
          0.20994706931352283,
          -0.48823809825368203,
          0.6120515452521044,
          0.9070998849125455,
          -0.5286897311076472,
          -1.5590038470687189,
          -2.094815510021006,
          -0.6131110942605921,
          -2.022790429559516,
          -0.44990968796858244,
          0.9565373696067946,
          -0.580460796755201,
          0.23328415591799653,
          1.6715392188260332,
          0.29645373322690705
         ]
        },
        {
         "boxpoints": "all",
         "name": "t-Student",
         "notched": true,
         "type": "box",
         "x": [
          1.3296171679800899,
          -0.32897898277654314,
          0.9597493720462663,
          -1.1416536239116077,
          0.4777654532547854,
          0.5385209646059625,
          0.1726330328130127,
          -0.7895551213098313,
          0.43905366975754684,
          -3.410227703467272,
          -0.273116872347728,
          0.860463971477064,
          -0.08386551341275127,
          -0.7323064807477796,
          -1.5895520177367453,
          -1.4915386824641865,
          -0.234839011339704,
          -1.5046376411653366,
          1.0927782855993144,
          -1.051230659815699,
          -1.1224917527417912,
          0.09887262823779777,
          1.873174187440845,
          1.217050170950474,
          0.6186923797864428,
          2.2163720194899157,
          3.9514570953047436,
          -0.8202110866045245,
          -0.9487437014976523,
          -0.17997946278421742,
          -0.15430086842626395,
          1.5382681717842064,
          0.47080712945493924,
          -0.4442944483062053,
          -0.9286387493237,
          1.6727659628187705,
          0.3969293606243659,
          -3.0154961674738643,
          -0.7122284812663532,
          1.4061922773040985,
          -1.1465088858843842,
          1.0669192630599502,
          -1.1126589090825467,
          0.7940525391382822,
          0.5402639315399803,
          -0.14056077435850636,
          2.806591375257195,
          -1.6107444718655985,
          -0.32051882439392,
          -0.21822782281608594,
          0.7457095842997067,
          -1.6347905497391868,
          -0.14144688314378315,
          0.6491854724376415,
          4.533853989743498,
          -0.011406055295251766,
          0.5773063063163685,
          0.7253567788284269,
          -0.8939373665390783,
          -0.10077552522855715,
          -0.27858372621245253,
          -0.02433421308262017,
          0.2549779198622396,
          -0.659041141657982,
          0.9617193745897314,
          0.9826243637502594,
          -1.9910319466725697,
          -2.4766298072578574,
          0.10489098061224233,
          -0.7656939672804003,
          1.316305285773601,
          0.38540824576643173,
          0.00414810214387028,
          -0.07698091894893482,
          -0.8368358324234044,
          0.7559024388002632,
          -1.433457539817932,
          -0.8642632809939191,
          -1.7123547942637962,
          0.2683611369093511,
          -3.6775813836187647,
          -1.486260741717948,
          -0.5143686484444054,
          0.0731138896797696,
          -0.5383289954572272,
          -0.2216311056628057,
          -1.1486958348477005,
          3.1186420231599623,
          0.2873088644734004,
          0.6573180038362226,
          1.7727094342546734,
          1.9894353888993404,
          0.6890681081093167,
          1.9934595066819252,
          2.828323002695493,
          -0.5538494208203962,
          0.008858672085565114,
          1.5012053005454427,
          -0.12466798232455624,
          -0.7900112682790705,
          -0.5817288857875356,
          -0.27734802860059343,
          -2.1235891966928593,
          0.047964748148095,
          0.48834855629152263,
          0.9192223418363958,
          -0.6206563910770353,
          -0.177555384164008,
          0.19190465605540236,
          -0.7089562031414267,
          0.37641344603617694,
          0.005476536455913488,
          -0.8540455323243363,
          0.868229050008538,
          -0.21358684568860697,
          -1.9771003881592217,
          -2.9169395463031833,
          2.5645719759785286,
          1.2695602468725051,
          1.8673156646447655,
          1.4785213104679666,
          -0.8590276993700084,
          -0.3059456522682964,
          0.7952994279543194,
          -3.3045159313296764,
          2.3237444340619433,
          -0.01640972914427589,
          -0.04307939388800091,
          -1.8107942815328977,
          -0.5700331815605205,
          -0.7079387137651683,
          1.2472459068974564,
          0.9699584961244075,
          -0.15840975429441287,
          -3.3328197750920467,
          -0.11801562140412176,
          -0.014095974933285469,
          -0.01711814690866443,
          0.5915238437228837,
          -0.16846417672240585,
          0.3258372606972137,
          -0.21380302170611726,
          -4.2464403958402075,
          -1.364001366192576,
          -0.6714791305153653,
          1.1296559292337045,
          0.5312396179665219,
          -0.31851005691215006,
          1.0154524865431047,
          2.5987598950873587,
          -1.2336713329164881,
          1.830125926957955,
          -5.040436944784364,
          -1.2557825280151713,
          -2.162612258301927,
          -0.2943497503446204,
          -0.5239594992835492,
          0.6994748838771682,
          1.8607922496977358,
          0.03820582587744919,
          0.8536362111155634,
          -1.6874328059539372,
          0.026714406058347132,
          0.44280720480354885,
          0.10550155549911709,
          -0.4404841056644979,
          0.26890470896118246,
          0.19024899621444882,
          -0.9436936479400267,
          -1.87910055600819,
          0.1815738314797129,
          -1.5078467131472664,
          -1.93398986879911,
          -1.1407487783405332,
          0.5741177919407499,
          0.044257291763834194,
          -0.415711716367045,
          6.118389010560933,
          -0.8539045021211132,
          -0.7816938309767884,
          -1.730959992041709,
          1.150940441976179,
          1.16941082581042,
          1.0084872903369209,
          0.06162290922408858,
          -0.3214942194098754,
          0.18539301620366588,
          -1.0130555467761617,
          -0.17785248179229238,
          -2.26110549861858,
          0.35422134221123824,
          -0.310120470029651,
          -0.8745208954753512,
          0.2622957243898324,
          -0.19172953462524142,
          -0.6301569225165788,
          -0.42549998781220855,
          1.1576175492262648,
          1.3864253257602037,
          0.3765846060887998
         ]
        }
       ],
       "layout": {
        "height": 500,
        "template": {
         "data": {
          "bar": [
           {
            "error_x": {
             "color": "#2a3f5f"
            },
            "error_y": {
             "color": "#2a3f5f"
            },
            "marker": {
             "line": {
              "color": "#E5ECF6",
              "width": 0.5
             },
             "pattern": {
              "fillmode": "overlay",
              "size": 10,
              "solidity": 0.2
             }
            },
            "type": "bar"
           }
          ],
          "barpolar": [
           {
            "marker": {
             "line": {
              "color": "#E5ECF6",
              "width": 0.5
             },
             "pattern": {
              "fillmode": "overlay",
              "size": 10,
              "solidity": 0.2
             }
            },
            "type": "barpolar"
           }
          ],
          "carpet": [
           {
            "aaxis": {
             "endlinecolor": "#2a3f5f",
             "gridcolor": "white",
             "linecolor": "white",
             "minorgridcolor": "white",
             "startlinecolor": "#2a3f5f"
            },
            "baxis": {
             "endlinecolor": "#2a3f5f",
             "gridcolor": "white",
             "linecolor": "white",
             "minorgridcolor": "white",
             "startlinecolor": "#2a3f5f"
            },
            "type": "carpet"
           }
          ],
          "choropleth": [
           {
            "colorbar": {
             "outlinewidth": 0,
             "ticks": ""
            },
            "type": "choropleth"
           }
          ],
          "contour": [
           {
            "colorbar": {
             "outlinewidth": 0,
             "ticks": ""
            },
            "colorscale": [
             [
              0,
              "#0d0887"
             ],
             [
              0.1111111111111111,
              "#46039f"
             ],
             [
              0.2222222222222222,
              "#7201a8"
             ],
             [
              0.3333333333333333,
              "#9c179e"
             ],
             [
              0.4444444444444444,
              "#bd3786"
             ],
             [
              0.5555555555555556,
              "#d8576b"
             ],
             [
              0.6666666666666666,
              "#ed7953"
             ],
             [
              0.7777777777777778,
              "#fb9f3a"
             ],
             [
              0.8888888888888888,
              "#fdca26"
             ],
             [
              1,
              "#f0f921"
             ]
            ],
            "type": "contour"
           }
          ],
          "contourcarpet": [
           {
            "colorbar": {
             "outlinewidth": 0,
             "ticks": ""
            },
            "type": "contourcarpet"
           }
          ],
          "heatmap": [
           {
            "colorbar": {
             "outlinewidth": 0,
             "ticks": ""
            },
            "colorscale": [
             [
              0,
              "#0d0887"
             ],
             [
              0.1111111111111111,
              "#46039f"
             ],
             [
              0.2222222222222222,
              "#7201a8"
             ],
             [
              0.3333333333333333,
              "#9c179e"
             ],
             [
              0.4444444444444444,
              "#bd3786"
             ],
             [
              0.5555555555555556,
              "#d8576b"
             ],
             [
              0.6666666666666666,
              "#ed7953"
             ],
             [
              0.7777777777777778,
              "#fb9f3a"
             ],
             [
              0.8888888888888888,
              "#fdca26"
             ],
             [
              1,
              "#f0f921"
             ]
            ],
            "type": "heatmap"
           }
          ],
          "heatmapgl": [
           {
            "colorbar": {
             "outlinewidth": 0,
             "ticks": ""
            },
            "colorscale": [
             [
              0,
              "#0d0887"
             ],
             [
              0.1111111111111111,
              "#46039f"
             ],
             [
              0.2222222222222222,
              "#7201a8"
             ],
             [
              0.3333333333333333,
              "#9c179e"
             ],
             [
              0.4444444444444444,
              "#bd3786"
             ],
             [
              0.5555555555555556,
              "#d8576b"
             ],
             [
              0.6666666666666666,
              "#ed7953"
             ],
             [
              0.7777777777777778,
              "#fb9f3a"
             ],
             [
              0.8888888888888888,
              "#fdca26"
             ],
             [
              1,
              "#f0f921"
             ]
            ],
            "type": "heatmapgl"
           }
          ],
          "histogram": [
           {
            "marker": {
             "pattern": {
              "fillmode": "overlay",
              "size": 10,
              "solidity": 0.2
             }
            },
            "type": "histogram"
           }
          ],
          "histogram2d": [
           {
            "colorbar": {
             "outlinewidth": 0,
             "ticks": ""
            },
            "colorscale": [
             [
              0,
              "#0d0887"
             ],
             [
              0.1111111111111111,
              "#46039f"
             ],
             [
              0.2222222222222222,
              "#7201a8"
             ],
             [
              0.3333333333333333,
              "#9c179e"
             ],
             [
              0.4444444444444444,
              "#bd3786"
             ],
             [
              0.5555555555555556,
              "#d8576b"
             ],
             [
              0.6666666666666666,
              "#ed7953"
             ],
             [
              0.7777777777777778,
              "#fb9f3a"
             ],
             [
              0.8888888888888888,
              "#fdca26"
             ],
             [
              1,
              "#f0f921"
             ]
            ],
            "type": "histogram2d"
           }
          ],
          "histogram2dcontour": [
           {
            "colorbar": {
             "outlinewidth": 0,
             "ticks": ""
            },
            "colorscale": [
             [
              0,
              "#0d0887"
             ],
             [
              0.1111111111111111,
              "#46039f"
             ],
             [
              0.2222222222222222,
              "#7201a8"
             ],
             [
              0.3333333333333333,
              "#9c179e"
             ],
             [
              0.4444444444444444,
              "#bd3786"
             ],
             [
              0.5555555555555556,
              "#d8576b"
             ],
             [
              0.6666666666666666,
              "#ed7953"
             ],
             [
              0.7777777777777778,
              "#fb9f3a"
             ],
             [
              0.8888888888888888,
              "#fdca26"
             ],
             [
              1,
              "#f0f921"
             ]
            ],
            "type": "histogram2dcontour"
           }
          ],
          "mesh3d": [
           {
            "colorbar": {
             "outlinewidth": 0,
             "ticks": ""
            },
            "type": "mesh3d"
           }
          ],
          "parcoords": [
           {
            "line": {
             "colorbar": {
              "outlinewidth": 0,
              "ticks": ""
             }
            },
            "type": "parcoords"
           }
          ],
          "pie": [
           {
            "automargin": true,
            "type": "pie"
           }
          ],
          "scatter": [
           {
            "fillpattern": {
             "fillmode": "overlay",
             "size": 10,
             "solidity": 0.2
            },
            "type": "scatter"
           }
          ],
          "scatter3d": [
           {
            "line": {
             "colorbar": {
              "outlinewidth": 0,
              "ticks": ""
             }
            },
            "marker": {
             "colorbar": {
              "outlinewidth": 0,
              "ticks": ""
             }
            },
            "type": "scatter3d"
           }
          ],
          "scattercarpet": [
           {
            "marker": {
             "colorbar": {
              "outlinewidth": 0,
              "ticks": ""
             }
            },
            "type": "scattercarpet"
           }
          ],
          "scattergeo": [
           {
            "marker": {
             "colorbar": {
              "outlinewidth": 0,
              "ticks": ""
             }
            },
            "type": "scattergeo"
           }
          ],
          "scattergl": [
           {
            "marker": {
             "colorbar": {
              "outlinewidth": 0,
              "ticks": ""
             }
            },
            "type": "scattergl"
           }
          ],
          "scattermapbox": [
           {
            "marker": {
             "colorbar": {
              "outlinewidth": 0,
              "ticks": ""
             }
            },
            "type": "scattermapbox"
           }
          ],
          "scatterpolar": [
           {
            "marker": {
             "colorbar": {
              "outlinewidth": 0,
              "ticks": ""
             }
            },
            "type": "scatterpolar"
           }
          ],
          "scatterpolargl": [
           {
            "marker": {
             "colorbar": {
              "outlinewidth": 0,
              "ticks": ""
             }
            },
            "type": "scatterpolargl"
           }
          ],
          "scatterternary": [
           {
            "marker": {
             "colorbar": {
              "outlinewidth": 0,
              "ticks": ""
             }
            },
            "type": "scatterternary"
           }
          ],
          "surface": [
           {
            "colorbar": {
             "outlinewidth": 0,
             "ticks": ""
            },
            "colorscale": [
             [
              0,
              "#0d0887"
             ],
             [
              0.1111111111111111,
              "#46039f"
             ],
             [
              0.2222222222222222,
              "#7201a8"
             ],
             [
              0.3333333333333333,
              "#9c179e"
             ],
             [
              0.4444444444444444,
              "#bd3786"
             ],
             [
              0.5555555555555556,
              "#d8576b"
             ],
             [
              0.6666666666666666,
              "#ed7953"
             ],
             [
              0.7777777777777778,
              "#fb9f3a"
             ],
             [
              0.8888888888888888,
              "#fdca26"
             ],
             [
              1,
              "#f0f921"
             ]
            ],
            "type": "surface"
           }
          ],
          "table": [
           {
            "cells": {
             "fill": {
              "color": "#EBF0F8"
             },
             "line": {
              "color": "white"
             }
            },
            "header": {
             "fill": {
              "color": "#C8D4E3"
             },
             "line": {
              "color": "white"
             }
            },
            "type": "table"
           }
          ]
         },
         "layout": {
          "annotationdefaults": {
           "arrowcolor": "#2a3f5f",
           "arrowhead": 0,
           "arrowwidth": 1
          },
          "autotypenumbers": "strict",
          "coloraxis": {
           "colorbar": {
            "outlinewidth": 0,
            "ticks": ""
           }
          },
          "colorscale": {
           "diverging": [
            [
             0,
             "#8e0152"
            ],
            [
             0.1,
             "#c51b7d"
            ],
            [
             0.2,
             "#de77ae"
            ],
            [
             0.3,
             "#f1b6da"
            ],
            [
             0.4,
             "#fde0ef"
            ],
            [
             0.5,
             "#f7f7f7"
            ],
            [
             0.6,
             "#e6f5d0"
            ],
            [
             0.7,
             "#b8e186"
            ],
            [
             0.8,
             "#7fbc41"
            ],
            [
             0.9,
             "#4d9221"
            ],
            [
             1,
             "#276419"
            ]
           ],
           "sequential": [
            [
             0,
             "#0d0887"
            ],
            [
             0.1111111111111111,
             "#46039f"
            ],
            [
             0.2222222222222222,
             "#7201a8"
            ],
            [
             0.3333333333333333,
             "#9c179e"
            ],
            [
             0.4444444444444444,
             "#bd3786"
            ],
            [
             0.5555555555555556,
             "#d8576b"
            ],
            [
             0.6666666666666666,
             "#ed7953"
            ],
            [
             0.7777777777777778,
             "#fb9f3a"
            ],
            [
             0.8888888888888888,
             "#fdca26"
            ],
            [
             1,
             "#f0f921"
            ]
           ],
           "sequentialminus": [
            [
             0,
             "#0d0887"
            ],
            [
             0.1111111111111111,
             "#46039f"
            ],
            [
             0.2222222222222222,
             "#7201a8"
            ],
            [
             0.3333333333333333,
             "#9c179e"
            ],
            [
             0.4444444444444444,
             "#bd3786"
            ],
            [
             0.5555555555555556,
             "#d8576b"
            ],
            [
             0.6666666666666666,
             "#ed7953"
            ],
            [
             0.7777777777777778,
             "#fb9f3a"
            ],
            [
             0.8888888888888888,
             "#fdca26"
            ],
            [
             1,
             "#f0f921"
            ]
           ]
          },
          "colorway": [
           "#636efa",
           "#EF553B",
           "#00cc96",
           "#ab63fa",
           "#FFA15A",
           "#19d3f3",
           "#FF6692",
           "#B6E880",
           "#FF97FF",
           "#FECB52"
          ],
          "font": {
           "color": "#2a3f5f"
          },
          "geo": {
           "bgcolor": "white",
           "lakecolor": "white",
           "landcolor": "#E5ECF6",
           "showlakes": true,
           "showland": true,
           "subunitcolor": "white"
          },
          "hoverlabel": {
           "align": "left"
          },
          "hovermode": "closest",
          "mapbox": {
           "style": "light"
          },
          "paper_bgcolor": "white",
          "plot_bgcolor": "#E5ECF6",
          "polar": {
           "angularaxis": {
            "gridcolor": "white",
            "linecolor": "white",
            "ticks": ""
           },
           "bgcolor": "#E5ECF6",
           "radialaxis": {
            "gridcolor": "white",
            "linecolor": "white",
            "ticks": ""
           }
          },
          "scene": {
           "xaxis": {
            "backgroundcolor": "#E5ECF6",
            "gridcolor": "white",
            "gridwidth": 2,
            "linecolor": "white",
            "showbackground": true,
            "ticks": "",
            "zerolinecolor": "white"
           },
           "yaxis": {
            "backgroundcolor": "#E5ECF6",
            "gridcolor": "white",
            "gridwidth": 2,
            "linecolor": "white",
            "showbackground": true,
            "ticks": "",
            "zerolinecolor": "white"
           },
           "zaxis": {
            "backgroundcolor": "#E5ECF6",
            "gridcolor": "white",
            "gridwidth": 2,
            "linecolor": "white",
            "showbackground": true,
            "ticks": "",
            "zerolinecolor": "white"
           }
          },
          "shapedefaults": {
           "line": {
            "color": "#2a3f5f"
           }
          },
          "ternary": {
           "aaxis": {
            "gridcolor": "white",
            "linecolor": "white",
            "ticks": ""
           },
           "baxis": {
            "gridcolor": "white",
            "linecolor": "white",
            "ticks": ""
           },
           "bgcolor": "#E5ECF6",
           "caxis": {
            "gridcolor": "white",
            "linecolor": "white",
            "ticks": ""
           }
          },
          "title": {
           "x": 0.05
          },
          "xaxis": {
           "automargin": true,
           "gridcolor": "white",
           "linecolor": "white",
           "ticks": "",
           "title": {
            "standoff": 15
           },
           "zerolinecolor": "white",
           "zerolinewidth": 2
          },
          "yaxis": {
           "automargin": true,
           "gridcolor": "white",
           "linecolor": "white",
           "ticks": "",
           "title": {
            "standoff": 15
           },
           "zerolinecolor": "white",
           "zerolinewidth": 2
          }
         }
        },
        "title": {
         "text": "Box Plot Sample from a Normal Distribution"
        },
        "width": 800
       }
      }
     },
     "metadata": {},
     "output_type": "display_data"
    }
   ],
   "source": [
    "fig = go.Figure()\n",
    "\n",
    "for l in df['Label'].unique():\n",
    "    subdata = df[df.Label==l]\n",
    "    \n",
    "    fig.add_trace(go.Box(x=subdata[\"Data\"], \n",
    "                        notched=True, \n",
    "                        boxpoints=\"all\",\n",
    "                        name=l\n",
    "                        ))\n",
    "fig.update_layout(title='Box Plot Sample from a Normal Distribution', \n",
    "                  height = 500, width = 800,)"
   ]
  },
  {
   "cell_type": "markdown",
   "metadata": {},
   "source": [
    "2. Customise the colors using a list of colors and zipping this into the `for` loop which adds the traces"
   ]
  },
  {
   "cell_type": "code",
   "execution_count": 14,
   "metadata": {},
   "outputs": [
    {
     "data": {
      "application/vnd.plotly.v1+json": {
       "config": {
        "plotlyServerURL": "https://plot.ly"
       },
       "data": [
        {
         "boxpoints": "all",
         "marker": {
          "color": "teal"
         },
         "name": "Normal",
         "notched": true,
         "type": "box",
         "x": [
          -1.689336888453517,
          0.13776912596710247,
          1.1675091952590086,
          -0.7607604876302595,
          -0.6414780667145364,
          0.11477170637140893,
          1.9360016071063202,
          0.4335911086990883,
          -1.9939155637111687,
          0.05896021833051035,
          -0.1435860575122745,
          0.24395341270042556,
          0.7713106604048846,
          -2.473275307771809,
          0.11524284105619857,
          -2.200433888196964,
          -1.6166907263749857,
          -0.6570572327193407,
          0.0537983253306413,
          0.5713657463706605,
          -0.18129027059678798,
          0.430004557081076,
          1.6863812103799642,
          -0.6205237181163857,
          -1.378790952224102,
          -0.9560630562428023,
          0.7628953284442226,
          0.39728720166579823,
          -0.026977581814568462,
          -0.4775048077061331,
          -1.1220589139421688,
          -0.22818375928584564,
          -0.3726175003152722,
          0.40313929253122527,
          0.5456734426890402,
          0.5740447442738711,
          -2.237131128094541,
          0.4058095789096909,
          -0.057463031685277874,
          -0.12273862477813806,
          -2.307293811068429,
          0.06316488302106166,
          -0.7977993774509309,
          1.0363486351237172,
          1.8041182975160668,
          0.17306927422672233,
          -1.9214220031912495,
          0.23758276050622623,
          0.9522895107253445,
          0.7730070354998442,
          -0.29185508575737557,
          -1.5922511892721602,
          0.4844679481630889,
          -0.06886905558166533,
          -0.46890257964383103,
          0.468215986441292,
          -0.6170960484980602,
          0.35740225773385476,
          2.678687336946146,
          -1.031897653891675,
          0.42059595579664977,
          -0.43000647046019064,
          1.0319300779441793,
          0.4766188701301545,
          -2.4711327874864324,
          1.2171002747332798,
          1.1214780257098982,
          -1.2894650045211846,
          0.6653483531204847,
          0.9412819082345588,
          0.1614052968972017,
          -0.3451756071894113,
          1.1770428422416965,
          -0.9742353816864837,
          -0.36361931689461524,
          0.6412601937102383,
          1.6336644480044498,
          -0.6105004553744235,
          0.8152381839368957,
          -1.4288834184504773,
          0.44993084750598256,
          -0.7973688855485472,
          0.298340729784743,
          0.6074625171636029,
          -0.8301357035946288,
          -0.9034214419117117,
          -0.8798883621524541,
          0.4478482378005054,
          -0.3178034758313932,
          -0.11442334802179989,
          0.6625132412809478,
          0.11846246100215997,
          0.18726296072824145,
          -1.4163690578591572,
          -0.20504665253924703,
          -2.2520376076911903,
          -0.05149414351210116,
          -1.5439331507530487,
          -0.06701365016551912,
          1.057640785433957,
          0.05051365860776818,
          -0.3385267509147933,
          -1.7393596031683598,
          0.7760699180500408,
          1.4100114849001115,
          0.36738177670275723,
          0.7532249188234077,
          0.6276018174355962,
          0.3084812185167463,
          0.6754928369679085,
          -1.1003844369332827,
          0.14729148213127272,
          0.5803514316347554,
          -0.29784955145488823,
          0.903863427955898,
          1.080587909957928,
          -0.4760227808352415,
          -0.04425766076960422,
          0.06407344314800589,
          1.7262991655278872,
          -0.7605645076940213,
          0.7501785800543226,
          2.2182736935156284,
          -1.6769460826631943,
          -0.3969448008047011,
          -1.3385344020686465,
          1.9544731588727946,
          -0.1551787757725781,
          1.3706387591958122,
          1.0664504418332685,
          2.070083516538236,
          0.30840679379006686,
          0.5722331963172448,
          -0.1184287747459889,
          1.5264083447942185,
          0.9552146967566378,
          2.907381016549022,
          -0.04604202665734912,
          -0.5392618060603058,
          -1.0390014688221254,
          0.30044226187520795,
          -0.21053928413341894,
          2.7511366194329496,
          -0.28991441780949,
          2.261218036942313,
          -0.34766208037509183,
          -0.946703342006612,
          1.530695289551574,
          0.43387341147071556,
          -1.826544419107924,
          0.45677164528533054,
          -3.262154037479641,
          1.681917086418654,
          0.8169584882865069,
          -0.6073077104882263,
          -0.8914302540640905,
          -0.34814387409244735,
          -2.0811104094261728,
          0.16734218277132235,
          -0.9255167265691057,
          -0.15875968211489994,
          -0.8797187266103919,
          -0.1647272001439247,
          -1.1275673570323832,
          0.12361797224686759,
          -0.17916920363786906,
          -0.8927757138459166,
          -1.5286698179289708,
          0.27901683442676933,
          -1.1501065928276504,
          -1.2590574081380728,
          2.0370575301740974,
          0.48356603559643224,
          -0.491621228013522,
          0.34795437355165393,
          0.438153721287862,
          -1.2896965927423067,
          0.3210749016659769,
          0.5224109665262904,
          -2.7844960789982216,
          0.7382639393366289,
          0.5613682701771886,
          -0.25845818632285256,
          1.4098096719335358,
          -0.006037631103477602,
          0.20994706931352283,
          -0.48823809825368203,
          0.6120515452521044,
          0.9070998849125455,
          -0.5286897311076472,
          -1.5590038470687189,
          -2.094815510021006,
          -0.6131110942605921,
          -2.022790429559516,
          -0.44990968796858244,
          0.9565373696067946,
          -0.580460796755201,
          0.23328415591799653,
          1.6715392188260332,
          0.29645373322690705
         ]
        },
        {
         "boxpoints": "all",
         "marker": {
          "color": "purple"
         },
         "name": "t-Student",
         "notched": true,
         "type": "box",
         "x": [
          1.3296171679800899,
          -0.32897898277654314,
          0.9597493720462663,
          -1.1416536239116077,
          0.4777654532547854,
          0.5385209646059625,
          0.1726330328130127,
          -0.7895551213098313,
          0.43905366975754684,
          -3.410227703467272,
          -0.273116872347728,
          0.860463971477064,
          -0.08386551341275127,
          -0.7323064807477796,
          -1.5895520177367453,
          -1.4915386824641865,
          -0.234839011339704,
          -1.5046376411653366,
          1.0927782855993144,
          -1.051230659815699,
          -1.1224917527417912,
          0.09887262823779777,
          1.873174187440845,
          1.217050170950474,
          0.6186923797864428,
          2.2163720194899157,
          3.9514570953047436,
          -0.8202110866045245,
          -0.9487437014976523,
          -0.17997946278421742,
          -0.15430086842626395,
          1.5382681717842064,
          0.47080712945493924,
          -0.4442944483062053,
          -0.9286387493237,
          1.6727659628187705,
          0.3969293606243659,
          -3.0154961674738643,
          -0.7122284812663532,
          1.4061922773040985,
          -1.1465088858843842,
          1.0669192630599502,
          -1.1126589090825467,
          0.7940525391382822,
          0.5402639315399803,
          -0.14056077435850636,
          2.806591375257195,
          -1.6107444718655985,
          -0.32051882439392,
          -0.21822782281608594,
          0.7457095842997067,
          -1.6347905497391868,
          -0.14144688314378315,
          0.6491854724376415,
          4.533853989743498,
          -0.011406055295251766,
          0.5773063063163685,
          0.7253567788284269,
          -0.8939373665390783,
          -0.10077552522855715,
          -0.27858372621245253,
          -0.02433421308262017,
          0.2549779198622396,
          -0.659041141657982,
          0.9617193745897314,
          0.9826243637502594,
          -1.9910319466725697,
          -2.4766298072578574,
          0.10489098061224233,
          -0.7656939672804003,
          1.316305285773601,
          0.38540824576643173,
          0.00414810214387028,
          -0.07698091894893482,
          -0.8368358324234044,
          0.7559024388002632,
          -1.433457539817932,
          -0.8642632809939191,
          -1.7123547942637962,
          0.2683611369093511,
          -3.6775813836187647,
          -1.486260741717948,
          -0.5143686484444054,
          0.0731138896797696,
          -0.5383289954572272,
          -0.2216311056628057,
          -1.1486958348477005,
          3.1186420231599623,
          0.2873088644734004,
          0.6573180038362226,
          1.7727094342546734,
          1.9894353888993404,
          0.6890681081093167,
          1.9934595066819252,
          2.828323002695493,
          -0.5538494208203962,
          0.008858672085565114,
          1.5012053005454427,
          -0.12466798232455624,
          -0.7900112682790705,
          -0.5817288857875356,
          -0.27734802860059343,
          -2.1235891966928593,
          0.047964748148095,
          0.48834855629152263,
          0.9192223418363958,
          -0.6206563910770353,
          -0.177555384164008,
          0.19190465605540236,
          -0.7089562031414267,
          0.37641344603617694,
          0.005476536455913488,
          -0.8540455323243363,
          0.868229050008538,
          -0.21358684568860697,
          -1.9771003881592217,
          -2.9169395463031833,
          2.5645719759785286,
          1.2695602468725051,
          1.8673156646447655,
          1.4785213104679666,
          -0.8590276993700084,
          -0.3059456522682964,
          0.7952994279543194,
          -3.3045159313296764,
          2.3237444340619433,
          -0.01640972914427589,
          -0.04307939388800091,
          -1.8107942815328977,
          -0.5700331815605205,
          -0.7079387137651683,
          1.2472459068974564,
          0.9699584961244075,
          -0.15840975429441287,
          -3.3328197750920467,
          -0.11801562140412176,
          -0.014095974933285469,
          -0.01711814690866443,
          0.5915238437228837,
          -0.16846417672240585,
          0.3258372606972137,
          -0.21380302170611726,
          -4.2464403958402075,
          -1.364001366192576,
          -0.6714791305153653,
          1.1296559292337045,
          0.5312396179665219,
          -0.31851005691215006,
          1.0154524865431047,
          2.5987598950873587,
          -1.2336713329164881,
          1.830125926957955,
          -5.040436944784364,
          -1.2557825280151713,
          -2.162612258301927,
          -0.2943497503446204,
          -0.5239594992835492,
          0.6994748838771682,
          1.8607922496977358,
          0.03820582587744919,
          0.8536362111155634,
          -1.6874328059539372,
          0.026714406058347132,
          0.44280720480354885,
          0.10550155549911709,
          -0.4404841056644979,
          0.26890470896118246,
          0.19024899621444882,
          -0.9436936479400267,
          -1.87910055600819,
          0.1815738314797129,
          -1.5078467131472664,
          -1.93398986879911,
          -1.1407487783405332,
          0.5741177919407499,
          0.044257291763834194,
          -0.415711716367045,
          6.118389010560933,
          -0.8539045021211132,
          -0.7816938309767884,
          -1.730959992041709,
          1.150940441976179,
          1.16941082581042,
          1.0084872903369209,
          0.06162290922408858,
          -0.3214942194098754,
          0.18539301620366588,
          -1.0130555467761617,
          -0.17785248179229238,
          -2.26110549861858,
          0.35422134221123824,
          -0.310120470029651,
          -0.8745208954753512,
          0.2622957243898324,
          -0.19172953462524142,
          -0.6301569225165788,
          -0.42549998781220855,
          1.1576175492262648,
          1.3864253257602037,
          0.3765846060887998
         ]
        }
       ],
       "layout": {
        "height": 500,
        "template": {
         "data": {
          "bar": [
           {
            "error_x": {
             "color": "#2a3f5f"
            },
            "error_y": {
             "color": "#2a3f5f"
            },
            "marker": {
             "line": {
              "color": "#E5ECF6",
              "width": 0.5
             },
             "pattern": {
              "fillmode": "overlay",
              "size": 10,
              "solidity": 0.2
             }
            },
            "type": "bar"
           }
          ],
          "barpolar": [
           {
            "marker": {
             "line": {
              "color": "#E5ECF6",
              "width": 0.5
             },
             "pattern": {
              "fillmode": "overlay",
              "size": 10,
              "solidity": 0.2
             }
            },
            "type": "barpolar"
           }
          ],
          "carpet": [
           {
            "aaxis": {
             "endlinecolor": "#2a3f5f",
             "gridcolor": "white",
             "linecolor": "white",
             "minorgridcolor": "white",
             "startlinecolor": "#2a3f5f"
            },
            "baxis": {
             "endlinecolor": "#2a3f5f",
             "gridcolor": "white",
             "linecolor": "white",
             "minorgridcolor": "white",
             "startlinecolor": "#2a3f5f"
            },
            "type": "carpet"
           }
          ],
          "choropleth": [
           {
            "colorbar": {
             "outlinewidth": 0,
             "ticks": ""
            },
            "type": "choropleth"
           }
          ],
          "contour": [
           {
            "colorbar": {
             "outlinewidth": 0,
             "ticks": ""
            },
            "colorscale": [
             [
              0,
              "#0d0887"
             ],
             [
              0.1111111111111111,
              "#46039f"
             ],
             [
              0.2222222222222222,
              "#7201a8"
             ],
             [
              0.3333333333333333,
              "#9c179e"
             ],
             [
              0.4444444444444444,
              "#bd3786"
             ],
             [
              0.5555555555555556,
              "#d8576b"
             ],
             [
              0.6666666666666666,
              "#ed7953"
             ],
             [
              0.7777777777777778,
              "#fb9f3a"
             ],
             [
              0.8888888888888888,
              "#fdca26"
             ],
             [
              1,
              "#f0f921"
             ]
            ],
            "type": "contour"
           }
          ],
          "contourcarpet": [
           {
            "colorbar": {
             "outlinewidth": 0,
             "ticks": ""
            },
            "type": "contourcarpet"
           }
          ],
          "heatmap": [
           {
            "colorbar": {
             "outlinewidth": 0,
             "ticks": ""
            },
            "colorscale": [
             [
              0,
              "#0d0887"
             ],
             [
              0.1111111111111111,
              "#46039f"
             ],
             [
              0.2222222222222222,
              "#7201a8"
             ],
             [
              0.3333333333333333,
              "#9c179e"
             ],
             [
              0.4444444444444444,
              "#bd3786"
             ],
             [
              0.5555555555555556,
              "#d8576b"
             ],
             [
              0.6666666666666666,
              "#ed7953"
             ],
             [
              0.7777777777777778,
              "#fb9f3a"
             ],
             [
              0.8888888888888888,
              "#fdca26"
             ],
             [
              1,
              "#f0f921"
             ]
            ],
            "type": "heatmap"
           }
          ],
          "heatmapgl": [
           {
            "colorbar": {
             "outlinewidth": 0,
             "ticks": ""
            },
            "colorscale": [
             [
              0,
              "#0d0887"
             ],
             [
              0.1111111111111111,
              "#46039f"
             ],
             [
              0.2222222222222222,
              "#7201a8"
             ],
             [
              0.3333333333333333,
              "#9c179e"
             ],
             [
              0.4444444444444444,
              "#bd3786"
             ],
             [
              0.5555555555555556,
              "#d8576b"
             ],
             [
              0.6666666666666666,
              "#ed7953"
             ],
             [
              0.7777777777777778,
              "#fb9f3a"
             ],
             [
              0.8888888888888888,
              "#fdca26"
             ],
             [
              1,
              "#f0f921"
             ]
            ],
            "type": "heatmapgl"
           }
          ],
          "histogram": [
           {
            "marker": {
             "pattern": {
              "fillmode": "overlay",
              "size": 10,
              "solidity": 0.2
             }
            },
            "type": "histogram"
           }
          ],
          "histogram2d": [
           {
            "colorbar": {
             "outlinewidth": 0,
             "ticks": ""
            },
            "colorscale": [
             [
              0,
              "#0d0887"
             ],
             [
              0.1111111111111111,
              "#46039f"
             ],
             [
              0.2222222222222222,
              "#7201a8"
             ],
             [
              0.3333333333333333,
              "#9c179e"
             ],
             [
              0.4444444444444444,
              "#bd3786"
             ],
             [
              0.5555555555555556,
              "#d8576b"
             ],
             [
              0.6666666666666666,
              "#ed7953"
             ],
             [
              0.7777777777777778,
              "#fb9f3a"
             ],
             [
              0.8888888888888888,
              "#fdca26"
             ],
             [
              1,
              "#f0f921"
             ]
            ],
            "type": "histogram2d"
           }
          ],
          "histogram2dcontour": [
           {
            "colorbar": {
             "outlinewidth": 0,
             "ticks": ""
            },
            "colorscale": [
             [
              0,
              "#0d0887"
             ],
             [
              0.1111111111111111,
              "#46039f"
             ],
             [
              0.2222222222222222,
              "#7201a8"
             ],
             [
              0.3333333333333333,
              "#9c179e"
             ],
             [
              0.4444444444444444,
              "#bd3786"
             ],
             [
              0.5555555555555556,
              "#d8576b"
             ],
             [
              0.6666666666666666,
              "#ed7953"
             ],
             [
              0.7777777777777778,
              "#fb9f3a"
             ],
             [
              0.8888888888888888,
              "#fdca26"
             ],
             [
              1,
              "#f0f921"
             ]
            ],
            "type": "histogram2dcontour"
           }
          ],
          "mesh3d": [
           {
            "colorbar": {
             "outlinewidth": 0,
             "ticks": ""
            },
            "type": "mesh3d"
           }
          ],
          "parcoords": [
           {
            "line": {
             "colorbar": {
              "outlinewidth": 0,
              "ticks": ""
             }
            },
            "type": "parcoords"
           }
          ],
          "pie": [
           {
            "automargin": true,
            "type": "pie"
           }
          ],
          "scatter": [
           {
            "fillpattern": {
             "fillmode": "overlay",
             "size": 10,
             "solidity": 0.2
            },
            "type": "scatter"
           }
          ],
          "scatter3d": [
           {
            "line": {
             "colorbar": {
              "outlinewidth": 0,
              "ticks": ""
             }
            },
            "marker": {
             "colorbar": {
              "outlinewidth": 0,
              "ticks": ""
             }
            },
            "type": "scatter3d"
           }
          ],
          "scattercarpet": [
           {
            "marker": {
             "colorbar": {
              "outlinewidth": 0,
              "ticks": ""
             }
            },
            "type": "scattercarpet"
           }
          ],
          "scattergeo": [
           {
            "marker": {
             "colorbar": {
              "outlinewidth": 0,
              "ticks": ""
             }
            },
            "type": "scattergeo"
           }
          ],
          "scattergl": [
           {
            "marker": {
             "colorbar": {
              "outlinewidth": 0,
              "ticks": ""
             }
            },
            "type": "scattergl"
           }
          ],
          "scattermapbox": [
           {
            "marker": {
             "colorbar": {
              "outlinewidth": 0,
              "ticks": ""
             }
            },
            "type": "scattermapbox"
           }
          ],
          "scatterpolar": [
           {
            "marker": {
             "colorbar": {
              "outlinewidth": 0,
              "ticks": ""
             }
            },
            "type": "scatterpolar"
           }
          ],
          "scatterpolargl": [
           {
            "marker": {
             "colorbar": {
              "outlinewidth": 0,
              "ticks": ""
             }
            },
            "type": "scatterpolargl"
           }
          ],
          "scatterternary": [
           {
            "marker": {
             "colorbar": {
              "outlinewidth": 0,
              "ticks": ""
             }
            },
            "type": "scatterternary"
           }
          ],
          "surface": [
           {
            "colorbar": {
             "outlinewidth": 0,
             "ticks": ""
            },
            "colorscale": [
             [
              0,
              "#0d0887"
             ],
             [
              0.1111111111111111,
              "#46039f"
             ],
             [
              0.2222222222222222,
              "#7201a8"
             ],
             [
              0.3333333333333333,
              "#9c179e"
             ],
             [
              0.4444444444444444,
              "#bd3786"
             ],
             [
              0.5555555555555556,
              "#d8576b"
             ],
             [
              0.6666666666666666,
              "#ed7953"
             ],
             [
              0.7777777777777778,
              "#fb9f3a"
             ],
             [
              0.8888888888888888,
              "#fdca26"
             ],
             [
              1,
              "#f0f921"
             ]
            ],
            "type": "surface"
           }
          ],
          "table": [
           {
            "cells": {
             "fill": {
              "color": "#EBF0F8"
             },
             "line": {
              "color": "white"
             }
            },
            "header": {
             "fill": {
              "color": "#C8D4E3"
             },
             "line": {
              "color": "white"
             }
            },
            "type": "table"
           }
          ]
         },
         "layout": {
          "annotationdefaults": {
           "arrowcolor": "#2a3f5f",
           "arrowhead": 0,
           "arrowwidth": 1
          },
          "autotypenumbers": "strict",
          "coloraxis": {
           "colorbar": {
            "outlinewidth": 0,
            "ticks": ""
           }
          },
          "colorscale": {
           "diverging": [
            [
             0,
             "#8e0152"
            ],
            [
             0.1,
             "#c51b7d"
            ],
            [
             0.2,
             "#de77ae"
            ],
            [
             0.3,
             "#f1b6da"
            ],
            [
             0.4,
             "#fde0ef"
            ],
            [
             0.5,
             "#f7f7f7"
            ],
            [
             0.6,
             "#e6f5d0"
            ],
            [
             0.7,
             "#b8e186"
            ],
            [
             0.8,
             "#7fbc41"
            ],
            [
             0.9,
             "#4d9221"
            ],
            [
             1,
             "#276419"
            ]
           ],
           "sequential": [
            [
             0,
             "#0d0887"
            ],
            [
             0.1111111111111111,
             "#46039f"
            ],
            [
             0.2222222222222222,
             "#7201a8"
            ],
            [
             0.3333333333333333,
             "#9c179e"
            ],
            [
             0.4444444444444444,
             "#bd3786"
            ],
            [
             0.5555555555555556,
             "#d8576b"
            ],
            [
             0.6666666666666666,
             "#ed7953"
            ],
            [
             0.7777777777777778,
             "#fb9f3a"
            ],
            [
             0.8888888888888888,
             "#fdca26"
            ],
            [
             1,
             "#f0f921"
            ]
           ],
           "sequentialminus": [
            [
             0,
             "#0d0887"
            ],
            [
             0.1111111111111111,
             "#46039f"
            ],
            [
             0.2222222222222222,
             "#7201a8"
            ],
            [
             0.3333333333333333,
             "#9c179e"
            ],
            [
             0.4444444444444444,
             "#bd3786"
            ],
            [
             0.5555555555555556,
             "#d8576b"
            ],
            [
             0.6666666666666666,
             "#ed7953"
            ],
            [
             0.7777777777777778,
             "#fb9f3a"
            ],
            [
             0.8888888888888888,
             "#fdca26"
            ],
            [
             1,
             "#f0f921"
            ]
           ]
          },
          "colorway": [
           "#636efa",
           "#EF553B",
           "#00cc96",
           "#ab63fa",
           "#FFA15A",
           "#19d3f3",
           "#FF6692",
           "#B6E880",
           "#FF97FF",
           "#FECB52"
          ],
          "font": {
           "color": "#2a3f5f"
          },
          "geo": {
           "bgcolor": "white",
           "lakecolor": "white",
           "landcolor": "#E5ECF6",
           "showlakes": true,
           "showland": true,
           "subunitcolor": "white"
          },
          "hoverlabel": {
           "align": "left"
          },
          "hovermode": "closest",
          "mapbox": {
           "style": "light"
          },
          "paper_bgcolor": "white",
          "plot_bgcolor": "#E5ECF6",
          "polar": {
           "angularaxis": {
            "gridcolor": "white",
            "linecolor": "white",
            "ticks": ""
           },
           "bgcolor": "#E5ECF6",
           "radialaxis": {
            "gridcolor": "white",
            "linecolor": "white",
            "ticks": ""
           }
          },
          "scene": {
           "xaxis": {
            "backgroundcolor": "#E5ECF6",
            "gridcolor": "white",
            "gridwidth": 2,
            "linecolor": "white",
            "showbackground": true,
            "ticks": "",
            "zerolinecolor": "white"
           },
           "yaxis": {
            "backgroundcolor": "#E5ECF6",
            "gridcolor": "white",
            "gridwidth": 2,
            "linecolor": "white",
            "showbackground": true,
            "ticks": "",
            "zerolinecolor": "white"
           },
           "zaxis": {
            "backgroundcolor": "#E5ECF6",
            "gridcolor": "white",
            "gridwidth": 2,
            "linecolor": "white",
            "showbackground": true,
            "ticks": "",
            "zerolinecolor": "white"
           }
          },
          "shapedefaults": {
           "line": {
            "color": "#2a3f5f"
           }
          },
          "ternary": {
           "aaxis": {
            "gridcolor": "white",
            "linecolor": "white",
            "ticks": ""
           },
           "baxis": {
            "gridcolor": "white",
            "linecolor": "white",
            "ticks": ""
           },
           "bgcolor": "#E5ECF6",
           "caxis": {
            "gridcolor": "white",
            "linecolor": "white",
            "ticks": ""
           }
          },
          "title": {
           "x": 0.05
          },
          "xaxis": {
           "automargin": true,
           "gridcolor": "white",
           "linecolor": "white",
           "ticks": "",
           "title": {
            "standoff": 15
           },
           "zerolinecolor": "white",
           "zerolinewidth": 2
          },
          "yaxis": {
           "automargin": true,
           "gridcolor": "white",
           "linecolor": "white",
           "ticks": "",
           "title": {
            "standoff": 15
           },
           "zerolinecolor": "white",
           "zerolinewidth": 2
          }
         }
        },
        "title": {
         "text": "Box Plot Sample from a Normal Distribution"
        },
        "width": 800
       }
      }
     },
     "metadata": {},
     "output_type": "display_data"
    }
   ],
   "source": [
    "fig = go.Figure()\n",
    "\n",
    "colors = ['teal', 'purple']\n",
    "for l, cl in zip(df['Label'].unique(), colors):\n",
    "    subdata = df[df.Label==l]\n",
    "    \n",
    "    fig.add_trace(go.Box(x=subdata[\"Data\"], \n",
    "                        notched=True, \n",
    "                        boxpoints=\"all\",\n",
    "                        name=l,\n",
    "                        marker_color=cl, \n",
    "                        ))\n",
    "fig.update_layout(title='Box Plot Sample from a Normal Distribution', \n",
    "                  height = 500, width = 800,)"
   ]
  },
  {
   "cell_type": "markdown",
   "metadata": {},
   "source": []
  },
  {
   "cell_type": "code",
   "execution_count": 15,
   "metadata": {},
   "outputs": [
    {
     "data": {
      "application/vnd.plotly.v1+json": {
       "config": {
        "plotlyServerURL": "https://plot.ly"
       },
       "data": [
        {
         "boxpoints": "all",
         "jitter": 0.5,
         "marker": {
          "color": "teal"
         },
         "name": "Normal",
         "notched": true,
         "pointpos": 0,
         "type": "box",
         "x": [
          -1.689336888453517,
          0.13776912596710247,
          1.1675091952590086,
          -0.7607604876302595,
          -0.6414780667145364,
          0.11477170637140893,
          1.9360016071063202,
          0.4335911086990883,
          -1.9939155637111687,
          0.05896021833051035,
          -0.1435860575122745,
          0.24395341270042556,
          0.7713106604048846,
          -2.473275307771809,
          0.11524284105619857,
          -2.200433888196964,
          -1.6166907263749857,
          -0.6570572327193407,
          0.0537983253306413,
          0.5713657463706605,
          -0.18129027059678798,
          0.430004557081076,
          1.6863812103799642,
          -0.6205237181163857,
          -1.378790952224102,
          -0.9560630562428023,
          0.7628953284442226,
          0.39728720166579823,
          -0.026977581814568462,
          -0.4775048077061331,
          -1.1220589139421688,
          -0.22818375928584564,
          -0.3726175003152722,
          0.40313929253122527,
          0.5456734426890402,
          0.5740447442738711,
          -2.237131128094541,
          0.4058095789096909,
          -0.057463031685277874,
          -0.12273862477813806,
          -2.307293811068429,
          0.06316488302106166,
          -0.7977993774509309,
          1.0363486351237172,
          1.8041182975160668,
          0.17306927422672233,
          -1.9214220031912495,
          0.23758276050622623,
          0.9522895107253445,
          0.7730070354998442,
          -0.29185508575737557,
          -1.5922511892721602,
          0.4844679481630889,
          -0.06886905558166533,
          -0.46890257964383103,
          0.468215986441292,
          -0.6170960484980602,
          0.35740225773385476,
          2.678687336946146,
          -1.031897653891675,
          0.42059595579664977,
          -0.43000647046019064,
          1.0319300779441793,
          0.4766188701301545,
          -2.4711327874864324,
          1.2171002747332798,
          1.1214780257098982,
          -1.2894650045211846,
          0.6653483531204847,
          0.9412819082345588,
          0.1614052968972017,
          -0.3451756071894113,
          1.1770428422416965,
          -0.9742353816864837,
          -0.36361931689461524,
          0.6412601937102383,
          1.6336644480044498,
          -0.6105004553744235,
          0.8152381839368957,
          -1.4288834184504773,
          0.44993084750598256,
          -0.7973688855485472,
          0.298340729784743,
          0.6074625171636029,
          -0.8301357035946288,
          -0.9034214419117117,
          -0.8798883621524541,
          0.4478482378005054,
          -0.3178034758313932,
          -0.11442334802179989,
          0.6625132412809478,
          0.11846246100215997,
          0.18726296072824145,
          -1.4163690578591572,
          -0.20504665253924703,
          -2.2520376076911903,
          -0.05149414351210116,
          -1.5439331507530487,
          -0.06701365016551912,
          1.057640785433957,
          0.05051365860776818,
          -0.3385267509147933,
          -1.7393596031683598,
          0.7760699180500408,
          1.4100114849001115,
          0.36738177670275723,
          0.7532249188234077,
          0.6276018174355962,
          0.3084812185167463,
          0.6754928369679085,
          -1.1003844369332827,
          0.14729148213127272,
          0.5803514316347554,
          -0.29784955145488823,
          0.903863427955898,
          1.080587909957928,
          -0.4760227808352415,
          -0.04425766076960422,
          0.06407344314800589,
          1.7262991655278872,
          -0.7605645076940213,
          0.7501785800543226,
          2.2182736935156284,
          -1.6769460826631943,
          -0.3969448008047011,
          -1.3385344020686465,
          1.9544731588727946,
          -0.1551787757725781,
          1.3706387591958122,
          1.0664504418332685,
          2.070083516538236,
          0.30840679379006686,
          0.5722331963172448,
          -0.1184287747459889,
          1.5264083447942185,
          0.9552146967566378,
          2.907381016549022,
          -0.04604202665734912,
          -0.5392618060603058,
          -1.0390014688221254,
          0.30044226187520795,
          -0.21053928413341894,
          2.7511366194329496,
          -0.28991441780949,
          2.261218036942313,
          -0.34766208037509183,
          -0.946703342006612,
          1.530695289551574,
          0.43387341147071556,
          -1.826544419107924,
          0.45677164528533054,
          -3.262154037479641,
          1.681917086418654,
          0.8169584882865069,
          -0.6073077104882263,
          -0.8914302540640905,
          -0.34814387409244735,
          -2.0811104094261728,
          0.16734218277132235,
          -0.9255167265691057,
          -0.15875968211489994,
          -0.8797187266103919,
          -0.1647272001439247,
          -1.1275673570323832,
          0.12361797224686759,
          -0.17916920363786906,
          -0.8927757138459166,
          -1.5286698179289708,
          0.27901683442676933,
          -1.1501065928276504,
          -1.2590574081380728,
          2.0370575301740974,
          0.48356603559643224,
          -0.491621228013522,
          0.34795437355165393,
          0.438153721287862,
          -1.2896965927423067,
          0.3210749016659769,
          0.5224109665262904,
          -2.7844960789982216,
          0.7382639393366289,
          0.5613682701771886,
          -0.25845818632285256,
          1.4098096719335358,
          -0.006037631103477602,
          0.20994706931352283,
          -0.48823809825368203,
          0.6120515452521044,
          0.9070998849125455,
          -0.5286897311076472,
          -1.5590038470687189,
          -2.094815510021006,
          -0.6131110942605921,
          -2.022790429559516,
          -0.44990968796858244,
          0.9565373696067946,
          -0.580460796755201,
          0.23328415591799653,
          1.6715392188260332,
          0.29645373322690705
         ]
        },
        {
         "boxpoints": "all",
         "jitter": 0.5,
         "marker": {
          "color": "purple"
         },
         "name": "t-Student",
         "notched": true,
         "pointpos": 0,
         "type": "box",
         "x": [
          1.3296171679800899,
          -0.32897898277654314,
          0.9597493720462663,
          -1.1416536239116077,
          0.4777654532547854,
          0.5385209646059625,
          0.1726330328130127,
          -0.7895551213098313,
          0.43905366975754684,
          -3.410227703467272,
          -0.273116872347728,
          0.860463971477064,
          -0.08386551341275127,
          -0.7323064807477796,
          -1.5895520177367453,
          -1.4915386824641865,
          -0.234839011339704,
          -1.5046376411653366,
          1.0927782855993144,
          -1.051230659815699,
          -1.1224917527417912,
          0.09887262823779777,
          1.873174187440845,
          1.217050170950474,
          0.6186923797864428,
          2.2163720194899157,
          3.9514570953047436,
          -0.8202110866045245,
          -0.9487437014976523,
          -0.17997946278421742,
          -0.15430086842626395,
          1.5382681717842064,
          0.47080712945493924,
          -0.4442944483062053,
          -0.9286387493237,
          1.6727659628187705,
          0.3969293606243659,
          -3.0154961674738643,
          -0.7122284812663532,
          1.4061922773040985,
          -1.1465088858843842,
          1.0669192630599502,
          -1.1126589090825467,
          0.7940525391382822,
          0.5402639315399803,
          -0.14056077435850636,
          2.806591375257195,
          -1.6107444718655985,
          -0.32051882439392,
          -0.21822782281608594,
          0.7457095842997067,
          -1.6347905497391868,
          -0.14144688314378315,
          0.6491854724376415,
          4.533853989743498,
          -0.011406055295251766,
          0.5773063063163685,
          0.7253567788284269,
          -0.8939373665390783,
          -0.10077552522855715,
          -0.27858372621245253,
          -0.02433421308262017,
          0.2549779198622396,
          -0.659041141657982,
          0.9617193745897314,
          0.9826243637502594,
          -1.9910319466725697,
          -2.4766298072578574,
          0.10489098061224233,
          -0.7656939672804003,
          1.316305285773601,
          0.38540824576643173,
          0.00414810214387028,
          -0.07698091894893482,
          -0.8368358324234044,
          0.7559024388002632,
          -1.433457539817932,
          -0.8642632809939191,
          -1.7123547942637962,
          0.2683611369093511,
          -3.6775813836187647,
          -1.486260741717948,
          -0.5143686484444054,
          0.0731138896797696,
          -0.5383289954572272,
          -0.2216311056628057,
          -1.1486958348477005,
          3.1186420231599623,
          0.2873088644734004,
          0.6573180038362226,
          1.7727094342546734,
          1.9894353888993404,
          0.6890681081093167,
          1.9934595066819252,
          2.828323002695493,
          -0.5538494208203962,
          0.008858672085565114,
          1.5012053005454427,
          -0.12466798232455624,
          -0.7900112682790705,
          -0.5817288857875356,
          -0.27734802860059343,
          -2.1235891966928593,
          0.047964748148095,
          0.48834855629152263,
          0.9192223418363958,
          -0.6206563910770353,
          -0.177555384164008,
          0.19190465605540236,
          -0.7089562031414267,
          0.37641344603617694,
          0.005476536455913488,
          -0.8540455323243363,
          0.868229050008538,
          -0.21358684568860697,
          -1.9771003881592217,
          -2.9169395463031833,
          2.5645719759785286,
          1.2695602468725051,
          1.8673156646447655,
          1.4785213104679666,
          -0.8590276993700084,
          -0.3059456522682964,
          0.7952994279543194,
          -3.3045159313296764,
          2.3237444340619433,
          -0.01640972914427589,
          -0.04307939388800091,
          -1.8107942815328977,
          -0.5700331815605205,
          -0.7079387137651683,
          1.2472459068974564,
          0.9699584961244075,
          -0.15840975429441287,
          -3.3328197750920467,
          -0.11801562140412176,
          -0.014095974933285469,
          -0.01711814690866443,
          0.5915238437228837,
          -0.16846417672240585,
          0.3258372606972137,
          -0.21380302170611726,
          -4.2464403958402075,
          -1.364001366192576,
          -0.6714791305153653,
          1.1296559292337045,
          0.5312396179665219,
          -0.31851005691215006,
          1.0154524865431047,
          2.5987598950873587,
          -1.2336713329164881,
          1.830125926957955,
          -5.040436944784364,
          -1.2557825280151713,
          -2.162612258301927,
          -0.2943497503446204,
          -0.5239594992835492,
          0.6994748838771682,
          1.8607922496977358,
          0.03820582587744919,
          0.8536362111155634,
          -1.6874328059539372,
          0.026714406058347132,
          0.44280720480354885,
          0.10550155549911709,
          -0.4404841056644979,
          0.26890470896118246,
          0.19024899621444882,
          -0.9436936479400267,
          -1.87910055600819,
          0.1815738314797129,
          -1.5078467131472664,
          -1.93398986879911,
          -1.1407487783405332,
          0.5741177919407499,
          0.044257291763834194,
          -0.415711716367045,
          6.118389010560933,
          -0.8539045021211132,
          -0.7816938309767884,
          -1.730959992041709,
          1.150940441976179,
          1.16941082581042,
          1.0084872903369209,
          0.06162290922408858,
          -0.3214942194098754,
          0.18539301620366588,
          -1.0130555467761617,
          -0.17785248179229238,
          -2.26110549861858,
          0.35422134221123824,
          -0.310120470029651,
          -0.8745208954753512,
          0.2622957243898324,
          -0.19172953462524142,
          -0.6301569225165788,
          -0.42549998781220855,
          1.1576175492262648,
          1.3864253257602037,
          0.3765846060887998
         ]
        }
       ],
       "layout": {
        "height": 500,
        "template": {
         "data": {
          "bar": [
           {
            "error_x": {
             "color": "#2a3f5f"
            },
            "error_y": {
             "color": "#2a3f5f"
            },
            "marker": {
             "line": {
              "color": "#E5ECF6",
              "width": 0.5
             },
             "pattern": {
              "fillmode": "overlay",
              "size": 10,
              "solidity": 0.2
             }
            },
            "type": "bar"
           }
          ],
          "barpolar": [
           {
            "marker": {
             "line": {
              "color": "#E5ECF6",
              "width": 0.5
             },
             "pattern": {
              "fillmode": "overlay",
              "size": 10,
              "solidity": 0.2
             }
            },
            "type": "barpolar"
           }
          ],
          "carpet": [
           {
            "aaxis": {
             "endlinecolor": "#2a3f5f",
             "gridcolor": "white",
             "linecolor": "white",
             "minorgridcolor": "white",
             "startlinecolor": "#2a3f5f"
            },
            "baxis": {
             "endlinecolor": "#2a3f5f",
             "gridcolor": "white",
             "linecolor": "white",
             "minorgridcolor": "white",
             "startlinecolor": "#2a3f5f"
            },
            "type": "carpet"
           }
          ],
          "choropleth": [
           {
            "colorbar": {
             "outlinewidth": 0,
             "ticks": ""
            },
            "type": "choropleth"
           }
          ],
          "contour": [
           {
            "colorbar": {
             "outlinewidth": 0,
             "ticks": ""
            },
            "colorscale": [
             [
              0,
              "#0d0887"
             ],
             [
              0.1111111111111111,
              "#46039f"
             ],
             [
              0.2222222222222222,
              "#7201a8"
             ],
             [
              0.3333333333333333,
              "#9c179e"
             ],
             [
              0.4444444444444444,
              "#bd3786"
             ],
             [
              0.5555555555555556,
              "#d8576b"
             ],
             [
              0.6666666666666666,
              "#ed7953"
             ],
             [
              0.7777777777777778,
              "#fb9f3a"
             ],
             [
              0.8888888888888888,
              "#fdca26"
             ],
             [
              1,
              "#f0f921"
             ]
            ],
            "type": "contour"
           }
          ],
          "contourcarpet": [
           {
            "colorbar": {
             "outlinewidth": 0,
             "ticks": ""
            },
            "type": "contourcarpet"
           }
          ],
          "heatmap": [
           {
            "colorbar": {
             "outlinewidth": 0,
             "ticks": ""
            },
            "colorscale": [
             [
              0,
              "#0d0887"
             ],
             [
              0.1111111111111111,
              "#46039f"
             ],
             [
              0.2222222222222222,
              "#7201a8"
             ],
             [
              0.3333333333333333,
              "#9c179e"
             ],
             [
              0.4444444444444444,
              "#bd3786"
             ],
             [
              0.5555555555555556,
              "#d8576b"
             ],
             [
              0.6666666666666666,
              "#ed7953"
             ],
             [
              0.7777777777777778,
              "#fb9f3a"
             ],
             [
              0.8888888888888888,
              "#fdca26"
             ],
             [
              1,
              "#f0f921"
             ]
            ],
            "type": "heatmap"
           }
          ],
          "heatmapgl": [
           {
            "colorbar": {
             "outlinewidth": 0,
             "ticks": ""
            },
            "colorscale": [
             [
              0,
              "#0d0887"
             ],
             [
              0.1111111111111111,
              "#46039f"
             ],
             [
              0.2222222222222222,
              "#7201a8"
             ],
             [
              0.3333333333333333,
              "#9c179e"
             ],
             [
              0.4444444444444444,
              "#bd3786"
             ],
             [
              0.5555555555555556,
              "#d8576b"
             ],
             [
              0.6666666666666666,
              "#ed7953"
             ],
             [
              0.7777777777777778,
              "#fb9f3a"
             ],
             [
              0.8888888888888888,
              "#fdca26"
             ],
             [
              1,
              "#f0f921"
             ]
            ],
            "type": "heatmapgl"
           }
          ],
          "histogram": [
           {
            "marker": {
             "pattern": {
              "fillmode": "overlay",
              "size": 10,
              "solidity": 0.2
             }
            },
            "type": "histogram"
           }
          ],
          "histogram2d": [
           {
            "colorbar": {
             "outlinewidth": 0,
             "ticks": ""
            },
            "colorscale": [
             [
              0,
              "#0d0887"
             ],
             [
              0.1111111111111111,
              "#46039f"
             ],
             [
              0.2222222222222222,
              "#7201a8"
             ],
             [
              0.3333333333333333,
              "#9c179e"
             ],
             [
              0.4444444444444444,
              "#bd3786"
             ],
             [
              0.5555555555555556,
              "#d8576b"
             ],
             [
              0.6666666666666666,
              "#ed7953"
             ],
             [
              0.7777777777777778,
              "#fb9f3a"
             ],
             [
              0.8888888888888888,
              "#fdca26"
             ],
             [
              1,
              "#f0f921"
             ]
            ],
            "type": "histogram2d"
           }
          ],
          "histogram2dcontour": [
           {
            "colorbar": {
             "outlinewidth": 0,
             "ticks": ""
            },
            "colorscale": [
             [
              0,
              "#0d0887"
             ],
             [
              0.1111111111111111,
              "#46039f"
             ],
             [
              0.2222222222222222,
              "#7201a8"
             ],
             [
              0.3333333333333333,
              "#9c179e"
             ],
             [
              0.4444444444444444,
              "#bd3786"
             ],
             [
              0.5555555555555556,
              "#d8576b"
             ],
             [
              0.6666666666666666,
              "#ed7953"
             ],
             [
              0.7777777777777778,
              "#fb9f3a"
             ],
             [
              0.8888888888888888,
              "#fdca26"
             ],
             [
              1,
              "#f0f921"
             ]
            ],
            "type": "histogram2dcontour"
           }
          ],
          "mesh3d": [
           {
            "colorbar": {
             "outlinewidth": 0,
             "ticks": ""
            },
            "type": "mesh3d"
           }
          ],
          "parcoords": [
           {
            "line": {
             "colorbar": {
              "outlinewidth": 0,
              "ticks": ""
             }
            },
            "type": "parcoords"
           }
          ],
          "pie": [
           {
            "automargin": true,
            "type": "pie"
           }
          ],
          "scatter": [
           {
            "fillpattern": {
             "fillmode": "overlay",
             "size": 10,
             "solidity": 0.2
            },
            "type": "scatter"
           }
          ],
          "scatter3d": [
           {
            "line": {
             "colorbar": {
              "outlinewidth": 0,
              "ticks": ""
             }
            },
            "marker": {
             "colorbar": {
              "outlinewidth": 0,
              "ticks": ""
             }
            },
            "type": "scatter3d"
           }
          ],
          "scattercarpet": [
           {
            "marker": {
             "colorbar": {
              "outlinewidth": 0,
              "ticks": ""
             }
            },
            "type": "scattercarpet"
           }
          ],
          "scattergeo": [
           {
            "marker": {
             "colorbar": {
              "outlinewidth": 0,
              "ticks": ""
             }
            },
            "type": "scattergeo"
           }
          ],
          "scattergl": [
           {
            "marker": {
             "colorbar": {
              "outlinewidth": 0,
              "ticks": ""
             }
            },
            "type": "scattergl"
           }
          ],
          "scattermapbox": [
           {
            "marker": {
             "colorbar": {
              "outlinewidth": 0,
              "ticks": ""
             }
            },
            "type": "scattermapbox"
           }
          ],
          "scatterpolar": [
           {
            "marker": {
             "colorbar": {
              "outlinewidth": 0,
              "ticks": ""
             }
            },
            "type": "scatterpolar"
           }
          ],
          "scatterpolargl": [
           {
            "marker": {
             "colorbar": {
              "outlinewidth": 0,
              "ticks": ""
             }
            },
            "type": "scatterpolargl"
           }
          ],
          "scatterternary": [
           {
            "marker": {
             "colorbar": {
              "outlinewidth": 0,
              "ticks": ""
             }
            },
            "type": "scatterternary"
           }
          ],
          "surface": [
           {
            "colorbar": {
             "outlinewidth": 0,
             "ticks": ""
            },
            "colorscale": [
             [
              0,
              "#0d0887"
             ],
             [
              0.1111111111111111,
              "#46039f"
             ],
             [
              0.2222222222222222,
              "#7201a8"
             ],
             [
              0.3333333333333333,
              "#9c179e"
             ],
             [
              0.4444444444444444,
              "#bd3786"
             ],
             [
              0.5555555555555556,
              "#d8576b"
             ],
             [
              0.6666666666666666,
              "#ed7953"
             ],
             [
              0.7777777777777778,
              "#fb9f3a"
             ],
             [
              0.8888888888888888,
              "#fdca26"
             ],
             [
              1,
              "#f0f921"
             ]
            ],
            "type": "surface"
           }
          ],
          "table": [
           {
            "cells": {
             "fill": {
              "color": "#EBF0F8"
             },
             "line": {
              "color": "white"
             }
            },
            "header": {
             "fill": {
              "color": "#C8D4E3"
             },
             "line": {
              "color": "white"
             }
            },
            "type": "table"
           }
          ]
         },
         "layout": {
          "annotationdefaults": {
           "arrowcolor": "#2a3f5f",
           "arrowhead": 0,
           "arrowwidth": 1
          },
          "autotypenumbers": "strict",
          "coloraxis": {
           "colorbar": {
            "outlinewidth": 0,
            "ticks": ""
           }
          },
          "colorscale": {
           "diverging": [
            [
             0,
             "#8e0152"
            ],
            [
             0.1,
             "#c51b7d"
            ],
            [
             0.2,
             "#de77ae"
            ],
            [
             0.3,
             "#f1b6da"
            ],
            [
             0.4,
             "#fde0ef"
            ],
            [
             0.5,
             "#f7f7f7"
            ],
            [
             0.6,
             "#e6f5d0"
            ],
            [
             0.7,
             "#b8e186"
            ],
            [
             0.8,
             "#7fbc41"
            ],
            [
             0.9,
             "#4d9221"
            ],
            [
             1,
             "#276419"
            ]
           ],
           "sequential": [
            [
             0,
             "#0d0887"
            ],
            [
             0.1111111111111111,
             "#46039f"
            ],
            [
             0.2222222222222222,
             "#7201a8"
            ],
            [
             0.3333333333333333,
             "#9c179e"
            ],
            [
             0.4444444444444444,
             "#bd3786"
            ],
            [
             0.5555555555555556,
             "#d8576b"
            ],
            [
             0.6666666666666666,
             "#ed7953"
            ],
            [
             0.7777777777777778,
             "#fb9f3a"
            ],
            [
             0.8888888888888888,
             "#fdca26"
            ],
            [
             1,
             "#f0f921"
            ]
           ],
           "sequentialminus": [
            [
             0,
             "#0d0887"
            ],
            [
             0.1111111111111111,
             "#46039f"
            ],
            [
             0.2222222222222222,
             "#7201a8"
            ],
            [
             0.3333333333333333,
             "#9c179e"
            ],
            [
             0.4444444444444444,
             "#bd3786"
            ],
            [
             0.5555555555555556,
             "#d8576b"
            ],
            [
             0.6666666666666666,
             "#ed7953"
            ],
            [
             0.7777777777777778,
             "#fb9f3a"
            ],
            [
             0.8888888888888888,
             "#fdca26"
            ],
            [
             1,
             "#f0f921"
            ]
           ]
          },
          "colorway": [
           "#636efa",
           "#EF553B",
           "#00cc96",
           "#ab63fa",
           "#FFA15A",
           "#19d3f3",
           "#FF6692",
           "#B6E880",
           "#FF97FF",
           "#FECB52"
          ],
          "font": {
           "color": "#2a3f5f"
          },
          "geo": {
           "bgcolor": "white",
           "lakecolor": "white",
           "landcolor": "#E5ECF6",
           "showlakes": true,
           "showland": true,
           "subunitcolor": "white"
          },
          "hoverlabel": {
           "align": "left"
          },
          "hovermode": "closest",
          "mapbox": {
           "style": "light"
          },
          "paper_bgcolor": "white",
          "plot_bgcolor": "#E5ECF6",
          "polar": {
           "angularaxis": {
            "gridcolor": "white",
            "linecolor": "white",
            "ticks": ""
           },
           "bgcolor": "#E5ECF6",
           "radialaxis": {
            "gridcolor": "white",
            "linecolor": "white",
            "ticks": ""
           }
          },
          "scene": {
           "xaxis": {
            "backgroundcolor": "#E5ECF6",
            "gridcolor": "white",
            "gridwidth": 2,
            "linecolor": "white",
            "showbackground": true,
            "ticks": "",
            "zerolinecolor": "white"
           },
           "yaxis": {
            "backgroundcolor": "#E5ECF6",
            "gridcolor": "white",
            "gridwidth": 2,
            "linecolor": "white",
            "showbackground": true,
            "ticks": "",
            "zerolinecolor": "white"
           },
           "zaxis": {
            "backgroundcolor": "#E5ECF6",
            "gridcolor": "white",
            "gridwidth": 2,
            "linecolor": "white",
            "showbackground": true,
            "ticks": "",
            "zerolinecolor": "white"
           }
          },
          "shapedefaults": {
           "line": {
            "color": "#2a3f5f"
           }
          },
          "ternary": {
           "aaxis": {
            "gridcolor": "white",
            "linecolor": "white",
            "ticks": ""
           },
           "baxis": {
            "gridcolor": "white",
            "linecolor": "white",
            "ticks": ""
           },
           "bgcolor": "#E5ECF6",
           "caxis": {
            "gridcolor": "white",
            "linecolor": "white",
            "ticks": ""
           }
          },
          "title": {
           "x": 0.05
          },
          "xaxis": {
           "automargin": true,
           "gridcolor": "white",
           "linecolor": "white",
           "ticks": "",
           "title": {
            "standoff": 15
           },
           "zerolinecolor": "white",
           "zerolinewidth": 2
          },
          "yaxis": {
           "automargin": true,
           "gridcolor": "white",
           "linecolor": "white",
           "ticks": "",
           "title": {
            "standoff": 15
           },
           "zerolinecolor": "white",
           "zerolinewidth": 2
          }
         }
        },
        "title": {
         "text": "Box Plot Sample from a Normal Distribution"
        },
        "width": 800
       }
      }
     },
     "metadata": {},
     "output_type": "display_data"
    }
   ],
   "source": [
    "fig = go.Figure()\n",
    "\n",
    "colors = ['teal', 'purple']\n",
    "for l, cl in zip(df['Label'].unique(), colors):\n",
    "    subdata = df[df.Label==l]\n",
    "    \n",
    "    fig.add_trace(go.Box(x=subdata[\"Data\"], \n",
    "                        pointpos=0.0,\n",
    "                        jitter=0.5,\n",
    "                        notched=True, \n",
    "                        boxpoints=\"all\",\n",
    "                        name=l,\n",
    "                        marker_color=cl, \n",
    "                        ))\n",
    "fig.update_layout(title='Box Plot Sample from a Normal Distribution', \n",
    "                  height = 500, width = 800,)"
   ]
  },
  {
   "cell_type": "code",
   "execution_count": 16,
   "metadata": {},
   "outputs": [
    {
     "data": {
      "application/vnd.plotly.v1+json": {
       "config": {
        "plotlyServerURL": "https://plot.ly"
       },
       "data": [
        {
         "boxpoints": "all",
         "jitter": 0,
         "marker": {
          "color": "teal"
         },
         "name": "Normal",
         "notched": true,
         "type": "box",
         "x": [
          -1.689336888453517,
          0.13776912596710247,
          1.1675091952590086,
          -0.7607604876302595,
          -0.6414780667145364,
          0.11477170637140893,
          1.9360016071063202,
          0.4335911086990883,
          -1.9939155637111687,
          0.05896021833051035,
          -0.1435860575122745,
          0.24395341270042556,
          0.7713106604048846,
          -2.473275307771809,
          0.11524284105619857,
          -2.200433888196964,
          -1.6166907263749857,
          -0.6570572327193407,
          0.0537983253306413,
          0.5713657463706605,
          -0.18129027059678798,
          0.430004557081076,
          1.6863812103799642,
          -0.6205237181163857,
          -1.378790952224102,
          -0.9560630562428023,
          0.7628953284442226,
          0.39728720166579823,
          -0.026977581814568462,
          -0.4775048077061331,
          -1.1220589139421688,
          -0.22818375928584564,
          -0.3726175003152722,
          0.40313929253122527,
          0.5456734426890402,
          0.5740447442738711,
          -2.237131128094541,
          0.4058095789096909,
          -0.057463031685277874,
          -0.12273862477813806,
          -2.307293811068429,
          0.06316488302106166,
          -0.7977993774509309,
          1.0363486351237172,
          1.8041182975160668,
          0.17306927422672233,
          -1.9214220031912495,
          0.23758276050622623,
          0.9522895107253445,
          0.7730070354998442,
          -0.29185508575737557,
          -1.5922511892721602,
          0.4844679481630889,
          -0.06886905558166533,
          -0.46890257964383103,
          0.468215986441292,
          -0.6170960484980602,
          0.35740225773385476,
          2.678687336946146,
          -1.031897653891675,
          0.42059595579664977,
          -0.43000647046019064,
          1.0319300779441793,
          0.4766188701301545,
          -2.4711327874864324,
          1.2171002747332798,
          1.1214780257098982,
          -1.2894650045211846,
          0.6653483531204847,
          0.9412819082345588,
          0.1614052968972017,
          -0.3451756071894113,
          1.1770428422416965,
          -0.9742353816864837,
          -0.36361931689461524,
          0.6412601937102383,
          1.6336644480044498,
          -0.6105004553744235,
          0.8152381839368957,
          -1.4288834184504773,
          0.44993084750598256,
          -0.7973688855485472,
          0.298340729784743,
          0.6074625171636029,
          -0.8301357035946288,
          -0.9034214419117117,
          -0.8798883621524541,
          0.4478482378005054,
          -0.3178034758313932,
          -0.11442334802179989,
          0.6625132412809478,
          0.11846246100215997,
          0.18726296072824145,
          -1.4163690578591572,
          -0.20504665253924703,
          -2.2520376076911903,
          -0.05149414351210116,
          -1.5439331507530487,
          -0.06701365016551912,
          1.057640785433957,
          0.05051365860776818,
          -0.3385267509147933,
          -1.7393596031683598,
          0.7760699180500408,
          1.4100114849001115,
          0.36738177670275723,
          0.7532249188234077,
          0.6276018174355962,
          0.3084812185167463,
          0.6754928369679085,
          -1.1003844369332827,
          0.14729148213127272,
          0.5803514316347554,
          -0.29784955145488823,
          0.903863427955898,
          1.080587909957928,
          -0.4760227808352415,
          -0.04425766076960422,
          0.06407344314800589,
          1.7262991655278872,
          -0.7605645076940213,
          0.7501785800543226,
          2.2182736935156284,
          -1.6769460826631943,
          -0.3969448008047011,
          -1.3385344020686465,
          1.9544731588727946,
          -0.1551787757725781,
          1.3706387591958122,
          1.0664504418332685,
          2.070083516538236,
          0.30840679379006686,
          0.5722331963172448,
          -0.1184287747459889,
          1.5264083447942185,
          0.9552146967566378,
          2.907381016549022,
          -0.04604202665734912,
          -0.5392618060603058,
          -1.0390014688221254,
          0.30044226187520795,
          -0.21053928413341894,
          2.7511366194329496,
          -0.28991441780949,
          2.261218036942313,
          -0.34766208037509183,
          -0.946703342006612,
          1.530695289551574,
          0.43387341147071556,
          -1.826544419107924,
          0.45677164528533054,
          -3.262154037479641,
          1.681917086418654,
          0.8169584882865069,
          -0.6073077104882263,
          -0.8914302540640905,
          -0.34814387409244735,
          -2.0811104094261728,
          0.16734218277132235,
          -0.9255167265691057,
          -0.15875968211489994,
          -0.8797187266103919,
          -0.1647272001439247,
          -1.1275673570323832,
          0.12361797224686759,
          -0.17916920363786906,
          -0.8927757138459166,
          -1.5286698179289708,
          0.27901683442676933,
          -1.1501065928276504,
          -1.2590574081380728,
          2.0370575301740974,
          0.48356603559643224,
          -0.491621228013522,
          0.34795437355165393,
          0.438153721287862,
          -1.2896965927423067,
          0.3210749016659769,
          0.5224109665262904,
          -2.7844960789982216,
          0.7382639393366289,
          0.5613682701771886,
          -0.25845818632285256,
          1.4098096719335358,
          -0.006037631103477602,
          0.20994706931352283,
          -0.48823809825368203,
          0.6120515452521044,
          0.9070998849125455,
          -0.5286897311076472,
          -1.5590038470687189,
          -2.094815510021006,
          -0.6131110942605921,
          -2.022790429559516,
          -0.44990968796858244,
          0.9565373696067946,
          -0.580460796755201,
          0.23328415591799653,
          1.6715392188260332,
          0.29645373322690705
         ]
        },
        {
         "boxpoints": "all",
         "jitter": 0,
         "marker": {
          "color": "purple"
         },
         "name": "t-Student",
         "notched": true,
         "type": "box",
         "x": [
          1.3296171679800899,
          -0.32897898277654314,
          0.9597493720462663,
          -1.1416536239116077,
          0.4777654532547854,
          0.5385209646059625,
          0.1726330328130127,
          -0.7895551213098313,
          0.43905366975754684,
          -3.410227703467272,
          -0.273116872347728,
          0.860463971477064,
          -0.08386551341275127,
          -0.7323064807477796,
          -1.5895520177367453,
          -1.4915386824641865,
          -0.234839011339704,
          -1.5046376411653366,
          1.0927782855993144,
          -1.051230659815699,
          -1.1224917527417912,
          0.09887262823779777,
          1.873174187440845,
          1.217050170950474,
          0.6186923797864428,
          2.2163720194899157,
          3.9514570953047436,
          -0.8202110866045245,
          -0.9487437014976523,
          -0.17997946278421742,
          -0.15430086842626395,
          1.5382681717842064,
          0.47080712945493924,
          -0.4442944483062053,
          -0.9286387493237,
          1.6727659628187705,
          0.3969293606243659,
          -3.0154961674738643,
          -0.7122284812663532,
          1.4061922773040985,
          -1.1465088858843842,
          1.0669192630599502,
          -1.1126589090825467,
          0.7940525391382822,
          0.5402639315399803,
          -0.14056077435850636,
          2.806591375257195,
          -1.6107444718655985,
          -0.32051882439392,
          -0.21822782281608594,
          0.7457095842997067,
          -1.6347905497391868,
          -0.14144688314378315,
          0.6491854724376415,
          4.533853989743498,
          -0.011406055295251766,
          0.5773063063163685,
          0.7253567788284269,
          -0.8939373665390783,
          -0.10077552522855715,
          -0.27858372621245253,
          -0.02433421308262017,
          0.2549779198622396,
          -0.659041141657982,
          0.9617193745897314,
          0.9826243637502594,
          -1.9910319466725697,
          -2.4766298072578574,
          0.10489098061224233,
          -0.7656939672804003,
          1.316305285773601,
          0.38540824576643173,
          0.00414810214387028,
          -0.07698091894893482,
          -0.8368358324234044,
          0.7559024388002632,
          -1.433457539817932,
          -0.8642632809939191,
          -1.7123547942637962,
          0.2683611369093511,
          -3.6775813836187647,
          -1.486260741717948,
          -0.5143686484444054,
          0.0731138896797696,
          -0.5383289954572272,
          -0.2216311056628057,
          -1.1486958348477005,
          3.1186420231599623,
          0.2873088644734004,
          0.6573180038362226,
          1.7727094342546734,
          1.9894353888993404,
          0.6890681081093167,
          1.9934595066819252,
          2.828323002695493,
          -0.5538494208203962,
          0.008858672085565114,
          1.5012053005454427,
          -0.12466798232455624,
          -0.7900112682790705,
          -0.5817288857875356,
          -0.27734802860059343,
          -2.1235891966928593,
          0.047964748148095,
          0.48834855629152263,
          0.9192223418363958,
          -0.6206563910770353,
          -0.177555384164008,
          0.19190465605540236,
          -0.7089562031414267,
          0.37641344603617694,
          0.005476536455913488,
          -0.8540455323243363,
          0.868229050008538,
          -0.21358684568860697,
          -1.9771003881592217,
          -2.9169395463031833,
          2.5645719759785286,
          1.2695602468725051,
          1.8673156646447655,
          1.4785213104679666,
          -0.8590276993700084,
          -0.3059456522682964,
          0.7952994279543194,
          -3.3045159313296764,
          2.3237444340619433,
          -0.01640972914427589,
          -0.04307939388800091,
          -1.8107942815328977,
          -0.5700331815605205,
          -0.7079387137651683,
          1.2472459068974564,
          0.9699584961244075,
          -0.15840975429441287,
          -3.3328197750920467,
          -0.11801562140412176,
          -0.014095974933285469,
          -0.01711814690866443,
          0.5915238437228837,
          -0.16846417672240585,
          0.3258372606972137,
          -0.21380302170611726,
          -4.2464403958402075,
          -1.364001366192576,
          -0.6714791305153653,
          1.1296559292337045,
          0.5312396179665219,
          -0.31851005691215006,
          1.0154524865431047,
          2.5987598950873587,
          -1.2336713329164881,
          1.830125926957955,
          -5.040436944784364,
          -1.2557825280151713,
          -2.162612258301927,
          -0.2943497503446204,
          -0.5239594992835492,
          0.6994748838771682,
          1.8607922496977358,
          0.03820582587744919,
          0.8536362111155634,
          -1.6874328059539372,
          0.026714406058347132,
          0.44280720480354885,
          0.10550155549911709,
          -0.4404841056644979,
          0.26890470896118246,
          0.19024899621444882,
          -0.9436936479400267,
          -1.87910055600819,
          0.1815738314797129,
          -1.5078467131472664,
          -1.93398986879911,
          -1.1407487783405332,
          0.5741177919407499,
          0.044257291763834194,
          -0.415711716367045,
          6.118389010560933,
          -0.8539045021211132,
          -0.7816938309767884,
          -1.730959992041709,
          1.150940441976179,
          1.16941082581042,
          1.0084872903369209,
          0.06162290922408858,
          -0.3214942194098754,
          0.18539301620366588,
          -1.0130555467761617,
          -0.17785248179229238,
          -2.26110549861858,
          0.35422134221123824,
          -0.310120470029651,
          -0.8745208954753512,
          0.2622957243898324,
          -0.19172953462524142,
          -0.6301569225165788,
          -0.42549998781220855,
          1.1576175492262648,
          1.3864253257602037,
          0.3765846060887998
         ]
        }
       ],
       "layout": {
        "height": 500,
        "template": {
         "data": {
          "bar": [
           {
            "error_x": {
             "color": "#2a3f5f"
            },
            "error_y": {
             "color": "#2a3f5f"
            },
            "marker": {
             "line": {
              "color": "#E5ECF6",
              "width": 0.5
             },
             "pattern": {
              "fillmode": "overlay",
              "size": 10,
              "solidity": 0.2
             }
            },
            "type": "bar"
           }
          ],
          "barpolar": [
           {
            "marker": {
             "line": {
              "color": "#E5ECF6",
              "width": 0.5
             },
             "pattern": {
              "fillmode": "overlay",
              "size": 10,
              "solidity": 0.2
             }
            },
            "type": "barpolar"
           }
          ],
          "carpet": [
           {
            "aaxis": {
             "endlinecolor": "#2a3f5f",
             "gridcolor": "white",
             "linecolor": "white",
             "minorgridcolor": "white",
             "startlinecolor": "#2a3f5f"
            },
            "baxis": {
             "endlinecolor": "#2a3f5f",
             "gridcolor": "white",
             "linecolor": "white",
             "minorgridcolor": "white",
             "startlinecolor": "#2a3f5f"
            },
            "type": "carpet"
           }
          ],
          "choropleth": [
           {
            "colorbar": {
             "outlinewidth": 0,
             "ticks": ""
            },
            "type": "choropleth"
           }
          ],
          "contour": [
           {
            "colorbar": {
             "outlinewidth": 0,
             "ticks": ""
            },
            "colorscale": [
             [
              0,
              "#0d0887"
             ],
             [
              0.1111111111111111,
              "#46039f"
             ],
             [
              0.2222222222222222,
              "#7201a8"
             ],
             [
              0.3333333333333333,
              "#9c179e"
             ],
             [
              0.4444444444444444,
              "#bd3786"
             ],
             [
              0.5555555555555556,
              "#d8576b"
             ],
             [
              0.6666666666666666,
              "#ed7953"
             ],
             [
              0.7777777777777778,
              "#fb9f3a"
             ],
             [
              0.8888888888888888,
              "#fdca26"
             ],
             [
              1,
              "#f0f921"
             ]
            ],
            "type": "contour"
           }
          ],
          "contourcarpet": [
           {
            "colorbar": {
             "outlinewidth": 0,
             "ticks": ""
            },
            "type": "contourcarpet"
           }
          ],
          "heatmap": [
           {
            "colorbar": {
             "outlinewidth": 0,
             "ticks": ""
            },
            "colorscale": [
             [
              0,
              "#0d0887"
             ],
             [
              0.1111111111111111,
              "#46039f"
             ],
             [
              0.2222222222222222,
              "#7201a8"
             ],
             [
              0.3333333333333333,
              "#9c179e"
             ],
             [
              0.4444444444444444,
              "#bd3786"
             ],
             [
              0.5555555555555556,
              "#d8576b"
             ],
             [
              0.6666666666666666,
              "#ed7953"
             ],
             [
              0.7777777777777778,
              "#fb9f3a"
             ],
             [
              0.8888888888888888,
              "#fdca26"
             ],
             [
              1,
              "#f0f921"
             ]
            ],
            "type": "heatmap"
           }
          ],
          "heatmapgl": [
           {
            "colorbar": {
             "outlinewidth": 0,
             "ticks": ""
            },
            "colorscale": [
             [
              0,
              "#0d0887"
             ],
             [
              0.1111111111111111,
              "#46039f"
             ],
             [
              0.2222222222222222,
              "#7201a8"
             ],
             [
              0.3333333333333333,
              "#9c179e"
             ],
             [
              0.4444444444444444,
              "#bd3786"
             ],
             [
              0.5555555555555556,
              "#d8576b"
             ],
             [
              0.6666666666666666,
              "#ed7953"
             ],
             [
              0.7777777777777778,
              "#fb9f3a"
             ],
             [
              0.8888888888888888,
              "#fdca26"
             ],
             [
              1,
              "#f0f921"
             ]
            ],
            "type": "heatmapgl"
           }
          ],
          "histogram": [
           {
            "marker": {
             "pattern": {
              "fillmode": "overlay",
              "size": 10,
              "solidity": 0.2
             }
            },
            "type": "histogram"
           }
          ],
          "histogram2d": [
           {
            "colorbar": {
             "outlinewidth": 0,
             "ticks": ""
            },
            "colorscale": [
             [
              0,
              "#0d0887"
             ],
             [
              0.1111111111111111,
              "#46039f"
             ],
             [
              0.2222222222222222,
              "#7201a8"
             ],
             [
              0.3333333333333333,
              "#9c179e"
             ],
             [
              0.4444444444444444,
              "#bd3786"
             ],
             [
              0.5555555555555556,
              "#d8576b"
             ],
             [
              0.6666666666666666,
              "#ed7953"
             ],
             [
              0.7777777777777778,
              "#fb9f3a"
             ],
             [
              0.8888888888888888,
              "#fdca26"
             ],
             [
              1,
              "#f0f921"
             ]
            ],
            "type": "histogram2d"
           }
          ],
          "histogram2dcontour": [
           {
            "colorbar": {
             "outlinewidth": 0,
             "ticks": ""
            },
            "colorscale": [
             [
              0,
              "#0d0887"
             ],
             [
              0.1111111111111111,
              "#46039f"
             ],
             [
              0.2222222222222222,
              "#7201a8"
             ],
             [
              0.3333333333333333,
              "#9c179e"
             ],
             [
              0.4444444444444444,
              "#bd3786"
             ],
             [
              0.5555555555555556,
              "#d8576b"
             ],
             [
              0.6666666666666666,
              "#ed7953"
             ],
             [
              0.7777777777777778,
              "#fb9f3a"
             ],
             [
              0.8888888888888888,
              "#fdca26"
             ],
             [
              1,
              "#f0f921"
             ]
            ],
            "type": "histogram2dcontour"
           }
          ],
          "mesh3d": [
           {
            "colorbar": {
             "outlinewidth": 0,
             "ticks": ""
            },
            "type": "mesh3d"
           }
          ],
          "parcoords": [
           {
            "line": {
             "colorbar": {
              "outlinewidth": 0,
              "ticks": ""
             }
            },
            "type": "parcoords"
           }
          ],
          "pie": [
           {
            "automargin": true,
            "type": "pie"
           }
          ],
          "scatter": [
           {
            "fillpattern": {
             "fillmode": "overlay",
             "size": 10,
             "solidity": 0.2
            },
            "type": "scatter"
           }
          ],
          "scatter3d": [
           {
            "line": {
             "colorbar": {
              "outlinewidth": 0,
              "ticks": ""
             }
            },
            "marker": {
             "colorbar": {
              "outlinewidth": 0,
              "ticks": ""
             }
            },
            "type": "scatter3d"
           }
          ],
          "scattercarpet": [
           {
            "marker": {
             "colorbar": {
              "outlinewidth": 0,
              "ticks": ""
             }
            },
            "type": "scattercarpet"
           }
          ],
          "scattergeo": [
           {
            "marker": {
             "colorbar": {
              "outlinewidth": 0,
              "ticks": ""
             }
            },
            "type": "scattergeo"
           }
          ],
          "scattergl": [
           {
            "marker": {
             "colorbar": {
              "outlinewidth": 0,
              "ticks": ""
             }
            },
            "type": "scattergl"
           }
          ],
          "scattermapbox": [
           {
            "marker": {
             "colorbar": {
              "outlinewidth": 0,
              "ticks": ""
             }
            },
            "type": "scattermapbox"
           }
          ],
          "scatterpolar": [
           {
            "marker": {
             "colorbar": {
              "outlinewidth": 0,
              "ticks": ""
             }
            },
            "type": "scatterpolar"
           }
          ],
          "scatterpolargl": [
           {
            "marker": {
             "colorbar": {
              "outlinewidth": 0,
              "ticks": ""
             }
            },
            "type": "scatterpolargl"
           }
          ],
          "scatterternary": [
           {
            "marker": {
             "colorbar": {
              "outlinewidth": 0,
              "ticks": ""
             }
            },
            "type": "scatterternary"
           }
          ],
          "surface": [
           {
            "colorbar": {
             "outlinewidth": 0,
             "ticks": ""
            },
            "colorscale": [
             [
              0,
              "#0d0887"
             ],
             [
              0.1111111111111111,
              "#46039f"
             ],
             [
              0.2222222222222222,
              "#7201a8"
             ],
             [
              0.3333333333333333,
              "#9c179e"
             ],
             [
              0.4444444444444444,
              "#bd3786"
             ],
             [
              0.5555555555555556,
              "#d8576b"
             ],
             [
              0.6666666666666666,
              "#ed7953"
             ],
             [
              0.7777777777777778,
              "#fb9f3a"
             ],
             [
              0.8888888888888888,
              "#fdca26"
             ],
             [
              1,
              "#f0f921"
             ]
            ],
            "type": "surface"
           }
          ],
          "table": [
           {
            "cells": {
             "fill": {
              "color": "#EBF0F8"
             },
             "line": {
              "color": "white"
             }
            },
            "header": {
             "fill": {
              "color": "#C8D4E3"
             },
             "line": {
              "color": "white"
             }
            },
            "type": "table"
           }
          ]
         },
         "layout": {
          "annotationdefaults": {
           "arrowcolor": "#2a3f5f",
           "arrowhead": 0,
           "arrowwidth": 1
          },
          "autotypenumbers": "strict",
          "coloraxis": {
           "colorbar": {
            "outlinewidth": 0,
            "ticks": ""
           }
          },
          "colorscale": {
           "diverging": [
            [
             0,
             "#8e0152"
            ],
            [
             0.1,
             "#c51b7d"
            ],
            [
             0.2,
             "#de77ae"
            ],
            [
             0.3,
             "#f1b6da"
            ],
            [
             0.4,
             "#fde0ef"
            ],
            [
             0.5,
             "#f7f7f7"
            ],
            [
             0.6,
             "#e6f5d0"
            ],
            [
             0.7,
             "#b8e186"
            ],
            [
             0.8,
             "#7fbc41"
            ],
            [
             0.9,
             "#4d9221"
            ],
            [
             1,
             "#276419"
            ]
           ],
           "sequential": [
            [
             0,
             "#0d0887"
            ],
            [
             0.1111111111111111,
             "#46039f"
            ],
            [
             0.2222222222222222,
             "#7201a8"
            ],
            [
             0.3333333333333333,
             "#9c179e"
            ],
            [
             0.4444444444444444,
             "#bd3786"
            ],
            [
             0.5555555555555556,
             "#d8576b"
            ],
            [
             0.6666666666666666,
             "#ed7953"
            ],
            [
             0.7777777777777778,
             "#fb9f3a"
            ],
            [
             0.8888888888888888,
             "#fdca26"
            ],
            [
             1,
             "#f0f921"
            ]
           ],
           "sequentialminus": [
            [
             0,
             "#0d0887"
            ],
            [
             0.1111111111111111,
             "#46039f"
            ],
            [
             0.2222222222222222,
             "#7201a8"
            ],
            [
             0.3333333333333333,
             "#9c179e"
            ],
            [
             0.4444444444444444,
             "#bd3786"
            ],
            [
             0.5555555555555556,
             "#d8576b"
            ],
            [
             0.6666666666666666,
             "#ed7953"
            ],
            [
             0.7777777777777778,
             "#fb9f3a"
            ],
            [
             0.8888888888888888,
             "#fdca26"
            ],
            [
             1,
             "#f0f921"
            ]
           ]
          },
          "colorway": [
           "#636efa",
           "#EF553B",
           "#00cc96",
           "#ab63fa",
           "#FFA15A",
           "#19d3f3",
           "#FF6692",
           "#B6E880",
           "#FF97FF",
           "#FECB52"
          ],
          "font": {
           "color": "#2a3f5f"
          },
          "geo": {
           "bgcolor": "white",
           "lakecolor": "white",
           "landcolor": "#E5ECF6",
           "showlakes": true,
           "showland": true,
           "subunitcolor": "white"
          },
          "hoverlabel": {
           "align": "left"
          },
          "hovermode": "closest",
          "mapbox": {
           "style": "light"
          },
          "paper_bgcolor": "white",
          "plot_bgcolor": "#E5ECF6",
          "polar": {
           "angularaxis": {
            "gridcolor": "white",
            "linecolor": "white",
            "ticks": ""
           },
           "bgcolor": "#E5ECF6",
           "radialaxis": {
            "gridcolor": "white",
            "linecolor": "white",
            "ticks": ""
           }
          },
          "scene": {
           "xaxis": {
            "backgroundcolor": "#E5ECF6",
            "gridcolor": "white",
            "gridwidth": 2,
            "linecolor": "white",
            "showbackground": true,
            "ticks": "",
            "zerolinecolor": "white"
           },
           "yaxis": {
            "backgroundcolor": "#E5ECF6",
            "gridcolor": "white",
            "gridwidth": 2,
            "linecolor": "white",
            "showbackground": true,
            "ticks": "",
            "zerolinecolor": "white"
           },
           "zaxis": {
            "backgroundcolor": "#E5ECF6",
            "gridcolor": "white",
            "gridwidth": 2,
            "linecolor": "white",
            "showbackground": true,
            "ticks": "",
            "zerolinecolor": "white"
           }
          },
          "shapedefaults": {
           "line": {
            "color": "#2a3f5f"
           }
          },
          "ternary": {
           "aaxis": {
            "gridcolor": "white",
            "linecolor": "white",
            "ticks": ""
           },
           "baxis": {
            "gridcolor": "white",
            "linecolor": "white",
            "ticks": ""
           },
           "bgcolor": "#E5ECF6",
           "caxis": {
            "gridcolor": "white",
            "linecolor": "white",
            "ticks": ""
           }
          },
          "title": {
           "x": 0.05
          },
          "xaxis": {
           "automargin": true,
           "gridcolor": "white",
           "linecolor": "white",
           "ticks": "",
           "title": {
            "standoff": 15
           },
           "zerolinecolor": "white",
           "zerolinewidth": 2
          },
          "yaxis": {
           "automargin": true,
           "gridcolor": "white",
           "linecolor": "white",
           "ticks": "",
           "title": {
            "standoff": 15
           },
           "zerolinecolor": "white",
           "zerolinewidth": 2
          }
         }
        },
        "title": {
         "text": "Box Plot Sample from a Normal Distribution"
        },
        "width": 800
       }
      }
     },
     "metadata": {},
     "output_type": "display_data"
    }
   ],
   "source": [
    "fig = go.Figure()\n",
    "\n",
    "colors = ['teal', 'purple']\n",
    "for l, cl in zip(df['Label'].unique(), colors):\n",
    "    subdata = df[df.Label==l]\n",
    "    \n",
    "    fig.add_trace(go.Box(x=subdata[\"Data\"], \n",
    "                        jitter=0.0,\n",
    "                        notched=True, \n",
    "                        boxpoints=\"all\",\n",
    "                        name=l,\n",
    "                        marker_color=cl, \n",
    "                        ))\n",
    "fig.update_layout(title='Box Plot Sample from a Normal Distribution', \n",
    "                  height = 500, width = 800,)"
   ]
  },
  {
   "cell_type": "markdown",
   "metadata": {},
   "source": [
    "## There is more"
   ]
  },
  {
   "cell_type": "code",
   "execution_count": 17,
   "metadata": {},
   "outputs": [],
   "source": [
    "n = 500\n",
    "sample = norm(loc=0).rvs(n)\n",
    "data1 = pd.DataFrame({'Sample': sample})"
   ]
  },
  {
   "cell_type": "code",
   "execution_count": 18,
   "metadata": {},
   "outputs": [],
   "source": [
    "df = data1"
   ]
  },
  {
   "cell_type": "markdown",
   "metadata": {},
   "source": [
    "Show the mean of the distribution using the input `boxmean` as `True`"
   ]
  },
  {
   "cell_type": "code",
   "execution_count": 19,
   "metadata": {},
   "outputs": [
    {
     "data": {
      "application/vnd.plotly.v1+json": {
       "config": {
        "plotlyServerURL": "https://plot.ly"
       },
       "data": [
        {
         "boxmean": true,
         "boxpoints": "outliers",
         "marker": {
          "color": "green"
         },
         "name": "Normal",
         "notched": true,
         "type": "box",
         "x": [
          -0.24911242232686695,
          -0.6297346499897254,
          3.1873011993982567,
          1.712338281096974,
          -0.4917153052132605,
          0.21125309579200696,
          -0.8615445113433992,
          -0.5757235244998266,
          -1.0830964838243449,
          0.36440662707449667,
          -0.8034710873018192,
          -1.6181785960519615,
          1.1638588615771888,
          -2.0696183538402786,
          2.68725852639543,
          -0.7034231716676067,
          0.30346738696643955,
          -1.047233264423056,
          -1.2954675929986894,
          -0.4422222424266258,
          1.140942944313598,
          0.8375671986338488,
          -0.15821825239092036,
          0.4761629880222062,
          -0.8814625740056464,
          1.1780973152591898,
          -1.0361146829290735,
          -0.9514097534216494,
          0.01086471375867213,
          0.4296227755029378,
          -1.2925026711300744,
          -1.7461147858348574,
          -0.16368083719487816,
          0.6712378400758342,
          0.18267763767409498,
          -0.9409815822554775,
          1.3308086048086898,
          0.5543172490267535,
          0.11687741974879812,
          -2.0009286108860365,
          0.8831615812758103,
          -0.19966492337671074,
          1.0059822367605793,
          -0.9234702000402577,
          -0.359106704548737,
          -0.6512663055015867,
          1.2444133290485426,
          -1.2549923166356907,
          -0.5103711797366935,
          0.7724847290406532,
          -0.5747185456528506,
          0.8495237239869309,
          0.974729075521964,
          -0.12355267827310303,
          0.6938078558258064,
          0.29457396087954785,
          -1.8179593681331219,
          1.0114862008086507,
          -0.07304751127327039,
          0.1032431673566755,
          1.746605994775457,
          2.65994282047823,
          0.7498334427476275,
          1.2464869561130234,
          0.41892574655609854,
          -0.6722514167083223,
          1.1925126680422837,
          -0.31015048423002817,
          0.5831815117841026,
          0.3630553471936788,
          -0.21891158193350319,
          0.15854906852384562,
          0.7798741979240054,
          1.4777000198977728,
          1.1734123959340033,
          -1.0897682015606114,
          1.2104047642360352,
          1.865643121875104,
          0.2166642029496778,
          -0.6690466220668653,
          -0.05976767612369798,
          -0.3760833405711885,
          -0.8033560719296021,
          -1.2293452514285848,
          -0.0050314132957281965,
          -0.055803655476482535,
          0.22220697922948793,
          0.6940850479618916,
          -0.6661111490832393,
          1.69576255570823,
          -1.5438287660515946,
          -0.0036373749938916314,
          2.0149559165288577,
          -1.3812400618708962,
          -1.6498644462574605,
          -0.13396945333782126,
          -0.7698211045596522,
          1.5284125154274484,
          -0.4491944101052898,
          -0.13613190852624746,
          -0.32221301472624864,
          -1.1199630673964118,
          -0.9953323134842098,
          1.8073905363391243,
          0.09038492014333323,
          -0.25126068243545324,
          -1.203747137923689,
          0.7964535682499773,
          -0.4815988134676816,
          1.1566248786276077,
          -1.2716441091902067,
          0.0768534645302473,
          0.2462228240371197,
          1.4996118775716027,
          2.4230297894973383,
          0.12524914142493382,
          1.8297933777861637,
          -0.43165950131232433,
          -0.6633153012608465,
          1.4620517049719872,
          -0.2322197545915436,
          -0.06275957327446034,
          -0.31927769206459106,
          0.13526987470095297,
          1.3997670605951145,
          -0.025134558566561445,
          0.9371740829399043,
          -0.8447978975042312,
          0.2398683593938524,
          -1.4186019848898432,
          -2.164731328368776,
          -0.6969614750051799,
          -0.7455902561804266,
          -0.15342102670663257,
          0.5280431870266379,
          -0.1466229801299648,
          0.19302401501608907,
          0.5798520523042505,
          0.13774687183517997,
          -0.13617319915584203,
          -0.6334218420975622,
          -0.6436777485094298,
          0.23296860543804385,
          0.9003471171776408,
          -0.1747904840575616,
          -0.0642567197554605,
          -1.4419421848000071,
          -0.5768628230843807,
          1.3196209793577758,
          1.19038485719613,
          -0.08657716171060523,
          0.7342258500721638,
          -0.08888557743949789,
          -0.2629449858140577,
          -0.7726467955512086,
          -0.0063627823548153585,
          -0.3071179425064033,
          -0.7250489419398457,
          -0.6616150201097293,
          0.4716852844135448,
          -1.9818681773652567,
          -0.24590135701259783,
          2.126760414404006,
          0.7835043505456636,
          1.8799949394452227,
          1.5395068825143443,
          1.045737425764193,
          0.9674893065027761,
          0.32464548820267347,
          -0.15434615024422396,
          0.9782803636739983,
          -0.22558529363912758,
          1.381957905022679,
          0.2698417500166731,
          1.598225987588667,
          0.23791438153711333,
          1.0274796818123193,
          -0.8737667221362457,
          -1.393177326858463,
          -0.5453106712353596,
          0.05124965721667932,
          -0.8755650080693562,
          0.19041695923022223,
          0.32961530527378907,
          0.6628491212740797,
          -0.20837517932725066,
          0.5613349127604874,
          -0.346325886338613,
          -1.2599205992540146,
          0.2357846188950058,
          0.24461649412308065,
          -2.945045169843882,
          -0.8573766163254158,
          1.3677111237694244,
          -0.46236055979376406,
          -0.7817803049203655,
          0.40457857491323335,
          0.03548594592179367,
          -0.7803768934401698,
          0.744894603597162,
          1.1671820695966968,
          -0.6132658741291128,
          0.24391260249479538,
          1.3440980976568881,
          1.9284003099430325,
          0.48607179710619114,
          -0.226637949800756,
          0.20180009495353565,
          1.433094770911674,
          -0.252468539973766,
          -0.14895343478224873,
          0.7028421024824381,
          0.6013769512878553,
          0.09356370761322261,
          1.5190815092559928,
          -0.055764291772838245,
          -0.27001664832139866,
          1.0926733369406565,
          0.7555635679583511,
          -0.03308793359213413,
          0.710822884213582,
          0.8639626947358802,
          -0.3205495535871958,
          -0.3046112170987417,
          2.411450797445365,
          0.21425359747472206,
          2.228181221005595,
          -0.6767741878103111,
          0.29166046044496313,
          1.7065496452095872,
          1.2132692745556637,
          0.43068366282011344,
          1.4132039917795503,
          -0.0219344194744931,
          0.3398893719105232,
          -0.5160849667354762,
          -0.6777922104001828,
          1.4050445423273272,
          -0.016733480146755148,
          -0.07964354072700565,
          0.6384397589704588,
          1.7052379972935874,
          -0.8911261132767132,
          -0.08208870445957828,
          0.38264021744659077,
          0.2834198779614656,
          -0.3921712326291253,
          -1.3516458603236916,
          -1.3850105750897959,
          0.2886163620300264,
          -0.1638190647170937,
          1.4112819608368719,
          -0.22161142959253533,
          0.48600232366689766,
          0.7341286059480694,
          -0.17388429296091096,
          -2.1629904058971814,
          -0.32505149585139065,
          0.16800020745117514,
          1.4057335782054212,
          -0.2426696004136814,
          0.5421320334493737,
          0.9029368672839453,
          -0.12634886482742483,
          0.28220701865500447,
          1.2602253749969117,
          1.0215529035272237,
          0.0657279528913463,
          0.2969035261739924,
          -0.1948358830687547,
          -0.42848284256122815,
          0.706478731545586,
          -1.5292009075404402,
          0.3468419477957674,
          0.23079674597839778,
          -0.06805793660351399,
          -0.7677178587028417,
          -0.46447228340119645,
          -1.4023512645416787,
          0.1769775013097821,
          1.0013355032568303,
          0.5734086525000165,
          -0.8556020846751993,
          0.35216087631661797,
          2.03111561129891,
          2.113126247728557,
          0.70978542623351,
          0.18673608803388692,
          0.3511317810110299,
          0.9645807938354352,
          0.6456602725041198,
          0.22904973279179922,
          0.6043996296669457,
          0.9428822354430688,
          0.35997237886105554,
          -0.4204156792509235,
          1.6272807220890768,
          1.1431620622091245,
          -1.2170907495078287,
          -0.8714217540277593,
          -1.6787815950489196,
          -0.8599223456797737,
          -0.33365942142778704,
          -0.8243363504139228,
          0.22583033780620126,
          -0.39173958127832964,
          0.8440954735246704,
          -0.2831897262780788,
          0.13269223313391856,
          -0.7559514108841673,
          -1.2486613461918679,
          -1.0750276658532243,
          -0.2404251878390258,
          1.027942559899388,
          -1.3918707676258222,
          1.1648381546364928,
          -0.67774704956628,
          0.6304727319195922,
          -0.654364063648174,
          0.9809157358744823,
          -0.5930270726603284,
          -1.4990067223780532,
          -0.6655525456381157,
          -1.1866239031664654,
          -2.537863946470893,
          0.07948623677522333,
          0.30789005443121775,
          2.0338520162969815,
          -0.9572351801308894,
          -1.836467188484844,
          -1.2736818464946218,
          -0.32025642649449093,
          0.33792543671404485,
          -1.3365012482409142,
          -0.3655275510631917,
          0.26819642801225635,
          -1.9651568403084705,
          0.5555149560179088,
          0.10755932427461112,
          1.9281213320273602,
          -1.6843112136840952,
          0.674514386623298,
          -1.6186745436845738,
          -0.4830160844146874,
          1.1853580326466813,
          -0.9446329800980461,
          0.611844846096744,
          -1.9497080829770035,
          -0.6150372892203996,
          0.7126615733294899,
          -1.175194466884156,
          -1.1485408693365469,
          1.5580523528670676,
          0.24226881620332397,
          0.24158714995867175,
          -0.620599053476021,
          -1.1765428127089606,
          -0.07630469955801247,
          -0.5533875751444196,
          0.13715372413826799,
          -0.9844394162930232,
          -1.133088451038267,
          -0.5980738969375735,
          1.7509433977478228,
          1.2656148881550071,
          -2.4135592375549946,
          -0.6554042539244077,
          -2.37615727952829,
          0.38802475950140575,
          -1.2609605724462885,
          -0.3855160630704734,
          -0.8221335173155376,
          0.2440270752545688,
          1.7169086662164723,
          0.12378970454935015,
          -0.8817840310502313,
          0.7543356828439383,
          0.7619607004982416,
          -1.2627026216595911,
          -0.10714119550642359,
          0.3771649825155884,
          1.4497367953416866,
          -0.49514571230203364,
          -0.24402752571737024,
          3.1739468721567374,
          0.8431910917764285,
          0.036653176632103594,
          0.089008229895136,
          -0.22520599984580433,
          0.9747511673637623,
          0.8230658713631177,
          -0.022380517674719134,
          1.6098993175350205,
          0.225317732067235,
          -0.5030286819979535,
          -2.837256812882985,
          -1.1584321885601394,
          0.0807451019702325,
          0.5791959873682315,
          -0.1944429428399401,
          0.13240289297576796,
          -1.0566720771984655,
          -1.0008495459280264,
          -1.054681792937043,
          0.028079044354764347,
          0.4862640895554921,
          2.9245027789401723,
          -1.5997960463747012,
          0.4874826855412027,
          -0.2519474003087841,
          -0.42472911664589874,
          -1.871600326787453,
          -1.2404183224820806,
          0.8630998538561606,
          -2.2820617532430214,
          0.6192222757957793,
          1.030422293380501,
          0.6580856562795296,
          -0.6156479197167619,
          0.6290225117215802,
          0.4397592781252,
          -0.10394846571133332,
          0.22408508995017687,
          1.2666072377225241,
          0.4689977058751315,
          1.3549461923953292,
          -0.03698745223524077,
          0.4783921399789872,
          -0.6428558039006229,
          1.4329640893450901,
          0.4019731275217769,
          -0.39626022973298297,
          -0.3258781582772921,
          0.7031160842510465,
          0.9617839915872582,
          0.13556943340922367,
          -0.5360199344773487,
          0.11370939972977605,
          -0.9580103308713585,
          0.29960155101460123,
          -1.3954495767183401,
          0.6440420606891998,
          0.8215605263293743,
          -0.08646641699653392,
          0.2831707536083104,
          0.6893293127130842,
          -0.017621254554406433,
          0.12902778320445063,
          -0.3986413689316429,
          -1.773633412216595,
          1.055080041491089,
          1.6251138805342351,
          0.7730857077088902,
          -0.03439610362407187,
          -0.5518333692198298,
          0.6699559946888448,
          0.9475988565869125,
          -0.5429677410678523,
          0.5199483361438223,
          0.7739593063633642,
          -1.1330597425360576,
          -0.7384093111239979,
          1.2280501857168638,
          -0.5078545713466531,
          -1.4015945902787659,
          0.32975662931562066,
          0.07462648320319247,
          0.06796962347784057,
          0.10307169270755037,
          0.3153231365542769,
          -0.7488634416252051,
          -1.5021609660302033,
          0.671760625590975,
          1.1768927209738718,
          -1.449875597430495,
          -0.9650761939239775,
          1.5598942594575302,
          -0.23617632602430164,
          1.2369222847721593,
          -0.13448087265402134,
          -0.6333775265937124,
          1.1606758526930934,
          0.10617738757447824,
          -0.3573970920738504,
          0.7520565005400022,
          0.712403005435713,
          -0.815561052019479,
          0.16181659381827806,
          1.478008724359994,
          -0.45732492033553435,
          1.5655014526686513,
          -0.26739924138249294,
          -1.5177615001803089,
          -0.736432565370777,
          0.37172456647091573,
          -0.10976785677026837,
          0.5329770151076588,
          -0.5688316550432472,
          0.8696288732320077,
          -0.6949000194607546
         ]
        }
       ],
       "layout": {
        "height": 500,
        "template": {
         "data": {
          "bar": [
           {
            "error_x": {
             "color": "#2a3f5f"
            },
            "error_y": {
             "color": "#2a3f5f"
            },
            "marker": {
             "line": {
              "color": "#E5ECF6",
              "width": 0.5
             },
             "pattern": {
              "fillmode": "overlay",
              "size": 10,
              "solidity": 0.2
             }
            },
            "type": "bar"
           }
          ],
          "barpolar": [
           {
            "marker": {
             "line": {
              "color": "#E5ECF6",
              "width": 0.5
             },
             "pattern": {
              "fillmode": "overlay",
              "size": 10,
              "solidity": 0.2
             }
            },
            "type": "barpolar"
           }
          ],
          "carpet": [
           {
            "aaxis": {
             "endlinecolor": "#2a3f5f",
             "gridcolor": "white",
             "linecolor": "white",
             "minorgridcolor": "white",
             "startlinecolor": "#2a3f5f"
            },
            "baxis": {
             "endlinecolor": "#2a3f5f",
             "gridcolor": "white",
             "linecolor": "white",
             "minorgridcolor": "white",
             "startlinecolor": "#2a3f5f"
            },
            "type": "carpet"
           }
          ],
          "choropleth": [
           {
            "colorbar": {
             "outlinewidth": 0,
             "ticks": ""
            },
            "type": "choropleth"
           }
          ],
          "contour": [
           {
            "colorbar": {
             "outlinewidth": 0,
             "ticks": ""
            },
            "colorscale": [
             [
              0,
              "#0d0887"
             ],
             [
              0.1111111111111111,
              "#46039f"
             ],
             [
              0.2222222222222222,
              "#7201a8"
             ],
             [
              0.3333333333333333,
              "#9c179e"
             ],
             [
              0.4444444444444444,
              "#bd3786"
             ],
             [
              0.5555555555555556,
              "#d8576b"
             ],
             [
              0.6666666666666666,
              "#ed7953"
             ],
             [
              0.7777777777777778,
              "#fb9f3a"
             ],
             [
              0.8888888888888888,
              "#fdca26"
             ],
             [
              1,
              "#f0f921"
             ]
            ],
            "type": "contour"
           }
          ],
          "contourcarpet": [
           {
            "colorbar": {
             "outlinewidth": 0,
             "ticks": ""
            },
            "type": "contourcarpet"
           }
          ],
          "heatmap": [
           {
            "colorbar": {
             "outlinewidth": 0,
             "ticks": ""
            },
            "colorscale": [
             [
              0,
              "#0d0887"
             ],
             [
              0.1111111111111111,
              "#46039f"
             ],
             [
              0.2222222222222222,
              "#7201a8"
             ],
             [
              0.3333333333333333,
              "#9c179e"
             ],
             [
              0.4444444444444444,
              "#bd3786"
             ],
             [
              0.5555555555555556,
              "#d8576b"
             ],
             [
              0.6666666666666666,
              "#ed7953"
             ],
             [
              0.7777777777777778,
              "#fb9f3a"
             ],
             [
              0.8888888888888888,
              "#fdca26"
             ],
             [
              1,
              "#f0f921"
             ]
            ],
            "type": "heatmap"
           }
          ],
          "heatmapgl": [
           {
            "colorbar": {
             "outlinewidth": 0,
             "ticks": ""
            },
            "colorscale": [
             [
              0,
              "#0d0887"
             ],
             [
              0.1111111111111111,
              "#46039f"
             ],
             [
              0.2222222222222222,
              "#7201a8"
             ],
             [
              0.3333333333333333,
              "#9c179e"
             ],
             [
              0.4444444444444444,
              "#bd3786"
             ],
             [
              0.5555555555555556,
              "#d8576b"
             ],
             [
              0.6666666666666666,
              "#ed7953"
             ],
             [
              0.7777777777777778,
              "#fb9f3a"
             ],
             [
              0.8888888888888888,
              "#fdca26"
             ],
             [
              1,
              "#f0f921"
             ]
            ],
            "type": "heatmapgl"
           }
          ],
          "histogram": [
           {
            "marker": {
             "pattern": {
              "fillmode": "overlay",
              "size": 10,
              "solidity": 0.2
             }
            },
            "type": "histogram"
           }
          ],
          "histogram2d": [
           {
            "colorbar": {
             "outlinewidth": 0,
             "ticks": ""
            },
            "colorscale": [
             [
              0,
              "#0d0887"
             ],
             [
              0.1111111111111111,
              "#46039f"
             ],
             [
              0.2222222222222222,
              "#7201a8"
             ],
             [
              0.3333333333333333,
              "#9c179e"
             ],
             [
              0.4444444444444444,
              "#bd3786"
             ],
             [
              0.5555555555555556,
              "#d8576b"
             ],
             [
              0.6666666666666666,
              "#ed7953"
             ],
             [
              0.7777777777777778,
              "#fb9f3a"
             ],
             [
              0.8888888888888888,
              "#fdca26"
             ],
             [
              1,
              "#f0f921"
             ]
            ],
            "type": "histogram2d"
           }
          ],
          "histogram2dcontour": [
           {
            "colorbar": {
             "outlinewidth": 0,
             "ticks": ""
            },
            "colorscale": [
             [
              0,
              "#0d0887"
             ],
             [
              0.1111111111111111,
              "#46039f"
             ],
             [
              0.2222222222222222,
              "#7201a8"
             ],
             [
              0.3333333333333333,
              "#9c179e"
             ],
             [
              0.4444444444444444,
              "#bd3786"
             ],
             [
              0.5555555555555556,
              "#d8576b"
             ],
             [
              0.6666666666666666,
              "#ed7953"
             ],
             [
              0.7777777777777778,
              "#fb9f3a"
             ],
             [
              0.8888888888888888,
              "#fdca26"
             ],
             [
              1,
              "#f0f921"
             ]
            ],
            "type": "histogram2dcontour"
           }
          ],
          "mesh3d": [
           {
            "colorbar": {
             "outlinewidth": 0,
             "ticks": ""
            },
            "type": "mesh3d"
           }
          ],
          "parcoords": [
           {
            "line": {
             "colorbar": {
              "outlinewidth": 0,
              "ticks": ""
             }
            },
            "type": "parcoords"
           }
          ],
          "pie": [
           {
            "automargin": true,
            "type": "pie"
           }
          ],
          "scatter": [
           {
            "fillpattern": {
             "fillmode": "overlay",
             "size": 10,
             "solidity": 0.2
            },
            "type": "scatter"
           }
          ],
          "scatter3d": [
           {
            "line": {
             "colorbar": {
              "outlinewidth": 0,
              "ticks": ""
             }
            },
            "marker": {
             "colorbar": {
              "outlinewidth": 0,
              "ticks": ""
             }
            },
            "type": "scatter3d"
           }
          ],
          "scattercarpet": [
           {
            "marker": {
             "colorbar": {
              "outlinewidth": 0,
              "ticks": ""
             }
            },
            "type": "scattercarpet"
           }
          ],
          "scattergeo": [
           {
            "marker": {
             "colorbar": {
              "outlinewidth": 0,
              "ticks": ""
             }
            },
            "type": "scattergeo"
           }
          ],
          "scattergl": [
           {
            "marker": {
             "colorbar": {
              "outlinewidth": 0,
              "ticks": ""
             }
            },
            "type": "scattergl"
           }
          ],
          "scattermapbox": [
           {
            "marker": {
             "colorbar": {
              "outlinewidth": 0,
              "ticks": ""
             }
            },
            "type": "scattermapbox"
           }
          ],
          "scatterpolar": [
           {
            "marker": {
             "colorbar": {
              "outlinewidth": 0,
              "ticks": ""
             }
            },
            "type": "scatterpolar"
           }
          ],
          "scatterpolargl": [
           {
            "marker": {
             "colorbar": {
              "outlinewidth": 0,
              "ticks": ""
             }
            },
            "type": "scatterpolargl"
           }
          ],
          "scatterternary": [
           {
            "marker": {
             "colorbar": {
              "outlinewidth": 0,
              "ticks": ""
             }
            },
            "type": "scatterternary"
           }
          ],
          "surface": [
           {
            "colorbar": {
             "outlinewidth": 0,
             "ticks": ""
            },
            "colorscale": [
             [
              0,
              "#0d0887"
             ],
             [
              0.1111111111111111,
              "#46039f"
             ],
             [
              0.2222222222222222,
              "#7201a8"
             ],
             [
              0.3333333333333333,
              "#9c179e"
             ],
             [
              0.4444444444444444,
              "#bd3786"
             ],
             [
              0.5555555555555556,
              "#d8576b"
             ],
             [
              0.6666666666666666,
              "#ed7953"
             ],
             [
              0.7777777777777778,
              "#fb9f3a"
             ],
             [
              0.8888888888888888,
              "#fdca26"
             ],
             [
              1,
              "#f0f921"
             ]
            ],
            "type": "surface"
           }
          ],
          "table": [
           {
            "cells": {
             "fill": {
              "color": "#EBF0F8"
             },
             "line": {
              "color": "white"
             }
            },
            "header": {
             "fill": {
              "color": "#C8D4E3"
             },
             "line": {
              "color": "white"
             }
            },
            "type": "table"
           }
          ]
         },
         "layout": {
          "annotationdefaults": {
           "arrowcolor": "#2a3f5f",
           "arrowhead": 0,
           "arrowwidth": 1
          },
          "autotypenumbers": "strict",
          "coloraxis": {
           "colorbar": {
            "outlinewidth": 0,
            "ticks": ""
           }
          },
          "colorscale": {
           "diverging": [
            [
             0,
             "#8e0152"
            ],
            [
             0.1,
             "#c51b7d"
            ],
            [
             0.2,
             "#de77ae"
            ],
            [
             0.3,
             "#f1b6da"
            ],
            [
             0.4,
             "#fde0ef"
            ],
            [
             0.5,
             "#f7f7f7"
            ],
            [
             0.6,
             "#e6f5d0"
            ],
            [
             0.7,
             "#b8e186"
            ],
            [
             0.8,
             "#7fbc41"
            ],
            [
             0.9,
             "#4d9221"
            ],
            [
             1,
             "#276419"
            ]
           ],
           "sequential": [
            [
             0,
             "#0d0887"
            ],
            [
             0.1111111111111111,
             "#46039f"
            ],
            [
             0.2222222222222222,
             "#7201a8"
            ],
            [
             0.3333333333333333,
             "#9c179e"
            ],
            [
             0.4444444444444444,
             "#bd3786"
            ],
            [
             0.5555555555555556,
             "#d8576b"
            ],
            [
             0.6666666666666666,
             "#ed7953"
            ],
            [
             0.7777777777777778,
             "#fb9f3a"
            ],
            [
             0.8888888888888888,
             "#fdca26"
            ],
            [
             1,
             "#f0f921"
            ]
           ],
           "sequentialminus": [
            [
             0,
             "#0d0887"
            ],
            [
             0.1111111111111111,
             "#46039f"
            ],
            [
             0.2222222222222222,
             "#7201a8"
            ],
            [
             0.3333333333333333,
             "#9c179e"
            ],
            [
             0.4444444444444444,
             "#bd3786"
            ],
            [
             0.5555555555555556,
             "#d8576b"
            ],
            [
             0.6666666666666666,
             "#ed7953"
            ],
            [
             0.7777777777777778,
             "#fb9f3a"
            ],
            [
             0.8888888888888888,
             "#fdca26"
            ],
            [
             1,
             "#f0f921"
            ]
           ]
          },
          "colorway": [
           "#636efa",
           "#EF553B",
           "#00cc96",
           "#ab63fa",
           "#FFA15A",
           "#19d3f3",
           "#FF6692",
           "#B6E880",
           "#FF97FF",
           "#FECB52"
          ],
          "font": {
           "color": "#2a3f5f"
          },
          "geo": {
           "bgcolor": "white",
           "lakecolor": "white",
           "landcolor": "#E5ECF6",
           "showlakes": true,
           "showland": true,
           "subunitcolor": "white"
          },
          "hoverlabel": {
           "align": "left"
          },
          "hovermode": "closest",
          "mapbox": {
           "style": "light"
          },
          "paper_bgcolor": "white",
          "plot_bgcolor": "#E5ECF6",
          "polar": {
           "angularaxis": {
            "gridcolor": "white",
            "linecolor": "white",
            "ticks": ""
           },
           "bgcolor": "#E5ECF6",
           "radialaxis": {
            "gridcolor": "white",
            "linecolor": "white",
            "ticks": ""
           }
          },
          "scene": {
           "xaxis": {
            "backgroundcolor": "#E5ECF6",
            "gridcolor": "white",
            "gridwidth": 2,
            "linecolor": "white",
            "showbackground": true,
            "ticks": "",
            "zerolinecolor": "white"
           },
           "yaxis": {
            "backgroundcolor": "#E5ECF6",
            "gridcolor": "white",
            "gridwidth": 2,
            "linecolor": "white",
            "showbackground": true,
            "ticks": "",
            "zerolinecolor": "white"
           },
           "zaxis": {
            "backgroundcolor": "#E5ECF6",
            "gridcolor": "white",
            "gridwidth": 2,
            "linecolor": "white",
            "showbackground": true,
            "ticks": "",
            "zerolinecolor": "white"
           }
          },
          "shapedefaults": {
           "line": {
            "color": "#2a3f5f"
           }
          },
          "ternary": {
           "aaxis": {
            "gridcolor": "white",
            "linecolor": "white",
            "ticks": ""
           },
           "baxis": {
            "gridcolor": "white",
            "linecolor": "white",
            "ticks": ""
           },
           "bgcolor": "#E5ECF6",
           "caxis": {
            "gridcolor": "white",
            "linecolor": "white",
            "ticks": ""
           }
          },
          "title": {
           "x": 0.05
          },
          "xaxis": {
           "automargin": true,
           "gridcolor": "white",
           "linecolor": "white",
           "ticks": "",
           "title": {
            "standoff": 15
           },
           "zerolinecolor": "white",
           "zerolinewidth": 2
          },
          "yaxis": {
           "automargin": true,
           "gridcolor": "white",
           "linecolor": "white",
           "ticks": "",
           "title": {
            "standoff": 15
           },
           "zerolinecolor": "white",
           "zerolinewidth": 2
          }
         }
        },
        "title": {
         "text": "Box Plot"
        },
        "width": 800
       }
      }
     },
     "metadata": {},
     "output_type": "display_data"
    }
   ],
   "source": [
    "fig = go.Figure()\n",
    "fig.add_trace(go.Box(x=df[\"Sample\"], \n",
    "                     boxmean=True,\n",
    "                     notched=True, \n",
    "                     marker_color='green', \n",
    "                     boxpoints=\"outliers\",\n",
    "                     name='Normal',\n",
    "                     ))\n",
    "fig.update_layout(title='Box Plot', \n",
    "                  height = 500, width = 800,)"
   ]
  },
  {
   "cell_type": "markdown",
   "metadata": {},
   "source": [
    "2. Set the lmethod to determine the sample's quartiles with the input `quartilemethod`\n",
    "\n",
    "- The “linear” method uses the 25th percentile for Q1 and 75th percentile for Q3 as computed using method #10 (listed on http://jse.amstat.org/v14n3/langford.html). \n",
    "- The “exclusive” method uses the median to divide the ordered dataset into two halves if the sample is odd, it does not include the median in either half - Q1 is then the median of the lower half and Q3 the median of the upper half\n",
    "- The “inclusive” method also uses the median to divide the ordered dataset into two halves but if the sample is odd, it includes the median in both halves - Q1 is then the median of the lower half and Q3 the median of the upper half."
   ]
  },
  {
   "cell_type": "code",
   "execution_count": 27,
   "metadata": {},
   "outputs": [
    {
     "data": {
      "application/vnd.plotly.v1+json": {
       "config": {
        "plotlyServerURL": "https://plot.ly"
       },
       "data": [
        {
         "name": "Normal",
         "notched": true,
         "quartilemethod": "inclusive",
         "type": "box",
         "x": [
          -0.24911242232686695,
          -0.6297346499897254,
          3.1873011993982567,
          1.712338281096974,
          -0.4917153052132605,
          0.21125309579200696,
          -0.8615445113433992,
          -0.5757235244998266,
          -1.0830964838243449,
          0.36440662707449667,
          -0.8034710873018192,
          -1.6181785960519615,
          1.1638588615771888,
          -2.0696183538402786,
          2.68725852639543,
          -0.7034231716676067,
          0.30346738696643955,
          -1.047233264423056,
          -1.2954675929986894,
          -0.4422222424266258,
          1.140942944313598,
          0.8375671986338488,
          -0.15821825239092036,
          0.4761629880222062,
          -0.8814625740056464,
          1.1780973152591898,
          -1.0361146829290735,
          -0.9514097534216494,
          0.01086471375867213,
          0.4296227755029378,
          -1.2925026711300744,
          -1.7461147858348574,
          -0.16368083719487816,
          0.6712378400758342,
          0.18267763767409498,
          -0.9409815822554775,
          1.3308086048086898,
          0.5543172490267535,
          0.11687741974879812,
          -2.0009286108860365,
          0.8831615812758103,
          -0.19966492337671074,
          1.0059822367605793,
          -0.9234702000402577,
          -0.359106704548737,
          -0.6512663055015867,
          1.2444133290485426,
          -1.2549923166356907,
          -0.5103711797366935,
          0.7724847290406532,
          -0.5747185456528506,
          0.8495237239869309,
          0.974729075521964,
          -0.12355267827310303,
          0.6938078558258064,
          0.29457396087954785,
          -1.8179593681331219,
          1.0114862008086507,
          -0.07304751127327039,
          0.1032431673566755,
          1.746605994775457,
          2.65994282047823,
          0.7498334427476275,
          1.2464869561130234,
          0.41892574655609854,
          -0.6722514167083223,
          1.1925126680422837,
          -0.31015048423002817,
          0.5831815117841026,
          0.3630553471936788,
          -0.21891158193350319,
          0.15854906852384562,
          0.7798741979240054,
          1.4777000198977728,
          1.1734123959340033,
          -1.0897682015606114,
          1.2104047642360352,
          1.865643121875104,
          0.2166642029496778,
          -0.6690466220668653,
          -0.05976767612369798,
          -0.3760833405711885,
          -0.8033560719296021,
          -1.2293452514285848,
          -0.0050314132957281965,
          -0.055803655476482535,
          0.22220697922948793,
          0.6940850479618916,
          -0.6661111490832393,
          1.69576255570823,
          -1.5438287660515946,
          -0.0036373749938916314,
          2.0149559165288577,
          -1.3812400618708962,
          -1.6498644462574605,
          -0.13396945333782126,
          -0.7698211045596522,
          1.5284125154274484,
          -0.4491944101052898,
          -0.13613190852624746,
          -0.32221301472624864,
          -1.1199630673964118,
          -0.9953323134842098,
          1.8073905363391243,
          0.09038492014333323,
          -0.25126068243545324,
          -1.203747137923689,
          0.7964535682499773,
          -0.4815988134676816,
          1.1566248786276077,
          -1.2716441091902067,
          0.0768534645302473,
          0.2462228240371197,
          1.4996118775716027,
          2.4230297894973383,
          0.12524914142493382,
          1.8297933777861637,
          -0.43165950131232433,
          -0.6633153012608465,
          1.4620517049719872,
          -0.2322197545915436,
          -0.06275957327446034,
          -0.31927769206459106,
          0.13526987470095297,
          1.3997670605951145,
          -0.025134558566561445,
          0.9371740829399043,
          -0.8447978975042312,
          0.2398683593938524,
          -1.4186019848898432,
          -2.164731328368776,
          -0.6969614750051799,
          -0.7455902561804266,
          -0.15342102670663257,
          0.5280431870266379,
          -0.1466229801299648,
          0.19302401501608907,
          0.5798520523042505,
          0.13774687183517997,
          -0.13617319915584203,
          -0.6334218420975622,
          -0.6436777485094298,
          0.23296860543804385,
          0.9003471171776408,
          -0.1747904840575616,
          -0.0642567197554605,
          -1.4419421848000071,
          -0.5768628230843807,
          1.3196209793577758,
          1.19038485719613,
          -0.08657716171060523,
          0.7342258500721638,
          -0.08888557743949789,
          -0.2629449858140577,
          -0.7726467955512086,
          -0.0063627823548153585,
          -0.3071179425064033,
          -0.7250489419398457,
          -0.6616150201097293,
          0.4716852844135448,
          -1.9818681773652567,
          -0.24590135701259783,
          2.126760414404006,
          0.7835043505456636,
          1.8799949394452227,
          1.5395068825143443,
          1.045737425764193,
          0.9674893065027761,
          0.32464548820267347,
          -0.15434615024422396,
          0.9782803636739983,
          -0.22558529363912758,
          1.381957905022679,
          0.2698417500166731,
          1.598225987588667,
          0.23791438153711333,
          1.0274796818123193,
          -0.8737667221362457,
          -1.393177326858463,
          -0.5453106712353596,
          0.05124965721667932,
          -0.8755650080693562,
          0.19041695923022223,
          0.32961530527378907,
          0.6628491212740797,
          -0.20837517932725066,
          0.5613349127604874,
          -0.346325886338613,
          -1.2599205992540146,
          0.2357846188950058,
          0.24461649412308065,
          -2.945045169843882,
          -0.8573766163254158,
          1.3677111237694244,
          -0.46236055979376406,
          -0.7817803049203655,
          0.40457857491323335,
          0.03548594592179367,
          -0.7803768934401698,
          0.744894603597162,
          1.1671820695966968,
          -0.6132658741291128,
          0.24391260249479538,
          1.3440980976568881,
          1.9284003099430325,
          0.48607179710619114,
          -0.226637949800756,
          0.20180009495353565,
          1.433094770911674,
          -0.252468539973766,
          -0.14895343478224873,
          0.7028421024824381,
          0.6013769512878553,
          0.09356370761322261,
          1.5190815092559928,
          -0.055764291772838245,
          -0.27001664832139866,
          1.0926733369406565,
          0.7555635679583511,
          -0.03308793359213413,
          0.710822884213582,
          0.8639626947358802,
          -0.3205495535871958,
          -0.3046112170987417,
          2.411450797445365,
          0.21425359747472206,
          2.228181221005595,
          -0.6767741878103111,
          0.29166046044496313,
          1.7065496452095872,
          1.2132692745556637,
          0.43068366282011344,
          1.4132039917795503,
          -0.0219344194744931,
          0.3398893719105232,
          -0.5160849667354762,
          -0.6777922104001828,
          1.4050445423273272,
          -0.016733480146755148,
          -0.07964354072700565,
          0.6384397589704588,
          1.7052379972935874,
          -0.8911261132767132,
          -0.08208870445957828,
          0.38264021744659077,
          0.2834198779614656,
          -0.3921712326291253,
          -1.3516458603236916,
          -1.3850105750897959,
          0.2886163620300264,
          -0.1638190647170937,
          1.4112819608368719,
          -0.22161142959253533,
          0.48600232366689766,
          0.7341286059480694,
          -0.17388429296091096,
          -2.1629904058971814,
          -0.32505149585139065,
          0.16800020745117514,
          1.4057335782054212,
          -0.2426696004136814,
          0.5421320334493737,
          0.9029368672839453,
          -0.12634886482742483,
          0.28220701865500447,
          1.2602253749969117,
          1.0215529035272237,
          0.0657279528913463,
          0.2969035261739924,
          -0.1948358830687547,
          -0.42848284256122815,
          0.706478731545586,
          -1.5292009075404402,
          0.3468419477957674,
          0.23079674597839778,
          -0.06805793660351399,
          -0.7677178587028417,
          -0.46447228340119645,
          -1.4023512645416787,
          0.1769775013097821,
          1.0013355032568303,
          0.5734086525000165,
          -0.8556020846751993,
          0.35216087631661797,
          2.03111561129891,
          2.113126247728557,
          0.70978542623351,
          0.18673608803388692,
          0.3511317810110299,
          0.9645807938354352,
          0.6456602725041198,
          0.22904973279179922,
          0.6043996296669457,
          0.9428822354430688,
          0.35997237886105554,
          -0.4204156792509235,
          1.6272807220890768,
          1.1431620622091245,
          -1.2170907495078287,
          -0.8714217540277593,
          -1.6787815950489196,
          -0.8599223456797737,
          -0.33365942142778704,
          -0.8243363504139228,
          0.22583033780620126,
          -0.39173958127832964,
          0.8440954735246704,
          -0.2831897262780788,
          0.13269223313391856,
          -0.7559514108841673,
          -1.2486613461918679,
          -1.0750276658532243,
          -0.2404251878390258,
          1.027942559899388,
          -1.3918707676258222,
          1.1648381546364928,
          -0.67774704956628,
          0.6304727319195922,
          -0.654364063648174,
          0.9809157358744823,
          -0.5930270726603284,
          -1.4990067223780532,
          -0.6655525456381157,
          -1.1866239031664654,
          -2.537863946470893,
          0.07948623677522333,
          0.30789005443121775,
          2.0338520162969815,
          -0.9572351801308894,
          -1.836467188484844,
          -1.2736818464946218,
          -0.32025642649449093,
          0.33792543671404485,
          -1.3365012482409142,
          -0.3655275510631917,
          0.26819642801225635,
          -1.9651568403084705,
          0.5555149560179088,
          0.10755932427461112,
          1.9281213320273602,
          -1.6843112136840952,
          0.674514386623298,
          -1.6186745436845738,
          -0.4830160844146874,
          1.1853580326466813,
          -0.9446329800980461,
          0.611844846096744,
          -1.9497080829770035,
          -0.6150372892203996,
          0.7126615733294899,
          -1.175194466884156,
          -1.1485408693365469,
          1.5580523528670676,
          0.24226881620332397,
          0.24158714995867175,
          -0.620599053476021,
          -1.1765428127089606,
          -0.07630469955801247,
          -0.5533875751444196,
          0.13715372413826799,
          -0.9844394162930232,
          -1.133088451038267,
          -0.5980738969375735,
          1.7509433977478228,
          1.2656148881550071,
          -2.4135592375549946,
          -0.6554042539244077,
          -2.37615727952829,
          0.38802475950140575,
          -1.2609605724462885,
          -0.3855160630704734,
          -0.8221335173155376,
          0.2440270752545688,
          1.7169086662164723,
          0.12378970454935015,
          -0.8817840310502313,
          0.7543356828439383,
          0.7619607004982416,
          -1.2627026216595911,
          -0.10714119550642359,
          0.3771649825155884,
          1.4497367953416866,
          -0.49514571230203364,
          -0.24402752571737024,
          3.1739468721567374,
          0.8431910917764285,
          0.036653176632103594,
          0.089008229895136,
          -0.22520599984580433,
          0.9747511673637623,
          0.8230658713631177,
          -0.022380517674719134,
          1.6098993175350205,
          0.225317732067235,
          -0.5030286819979535,
          -2.837256812882985,
          -1.1584321885601394,
          0.0807451019702325,
          0.5791959873682315,
          -0.1944429428399401,
          0.13240289297576796,
          -1.0566720771984655,
          -1.0008495459280264,
          -1.054681792937043,
          0.028079044354764347,
          0.4862640895554921,
          2.9245027789401723,
          -1.5997960463747012,
          0.4874826855412027,
          -0.2519474003087841,
          -0.42472911664589874,
          -1.871600326787453,
          -1.2404183224820806,
          0.8630998538561606,
          -2.2820617532430214,
          0.6192222757957793,
          1.030422293380501,
          0.6580856562795296,
          -0.6156479197167619,
          0.6290225117215802,
          0.4397592781252,
          -0.10394846571133332,
          0.22408508995017687,
          1.2666072377225241,
          0.4689977058751315,
          1.3549461923953292,
          -0.03698745223524077,
          0.4783921399789872,
          -0.6428558039006229,
          1.4329640893450901,
          0.4019731275217769,
          -0.39626022973298297,
          -0.3258781582772921,
          0.7031160842510465,
          0.9617839915872582,
          0.13556943340922367,
          -0.5360199344773487,
          0.11370939972977605,
          -0.9580103308713585,
          0.29960155101460123,
          -1.3954495767183401,
          0.6440420606891998,
          0.8215605263293743,
          -0.08646641699653392,
          0.2831707536083104,
          0.6893293127130842,
          -0.017621254554406433,
          0.12902778320445063,
          -0.3986413689316429,
          -1.773633412216595,
          1.055080041491089,
          1.6251138805342351,
          0.7730857077088902,
          -0.03439610362407187,
          -0.5518333692198298,
          0.6699559946888448,
          0.9475988565869125,
          -0.5429677410678523,
          0.5199483361438223,
          0.7739593063633642,
          -1.1330597425360576,
          -0.7384093111239979,
          1.2280501857168638,
          -0.5078545713466531,
          -1.4015945902787659,
          0.32975662931562066,
          0.07462648320319247,
          0.06796962347784057,
          0.10307169270755037,
          0.3153231365542769,
          -0.7488634416252051,
          -1.5021609660302033,
          0.671760625590975,
          1.1768927209738718,
          -1.449875597430495,
          -0.9650761939239775,
          1.5598942594575302,
          -0.23617632602430164,
          1.2369222847721593,
          -0.13448087265402134,
          -0.6333775265937124,
          1.1606758526930934,
          0.10617738757447824,
          -0.3573970920738504,
          0.7520565005400022,
          0.712403005435713,
          -0.815561052019479,
          0.16181659381827806,
          1.478008724359994,
          -0.45732492033553435,
          1.5655014526686513,
          -0.26739924138249294,
          -1.5177615001803089,
          -0.736432565370777,
          0.37172456647091573,
          -0.10976785677026837,
          0.5329770151076588,
          -0.5688316550432472,
          0.8696288732320077,
          -0.6949000194607546
         ]
        }
       ],
       "layout": {
        "height": 500,
        "template": {
         "data": {
          "bar": [
           {
            "error_x": {
             "color": "#2a3f5f"
            },
            "error_y": {
             "color": "#2a3f5f"
            },
            "marker": {
             "line": {
              "color": "#E5ECF6",
              "width": 0.5
             },
             "pattern": {
              "fillmode": "overlay",
              "size": 10,
              "solidity": 0.2
             }
            },
            "type": "bar"
           }
          ],
          "barpolar": [
           {
            "marker": {
             "line": {
              "color": "#E5ECF6",
              "width": 0.5
             },
             "pattern": {
              "fillmode": "overlay",
              "size": 10,
              "solidity": 0.2
             }
            },
            "type": "barpolar"
           }
          ],
          "carpet": [
           {
            "aaxis": {
             "endlinecolor": "#2a3f5f",
             "gridcolor": "white",
             "linecolor": "white",
             "minorgridcolor": "white",
             "startlinecolor": "#2a3f5f"
            },
            "baxis": {
             "endlinecolor": "#2a3f5f",
             "gridcolor": "white",
             "linecolor": "white",
             "minorgridcolor": "white",
             "startlinecolor": "#2a3f5f"
            },
            "type": "carpet"
           }
          ],
          "choropleth": [
           {
            "colorbar": {
             "outlinewidth": 0,
             "ticks": ""
            },
            "type": "choropleth"
           }
          ],
          "contour": [
           {
            "colorbar": {
             "outlinewidth": 0,
             "ticks": ""
            },
            "colorscale": [
             [
              0,
              "#0d0887"
             ],
             [
              0.1111111111111111,
              "#46039f"
             ],
             [
              0.2222222222222222,
              "#7201a8"
             ],
             [
              0.3333333333333333,
              "#9c179e"
             ],
             [
              0.4444444444444444,
              "#bd3786"
             ],
             [
              0.5555555555555556,
              "#d8576b"
             ],
             [
              0.6666666666666666,
              "#ed7953"
             ],
             [
              0.7777777777777778,
              "#fb9f3a"
             ],
             [
              0.8888888888888888,
              "#fdca26"
             ],
             [
              1,
              "#f0f921"
             ]
            ],
            "type": "contour"
           }
          ],
          "contourcarpet": [
           {
            "colorbar": {
             "outlinewidth": 0,
             "ticks": ""
            },
            "type": "contourcarpet"
           }
          ],
          "heatmap": [
           {
            "colorbar": {
             "outlinewidth": 0,
             "ticks": ""
            },
            "colorscale": [
             [
              0,
              "#0d0887"
             ],
             [
              0.1111111111111111,
              "#46039f"
             ],
             [
              0.2222222222222222,
              "#7201a8"
             ],
             [
              0.3333333333333333,
              "#9c179e"
             ],
             [
              0.4444444444444444,
              "#bd3786"
             ],
             [
              0.5555555555555556,
              "#d8576b"
             ],
             [
              0.6666666666666666,
              "#ed7953"
             ],
             [
              0.7777777777777778,
              "#fb9f3a"
             ],
             [
              0.8888888888888888,
              "#fdca26"
             ],
             [
              1,
              "#f0f921"
             ]
            ],
            "type": "heatmap"
           }
          ],
          "heatmapgl": [
           {
            "colorbar": {
             "outlinewidth": 0,
             "ticks": ""
            },
            "colorscale": [
             [
              0,
              "#0d0887"
             ],
             [
              0.1111111111111111,
              "#46039f"
             ],
             [
              0.2222222222222222,
              "#7201a8"
             ],
             [
              0.3333333333333333,
              "#9c179e"
             ],
             [
              0.4444444444444444,
              "#bd3786"
             ],
             [
              0.5555555555555556,
              "#d8576b"
             ],
             [
              0.6666666666666666,
              "#ed7953"
             ],
             [
              0.7777777777777778,
              "#fb9f3a"
             ],
             [
              0.8888888888888888,
              "#fdca26"
             ],
             [
              1,
              "#f0f921"
             ]
            ],
            "type": "heatmapgl"
           }
          ],
          "histogram": [
           {
            "marker": {
             "pattern": {
              "fillmode": "overlay",
              "size": 10,
              "solidity": 0.2
             }
            },
            "type": "histogram"
           }
          ],
          "histogram2d": [
           {
            "colorbar": {
             "outlinewidth": 0,
             "ticks": ""
            },
            "colorscale": [
             [
              0,
              "#0d0887"
             ],
             [
              0.1111111111111111,
              "#46039f"
             ],
             [
              0.2222222222222222,
              "#7201a8"
             ],
             [
              0.3333333333333333,
              "#9c179e"
             ],
             [
              0.4444444444444444,
              "#bd3786"
             ],
             [
              0.5555555555555556,
              "#d8576b"
             ],
             [
              0.6666666666666666,
              "#ed7953"
             ],
             [
              0.7777777777777778,
              "#fb9f3a"
             ],
             [
              0.8888888888888888,
              "#fdca26"
             ],
             [
              1,
              "#f0f921"
             ]
            ],
            "type": "histogram2d"
           }
          ],
          "histogram2dcontour": [
           {
            "colorbar": {
             "outlinewidth": 0,
             "ticks": ""
            },
            "colorscale": [
             [
              0,
              "#0d0887"
             ],
             [
              0.1111111111111111,
              "#46039f"
             ],
             [
              0.2222222222222222,
              "#7201a8"
             ],
             [
              0.3333333333333333,
              "#9c179e"
             ],
             [
              0.4444444444444444,
              "#bd3786"
             ],
             [
              0.5555555555555556,
              "#d8576b"
             ],
             [
              0.6666666666666666,
              "#ed7953"
             ],
             [
              0.7777777777777778,
              "#fb9f3a"
             ],
             [
              0.8888888888888888,
              "#fdca26"
             ],
             [
              1,
              "#f0f921"
             ]
            ],
            "type": "histogram2dcontour"
           }
          ],
          "mesh3d": [
           {
            "colorbar": {
             "outlinewidth": 0,
             "ticks": ""
            },
            "type": "mesh3d"
           }
          ],
          "parcoords": [
           {
            "line": {
             "colorbar": {
              "outlinewidth": 0,
              "ticks": ""
             }
            },
            "type": "parcoords"
           }
          ],
          "pie": [
           {
            "automargin": true,
            "type": "pie"
           }
          ],
          "scatter": [
           {
            "fillpattern": {
             "fillmode": "overlay",
             "size": 10,
             "solidity": 0.2
            },
            "type": "scatter"
           }
          ],
          "scatter3d": [
           {
            "line": {
             "colorbar": {
              "outlinewidth": 0,
              "ticks": ""
             }
            },
            "marker": {
             "colorbar": {
              "outlinewidth": 0,
              "ticks": ""
             }
            },
            "type": "scatter3d"
           }
          ],
          "scattercarpet": [
           {
            "marker": {
             "colorbar": {
              "outlinewidth": 0,
              "ticks": ""
             }
            },
            "type": "scattercarpet"
           }
          ],
          "scattergeo": [
           {
            "marker": {
             "colorbar": {
              "outlinewidth": 0,
              "ticks": ""
             }
            },
            "type": "scattergeo"
           }
          ],
          "scattergl": [
           {
            "marker": {
             "colorbar": {
              "outlinewidth": 0,
              "ticks": ""
             }
            },
            "type": "scattergl"
           }
          ],
          "scattermapbox": [
           {
            "marker": {
             "colorbar": {
              "outlinewidth": 0,
              "ticks": ""
             }
            },
            "type": "scattermapbox"
           }
          ],
          "scatterpolar": [
           {
            "marker": {
             "colorbar": {
              "outlinewidth": 0,
              "ticks": ""
             }
            },
            "type": "scatterpolar"
           }
          ],
          "scatterpolargl": [
           {
            "marker": {
             "colorbar": {
              "outlinewidth": 0,
              "ticks": ""
             }
            },
            "type": "scatterpolargl"
           }
          ],
          "scatterternary": [
           {
            "marker": {
             "colorbar": {
              "outlinewidth": 0,
              "ticks": ""
             }
            },
            "type": "scatterternary"
           }
          ],
          "surface": [
           {
            "colorbar": {
             "outlinewidth": 0,
             "ticks": ""
            },
            "colorscale": [
             [
              0,
              "#0d0887"
             ],
             [
              0.1111111111111111,
              "#46039f"
             ],
             [
              0.2222222222222222,
              "#7201a8"
             ],
             [
              0.3333333333333333,
              "#9c179e"
             ],
             [
              0.4444444444444444,
              "#bd3786"
             ],
             [
              0.5555555555555556,
              "#d8576b"
             ],
             [
              0.6666666666666666,
              "#ed7953"
             ],
             [
              0.7777777777777778,
              "#fb9f3a"
             ],
             [
              0.8888888888888888,
              "#fdca26"
             ],
             [
              1,
              "#f0f921"
             ]
            ],
            "type": "surface"
           }
          ],
          "table": [
           {
            "cells": {
             "fill": {
              "color": "#EBF0F8"
             },
             "line": {
              "color": "white"
             }
            },
            "header": {
             "fill": {
              "color": "#C8D4E3"
             },
             "line": {
              "color": "white"
             }
            },
            "type": "table"
           }
          ]
         },
         "layout": {
          "annotationdefaults": {
           "arrowcolor": "#2a3f5f",
           "arrowhead": 0,
           "arrowwidth": 1
          },
          "autotypenumbers": "strict",
          "coloraxis": {
           "colorbar": {
            "outlinewidth": 0,
            "ticks": ""
           }
          },
          "colorscale": {
           "diverging": [
            [
             0,
             "#8e0152"
            ],
            [
             0.1,
             "#c51b7d"
            ],
            [
             0.2,
             "#de77ae"
            ],
            [
             0.3,
             "#f1b6da"
            ],
            [
             0.4,
             "#fde0ef"
            ],
            [
             0.5,
             "#f7f7f7"
            ],
            [
             0.6,
             "#e6f5d0"
            ],
            [
             0.7,
             "#b8e186"
            ],
            [
             0.8,
             "#7fbc41"
            ],
            [
             0.9,
             "#4d9221"
            ],
            [
             1,
             "#276419"
            ]
           ],
           "sequential": [
            [
             0,
             "#0d0887"
            ],
            [
             0.1111111111111111,
             "#46039f"
            ],
            [
             0.2222222222222222,
             "#7201a8"
            ],
            [
             0.3333333333333333,
             "#9c179e"
            ],
            [
             0.4444444444444444,
             "#bd3786"
            ],
            [
             0.5555555555555556,
             "#d8576b"
            ],
            [
             0.6666666666666666,
             "#ed7953"
            ],
            [
             0.7777777777777778,
             "#fb9f3a"
            ],
            [
             0.8888888888888888,
             "#fdca26"
            ],
            [
             1,
             "#f0f921"
            ]
           ],
           "sequentialminus": [
            [
             0,
             "#0d0887"
            ],
            [
             0.1111111111111111,
             "#46039f"
            ],
            [
             0.2222222222222222,
             "#7201a8"
            ],
            [
             0.3333333333333333,
             "#9c179e"
            ],
            [
             0.4444444444444444,
             "#bd3786"
            ],
            [
             0.5555555555555556,
             "#d8576b"
            ],
            [
             0.6666666666666666,
             "#ed7953"
            ],
            [
             0.7777777777777778,
             "#fb9f3a"
            ],
            [
             0.8888888888888888,
             "#fdca26"
            ],
            [
             1,
             "#f0f921"
            ]
           ]
          },
          "colorway": [
           "#636efa",
           "#EF553B",
           "#00cc96",
           "#ab63fa",
           "#FFA15A",
           "#19d3f3",
           "#FF6692",
           "#B6E880",
           "#FF97FF",
           "#FECB52"
          ],
          "font": {
           "color": "#2a3f5f"
          },
          "geo": {
           "bgcolor": "white",
           "lakecolor": "white",
           "landcolor": "#E5ECF6",
           "showlakes": true,
           "showland": true,
           "subunitcolor": "white"
          },
          "hoverlabel": {
           "align": "left"
          },
          "hovermode": "closest",
          "mapbox": {
           "style": "light"
          },
          "paper_bgcolor": "white",
          "plot_bgcolor": "#E5ECF6",
          "polar": {
           "angularaxis": {
            "gridcolor": "white",
            "linecolor": "white",
            "ticks": ""
           },
           "bgcolor": "#E5ECF6",
           "radialaxis": {
            "gridcolor": "white",
            "linecolor": "white",
            "ticks": ""
           }
          },
          "scene": {
           "xaxis": {
            "backgroundcolor": "#E5ECF6",
            "gridcolor": "white",
            "gridwidth": 2,
            "linecolor": "white",
            "showbackground": true,
            "ticks": "",
            "zerolinecolor": "white"
           },
           "yaxis": {
            "backgroundcolor": "#E5ECF6",
            "gridcolor": "white",
            "gridwidth": 2,
            "linecolor": "white",
            "showbackground": true,
            "ticks": "",
            "zerolinecolor": "white"
           },
           "zaxis": {
            "backgroundcolor": "#E5ECF6",
            "gridcolor": "white",
            "gridwidth": 2,
            "linecolor": "white",
            "showbackground": true,
            "ticks": "",
            "zerolinecolor": "white"
           }
          },
          "shapedefaults": {
           "line": {
            "color": "#2a3f5f"
           }
          },
          "ternary": {
           "aaxis": {
            "gridcolor": "white",
            "linecolor": "white",
            "ticks": ""
           },
           "baxis": {
            "gridcolor": "white",
            "linecolor": "white",
            "ticks": ""
           },
           "bgcolor": "#E5ECF6",
           "caxis": {
            "gridcolor": "white",
            "linecolor": "white",
            "ticks": ""
           }
          },
          "title": {
           "x": 0.05
          },
          "xaxis": {
           "automargin": true,
           "gridcolor": "white",
           "linecolor": "white",
           "ticks": "",
           "title": {
            "standoff": 15
           },
           "zerolinecolor": "white",
           "zerolinewidth": 2
          },
          "yaxis": {
           "automargin": true,
           "gridcolor": "white",
           "linecolor": "white",
           "ticks": "",
           "title": {
            "standoff": 15
           },
           "zerolinecolor": "white",
           "zerolinewidth": 2
          }
         }
        },
        "title": {
         "text": "Box Plot"
        },
        "width": 800
       }
      }
     },
     "metadata": {},
     "output_type": "display_data"
    }
   ],
   "source": [
    "fig = go.Figure()\n",
    "fig.add_trace(go.Box(x=df[\"Sample\"], \n",
    "                     quartilemethod='inclusive',\n",
    "                     notched=True, \n",
    "                     name='Normal',\n",
    "                     ))\n",
    "fig.update_layout(title='Box Plot', \n",
    "                  height = 500, width = 800,)\n",
    "\n",
    "fig.show()"
   ]
  }
 ],
 "metadata": {
  "kernelspec": {
   "display_name": ".venv",
   "language": "python",
   "name": "python3"
  },
  "language_info": {
   "codemirror_mode": {
    "name": "ipython",
    "version": 3
   },
   "file_extension": ".py",
   "mimetype": "text/x-python",
   "name": "python",
   "nbconvert_exporter": "python",
   "pygments_lexer": "ipython3",
   "version": "3.11.4"
  }
 },
 "nbformat": 4,
 "nbformat_minor": 2
}
