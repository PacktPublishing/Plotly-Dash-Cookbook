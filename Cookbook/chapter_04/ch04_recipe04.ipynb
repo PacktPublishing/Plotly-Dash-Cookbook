{
 "cells": [
  {
   "cell_type": "markdown",
   "metadata": {},
   "source": [
    "# MMaking Box Plots better with Jitter"
   ]
  },
  {
   "cell_type": "markdown",
   "metadata": {},
   "source": [
    "## Getting ready\n",
    "\n",
    "\n",
    "In addition to `plotly`, `numpy` and `pandas`, make sure the `scipy` Python library avaiable in your Python environment\n",
    "You can install it using the command:"
   ]
  },
  {
   "cell_type": "markdown",
   "metadata": {},
   "source": [
    "```\n",
    "pip install scipy \n",
    "```"
   ]
  },
  {
   "cell_type": "markdown",
   "metadata": {},
   "source": [
    "For this recipe we will create two data sets"
   ]
  },
  {
   "cell_type": "markdown",
   "metadata": {},
   "source": [
    "1. Import the Python modules `numpy`, `pandas`. Import the [`norm`](https://docs.scipy.org/doc/scipy/reference/generated/scipy.stats.norm.html) object from `scipy.stats`. This object will allow us to generate random samples from a normal distribution. This will help us to create data sets to be used in this recipe."
   ]
  },
  {
   "cell_type": "code",
   "execution_count": 56,
   "metadata": {},
   "outputs": [],
   "source": [
    "import numpy as np\n",
    "import pandas as pd\n",
    "from scipy.stats import norm, t"
   ]
  },
  {
   "cell_type": "markdown",
   "metadata": {},
   "source": [
    "2. Create two data sets to be used in this recipe"
   ]
  },
  {
   "cell_type": "code",
   "execution_count": 80,
   "metadata": {},
   "outputs": [],
   "source": [
    "n = 200\n",
    "sample1 = norm(loc=0).rvs(n)\n",
    "sample2 = t(df=3).rvs(n)"
   ]
  },
  {
   "cell_type": "code",
   "execution_count": 81,
   "metadata": {},
   "outputs": [],
   "source": [
    "data1 = pd.DataFrame({'Normal': sample1})"
   ]
  },
  {
   "cell_type": "code",
   "execution_count": 59,
   "metadata": {},
   "outputs": [],
   "source": [
    "samples =  np.concatenate( (sample1, sample2))\n",
    "labels = ['Normal']*n + ['t-Student']*n \n",
    "data2 = pd.DataFrame({'Data': samples, 'Label':labels})"
   ]
  },
  {
   "cell_type": "markdown",
   "metadata": {},
   "source": [
    "## How to do it"
   ]
  },
  {
   "cell_type": "markdown",
   "metadata": {},
   "source": [
    "1. Import the `plotly.express` module as `px`"
   ]
  },
  {
   "cell_type": "code",
   "execution_count": 60,
   "metadata": {},
   "outputs": [],
   "source": [
    "import plotly.express as px"
   ]
  },
  {
   "cell_type": "markdown",
   "metadata": {},
   "source": [
    "2. Make a simple scatter plot to illustrate the points in the `data1` data set using the function `histogram`"
   ]
  },
  {
   "cell_type": "code",
   "execution_count": 61,
   "metadata": {},
   "outputs": [],
   "source": [
    "df = data1"
   ]
  },
  {
   "cell_type": "code",
   "execution_count": 62,
   "metadata": {},
   "outputs": [],
   "source": [
    "import plotly.graph_objects as go"
   ]
  },
  {
   "cell_type": "code",
   "execution_count": 63,
   "metadata": {},
   "outputs": [
    {
     "data": {
      "application/vnd.plotly.v1+json": {
       "config": {
        "plotlyServerURL": "https://plot.ly"
       },
       "data": [
        {
         "boxpoints": "all",
         "marker": {
          "color": "purple"
         },
         "name": "Normal",
         "notched": true,
         "type": "box",
         "x": [
          -1.0261643648198875,
          -0.7457670097247742,
          0.5169715898221674,
          -0.9206300857059962,
          1.2708570202757552,
          0.5287434741925299,
          -0.7513541334355245,
          -0.33979043771247586,
          0.39865914047191553,
          -1.4385241116579903,
          0.9614721889977241,
          -0.16100373820253155,
          0.19925583752756496,
          0.934865930750154,
          0.2986300789794512,
          1.0583773054730714,
          1.475782902713721,
          -1.0605229028723235,
          -0.3816673817024672,
          0.03434740713375005,
          -0.8341307306613622,
          -0.8346828523498678,
          -0.14274325670907456,
          -1.0773603446893942,
          -0.18706223243941972,
          0.4397982583584502,
          -0.6113089397147986,
          0.26907967710750724,
          2.578522597069413,
          1.0038046731508723,
          1.3741821007480701,
          1.7062924702261255,
          0.03860936045265753,
          0.5113781670685686,
          0.18950709416213005,
          -0.7461360192393409,
          1.3285424661071896,
          1.5445706189485933,
          -0.8315783357340815,
          0.9473751198066368,
          0.46821341702001545,
          -1.5022475908403181,
          0.7426201962607565,
          0.1000242461470277,
          -0.8825526057369291,
          0.7677986388281807,
          0.692600951674965,
          1.4604178766584457,
          -0.16344691861131694,
          0.08037429671353669,
          -0.5419305489418446,
          -1.0289239410612818,
          0.3030003939652241,
          -0.6532923292134275,
          0.7352516512322413,
          -1.104407221387953,
          1.3191037117770876,
          1.4500295344030831,
          1.1797533905733526,
          1.1611714222794565,
          -0.5993505226698922,
          0.06124979615807197,
          1.1684744739215411,
          0.12271409689581869,
          -1.0014659159766395,
          0.22250745654823442,
          0.4340159232878915,
          -0.054236579504245125,
          -0.1586946026678679,
          -0.08366979445934837,
          1.5384019559646418,
          -0.11595002460887176,
          -0.10141682247110448,
          -0.3553437426085144,
          1.3804261782200065,
          0.24915460879957405,
          0.04280380440190883,
          1.9410653602692307,
          1.2983219848878462,
          -0.8708338724746266,
          0.6449454837215879,
          -1.6685780692915038,
          -0.7220306498962695,
          -1.0318806164901668,
          -1.361406351372163,
          0.5905357745979413,
          -0.8329180497083237,
          -0.4499343350934873,
          0.44243100296424814,
          1.0420282072075118,
          -1.0488967377851746,
          2.0712877963162897,
          -1.792454421336977,
          -0.5816614946470545,
          0.4975465795154681,
          0.4844205136455764,
          -0.07951047969341471,
          0.09807143153368005,
          0.5458903219153158,
          0.6900229868217002,
          1.0921185858311298,
          -0.30227932561424725,
          -0.212098903198649,
          -2.7358877157654535,
          -0.10828817956781756,
          -1.0904717185793968,
          -1.2568225905762584,
          -0.5970878988808855,
          1.1142331065377402,
          1.281170869734194,
          -0.23581286758055534,
          0.7288395856208925,
          -0.27063572457898166,
          -1.6136840781736355,
          0.7721027358367294,
          0.354381163178985,
          -0.9430635482830344,
          0.07375119005090937,
          0.1540676016774108,
          -1.3373342118666742,
          1.6098044582427538,
          -1.5827094972263,
          -1.1884746581685866,
          -0.25355216734906827,
          1.6078552153475252,
          -0.4825228770569367,
          -0.49374714171276024,
          0.7481709908988774,
          -0.4137868953837393,
          0.9325198008627055,
          0.3817999571879369,
          -0.7062456029764927,
          0.0956203237455665,
          0.02601766936710144,
          -0.5519770752308006,
          0.10679477705835479,
          -1.392609137814081,
          -0.6940276132189362,
          -0.5481887075053642,
          0.30235469926141983,
          -1.5215842310220837,
          -1.0217284971110538,
          -0.9399577168709218,
          0.20553200979183753,
          0.40136104208963463,
          -1.4595526494608697,
          -0.11349420876491476,
          0.6042955132584121,
          -0.43472645626308476,
          0.14607016901041645
         ]
        }
       ],
       "layout": {
        "height": 500,
        "template": {
         "data": {
          "bar": [
           {
            "error_x": {
             "color": "#2a3f5f"
            },
            "error_y": {
             "color": "#2a3f5f"
            },
            "marker": {
             "line": {
              "color": "#E5ECF6",
              "width": 0.5
             },
             "pattern": {
              "fillmode": "overlay",
              "size": 10,
              "solidity": 0.2
             }
            },
            "type": "bar"
           }
          ],
          "barpolar": [
           {
            "marker": {
             "line": {
              "color": "#E5ECF6",
              "width": 0.5
             },
             "pattern": {
              "fillmode": "overlay",
              "size": 10,
              "solidity": 0.2
             }
            },
            "type": "barpolar"
           }
          ],
          "carpet": [
           {
            "aaxis": {
             "endlinecolor": "#2a3f5f",
             "gridcolor": "white",
             "linecolor": "white",
             "minorgridcolor": "white",
             "startlinecolor": "#2a3f5f"
            },
            "baxis": {
             "endlinecolor": "#2a3f5f",
             "gridcolor": "white",
             "linecolor": "white",
             "minorgridcolor": "white",
             "startlinecolor": "#2a3f5f"
            },
            "type": "carpet"
           }
          ],
          "choropleth": [
           {
            "colorbar": {
             "outlinewidth": 0,
             "ticks": ""
            },
            "type": "choropleth"
           }
          ],
          "contour": [
           {
            "colorbar": {
             "outlinewidth": 0,
             "ticks": ""
            },
            "colorscale": [
             [
              0,
              "#0d0887"
             ],
             [
              0.1111111111111111,
              "#46039f"
             ],
             [
              0.2222222222222222,
              "#7201a8"
             ],
             [
              0.3333333333333333,
              "#9c179e"
             ],
             [
              0.4444444444444444,
              "#bd3786"
             ],
             [
              0.5555555555555556,
              "#d8576b"
             ],
             [
              0.6666666666666666,
              "#ed7953"
             ],
             [
              0.7777777777777778,
              "#fb9f3a"
             ],
             [
              0.8888888888888888,
              "#fdca26"
             ],
             [
              1,
              "#f0f921"
             ]
            ],
            "type": "contour"
           }
          ],
          "contourcarpet": [
           {
            "colorbar": {
             "outlinewidth": 0,
             "ticks": ""
            },
            "type": "contourcarpet"
           }
          ],
          "heatmap": [
           {
            "colorbar": {
             "outlinewidth": 0,
             "ticks": ""
            },
            "colorscale": [
             [
              0,
              "#0d0887"
             ],
             [
              0.1111111111111111,
              "#46039f"
             ],
             [
              0.2222222222222222,
              "#7201a8"
             ],
             [
              0.3333333333333333,
              "#9c179e"
             ],
             [
              0.4444444444444444,
              "#bd3786"
             ],
             [
              0.5555555555555556,
              "#d8576b"
             ],
             [
              0.6666666666666666,
              "#ed7953"
             ],
             [
              0.7777777777777778,
              "#fb9f3a"
             ],
             [
              0.8888888888888888,
              "#fdca26"
             ],
             [
              1,
              "#f0f921"
             ]
            ],
            "type": "heatmap"
           }
          ],
          "heatmapgl": [
           {
            "colorbar": {
             "outlinewidth": 0,
             "ticks": ""
            },
            "colorscale": [
             [
              0,
              "#0d0887"
             ],
             [
              0.1111111111111111,
              "#46039f"
             ],
             [
              0.2222222222222222,
              "#7201a8"
             ],
             [
              0.3333333333333333,
              "#9c179e"
             ],
             [
              0.4444444444444444,
              "#bd3786"
             ],
             [
              0.5555555555555556,
              "#d8576b"
             ],
             [
              0.6666666666666666,
              "#ed7953"
             ],
             [
              0.7777777777777778,
              "#fb9f3a"
             ],
             [
              0.8888888888888888,
              "#fdca26"
             ],
             [
              1,
              "#f0f921"
             ]
            ],
            "type": "heatmapgl"
           }
          ],
          "histogram": [
           {
            "marker": {
             "pattern": {
              "fillmode": "overlay",
              "size": 10,
              "solidity": 0.2
             }
            },
            "type": "histogram"
           }
          ],
          "histogram2d": [
           {
            "colorbar": {
             "outlinewidth": 0,
             "ticks": ""
            },
            "colorscale": [
             [
              0,
              "#0d0887"
             ],
             [
              0.1111111111111111,
              "#46039f"
             ],
             [
              0.2222222222222222,
              "#7201a8"
             ],
             [
              0.3333333333333333,
              "#9c179e"
             ],
             [
              0.4444444444444444,
              "#bd3786"
             ],
             [
              0.5555555555555556,
              "#d8576b"
             ],
             [
              0.6666666666666666,
              "#ed7953"
             ],
             [
              0.7777777777777778,
              "#fb9f3a"
             ],
             [
              0.8888888888888888,
              "#fdca26"
             ],
             [
              1,
              "#f0f921"
             ]
            ],
            "type": "histogram2d"
           }
          ],
          "histogram2dcontour": [
           {
            "colorbar": {
             "outlinewidth": 0,
             "ticks": ""
            },
            "colorscale": [
             [
              0,
              "#0d0887"
             ],
             [
              0.1111111111111111,
              "#46039f"
             ],
             [
              0.2222222222222222,
              "#7201a8"
             ],
             [
              0.3333333333333333,
              "#9c179e"
             ],
             [
              0.4444444444444444,
              "#bd3786"
             ],
             [
              0.5555555555555556,
              "#d8576b"
             ],
             [
              0.6666666666666666,
              "#ed7953"
             ],
             [
              0.7777777777777778,
              "#fb9f3a"
             ],
             [
              0.8888888888888888,
              "#fdca26"
             ],
             [
              1,
              "#f0f921"
             ]
            ],
            "type": "histogram2dcontour"
           }
          ],
          "mesh3d": [
           {
            "colorbar": {
             "outlinewidth": 0,
             "ticks": ""
            },
            "type": "mesh3d"
           }
          ],
          "parcoords": [
           {
            "line": {
             "colorbar": {
              "outlinewidth": 0,
              "ticks": ""
             }
            },
            "type": "parcoords"
           }
          ],
          "pie": [
           {
            "automargin": true,
            "type": "pie"
           }
          ],
          "scatter": [
           {
            "fillpattern": {
             "fillmode": "overlay",
             "size": 10,
             "solidity": 0.2
            },
            "type": "scatter"
           }
          ],
          "scatter3d": [
           {
            "line": {
             "colorbar": {
              "outlinewidth": 0,
              "ticks": ""
             }
            },
            "marker": {
             "colorbar": {
              "outlinewidth": 0,
              "ticks": ""
             }
            },
            "type": "scatter3d"
           }
          ],
          "scattercarpet": [
           {
            "marker": {
             "colorbar": {
              "outlinewidth": 0,
              "ticks": ""
             }
            },
            "type": "scattercarpet"
           }
          ],
          "scattergeo": [
           {
            "marker": {
             "colorbar": {
              "outlinewidth": 0,
              "ticks": ""
             }
            },
            "type": "scattergeo"
           }
          ],
          "scattergl": [
           {
            "marker": {
             "colorbar": {
              "outlinewidth": 0,
              "ticks": ""
             }
            },
            "type": "scattergl"
           }
          ],
          "scattermapbox": [
           {
            "marker": {
             "colorbar": {
              "outlinewidth": 0,
              "ticks": ""
             }
            },
            "type": "scattermapbox"
           }
          ],
          "scatterpolar": [
           {
            "marker": {
             "colorbar": {
              "outlinewidth": 0,
              "ticks": ""
             }
            },
            "type": "scatterpolar"
           }
          ],
          "scatterpolargl": [
           {
            "marker": {
             "colorbar": {
              "outlinewidth": 0,
              "ticks": ""
             }
            },
            "type": "scatterpolargl"
           }
          ],
          "scatterternary": [
           {
            "marker": {
             "colorbar": {
              "outlinewidth": 0,
              "ticks": ""
             }
            },
            "type": "scatterternary"
           }
          ],
          "surface": [
           {
            "colorbar": {
             "outlinewidth": 0,
             "ticks": ""
            },
            "colorscale": [
             [
              0,
              "#0d0887"
             ],
             [
              0.1111111111111111,
              "#46039f"
             ],
             [
              0.2222222222222222,
              "#7201a8"
             ],
             [
              0.3333333333333333,
              "#9c179e"
             ],
             [
              0.4444444444444444,
              "#bd3786"
             ],
             [
              0.5555555555555556,
              "#d8576b"
             ],
             [
              0.6666666666666666,
              "#ed7953"
             ],
             [
              0.7777777777777778,
              "#fb9f3a"
             ],
             [
              0.8888888888888888,
              "#fdca26"
             ],
             [
              1,
              "#f0f921"
             ]
            ],
            "type": "surface"
           }
          ],
          "table": [
           {
            "cells": {
             "fill": {
              "color": "#EBF0F8"
             },
             "line": {
              "color": "white"
             }
            },
            "header": {
             "fill": {
              "color": "#C8D4E3"
             },
             "line": {
              "color": "white"
             }
            },
            "type": "table"
           }
          ]
         },
         "layout": {
          "annotationdefaults": {
           "arrowcolor": "#2a3f5f",
           "arrowhead": 0,
           "arrowwidth": 1
          },
          "autotypenumbers": "strict",
          "coloraxis": {
           "colorbar": {
            "outlinewidth": 0,
            "ticks": ""
           }
          },
          "colorscale": {
           "diverging": [
            [
             0,
             "#8e0152"
            ],
            [
             0.1,
             "#c51b7d"
            ],
            [
             0.2,
             "#de77ae"
            ],
            [
             0.3,
             "#f1b6da"
            ],
            [
             0.4,
             "#fde0ef"
            ],
            [
             0.5,
             "#f7f7f7"
            ],
            [
             0.6,
             "#e6f5d0"
            ],
            [
             0.7,
             "#b8e186"
            ],
            [
             0.8,
             "#7fbc41"
            ],
            [
             0.9,
             "#4d9221"
            ],
            [
             1,
             "#276419"
            ]
           ],
           "sequential": [
            [
             0,
             "#0d0887"
            ],
            [
             0.1111111111111111,
             "#46039f"
            ],
            [
             0.2222222222222222,
             "#7201a8"
            ],
            [
             0.3333333333333333,
             "#9c179e"
            ],
            [
             0.4444444444444444,
             "#bd3786"
            ],
            [
             0.5555555555555556,
             "#d8576b"
            ],
            [
             0.6666666666666666,
             "#ed7953"
            ],
            [
             0.7777777777777778,
             "#fb9f3a"
            ],
            [
             0.8888888888888888,
             "#fdca26"
            ],
            [
             1,
             "#f0f921"
            ]
           ],
           "sequentialminus": [
            [
             0,
             "#0d0887"
            ],
            [
             0.1111111111111111,
             "#46039f"
            ],
            [
             0.2222222222222222,
             "#7201a8"
            ],
            [
             0.3333333333333333,
             "#9c179e"
            ],
            [
             0.4444444444444444,
             "#bd3786"
            ],
            [
             0.5555555555555556,
             "#d8576b"
            ],
            [
             0.6666666666666666,
             "#ed7953"
            ],
            [
             0.7777777777777778,
             "#fb9f3a"
            ],
            [
             0.8888888888888888,
             "#fdca26"
            ],
            [
             1,
             "#f0f921"
            ]
           ]
          },
          "colorway": [
           "#636efa",
           "#EF553B",
           "#00cc96",
           "#ab63fa",
           "#FFA15A",
           "#19d3f3",
           "#FF6692",
           "#B6E880",
           "#FF97FF",
           "#FECB52"
          ],
          "font": {
           "color": "#2a3f5f"
          },
          "geo": {
           "bgcolor": "white",
           "lakecolor": "white",
           "landcolor": "#E5ECF6",
           "showlakes": true,
           "showland": true,
           "subunitcolor": "white"
          },
          "hoverlabel": {
           "align": "left"
          },
          "hovermode": "closest",
          "mapbox": {
           "style": "light"
          },
          "paper_bgcolor": "white",
          "plot_bgcolor": "#E5ECF6",
          "polar": {
           "angularaxis": {
            "gridcolor": "white",
            "linecolor": "white",
            "ticks": ""
           },
           "bgcolor": "#E5ECF6",
           "radialaxis": {
            "gridcolor": "white",
            "linecolor": "white",
            "ticks": ""
           }
          },
          "scene": {
           "xaxis": {
            "backgroundcolor": "#E5ECF6",
            "gridcolor": "white",
            "gridwidth": 2,
            "linecolor": "white",
            "showbackground": true,
            "ticks": "",
            "zerolinecolor": "white"
           },
           "yaxis": {
            "backgroundcolor": "#E5ECF6",
            "gridcolor": "white",
            "gridwidth": 2,
            "linecolor": "white",
            "showbackground": true,
            "ticks": "",
            "zerolinecolor": "white"
           },
           "zaxis": {
            "backgroundcolor": "#E5ECF6",
            "gridcolor": "white",
            "gridwidth": 2,
            "linecolor": "white",
            "showbackground": true,
            "ticks": "",
            "zerolinecolor": "white"
           }
          },
          "shapedefaults": {
           "line": {
            "color": "#2a3f5f"
           }
          },
          "ternary": {
           "aaxis": {
            "gridcolor": "white",
            "linecolor": "white",
            "ticks": ""
           },
           "baxis": {
            "gridcolor": "white",
            "linecolor": "white",
            "ticks": ""
           },
           "bgcolor": "#E5ECF6",
           "caxis": {
            "gridcolor": "white",
            "linecolor": "white",
            "ticks": ""
           }
          },
          "title": {
           "x": 0.05
          },
          "xaxis": {
           "automargin": true,
           "gridcolor": "white",
           "linecolor": "white",
           "ticks": "",
           "title": {
            "standoff": 15
           },
           "zerolinecolor": "white",
           "zerolinewidth": 2
          },
          "yaxis": {
           "automargin": true,
           "gridcolor": "white",
           "linecolor": "white",
           "ticks": "",
           "title": {
            "standoff": 15
           },
           "zerolinecolor": "white",
           "zerolinewidth": 2
          }
         }
        },
        "title": {
         "text": "Box Plot Sample from a Normal Distribution"
        },
        "width": 800
       }
      }
     },
     "metadata": {},
     "output_type": "display_data"
    }
   ],
   "source": [
    "fig = go.Figure()\n",
    "fig.add_trace(go.Box(x=df[\"Normal\"], \n",
    "                     notched=True, \n",
    "                     marker_color='purple', \n",
    "                     boxpoints=\"all\",\n",
    "                     name='Normal',\n",
    "                     ))\n",
    "fig.update_layout(title='Box Plot Sample from a Normal Distribution', \n",
    "                  height = 500, width = 800,)"
   ]
  },
  {
   "cell_type": "code",
   "execution_count": 64,
   "metadata": {},
   "outputs": [
    {
     "data": {
      "application/vnd.plotly.v1+json": {
       "config": {
        "plotlyServerURL": "https://plot.ly"
       },
       "data": [
        {
         "boxpoints": "all",
         "jitter": 0.5,
         "marker": {
          "color": "coral"
         },
         "name": "Normal",
         "notched": true,
         "type": "box",
         "x": [
          -1.0261643648198875,
          -0.7457670097247742,
          0.5169715898221674,
          -0.9206300857059962,
          1.2708570202757552,
          0.5287434741925299,
          -0.7513541334355245,
          -0.33979043771247586,
          0.39865914047191553,
          -1.4385241116579903,
          0.9614721889977241,
          -0.16100373820253155,
          0.19925583752756496,
          0.934865930750154,
          0.2986300789794512,
          1.0583773054730714,
          1.475782902713721,
          -1.0605229028723235,
          -0.3816673817024672,
          0.03434740713375005,
          -0.8341307306613622,
          -0.8346828523498678,
          -0.14274325670907456,
          -1.0773603446893942,
          -0.18706223243941972,
          0.4397982583584502,
          -0.6113089397147986,
          0.26907967710750724,
          2.578522597069413,
          1.0038046731508723,
          1.3741821007480701,
          1.7062924702261255,
          0.03860936045265753,
          0.5113781670685686,
          0.18950709416213005,
          -0.7461360192393409,
          1.3285424661071896,
          1.5445706189485933,
          -0.8315783357340815,
          0.9473751198066368,
          0.46821341702001545,
          -1.5022475908403181,
          0.7426201962607565,
          0.1000242461470277,
          -0.8825526057369291,
          0.7677986388281807,
          0.692600951674965,
          1.4604178766584457,
          -0.16344691861131694,
          0.08037429671353669,
          -0.5419305489418446,
          -1.0289239410612818,
          0.3030003939652241,
          -0.6532923292134275,
          0.7352516512322413,
          -1.104407221387953,
          1.3191037117770876,
          1.4500295344030831,
          1.1797533905733526,
          1.1611714222794565,
          -0.5993505226698922,
          0.06124979615807197,
          1.1684744739215411,
          0.12271409689581869,
          -1.0014659159766395,
          0.22250745654823442,
          0.4340159232878915,
          -0.054236579504245125,
          -0.1586946026678679,
          -0.08366979445934837,
          1.5384019559646418,
          -0.11595002460887176,
          -0.10141682247110448,
          -0.3553437426085144,
          1.3804261782200065,
          0.24915460879957405,
          0.04280380440190883,
          1.9410653602692307,
          1.2983219848878462,
          -0.8708338724746266,
          0.6449454837215879,
          -1.6685780692915038,
          -0.7220306498962695,
          -1.0318806164901668,
          -1.361406351372163,
          0.5905357745979413,
          -0.8329180497083237,
          -0.4499343350934873,
          0.44243100296424814,
          1.0420282072075118,
          -1.0488967377851746,
          2.0712877963162897,
          -1.792454421336977,
          -0.5816614946470545,
          0.4975465795154681,
          0.4844205136455764,
          -0.07951047969341471,
          0.09807143153368005,
          0.5458903219153158,
          0.6900229868217002,
          1.0921185858311298,
          -0.30227932561424725,
          -0.212098903198649,
          -2.7358877157654535,
          -0.10828817956781756,
          -1.0904717185793968,
          -1.2568225905762584,
          -0.5970878988808855,
          1.1142331065377402,
          1.281170869734194,
          -0.23581286758055534,
          0.7288395856208925,
          -0.27063572457898166,
          -1.6136840781736355,
          0.7721027358367294,
          0.354381163178985,
          -0.9430635482830344,
          0.07375119005090937,
          0.1540676016774108,
          -1.3373342118666742,
          1.6098044582427538,
          -1.5827094972263,
          -1.1884746581685866,
          -0.25355216734906827,
          1.6078552153475252,
          -0.4825228770569367,
          -0.49374714171276024,
          0.7481709908988774,
          -0.4137868953837393,
          0.9325198008627055,
          0.3817999571879369,
          -0.7062456029764927,
          0.0956203237455665,
          0.02601766936710144,
          -0.5519770752308006,
          0.10679477705835479,
          -1.392609137814081,
          -0.6940276132189362,
          -0.5481887075053642,
          0.30235469926141983,
          -1.5215842310220837,
          -1.0217284971110538,
          -0.9399577168709218,
          0.20553200979183753,
          0.40136104208963463,
          -1.4595526494608697,
          -0.11349420876491476,
          0.6042955132584121,
          -0.43472645626308476,
          0.14607016901041645
         ]
        }
       ],
       "layout": {
        "height": 500,
        "template": {
         "data": {
          "bar": [
           {
            "error_x": {
             "color": "#2a3f5f"
            },
            "error_y": {
             "color": "#2a3f5f"
            },
            "marker": {
             "line": {
              "color": "#E5ECF6",
              "width": 0.5
             },
             "pattern": {
              "fillmode": "overlay",
              "size": 10,
              "solidity": 0.2
             }
            },
            "type": "bar"
           }
          ],
          "barpolar": [
           {
            "marker": {
             "line": {
              "color": "#E5ECF6",
              "width": 0.5
             },
             "pattern": {
              "fillmode": "overlay",
              "size": 10,
              "solidity": 0.2
             }
            },
            "type": "barpolar"
           }
          ],
          "carpet": [
           {
            "aaxis": {
             "endlinecolor": "#2a3f5f",
             "gridcolor": "white",
             "linecolor": "white",
             "minorgridcolor": "white",
             "startlinecolor": "#2a3f5f"
            },
            "baxis": {
             "endlinecolor": "#2a3f5f",
             "gridcolor": "white",
             "linecolor": "white",
             "minorgridcolor": "white",
             "startlinecolor": "#2a3f5f"
            },
            "type": "carpet"
           }
          ],
          "choropleth": [
           {
            "colorbar": {
             "outlinewidth": 0,
             "ticks": ""
            },
            "type": "choropleth"
           }
          ],
          "contour": [
           {
            "colorbar": {
             "outlinewidth": 0,
             "ticks": ""
            },
            "colorscale": [
             [
              0,
              "#0d0887"
             ],
             [
              0.1111111111111111,
              "#46039f"
             ],
             [
              0.2222222222222222,
              "#7201a8"
             ],
             [
              0.3333333333333333,
              "#9c179e"
             ],
             [
              0.4444444444444444,
              "#bd3786"
             ],
             [
              0.5555555555555556,
              "#d8576b"
             ],
             [
              0.6666666666666666,
              "#ed7953"
             ],
             [
              0.7777777777777778,
              "#fb9f3a"
             ],
             [
              0.8888888888888888,
              "#fdca26"
             ],
             [
              1,
              "#f0f921"
             ]
            ],
            "type": "contour"
           }
          ],
          "contourcarpet": [
           {
            "colorbar": {
             "outlinewidth": 0,
             "ticks": ""
            },
            "type": "contourcarpet"
           }
          ],
          "heatmap": [
           {
            "colorbar": {
             "outlinewidth": 0,
             "ticks": ""
            },
            "colorscale": [
             [
              0,
              "#0d0887"
             ],
             [
              0.1111111111111111,
              "#46039f"
             ],
             [
              0.2222222222222222,
              "#7201a8"
             ],
             [
              0.3333333333333333,
              "#9c179e"
             ],
             [
              0.4444444444444444,
              "#bd3786"
             ],
             [
              0.5555555555555556,
              "#d8576b"
             ],
             [
              0.6666666666666666,
              "#ed7953"
             ],
             [
              0.7777777777777778,
              "#fb9f3a"
             ],
             [
              0.8888888888888888,
              "#fdca26"
             ],
             [
              1,
              "#f0f921"
             ]
            ],
            "type": "heatmap"
           }
          ],
          "heatmapgl": [
           {
            "colorbar": {
             "outlinewidth": 0,
             "ticks": ""
            },
            "colorscale": [
             [
              0,
              "#0d0887"
             ],
             [
              0.1111111111111111,
              "#46039f"
             ],
             [
              0.2222222222222222,
              "#7201a8"
             ],
             [
              0.3333333333333333,
              "#9c179e"
             ],
             [
              0.4444444444444444,
              "#bd3786"
             ],
             [
              0.5555555555555556,
              "#d8576b"
             ],
             [
              0.6666666666666666,
              "#ed7953"
             ],
             [
              0.7777777777777778,
              "#fb9f3a"
             ],
             [
              0.8888888888888888,
              "#fdca26"
             ],
             [
              1,
              "#f0f921"
             ]
            ],
            "type": "heatmapgl"
           }
          ],
          "histogram": [
           {
            "marker": {
             "pattern": {
              "fillmode": "overlay",
              "size": 10,
              "solidity": 0.2
             }
            },
            "type": "histogram"
           }
          ],
          "histogram2d": [
           {
            "colorbar": {
             "outlinewidth": 0,
             "ticks": ""
            },
            "colorscale": [
             [
              0,
              "#0d0887"
             ],
             [
              0.1111111111111111,
              "#46039f"
             ],
             [
              0.2222222222222222,
              "#7201a8"
             ],
             [
              0.3333333333333333,
              "#9c179e"
             ],
             [
              0.4444444444444444,
              "#bd3786"
             ],
             [
              0.5555555555555556,
              "#d8576b"
             ],
             [
              0.6666666666666666,
              "#ed7953"
             ],
             [
              0.7777777777777778,
              "#fb9f3a"
             ],
             [
              0.8888888888888888,
              "#fdca26"
             ],
             [
              1,
              "#f0f921"
             ]
            ],
            "type": "histogram2d"
           }
          ],
          "histogram2dcontour": [
           {
            "colorbar": {
             "outlinewidth": 0,
             "ticks": ""
            },
            "colorscale": [
             [
              0,
              "#0d0887"
             ],
             [
              0.1111111111111111,
              "#46039f"
             ],
             [
              0.2222222222222222,
              "#7201a8"
             ],
             [
              0.3333333333333333,
              "#9c179e"
             ],
             [
              0.4444444444444444,
              "#bd3786"
             ],
             [
              0.5555555555555556,
              "#d8576b"
             ],
             [
              0.6666666666666666,
              "#ed7953"
             ],
             [
              0.7777777777777778,
              "#fb9f3a"
             ],
             [
              0.8888888888888888,
              "#fdca26"
             ],
             [
              1,
              "#f0f921"
             ]
            ],
            "type": "histogram2dcontour"
           }
          ],
          "mesh3d": [
           {
            "colorbar": {
             "outlinewidth": 0,
             "ticks": ""
            },
            "type": "mesh3d"
           }
          ],
          "parcoords": [
           {
            "line": {
             "colorbar": {
              "outlinewidth": 0,
              "ticks": ""
             }
            },
            "type": "parcoords"
           }
          ],
          "pie": [
           {
            "automargin": true,
            "type": "pie"
           }
          ],
          "scatter": [
           {
            "fillpattern": {
             "fillmode": "overlay",
             "size": 10,
             "solidity": 0.2
            },
            "type": "scatter"
           }
          ],
          "scatter3d": [
           {
            "line": {
             "colorbar": {
              "outlinewidth": 0,
              "ticks": ""
             }
            },
            "marker": {
             "colorbar": {
              "outlinewidth": 0,
              "ticks": ""
             }
            },
            "type": "scatter3d"
           }
          ],
          "scattercarpet": [
           {
            "marker": {
             "colorbar": {
              "outlinewidth": 0,
              "ticks": ""
             }
            },
            "type": "scattercarpet"
           }
          ],
          "scattergeo": [
           {
            "marker": {
             "colorbar": {
              "outlinewidth": 0,
              "ticks": ""
             }
            },
            "type": "scattergeo"
           }
          ],
          "scattergl": [
           {
            "marker": {
             "colorbar": {
              "outlinewidth": 0,
              "ticks": ""
             }
            },
            "type": "scattergl"
           }
          ],
          "scattermapbox": [
           {
            "marker": {
             "colorbar": {
              "outlinewidth": 0,
              "ticks": ""
             }
            },
            "type": "scattermapbox"
           }
          ],
          "scatterpolar": [
           {
            "marker": {
             "colorbar": {
              "outlinewidth": 0,
              "ticks": ""
             }
            },
            "type": "scatterpolar"
           }
          ],
          "scatterpolargl": [
           {
            "marker": {
             "colorbar": {
              "outlinewidth": 0,
              "ticks": ""
             }
            },
            "type": "scatterpolargl"
           }
          ],
          "scatterternary": [
           {
            "marker": {
             "colorbar": {
              "outlinewidth": 0,
              "ticks": ""
             }
            },
            "type": "scatterternary"
           }
          ],
          "surface": [
           {
            "colorbar": {
             "outlinewidth": 0,
             "ticks": ""
            },
            "colorscale": [
             [
              0,
              "#0d0887"
             ],
             [
              0.1111111111111111,
              "#46039f"
             ],
             [
              0.2222222222222222,
              "#7201a8"
             ],
             [
              0.3333333333333333,
              "#9c179e"
             ],
             [
              0.4444444444444444,
              "#bd3786"
             ],
             [
              0.5555555555555556,
              "#d8576b"
             ],
             [
              0.6666666666666666,
              "#ed7953"
             ],
             [
              0.7777777777777778,
              "#fb9f3a"
             ],
             [
              0.8888888888888888,
              "#fdca26"
             ],
             [
              1,
              "#f0f921"
             ]
            ],
            "type": "surface"
           }
          ],
          "table": [
           {
            "cells": {
             "fill": {
              "color": "#EBF0F8"
             },
             "line": {
              "color": "white"
             }
            },
            "header": {
             "fill": {
              "color": "#C8D4E3"
             },
             "line": {
              "color": "white"
             }
            },
            "type": "table"
           }
          ]
         },
         "layout": {
          "annotationdefaults": {
           "arrowcolor": "#2a3f5f",
           "arrowhead": 0,
           "arrowwidth": 1
          },
          "autotypenumbers": "strict",
          "coloraxis": {
           "colorbar": {
            "outlinewidth": 0,
            "ticks": ""
           }
          },
          "colorscale": {
           "diverging": [
            [
             0,
             "#8e0152"
            ],
            [
             0.1,
             "#c51b7d"
            ],
            [
             0.2,
             "#de77ae"
            ],
            [
             0.3,
             "#f1b6da"
            ],
            [
             0.4,
             "#fde0ef"
            ],
            [
             0.5,
             "#f7f7f7"
            ],
            [
             0.6,
             "#e6f5d0"
            ],
            [
             0.7,
             "#b8e186"
            ],
            [
             0.8,
             "#7fbc41"
            ],
            [
             0.9,
             "#4d9221"
            ],
            [
             1,
             "#276419"
            ]
           ],
           "sequential": [
            [
             0,
             "#0d0887"
            ],
            [
             0.1111111111111111,
             "#46039f"
            ],
            [
             0.2222222222222222,
             "#7201a8"
            ],
            [
             0.3333333333333333,
             "#9c179e"
            ],
            [
             0.4444444444444444,
             "#bd3786"
            ],
            [
             0.5555555555555556,
             "#d8576b"
            ],
            [
             0.6666666666666666,
             "#ed7953"
            ],
            [
             0.7777777777777778,
             "#fb9f3a"
            ],
            [
             0.8888888888888888,
             "#fdca26"
            ],
            [
             1,
             "#f0f921"
            ]
           ],
           "sequentialminus": [
            [
             0,
             "#0d0887"
            ],
            [
             0.1111111111111111,
             "#46039f"
            ],
            [
             0.2222222222222222,
             "#7201a8"
            ],
            [
             0.3333333333333333,
             "#9c179e"
            ],
            [
             0.4444444444444444,
             "#bd3786"
            ],
            [
             0.5555555555555556,
             "#d8576b"
            ],
            [
             0.6666666666666666,
             "#ed7953"
            ],
            [
             0.7777777777777778,
             "#fb9f3a"
            ],
            [
             0.8888888888888888,
             "#fdca26"
            ],
            [
             1,
             "#f0f921"
            ]
           ]
          },
          "colorway": [
           "#636efa",
           "#EF553B",
           "#00cc96",
           "#ab63fa",
           "#FFA15A",
           "#19d3f3",
           "#FF6692",
           "#B6E880",
           "#FF97FF",
           "#FECB52"
          ],
          "font": {
           "color": "#2a3f5f"
          },
          "geo": {
           "bgcolor": "white",
           "lakecolor": "white",
           "landcolor": "#E5ECF6",
           "showlakes": true,
           "showland": true,
           "subunitcolor": "white"
          },
          "hoverlabel": {
           "align": "left"
          },
          "hovermode": "closest",
          "mapbox": {
           "style": "light"
          },
          "paper_bgcolor": "white",
          "plot_bgcolor": "#E5ECF6",
          "polar": {
           "angularaxis": {
            "gridcolor": "white",
            "linecolor": "white",
            "ticks": ""
           },
           "bgcolor": "#E5ECF6",
           "radialaxis": {
            "gridcolor": "white",
            "linecolor": "white",
            "ticks": ""
           }
          },
          "scene": {
           "xaxis": {
            "backgroundcolor": "#E5ECF6",
            "gridcolor": "white",
            "gridwidth": 2,
            "linecolor": "white",
            "showbackground": true,
            "ticks": "",
            "zerolinecolor": "white"
           },
           "yaxis": {
            "backgroundcolor": "#E5ECF6",
            "gridcolor": "white",
            "gridwidth": 2,
            "linecolor": "white",
            "showbackground": true,
            "ticks": "",
            "zerolinecolor": "white"
           },
           "zaxis": {
            "backgroundcolor": "#E5ECF6",
            "gridcolor": "white",
            "gridwidth": 2,
            "linecolor": "white",
            "showbackground": true,
            "ticks": "",
            "zerolinecolor": "white"
           }
          },
          "shapedefaults": {
           "line": {
            "color": "#2a3f5f"
           }
          },
          "ternary": {
           "aaxis": {
            "gridcolor": "white",
            "linecolor": "white",
            "ticks": ""
           },
           "baxis": {
            "gridcolor": "white",
            "linecolor": "white",
            "ticks": ""
           },
           "bgcolor": "#E5ECF6",
           "caxis": {
            "gridcolor": "white",
            "linecolor": "white",
            "ticks": ""
           }
          },
          "title": {
           "x": 0.05
          },
          "xaxis": {
           "automargin": true,
           "gridcolor": "white",
           "linecolor": "white",
           "ticks": "",
           "title": {
            "standoff": 15
           },
           "zerolinecolor": "white",
           "zerolinewidth": 2
          },
          "yaxis": {
           "automargin": true,
           "gridcolor": "white",
           "linecolor": "white",
           "ticks": "",
           "title": {
            "standoff": 15
           },
           "zerolinecolor": "white",
           "zerolinewidth": 2
          }
         }
        },
        "title": {
         "text": "Box Plot Sample from a Normal Distribution"
        },
        "width": 800
       }
      }
     },
     "metadata": {},
     "output_type": "display_data"
    }
   ],
   "source": [
    "fig = go.Figure()\n",
    "fig.add_trace(go.Box(x=df[\"Normal\"], \n",
    "                     jitter=0.5,\n",
    "                     notched=True, \n",
    "                     marker_color='coral', \n",
    "                     boxpoints=\"all\",\n",
    "                     name='Normal',\n",
    "                     ))\n",
    "fig.update_layout(title='Box Plot Sample from a Normal Distribution', \n",
    "                  height = 500, width = 800,)"
   ]
  },
  {
   "cell_type": "code",
   "execution_count": 65,
   "metadata": {},
   "outputs": [
    {
     "data": {
      "application/vnd.plotly.v1+json": {
       "config": {
        "plotlyServerURL": "https://plot.ly"
       },
       "data": [
        {
         "boxpoints": "all",
         "jitter": 0,
         "marker": {
          "color": "teal"
         },
         "name": "Normal",
         "notched": true,
         "type": "box",
         "x": [
          -1.0261643648198875,
          -0.7457670097247742,
          0.5169715898221674,
          -0.9206300857059962,
          1.2708570202757552,
          0.5287434741925299,
          -0.7513541334355245,
          -0.33979043771247586,
          0.39865914047191553,
          -1.4385241116579903,
          0.9614721889977241,
          -0.16100373820253155,
          0.19925583752756496,
          0.934865930750154,
          0.2986300789794512,
          1.0583773054730714,
          1.475782902713721,
          -1.0605229028723235,
          -0.3816673817024672,
          0.03434740713375005,
          -0.8341307306613622,
          -0.8346828523498678,
          -0.14274325670907456,
          -1.0773603446893942,
          -0.18706223243941972,
          0.4397982583584502,
          -0.6113089397147986,
          0.26907967710750724,
          2.578522597069413,
          1.0038046731508723,
          1.3741821007480701,
          1.7062924702261255,
          0.03860936045265753,
          0.5113781670685686,
          0.18950709416213005,
          -0.7461360192393409,
          1.3285424661071896,
          1.5445706189485933,
          -0.8315783357340815,
          0.9473751198066368,
          0.46821341702001545,
          -1.5022475908403181,
          0.7426201962607565,
          0.1000242461470277,
          -0.8825526057369291,
          0.7677986388281807,
          0.692600951674965,
          1.4604178766584457,
          -0.16344691861131694,
          0.08037429671353669,
          -0.5419305489418446,
          -1.0289239410612818,
          0.3030003939652241,
          -0.6532923292134275,
          0.7352516512322413,
          -1.104407221387953,
          1.3191037117770876,
          1.4500295344030831,
          1.1797533905733526,
          1.1611714222794565,
          -0.5993505226698922,
          0.06124979615807197,
          1.1684744739215411,
          0.12271409689581869,
          -1.0014659159766395,
          0.22250745654823442,
          0.4340159232878915,
          -0.054236579504245125,
          -0.1586946026678679,
          -0.08366979445934837,
          1.5384019559646418,
          -0.11595002460887176,
          -0.10141682247110448,
          -0.3553437426085144,
          1.3804261782200065,
          0.24915460879957405,
          0.04280380440190883,
          1.9410653602692307,
          1.2983219848878462,
          -0.8708338724746266,
          0.6449454837215879,
          -1.6685780692915038,
          -0.7220306498962695,
          -1.0318806164901668,
          -1.361406351372163,
          0.5905357745979413,
          -0.8329180497083237,
          -0.4499343350934873,
          0.44243100296424814,
          1.0420282072075118,
          -1.0488967377851746,
          2.0712877963162897,
          -1.792454421336977,
          -0.5816614946470545,
          0.4975465795154681,
          0.4844205136455764,
          -0.07951047969341471,
          0.09807143153368005,
          0.5458903219153158,
          0.6900229868217002,
          1.0921185858311298,
          -0.30227932561424725,
          -0.212098903198649,
          -2.7358877157654535,
          -0.10828817956781756,
          -1.0904717185793968,
          -1.2568225905762584,
          -0.5970878988808855,
          1.1142331065377402,
          1.281170869734194,
          -0.23581286758055534,
          0.7288395856208925,
          -0.27063572457898166,
          -1.6136840781736355,
          0.7721027358367294,
          0.354381163178985,
          -0.9430635482830344,
          0.07375119005090937,
          0.1540676016774108,
          -1.3373342118666742,
          1.6098044582427538,
          -1.5827094972263,
          -1.1884746581685866,
          -0.25355216734906827,
          1.6078552153475252,
          -0.4825228770569367,
          -0.49374714171276024,
          0.7481709908988774,
          -0.4137868953837393,
          0.9325198008627055,
          0.3817999571879369,
          -0.7062456029764927,
          0.0956203237455665,
          0.02601766936710144,
          -0.5519770752308006,
          0.10679477705835479,
          -1.392609137814081,
          -0.6940276132189362,
          -0.5481887075053642,
          0.30235469926141983,
          -1.5215842310220837,
          -1.0217284971110538,
          -0.9399577168709218,
          0.20553200979183753,
          0.40136104208963463,
          -1.4595526494608697,
          -0.11349420876491476,
          0.6042955132584121,
          -0.43472645626308476,
          0.14607016901041645
         ]
        }
       ],
       "layout": {
        "height": 500,
        "template": {
         "data": {
          "bar": [
           {
            "error_x": {
             "color": "#2a3f5f"
            },
            "error_y": {
             "color": "#2a3f5f"
            },
            "marker": {
             "line": {
              "color": "#E5ECF6",
              "width": 0.5
             },
             "pattern": {
              "fillmode": "overlay",
              "size": 10,
              "solidity": 0.2
             }
            },
            "type": "bar"
           }
          ],
          "barpolar": [
           {
            "marker": {
             "line": {
              "color": "#E5ECF6",
              "width": 0.5
             },
             "pattern": {
              "fillmode": "overlay",
              "size": 10,
              "solidity": 0.2
             }
            },
            "type": "barpolar"
           }
          ],
          "carpet": [
           {
            "aaxis": {
             "endlinecolor": "#2a3f5f",
             "gridcolor": "white",
             "linecolor": "white",
             "minorgridcolor": "white",
             "startlinecolor": "#2a3f5f"
            },
            "baxis": {
             "endlinecolor": "#2a3f5f",
             "gridcolor": "white",
             "linecolor": "white",
             "minorgridcolor": "white",
             "startlinecolor": "#2a3f5f"
            },
            "type": "carpet"
           }
          ],
          "choropleth": [
           {
            "colorbar": {
             "outlinewidth": 0,
             "ticks": ""
            },
            "type": "choropleth"
           }
          ],
          "contour": [
           {
            "colorbar": {
             "outlinewidth": 0,
             "ticks": ""
            },
            "colorscale": [
             [
              0,
              "#0d0887"
             ],
             [
              0.1111111111111111,
              "#46039f"
             ],
             [
              0.2222222222222222,
              "#7201a8"
             ],
             [
              0.3333333333333333,
              "#9c179e"
             ],
             [
              0.4444444444444444,
              "#bd3786"
             ],
             [
              0.5555555555555556,
              "#d8576b"
             ],
             [
              0.6666666666666666,
              "#ed7953"
             ],
             [
              0.7777777777777778,
              "#fb9f3a"
             ],
             [
              0.8888888888888888,
              "#fdca26"
             ],
             [
              1,
              "#f0f921"
             ]
            ],
            "type": "contour"
           }
          ],
          "contourcarpet": [
           {
            "colorbar": {
             "outlinewidth": 0,
             "ticks": ""
            },
            "type": "contourcarpet"
           }
          ],
          "heatmap": [
           {
            "colorbar": {
             "outlinewidth": 0,
             "ticks": ""
            },
            "colorscale": [
             [
              0,
              "#0d0887"
             ],
             [
              0.1111111111111111,
              "#46039f"
             ],
             [
              0.2222222222222222,
              "#7201a8"
             ],
             [
              0.3333333333333333,
              "#9c179e"
             ],
             [
              0.4444444444444444,
              "#bd3786"
             ],
             [
              0.5555555555555556,
              "#d8576b"
             ],
             [
              0.6666666666666666,
              "#ed7953"
             ],
             [
              0.7777777777777778,
              "#fb9f3a"
             ],
             [
              0.8888888888888888,
              "#fdca26"
             ],
             [
              1,
              "#f0f921"
             ]
            ],
            "type": "heatmap"
           }
          ],
          "heatmapgl": [
           {
            "colorbar": {
             "outlinewidth": 0,
             "ticks": ""
            },
            "colorscale": [
             [
              0,
              "#0d0887"
             ],
             [
              0.1111111111111111,
              "#46039f"
             ],
             [
              0.2222222222222222,
              "#7201a8"
             ],
             [
              0.3333333333333333,
              "#9c179e"
             ],
             [
              0.4444444444444444,
              "#bd3786"
             ],
             [
              0.5555555555555556,
              "#d8576b"
             ],
             [
              0.6666666666666666,
              "#ed7953"
             ],
             [
              0.7777777777777778,
              "#fb9f3a"
             ],
             [
              0.8888888888888888,
              "#fdca26"
             ],
             [
              1,
              "#f0f921"
             ]
            ],
            "type": "heatmapgl"
           }
          ],
          "histogram": [
           {
            "marker": {
             "pattern": {
              "fillmode": "overlay",
              "size": 10,
              "solidity": 0.2
             }
            },
            "type": "histogram"
           }
          ],
          "histogram2d": [
           {
            "colorbar": {
             "outlinewidth": 0,
             "ticks": ""
            },
            "colorscale": [
             [
              0,
              "#0d0887"
             ],
             [
              0.1111111111111111,
              "#46039f"
             ],
             [
              0.2222222222222222,
              "#7201a8"
             ],
             [
              0.3333333333333333,
              "#9c179e"
             ],
             [
              0.4444444444444444,
              "#bd3786"
             ],
             [
              0.5555555555555556,
              "#d8576b"
             ],
             [
              0.6666666666666666,
              "#ed7953"
             ],
             [
              0.7777777777777778,
              "#fb9f3a"
             ],
             [
              0.8888888888888888,
              "#fdca26"
             ],
             [
              1,
              "#f0f921"
             ]
            ],
            "type": "histogram2d"
           }
          ],
          "histogram2dcontour": [
           {
            "colorbar": {
             "outlinewidth": 0,
             "ticks": ""
            },
            "colorscale": [
             [
              0,
              "#0d0887"
             ],
             [
              0.1111111111111111,
              "#46039f"
             ],
             [
              0.2222222222222222,
              "#7201a8"
             ],
             [
              0.3333333333333333,
              "#9c179e"
             ],
             [
              0.4444444444444444,
              "#bd3786"
             ],
             [
              0.5555555555555556,
              "#d8576b"
             ],
             [
              0.6666666666666666,
              "#ed7953"
             ],
             [
              0.7777777777777778,
              "#fb9f3a"
             ],
             [
              0.8888888888888888,
              "#fdca26"
             ],
             [
              1,
              "#f0f921"
             ]
            ],
            "type": "histogram2dcontour"
           }
          ],
          "mesh3d": [
           {
            "colorbar": {
             "outlinewidth": 0,
             "ticks": ""
            },
            "type": "mesh3d"
           }
          ],
          "parcoords": [
           {
            "line": {
             "colorbar": {
              "outlinewidth": 0,
              "ticks": ""
             }
            },
            "type": "parcoords"
           }
          ],
          "pie": [
           {
            "automargin": true,
            "type": "pie"
           }
          ],
          "scatter": [
           {
            "fillpattern": {
             "fillmode": "overlay",
             "size": 10,
             "solidity": 0.2
            },
            "type": "scatter"
           }
          ],
          "scatter3d": [
           {
            "line": {
             "colorbar": {
              "outlinewidth": 0,
              "ticks": ""
             }
            },
            "marker": {
             "colorbar": {
              "outlinewidth": 0,
              "ticks": ""
             }
            },
            "type": "scatter3d"
           }
          ],
          "scattercarpet": [
           {
            "marker": {
             "colorbar": {
              "outlinewidth": 0,
              "ticks": ""
             }
            },
            "type": "scattercarpet"
           }
          ],
          "scattergeo": [
           {
            "marker": {
             "colorbar": {
              "outlinewidth": 0,
              "ticks": ""
             }
            },
            "type": "scattergeo"
           }
          ],
          "scattergl": [
           {
            "marker": {
             "colorbar": {
              "outlinewidth": 0,
              "ticks": ""
             }
            },
            "type": "scattergl"
           }
          ],
          "scattermapbox": [
           {
            "marker": {
             "colorbar": {
              "outlinewidth": 0,
              "ticks": ""
             }
            },
            "type": "scattermapbox"
           }
          ],
          "scatterpolar": [
           {
            "marker": {
             "colorbar": {
              "outlinewidth": 0,
              "ticks": ""
             }
            },
            "type": "scatterpolar"
           }
          ],
          "scatterpolargl": [
           {
            "marker": {
             "colorbar": {
              "outlinewidth": 0,
              "ticks": ""
             }
            },
            "type": "scatterpolargl"
           }
          ],
          "scatterternary": [
           {
            "marker": {
             "colorbar": {
              "outlinewidth": 0,
              "ticks": ""
             }
            },
            "type": "scatterternary"
           }
          ],
          "surface": [
           {
            "colorbar": {
             "outlinewidth": 0,
             "ticks": ""
            },
            "colorscale": [
             [
              0,
              "#0d0887"
             ],
             [
              0.1111111111111111,
              "#46039f"
             ],
             [
              0.2222222222222222,
              "#7201a8"
             ],
             [
              0.3333333333333333,
              "#9c179e"
             ],
             [
              0.4444444444444444,
              "#bd3786"
             ],
             [
              0.5555555555555556,
              "#d8576b"
             ],
             [
              0.6666666666666666,
              "#ed7953"
             ],
             [
              0.7777777777777778,
              "#fb9f3a"
             ],
             [
              0.8888888888888888,
              "#fdca26"
             ],
             [
              1,
              "#f0f921"
             ]
            ],
            "type": "surface"
           }
          ],
          "table": [
           {
            "cells": {
             "fill": {
              "color": "#EBF0F8"
             },
             "line": {
              "color": "white"
             }
            },
            "header": {
             "fill": {
              "color": "#C8D4E3"
             },
             "line": {
              "color": "white"
             }
            },
            "type": "table"
           }
          ]
         },
         "layout": {
          "annotationdefaults": {
           "arrowcolor": "#2a3f5f",
           "arrowhead": 0,
           "arrowwidth": 1
          },
          "autotypenumbers": "strict",
          "coloraxis": {
           "colorbar": {
            "outlinewidth": 0,
            "ticks": ""
           }
          },
          "colorscale": {
           "diverging": [
            [
             0,
             "#8e0152"
            ],
            [
             0.1,
             "#c51b7d"
            ],
            [
             0.2,
             "#de77ae"
            ],
            [
             0.3,
             "#f1b6da"
            ],
            [
             0.4,
             "#fde0ef"
            ],
            [
             0.5,
             "#f7f7f7"
            ],
            [
             0.6,
             "#e6f5d0"
            ],
            [
             0.7,
             "#b8e186"
            ],
            [
             0.8,
             "#7fbc41"
            ],
            [
             0.9,
             "#4d9221"
            ],
            [
             1,
             "#276419"
            ]
           ],
           "sequential": [
            [
             0,
             "#0d0887"
            ],
            [
             0.1111111111111111,
             "#46039f"
            ],
            [
             0.2222222222222222,
             "#7201a8"
            ],
            [
             0.3333333333333333,
             "#9c179e"
            ],
            [
             0.4444444444444444,
             "#bd3786"
            ],
            [
             0.5555555555555556,
             "#d8576b"
            ],
            [
             0.6666666666666666,
             "#ed7953"
            ],
            [
             0.7777777777777778,
             "#fb9f3a"
            ],
            [
             0.8888888888888888,
             "#fdca26"
            ],
            [
             1,
             "#f0f921"
            ]
           ],
           "sequentialminus": [
            [
             0,
             "#0d0887"
            ],
            [
             0.1111111111111111,
             "#46039f"
            ],
            [
             0.2222222222222222,
             "#7201a8"
            ],
            [
             0.3333333333333333,
             "#9c179e"
            ],
            [
             0.4444444444444444,
             "#bd3786"
            ],
            [
             0.5555555555555556,
             "#d8576b"
            ],
            [
             0.6666666666666666,
             "#ed7953"
            ],
            [
             0.7777777777777778,
             "#fb9f3a"
            ],
            [
             0.8888888888888888,
             "#fdca26"
            ],
            [
             1,
             "#f0f921"
            ]
           ]
          },
          "colorway": [
           "#636efa",
           "#EF553B",
           "#00cc96",
           "#ab63fa",
           "#FFA15A",
           "#19d3f3",
           "#FF6692",
           "#B6E880",
           "#FF97FF",
           "#FECB52"
          ],
          "font": {
           "color": "#2a3f5f"
          },
          "geo": {
           "bgcolor": "white",
           "lakecolor": "white",
           "landcolor": "#E5ECF6",
           "showlakes": true,
           "showland": true,
           "subunitcolor": "white"
          },
          "hoverlabel": {
           "align": "left"
          },
          "hovermode": "closest",
          "mapbox": {
           "style": "light"
          },
          "paper_bgcolor": "white",
          "plot_bgcolor": "#E5ECF6",
          "polar": {
           "angularaxis": {
            "gridcolor": "white",
            "linecolor": "white",
            "ticks": ""
           },
           "bgcolor": "#E5ECF6",
           "radialaxis": {
            "gridcolor": "white",
            "linecolor": "white",
            "ticks": ""
           }
          },
          "scene": {
           "xaxis": {
            "backgroundcolor": "#E5ECF6",
            "gridcolor": "white",
            "gridwidth": 2,
            "linecolor": "white",
            "showbackground": true,
            "ticks": "",
            "zerolinecolor": "white"
           },
           "yaxis": {
            "backgroundcolor": "#E5ECF6",
            "gridcolor": "white",
            "gridwidth": 2,
            "linecolor": "white",
            "showbackground": true,
            "ticks": "",
            "zerolinecolor": "white"
           },
           "zaxis": {
            "backgroundcolor": "#E5ECF6",
            "gridcolor": "white",
            "gridwidth": 2,
            "linecolor": "white",
            "showbackground": true,
            "ticks": "",
            "zerolinecolor": "white"
           }
          },
          "shapedefaults": {
           "line": {
            "color": "#2a3f5f"
           }
          },
          "ternary": {
           "aaxis": {
            "gridcolor": "white",
            "linecolor": "white",
            "ticks": ""
           },
           "baxis": {
            "gridcolor": "white",
            "linecolor": "white",
            "ticks": ""
           },
           "bgcolor": "#E5ECF6",
           "caxis": {
            "gridcolor": "white",
            "linecolor": "white",
            "ticks": ""
           }
          },
          "title": {
           "x": 0.05
          },
          "xaxis": {
           "automargin": true,
           "gridcolor": "white",
           "linecolor": "white",
           "ticks": "",
           "title": {
            "standoff": 15
           },
           "zerolinecolor": "white",
           "zerolinewidth": 2
          },
          "yaxis": {
           "automargin": true,
           "gridcolor": "white",
           "linecolor": "white",
           "ticks": "",
           "title": {
            "standoff": 15
           },
           "zerolinecolor": "white",
           "zerolinewidth": 2
          }
         }
        },
        "title": {
         "text": "Box Plot Sample from a Normal Distribution"
        },
        "width": 800
       }
      }
     },
     "metadata": {},
     "output_type": "display_data"
    }
   ],
   "source": [
    "fig = go.Figure()\n",
    "fig.add_trace(go.Box(x=df[\"Normal\"], \n",
    "                     jitter=0.0,\n",
    "                     notched=True, \n",
    "                     marker_color='teal', \n",
    "                     boxpoints=\"all\",\n",
    "                     name='Normal',\n",
    "                     ))\n",
    "fig.update_layout(title='Box Plot Sample from a Normal Distribution', \n",
    "                  height = 500, width = 800,)"
   ]
  },
  {
   "cell_type": "code",
   "execution_count": 67,
   "metadata": {},
   "outputs": [
    {
     "data": {
      "application/vnd.plotly.v1+json": {
       "config": {
        "plotlyServerURL": "https://plot.ly"
       },
       "data": [
        {
         "boxpoints": "all",
         "jitter": 0.5,
         "marker": {
          "color": "green"
         },
         "name": "Normal",
         "notched": true,
         "pointpos": 0,
         "type": "box",
         "x": [
          -1.0261643648198875,
          -0.7457670097247742,
          0.5169715898221674,
          -0.9206300857059962,
          1.2708570202757552,
          0.5287434741925299,
          -0.7513541334355245,
          -0.33979043771247586,
          0.39865914047191553,
          -1.4385241116579903,
          0.9614721889977241,
          -0.16100373820253155,
          0.19925583752756496,
          0.934865930750154,
          0.2986300789794512,
          1.0583773054730714,
          1.475782902713721,
          -1.0605229028723235,
          -0.3816673817024672,
          0.03434740713375005,
          -0.8341307306613622,
          -0.8346828523498678,
          -0.14274325670907456,
          -1.0773603446893942,
          -0.18706223243941972,
          0.4397982583584502,
          -0.6113089397147986,
          0.26907967710750724,
          2.578522597069413,
          1.0038046731508723,
          1.3741821007480701,
          1.7062924702261255,
          0.03860936045265753,
          0.5113781670685686,
          0.18950709416213005,
          -0.7461360192393409,
          1.3285424661071896,
          1.5445706189485933,
          -0.8315783357340815,
          0.9473751198066368,
          0.46821341702001545,
          -1.5022475908403181,
          0.7426201962607565,
          0.1000242461470277,
          -0.8825526057369291,
          0.7677986388281807,
          0.692600951674965,
          1.4604178766584457,
          -0.16344691861131694,
          0.08037429671353669,
          -0.5419305489418446,
          -1.0289239410612818,
          0.3030003939652241,
          -0.6532923292134275,
          0.7352516512322413,
          -1.104407221387953,
          1.3191037117770876,
          1.4500295344030831,
          1.1797533905733526,
          1.1611714222794565,
          -0.5993505226698922,
          0.06124979615807197,
          1.1684744739215411,
          0.12271409689581869,
          -1.0014659159766395,
          0.22250745654823442,
          0.4340159232878915,
          -0.054236579504245125,
          -0.1586946026678679,
          -0.08366979445934837,
          1.5384019559646418,
          -0.11595002460887176,
          -0.10141682247110448,
          -0.3553437426085144,
          1.3804261782200065,
          0.24915460879957405,
          0.04280380440190883,
          1.9410653602692307,
          1.2983219848878462,
          -0.8708338724746266,
          0.6449454837215879,
          -1.6685780692915038,
          -0.7220306498962695,
          -1.0318806164901668,
          -1.361406351372163,
          0.5905357745979413,
          -0.8329180497083237,
          -0.4499343350934873,
          0.44243100296424814,
          1.0420282072075118,
          -1.0488967377851746,
          2.0712877963162897,
          -1.792454421336977,
          -0.5816614946470545,
          0.4975465795154681,
          0.4844205136455764,
          -0.07951047969341471,
          0.09807143153368005,
          0.5458903219153158,
          0.6900229868217002,
          1.0921185858311298,
          -0.30227932561424725,
          -0.212098903198649,
          -2.7358877157654535,
          -0.10828817956781756,
          -1.0904717185793968,
          -1.2568225905762584,
          -0.5970878988808855,
          1.1142331065377402,
          1.281170869734194,
          -0.23581286758055534,
          0.7288395856208925,
          -0.27063572457898166,
          -1.6136840781736355,
          0.7721027358367294,
          0.354381163178985,
          -0.9430635482830344,
          0.07375119005090937,
          0.1540676016774108,
          -1.3373342118666742,
          1.6098044582427538,
          -1.5827094972263,
          -1.1884746581685866,
          -0.25355216734906827,
          1.6078552153475252,
          -0.4825228770569367,
          -0.49374714171276024,
          0.7481709908988774,
          -0.4137868953837393,
          0.9325198008627055,
          0.3817999571879369,
          -0.7062456029764927,
          0.0956203237455665,
          0.02601766936710144,
          -0.5519770752308006,
          0.10679477705835479,
          -1.392609137814081,
          -0.6940276132189362,
          -0.5481887075053642,
          0.30235469926141983,
          -1.5215842310220837,
          -1.0217284971110538,
          -0.9399577168709218,
          0.20553200979183753,
          0.40136104208963463,
          -1.4595526494608697,
          -0.11349420876491476,
          0.6042955132584121,
          -0.43472645626308476,
          0.14607016901041645
         ]
        }
       ],
       "layout": {
        "height": 500,
        "template": {
         "data": {
          "bar": [
           {
            "error_x": {
             "color": "#2a3f5f"
            },
            "error_y": {
             "color": "#2a3f5f"
            },
            "marker": {
             "line": {
              "color": "#E5ECF6",
              "width": 0.5
             },
             "pattern": {
              "fillmode": "overlay",
              "size": 10,
              "solidity": 0.2
             }
            },
            "type": "bar"
           }
          ],
          "barpolar": [
           {
            "marker": {
             "line": {
              "color": "#E5ECF6",
              "width": 0.5
             },
             "pattern": {
              "fillmode": "overlay",
              "size": 10,
              "solidity": 0.2
             }
            },
            "type": "barpolar"
           }
          ],
          "carpet": [
           {
            "aaxis": {
             "endlinecolor": "#2a3f5f",
             "gridcolor": "white",
             "linecolor": "white",
             "minorgridcolor": "white",
             "startlinecolor": "#2a3f5f"
            },
            "baxis": {
             "endlinecolor": "#2a3f5f",
             "gridcolor": "white",
             "linecolor": "white",
             "minorgridcolor": "white",
             "startlinecolor": "#2a3f5f"
            },
            "type": "carpet"
           }
          ],
          "choropleth": [
           {
            "colorbar": {
             "outlinewidth": 0,
             "ticks": ""
            },
            "type": "choropleth"
           }
          ],
          "contour": [
           {
            "colorbar": {
             "outlinewidth": 0,
             "ticks": ""
            },
            "colorscale": [
             [
              0,
              "#0d0887"
             ],
             [
              0.1111111111111111,
              "#46039f"
             ],
             [
              0.2222222222222222,
              "#7201a8"
             ],
             [
              0.3333333333333333,
              "#9c179e"
             ],
             [
              0.4444444444444444,
              "#bd3786"
             ],
             [
              0.5555555555555556,
              "#d8576b"
             ],
             [
              0.6666666666666666,
              "#ed7953"
             ],
             [
              0.7777777777777778,
              "#fb9f3a"
             ],
             [
              0.8888888888888888,
              "#fdca26"
             ],
             [
              1,
              "#f0f921"
             ]
            ],
            "type": "contour"
           }
          ],
          "contourcarpet": [
           {
            "colorbar": {
             "outlinewidth": 0,
             "ticks": ""
            },
            "type": "contourcarpet"
           }
          ],
          "heatmap": [
           {
            "colorbar": {
             "outlinewidth": 0,
             "ticks": ""
            },
            "colorscale": [
             [
              0,
              "#0d0887"
             ],
             [
              0.1111111111111111,
              "#46039f"
             ],
             [
              0.2222222222222222,
              "#7201a8"
             ],
             [
              0.3333333333333333,
              "#9c179e"
             ],
             [
              0.4444444444444444,
              "#bd3786"
             ],
             [
              0.5555555555555556,
              "#d8576b"
             ],
             [
              0.6666666666666666,
              "#ed7953"
             ],
             [
              0.7777777777777778,
              "#fb9f3a"
             ],
             [
              0.8888888888888888,
              "#fdca26"
             ],
             [
              1,
              "#f0f921"
             ]
            ],
            "type": "heatmap"
           }
          ],
          "heatmapgl": [
           {
            "colorbar": {
             "outlinewidth": 0,
             "ticks": ""
            },
            "colorscale": [
             [
              0,
              "#0d0887"
             ],
             [
              0.1111111111111111,
              "#46039f"
             ],
             [
              0.2222222222222222,
              "#7201a8"
             ],
             [
              0.3333333333333333,
              "#9c179e"
             ],
             [
              0.4444444444444444,
              "#bd3786"
             ],
             [
              0.5555555555555556,
              "#d8576b"
             ],
             [
              0.6666666666666666,
              "#ed7953"
             ],
             [
              0.7777777777777778,
              "#fb9f3a"
             ],
             [
              0.8888888888888888,
              "#fdca26"
             ],
             [
              1,
              "#f0f921"
             ]
            ],
            "type": "heatmapgl"
           }
          ],
          "histogram": [
           {
            "marker": {
             "pattern": {
              "fillmode": "overlay",
              "size": 10,
              "solidity": 0.2
             }
            },
            "type": "histogram"
           }
          ],
          "histogram2d": [
           {
            "colorbar": {
             "outlinewidth": 0,
             "ticks": ""
            },
            "colorscale": [
             [
              0,
              "#0d0887"
             ],
             [
              0.1111111111111111,
              "#46039f"
             ],
             [
              0.2222222222222222,
              "#7201a8"
             ],
             [
              0.3333333333333333,
              "#9c179e"
             ],
             [
              0.4444444444444444,
              "#bd3786"
             ],
             [
              0.5555555555555556,
              "#d8576b"
             ],
             [
              0.6666666666666666,
              "#ed7953"
             ],
             [
              0.7777777777777778,
              "#fb9f3a"
             ],
             [
              0.8888888888888888,
              "#fdca26"
             ],
             [
              1,
              "#f0f921"
             ]
            ],
            "type": "histogram2d"
           }
          ],
          "histogram2dcontour": [
           {
            "colorbar": {
             "outlinewidth": 0,
             "ticks": ""
            },
            "colorscale": [
             [
              0,
              "#0d0887"
             ],
             [
              0.1111111111111111,
              "#46039f"
             ],
             [
              0.2222222222222222,
              "#7201a8"
             ],
             [
              0.3333333333333333,
              "#9c179e"
             ],
             [
              0.4444444444444444,
              "#bd3786"
             ],
             [
              0.5555555555555556,
              "#d8576b"
             ],
             [
              0.6666666666666666,
              "#ed7953"
             ],
             [
              0.7777777777777778,
              "#fb9f3a"
             ],
             [
              0.8888888888888888,
              "#fdca26"
             ],
             [
              1,
              "#f0f921"
             ]
            ],
            "type": "histogram2dcontour"
           }
          ],
          "mesh3d": [
           {
            "colorbar": {
             "outlinewidth": 0,
             "ticks": ""
            },
            "type": "mesh3d"
           }
          ],
          "parcoords": [
           {
            "line": {
             "colorbar": {
              "outlinewidth": 0,
              "ticks": ""
             }
            },
            "type": "parcoords"
           }
          ],
          "pie": [
           {
            "automargin": true,
            "type": "pie"
           }
          ],
          "scatter": [
           {
            "fillpattern": {
             "fillmode": "overlay",
             "size": 10,
             "solidity": 0.2
            },
            "type": "scatter"
           }
          ],
          "scatter3d": [
           {
            "line": {
             "colorbar": {
              "outlinewidth": 0,
              "ticks": ""
             }
            },
            "marker": {
             "colorbar": {
              "outlinewidth": 0,
              "ticks": ""
             }
            },
            "type": "scatter3d"
           }
          ],
          "scattercarpet": [
           {
            "marker": {
             "colorbar": {
              "outlinewidth": 0,
              "ticks": ""
             }
            },
            "type": "scattercarpet"
           }
          ],
          "scattergeo": [
           {
            "marker": {
             "colorbar": {
              "outlinewidth": 0,
              "ticks": ""
             }
            },
            "type": "scattergeo"
           }
          ],
          "scattergl": [
           {
            "marker": {
             "colorbar": {
              "outlinewidth": 0,
              "ticks": ""
             }
            },
            "type": "scattergl"
           }
          ],
          "scattermapbox": [
           {
            "marker": {
             "colorbar": {
              "outlinewidth": 0,
              "ticks": ""
             }
            },
            "type": "scattermapbox"
           }
          ],
          "scatterpolar": [
           {
            "marker": {
             "colorbar": {
              "outlinewidth": 0,
              "ticks": ""
             }
            },
            "type": "scatterpolar"
           }
          ],
          "scatterpolargl": [
           {
            "marker": {
             "colorbar": {
              "outlinewidth": 0,
              "ticks": ""
             }
            },
            "type": "scatterpolargl"
           }
          ],
          "scatterternary": [
           {
            "marker": {
             "colorbar": {
              "outlinewidth": 0,
              "ticks": ""
             }
            },
            "type": "scatterternary"
           }
          ],
          "surface": [
           {
            "colorbar": {
             "outlinewidth": 0,
             "ticks": ""
            },
            "colorscale": [
             [
              0,
              "#0d0887"
             ],
             [
              0.1111111111111111,
              "#46039f"
             ],
             [
              0.2222222222222222,
              "#7201a8"
             ],
             [
              0.3333333333333333,
              "#9c179e"
             ],
             [
              0.4444444444444444,
              "#bd3786"
             ],
             [
              0.5555555555555556,
              "#d8576b"
             ],
             [
              0.6666666666666666,
              "#ed7953"
             ],
             [
              0.7777777777777778,
              "#fb9f3a"
             ],
             [
              0.8888888888888888,
              "#fdca26"
             ],
             [
              1,
              "#f0f921"
             ]
            ],
            "type": "surface"
           }
          ],
          "table": [
           {
            "cells": {
             "fill": {
              "color": "#EBF0F8"
             },
             "line": {
              "color": "white"
             }
            },
            "header": {
             "fill": {
              "color": "#C8D4E3"
             },
             "line": {
              "color": "white"
             }
            },
            "type": "table"
           }
          ]
         },
         "layout": {
          "annotationdefaults": {
           "arrowcolor": "#2a3f5f",
           "arrowhead": 0,
           "arrowwidth": 1
          },
          "autotypenumbers": "strict",
          "coloraxis": {
           "colorbar": {
            "outlinewidth": 0,
            "ticks": ""
           }
          },
          "colorscale": {
           "diverging": [
            [
             0,
             "#8e0152"
            ],
            [
             0.1,
             "#c51b7d"
            ],
            [
             0.2,
             "#de77ae"
            ],
            [
             0.3,
             "#f1b6da"
            ],
            [
             0.4,
             "#fde0ef"
            ],
            [
             0.5,
             "#f7f7f7"
            ],
            [
             0.6,
             "#e6f5d0"
            ],
            [
             0.7,
             "#b8e186"
            ],
            [
             0.8,
             "#7fbc41"
            ],
            [
             0.9,
             "#4d9221"
            ],
            [
             1,
             "#276419"
            ]
           ],
           "sequential": [
            [
             0,
             "#0d0887"
            ],
            [
             0.1111111111111111,
             "#46039f"
            ],
            [
             0.2222222222222222,
             "#7201a8"
            ],
            [
             0.3333333333333333,
             "#9c179e"
            ],
            [
             0.4444444444444444,
             "#bd3786"
            ],
            [
             0.5555555555555556,
             "#d8576b"
            ],
            [
             0.6666666666666666,
             "#ed7953"
            ],
            [
             0.7777777777777778,
             "#fb9f3a"
            ],
            [
             0.8888888888888888,
             "#fdca26"
            ],
            [
             1,
             "#f0f921"
            ]
           ],
           "sequentialminus": [
            [
             0,
             "#0d0887"
            ],
            [
             0.1111111111111111,
             "#46039f"
            ],
            [
             0.2222222222222222,
             "#7201a8"
            ],
            [
             0.3333333333333333,
             "#9c179e"
            ],
            [
             0.4444444444444444,
             "#bd3786"
            ],
            [
             0.5555555555555556,
             "#d8576b"
            ],
            [
             0.6666666666666666,
             "#ed7953"
            ],
            [
             0.7777777777777778,
             "#fb9f3a"
            ],
            [
             0.8888888888888888,
             "#fdca26"
            ],
            [
             1,
             "#f0f921"
            ]
           ]
          },
          "colorway": [
           "#636efa",
           "#EF553B",
           "#00cc96",
           "#ab63fa",
           "#FFA15A",
           "#19d3f3",
           "#FF6692",
           "#B6E880",
           "#FF97FF",
           "#FECB52"
          ],
          "font": {
           "color": "#2a3f5f"
          },
          "geo": {
           "bgcolor": "white",
           "lakecolor": "white",
           "landcolor": "#E5ECF6",
           "showlakes": true,
           "showland": true,
           "subunitcolor": "white"
          },
          "hoverlabel": {
           "align": "left"
          },
          "hovermode": "closest",
          "mapbox": {
           "style": "light"
          },
          "paper_bgcolor": "white",
          "plot_bgcolor": "#E5ECF6",
          "polar": {
           "angularaxis": {
            "gridcolor": "white",
            "linecolor": "white",
            "ticks": ""
           },
           "bgcolor": "#E5ECF6",
           "radialaxis": {
            "gridcolor": "white",
            "linecolor": "white",
            "ticks": ""
           }
          },
          "scene": {
           "xaxis": {
            "backgroundcolor": "#E5ECF6",
            "gridcolor": "white",
            "gridwidth": 2,
            "linecolor": "white",
            "showbackground": true,
            "ticks": "",
            "zerolinecolor": "white"
           },
           "yaxis": {
            "backgroundcolor": "#E5ECF6",
            "gridcolor": "white",
            "gridwidth": 2,
            "linecolor": "white",
            "showbackground": true,
            "ticks": "",
            "zerolinecolor": "white"
           },
           "zaxis": {
            "backgroundcolor": "#E5ECF6",
            "gridcolor": "white",
            "gridwidth": 2,
            "linecolor": "white",
            "showbackground": true,
            "ticks": "",
            "zerolinecolor": "white"
           }
          },
          "shapedefaults": {
           "line": {
            "color": "#2a3f5f"
           }
          },
          "ternary": {
           "aaxis": {
            "gridcolor": "white",
            "linecolor": "white",
            "ticks": ""
           },
           "baxis": {
            "gridcolor": "white",
            "linecolor": "white",
            "ticks": ""
           },
           "bgcolor": "#E5ECF6",
           "caxis": {
            "gridcolor": "white",
            "linecolor": "white",
            "ticks": ""
           }
          },
          "title": {
           "x": 0.05
          },
          "xaxis": {
           "automargin": true,
           "gridcolor": "white",
           "linecolor": "white",
           "ticks": "",
           "title": {
            "standoff": 15
           },
           "zerolinecolor": "white",
           "zerolinewidth": 2
          },
          "yaxis": {
           "automargin": true,
           "gridcolor": "white",
           "linecolor": "white",
           "ticks": "",
           "title": {
            "standoff": 15
           },
           "zerolinecolor": "white",
           "zerolinewidth": 2
          }
         }
        },
        "title": {
         "text": "Box Plot Sample from a Normal Distribution"
        },
        "width": 800
       }
      }
     },
     "metadata": {},
     "output_type": "display_data"
    }
   ],
   "source": [
    "fig = go.Figure()\n",
    "fig.add_trace(go.Box(x=df[\"Normal\"], \n",
    "                     pointpos=0.0,\n",
    "                     jitter=0.5,\n",
    "                     notched=True, \n",
    "                     marker_color='green', \n",
    "                     boxpoints=\"all\",\n",
    "                     name='Normal',\n",
    "                     ))\n",
    "fig.update_layout(title='Box Plot Sample from a Normal Distribution', \n",
    "                  height = 500, width = 800,)"
   ]
  },
  {
   "cell_type": "code",
   "execution_count": 68,
   "metadata": {},
   "outputs": [],
   "source": [
    "df = data2"
   ]
  },
  {
   "cell_type": "code",
   "execution_count": 69,
   "metadata": {},
   "outputs": [
    {
     "data": {
      "application/vnd.plotly.v1+json": {
       "config": {
        "plotlyServerURL": "https://plot.ly"
       },
       "data": [
        {
         "boxpoints": "all",
         "name": "Normal",
         "notched": true,
         "type": "box",
         "x": [
          -1.0261643648198875,
          -0.7457670097247742,
          0.5169715898221674,
          -0.9206300857059962,
          1.2708570202757552,
          0.5287434741925299,
          -0.7513541334355245,
          -0.33979043771247586,
          0.39865914047191553,
          -1.4385241116579903,
          0.9614721889977241,
          -0.16100373820253155,
          0.19925583752756496,
          0.934865930750154,
          0.2986300789794512,
          1.0583773054730714,
          1.475782902713721,
          -1.0605229028723235,
          -0.3816673817024672,
          0.03434740713375005,
          -0.8341307306613622,
          -0.8346828523498678,
          -0.14274325670907456,
          -1.0773603446893942,
          -0.18706223243941972,
          0.4397982583584502,
          -0.6113089397147986,
          0.26907967710750724,
          2.578522597069413,
          1.0038046731508723,
          1.3741821007480701,
          1.7062924702261255,
          0.03860936045265753,
          0.5113781670685686,
          0.18950709416213005,
          -0.7461360192393409,
          1.3285424661071896,
          1.5445706189485933,
          -0.8315783357340815,
          0.9473751198066368,
          0.46821341702001545,
          -1.5022475908403181,
          0.7426201962607565,
          0.1000242461470277,
          -0.8825526057369291,
          0.7677986388281807,
          0.692600951674965,
          1.4604178766584457,
          -0.16344691861131694,
          0.08037429671353669,
          -0.5419305489418446,
          -1.0289239410612818,
          0.3030003939652241,
          -0.6532923292134275,
          0.7352516512322413,
          -1.104407221387953,
          1.3191037117770876,
          1.4500295344030831,
          1.1797533905733526,
          1.1611714222794565,
          -0.5993505226698922,
          0.06124979615807197,
          1.1684744739215411,
          0.12271409689581869,
          -1.0014659159766395,
          0.22250745654823442,
          0.4340159232878915,
          -0.054236579504245125,
          -0.1586946026678679,
          -0.08366979445934837,
          1.5384019559646418,
          -0.11595002460887176,
          -0.10141682247110448,
          -0.3553437426085144,
          1.3804261782200065,
          0.24915460879957405,
          0.04280380440190883,
          1.9410653602692307,
          1.2983219848878462,
          -0.8708338724746266,
          0.6449454837215879,
          -1.6685780692915038,
          -0.7220306498962695,
          -1.0318806164901668,
          -1.361406351372163,
          0.5905357745979413,
          -0.8329180497083237,
          -0.4499343350934873,
          0.44243100296424814,
          1.0420282072075118,
          -1.0488967377851746,
          2.0712877963162897,
          -1.792454421336977,
          -0.5816614946470545,
          0.4975465795154681,
          0.4844205136455764,
          -0.07951047969341471,
          0.09807143153368005,
          0.5458903219153158,
          0.6900229868217002,
          1.0921185858311298,
          -0.30227932561424725,
          -0.212098903198649,
          -2.7358877157654535,
          -0.10828817956781756,
          -1.0904717185793968,
          -1.2568225905762584,
          -0.5970878988808855,
          1.1142331065377402,
          1.281170869734194,
          -0.23581286758055534,
          0.7288395856208925,
          -0.27063572457898166,
          -1.6136840781736355,
          0.7721027358367294,
          0.354381163178985,
          -0.9430635482830344,
          0.07375119005090937,
          0.1540676016774108,
          -1.3373342118666742,
          1.6098044582427538,
          -1.5827094972263,
          -1.1884746581685866,
          -0.25355216734906827,
          1.6078552153475252,
          -0.4825228770569367,
          -0.49374714171276024,
          0.7481709908988774,
          -0.4137868953837393,
          0.9325198008627055,
          0.3817999571879369,
          -0.7062456029764927,
          0.0956203237455665,
          0.02601766936710144,
          -0.5519770752308006,
          0.10679477705835479,
          -1.392609137814081,
          -0.6940276132189362,
          -0.5481887075053642,
          0.30235469926141983,
          -1.5215842310220837,
          -1.0217284971110538,
          -0.9399577168709218,
          0.20553200979183753,
          0.40136104208963463,
          -1.4595526494608697,
          -0.11349420876491476,
          0.6042955132584121,
          -0.43472645626308476,
          0.14607016901041645
         ]
        },
        {
         "boxpoints": "all",
         "name": "t-Student",
         "notched": true,
         "type": "box",
         "x": [
          1.7684729583460848,
          -0.9221906515316609,
          -1.1712099627305734,
          -1.5444364020000612,
          0.16394115630867,
          0.3415207115543105,
          0.3406698744477011,
          3.8347448288118304,
          0.9420540824178512,
          -1.279287389022389,
          -0.49583262753858653,
          -2.6462106425547818,
          -2.2218616554032917,
          -1.0334431991509654,
          2.0695024352135687,
          -2.1673842907177625,
          -0.37406601014159974,
          0.1979004679926584,
          0.669502505349912,
          0.08892765020336328,
          5.908100931115862,
          -1.3231807426607358,
          -0.7962915484050993,
          4.500997553935302,
          0.5941894892096108,
          -0.5420263124851635,
          -0.6199467453853719,
          -2.279594030393827,
          0.4597680904095819,
          0.19454782172725515,
          0.2946548697443732,
          0.8316263600925213,
          0.6546537954939172,
          1.4783681624870773,
          0.686278852119878,
          1.294320028466882,
          0.20696018917701423,
          0.8214679558944197,
          -0.6958667935344783,
          0.2806177931358156,
          1.3445607209001917,
          2.0871115890515735,
          0.2226482566219542,
          0.888805036737315,
          0.9894676962197035,
          0.13509172624049953,
          -2.8909618940919275,
          0.3703210856685302,
          0.41991083726501155,
          0.04383938558873343,
          -1.194544353005018,
          -0.36052909914987186,
          -0.18988151170003306,
          -1.9130814601168835,
          -3.1533268101230023,
          0.1541666243599138,
          -0.10458910279944254,
          -7.28960247017782,
          -0.3067861835904772,
          0.22286921983734004,
          0.5023705433022885,
          -0.2627719171056033,
          -0.007709355450877651,
          -0.6877525884366849,
          -1.557077033636475,
          1.2946000124052994,
          0.635027117592614,
          -0.09360550619838658,
          0.2102998559676964,
          -0.17954279315098823,
          1.0253818832614803,
          1.0569901258741838,
          1.7029174621486152,
          1.5758027263624204,
          -2.6159251316554837,
          0.8734516648560334,
          -2.4626309302122795,
          -0.5739149794372194,
          0.7371897447223653,
          -0.7365445455281094,
          -0.6849857730752003,
          -0.7470663809929458,
          -1.4412734632549984,
          1.8910400534536986,
          -1.5824374109957475,
          -0.38791099864011197,
          0.5253605964726955,
          4.109562035223929,
          0.4162709160241471,
          -0.5307597380109068,
          0.13895851744571971,
          1.178306487950496,
          -1.9856204684162118,
          -0.7061147638757685,
          -0.8396885397402433,
          0.27229287706831506,
          0.7955312135877408,
          -0.38568186664043724,
          -1.4086291758672047,
          -1.1339984456950325,
          -1.3583866206432533,
          -0.589549287773889,
          -0.2233315322260665,
          -0.24983712398778365,
          0.42722999459751176,
          0.5593648019708999,
          1.0089235374122039,
          -1.632102315145005,
          0.48494069828337866,
          -0.3053424538980068,
          2.0882564637844925,
          -1.3638069690340118,
          -0.021207298668888094,
          -0.8865852025999703,
          2.8343141724043535,
          0.8597025777250481,
          0.522795273521473,
          -2.037577826019506,
          4.251705384427228,
          -0.9375803266175057,
          0.39762152832658065,
          2.3909491255700224,
          -2.5717192068882255,
          -0.8813661148334487,
          -0.945235456778796,
          -0.3178536487511005,
          -1.3068260005735057,
          0.24793990560815057,
          0.37455474492367946,
          4.495341636256641,
          1.0745248865284782,
          -0.04506044708541358,
          0.5191163504299007,
          0.27560833686940384,
          0.6436982037340118,
          0.1413622788195612,
          0.07866812835500983,
          -1.3898607895609385,
          -1.0095388712366675,
          1.0676011883348704,
          -1.0971088825862731,
          -1.0361709285637553,
          1.3101557194129803,
          1.0360462881192993,
          0.28959218853500496,
          1.111745590152597,
          -0.11175615234501153,
          1.0504669616930713,
          0.728868066285294,
          -1.7658753296492005
         ]
        }
       ],
       "layout": {
        "height": 500,
        "template": {
         "data": {
          "bar": [
           {
            "error_x": {
             "color": "#2a3f5f"
            },
            "error_y": {
             "color": "#2a3f5f"
            },
            "marker": {
             "line": {
              "color": "#E5ECF6",
              "width": 0.5
             },
             "pattern": {
              "fillmode": "overlay",
              "size": 10,
              "solidity": 0.2
             }
            },
            "type": "bar"
           }
          ],
          "barpolar": [
           {
            "marker": {
             "line": {
              "color": "#E5ECF6",
              "width": 0.5
             },
             "pattern": {
              "fillmode": "overlay",
              "size": 10,
              "solidity": 0.2
             }
            },
            "type": "barpolar"
           }
          ],
          "carpet": [
           {
            "aaxis": {
             "endlinecolor": "#2a3f5f",
             "gridcolor": "white",
             "linecolor": "white",
             "minorgridcolor": "white",
             "startlinecolor": "#2a3f5f"
            },
            "baxis": {
             "endlinecolor": "#2a3f5f",
             "gridcolor": "white",
             "linecolor": "white",
             "minorgridcolor": "white",
             "startlinecolor": "#2a3f5f"
            },
            "type": "carpet"
           }
          ],
          "choropleth": [
           {
            "colorbar": {
             "outlinewidth": 0,
             "ticks": ""
            },
            "type": "choropleth"
           }
          ],
          "contour": [
           {
            "colorbar": {
             "outlinewidth": 0,
             "ticks": ""
            },
            "colorscale": [
             [
              0,
              "#0d0887"
             ],
             [
              0.1111111111111111,
              "#46039f"
             ],
             [
              0.2222222222222222,
              "#7201a8"
             ],
             [
              0.3333333333333333,
              "#9c179e"
             ],
             [
              0.4444444444444444,
              "#bd3786"
             ],
             [
              0.5555555555555556,
              "#d8576b"
             ],
             [
              0.6666666666666666,
              "#ed7953"
             ],
             [
              0.7777777777777778,
              "#fb9f3a"
             ],
             [
              0.8888888888888888,
              "#fdca26"
             ],
             [
              1,
              "#f0f921"
             ]
            ],
            "type": "contour"
           }
          ],
          "contourcarpet": [
           {
            "colorbar": {
             "outlinewidth": 0,
             "ticks": ""
            },
            "type": "contourcarpet"
           }
          ],
          "heatmap": [
           {
            "colorbar": {
             "outlinewidth": 0,
             "ticks": ""
            },
            "colorscale": [
             [
              0,
              "#0d0887"
             ],
             [
              0.1111111111111111,
              "#46039f"
             ],
             [
              0.2222222222222222,
              "#7201a8"
             ],
             [
              0.3333333333333333,
              "#9c179e"
             ],
             [
              0.4444444444444444,
              "#bd3786"
             ],
             [
              0.5555555555555556,
              "#d8576b"
             ],
             [
              0.6666666666666666,
              "#ed7953"
             ],
             [
              0.7777777777777778,
              "#fb9f3a"
             ],
             [
              0.8888888888888888,
              "#fdca26"
             ],
             [
              1,
              "#f0f921"
             ]
            ],
            "type": "heatmap"
           }
          ],
          "heatmapgl": [
           {
            "colorbar": {
             "outlinewidth": 0,
             "ticks": ""
            },
            "colorscale": [
             [
              0,
              "#0d0887"
             ],
             [
              0.1111111111111111,
              "#46039f"
             ],
             [
              0.2222222222222222,
              "#7201a8"
             ],
             [
              0.3333333333333333,
              "#9c179e"
             ],
             [
              0.4444444444444444,
              "#bd3786"
             ],
             [
              0.5555555555555556,
              "#d8576b"
             ],
             [
              0.6666666666666666,
              "#ed7953"
             ],
             [
              0.7777777777777778,
              "#fb9f3a"
             ],
             [
              0.8888888888888888,
              "#fdca26"
             ],
             [
              1,
              "#f0f921"
             ]
            ],
            "type": "heatmapgl"
           }
          ],
          "histogram": [
           {
            "marker": {
             "pattern": {
              "fillmode": "overlay",
              "size": 10,
              "solidity": 0.2
             }
            },
            "type": "histogram"
           }
          ],
          "histogram2d": [
           {
            "colorbar": {
             "outlinewidth": 0,
             "ticks": ""
            },
            "colorscale": [
             [
              0,
              "#0d0887"
             ],
             [
              0.1111111111111111,
              "#46039f"
             ],
             [
              0.2222222222222222,
              "#7201a8"
             ],
             [
              0.3333333333333333,
              "#9c179e"
             ],
             [
              0.4444444444444444,
              "#bd3786"
             ],
             [
              0.5555555555555556,
              "#d8576b"
             ],
             [
              0.6666666666666666,
              "#ed7953"
             ],
             [
              0.7777777777777778,
              "#fb9f3a"
             ],
             [
              0.8888888888888888,
              "#fdca26"
             ],
             [
              1,
              "#f0f921"
             ]
            ],
            "type": "histogram2d"
           }
          ],
          "histogram2dcontour": [
           {
            "colorbar": {
             "outlinewidth": 0,
             "ticks": ""
            },
            "colorscale": [
             [
              0,
              "#0d0887"
             ],
             [
              0.1111111111111111,
              "#46039f"
             ],
             [
              0.2222222222222222,
              "#7201a8"
             ],
             [
              0.3333333333333333,
              "#9c179e"
             ],
             [
              0.4444444444444444,
              "#bd3786"
             ],
             [
              0.5555555555555556,
              "#d8576b"
             ],
             [
              0.6666666666666666,
              "#ed7953"
             ],
             [
              0.7777777777777778,
              "#fb9f3a"
             ],
             [
              0.8888888888888888,
              "#fdca26"
             ],
             [
              1,
              "#f0f921"
             ]
            ],
            "type": "histogram2dcontour"
           }
          ],
          "mesh3d": [
           {
            "colorbar": {
             "outlinewidth": 0,
             "ticks": ""
            },
            "type": "mesh3d"
           }
          ],
          "parcoords": [
           {
            "line": {
             "colorbar": {
              "outlinewidth": 0,
              "ticks": ""
             }
            },
            "type": "parcoords"
           }
          ],
          "pie": [
           {
            "automargin": true,
            "type": "pie"
           }
          ],
          "scatter": [
           {
            "fillpattern": {
             "fillmode": "overlay",
             "size": 10,
             "solidity": 0.2
            },
            "type": "scatter"
           }
          ],
          "scatter3d": [
           {
            "line": {
             "colorbar": {
              "outlinewidth": 0,
              "ticks": ""
             }
            },
            "marker": {
             "colorbar": {
              "outlinewidth": 0,
              "ticks": ""
             }
            },
            "type": "scatter3d"
           }
          ],
          "scattercarpet": [
           {
            "marker": {
             "colorbar": {
              "outlinewidth": 0,
              "ticks": ""
             }
            },
            "type": "scattercarpet"
           }
          ],
          "scattergeo": [
           {
            "marker": {
             "colorbar": {
              "outlinewidth": 0,
              "ticks": ""
             }
            },
            "type": "scattergeo"
           }
          ],
          "scattergl": [
           {
            "marker": {
             "colorbar": {
              "outlinewidth": 0,
              "ticks": ""
             }
            },
            "type": "scattergl"
           }
          ],
          "scattermapbox": [
           {
            "marker": {
             "colorbar": {
              "outlinewidth": 0,
              "ticks": ""
             }
            },
            "type": "scattermapbox"
           }
          ],
          "scatterpolar": [
           {
            "marker": {
             "colorbar": {
              "outlinewidth": 0,
              "ticks": ""
             }
            },
            "type": "scatterpolar"
           }
          ],
          "scatterpolargl": [
           {
            "marker": {
             "colorbar": {
              "outlinewidth": 0,
              "ticks": ""
             }
            },
            "type": "scatterpolargl"
           }
          ],
          "scatterternary": [
           {
            "marker": {
             "colorbar": {
              "outlinewidth": 0,
              "ticks": ""
             }
            },
            "type": "scatterternary"
           }
          ],
          "surface": [
           {
            "colorbar": {
             "outlinewidth": 0,
             "ticks": ""
            },
            "colorscale": [
             [
              0,
              "#0d0887"
             ],
             [
              0.1111111111111111,
              "#46039f"
             ],
             [
              0.2222222222222222,
              "#7201a8"
             ],
             [
              0.3333333333333333,
              "#9c179e"
             ],
             [
              0.4444444444444444,
              "#bd3786"
             ],
             [
              0.5555555555555556,
              "#d8576b"
             ],
             [
              0.6666666666666666,
              "#ed7953"
             ],
             [
              0.7777777777777778,
              "#fb9f3a"
             ],
             [
              0.8888888888888888,
              "#fdca26"
             ],
             [
              1,
              "#f0f921"
             ]
            ],
            "type": "surface"
           }
          ],
          "table": [
           {
            "cells": {
             "fill": {
              "color": "#EBF0F8"
             },
             "line": {
              "color": "white"
             }
            },
            "header": {
             "fill": {
              "color": "#C8D4E3"
             },
             "line": {
              "color": "white"
             }
            },
            "type": "table"
           }
          ]
         },
         "layout": {
          "annotationdefaults": {
           "arrowcolor": "#2a3f5f",
           "arrowhead": 0,
           "arrowwidth": 1
          },
          "autotypenumbers": "strict",
          "coloraxis": {
           "colorbar": {
            "outlinewidth": 0,
            "ticks": ""
           }
          },
          "colorscale": {
           "diverging": [
            [
             0,
             "#8e0152"
            ],
            [
             0.1,
             "#c51b7d"
            ],
            [
             0.2,
             "#de77ae"
            ],
            [
             0.3,
             "#f1b6da"
            ],
            [
             0.4,
             "#fde0ef"
            ],
            [
             0.5,
             "#f7f7f7"
            ],
            [
             0.6,
             "#e6f5d0"
            ],
            [
             0.7,
             "#b8e186"
            ],
            [
             0.8,
             "#7fbc41"
            ],
            [
             0.9,
             "#4d9221"
            ],
            [
             1,
             "#276419"
            ]
           ],
           "sequential": [
            [
             0,
             "#0d0887"
            ],
            [
             0.1111111111111111,
             "#46039f"
            ],
            [
             0.2222222222222222,
             "#7201a8"
            ],
            [
             0.3333333333333333,
             "#9c179e"
            ],
            [
             0.4444444444444444,
             "#bd3786"
            ],
            [
             0.5555555555555556,
             "#d8576b"
            ],
            [
             0.6666666666666666,
             "#ed7953"
            ],
            [
             0.7777777777777778,
             "#fb9f3a"
            ],
            [
             0.8888888888888888,
             "#fdca26"
            ],
            [
             1,
             "#f0f921"
            ]
           ],
           "sequentialminus": [
            [
             0,
             "#0d0887"
            ],
            [
             0.1111111111111111,
             "#46039f"
            ],
            [
             0.2222222222222222,
             "#7201a8"
            ],
            [
             0.3333333333333333,
             "#9c179e"
            ],
            [
             0.4444444444444444,
             "#bd3786"
            ],
            [
             0.5555555555555556,
             "#d8576b"
            ],
            [
             0.6666666666666666,
             "#ed7953"
            ],
            [
             0.7777777777777778,
             "#fb9f3a"
            ],
            [
             0.8888888888888888,
             "#fdca26"
            ],
            [
             1,
             "#f0f921"
            ]
           ]
          },
          "colorway": [
           "#636efa",
           "#EF553B",
           "#00cc96",
           "#ab63fa",
           "#FFA15A",
           "#19d3f3",
           "#FF6692",
           "#B6E880",
           "#FF97FF",
           "#FECB52"
          ],
          "font": {
           "color": "#2a3f5f"
          },
          "geo": {
           "bgcolor": "white",
           "lakecolor": "white",
           "landcolor": "#E5ECF6",
           "showlakes": true,
           "showland": true,
           "subunitcolor": "white"
          },
          "hoverlabel": {
           "align": "left"
          },
          "hovermode": "closest",
          "mapbox": {
           "style": "light"
          },
          "paper_bgcolor": "white",
          "plot_bgcolor": "#E5ECF6",
          "polar": {
           "angularaxis": {
            "gridcolor": "white",
            "linecolor": "white",
            "ticks": ""
           },
           "bgcolor": "#E5ECF6",
           "radialaxis": {
            "gridcolor": "white",
            "linecolor": "white",
            "ticks": ""
           }
          },
          "scene": {
           "xaxis": {
            "backgroundcolor": "#E5ECF6",
            "gridcolor": "white",
            "gridwidth": 2,
            "linecolor": "white",
            "showbackground": true,
            "ticks": "",
            "zerolinecolor": "white"
           },
           "yaxis": {
            "backgroundcolor": "#E5ECF6",
            "gridcolor": "white",
            "gridwidth": 2,
            "linecolor": "white",
            "showbackground": true,
            "ticks": "",
            "zerolinecolor": "white"
           },
           "zaxis": {
            "backgroundcolor": "#E5ECF6",
            "gridcolor": "white",
            "gridwidth": 2,
            "linecolor": "white",
            "showbackground": true,
            "ticks": "",
            "zerolinecolor": "white"
           }
          },
          "shapedefaults": {
           "line": {
            "color": "#2a3f5f"
           }
          },
          "ternary": {
           "aaxis": {
            "gridcolor": "white",
            "linecolor": "white",
            "ticks": ""
           },
           "baxis": {
            "gridcolor": "white",
            "linecolor": "white",
            "ticks": ""
           },
           "bgcolor": "#E5ECF6",
           "caxis": {
            "gridcolor": "white",
            "linecolor": "white",
            "ticks": ""
           }
          },
          "title": {
           "x": 0.05
          },
          "xaxis": {
           "automargin": true,
           "gridcolor": "white",
           "linecolor": "white",
           "ticks": "",
           "title": {
            "standoff": 15
           },
           "zerolinecolor": "white",
           "zerolinewidth": 2
          },
          "yaxis": {
           "automargin": true,
           "gridcolor": "white",
           "linecolor": "white",
           "ticks": "",
           "title": {
            "standoff": 15
           },
           "zerolinecolor": "white",
           "zerolinewidth": 2
          }
         }
        },
        "title": {
         "text": "Box Plot Sample from a Normal Distribution"
        },
        "width": 800
       }
      }
     },
     "metadata": {},
     "output_type": "display_data"
    }
   ],
   "source": [
    "fig = go.Figure()\n",
    "\n",
    "for l in df['Label'].unique():\n",
    "    subdata = df[df.Label==l]\n",
    "    \n",
    "    fig.add_trace(go.Box(x=subdata[\"Data\"], \n",
    "                        notched=True, \n",
    "                        boxpoints=\"all\",\n",
    "                        name=l\n",
    "                        ))\n",
    "fig.update_layout(title='Box Plot Sample from a Normal Distribution', \n",
    "                  height = 500, width = 800,)"
   ]
  },
  {
   "cell_type": "code",
   "execution_count": 70,
   "metadata": {},
   "outputs": [
    {
     "data": {
      "application/vnd.plotly.v1+json": {
       "config": {
        "plotlyServerURL": "https://plot.ly"
       },
       "data": [
        {
         "boxpoints": "all",
         "marker": {
          "color": "teal"
         },
         "name": "Normal",
         "notched": true,
         "type": "box",
         "x": [
          -1.0261643648198875,
          -0.7457670097247742,
          0.5169715898221674,
          -0.9206300857059962,
          1.2708570202757552,
          0.5287434741925299,
          -0.7513541334355245,
          -0.33979043771247586,
          0.39865914047191553,
          -1.4385241116579903,
          0.9614721889977241,
          -0.16100373820253155,
          0.19925583752756496,
          0.934865930750154,
          0.2986300789794512,
          1.0583773054730714,
          1.475782902713721,
          -1.0605229028723235,
          -0.3816673817024672,
          0.03434740713375005,
          -0.8341307306613622,
          -0.8346828523498678,
          -0.14274325670907456,
          -1.0773603446893942,
          -0.18706223243941972,
          0.4397982583584502,
          -0.6113089397147986,
          0.26907967710750724,
          2.578522597069413,
          1.0038046731508723,
          1.3741821007480701,
          1.7062924702261255,
          0.03860936045265753,
          0.5113781670685686,
          0.18950709416213005,
          -0.7461360192393409,
          1.3285424661071896,
          1.5445706189485933,
          -0.8315783357340815,
          0.9473751198066368,
          0.46821341702001545,
          -1.5022475908403181,
          0.7426201962607565,
          0.1000242461470277,
          -0.8825526057369291,
          0.7677986388281807,
          0.692600951674965,
          1.4604178766584457,
          -0.16344691861131694,
          0.08037429671353669,
          -0.5419305489418446,
          -1.0289239410612818,
          0.3030003939652241,
          -0.6532923292134275,
          0.7352516512322413,
          -1.104407221387953,
          1.3191037117770876,
          1.4500295344030831,
          1.1797533905733526,
          1.1611714222794565,
          -0.5993505226698922,
          0.06124979615807197,
          1.1684744739215411,
          0.12271409689581869,
          -1.0014659159766395,
          0.22250745654823442,
          0.4340159232878915,
          -0.054236579504245125,
          -0.1586946026678679,
          -0.08366979445934837,
          1.5384019559646418,
          -0.11595002460887176,
          -0.10141682247110448,
          -0.3553437426085144,
          1.3804261782200065,
          0.24915460879957405,
          0.04280380440190883,
          1.9410653602692307,
          1.2983219848878462,
          -0.8708338724746266,
          0.6449454837215879,
          -1.6685780692915038,
          -0.7220306498962695,
          -1.0318806164901668,
          -1.361406351372163,
          0.5905357745979413,
          -0.8329180497083237,
          -0.4499343350934873,
          0.44243100296424814,
          1.0420282072075118,
          -1.0488967377851746,
          2.0712877963162897,
          -1.792454421336977,
          -0.5816614946470545,
          0.4975465795154681,
          0.4844205136455764,
          -0.07951047969341471,
          0.09807143153368005,
          0.5458903219153158,
          0.6900229868217002,
          1.0921185858311298,
          -0.30227932561424725,
          -0.212098903198649,
          -2.7358877157654535,
          -0.10828817956781756,
          -1.0904717185793968,
          -1.2568225905762584,
          -0.5970878988808855,
          1.1142331065377402,
          1.281170869734194,
          -0.23581286758055534,
          0.7288395856208925,
          -0.27063572457898166,
          -1.6136840781736355,
          0.7721027358367294,
          0.354381163178985,
          -0.9430635482830344,
          0.07375119005090937,
          0.1540676016774108,
          -1.3373342118666742,
          1.6098044582427538,
          -1.5827094972263,
          -1.1884746581685866,
          -0.25355216734906827,
          1.6078552153475252,
          -0.4825228770569367,
          -0.49374714171276024,
          0.7481709908988774,
          -0.4137868953837393,
          0.9325198008627055,
          0.3817999571879369,
          -0.7062456029764927,
          0.0956203237455665,
          0.02601766936710144,
          -0.5519770752308006,
          0.10679477705835479,
          -1.392609137814081,
          -0.6940276132189362,
          -0.5481887075053642,
          0.30235469926141983,
          -1.5215842310220837,
          -1.0217284971110538,
          -0.9399577168709218,
          0.20553200979183753,
          0.40136104208963463,
          -1.4595526494608697,
          -0.11349420876491476,
          0.6042955132584121,
          -0.43472645626308476,
          0.14607016901041645
         ]
        },
        {
         "boxpoints": "all",
         "marker": {
          "color": "purple"
         },
         "name": "t-Student",
         "notched": true,
         "type": "box",
         "x": [
          1.7684729583460848,
          -0.9221906515316609,
          -1.1712099627305734,
          -1.5444364020000612,
          0.16394115630867,
          0.3415207115543105,
          0.3406698744477011,
          3.8347448288118304,
          0.9420540824178512,
          -1.279287389022389,
          -0.49583262753858653,
          -2.6462106425547818,
          -2.2218616554032917,
          -1.0334431991509654,
          2.0695024352135687,
          -2.1673842907177625,
          -0.37406601014159974,
          0.1979004679926584,
          0.669502505349912,
          0.08892765020336328,
          5.908100931115862,
          -1.3231807426607358,
          -0.7962915484050993,
          4.500997553935302,
          0.5941894892096108,
          -0.5420263124851635,
          -0.6199467453853719,
          -2.279594030393827,
          0.4597680904095819,
          0.19454782172725515,
          0.2946548697443732,
          0.8316263600925213,
          0.6546537954939172,
          1.4783681624870773,
          0.686278852119878,
          1.294320028466882,
          0.20696018917701423,
          0.8214679558944197,
          -0.6958667935344783,
          0.2806177931358156,
          1.3445607209001917,
          2.0871115890515735,
          0.2226482566219542,
          0.888805036737315,
          0.9894676962197035,
          0.13509172624049953,
          -2.8909618940919275,
          0.3703210856685302,
          0.41991083726501155,
          0.04383938558873343,
          -1.194544353005018,
          -0.36052909914987186,
          -0.18988151170003306,
          -1.9130814601168835,
          -3.1533268101230023,
          0.1541666243599138,
          -0.10458910279944254,
          -7.28960247017782,
          -0.3067861835904772,
          0.22286921983734004,
          0.5023705433022885,
          -0.2627719171056033,
          -0.007709355450877651,
          -0.6877525884366849,
          -1.557077033636475,
          1.2946000124052994,
          0.635027117592614,
          -0.09360550619838658,
          0.2102998559676964,
          -0.17954279315098823,
          1.0253818832614803,
          1.0569901258741838,
          1.7029174621486152,
          1.5758027263624204,
          -2.6159251316554837,
          0.8734516648560334,
          -2.4626309302122795,
          -0.5739149794372194,
          0.7371897447223653,
          -0.7365445455281094,
          -0.6849857730752003,
          -0.7470663809929458,
          -1.4412734632549984,
          1.8910400534536986,
          -1.5824374109957475,
          -0.38791099864011197,
          0.5253605964726955,
          4.109562035223929,
          0.4162709160241471,
          -0.5307597380109068,
          0.13895851744571971,
          1.178306487950496,
          -1.9856204684162118,
          -0.7061147638757685,
          -0.8396885397402433,
          0.27229287706831506,
          0.7955312135877408,
          -0.38568186664043724,
          -1.4086291758672047,
          -1.1339984456950325,
          -1.3583866206432533,
          -0.589549287773889,
          -0.2233315322260665,
          -0.24983712398778365,
          0.42722999459751176,
          0.5593648019708999,
          1.0089235374122039,
          -1.632102315145005,
          0.48494069828337866,
          -0.3053424538980068,
          2.0882564637844925,
          -1.3638069690340118,
          -0.021207298668888094,
          -0.8865852025999703,
          2.8343141724043535,
          0.8597025777250481,
          0.522795273521473,
          -2.037577826019506,
          4.251705384427228,
          -0.9375803266175057,
          0.39762152832658065,
          2.3909491255700224,
          -2.5717192068882255,
          -0.8813661148334487,
          -0.945235456778796,
          -0.3178536487511005,
          -1.3068260005735057,
          0.24793990560815057,
          0.37455474492367946,
          4.495341636256641,
          1.0745248865284782,
          -0.04506044708541358,
          0.5191163504299007,
          0.27560833686940384,
          0.6436982037340118,
          0.1413622788195612,
          0.07866812835500983,
          -1.3898607895609385,
          -1.0095388712366675,
          1.0676011883348704,
          -1.0971088825862731,
          -1.0361709285637553,
          1.3101557194129803,
          1.0360462881192993,
          0.28959218853500496,
          1.111745590152597,
          -0.11175615234501153,
          1.0504669616930713,
          0.728868066285294,
          -1.7658753296492005
         ]
        }
       ],
       "layout": {
        "height": 500,
        "template": {
         "data": {
          "bar": [
           {
            "error_x": {
             "color": "#2a3f5f"
            },
            "error_y": {
             "color": "#2a3f5f"
            },
            "marker": {
             "line": {
              "color": "#E5ECF6",
              "width": 0.5
             },
             "pattern": {
              "fillmode": "overlay",
              "size": 10,
              "solidity": 0.2
             }
            },
            "type": "bar"
           }
          ],
          "barpolar": [
           {
            "marker": {
             "line": {
              "color": "#E5ECF6",
              "width": 0.5
             },
             "pattern": {
              "fillmode": "overlay",
              "size": 10,
              "solidity": 0.2
             }
            },
            "type": "barpolar"
           }
          ],
          "carpet": [
           {
            "aaxis": {
             "endlinecolor": "#2a3f5f",
             "gridcolor": "white",
             "linecolor": "white",
             "minorgridcolor": "white",
             "startlinecolor": "#2a3f5f"
            },
            "baxis": {
             "endlinecolor": "#2a3f5f",
             "gridcolor": "white",
             "linecolor": "white",
             "minorgridcolor": "white",
             "startlinecolor": "#2a3f5f"
            },
            "type": "carpet"
           }
          ],
          "choropleth": [
           {
            "colorbar": {
             "outlinewidth": 0,
             "ticks": ""
            },
            "type": "choropleth"
           }
          ],
          "contour": [
           {
            "colorbar": {
             "outlinewidth": 0,
             "ticks": ""
            },
            "colorscale": [
             [
              0,
              "#0d0887"
             ],
             [
              0.1111111111111111,
              "#46039f"
             ],
             [
              0.2222222222222222,
              "#7201a8"
             ],
             [
              0.3333333333333333,
              "#9c179e"
             ],
             [
              0.4444444444444444,
              "#bd3786"
             ],
             [
              0.5555555555555556,
              "#d8576b"
             ],
             [
              0.6666666666666666,
              "#ed7953"
             ],
             [
              0.7777777777777778,
              "#fb9f3a"
             ],
             [
              0.8888888888888888,
              "#fdca26"
             ],
             [
              1,
              "#f0f921"
             ]
            ],
            "type": "contour"
           }
          ],
          "contourcarpet": [
           {
            "colorbar": {
             "outlinewidth": 0,
             "ticks": ""
            },
            "type": "contourcarpet"
           }
          ],
          "heatmap": [
           {
            "colorbar": {
             "outlinewidth": 0,
             "ticks": ""
            },
            "colorscale": [
             [
              0,
              "#0d0887"
             ],
             [
              0.1111111111111111,
              "#46039f"
             ],
             [
              0.2222222222222222,
              "#7201a8"
             ],
             [
              0.3333333333333333,
              "#9c179e"
             ],
             [
              0.4444444444444444,
              "#bd3786"
             ],
             [
              0.5555555555555556,
              "#d8576b"
             ],
             [
              0.6666666666666666,
              "#ed7953"
             ],
             [
              0.7777777777777778,
              "#fb9f3a"
             ],
             [
              0.8888888888888888,
              "#fdca26"
             ],
             [
              1,
              "#f0f921"
             ]
            ],
            "type": "heatmap"
           }
          ],
          "heatmapgl": [
           {
            "colorbar": {
             "outlinewidth": 0,
             "ticks": ""
            },
            "colorscale": [
             [
              0,
              "#0d0887"
             ],
             [
              0.1111111111111111,
              "#46039f"
             ],
             [
              0.2222222222222222,
              "#7201a8"
             ],
             [
              0.3333333333333333,
              "#9c179e"
             ],
             [
              0.4444444444444444,
              "#bd3786"
             ],
             [
              0.5555555555555556,
              "#d8576b"
             ],
             [
              0.6666666666666666,
              "#ed7953"
             ],
             [
              0.7777777777777778,
              "#fb9f3a"
             ],
             [
              0.8888888888888888,
              "#fdca26"
             ],
             [
              1,
              "#f0f921"
             ]
            ],
            "type": "heatmapgl"
           }
          ],
          "histogram": [
           {
            "marker": {
             "pattern": {
              "fillmode": "overlay",
              "size": 10,
              "solidity": 0.2
             }
            },
            "type": "histogram"
           }
          ],
          "histogram2d": [
           {
            "colorbar": {
             "outlinewidth": 0,
             "ticks": ""
            },
            "colorscale": [
             [
              0,
              "#0d0887"
             ],
             [
              0.1111111111111111,
              "#46039f"
             ],
             [
              0.2222222222222222,
              "#7201a8"
             ],
             [
              0.3333333333333333,
              "#9c179e"
             ],
             [
              0.4444444444444444,
              "#bd3786"
             ],
             [
              0.5555555555555556,
              "#d8576b"
             ],
             [
              0.6666666666666666,
              "#ed7953"
             ],
             [
              0.7777777777777778,
              "#fb9f3a"
             ],
             [
              0.8888888888888888,
              "#fdca26"
             ],
             [
              1,
              "#f0f921"
             ]
            ],
            "type": "histogram2d"
           }
          ],
          "histogram2dcontour": [
           {
            "colorbar": {
             "outlinewidth": 0,
             "ticks": ""
            },
            "colorscale": [
             [
              0,
              "#0d0887"
             ],
             [
              0.1111111111111111,
              "#46039f"
             ],
             [
              0.2222222222222222,
              "#7201a8"
             ],
             [
              0.3333333333333333,
              "#9c179e"
             ],
             [
              0.4444444444444444,
              "#bd3786"
             ],
             [
              0.5555555555555556,
              "#d8576b"
             ],
             [
              0.6666666666666666,
              "#ed7953"
             ],
             [
              0.7777777777777778,
              "#fb9f3a"
             ],
             [
              0.8888888888888888,
              "#fdca26"
             ],
             [
              1,
              "#f0f921"
             ]
            ],
            "type": "histogram2dcontour"
           }
          ],
          "mesh3d": [
           {
            "colorbar": {
             "outlinewidth": 0,
             "ticks": ""
            },
            "type": "mesh3d"
           }
          ],
          "parcoords": [
           {
            "line": {
             "colorbar": {
              "outlinewidth": 0,
              "ticks": ""
             }
            },
            "type": "parcoords"
           }
          ],
          "pie": [
           {
            "automargin": true,
            "type": "pie"
           }
          ],
          "scatter": [
           {
            "fillpattern": {
             "fillmode": "overlay",
             "size": 10,
             "solidity": 0.2
            },
            "type": "scatter"
           }
          ],
          "scatter3d": [
           {
            "line": {
             "colorbar": {
              "outlinewidth": 0,
              "ticks": ""
             }
            },
            "marker": {
             "colorbar": {
              "outlinewidth": 0,
              "ticks": ""
             }
            },
            "type": "scatter3d"
           }
          ],
          "scattercarpet": [
           {
            "marker": {
             "colorbar": {
              "outlinewidth": 0,
              "ticks": ""
             }
            },
            "type": "scattercarpet"
           }
          ],
          "scattergeo": [
           {
            "marker": {
             "colorbar": {
              "outlinewidth": 0,
              "ticks": ""
             }
            },
            "type": "scattergeo"
           }
          ],
          "scattergl": [
           {
            "marker": {
             "colorbar": {
              "outlinewidth": 0,
              "ticks": ""
             }
            },
            "type": "scattergl"
           }
          ],
          "scattermapbox": [
           {
            "marker": {
             "colorbar": {
              "outlinewidth": 0,
              "ticks": ""
             }
            },
            "type": "scattermapbox"
           }
          ],
          "scatterpolar": [
           {
            "marker": {
             "colorbar": {
              "outlinewidth": 0,
              "ticks": ""
             }
            },
            "type": "scatterpolar"
           }
          ],
          "scatterpolargl": [
           {
            "marker": {
             "colorbar": {
              "outlinewidth": 0,
              "ticks": ""
             }
            },
            "type": "scatterpolargl"
           }
          ],
          "scatterternary": [
           {
            "marker": {
             "colorbar": {
              "outlinewidth": 0,
              "ticks": ""
             }
            },
            "type": "scatterternary"
           }
          ],
          "surface": [
           {
            "colorbar": {
             "outlinewidth": 0,
             "ticks": ""
            },
            "colorscale": [
             [
              0,
              "#0d0887"
             ],
             [
              0.1111111111111111,
              "#46039f"
             ],
             [
              0.2222222222222222,
              "#7201a8"
             ],
             [
              0.3333333333333333,
              "#9c179e"
             ],
             [
              0.4444444444444444,
              "#bd3786"
             ],
             [
              0.5555555555555556,
              "#d8576b"
             ],
             [
              0.6666666666666666,
              "#ed7953"
             ],
             [
              0.7777777777777778,
              "#fb9f3a"
             ],
             [
              0.8888888888888888,
              "#fdca26"
             ],
             [
              1,
              "#f0f921"
             ]
            ],
            "type": "surface"
           }
          ],
          "table": [
           {
            "cells": {
             "fill": {
              "color": "#EBF0F8"
             },
             "line": {
              "color": "white"
             }
            },
            "header": {
             "fill": {
              "color": "#C8D4E3"
             },
             "line": {
              "color": "white"
             }
            },
            "type": "table"
           }
          ]
         },
         "layout": {
          "annotationdefaults": {
           "arrowcolor": "#2a3f5f",
           "arrowhead": 0,
           "arrowwidth": 1
          },
          "autotypenumbers": "strict",
          "coloraxis": {
           "colorbar": {
            "outlinewidth": 0,
            "ticks": ""
           }
          },
          "colorscale": {
           "diverging": [
            [
             0,
             "#8e0152"
            ],
            [
             0.1,
             "#c51b7d"
            ],
            [
             0.2,
             "#de77ae"
            ],
            [
             0.3,
             "#f1b6da"
            ],
            [
             0.4,
             "#fde0ef"
            ],
            [
             0.5,
             "#f7f7f7"
            ],
            [
             0.6,
             "#e6f5d0"
            ],
            [
             0.7,
             "#b8e186"
            ],
            [
             0.8,
             "#7fbc41"
            ],
            [
             0.9,
             "#4d9221"
            ],
            [
             1,
             "#276419"
            ]
           ],
           "sequential": [
            [
             0,
             "#0d0887"
            ],
            [
             0.1111111111111111,
             "#46039f"
            ],
            [
             0.2222222222222222,
             "#7201a8"
            ],
            [
             0.3333333333333333,
             "#9c179e"
            ],
            [
             0.4444444444444444,
             "#bd3786"
            ],
            [
             0.5555555555555556,
             "#d8576b"
            ],
            [
             0.6666666666666666,
             "#ed7953"
            ],
            [
             0.7777777777777778,
             "#fb9f3a"
            ],
            [
             0.8888888888888888,
             "#fdca26"
            ],
            [
             1,
             "#f0f921"
            ]
           ],
           "sequentialminus": [
            [
             0,
             "#0d0887"
            ],
            [
             0.1111111111111111,
             "#46039f"
            ],
            [
             0.2222222222222222,
             "#7201a8"
            ],
            [
             0.3333333333333333,
             "#9c179e"
            ],
            [
             0.4444444444444444,
             "#bd3786"
            ],
            [
             0.5555555555555556,
             "#d8576b"
            ],
            [
             0.6666666666666666,
             "#ed7953"
            ],
            [
             0.7777777777777778,
             "#fb9f3a"
            ],
            [
             0.8888888888888888,
             "#fdca26"
            ],
            [
             1,
             "#f0f921"
            ]
           ]
          },
          "colorway": [
           "#636efa",
           "#EF553B",
           "#00cc96",
           "#ab63fa",
           "#FFA15A",
           "#19d3f3",
           "#FF6692",
           "#B6E880",
           "#FF97FF",
           "#FECB52"
          ],
          "font": {
           "color": "#2a3f5f"
          },
          "geo": {
           "bgcolor": "white",
           "lakecolor": "white",
           "landcolor": "#E5ECF6",
           "showlakes": true,
           "showland": true,
           "subunitcolor": "white"
          },
          "hoverlabel": {
           "align": "left"
          },
          "hovermode": "closest",
          "mapbox": {
           "style": "light"
          },
          "paper_bgcolor": "white",
          "plot_bgcolor": "#E5ECF6",
          "polar": {
           "angularaxis": {
            "gridcolor": "white",
            "linecolor": "white",
            "ticks": ""
           },
           "bgcolor": "#E5ECF6",
           "radialaxis": {
            "gridcolor": "white",
            "linecolor": "white",
            "ticks": ""
           }
          },
          "scene": {
           "xaxis": {
            "backgroundcolor": "#E5ECF6",
            "gridcolor": "white",
            "gridwidth": 2,
            "linecolor": "white",
            "showbackground": true,
            "ticks": "",
            "zerolinecolor": "white"
           },
           "yaxis": {
            "backgroundcolor": "#E5ECF6",
            "gridcolor": "white",
            "gridwidth": 2,
            "linecolor": "white",
            "showbackground": true,
            "ticks": "",
            "zerolinecolor": "white"
           },
           "zaxis": {
            "backgroundcolor": "#E5ECF6",
            "gridcolor": "white",
            "gridwidth": 2,
            "linecolor": "white",
            "showbackground": true,
            "ticks": "",
            "zerolinecolor": "white"
           }
          },
          "shapedefaults": {
           "line": {
            "color": "#2a3f5f"
           }
          },
          "ternary": {
           "aaxis": {
            "gridcolor": "white",
            "linecolor": "white",
            "ticks": ""
           },
           "baxis": {
            "gridcolor": "white",
            "linecolor": "white",
            "ticks": ""
           },
           "bgcolor": "#E5ECF6",
           "caxis": {
            "gridcolor": "white",
            "linecolor": "white",
            "ticks": ""
           }
          },
          "title": {
           "x": 0.05
          },
          "xaxis": {
           "automargin": true,
           "gridcolor": "white",
           "linecolor": "white",
           "ticks": "",
           "title": {
            "standoff": 15
           },
           "zerolinecolor": "white",
           "zerolinewidth": 2
          },
          "yaxis": {
           "automargin": true,
           "gridcolor": "white",
           "linecolor": "white",
           "ticks": "",
           "title": {
            "standoff": 15
           },
           "zerolinecolor": "white",
           "zerolinewidth": 2
          }
         }
        },
        "title": {
         "text": "Box Plot Sample from a Normal Distribution"
        },
        "width": 800
       }
      }
     },
     "metadata": {},
     "output_type": "display_data"
    }
   ],
   "source": [
    "fig = go.Figure()\n",
    "\n",
    "colors = ['teal', 'purple']\n",
    "for l, cl in zip(df['Label'].unique(), colors):\n",
    "    subdata = df[df.Label==l]\n",
    "    \n",
    "    fig.add_trace(go.Box(x=subdata[\"Data\"], \n",
    "                        notched=True, \n",
    "                        boxpoints=\"all\",\n",
    "                        name=l,\n",
    "                        marker_color=cl, \n",
    "                        ))\n",
    "fig.update_layout(title='Box Plot Sample from a Normal Distribution', \n",
    "                  height = 500, width = 800,)"
   ]
  },
  {
   "cell_type": "code",
   "execution_count": 71,
   "metadata": {},
   "outputs": [
    {
     "data": {
      "application/vnd.plotly.v1+json": {
       "config": {
        "plotlyServerURL": "https://plot.ly"
       },
       "data": [
        {
         "boxpoints": "all",
         "jitter": 0.5,
         "marker": {
          "color": "teal"
         },
         "name": "Normal",
         "notched": true,
         "pointpos": 0,
         "type": "box",
         "x": [
          -1.0261643648198875,
          -0.7457670097247742,
          0.5169715898221674,
          -0.9206300857059962,
          1.2708570202757552,
          0.5287434741925299,
          -0.7513541334355245,
          -0.33979043771247586,
          0.39865914047191553,
          -1.4385241116579903,
          0.9614721889977241,
          -0.16100373820253155,
          0.19925583752756496,
          0.934865930750154,
          0.2986300789794512,
          1.0583773054730714,
          1.475782902713721,
          -1.0605229028723235,
          -0.3816673817024672,
          0.03434740713375005,
          -0.8341307306613622,
          -0.8346828523498678,
          -0.14274325670907456,
          -1.0773603446893942,
          -0.18706223243941972,
          0.4397982583584502,
          -0.6113089397147986,
          0.26907967710750724,
          2.578522597069413,
          1.0038046731508723,
          1.3741821007480701,
          1.7062924702261255,
          0.03860936045265753,
          0.5113781670685686,
          0.18950709416213005,
          -0.7461360192393409,
          1.3285424661071896,
          1.5445706189485933,
          -0.8315783357340815,
          0.9473751198066368,
          0.46821341702001545,
          -1.5022475908403181,
          0.7426201962607565,
          0.1000242461470277,
          -0.8825526057369291,
          0.7677986388281807,
          0.692600951674965,
          1.4604178766584457,
          -0.16344691861131694,
          0.08037429671353669,
          -0.5419305489418446,
          -1.0289239410612818,
          0.3030003939652241,
          -0.6532923292134275,
          0.7352516512322413,
          -1.104407221387953,
          1.3191037117770876,
          1.4500295344030831,
          1.1797533905733526,
          1.1611714222794565,
          -0.5993505226698922,
          0.06124979615807197,
          1.1684744739215411,
          0.12271409689581869,
          -1.0014659159766395,
          0.22250745654823442,
          0.4340159232878915,
          -0.054236579504245125,
          -0.1586946026678679,
          -0.08366979445934837,
          1.5384019559646418,
          -0.11595002460887176,
          -0.10141682247110448,
          -0.3553437426085144,
          1.3804261782200065,
          0.24915460879957405,
          0.04280380440190883,
          1.9410653602692307,
          1.2983219848878462,
          -0.8708338724746266,
          0.6449454837215879,
          -1.6685780692915038,
          -0.7220306498962695,
          -1.0318806164901668,
          -1.361406351372163,
          0.5905357745979413,
          -0.8329180497083237,
          -0.4499343350934873,
          0.44243100296424814,
          1.0420282072075118,
          -1.0488967377851746,
          2.0712877963162897,
          -1.792454421336977,
          -0.5816614946470545,
          0.4975465795154681,
          0.4844205136455764,
          -0.07951047969341471,
          0.09807143153368005,
          0.5458903219153158,
          0.6900229868217002,
          1.0921185858311298,
          -0.30227932561424725,
          -0.212098903198649,
          -2.7358877157654535,
          -0.10828817956781756,
          -1.0904717185793968,
          -1.2568225905762584,
          -0.5970878988808855,
          1.1142331065377402,
          1.281170869734194,
          -0.23581286758055534,
          0.7288395856208925,
          -0.27063572457898166,
          -1.6136840781736355,
          0.7721027358367294,
          0.354381163178985,
          -0.9430635482830344,
          0.07375119005090937,
          0.1540676016774108,
          -1.3373342118666742,
          1.6098044582427538,
          -1.5827094972263,
          -1.1884746581685866,
          -0.25355216734906827,
          1.6078552153475252,
          -0.4825228770569367,
          -0.49374714171276024,
          0.7481709908988774,
          -0.4137868953837393,
          0.9325198008627055,
          0.3817999571879369,
          -0.7062456029764927,
          0.0956203237455665,
          0.02601766936710144,
          -0.5519770752308006,
          0.10679477705835479,
          -1.392609137814081,
          -0.6940276132189362,
          -0.5481887075053642,
          0.30235469926141983,
          -1.5215842310220837,
          -1.0217284971110538,
          -0.9399577168709218,
          0.20553200979183753,
          0.40136104208963463,
          -1.4595526494608697,
          -0.11349420876491476,
          0.6042955132584121,
          -0.43472645626308476,
          0.14607016901041645
         ]
        },
        {
         "boxpoints": "all",
         "jitter": 0.5,
         "marker": {
          "color": "purple"
         },
         "name": "t-Student",
         "notched": true,
         "pointpos": 0,
         "type": "box",
         "x": [
          1.7684729583460848,
          -0.9221906515316609,
          -1.1712099627305734,
          -1.5444364020000612,
          0.16394115630867,
          0.3415207115543105,
          0.3406698744477011,
          3.8347448288118304,
          0.9420540824178512,
          -1.279287389022389,
          -0.49583262753858653,
          -2.6462106425547818,
          -2.2218616554032917,
          -1.0334431991509654,
          2.0695024352135687,
          -2.1673842907177625,
          -0.37406601014159974,
          0.1979004679926584,
          0.669502505349912,
          0.08892765020336328,
          5.908100931115862,
          -1.3231807426607358,
          -0.7962915484050993,
          4.500997553935302,
          0.5941894892096108,
          -0.5420263124851635,
          -0.6199467453853719,
          -2.279594030393827,
          0.4597680904095819,
          0.19454782172725515,
          0.2946548697443732,
          0.8316263600925213,
          0.6546537954939172,
          1.4783681624870773,
          0.686278852119878,
          1.294320028466882,
          0.20696018917701423,
          0.8214679558944197,
          -0.6958667935344783,
          0.2806177931358156,
          1.3445607209001917,
          2.0871115890515735,
          0.2226482566219542,
          0.888805036737315,
          0.9894676962197035,
          0.13509172624049953,
          -2.8909618940919275,
          0.3703210856685302,
          0.41991083726501155,
          0.04383938558873343,
          -1.194544353005018,
          -0.36052909914987186,
          -0.18988151170003306,
          -1.9130814601168835,
          -3.1533268101230023,
          0.1541666243599138,
          -0.10458910279944254,
          -7.28960247017782,
          -0.3067861835904772,
          0.22286921983734004,
          0.5023705433022885,
          -0.2627719171056033,
          -0.007709355450877651,
          -0.6877525884366849,
          -1.557077033636475,
          1.2946000124052994,
          0.635027117592614,
          -0.09360550619838658,
          0.2102998559676964,
          -0.17954279315098823,
          1.0253818832614803,
          1.0569901258741838,
          1.7029174621486152,
          1.5758027263624204,
          -2.6159251316554837,
          0.8734516648560334,
          -2.4626309302122795,
          -0.5739149794372194,
          0.7371897447223653,
          -0.7365445455281094,
          -0.6849857730752003,
          -0.7470663809929458,
          -1.4412734632549984,
          1.8910400534536986,
          -1.5824374109957475,
          -0.38791099864011197,
          0.5253605964726955,
          4.109562035223929,
          0.4162709160241471,
          -0.5307597380109068,
          0.13895851744571971,
          1.178306487950496,
          -1.9856204684162118,
          -0.7061147638757685,
          -0.8396885397402433,
          0.27229287706831506,
          0.7955312135877408,
          -0.38568186664043724,
          -1.4086291758672047,
          -1.1339984456950325,
          -1.3583866206432533,
          -0.589549287773889,
          -0.2233315322260665,
          -0.24983712398778365,
          0.42722999459751176,
          0.5593648019708999,
          1.0089235374122039,
          -1.632102315145005,
          0.48494069828337866,
          -0.3053424538980068,
          2.0882564637844925,
          -1.3638069690340118,
          -0.021207298668888094,
          -0.8865852025999703,
          2.8343141724043535,
          0.8597025777250481,
          0.522795273521473,
          -2.037577826019506,
          4.251705384427228,
          -0.9375803266175057,
          0.39762152832658065,
          2.3909491255700224,
          -2.5717192068882255,
          -0.8813661148334487,
          -0.945235456778796,
          -0.3178536487511005,
          -1.3068260005735057,
          0.24793990560815057,
          0.37455474492367946,
          4.495341636256641,
          1.0745248865284782,
          -0.04506044708541358,
          0.5191163504299007,
          0.27560833686940384,
          0.6436982037340118,
          0.1413622788195612,
          0.07866812835500983,
          -1.3898607895609385,
          -1.0095388712366675,
          1.0676011883348704,
          -1.0971088825862731,
          -1.0361709285637553,
          1.3101557194129803,
          1.0360462881192993,
          0.28959218853500496,
          1.111745590152597,
          -0.11175615234501153,
          1.0504669616930713,
          0.728868066285294,
          -1.7658753296492005
         ]
        }
       ],
       "layout": {
        "height": 500,
        "template": {
         "data": {
          "bar": [
           {
            "error_x": {
             "color": "#2a3f5f"
            },
            "error_y": {
             "color": "#2a3f5f"
            },
            "marker": {
             "line": {
              "color": "#E5ECF6",
              "width": 0.5
             },
             "pattern": {
              "fillmode": "overlay",
              "size": 10,
              "solidity": 0.2
             }
            },
            "type": "bar"
           }
          ],
          "barpolar": [
           {
            "marker": {
             "line": {
              "color": "#E5ECF6",
              "width": 0.5
             },
             "pattern": {
              "fillmode": "overlay",
              "size": 10,
              "solidity": 0.2
             }
            },
            "type": "barpolar"
           }
          ],
          "carpet": [
           {
            "aaxis": {
             "endlinecolor": "#2a3f5f",
             "gridcolor": "white",
             "linecolor": "white",
             "minorgridcolor": "white",
             "startlinecolor": "#2a3f5f"
            },
            "baxis": {
             "endlinecolor": "#2a3f5f",
             "gridcolor": "white",
             "linecolor": "white",
             "minorgridcolor": "white",
             "startlinecolor": "#2a3f5f"
            },
            "type": "carpet"
           }
          ],
          "choropleth": [
           {
            "colorbar": {
             "outlinewidth": 0,
             "ticks": ""
            },
            "type": "choropleth"
           }
          ],
          "contour": [
           {
            "colorbar": {
             "outlinewidth": 0,
             "ticks": ""
            },
            "colorscale": [
             [
              0,
              "#0d0887"
             ],
             [
              0.1111111111111111,
              "#46039f"
             ],
             [
              0.2222222222222222,
              "#7201a8"
             ],
             [
              0.3333333333333333,
              "#9c179e"
             ],
             [
              0.4444444444444444,
              "#bd3786"
             ],
             [
              0.5555555555555556,
              "#d8576b"
             ],
             [
              0.6666666666666666,
              "#ed7953"
             ],
             [
              0.7777777777777778,
              "#fb9f3a"
             ],
             [
              0.8888888888888888,
              "#fdca26"
             ],
             [
              1,
              "#f0f921"
             ]
            ],
            "type": "contour"
           }
          ],
          "contourcarpet": [
           {
            "colorbar": {
             "outlinewidth": 0,
             "ticks": ""
            },
            "type": "contourcarpet"
           }
          ],
          "heatmap": [
           {
            "colorbar": {
             "outlinewidth": 0,
             "ticks": ""
            },
            "colorscale": [
             [
              0,
              "#0d0887"
             ],
             [
              0.1111111111111111,
              "#46039f"
             ],
             [
              0.2222222222222222,
              "#7201a8"
             ],
             [
              0.3333333333333333,
              "#9c179e"
             ],
             [
              0.4444444444444444,
              "#bd3786"
             ],
             [
              0.5555555555555556,
              "#d8576b"
             ],
             [
              0.6666666666666666,
              "#ed7953"
             ],
             [
              0.7777777777777778,
              "#fb9f3a"
             ],
             [
              0.8888888888888888,
              "#fdca26"
             ],
             [
              1,
              "#f0f921"
             ]
            ],
            "type": "heatmap"
           }
          ],
          "heatmapgl": [
           {
            "colorbar": {
             "outlinewidth": 0,
             "ticks": ""
            },
            "colorscale": [
             [
              0,
              "#0d0887"
             ],
             [
              0.1111111111111111,
              "#46039f"
             ],
             [
              0.2222222222222222,
              "#7201a8"
             ],
             [
              0.3333333333333333,
              "#9c179e"
             ],
             [
              0.4444444444444444,
              "#bd3786"
             ],
             [
              0.5555555555555556,
              "#d8576b"
             ],
             [
              0.6666666666666666,
              "#ed7953"
             ],
             [
              0.7777777777777778,
              "#fb9f3a"
             ],
             [
              0.8888888888888888,
              "#fdca26"
             ],
             [
              1,
              "#f0f921"
             ]
            ],
            "type": "heatmapgl"
           }
          ],
          "histogram": [
           {
            "marker": {
             "pattern": {
              "fillmode": "overlay",
              "size": 10,
              "solidity": 0.2
             }
            },
            "type": "histogram"
           }
          ],
          "histogram2d": [
           {
            "colorbar": {
             "outlinewidth": 0,
             "ticks": ""
            },
            "colorscale": [
             [
              0,
              "#0d0887"
             ],
             [
              0.1111111111111111,
              "#46039f"
             ],
             [
              0.2222222222222222,
              "#7201a8"
             ],
             [
              0.3333333333333333,
              "#9c179e"
             ],
             [
              0.4444444444444444,
              "#bd3786"
             ],
             [
              0.5555555555555556,
              "#d8576b"
             ],
             [
              0.6666666666666666,
              "#ed7953"
             ],
             [
              0.7777777777777778,
              "#fb9f3a"
             ],
             [
              0.8888888888888888,
              "#fdca26"
             ],
             [
              1,
              "#f0f921"
             ]
            ],
            "type": "histogram2d"
           }
          ],
          "histogram2dcontour": [
           {
            "colorbar": {
             "outlinewidth": 0,
             "ticks": ""
            },
            "colorscale": [
             [
              0,
              "#0d0887"
             ],
             [
              0.1111111111111111,
              "#46039f"
             ],
             [
              0.2222222222222222,
              "#7201a8"
             ],
             [
              0.3333333333333333,
              "#9c179e"
             ],
             [
              0.4444444444444444,
              "#bd3786"
             ],
             [
              0.5555555555555556,
              "#d8576b"
             ],
             [
              0.6666666666666666,
              "#ed7953"
             ],
             [
              0.7777777777777778,
              "#fb9f3a"
             ],
             [
              0.8888888888888888,
              "#fdca26"
             ],
             [
              1,
              "#f0f921"
             ]
            ],
            "type": "histogram2dcontour"
           }
          ],
          "mesh3d": [
           {
            "colorbar": {
             "outlinewidth": 0,
             "ticks": ""
            },
            "type": "mesh3d"
           }
          ],
          "parcoords": [
           {
            "line": {
             "colorbar": {
              "outlinewidth": 0,
              "ticks": ""
             }
            },
            "type": "parcoords"
           }
          ],
          "pie": [
           {
            "automargin": true,
            "type": "pie"
           }
          ],
          "scatter": [
           {
            "fillpattern": {
             "fillmode": "overlay",
             "size": 10,
             "solidity": 0.2
            },
            "type": "scatter"
           }
          ],
          "scatter3d": [
           {
            "line": {
             "colorbar": {
              "outlinewidth": 0,
              "ticks": ""
             }
            },
            "marker": {
             "colorbar": {
              "outlinewidth": 0,
              "ticks": ""
             }
            },
            "type": "scatter3d"
           }
          ],
          "scattercarpet": [
           {
            "marker": {
             "colorbar": {
              "outlinewidth": 0,
              "ticks": ""
             }
            },
            "type": "scattercarpet"
           }
          ],
          "scattergeo": [
           {
            "marker": {
             "colorbar": {
              "outlinewidth": 0,
              "ticks": ""
             }
            },
            "type": "scattergeo"
           }
          ],
          "scattergl": [
           {
            "marker": {
             "colorbar": {
              "outlinewidth": 0,
              "ticks": ""
             }
            },
            "type": "scattergl"
           }
          ],
          "scattermapbox": [
           {
            "marker": {
             "colorbar": {
              "outlinewidth": 0,
              "ticks": ""
             }
            },
            "type": "scattermapbox"
           }
          ],
          "scatterpolar": [
           {
            "marker": {
             "colorbar": {
              "outlinewidth": 0,
              "ticks": ""
             }
            },
            "type": "scatterpolar"
           }
          ],
          "scatterpolargl": [
           {
            "marker": {
             "colorbar": {
              "outlinewidth": 0,
              "ticks": ""
             }
            },
            "type": "scatterpolargl"
           }
          ],
          "scatterternary": [
           {
            "marker": {
             "colorbar": {
              "outlinewidth": 0,
              "ticks": ""
             }
            },
            "type": "scatterternary"
           }
          ],
          "surface": [
           {
            "colorbar": {
             "outlinewidth": 0,
             "ticks": ""
            },
            "colorscale": [
             [
              0,
              "#0d0887"
             ],
             [
              0.1111111111111111,
              "#46039f"
             ],
             [
              0.2222222222222222,
              "#7201a8"
             ],
             [
              0.3333333333333333,
              "#9c179e"
             ],
             [
              0.4444444444444444,
              "#bd3786"
             ],
             [
              0.5555555555555556,
              "#d8576b"
             ],
             [
              0.6666666666666666,
              "#ed7953"
             ],
             [
              0.7777777777777778,
              "#fb9f3a"
             ],
             [
              0.8888888888888888,
              "#fdca26"
             ],
             [
              1,
              "#f0f921"
             ]
            ],
            "type": "surface"
           }
          ],
          "table": [
           {
            "cells": {
             "fill": {
              "color": "#EBF0F8"
             },
             "line": {
              "color": "white"
             }
            },
            "header": {
             "fill": {
              "color": "#C8D4E3"
             },
             "line": {
              "color": "white"
             }
            },
            "type": "table"
           }
          ]
         },
         "layout": {
          "annotationdefaults": {
           "arrowcolor": "#2a3f5f",
           "arrowhead": 0,
           "arrowwidth": 1
          },
          "autotypenumbers": "strict",
          "coloraxis": {
           "colorbar": {
            "outlinewidth": 0,
            "ticks": ""
           }
          },
          "colorscale": {
           "diverging": [
            [
             0,
             "#8e0152"
            ],
            [
             0.1,
             "#c51b7d"
            ],
            [
             0.2,
             "#de77ae"
            ],
            [
             0.3,
             "#f1b6da"
            ],
            [
             0.4,
             "#fde0ef"
            ],
            [
             0.5,
             "#f7f7f7"
            ],
            [
             0.6,
             "#e6f5d0"
            ],
            [
             0.7,
             "#b8e186"
            ],
            [
             0.8,
             "#7fbc41"
            ],
            [
             0.9,
             "#4d9221"
            ],
            [
             1,
             "#276419"
            ]
           ],
           "sequential": [
            [
             0,
             "#0d0887"
            ],
            [
             0.1111111111111111,
             "#46039f"
            ],
            [
             0.2222222222222222,
             "#7201a8"
            ],
            [
             0.3333333333333333,
             "#9c179e"
            ],
            [
             0.4444444444444444,
             "#bd3786"
            ],
            [
             0.5555555555555556,
             "#d8576b"
            ],
            [
             0.6666666666666666,
             "#ed7953"
            ],
            [
             0.7777777777777778,
             "#fb9f3a"
            ],
            [
             0.8888888888888888,
             "#fdca26"
            ],
            [
             1,
             "#f0f921"
            ]
           ],
           "sequentialminus": [
            [
             0,
             "#0d0887"
            ],
            [
             0.1111111111111111,
             "#46039f"
            ],
            [
             0.2222222222222222,
             "#7201a8"
            ],
            [
             0.3333333333333333,
             "#9c179e"
            ],
            [
             0.4444444444444444,
             "#bd3786"
            ],
            [
             0.5555555555555556,
             "#d8576b"
            ],
            [
             0.6666666666666666,
             "#ed7953"
            ],
            [
             0.7777777777777778,
             "#fb9f3a"
            ],
            [
             0.8888888888888888,
             "#fdca26"
            ],
            [
             1,
             "#f0f921"
            ]
           ]
          },
          "colorway": [
           "#636efa",
           "#EF553B",
           "#00cc96",
           "#ab63fa",
           "#FFA15A",
           "#19d3f3",
           "#FF6692",
           "#B6E880",
           "#FF97FF",
           "#FECB52"
          ],
          "font": {
           "color": "#2a3f5f"
          },
          "geo": {
           "bgcolor": "white",
           "lakecolor": "white",
           "landcolor": "#E5ECF6",
           "showlakes": true,
           "showland": true,
           "subunitcolor": "white"
          },
          "hoverlabel": {
           "align": "left"
          },
          "hovermode": "closest",
          "mapbox": {
           "style": "light"
          },
          "paper_bgcolor": "white",
          "plot_bgcolor": "#E5ECF6",
          "polar": {
           "angularaxis": {
            "gridcolor": "white",
            "linecolor": "white",
            "ticks": ""
           },
           "bgcolor": "#E5ECF6",
           "radialaxis": {
            "gridcolor": "white",
            "linecolor": "white",
            "ticks": ""
           }
          },
          "scene": {
           "xaxis": {
            "backgroundcolor": "#E5ECF6",
            "gridcolor": "white",
            "gridwidth": 2,
            "linecolor": "white",
            "showbackground": true,
            "ticks": "",
            "zerolinecolor": "white"
           },
           "yaxis": {
            "backgroundcolor": "#E5ECF6",
            "gridcolor": "white",
            "gridwidth": 2,
            "linecolor": "white",
            "showbackground": true,
            "ticks": "",
            "zerolinecolor": "white"
           },
           "zaxis": {
            "backgroundcolor": "#E5ECF6",
            "gridcolor": "white",
            "gridwidth": 2,
            "linecolor": "white",
            "showbackground": true,
            "ticks": "",
            "zerolinecolor": "white"
           }
          },
          "shapedefaults": {
           "line": {
            "color": "#2a3f5f"
           }
          },
          "ternary": {
           "aaxis": {
            "gridcolor": "white",
            "linecolor": "white",
            "ticks": ""
           },
           "baxis": {
            "gridcolor": "white",
            "linecolor": "white",
            "ticks": ""
           },
           "bgcolor": "#E5ECF6",
           "caxis": {
            "gridcolor": "white",
            "linecolor": "white",
            "ticks": ""
           }
          },
          "title": {
           "x": 0.05
          },
          "xaxis": {
           "automargin": true,
           "gridcolor": "white",
           "linecolor": "white",
           "ticks": "",
           "title": {
            "standoff": 15
           },
           "zerolinecolor": "white",
           "zerolinewidth": 2
          },
          "yaxis": {
           "automargin": true,
           "gridcolor": "white",
           "linecolor": "white",
           "ticks": "",
           "title": {
            "standoff": 15
           },
           "zerolinecolor": "white",
           "zerolinewidth": 2
          }
         }
        },
        "title": {
         "text": "Box Plot Sample from a Normal Distribution"
        },
        "width": 800
       }
      }
     },
     "metadata": {},
     "output_type": "display_data"
    }
   ],
   "source": [
    "fig = go.Figure()\n",
    "\n",
    "colors = ['teal', 'purple']\n",
    "for l, cl in zip(df['Label'].unique(), colors):\n",
    "    subdata = df[df.Label==l]\n",
    "    \n",
    "    fig.add_trace(go.Box(x=subdata[\"Data\"], \n",
    "                        pointpos=0.0,\n",
    "                        jitter=0.5,\n",
    "                        notched=True, \n",
    "                        boxpoints=\"all\",\n",
    "                        name=l,\n",
    "                        marker_color=cl, \n",
    "                        ))\n",
    "fig.update_layout(title='Box Plot Sample from a Normal Distribution', \n",
    "                  height = 500, width = 800,)"
   ]
  },
  {
   "cell_type": "code",
   "execution_count": 73,
   "metadata": {},
   "outputs": [
    {
     "data": {
      "application/vnd.plotly.v1+json": {
       "config": {
        "plotlyServerURL": "https://plot.ly"
       },
       "data": [
        {
         "boxpoints": "all",
         "jitter": 0,
         "marker": {
          "color": "teal"
         },
         "name": "Normal",
         "notched": true,
         "type": "box",
         "x": [
          -1.0261643648198875,
          -0.7457670097247742,
          0.5169715898221674,
          -0.9206300857059962,
          1.2708570202757552,
          0.5287434741925299,
          -0.7513541334355245,
          -0.33979043771247586,
          0.39865914047191553,
          -1.4385241116579903,
          0.9614721889977241,
          -0.16100373820253155,
          0.19925583752756496,
          0.934865930750154,
          0.2986300789794512,
          1.0583773054730714,
          1.475782902713721,
          -1.0605229028723235,
          -0.3816673817024672,
          0.03434740713375005,
          -0.8341307306613622,
          -0.8346828523498678,
          -0.14274325670907456,
          -1.0773603446893942,
          -0.18706223243941972,
          0.4397982583584502,
          -0.6113089397147986,
          0.26907967710750724,
          2.578522597069413,
          1.0038046731508723,
          1.3741821007480701,
          1.7062924702261255,
          0.03860936045265753,
          0.5113781670685686,
          0.18950709416213005,
          -0.7461360192393409,
          1.3285424661071896,
          1.5445706189485933,
          -0.8315783357340815,
          0.9473751198066368,
          0.46821341702001545,
          -1.5022475908403181,
          0.7426201962607565,
          0.1000242461470277,
          -0.8825526057369291,
          0.7677986388281807,
          0.692600951674965,
          1.4604178766584457,
          -0.16344691861131694,
          0.08037429671353669,
          -0.5419305489418446,
          -1.0289239410612818,
          0.3030003939652241,
          -0.6532923292134275,
          0.7352516512322413,
          -1.104407221387953,
          1.3191037117770876,
          1.4500295344030831,
          1.1797533905733526,
          1.1611714222794565,
          -0.5993505226698922,
          0.06124979615807197,
          1.1684744739215411,
          0.12271409689581869,
          -1.0014659159766395,
          0.22250745654823442,
          0.4340159232878915,
          -0.054236579504245125,
          -0.1586946026678679,
          -0.08366979445934837,
          1.5384019559646418,
          -0.11595002460887176,
          -0.10141682247110448,
          -0.3553437426085144,
          1.3804261782200065,
          0.24915460879957405,
          0.04280380440190883,
          1.9410653602692307,
          1.2983219848878462,
          -0.8708338724746266,
          0.6449454837215879,
          -1.6685780692915038,
          -0.7220306498962695,
          -1.0318806164901668,
          -1.361406351372163,
          0.5905357745979413,
          -0.8329180497083237,
          -0.4499343350934873,
          0.44243100296424814,
          1.0420282072075118,
          -1.0488967377851746,
          2.0712877963162897,
          -1.792454421336977,
          -0.5816614946470545,
          0.4975465795154681,
          0.4844205136455764,
          -0.07951047969341471,
          0.09807143153368005,
          0.5458903219153158,
          0.6900229868217002,
          1.0921185858311298,
          -0.30227932561424725,
          -0.212098903198649,
          -2.7358877157654535,
          -0.10828817956781756,
          -1.0904717185793968,
          -1.2568225905762584,
          -0.5970878988808855,
          1.1142331065377402,
          1.281170869734194,
          -0.23581286758055534,
          0.7288395856208925,
          -0.27063572457898166,
          -1.6136840781736355,
          0.7721027358367294,
          0.354381163178985,
          -0.9430635482830344,
          0.07375119005090937,
          0.1540676016774108,
          -1.3373342118666742,
          1.6098044582427538,
          -1.5827094972263,
          -1.1884746581685866,
          -0.25355216734906827,
          1.6078552153475252,
          -0.4825228770569367,
          -0.49374714171276024,
          0.7481709908988774,
          -0.4137868953837393,
          0.9325198008627055,
          0.3817999571879369,
          -0.7062456029764927,
          0.0956203237455665,
          0.02601766936710144,
          -0.5519770752308006,
          0.10679477705835479,
          -1.392609137814081,
          -0.6940276132189362,
          -0.5481887075053642,
          0.30235469926141983,
          -1.5215842310220837,
          -1.0217284971110538,
          -0.9399577168709218,
          0.20553200979183753,
          0.40136104208963463,
          -1.4595526494608697,
          -0.11349420876491476,
          0.6042955132584121,
          -0.43472645626308476,
          0.14607016901041645
         ]
        },
        {
         "boxpoints": "all",
         "jitter": 0,
         "marker": {
          "color": "purple"
         },
         "name": "t-Student",
         "notched": true,
         "type": "box",
         "x": [
          1.7684729583460848,
          -0.9221906515316609,
          -1.1712099627305734,
          -1.5444364020000612,
          0.16394115630867,
          0.3415207115543105,
          0.3406698744477011,
          3.8347448288118304,
          0.9420540824178512,
          -1.279287389022389,
          -0.49583262753858653,
          -2.6462106425547818,
          -2.2218616554032917,
          -1.0334431991509654,
          2.0695024352135687,
          -2.1673842907177625,
          -0.37406601014159974,
          0.1979004679926584,
          0.669502505349912,
          0.08892765020336328,
          5.908100931115862,
          -1.3231807426607358,
          -0.7962915484050993,
          4.500997553935302,
          0.5941894892096108,
          -0.5420263124851635,
          -0.6199467453853719,
          -2.279594030393827,
          0.4597680904095819,
          0.19454782172725515,
          0.2946548697443732,
          0.8316263600925213,
          0.6546537954939172,
          1.4783681624870773,
          0.686278852119878,
          1.294320028466882,
          0.20696018917701423,
          0.8214679558944197,
          -0.6958667935344783,
          0.2806177931358156,
          1.3445607209001917,
          2.0871115890515735,
          0.2226482566219542,
          0.888805036737315,
          0.9894676962197035,
          0.13509172624049953,
          -2.8909618940919275,
          0.3703210856685302,
          0.41991083726501155,
          0.04383938558873343,
          -1.194544353005018,
          -0.36052909914987186,
          -0.18988151170003306,
          -1.9130814601168835,
          -3.1533268101230023,
          0.1541666243599138,
          -0.10458910279944254,
          -7.28960247017782,
          -0.3067861835904772,
          0.22286921983734004,
          0.5023705433022885,
          -0.2627719171056033,
          -0.007709355450877651,
          -0.6877525884366849,
          -1.557077033636475,
          1.2946000124052994,
          0.635027117592614,
          -0.09360550619838658,
          0.2102998559676964,
          -0.17954279315098823,
          1.0253818832614803,
          1.0569901258741838,
          1.7029174621486152,
          1.5758027263624204,
          -2.6159251316554837,
          0.8734516648560334,
          -2.4626309302122795,
          -0.5739149794372194,
          0.7371897447223653,
          -0.7365445455281094,
          -0.6849857730752003,
          -0.7470663809929458,
          -1.4412734632549984,
          1.8910400534536986,
          -1.5824374109957475,
          -0.38791099864011197,
          0.5253605964726955,
          4.109562035223929,
          0.4162709160241471,
          -0.5307597380109068,
          0.13895851744571971,
          1.178306487950496,
          -1.9856204684162118,
          -0.7061147638757685,
          -0.8396885397402433,
          0.27229287706831506,
          0.7955312135877408,
          -0.38568186664043724,
          -1.4086291758672047,
          -1.1339984456950325,
          -1.3583866206432533,
          -0.589549287773889,
          -0.2233315322260665,
          -0.24983712398778365,
          0.42722999459751176,
          0.5593648019708999,
          1.0089235374122039,
          -1.632102315145005,
          0.48494069828337866,
          -0.3053424538980068,
          2.0882564637844925,
          -1.3638069690340118,
          -0.021207298668888094,
          -0.8865852025999703,
          2.8343141724043535,
          0.8597025777250481,
          0.522795273521473,
          -2.037577826019506,
          4.251705384427228,
          -0.9375803266175057,
          0.39762152832658065,
          2.3909491255700224,
          -2.5717192068882255,
          -0.8813661148334487,
          -0.945235456778796,
          -0.3178536487511005,
          -1.3068260005735057,
          0.24793990560815057,
          0.37455474492367946,
          4.495341636256641,
          1.0745248865284782,
          -0.04506044708541358,
          0.5191163504299007,
          0.27560833686940384,
          0.6436982037340118,
          0.1413622788195612,
          0.07866812835500983,
          -1.3898607895609385,
          -1.0095388712366675,
          1.0676011883348704,
          -1.0971088825862731,
          -1.0361709285637553,
          1.3101557194129803,
          1.0360462881192993,
          0.28959218853500496,
          1.111745590152597,
          -0.11175615234501153,
          1.0504669616930713,
          0.728868066285294,
          -1.7658753296492005
         ]
        }
       ],
       "layout": {
        "height": 500,
        "template": {
         "data": {
          "bar": [
           {
            "error_x": {
             "color": "#2a3f5f"
            },
            "error_y": {
             "color": "#2a3f5f"
            },
            "marker": {
             "line": {
              "color": "#E5ECF6",
              "width": 0.5
             },
             "pattern": {
              "fillmode": "overlay",
              "size": 10,
              "solidity": 0.2
             }
            },
            "type": "bar"
           }
          ],
          "barpolar": [
           {
            "marker": {
             "line": {
              "color": "#E5ECF6",
              "width": 0.5
             },
             "pattern": {
              "fillmode": "overlay",
              "size": 10,
              "solidity": 0.2
             }
            },
            "type": "barpolar"
           }
          ],
          "carpet": [
           {
            "aaxis": {
             "endlinecolor": "#2a3f5f",
             "gridcolor": "white",
             "linecolor": "white",
             "minorgridcolor": "white",
             "startlinecolor": "#2a3f5f"
            },
            "baxis": {
             "endlinecolor": "#2a3f5f",
             "gridcolor": "white",
             "linecolor": "white",
             "minorgridcolor": "white",
             "startlinecolor": "#2a3f5f"
            },
            "type": "carpet"
           }
          ],
          "choropleth": [
           {
            "colorbar": {
             "outlinewidth": 0,
             "ticks": ""
            },
            "type": "choropleth"
           }
          ],
          "contour": [
           {
            "colorbar": {
             "outlinewidth": 0,
             "ticks": ""
            },
            "colorscale": [
             [
              0,
              "#0d0887"
             ],
             [
              0.1111111111111111,
              "#46039f"
             ],
             [
              0.2222222222222222,
              "#7201a8"
             ],
             [
              0.3333333333333333,
              "#9c179e"
             ],
             [
              0.4444444444444444,
              "#bd3786"
             ],
             [
              0.5555555555555556,
              "#d8576b"
             ],
             [
              0.6666666666666666,
              "#ed7953"
             ],
             [
              0.7777777777777778,
              "#fb9f3a"
             ],
             [
              0.8888888888888888,
              "#fdca26"
             ],
             [
              1,
              "#f0f921"
             ]
            ],
            "type": "contour"
           }
          ],
          "contourcarpet": [
           {
            "colorbar": {
             "outlinewidth": 0,
             "ticks": ""
            },
            "type": "contourcarpet"
           }
          ],
          "heatmap": [
           {
            "colorbar": {
             "outlinewidth": 0,
             "ticks": ""
            },
            "colorscale": [
             [
              0,
              "#0d0887"
             ],
             [
              0.1111111111111111,
              "#46039f"
             ],
             [
              0.2222222222222222,
              "#7201a8"
             ],
             [
              0.3333333333333333,
              "#9c179e"
             ],
             [
              0.4444444444444444,
              "#bd3786"
             ],
             [
              0.5555555555555556,
              "#d8576b"
             ],
             [
              0.6666666666666666,
              "#ed7953"
             ],
             [
              0.7777777777777778,
              "#fb9f3a"
             ],
             [
              0.8888888888888888,
              "#fdca26"
             ],
             [
              1,
              "#f0f921"
             ]
            ],
            "type": "heatmap"
           }
          ],
          "heatmapgl": [
           {
            "colorbar": {
             "outlinewidth": 0,
             "ticks": ""
            },
            "colorscale": [
             [
              0,
              "#0d0887"
             ],
             [
              0.1111111111111111,
              "#46039f"
             ],
             [
              0.2222222222222222,
              "#7201a8"
             ],
             [
              0.3333333333333333,
              "#9c179e"
             ],
             [
              0.4444444444444444,
              "#bd3786"
             ],
             [
              0.5555555555555556,
              "#d8576b"
             ],
             [
              0.6666666666666666,
              "#ed7953"
             ],
             [
              0.7777777777777778,
              "#fb9f3a"
             ],
             [
              0.8888888888888888,
              "#fdca26"
             ],
             [
              1,
              "#f0f921"
             ]
            ],
            "type": "heatmapgl"
           }
          ],
          "histogram": [
           {
            "marker": {
             "pattern": {
              "fillmode": "overlay",
              "size": 10,
              "solidity": 0.2
             }
            },
            "type": "histogram"
           }
          ],
          "histogram2d": [
           {
            "colorbar": {
             "outlinewidth": 0,
             "ticks": ""
            },
            "colorscale": [
             [
              0,
              "#0d0887"
             ],
             [
              0.1111111111111111,
              "#46039f"
             ],
             [
              0.2222222222222222,
              "#7201a8"
             ],
             [
              0.3333333333333333,
              "#9c179e"
             ],
             [
              0.4444444444444444,
              "#bd3786"
             ],
             [
              0.5555555555555556,
              "#d8576b"
             ],
             [
              0.6666666666666666,
              "#ed7953"
             ],
             [
              0.7777777777777778,
              "#fb9f3a"
             ],
             [
              0.8888888888888888,
              "#fdca26"
             ],
             [
              1,
              "#f0f921"
             ]
            ],
            "type": "histogram2d"
           }
          ],
          "histogram2dcontour": [
           {
            "colorbar": {
             "outlinewidth": 0,
             "ticks": ""
            },
            "colorscale": [
             [
              0,
              "#0d0887"
             ],
             [
              0.1111111111111111,
              "#46039f"
             ],
             [
              0.2222222222222222,
              "#7201a8"
             ],
             [
              0.3333333333333333,
              "#9c179e"
             ],
             [
              0.4444444444444444,
              "#bd3786"
             ],
             [
              0.5555555555555556,
              "#d8576b"
             ],
             [
              0.6666666666666666,
              "#ed7953"
             ],
             [
              0.7777777777777778,
              "#fb9f3a"
             ],
             [
              0.8888888888888888,
              "#fdca26"
             ],
             [
              1,
              "#f0f921"
             ]
            ],
            "type": "histogram2dcontour"
           }
          ],
          "mesh3d": [
           {
            "colorbar": {
             "outlinewidth": 0,
             "ticks": ""
            },
            "type": "mesh3d"
           }
          ],
          "parcoords": [
           {
            "line": {
             "colorbar": {
              "outlinewidth": 0,
              "ticks": ""
             }
            },
            "type": "parcoords"
           }
          ],
          "pie": [
           {
            "automargin": true,
            "type": "pie"
           }
          ],
          "scatter": [
           {
            "fillpattern": {
             "fillmode": "overlay",
             "size": 10,
             "solidity": 0.2
            },
            "type": "scatter"
           }
          ],
          "scatter3d": [
           {
            "line": {
             "colorbar": {
              "outlinewidth": 0,
              "ticks": ""
             }
            },
            "marker": {
             "colorbar": {
              "outlinewidth": 0,
              "ticks": ""
             }
            },
            "type": "scatter3d"
           }
          ],
          "scattercarpet": [
           {
            "marker": {
             "colorbar": {
              "outlinewidth": 0,
              "ticks": ""
             }
            },
            "type": "scattercarpet"
           }
          ],
          "scattergeo": [
           {
            "marker": {
             "colorbar": {
              "outlinewidth": 0,
              "ticks": ""
             }
            },
            "type": "scattergeo"
           }
          ],
          "scattergl": [
           {
            "marker": {
             "colorbar": {
              "outlinewidth": 0,
              "ticks": ""
             }
            },
            "type": "scattergl"
           }
          ],
          "scattermapbox": [
           {
            "marker": {
             "colorbar": {
              "outlinewidth": 0,
              "ticks": ""
             }
            },
            "type": "scattermapbox"
           }
          ],
          "scatterpolar": [
           {
            "marker": {
             "colorbar": {
              "outlinewidth": 0,
              "ticks": ""
             }
            },
            "type": "scatterpolar"
           }
          ],
          "scatterpolargl": [
           {
            "marker": {
             "colorbar": {
              "outlinewidth": 0,
              "ticks": ""
             }
            },
            "type": "scatterpolargl"
           }
          ],
          "scatterternary": [
           {
            "marker": {
             "colorbar": {
              "outlinewidth": 0,
              "ticks": ""
             }
            },
            "type": "scatterternary"
           }
          ],
          "surface": [
           {
            "colorbar": {
             "outlinewidth": 0,
             "ticks": ""
            },
            "colorscale": [
             [
              0,
              "#0d0887"
             ],
             [
              0.1111111111111111,
              "#46039f"
             ],
             [
              0.2222222222222222,
              "#7201a8"
             ],
             [
              0.3333333333333333,
              "#9c179e"
             ],
             [
              0.4444444444444444,
              "#bd3786"
             ],
             [
              0.5555555555555556,
              "#d8576b"
             ],
             [
              0.6666666666666666,
              "#ed7953"
             ],
             [
              0.7777777777777778,
              "#fb9f3a"
             ],
             [
              0.8888888888888888,
              "#fdca26"
             ],
             [
              1,
              "#f0f921"
             ]
            ],
            "type": "surface"
           }
          ],
          "table": [
           {
            "cells": {
             "fill": {
              "color": "#EBF0F8"
             },
             "line": {
              "color": "white"
             }
            },
            "header": {
             "fill": {
              "color": "#C8D4E3"
             },
             "line": {
              "color": "white"
             }
            },
            "type": "table"
           }
          ]
         },
         "layout": {
          "annotationdefaults": {
           "arrowcolor": "#2a3f5f",
           "arrowhead": 0,
           "arrowwidth": 1
          },
          "autotypenumbers": "strict",
          "coloraxis": {
           "colorbar": {
            "outlinewidth": 0,
            "ticks": ""
           }
          },
          "colorscale": {
           "diverging": [
            [
             0,
             "#8e0152"
            ],
            [
             0.1,
             "#c51b7d"
            ],
            [
             0.2,
             "#de77ae"
            ],
            [
             0.3,
             "#f1b6da"
            ],
            [
             0.4,
             "#fde0ef"
            ],
            [
             0.5,
             "#f7f7f7"
            ],
            [
             0.6,
             "#e6f5d0"
            ],
            [
             0.7,
             "#b8e186"
            ],
            [
             0.8,
             "#7fbc41"
            ],
            [
             0.9,
             "#4d9221"
            ],
            [
             1,
             "#276419"
            ]
           ],
           "sequential": [
            [
             0,
             "#0d0887"
            ],
            [
             0.1111111111111111,
             "#46039f"
            ],
            [
             0.2222222222222222,
             "#7201a8"
            ],
            [
             0.3333333333333333,
             "#9c179e"
            ],
            [
             0.4444444444444444,
             "#bd3786"
            ],
            [
             0.5555555555555556,
             "#d8576b"
            ],
            [
             0.6666666666666666,
             "#ed7953"
            ],
            [
             0.7777777777777778,
             "#fb9f3a"
            ],
            [
             0.8888888888888888,
             "#fdca26"
            ],
            [
             1,
             "#f0f921"
            ]
           ],
           "sequentialminus": [
            [
             0,
             "#0d0887"
            ],
            [
             0.1111111111111111,
             "#46039f"
            ],
            [
             0.2222222222222222,
             "#7201a8"
            ],
            [
             0.3333333333333333,
             "#9c179e"
            ],
            [
             0.4444444444444444,
             "#bd3786"
            ],
            [
             0.5555555555555556,
             "#d8576b"
            ],
            [
             0.6666666666666666,
             "#ed7953"
            ],
            [
             0.7777777777777778,
             "#fb9f3a"
            ],
            [
             0.8888888888888888,
             "#fdca26"
            ],
            [
             1,
             "#f0f921"
            ]
           ]
          },
          "colorway": [
           "#636efa",
           "#EF553B",
           "#00cc96",
           "#ab63fa",
           "#FFA15A",
           "#19d3f3",
           "#FF6692",
           "#B6E880",
           "#FF97FF",
           "#FECB52"
          ],
          "font": {
           "color": "#2a3f5f"
          },
          "geo": {
           "bgcolor": "white",
           "lakecolor": "white",
           "landcolor": "#E5ECF6",
           "showlakes": true,
           "showland": true,
           "subunitcolor": "white"
          },
          "hoverlabel": {
           "align": "left"
          },
          "hovermode": "closest",
          "mapbox": {
           "style": "light"
          },
          "paper_bgcolor": "white",
          "plot_bgcolor": "#E5ECF6",
          "polar": {
           "angularaxis": {
            "gridcolor": "white",
            "linecolor": "white",
            "ticks": ""
           },
           "bgcolor": "#E5ECF6",
           "radialaxis": {
            "gridcolor": "white",
            "linecolor": "white",
            "ticks": ""
           }
          },
          "scene": {
           "xaxis": {
            "backgroundcolor": "#E5ECF6",
            "gridcolor": "white",
            "gridwidth": 2,
            "linecolor": "white",
            "showbackground": true,
            "ticks": "",
            "zerolinecolor": "white"
           },
           "yaxis": {
            "backgroundcolor": "#E5ECF6",
            "gridcolor": "white",
            "gridwidth": 2,
            "linecolor": "white",
            "showbackground": true,
            "ticks": "",
            "zerolinecolor": "white"
           },
           "zaxis": {
            "backgroundcolor": "#E5ECF6",
            "gridcolor": "white",
            "gridwidth": 2,
            "linecolor": "white",
            "showbackground": true,
            "ticks": "",
            "zerolinecolor": "white"
           }
          },
          "shapedefaults": {
           "line": {
            "color": "#2a3f5f"
           }
          },
          "ternary": {
           "aaxis": {
            "gridcolor": "white",
            "linecolor": "white",
            "ticks": ""
           },
           "baxis": {
            "gridcolor": "white",
            "linecolor": "white",
            "ticks": ""
           },
           "bgcolor": "#E5ECF6",
           "caxis": {
            "gridcolor": "white",
            "linecolor": "white",
            "ticks": ""
           }
          },
          "title": {
           "x": 0.05
          },
          "xaxis": {
           "automargin": true,
           "gridcolor": "white",
           "linecolor": "white",
           "ticks": "",
           "title": {
            "standoff": 15
           },
           "zerolinecolor": "white",
           "zerolinewidth": 2
          },
          "yaxis": {
           "automargin": true,
           "gridcolor": "white",
           "linecolor": "white",
           "ticks": "",
           "title": {
            "standoff": 15
           },
           "zerolinecolor": "white",
           "zerolinewidth": 2
          }
         }
        },
        "title": {
         "text": "Box Plot Sample from a Normal Distribution"
        },
        "width": 800
       }
      }
     },
     "metadata": {},
     "output_type": "display_data"
    }
   ],
   "source": [
    "fig = go.Figure()\n",
    "\n",
    "colors = ['teal', 'purple']\n",
    "for l, cl in zip(df['Label'].unique(), colors):\n",
    "    subdata = df[df.Label==l]\n",
    "    \n",
    "    fig.add_trace(go.Box(x=subdata[\"Data\"], \n",
    "                        jitter=0.0,\n",
    "                        notched=True, \n",
    "                        boxpoints=\"all\",\n",
    "                        name=l,\n",
    "                        marker_color=cl, \n",
    "                        ))\n",
    "fig.update_layout(title='Box Plot Sample from a Normal Distribution', \n",
    "                  height = 500, width = 800,)"
   ]
  },
  {
   "cell_type": "markdown",
   "metadata": {},
   "source": [
    "## There is more"
   ]
  },
  {
   "cell_type": "code",
   "execution_count": 134,
   "metadata": {},
   "outputs": [],
   "source": [
    "n = 500\n",
    "sample = norm(loc=0).rvs(n)\n",
    "data1 = pd.DataFrame({'Sample': sample})"
   ]
  },
  {
   "cell_type": "code",
   "execution_count": 113,
   "metadata": {},
   "outputs": [],
   "source": [
    "df = data1"
   ]
  },
  {
   "cell_type": "code",
   "execution_count": 136,
   "metadata": {},
   "outputs": [
    {
     "data": {
      "application/vnd.plotly.v1+json": {
       "config": {
        "plotlyServerURL": "https://plot.ly"
       },
       "data": [
        {
         "boxpoints": "outliers",
         "marker": {
          "color": "green"
         },
         "name": "Normal",
         "notched": true,
         "type": "box",
         "x": [
          -0.5439630134562196,
          -0.14751721306349533,
          -0.12515039201998776,
          -0.955762075532692,
          0.8173553108236601,
          -0.06437752457653144,
          -0.355672645706474,
          -0.6570190932295612,
          -2.193698184404729,
          -1.2515527189337736,
          0.30350387413843855,
          1.488535728464833,
          0.9516724383620311,
          0.2003017033523902,
          -0.45890439981673425,
          -1.3049404941051703,
          -0.39646152090022424,
          -1.7061921544154988,
          0.15806838350533395,
          -0.9556910996781889,
          -0.5839671939210728,
          0.9207417786931978,
          -0.9735878666144886,
          0.7380666062995807,
          -0.88631527302102,
          0.5769277802181809,
          1.2836057066084665,
          1.0521552551109228,
          -0.02266271385923323,
          1.0341663333517737,
          0.5954318044687292,
          1.0939054814496014,
          0.22189650976804268,
          -0.22074476840181625,
          -1.7106124881935683,
          0.6603641808886801,
          1.0238497751775626,
          1.0082174630449336,
          0.1113767156630591,
          -0.5503578687052869,
          -1.9447868382620541,
          0.16090276462102937,
          -0.10568043544460531,
          -1.4806961795717162,
          -0.7138090814315508,
          0.5977475296060615,
          1.4465446735716785,
          -0.03147914370834707,
          -1.1422323324069852,
          -0.35905162961149767,
          -1.1862076078604504,
          -1.6485917192450878,
          0.5284503133338202,
          0.018830879112982007,
          -0.4804762873298388,
          -0.666682311447235,
          1.6757904051403243,
          -0.5323451631523315,
          -1.4861944858295835,
          -0.6557583951543617,
          0.14909645624727924,
          -1.3333652489205225,
          0.28341223550388556,
          -0.3298956040211742,
          0.3711802202017301,
          1.2723305851626474,
          0.6730655294870993,
          0.8181982726652162,
          -1.1720096026307607,
          -1.1795599601708986,
          0.16374924162033097,
          0.02679164286689217,
          0.532958597009831,
          0.4670938464665729,
          0.5431121014829942,
          0.4343592243718707,
          1.3242567260246303,
          1.004167713865563,
          -0.9066893107184592,
          -0.43145198449501637,
          -0.23626511141071316,
          -1.2117962116313867,
          0.0322424968758237,
          1.0691656381700227,
          0.16209145282583987,
          1.2880326962985282,
          -0.928819061166284,
          -1.1739940425976718,
          0.05191685972823937,
          -0.9421265396485979,
          0.07720255942663463,
          -0.09839299349151866,
          1.1062846369108301,
          1.4764072977587182,
          0.8141923830614707,
          -0.5794525529725872,
          -0.43174100237339297,
          0.8925821340736413,
          1.3698511226626957,
          -0.3392525130657275,
          1.3845947067748832,
          0.7852477260712996,
          0.727806366686441,
          -0.3501596120227101,
          -0.3388492885874249,
          -1.593694757466906,
          -0.3016594992377757,
          -0.15121808705673448,
          -0.34125540682547223,
          -1.0395932742818499,
          1.874570645831257,
          1.933678389956772,
          -1.5706872500063491,
          2.215354964401231,
          0.6455957236211277,
          1.4374068920299903,
          0.6893257908384023,
          -1.1914411485378091,
          0.1912015969904688,
          0.3575397438686911,
          -0.37692370838791933,
          -0.6678705146904667,
          0.4762902770623717,
          0.2569412378569885,
          0.3346756304192554,
          -1.0123729621642739,
          0.7720500411734559,
          0.5923294111221863,
          -0.31979118469493095,
          -0.3903781627593597,
          1.115153249612925,
          0.09858983143205705,
          0.6349752964902386,
          -0.8606384084272655,
          -0.5862118230516432,
          -0.3753954465475097,
          -0.7728487452982105,
          0.05918968725216786,
          -0.19521482417787442,
          2.2677199894813627,
          -0.7589398330380585,
          0.40956293111901976,
          0.596914139124069,
          1.7049244407202193,
          -0.4723375619714376,
          2.029018988091386,
          -1.0207372968915849,
          0.7031437458175898,
          -1.2313382411429723,
          -1.58732498385924,
          0.38683360656975474,
          -0.3669554791253991,
          0.8586256074174887,
          0.929906129381194,
          0.9848862150363578,
          1.5084034513266353,
          0.3677193558153089,
          0.6076857931626415,
          -0.19954334359933412,
          -0.43353894243114866,
          -0.13008972478916533,
          -0.41545508015736343,
          1.0520591845940714,
          -0.12247645046855575,
          1.8749969808307632,
          0.9023353052818368,
          -0.6953843529635968,
          0.5393169578868401,
          -1.9055321400046228,
          0.24041239592709635,
          0.7367036167809188,
          -1.068612336760559,
          1.340690091964591,
          -0.2860275394386807,
          -0.31503919795973245,
          -0.2719487425259287,
          -0.6366689251559906,
          1.8714702258685836,
          -1.0429801550020819,
          -1.4948532620562307,
          -0.8417522382427485,
          -0.10183564951980968,
          -2.241551444882713,
          -0.2522441734063433,
          -1.3075261317338085,
          -1.6158655271586577,
          -0.6785207668629374,
          -1.5459205222796075,
          0.29216782375092665,
          0.5191167508140925,
          0.9966505628288744,
          -0.48877883923622406,
          -0.2578732672397555,
          1.556189951058555,
          0.4368448167866465,
          0.2773188075060575,
          0.6653029436025847,
          -0.23071318062513513,
          0.1687429335422898,
          -2.2831052917353065,
          -0.013758651642545226,
          -0.8318512302228865,
          0.920002585618587,
          0.7952705349212705,
          -0.5118302503232598,
          -0.6211286834482691,
          1.5568122164303864,
          0.8716476203137871,
          0.025510312047712758,
          0.43903112922638404,
          -0.5621599335141504,
          0.5299434598640083,
          -0.8931181210260533,
          -0.22559844776271015,
          1.1312462607086056,
          -0.2260409099025447,
          -0.901655447917428,
          -1.1832881785162137,
          0.3027564815597956,
          0.29593881147068074,
          0.7314999962153211,
          -1.0095440562777864,
          -1.2459194792602142,
          1.7376503499072196,
          -0.587356014902871,
          -1.2507123580226018,
          -0.8956740881007047,
          -1.1434465425094142,
          -0.03155755869054951,
          0.6340856811756641,
          0.8075126956120333,
          0.20913493314298717,
          -0.6924563850739004,
          -0.3315106897984001,
          -0.8898242523783577,
          0.5298760328264601,
          -1.752369966621541,
          -1.0459393800862693,
          0.3082129922129998,
          0.46004804553633044,
          -0.5726466210657944,
          -1.6465167671628238,
          0.780652955573275,
          -0.7778720570423815,
          -1.1616088792080532,
          1.3442297867319883,
          1.4683429144729143,
          -1.547771733568347,
          -0.41871524055328485,
          3.0552667402815077,
          0.9932777142195568,
          -0.29205224049732476,
          -0.8261123203995817,
          -0.38324991099805034,
          -1.1630565460026434,
          0.3667687578534608,
          0.0753490499530485,
          0.9378911968126229,
          0.4229579425132878,
          -1.206577430916278,
          1.1683649199765898,
          0.23739753324730067,
          0.5351116840552055,
          -0.30998101331476174,
          -2.833550125303222,
          1.3395478662488487,
          1.554134398055055,
          0.6165147774483396,
          0.5448267240125746,
          -1.1017087818212203,
          0.39474123225608226,
          -1.4244922909775788,
          -0.35334763716113765,
          -1.761783221206253,
          -0.4170471256313207,
          -1.360309877515232,
          0.3297048475961124,
          1.0996183799990489,
          -1.1020716655753755,
          -0.4753247784055822,
          -0.09358583659040128,
          -0.09406359017834265,
          -0.4753572187633074,
          -0.03183304076531341,
          -1.0530796943574021,
          -0.8420488794827746,
          -0.9971500509413499,
          -2.2096574247955396,
          -0.8568971011851855,
          -0.06190680977965203,
          -0.315361615854407,
          0.7087256890797661,
          -0.1485344506227271,
          -0.3860471546278706,
          0.1561930794468004,
          0.6902956487303434,
          0.11715132156283597,
          0.7149726370199871,
          0.7683162182316777,
          1.4261264205500985,
          0.36291539290574315,
          0.16676074457779208,
          1.8871566742031223,
          0.5809973752210058,
          1.5801433694532991,
          -0.12054303448963523,
          0.02486992854683613,
          0.6818580274720979,
          1.1330660490801585,
          -1.7943259889302938,
          -1.184668217526191,
          2.0107903110049894,
          -0.31951165340008303,
          0.32309134033905307,
          -0.774783687463548,
          0.3050108869750815,
          -0.23501172160100606,
          -1.390320697083339,
          -0.413408500575812,
          -0.5677770628072416,
          -0.016076310503179096,
          -0.4809461475223713,
          0.8105836418208855,
          0.02725971029750719,
          -0.17288213512747477,
          0.01766001325413412,
          0.3558657260203879,
          -0.9562072080839621,
          -0.5145512282619602,
          0.4316021251940558,
          -2.275146245040317,
          0.20972885326150598,
          -0.054636531714109496,
          -0.17874024233973743,
          -0.27590515331763643,
          -2.7991436956568356,
          -0.19132696272255925,
          0.4953862539385086,
          0.26657421950972254,
          0.19630757549760355,
          1.2345687909558372,
          0.31627826343771615,
          -0.1749168408778248,
          0.6001883786093368,
          -0.16263088226774805,
          0.04692973276716682,
          -1.2798131010077265,
          -0.4380178653782858,
          -0.24864843849733922,
          0.3020740165918139,
          0.6403290901326462,
          1.4310406293862046,
          0.1656628820231523,
          -1.680216334762698,
          0.49798723831623376,
          1.0318608341196513,
          0.6890670897161523,
          1.2529141812214986,
          0.5852932330718984,
          -0.5700170469055518,
          -0.09021083501988116,
          -0.24943863336695568,
          0.18464002255720852,
          0.23591804442192774,
          0.21410094038070593,
          0.5336720210832434,
          -0.6344360129197314,
          -0.2585636793234211,
          -0.5535630921410252,
          -0.14728462841572568,
          -0.20017098107524184,
          -0.853495087126589,
          -1.430291886693966,
          0.2205215254616074,
          0.5499499092600988,
          -1.0625087917570843,
          0.3106316558537885,
          0.43214219945283416,
          0.32589887031700226,
          0.5557701144001959,
          -1.4453860209325462,
          0.6394877482112806,
          -0.6525451606667468,
          0.5562920659731887,
          -1.2961485919435372,
          3.043445080500664,
          1.5539050991634975,
          -0.87366607102594,
          -0.2543037826161947,
          -1.4316493098298806,
          -1.6822407395447383,
          1.2570632981232641,
          0.9370495304676522,
          1.2747870141551887,
          -0.4863406737737806,
          0.17320861934509396,
          1.4612504721998514,
          0.5301961278573546,
          0.13576923354931963,
          -1.1827867162534873,
          -1.71158520766858,
          -0.10038771910360673,
          -1.0353467239970315,
          -1.2436045683252754,
          -0.9435545828631935,
          0.9253770700666333,
          0.3017655990438665,
          0.8488157928016379,
          -0.20306963703914674,
          0.536558889643903,
          -0.4416362988184249,
          0.35482061777665724,
          -0.8145253674406618,
          -0.48770931271237583,
          0.00952126000279588,
          0.6725556673401425,
          -0.9498603833657202,
          1.4821658839321863,
          -1.2877908016443966,
          -1.5543266249751841,
          -0.41520265867031503,
          -1.1733288379206683,
          0.19386102535469574,
          -1.2573727248577842,
          -0.006702679778793147,
          1.0418404572333329,
          1.6467721871866368,
          -0.5907532041897983,
          -0.17354572371515767,
          -1.1938541531481044,
          0.9521378478146583,
          -2.020627837577484,
          0.37097483789098545,
          -1.1219984815252821,
          -1.3772171549842922,
          0.2280650899210792,
          -0.5635843100348389,
          0.43426404195486523,
          0.13778596292011713,
          -0.034593644519434544,
          0.35105426520619204,
          0.2528868710473651,
          0.8327697965686276,
          -2.0176279528047125,
          2.5776233926641696,
          0.905338204986755,
          -0.1478266173304592,
          0.4350842954862788,
          0.8931314433805942,
          -0.5295485636976766,
          -0.764864264926411,
          -0.8344335088198651,
          -0.7616575496326725,
          -2.166182976073042,
          0.9065738740341908,
          1.3766663581286853,
          -2.378409801211075,
          1.8871709877322367,
          1.5204880871990816,
          1.0189066457088798,
          -1.3511597555545778,
          2.6540801405422734,
          0.24360659393869832,
          -0.2899520839003725,
          -0.908690689542501,
          1.5198730595673933,
          2.5211882852031167,
          0.6441485605864149,
          1.6481570950320898,
          1.5082630074825394,
          -1.1673937358956141,
          -2.1896928900042707,
          0.4296040754974012,
          1.6284545677919084,
          -0.13951218410165497,
          0.24509638163574557,
          0.9646950246535194,
          -1.1918899943700882,
          -0.8313121459832216,
          -0.3431670447930636,
          -0.566940100236948,
          -1.2980143063748817,
          1.2668274710909044,
          0.5085991486216425,
          -1.2959626766278436,
          -0.5853249320788981,
          0.2868767928571045,
          0.5731473654127537,
          -0.5875244110008525,
          -0.6430399519653459,
          0.009766765575127043,
          -1.9651561327342313,
          -0.22513064612954248,
          -0.6711696864321354,
          2.5353069341193257,
          -0.42014270665465675,
          2.0739737427984335,
          0.6230654449008328,
          0.5325402977152253,
          0.40496730038786494
         ]
        }
       ],
       "layout": {
        "height": 500,
        "template": {
         "data": {
          "bar": [
           {
            "error_x": {
             "color": "#2a3f5f"
            },
            "error_y": {
             "color": "#2a3f5f"
            },
            "marker": {
             "line": {
              "color": "#E5ECF6",
              "width": 0.5
             },
             "pattern": {
              "fillmode": "overlay",
              "size": 10,
              "solidity": 0.2
             }
            },
            "type": "bar"
           }
          ],
          "barpolar": [
           {
            "marker": {
             "line": {
              "color": "#E5ECF6",
              "width": 0.5
             },
             "pattern": {
              "fillmode": "overlay",
              "size": 10,
              "solidity": 0.2
             }
            },
            "type": "barpolar"
           }
          ],
          "carpet": [
           {
            "aaxis": {
             "endlinecolor": "#2a3f5f",
             "gridcolor": "white",
             "linecolor": "white",
             "minorgridcolor": "white",
             "startlinecolor": "#2a3f5f"
            },
            "baxis": {
             "endlinecolor": "#2a3f5f",
             "gridcolor": "white",
             "linecolor": "white",
             "minorgridcolor": "white",
             "startlinecolor": "#2a3f5f"
            },
            "type": "carpet"
           }
          ],
          "choropleth": [
           {
            "colorbar": {
             "outlinewidth": 0,
             "ticks": ""
            },
            "type": "choropleth"
           }
          ],
          "contour": [
           {
            "colorbar": {
             "outlinewidth": 0,
             "ticks": ""
            },
            "colorscale": [
             [
              0,
              "#0d0887"
             ],
             [
              0.1111111111111111,
              "#46039f"
             ],
             [
              0.2222222222222222,
              "#7201a8"
             ],
             [
              0.3333333333333333,
              "#9c179e"
             ],
             [
              0.4444444444444444,
              "#bd3786"
             ],
             [
              0.5555555555555556,
              "#d8576b"
             ],
             [
              0.6666666666666666,
              "#ed7953"
             ],
             [
              0.7777777777777778,
              "#fb9f3a"
             ],
             [
              0.8888888888888888,
              "#fdca26"
             ],
             [
              1,
              "#f0f921"
             ]
            ],
            "type": "contour"
           }
          ],
          "contourcarpet": [
           {
            "colorbar": {
             "outlinewidth": 0,
             "ticks": ""
            },
            "type": "contourcarpet"
           }
          ],
          "heatmap": [
           {
            "colorbar": {
             "outlinewidth": 0,
             "ticks": ""
            },
            "colorscale": [
             [
              0,
              "#0d0887"
             ],
             [
              0.1111111111111111,
              "#46039f"
             ],
             [
              0.2222222222222222,
              "#7201a8"
             ],
             [
              0.3333333333333333,
              "#9c179e"
             ],
             [
              0.4444444444444444,
              "#bd3786"
             ],
             [
              0.5555555555555556,
              "#d8576b"
             ],
             [
              0.6666666666666666,
              "#ed7953"
             ],
             [
              0.7777777777777778,
              "#fb9f3a"
             ],
             [
              0.8888888888888888,
              "#fdca26"
             ],
             [
              1,
              "#f0f921"
             ]
            ],
            "type": "heatmap"
           }
          ],
          "heatmapgl": [
           {
            "colorbar": {
             "outlinewidth": 0,
             "ticks": ""
            },
            "colorscale": [
             [
              0,
              "#0d0887"
             ],
             [
              0.1111111111111111,
              "#46039f"
             ],
             [
              0.2222222222222222,
              "#7201a8"
             ],
             [
              0.3333333333333333,
              "#9c179e"
             ],
             [
              0.4444444444444444,
              "#bd3786"
             ],
             [
              0.5555555555555556,
              "#d8576b"
             ],
             [
              0.6666666666666666,
              "#ed7953"
             ],
             [
              0.7777777777777778,
              "#fb9f3a"
             ],
             [
              0.8888888888888888,
              "#fdca26"
             ],
             [
              1,
              "#f0f921"
             ]
            ],
            "type": "heatmapgl"
           }
          ],
          "histogram": [
           {
            "marker": {
             "pattern": {
              "fillmode": "overlay",
              "size": 10,
              "solidity": 0.2
             }
            },
            "type": "histogram"
           }
          ],
          "histogram2d": [
           {
            "colorbar": {
             "outlinewidth": 0,
             "ticks": ""
            },
            "colorscale": [
             [
              0,
              "#0d0887"
             ],
             [
              0.1111111111111111,
              "#46039f"
             ],
             [
              0.2222222222222222,
              "#7201a8"
             ],
             [
              0.3333333333333333,
              "#9c179e"
             ],
             [
              0.4444444444444444,
              "#bd3786"
             ],
             [
              0.5555555555555556,
              "#d8576b"
             ],
             [
              0.6666666666666666,
              "#ed7953"
             ],
             [
              0.7777777777777778,
              "#fb9f3a"
             ],
             [
              0.8888888888888888,
              "#fdca26"
             ],
             [
              1,
              "#f0f921"
             ]
            ],
            "type": "histogram2d"
           }
          ],
          "histogram2dcontour": [
           {
            "colorbar": {
             "outlinewidth": 0,
             "ticks": ""
            },
            "colorscale": [
             [
              0,
              "#0d0887"
             ],
             [
              0.1111111111111111,
              "#46039f"
             ],
             [
              0.2222222222222222,
              "#7201a8"
             ],
             [
              0.3333333333333333,
              "#9c179e"
             ],
             [
              0.4444444444444444,
              "#bd3786"
             ],
             [
              0.5555555555555556,
              "#d8576b"
             ],
             [
              0.6666666666666666,
              "#ed7953"
             ],
             [
              0.7777777777777778,
              "#fb9f3a"
             ],
             [
              0.8888888888888888,
              "#fdca26"
             ],
             [
              1,
              "#f0f921"
             ]
            ],
            "type": "histogram2dcontour"
           }
          ],
          "mesh3d": [
           {
            "colorbar": {
             "outlinewidth": 0,
             "ticks": ""
            },
            "type": "mesh3d"
           }
          ],
          "parcoords": [
           {
            "line": {
             "colorbar": {
              "outlinewidth": 0,
              "ticks": ""
             }
            },
            "type": "parcoords"
           }
          ],
          "pie": [
           {
            "automargin": true,
            "type": "pie"
           }
          ],
          "scatter": [
           {
            "fillpattern": {
             "fillmode": "overlay",
             "size": 10,
             "solidity": 0.2
            },
            "type": "scatter"
           }
          ],
          "scatter3d": [
           {
            "line": {
             "colorbar": {
              "outlinewidth": 0,
              "ticks": ""
             }
            },
            "marker": {
             "colorbar": {
              "outlinewidth": 0,
              "ticks": ""
             }
            },
            "type": "scatter3d"
           }
          ],
          "scattercarpet": [
           {
            "marker": {
             "colorbar": {
              "outlinewidth": 0,
              "ticks": ""
             }
            },
            "type": "scattercarpet"
           }
          ],
          "scattergeo": [
           {
            "marker": {
             "colorbar": {
              "outlinewidth": 0,
              "ticks": ""
             }
            },
            "type": "scattergeo"
           }
          ],
          "scattergl": [
           {
            "marker": {
             "colorbar": {
              "outlinewidth": 0,
              "ticks": ""
             }
            },
            "type": "scattergl"
           }
          ],
          "scattermapbox": [
           {
            "marker": {
             "colorbar": {
              "outlinewidth": 0,
              "ticks": ""
             }
            },
            "type": "scattermapbox"
           }
          ],
          "scatterpolar": [
           {
            "marker": {
             "colorbar": {
              "outlinewidth": 0,
              "ticks": ""
             }
            },
            "type": "scatterpolar"
           }
          ],
          "scatterpolargl": [
           {
            "marker": {
             "colorbar": {
              "outlinewidth": 0,
              "ticks": ""
             }
            },
            "type": "scatterpolargl"
           }
          ],
          "scatterternary": [
           {
            "marker": {
             "colorbar": {
              "outlinewidth": 0,
              "ticks": ""
             }
            },
            "type": "scatterternary"
           }
          ],
          "surface": [
           {
            "colorbar": {
             "outlinewidth": 0,
             "ticks": ""
            },
            "colorscale": [
             [
              0,
              "#0d0887"
             ],
             [
              0.1111111111111111,
              "#46039f"
             ],
             [
              0.2222222222222222,
              "#7201a8"
             ],
             [
              0.3333333333333333,
              "#9c179e"
             ],
             [
              0.4444444444444444,
              "#bd3786"
             ],
             [
              0.5555555555555556,
              "#d8576b"
             ],
             [
              0.6666666666666666,
              "#ed7953"
             ],
             [
              0.7777777777777778,
              "#fb9f3a"
             ],
             [
              0.8888888888888888,
              "#fdca26"
             ],
             [
              1,
              "#f0f921"
             ]
            ],
            "type": "surface"
           }
          ],
          "table": [
           {
            "cells": {
             "fill": {
              "color": "#EBF0F8"
             },
             "line": {
              "color": "white"
             }
            },
            "header": {
             "fill": {
              "color": "#C8D4E3"
             },
             "line": {
              "color": "white"
             }
            },
            "type": "table"
           }
          ]
         },
         "layout": {
          "annotationdefaults": {
           "arrowcolor": "#2a3f5f",
           "arrowhead": 0,
           "arrowwidth": 1
          },
          "autotypenumbers": "strict",
          "coloraxis": {
           "colorbar": {
            "outlinewidth": 0,
            "ticks": ""
           }
          },
          "colorscale": {
           "diverging": [
            [
             0,
             "#8e0152"
            ],
            [
             0.1,
             "#c51b7d"
            ],
            [
             0.2,
             "#de77ae"
            ],
            [
             0.3,
             "#f1b6da"
            ],
            [
             0.4,
             "#fde0ef"
            ],
            [
             0.5,
             "#f7f7f7"
            ],
            [
             0.6,
             "#e6f5d0"
            ],
            [
             0.7,
             "#b8e186"
            ],
            [
             0.8,
             "#7fbc41"
            ],
            [
             0.9,
             "#4d9221"
            ],
            [
             1,
             "#276419"
            ]
           ],
           "sequential": [
            [
             0,
             "#0d0887"
            ],
            [
             0.1111111111111111,
             "#46039f"
            ],
            [
             0.2222222222222222,
             "#7201a8"
            ],
            [
             0.3333333333333333,
             "#9c179e"
            ],
            [
             0.4444444444444444,
             "#bd3786"
            ],
            [
             0.5555555555555556,
             "#d8576b"
            ],
            [
             0.6666666666666666,
             "#ed7953"
            ],
            [
             0.7777777777777778,
             "#fb9f3a"
            ],
            [
             0.8888888888888888,
             "#fdca26"
            ],
            [
             1,
             "#f0f921"
            ]
           ],
           "sequentialminus": [
            [
             0,
             "#0d0887"
            ],
            [
             0.1111111111111111,
             "#46039f"
            ],
            [
             0.2222222222222222,
             "#7201a8"
            ],
            [
             0.3333333333333333,
             "#9c179e"
            ],
            [
             0.4444444444444444,
             "#bd3786"
            ],
            [
             0.5555555555555556,
             "#d8576b"
            ],
            [
             0.6666666666666666,
             "#ed7953"
            ],
            [
             0.7777777777777778,
             "#fb9f3a"
            ],
            [
             0.8888888888888888,
             "#fdca26"
            ],
            [
             1,
             "#f0f921"
            ]
           ]
          },
          "colorway": [
           "#636efa",
           "#EF553B",
           "#00cc96",
           "#ab63fa",
           "#FFA15A",
           "#19d3f3",
           "#FF6692",
           "#B6E880",
           "#FF97FF",
           "#FECB52"
          ],
          "font": {
           "color": "#2a3f5f"
          },
          "geo": {
           "bgcolor": "white",
           "lakecolor": "white",
           "landcolor": "#E5ECF6",
           "showlakes": true,
           "showland": true,
           "subunitcolor": "white"
          },
          "hoverlabel": {
           "align": "left"
          },
          "hovermode": "closest",
          "mapbox": {
           "style": "light"
          },
          "paper_bgcolor": "white",
          "plot_bgcolor": "#E5ECF6",
          "polar": {
           "angularaxis": {
            "gridcolor": "white",
            "linecolor": "white",
            "ticks": ""
           },
           "bgcolor": "#E5ECF6",
           "radialaxis": {
            "gridcolor": "white",
            "linecolor": "white",
            "ticks": ""
           }
          },
          "scene": {
           "xaxis": {
            "backgroundcolor": "#E5ECF6",
            "gridcolor": "white",
            "gridwidth": 2,
            "linecolor": "white",
            "showbackground": true,
            "ticks": "",
            "zerolinecolor": "white"
           },
           "yaxis": {
            "backgroundcolor": "#E5ECF6",
            "gridcolor": "white",
            "gridwidth": 2,
            "linecolor": "white",
            "showbackground": true,
            "ticks": "",
            "zerolinecolor": "white"
           },
           "zaxis": {
            "backgroundcolor": "#E5ECF6",
            "gridcolor": "white",
            "gridwidth": 2,
            "linecolor": "white",
            "showbackground": true,
            "ticks": "",
            "zerolinecolor": "white"
           }
          },
          "shapedefaults": {
           "line": {
            "color": "#2a3f5f"
           }
          },
          "ternary": {
           "aaxis": {
            "gridcolor": "white",
            "linecolor": "white",
            "ticks": ""
           },
           "baxis": {
            "gridcolor": "white",
            "linecolor": "white",
            "ticks": ""
           },
           "bgcolor": "#E5ECF6",
           "caxis": {
            "gridcolor": "white",
            "linecolor": "white",
            "ticks": ""
           }
          },
          "title": {
           "x": 0.05
          },
          "xaxis": {
           "automargin": true,
           "gridcolor": "white",
           "linecolor": "white",
           "ticks": "",
           "title": {
            "standoff": 15
           },
           "zerolinecolor": "white",
           "zerolinewidth": 2
          },
          "yaxis": {
           "automargin": true,
           "gridcolor": "white",
           "linecolor": "white",
           "ticks": "",
           "title": {
            "standoff": 15
           },
           "zerolinecolor": "white",
           "zerolinewidth": 2
          }
         }
        },
        "title": {
         "text": "Box Plot"
        },
        "width": 800
       }
      }
     },
     "metadata": {},
     "output_type": "display_data"
    }
   ],
   "source": [
    "fig = go.Figure()\n",
    "fig.add_trace(go.Box(x=df[\"Sample\"], \n",
    "                    #  boxmean=True,\n",
    "                    #  pointpos=0.0,\n",
    "                    #  jitter=0.5,\n",
    "                     notched=True, \n",
    "                     marker_color='green', \n",
    "                     boxpoints=\"outliers\",\n",
    "                     name='Normal',\n",
    "                     ))\n",
    "fig.update_layout(title='Box Plot', \n",
    "                  height = 500, width = 800,)"
   ]
  },
  {
   "cell_type": "code",
   "execution_count": 142,
   "metadata": {},
   "outputs": [
    {
     "data": {
      "application/vnd.plotly.v1+json": {
       "config": {
        "plotlyServerURL": "https://plot.ly"
       },
       "data": [
        {
         "boxmean": true,
         "boxpoints": "outliers",
         "marker": {
          "color": "green"
         },
         "name": "Normal",
         "notched": true,
         "type": "box",
         "x": [
          -0.5439630134562196,
          -0.14751721306349533,
          -0.12515039201998776,
          -0.955762075532692,
          0.8173553108236601,
          -0.06437752457653144,
          -0.355672645706474,
          -0.6570190932295612,
          -2.193698184404729,
          -1.2515527189337736,
          0.30350387413843855,
          1.488535728464833,
          0.9516724383620311,
          0.2003017033523902,
          -0.45890439981673425,
          -1.3049404941051703,
          -0.39646152090022424,
          -1.7061921544154988,
          0.15806838350533395,
          -0.9556910996781889,
          -0.5839671939210728,
          0.9207417786931978,
          -0.9735878666144886,
          0.7380666062995807,
          -0.88631527302102,
          0.5769277802181809,
          1.2836057066084665,
          1.0521552551109228,
          -0.02266271385923323,
          1.0341663333517737,
          0.5954318044687292,
          1.0939054814496014,
          0.22189650976804268,
          -0.22074476840181625,
          -1.7106124881935683,
          0.6603641808886801,
          1.0238497751775626,
          1.0082174630449336,
          0.1113767156630591,
          -0.5503578687052869,
          -1.9447868382620541,
          0.16090276462102937,
          -0.10568043544460531,
          -1.4806961795717162,
          -0.7138090814315508,
          0.5977475296060615,
          1.4465446735716785,
          -0.03147914370834707,
          -1.1422323324069852,
          -0.35905162961149767,
          -1.1862076078604504,
          -1.6485917192450878,
          0.5284503133338202,
          0.018830879112982007,
          -0.4804762873298388,
          -0.666682311447235,
          1.6757904051403243,
          -0.5323451631523315,
          -1.4861944858295835,
          -0.6557583951543617,
          0.14909645624727924,
          -1.3333652489205225,
          0.28341223550388556,
          -0.3298956040211742,
          0.3711802202017301,
          1.2723305851626474,
          0.6730655294870993,
          0.8181982726652162,
          -1.1720096026307607,
          -1.1795599601708986,
          0.16374924162033097,
          0.02679164286689217,
          0.532958597009831,
          0.4670938464665729,
          0.5431121014829942,
          0.4343592243718707,
          1.3242567260246303,
          1.004167713865563,
          -0.9066893107184592,
          -0.43145198449501637,
          -0.23626511141071316,
          -1.2117962116313867,
          0.0322424968758237,
          1.0691656381700227,
          0.16209145282583987,
          1.2880326962985282,
          -0.928819061166284,
          -1.1739940425976718,
          0.05191685972823937,
          -0.9421265396485979,
          0.07720255942663463,
          -0.09839299349151866,
          1.1062846369108301,
          1.4764072977587182,
          0.8141923830614707,
          -0.5794525529725872,
          -0.43174100237339297,
          0.8925821340736413,
          1.3698511226626957,
          -0.3392525130657275,
          1.3845947067748832,
          0.7852477260712996,
          0.727806366686441,
          -0.3501596120227101,
          -0.3388492885874249,
          -1.593694757466906,
          -0.3016594992377757,
          -0.15121808705673448,
          -0.34125540682547223,
          -1.0395932742818499,
          1.874570645831257,
          1.933678389956772,
          -1.5706872500063491,
          2.215354964401231,
          0.6455957236211277,
          1.4374068920299903,
          0.6893257908384023,
          -1.1914411485378091,
          0.1912015969904688,
          0.3575397438686911,
          -0.37692370838791933,
          -0.6678705146904667,
          0.4762902770623717,
          0.2569412378569885,
          0.3346756304192554,
          -1.0123729621642739,
          0.7720500411734559,
          0.5923294111221863,
          -0.31979118469493095,
          -0.3903781627593597,
          1.115153249612925,
          0.09858983143205705,
          0.6349752964902386,
          -0.8606384084272655,
          -0.5862118230516432,
          -0.3753954465475097,
          -0.7728487452982105,
          0.05918968725216786,
          -0.19521482417787442,
          2.2677199894813627,
          -0.7589398330380585,
          0.40956293111901976,
          0.596914139124069,
          1.7049244407202193,
          -0.4723375619714376,
          2.029018988091386,
          -1.0207372968915849,
          0.7031437458175898,
          -1.2313382411429723,
          -1.58732498385924,
          0.38683360656975474,
          -0.3669554791253991,
          0.8586256074174887,
          0.929906129381194,
          0.9848862150363578,
          1.5084034513266353,
          0.3677193558153089,
          0.6076857931626415,
          -0.19954334359933412,
          -0.43353894243114866,
          -0.13008972478916533,
          -0.41545508015736343,
          1.0520591845940714,
          -0.12247645046855575,
          1.8749969808307632,
          0.9023353052818368,
          -0.6953843529635968,
          0.5393169578868401,
          -1.9055321400046228,
          0.24041239592709635,
          0.7367036167809188,
          -1.068612336760559,
          1.340690091964591,
          -0.2860275394386807,
          -0.31503919795973245,
          -0.2719487425259287,
          -0.6366689251559906,
          1.8714702258685836,
          -1.0429801550020819,
          -1.4948532620562307,
          -0.8417522382427485,
          -0.10183564951980968,
          -2.241551444882713,
          -0.2522441734063433,
          -1.3075261317338085,
          -1.6158655271586577,
          -0.6785207668629374,
          -1.5459205222796075,
          0.29216782375092665,
          0.5191167508140925,
          0.9966505628288744,
          -0.48877883923622406,
          -0.2578732672397555,
          1.556189951058555,
          0.4368448167866465,
          0.2773188075060575,
          0.6653029436025847,
          -0.23071318062513513,
          0.1687429335422898,
          -2.2831052917353065,
          -0.013758651642545226,
          -0.8318512302228865,
          0.920002585618587,
          0.7952705349212705,
          -0.5118302503232598,
          -0.6211286834482691,
          1.5568122164303864,
          0.8716476203137871,
          0.025510312047712758,
          0.43903112922638404,
          -0.5621599335141504,
          0.5299434598640083,
          -0.8931181210260533,
          -0.22559844776271015,
          1.1312462607086056,
          -0.2260409099025447,
          -0.901655447917428,
          -1.1832881785162137,
          0.3027564815597956,
          0.29593881147068074,
          0.7314999962153211,
          -1.0095440562777864,
          -1.2459194792602142,
          1.7376503499072196,
          -0.587356014902871,
          -1.2507123580226018,
          -0.8956740881007047,
          -1.1434465425094142,
          -0.03155755869054951,
          0.6340856811756641,
          0.8075126956120333,
          0.20913493314298717,
          -0.6924563850739004,
          -0.3315106897984001,
          -0.8898242523783577,
          0.5298760328264601,
          -1.752369966621541,
          -1.0459393800862693,
          0.3082129922129998,
          0.46004804553633044,
          -0.5726466210657944,
          -1.6465167671628238,
          0.780652955573275,
          -0.7778720570423815,
          -1.1616088792080532,
          1.3442297867319883,
          1.4683429144729143,
          -1.547771733568347,
          -0.41871524055328485,
          3.0552667402815077,
          0.9932777142195568,
          -0.29205224049732476,
          -0.8261123203995817,
          -0.38324991099805034,
          -1.1630565460026434,
          0.3667687578534608,
          0.0753490499530485,
          0.9378911968126229,
          0.4229579425132878,
          -1.206577430916278,
          1.1683649199765898,
          0.23739753324730067,
          0.5351116840552055,
          -0.30998101331476174,
          -2.833550125303222,
          1.3395478662488487,
          1.554134398055055,
          0.6165147774483396,
          0.5448267240125746,
          -1.1017087818212203,
          0.39474123225608226,
          -1.4244922909775788,
          -0.35334763716113765,
          -1.761783221206253,
          -0.4170471256313207,
          -1.360309877515232,
          0.3297048475961124,
          1.0996183799990489,
          -1.1020716655753755,
          -0.4753247784055822,
          -0.09358583659040128,
          -0.09406359017834265,
          -0.4753572187633074,
          -0.03183304076531341,
          -1.0530796943574021,
          -0.8420488794827746,
          -0.9971500509413499,
          -2.2096574247955396,
          -0.8568971011851855,
          -0.06190680977965203,
          -0.315361615854407,
          0.7087256890797661,
          -0.1485344506227271,
          -0.3860471546278706,
          0.1561930794468004,
          0.6902956487303434,
          0.11715132156283597,
          0.7149726370199871,
          0.7683162182316777,
          1.4261264205500985,
          0.36291539290574315,
          0.16676074457779208,
          1.8871566742031223,
          0.5809973752210058,
          1.5801433694532991,
          -0.12054303448963523,
          0.02486992854683613,
          0.6818580274720979,
          1.1330660490801585,
          -1.7943259889302938,
          -1.184668217526191,
          2.0107903110049894,
          -0.31951165340008303,
          0.32309134033905307,
          -0.774783687463548,
          0.3050108869750815,
          -0.23501172160100606,
          -1.390320697083339,
          -0.413408500575812,
          -0.5677770628072416,
          -0.016076310503179096,
          -0.4809461475223713,
          0.8105836418208855,
          0.02725971029750719,
          -0.17288213512747477,
          0.01766001325413412,
          0.3558657260203879,
          -0.9562072080839621,
          -0.5145512282619602,
          0.4316021251940558,
          -2.275146245040317,
          0.20972885326150598,
          -0.054636531714109496,
          -0.17874024233973743,
          -0.27590515331763643,
          -2.7991436956568356,
          -0.19132696272255925,
          0.4953862539385086,
          0.26657421950972254,
          0.19630757549760355,
          1.2345687909558372,
          0.31627826343771615,
          -0.1749168408778248,
          0.6001883786093368,
          -0.16263088226774805,
          0.04692973276716682,
          -1.2798131010077265,
          -0.4380178653782858,
          -0.24864843849733922,
          0.3020740165918139,
          0.6403290901326462,
          1.4310406293862046,
          0.1656628820231523,
          -1.680216334762698,
          0.49798723831623376,
          1.0318608341196513,
          0.6890670897161523,
          1.2529141812214986,
          0.5852932330718984,
          -0.5700170469055518,
          -0.09021083501988116,
          -0.24943863336695568,
          0.18464002255720852,
          0.23591804442192774,
          0.21410094038070593,
          0.5336720210832434,
          -0.6344360129197314,
          -0.2585636793234211,
          -0.5535630921410252,
          -0.14728462841572568,
          -0.20017098107524184,
          -0.853495087126589,
          -1.430291886693966,
          0.2205215254616074,
          0.5499499092600988,
          -1.0625087917570843,
          0.3106316558537885,
          0.43214219945283416,
          0.32589887031700226,
          0.5557701144001959,
          -1.4453860209325462,
          0.6394877482112806,
          -0.6525451606667468,
          0.5562920659731887,
          -1.2961485919435372,
          3.043445080500664,
          1.5539050991634975,
          -0.87366607102594,
          -0.2543037826161947,
          -1.4316493098298806,
          -1.6822407395447383,
          1.2570632981232641,
          0.9370495304676522,
          1.2747870141551887,
          -0.4863406737737806,
          0.17320861934509396,
          1.4612504721998514,
          0.5301961278573546,
          0.13576923354931963,
          -1.1827867162534873,
          -1.71158520766858,
          -0.10038771910360673,
          -1.0353467239970315,
          -1.2436045683252754,
          -0.9435545828631935,
          0.9253770700666333,
          0.3017655990438665,
          0.8488157928016379,
          -0.20306963703914674,
          0.536558889643903,
          -0.4416362988184249,
          0.35482061777665724,
          -0.8145253674406618,
          -0.48770931271237583,
          0.00952126000279588,
          0.6725556673401425,
          -0.9498603833657202,
          1.4821658839321863,
          -1.2877908016443966,
          -1.5543266249751841,
          -0.41520265867031503,
          -1.1733288379206683,
          0.19386102535469574,
          -1.2573727248577842,
          -0.006702679778793147,
          1.0418404572333329,
          1.6467721871866368,
          -0.5907532041897983,
          -0.17354572371515767,
          -1.1938541531481044,
          0.9521378478146583,
          -2.020627837577484,
          0.37097483789098545,
          -1.1219984815252821,
          -1.3772171549842922,
          0.2280650899210792,
          -0.5635843100348389,
          0.43426404195486523,
          0.13778596292011713,
          -0.034593644519434544,
          0.35105426520619204,
          0.2528868710473651,
          0.8327697965686276,
          -2.0176279528047125,
          2.5776233926641696,
          0.905338204986755,
          -0.1478266173304592,
          0.4350842954862788,
          0.8931314433805942,
          -0.5295485636976766,
          -0.764864264926411,
          -0.8344335088198651,
          -0.7616575496326725,
          -2.166182976073042,
          0.9065738740341908,
          1.3766663581286853,
          -2.378409801211075,
          1.8871709877322367,
          1.5204880871990816,
          1.0189066457088798,
          -1.3511597555545778,
          2.6540801405422734,
          0.24360659393869832,
          -0.2899520839003725,
          -0.908690689542501,
          1.5198730595673933,
          2.5211882852031167,
          0.6441485605864149,
          1.6481570950320898,
          1.5082630074825394,
          -1.1673937358956141,
          -2.1896928900042707,
          0.4296040754974012,
          1.6284545677919084,
          -0.13951218410165497,
          0.24509638163574557,
          0.9646950246535194,
          -1.1918899943700882,
          -0.8313121459832216,
          -0.3431670447930636,
          -0.566940100236948,
          -1.2980143063748817,
          1.2668274710909044,
          0.5085991486216425,
          -1.2959626766278436,
          -0.5853249320788981,
          0.2868767928571045,
          0.5731473654127537,
          -0.5875244110008525,
          -0.6430399519653459,
          0.009766765575127043,
          -1.9651561327342313,
          -0.22513064612954248,
          -0.6711696864321354,
          2.5353069341193257,
          -0.42014270665465675,
          2.0739737427984335,
          0.6230654449008328,
          0.5325402977152253,
          0.40496730038786494
         ]
        }
       ],
       "layout": {
        "height": 500,
        "template": {
         "data": {
          "bar": [
           {
            "error_x": {
             "color": "#2a3f5f"
            },
            "error_y": {
             "color": "#2a3f5f"
            },
            "marker": {
             "line": {
              "color": "#E5ECF6",
              "width": 0.5
             },
             "pattern": {
              "fillmode": "overlay",
              "size": 10,
              "solidity": 0.2
             }
            },
            "type": "bar"
           }
          ],
          "barpolar": [
           {
            "marker": {
             "line": {
              "color": "#E5ECF6",
              "width": 0.5
             },
             "pattern": {
              "fillmode": "overlay",
              "size": 10,
              "solidity": 0.2
             }
            },
            "type": "barpolar"
           }
          ],
          "carpet": [
           {
            "aaxis": {
             "endlinecolor": "#2a3f5f",
             "gridcolor": "white",
             "linecolor": "white",
             "minorgridcolor": "white",
             "startlinecolor": "#2a3f5f"
            },
            "baxis": {
             "endlinecolor": "#2a3f5f",
             "gridcolor": "white",
             "linecolor": "white",
             "minorgridcolor": "white",
             "startlinecolor": "#2a3f5f"
            },
            "type": "carpet"
           }
          ],
          "choropleth": [
           {
            "colorbar": {
             "outlinewidth": 0,
             "ticks": ""
            },
            "type": "choropleth"
           }
          ],
          "contour": [
           {
            "colorbar": {
             "outlinewidth": 0,
             "ticks": ""
            },
            "colorscale": [
             [
              0,
              "#0d0887"
             ],
             [
              0.1111111111111111,
              "#46039f"
             ],
             [
              0.2222222222222222,
              "#7201a8"
             ],
             [
              0.3333333333333333,
              "#9c179e"
             ],
             [
              0.4444444444444444,
              "#bd3786"
             ],
             [
              0.5555555555555556,
              "#d8576b"
             ],
             [
              0.6666666666666666,
              "#ed7953"
             ],
             [
              0.7777777777777778,
              "#fb9f3a"
             ],
             [
              0.8888888888888888,
              "#fdca26"
             ],
             [
              1,
              "#f0f921"
             ]
            ],
            "type": "contour"
           }
          ],
          "contourcarpet": [
           {
            "colorbar": {
             "outlinewidth": 0,
             "ticks": ""
            },
            "type": "contourcarpet"
           }
          ],
          "heatmap": [
           {
            "colorbar": {
             "outlinewidth": 0,
             "ticks": ""
            },
            "colorscale": [
             [
              0,
              "#0d0887"
             ],
             [
              0.1111111111111111,
              "#46039f"
             ],
             [
              0.2222222222222222,
              "#7201a8"
             ],
             [
              0.3333333333333333,
              "#9c179e"
             ],
             [
              0.4444444444444444,
              "#bd3786"
             ],
             [
              0.5555555555555556,
              "#d8576b"
             ],
             [
              0.6666666666666666,
              "#ed7953"
             ],
             [
              0.7777777777777778,
              "#fb9f3a"
             ],
             [
              0.8888888888888888,
              "#fdca26"
             ],
             [
              1,
              "#f0f921"
             ]
            ],
            "type": "heatmap"
           }
          ],
          "heatmapgl": [
           {
            "colorbar": {
             "outlinewidth": 0,
             "ticks": ""
            },
            "colorscale": [
             [
              0,
              "#0d0887"
             ],
             [
              0.1111111111111111,
              "#46039f"
             ],
             [
              0.2222222222222222,
              "#7201a8"
             ],
             [
              0.3333333333333333,
              "#9c179e"
             ],
             [
              0.4444444444444444,
              "#bd3786"
             ],
             [
              0.5555555555555556,
              "#d8576b"
             ],
             [
              0.6666666666666666,
              "#ed7953"
             ],
             [
              0.7777777777777778,
              "#fb9f3a"
             ],
             [
              0.8888888888888888,
              "#fdca26"
             ],
             [
              1,
              "#f0f921"
             ]
            ],
            "type": "heatmapgl"
           }
          ],
          "histogram": [
           {
            "marker": {
             "pattern": {
              "fillmode": "overlay",
              "size": 10,
              "solidity": 0.2
             }
            },
            "type": "histogram"
           }
          ],
          "histogram2d": [
           {
            "colorbar": {
             "outlinewidth": 0,
             "ticks": ""
            },
            "colorscale": [
             [
              0,
              "#0d0887"
             ],
             [
              0.1111111111111111,
              "#46039f"
             ],
             [
              0.2222222222222222,
              "#7201a8"
             ],
             [
              0.3333333333333333,
              "#9c179e"
             ],
             [
              0.4444444444444444,
              "#bd3786"
             ],
             [
              0.5555555555555556,
              "#d8576b"
             ],
             [
              0.6666666666666666,
              "#ed7953"
             ],
             [
              0.7777777777777778,
              "#fb9f3a"
             ],
             [
              0.8888888888888888,
              "#fdca26"
             ],
             [
              1,
              "#f0f921"
             ]
            ],
            "type": "histogram2d"
           }
          ],
          "histogram2dcontour": [
           {
            "colorbar": {
             "outlinewidth": 0,
             "ticks": ""
            },
            "colorscale": [
             [
              0,
              "#0d0887"
             ],
             [
              0.1111111111111111,
              "#46039f"
             ],
             [
              0.2222222222222222,
              "#7201a8"
             ],
             [
              0.3333333333333333,
              "#9c179e"
             ],
             [
              0.4444444444444444,
              "#bd3786"
             ],
             [
              0.5555555555555556,
              "#d8576b"
             ],
             [
              0.6666666666666666,
              "#ed7953"
             ],
             [
              0.7777777777777778,
              "#fb9f3a"
             ],
             [
              0.8888888888888888,
              "#fdca26"
             ],
             [
              1,
              "#f0f921"
             ]
            ],
            "type": "histogram2dcontour"
           }
          ],
          "mesh3d": [
           {
            "colorbar": {
             "outlinewidth": 0,
             "ticks": ""
            },
            "type": "mesh3d"
           }
          ],
          "parcoords": [
           {
            "line": {
             "colorbar": {
              "outlinewidth": 0,
              "ticks": ""
             }
            },
            "type": "parcoords"
           }
          ],
          "pie": [
           {
            "automargin": true,
            "type": "pie"
           }
          ],
          "scatter": [
           {
            "fillpattern": {
             "fillmode": "overlay",
             "size": 10,
             "solidity": 0.2
            },
            "type": "scatter"
           }
          ],
          "scatter3d": [
           {
            "line": {
             "colorbar": {
              "outlinewidth": 0,
              "ticks": ""
             }
            },
            "marker": {
             "colorbar": {
              "outlinewidth": 0,
              "ticks": ""
             }
            },
            "type": "scatter3d"
           }
          ],
          "scattercarpet": [
           {
            "marker": {
             "colorbar": {
              "outlinewidth": 0,
              "ticks": ""
             }
            },
            "type": "scattercarpet"
           }
          ],
          "scattergeo": [
           {
            "marker": {
             "colorbar": {
              "outlinewidth": 0,
              "ticks": ""
             }
            },
            "type": "scattergeo"
           }
          ],
          "scattergl": [
           {
            "marker": {
             "colorbar": {
              "outlinewidth": 0,
              "ticks": ""
             }
            },
            "type": "scattergl"
           }
          ],
          "scattermapbox": [
           {
            "marker": {
             "colorbar": {
              "outlinewidth": 0,
              "ticks": ""
             }
            },
            "type": "scattermapbox"
           }
          ],
          "scatterpolar": [
           {
            "marker": {
             "colorbar": {
              "outlinewidth": 0,
              "ticks": ""
             }
            },
            "type": "scatterpolar"
           }
          ],
          "scatterpolargl": [
           {
            "marker": {
             "colorbar": {
              "outlinewidth": 0,
              "ticks": ""
             }
            },
            "type": "scatterpolargl"
           }
          ],
          "scatterternary": [
           {
            "marker": {
             "colorbar": {
              "outlinewidth": 0,
              "ticks": ""
             }
            },
            "type": "scatterternary"
           }
          ],
          "surface": [
           {
            "colorbar": {
             "outlinewidth": 0,
             "ticks": ""
            },
            "colorscale": [
             [
              0,
              "#0d0887"
             ],
             [
              0.1111111111111111,
              "#46039f"
             ],
             [
              0.2222222222222222,
              "#7201a8"
             ],
             [
              0.3333333333333333,
              "#9c179e"
             ],
             [
              0.4444444444444444,
              "#bd3786"
             ],
             [
              0.5555555555555556,
              "#d8576b"
             ],
             [
              0.6666666666666666,
              "#ed7953"
             ],
             [
              0.7777777777777778,
              "#fb9f3a"
             ],
             [
              0.8888888888888888,
              "#fdca26"
             ],
             [
              1,
              "#f0f921"
             ]
            ],
            "type": "surface"
           }
          ],
          "table": [
           {
            "cells": {
             "fill": {
              "color": "#EBF0F8"
             },
             "line": {
              "color": "white"
             }
            },
            "header": {
             "fill": {
              "color": "#C8D4E3"
             },
             "line": {
              "color": "white"
             }
            },
            "type": "table"
           }
          ]
         },
         "layout": {
          "annotationdefaults": {
           "arrowcolor": "#2a3f5f",
           "arrowhead": 0,
           "arrowwidth": 1
          },
          "autotypenumbers": "strict",
          "coloraxis": {
           "colorbar": {
            "outlinewidth": 0,
            "ticks": ""
           }
          },
          "colorscale": {
           "diverging": [
            [
             0,
             "#8e0152"
            ],
            [
             0.1,
             "#c51b7d"
            ],
            [
             0.2,
             "#de77ae"
            ],
            [
             0.3,
             "#f1b6da"
            ],
            [
             0.4,
             "#fde0ef"
            ],
            [
             0.5,
             "#f7f7f7"
            ],
            [
             0.6,
             "#e6f5d0"
            ],
            [
             0.7,
             "#b8e186"
            ],
            [
             0.8,
             "#7fbc41"
            ],
            [
             0.9,
             "#4d9221"
            ],
            [
             1,
             "#276419"
            ]
           ],
           "sequential": [
            [
             0,
             "#0d0887"
            ],
            [
             0.1111111111111111,
             "#46039f"
            ],
            [
             0.2222222222222222,
             "#7201a8"
            ],
            [
             0.3333333333333333,
             "#9c179e"
            ],
            [
             0.4444444444444444,
             "#bd3786"
            ],
            [
             0.5555555555555556,
             "#d8576b"
            ],
            [
             0.6666666666666666,
             "#ed7953"
            ],
            [
             0.7777777777777778,
             "#fb9f3a"
            ],
            [
             0.8888888888888888,
             "#fdca26"
            ],
            [
             1,
             "#f0f921"
            ]
           ],
           "sequentialminus": [
            [
             0,
             "#0d0887"
            ],
            [
             0.1111111111111111,
             "#46039f"
            ],
            [
             0.2222222222222222,
             "#7201a8"
            ],
            [
             0.3333333333333333,
             "#9c179e"
            ],
            [
             0.4444444444444444,
             "#bd3786"
            ],
            [
             0.5555555555555556,
             "#d8576b"
            ],
            [
             0.6666666666666666,
             "#ed7953"
            ],
            [
             0.7777777777777778,
             "#fb9f3a"
            ],
            [
             0.8888888888888888,
             "#fdca26"
            ],
            [
             1,
             "#f0f921"
            ]
           ]
          },
          "colorway": [
           "#636efa",
           "#EF553B",
           "#00cc96",
           "#ab63fa",
           "#FFA15A",
           "#19d3f3",
           "#FF6692",
           "#B6E880",
           "#FF97FF",
           "#FECB52"
          ],
          "font": {
           "color": "#2a3f5f"
          },
          "geo": {
           "bgcolor": "white",
           "lakecolor": "white",
           "landcolor": "#E5ECF6",
           "showlakes": true,
           "showland": true,
           "subunitcolor": "white"
          },
          "hoverlabel": {
           "align": "left"
          },
          "hovermode": "closest",
          "mapbox": {
           "style": "light"
          },
          "paper_bgcolor": "white",
          "plot_bgcolor": "#E5ECF6",
          "polar": {
           "angularaxis": {
            "gridcolor": "white",
            "linecolor": "white",
            "ticks": ""
           },
           "bgcolor": "#E5ECF6",
           "radialaxis": {
            "gridcolor": "white",
            "linecolor": "white",
            "ticks": ""
           }
          },
          "scene": {
           "xaxis": {
            "backgroundcolor": "#E5ECF6",
            "gridcolor": "white",
            "gridwidth": 2,
            "linecolor": "white",
            "showbackground": true,
            "ticks": "",
            "zerolinecolor": "white"
           },
           "yaxis": {
            "backgroundcolor": "#E5ECF6",
            "gridcolor": "white",
            "gridwidth": 2,
            "linecolor": "white",
            "showbackground": true,
            "ticks": "",
            "zerolinecolor": "white"
           },
           "zaxis": {
            "backgroundcolor": "#E5ECF6",
            "gridcolor": "white",
            "gridwidth": 2,
            "linecolor": "white",
            "showbackground": true,
            "ticks": "",
            "zerolinecolor": "white"
           }
          },
          "shapedefaults": {
           "line": {
            "color": "#2a3f5f"
           }
          },
          "ternary": {
           "aaxis": {
            "gridcolor": "white",
            "linecolor": "white",
            "ticks": ""
           },
           "baxis": {
            "gridcolor": "white",
            "linecolor": "white",
            "ticks": ""
           },
           "bgcolor": "#E5ECF6",
           "caxis": {
            "gridcolor": "white",
            "linecolor": "white",
            "ticks": ""
           }
          },
          "title": {
           "x": 0.05
          },
          "xaxis": {
           "automargin": true,
           "gridcolor": "white",
           "linecolor": "white",
           "ticks": "",
           "title": {
            "standoff": 15
           },
           "zerolinecolor": "white",
           "zerolinewidth": 2
          },
          "yaxis": {
           "automargin": true,
           "gridcolor": "white",
           "linecolor": "white",
           "ticks": "",
           "title": {
            "standoff": 15
           },
           "zerolinecolor": "white",
           "zerolinewidth": 2
          }
         }
        },
        "title": {
         "text": "Box Plot"
        },
        "width": 800
       }
      }
     },
     "metadata": {},
     "output_type": "display_data"
    }
   ],
   "source": [
    "fig = go.Figure()\n",
    "fig.add_trace(go.Box(x=df[\"Sample\"], \n",
    "                     boxmean=True,\n",
    "                     notched=True, \n",
    "                     marker_color='green', \n",
    "                     boxpoints=\"outliers\",\n",
    "                     name='Normal',\n",
    "                     ))\n",
    "fig.update_layout(title='Box Plot', \n",
    "                  height = 500, width = 800,)"
   ]
  },
  {
   "cell_type": "code",
   "execution_count": 143,
   "metadata": {},
   "outputs": [
    {
     "data": {
      "application/vnd.plotly.v1+json": {
       "config": {
        "plotlyServerURL": "https://plot.ly"
       },
       "data": [
        {
         "boxmean": true,
         "lowerfence": [
          -2
         ],
         "name": "Normal",
         "notched": true,
         "notchwidth": 0.5,
         "type": "box",
         "upperfence": [
          2
         ],
         "y": [
          -0.5439630134562196,
          -0.14751721306349533,
          -0.12515039201998776,
          -0.955762075532692,
          0.8173553108236601,
          -0.06437752457653144,
          -0.355672645706474,
          -0.6570190932295612,
          -2.193698184404729,
          -1.2515527189337736,
          0.30350387413843855,
          1.488535728464833,
          0.9516724383620311,
          0.2003017033523902,
          -0.45890439981673425,
          -1.3049404941051703,
          -0.39646152090022424,
          -1.7061921544154988,
          0.15806838350533395,
          -0.9556910996781889,
          -0.5839671939210728,
          0.9207417786931978,
          -0.9735878666144886,
          0.7380666062995807,
          -0.88631527302102,
          0.5769277802181809,
          1.2836057066084665,
          1.0521552551109228,
          -0.02266271385923323,
          1.0341663333517737,
          0.5954318044687292,
          1.0939054814496014,
          0.22189650976804268,
          -0.22074476840181625,
          -1.7106124881935683,
          0.6603641808886801,
          1.0238497751775626,
          1.0082174630449336,
          0.1113767156630591,
          -0.5503578687052869,
          -1.9447868382620541,
          0.16090276462102937,
          -0.10568043544460531,
          -1.4806961795717162,
          -0.7138090814315508,
          0.5977475296060615,
          1.4465446735716785,
          -0.03147914370834707,
          -1.1422323324069852,
          -0.35905162961149767,
          -1.1862076078604504,
          -1.6485917192450878,
          0.5284503133338202,
          0.018830879112982007,
          -0.4804762873298388,
          -0.666682311447235,
          1.6757904051403243,
          -0.5323451631523315,
          -1.4861944858295835,
          -0.6557583951543617,
          0.14909645624727924,
          -1.3333652489205225,
          0.28341223550388556,
          -0.3298956040211742,
          0.3711802202017301,
          1.2723305851626474,
          0.6730655294870993,
          0.8181982726652162,
          -1.1720096026307607,
          -1.1795599601708986,
          0.16374924162033097,
          0.02679164286689217,
          0.532958597009831,
          0.4670938464665729,
          0.5431121014829942,
          0.4343592243718707,
          1.3242567260246303,
          1.004167713865563,
          -0.9066893107184592,
          -0.43145198449501637,
          -0.23626511141071316,
          -1.2117962116313867,
          0.0322424968758237,
          1.0691656381700227,
          0.16209145282583987,
          1.2880326962985282,
          -0.928819061166284,
          -1.1739940425976718,
          0.05191685972823937,
          -0.9421265396485979,
          0.07720255942663463,
          -0.09839299349151866,
          1.1062846369108301,
          1.4764072977587182,
          0.8141923830614707,
          -0.5794525529725872,
          -0.43174100237339297,
          0.8925821340736413,
          1.3698511226626957,
          -0.3392525130657275,
          1.3845947067748832,
          0.7852477260712996,
          0.727806366686441,
          -0.3501596120227101,
          -0.3388492885874249,
          -1.593694757466906,
          -0.3016594992377757,
          -0.15121808705673448,
          -0.34125540682547223,
          -1.0395932742818499,
          1.874570645831257,
          1.933678389956772,
          -1.5706872500063491,
          2.215354964401231,
          0.6455957236211277,
          1.4374068920299903,
          0.6893257908384023,
          -1.1914411485378091,
          0.1912015969904688,
          0.3575397438686911,
          -0.37692370838791933,
          -0.6678705146904667,
          0.4762902770623717,
          0.2569412378569885,
          0.3346756304192554,
          -1.0123729621642739,
          0.7720500411734559,
          0.5923294111221863,
          -0.31979118469493095,
          -0.3903781627593597,
          1.115153249612925,
          0.09858983143205705,
          0.6349752964902386,
          -0.8606384084272655,
          -0.5862118230516432,
          -0.3753954465475097,
          -0.7728487452982105,
          0.05918968725216786,
          -0.19521482417787442,
          2.2677199894813627,
          -0.7589398330380585,
          0.40956293111901976,
          0.596914139124069,
          1.7049244407202193,
          -0.4723375619714376,
          2.029018988091386,
          -1.0207372968915849,
          0.7031437458175898,
          -1.2313382411429723,
          -1.58732498385924,
          0.38683360656975474,
          -0.3669554791253991,
          0.8586256074174887,
          0.929906129381194,
          0.9848862150363578,
          1.5084034513266353,
          0.3677193558153089,
          0.6076857931626415,
          -0.19954334359933412,
          -0.43353894243114866,
          -0.13008972478916533,
          -0.41545508015736343,
          1.0520591845940714,
          -0.12247645046855575,
          1.8749969808307632,
          0.9023353052818368,
          -0.6953843529635968,
          0.5393169578868401,
          -1.9055321400046228,
          0.24041239592709635,
          0.7367036167809188,
          -1.068612336760559,
          1.340690091964591,
          -0.2860275394386807,
          -0.31503919795973245,
          -0.2719487425259287,
          -0.6366689251559906,
          1.8714702258685836,
          -1.0429801550020819,
          -1.4948532620562307,
          -0.8417522382427485,
          -0.10183564951980968,
          -2.241551444882713,
          -0.2522441734063433,
          -1.3075261317338085,
          -1.6158655271586577,
          -0.6785207668629374,
          -1.5459205222796075,
          0.29216782375092665,
          0.5191167508140925,
          0.9966505628288744,
          -0.48877883923622406,
          -0.2578732672397555,
          1.556189951058555,
          0.4368448167866465,
          0.2773188075060575,
          0.6653029436025847,
          -0.23071318062513513,
          0.1687429335422898,
          -2.2831052917353065,
          -0.013758651642545226,
          -0.8318512302228865,
          0.920002585618587,
          0.7952705349212705,
          -0.5118302503232598,
          -0.6211286834482691,
          1.5568122164303864,
          0.8716476203137871,
          0.025510312047712758,
          0.43903112922638404,
          -0.5621599335141504,
          0.5299434598640083,
          -0.8931181210260533,
          -0.22559844776271015,
          1.1312462607086056,
          -0.2260409099025447,
          -0.901655447917428,
          -1.1832881785162137,
          0.3027564815597956,
          0.29593881147068074,
          0.7314999962153211,
          -1.0095440562777864,
          -1.2459194792602142,
          1.7376503499072196,
          -0.587356014902871,
          -1.2507123580226018,
          -0.8956740881007047,
          -1.1434465425094142,
          -0.03155755869054951,
          0.6340856811756641,
          0.8075126956120333,
          0.20913493314298717,
          -0.6924563850739004,
          -0.3315106897984001,
          -0.8898242523783577,
          0.5298760328264601,
          -1.752369966621541,
          -1.0459393800862693,
          0.3082129922129998,
          0.46004804553633044,
          -0.5726466210657944,
          -1.6465167671628238,
          0.780652955573275,
          -0.7778720570423815,
          -1.1616088792080532,
          1.3442297867319883,
          1.4683429144729143,
          -1.547771733568347,
          -0.41871524055328485,
          3.0552667402815077,
          0.9932777142195568,
          -0.29205224049732476,
          -0.8261123203995817,
          -0.38324991099805034,
          -1.1630565460026434,
          0.3667687578534608,
          0.0753490499530485,
          0.9378911968126229,
          0.4229579425132878,
          -1.206577430916278,
          1.1683649199765898,
          0.23739753324730067,
          0.5351116840552055,
          -0.30998101331476174,
          -2.833550125303222,
          1.3395478662488487,
          1.554134398055055,
          0.6165147774483396,
          0.5448267240125746,
          -1.1017087818212203,
          0.39474123225608226,
          -1.4244922909775788,
          -0.35334763716113765,
          -1.761783221206253,
          -0.4170471256313207,
          -1.360309877515232,
          0.3297048475961124,
          1.0996183799990489,
          -1.1020716655753755,
          -0.4753247784055822,
          -0.09358583659040128,
          -0.09406359017834265,
          -0.4753572187633074,
          -0.03183304076531341,
          -1.0530796943574021,
          -0.8420488794827746,
          -0.9971500509413499,
          -2.2096574247955396,
          -0.8568971011851855,
          -0.06190680977965203,
          -0.315361615854407,
          0.7087256890797661,
          -0.1485344506227271,
          -0.3860471546278706,
          0.1561930794468004,
          0.6902956487303434,
          0.11715132156283597,
          0.7149726370199871,
          0.7683162182316777,
          1.4261264205500985,
          0.36291539290574315,
          0.16676074457779208,
          1.8871566742031223,
          0.5809973752210058,
          1.5801433694532991,
          -0.12054303448963523,
          0.02486992854683613,
          0.6818580274720979,
          1.1330660490801585,
          -1.7943259889302938,
          -1.184668217526191,
          2.0107903110049894,
          -0.31951165340008303,
          0.32309134033905307,
          -0.774783687463548,
          0.3050108869750815,
          -0.23501172160100606,
          -1.390320697083339,
          -0.413408500575812,
          -0.5677770628072416,
          -0.016076310503179096,
          -0.4809461475223713,
          0.8105836418208855,
          0.02725971029750719,
          -0.17288213512747477,
          0.01766001325413412,
          0.3558657260203879,
          -0.9562072080839621,
          -0.5145512282619602,
          0.4316021251940558,
          -2.275146245040317,
          0.20972885326150598,
          -0.054636531714109496,
          -0.17874024233973743,
          -0.27590515331763643,
          -2.7991436956568356,
          -0.19132696272255925,
          0.4953862539385086,
          0.26657421950972254,
          0.19630757549760355,
          1.2345687909558372,
          0.31627826343771615,
          -0.1749168408778248,
          0.6001883786093368,
          -0.16263088226774805,
          0.04692973276716682,
          -1.2798131010077265,
          -0.4380178653782858,
          -0.24864843849733922,
          0.3020740165918139,
          0.6403290901326462,
          1.4310406293862046,
          0.1656628820231523,
          -1.680216334762698,
          0.49798723831623376,
          1.0318608341196513,
          0.6890670897161523,
          1.2529141812214986,
          0.5852932330718984,
          -0.5700170469055518,
          -0.09021083501988116,
          -0.24943863336695568,
          0.18464002255720852,
          0.23591804442192774,
          0.21410094038070593,
          0.5336720210832434,
          -0.6344360129197314,
          -0.2585636793234211,
          -0.5535630921410252,
          -0.14728462841572568,
          -0.20017098107524184,
          -0.853495087126589,
          -1.430291886693966,
          0.2205215254616074,
          0.5499499092600988,
          -1.0625087917570843,
          0.3106316558537885,
          0.43214219945283416,
          0.32589887031700226,
          0.5557701144001959,
          -1.4453860209325462,
          0.6394877482112806,
          -0.6525451606667468,
          0.5562920659731887,
          -1.2961485919435372,
          3.043445080500664,
          1.5539050991634975,
          -0.87366607102594,
          -0.2543037826161947,
          -1.4316493098298806,
          -1.6822407395447383,
          1.2570632981232641,
          0.9370495304676522,
          1.2747870141551887,
          -0.4863406737737806,
          0.17320861934509396,
          1.4612504721998514,
          0.5301961278573546,
          0.13576923354931963,
          -1.1827867162534873,
          -1.71158520766858,
          -0.10038771910360673,
          -1.0353467239970315,
          -1.2436045683252754,
          -0.9435545828631935,
          0.9253770700666333,
          0.3017655990438665,
          0.8488157928016379,
          -0.20306963703914674,
          0.536558889643903,
          -0.4416362988184249,
          0.35482061777665724,
          -0.8145253674406618,
          -0.48770931271237583,
          0.00952126000279588,
          0.6725556673401425,
          -0.9498603833657202,
          1.4821658839321863,
          -1.2877908016443966,
          -1.5543266249751841,
          -0.41520265867031503,
          -1.1733288379206683,
          0.19386102535469574,
          -1.2573727248577842,
          -0.006702679778793147,
          1.0418404572333329,
          1.6467721871866368,
          -0.5907532041897983,
          -0.17354572371515767,
          -1.1938541531481044,
          0.9521378478146583,
          -2.020627837577484,
          0.37097483789098545,
          -1.1219984815252821,
          -1.3772171549842922,
          0.2280650899210792,
          -0.5635843100348389,
          0.43426404195486523,
          0.13778596292011713,
          -0.034593644519434544,
          0.35105426520619204,
          0.2528868710473651,
          0.8327697965686276,
          -2.0176279528047125,
          2.5776233926641696,
          0.905338204986755,
          -0.1478266173304592,
          0.4350842954862788,
          0.8931314433805942,
          -0.5295485636976766,
          -0.764864264926411,
          -0.8344335088198651,
          -0.7616575496326725,
          -2.166182976073042,
          0.9065738740341908,
          1.3766663581286853,
          -2.378409801211075,
          1.8871709877322367,
          1.5204880871990816,
          1.0189066457088798,
          -1.3511597555545778,
          2.6540801405422734,
          0.24360659393869832,
          -0.2899520839003725,
          -0.908690689542501,
          1.5198730595673933,
          2.5211882852031167,
          0.6441485605864149,
          1.6481570950320898,
          1.5082630074825394,
          -1.1673937358956141,
          -2.1896928900042707,
          0.4296040754974012,
          1.6284545677919084,
          -0.13951218410165497,
          0.24509638163574557,
          0.9646950246535194,
          -1.1918899943700882,
          -0.8313121459832216,
          -0.3431670447930636,
          -0.566940100236948,
          -1.2980143063748817,
          1.2668274710909044,
          0.5085991486216425,
          -1.2959626766278436,
          -0.5853249320788981,
          0.2868767928571045,
          0.5731473654127537,
          -0.5875244110008525,
          -0.6430399519653459,
          0.009766765575127043,
          -1.9651561327342313,
          -0.22513064612954248,
          -0.6711696864321354,
          2.5353069341193257,
          -0.42014270665465675,
          2.0739737427984335,
          0.6230654449008328,
          0.5325402977152253,
          0.40496730038786494
         ]
        }
       ],
       "layout": {
        "height": 700,
        "template": {
         "data": {
          "bar": [
           {
            "error_x": {
             "color": "#2a3f5f"
            },
            "error_y": {
             "color": "#2a3f5f"
            },
            "marker": {
             "line": {
              "color": "#E5ECF6",
              "width": 0.5
             },
             "pattern": {
              "fillmode": "overlay",
              "size": 10,
              "solidity": 0.2
             }
            },
            "type": "bar"
           }
          ],
          "barpolar": [
           {
            "marker": {
             "line": {
              "color": "#E5ECF6",
              "width": 0.5
             },
             "pattern": {
              "fillmode": "overlay",
              "size": 10,
              "solidity": 0.2
             }
            },
            "type": "barpolar"
           }
          ],
          "carpet": [
           {
            "aaxis": {
             "endlinecolor": "#2a3f5f",
             "gridcolor": "white",
             "linecolor": "white",
             "minorgridcolor": "white",
             "startlinecolor": "#2a3f5f"
            },
            "baxis": {
             "endlinecolor": "#2a3f5f",
             "gridcolor": "white",
             "linecolor": "white",
             "minorgridcolor": "white",
             "startlinecolor": "#2a3f5f"
            },
            "type": "carpet"
           }
          ],
          "choropleth": [
           {
            "colorbar": {
             "outlinewidth": 0,
             "ticks": ""
            },
            "type": "choropleth"
           }
          ],
          "contour": [
           {
            "colorbar": {
             "outlinewidth": 0,
             "ticks": ""
            },
            "colorscale": [
             [
              0,
              "#0d0887"
             ],
             [
              0.1111111111111111,
              "#46039f"
             ],
             [
              0.2222222222222222,
              "#7201a8"
             ],
             [
              0.3333333333333333,
              "#9c179e"
             ],
             [
              0.4444444444444444,
              "#bd3786"
             ],
             [
              0.5555555555555556,
              "#d8576b"
             ],
             [
              0.6666666666666666,
              "#ed7953"
             ],
             [
              0.7777777777777778,
              "#fb9f3a"
             ],
             [
              0.8888888888888888,
              "#fdca26"
             ],
             [
              1,
              "#f0f921"
             ]
            ],
            "type": "contour"
           }
          ],
          "contourcarpet": [
           {
            "colorbar": {
             "outlinewidth": 0,
             "ticks": ""
            },
            "type": "contourcarpet"
           }
          ],
          "heatmap": [
           {
            "colorbar": {
             "outlinewidth": 0,
             "ticks": ""
            },
            "colorscale": [
             [
              0,
              "#0d0887"
             ],
             [
              0.1111111111111111,
              "#46039f"
             ],
             [
              0.2222222222222222,
              "#7201a8"
             ],
             [
              0.3333333333333333,
              "#9c179e"
             ],
             [
              0.4444444444444444,
              "#bd3786"
             ],
             [
              0.5555555555555556,
              "#d8576b"
             ],
             [
              0.6666666666666666,
              "#ed7953"
             ],
             [
              0.7777777777777778,
              "#fb9f3a"
             ],
             [
              0.8888888888888888,
              "#fdca26"
             ],
             [
              1,
              "#f0f921"
             ]
            ],
            "type": "heatmap"
           }
          ],
          "heatmapgl": [
           {
            "colorbar": {
             "outlinewidth": 0,
             "ticks": ""
            },
            "colorscale": [
             [
              0,
              "#0d0887"
             ],
             [
              0.1111111111111111,
              "#46039f"
             ],
             [
              0.2222222222222222,
              "#7201a8"
             ],
             [
              0.3333333333333333,
              "#9c179e"
             ],
             [
              0.4444444444444444,
              "#bd3786"
             ],
             [
              0.5555555555555556,
              "#d8576b"
             ],
             [
              0.6666666666666666,
              "#ed7953"
             ],
             [
              0.7777777777777778,
              "#fb9f3a"
             ],
             [
              0.8888888888888888,
              "#fdca26"
             ],
             [
              1,
              "#f0f921"
             ]
            ],
            "type": "heatmapgl"
           }
          ],
          "histogram": [
           {
            "marker": {
             "pattern": {
              "fillmode": "overlay",
              "size": 10,
              "solidity": 0.2
             }
            },
            "type": "histogram"
           }
          ],
          "histogram2d": [
           {
            "colorbar": {
             "outlinewidth": 0,
             "ticks": ""
            },
            "colorscale": [
             [
              0,
              "#0d0887"
             ],
             [
              0.1111111111111111,
              "#46039f"
             ],
             [
              0.2222222222222222,
              "#7201a8"
             ],
             [
              0.3333333333333333,
              "#9c179e"
             ],
             [
              0.4444444444444444,
              "#bd3786"
             ],
             [
              0.5555555555555556,
              "#d8576b"
             ],
             [
              0.6666666666666666,
              "#ed7953"
             ],
             [
              0.7777777777777778,
              "#fb9f3a"
             ],
             [
              0.8888888888888888,
              "#fdca26"
             ],
             [
              1,
              "#f0f921"
             ]
            ],
            "type": "histogram2d"
           }
          ],
          "histogram2dcontour": [
           {
            "colorbar": {
             "outlinewidth": 0,
             "ticks": ""
            },
            "colorscale": [
             [
              0,
              "#0d0887"
             ],
             [
              0.1111111111111111,
              "#46039f"
             ],
             [
              0.2222222222222222,
              "#7201a8"
             ],
             [
              0.3333333333333333,
              "#9c179e"
             ],
             [
              0.4444444444444444,
              "#bd3786"
             ],
             [
              0.5555555555555556,
              "#d8576b"
             ],
             [
              0.6666666666666666,
              "#ed7953"
             ],
             [
              0.7777777777777778,
              "#fb9f3a"
             ],
             [
              0.8888888888888888,
              "#fdca26"
             ],
             [
              1,
              "#f0f921"
             ]
            ],
            "type": "histogram2dcontour"
           }
          ],
          "mesh3d": [
           {
            "colorbar": {
             "outlinewidth": 0,
             "ticks": ""
            },
            "type": "mesh3d"
           }
          ],
          "parcoords": [
           {
            "line": {
             "colorbar": {
              "outlinewidth": 0,
              "ticks": ""
             }
            },
            "type": "parcoords"
           }
          ],
          "pie": [
           {
            "automargin": true,
            "type": "pie"
           }
          ],
          "scatter": [
           {
            "fillpattern": {
             "fillmode": "overlay",
             "size": 10,
             "solidity": 0.2
            },
            "type": "scatter"
           }
          ],
          "scatter3d": [
           {
            "line": {
             "colorbar": {
              "outlinewidth": 0,
              "ticks": ""
             }
            },
            "marker": {
             "colorbar": {
              "outlinewidth": 0,
              "ticks": ""
             }
            },
            "type": "scatter3d"
           }
          ],
          "scattercarpet": [
           {
            "marker": {
             "colorbar": {
              "outlinewidth": 0,
              "ticks": ""
             }
            },
            "type": "scattercarpet"
           }
          ],
          "scattergeo": [
           {
            "marker": {
             "colorbar": {
              "outlinewidth": 0,
              "ticks": ""
             }
            },
            "type": "scattergeo"
           }
          ],
          "scattergl": [
           {
            "marker": {
             "colorbar": {
              "outlinewidth": 0,
              "ticks": ""
             }
            },
            "type": "scattergl"
           }
          ],
          "scattermapbox": [
           {
            "marker": {
             "colorbar": {
              "outlinewidth": 0,
              "ticks": ""
             }
            },
            "type": "scattermapbox"
           }
          ],
          "scatterpolar": [
           {
            "marker": {
             "colorbar": {
              "outlinewidth": 0,
              "ticks": ""
             }
            },
            "type": "scatterpolar"
           }
          ],
          "scatterpolargl": [
           {
            "marker": {
             "colorbar": {
              "outlinewidth": 0,
              "ticks": ""
             }
            },
            "type": "scatterpolargl"
           }
          ],
          "scatterternary": [
           {
            "marker": {
             "colorbar": {
              "outlinewidth": 0,
              "ticks": ""
             }
            },
            "type": "scatterternary"
           }
          ],
          "surface": [
           {
            "colorbar": {
             "outlinewidth": 0,
             "ticks": ""
            },
            "colorscale": [
             [
              0,
              "#0d0887"
             ],
             [
              0.1111111111111111,
              "#46039f"
             ],
             [
              0.2222222222222222,
              "#7201a8"
             ],
             [
              0.3333333333333333,
              "#9c179e"
             ],
             [
              0.4444444444444444,
              "#bd3786"
             ],
             [
              0.5555555555555556,
              "#d8576b"
             ],
             [
              0.6666666666666666,
              "#ed7953"
             ],
             [
              0.7777777777777778,
              "#fb9f3a"
             ],
             [
              0.8888888888888888,
              "#fdca26"
             ],
             [
              1,
              "#f0f921"
             ]
            ],
            "type": "surface"
           }
          ],
          "table": [
           {
            "cells": {
             "fill": {
              "color": "#EBF0F8"
             },
             "line": {
              "color": "white"
             }
            },
            "header": {
             "fill": {
              "color": "#C8D4E3"
             },
             "line": {
              "color": "white"
             }
            },
            "type": "table"
           }
          ]
         },
         "layout": {
          "annotationdefaults": {
           "arrowcolor": "#2a3f5f",
           "arrowhead": 0,
           "arrowwidth": 1
          },
          "autotypenumbers": "strict",
          "coloraxis": {
           "colorbar": {
            "outlinewidth": 0,
            "ticks": ""
           }
          },
          "colorscale": {
           "diverging": [
            [
             0,
             "#8e0152"
            ],
            [
             0.1,
             "#c51b7d"
            ],
            [
             0.2,
             "#de77ae"
            ],
            [
             0.3,
             "#f1b6da"
            ],
            [
             0.4,
             "#fde0ef"
            ],
            [
             0.5,
             "#f7f7f7"
            ],
            [
             0.6,
             "#e6f5d0"
            ],
            [
             0.7,
             "#b8e186"
            ],
            [
             0.8,
             "#7fbc41"
            ],
            [
             0.9,
             "#4d9221"
            ],
            [
             1,
             "#276419"
            ]
           ],
           "sequential": [
            [
             0,
             "#0d0887"
            ],
            [
             0.1111111111111111,
             "#46039f"
            ],
            [
             0.2222222222222222,
             "#7201a8"
            ],
            [
             0.3333333333333333,
             "#9c179e"
            ],
            [
             0.4444444444444444,
             "#bd3786"
            ],
            [
             0.5555555555555556,
             "#d8576b"
            ],
            [
             0.6666666666666666,
             "#ed7953"
            ],
            [
             0.7777777777777778,
             "#fb9f3a"
            ],
            [
             0.8888888888888888,
             "#fdca26"
            ],
            [
             1,
             "#f0f921"
            ]
           ],
           "sequentialminus": [
            [
             0,
             "#0d0887"
            ],
            [
             0.1111111111111111,
             "#46039f"
            ],
            [
             0.2222222222222222,
             "#7201a8"
            ],
            [
             0.3333333333333333,
             "#9c179e"
            ],
            [
             0.4444444444444444,
             "#bd3786"
            ],
            [
             0.5555555555555556,
             "#d8576b"
            ],
            [
             0.6666666666666666,
             "#ed7953"
            ],
            [
             0.7777777777777778,
             "#fb9f3a"
            ],
            [
             0.8888888888888888,
             "#fdca26"
            ],
            [
             1,
             "#f0f921"
            ]
           ]
          },
          "colorway": [
           "#636efa",
           "#EF553B",
           "#00cc96",
           "#ab63fa",
           "#FFA15A",
           "#19d3f3",
           "#FF6692",
           "#B6E880",
           "#FF97FF",
           "#FECB52"
          ],
          "font": {
           "color": "#2a3f5f"
          },
          "geo": {
           "bgcolor": "white",
           "lakecolor": "white",
           "landcolor": "#E5ECF6",
           "showlakes": true,
           "showland": true,
           "subunitcolor": "white"
          },
          "hoverlabel": {
           "align": "left"
          },
          "hovermode": "closest",
          "mapbox": {
           "style": "light"
          },
          "paper_bgcolor": "white",
          "plot_bgcolor": "#E5ECF6",
          "polar": {
           "angularaxis": {
            "gridcolor": "white",
            "linecolor": "white",
            "ticks": ""
           },
           "bgcolor": "#E5ECF6",
           "radialaxis": {
            "gridcolor": "white",
            "linecolor": "white",
            "ticks": ""
           }
          },
          "scene": {
           "xaxis": {
            "backgroundcolor": "#E5ECF6",
            "gridcolor": "white",
            "gridwidth": 2,
            "linecolor": "white",
            "showbackground": true,
            "ticks": "",
            "zerolinecolor": "white"
           },
           "yaxis": {
            "backgroundcolor": "#E5ECF6",
            "gridcolor": "white",
            "gridwidth": 2,
            "linecolor": "white",
            "showbackground": true,
            "ticks": "",
            "zerolinecolor": "white"
           },
           "zaxis": {
            "backgroundcolor": "#E5ECF6",
            "gridcolor": "white",
            "gridwidth": 2,
            "linecolor": "white",
            "showbackground": true,
            "ticks": "",
            "zerolinecolor": "white"
           }
          },
          "shapedefaults": {
           "line": {
            "color": "#2a3f5f"
           }
          },
          "ternary": {
           "aaxis": {
            "gridcolor": "white",
            "linecolor": "white",
            "ticks": ""
           },
           "baxis": {
            "gridcolor": "white",
            "linecolor": "white",
            "ticks": ""
           },
           "bgcolor": "#E5ECF6",
           "caxis": {
            "gridcolor": "white",
            "linecolor": "white",
            "ticks": ""
           }
          },
          "title": {
           "x": 0.05
          },
          "xaxis": {
           "automargin": true,
           "gridcolor": "white",
           "linecolor": "white",
           "ticks": "",
           "title": {
            "standoff": 15
           },
           "zerolinecolor": "white",
           "zerolinewidth": 2
          },
          "yaxis": {
           "automargin": true,
           "gridcolor": "white",
           "linecolor": "white",
           "ticks": "",
           "title": {
            "standoff": 15
           },
           "zerolinecolor": "white",
           "zerolinewidth": 2
          }
         }
        },
        "title": {
         "text": "Box Plot"
        },
        "width": 500
       }
      }
     },
     "metadata": {},
     "output_type": "display_data"
    }
   ],
   "source": [
    "fig = go.Figure()\n",
    "fig.add_trace(go.Box(y=df[\"Sample\"], \n",
    "                     lowerfence=[-2.],\n",
    "                     upperfence=[2.],\n",
    "                     boxmean=True,\n",
    "                     notchwidth=0.5,\n",
    "                     notched=True, \n",
    "                    #  marker_color='green', \n",
    "                    #  boxpoints=\"outliers\",\n",
    "                     name='Normal',\n",
    "                     ))\n",
    "fig.update_layout(title='Box Plot', \n",
    "                  height = 700, width = 500,)"
   ]
  },
  {
   "cell_type": "code",
   "execution_count": null,
   "metadata": {},
   "outputs": [],
   "source": []
  }
 ],
 "metadata": {
  "kernelspec": {
   "display_name": ".venv",
   "language": "python",
   "name": "python3"
  },
  "language_info": {
   "codemirror_mode": {
    "name": "ipython",
    "version": 3
   },
   "file_extension": ".py",
   "mimetype": "text/x-python",
   "name": "python",
   "nbconvert_exporter": "python",
   "pygments_lexer": "ipython3",
   "version": "3.11.4"
  }
 },
 "nbformat": 4,
 "nbformat_minor": 2
}
