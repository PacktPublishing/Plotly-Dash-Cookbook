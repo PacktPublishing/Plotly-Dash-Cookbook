{
 "cells": [
  {
   "cell_type": "markdown",
   "metadata": {},
   "source": [
    "# Using Violin Plots as an alternative to Box Plots"
   ]
  },
  {
   "cell_type": "markdown",
   "metadata": {},
   "source": [
    "A **violin plot** is a data visualization tool that combines the features of a box plot with a [kernel density](https://en.wikipedia.org/wiki/Kernel_density_estimation#:~:text=In%20statistics%2C%20kernel%20density%20estimation,based%20on%20kernels%20as%20weights.) plot to provide a richer representation of the distribution of a dataset. The central part of a violin plot contains a box plot, showing the median, interquartile range (IQR), and potential outliers, while the surrounding shape mirrors the density of the data, displaying how frequently data points occur at different values. This dual representation allows viewers to observe both the summary statistics (like in a box plot) and the full distribution shape, such as multimodality or skewness, which can be missed in simpler plots. The width of the violin at any given point reflects the density of the data, with wider sections indicating a higher concentration of data points.\n",
    "\n",
    "Violin plots are particularly useful when you're comparing the distributions of multiple groups, as they offer a more detailed view of the data's spread and shape than a box plot alone. They are commonly used in exploratory data analysis, especially when it is important to understand the **distribution shape**, not just the summary statistics. For example, in a dataset with multiple peaks (bimodal or multimodal data), a violin plot would clearly show these multiple modes, while a box plot would not. This makes them valuable in fields like biology, finance, or any area involving complex datasets where understanding subtle variations in distribution is critical.\n",
    "\n",
    "However, violin plots may not be appropriate in every situation. One potential drawback is that the inclusion of density estimates can make the plot harder to interpret, especially for non-expert audiences unfamiliar with the concept of kernel density estimation. In such cases, the visual complexity of a violin plot might obscure rather than clarify the data. Additionally, if the dataset is small, the density estimation may not be accurate, potentially misleading viewers about the true distribution of the data. Violin plots also don’t always provide a clear sense of individual data points, which may be critical in smaller samples. For small datasets or when you need to emphasize individual data values and outliers, a traditional box plot or a box plot combined with jitter might be more appropriate choices."
   ]
  },
  {
   "cell_type": "markdown",
   "metadata": {},
   "source": [
    "## Getting ready\n",
    "\n",
    "\n",
    "In addition to `plotly`, `numpy` and `pandas`, make sure the `scipy` Python library avaiable in your Python environment\n",
    "You can install it using the command:"
   ]
  },
  {
   "cell_type": "markdown",
   "metadata": {},
   "source": [
    "```\n",
    "pip install scipy \n",
    "```"
   ]
  },
  {
   "cell_type": "markdown",
   "metadata": {},
   "source": [
    "1. Import the Python modules `numpy`, `pandas`. Import the [`norm`](https://docs.scipy.org/doc/scipy/reference/generated/scipy.stats.norm.html) object from `scipy.stats`. This object will allow us to generate random samples from a normal distribution. This will help us to create data sets to be used in this recipe."
   ]
  },
  {
   "cell_type": "code",
   "execution_count": 1,
   "metadata": {},
   "outputs": [],
   "source": [
    "import numpy as np\n",
    "import pandas as pd\n",
    "from scipy.stats import norm, t"
   ]
  },
  {
   "cell_type": "markdown",
   "metadata": {},
   "source": [
    "2. Create a data set to be used in this recipe"
   ]
  },
  {
   "cell_type": "code",
   "execution_count": 2,
   "metadata": {},
   "outputs": [],
   "source": [
    "n = 200\n",
    "sample1 = norm(loc=2).rvs(n)\n",
    "sample2 = t(df=3).rvs(n)"
   ]
  },
  {
   "cell_type": "code",
   "execution_count": 3,
   "metadata": {},
   "outputs": [],
   "source": [
    "samples =  np.concatenate( (sample1, sample2))\n",
    "labels = ['Normal']*n + ['t-Student']*n \n",
    "data = pd.DataFrame({'Data': samples, 'Label':labels})"
   ]
  },
  {
   "cell_type": "markdown",
   "metadata": {},
   "source": [
    "## How to do it"
   ]
  },
  {
   "cell_type": "markdown",
   "metadata": {},
   "source": [
    "1. Import the `plotly.express` module as `px`"
   ]
  },
  {
   "cell_type": "code",
   "execution_count": 4,
   "metadata": {},
   "outputs": [],
   "source": [
    "import plotly.express as px"
   ]
  },
  {
   "cell_type": "code",
   "execution_count": 5,
   "metadata": {},
   "outputs": [],
   "source": [
    "df = data"
   ]
  },
  {
   "cell_type": "markdown",
   "metadata": {},
   "source": [
    "1. Create a simple violin plot comparing the two samples by using the function `violin`. Make sure you pass the argument `color` to differentiate the samples"
   ]
  },
  {
   "cell_type": "code",
   "execution_count": 6,
   "metadata": {},
   "outputs": [
    {
     "data": {
      "application/vnd.plotly.v1+json": {
       "config": {
        "plotlyServerURL": "https://plot.ly"
       },
       "data": [
        {
         "alignmentgroup": "True",
         "box": {
          "visible": false
         },
         "hovertemplate": "Label=Normal<br>Data=%{y}<extra></extra>",
         "legendgroup": "Normal",
         "marker": {
          "color": "#636efa"
         },
         "name": "Normal",
         "offsetgroup": "Normal",
         "orientation": "v",
         "scalegroup": "True",
         "showlegend": true,
         "type": "violin",
         "x0": " ",
         "xaxis": "x",
         "y": [
          2.1448352410898437,
          1.812062337872311,
          1.6488223566553466,
          0.6383520097739852,
          1.3850895932539236,
          1.9878156635393824,
          2.882980826249238,
          -0.42530427396596027,
          1.7929549857509943,
          3.78959539581666,
          1.073154712193836,
          3.0224917157527464,
          3.8930275852927005,
          0.5215360713906942,
          2.9433606501705585,
          1.320571720914125,
          2.355280429792817,
          2.051523713885342,
          0.8011775334001139,
          4.501280419651131,
          3.285652575443162,
          1.344054583903116,
          2.5633217625784743,
          0.013915131720859897,
          2.8403307182120603,
          2.9755692798626647,
          2.276105537957386,
          1.6640119533496447,
          2.2458350719901388,
          2.0592592164616748,
          1.5059161412481548,
          0.9459755513758641,
          1.5579721960831934,
          2.510368580276934,
          2.1363375477014395,
          0.47931269708959756,
          1.8466747325007604,
          0.7841008228769961,
          0.4445231914030272,
          2.1060307743469373,
          0.28911968385028164,
          2.639166582342756,
          2.2611810268061037,
          0.8672276703752413,
          2.7770888296829663,
          1.0642480062829702,
          3.4416813935832664,
          2.058359099142134,
          2.724646328211013,
          2.4109293517799184,
          2.8076186844694746,
          1.2669149490374856,
          1.5946513210282465,
          2.0156936142732595,
          4.068062899879825,
          2.014587807206504,
          2.884557044992201,
          1.1771939528798239,
          1.2981358498948743,
          2.4077364493501565,
          3.0372790046077416,
          0.32779644995155843,
          1.3454964281907558,
          1.4015576004639556,
          2.220234382278142,
          1.072531364713253,
          3.3613269417119724,
          2.0279669873560993,
          3.492322326850484,
          1.7465702238794685,
          3.250651912090219,
          2.958282118732861,
          2.167004809379246,
          -0.3724899498136178,
          2.8622802819342734,
          1.828809528797068,
          3.2154000449039475,
          1.290413683742523,
          1.9698479973963334,
          2.717676720548606,
          2.0328269808393316,
          2.9666398662373386,
          1.7894343732830806,
          4.512983019595203,
          1.511410124011711,
          2.0278949037784804,
          3.0320114912139404,
          3.4325191622408244,
          1.7529561797306812,
          3.9313568041201856,
          0.6682694698604486,
          1.7726505995441306,
          1.4355543588564204,
          1.7816247305039385,
          1.861296574447409,
          2.5736336957952766,
          1.4388426961757905,
          -0.27712791500112477,
          1.2684313584068483,
          2.464726380100814,
          2.7591939288637337,
          0.9281680759058382,
          2.461855557142363,
          2.4571968422271144,
          1.490481341324251,
          2.4880256998976185,
          2.8089582949554313,
          1.0103551394934536,
          2.112828490566791,
          2.6856571369333837,
          2.681478416049845,
          0.541200467380017,
          1.6703106929035658,
          2.3006128696408847,
          1.073116968510472,
          1.3043390775679606,
          2.3324743958431506,
          1.8727927694097817,
          3.7630078484529186,
          0.44525233935448005,
          0.9427622211154778,
          1.2407812136651437,
          2.7223030146320975,
          3.6444216111982786,
          3.88948262993308,
          0.38162858370922303,
          -0.9123487818974407,
          0.9921325945795041,
          3.2037838393049003,
          2.6528911457216866,
          2.4229849072736265,
          2.1241066840233147,
          1.2148557510995994,
          3.213687090993716,
          2.6321934016674353,
          1.5297901480880232,
          -0.8122339201646325,
          -0.2546825756859361,
          2.8383168563447265,
          0.054080108331132415,
          2.961388543425668,
          1.5793185442316244,
          1.575957492065887,
          2.4649531499368798,
          3.8835255866685205,
          3.212589737297795,
          2.90540642739278,
          2.0746367179593617,
          0.5853552037202634,
          2.7133015636836113,
          2.7404021155742986,
          1.6282040988722053,
          1.4758997595291241,
          1.7298531506417778,
          3.232776088013285,
          2.037437228644149,
          2.83959105110852,
          1.0331023939748913,
          1.5004967128465656,
          2.877054619148736,
          1.5035802538146796,
          -0.0844649079098252,
          -0.20302038548429557,
          0.6553037738058096,
          2.4029612186545273,
          1.3951944904658724,
          0.8224523295832902,
          1.0779499952194365,
          2.2752294124572026,
          1.407827896009517,
          1.5199621626262831,
          4.998484927104643,
          2.8202015814507853,
          3.4981210607560236,
          1.82376647396997,
          2.348575126265902,
          1.6720579021774593,
          3.3344114300277363,
          1.9604061189312774,
          1.9387840273784258,
          1.5497589730183448,
          2.382371815787194,
          1.9572406487115643,
          3.510945888591035,
          1.8430540244910985,
          2.250105638089431,
          1.837861404846933,
          3.0322832878493715,
          1.275914986920429,
          1.2554279808553537,
          -1.0609285378227278,
          2.650703886331369,
          0.2895022680749868,
          3.922643658753358,
          3.209774253367411,
          1.6603012163304578,
          2.931112999262301,
          1.4453919007782132,
          1.3930855650377503,
          1.8692852206157908
         ],
         "y0": " ",
         "yaxis": "y"
        },
        {
         "alignmentgroup": "True",
         "box": {
          "visible": false
         },
         "hovertemplate": "Label=t-Student<br>Data=%{y}<extra></extra>",
         "legendgroup": "t-Student",
         "marker": {
          "color": "#EF553B"
         },
         "name": "t-Student",
         "offsetgroup": "t-Student",
         "orientation": "v",
         "scalegroup": "True",
         "showlegend": true,
         "type": "violin",
         "x0": " ",
         "xaxis": "x",
         "y": [
          -0.09653810421423031,
          0.07751214615542559,
          0.19345883766940522,
          2.0179947760356556,
          0.991876893101285,
          -0.32211472335193037,
          -3.471545137926429,
          0.17037107654023043,
          -2.367081188271045,
          -0.5238146816875762,
          -0.9246242000448966,
          0.5458911262727042,
          -0.5472875637846676,
          -2.7138700852794106,
          0.06496748979871966,
          0.8876146014298789,
          -0.6506141244285795,
          -1.8787677569369958,
          -7.014922857678014,
          -2.4967748870690025,
          0.15774689580992934,
          0.4795894745455748,
          -0.14729018379356176,
          -1.9252564872282516,
          -1.011239383382226,
          1.055589350280956,
          2.1764704170530282,
          2.5870153291714724,
          -0.4166981734729009,
          -1.5725092761782915,
          -0.7522006314428015,
          -1.1862943328174427,
          -0.1530556833025442,
          -0.6683614398338816,
          -1.6375526264120985,
          -1.7164881322813526,
          0.14552583104382516,
          -1.440606564645991,
          1.058274308235468,
          -0.5048058765709675,
          1.5778106820238584,
          1.4434857907379244,
          0.7076693007620211,
          -0.8076101069027543,
          -0.6522601379179523,
          -0.2469282994327452,
          -1.0707349573457186,
          0.3582213027574397,
          0.9725780460504533,
          -0.7457620261706895,
          -0.14566481394277245,
          -1.605165566235269,
          3.8585436835997924,
          -0.18482013919945067,
          1.3392245821362523,
          -1.6115946962265235,
          0.28185023064859643,
          0.28467880117613553,
          1.7909573844442226,
          2.5662188572938116,
          1.3408814105416365,
          0.8810738307857818,
          -1.1514380736461187,
          0.1951980395940728,
          -0.13885865556570381,
          0.582140414073604,
          0.13241125314209246,
          2.281980627411205,
          -0.6427184181887908,
          0.9248665314967439,
          2.46451739640618,
          1.133226043882831,
          0.35503358702326127,
          0.7035992790203395,
          0.3023022299101454,
          -0.053708349955522566,
          0.6280011084402214,
          0.560051344787312,
          0.507692963077803,
          0.17357499627749146,
          1.0142418979472507,
          1.017666848403959,
          -1.330230849366075,
          0.6994978543525194,
          -0.07858013192039262,
          0.23474351206954977,
          -5.124046191772931,
          -1.168243471890053,
          -0.41825493274241926,
          0.6547792108235284,
          -0.5069659799537539,
          0.27016034933042454,
          -1.5881418176366675,
          -0.25581145456424925,
          -0.9670284517516372,
          -1.216055864716631,
          -1.3466682605782456,
          2.1331530159724936,
          0.7902363700849286,
          0.8041122040209232,
          -0.7421354232440099,
          -1.8804275805824453,
          1.1460511745529,
          -0.1300398265400213,
          0.3920920239833112,
          0.2646292901412083,
          -0.7747009297844754,
          -0.26513284002372944,
          0.2572731594874694,
          -2.677060942415512,
          -0.6593702047437806,
          0.15196457693478554,
          -0.1887634643964875,
          -1.0469668805285868,
          -3.5787601517254095,
          -0.01676763817872639,
          -0.7368435555666392,
          0.055330546133328225,
          -0.6647705335850738,
          -0.05661432358556272,
          -0.39386261231256076,
          -0.20248979748928483,
          -0.9874373689696749,
          0.840653740268591,
          1.0512445757319149,
          0.882778441644591,
          1.797203975896927,
          -0.5528023029035531,
          0.07253576140569559,
          -0.44395949634990467,
          1.754691794124901,
          0.6763997493317636,
          -0.4329185073810288,
          -0.31654258258324813,
          0.7561504384535077,
          -1.3812088216505682,
          0.5950976417943096,
          -1.5561197735229215,
          -0.2998826550244394,
          0.07230849358744112,
          -0.5420201478639451,
          -0.5912594111856687,
          0.6934647980606861,
          0.5390800781488231,
          1.7470506432381439,
          -0.03450745907114956,
          -0.707181173330097,
          -0.044665008961285876,
          0.4992824926000011,
          0.2900182674234592,
          -0.26402137876847886,
          0.7134854838263771,
          0.8697486022017016,
          -0.32494581732031846,
          -1.8258953605818218,
          -0.9714089742848285,
          0.1364875202749454,
          0.8085089711130212,
          -1.189940372542329,
          1.1415922002990941,
          0.31303878909652083,
          0.07872740592811452,
          -0.8804850707698494,
          0.945771020113734,
          0.9427363553366049,
          2.8908017501796586,
          -0.7147150457452619,
          -0.4354516476572672,
          0.2699627387231822,
          1.0788520695229074,
          1.9425369782901003,
          1.53743023968119,
          0.704029202957127,
          0.18835011817526703,
          0.06321745990753334,
          -0.9622731039462551,
          0.26536519263403735,
          0.8535497644365357,
          0.09128468178231858,
          -0.4615436569006375,
          -0.26316627011198274,
          0.02802469580279391,
          1.452081450461478,
          -0.9488734050265268,
          -0.9009223677658657,
          0.3799221442537563,
          -1.163730677310039,
          -1.144888780308993,
          0.9161565284817642,
          2.7215286803927055,
          0.9049618893283375,
          0.0583782412116841,
          0.5307714686865308,
          -1.1219776773436891,
          -2.3998330213190298,
          2.1048335021264672,
          0.7426758999559613,
          0.1709158510501765,
          -0.4194228756857665,
          -0.6358475560663636
         ],
         "y0": " ",
         "yaxis": "y"
        }
       ],
       "layout": {
        "height": 500,
        "legend": {
         "title": {
          "text": "Label"
         },
         "tracegroupgap": 0
        },
        "template": {
         "data": {
          "bar": [
           {
            "error_x": {
             "color": "#2a3f5f"
            },
            "error_y": {
             "color": "#2a3f5f"
            },
            "marker": {
             "line": {
              "color": "#E5ECF6",
              "width": 0.5
             },
             "pattern": {
              "fillmode": "overlay",
              "size": 10,
              "solidity": 0.2
             }
            },
            "type": "bar"
           }
          ],
          "barpolar": [
           {
            "marker": {
             "line": {
              "color": "#E5ECF6",
              "width": 0.5
             },
             "pattern": {
              "fillmode": "overlay",
              "size": 10,
              "solidity": 0.2
             }
            },
            "type": "barpolar"
           }
          ],
          "carpet": [
           {
            "aaxis": {
             "endlinecolor": "#2a3f5f",
             "gridcolor": "white",
             "linecolor": "white",
             "minorgridcolor": "white",
             "startlinecolor": "#2a3f5f"
            },
            "baxis": {
             "endlinecolor": "#2a3f5f",
             "gridcolor": "white",
             "linecolor": "white",
             "minorgridcolor": "white",
             "startlinecolor": "#2a3f5f"
            },
            "type": "carpet"
           }
          ],
          "choropleth": [
           {
            "colorbar": {
             "outlinewidth": 0,
             "ticks": ""
            },
            "type": "choropleth"
           }
          ],
          "contour": [
           {
            "colorbar": {
             "outlinewidth": 0,
             "ticks": ""
            },
            "colorscale": [
             [
              0,
              "#0d0887"
             ],
             [
              0.1111111111111111,
              "#46039f"
             ],
             [
              0.2222222222222222,
              "#7201a8"
             ],
             [
              0.3333333333333333,
              "#9c179e"
             ],
             [
              0.4444444444444444,
              "#bd3786"
             ],
             [
              0.5555555555555556,
              "#d8576b"
             ],
             [
              0.6666666666666666,
              "#ed7953"
             ],
             [
              0.7777777777777778,
              "#fb9f3a"
             ],
             [
              0.8888888888888888,
              "#fdca26"
             ],
             [
              1,
              "#f0f921"
             ]
            ],
            "type": "contour"
           }
          ],
          "contourcarpet": [
           {
            "colorbar": {
             "outlinewidth": 0,
             "ticks": ""
            },
            "type": "contourcarpet"
           }
          ],
          "heatmap": [
           {
            "colorbar": {
             "outlinewidth": 0,
             "ticks": ""
            },
            "colorscale": [
             [
              0,
              "#0d0887"
             ],
             [
              0.1111111111111111,
              "#46039f"
             ],
             [
              0.2222222222222222,
              "#7201a8"
             ],
             [
              0.3333333333333333,
              "#9c179e"
             ],
             [
              0.4444444444444444,
              "#bd3786"
             ],
             [
              0.5555555555555556,
              "#d8576b"
             ],
             [
              0.6666666666666666,
              "#ed7953"
             ],
             [
              0.7777777777777778,
              "#fb9f3a"
             ],
             [
              0.8888888888888888,
              "#fdca26"
             ],
             [
              1,
              "#f0f921"
             ]
            ],
            "type": "heatmap"
           }
          ],
          "heatmapgl": [
           {
            "colorbar": {
             "outlinewidth": 0,
             "ticks": ""
            },
            "colorscale": [
             [
              0,
              "#0d0887"
             ],
             [
              0.1111111111111111,
              "#46039f"
             ],
             [
              0.2222222222222222,
              "#7201a8"
             ],
             [
              0.3333333333333333,
              "#9c179e"
             ],
             [
              0.4444444444444444,
              "#bd3786"
             ],
             [
              0.5555555555555556,
              "#d8576b"
             ],
             [
              0.6666666666666666,
              "#ed7953"
             ],
             [
              0.7777777777777778,
              "#fb9f3a"
             ],
             [
              0.8888888888888888,
              "#fdca26"
             ],
             [
              1,
              "#f0f921"
             ]
            ],
            "type": "heatmapgl"
           }
          ],
          "histogram": [
           {
            "marker": {
             "pattern": {
              "fillmode": "overlay",
              "size": 10,
              "solidity": 0.2
             }
            },
            "type": "histogram"
           }
          ],
          "histogram2d": [
           {
            "colorbar": {
             "outlinewidth": 0,
             "ticks": ""
            },
            "colorscale": [
             [
              0,
              "#0d0887"
             ],
             [
              0.1111111111111111,
              "#46039f"
             ],
             [
              0.2222222222222222,
              "#7201a8"
             ],
             [
              0.3333333333333333,
              "#9c179e"
             ],
             [
              0.4444444444444444,
              "#bd3786"
             ],
             [
              0.5555555555555556,
              "#d8576b"
             ],
             [
              0.6666666666666666,
              "#ed7953"
             ],
             [
              0.7777777777777778,
              "#fb9f3a"
             ],
             [
              0.8888888888888888,
              "#fdca26"
             ],
             [
              1,
              "#f0f921"
             ]
            ],
            "type": "histogram2d"
           }
          ],
          "histogram2dcontour": [
           {
            "colorbar": {
             "outlinewidth": 0,
             "ticks": ""
            },
            "colorscale": [
             [
              0,
              "#0d0887"
             ],
             [
              0.1111111111111111,
              "#46039f"
             ],
             [
              0.2222222222222222,
              "#7201a8"
             ],
             [
              0.3333333333333333,
              "#9c179e"
             ],
             [
              0.4444444444444444,
              "#bd3786"
             ],
             [
              0.5555555555555556,
              "#d8576b"
             ],
             [
              0.6666666666666666,
              "#ed7953"
             ],
             [
              0.7777777777777778,
              "#fb9f3a"
             ],
             [
              0.8888888888888888,
              "#fdca26"
             ],
             [
              1,
              "#f0f921"
             ]
            ],
            "type": "histogram2dcontour"
           }
          ],
          "mesh3d": [
           {
            "colorbar": {
             "outlinewidth": 0,
             "ticks": ""
            },
            "type": "mesh3d"
           }
          ],
          "parcoords": [
           {
            "line": {
             "colorbar": {
              "outlinewidth": 0,
              "ticks": ""
             }
            },
            "type": "parcoords"
           }
          ],
          "pie": [
           {
            "automargin": true,
            "type": "pie"
           }
          ],
          "scatter": [
           {
            "fillpattern": {
             "fillmode": "overlay",
             "size": 10,
             "solidity": 0.2
            },
            "type": "scatter"
           }
          ],
          "scatter3d": [
           {
            "line": {
             "colorbar": {
              "outlinewidth": 0,
              "ticks": ""
             }
            },
            "marker": {
             "colorbar": {
              "outlinewidth": 0,
              "ticks": ""
             }
            },
            "type": "scatter3d"
           }
          ],
          "scattercarpet": [
           {
            "marker": {
             "colorbar": {
              "outlinewidth": 0,
              "ticks": ""
             }
            },
            "type": "scattercarpet"
           }
          ],
          "scattergeo": [
           {
            "marker": {
             "colorbar": {
              "outlinewidth": 0,
              "ticks": ""
             }
            },
            "type": "scattergeo"
           }
          ],
          "scattergl": [
           {
            "marker": {
             "colorbar": {
              "outlinewidth": 0,
              "ticks": ""
             }
            },
            "type": "scattergl"
           }
          ],
          "scattermapbox": [
           {
            "marker": {
             "colorbar": {
              "outlinewidth": 0,
              "ticks": ""
             }
            },
            "type": "scattermapbox"
           }
          ],
          "scatterpolar": [
           {
            "marker": {
             "colorbar": {
              "outlinewidth": 0,
              "ticks": ""
             }
            },
            "type": "scatterpolar"
           }
          ],
          "scatterpolargl": [
           {
            "marker": {
             "colorbar": {
              "outlinewidth": 0,
              "ticks": ""
             }
            },
            "type": "scatterpolargl"
           }
          ],
          "scatterternary": [
           {
            "marker": {
             "colorbar": {
              "outlinewidth": 0,
              "ticks": ""
             }
            },
            "type": "scatterternary"
           }
          ],
          "surface": [
           {
            "colorbar": {
             "outlinewidth": 0,
             "ticks": ""
            },
            "colorscale": [
             [
              0,
              "#0d0887"
             ],
             [
              0.1111111111111111,
              "#46039f"
             ],
             [
              0.2222222222222222,
              "#7201a8"
             ],
             [
              0.3333333333333333,
              "#9c179e"
             ],
             [
              0.4444444444444444,
              "#bd3786"
             ],
             [
              0.5555555555555556,
              "#d8576b"
             ],
             [
              0.6666666666666666,
              "#ed7953"
             ],
             [
              0.7777777777777778,
              "#fb9f3a"
             ],
             [
              0.8888888888888888,
              "#fdca26"
             ],
             [
              1,
              "#f0f921"
             ]
            ],
            "type": "surface"
           }
          ],
          "table": [
           {
            "cells": {
             "fill": {
              "color": "#EBF0F8"
             },
             "line": {
              "color": "white"
             }
            },
            "header": {
             "fill": {
              "color": "#C8D4E3"
             },
             "line": {
              "color": "white"
             }
            },
            "type": "table"
           }
          ]
         },
         "layout": {
          "annotationdefaults": {
           "arrowcolor": "#2a3f5f",
           "arrowhead": 0,
           "arrowwidth": 1
          },
          "autotypenumbers": "strict",
          "coloraxis": {
           "colorbar": {
            "outlinewidth": 0,
            "ticks": ""
           }
          },
          "colorscale": {
           "diverging": [
            [
             0,
             "#8e0152"
            ],
            [
             0.1,
             "#c51b7d"
            ],
            [
             0.2,
             "#de77ae"
            ],
            [
             0.3,
             "#f1b6da"
            ],
            [
             0.4,
             "#fde0ef"
            ],
            [
             0.5,
             "#f7f7f7"
            ],
            [
             0.6,
             "#e6f5d0"
            ],
            [
             0.7,
             "#b8e186"
            ],
            [
             0.8,
             "#7fbc41"
            ],
            [
             0.9,
             "#4d9221"
            ],
            [
             1,
             "#276419"
            ]
           ],
           "sequential": [
            [
             0,
             "#0d0887"
            ],
            [
             0.1111111111111111,
             "#46039f"
            ],
            [
             0.2222222222222222,
             "#7201a8"
            ],
            [
             0.3333333333333333,
             "#9c179e"
            ],
            [
             0.4444444444444444,
             "#bd3786"
            ],
            [
             0.5555555555555556,
             "#d8576b"
            ],
            [
             0.6666666666666666,
             "#ed7953"
            ],
            [
             0.7777777777777778,
             "#fb9f3a"
            ],
            [
             0.8888888888888888,
             "#fdca26"
            ],
            [
             1,
             "#f0f921"
            ]
           ],
           "sequentialminus": [
            [
             0,
             "#0d0887"
            ],
            [
             0.1111111111111111,
             "#46039f"
            ],
            [
             0.2222222222222222,
             "#7201a8"
            ],
            [
             0.3333333333333333,
             "#9c179e"
            ],
            [
             0.4444444444444444,
             "#bd3786"
            ],
            [
             0.5555555555555556,
             "#d8576b"
            ],
            [
             0.6666666666666666,
             "#ed7953"
            ],
            [
             0.7777777777777778,
             "#fb9f3a"
            ],
            [
             0.8888888888888888,
             "#fdca26"
            ],
            [
             1,
             "#f0f921"
            ]
           ]
          },
          "colorway": [
           "#636efa",
           "#EF553B",
           "#00cc96",
           "#ab63fa",
           "#FFA15A",
           "#19d3f3",
           "#FF6692",
           "#B6E880",
           "#FF97FF",
           "#FECB52"
          ],
          "font": {
           "color": "#2a3f5f"
          },
          "geo": {
           "bgcolor": "white",
           "lakecolor": "white",
           "landcolor": "#E5ECF6",
           "showlakes": true,
           "showland": true,
           "subunitcolor": "white"
          },
          "hoverlabel": {
           "align": "left"
          },
          "hovermode": "closest",
          "mapbox": {
           "style": "light"
          },
          "paper_bgcolor": "white",
          "plot_bgcolor": "#E5ECF6",
          "polar": {
           "angularaxis": {
            "gridcolor": "white",
            "linecolor": "white",
            "ticks": ""
           },
           "bgcolor": "#E5ECF6",
           "radialaxis": {
            "gridcolor": "white",
            "linecolor": "white",
            "ticks": ""
           }
          },
          "scene": {
           "xaxis": {
            "backgroundcolor": "#E5ECF6",
            "gridcolor": "white",
            "gridwidth": 2,
            "linecolor": "white",
            "showbackground": true,
            "ticks": "",
            "zerolinecolor": "white"
           },
           "yaxis": {
            "backgroundcolor": "#E5ECF6",
            "gridcolor": "white",
            "gridwidth": 2,
            "linecolor": "white",
            "showbackground": true,
            "ticks": "",
            "zerolinecolor": "white"
           },
           "zaxis": {
            "backgroundcolor": "#E5ECF6",
            "gridcolor": "white",
            "gridwidth": 2,
            "linecolor": "white",
            "showbackground": true,
            "ticks": "",
            "zerolinecolor": "white"
           }
          },
          "shapedefaults": {
           "line": {
            "color": "#2a3f5f"
           }
          },
          "ternary": {
           "aaxis": {
            "gridcolor": "white",
            "linecolor": "white",
            "ticks": ""
           },
           "baxis": {
            "gridcolor": "white",
            "linecolor": "white",
            "ticks": ""
           },
           "bgcolor": "#E5ECF6",
           "caxis": {
            "gridcolor": "white",
            "linecolor": "white",
            "ticks": ""
           }
          },
          "title": {
           "x": 0.05
          },
          "xaxis": {
           "automargin": true,
           "gridcolor": "white",
           "linecolor": "white",
           "ticks": "",
           "title": {
            "standoff": 15
           },
           "zerolinecolor": "white",
           "zerolinewidth": 2
          },
          "yaxis": {
           "automargin": true,
           "gridcolor": "white",
           "linecolor": "white",
           "ticks": "",
           "title": {
            "standoff": 15
           },
           "zerolinecolor": "white",
           "zerolinewidth": 2
          }
         }
        },
        "title": {
         "text": "Box Plots"
        },
        "violinmode": "group",
        "width": 800,
        "xaxis": {
         "anchor": "y",
         "domain": [
          0,
          1
         ]
        },
        "yaxis": {
         "anchor": "x",
         "domain": [
          0,
          1
         ],
         "title": {
          "text": "Data"
         }
        }
       }
      }
     },
     "metadata": {},
     "output_type": "display_data"
    }
   ],
   "source": [
    "fig = px.violin(df, y=\"Data\", \n",
    "                color=\"Label\",\n",
    "                height = 500, width = 800,\n",
    "                title='Box Plots')\n",
    "fig.show()"
   ]
  },
  {
   "cell_type": "markdown",
   "metadata": {},
   "source": [
    "2. Customize the colors by using `color_discrete_sequence`. You can pass a specific list of colors or one of the palettes available in plotly express "
   ]
  },
  {
   "cell_type": "code",
   "execution_count": 13,
   "metadata": {},
   "outputs": [
    {
     "data": {
      "application/vnd.plotly.v1+json": {
       "config": {
        "plotlyServerURL": "https://plot.ly"
       },
       "data": [
        {
         "alignmentgroup": "True",
         "box": {
          "visible": false
         },
         "hovertemplate": "Label=Normal<br>Data=%{y}<extra></extra>",
         "legendgroup": "Normal",
         "marker": {
          "color": "teal"
         },
         "name": "Normal",
         "offsetgroup": "Normal",
         "orientation": "v",
         "scalegroup": "True",
         "showlegend": true,
         "type": "violin",
         "x0": " ",
         "xaxis": "x",
         "y": [
          2.1448352410898437,
          1.812062337872311,
          1.6488223566553466,
          0.6383520097739852,
          1.3850895932539236,
          1.9878156635393824,
          2.882980826249238,
          -0.42530427396596027,
          1.7929549857509943,
          3.78959539581666,
          1.073154712193836,
          3.0224917157527464,
          3.8930275852927005,
          0.5215360713906942,
          2.9433606501705585,
          1.320571720914125,
          2.355280429792817,
          2.051523713885342,
          0.8011775334001139,
          4.501280419651131,
          3.285652575443162,
          1.344054583903116,
          2.5633217625784743,
          0.013915131720859897,
          2.8403307182120603,
          2.9755692798626647,
          2.276105537957386,
          1.6640119533496447,
          2.2458350719901388,
          2.0592592164616748,
          1.5059161412481548,
          0.9459755513758641,
          1.5579721960831934,
          2.510368580276934,
          2.1363375477014395,
          0.47931269708959756,
          1.8466747325007604,
          0.7841008228769961,
          0.4445231914030272,
          2.1060307743469373,
          0.28911968385028164,
          2.639166582342756,
          2.2611810268061037,
          0.8672276703752413,
          2.7770888296829663,
          1.0642480062829702,
          3.4416813935832664,
          2.058359099142134,
          2.724646328211013,
          2.4109293517799184,
          2.8076186844694746,
          1.2669149490374856,
          1.5946513210282465,
          2.0156936142732595,
          4.068062899879825,
          2.014587807206504,
          2.884557044992201,
          1.1771939528798239,
          1.2981358498948743,
          2.4077364493501565,
          3.0372790046077416,
          0.32779644995155843,
          1.3454964281907558,
          1.4015576004639556,
          2.220234382278142,
          1.072531364713253,
          3.3613269417119724,
          2.0279669873560993,
          3.492322326850484,
          1.7465702238794685,
          3.250651912090219,
          2.958282118732861,
          2.167004809379246,
          -0.3724899498136178,
          2.8622802819342734,
          1.828809528797068,
          3.2154000449039475,
          1.290413683742523,
          1.9698479973963334,
          2.717676720548606,
          2.0328269808393316,
          2.9666398662373386,
          1.7894343732830806,
          4.512983019595203,
          1.511410124011711,
          2.0278949037784804,
          3.0320114912139404,
          3.4325191622408244,
          1.7529561797306812,
          3.9313568041201856,
          0.6682694698604486,
          1.7726505995441306,
          1.4355543588564204,
          1.7816247305039385,
          1.861296574447409,
          2.5736336957952766,
          1.4388426961757905,
          -0.27712791500112477,
          1.2684313584068483,
          2.464726380100814,
          2.7591939288637337,
          0.9281680759058382,
          2.461855557142363,
          2.4571968422271144,
          1.490481341324251,
          2.4880256998976185,
          2.8089582949554313,
          1.0103551394934536,
          2.112828490566791,
          2.6856571369333837,
          2.681478416049845,
          0.541200467380017,
          1.6703106929035658,
          2.3006128696408847,
          1.073116968510472,
          1.3043390775679606,
          2.3324743958431506,
          1.8727927694097817,
          3.7630078484529186,
          0.44525233935448005,
          0.9427622211154778,
          1.2407812136651437,
          2.7223030146320975,
          3.6444216111982786,
          3.88948262993308,
          0.38162858370922303,
          -0.9123487818974407,
          0.9921325945795041,
          3.2037838393049003,
          2.6528911457216866,
          2.4229849072736265,
          2.1241066840233147,
          1.2148557510995994,
          3.213687090993716,
          2.6321934016674353,
          1.5297901480880232,
          -0.8122339201646325,
          -0.2546825756859361,
          2.8383168563447265,
          0.054080108331132415,
          2.961388543425668,
          1.5793185442316244,
          1.575957492065887,
          2.4649531499368798,
          3.8835255866685205,
          3.212589737297795,
          2.90540642739278,
          2.0746367179593617,
          0.5853552037202634,
          2.7133015636836113,
          2.7404021155742986,
          1.6282040988722053,
          1.4758997595291241,
          1.7298531506417778,
          3.232776088013285,
          2.037437228644149,
          2.83959105110852,
          1.0331023939748913,
          1.5004967128465656,
          2.877054619148736,
          1.5035802538146796,
          -0.0844649079098252,
          -0.20302038548429557,
          0.6553037738058096,
          2.4029612186545273,
          1.3951944904658724,
          0.8224523295832902,
          1.0779499952194365,
          2.2752294124572026,
          1.407827896009517,
          1.5199621626262831,
          4.998484927104643,
          2.8202015814507853,
          3.4981210607560236,
          1.82376647396997,
          2.348575126265902,
          1.6720579021774593,
          3.3344114300277363,
          1.9604061189312774,
          1.9387840273784258,
          1.5497589730183448,
          2.382371815787194,
          1.9572406487115643,
          3.510945888591035,
          1.8430540244910985,
          2.250105638089431,
          1.837861404846933,
          3.0322832878493715,
          1.275914986920429,
          1.2554279808553537,
          -1.0609285378227278,
          2.650703886331369,
          0.2895022680749868,
          3.922643658753358,
          3.209774253367411,
          1.6603012163304578,
          2.931112999262301,
          1.4453919007782132,
          1.3930855650377503,
          1.8692852206157908
         ],
         "y0": " ",
         "yaxis": "y"
        },
        {
         "alignmentgroup": "True",
         "box": {
          "visible": false
         },
         "hovertemplate": "Label=t-Student<br>Data=%{y}<extra></extra>",
         "legendgroup": "t-Student",
         "marker": {
          "color": "purple"
         },
         "name": "t-Student",
         "offsetgroup": "t-Student",
         "orientation": "v",
         "scalegroup": "True",
         "showlegend": true,
         "type": "violin",
         "x0": " ",
         "xaxis": "x",
         "y": [
          -0.09653810421423031,
          0.07751214615542559,
          0.19345883766940522,
          2.0179947760356556,
          0.991876893101285,
          -0.32211472335193037,
          -3.471545137926429,
          0.17037107654023043,
          -2.367081188271045,
          -0.5238146816875762,
          -0.9246242000448966,
          0.5458911262727042,
          -0.5472875637846676,
          -2.7138700852794106,
          0.06496748979871966,
          0.8876146014298789,
          -0.6506141244285795,
          -1.8787677569369958,
          -7.014922857678014,
          -2.4967748870690025,
          0.15774689580992934,
          0.4795894745455748,
          -0.14729018379356176,
          -1.9252564872282516,
          -1.011239383382226,
          1.055589350280956,
          2.1764704170530282,
          2.5870153291714724,
          -0.4166981734729009,
          -1.5725092761782915,
          -0.7522006314428015,
          -1.1862943328174427,
          -0.1530556833025442,
          -0.6683614398338816,
          -1.6375526264120985,
          -1.7164881322813526,
          0.14552583104382516,
          -1.440606564645991,
          1.058274308235468,
          -0.5048058765709675,
          1.5778106820238584,
          1.4434857907379244,
          0.7076693007620211,
          -0.8076101069027543,
          -0.6522601379179523,
          -0.2469282994327452,
          -1.0707349573457186,
          0.3582213027574397,
          0.9725780460504533,
          -0.7457620261706895,
          -0.14566481394277245,
          -1.605165566235269,
          3.8585436835997924,
          -0.18482013919945067,
          1.3392245821362523,
          -1.6115946962265235,
          0.28185023064859643,
          0.28467880117613553,
          1.7909573844442226,
          2.5662188572938116,
          1.3408814105416365,
          0.8810738307857818,
          -1.1514380736461187,
          0.1951980395940728,
          -0.13885865556570381,
          0.582140414073604,
          0.13241125314209246,
          2.281980627411205,
          -0.6427184181887908,
          0.9248665314967439,
          2.46451739640618,
          1.133226043882831,
          0.35503358702326127,
          0.7035992790203395,
          0.3023022299101454,
          -0.053708349955522566,
          0.6280011084402214,
          0.560051344787312,
          0.507692963077803,
          0.17357499627749146,
          1.0142418979472507,
          1.017666848403959,
          -1.330230849366075,
          0.6994978543525194,
          -0.07858013192039262,
          0.23474351206954977,
          -5.124046191772931,
          -1.168243471890053,
          -0.41825493274241926,
          0.6547792108235284,
          -0.5069659799537539,
          0.27016034933042454,
          -1.5881418176366675,
          -0.25581145456424925,
          -0.9670284517516372,
          -1.216055864716631,
          -1.3466682605782456,
          2.1331530159724936,
          0.7902363700849286,
          0.8041122040209232,
          -0.7421354232440099,
          -1.8804275805824453,
          1.1460511745529,
          -0.1300398265400213,
          0.3920920239833112,
          0.2646292901412083,
          -0.7747009297844754,
          -0.26513284002372944,
          0.2572731594874694,
          -2.677060942415512,
          -0.6593702047437806,
          0.15196457693478554,
          -0.1887634643964875,
          -1.0469668805285868,
          -3.5787601517254095,
          -0.01676763817872639,
          -0.7368435555666392,
          0.055330546133328225,
          -0.6647705335850738,
          -0.05661432358556272,
          -0.39386261231256076,
          -0.20248979748928483,
          -0.9874373689696749,
          0.840653740268591,
          1.0512445757319149,
          0.882778441644591,
          1.797203975896927,
          -0.5528023029035531,
          0.07253576140569559,
          -0.44395949634990467,
          1.754691794124901,
          0.6763997493317636,
          -0.4329185073810288,
          -0.31654258258324813,
          0.7561504384535077,
          -1.3812088216505682,
          0.5950976417943096,
          -1.5561197735229215,
          -0.2998826550244394,
          0.07230849358744112,
          -0.5420201478639451,
          -0.5912594111856687,
          0.6934647980606861,
          0.5390800781488231,
          1.7470506432381439,
          -0.03450745907114956,
          -0.707181173330097,
          -0.044665008961285876,
          0.4992824926000011,
          0.2900182674234592,
          -0.26402137876847886,
          0.7134854838263771,
          0.8697486022017016,
          -0.32494581732031846,
          -1.8258953605818218,
          -0.9714089742848285,
          0.1364875202749454,
          0.8085089711130212,
          -1.189940372542329,
          1.1415922002990941,
          0.31303878909652083,
          0.07872740592811452,
          -0.8804850707698494,
          0.945771020113734,
          0.9427363553366049,
          2.8908017501796586,
          -0.7147150457452619,
          -0.4354516476572672,
          0.2699627387231822,
          1.0788520695229074,
          1.9425369782901003,
          1.53743023968119,
          0.704029202957127,
          0.18835011817526703,
          0.06321745990753334,
          -0.9622731039462551,
          0.26536519263403735,
          0.8535497644365357,
          0.09128468178231858,
          -0.4615436569006375,
          -0.26316627011198274,
          0.02802469580279391,
          1.452081450461478,
          -0.9488734050265268,
          -0.9009223677658657,
          0.3799221442537563,
          -1.163730677310039,
          -1.144888780308993,
          0.9161565284817642,
          2.7215286803927055,
          0.9049618893283375,
          0.0583782412116841,
          0.5307714686865308,
          -1.1219776773436891,
          -2.3998330213190298,
          2.1048335021264672,
          0.7426758999559613,
          0.1709158510501765,
          -0.4194228756857665,
          -0.6358475560663636
         ],
         "y0": " ",
         "yaxis": "y"
        }
       ],
       "layout": {
        "height": 500,
        "legend": {
         "title": {
          "text": "Label"
         },
         "tracegroupgap": 0
        },
        "template": {
         "data": {
          "bar": [
           {
            "error_x": {
             "color": "#2a3f5f"
            },
            "error_y": {
             "color": "#2a3f5f"
            },
            "marker": {
             "line": {
              "color": "#E5ECF6",
              "width": 0.5
             },
             "pattern": {
              "fillmode": "overlay",
              "size": 10,
              "solidity": 0.2
             }
            },
            "type": "bar"
           }
          ],
          "barpolar": [
           {
            "marker": {
             "line": {
              "color": "#E5ECF6",
              "width": 0.5
             },
             "pattern": {
              "fillmode": "overlay",
              "size": 10,
              "solidity": 0.2
             }
            },
            "type": "barpolar"
           }
          ],
          "carpet": [
           {
            "aaxis": {
             "endlinecolor": "#2a3f5f",
             "gridcolor": "white",
             "linecolor": "white",
             "minorgridcolor": "white",
             "startlinecolor": "#2a3f5f"
            },
            "baxis": {
             "endlinecolor": "#2a3f5f",
             "gridcolor": "white",
             "linecolor": "white",
             "minorgridcolor": "white",
             "startlinecolor": "#2a3f5f"
            },
            "type": "carpet"
           }
          ],
          "choropleth": [
           {
            "colorbar": {
             "outlinewidth": 0,
             "ticks": ""
            },
            "type": "choropleth"
           }
          ],
          "contour": [
           {
            "colorbar": {
             "outlinewidth": 0,
             "ticks": ""
            },
            "colorscale": [
             [
              0,
              "#0d0887"
             ],
             [
              0.1111111111111111,
              "#46039f"
             ],
             [
              0.2222222222222222,
              "#7201a8"
             ],
             [
              0.3333333333333333,
              "#9c179e"
             ],
             [
              0.4444444444444444,
              "#bd3786"
             ],
             [
              0.5555555555555556,
              "#d8576b"
             ],
             [
              0.6666666666666666,
              "#ed7953"
             ],
             [
              0.7777777777777778,
              "#fb9f3a"
             ],
             [
              0.8888888888888888,
              "#fdca26"
             ],
             [
              1,
              "#f0f921"
             ]
            ],
            "type": "contour"
           }
          ],
          "contourcarpet": [
           {
            "colorbar": {
             "outlinewidth": 0,
             "ticks": ""
            },
            "type": "contourcarpet"
           }
          ],
          "heatmap": [
           {
            "colorbar": {
             "outlinewidth": 0,
             "ticks": ""
            },
            "colorscale": [
             [
              0,
              "#0d0887"
             ],
             [
              0.1111111111111111,
              "#46039f"
             ],
             [
              0.2222222222222222,
              "#7201a8"
             ],
             [
              0.3333333333333333,
              "#9c179e"
             ],
             [
              0.4444444444444444,
              "#bd3786"
             ],
             [
              0.5555555555555556,
              "#d8576b"
             ],
             [
              0.6666666666666666,
              "#ed7953"
             ],
             [
              0.7777777777777778,
              "#fb9f3a"
             ],
             [
              0.8888888888888888,
              "#fdca26"
             ],
             [
              1,
              "#f0f921"
             ]
            ],
            "type": "heatmap"
           }
          ],
          "heatmapgl": [
           {
            "colorbar": {
             "outlinewidth": 0,
             "ticks": ""
            },
            "colorscale": [
             [
              0,
              "#0d0887"
             ],
             [
              0.1111111111111111,
              "#46039f"
             ],
             [
              0.2222222222222222,
              "#7201a8"
             ],
             [
              0.3333333333333333,
              "#9c179e"
             ],
             [
              0.4444444444444444,
              "#bd3786"
             ],
             [
              0.5555555555555556,
              "#d8576b"
             ],
             [
              0.6666666666666666,
              "#ed7953"
             ],
             [
              0.7777777777777778,
              "#fb9f3a"
             ],
             [
              0.8888888888888888,
              "#fdca26"
             ],
             [
              1,
              "#f0f921"
             ]
            ],
            "type": "heatmapgl"
           }
          ],
          "histogram": [
           {
            "marker": {
             "pattern": {
              "fillmode": "overlay",
              "size": 10,
              "solidity": 0.2
             }
            },
            "type": "histogram"
           }
          ],
          "histogram2d": [
           {
            "colorbar": {
             "outlinewidth": 0,
             "ticks": ""
            },
            "colorscale": [
             [
              0,
              "#0d0887"
             ],
             [
              0.1111111111111111,
              "#46039f"
             ],
             [
              0.2222222222222222,
              "#7201a8"
             ],
             [
              0.3333333333333333,
              "#9c179e"
             ],
             [
              0.4444444444444444,
              "#bd3786"
             ],
             [
              0.5555555555555556,
              "#d8576b"
             ],
             [
              0.6666666666666666,
              "#ed7953"
             ],
             [
              0.7777777777777778,
              "#fb9f3a"
             ],
             [
              0.8888888888888888,
              "#fdca26"
             ],
             [
              1,
              "#f0f921"
             ]
            ],
            "type": "histogram2d"
           }
          ],
          "histogram2dcontour": [
           {
            "colorbar": {
             "outlinewidth": 0,
             "ticks": ""
            },
            "colorscale": [
             [
              0,
              "#0d0887"
             ],
             [
              0.1111111111111111,
              "#46039f"
             ],
             [
              0.2222222222222222,
              "#7201a8"
             ],
             [
              0.3333333333333333,
              "#9c179e"
             ],
             [
              0.4444444444444444,
              "#bd3786"
             ],
             [
              0.5555555555555556,
              "#d8576b"
             ],
             [
              0.6666666666666666,
              "#ed7953"
             ],
             [
              0.7777777777777778,
              "#fb9f3a"
             ],
             [
              0.8888888888888888,
              "#fdca26"
             ],
             [
              1,
              "#f0f921"
             ]
            ],
            "type": "histogram2dcontour"
           }
          ],
          "mesh3d": [
           {
            "colorbar": {
             "outlinewidth": 0,
             "ticks": ""
            },
            "type": "mesh3d"
           }
          ],
          "parcoords": [
           {
            "line": {
             "colorbar": {
              "outlinewidth": 0,
              "ticks": ""
             }
            },
            "type": "parcoords"
           }
          ],
          "pie": [
           {
            "automargin": true,
            "type": "pie"
           }
          ],
          "scatter": [
           {
            "fillpattern": {
             "fillmode": "overlay",
             "size": 10,
             "solidity": 0.2
            },
            "type": "scatter"
           }
          ],
          "scatter3d": [
           {
            "line": {
             "colorbar": {
              "outlinewidth": 0,
              "ticks": ""
             }
            },
            "marker": {
             "colorbar": {
              "outlinewidth": 0,
              "ticks": ""
             }
            },
            "type": "scatter3d"
           }
          ],
          "scattercarpet": [
           {
            "marker": {
             "colorbar": {
              "outlinewidth": 0,
              "ticks": ""
             }
            },
            "type": "scattercarpet"
           }
          ],
          "scattergeo": [
           {
            "marker": {
             "colorbar": {
              "outlinewidth": 0,
              "ticks": ""
             }
            },
            "type": "scattergeo"
           }
          ],
          "scattergl": [
           {
            "marker": {
             "colorbar": {
              "outlinewidth": 0,
              "ticks": ""
             }
            },
            "type": "scattergl"
           }
          ],
          "scattermapbox": [
           {
            "marker": {
             "colorbar": {
              "outlinewidth": 0,
              "ticks": ""
             }
            },
            "type": "scattermapbox"
           }
          ],
          "scatterpolar": [
           {
            "marker": {
             "colorbar": {
              "outlinewidth": 0,
              "ticks": ""
             }
            },
            "type": "scatterpolar"
           }
          ],
          "scatterpolargl": [
           {
            "marker": {
             "colorbar": {
              "outlinewidth": 0,
              "ticks": ""
             }
            },
            "type": "scatterpolargl"
           }
          ],
          "scatterternary": [
           {
            "marker": {
             "colorbar": {
              "outlinewidth": 0,
              "ticks": ""
             }
            },
            "type": "scatterternary"
           }
          ],
          "surface": [
           {
            "colorbar": {
             "outlinewidth": 0,
             "ticks": ""
            },
            "colorscale": [
             [
              0,
              "#0d0887"
             ],
             [
              0.1111111111111111,
              "#46039f"
             ],
             [
              0.2222222222222222,
              "#7201a8"
             ],
             [
              0.3333333333333333,
              "#9c179e"
             ],
             [
              0.4444444444444444,
              "#bd3786"
             ],
             [
              0.5555555555555556,
              "#d8576b"
             ],
             [
              0.6666666666666666,
              "#ed7953"
             ],
             [
              0.7777777777777778,
              "#fb9f3a"
             ],
             [
              0.8888888888888888,
              "#fdca26"
             ],
             [
              1,
              "#f0f921"
             ]
            ],
            "type": "surface"
           }
          ],
          "table": [
           {
            "cells": {
             "fill": {
              "color": "#EBF0F8"
             },
             "line": {
              "color": "white"
             }
            },
            "header": {
             "fill": {
              "color": "#C8D4E3"
             },
             "line": {
              "color": "white"
             }
            },
            "type": "table"
           }
          ]
         },
         "layout": {
          "annotationdefaults": {
           "arrowcolor": "#2a3f5f",
           "arrowhead": 0,
           "arrowwidth": 1
          },
          "autotypenumbers": "strict",
          "coloraxis": {
           "colorbar": {
            "outlinewidth": 0,
            "ticks": ""
           }
          },
          "colorscale": {
           "diverging": [
            [
             0,
             "#8e0152"
            ],
            [
             0.1,
             "#c51b7d"
            ],
            [
             0.2,
             "#de77ae"
            ],
            [
             0.3,
             "#f1b6da"
            ],
            [
             0.4,
             "#fde0ef"
            ],
            [
             0.5,
             "#f7f7f7"
            ],
            [
             0.6,
             "#e6f5d0"
            ],
            [
             0.7,
             "#b8e186"
            ],
            [
             0.8,
             "#7fbc41"
            ],
            [
             0.9,
             "#4d9221"
            ],
            [
             1,
             "#276419"
            ]
           ],
           "sequential": [
            [
             0,
             "#0d0887"
            ],
            [
             0.1111111111111111,
             "#46039f"
            ],
            [
             0.2222222222222222,
             "#7201a8"
            ],
            [
             0.3333333333333333,
             "#9c179e"
            ],
            [
             0.4444444444444444,
             "#bd3786"
            ],
            [
             0.5555555555555556,
             "#d8576b"
            ],
            [
             0.6666666666666666,
             "#ed7953"
            ],
            [
             0.7777777777777778,
             "#fb9f3a"
            ],
            [
             0.8888888888888888,
             "#fdca26"
            ],
            [
             1,
             "#f0f921"
            ]
           ],
           "sequentialminus": [
            [
             0,
             "#0d0887"
            ],
            [
             0.1111111111111111,
             "#46039f"
            ],
            [
             0.2222222222222222,
             "#7201a8"
            ],
            [
             0.3333333333333333,
             "#9c179e"
            ],
            [
             0.4444444444444444,
             "#bd3786"
            ],
            [
             0.5555555555555556,
             "#d8576b"
            ],
            [
             0.6666666666666666,
             "#ed7953"
            ],
            [
             0.7777777777777778,
             "#fb9f3a"
            ],
            [
             0.8888888888888888,
             "#fdca26"
            ],
            [
             1,
             "#f0f921"
            ]
           ]
          },
          "colorway": [
           "#636efa",
           "#EF553B",
           "#00cc96",
           "#ab63fa",
           "#FFA15A",
           "#19d3f3",
           "#FF6692",
           "#B6E880",
           "#FF97FF",
           "#FECB52"
          ],
          "font": {
           "color": "#2a3f5f"
          },
          "geo": {
           "bgcolor": "white",
           "lakecolor": "white",
           "landcolor": "#E5ECF6",
           "showlakes": true,
           "showland": true,
           "subunitcolor": "white"
          },
          "hoverlabel": {
           "align": "left"
          },
          "hovermode": "closest",
          "mapbox": {
           "style": "light"
          },
          "paper_bgcolor": "white",
          "plot_bgcolor": "#E5ECF6",
          "polar": {
           "angularaxis": {
            "gridcolor": "white",
            "linecolor": "white",
            "ticks": ""
           },
           "bgcolor": "#E5ECF6",
           "radialaxis": {
            "gridcolor": "white",
            "linecolor": "white",
            "ticks": ""
           }
          },
          "scene": {
           "xaxis": {
            "backgroundcolor": "#E5ECF6",
            "gridcolor": "white",
            "gridwidth": 2,
            "linecolor": "white",
            "showbackground": true,
            "ticks": "",
            "zerolinecolor": "white"
           },
           "yaxis": {
            "backgroundcolor": "#E5ECF6",
            "gridcolor": "white",
            "gridwidth": 2,
            "linecolor": "white",
            "showbackground": true,
            "ticks": "",
            "zerolinecolor": "white"
           },
           "zaxis": {
            "backgroundcolor": "#E5ECF6",
            "gridcolor": "white",
            "gridwidth": 2,
            "linecolor": "white",
            "showbackground": true,
            "ticks": "",
            "zerolinecolor": "white"
           }
          },
          "shapedefaults": {
           "line": {
            "color": "#2a3f5f"
           }
          },
          "ternary": {
           "aaxis": {
            "gridcolor": "white",
            "linecolor": "white",
            "ticks": ""
           },
           "baxis": {
            "gridcolor": "white",
            "linecolor": "white",
            "ticks": ""
           },
           "bgcolor": "#E5ECF6",
           "caxis": {
            "gridcolor": "white",
            "linecolor": "white",
            "ticks": ""
           }
          },
          "title": {
           "x": 0.05
          },
          "xaxis": {
           "automargin": true,
           "gridcolor": "white",
           "linecolor": "white",
           "ticks": "",
           "title": {
            "standoff": 15
           },
           "zerolinecolor": "white",
           "zerolinewidth": 2
          },
          "yaxis": {
           "automargin": true,
           "gridcolor": "white",
           "linecolor": "white",
           "ticks": "",
           "title": {
            "standoff": 15
           },
           "zerolinecolor": "white",
           "zerolinewidth": 2
          }
         }
        },
        "title": {
         "text": "Box Plots"
        },
        "violinmode": "group",
        "width": 800,
        "xaxis": {
         "anchor": "y",
         "domain": [
          0,
          1
         ]
        },
        "yaxis": {
         "anchor": "x",
         "domain": [
          0,
          1
         ],
         "title": {
          "text": "Data"
         }
        }
       }
      }
     },
     "metadata": {},
     "output_type": "display_data"
    }
   ],
   "source": [
    "fig = px.violin(df, y=\"Data\", \n",
    "                color=\"Label\",\n",
    "                color_discrete_sequence=['teal', 'purple'],\n",
    "                height = 500, width = 800,\n",
    "                title='Box Plots')\n",
    "fig.show()"
   ]
  },
  {
   "cell_type": "code",
   "execution_count": 14,
   "metadata": {},
   "outputs": [
    {
     "data": {
      "application/vnd.plotly.v1+json": {
       "config": {
        "plotlyServerURL": "https://plot.ly"
       },
       "data": [
        {
         "alignmentgroup": "True",
         "box": {
          "visible": false
         },
         "hovertemplate": "Label=Normal<br>Data=%{y}<extra></extra>",
         "legendgroup": "Normal",
         "marker": {
          "color": "rgb(95, 70, 144)"
         },
         "name": "Normal",
         "offsetgroup": "Normal",
         "orientation": "v",
         "scalegroup": "True",
         "showlegend": true,
         "type": "violin",
         "x0": " ",
         "xaxis": "x",
         "y": [
          2.1448352410898437,
          1.812062337872311,
          1.6488223566553466,
          0.6383520097739852,
          1.3850895932539236,
          1.9878156635393824,
          2.882980826249238,
          -0.42530427396596027,
          1.7929549857509943,
          3.78959539581666,
          1.073154712193836,
          3.0224917157527464,
          3.8930275852927005,
          0.5215360713906942,
          2.9433606501705585,
          1.320571720914125,
          2.355280429792817,
          2.051523713885342,
          0.8011775334001139,
          4.501280419651131,
          3.285652575443162,
          1.344054583903116,
          2.5633217625784743,
          0.013915131720859897,
          2.8403307182120603,
          2.9755692798626647,
          2.276105537957386,
          1.6640119533496447,
          2.2458350719901388,
          2.0592592164616748,
          1.5059161412481548,
          0.9459755513758641,
          1.5579721960831934,
          2.510368580276934,
          2.1363375477014395,
          0.47931269708959756,
          1.8466747325007604,
          0.7841008228769961,
          0.4445231914030272,
          2.1060307743469373,
          0.28911968385028164,
          2.639166582342756,
          2.2611810268061037,
          0.8672276703752413,
          2.7770888296829663,
          1.0642480062829702,
          3.4416813935832664,
          2.058359099142134,
          2.724646328211013,
          2.4109293517799184,
          2.8076186844694746,
          1.2669149490374856,
          1.5946513210282465,
          2.0156936142732595,
          4.068062899879825,
          2.014587807206504,
          2.884557044992201,
          1.1771939528798239,
          1.2981358498948743,
          2.4077364493501565,
          3.0372790046077416,
          0.32779644995155843,
          1.3454964281907558,
          1.4015576004639556,
          2.220234382278142,
          1.072531364713253,
          3.3613269417119724,
          2.0279669873560993,
          3.492322326850484,
          1.7465702238794685,
          3.250651912090219,
          2.958282118732861,
          2.167004809379246,
          -0.3724899498136178,
          2.8622802819342734,
          1.828809528797068,
          3.2154000449039475,
          1.290413683742523,
          1.9698479973963334,
          2.717676720548606,
          2.0328269808393316,
          2.9666398662373386,
          1.7894343732830806,
          4.512983019595203,
          1.511410124011711,
          2.0278949037784804,
          3.0320114912139404,
          3.4325191622408244,
          1.7529561797306812,
          3.9313568041201856,
          0.6682694698604486,
          1.7726505995441306,
          1.4355543588564204,
          1.7816247305039385,
          1.861296574447409,
          2.5736336957952766,
          1.4388426961757905,
          -0.27712791500112477,
          1.2684313584068483,
          2.464726380100814,
          2.7591939288637337,
          0.9281680759058382,
          2.461855557142363,
          2.4571968422271144,
          1.490481341324251,
          2.4880256998976185,
          2.8089582949554313,
          1.0103551394934536,
          2.112828490566791,
          2.6856571369333837,
          2.681478416049845,
          0.541200467380017,
          1.6703106929035658,
          2.3006128696408847,
          1.073116968510472,
          1.3043390775679606,
          2.3324743958431506,
          1.8727927694097817,
          3.7630078484529186,
          0.44525233935448005,
          0.9427622211154778,
          1.2407812136651437,
          2.7223030146320975,
          3.6444216111982786,
          3.88948262993308,
          0.38162858370922303,
          -0.9123487818974407,
          0.9921325945795041,
          3.2037838393049003,
          2.6528911457216866,
          2.4229849072736265,
          2.1241066840233147,
          1.2148557510995994,
          3.213687090993716,
          2.6321934016674353,
          1.5297901480880232,
          -0.8122339201646325,
          -0.2546825756859361,
          2.8383168563447265,
          0.054080108331132415,
          2.961388543425668,
          1.5793185442316244,
          1.575957492065887,
          2.4649531499368798,
          3.8835255866685205,
          3.212589737297795,
          2.90540642739278,
          2.0746367179593617,
          0.5853552037202634,
          2.7133015636836113,
          2.7404021155742986,
          1.6282040988722053,
          1.4758997595291241,
          1.7298531506417778,
          3.232776088013285,
          2.037437228644149,
          2.83959105110852,
          1.0331023939748913,
          1.5004967128465656,
          2.877054619148736,
          1.5035802538146796,
          -0.0844649079098252,
          -0.20302038548429557,
          0.6553037738058096,
          2.4029612186545273,
          1.3951944904658724,
          0.8224523295832902,
          1.0779499952194365,
          2.2752294124572026,
          1.407827896009517,
          1.5199621626262831,
          4.998484927104643,
          2.8202015814507853,
          3.4981210607560236,
          1.82376647396997,
          2.348575126265902,
          1.6720579021774593,
          3.3344114300277363,
          1.9604061189312774,
          1.9387840273784258,
          1.5497589730183448,
          2.382371815787194,
          1.9572406487115643,
          3.510945888591035,
          1.8430540244910985,
          2.250105638089431,
          1.837861404846933,
          3.0322832878493715,
          1.275914986920429,
          1.2554279808553537,
          -1.0609285378227278,
          2.650703886331369,
          0.2895022680749868,
          3.922643658753358,
          3.209774253367411,
          1.6603012163304578,
          2.931112999262301,
          1.4453919007782132,
          1.3930855650377503,
          1.8692852206157908
         ],
         "y0": " ",
         "yaxis": "y"
        },
        {
         "alignmentgroup": "True",
         "box": {
          "visible": false
         },
         "hovertemplate": "Label=t-Student<br>Data=%{y}<extra></extra>",
         "legendgroup": "t-Student",
         "marker": {
          "color": "rgb(29, 105, 150)"
         },
         "name": "t-Student",
         "offsetgroup": "t-Student",
         "orientation": "v",
         "scalegroup": "True",
         "showlegend": true,
         "type": "violin",
         "x0": " ",
         "xaxis": "x",
         "y": [
          -0.09653810421423031,
          0.07751214615542559,
          0.19345883766940522,
          2.0179947760356556,
          0.991876893101285,
          -0.32211472335193037,
          -3.471545137926429,
          0.17037107654023043,
          -2.367081188271045,
          -0.5238146816875762,
          -0.9246242000448966,
          0.5458911262727042,
          -0.5472875637846676,
          -2.7138700852794106,
          0.06496748979871966,
          0.8876146014298789,
          -0.6506141244285795,
          -1.8787677569369958,
          -7.014922857678014,
          -2.4967748870690025,
          0.15774689580992934,
          0.4795894745455748,
          -0.14729018379356176,
          -1.9252564872282516,
          -1.011239383382226,
          1.055589350280956,
          2.1764704170530282,
          2.5870153291714724,
          -0.4166981734729009,
          -1.5725092761782915,
          -0.7522006314428015,
          -1.1862943328174427,
          -0.1530556833025442,
          -0.6683614398338816,
          -1.6375526264120985,
          -1.7164881322813526,
          0.14552583104382516,
          -1.440606564645991,
          1.058274308235468,
          -0.5048058765709675,
          1.5778106820238584,
          1.4434857907379244,
          0.7076693007620211,
          -0.8076101069027543,
          -0.6522601379179523,
          -0.2469282994327452,
          -1.0707349573457186,
          0.3582213027574397,
          0.9725780460504533,
          -0.7457620261706895,
          -0.14566481394277245,
          -1.605165566235269,
          3.8585436835997924,
          -0.18482013919945067,
          1.3392245821362523,
          -1.6115946962265235,
          0.28185023064859643,
          0.28467880117613553,
          1.7909573844442226,
          2.5662188572938116,
          1.3408814105416365,
          0.8810738307857818,
          -1.1514380736461187,
          0.1951980395940728,
          -0.13885865556570381,
          0.582140414073604,
          0.13241125314209246,
          2.281980627411205,
          -0.6427184181887908,
          0.9248665314967439,
          2.46451739640618,
          1.133226043882831,
          0.35503358702326127,
          0.7035992790203395,
          0.3023022299101454,
          -0.053708349955522566,
          0.6280011084402214,
          0.560051344787312,
          0.507692963077803,
          0.17357499627749146,
          1.0142418979472507,
          1.017666848403959,
          -1.330230849366075,
          0.6994978543525194,
          -0.07858013192039262,
          0.23474351206954977,
          -5.124046191772931,
          -1.168243471890053,
          -0.41825493274241926,
          0.6547792108235284,
          -0.5069659799537539,
          0.27016034933042454,
          -1.5881418176366675,
          -0.25581145456424925,
          -0.9670284517516372,
          -1.216055864716631,
          -1.3466682605782456,
          2.1331530159724936,
          0.7902363700849286,
          0.8041122040209232,
          -0.7421354232440099,
          -1.8804275805824453,
          1.1460511745529,
          -0.1300398265400213,
          0.3920920239833112,
          0.2646292901412083,
          -0.7747009297844754,
          -0.26513284002372944,
          0.2572731594874694,
          -2.677060942415512,
          -0.6593702047437806,
          0.15196457693478554,
          -0.1887634643964875,
          -1.0469668805285868,
          -3.5787601517254095,
          -0.01676763817872639,
          -0.7368435555666392,
          0.055330546133328225,
          -0.6647705335850738,
          -0.05661432358556272,
          -0.39386261231256076,
          -0.20248979748928483,
          -0.9874373689696749,
          0.840653740268591,
          1.0512445757319149,
          0.882778441644591,
          1.797203975896927,
          -0.5528023029035531,
          0.07253576140569559,
          -0.44395949634990467,
          1.754691794124901,
          0.6763997493317636,
          -0.4329185073810288,
          -0.31654258258324813,
          0.7561504384535077,
          -1.3812088216505682,
          0.5950976417943096,
          -1.5561197735229215,
          -0.2998826550244394,
          0.07230849358744112,
          -0.5420201478639451,
          -0.5912594111856687,
          0.6934647980606861,
          0.5390800781488231,
          1.7470506432381439,
          -0.03450745907114956,
          -0.707181173330097,
          -0.044665008961285876,
          0.4992824926000011,
          0.2900182674234592,
          -0.26402137876847886,
          0.7134854838263771,
          0.8697486022017016,
          -0.32494581732031846,
          -1.8258953605818218,
          -0.9714089742848285,
          0.1364875202749454,
          0.8085089711130212,
          -1.189940372542329,
          1.1415922002990941,
          0.31303878909652083,
          0.07872740592811452,
          -0.8804850707698494,
          0.945771020113734,
          0.9427363553366049,
          2.8908017501796586,
          -0.7147150457452619,
          -0.4354516476572672,
          0.2699627387231822,
          1.0788520695229074,
          1.9425369782901003,
          1.53743023968119,
          0.704029202957127,
          0.18835011817526703,
          0.06321745990753334,
          -0.9622731039462551,
          0.26536519263403735,
          0.8535497644365357,
          0.09128468178231858,
          -0.4615436569006375,
          -0.26316627011198274,
          0.02802469580279391,
          1.452081450461478,
          -0.9488734050265268,
          -0.9009223677658657,
          0.3799221442537563,
          -1.163730677310039,
          -1.144888780308993,
          0.9161565284817642,
          2.7215286803927055,
          0.9049618893283375,
          0.0583782412116841,
          0.5307714686865308,
          -1.1219776773436891,
          -2.3998330213190298,
          2.1048335021264672,
          0.7426758999559613,
          0.1709158510501765,
          -0.4194228756857665,
          -0.6358475560663636
         ],
         "y0": " ",
         "yaxis": "y"
        }
       ],
       "layout": {
        "height": 500,
        "legend": {
         "title": {
          "text": "Label"
         },
         "tracegroupgap": 0
        },
        "template": {
         "data": {
          "bar": [
           {
            "error_x": {
             "color": "#2a3f5f"
            },
            "error_y": {
             "color": "#2a3f5f"
            },
            "marker": {
             "line": {
              "color": "#E5ECF6",
              "width": 0.5
             },
             "pattern": {
              "fillmode": "overlay",
              "size": 10,
              "solidity": 0.2
             }
            },
            "type": "bar"
           }
          ],
          "barpolar": [
           {
            "marker": {
             "line": {
              "color": "#E5ECF6",
              "width": 0.5
             },
             "pattern": {
              "fillmode": "overlay",
              "size": 10,
              "solidity": 0.2
             }
            },
            "type": "barpolar"
           }
          ],
          "carpet": [
           {
            "aaxis": {
             "endlinecolor": "#2a3f5f",
             "gridcolor": "white",
             "linecolor": "white",
             "minorgridcolor": "white",
             "startlinecolor": "#2a3f5f"
            },
            "baxis": {
             "endlinecolor": "#2a3f5f",
             "gridcolor": "white",
             "linecolor": "white",
             "minorgridcolor": "white",
             "startlinecolor": "#2a3f5f"
            },
            "type": "carpet"
           }
          ],
          "choropleth": [
           {
            "colorbar": {
             "outlinewidth": 0,
             "ticks": ""
            },
            "type": "choropleth"
           }
          ],
          "contour": [
           {
            "colorbar": {
             "outlinewidth": 0,
             "ticks": ""
            },
            "colorscale": [
             [
              0,
              "#0d0887"
             ],
             [
              0.1111111111111111,
              "#46039f"
             ],
             [
              0.2222222222222222,
              "#7201a8"
             ],
             [
              0.3333333333333333,
              "#9c179e"
             ],
             [
              0.4444444444444444,
              "#bd3786"
             ],
             [
              0.5555555555555556,
              "#d8576b"
             ],
             [
              0.6666666666666666,
              "#ed7953"
             ],
             [
              0.7777777777777778,
              "#fb9f3a"
             ],
             [
              0.8888888888888888,
              "#fdca26"
             ],
             [
              1,
              "#f0f921"
             ]
            ],
            "type": "contour"
           }
          ],
          "contourcarpet": [
           {
            "colorbar": {
             "outlinewidth": 0,
             "ticks": ""
            },
            "type": "contourcarpet"
           }
          ],
          "heatmap": [
           {
            "colorbar": {
             "outlinewidth": 0,
             "ticks": ""
            },
            "colorscale": [
             [
              0,
              "#0d0887"
             ],
             [
              0.1111111111111111,
              "#46039f"
             ],
             [
              0.2222222222222222,
              "#7201a8"
             ],
             [
              0.3333333333333333,
              "#9c179e"
             ],
             [
              0.4444444444444444,
              "#bd3786"
             ],
             [
              0.5555555555555556,
              "#d8576b"
             ],
             [
              0.6666666666666666,
              "#ed7953"
             ],
             [
              0.7777777777777778,
              "#fb9f3a"
             ],
             [
              0.8888888888888888,
              "#fdca26"
             ],
             [
              1,
              "#f0f921"
             ]
            ],
            "type": "heatmap"
           }
          ],
          "heatmapgl": [
           {
            "colorbar": {
             "outlinewidth": 0,
             "ticks": ""
            },
            "colorscale": [
             [
              0,
              "#0d0887"
             ],
             [
              0.1111111111111111,
              "#46039f"
             ],
             [
              0.2222222222222222,
              "#7201a8"
             ],
             [
              0.3333333333333333,
              "#9c179e"
             ],
             [
              0.4444444444444444,
              "#bd3786"
             ],
             [
              0.5555555555555556,
              "#d8576b"
             ],
             [
              0.6666666666666666,
              "#ed7953"
             ],
             [
              0.7777777777777778,
              "#fb9f3a"
             ],
             [
              0.8888888888888888,
              "#fdca26"
             ],
             [
              1,
              "#f0f921"
             ]
            ],
            "type": "heatmapgl"
           }
          ],
          "histogram": [
           {
            "marker": {
             "pattern": {
              "fillmode": "overlay",
              "size": 10,
              "solidity": 0.2
             }
            },
            "type": "histogram"
           }
          ],
          "histogram2d": [
           {
            "colorbar": {
             "outlinewidth": 0,
             "ticks": ""
            },
            "colorscale": [
             [
              0,
              "#0d0887"
             ],
             [
              0.1111111111111111,
              "#46039f"
             ],
             [
              0.2222222222222222,
              "#7201a8"
             ],
             [
              0.3333333333333333,
              "#9c179e"
             ],
             [
              0.4444444444444444,
              "#bd3786"
             ],
             [
              0.5555555555555556,
              "#d8576b"
             ],
             [
              0.6666666666666666,
              "#ed7953"
             ],
             [
              0.7777777777777778,
              "#fb9f3a"
             ],
             [
              0.8888888888888888,
              "#fdca26"
             ],
             [
              1,
              "#f0f921"
             ]
            ],
            "type": "histogram2d"
           }
          ],
          "histogram2dcontour": [
           {
            "colorbar": {
             "outlinewidth": 0,
             "ticks": ""
            },
            "colorscale": [
             [
              0,
              "#0d0887"
             ],
             [
              0.1111111111111111,
              "#46039f"
             ],
             [
              0.2222222222222222,
              "#7201a8"
             ],
             [
              0.3333333333333333,
              "#9c179e"
             ],
             [
              0.4444444444444444,
              "#bd3786"
             ],
             [
              0.5555555555555556,
              "#d8576b"
             ],
             [
              0.6666666666666666,
              "#ed7953"
             ],
             [
              0.7777777777777778,
              "#fb9f3a"
             ],
             [
              0.8888888888888888,
              "#fdca26"
             ],
             [
              1,
              "#f0f921"
             ]
            ],
            "type": "histogram2dcontour"
           }
          ],
          "mesh3d": [
           {
            "colorbar": {
             "outlinewidth": 0,
             "ticks": ""
            },
            "type": "mesh3d"
           }
          ],
          "parcoords": [
           {
            "line": {
             "colorbar": {
              "outlinewidth": 0,
              "ticks": ""
             }
            },
            "type": "parcoords"
           }
          ],
          "pie": [
           {
            "automargin": true,
            "type": "pie"
           }
          ],
          "scatter": [
           {
            "fillpattern": {
             "fillmode": "overlay",
             "size": 10,
             "solidity": 0.2
            },
            "type": "scatter"
           }
          ],
          "scatter3d": [
           {
            "line": {
             "colorbar": {
              "outlinewidth": 0,
              "ticks": ""
             }
            },
            "marker": {
             "colorbar": {
              "outlinewidth": 0,
              "ticks": ""
             }
            },
            "type": "scatter3d"
           }
          ],
          "scattercarpet": [
           {
            "marker": {
             "colorbar": {
              "outlinewidth": 0,
              "ticks": ""
             }
            },
            "type": "scattercarpet"
           }
          ],
          "scattergeo": [
           {
            "marker": {
             "colorbar": {
              "outlinewidth": 0,
              "ticks": ""
             }
            },
            "type": "scattergeo"
           }
          ],
          "scattergl": [
           {
            "marker": {
             "colorbar": {
              "outlinewidth": 0,
              "ticks": ""
             }
            },
            "type": "scattergl"
           }
          ],
          "scattermapbox": [
           {
            "marker": {
             "colorbar": {
              "outlinewidth": 0,
              "ticks": ""
             }
            },
            "type": "scattermapbox"
           }
          ],
          "scatterpolar": [
           {
            "marker": {
             "colorbar": {
              "outlinewidth": 0,
              "ticks": ""
             }
            },
            "type": "scatterpolar"
           }
          ],
          "scatterpolargl": [
           {
            "marker": {
             "colorbar": {
              "outlinewidth": 0,
              "ticks": ""
             }
            },
            "type": "scatterpolargl"
           }
          ],
          "scatterternary": [
           {
            "marker": {
             "colorbar": {
              "outlinewidth": 0,
              "ticks": ""
             }
            },
            "type": "scatterternary"
           }
          ],
          "surface": [
           {
            "colorbar": {
             "outlinewidth": 0,
             "ticks": ""
            },
            "colorscale": [
             [
              0,
              "#0d0887"
             ],
             [
              0.1111111111111111,
              "#46039f"
             ],
             [
              0.2222222222222222,
              "#7201a8"
             ],
             [
              0.3333333333333333,
              "#9c179e"
             ],
             [
              0.4444444444444444,
              "#bd3786"
             ],
             [
              0.5555555555555556,
              "#d8576b"
             ],
             [
              0.6666666666666666,
              "#ed7953"
             ],
             [
              0.7777777777777778,
              "#fb9f3a"
             ],
             [
              0.8888888888888888,
              "#fdca26"
             ],
             [
              1,
              "#f0f921"
             ]
            ],
            "type": "surface"
           }
          ],
          "table": [
           {
            "cells": {
             "fill": {
              "color": "#EBF0F8"
             },
             "line": {
              "color": "white"
             }
            },
            "header": {
             "fill": {
              "color": "#C8D4E3"
             },
             "line": {
              "color": "white"
             }
            },
            "type": "table"
           }
          ]
         },
         "layout": {
          "annotationdefaults": {
           "arrowcolor": "#2a3f5f",
           "arrowhead": 0,
           "arrowwidth": 1
          },
          "autotypenumbers": "strict",
          "coloraxis": {
           "colorbar": {
            "outlinewidth": 0,
            "ticks": ""
           }
          },
          "colorscale": {
           "diverging": [
            [
             0,
             "#8e0152"
            ],
            [
             0.1,
             "#c51b7d"
            ],
            [
             0.2,
             "#de77ae"
            ],
            [
             0.3,
             "#f1b6da"
            ],
            [
             0.4,
             "#fde0ef"
            ],
            [
             0.5,
             "#f7f7f7"
            ],
            [
             0.6,
             "#e6f5d0"
            ],
            [
             0.7,
             "#b8e186"
            ],
            [
             0.8,
             "#7fbc41"
            ],
            [
             0.9,
             "#4d9221"
            ],
            [
             1,
             "#276419"
            ]
           ],
           "sequential": [
            [
             0,
             "#0d0887"
            ],
            [
             0.1111111111111111,
             "#46039f"
            ],
            [
             0.2222222222222222,
             "#7201a8"
            ],
            [
             0.3333333333333333,
             "#9c179e"
            ],
            [
             0.4444444444444444,
             "#bd3786"
            ],
            [
             0.5555555555555556,
             "#d8576b"
            ],
            [
             0.6666666666666666,
             "#ed7953"
            ],
            [
             0.7777777777777778,
             "#fb9f3a"
            ],
            [
             0.8888888888888888,
             "#fdca26"
            ],
            [
             1,
             "#f0f921"
            ]
           ],
           "sequentialminus": [
            [
             0,
             "#0d0887"
            ],
            [
             0.1111111111111111,
             "#46039f"
            ],
            [
             0.2222222222222222,
             "#7201a8"
            ],
            [
             0.3333333333333333,
             "#9c179e"
            ],
            [
             0.4444444444444444,
             "#bd3786"
            ],
            [
             0.5555555555555556,
             "#d8576b"
            ],
            [
             0.6666666666666666,
             "#ed7953"
            ],
            [
             0.7777777777777778,
             "#fb9f3a"
            ],
            [
             0.8888888888888888,
             "#fdca26"
            ],
            [
             1,
             "#f0f921"
            ]
           ]
          },
          "colorway": [
           "#636efa",
           "#EF553B",
           "#00cc96",
           "#ab63fa",
           "#FFA15A",
           "#19d3f3",
           "#FF6692",
           "#B6E880",
           "#FF97FF",
           "#FECB52"
          ],
          "font": {
           "color": "#2a3f5f"
          },
          "geo": {
           "bgcolor": "white",
           "lakecolor": "white",
           "landcolor": "#E5ECF6",
           "showlakes": true,
           "showland": true,
           "subunitcolor": "white"
          },
          "hoverlabel": {
           "align": "left"
          },
          "hovermode": "closest",
          "mapbox": {
           "style": "light"
          },
          "paper_bgcolor": "white",
          "plot_bgcolor": "#E5ECF6",
          "polar": {
           "angularaxis": {
            "gridcolor": "white",
            "linecolor": "white",
            "ticks": ""
           },
           "bgcolor": "#E5ECF6",
           "radialaxis": {
            "gridcolor": "white",
            "linecolor": "white",
            "ticks": ""
           }
          },
          "scene": {
           "xaxis": {
            "backgroundcolor": "#E5ECF6",
            "gridcolor": "white",
            "gridwidth": 2,
            "linecolor": "white",
            "showbackground": true,
            "ticks": "",
            "zerolinecolor": "white"
           },
           "yaxis": {
            "backgroundcolor": "#E5ECF6",
            "gridcolor": "white",
            "gridwidth": 2,
            "linecolor": "white",
            "showbackground": true,
            "ticks": "",
            "zerolinecolor": "white"
           },
           "zaxis": {
            "backgroundcolor": "#E5ECF6",
            "gridcolor": "white",
            "gridwidth": 2,
            "linecolor": "white",
            "showbackground": true,
            "ticks": "",
            "zerolinecolor": "white"
           }
          },
          "shapedefaults": {
           "line": {
            "color": "#2a3f5f"
           }
          },
          "ternary": {
           "aaxis": {
            "gridcolor": "white",
            "linecolor": "white",
            "ticks": ""
           },
           "baxis": {
            "gridcolor": "white",
            "linecolor": "white",
            "ticks": ""
           },
           "bgcolor": "#E5ECF6",
           "caxis": {
            "gridcolor": "white",
            "linecolor": "white",
            "ticks": ""
           }
          },
          "title": {
           "x": 0.05
          },
          "xaxis": {
           "automargin": true,
           "gridcolor": "white",
           "linecolor": "white",
           "ticks": "",
           "title": {
            "standoff": 15
           },
           "zerolinecolor": "white",
           "zerolinewidth": 2
          },
          "yaxis": {
           "automargin": true,
           "gridcolor": "white",
           "linecolor": "white",
           "ticks": "",
           "title": {
            "standoff": 15
           },
           "zerolinecolor": "white",
           "zerolinewidth": 2
          }
         }
        },
        "title": {
         "text": "Box Plots"
        },
        "violinmode": "group",
        "width": 800,
        "xaxis": {
         "anchor": "y",
         "domain": [
          0,
          1
         ]
        },
        "yaxis": {
         "anchor": "x",
         "domain": [
          0,
          1
         ],
         "title": {
          "text": "Data"
         }
        }
       }
      }
     },
     "metadata": {},
     "output_type": "display_data"
    }
   ],
   "source": [
    "fig = px.violin(df, y=\"Data\", \n",
    "                color=\"Label\",\n",
    "                color_discrete_sequence=px.colors.qualitative.Prism,\n",
    "                height = 500, width = 800,\n",
    "                title='Box Plots')\n",
    "fig.show()"
   ]
  },
  {
   "cell_type": "markdown",
   "metadata": {},
   "source": [
    "3. Add the box-plot to your violin traces by setting the input `box` as `True`"
   ]
  },
  {
   "cell_type": "code",
   "execution_count": 15,
   "metadata": {},
   "outputs": [
    {
     "data": {
      "application/vnd.plotly.v1+json": {
       "config": {
        "plotlyServerURL": "https://plot.ly"
       },
       "data": [
        {
         "alignmentgroup": "True",
         "box": {
          "visible": true
         },
         "hovertemplate": "Label=Normal<br>Data=%{y}<extra></extra>",
         "legendgroup": "Normal",
         "marker": {
          "color": "teal"
         },
         "name": "Normal",
         "offsetgroup": "Normal",
         "orientation": "v",
         "scalegroup": "True",
         "showlegend": true,
         "type": "violin",
         "x0": " ",
         "xaxis": "x",
         "y": [
          2.1448352410898437,
          1.812062337872311,
          1.6488223566553466,
          0.6383520097739852,
          1.3850895932539236,
          1.9878156635393824,
          2.882980826249238,
          -0.42530427396596027,
          1.7929549857509943,
          3.78959539581666,
          1.073154712193836,
          3.0224917157527464,
          3.8930275852927005,
          0.5215360713906942,
          2.9433606501705585,
          1.320571720914125,
          2.355280429792817,
          2.051523713885342,
          0.8011775334001139,
          4.501280419651131,
          3.285652575443162,
          1.344054583903116,
          2.5633217625784743,
          0.013915131720859897,
          2.8403307182120603,
          2.9755692798626647,
          2.276105537957386,
          1.6640119533496447,
          2.2458350719901388,
          2.0592592164616748,
          1.5059161412481548,
          0.9459755513758641,
          1.5579721960831934,
          2.510368580276934,
          2.1363375477014395,
          0.47931269708959756,
          1.8466747325007604,
          0.7841008228769961,
          0.4445231914030272,
          2.1060307743469373,
          0.28911968385028164,
          2.639166582342756,
          2.2611810268061037,
          0.8672276703752413,
          2.7770888296829663,
          1.0642480062829702,
          3.4416813935832664,
          2.058359099142134,
          2.724646328211013,
          2.4109293517799184,
          2.8076186844694746,
          1.2669149490374856,
          1.5946513210282465,
          2.0156936142732595,
          4.068062899879825,
          2.014587807206504,
          2.884557044992201,
          1.1771939528798239,
          1.2981358498948743,
          2.4077364493501565,
          3.0372790046077416,
          0.32779644995155843,
          1.3454964281907558,
          1.4015576004639556,
          2.220234382278142,
          1.072531364713253,
          3.3613269417119724,
          2.0279669873560993,
          3.492322326850484,
          1.7465702238794685,
          3.250651912090219,
          2.958282118732861,
          2.167004809379246,
          -0.3724899498136178,
          2.8622802819342734,
          1.828809528797068,
          3.2154000449039475,
          1.290413683742523,
          1.9698479973963334,
          2.717676720548606,
          2.0328269808393316,
          2.9666398662373386,
          1.7894343732830806,
          4.512983019595203,
          1.511410124011711,
          2.0278949037784804,
          3.0320114912139404,
          3.4325191622408244,
          1.7529561797306812,
          3.9313568041201856,
          0.6682694698604486,
          1.7726505995441306,
          1.4355543588564204,
          1.7816247305039385,
          1.861296574447409,
          2.5736336957952766,
          1.4388426961757905,
          -0.27712791500112477,
          1.2684313584068483,
          2.464726380100814,
          2.7591939288637337,
          0.9281680759058382,
          2.461855557142363,
          2.4571968422271144,
          1.490481341324251,
          2.4880256998976185,
          2.8089582949554313,
          1.0103551394934536,
          2.112828490566791,
          2.6856571369333837,
          2.681478416049845,
          0.541200467380017,
          1.6703106929035658,
          2.3006128696408847,
          1.073116968510472,
          1.3043390775679606,
          2.3324743958431506,
          1.8727927694097817,
          3.7630078484529186,
          0.44525233935448005,
          0.9427622211154778,
          1.2407812136651437,
          2.7223030146320975,
          3.6444216111982786,
          3.88948262993308,
          0.38162858370922303,
          -0.9123487818974407,
          0.9921325945795041,
          3.2037838393049003,
          2.6528911457216866,
          2.4229849072736265,
          2.1241066840233147,
          1.2148557510995994,
          3.213687090993716,
          2.6321934016674353,
          1.5297901480880232,
          -0.8122339201646325,
          -0.2546825756859361,
          2.8383168563447265,
          0.054080108331132415,
          2.961388543425668,
          1.5793185442316244,
          1.575957492065887,
          2.4649531499368798,
          3.8835255866685205,
          3.212589737297795,
          2.90540642739278,
          2.0746367179593617,
          0.5853552037202634,
          2.7133015636836113,
          2.7404021155742986,
          1.6282040988722053,
          1.4758997595291241,
          1.7298531506417778,
          3.232776088013285,
          2.037437228644149,
          2.83959105110852,
          1.0331023939748913,
          1.5004967128465656,
          2.877054619148736,
          1.5035802538146796,
          -0.0844649079098252,
          -0.20302038548429557,
          0.6553037738058096,
          2.4029612186545273,
          1.3951944904658724,
          0.8224523295832902,
          1.0779499952194365,
          2.2752294124572026,
          1.407827896009517,
          1.5199621626262831,
          4.998484927104643,
          2.8202015814507853,
          3.4981210607560236,
          1.82376647396997,
          2.348575126265902,
          1.6720579021774593,
          3.3344114300277363,
          1.9604061189312774,
          1.9387840273784258,
          1.5497589730183448,
          2.382371815787194,
          1.9572406487115643,
          3.510945888591035,
          1.8430540244910985,
          2.250105638089431,
          1.837861404846933,
          3.0322832878493715,
          1.275914986920429,
          1.2554279808553537,
          -1.0609285378227278,
          2.650703886331369,
          0.2895022680749868,
          3.922643658753358,
          3.209774253367411,
          1.6603012163304578,
          2.931112999262301,
          1.4453919007782132,
          1.3930855650377503,
          1.8692852206157908
         ],
         "y0": " ",
         "yaxis": "y"
        },
        {
         "alignmentgroup": "True",
         "box": {
          "visible": true
         },
         "hovertemplate": "Label=t-Student<br>Data=%{y}<extra></extra>",
         "legendgroup": "t-Student",
         "marker": {
          "color": "purple"
         },
         "name": "t-Student",
         "offsetgroup": "t-Student",
         "orientation": "v",
         "scalegroup": "True",
         "showlegend": true,
         "type": "violin",
         "x0": " ",
         "xaxis": "x",
         "y": [
          -0.09653810421423031,
          0.07751214615542559,
          0.19345883766940522,
          2.0179947760356556,
          0.991876893101285,
          -0.32211472335193037,
          -3.471545137926429,
          0.17037107654023043,
          -2.367081188271045,
          -0.5238146816875762,
          -0.9246242000448966,
          0.5458911262727042,
          -0.5472875637846676,
          -2.7138700852794106,
          0.06496748979871966,
          0.8876146014298789,
          -0.6506141244285795,
          -1.8787677569369958,
          -7.014922857678014,
          -2.4967748870690025,
          0.15774689580992934,
          0.4795894745455748,
          -0.14729018379356176,
          -1.9252564872282516,
          -1.011239383382226,
          1.055589350280956,
          2.1764704170530282,
          2.5870153291714724,
          -0.4166981734729009,
          -1.5725092761782915,
          -0.7522006314428015,
          -1.1862943328174427,
          -0.1530556833025442,
          -0.6683614398338816,
          -1.6375526264120985,
          -1.7164881322813526,
          0.14552583104382516,
          -1.440606564645991,
          1.058274308235468,
          -0.5048058765709675,
          1.5778106820238584,
          1.4434857907379244,
          0.7076693007620211,
          -0.8076101069027543,
          -0.6522601379179523,
          -0.2469282994327452,
          -1.0707349573457186,
          0.3582213027574397,
          0.9725780460504533,
          -0.7457620261706895,
          -0.14566481394277245,
          -1.605165566235269,
          3.8585436835997924,
          -0.18482013919945067,
          1.3392245821362523,
          -1.6115946962265235,
          0.28185023064859643,
          0.28467880117613553,
          1.7909573844442226,
          2.5662188572938116,
          1.3408814105416365,
          0.8810738307857818,
          -1.1514380736461187,
          0.1951980395940728,
          -0.13885865556570381,
          0.582140414073604,
          0.13241125314209246,
          2.281980627411205,
          -0.6427184181887908,
          0.9248665314967439,
          2.46451739640618,
          1.133226043882831,
          0.35503358702326127,
          0.7035992790203395,
          0.3023022299101454,
          -0.053708349955522566,
          0.6280011084402214,
          0.560051344787312,
          0.507692963077803,
          0.17357499627749146,
          1.0142418979472507,
          1.017666848403959,
          -1.330230849366075,
          0.6994978543525194,
          -0.07858013192039262,
          0.23474351206954977,
          -5.124046191772931,
          -1.168243471890053,
          -0.41825493274241926,
          0.6547792108235284,
          -0.5069659799537539,
          0.27016034933042454,
          -1.5881418176366675,
          -0.25581145456424925,
          -0.9670284517516372,
          -1.216055864716631,
          -1.3466682605782456,
          2.1331530159724936,
          0.7902363700849286,
          0.8041122040209232,
          -0.7421354232440099,
          -1.8804275805824453,
          1.1460511745529,
          -0.1300398265400213,
          0.3920920239833112,
          0.2646292901412083,
          -0.7747009297844754,
          -0.26513284002372944,
          0.2572731594874694,
          -2.677060942415512,
          -0.6593702047437806,
          0.15196457693478554,
          -0.1887634643964875,
          -1.0469668805285868,
          -3.5787601517254095,
          -0.01676763817872639,
          -0.7368435555666392,
          0.055330546133328225,
          -0.6647705335850738,
          -0.05661432358556272,
          -0.39386261231256076,
          -0.20248979748928483,
          -0.9874373689696749,
          0.840653740268591,
          1.0512445757319149,
          0.882778441644591,
          1.797203975896927,
          -0.5528023029035531,
          0.07253576140569559,
          -0.44395949634990467,
          1.754691794124901,
          0.6763997493317636,
          -0.4329185073810288,
          -0.31654258258324813,
          0.7561504384535077,
          -1.3812088216505682,
          0.5950976417943096,
          -1.5561197735229215,
          -0.2998826550244394,
          0.07230849358744112,
          -0.5420201478639451,
          -0.5912594111856687,
          0.6934647980606861,
          0.5390800781488231,
          1.7470506432381439,
          -0.03450745907114956,
          -0.707181173330097,
          -0.044665008961285876,
          0.4992824926000011,
          0.2900182674234592,
          -0.26402137876847886,
          0.7134854838263771,
          0.8697486022017016,
          -0.32494581732031846,
          -1.8258953605818218,
          -0.9714089742848285,
          0.1364875202749454,
          0.8085089711130212,
          -1.189940372542329,
          1.1415922002990941,
          0.31303878909652083,
          0.07872740592811452,
          -0.8804850707698494,
          0.945771020113734,
          0.9427363553366049,
          2.8908017501796586,
          -0.7147150457452619,
          -0.4354516476572672,
          0.2699627387231822,
          1.0788520695229074,
          1.9425369782901003,
          1.53743023968119,
          0.704029202957127,
          0.18835011817526703,
          0.06321745990753334,
          -0.9622731039462551,
          0.26536519263403735,
          0.8535497644365357,
          0.09128468178231858,
          -0.4615436569006375,
          -0.26316627011198274,
          0.02802469580279391,
          1.452081450461478,
          -0.9488734050265268,
          -0.9009223677658657,
          0.3799221442537563,
          -1.163730677310039,
          -1.144888780308993,
          0.9161565284817642,
          2.7215286803927055,
          0.9049618893283375,
          0.0583782412116841,
          0.5307714686865308,
          -1.1219776773436891,
          -2.3998330213190298,
          2.1048335021264672,
          0.7426758999559613,
          0.1709158510501765,
          -0.4194228756857665,
          -0.6358475560663636
         ],
         "y0": " ",
         "yaxis": "y"
        }
       ],
       "layout": {
        "height": 500,
        "legend": {
         "title": {
          "text": "Label"
         },
         "tracegroupgap": 0
        },
        "template": {
         "data": {
          "bar": [
           {
            "error_x": {
             "color": "#2a3f5f"
            },
            "error_y": {
             "color": "#2a3f5f"
            },
            "marker": {
             "line": {
              "color": "#E5ECF6",
              "width": 0.5
             },
             "pattern": {
              "fillmode": "overlay",
              "size": 10,
              "solidity": 0.2
             }
            },
            "type": "bar"
           }
          ],
          "barpolar": [
           {
            "marker": {
             "line": {
              "color": "#E5ECF6",
              "width": 0.5
             },
             "pattern": {
              "fillmode": "overlay",
              "size": 10,
              "solidity": 0.2
             }
            },
            "type": "barpolar"
           }
          ],
          "carpet": [
           {
            "aaxis": {
             "endlinecolor": "#2a3f5f",
             "gridcolor": "white",
             "linecolor": "white",
             "minorgridcolor": "white",
             "startlinecolor": "#2a3f5f"
            },
            "baxis": {
             "endlinecolor": "#2a3f5f",
             "gridcolor": "white",
             "linecolor": "white",
             "minorgridcolor": "white",
             "startlinecolor": "#2a3f5f"
            },
            "type": "carpet"
           }
          ],
          "choropleth": [
           {
            "colorbar": {
             "outlinewidth": 0,
             "ticks": ""
            },
            "type": "choropleth"
           }
          ],
          "contour": [
           {
            "colorbar": {
             "outlinewidth": 0,
             "ticks": ""
            },
            "colorscale": [
             [
              0,
              "#0d0887"
             ],
             [
              0.1111111111111111,
              "#46039f"
             ],
             [
              0.2222222222222222,
              "#7201a8"
             ],
             [
              0.3333333333333333,
              "#9c179e"
             ],
             [
              0.4444444444444444,
              "#bd3786"
             ],
             [
              0.5555555555555556,
              "#d8576b"
             ],
             [
              0.6666666666666666,
              "#ed7953"
             ],
             [
              0.7777777777777778,
              "#fb9f3a"
             ],
             [
              0.8888888888888888,
              "#fdca26"
             ],
             [
              1,
              "#f0f921"
             ]
            ],
            "type": "contour"
           }
          ],
          "contourcarpet": [
           {
            "colorbar": {
             "outlinewidth": 0,
             "ticks": ""
            },
            "type": "contourcarpet"
           }
          ],
          "heatmap": [
           {
            "colorbar": {
             "outlinewidth": 0,
             "ticks": ""
            },
            "colorscale": [
             [
              0,
              "#0d0887"
             ],
             [
              0.1111111111111111,
              "#46039f"
             ],
             [
              0.2222222222222222,
              "#7201a8"
             ],
             [
              0.3333333333333333,
              "#9c179e"
             ],
             [
              0.4444444444444444,
              "#bd3786"
             ],
             [
              0.5555555555555556,
              "#d8576b"
             ],
             [
              0.6666666666666666,
              "#ed7953"
             ],
             [
              0.7777777777777778,
              "#fb9f3a"
             ],
             [
              0.8888888888888888,
              "#fdca26"
             ],
             [
              1,
              "#f0f921"
             ]
            ],
            "type": "heatmap"
           }
          ],
          "heatmapgl": [
           {
            "colorbar": {
             "outlinewidth": 0,
             "ticks": ""
            },
            "colorscale": [
             [
              0,
              "#0d0887"
             ],
             [
              0.1111111111111111,
              "#46039f"
             ],
             [
              0.2222222222222222,
              "#7201a8"
             ],
             [
              0.3333333333333333,
              "#9c179e"
             ],
             [
              0.4444444444444444,
              "#bd3786"
             ],
             [
              0.5555555555555556,
              "#d8576b"
             ],
             [
              0.6666666666666666,
              "#ed7953"
             ],
             [
              0.7777777777777778,
              "#fb9f3a"
             ],
             [
              0.8888888888888888,
              "#fdca26"
             ],
             [
              1,
              "#f0f921"
             ]
            ],
            "type": "heatmapgl"
           }
          ],
          "histogram": [
           {
            "marker": {
             "pattern": {
              "fillmode": "overlay",
              "size": 10,
              "solidity": 0.2
             }
            },
            "type": "histogram"
           }
          ],
          "histogram2d": [
           {
            "colorbar": {
             "outlinewidth": 0,
             "ticks": ""
            },
            "colorscale": [
             [
              0,
              "#0d0887"
             ],
             [
              0.1111111111111111,
              "#46039f"
             ],
             [
              0.2222222222222222,
              "#7201a8"
             ],
             [
              0.3333333333333333,
              "#9c179e"
             ],
             [
              0.4444444444444444,
              "#bd3786"
             ],
             [
              0.5555555555555556,
              "#d8576b"
             ],
             [
              0.6666666666666666,
              "#ed7953"
             ],
             [
              0.7777777777777778,
              "#fb9f3a"
             ],
             [
              0.8888888888888888,
              "#fdca26"
             ],
             [
              1,
              "#f0f921"
             ]
            ],
            "type": "histogram2d"
           }
          ],
          "histogram2dcontour": [
           {
            "colorbar": {
             "outlinewidth": 0,
             "ticks": ""
            },
            "colorscale": [
             [
              0,
              "#0d0887"
             ],
             [
              0.1111111111111111,
              "#46039f"
             ],
             [
              0.2222222222222222,
              "#7201a8"
             ],
             [
              0.3333333333333333,
              "#9c179e"
             ],
             [
              0.4444444444444444,
              "#bd3786"
             ],
             [
              0.5555555555555556,
              "#d8576b"
             ],
             [
              0.6666666666666666,
              "#ed7953"
             ],
             [
              0.7777777777777778,
              "#fb9f3a"
             ],
             [
              0.8888888888888888,
              "#fdca26"
             ],
             [
              1,
              "#f0f921"
             ]
            ],
            "type": "histogram2dcontour"
           }
          ],
          "mesh3d": [
           {
            "colorbar": {
             "outlinewidth": 0,
             "ticks": ""
            },
            "type": "mesh3d"
           }
          ],
          "parcoords": [
           {
            "line": {
             "colorbar": {
              "outlinewidth": 0,
              "ticks": ""
             }
            },
            "type": "parcoords"
           }
          ],
          "pie": [
           {
            "automargin": true,
            "type": "pie"
           }
          ],
          "scatter": [
           {
            "fillpattern": {
             "fillmode": "overlay",
             "size": 10,
             "solidity": 0.2
            },
            "type": "scatter"
           }
          ],
          "scatter3d": [
           {
            "line": {
             "colorbar": {
              "outlinewidth": 0,
              "ticks": ""
             }
            },
            "marker": {
             "colorbar": {
              "outlinewidth": 0,
              "ticks": ""
             }
            },
            "type": "scatter3d"
           }
          ],
          "scattercarpet": [
           {
            "marker": {
             "colorbar": {
              "outlinewidth": 0,
              "ticks": ""
             }
            },
            "type": "scattercarpet"
           }
          ],
          "scattergeo": [
           {
            "marker": {
             "colorbar": {
              "outlinewidth": 0,
              "ticks": ""
             }
            },
            "type": "scattergeo"
           }
          ],
          "scattergl": [
           {
            "marker": {
             "colorbar": {
              "outlinewidth": 0,
              "ticks": ""
             }
            },
            "type": "scattergl"
           }
          ],
          "scattermapbox": [
           {
            "marker": {
             "colorbar": {
              "outlinewidth": 0,
              "ticks": ""
             }
            },
            "type": "scattermapbox"
           }
          ],
          "scatterpolar": [
           {
            "marker": {
             "colorbar": {
              "outlinewidth": 0,
              "ticks": ""
             }
            },
            "type": "scatterpolar"
           }
          ],
          "scatterpolargl": [
           {
            "marker": {
             "colorbar": {
              "outlinewidth": 0,
              "ticks": ""
             }
            },
            "type": "scatterpolargl"
           }
          ],
          "scatterternary": [
           {
            "marker": {
             "colorbar": {
              "outlinewidth": 0,
              "ticks": ""
             }
            },
            "type": "scatterternary"
           }
          ],
          "surface": [
           {
            "colorbar": {
             "outlinewidth": 0,
             "ticks": ""
            },
            "colorscale": [
             [
              0,
              "#0d0887"
             ],
             [
              0.1111111111111111,
              "#46039f"
             ],
             [
              0.2222222222222222,
              "#7201a8"
             ],
             [
              0.3333333333333333,
              "#9c179e"
             ],
             [
              0.4444444444444444,
              "#bd3786"
             ],
             [
              0.5555555555555556,
              "#d8576b"
             ],
             [
              0.6666666666666666,
              "#ed7953"
             ],
             [
              0.7777777777777778,
              "#fb9f3a"
             ],
             [
              0.8888888888888888,
              "#fdca26"
             ],
             [
              1,
              "#f0f921"
             ]
            ],
            "type": "surface"
           }
          ],
          "table": [
           {
            "cells": {
             "fill": {
              "color": "#EBF0F8"
             },
             "line": {
              "color": "white"
             }
            },
            "header": {
             "fill": {
              "color": "#C8D4E3"
             },
             "line": {
              "color": "white"
             }
            },
            "type": "table"
           }
          ]
         },
         "layout": {
          "annotationdefaults": {
           "arrowcolor": "#2a3f5f",
           "arrowhead": 0,
           "arrowwidth": 1
          },
          "autotypenumbers": "strict",
          "coloraxis": {
           "colorbar": {
            "outlinewidth": 0,
            "ticks": ""
           }
          },
          "colorscale": {
           "diverging": [
            [
             0,
             "#8e0152"
            ],
            [
             0.1,
             "#c51b7d"
            ],
            [
             0.2,
             "#de77ae"
            ],
            [
             0.3,
             "#f1b6da"
            ],
            [
             0.4,
             "#fde0ef"
            ],
            [
             0.5,
             "#f7f7f7"
            ],
            [
             0.6,
             "#e6f5d0"
            ],
            [
             0.7,
             "#b8e186"
            ],
            [
             0.8,
             "#7fbc41"
            ],
            [
             0.9,
             "#4d9221"
            ],
            [
             1,
             "#276419"
            ]
           ],
           "sequential": [
            [
             0,
             "#0d0887"
            ],
            [
             0.1111111111111111,
             "#46039f"
            ],
            [
             0.2222222222222222,
             "#7201a8"
            ],
            [
             0.3333333333333333,
             "#9c179e"
            ],
            [
             0.4444444444444444,
             "#bd3786"
            ],
            [
             0.5555555555555556,
             "#d8576b"
            ],
            [
             0.6666666666666666,
             "#ed7953"
            ],
            [
             0.7777777777777778,
             "#fb9f3a"
            ],
            [
             0.8888888888888888,
             "#fdca26"
            ],
            [
             1,
             "#f0f921"
            ]
           ],
           "sequentialminus": [
            [
             0,
             "#0d0887"
            ],
            [
             0.1111111111111111,
             "#46039f"
            ],
            [
             0.2222222222222222,
             "#7201a8"
            ],
            [
             0.3333333333333333,
             "#9c179e"
            ],
            [
             0.4444444444444444,
             "#bd3786"
            ],
            [
             0.5555555555555556,
             "#d8576b"
            ],
            [
             0.6666666666666666,
             "#ed7953"
            ],
            [
             0.7777777777777778,
             "#fb9f3a"
            ],
            [
             0.8888888888888888,
             "#fdca26"
            ],
            [
             1,
             "#f0f921"
            ]
           ]
          },
          "colorway": [
           "#636efa",
           "#EF553B",
           "#00cc96",
           "#ab63fa",
           "#FFA15A",
           "#19d3f3",
           "#FF6692",
           "#B6E880",
           "#FF97FF",
           "#FECB52"
          ],
          "font": {
           "color": "#2a3f5f"
          },
          "geo": {
           "bgcolor": "white",
           "lakecolor": "white",
           "landcolor": "#E5ECF6",
           "showlakes": true,
           "showland": true,
           "subunitcolor": "white"
          },
          "hoverlabel": {
           "align": "left"
          },
          "hovermode": "closest",
          "mapbox": {
           "style": "light"
          },
          "paper_bgcolor": "white",
          "plot_bgcolor": "#E5ECF6",
          "polar": {
           "angularaxis": {
            "gridcolor": "white",
            "linecolor": "white",
            "ticks": ""
           },
           "bgcolor": "#E5ECF6",
           "radialaxis": {
            "gridcolor": "white",
            "linecolor": "white",
            "ticks": ""
           }
          },
          "scene": {
           "xaxis": {
            "backgroundcolor": "#E5ECF6",
            "gridcolor": "white",
            "gridwidth": 2,
            "linecolor": "white",
            "showbackground": true,
            "ticks": "",
            "zerolinecolor": "white"
           },
           "yaxis": {
            "backgroundcolor": "#E5ECF6",
            "gridcolor": "white",
            "gridwidth": 2,
            "linecolor": "white",
            "showbackground": true,
            "ticks": "",
            "zerolinecolor": "white"
           },
           "zaxis": {
            "backgroundcolor": "#E5ECF6",
            "gridcolor": "white",
            "gridwidth": 2,
            "linecolor": "white",
            "showbackground": true,
            "ticks": "",
            "zerolinecolor": "white"
           }
          },
          "shapedefaults": {
           "line": {
            "color": "#2a3f5f"
           }
          },
          "ternary": {
           "aaxis": {
            "gridcolor": "white",
            "linecolor": "white",
            "ticks": ""
           },
           "baxis": {
            "gridcolor": "white",
            "linecolor": "white",
            "ticks": ""
           },
           "bgcolor": "#E5ECF6",
           "caxis": {
            "gridcolor": "white",
            "linecolor": "white",
            "ticks": ""
           }
          },
          "title": {
           "x": 0.05
          },
          "xaxis": {
           "automargin": true,
           "gridcolor": "white",
           "linecolor": "white",
           "ticks": "",
           "title": {
            "standoff": 15
           },
           "zerolinecolor": "white",
           "zerolinewidth": 2
          },
          "yaxis": {
           "automargin": true,
           "gridcolor": "white",
           "linecolor": "white",
           "ticks": "",
           "title": {
            "standoff": 15
           },
           "zerolinecolor": "white",
           "zerolinewidth": 2
          }
         }
        },
        "title": {
         "text": "Box Plots"
        },
        "violinmode": "group",
        "width": 800,
        "xaxis": {
         "anchor": "y",
         "domain": [
          0,
          1
         ]
        },
        "yaxis": {
         "anchor": "x",
         "domain": [
          0,
          1
         ],
         "title": {
          "text": "Data"
         }
        }
       }
      }
     },
     "metadata": {},
     "output_type": "display_data"
    }
   ],
   "source": [
    "fig = px.violin(df, y=\"Data\", \n",
    "                color=\"Label\",\n",
    "                box= True,\n",
    "                color_discrete_sequence=['teal', 'purple'],\n",
    "                height = 500, width = 800,\n",
    "                title='Box Plots')\n",
    "fig.show()"
   ]
  },
  {
   "cell_type": "markdown",
   "metadata": {},
   "source": [
    "4. Show the original data points by setting the input `points` as `'all'`"
   ]
  },
  {
   "cell_type": "code",
   "execution_count": 11,
   "metadata": {},
   "outputs": [
    {
     "data": {
      "application/vnd.plotly.v1+json": {
       "config": {
        "plotlyServerURL": "https://plot.ly"
       },
       "data": [
        {
         "alignmentgroup": "True",
         "box": {
          "visible": true
         },
         "hovertemplate": "Label=Normal<br>Data=%{y}<extra></extra>",
         "legendgroup": "Normal",
         "marker": {
          "color": "teal"
         },
         "name": "Normal",
         "offsetgroup": "Normal",
         "orientation": "v",
         "points": "all",
         "scalegroup": "True",
         "showlegend": true,
         "type": "violin",
         "x0": " ",
         "xaxis": "x",
         "y": [
          2.1448352410898437,
          1.812062337872311,
          1.6488223566553466,
          0.6383520097739852,
          1.3850895932539236,
          1.9878156635393824,
          2.882980826249238,
          -0.42530427396596027,
          1.7929549857509943,
          3.78959539581666,
          1.073154712193836,
          3.0224917157527464,
          3.8930275852927005,
          0.5215360713906942,
          2.9433606501705585,
          1.320571720914125,
          2.355280429792817,
          2.051523713885342,
          0.8011775334001139,
          4.501280419651131,
          3.285652575443162,
          1.344054583903116,
          2.5633217625784743,
          0.013915131720859897,
          2.8403307182120603,
          2.9755692798626647,
          2.276105537957386,
          1.6640119533496447,
          2.2458350719901388,
          2.0592592164616748,
          1.5059161412481548,
          0.9459755513758641,
          1.5579721960831934,
          2.510368580276934,
          2.1363375477014395,
          0.47931269708959756,
          1.8466747325007604,
          0.7841008228769961,
          0.4445231914030272,
          2.1060307743469373,
          0.28911968385028164,
          2.639166582342756,
          2.2611810268061037,
          0.8672276703752413,
          2.7770888296829663,
          1.0642480062829702,
          3.4416813935832664,
          2.058359099142134,
          2.724646328211013,
          2.4109293517799184,
          2.8076186844694746,
          1.2669149490374856,
          1.5946513210282465,
          2.0156936142732595,
          4.068062899879825,
          2.014587807206504,
          2.884557044992201,
          1.1771939528798239,
          1.2981358498948743,
          2.4077364493501565,
          3.0372790046077416,
          0.32779644995155843,
          1.3454964281907558,
          1.4015576004639556,
          2.220234382278142,
          1.072531364713253,
          3.3613269417119724,
          2.0279669873560993,
          3.492322326850484,
          1.7465702238794685,
          3.250651912090219,
          2.958282118732861,
          2.167004809379246,
          -0.3724899498136178,
          2.8622802819342734,
          1.828809528797068,
          3.2154000449039475,
          1.290413683742523,
          1.9698479973963334,
          2.717676720548606,
          2.0328269808393316,
          2.9666398662373386,
          1.7894343732830806,
          4.512983019595203,
          1.511410124011711,
          2.0278949037784804,
          3.0320114912139404,
          3.4325191622408244,
          1.7529561797306812,
          3.9313568041201856,
          0.6682694698604486,
          1.7726505995441306,
          1.4355543588564204,
          1.7816247305039385,
          1.861296574447409,
          2.5736336957952766,
          1.4388426961757905,
          -0.27712791500112477,
          1.2684313584068483,
          2.464726380100814,
          2.7591939288637337,
          0.9281680759058382,
          2.461855557142363,
          2.4571968422271144,
          1.490481341324251,
          2.4880256998976185,
          2.8089582949554313,
          1.0103551394934536,
          2.112828490566791,
          2.6856571369333837,
          2.681478416049845,
          0.541200467380017,
          1.6703106929035658,
          2.3006128696408847,
          1.073116968510472,
          1.3043390775679606,
          2.3324743958431506,
          1.8727927694097817,
          3.7630078484529186,
          0.44525233935448005,
          0.9427622211154778,
          1.2407812136651437,
          2.7223030146320975,
          3.6444216111982786,
          3.88948262993308,
          0.38162858370922303,
          -0.9123487818974407,
          0.9921325945795041,
          3.2037838393049003,
          2.6528911457216866,
          2.4229849072736265,
          2.1241066840233147,
          1.2148557510995994,
          3.213687090993716,
          2.6321934016674353,
          1.5297901480880232,
          -0.8122339201646325,
          -0.2546825756859361,
          2.8383168563447265,
          0.054080108331132415,
          2.961388543425668,
          1.5793185442316244,
          1.575957492065887,
          2.4649531499368798,
          3.8835255866685205,
          3.212589737297795,
          2.90540642739278,
          2.0746367179593617,
          0.5853552037202634,
          2.7133015636836113,
          2.7404021155742986,
          1.6282040988722053,
          1.4758997595291241,
          1.7298531506417778,
          3.232776088013285,
          2.037437228644149,
          2.83959105110852,
          1.0331023939748913,
          1.5004967128465656,
          2.877054619148736,
          1.5035802538146796,
          -0.0844649079098252,
          -0.20302038548429557,
          0.6553037738058096,
          2.4029612186545273,
          1.3951944904658724,
          0.8224523295832902,
          1.0779499952194365,
          2.2752294124572026,
          1.407827896009517,
          1.5199621626262831,
          4.998484927104643,
          2.8202015814507853,
          3.4981210607560236,
          1.82376647396997,
          2.348575126265902,
          1.6720579021774593,
          3.3344114300277363,
          1.9604061189312774,
          1.9387840273784258,
          1.5497589730183448,
          2.382371815787194,
          1.9572406487115643,
          3.510945888591035,
          1.8430540244910985,
          2.250105638089431,
          1.837861404846933,
          3.0322832878493715,
          1.275914986920429,
          1.2554279808553537,
          -1.0609285378227278,
          2.650703886331369,
          0.2895022680749868,
          3.922643658753358,
          3.209774253367411,
          1.6603012163304578,
          2.931112999262301,
          1.4453919007782132,
          1.3930855650377503,
          1.8692852206157908
         ],
         "y0": " ",
         "yaxis": "y"
        },
        {
         "alignmentgroup": "True",
         "box": {
          "visible": true
         },
         "hovertemplate": "Label=t-Student<br>Data=%{y}<extra></extra>",
         "legendgroup": "t-Student",
         "marker": {
          "color": "purple"
         },
         "name": "t-Student",
         "offsetgroup": "t-Student",
         "orientation": "v",
         "points": "all",
         "scalegroup": "True",
         "showlegend": true,
         "type": "violin",
         "x0": " ",
         "xaxis": "x",
         "y": [
          -0.09653810421423031,
          0.07751214615542559,
          0.19345883766940522,
          2.0179947760356556,
          0.991876893101285,
          -0.32211472335193037,
          -3.471545137926429,
          0.17037107654023043,
          -2.367081188271045,
          -0.5238146816875762,
          -0.9246242000448966,
          0.5458911262727042,
          -0.5472875637846676,
          -2.7138700852794106,
          0.06496748979871966,
          0.8876146014298789,
          -0.6506141244285795,
          -1.8787677569369958,
          -7.014922857678014,
          -2.4967748870690025,
          0.15774689580992934,
          0.4795894745455748,
          -0.14729018379356176,
          -1.9252564872282516,
          -1.011239383382226,
          1.055589350280956,
          2.1764704170530282,
          2.5870153291714724,
          -0.4166981734729009,
          -1.5725092761782915,
          -0.7522006314428015,
          -1.1862943328174427,
          -0.1530556833025442,
          -0.6683614398338816,
          -1.6375526264120985,
          -1.7164881322813526,
          0.14552583104382516,
          -1.440606564645991,
          1.058274308235468,
          -0.5048058765709675,
          1.5778106820238584,
          1.4434857907379244,
          0.7076693007620211,
          -0.8076101069027543,
          -0.6522601379179523,
          -0.2469282994327452,
          -1.0707349573457186,
          0.3582213027574397,
          0.9725780460504533,
          -0.7457620261706895,
          -0.14566481394277245,
          -1.605165566235269,
          3.8585436835997924,
          -0.18482013919945067,
          1.3392245821362523,
          -1.6115946962265235,
          0.28185023064859643,
          0.28467880117613553,
          1.7909573844442226,
          2.5662188572938116,
          1.3408814105416365,
          0.8810738307857818,
          -1.1514380736461187,
          0.1951980395940728,
          -0.13885865556570381,
          0.582140414073604,
          0.13241125314209246,
          2.281980627411205,
          -0.6427184181887908,
          0.9248665314967439,
          2.46451739640618,
          1.133226043882831,
          0.35503358702326127,
          0.7035992790203395,
          0.3023022299101454,
          -0.053708349955522566,
          0.6280011084402214,
          0.560051344787312,
          0.507692963077803,
          0.17357499627749146,
          1.0142418979472507,
          1.017666848403959,
          -1.330230849366075,
          0.6994978543525194,
          -0.07858013192039262,
          0.23474351206954977,
          -5.124046191772931,
          -1.168243471890053,
          -0.41825493274241926,
          0.6547792108235284,
          -0.5069659799537539,
          0.27016034933042454,
          -1.5881418176366675,
          -0.25581145456424925,
          -0.9670284517516372,
          -1.216055864716631,
          -1.3466682605782456,
          2.1331530159724936,
          0.7902363700849286,
          0.8041122040209232,
          -0.7421354232440099,
          -1.8804275805824453,
          1.1460511745529,
          -0.1300398265400213,
          0.3920920239833112,
          0.2646292901412083,
          -0.7747009297844754,
          -0.26513284002372944,
          0.2572731594874694,
          -2.677060942415512,
          -0.6593702047437806,
          0.15196457693478554,
          -0.1887634643964875,
          -1.0469668805285868,
          -3.5787601517254095,
          -0.01676763817872639,
          -0.7368435555666392,
          0.055330546133328225,
          -0.6647705335850738,
          -0.05661432358556272,
          -0.39386261231256076,
          -0.20248979748928483,
          -0.9874373689696749,
          0.840653740268591,
          1.0512445757319149,
          0.882778441644591,
          1.797203975896927,
          -0.5528023029035531,
          0.07253576140569559,
          -0.44395949634990467,
          1.754691794124901,
          0.6763997493317636,
          -0.4329185073810288,
          -0.31654258258324813,
          0.7561504384535077,
          -1.3812088216505682,
          0.5950976417943096,
          -1.5561197735229215,
          -0.2998826550244394,
          0.07230849358744112,
          -0.5420201478639451,
          -0.5912594111856687,
          0.6934647980606861,
          0.5390800781488231,
          1.7470506432381439,
          -0.03450745907114956,
          -0.707181173330097,
          -0.044665008961285876,
          0.4992824926000011,
          0.2900182674234592,
          -0.26402137876847886,
          0.7134854838263771,
          0.8697486022017016,
          -0.32494581732031846,
          -1.8258953605818218,
          -0.9714089742848285,
          0.1364875202749454,
          0.8085089711130212,
          -1.189940372542329,
          1.1415922002990941,
          0.31303878909652083,
          0.07872740592811452,
          -0.8804850707698494,
          0.945771020113734,
          0.9427363553366049,
          2.8908017501796586,
          -0.7147150457452619,
          -0.4354516476572672,
          0.2699627387231822,
          1.0788520695229074,
          1.9425369782901003,
          1.53743023968119,
          0.704029202957127,
          0.18835011817526703,
          0.06321745990753334,
          -0.9622731039462551,
          0.26536519263403735,
          0.8535497644365357,
          0.09128468178231858,
          -0.4615436569006375,
          -0.26316627011198274,
          0.02802469580279391,
          1.452081450461478,
          -0.9488734050265268,
          -0.9009223677658657,
          0.3799221442537563,
          -1.163730677310039,
          -1.144888780308993,
          0.9161565284817642,
          2.7215286803927055,
          0.9049618893283375,
          0.0583782412116841,
          0.5307714686865308,
          -1.1219776773436891,
          -2.3998330213190298,
          2.1048335021264672,
          0.7426758999559613,
          0.1709158510501765,
          -0.4194228756857665,
          -0.6358475560663636
         ],
         "y0": " ",
         "yaxis": "y"
        }
       ],
       "layout": {
        "height": 500,
        "legend": {
         "title": {
          "text": "Label"
         },
         "tracegroupgap": 0
        },
        "template": {
         "data": {
          "bar": [
           {
            "error_x": {
             "color": "#2a3f5f"
            },
            "error_y": {
             "color": "#2a3f5f"
            },
            "marker": {
             "line": {
              "color": "#E5ECF6",
              "width": 0.5
             },
             "pattern": {
              "fillmode": "overlay",
              "size": 10,
              "solidity": 0.2
             }
            },
            "type": "bar"
           }
          ],
          "barpolar": [
           {
            "marker": {
             "line": {
              "color": "#E5ECF6",
              "width": 0.5
             },
             "pattern": {
              "fillmode": "overlay",
              "size": 10,
              "solidity": 0.2
             }
            },
            "type": "barpolar"
           }
          ],
          "carpet": [
           {
            "aaxis": {
             "endlinecolor": "#2a3f5f",
             "gridcolor": "white",
             "linecolor": "white",
             "minorgridcolor": "white",
             "startlinecolor": "#2a3f5f"
            },
            "baxis": {
             "endlinecolor": "#2a3f5f",
             "gridcolor": "white",
             "linecolor": "white",
             "minorgridcolor": "white",
             "startlinecolor": "#2a3f5f"
            },
            "type": "carpet"
           }
          ],
          "choropleth": [
           {
            "colorbar": {
             "outlinewidth": 0,
             "ticks": ""
            },
            "type": "choropleth"
           }
          ],
          "contour": [
           {
            "colorbar": {
             "outlinewidth": 0,
             "ticks": ""
            },
            "colorscale": [
             [
              0,
              "#0d0887"
             ],
             [
              0.1111111111111111,
              "#46039f"
             ],
             [
              0.2222222222222222,
              "#7201a8"
             ],
             [
              0.3333333333333333,
              "#9c179e"
             ],
             [
              0.4444444444444444,
              "#bd3786"
             ],
             [
              0.5555555555555556,
              "#d8576b"
             ],
             [
              0.6666666666666666,
              "#ed7953"
             ],
             [
              0.7777777777777778,
              "#fb9f3a"
             ],
             [
              0.8888888888888888,
              "#fdca26"
             ],
             [
              1,
              "#f0f921"
             ]
            ],
            "type": "contour"
           }
          ],
          "contourcarpet": [
           {
            "colorbar": {
             "outlinewidth": 0,
             "ticks": ""
            },
            "type": "contourcarpet"
           }
          ],
          "heatmap": [
           {
            "colorbar": {
             "outlinewidth": 0,
             "ticks": ""
            },
            "colorscale": [
             [
              0,
              "#0d0887"
             ],
             [
              0.1111111111111111,
              "#46039f"
             ],
             [
              0.2222222222222222,
              "#7201a8"
             ],
             [
              0.3333333333333333,
              "#9c179e"
             ],
             [
              0.4444444444444444,
              "#bd3786"
             ],
             [
              0.5555555555555556,
              "#d8576b"
             ],
             [
              0.6666666666666666,
              "#ed7953"
             ],
             [
              0.7777777777777778,
              "#fb9f3a"
             ],
             [
              0.8888888888888888,
              "#fdca26"
             ],
             [
              1,
              "#f0f921"
             ]
            ],
            "type": "heatmap"
           }
          ],
          "heatmapgl": [
           {
            "colorbar": {
             "outlinewidth": 0,
             "ticks": ""
            },
            "colorscale": [
             [
              0,
              "#0d0887"
             ],
             [
              0.1111111111111111,
              "#46039f"
             ],
             [
              0.2222222222222222,
              "#7201a8"
             ],
             [
              0.3333333333333333,
              "#9c179e"
             ],
             [
              0.4444444444444444,
              "#bd3786"
             ],
             [
              0.5555555555555556,
              "#d8576b"
             ],
             [
              0.6666666666666666,
              "#ed7953"
             ],
             [
              0.7777777777777778,
              "#fb9f3a"
             ],
             [
              0.8888888888888888,
              "#fdca26"
             ],
             [
              1,
              "#f0f921"
             ]
            ],
            "type": "heatmapgl"
           }
          ],
          "histogram": [
           {
            "marker": {
             "pattern": {
              "fillmode": "overlay",
              "size": 10,
              "solidity": 0.2
             }
            },
            "type": "histogram"
           }
          ],
          "histogram2d": [
           {
            "colorbar": {
             "outlinewidth": 0,
             "ticks": ""
            },
            "colorscale": [
             [
              0,
              "#0d0887"
             ],
             [
              0.1111111111111111,
              "#46039f"
             ],
             [
              0.2222222222222222,
              "#7201a8"
             ],
             [
              0.3333333333333333,
              "#9c179e"
             ],
             [
              0.4444444444444444,
              "#bd3786"
             ],
             [
              0.5555555555555556,
              "#d8576b"
             ],
             [
              0.6666666666666666,
              "#ed7953"
             ],
             [
              0.7777777777777778,
              "#fb9f3a"
             ],
             [
              0.8888888888888888,
              "#fdca26"
             ],
             [
              1,
              "#f0f921"
             ]
            ],
            "type": "histogram2d"
           }
          ],
          "histogram2dcontour": [
           {
            "colorbar": {
             "outlinewidth": 0,
             "ticks": ""
            },
            "colorscale": [
             [
              0,
              "#0d0887"
             ],
             [
              0.1111111111111111,
              "#46039f"
             ],
             [
              0.2222222222222222,
              "#7201a8"
             ],
             [
              0.3333333333333333,
              "#9c179e"
             ],
             [
              0.4444444444444444,
              "#bd3786"
             ],
             [
              0.5555555555555556,
              "#d8576b"
             ],
             [
              0.6666666666666666,
              "#ed7953"
             ],
             [
              0.7777777777777778,
              "#fb9f3a"
             ],
             [
              0.8888888888888888,
              "#fdca26"
             ],
             [
              1,
              "#f0f921"
             ]
            ],
            "type": "histogram2dcontour"
           }
          ],
          "mesh3d": [
           {
            "colorbar": {
             "outlinewidth": 0,
             "ticks": ""
            },
            "type": "mesh3d"
           }
          ],
          "parcoords": [
           {
            "line": {
             "colorbar": {
              "outlinewidth": 0,
              "ticks": ""
             }
            },
            "type": "parcoords"
           }
          ],
          "pie": [
           {
            "automargin": true,
            "type": "pie"
           }
          ],
          "scatter": [
           {
            "fillpattern": {
             "fillmode": "overlay",
             "size": 10,
             "solidity": 0.2
            },
            "type": "scatter"
           }
          ],
          "scatter3d": [
           {
            "line": {
             "colorbar": {
              "outlinewidth": 0,
              "ticks": ""
             }
            },
            "marker": {
             "colorbar": {
              "outlinewidth": 0,
              "ticks": ""
             }
            },
            "type": "scatter3d"
           }
          ],
          "scattercarpet": [
           {
            "marker": {
             "colorbar": {
              "outlinewidth": 0,
              "ticks": ""
             }
            },
            "type": "scattercarpet"
           }
          ],
          "scattergeo": [
           {
            "marker": {
             "colorbar": {
              "outlinewidth": 0,
              "ticks": ""
             }
            },
            "type": "scattergeo"
           }
          ],
          "scattergl": [
           {
            "marker": {
             "colorbar": {
              "outlinewidth": 0,
              "ticks": ""
             }
            },
            "type": "scattergl"
           }
          ],
          "scattermapbox": [
           {
            "marker": {
             "colorbar": {
              "outlinewidth": 0,
              "ticks": ""
             }
            },
            "type": "scattermapbox"
           }
          ],
          "scatterpolar": [
           {
            "marker": {
             "colorbar": {
              "outlinewidth": 0,
              "ticks": ""
             }
            },
            "type": "scatterpolar"
           }
          ],
          "scatterpolargl": [
           {
            "marker": {
             "colorbar": {
              "outlinewidth": 0,
              "ticks": ""
             }
            },
            "type": "scatterpolargl"
           }
          ],
          "scatterternary": [
           {
            "marker": {
             "colorbar": {
              "outlinewidth": 0,
              "ticks": ""
             }
            },
            "type": "scatterternary"
           }
          ],
          "surface": [
           {
            "colorbar": {
             "outlinewidth": 0,
             "ticks": ""
            },
            "colorscale": [
             [
              0,
              "#0d0887"
             ],
             [
              0.1111111111111111,
              "#46039f"
             ],
             [
              0.2222222222222222,
              "#7201a8"
             ],
             [
              0.3333333333333333,
              "#9c179e"
             ],
             [
              0.4444444444444444,
              "#bd3786"
             ],
             [
              0.5555555555555556,
              "#d8576b"
             ],
             [
              0.6666666666666666,
              "#ed7953"
             ],
             [
              0.7777777777777778,
              "#fb9f3a"
             ],
             [
              0.8888888888888888,
              "#fdca26"
             ],
             [
              1,
              "#f0f921"
             ]
            ],
            "type": "surface"
           }
          ],
          "table": [
           {
            "cells": {
             "fill": {
              "color": "#EBF0F8"
             },
             "line": {
              "color": "white"
             }
            },
            "header": {
             "fill": {
              "color": "#C8D4E3"
             },
             "line": {
              "color": "white"
             }
            },
            "type": "table"
           }
          ]
         },
         "layout": {
          "annotationdefaults": {
           "arrowcolor": "#2a3f5f",
           "arrowhead": 0,
           "arrowwidth": 1
          },
          "autotypenumbers": "strict",
          "coloraxis": {
           "colorbar": {
            "outlinewidth": 0,
            "ticks": ""
           }
          },
          "colorscale": {
           "diverging": [
            [
             0,
             "#8e0152"
            ],
            [
             0.1,
             "#c51b7d"
            ],
            [
             0.2,
             "#de77ae"
            ],
            [
             0.3,
             "#f1b6da"
            ],
            [
             0.4,
             "#fde0ef"
            ],
            [
             0.5,
             "#f7f7f7"
            ],
            [
             0.6,
             "#e6f5d0"
            ],
            [
             0.7,
             "#b8e186"
            ],
            [
             0.8,
             "#7fbc41"
            ],
            [
             0.9,
             "#4d9221"
            ],
            [
             1,
             "#276419"
            ]
           ],
           "sequential": [
            [
             0,
             "#0d0887"
            ],
            [
             0.1111111111111111,
             "#46039f"
            ],
            [
             0.2222222222222222,
             "#7201a8"
            ],
            [
             0.3333333333333333,
             "#9c179e"
            ],
            [
             0.4444444444444444,
             "#bd3786"
            ],
            [
             0.5555555555555556,
             "#d8576b"
            ],
            [
             0.6666666666666666,
             "#ed7953"
            ],
            [
             0.7777777777777778,
             "#fb9f3a"
            ],
            [
             0.8888888888888888,
             "#fdca26"
            ],
            [
             1,
             "#f0f921"
            ]
           ],
           "sequentialminus": [
            [
             0,
             "#0d0887"
            ],
            [
             0.1111111111111111,
             "#46039f"
            ],
            [
             0.2222222222222222,
             "#7201a8"
            ],
            [
             0.3333333333333333,
             "#9c179e"
            ],
            [
             0.4444444444444444,
             "#bd3786"
            ],
            [
             0.5555555555555556,
             "#d8576b"
            ],
            [
             0.6666666666666666,
             "#ed7953"
            ],
            [
             0.7777777777777778,
             "#fb9f3a"
            ],
            [
             0.8888888888888888,
             "#fdca26"
            ],
            [
             1,
             "#f0f921"
            ]
           ]
          },
          "colorway": [
           "#636efa",
           "#EF553B",
           "#00cc96",
           "#ab63fa",
           "#FFA15A",
           "#19d3f3",
           "#FF6692",
           "#B6E880",
           "#FF97FF",
           "#FECB52"
          ],
          "font": {
           "color": "#2a3f5f"
          },
          "geo": {
           "bgcolor": "white",
           "lakecolor": "white",
           "landcolor": "#E5ECF6",
           "showlakes": true,
           "showland": true,
           "subunitcolor": "white"
          },
          "hoverlabel": {
           "align": "left"
          },
          "hovermode": "closest",
          "mapbox": {
           "style": "light"
          },
          "paper_bgcolor": "white",
          "plot_bgcolor": "#E5ECF6",
          "polar": {
           "angularaxis": {
            "gridcolor": "white",
            "linecolor": "white",
            "ticks": ""
           },
           "bgcolor": "#E5ECF6",
           "radialaxis": {
            "gridcolor": "white",
            "linecolor": "white",
            "ticks": ""
           }
          },
          "scene": {
           "xaxis": {
            "backgroundcolor": "#E5ECF6",
            "gridcolor": "white",
            "gridwidth": 2,
            "linecolor": "white",
            "showbackground": true,
            "ticks": "",
            "zerolinecolor": "white"
           },
           "yaxis": {
            "backgroundcolor": "#E5ECF6",
            "gridcolor": "white",
            "gridwidth": 2,
            "linecolor": "white",
            "showbackground": true,
            "ticks": "",
            "zerolinecolor": "white"
           },
           "zaxis": {
            "backgroundcolor": "#E5ECF6",
            "gridcolor": "white",
            "gridwidth": 2,
            "linecolor": "white",
            "showbackground": true,
            "ticks": "",
            "zerolinecolor": "white"
           }
          },
          "shapedefaults": {
           "line": {
            "color": "#2a3f5f"
           }
          },
          "ternary": {
           "aaxis": {
            "gridcolor": "white",
            "linecolor": "white",
            "ticks": ""
           },
           "baxis": {
            "gridcolor": "white",
            "linecolor": "white",
            "ticks": ""
           },
           "bgcolor": "#E5ECF6",
           "caxis": {
            "gridcolor": "white",
            "linecolor": "white",
            "ticks": ""
           }
          },
          "title": {
           "x": 0.05
          },
          "xaxis": {
           "automargin": true,
           "gridcolor": "white",
           "linecolor": "white",
           "ticks": "",
           "title": {
            "standoff": 15
           },
           "zerolinecolor": "white",
           "zerolinewidth": 2
          },
          "yaxis": {
           "automargin": true,
           "gridcolor": "white",
           "linecolor": "white",
           "ticks": "",
           "title": {
            "standoff": 15
           },
           "zerolinecolor": "white",
           "zerolinewidth": 2
          }
         }
        },
        "title": {
         "text": "Box Plots"
        },
        "violinmode": "group",
        "width": 800,
        "xaxis": {
         "anchor": "y",
         "domain": [
          0,
          1
         ]
        },
        "yaxis": {
         "anchor": "x",
         "domain": [
          0,
          1
         ],
         "title": {
          "text": "Data"
         }
        }
       }
      }
     },
     "metadata": {},
     "output_type": "display_data"
    }
   ],
   "source": [
    "fig = px.violin(df, y=\"Data\", \n",
    "                color=\"Label\",\n",
    "                points=\"all\",\n",
    "                box=True,\n",
    "                color_discrete_sequence=['teal', 'purple'],\n",
    "                height = 500, width = 800,\n",
    "                title='Box Plots')\n",
    "fig.show()"
   ]
  },
  {
   "cell_type": "markdown",
   "metadata": {},
   "source": [
    "5. Overlay the two samples by setting the argument `violinmode` as `'overlay'`"
   ]
  },
  {
   "cell_type": "code",
   "execution_count": 16,
   "metadata": {},
   "outputs": [
    {
     "data": {
      "application/vnd.plotly.v1+json": {
       "config": {
        "plotlyServerURL": "https://plot.ly"
       },
       "data": [
        {
         "alignmentgroup": "True",
         "box": {
          "visible": true
         },
         "hovertemplate": "Label=Normal<br>Data=%{y}<extra></extra>",
         "legendgroup": "Normal",
         "marker": {
          "color": "teal"
         },
         "name": "Normal",
         "offsetgroup": "Normal",
         "orientation": "v",
         "points": "all",
         "scalegroup": "True",
         "showlegend": true,
         "type": "violin",
         "x0": " ",
         "xaxis": "x",
         "y": [
          2.1448352410898437,
          1.812062337872311,
          1.6488223566553466,
          0.6383520097739852,
          1.3850895932539236,
          1.9878156635393824,
          2.882980826249238,
          -0.42530427396596027,
          1.7929549857509943,
          3.78959539581666,
          1.073154712193836,
          3.0224917157527464,
          3.8930275852927005,
          0.5215360713906942,
          2.9433606501705585,
          1.320571720914125,
          2.355280429792817,
          2.051523713885342,
          0.8011775334001139,
          4.501280419651131,
          3.285652575443162,
          1.344054583903116,
          2.5633217625784743,
          0.013915131720859897,
          2.8403307182120603,
          2.9755692798626647,
          2.276105537957386,
          1.6640119533496447,
          2.2458350719901388,
          2.0592592164616748,
          1.5059161412481548,
          0.9459755513758641,
          1.5579721960831934,
          2.510368580276934,
          2.1363375477014395,
          0.47931269708959756,
          1.8466747325007604,
          0.7841008228769961,
          0.4445231914030272,
          2.1060307743469373,
          0.28911968385028164,
          2.639166582342756,
          2.2611810268061037,
          0.8672276703752413,
          2.7770888296829663,
          1.0642480062829702,
          3.4416813935832664,
          2.058359099142134,
          2.724646328211013,
          2.4109293517799184,
          2.8076186844694746,
          1.2669149490374856,
          1.5946513210282465,
          2.0156936142732595,
          4.068062899879825,
          2.014587807206504,
          2.884557044992201,
          1.1771939528798239,
          1.2981358498948743,
          2.4077364493501565,
          3.0372790046077416,
          0.32779644995155843,
          1.3454964281907558,
          1.4015576004639556,
          2.220234382278142,
          1.072531364713253,
          3.3613269417119724,
          2.0279669873560993,
          3.492322326850484,
          1.7465702238794685,
          3.250651912090219,
          2.958282118732861,
          2.167004809379246,
          -0.3724899498136178,
          2.8622802819342734,
          1.828809528797068,
          3.2154000449039475,
          1.290413683742523,
          1.9698479973963334,
          2.717676720548606,
          2.0328269808393316,
          2.9666398662373386,
          1.7894343732830806,
          4.512983019595203,
          1.511410124011711,
          2.0278949037784804,
          3.0320114912139404,
          3.4325191622408244,
          1.7529561797306812,
          3.9313568041201856,
          0.6682694698604486,
          1.7726505995441306,
          1.4355543588564204,
          1.7816247305039385,
          1.861296574447409,
          2.5736336957952766,
          1.4388426961757905,
          -0.27712791500112477,
          1.2684313584068483,
          2.464726380100814,
          2.7591939288637337,
          0.9281680759058382,
          2.461855557142363,
          2.4571968422271144,
          1.490481341324251,
          2.4880256998976185,
          2.8089582949554313,
          1.0103551394934536,
          2.112828490566791,
          2.6856571369333837,
          2.681478416049845,
          0.541200467380017,
          1.6703106929035658,
          2.3006128696408847,
          1.073116968510472,
          1.3043390775679606,
          2.3324743958431506,
          1.8727927694097817,
          3.7630078484529186,
          0.44525233935448005,
          0.9427622211154778,
          1.2407812136651437,
          2.7223030146320975,
          3.6444216111982786,
          3.88948262993308,
          0.38162858370922303,
          -0.9123487818974407,
          0.9921325945795041,
          3.2037838393049003,
          2.6528911457216866,
          2.4229849072736265,
          2.1241066840233147,
          1.2148557510995994,
          3.213687090993716,
          2.6321934016674353,
          1.5297901480880232,
          -0.8122339201646325,
          -0.2546825756859361,
          2.8383168563447265,
          0.054080108331132415,
          2.961388543425668,
          1.5793185442316244,
          1.575957492065887,
          2.4649531499368798,
          3.8835255866685205,
          3.212589737297795,
          2.90540642739278,
          2.0746367179593617,
          0.5853552037202634,
          2.7133015636836113,
          2.7404021155742986,
          1.6282040988722053,
          1.4758997595291241,
          1.7298531506417778,
          3.232776088013285,
          2.037437228644149,
          2.83959105110852,
          1.0331023939748913,
          1.5004967128465656,
          2.877054619148736,
          1.5035802538146796,
          -0.0844649079098252,
          -0.20302038548429557,
          0.6553037738058096,
          2.4029612186545273,
          1.3951944904658724,
          0.8224523295832902,
          1.0779499952194365,
          2.2752294124572026,
          1.407827896009517,
          1.5199621626262831,
          4.998484927104643,
          2.8202015814507853,
          3.4981210607560236,
          1.82376647396997,
          2.348575126265902,
          1.6720579021774593,
          3.3344114300277363,
          1.9604061189312774,
          1.9387840273784258,
          1.5497589730183448,
          2.382371815787194,
          1.9572406487115643,
          3.510945888591035,
          1.8430540244910985,
          2.250105638089431,
          1.837861404846933,
          3.0322832878493715,
          1.275914986920429,
          1.2554279808553537,
          -1.0609285378227278,
          2.650703886331369,
          0.2895022680749868,
          3.922643658753358,
          3.209774253367411,
          1.6603012163304578,
          2.931112999262301,
          1.4453919007782132,
          1.3930855650377503,
          1.8692852206157908
         ],
         "y0": " ",
         "yaxis": "y"
        },
        {
         "alignmentgroup": "True",
         "box": {
          "visible": true
         },
         "hovertemplate": "Label=t-Student<br>Data=%{y}<extra></extra>",
         "legendgroup": "t-Student",
         "marker": {
          "color": "purple"
         },
         "name": "t-Student",
         "offsetgroup": "t-Student",
         "orientation": "v",
         "points": "all",
         "scalegroup": "True",
         "showlegend": true,
         "type": "violin",
         "x0": " ",
         "xaxis": "x",
         "y": [
          -0.09653810421423031,
          0.07751214615542559,
          0.19345883766940522,
          2.0179947760356556,
          0.991876893101285,
          -0.32211472335193037,
          -3.471545137926429,
          0.17037107654023043,
          -2.367081188271045,
          -0.5238146816875762,
          -0.9246242000448966,
          0.5458911262727042,
          -0.5472875637846676,
          -2.7138700852794106,
          0.06496748979871966,
          0.8876146014298789,
          -0.6506141244285795,
          -1.8787677569369958,
          -7.014922857678014,
          -2.4967748870690025,
          0.15774689580992934,
          0.4795894745455748,
          -0.14729018379356176,
          -1.9252564872282516,
          -1.011239383382226,
          1.055589350280956,
          2.1764704170530282,
          2.5870153291714724,
          -0.4166981734729009,
          -1.5725092761782915,
          -0.7522006314428015,
          -1.1862943328174427,
          -0.1530556833025442,
          -0.6683614398338816,
          -1.6375526264120985,
          -1.7164881322813526,
          0.14552583104382516,
          -1.440606564645991,
          1.058274308235468,
          -0.5048058765709675,
          1.5778106820238584,
          1.4434857907379244,
          0.7076693007620211,
          -0.8076101069027543,
          -0.6522601379179523,
          -0.2469282994327452,
          -1.0707349573457186,
          0.3582213027574397,
          0.9725780460504533,
          -0.7457620261706895,
          -0.14566481394277245,
          -1.605165566235269,
          3.8585436835997924,
          -0.18482013919945067,
          1.3392245821362523,
          -1.6115946962265235,
          0.28185023064859643,
          0.28467880117613553,
          1.7909573844442226,
          2.5662188572938116,
          1.3408814105416365,
          0.8810738307857818,
          -1.1514380736461187,
          0.1951980395940728,
          -0.13885865556570381,
          0.582140414073604,
          0.13241125314209246,
          2.281980627411205,
          -0.6427184181887908,
          0.9248665314967439,
          2.46451739640618,
          1.133226043882831,
          0.35503358702326127,
          0.7035992790203395,
          0.3023022299101454,
          -0.053708349955522566,
          0.6280011084402214,
          0.560051344787312,
          0.507692963077803,
          0.17357499627749146,
          1.0142418979472507,
          1.017666848403959,
          -1.330230849366075,
          0.6994978543525194,
          -0.07858013192039262,
          0.23474351206954977,
          -5.124046191772931,
          -1.168243471890053,
          -0.41825493274241926,
          0.6547792108235284,
          -0.5069659799537539,
          0.27016034933042454,
          -1.5881418176366675,
          -0.25581145456424925,
          -0.9670284517516372,
          -1.216055864716631,
          -1.3466682605782456,
          2.1331530159724936,
          0.7902363700849286,
          0.8041122040209232,
          -0.7421354232440099,
          -1.8804275805824453,
          1.1460511745529,
          -0.1300398265400213,
          0.3920920239833112,
          0.2646292901412083,
          -0.7747009297844754,
          -0.26513284002372944,
          0.2572731594874694,
          -2.677060942415512,
          -0.6593702047437806,
          0.15196457693478554,
          -0.1887634643964875,
          -1.0469668805285868,
          -3.5787601517254095,
          -0.01676763817872639,
          -0.7368435555666392,
          0.055330546133328225,
          -0.6647705335850738,
          -0.05661432358556272,
          -0.39386261231256076,
          -0.20248979748928483,
          -0.9874373689696749,
          0.840653740268591,
          1.0512445757319149,
          0.882778441644591,
          1.797203975896927,
          -0.5528023029035531,
          0.07253576140569559,
          -0.44395949634990467,
          1.754691794124901,
          0.6763997493317636,
          -0.4329185073810288,
          -0.31654258258324813,
          0.7561504384535077,
          -1.3812088216505682,
          0.5950976417943096,
          -1.5561197735229215,
          -0.2998826550244394,
          0.07230849358744112,
          -0.5420201478639451,
          -0.5912594111856687,
          0.6934647980606861,
          0.5390800781488231,
          1.7470506432381439,
          -0.03450745907114956,
          -0.707181173330097,
          -0.044665008961285876,
          0.4992824926000011,
          0.2900182674234592,
          -0.26402137876847886,
          0.7134854838263771,
          0.8697486022017016,
          -0.32494581732031846,
          -1.8258953605818218,
          -0.9714089742848285,
          0.1364875202749454,
          0.8085089711130212,
          -1.189940372542329,
          1.1415922002990941,
          0.31303878909652083,
          0.07872740592811452,
          -0.8804850707698494,
          0.945771020113734,
          0.9427363553366049,
          2.8908017501796586,
          -0.7147150457452619,
          -0.4354516476572672,
          0.2699627387231822,
          1.0788520695229074,
          1.9425369782901003,
          1.53743023968119,
          0.704029202957127,
          0.18835011817526703,
          0.06321745990753334,
          -0.9622731039462551,
          0.26536519263403735,
          0.8535497644365357,
          0.09128468178231858,
          -0.4615436569006375,
          -0.26316627011198274,
          0.02802469580279391,
          1.452081450461478,
          -0.9488734050265268,
          -0.9009223677658657,
          0.3799221442537563,
          -1.163730677310039,
          -1.144888780308993,
          0.9161565284817642,
          2.7215286803927055,
          0.9049618893283375,
          0.0583782412116841,
          0.5307714686865308,
          -1.1219776773436891,
          -2.3998330213190298,
          2.1048335021264672,
          0.7426758999559613,
          0.1709158510501765,
          -0.4194228756857665,
          -0.6358475560663636
         ],
         "y0": " ",
         "yaxis": "y"
        }
       ],
       "layout": {
        "height": 500,
        "legend": {
         "title": {
          "text": "Label"
         },
         "tracegroupgap": 0
        },
        "template": {
         "data": {
          "bar": [
           {
            "error_x": {
             "color": "#2a3f5f"
            },
            "error_y": {
             "color": "#2a3f5f"
            },
            "marker": {
             "line": {
              "color": "#E5ECF6",
              "width": 0.5
             },
             "pattern": {
              "fillmode": "overlay",
              "size": 10,
              "solidity": 0.2
             }
            },
            "type": "bar"
           }
          ],
          "barpolar": [
           {
            "marker": {
             "line": {
              "color": "#E5ECF6",
              "width": 0.5
             },
             "pattern": {
              "fillmode": "overlay",
              "size": 10,
              "solidity": 0.2
             }
            },
            "type": "barpolar"
           }
          ],
          "carpet": [
           {
            "aaxis": {
             "endlinecolor": "#2a3f5f",
             "gridcolor": "white",
             "linecolor": "white",
             "minorgridcolor": "white",
             "startlinecolor": "#2a3f5f"
            },
            "baxis": {
             "endlinecolor": "#2a3f5f",
             "gridcolor": "white",
             "linecolor": "white",
             "minorgridcolor": "white",
             "startlinecolor": "#2a3f5f"
            },
            "type": "carpet"
           }
          ],
          "choropleth": [
           {
            "colorbar": {
             "outlinewidth": 0,
             "ticks": ""
            },
            "type": "choropleth"
           }
          ],
          "contour": [
           {
            "colorbar": {
             "outlinewidth": 0,
             "ticks": ""
            },
            "colorscale": [
             [
              0,
              "#0d0887"
             ],
             [
              0.1111111111111111,
              "#46039f"
             ],
             [
              0.2222222222222222,
              "#7201a8"
             ],
             [
              0.3333333333333333,
              "#9c179e"
             ],
             [
              0.4444444444444444,
              "#bd3786"
             ],
             [
              0.5555555555555556,
              "#d8576b"
             ],
             [
              0.6666666666666666,
              "#ed7953"
             ],
             [
              0.7777777777777778,
              "#fb9f3a"
             ],
             [
              0.8888888888888888,
              "#fdca26"
             ],
             [
              1,
              "#f0f921"
             ]
            ],
            "type": "contour"
           }
          ],
          "contourcarpet": [
           {
            "colorbar": {
             "outlinewidth": 0,
             "ticks": ""
            },
            "type": "contourcarpet"
           }
          ],
          "heatmap": [
           {
            "colorbar": {
             "outlinewidth": 0,
             "ticks": ""
            },
            "colorscale": [
             [
              0,
              "#0d0887"
             ],
             [
              0.1111111111111111,
              "#46039f"
             ],
             [
              0.2222222222222222,
              "#7201a8"
             ],
             [
              0.3333333333333333,
              "#9c179e"
             ],
             [
              0.4444444444444444,
              "#bd3786"
             ],
             [
              0.5555555555555556,
              "#d8576b"
             ],
             [
              0.6666666666666666,
              "#ed7953"
             ],
             [
              0.7777777777777778,
              "#fb9f3a"
             ],
             [
              0.8888888888888888,
              "#fdca26"
             ],
             [
              1,
              "#f0f921"
             ]
            ],
            "type": "heatmap"
           }
          ],
          "heatmapgl": [
           {
            "colorbar": {
             "outlinewidth": 0,
             "ticks": ""
            },
            "colorscale": [
             [
              0,
              "#0d0887"
             ],
             [
              0.1111111111111111,
              "#46039f"
             ],
             [
              0.2222222222222222,
              "#7201a8"
             ],
             [
              0.3333333333333333,
              "#9c179e"
             ],
             [
              0.4444444444444444,
              "#bd3786"
             ],
             [
              0.5555555555555556,
              "#d8576b"
             ],
             [
              0.6666666666666666,
              "#ed7953"
             ],
             [
              0.7777777777777778,
              "#fb9f3a"
             ],
             [
              0.8888888888888888,
              "#fdca26"
             ],
             [
              1,
              "#f0f921"
             ]
            ],
            "type": "heatmapgl"
           }
          ],
          "histogram": [
           {
            "marker": {
             "pattern": {
              "fillmode": "overlay",
              "size": 10,
              "solidity": 0.2
             }
            },
            "type": "histogram"
           }
          ],
          "histogram2d": [
           {
            "colorbar": {
             "outlinewidth": 0,
             "ticks": ""
            },
            "colorscale": [
             [
              0,
              "#0d0887"
             ],
             [
              0.1111111111111111,
              "#46039f"
             ],
             [
              0.2222222222222222,
              "#7201a8"
             ],
             [
              0.3333333333333333,
              "#9c179e"
             ],
             [
              0.4444444444444444,
              "#bd3786"
             ],
             [
              0.5555555555555556,
              "#d8576b"
             ],
             [
              0.6666666666666666,
              "#ed7953"
             ],
             [
              0.7777777777777778,
              "#fb9f3a"
             ],
             [
              0.8888888888888888,
              "#fdca26"
             ],
             [
              1,
              "#f0f921"
             ]
            ],
            "type": "histogram2d"
           }
          ],
          "histogram2dcontour": [
           {
            "colorbar": {
             "outlinewidth": 0,
             "ticks": ""
            },
            "colorscale": [
             [
              0,
              "#0d0887"
             ],
             [
              0.1111111111111111,
              "#46039f"
             ],
             [
              0.2222222222222222,
              "#7201a8"
             ],
             [
              0.3333333333333333,
              "#9c179e"
             ],
             [
              0.4444444444444444,
              "#bd3786"
             ],
             [
              0.5555555555555556,
              "#d8576b"
             ],
             [
              0.6666666666666666,
              "#ed7953"
             ],
             [
              0.7777777777777778,
              "#fb9f3a"
             ],
             [
              0.8888888888888888,
              "#fdca26"
             ],
             [
              1,
              "#f0f921"
             ]
            ],
            "type": "histogram2dcontour"
           }
          ],
          "mesh3d": [
           {
            "colorbar": {
             "outlinewidth": 0,
             "ticks": ""
            },
            "type": "mesh3d"
           }
          ],
          "parcoords": [
           {
            "line": {
             "colorbar": {
              "outlinewidth": 0,
              "ticks": ""
             }
            },
            "type": "parcoords"
           }
          ],
          "pie": [
           {
            "automargin": true,
            "type": "pie"
           }
          ],
          "scatter": [
           {
            "fillpattern": {
             "fillmode": "overlay",
             "size": 10,
             "solidity": 0.2
            },
            "type": "scatter"
           }
          ],
          "scatter3d": [
           {
            "line": {
             "colorbar": {
              "outlinewidth": 0,
              "ticks": ""
             }
            },
            "marker": {
             "colorbar": {
              "outlinewidth": 0,
              "ticks": ""
             }
            },
            "type": "scatter3d"
           }
          ],
          "scattercarpet": [
           {
            "marker": {
             "colorbar": {
              "outlinewidth": 0,
              "ticks": ""
             }
            },
            "type": "scattercarpet"
           }
          ],
          "scattergeo": [
           {
            "marker": {
             "colorbar": {
              "outlinewidth": 0,
              "ticks": ""
             }
            },
            "type": "scattergeo"
           }
          ],
          "scattergl": [
           {
            "marker": {
             "colorbar": {
              "outlinewidth": 0,
              "ticks": ""
             }
            },
            "type": "scattergl"
           }
          ],
          "scattermapbox": [
           {
            "marker": {
             "colorbar": {
              "outlinewidth": 0,
              "ticks": ""
             }
            },
            "type": "scattermapbox"
           }
          ],
          "scatterpolar": [
           {
            "marker": {
             "colorbar": {
              "outlinewidth": 0,
              "ticks": ""
             }
            },
            "type": "scatterpolar"
           }
          ],
          "scatterpolargl": [
           {
            "marker": {
             "colorbar": {
              "outlinewidth": 0,
              "ticks": ""
             }
            },
            "type": "scatterpolargl"
           }
          ],
          "scatterternary": [
           {
            "marker": {
             "colorbar": {
              "outlinewidth": 0,
              "ticks": ""
             }
            },
            "type": "scatterternary"
           }
          ],
          "surface": [
           {
            "colorbar": {
             "outlinewidth": 0,
             "ticks": ""
            },
            "colorscale": [
             [
              0,
              "#0d0887"
             ],
             [
              0.1111111111111111,
              "#46039f"
             ],
             [
              0.2222222222222222,
              "#7201a8"
             ],
             [
              0.3333333333333333,
              "#9c179e"
             ],
             [
              0.4444444444444444,
              "#bd3786"
             ],
             [
              0.5555555555555556,
              "#d8576b"
             ],
             [
              0.6666666666666666,
              "#ed7953"
             ],
             [
              0.7777777777777778,
              "#fb9f3a"
             ],
             [
              0.8888888888888888,
              "#fdca26"
             ],
             [
              1,
              "#f0f921"
             ]
            ],
            "type": "surface"
           }
          ],
          "table": [
           {
            "cells": {
             "fill": {
              "color": "#EBF0F8"
             },
             "line": {
              "color": "white"
             }
            },
            "header": {
             "fill": {
              "color": "#C8D4E3"
             },
             "line": {
              "color": "white"
             }
            },
            "type": "table"
           }
          ]
         },
         "layout": {
          "annotationdefaults": {
           "arrowcolor": "#2a3f5f",
           "arrowhead": 0,
           "arrowwidth": 1
          },
          "autotypenumbers": "strict",
          "coloraxis": {
           "colorbar": {
            "outlinewidth": 0,
            "ticks": ""
           }
          },
          "colorscale": {
           "diverging": [
            [
             0,
             "#8e0152"
            ],
            [
             0.1,
             "#c51b7d"
            ],
            [
             0.2,
             "#de77ae"
            ],
            [
             0.3,
             "#f1b6da"
            ],
            [
             0.4,
             "#fde0ef"
            ],
            [
             0.5,
             "#f7f7f7"
            ],
            [
             0.6,
             "#e6f5d0"
            ],
            [
             0.7,
             "#b8e186"
            ],
            [
             0.8,
             "#7fbc41"
            ],
            [
             0.9,
             "#4d9221"
            ],
            [
             1,
             "#276419"
            ]
           ],
           "sequential": [
            [
             0,
             "#0d0887"
            ],
            [
             0.1111111111111111,
             "#46039f"
            ],
            [
             0.2222222222222222,
             "#7201a8"
            ],
            [
             0.3333333333333333,
             "#9c179e"
            ],
            [
             0.4444444444444444,
             "#bd3786"
            ],
            [
             0.5555555555555556,
             "#d8576b"
            ],
            [
             0.6666666666666666,
             "#ed7953"
            ],
            [
             0.7777777777777778,
             "#fb9f3a"
            ],
            [
             0.8888888888888888,
             "#fdca26"
            ],
            [
             1,
             "#f0f921"
            ]
           ],
           "sequentialminus": [
            [
             0,
             "#0d0887"
            ],
            [
             0.1111111111111111,
             "#46039f"
            ],
            [
             0.2222222222222222,
             "#7201a8"
            ],
            [
             0.3333333333333333,
             "#9c179e"
            ],
            [
             0.4444444444444444,
             "#bd3786"
            ],
            [
             0.5555555555555556,
             "#d8576b"
            ],
            [
             0.6666666666666666,
             "#ed7953"
            ],
            [
             0.7777777777777778,
             "#fb9f3a"
            ],
            [
             0.8888888888888888,
             "#fdca26"
            ],
            [
             1,
             "#f0f921"
            ]
           ]
          },
          "colorway": [
           "#636efa",
           "#EF553B",
           "#00cc96",
           "#ab63fa",
           "#FFA15A",
           "#19d3f3",
           "#FF6692",
           "#B6E880",
           "#FF97FF",
           "#FECB52"
          ],
          "font": {
           "color": "#2a3f5f"
          },
          "geo": {
           "bgcolor": "white",
           "lakecolor": "white",
           "landcolor": "#E5ECF6",
           "showlakes": true,
           "showland": true,
           "subunitcolor": "white"
          },
          "hoverlabel": {
           "align": "left"
          },
          "hovermode": "closest",
          "mapbox": {
           "style": "light"
          },
          "paper_bgcolor": "white",
          "plot_bgcolor": "#E5ECF6",
          "polar": {
           "angularaxis": {
            "gridcolor": "white",
            "linecolor": "white",
            "ticks": ""
           },
           "bgcolor": "#E5ECF6",
           "radialaxis": {
            "gridcolor": "white",
            "linecolor": "white",
            "ticks": ""
           }
          },
          "scene": {
           "xaxis": {
            "backgroundcolor": "#E5ECF6",
            "gridcolor": "white",
            "gridwidth": 2,
            "linecolor": "white",
            "showbackground": true,
            "ticks": "",
            "zerolinecolor": "white"
           },
           "yaxis": {
            "backgroundcolor": "#E5ECF6",
            "gridcolor": "white",
            "gridwidth": 2,
            "linecolor": "white",
            "showbackground": true,
            "ticks": "",
            "zerolinecolor": "white"
           },
           "zaxis": {
            "backgroundcolor": "#E5ECF6",
            "gridcolor": "white",
            "gridwidth": 2,
            "linecolor": "white",
            "showbackground": true,
            "ticks": "",
            "zerolinecolor": "white"
           }
          },
          "shapedefaults": {
           "line": {
            "color": "#2a3f5f"
           }
          },
          "ternary": {
           "aaxis": {
            "gridcolor": "white",
            "linecolor": "white",
            "ticks": ""
           },
           "baxis": {
            "gridcolor": "white",
            "linecolor": "white",
            "ticks": ""
           },
           "bgcolor": "#E5ECF6",
           "caxis": {
            "gridcolor": "white",
            "linecolor": "white",
            "ticks": ""
           }
          },
          "title": {
           "x": 0.05
          },
          "xaxis": {
           "automargin": true,
           "gridcolor": "white",
           "linecolor": "white",
           "ticks": "",
           "title": {
            "standoff": 15
           },
           "zerolinecolor": "white",
           "zerolinewidth": 2
          },
          "yaxis": {
           "automargin": true,
           "gridcolor": "white",
           "linecolor": "white",
           "ticks": "",
           "title": {
            "standoff": 15
           },
           "zerolinecolor": "white",
           "zerolinewidth": 2
          }
         }
        },
        "title": {
         "text": "Box Plots"
        },
        "violinmode": "overlay",
        "width": 800,
        "xaxis": {
         "anchor": "y",
         "domain": [
          0,
          1
         ]
        },
        "yaxis": {
         "anchor": "x",
         "domain": [
          0,
          1
         ],
         "title": {
          "text": "Data"
         }
        }
       }
      }
     },
     "metadata": {},
     "output_type": "display_data"
    }
   ],
   "source": [
    "fig = px.violin(df, y=\"Data\", \n",
    "                color=\"Label\",\n",
    "                points=\"all\",\n",
    "                violinmode=\"overlay\",\n",
    "                box=True,\n",
    "                color_discrete_sequence=['teal', 'purple'],\n",
    "                height = 500, width = 800,\n",
    "                title='Box Plots')\n",
    "fig.show()"
   ]
  }
 ],
 "metadata": {
  "kernelspec": {
   "display_name": ".venv",
   "language": "python",
   "name": "python3"
  },
  "language_info": {
   "codemirror_mode": {
    "name": "ipython",
    "version": 3
   },
   "file_extension": ".py",
   "mimetype": "text/x-python",
   "name": "python",
   "nbconvert_exporter": "python",
   "pygments_lexer": "ipython3",
   "version": "3.11.4"
  }
 },
 "nbformat": 4,
 "nbformat_minor": 2
}
