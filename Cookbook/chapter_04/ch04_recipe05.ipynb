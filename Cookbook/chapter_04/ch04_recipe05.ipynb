{
 "cells": [
  {
   "cell_type": "markdown",
   "metadata": {},
   "source": [
    "# Using Violin Plots as an alternative to Box Plots"
   ]
  },
  {
   "cell_type": "markdown",
   "metadata": {},
   "source": [
    "## Getting ready\n",
    "\n",
    "\n",
    "In addition to `plotly`, `numpy` and `pandas`, make sure the `scipy` Python library avaiable in your Python environment\n",
    "You can install it using the command:"
   ]
  },
  {
   "cell_type": "markdown",
   "metadata": {},
   "source": [
    "```\n",
    "pip install scipy \n",
    "```"
   ]
  },
  {
   "cell_type": "markdown",
   "metadata": {},
   "source": [
    "For this recipe we will create two data sets"
   ]
  },
  {
   "cell_type": "markdown",
   "metadata": {},
   "source": [
    "1. Import the Python modules `numpy`, `pandas`. Import the [`norm`](https://docs.scipy.org/doc/scipy/reference/generated/scipy.stats.norm.html) object from `scipy.stats`. This object will allow us to generate random samples from a normal distribution. This will help us to create data sets to be used in this recipe."
   ]
  },
  {
   "cell_type": "code",
   "execution_count": 1,
   "metadata": {},
   "outputs": [],
   "source": [
    "import numpy as np\n",
    "import pandas as pd\n",
    "from scipy.stats import norm, t"
   ]
  },
  {
   "cell_type": "markdown",
   "metadata": {},
   "source": [
    "2. Create two data sets to be used in this recipe"
   ]
  },
  {
   "cell_type": "code",
   "execution_count": 2,
   "metadata": {},
   "outputs": [],
   "source": [
    "n = 200\n",
    "sample1 = norm(loc=2).rvs(n)\n",
    "sample2 = t(df=3).rvs(n)"
   ]
  },
  {
   "cell_type": "code",
   "execution_count": 3,
   "metadata": {},
   "outputs": [],
   "source": [
    "data1 = pd.DataFrame({'Normal': sample1})"
   ]
  },
  {
   "cell_type": "code",
   "execution_count": 4,
   "metadata": {},
   "outputs": [],
   "source": [
    "samples =  np.concatenate( (sample1, sample2))\n",
    "labels = ['Normal']*n + ['t-Student']*n \n",
    "data2 = pd.DataFrame({'Data': samples, 'Label':labels})"
   ]
  },
  {
   "cell_type": "markdown",
   "metadata": {},
   "source": [
    "## How to do it"
   ]
  },
  {
   "cell_type": "markdown",
   "metadata": {},
   "source": [
    "1. Import the `plotly.express` module as `px`"
   ]
  },
  {
   "cell_type": "code",
   "execution_count": 5,
   "metadata": {},
   "outputs": [],
   "source": [
    "import plotly.express as px"
   ]
  },
  {
   "cell_type": "markdown",
   "metadata": {},
   "source": [
    "2. Make a simple scatter plot to illustrate the points in the `data1` data set using the function `violin`"
   ]
  },
  {
   "cell_type": "code",
   "execution_count": 6,
   "metadata": {},
   "outputs": [
    {
     "data": {
      "application/vnd.plotly.v1+json": {
       "config": {
        "plotlyServerURL": "https://plot.ly"
       },
       "data": [
        {
         "alignmentgroup": "True",
         "box": {
          "visible": false
         },
         "hovertemplate": "Normal=%{y}<extra></extra>",
         "legendgroup": "",
         "marker": {
          "color": "#636efa"
         },
         "name": "",
         "offsetgroup": "",
         "orientation": "v",
         "scalegroup": "True",
         "showlegend": false,
         "type": "violin",
         "x0": " ",
         "xaxis": "x",
         "y": [
          3.010603808682812,
          1.3121544655425539,
          1.7802271424528466,
          2.7888574524879317,
          1.5263622107532897,
          2.3558592728821077,
          2.311555537732986,
          3.3839871907634373,
          2.2710187471241805,
          0.3303541797390208,
          2.6843813736829927,
          3.534933076063685,
          -0.03767373720186473,
          3.579119042476065,
          1.7510853434937637,
          1.8127076939814646,
          3.2284573697771197,
          2.4870264356739256,
          1.7305888865358148,
          2.372817064700227,
          2.19856651969668,
          3.6391207917634234,
          2.287364806376417,
          1.150914403339033,
          2.204991805836251,
          2.0829684412518246,
          0.40978685838037276,
          1.6203119143890734,
          2.4949515063415633,
          2.6972579488203863,
          0.17599568632851748,
          2.506848539729748,
          1.9114248802108778,
          2.1870446741923475,
          3.3308967845678485,
          2.5636138356507505,
          0.7490175812738653,
          1.3733359275227022,
          2.3871797715162058,
          1.5719643701111767,
          2.921457157615924,
          3.0925585607364017,
          1.4514636144924986,
          3.2394775659926074,
          3.1579597425318156,
          2.417748179350268,
          1.7041192189310421,
          2.025033862778361,
          1.7183602099602666,
          1.3793846805040957,
          1.323306688885209,
          1.1058488815313012,
          0.2502812049050904,
          1.8500131523924686,
          2.682742469925375,
          2.268509851680112,
          1.9265271653331753,
          2.8364308242197827,
          1.7956152891813326,
          0.9052286785884336,
          1.1291023228559884,
          3.225241405051153,
          2.245842749948661,
          1.4291041273236953,
          0.18617635510565922,
          2.7170897728520638,
          1.6935387268782387,
          2.1799750378577007,
          0.7934230904577297,
          1.79367463492129,
          0.43093319317799494,
          1.5830902276024714,
          1.5997831559871014,
          2.502362696750904,
          1.8345355752439998,
          2.040737048970878,
          2.9265450020420305,
          3.045462495757751,
          2.5237336127988947,
          3.068896200342376,
          0.907083538525794,
          2.4329953603043624,
          2.4863971117204415,
          1.6545411273076016,
          2.3374817031656914,
          3.756062703541987,
          3.734035933341622,
          3.368524584639541,
          3.0054667395372383,
          4.360530868975427,
          0.09991058427758448,
          2.1780132374312258,
          2.2048261665100752,
          2.0067348502550213,
          1.2483156830535895,
          2.7483852656357075,
          2.421829295845416,
          0.5261632948290611,
          1.8805257968538351,
          1.2758751231206473,
          1.2683577270616904,
          0.4704277485452566,
          1.1468797896133192,
          1.9252099674845433,
          1.0825646918101155,
          2.0342377215008316,
          1.044411498371399,
          2.981051093918265,
          2.7203127982103874,
          1.6930350859092225,
          1.7524764294137463,
          3.810839534298835,
          3.888583934384681,
          2.32003478979504,
          1.4067592160407862,
          1.171649832140024,
          2.0007207083426923,
          1.2286100073901574,
          2.2176690260298524,
          2.6837140873633594,
          0.9254090808326294,
          3.9341637170851387,
          2.6769030664023856,
          0.45710819146418324,
          2.6454712965840623,
          2.664518103299492,
          3.369971723490785,
          3.3393181886737366,
          2.2862049422598663,
          2.093984617415128,
          1.9148658443167133,
          0.3558026513546033,
          1.8430772528915946,
          1.3178306093131473,
          2.224227234197765,
          1.9567899236166735,
          2.579219854806172,
          2.3844235895028447,
          0.19732757264320488,
          2.918101625722113,
          3.820986179255341,
          2.096613563763318,
          3.126291204072852,
          2.566077822552188,
          1.0393951916909199,
          3.3265778052213806,
          0.5858630887496423,
          4.317495833520353,
          0.7626858577410018,
          0.01938297648156495,
          1.9212253571191145,
          2.6354373280758114,
          1.4114460182614321,
          1.630104417094486,
          0.6500358511846851,
          1.8825137700568784,
          0.8004636939582765,
          2.031103920139719,
          1.3071595313036741,
          1.9330983919741496,
          3.383868941308177,
          3.6639470810419095,
          0.816995619615847,
          1.8261431990309214,
          3.876522864700474,
          3.341866288789378,
          2.206765478251999,
          1.4561093438745243,
          2.0189448023474807,
          2.000852467422166,
          1.6178136405973467,
          2.907946065552088,
          2.927641711348095,
          3.1556149623167986,
          1.3022958403395815,
          1.1921823517736247,
          0.6443323669347929,
          3.424554047017213,
          3.300193204658897,
          0.3485889602287766,
          1.3516213046614212,
          2.0116952686122995,
          3.034616497621771,
          2.036923533510638,
          2.446289245060777,
          2.7395479873926494,
          3.2100791880568975,
          1.5308557992596081,
          0.7596806590898064,
          1.6761199383566912,
          1.560217305342488,
          3.9451173876363868,
          2.202985372831299,
          0.5146937017177178,
          2.218974306234027,
          1.9061533839337543,
          1.9727189157985043,
          2.2718000990346816,
          1.2291219483068854,
          3.8140553414365472
         ],
         "y0": " ",
         "yaxis": "y"
        }
       ],
       "layout": {
        "legend": {
         "tracegroupgap": 0
        },
        "margin": {
         "t": 60
        },
        "template": {
         "data": {
          "bar": [
           {
            "error_x": {
             "color": "#2a3f5f"
            },
            "error_y": {
             "color": "#2a3f5f"
            },
            "marker": {
             "line": {
              "color": "#E5ECF6",
              "width": 0.5
             },
             "pattern": {
              "fillmode": "overlay",
              "size": 10,
              "solidity": 0.2
             }
            },
            "type": "bar"
           }
          ],
          "barpolar": [
           {
            "marker": {
             "line": {
              "color": "#E5ECF6",
              "width": 0.5
             },
             "pattern": {
              "fillmode": "overlay",
              "size": 10,
              "solidity": 0.2
             }
            },
            "type": "barpolar"
           }
          ],
          "carpet": [
           {
            "aaxis": {
             "endlinecolor": "#2a3f5f",
             "gridcolor": "white",
             "linecolor": "white",
             "minorgridcolor": "white",
             "startlinecolor": "#2a3f5f"
            },
            "baxis": {
             "endlinecolor": "#2a3f5f",
             "gridcolor": "white",
             "linecolor": "white",
             "minorgridcolor": "white",
             "startlinecolor": "#2a3f5f"
            },
            "type": "carpet"
           }
          ],
          "choropleth": [
           {
            "colorbar": {
             "outlinewidth": 0,
             "ticks": ""
            },
            "type": "choropleth"
           }
          ],
          "contour": [
           {
            "colorbar": {
             "outlinewidth": 0,
             "ticks": ""
            },
            "colorscale": [
             [
              0,
              "#0d0887"
             ],
             [
              0.1111111111111111,
              "#46039f"
             ],
             [
              0.2222222222222222,
              "#7201a8"
             ],
             [
              0.3333333333333333,
              "#9c179e"
             ],
             [
              0.4444444444444444,
              "#bd3786"
             ],
             [
              0.5555555555555556,
              "#d8576b"
             ],
             [
              0.6666666666666666,
              "#ed7953"
             ],
             [
              0.7777777777777778,
              "#fb9f3a"
             ],
             [
              0.8888888888888888,
              "#fdca26"
             ],
             [
              1,
              "#f0f921"
             ]
            ],
            "type": "contour"
           }
          ],
          "contourcarpet": [
           {
            "colorbar": {
             "outlinewidth": 0,
             "ticks": ""
            },
            "type": "contourcarpet"
           }
          ],
          "heatmap": [
           {
            "colorbar": {
             "outlinewidth": 0,
             "ticks": ""
            },
            "colorscale": [
             [
              0,
              "#0d0887"
             ],
             [
              0.1111111111111111,
              "#46039f"
             ],
             [
              0.2222222222222222,
              "#7201a8"
             ],
             [
              0.3333333333333333,
              "#9c179e"
             ],
             [
              0.4444444444444444,
              "#bd3786"
             ],
             [
              0.5555555555555556,
              "#d8576b"
             ],
             [
              0.6666666666666666,
              "#ed7953"
             ],
             [
              0.7777777777777778,
              "#fb9f3a"
             ],
             [
              0.8888888888888888,
              "#fdca26"
             ],
             [
              1,
              "#f0f921"
             ]
            ],
            "type": "heatmap"
           }
          ],
          "heatmapgl": [
           {
            "colorbar": {
             "outlinewidth": 0,
             "ticks": ""
            },
            "colorscale": [
             [
              0,
              "#0d0887"
             ],
             [
              0.1111111111111111,
              "#46039f"
             ],
             [
              0.2222222222222222,
              "#7201a8"
             ],
             [
              0.3333333333333333,
              "#9c179e"
             ],
             [
              0.4444444444444444,
              "#bd3786"
             ],
             [
              0.5555555555555556,
              "#d8576b"
             ],
             [
              0.6666666666666666,
              "#ed7953"
             ],
             [
              0.7777777777777778,
              "#fb9f3a"
             ],
             [
              0.8888888888888888,
              "#fdca26"
             ],
             [
              1,
              "#f0f921"
             ]
            ],
            "type": "heatmapgl"
           }
          ],
          "histogram": [
           {
            "marker": {
             "pattern": {
              "fillmode": "overlay",
              "size": 10,
              "solidity": 0.2
             }
            },
            "type": "histogram"
           }
          ],
          "histogram2d": [
           {
            "colorbar": {
             "outlinewidth": 0,
             "ticks": ""
            },
            "colorscale": [
             [
              0,
              "#0d0887"
             ],
             [
              0.1111111111111111,
              "#46039f"
             ],
             [
              0.2222222222222222,
              "#7201a8"
             ],
             [
              0.3333333333333333,
              "#9c179e"
             ],
             [
              0.4444444444444444,
              "#bd3786"
             ],
             [
              0.5555555555555556,
              "#d8576b"
             ],
             [
              0.6666666666666666,
              "#ed7953"
             ],
             [
              0.7777777777777778,
              "#fb9f3a"
             ],
             [
              0.8888888888888888,
              "#fdca26"
             ],
             [
              1,
              "#f0f921"
             ]
            ],
            "type": "histogram2d"
           }
          ],
          "histogram2dcontour": [
           {
            "colorbar": {
             "outlinewidth": 0,
             "ticks": ""
            },
            "colorscale": [
             [
              0,
              "#0d0887"
             ],
             [
              0.1111111111111111,
              "#46039f"
             ],
             [
              0.2222222222222222,
              "#7201a8"
             ],
             [
              0.3333333333333333,
              "#9c179e"
             ],
             [
              0.4444444444444444,
              "#bd3786"
             ],
             [
              0.5555555555555556,
              "#d8576b"
             ],
             [
              0.6666666666666666,
              "#ed7953"
             ],
             [
              0.7777777777777778,
              "#fb9f3a"
             ],
             [
              0.8888888888888888,
              "#fdca26"
             ],
             [
              1,
              "#f0f921"
             ]
            ],
            "type": "histogram2dcontour"
           }
          ],
          "mesh3d": [
           {
            "colorbar": {
             "outlinewidth": 0,
             "ticks": ""
            },
            "type": "mesh3d"
           }
          ],
          "parcoords": [
           {
            "line": {
             "colorbar": {
              "outlinewidth": 0,
              "ticks": ""
             }
            },
            "type": "parcoords"
           }
          ],
          "pie": [
           {
            "automargin": true,
            "type": "pie"
           }
          ],
          "scatter": [
           {
            "fillpattern": {
             "fillmode": "overlay",
             "size": 10,
             "solidity": 0.2
            },
            "type": "scatter"
           }
          ],
          "scatter3d": [
           {
            "line": {
             "colorbar": {
              "outlinewidth": 0,
              "ticks": ""
             }
            },
            "marker": {
             "colorbar": {
              "outlinewidth": 0,
              "ticks": ""
             }
            },
            "type": "scatter3d"
           }
          ],
          "scattercarpet": [
           {
            "marker": {
             "colorbar": {
              "outlinewidth": 0,
              "ticks": ""
             }
            },
            "type": "scattercarpet"
           }
          ],
          "scattergeo": [
           {
            "marker": {
             "colorbar": {
              "outlinewidth": 0,
              "ticks": ""
             }
            },
            "type": "scattergeo"
           }
          ],
          "scattergl": [
           {
            "marker": {
             "colorbar": {
              "outlinewidth": 0,
              "ticks": ""
             }
            },
            "type": "scattergl"
           }
          ],
          "scattermapbox": [
           {
            "marker": {
             "colorbar": {
              "outlinewidth": 0,
              "ticks": ""
             }
            },
            "type": "scattermapbox"
           }
          ],
          "scatterpolar": [
           {
            "marker": {
             "colorbar": {
              "outlinewidth": 0,
              "ticks": ""
             }
            },
            "type": "scatterpolar"
           }
          ],
          "scatterpolargl": [
           {
            "marker": {
             "colorbar": {
              "outlinewidth": 0,
              "ticks": ""
             }
            },
            "type": "scatterpolargl"
           }
          ],
          "scatterternary": [
           {
            "marker": {
             "colorbar": {
              "outlinewidth": 0,
              "ticks": ""
             }
            },
            "type": "scatterternary"
           }
          ],
          "surface": [
           {
            "colorbar": {
             "outlinewidth": 0,
             "ticks": ""
            },
            "colorscale": [
             [
              0,
              "#0d0887"
             ],
             [
              0.1111111111111111,
              "#46039f"
             ],
             [
              0.2222222222222222,
              "#7201a8"
             ],
             [
              0.3333333333333333,
              "#9c179e"
             ],
             [
              0.4444444444444444,
              "#bd3786"
             ],
             [
              0.5555555555555556,
              "#d8576b"
             ],
             [
              0.6666666666666666,
              "#ed7953"
             ],
             [
              0.7777777777777778,
              "#fb9f3a"
             ],
             [
              0.8888888888888888,
              "#fdca26"
             ],
             [
              1,
              "#f0f921"
             ]
            ],
            "type": "surface"
           }
          ],
          "table": [
           {
            "cells": {
             "fill": {
              "color": "#EBF0F8"
             },
             "line": {
              "color": "white"
             }
            },
            "header": {
             "fill": {
              "color": "#C8D4E3"
             },
             "line": {
              "color": "white"
             }
            },
            "type": "table"
           }
          ]
         },
         "layout": {
          "annotationdefaults": {
           "arrowcolor": "#2a3f5f",
           "arrowhead": 0,
           "arrowwidth": 1
          },
          "autotypenumbers": "strict",
          "coloraxis": {
           "colorbar": {
            "outlinewidth": 0,
            "ticks": ""
           }
          },
          "colorscale": {
           "diverging": [
            [
             0,
             "#8e0152"
            ],
            [
             0.1,
             "#c51b7d"
            ],
            [
             0.2,
             "#de77ae"
            ],
            [
             0.3,
             "#f1b6da"
            ],
            [
             0.4,
             "#fde0ef"
            ],
            [
             0.5,
             "#f7f7f7"
            ],
            [
             0.6,
             "#e6f5d0"
            ],
            [
             0.7,
             "#b8e186"
            ],
            [
             0.8,
             "#7fbc41"
            ],
            [
             0.9,
             "#4d9221"
            ],
            [
             1,
             "#276419"
            ]
           ],
           "sequential": [
            [
             0,
             "#0d0887"
            ],
            [
             0.1111111111111111,
             "#46039f"
            ],
            [
             0.2222222222222222,
             "#7201a8"
            ],
            [
             0.3333333333333333,
             "#9c179e"
            ],
            [
             0.4444444444444444,
             "#bd3786"
            ],
            [
             0.5555555555555556,
             "#d8576b"
            ],
            [
             0.6666666666666666,
             "#ed7953"
            ],
            [
             0.7777777777777778,
             "#fb9f3a"
            ],
            [
             0.8888888888888888,
             "#fdca26"
            ],
            [
             1,
             "#f0f921"
            ]
           ],
           "sequentialminus": [
            [
             0,
             "#0d0887"
            ],
            [
             0.1111111111111111,
             "#46039f"
            ],
            [
             0.2222222222222222,
             "#7201a8"
            ],
            [
             0.3333333333333333,
             "#9c179e"
            ],
            [
             0.4444444444444444,
             "#bd3786"
            ],
            [
             0.5555555555555556,
             "#d8576b"
            ],
            [
             0.6666666666666666,
             "#ed7953"
            ],
            [
             0.7777777777777778,
             "#fb9f3a"
            ],
            [
             0.8888888888888888,
             "#fdca26"
            ],
            [
             1,
             "#f0f921"
            ]
           ]
          },
          "colorway": [
           "#636efa",
           "#EF553B",
           "#00cc96",
           "#ab63fa",
           "#FFA15A",
           "#19d3f3",
           "#FF6692",
           "#B6E880",
           "#FF97FF",
           "#FECB52"
          ],
          "font": {
           "color": "#2a3f5f"
          },
          "geo": {
           "bgcolor": "white",
           "lakecolor": "white",
           "landcolor": "#E5ECF6",
           "showlakes": true,
           "showland": true,
           "subunitcolor": "white"
          },
          "hoverlabel": {
           "align": "left"
          },
          "hovermode": "closest",
          "mapbox": {
           "style": "light"
          },
          "paper_bgcolor": "white",
          "plot_bgcolor": "#E5ECF6",
          "polar": {
           "angularaxis": {
            "gridcolor": "white",
            "linecolor": "white",
            "ticks": ""
           },
           "bgcolor": "#E5ECF6",
           "radialaxis": {
            "gridcolor": "white",
            "linecolor": "white",
            "ticks": ""
           }
          },
          "scene": {
           "xaxis": {
            "backgroundcolor": "#E5ECF6",
            "gridcolor": "white",
            "gridwidth": 2,
            "linecolor": "white",
            "showbackground": true,
            "ticks": "",
            "zerolinecolor": "white"
           },
           "yaxis": {
            "backgroundcolor": "#E5ECF6",
            "gridcolor": "white",
            "gridwidth": 2,
            "linecolor": "white",
            "showbackground": true,
            "ticks": "",
            "zerolinecolor": "white"
           },
           "zaxis": {
            "backgroundcolor": "#E5ECF6",
            "gridcolor": "white",
            "gridwidth": 2,
            "linecolor": "white",
            "showbackground": true,
            "ticks": "",
            "zerolinecolor": "white"
           }
          },
          "shapedefaults": {
           "line": {
            "color": "#2a3f5f"
           }
          },
          "ternary": {
           "aaxis": {
            "gridcolor": "white",
            "linecolor": "white",
            "ticks": ""
           },
           "baxis": {
            "gridcolor": "white",
            "linecolor": "white",
            "ticks": ""
           },
           "bgcolor": "#E5ECF6",
           "caxis": {
            "gridcolor": "white",
            "linecolor": "white",
            "ticks": ""
           }
          },
          "title": {
           "x": 0.05
          },
          "xaxis": {
           "automargin": true,
           "gridcolor": "white",
           "linecolor": "white",
           "ticks": "",
           "title": {
            "standoff": 15
           },
           "zerolinecolor": "white",
           "zerolinewidth": 2
          },
          "yaxis": {
           "automargin": true,
           "gridcolor": "white",
           "linecolor": "white",
           "ticks": "",
           "title": {
            "standoff": 15
           },
           "zerolinecolor": "white",
           "zerolinewidth": 2
          }
         }
        },
        "violinmode": "group",
        "xaxis": {
         "anchor": "y",
         "domain": [
          0,
          1
         ]
        },
        "yaxis": {
         "anchor": "x",
         "domain": [
          0,
          1
         ],
         "title": {
          "text": "Normal"
         }
        }
       }
      }
     },
     "metadata": {},
     "output_type": "display_data"
    }
   ],
   "source": [
    "df = data1\n",
    "fig = px.violin(df, y=\"Normal\")\n",
    "fig.show()"
   ]
  },
  {
   "cell_type": "markdown",
   "metadata": {},
   "source": [
    "2. Add a title to your chart by passing a string as the input `title` into the function `violin`\n",
    "3. And customise the size of the figure by using the inputs `height` and `width`. Both have to be integers and correspond to the size of the figure in pixels."
   ]
  },
  {
   "cell_type": "code",
   "execution_count": 7,
   "metadata": {},
   "outputs": [
    {
     "data": {
      "application/vnd.plotly.v1+json": {
       "config": {
        "plotlyServerURL": "https://plot.ly"
       },
       "data": [
        {
         "alignmentgroup": "True",
         "box": {
          "visible": false
         },
         "hovertemplate": "Normal=%{y}<extra></extra>",
         "legendgroup": "",
         "marker": {
          "color": "#636efa"
         },
         "name": "",
         "offsetgroup": "",
         "orientation": "v",
         "scalegroup": "True",
         "showlegend": false,
         "type": "violin",
         "x0": " ",
         "xaxis": "x",
         "y": [
          3.010603808682812,
          1.3121544655425539,
          1.7802271424528466,
          2.7888574524879317,
          1.5263622107532897,
          2.3558592728821077,
          2.311555537732986,
          3.3839871907634373,
          2.2710187471241805,
          0.3303541797390208,
          2.6843813736829927,
          3.534933076063685,
          -0.03767373720186473,
          3.579119042476065,
          1.7510853434937637,
          1.8127076939814646,
          3.2284573697771197,
          2.4870264356739256,
          1.7305888865358148,
          2.372817064700227,
          2.19856651969668,
          3.6391207917634234,
          2.287364806376417,
          1.150914403339033,
          2.204991805836251,
          2.0829684412518246,
          0.40978685838037276,
          1.6203119143890734,
          2.4949515063415633,
          2.6972579488203863,
          0.17599568632851748,
          2.506848539729748,
          1.9114248802108778,
          2.1870446741923475,
          3.3308967845678485,
          2.5636138356507505,
          0.7490175812738653,
          1.3733359275227022,
          2.3871797715162058,
          1.5719643701111767,
          2.921457157615924,
          3.0925585607364017,
          1.4514636144924986,
          3.2394775659926074,
          3.1579597425318156,
          2.417748179350268,
          1.7041192189310421,
          2.025033862778361,
          1.7183602099602666,
          1.3793846805040957,
          1.323306688885209,
          1.1058488815313012,
          0.2502812049050904,
          1.8500131523924686,
          2.682742469925375,
          2.268509851680112,
          1.9265271653331753,
          2.8364308242197827,
          1.7956152891813326,
          0.9052286785884336,
          1.1291023228559884,
          3.225241405051153,
          2.245842749948661,
          1.4291041273236953,
          0.18617635510565922,
          2.7170897728520638,
          1.6935387268782387,
          2.1799750378577007,
          0.7934230904577297,
          1.79367463492129,
          0.43093319317799494,
          1.5830902276024714,
          1.5997831559871014,
          2.502362696750904,
          1.8345355752439998,
          2.040737048970878,
          2.9265450020420305,
          3.045462495757751,
          2.5237336127988947,
          3.068896200342376,
          0.907083538525794,
          2.4329953603043624,
          2.4863971117204415,
          1.6545411273076016,
          2.3374817031656914,
          3.756062703541987,
          3.734035933341622,
          3.368524584639541,
          3.0054667395372383,
          4.360530868975427,
          0.09991058427758448,
          2.1780132374312258,
          2.2048261665100752,
          2.0067348502550213,
          1.2483156830535895,
          2.7483852656357075,
          2.421829295845416,
          0.5261632948290611,
          1.8805257968538351,
          1.2758751231206473,
          1.2683577270616904,
          0.4704277485452566,
          1.1468797896133192,
          1.9252099674845433,
          1.0825646918101155,
          2.0342377215008316,
          1.044411498371399,
          2.981051093918265,
          2.7203127982103874,
          1.6930350859092225,
          1.7524764294137463,
          3.810839534298835,
          3.888583934384681,
          2.32003478979504,
          1.4067592160407862,
          1.171649832140024,
          2.0007207083426923,
          1.2286100073901574,
          2.2176690260298524,
          2.6837140873633594,
          0.9254090808326294,
          3.9341637170851387,
          2.6769030664023856,
          0.45710819146418324,
          2.6454712965840623,
          2.664518103299492,
          3.369971723490785,
          3.3393181886737366,
          2.2862049422598663,
          2.093984617415128,
          1.9148658443167133,
          0.3558026513546033,
          1.8430772528915946,
          1.3178306093131473,
          2.224227234197765,
          1.9567899236166735,
          2.579219854806172,
          2.3844235895028447,
          0.19732757264320488,
          2.918101625722113,
          3.820986179255341,
          2.096613563763318,
          3.126291204072852,
          2.566077822552188,
          1.0393951916909199,
          3.3265778052213806,
          0.5858630887496423,
          4.317495833520353,
          0.7626858577410018,
          0.01938297648156495,
          1.9212253571191145,
          2.6354373280758114,
          1.4114460182614321,
          1.630104417094486,
          0.6500358511846851,
          1.8825137700568784,
          0.8004636939582765,
          2.031103920139719,
          1.3071595313036741,
          1.9330983919741496,
          3.383868941308177,
          3.6639470810419095,
          0.816995619615847,
          1.8261431990309214,
          3.876522864700474,
          3.341866288789378,
          2.206765478251999,
          1.4561093438745243,
          2.0189448023474807,
          2.000852467422166,
          1.6178136405973467,
          2.907946065552088,
          2.927641711348095,
          3.1556149623167986,
          1.3022958403395815,
          1.1921823517736247,
          0.6443323669347929,
          3.424554047017213,
          3.300193204658897,
          0.3485889602287766,
          1.3516213046614212,
          2.0116952686122995,
          3.034616497621771,
          2.036923533510638,
          2.446289245060777,
          2.7395479873926494,
          3.2100791880568975,
          1.5308557992596081,
          0.7596806590898064,
          1.6761199383566912,
          1.560217305342488,
          3.9451173876363868,
          2.202985372831299,
          0.5146937017177178,
          2.218974306234027,
          1.9061533839337543,
          1.9727189157985043,
          2.2718000990346816,
          1.2291219483068854,
          3.8140553414365472
         ],
         "y0": " ",
         "yaxis": "y"
        }
       ],
       "layout": {
        "height": 500,
        "legend": {
         "tracegroupgap": 0
        },
        "template": {
         "data": {
          "bar": [
           {
            "error_x": {
             "color": "#2a3f5f"
            },
            "error_y": {
             "color": "#2a3f5f"
            },
            "marker": {
             "line": {
              "color": "#E5ECF6",
              "width": 0.5
             },
             "pattern": {
              "fillmode": "overlay",
              "size": 10,
              "solidity": 0.2
             }
            },
            "type": "bar"
           }
          ],
          "barpolar": [
           {
            "marker": {
             "line": {
              "color": "#E5ECF6",
              "width": 0.5
             },
             "pattern": {
              "fillmode": "overlay",
              "size": 10,
              "solidity": 0.2
             }
            },
            "type": "barpolar"
           }
          ],
          "carpet": [
           {
            "aaxis": {
             "endlinecolor": "#2a3f5f",
             "gridcolor": "white",
             "linecolor": "white",
             "minorgridcolor": "white",
             "startlinecolor": "#2a3f5f"
            },
            "baxis": {
             "endlinecolor": "#2a3f5f",
             "gridcolor": "white",
             "linecolor": "white",
             "minorgridcolor": "white",
             "startlinecolor": "#2a3f5f"
            },
            "type": "carpet"
           }
          ],
          "choropleth": [
           {
            "colorbar": {
             "outlinewidth": 0,
             "ticks": ""
            },
            "type": "choropleth"
           }
          ],
          "contour": [
           {
            "colorbar": {
             "outlinewidth": 0,
             "ticks": ""
            },
            "colorscale": [
             [
              0,
              "#0d0887"
             ],
             [
              0.1111111111111111,
              "#46039f"
             ],
             [
              0.2222222222222222,
              "#7201a8"
             ],
             [
              0.3333333333333333,
              "#9c179e"
             ],
             [
              0.4444444444444444,
              "#bd3786"
             ],
             [
              0.5555555555555556,
              "#d8576b"
             ],
             [
              0.6666666666666666,
              "#ed7953"
             ],
             [
              0.7777777777777778,
              "#fb9f3a"
             ],
             [
              0.8888888888888888,
              "#fdca26"
             ],
             [
              1,
              "#f0f921"
             ]
            ],
            "type": "contour"
           }
          ],
          "contourcarpet": [
           {
            "colorbar": {
             "outlinewidth": 0,
             "ticks": ""
            },
            "type": "contourcarpet"
           }
          ],
          "heatmap": [
           {
            "colorbar": {
             "outlinewidth": 0,
             "ticks": ""
            },
            "colorscale": [
             [
              0,
              "#0d0887"
             ],
             [
              0.1111111111111111,
              "#46039f"
             ],
             [
              0.2222222222222222,
              "#7201a8"
             ],
             [
              0.3333333333333333,
              "#9c179e"
             ],
             [
              0.4444444444444444,
              "#bd3786"
             ],
             [
              0.5555555555555556,
              "#d8576b"
             ],
             [
              0.6666666666666666,
              "#ed7953"
             ],
             [
              0.7777777777777778,
              "#fb9f3a"
             ],
             [
              0.8888888888888888,
              "#fdca26"
             ],
             [
              1,
              "#f0f921"
             ]
            ],
            "type": "heatmap"
           }
          ],
          "heatmapgl": [
           {
            "colorbar": {
             "outlinewidth": 0,
             "ticks": ""
            },
            "colorscale": [
             [
              0,
              "#0d0887"
             ],
             [
              0.1111111111111111,
              "#46039f"
             ],
             [
              0.2222222222222222,
              "#7201a8"
             ],
             [
              0.3333333333333333,
              "#9c179e"
             ],
             [
              0.4444444444444444,
              "#bd3786"
             ],
             [
              0.5555555555555556,
              "#d8576b"
             ],
             [
              0.6666666666666666,
              "#ed7953"
             ],
             [
              0.7777777777777778,
              "#fb9f3a"
             ],
             [
              0.8888888888888888,
              "#fdca26"
             ],
             [
              1,
              "#f0f921"
             ]
            ],
            "type": "heatmapgl"
           }
          ],
          "histogram": [
           {
            "marker": {
             "pattern": {
              "fillmode": "overlay",
              "size": 10,
              "solidity": 0.2
             }
            },
            "type": "histogram"
           }
          ],
          "histogram2d": [
           {
            "colorbar": {
             "outlinewidth": 0,
             "ticks": ""
            },
            "colorscale": [
             [
              0,
              "#0d0887"
             ],
             [
              0.1111111111111111,
              "#46039f"
             ],
             [
              0.2222222222222222,
              "#7201a8"
             ],
             [
              0.3333333333333333,
              "#9c179e"
             ],
             [
              0.4444444444444444,
              "#bd3786"
             ],
             [
              0.5555555555555556,
              "#d8576b"
             ],
             [
              0.6666666666666666,
              "#ed7953"
             ],
             [
              0.7777777777777778,
              "#fb9f3a"
             ],
             [
              0.8888888888888888,
              "#fdca26"
             ],
             [
              1,
              "#f0f921"
             ]
            ],
            "type": "histogram2d"
           }
          ],
          "histogram2dcontour": [
           {
            "colorbar": {
             "outlinewidth": 0,
             "ticks": ""
            },
            "colorscale": [
             [
              0,
              "#0d0887"
             ],
             [
              0.1111111111111111,
              "#46039f"
             ],
             [
              0.2222222222222222,
              "#7201a8"
             ],
             [
              0.3333333333333333,
              "#9c179e"
             ],
             [
              0.4444444444444444,
              "#bd3786"
             ],
             [
              0.5555555555555556,
              "#d8576b"
             ],
             [
              0.6666666666666666,
              "#ed7953"
             ],
             [
              0.7777777777777778,
              "#fb9f3a"
             ],
             [
              0.8888888888888888,
              "#fdca26"
             ],
             [
              1,
              "#f0f921"
             ]
            ],
            "type": "histogram2dcontour"
           }
          ],
          "mesh3d": [
           {
            "colorbar": {
             "outlinewidth": 0,
             "ticks": ""
            },
            "type": "mesh3d"
           }
          ],
          "parcoords": [
           {
            "line": {
             "colorbar": {
              "outlinewidth": 0,
              "ticks": ""
             }
            },
            "type": "parcoords"
           }
          ],
          "pie": [
           {
            "automargin": true,
            "type": "pie"
           }
          ],
          "scatter": [
           {
            "fillpattern": {
             "fillmode": "overlay",
             "size": 10,
             "solidity": 0.2
            },
            "type": "scatter"
           }
          ],
          "scatter3d": [
           {
            "line": {
             "colorbar": {
              "outlinewidth": 0,
              "ticks": ""
             }
            },
            "marker": {
             "colorbar": {
              "outlinewidth": 0,
              "ticks": ""
             }
            },
            "type": "scatter3d"
           }
          ],
          "scattercarpet": [
           {
            "marker": {
             "colorbar": {
              "outlinewidth": 0,
              "ticks": ""
             }
            },
            "type": "scattercarpet"
           }
          ],
          "scattergeo": [
           {
            "marker": {
             "colorbar": {
              "outlinewidth": 0,
              "ticks": ""
             }
            },
            "type": "scattergeo"
           }
          ],
          "scattergl": [
           {
            "marker": {
             "colorbar": {
              "outlinewidth": 0,
              "ticks": ""
             }
            },
            "type": "scattergl"
           }
          ],
          "scattermapbox": [
           {
            "marker": {
             "colorbar": {
              "outlinewidth": 0,
              "ticks": ""
             }
            },
            "type": "scattermapbox"
           }
          ],
          "scatterpolar": [
           {
            "marker": {
             "colorbar": {
              "outlinewidth": 0,
              "ticks": ""
             }
            },
            "type": "scatterpolar"
           }
          ],
          "scatterpolargl": [
           {
            "marker": {
             "colorbar": {
              "outlinewidth": 0,
              "ticks": ""
             }
            },
            "type": "scatterpolargl"
           }
          ],
          "scatterternary": [
           {
            "marker": {
             "colorbar": {
              "outlinewidth": 0,
              "ticks": ""
             }
            },
            "type": "scatterternary"
           }
          ],
          "surface": [
           {
            "colorbar": {
             "outlinewidth": 0,
             "ticks": ""
            },
            "colorscale": [
             [
              0,
              "#0d0887"
             ],
             [
              0.1111111111111111,
              "#46039f"
             ],
             [
              0.2222222222222222,
              "#7201a8"
             ],
             [
              0.3333333333333333,
              "#9c179e"
             ],
             [
              0.4444444444444444,
              "#bd3786"
             ],
             [
              0.5555555555555556,
              "#d8576b"
             ],
             [
              0.6666666666666666,
              "#ed7953"
             ],
             [
              0.7777777777777778,
              "#fb9f3a"
             ],
             [
              0.8888888888888888,
              "#fdca26"
             ],
             [
              1,
              "#f0f921"
             ]
            ],
            "type": "surface"
           }
          ],
          "table": [
           {
            "cells": {
             "fill": {
              "color": "#EBF0F8"
             },
             "line": {
              "color": "white"
             }
            },
            "header": {
             "fill": {
              "color": "#C8D4E3"
             },
             "line": {
              "color": "white"
             }
            },
            "type": "table"
           }
          ]
         },
         "layout": {
          "annotationdefaults": {
           "arrowcolor": "#2a3f5f",
           "arrowhead": 0,
           "arrowwidth": 1
          },
          "autotypenumbers": "strict",
          "coloraxis": {
           "colorbar": {
            "outlinewidth": 0,
            "ticks": ""
           }
          },
          "colorscale": {
           "diverging": [
            [
             0,
             "#8e0152"
            ],
            [
             0.1,
             "#c51b7d"
            ],
            [
             0.2,
             "#de77ae"
            ],
            [
             0.3,
             "#f1b6da"
            ],
            [
             0.4,
             "#fde0ef"
            ],
            [
             0.5,
             "#f7f7f7"
            ],
            [
             0.6,
             "#e6f5d0"
            ],
            [
             0.7,
             "#b8e186"
            ],
            [
             0.8,
             "#7fbc41"
            ],
            [
             0.9,
             "#4d9221"
            ],
            [
             1,
             "#276419"
            ]
           ],
           "sequential": [
            [
             0,
             "#0d0887"
            ],
            [
             0.1111111111111111,
             "#46039f"
            ],
            [
             0.2222222222222222,
             "#7201a8"
            ],
            [
             0.3333333333333333,
             "#9c179e"
            ],
            [
             0.4444444444444444,
             "#bd3786"
            ],
            [
             0.5555555555555556,
             "#d8576b"
            ],
            [
             0.6666666666666666,
             "#ed7953"
            ],
            [
             0.7777777777777778,
             "#fb9f3a"
            ],
            [
             0.8888888888888888,
             "#fdca26"
            ],
            [
             1,
             "#f0f921"
            ]
           ],
           "sequentialminus": [
            [
             0,
             "#0d0887"
            ],
            [
             0.1111111111111111,
             "#46039f"
            ],
            [
             0.2222222222222222,
             "#7201a8"
            ],
            [
             0.3333333333333333,
             "#9c179e"
            ],
            [
             0.4444444444444444,
             "#bd3786"
            ],
            [
             0.5555555555555556,
             "#d8576b"
            ],
            [
             0.6666666666666666,
             "#ed7953"
            ],
            [
             0.7777777777777778,
             "#fb9f3a"
            ],
            [
             0.8888888888888888,
             "#fdca26"
            ],
            [
             1,
             "#f0f921"
            ]
           ]
          },
          "colorway": [
           "#636efa",
           "#EF553B",
           "#00cc96",
           "#ab63fa",
           "#FFA15A",
           "#19d3f3",
           "#FF6692",
           "#B6E880",
           "#FF97FF",
           "#FECB52"
          ],
          "font": {
           "color": "#2a3f5f"
          },
          "geo": {
           "bgcolor": "white",
           "lakecolor": "white",
           "landcolor": "#E5ECF6",
           "showlakes": true,
           "showland": true,
           "subunitcolor": "white"
          },
          "hoverlabel": {
           "align": "left"
          },
          "hovermode": "closest",
          "mapbox": {
           "style": "light"
          },
          "paper_bgcolor": "white",
          "plot_bgcolor": "#E5ECF6",
          "polar": {
           "angularaxis": {
            "gridcolor": "white",
            "linecolor": "white",
            "ticks": ""
           },
           "bgcolor": "#E5ECF6",
           "radialaxis": {
            "gridcolor": "white",
            "linecolor": "white",
            "ticks": ""
           }
          },
          "scene": {
           "xaxis": {
            "backgroundcolor": "#E5ECF6",
            "gridcolor": "white",
            "gridwidth": 2,
            "linecolor": "white",
            "showbackground": true,
            "ticks": "",
            "zerolinecolor": "white"
           },
           "yaxis": {
            "backgroundcolor": "#E5ECF6",
            "gridcolor": "white",
            "gridwidth": 2,
            "linecolor": "white",
            "showbackground": true,
            "ticks": "",
            "zerolinecolor": "white"
           },
           "zaxis": {
            "backgroundcolor": "#E5ECF6",
            "gridcolor": "white",
            "gridwidth": 2,
            "linecolor": "white",
            "showbackground": true,
            "ticks": "",
            "zerolinecolor": "white"
           }
          },
          "shapedefaults": {
           "line": {
            "color": "#2a3f5f"
           }
          },
          "ternary": {
           "aaxis": {
            "gridcolor": "white",
            "linecolor": "white",
            "ticks": ""
           },
           "baxis": {
            "gridcolor": "white",
            "linecolor": "white",
            "ticks": ""
           },
           "bgcolor": "#E5ECF6",
           "caxis": {
            "gridcolor": "white",
            "linecolor": "white",
            "ticks": ""
           }
          },
          "title": {
           "x": 0.05
          },
          "xaxis": {
           "automargin": true,
           "gridcolor": "white",
           "linecolor": "white",
           "ticks": "",
           "title": {
            "standoff": 15
           },
           "zerolinecolor": "white",
           "zerolinewidth": 2
          },
          "yaxis": {
           "automargin": true,
           "gridcolor": "white",
           "linecolor": "white",
           "ticks": "",
           "title": {
            "standoff": 15
           },
           "zerolinecolor": "white",
           "zerolinewidth": 2
          }
         }
        },
        "title": {
         "text": "Sample from a Normal Distribution"
        },
        "violinmode": "group",
        "width": 600,
        "xaxis": {
         "anchor": "y",
         "domain": [
          0,
          1
         ]
        },
        "yaxis": {
         "anchor": "x",
         "domain": [
          0,
          1
         ],
         "title": {
          "text": "Normal"
         }
        }
       }
      }
     },
     "metadata": {},
     "output_type": "display_data"
    }
   ],
   "source": [
    "fig = px.violin(df, y=\"Normal\", \n",
    "                 height = 500, width = 600,\n",
    "                 title='Sample from a Normal Distribution')\n",
    "fig.show()"
   ]
  },
  {
   "cell_type": "code",
   "execution_count": 8,
   "metadata": {},
   "outputs": [
    {
     "data": {
      "application/vnd.plotly.v1+json": {
       "config": {
        "plotlyServerURL": "https://plot.ly"
       },
       "data": [
        {
         "alignmentgroup": "True",
         "box": {
          "visible": false
         },
         "hovertemplate": "Normal=%{x}<extra></extra>",
         "legendgroup": "",
         "marker": {
          "color": "#636efa"
         },
         "name": "",
         "offsetgroup": "",
         "orientation": "h",
         "scalegroup": "True",
         "showlegend": false,
         "type": "violin",
         "x": [
          3.010603808682812,
          1.3121544655425539,
          1.7802271424528466,
          2.7888574524879317,
          1.5263622107532897,
          2.3558592728821077,
          2.311555537732986,
          3.3839871907634373,
          2.2710187471241805,
          0.3303541797390208,
          2.6843813736829927,
          3.534933076063685,
          -0.03767373720186473,
          3.579119042476065,
          1.7510853434937637,
          1.8127076939814646,
          3.2284573697771197,
          2.4870264356739256,
          1.7305888865358148,
          2.372817064700227,
          2.19856651969668,
          3.6391207917634234,
          2.287364806376417,
          1.150914403339033,
          2.204991805836251,
          2.0829684412518246,
          0.40978685838037276,
          1.6203119143890734,
          2.4949515063415633,
          2.6972579488203863,
          0.17599568632851748,
          2.506848539729748,
          1.9114248802108778,
          2.1870446741923475,
          3.3308967845678485,
          2.5636138356507505,
          0.7490175812738653,
          1.3733359275227022,
          2.3871797715162058,
          1.5719643701111767,
          2.921457157615924,
          3.0925585607364017,
          1.4514636144924986,
          3.2394775659926074,
          3.1579597425318156,
          2.417748179350268,
          1.7041192189310421,
          2.025033862778361,
          1.7183602099602666,
          1.3793846805040957,
          1.323306688885209,
          1.1058488815313012,
          0.2502812049050904,
          1.8500131523924686,
          2.682742469925375,
          2.268509851680112,
          1.9265271653331753,
          2.8364308242197827,
          1.7956152891813326,
          0.9052286785884336,
          1.1291023228559884,
          3.225241405051153,
          2.245842749948661,
          1.4291041273236953,
          0.18617635510565922,
          2.7170897728520638,
          1.6935387268782387,
          2.1799750378577007,
          0.7934230904577297,
          1.79367463492129,
          0.43093319317799494,
          1.5830902276024714,
          1.5997831559871014,
          2.502362696750904,
          1.8345355752439998,
          2.040737048970878,
          2.9265450020420305,
          3.045462495757751,
          2.5237336127988947,
          3.068896200342376,
          0.907083538525794,
          2.4329953603043624,
          2.4863971117204415,
          1.6545411273076016,
          2.3374817031656914,
          3.756062703541987,
          3.734035933341622,
          3.368524584639541,
          3.0054667395372383,
          4.360530868975427,
          0.09991058427758448,
          2.1780132374312258,
          2.2048261665100752,
          2.0067348502550213,
          1.2483156830535895,
          2.7483852656357075,
          2.421829295845416,
          0.5261632948290611,
          1.8805257968538351,
          1.2758751231206473,
          1.2683577270616904,
          0.4704277485452566,
          1.1468797896133192,
          1.9252099674845433,
          1.0825646918101155,
          2.0342377215008316,
          1.044411498371399,
          2.981051093918265,
          2.7203127982103874,
          1.6930350859092225,
          1.7524764294137463,
          3.810839534298835,
          3.888583934384681,
          2.32003478979504,
          1.4067592160407862,
          1.171649832140024,
          2.0007207083426923,
          1.2286100073901574,
          2.2176690260298524,
          2.6837140873633594,
          0.9254090808326294,
          3.9341637170851387,
          2.6769030664023856,
          0.45710819146418324,
          2.6454712965840623,
          2.664518103299492,
          3.369971723490785,
          3.3393181886737366,
          2.2862049422598663,
          2.093984617415128,
          1.9148658443167133,
          0.3558026513546033,
          1.8430772528915946,
          1.3178306093131473,
          2.224227234197765,
          1.9567899236166735,
          2.579219854806172,
          2.3844235895028447,
          0.19732757264320488,
          2.918101625722113,
          3.820986179255341,
          2.096613563763318,
          3.126291204072852,
          2.566077822552188,
          1.0393951916909199,
          3.3265778052213806,
          0.5858630887496423,
          4.317495833520353,
          0.7626858577410018,
          0.01938297648156495,
          1.9212253571191145,
          2.6354373280758114,
          1.4114460182614321,
          1.630104417094486,
          0.6500358511846851,
          1.8825137700568784,
          0.8004636939582765,
          2.031103920139719,
          1.3071595313036741,
          1.9330983919741496,
          3.383868941308177,
          3.6639470810419095,
          0.816995619615847,
          1.8261431990309214,
          3.876522864700474,
          3.341866288789378,
          2.206765478251999,
          1.4561093438745243,
          2.0189448023474807,
          2.000852467422166,
          1.6178136405973467,
          2.907946065552088,
          2.927641711348095,
          3.1556149623167986,
          1.3022958403395815,
          1.1921823517736247,
          0.6443323669347929,
          3.424554047017213,
          3.300193204658897,
          0.3485889602287766,
          1.3516213046614212,
          2.0116952686122995,
          3.034616497621771,
          2.036923533510638,
          2.446289245060777,
          2.7395479873926494,
          3.2100791880568975,
          1.5308557992596081,
          0.7596806590898064,
          1.6761199383566912,
          1.560217305342488,
          3.9451173876363868,
          2.202985372831299,
          0.5146937017177178,
          2.218974306234027,
          1.9061533839337543,
          1.9727189157985043,
          2.2718000990346816,
          1.2291219483068854,
          3.8140553414365472
         ],
         "x0": " ",
         "xaxis": "x",
         "y0": " ",
         "yaxis": "y"
        }
       ],
       "layout": {
        "height": 500,
        "legend": {
         "tracegroupgap": 0
        },
        "template": {
         "data": {
          "bar": [
           {
            "error_x": {
             "color": "#2a3f5f"
            },
            "error_y": {
             "color": "#2a3f5f"
            },
            "marker": {
             "line": {
              "color": "#E5ECF6",
              "width": 0.5
             },
             "pattern": {
              "fillmode": "overlay",
              "size": 10,
              "solidity": 0.2
             }
            },
            "type": "bar"
           }
          ],
          "barpolar": [
           {
            "marker": {
             "line": {
              "color": "#E5ECF6",
              "width": 0.5
             },
             "pattern": {
              "fillmode": "overlay",
              "size": 10,
              "solidity": 0.2
             }
            },
            "type": "barpolar"
           }
          ],
          "carpet": [
           {
            "aaxis": {
             "endlinecolor": "#2a3f5f",
             "gridcolor": "white",
             "linecolor": "white",
             "minorgridcolor": "white",
             "startlinecolor": "#2a3f5f"
            },
            "baxis": {
             "endlinecolor": "#2a3f5f",
             "gridcolor": "white",
             "linecolor": "white",
             "minorgridcolor": "white",
             "startlinecolor": "#2a3f5f"
            },
            "type": "carpet"
           }
          ],
          "choropleth": [
           {
            "colorbar": {
             "outlinewidth": 0,
             "ticks": ""
            },
            "type": "choropleth"
           }
          ],
          "contour": [
           {
            "colorbar": {
             "outlinewidth": 0,
             "ticks": ""
            },
            "colorscale": [
             [
              0,
              "#0d0887"
             ],
             [
              0.1111111111111111,
              "#46039f"
             ],
             [
              0.2222222222222222,
              "#7201a8"
             ],
             [
              0.3333333333333333,
              "#9c179e"
             ],
             [
              0.4444444444444444,
              "#bd3786"
             ],
             [
              0.5555555555555556,
              "#d8576b"
             ],
             [
              0.6666666666666666,
              "#ed7953"
             ],
             [
              0.7777777777777778,
              "#fb9f3a"
             ],
             [
              0.8888888888888888,
              "#fdca26"
             ],
             [
              1,
              "#f0f921"
             ]
            ],
            "type": "contour"
           }
          ],
          "contourcarpet": [
           {
            "colorbar": {
             "outlinewidth": 0,
             "ticks": ""
            },
            "type": "contourcarpet"
           }
          ],
          "heatmap": [
           {
            "colorbar": {
             "outlinewidth": 0,
             "ticks": ""
            },
            "colorscale": [
             [
              0,
              "#0d0887"
             ],
             [
              0.1111111111111111,
              "#46039f"
             ],
             [
              0.2222222222222222,
              "#7201a8"
             ],
             [
              0.3333333333333333,
              "#9c179e"
             ],
             [
              0.4444444444444444,
              "#bd3786"
             ],
             [
              0.5555555555555556,
              "#d8576b"
             ],
             [
              0.6666666666666666,
              "#ed7953"
             ],
             [
              0.7777777777777778,
              "#fb9f3a"
             ],
             [
              0.8888888888888888,
              "#fdca26"
             ],
             [
              1,
              "#f0f921"
             ]
            ],
            "type": "heatmap"
           }
          ],
          "heatmapgl": [
           {
            "colorbar": {
             "outlinewidth": 0,
             "ticks": ""
            },
            "colorscale": [
             [
              0,
              "#0d0887"
             ],
             [
              0.1111111111111111,
              "#46039f"
             ],
             [
              0.2222222222222222,
              "#7201a8"
             ],
             [
              0.3333333333333333,
              "#9c179e"
             ],
             [
              0.4444444444444444,
              "#bd3786"
             ],
             [
              0.5555555555555556,
              "#d8576b"
             ],
             [
              0.6666666666666666,
              "#ed7953"
             ],
             [
              0.7777777777777778,
              "#fb9f3a"
             ],
             [
              0.8888888888888888,
              "#fdca26"
             ],
             [
              1,
              "#f0f921"
             ]
            ],
            "type": "heatmapgl"
           }
          ],
          "histogram": [
           {
            "marker": {
             "pattern": {
              "fillmode": "overlay",
              "size": 10,
              "solidity": 0.2
             }
            },
            "type": "histogram"
           }
          ],
          "histogram2d": [
           {
            "colorbar": {
             "outlinewidth": 0,
             "ticks": ""
            },
            "colorscale": [
             [
              0,
              "#0d0887"
             ],
             [
              0.1111111111111111,
              "#46039f"
             ],
             [
              0.2222222222222222,
              "#7201a8"
             ],
             [
              0.3333333333333333,
              "#9c179e"
             ],
             [
              0.4444444444444444,
              "#bd3786"
             ],
             [
              0.5555555555555556,
              "#d8576b"
             ],
             [
              0.6666666666666666,
              "#ed7953"
             ],
             [
              0.7777777777777778,
              "#fb9f3a"
             ],
             [
              0.8888888888888888,
              "#fdca26"
             ],
             [
              1,
              "#f0f921"
             ]
            ],
            "type": "histogram2d"
           }
          ],
          "histogram2dcontour": [
           {
            "colorbar": {
             "outlinewidth": 0,
             "ticks": ""
            },
            "colorscale": [
             [
              0,
              "#0d0887"
             ],
             [
              0.1111111111111111,
              "#46039f"
             ],
             [
              0.2222222222222222,
              "#7201a8"
             ],
             [
              0.3333333333333333,
              "#9c179e"
             ],
             [
              0.4444444444444444,
              "#bd3786"
             ],
             [
              0.5555555555555556,
              "#d8576b"
             ],
             [
              0.6666666666666666,
              "#ed7953"
             ],
             [
              0.7777777777777778,
              "#fb9f3a"
             ],
             [
              0.8888888888888888,
              "#fdca26"
             ],
             [
              1,
              "#f0f921"
             ]
            ],
            "type": "histogram2dcontour"
           }
          ],
          "mesh3d": [
           {
            "colorbar": {
             "outlinewidth": 0,
             "ticks": ""
            },
            "type": "mesh3d"
           }
          ],
          "parcoords": [
           {
            "line": {
             "colorbar": {
              "outlinewidth": 0,
              "ticks": ""
             }
            },
            "type": "parcoords"
           }
          ],
          "pie": [
           {
            "automargin": true,
            "type": "pie"
           }
          ],
          "scatter": [
           {
            "fillpattern": {
             "fillmode": "overlay",
             "size": 10,
             "solidity": 0.2
            },
            "type": "scatter"
           }
          ],
          "scatter3d": [
           {
            "line": {
             "colorbar": {
              "outlinewidth": 0,
              "ticks": ""
             }
            },
            "marker": {
             "colorbar": {
              "outlinewidth": 0,
              "ticks": ""
             }
            },
            "type": "scatter3d"
           }
          ],
          "scattercarpet": [
           {
            "marker": {
             "colorbar": {
              "outlinewidth": 0,
              "ticks": ""
             }
            },
            "type": "scattercarpet"
           }
          ],
          "scattergeo": [
           {
            "marker": {
             "colorbar": {
              "outlinewidth": 0,
              "ticks": ""
             }
            },
            "type": "scattergeo"
           }
          ],
          "scattergl": [
           {
            "marker": {
             "colorbar": {
              "outlinewidth": 0,
              "ticks": ""
             }
            },
            "type": "scattergl"
           }
          ],
          "scattermapbox": [
           {
            "marker": {
             "colorbar": {
              "outlinewidth": 0,
              "ticks": ""
             }
            },
            "type": "scattermapbox"
           }
          ],
          "scatterpolar": [
           {
            "marker": {
             "colorbar": {
              "outlinewidth": 0,
              "ticks": ""
             }
            },
            "type": "scatterpolar"
           }
          ],
          "scatterpolargl": [
           {
            "marker": {
             "colorbar": {
              "outlinewidth": 0,
              "ticks": ""
             }
            },
            "type": "scatterpolargl"
           }
          ],
          "scatterternary": [
           {
            "marker": {
             "colorbar": {
              "outlinewidth": 0,
              "ticks": ""
             }
            },
            "type": "scatterternary"
           }
          ],
          "surface": [
           {
            "colorbar": {
             "outlinewidth": 0,
             "ticks": ""
            },
            "colorscale": [
             [
              0,
              "#0d0887"
             ],
             [
              0.1111111111111111,
              "#46039f"
             ],
             [
              0.2222222222222222,
              "#7201a8"
             ],
             [
              0.3333333333333333,
              "#9c179e"
             ],
             [
              0.4444444444444444,
              "#bd3786"
             ],
             [
              0.5555555555555556,
              "#d8576b"
             ],
             [
              0.6666666666666666,
              "#ed7953"
             ],
             [
              0.7777777777777778,
              "#fb9f3a"
             ],
             [
              0.8888888888888888,
              "#fdca26"
             ],
             [
              1,
              "#f0f921"
             ]
            ],
            "type": "surface"
           }
          ],
          "table": [
           {
            "cells": {
             "fill": {
              "color": "#EBF0F8"
             },
             "line": {
              "color": "white"
             }
            },
            "header": {
             "fill": {
              "color": "#C8D4E3"
             },
             "line": {
              "color": "white"
             }
            },
            "type": "table"
           }
          ]
         },
         "layout": {
          "annotationdefaults": {
           "arrowcolor": "#2a3f5f",
           "arrowhead": 0,
           "arrowwidth": 1
          },
          "autotypenumbers": "strict",
          "coloraxis": {
           "colorbar": {
            "outlinewidth": 0,
            "ticks": ""
           }
          },
          "colorscale": {
           "diverging": [
            [
             0,
             "#8e0152"
            ],
            [
             0.1,
             "#c51b7d"
            ],
            [
             0.2,
             "#de77ae"
            ],
            [
             0.3,
             "#f1b6da"
            ],
            [
             0.4,
             "#fde0ef"
            ],
            [
             0.5,
             "#f7f7f7"
            ],
            [
             0.6,
             "#e6f5d0"
            ],
            [
             0.7,
             "#b8e186"
            ],
            [
             0.8,
             "#7fbc41"
            ],
            [
             0.9,
             "#4d9221"
            ],
            [
             1,
             "#276419"
            ]
           ],
           "sequential": [
            [
             0,
             "#0d0887"
            ],
            [
             0.1111111111111111,
             "#46039f"
            ],
            [
             0.2222222222222222,
             "#7201a8"
            ],
            [
             0.3333333333333333,
             "#9c179e"
            ],
            [
             0.4444444444444444,
             "#bd3786"
            ],
            [
             0.5555555555555556,
             "#d8576b"
            ],
            [
             0.6666666666666666,
             "#ed7953"
            ],
            [
             0.7777777777777778,
             "#fb9f3a"
            ],
            [
             0.8888888888888888,
             "#fdca26"
            ],
            [
             1,
             "#f0f921"
            ]
           ],
           "sequentialminus": [
            [
             0,
             "#0d0887"
            ],
            [
             0.1111111111111111,
             "#46039f"
            ],
            [
             0.2222222222222222,
             "#7201a8"
            ],
            [
             0.3333333333333333,
             "#9c179e"
            ],
            [
             0.4444444444444444,
             "#bd3786"
            ],
            [
             0.5555555555555556,
             "#d8576b"
            ],
            [
             0.6666666666666666,
             "#ed7953"
            ],
            [
             0.7777777777777778,
             "#fb9f3a"
            ],
            [
             0.8888888888888888,
             "#fdca26"
            ],
            [
             1,
             "#f0f921"
            ]
           ]
          },
          "colorway": [
           "#636efa",
           "#EF553B",
           "#00cc96",
           "#ab63fa",
           "#FFA15A",
           "#19d3f3",
           "#FF6692",
           "#B6E880",
           "#FF97FF",
           "#FECB52"
          ],
          "font": {
           "color": "#2a3f5f"
          },
          "geo": {
           "bgcolor": "white",
           "lakecolor": "white",
           "landcolor": "#E5ECF6",
           "showlakes": true,
           "showland": true,
           "subunitcolor": "white"
          },
          "hoverlabel": {
           "align": "left"
          },
          "hovermode": "closest",
          "mapbox": {
           "style": "light"
          },
          "paper_bgcolor": "white",
          "plot_bgcolor": "#E5ECF6",
          "polar": {
           "angularaxis": {
            "gridcolor": "white",
            "linecolor": "white",
            "ticks": ""
           },
           "bgcolor": "#E5ECF6",
           "radialaxis": {
            "gridcolor": "white",
            "linecolor": "white",
            "ticks": ""
           }
          },
          "scene": {
           "xaxis": {
            "backgroundcolor": "#E5ECF6",
            "gridcolor": "white",
            "gridwidth": 2,
            "linecolor": "white",
            "showbackground": true,
            "ticks": "",
            "zerolinecolor": "white"
           },
           "yaxis": {
            "backgroundcolor": "#E5ECF6",
            "gridcolor": "white",
            "gridwidth": 2,
            "linecolor": "white",
            "showbackground": true,
            "ticks": "",
            "zerolinecolor": "white"
           },
           "zaxis": {
            "backgroundcolor": "#E5ECF6",
            "gridcolor": "white",
            "gridwidth": 2,
            "linecolor": "white",
            "showbackground": true,
            "ticks": "",
            "zerolinecolor": "white"
           }
          },
          "shapedefaults": {
           "line": {
            "color": "#2a3f5f"
           }
          },
          "ternary": {
           "aaxis": {
            "gridcolor": "white",
            "linecolor": "white",
            "ticks": ""
           },
           "baxis": {
            "gridcolor": "white",
            "linecolor": "white",
            "ticks": ""
           },
           "bgcolor": "#E5ECF6",
           "caxis": {
            "gridcolor": "white",
            "linecolor": "white",
            "ticks": ""
           }
          },
          "title": {
           "x": 0.05
          },
          "xaxis": {
           "automargin": true,
           "gridcolor": "white",
           "linecolor": "white",
           "ticks": "",
           "title": {
            "standoff": 15
           },
           "zerolinecolor": "white",
           "zerolinewidth": 2
          },
          "yaxis": {
           "automargin": true,
           "gridcolor": "white",
           "linecolor": "white",
           "ticks": "",
           "title": {
            "standoff": 15
           },
           "zerolinecolor": "white",
           "zerolinewidth": 2
          }
         }
        },
        "title": {
         "text": "Sample from a Normal Distribution"
        },
        "violinmode": "group",
        "width": 800,
        "xaxis": {
         "anchor": "y",
         "domain": [
          0,
          1
         ],
         "title": {
          "text": "Normal"
         }
        },
        "yaxis": {
         "anchor": "x",
         "domain": [
          0,
          1
         ]
        }
       }
      }
     },
     "metadata": {},
     "output_type": "display_data"
    }
   ],
   "source": [
    "fig = px.violin(df, x=\"Normal\", \n",
    "                 height = 500, width = 800,\n",
    "                 title='Sample from a Normal Distribution')\n",
    "fig.show()"
   ]
  },
  {
   "cell_type": "markdown",
   "metadata": {},
   "source": [
    "4. Customise the color of the bars using the input `color_discrete_sequence` as follows. Note that we have to pass a list of strings, where each string corresponds to a color.  In this case, we pass the color `teal`"
   ]
  },
  {
   "cell_type": "code",
   "execution_count": 9,
   "metadata": {},
   "outputs": [
    {
     "data": {
      "application/vnd.plotly.v1+json": {
       "config": {
        "plotlyServerURL": "https://plot.ly"
       },
       "data": [
        {
         "alignmentgroup": "True",
         "box": {
          "visible": false
         },
         "hovertemplate": "Normal=%{y}<extra></extra>",
         "legendgroup": "",
         "marker": {
          "color": "teal"
         },
         "name": "",
         "offsetgroup": "",
         "orientation": "v",
         "scalegroup": "True",
         "showlegend": false,
         "type": "violin",
         "x0": " ",
         "xaxis": "x",
         "y": [
          3.010603808682812,
          1.3121544655425539,
          1.7802271424528466,
          2.7888574524879317,
          1.5263622107532897,
          2.3558592728821077,
          2.311555537732986,
          3.3839871907634373,
          2.2710187471241805,
          0.3303541797390208,
          2.6843813736829927,
          3.534933076063685,
          -0.03767373720186473,
          3.579119042476065,
          1.7510853434937637,
          1.8127076939814646,
          3.2284573697771197,
          2.4870264356739256,
          1.7305888865358148,
          2.372817064700227,
          2.19856651969668,
          3.6391207917634234,
          2.287364806376417,
          1.150914403339033,
          2.204991805836251,
          2.0829684412518246,
          0.40978685838037276,
          1.6203119143890734,
          2.4949515063415633,
          2.6972579488203863,
          0.17599568632851748,
          2.506848539729748,
          1.9114248802108778,
          2.1870446741923475,
          3.3308967845678485,
          2.5636138356507505,
          0.7490175812738653,
          1.3733359275227022,
          2.3871797715162058,
          1.5719643701111767,
          2.921457157615924,
          3.0925585607364017,
          1.4514636144924986,
          3.2394775659926074,
          3.1579597425318156,
          2.417748179350268,
          1.7041192189310421,
          2.025033862778361,
          1.7183602099602666,
          1.3793846805040957,
          1.323306688885209,
          1.1058488815313012,
          0.2502812049050904,
          1.8500131523924686,
          2.682742469925375,
          2.268509851680112,
          1.9265271653331753,
          2.8364308242197827,
          1.7956152891813326,
          0.9052286785884336,
          1.1291023228559884,
          3.225241405051153,
          2.245842749948661,
          1.4291041273236953,
          0.18617635510565922,
          2.7170897728520638,
          1.6935387268782387,
          2.1799750378577007,
          0.7934230904577297,
          1.79367463492129,
          0.43093319317799494,
          1.5830902276024714,
          1.5997831559871014,
          2.502362696750904,
          1.8345355752439998,
          2.040737048970878,
          2.9265450020420305,
          3.045462495757751,
          2.5237336127988947,
          3.068896200342376,
          0.907083538525794,
          2.4329953603043624,
          2.4863971117204415,
          1.6545411273076016,
          2.3374817031656914,
          3.756062703541987,
          3.734035933341622,
          3.368524584639541,
          3.0054667395372383,
          4.360530868975427,
          0.09991058427758448,
          2.1780132374312258,
          2.2048261665100752,
          2.0067348502550213,
          1.2483156830535895,
          2.7483852656357075,
          2.421829295845416,
          0.5261632948290611,
          1.8805257968538351,
          1.2758751231206473,
          1.2683577270616904,
          0.4704277485452566,
          1.1468797896133192,
          1.9252099674845433,
          1.0825646918101155,
          2.0342377215008316,
          1.044411498371399,
          2.981051093918265,
          2.7203127982103874,
          1.6930350859092225,
          1.7524764294137463,
          3.810839534298835,
          3.888583934384681,
          2.32003478979504,
          1.4067592160407862,
          1.171649832140024,
          2.0007207083426923,
          1.2286100073901574,
          2.2176690260298524,
          2.6837140873633594,
          0.9254090808326294,
          3.9341637170851387,
          2.6769030664023856,
          0.45710819146418324,
          2.6454712965840623,
          2.664518103299492,
          3.369971723490785,
          3.3393181886737366,
          2.2862049422598663,
          2.093984617415128,
          1.9148658443167133,
          0.3558026513546033,
          1.8430772528915946,
          1.3178306093131473,
          2.224227234197765,
          1.9567899236166735,
          2.579219854806172,
          2.3844235895028447,
          0.19732757264320488,
          2.918101625722113,
          3.820986179255341,
          2.096613563763318,
          3.126291204072852,
          2.566077822552188,
          1.0393951916909199,
          3.3265778052213806,
          0.5858630887496423,
          4.317495833520353,
          0.7626858577410018,
          0.01938297648156495,
          1.9212253571191145,
          2.6354373280758114,
          1.4114460182614321,
          1.630104417094486,
          0.6500358511846851,
          1.8825137700568784,
          0.8004636939582765,
          2.031103920139719,
          1.3071595313036741,
          1.9330983919741496,
          3.383868941308177,
          3.6639470810419095,
          0.816995619615847,
          1.8261431990309214,
          3.876522864700474,
          3.341866288789378,
          2.206765478251999,
          1.4561093438745243,
          2.0189448023474807,
          2.000852467422166,
          1.6178136405973467,
          2.907946065552088,
          2.927641711348095,
          3.1556149623167986,
          1.3022958403395815,
          1.1921823517736247,
          0.6443323669347929,
          3.424554047017213,
          3.300193204658897,
          0.3485889602287766,
          1.3516213046614212,
          2.0116952686122995,
          3.034616497621771,
          2.036923533510638,
          2.446289245060777,
          2.7395479873926494,
          3.2100791880568975,
          1.5308557992596081,
          0.7596806590898064,
          1.6761199383566912,
          1.560217305342488,
          3.9451173876363868,
          2.202985372831299,
          0.5146937017177178,
          2.218974306234027,
          1.9061533839337543,
          1.9727189157985043,
          2.2718000990346816,
          1.2291219483068854,
          3.8140553414365472
         ],
         "y0": " ",
         "yaxis": "y"
        }
       ],
       "layout": {
        "height": 500,
        "legend": {
         "tracegroupgap": 0
        },
        "template": {
         "data": {
          "bar": [
           {
            "error_x": {
             "color": "#2a3f5f"
            },
            "error_y": {
             "color": "#2a3f5f"
            },
            "marker": {
             "line": {
              "color": "#E5ECF6",
              "width": 0.5
             },
             "pattern": {
              "fillmode": "overlay",
              "size": 10,
              "solidity": 0.2
             }
            },
            "type": "bar"
           }
          ],
          "barpolar": [
           {
            "marker": {
             "line": {
              "color": "#E5ECF6",
              "width": 0.5
             },
             "pattern": {
              "fillmode": "overlay",
              "size": 10,
              "solidity": 0.2
             }
            },
            "type": "barpolar"
           }
          ],
          "carpet": [
           {
            "aaxis": {
             "endlinecolor": "#2a3f5f",
             "gridcolor": "white",
             "linecolor": "white",
             "minorgridcolor": "white",
             "startlinecolor": "#2a3f5f"
            },
            "baxis": {
             "endlinecolor": "#2a3f5f",
             "gridcolor": "white",
             "linecolor": "white",
             "minorgridcolor": "white",
             "startlinecolor": "#2a3f5f"
            },
            "type": "carpet"
           }
          ],
          "choropleth": [
           {
            "colorbar": {
             "outlinewidth": 0,
             "ticks": ""
            },
            "type": "choropleth"
           }
          ],
          "contour": [
           {
            "colorbar": {
             "outlinewidth": 0,
             "ticks": ""
            },
            "colorscale": [
             [
              0,
              "#0d0887"
             ],
             [
              0.1111111111111111,
              "#46039f"
             ],
             [
              0.2222222222222222,
              "#7201a8"
             ],
             [
              0.3333333333333333,
              "#9c179e"
             ],
             [
              0.4444444444444444,
              "#bd3786"
             ],
             [
              0.5555555555555556,
              "#d8576b"
             ],
             [
              0.6666666666666666,
              "#ed7953"
             ],
             [
              0.7777777777777778,
              "#fb9f3a"
             ],
             [
              0.8888888888888888,
              "#fdca26"
             ],
             [
              1,
              "#f0f921"
             ]
            ],
            "type": "contour"
           }
          ],
          "contourcarpet": [
           {
            "colorbar": {
             "outlinewidth": 0,
             "ticks": ""
            },
            "type": "contourcarpet"
           }
          ],
          "heatmap": [
           {
            "colorbar": {
             "outlinewidth": 0,
             "ticks": ""
            },
            "colorscale": [
             [
              0,
              "#0d0887"
             ],
             [
              0.1111111111111111,
              "#46039f"
             ],
             [
              0.2222222222222222,
              "#7201a8"
             ],
             [
              0.3333333333333333,
              "#9c179e"
             ],
             [
              0.4444444444444444,
              "#bd3786"
             ],
             [
              0.5555555555555556,
              "#d8576b"
             ],
             [
              0.6666666666666666,
              "#ed7953"
             ],
             [
              0.7777777777777778,
              "#fb9f3a"
             ],
             [
              0.8888888888888888,
              "#fdca26"
             ],
             [
              1,
              "#f0f921"
             ]
            ],
            "type": "heatmap"
           }
          ],
          "heatmapgl": [
           {
            "colorbar": {
             "outlinewidth": 0,
             "ticks": ""
            },
            "colorscale": [
             [
              0,
              "#0d0887"
             ],
             [
              0.1111111111111111,
              "#46039f"
             ],
             [
              0.2222222222222222,
              "#7201a8"
             ],
             [
              0.3333333333333333,
              "#9c179e"
             ],
             [
              0.4444444444444444,
              "#bd3786"
             ],
             [
              0.5555555555555556,
              "#d8576b"
             ],
             [
              0.6666666666666666,
              "#ed7953"
             ],
             [
              0.7777777777777778,
              "#fb9f3a"
             ],
             [
              0.8888888888888888,
              "#fdca26"
             ],
             [
              1,
              "#f0f921"
             ]
            ],
            "type": "heatmapgl"
           }
          ],
          "histogram": [
           {
            "marker": {
             "pattern": {
              "fillmode": "overlay",
              "size": 10,
              "solidity": 0.2
             }
            },
            "type": "histogram"
           }
          ],
          "histogram2d": [
           {
            "colorbar": {
             "outlinewidth": 0,
             "ticks": ""
            },
            "colorscale": [
             [
              0,
              "#0d0887"
             ],
             [
              0.1111111111111111,
              "#46039f"
             ],
             [
              0.2222222222222222,
              "#7201a8"
             ],
             [
              0.3333333333333333,
              "#9c179e"
             ],
             [
              0.4444444444444444,
              "#bd3786"
             ],
             [
              0.5555555555555556,
              "#d8576b"
             ],
             [
              0.6666666666666666,
              "#ed7953"
             ],
             [
              0.7777777777777778,
              "#fb9f3a"
             ],
             [
              0.8888888888888888,
              "#fdca26"
             ],
             [
              1,
              "#f0f921"
             ]
            ],
            "type": "histogram2d"
           }
          ],
          "histogram2dcontour": [
           {
            "colorbar": {
             "outlinewidth": 0,
             "ticks": ""
            },
            "colorscale": [
             [
              0,
              "#0d0887"
             ],
             [
              0.1111111111111111,
              "#46039f"
             ],
             [
              0.2222222222222222,
              "#7201a8"
             ],
             [
              0.3333333333333333,
              "#9c179e"
             ],
             [
              0.4444444444444444,
              "#bd3786"
             ],
             [
              0.5555555555555556,
              "#d8576b"
             ],
             [
              0.6666666666666666,
              "#ed7953"
             ],
             [
              0.7777777777777778,
              "#fb9f3a"
             ],
             [
              0.8888888888888888,
              "#fdca26"
             ],
             [
              1,
              "#f0f921"
             ]
            ],
            "type": "histogram2dcontour"
           }
          ],
          "mesh3d": [
           {
            "colorbar": {
             "outlinewidth": 0,
             "ticks": ""
            },
            "type": "mesh3d"
           }
          ],
          "parcoords": [
           {
            "line": {
             "colorbar": {
              "outlinewidth": 0,
              "ticks": ""
             }
            },
            "type": "parcoords"
           }
          ],
          "pie": [
           {
            "automargin": true,
            "type": "pie"
           }
          ],
          "scatter": [
           {
            "fillpattern": {
             "fillmode": "overlay",
             "size": 10,
             "solidity": 0.2
            },
            "type": "scatter"
           }
          ],
          "scatter3d": [
           {
            "line": {
             "colorbar": {
              "outlinewidth": 0,
              "ticks": ""
             }
            },
            "marker": {
             "colorbar": {
              "outlinewidth": 0,
              "ticks": ""
             }
            },
            "type": "scatter3d"
           }
          ],
          "scattercarpet": [
           {
            "marker": {
             "colorbar": {
              "outlinewidth": 0,
              "ticks": ""
             }
            },
            "type": "scattercarpet"
           }
          ],
          "scattergeo": [
           {
            "marker": {
             "colorbar": {
              "outlinewidth": 0,
              "ticks": ""
             }
            },
            "type": "scattergeo"
           }
          ],
          "scattergl": [
           {
            "marker": {
             "colorbar": {
              "outlinewidth": 0,
              "ticks": ""
             }
            },
            "type": "scattergl"
           }
          ],
          "scattermapbox": [
           {
            "marker": {
             "colorbar": {
              "outlinewidth": 0,
              "ticks": ""
             }
            },
            "type": "scattermapbox"
           }
          ],
          "scatterpolar": [
           {
            "marker": {
             "colorbar": {
              "outlinewidth": 0,
              "ticks": ""
             }
            },
            "type": "scatterpolar"
           }
          ],
          "scatterpolargl": [
           {
            "marker": {
             "colorbar": {
              "outlinewidth": 0,
              "ticks": ""
             }
            },
            "type": "scatterpolargl"
           }
          ],
          "scatterternary": [
           {
            "marker": {
             "colorbar": {
              "outlinewidth": 0,
              "ticks": ""
             }
            },
            "type": "scatterternary"
           }
          ],
          "surface": [
           {
            "colorbar": {
             "outlinewidth": 0,
             "ticks": ""
            },
            "colorscale": [
             [
              0,
              "#0d0887"
             ],
             [
              0.1111111111111111,
              "#46039f"
             ],
             [
              0.2222222222222222,
              "#7201a8"
             ],
             [
              0.3333333333333333,
              "#9c179e"
             ],
             [
              0.4444444444444444,
              "#bd3786"
             ],
             [
              0.5555555555555556,
              "#d8576b"
             ],
             [
              0.6666666666666666,
              "#ed7953"
             ],
             [
              0.7777777777777778,
              "#fb9f3a"
             ],
             [
              0.8888888888888888,
              "#fdca26"
             ],
             [
              1,
              "#f0f921"
             ]
            ],
            "type": "surface"
           }
          ],
          "table": [
           {
            "cells": {
             "fill": {
              "color": "#EBF0F8"
             },
             "line": {
              "color": "white"
             }
            },
            "header": {
             "fill": {
              "color": "#C8D4E3"
             },
             "line": {
              "color": "white"
             }
            },
            "type": "table"
           }
          ]
         },
         "layout": {
          "annotationdefaults": {
           "arrowcolor": "#2a3f5f",
           "arrowhead": 0,
           "arrowwidth": 1
          },
          "autotypenumbers": "strict",
          "coloraxis": {
           "colorbar": {
            "outlinewidth": 0,
            "ticks": ""
           }
          },
          "colorscale": {
           "diverging": [
            [
             0,
             "#8e0152"
            ],
            [
             0.1,
             "#c51b7d"
            ],
            [
             0.2,
             "#de77ae"
            ],
            [
             0.3,
             "#f1b6da"
            ],
            [
             0.4,
             "#fde0ef"
            ],
            [
             0.5,
             "#f7f7f7"
            ],
            [
             0.6,
             "#e6f5d0"
            ],
            [
             0.7,
             "#b8e186"
            ],
            [
             0.8,
             "#7fbc41"
            ],
            [
             0.9,
             "#4d9221"
            ],
            [
             1,
             "#276419"
            ]
           ],
           "sequential": [
            [
             0,
             "#0d0887"
            ],
            [
             0.1111111111111111,
             "#46039f"
            ],
            [
             0.2222222222222222,
             "#7201a8"
            ],
            [
             0.3333333333333333,
             "#9c179e"
            ],
            [
             0.4444444444444444,
             "#bd3786"
            ],
            [
             0.5555555555555556,
             "#d8576b"
            ],
            [
             0.6666666666666666,
             "#ed7953"
            ],
            [
             0.7777777777777778,
             "#fb9f3a"
            ],
            [
             0.8888888888888888,
             "#fdca26"
            ],
            [
             1,
             "#f0f921"
            ]
           ],
           "sequentialminus": [
            [
             0,
             "#0d0887"
            ],
            [
             0.1111111111111111,
             "#46039f"
            ],
            [
             0.2222222222222222,
             "#7201a8"
            ],
            [
             0.3333333333333333,
             "#9c179e"
            ],
            [
             0.4444444444444444,
             "#bd3786"
            ],
            [
             0.5555555555555556,
             "#d8576b"
            ],
            [
             0.6666666666666666,
             "#ed7953"
            ],
            [
             0.7777777777777778,
             "#fb9f3a"
            ],
            [
             0.8888888888888888,
             "#fdca26"
            ],
            [
             1,
             "#f0f921"
            ]
           ]
          },
          "colorway": [
           "#636efa",
           "#EF553B",
           "#00cc96",
           "#ab63fa",
           "#FFA15A",
           "#19d3f3",
           "#FF6692",
           "#B6E880",
           "#FF97FF",
           "#FECB52"
          ],
          "font": {
           "color": "#2a3f5f"
          },
          "geo": {
           "bgcolor": "white",
           "lakecolor": "white",
           "landcolor": "#E5ECF6",
           "showlakes": true,
           "showland": true,
           "subunitcolor": "white"
          },
          "hoverlabel": {
           "align": "left"
          },
          "hovermode": "closest",
          "mapbox": {
           "style": "light"
          },
          "paper_bgcolor": "white",
          "plot_bgcolor": "#E5ECF6",
          "polar": {
           "angularaxis": {
            "gridcolor": "white",
            "linecolor": "white",
            "ticks": ""
           },
           "bgcolor": "#E5ECF6",
           "radialaxis": {
            "gridcolor": "white",
            "linecolor": "white",
            "ticks": ""
           }
          },
          "scene": {
           "xaxis": {
            "backgroundcolor": "#E5ECF6",
            "gridcolor": "white",
            "gridwidth": 2,
            "linecolor": "white",
            "showbackground": true,
            "ticks": "",
            "zerolinecolor": "white"
           },
           "yaxis": {
            "backgroundcolor": "#E5ECF6",
            "gridcolor": "white",
            "gridwidth": 2,
            "linecolor": "white",
            "showbackground": true,
            "ticks": "",
            "zerolinecolor": "white"
           },
           "zaxis": {
            "backgroundcolor": "#E5ECF6",
            "gridcolor": "white",
            "gridwidth": 2,
            "linecolor": "white",
            "showbackground": true,
            "ticks": "",
            "zerolinecolor": "white"
           }
          },
          "shapedefaults": {
           "line": {
            "color": "#2a3f5f"
           }
          },
          "ternary": {
           "aaxis": {
            "gridcolor": "white",
            "linecolor": "white",
            "ticks": ""
           },
           "baxis": {
            "gridcolor": "white",
            "linecolor": "white",
            "ticks": ""
           },
           "bgcolor": "#E5ECF6",
           "caxis": {
            "gridcolor": "white",
            "linecolor": "white",
            "ticks": ""
           }
          },
          "title": {
           "x": 0.05
          },
          "xaxis": {
           "automargin": true,
           "gridcolor": "white",
           "linecolor": "white",
           "ticks": "",
           "title": {
            "standoff": 15
           },
           "zerolinecolor": "white",
           "zerolinewidth": 2
          },
          "yaxis": {
           "automargin": true,
           "gridcolor": "white",
           "linecolor": "white",
           "ticks": "",
           "title": {
            "standoff": 15
           },
           "zerolinecolor": "white",
           "zerolinewidth": 2
          }
         }
        },
        "title": {
         "text": "Sample from a Normal Distribution"
        },
        "violinmode": "group",
        "width": 600,
        "xaxis": {
         "anchor": "y",
         "domain": [
          0,
          1
         ]
        },
        "yaxis": {
         "anchor": "x",
         "domain": [
          0,
          1
         ],
         "title": {
          "text": "Normal"
         }
        }
       }
      }
     },
     "metadata": {},
     "output_type": "display_data"
    }
   ],
   "source": [
    "fig = px.violin(df, y=\"Normal\", \n",
    "                color_discrete_sequence=['teal'],\n",
    "                height = 500, width = 600,\n",
    "                title='Sample from a Normal Distribution')\n",
    "fig.show()"
   ]
  },
  {
   "cell_type": "code",
   "execution_count": 10,
   "metadata": {},
   "outputs": [
    {
     "data": {
      "application/vnd.plotly.v1+json": {
       "config": {
        "plotlyServerURL": "https://plot.ly"
       },
       "data": [
        {
         "alignmentgroup": "True",
         "box": {
          "visible": false
         },
         "hovertemplate": "Normal=%{y}<extra></extra>",
         "legendgroup": "",
         "marker": {
          "color": "orange"
         },
         "name": "",
         "offsetgroup": "",
         "orientation": "v",
         "points": "suspectedoutliers",
         "scalegroup": "True",
         "showlegend": false,
         "type": "violin",
         "x0": " ",
         "xaxis": "x",
         "y": [
          3.010603808682812,
          1.3121544655425539,
          1.7802271424528466,
          2.7888574524879317,
          1.5263622107532897,
          2.3558592728821077,
          2.311555537732986,
          3.3839871907634373,
          2.2710187471241805,
          0.3303541797390208,
          2.6843813736829927,
          3.534933076063685,
          -0.03767373720186473,
          3.579119042476065,
          1.7510853434937637,
          1.8127076939814646,
          3.2284573697771197,
          2.4870264356739256,
          1.7305888865358148,
          2.372817064700227,
          2.19856651969668,
          3.6391207917634234,
          2.287364806376417,
          1.150914403339033,
          2.204991805836251,
          2.0829684412518246,
          0.40978685838037276,
          1.6203119143890734,
          2.4949515063415633,
          2.6972579488203863,
          0.17599568632851748,
          2.506848539729748,
          1.9114248802108778,
          2.1870446741923475,
          3.3308967845678485,
          2.5636138356507505,
          0.7490175812738653,
          1.3733359275227022,
          2.3871797715162058,
          1.5719643701111767,
          2.921457157615924,
          3.0925585607364017,
          1.4514636144924986,
          3.2394775659926074,
          3.1579597425318156,
          2.417748179350268,
          1.7041192189310421,
          2.025033862778361,
          1.7183602099602666,
          1.3793846805040957,
          1.323306688885209,
          1.1058488815313012,
          0.2502812049050904,
          1.8500131523924686,
          2.682742469925375,
          2.268509851680112,
          1.9265271653331753,
          2.8364308242197827,
          1.7956152891813326,
          0.9052286785884336,
          1.1291023228559884,
          3.225241405051153,
          2.245842749948661,
          1.4291041273236953,
          0.18617635510565922,
          2.7170897728520638,
          1.6935387268782387,
          2.1799750378577007,
          0.7934230904577297,
          1.79367463492129,
          0.43093319317799494,
          1.5830902276024714,
          1.5997831559871014,
          2.502362696750904,
          1.8345355752439998,
          2.040737048970878,
          2.9265450020420305,
          3.045462495757751,
          2.5237336127988947,
          3.068896200342376,
          0.907083538525794,
          2.4329953603043624,
          2.4863971117204415,
          1.6545411273076016,
          2.3374817031656914,
          3.756062703541987,
          3.734035933341622,
          3.368524584639541,
          3.0054667395372383,
          4.360530868975427,
          0.09991058427758448,
          2.1780132374312258,
          2.2048261665100752,
          2.0067348502550213,
          1.2483156830535895,
          2.7483852656357075,
          2.421829295845416,
          0.5261632948290611,
          1.8805257968538351,
          1.2758751231206473,
          1.2683577270616904,
          0.4704277485452566,
          1.1468797896133192,
          1.9252099674845433,
          1.0825646918101155,
          2.0342377215008316,
          1.044411498371399,
          2.981051093918265,
          2.7203127982103874,
          1.6930350859092225,
          1.7524764294137463,
          3.810839534298835,
          3.888583934384681,
          2.32003478979504,
          1.4067592160407862,
          1.171649832140024,
          2.0007207083426923,
          1.2286100073901574,
          2.2176690260298524,
          2.6837140873633594,
          0.9254090808326294,
          3.9341637170851387,
          2.6769030664023856,
          0.45710819146418324,
          2.6454712965840623,
          2.664518103299492,
          3.369971723490785,
          3.3393181886737366,
          2.2862049422598663,
          2.093984617415128,
          1.9148658443167133,
          0.3558026513546033,
          1.8430772528915946,
          1.3178306093131473,
          2.224227234197765,
          1.9567899236166735,
          2.579219854806172,
          2.3844235895028447,
          0.19732757264320488,
          2.918101625722113,
          3.820986179255341,
          2.096613563763318,
          3.126291204072852,
          2.566077822552188,
          1.0393951916909199,
          3.3265778052213806,
          0.5858630887496423,
          4.317495833520353,
          0.7626858577410018,
          0.01938297648156495,
          1.9212253571191145,
          2.6354373280758114,
          1.4114460182614321,
          1.630104417094486,
          0.6500358511846851,
          1.8825137700568784,
          0.8004636939582765,
          2.031103920139719,
          1.3071595313036741,
          1.9330983919741496,
          3.383868941308177,
          3.6639470810419095,
          0.816995619615847,
          1.8261431990309214,
          3.876522864700474,
          3.341866288789378,
          2.206765478251999,
          1.4561093438745243,
          2.0189448023474807,
          2.000852467422166,
          1.6178136405973467,
          2.907946065552088,
          2.927641711348095,
          3.1556149623167986,
          1.3022958403395815,
          1.1921823517736247,
          0.6443323669347929,
          3.424554047017213,
          3.300193204658897,
          0.3485889602287766,
          1.3516213046614212,
          2.0116952686122995,
          3.034616497621771,
          2.036923533510638,
          2.446289245060777,
          2.7395479873926494,
          3.2100791880568975,
          1.5308557992596081,
          0.7596806590898064,
          1.6761199383566912,
          1.560217305342488,
          3.9451173876363868,
          2.202985372831299,
          0.5146937017177178,
          2.218974306234027,
          1.9061533839337543,
          1.9727189157985043,
          2.2718000990346816,
          1.2291219483068854,
          3.8140553414365472
         ],
         "y0": " ",
         "yaxis": "y"
        }
       ],
       "layout": {
        "height": 500,
        "legend": {
         "tracegroupgap": 0
        },
        "template": {
         "data": {
          "bar": [
           {
            "error_x": {
             "color": "#2a3f5f"
            },
            "error_y": {
             "color": "#2a3f5f"
            },
            "marker": {
             "line": {
              "color": "#E5ECF6",
              "width": 0.5
             },
             "pattern": {
              "fillmode": "overlay",
              "size": 10,
              "solidity": 0.2
             }
            },
            "type": "bar"
           }
          ],
          "barpolar": [
           {
            "marker": {
             "line": {
              "color": "#E5ECF6",
              "width": 0.5
             },
             "pattern": {
              "fillmode": "overlay",
              "size": 10,
              "solidity": 0.2
             }
            },
            "type": "barpolar"
           }
          ],
          "carpet": [
           {
            "aaxis": {
             "endlinecolor": "#2a3f5f",
             "gridcolor": "white",
             "linecolor": "white",
             "minorgridcolor": "white",
             "startlinecolor": "#2a3f5f"
            },
            "baxis": {
             "endlinecolor": "#2a3f5f",
             "gridcolor": "white",
             "linecolor": "white",
             "minorgridcolor": "white",
             "startlinecolor": "#2a3f5f"
            },
            "type": "carpet"
           }
          ],
          "choropleth": [
           {
            "colorbar": {
             "outlinewidth": 0,
             "ticks": ""
            },
            "type": "choropleth"
           }
          ],
          "contour": [
           {
            "colorbar": {
             "outlinewidth": 0,
             "ticks": ""
            },
            "colorscale": [
             [
              0,
              "#0d0887"
             ],
             [
              0.1111111111111111,
              "#46039f"
             ],
             [
              0.2222222222222222,
              "#7201a8"
             ],
             [
              0.3333333333333333,
              "#9c179e"
             ],
             [
              0.4444444444444444,
              "#bd3786"
             ],
             [
              0.5555555555555556,
              "#d8576b"
             ],
             [
              0.6666666666666666,
              "#ed7953"
             ],
             [
              0.7777777777777778,
              "#fb9f3a"
             ],
             [
              0.8888888888888888,
              "#fdca26"
             ],
             [
              1,
              "#f0f921"
             ]
            ],
            "type": "contour"
           }
          ],
          "contourcarpet": [
           {
            "colorbar": {
             "outlinewidth": 0,
             "ticks": ""
            },
            "type": "contourcarpet"
           }
          ],
          "heatmap": [
           {
            "colorbar": {
             "outlinewidth": 0,
             "ticks": ""
            },
            "colorscale": [
             [
              0,
              "#0d0887"
             ],
             [
              0.1111111111111111,
              "#46039f"
             ],
             [
              0.2222222222222222,
              "#7201a8"
             ],
             [
              0.3333333333333333,
              "#9c179e"
             ],
             [
              0.4444444444444444,
              "#bd3786"
             ],
             [
              0.5555555555555556,
              "#d8576b"
             ],
             [
              0.6666666666666666,
              "#ed7953"
             ],
             [
              0.7777777777777778,
              "#fb9f3a"
             ],
             [
              0.8888888888888888,
              "#fdca26"
             ],
             [
              1,
              "#f0f921"
             ]
            ],
            "type": "heatmap"
           }
          ],
          "heatmapgl": [
           {
            "colorbar": {
             "outlinewidth": 0,
             "ticks": ""
            },
            "colorscale": [
             [
              0,
              "#0d0887"
             ],
             [
              0.1111111111111111,
              "#46039f"
             ],
             [
              0.2222222222222222,
              "#7201a8"
             ],
             [
              0.3333333333333333,
              "#9c179e"
             ],
             [
              0.4444444444444444,
              "#bd3786"
             ],
             [
              0.5555555555555556,
              "#d8576b"
             ],
             [
              0.6666666666666666,
              "#ed7953"
             ],
             [
              0.7777777777777778,
              "#fb9f3a"
             ],
             [
              0.8888888888888888,
              "#fdca26"
             ],
             [
              1,
              "#f0f921"
             ]
            ],
            "type": "heatmapgl"
           }
          ],
          "histogram": [
           {
            "marker": {
             "pattern": {
              "fillmode": "overlay",
              "size": 10,
              "solidity": 0.2
             }
            },
            "type": "histogram"
           }
          ],
          "histogram2d": [
           {
            "colorbar": {
             "outlinewidth": 0,
             "ticks": ""
            },
            "colorscale": [
             [
              0,
              "#0d0887"
             ],
             [
              0.1111111111111111,
              "#46039f"
             ],
             [
              0.2222222222222222,
              "#7201a8"
             ],
             [
              0.3333333333333333,
              "#9c179e"
             ],
             [
              0.4444444444444444,
              "#bd3786"
             ],
             [
              0.5555555555555556,
              "#d8576b"
             ],
             [
              0.6666666666666666,
              "#ed7953"
             ],
             [
              0.7777777777777778,
              "#fb9f3a"
             ],
             [
              0.8888888888888888,
              "#fdca26"
             ],
             [
              1,
              "#f0f921"
             ]
            ],
            "type": "histogram2d"
           }
          ],
          "histogram2dcontour": [
           {
            "colorbar": {
             "outlinewidth": 0,
             "ticks": ""
            },
            "colorscale": [
             [
              0,
              "#0d0887"
             ],
             [
              0.1111111111111111,
              "#46039f"
             ],
             [
              0.2222222222222222,
              "#7201a8"
             ],
             [
              0.3333333333333333,
              "#9c179e"
             ],
             [
              0.4444444444444444,
              "#bd3786"
             ],
             [
              0.5555555555555556,
              "#d8576b"
             ],
             [
              0.6666666666666666,
              "#ed7953"
             ],
             [
              0.7777777777777778,
              "#fb9f3a"
             ],
             [
              0.8888888888888888,
              "#fdca26"
             ],
             [
              1,
              "#f0f921"
             ]
            ],
            "type": "histogram2dcontour"
           }
          ],
          "mesh3d": [
           {
            "colorbar": {
             "outlinewidth": 0,
             "ticks": ""
            },
            "type": "mesh3d"
           }
          ],
          "parcoords": [
           {
            "line": {
             "colorbar": {
              "outlinewidth": 0,
              "ticks": ""
             }
            },
            "type": "parcoords"
           }
          ],
          "pie": [
           {
            "automargin": true,
            "type": "pie"
           }
          ],
          "scatter": [
           {
            "fillpattern": {
             "fillmode": "overlay",
             "size": 10,
             "solidity": 0.2
            },
            "type": "scatter"
           }
          ],
          "scatter3d": [
           {
            "line": {
             "colorbar": {
              "outlinewidth": 0,
              "ticks": ""
             }
            },
            "marker": {
             "colorbar": {
              "outlinewidth": 0,
              "ticks": ""
             }
            },
            "type": "scatter3d"
           }
          ],
          "scattercarpet": [
           {
            "marker": {
             "colorbar": {
              "outlinewidth": 0,
              "ticks": ""
             }
            },
            "type": "scattercarpet"
           }
          ],
          "scattergeo": [
           {
            "marker": {
             "colorbar": {
              "outlinewidth": 0,
              "ticks": ""
             }
            },
            "type": "scattergeo"
           }
          ],
          "scattergl": [
           {
            "marker": {
             "colorbar": {
              "outlinewidth": 0,
              "ticks": ""
             }
            },
            "type": "scattergl"
           }
          ],
          "scattermapbox": [
           {
            "marker": {
             "colorbar": {
              "outlinewidth": 0,
              "ticks": ""
             }
            },
            "type": "scattermapbox"
           }
          ],
          "scatterpolar": [
           {
            "marker": {
             "colorbar": {
              "outlinewidth": 0,
              "ticks": ""
             }
            },
            "type": "scatterpolar"
           }
          ],
          "scatterpolargl": [
           {
            "marker": {
             "colorbar": {
              "outlinewidth": 0,
              "ticks": ""
             }
            },
            "type": "scatterpolargl"
           }
          ],
          "scatterternary": [
           {
            "marker": {
             "colorbar": {
              "outlinewidth": 0,
              "ticks": ""
             }
            },
            "type": "scatterternary"
           }
          ],
          "surface": [
           {
            "colorbar": {
             "outlinewidth": 0,
             "ticks": ""
            },
            "colorscale": [
             [
              0,
              "#0d0887"
             ],
             [
              0.1111111111111111,
              "#46039f"
             ],
             [
              0.2222222222222222,
              "#7201a8"
             ],
             [
              0.3333333333333333,
              "#9c179e"
             ],
             [
              0.4444444444444444,
              "#bd3786"
             ],
             [
              0.5555555555555556,
              "#d8576b"
             ],
             [
              0.6666666666666666,
              "#ed7953"
             ],
             [
              0.7777777777777778,
              "#fb9f3a"
             ],
             [
              0.8888888888888888,
              "#fdca26"
             ],
             [
              1,
              "#f0f921"
             ]
            ],
            "type": "surface"
           }
          ],
          "table": [
           {
            "cells": {
             "fill": {
              "color": "#EBF0F8"
             },
             "line": {
              "color": "white"
             }
            },
            "header": {
             "fill": {
              "color": "#C8D4E3"
             },
             "line": {
              "color": "white"
             }
            },
            "type": "table"
           }
          ]
         },
         "layout": {
          "annotationdefaults": {
           "arrowcolor": "#2a3f5f",
           "arrowhead": 0,
           "arrowwidth": 1
          },
          "autotypenumbers": "strict",
          "coloraxis": {
           "colorbar": {
            "outlinewidth": 0,
            "ticks": ""
           }
          },
          "colorscale": {
           "diverging": [
            [
             0,
             "#8e0152"
            ],
            [
             0.1,
             "#c51b7d"
            ],
            [
             0.2,
             "#de77ae"
            ],
            [
             0.3,
             "#f1b6da"
            ],
            [
             0.4,
             "#fde0ef"
            ],
            [
             0.5,
             "#f7f7f7"
            ],
            [
             0.6,
             "#e6f5d0"
            ],
            [
             0.7,
             "#b8e186"
            ],
            [
             0.8,
             "#7fbc41"
            ],
            [
             0.9,
             "#4d9221"
            ],
            [
             1,
             "#276419"
            ]
           ],
           "sequential": [
            [
             0,
             "#0d0887"
            ],
            [
             0.1111111111111111,
             "#46039f"
            ],
            [
             0.2222222222222222,
             "#7201a8"
            ],
            [
             0.3333333333333333,
             "#9c179e"
            ],
            [
             0.4444444444444444,
             "#bd3786"
            ],
            [
             0.5555555555555556,
             "#d8576b"
            ],
            [
             0.6666666666666666,
             "#ed7953"
            ],
            [
             0.7777777777777778,
             "#fb9f3a"
            ],
            [
             0.8888888888888888,
             "#fdca26"
            ],
            [
             1,
             "#f0f921"
            ]
           ],
           "sequentialminus": [
            [
             0,
             "#0d0887"
            ],
            [
             0.1111111111111111,
             "#46039f"
            ],
            [
             0.2222222222222222,
             "#7201a8"
            ],
            [
             0.3333333333333333,
             "#9c179e"
            ],
            [
             0.4444444444444444,
             "#bd3786"
            ],
            [
             0.5555555555555556,
             "#d8576b"
            ],
            [
             0.6666666666666666,
             "#ed7953"
            ],
            [
             0.7777777777777778,
             "#fb9f3a"
            ],
            [
             0.8888888888888888,
             "#fdca26"
            ],
            [
             1,
             "#f0f921"
            ]
           ]
          },
          "colorway": [
           "#636efa",
           "#EF553B",
           "#00cc96",
           "#ab63fa",
           "#FFA15A",
           "#19d3f3",
           "#FF6692",
           "#B6E880",
           "#FF97FF",
           "#FECB52"
          ],
          "font": {
           "color": "#2a3f5f"
          },
          "geo": {
           "bgcolor": "white",
           "lakecolor": "white",
           "landcolor": "#E5ECF6",
           "showlakes": true,
           "showland": true,
           "subunitcolor": "white"
          },
          "hoverlabel": {
           "align": "left"
          },
          "hovermode": "closest",
          "mapbox": {
           "style": "light"
          },
          "paper_bgcolor": "white",
          "plot_bgcolor": "#E5ECF6",
          "polar": {
           "angularaxis": {
            "gridcolor": "white",
            "linecolor": "white",
            "ticks": ""
           },
           "bgcolor": "#E5ECF6",
           "radialaxis": {
            "gridcolor": "white",
            "linecolor": "white",
            "ticks": ""
           }
          },
          "scene": {
           "xaxis": {
            "backgroundcolor": "#E5ECF6",
            "gridcolor": "white",
            "gridwidth": 2,
            "linecolor": "white",
            "showbackground": true,
            "ticks": "",
            "zerolinecolor": "white"
           },
           "yaxis": {
            "backgroundcolor": "#E5ECF6",
            "gridcolor": "white",
            "gridwidth": 2,
            "linecolor": "white",
            "showbackground": true,
            "ticks": "",
            "zerolinecolor": "white"
           },
           "zaxis": {
            "backgroundcolor": "#E5ECF6",
            "gridcolor": "white",
            "gridwidth": 2,
            "linecolor": "white",
            "showbackground": true,
            "ticks": "",
            "zerolinecolor": "white"
           }
          },
          "shapedefaults": {
           "line": {
            "color": "#2a3f5f"
           }
          },
          "ternary": {
           "aaxis": {
            "gridcolor": "white",
            "linecolor": "white",
            "ticks": ""
           },
           "baxis": {
            "gridcolor": "white",
            "linecolor": "white",
            "ticks": ""
           },
           "bgcolor": "#E5ECF6",
           "caxis": {
            "gridcolor": "white",
            "linecolor": "white",
            "ticks": ""
           }
          },
          "title": {
           "x": 0.05
          },
          "xaxis": {
           "automargin": true,
           "gridcolor": "white",
           "linecolor": "white",
           "ticks": "",
           "title": {
            "standoff": 15
           },
           "zerolinecolor": "white",
           "zerolinewidth": 2
          },
          "yaxis": {
           "automargin": true,
           "gridcolor": "white",
           "linecolor": "white",
           "ticks": "",
           "title": {
            "standoff": 15
           },
           "zerolinecolor": "white",
           "zerolinewidth": 2
          }
         }
        },
        "title": {
         "text": "Sample from a Normal Distribution"
        },
        "violinmode": "group",
        "width": 600,
        "xaxis": {
         "anchor": "y",
         "domain": [
          0,
          1
         ]
        },
        "yaxis": {
         "anchor": "x",
         "domain": [
          0,
          1
         ],
         "title": {
          "text": "Normal"
         }
        }
       }
      }
     },
     "metadata": {},
     "output_type": "display_data"
    }
   ],
   "source": [
    "fig = px.violin(df, y=\"Normal\",\n",
    "             points=\"suspectedoutliers\",\n",
    "             color_discrete_sequence=['orange'],\n",
    "             height = 500, width = 600,\n",
    "             title='Sample from a Normal Distribution')\n",
    "fig.show()"
   ]
  },
  {
   "cell_type": "code",
   "execution_count": 11,
   "metadata": {},
   "outputs": [
    {
     "data": {
      "application/vnd.plotly.v1+json": {
       "config": {
        "plotlyServerURL": "https://plot.ly"
       },
       "data": [
        {
         "alignmentgroup": "True",
         "box": {
          "visible": true
         },
         "hovertemplate": "Normal=%{y}<extra></extra>",
         "legendgroup": "",
         "marker": {
          "color": "purple"
         },
         "name": "",
         "offsetgroup": "",
         "orientation": "v",
         "scalegroup": "True",
         "showlegend": false,
         "type": "violin",
         "x0": " ",
         "xaxis": "x",
         "y": [
          3.010603808682812,
          1.3121544655425539,
          1.7802271424528466,
          2.7888574524879317,
          1.5263622107532897,
          2.3558592728821077,
          2.311555537732986,
          3.3839871907634373,
          2.2710187471241805,
          0.3303541797390208,
          2.6843813736829927,
          3.534933076063685,
          -0.03767373720186473,
          3.579119042476065,
          1.7510853434937637,
          1.8127076939814646,
          3.2284573697771197,
          2.4870264356739256,
          1.7305888865358148,
          2.372817064700227,
          2.19856651969668,
          3.6391207917634234,
          2.287364806376417,
          1.150914403339033,
          2.204991805836251,
          2.0829684412518246,
          0.40978685838037276,
          1.6203119143890734,
          2.4949515063415633,
          2.6972579488203863,
          0.17599568632851748,
          2.506848539729748,
          1.9114248802108778,
          2.1870446741923475,
          3.3308967845678485,
          2.5636138356507505,
          0.7490175812738653,
          1.3733359275227022,
          2.3871797715162058,
          1.5719643701111767,
          2.921457157615924,
          3.0925585607364017,
          1.4514636144924986,
          3.2394775659926074,
          3.1579597425318156,
          2.417748179350268,
          1.7041192189310421,
          2.025033862778361,
          1.7183602099602666,
          1.3793846805040957,
          1.323306688885209,
          1.1058488815313012,
          0.2502812049050904,
          1.8500131523924686,
          2.682742469925375,
          2.268509851680112,
          1.9265271653331753,
          2.8364308242197827,
          1.7956152891813326,
          0.9052286785884336,
          1.1291023228559884,
          3.225241405051153,
          2.245842749948661,
          1.4291041273236953,
          0.18617635510565922,
          2.7170897728520638,
          1.6935387268782387,
          2.1799750378577007,
          0.7934230904577297,
          1.79367463492129,
          0.43093319317799494,
          1.5830902276024714,
          1.5997831559871014,
          2.502362696750904,
          1.8345355752439998,
          2.040737048970878,
          2.9265450020420305,
          3.045462495757751,
          2.5237336127988947,
          3.068896200342376,
          0.907083538525794,
          2.4329953603043624,
          2.4863971117204415,
          1.6545411273076016,
          2.3374817031656914,
          3.756062703541987,
          3.734035933341622,
          3.368524584639541,
          3.0054667395372383,
          4.360530868975427,
          0.09991058427758448,
          2.1780132374312258,
          2.2048261665100752,
          2.0067348502550213,
          1.2483156830535895,
          2.7483852656357075,
          2.421829295845416,
          0.5261632948290611,
          1.8805257968538351,
          1.2758751231206473,
          1.2683577270616904,
          0.4704277485452566,
          1.1468797896133192,
          1.9252099674845433,
          1.0825646918101155,
          2.0342377215008316,
          1.044411498371399,
          2.981051093918265,
          2.7203127982103874,
          1.6930350859092225,
          1.7524764294137463,
          3.810839534298835,
          3.888583934384681,
          2.32003478979504,
          1.4067592160407862,
          1.171649832140024,
          2.0007207083426923,
          1.2286100073901574,
          2.2176690260298524,
          2.6837140873633594,
          0.9254090808326294,
          3.9341637170851387,
          2.6769030664023856,
          0.45710819146418324,
          2.6454712965840623,
          2.664518103299492,
          3.369971723490785,
          3.3393181886737366,
          2.2862049422598663,
          2.093984617415128,
          1.9148658443167133,
          0.3558026513546033,
          1.8430772528915946,
          1.3178306093131473,
          2.224227234197765,
          1.9567899236166735,
          2.579219854806172,
          2.3844235895028447,
          0.19732757264320488,
          2.918101625722113,
          3.820986179255341,
          2.096613563763318,
          3.126291204072852,
          2.566077822552188,
          1.0393951916909199,
          3.3265778052213806,
          0.5858630887496423,
          4.317495833520353,
          0.7626858577410018,
          0.01938297648156495,
          1.9212253571191145,
          2.6354373280758114,
          1.4114460182614321,
          1.630104417094486,
          0.6500358511846851,
          1.8825137700568784,
          0.8004636939582765,
          2.031103920139719,
          1.3071595313036741,
          1.9330983919741496,
          3.383868941308177,
          3.6639470810419095,
          0.816995619615847,
          1.8261431990309214,
          3.876522864700474,
          3.341866288789378,
          2.206765478251999,
          1.4561093438745243,
          2.0189448023474807,
          2.000852467422166,
          1.6178136405973467,
          2.907946065552088,
          2.927641711348095,
          3.1556149623167986,
          1.3022958403395815,
          1.1921823517736247,
          0.6443323669347929,
          3.424554047017213,
          3.300193204658897,
          0.3485889602287766,
          1.3516213046614212,
          2.0116952686122995,
          3.034616497621771,
          2.036923533510638,
          2.446289245060777,
          2.7395479873926494,
          3.2100791880568975,
          1.5308557992596081,
          0.7596806590898064,
          1.6761199383566912,
          1.560217305342488,
          3.9451173876363868,
          2.202985372831299,
          0.5146937017177178,
          2.218974306234027,
          1.9061533839337543,
          1.9727189157985043,
          2.2718000990346816,
          1.2291219483068854,
          3.8140553414365472
         ],
         "y0": " ",
         "yaxis": "y"
        }
       ],
       "layout": {
        "height": 500,
        "legend": {
         "tracegroupgap": 0
        },
        "template": {
         "data": {
          "bar": [
           {
            "error_x": {
             "color": "#2a3f5f"
            },
            "error_y": {
             "color": "#2a3f5f"
            },
            "marker": {
             "line": {
              "color": "#E5ECF6",
              "width": 0.5
             },
             "pattern": {
              "fillmode": "overlay",
              "size": 10,
              "solidity": 0.2
             }
            },
            "type": "bar"
           }
          ],
          "barpolar": [
           {
            "marker": {
             "line": {
              "color": "#E5ECF6",
              "width": 0.5
             },
             "pattern": {
              "fillmode": "overlay",
              "size": 10,
              "solidity": 0.2
             }
            },
            "type": "barpolar"
           }
          ],
          "carpet": [
           {
            "aaxis": {
             "endlinecolor": "#2a3f5f",
             "gridcolor": "white",
             "linecolor": "white",
             "minorgridcolor": "white",
             "startlinecolor": "#2a3f5f"
            },
            "baxis": {
             "endlinecolor": "#2a3f5f",
             "gridcolor": "white",
             "linecolor": "white",
             "minorgridcolor": "white",
             "startlinecolor": "#2a3f5f"
            },
            "type": "carpet"
           }
          ],
          "choropleth": [
           {
            "colorbar": {
             "outlinewidth": 0,
             "ticks": ""
            },
            "type": "choropleth"
           }
          ],
          "contour": [
           {
            "colorbar": {
             "outlinewidth": 0,
             "ticks": ""
            },
            "colorscale": [
             [
              0,
              "#0d0887"
             ],
             [
              0.1111111111111111,
              "#46039f"
             ],
             [
              0.2222222222222222,
              "#7201a8"
             ],
             [
              0.3333333333333333,
              "#9c179e"
             ],
             [
              0.4444444444444444,
              "#bd3786"
             ],
             [
              0.5555555555555556,
              "#d8576b"
             ],
             [
              0.6666666666666666,
              "#ed7953"
             ],
             [
              0.7777777777777778,
              "#fb9f3a"
             ],
             [
              0.8888888888888888,
              "#fdca26"
             ],
             [
              1,
              "#f0f921"
             ]
            ],
            "type": "contour"
           }
          ],
          "contourcarpet": [
           {
            "colorbar": {
             "outlinewidth": 0,
             "ticks": ""
            },
            "type": "contourcarpet"
           }
          ],
          "heatmap": [
           {
            "colorbar": {
             "outlinewidth": 0,
             "ticks": ""
            },
            "colorscale": [
             [
              0,
              "#0d0887"
             ],
             [
              0.1111111111111111,
              "#46039f"
             ],
             [
              0.2222222222222222,
              "#7201a8"
             ],
             [
              0.3333333333333333,
              "#9c179e"
             ],
             [
              0.4444444444444444,
              "#bd3786"
             ],
             [
              0.5555555555555556,
              "#d8576b"
             ],
             [
              0.6666666666666666,
              "#ed7953"
             ],
             [
              0.7777777777777778,
              "#fb9f3a"
             ],
             [
              0.8888888888888888,
              "#fdca26"
             ],
             [
              1,
              "#f0f921"
             ]
            ],
            "type": "heatmap"
           }
          ],
          "heatmapgl": [
           {
            "colorbar": {
             "outlinewidth": 0,
             "ticks": ""
            },
            "colorscale": [
             [
              0,
              "#0d0887"
             ],
             [
              0.1111111111111111,
              "#46039f"
             ],
             [
              0.2222222222222222,
              "#7201a8"
             ],
             [
              0.3333333333333333,
              "#9c179e"
             ],
             [
              0.4444444444444444,
              "#bd3786"
             ],
             [
              0.5555555555555556,
              "#d8576b"
             ],
             [
              0.6666666666666666,
              "#ed7953"
             ],
             [
              0.7777777777777778,
              "#fb9f3a"
             ],
             [
              0.8888888888888888,
              "#fdca26"
             ],
             [
              1,
              "#f0f921"
             ]
            ],
            "type": "heatmapgl"
           }
          ],
          "histogram": [
           {
            "marker": {
             "pattern": {
              "fillmode": "overlay",
              "size": 10,
              "solidity": 0.2
             }
            },
            "type": "histogram"
           }
          ],
          "histogram2d": [
           {
            "colorbar": {
             "outlinewidth": 0,
             "ticks": ""
            },
            "colorscale": [
             [
              0,
              "#0d0887"
             ],
             [
              0.1111111111111111,
              "#46039f"
             ],
             [
              0.2222222222222222,
              "#7201a8"
             ],
             [
              0.3333333333333333,
              "#9c179e"
             ],
             [
              0.4444444444444444,
              "#bd3786"
             ],
             [
              0.5555555555555556,
              "#d8576b"
             ],
             [
              0.6666666666666666,
              "#ed7953"
             ],
             [
              0.7777777777777778,
              "#fb9f3a"
             ],
             [
              0.8888888888888888,
              "#fdca26"
             ],
             [
              1,
              "#f0f921"
             ]
            ],
            "type": "histogram2d"
           }
          ],
          "histogram2dcontour": [
           {
            "colorbar": {
             "outlinewidth": 0,
             "ticks": ""
            },
            "colorscale": [
             [
              0,
              "#0d0887"
             ],
             [
              0.1111111111111111,
              "#46039f"
             ],
             [
              0.2222222222222222,
              "#7201a8"
             ],
             [
              0.3333333333333333,
              "#9c179e"
             ],
             [
              0.4444444444444444,
              "#bd3786"
             ],
             [
              0.5555555555555556,
              "#d8576b"
             ],
             [
              0.6666666666666666,
              "#ed7953"
             ],
             [
              0.7777777777777778,
              "#fb9f3a"
             ],
             [
              0.8888888888888888,
              "#fdca26"
             ],
             [
              1,
              "#f0f921"
             ]
            ],
            "type": "histogram2dcontour"
           }
          ],
          "mesh3d": [
           {
            "colorbar": {
             "outlinewidth": 0,
             "ticks": ""
            },
            "type": "mesh3d"
           }
          ],
          "parcoords": [
           {
            "line": {
             "colorbar": {
              "outlinewidth": 0,
              "ticks": ""
             }
            },
            "type": "parcoords"
           }
          ],
          "pie": [
           {
            "automargin": true,
            "type": "pie"
           }
          ],
          "scatter": [
           {
            "fillpattern": {
             "fillmode": "overlay",
             "size": 10,
             "solidity": 0.2
            },
            "type": "scatter"
           }
          ],
          "scatter3d": [
           {
            "line": {
             "colorbar": {
              "outlinewidth": 0,
              "ticks": ""
             }
            },
            "marker": {
             "colorbar": {
              "outlinewidth": 0,
              "ticks": ""
             }
            },
            "type": "scatter3d"
           }
          ],
          "scattercarpet": [
           {
            "marker": {
             "colorbar": {
              "outlinewidth": 0,
              "ticks": ""
             }
            },
            "type": "scattercarpet"
           }
          ],
          "scattergeo": [
           {
            "marker": {
             "colorbar": {
              "outlinewidth": 0,
              "ticks": ""
             }
            },
            "type": "scattergeo"
           }
          ],
          "scattergl": [
           {
            "marker": {
             "colorbar": {
              "outlinewidth": 0,
              "ticks": ""
             }
            },
            "type": "scattergl"
           }
          ],
          "scattermapbox": [
           {
            "marker": {
             "colorbar": {
              "outlinewidth": 0,
              "ticks": ""
             }
            },
            "type": "scattermapbox"
           }
          ],
          "scatterpolar": [
           {
            "marker": {
             "colorbar": {
              "outlinewidth": 0,
              "ticks": ""
             }
            },
            "type": "scatterpolar"
           }
          ],
          "scatterpolargl": [
           {
            "marker": {
             "colorbar": {
              "outlinewidth": 0,
              "ticks": ""
             }
            },
            "type": "scatterpolargl"
           }
          ],
          "scatterternary": [
           {
            "marker": {
             "colorbar": {
              "outlinewidth": 0,
              "ticks": ""
             }
            },
            "type": "scatterternary"
           }
          ],
          "surface": [
           {
            "colorbar": {
             "outlinewidth": 0,
             "ticks": ""
            },
            "colorscale": [
             [
              0,
              "#0d0887"
             ],
             [
              0.1111111111111111,
              "#46039f"
             ],
             [
              0.2222222222222222,
              "#7201a8"
             ],
             [
              0.3333333333333333,
              "#9c179e"
             ],
             [
              0.4444444444444444,
              "#bd3786"
             ],
             [
              0.5555555555555556,
              "#d8576b"
             ],
             [
              0.6666666666666666,
              "#ed7953"
             ],
             [
              0.7777777777777778,
              "#fb9f3a"
             ],
             [
              0.8888888888888888,
              "#fdca26"
             ],
             [
              1,
              "#f0f921"
             ]
            ],
            "type": "surface"
           }
          ],
          "table": [
           {
            "cells": {
             "fill": {
              "color": "#EBF0F8"
             },
             "line": {
              "color": "white"
             }
            },
            "header": {
             "fill": {
              "color": "#C8D4E3"
             },
             "line": {
              "color": "white"
             }
            },
            "type": "table"
           }
          ]
         },
         "layout": {
          "annotationdefaults": {
           "arrowcolor": "#2a3f5f",
           "arrowhead": 0,
           "arrowwidth": 1
          },
          "autotypenumbers": "strict",
          "coloraxis": {
           "colorbar": {
            "outlinewidth": 0,
            "ticks": ""
           }
          },
          "colorscale": {
           "diverging": [
            [
             0,
             "#8e0152"
            ],
            [
             0.1,
             "#c51b7d"
            ],
            [
             0.2,
             "#de77ae"
            ],
            [
             0.3,
             "#f1b6da"
            ],
            [
             0.4,
             "#fde0ef"
            ],
            [
             0.5,
             "#f7f7f7"
            ],
            [
             0.6,
             "#e6f5d0"
            ],
            [
             0.7,
             "#b8e186"
            ],
            [
             0.8,
             "#7fbc41"
            ],
            [
             0.9,
             "#4d9221"
            ],
            [
             1,
             "#276419"
            ]
           ],
           "sequential": [
            [
             0,
             "#0d0887"
            ],
            [
             0.1111111111111111,
             "#46039f"
            ],
            [
             0.2222222222222222,
             "#7201a8"
            ],
            [
             0.3333333333333333,
             "#9c179e"
            ],
            [
             0.4444444444444444,
             "#bd3786"
            ],
            [
             0.5555555555555556,
             "#d8576b"
            ],
            [
             0.6666666666666666,
             "#ed7953"
            ],
            [
             0.7777777777777778,
             "#fb9f3a"
            ],
            [
             0.8888888888888888,
             "#fdca26"
            ],
            [
             1,
             "#f0f921"
            ]
           ],
           "sequentialminus": [
            [
             0,
             "#0d0887"
            ],
            [
             0.1111111111111111,
             "#46039f"
            ],
            [
             0.2222222222222222,
             "#7201a8"
            ],
            [
             0.3333333333333333,
             "#9c179e"
            ],
            [
             0.4444444444444444,
             "#bd3786"
            ],
            [
             0.5555555555555556,
             "#d8576b"
            ],
            [
             0.6666666666666666,
             "#ed7953"
            ],
            [
             0.7777777777777778,
             "#fb9f3a"
            ],
            [
             0.8888888888888888,
             "#fdca26"
            ],
            [
             1,
             "#f0f921"
            ]
           ]
          },
          "colorway": [
           "#636efa",
           "#EF553B",
           "#00cc96",
           "#ab63fa",
           "#FFA15A",
           "#19d3f3",
           "#FF6692",
           "#B6E880",
           "#FF97FF",
           "#FECB52"
          ],
          "font": {
           "color": "#2a3f5f"
          },
          "geo": {
           "bgcolor": "white",
           "lakecolor": "white",
           "landcolor": "#E5ECF6",
           "showlakes": true,
           "showland": true,
           "subunitcolor": "white"
          },
          "hoverlabel": {
           "align": "left"
          },
          "hovermode": "closest",
          "mapbox": {
           "style": "light"
          },
          "paper_bgcolor": "white",
          "plot_bgcolor": "#E5ECF6",
          "polar": {
           "angularaxis": {
            "gridcolor": "white",
            "linecolor": "white",
            "ticks": ""
           },
           "bgcolor": "#E5ECF6",
           "radialaxis": {
            "gridcolor": "white",
            "linecolor": "white",
            "ticks": ""
           }
          },
          "scene": {
           "xaxis": {
            "backgroundcolor": "#E5ECF6",
            "gridcolor": "white",
            "gridwidth": 2,
            "linecolor": "white",
            "showbackground": true,
            "ticks": "",
            "zerolinecolor": "white"
           },
           "yaxis": {
            "backgroundcolor": "#E5ECF6",
            "gridcolor": "white",
            "gridwidth": 2,
            "linecolor": "white",
            "showbackground": true,
            "ticks": "",
            "zerolinecolor": "white"
           },
           "zaxis": {
            "backgroundcolor": "#E5ECF6",
            "gridcolor": "white",
            "gridwidth": 2,
            "linecolor": "white",
            "showbackground": true,
            "ticks": "",
            "zerolinecolor": "white"
           }
          },
          "shapedefaults": {
           "line": {
            "color": "#2a3f5f"
           }
          },
          "ternary": {
           "aaxis": {
            "gridcolor": "white",
            "linecolor": "white",
            "ticks": ""
           },
           "baxis": {
            "gridcolor": "white",
            "linecolor": "white",
            "ticks": ""
           },
           "bgcolor": "#E5ECF6",
           "caxis": {
            "gridcolor": "white",
            "linecolor": "white",
            "ticks": ""
           }
          },
          "title": {
           "x": 0.05
          },
          "xaxis": {
           "automargin": true,
           "gridcolor": "white",
           "linecolor": "white",
           "ticks": "",
           "title": {
            "standoff": 15
           },
           "zerolinecolor": "white",
           "zerolinewidth": 2
          },
          "yaxis": {
           "automargin": true,
           "gridcolor": "white",
           "linecolor": "white",
           "ticks": "",
           "title": {
            "standoff": 15
           },
           "zerolinecolor": "white",
           "zerolinewidth": 2
          }
         }
        },
        "title": {
         "text": "Sample from a Normal Distribution"
        },
        "violinmode": "group",
        "width": 600,
        "xaxis": {
         "anchor": "y",
         "domain": [
          0,
          1
         ]
        },
        "yaxis": {
         "anchor": "x",
         "domain": [
          0,
          1
         ],
         "title": {
          "text": "Normal"
         }
        }
       }
      }
     },
     "metadata": {},
     "output_type": "display_data"
    }
   ],
   "source": [
    "fig = px.violin(df, y=\"Normal\",\n",
    "             box = True,\n",
    "             color_discrete_sequence=['purple'],\n",
    "             height = 500, width = 600,\n",
    "             title='Sample from a Normal Distribution')\n",
    "fig.show()"
   ]
  },
  {
   "cell_type": "code",
   "execution_count": 12,
   "metadata": {},
   "outputs": [
    {
     "data": {
      "application/vnd.plotly.v1+json": {
       "config": {
        "plotlyServerURL": "https://plot.ly"
       },
       "data": [
        {
         "alignmentgroup": "True",
         "box": {
          "visible": false
         },
         "hovertemplate": "Normal=%{y}<extra></extra>",
         "legendgroup": "",
         "marker": {
          "color": "purple"
         },
         "name": "",
         "offsetgroup": "",
         "orientation": "v",
         "points": "all",
         "scalegroup": "True",
         "showlegend": false,
         "type": "violin",
         "x0": " ",
         "xaxis": "x",
         "y": [
          3.010603808682812,
          1.3121544655425539,
          1.7802271424528466,
          2.7888574524879317,
          1.5263622107532897,
          2.3558592728821077,
          2.311555537732986,
          3.3839871907634373,
          2.2710187471241805,
          0.3303541797390208,
          2.6843813736829927,
          3.534933076063685,
          -0.03767373720186473,
          3.579119042476065,
          1.7510853434937637,
          1.8127076939814646,
          3.2284573697771197,
          2.4870264356739256,
          1.7305888865358148,
          2.372817064700227,
          2.19856651969668,
          3.6391207917634234,
          2.287364806376417,
          1.150914403339033,
          2.204991805836251,
          2.0829684412518246,
          0.40978685838037276,
          1.6203119143890734,
          2.4949515063415633,
          2.6972579488203863,
          0.17599568632851748,
          2.506848539729748,
          1.9114248802108778,
          2.1870446741923475,
          3.3308967845678485,
          2.5636138356507505,
          0.7490175812738653,
          1.3733359275227022,
          2.3871797715162058,
          1.5719643701111767,
          2.921457157615924,
          3.0925585607364017,
          1.4514636144924986,
          3.2394775659926074,
          3.1579597425318156,
          2.417748179350268,
          1.7041192189310421,
          2.025033862778361,
          1.7183602099602666,
          1.3793846805040957,
          1.323306688885209,
          1.1058488815313012,
          0.2502812049050904,
          1.8500131523924686,
          2.682742469925375,
          2.268509851680112,
          1.9265271653331753,
          2.8364308242197827,
          1.7956152891813326,
          0.9052286785884336,
          1.1291023228559884,
          3.225241405051153,
          2.245842749948661,
          1.4291041273236953,
          0.18617635510565922,
          2.7170897728520638,
          1.6935387268782387,
          2.1799750378577007,
          0.7934230904577297,
          1.79367463492129,
          0.43093319317799494,
          1.5830902276024714,
          1.5997831559871014,
          2.502362696750904,
          1.8345355752439998,
          2.040737048970878,
          2.9265450020420305,
          3.045462495757751,
          2.5237336127988947,
          3.068896200342376,
          0.907083538525794,
          2.4329953603043624,
          2.4863971117204415,
          1.6545411273076016,
          2.3374817031656914,
          3.756062703541987,
          3.734035933341622,
          3.368524584639541,
          3.0054667395372383,
          4.360530868975427,
          0.09991058427758448,
          2.1780132374312258,
          2.2048261665100752,
          2.0067348502550213,
          1.2483156830535895,
          2.7483852656357075,
          2.421829295845416,
          0.5261632948290611,
          1.8805257968538351,
          1.2758751231206473,
          1.2683577270616904,
          0.4704277485452566,
          1.1468797896133192,
          1.9252099674845433,
          1.0825646918101155,
          2.0342377215008316,
          1.044411498371399,
          2.981051093918265,
          2.7203127982103874,
          1.6930350859092225,
          1.7524764294137463,
          3.810839534298835,
          3.888583934384681,
          2.32003478979504,
          1.4067592160407862,
          1.171649832140024,
          2.0007207083426923,
          1.2286100073901574,
          2.2176690260298524,
          2.6837140873633594,
          0.9254090808326294,
          3.9341637170851387,
          2.6769030664023856,
          0.45710819146418324,
          2.6454712965840623,
          2.664518103299492,
          3.369971723490785,
          3.3393181886737366,
          2.2862049422598663,
          2.093984617415128,
          1.9148658443167133,
          0.3558026513546033,
          1.8430772528915946,
          1.3178306093131473,
          2.224227234197765,
          1.9567899236166735,
          2.579219854806172,
          2.3844235895028447,
          0.19732757264320488,
          2.918101625722113,
          3.820986179255341,
          2.096613563763318,
          3.126291204072852,
          2.566077822552188,
          1.0393951916909199,
          3.3265778052213806,
          0.5858630887496423,
          4.317495833520353,
          0.7626858577410018,
          0.01938297648156495,
          1.9212253571191145,
          2.6354373280758114,
          1.4114460182614321,
          1.630104417094486,
          0.6500358511846851,
          1.8825137700568784,
          0.8004636939582765,
          2.031103920139719,
          1.3071595313036741,
          1.9330983919741496,
          3.383868941308177,
          3.6639470810419095,
          0.816995619615847,
          1.8261431990309214,
          3.876522864700474,
          3.341866288789378,
          2.206765478251999,
          1.4561093438745243,
          2.0189448023474807,
          2.000852467422166,
          1.6178136405973467,
          2.907946065552088,
          2.927641711348095,
          3.1556149623167986,
          1.3022958403395815,
          1.1921823517736247,
          0.6443323669347929,
          3.424554047017213,
          3.300193204658897,
          0.3485889602287766,
          1.3516213046614212,
          2.0116952686122995,
          3.034616497621771,
          2.036923533510638,
          2.446289245060777,
          2.7395479873926494,
          3.2100791880568975,
          1.5308557992596081,
          0.7596806590898064,
          1.6761199383566912,
          1.560217305342488,
          3.9451173876363868,
          2.202985372831299,
          0.5146937017177178,
          2.218974306234027,
          1.9061533839337543,
          1.9727189157985043,
          2.2718000990346816,
          1.2291219483068854,
          3.8140553414365472
         ],
         "y0": " ",
         "yaxis": "y"
        }
       ],
       "layout": {
        "height": 500,
        "legend": {
         "tracegroupgap": 0
        },
        "template": {
         "data": {
          "bar": [
           {
            "error_x": {
             "color": "#2a3f5f"
            },
            "error_y": {
             "color": "#2a3f5f"
            },
            "marker": {
             "line": {
              "color": "#E5ECF6",
              "width": 0.5
             },
             "pattern": {
              "fillmode": "overlay",
              "size": 10,
              "solidity": 0.2
             }
            },
            "type": "bar"
           }
          ],
          "barpolar": [
           {
            "marker": {
             "line": {
              "color": "#E5ECF6",
              "width": 0.5
             },
             "pattern": {
              "fillmode": "overlay",
              "size": 10,
              "solidity": 0.2
             }
            },
            "type": "barpolar"
           }
          ],
          "carpet": [
           {
            "aaxis": {
             "endlinecolor": "#2a3f5f",
             "gridcolor": "white",
             "linecolor": "white",
             "minorgridcolor": "white",
             "startlinecolor": "#2a3f5f"
            },
            "baxis": {
             "endlinecolor": "#2a3f5f",
             "gridcolor": "white",
             "linecolor": "white",
             "minorgridcolor": "white",
             "startlinecolor": "#2a3f5f"
            },
            "type": "carpet"
           }
          ],
          "choropleth": [
           {
            "colorbar": {
             "outlinewidth": 0,
             "ticks": ""
            },
            "type": "choropleth"
           }
          ],
          "contour": [
           {
            "colorbar": {
             "outlinewidth": 0,
             "ticks": ""
            },
            "colorscale": [
             [
              0,
              "#0d0887"
             ],
             [
              0.1111111111111111,
              "#46039f"
             ],
             [
              0.2222222222222222,
              "#7201a8"
             ],
             [
              0.3333333333333333,
              "#9c179e"
             ],
             [
              0.4444444444444444,
              "#bd3786"
             ],
             [
              0.5555555555555556,
              "#d8576b"
             ],
             [
              0.6666666666666666,
              "#ed7953"
             ],
             [
              0.7777777777777778,
              "#fb9f3a"
             ],
             [
              0.8888888888888888,
              "#fdca26"
             ],
             [
              1,
              "#f0f921"
             ]
            ],
            "type": "contour"
           }
          ],
          "contourcarpet": [
           {
            "colorbar": {
             "outlinewidth": 0,
             "ticks": ""
            },
            "type": "contourcarpet"
           }
          ],
          "heatmap": [
           {
            "colorbar": {
             "outlinewidth": 0,
             "ticks": ""
            },
            "colorscale": [
             [
              0,
              "#0d0887"
             ],
             [
              0.1111111111111111,
              "#46039f"
             ],
             [
              0.2222222222222222,
              "#7201a8"
             ],
             [
              0.3333333333333333,
              "#9c179e"
             ],
             [
              0.4444444444444444,
              "#bd3786"
             ],
             [
              0.5555555555555556,
              "#d8576b"
             ],
             [
              0.6666666666666666,
              "#ed7953"
             ],
             [
              0.7777777777777778,
              "#fb9f3a"
             ],
             [
              0.8888888888888888,
              "#fdca26"
             ],
             [
              1,
              "#f0f921"
             ]
            ],
            "type": "heatmap"
           }
          ],
          "heatmapgl": [
           {
            "colorbar": {
             "outlinewidth": 0,
             "ticks": ""
            },
            "colorscale": [
             [
              0,
              "#0d0887"
             ],
             [
              0.1111111111111111,
              "#46039f"
             ],
             [
              0.2222222222222222,
              "#7201a8"
             ],
             [
              0.3333333333333333,
              "#9c179e"
             ],
             [
              0.4444444444444444,
              "#bd3786"
             ],
             [
              0.5555555555555556,
              "#d8576b"
             ],
             [
              0.6666666666666666,
              "#ed7953"
             ],
             [
              0.7777777777777778,
              "#fb9f3a"
             ],
             [
              0.8888888888888888,
              "#fdca26"
             ],
             [
              1,
              "#f0f921"
             ]
            ],
            "type": "heatmapgl"
           }
          ],
          "histogram": [
           {
            "marker": {
             "pattern": {
              "fillmode": "overlay",
              "size": 10,
              "solidity": 0.2
             }
            },
            "type": "histogram"
           }
          ],
          "histogram2d": [
           {
            "colorbar": {
             "outlinewidth": 0,
             "ticks": ""
            },
            "colorscale": [
             [
              0,
              "#0d0887"
             ],
             [
              0.1111111111111111,
              "#46039f"
             ],
             [
              0.2222222222222222,
              "#7201a8"
             ],
             [
              0.3333333333333333,
              "#9c179e"
             ],
             [
              0.4444444444444444,
              "#bd3786"
             ],
             [
              0.5555555555555556,
              "#d8576b"
             ],
             [
              0.6666666666666666,
              "#ed7953"
             ],
             [
              0.7777777777777778,
              "#fb9f3a"
             ],
             [
              0.8888888888888888,
              "#fdca26"
             ],
             [
              1,
              "#f0f921"
             ]
            ],
            "type": "histogram2d"
           }
          ],
          "histogram2dcontour": [
           {
            "colorbar": {
             "outlinewidth": 0,
             "ticks": ""
            },
            "colorscale": [
             [
              0,
              "#0d0887"
             ],
             [
              0.1111111111111111,
              "#46039f"
             ],
             [
              0.2222222222222222,
              "#7201a8"
             ],
             [
              0.3333333333333333,
              "#9c179e"
             ],
             [
              0.4444444444444444,
              "#bd3786"
             ],
             [
              0.5555555555555556,
              "#d8576b"
             ],
             [
              0.6666666666666666,
              "#ed7953"
             ],
             [
              0.7777777777777778,
              "#fb9f3a"
             ],
             [
              0.8888888888888888,
              "#fdca26"
             ],
             [
              1,
              "#f0f921"
             ]
            ],
            "type": "histogram2dcontour"
           }
          ],
          "mesh3d": [
           {
            "colorbar": {
             "outlinewidth": 0,
             "ticks": ""
            },
            "type": "mesh3d"
           }
          ],
          "parcoords": [
           {
            "line": {
             "colorbar": {
              "outlinewidth": 0,
              "ticks": ""
             }
            },
            "type": "parcoords"
           }
          ],
          "pie": [
           {
            "automargin": true,
            "type": "pie"
           }
          ],
          "scatter": [
           {
            "fillpattern": {
             "fillmode": "overlay",
             "size": 10,
             "solidity": 0.2
            },
            "type": "scatter"
           }
          ],
          "scatter3d": [
           {
            "line": {
             "colorbar": {
              "outlinewidth": 0,
              "ticks": ""
             }
            },
            "marker": {
             "colorbar": {
              "outlinewidth": 0,
              "ticks": ""
             }
            },
            "type": "scatter3d"
           }
          ],
          "scattercarpet": [
           {
            "marker": {
             "colorbar": {
              "outlinewidth": 0,
              "ticks": ""
             }
            },
            "type": "scattercarpet"
           }
          ],
          "scattergeo": [
           {
            "marker": {
             "colorbar": {
              "outlinewidth": 0,
              "ticks": ""
             }
            },
            "type": "scattergeo"
           }
          ],
          "scattergl": [
           {
            "marker": {
             "colorbar": {
              "outlinewidth": 0,
              "ticks": ""
             }
            },
            "type": "scattergl"
           }
          ],
          "scattermapbox": [
           {
            "marker": {
             "colorbar": {
              "outlinewidth": 0,
              "ticks": ""
             }
            },
            "type": "scattermapbox"
           }
          ],
          "scatterpolar": [
           {
            "marker": {
             "colorbar": {
              "outlinewidth": 0,
              "ticks": ""
             }
            },
            "type": "scatterpolar"
           }
          ],
          "scatterpolargl": [
           {
            "marker": {
             "colorbar": {
              "outlinewidth": 0,
              "ticks": ""
             }
            },
            "type": "scatterpolargl"
           }
          ],
          "scatterternary": [
           {
            "marker": {
             "colorbar": {
              "outlinewidth": 0,
              "ticks": ""
             }
            },
            "type": "scatterternary"
           }
          ],
          "surface": [
           {
            "colorbar": {
             "outlinewidth": 0,
             "ticks": ""
            },
            "colorscale": [
             [
              0,
              "#0d0887"
             ],
             [
              0.1111111111111111,
              "#46039f"
             ],
             [
              0.2222222222222222,
              "#7201a8"
             ],
             [
              0.3333333333333333,
              "#9c179e"
             ],
             [
              0.4444444444444444,
              "#bd3786"
             ],
             [
              0.5555555555555556,
              "#d8576b"
             ],
             [
              0.6666666666666666,
              "#ed7953"
             ],
             [
              0.7777777777777778,
              "#fb9f3a"
             ],
             [
              0.8888888888888888,
              "#fdca26"
             ],
             [
              1,
              "#f0f921"
             ]
            ],
            "type": "surface"
           }
          ],
          "table": [
           {
            "cells": {
             "fill": {
              "color": "#EBF0F8"
             },
             "line": {
              "color": "white"
             }
            },
            "header": {
             "fill": {
              "color": "#C8D4E3"
             },
             "line": {
              "color": "white"
             }
            },
            "type": "table"
           }
          ]
         },
         "layout": {
          "annotationdefaults": {
           "arrowcolor": "#2a3f5f",
           "arrowhead": 0,
           "arrowwidth": 1
          },
          "autotypenumbers": "strict",
          "coloraxis": {
           "colorbar": {
            "outlinewidth": 0,
            "ticks": ""
           }
          },
          "colorscale": {
           "diverging": [
            [
             0,
             "#8e0152"
            ],
            [
             0.1,
             "#c51b7d"
            ],
            [
             0.2,
             "#de77ae"
            ],
            [
             0.3,
             "#f1b6da"
            ],
            [
             0.4,
             "#fde0ef"
            ],
            [
             0.5,
             "#f7f7f7"
            ],
            [
             0.6,
             "#e6f5d0"
            ],
            [
             0.7,
             "#b8e186"
            ],
            [
             0.8,
             "#7fbc41"
            ],
            [
             0.9,
             "#4d9221"
            ],
            [
             1,
             "#276419"
            ]
           ],
           "sequential": [
            [
             0,
             "#0d0887"
            ],
            [
             0.1111111111111111,
             "#46039f"
            ],
            [
             0.2222222222222222,
             "#7201a8"
            ],
            [
             0.3333333333333333,
             "#9c179e"
            ],
            [
             0.4444444444444444,
             "#bd3786"
            ],
            [
             0.5555555555555556,
             "#d8576b"
            ],
            [
             0.6666666666666666,
             "#ed7953"
            ],
            [
             0.7777777777777778,
             "#fb9f3a"
            ],
            [
             0.8888888888888888,
             "#fdca26"
            ],
            [
             1,
             "#f0f921"
            ]
           ],
           "sequentialminus": [
            [
             0,
             "#0d0887"
            ],
            [
             0.1111111111111111,
             "#46039f"
            ],
            [
             0.2222222222222222,
             "#7201a8"
            ],
            [
             0.3333333333333333,
             "#9c179e"
            ],
            [
             0.4444444444444444,
             "#bd3786"
            ],
            [
             0.5555555555555556,
             "#d8576b"
            ],
            [
             0.6666666666666666,
             "#ed7953"
            ],
            [
             0.7777777777777778,
             "#fb9f3a"
            ],
            [
             0.8888888888888888,
             "#fdca26"
            ],
            [
             1,
             "#f0f921"
            ]
           ]
          },
          "colorway": [
           "#636efa",
           "#EF553B",
           "#00cc96",
           "#ab63fa",
           "#FFA15A",
           "#19d3f3",
           "#FF6692",
           "#B6E880",
           "#FF97FF",
           "#FECB52"
          ],
          "font": {
           "color": "#2a3f5f"
          },
          "geo": {
           "bgcolor": "white",
           "lakecolor": "white",
           "landcolor": "#E5ECF6",
           "showlakes": true,
           "showland": true,
           "subunitcolor": "white"
          },
          "hoverlabel": {
           "align": "left"
          },
          "hovermode": "closest",
          "mapbox": {
           "style": "light"
          },
          "paper_bgcolor": "white",
          "plot_bgcolor": "#E5ECF6",
          "polar": {
           "angularaxis": {
            "gridcolor": "white",
            "linecolor": "white",
            "ticks": ""
           },
           "bgcolor": "#E5ECF6",
           "radialaxis": {
            "gridcolor": "white",
            "linecolor": "white",
            "ticks": ""
           }
          },
          "scene": {
           "xaxis": {
            "backgroundcolor": "#E5ECF6",
            "gridcolor": "white",
            "gridwidth": 2,
            "linecolor": "white",
            "showbackground": true,
            "ticks": "",
            "zerolinecolor": "white"
           },
           "yaxis": {
            "backgroundcolor": "#E5ECF6",
            "gridcolor": "white",
            "gridwidth": 2,
            "linecolor": "white",
            "showbackground": true,
            "ticks": "",
            "zerolinecolor": "white"
           },
           "zaxis": {
            "backgroundcolor": "#E5ECF6",
            "gridcolor": "white",
            "gridwidth": 2,
            "linecolor": "white",
            "showbackground": true,
            "ticks": "",
            "zerolinecolor": "white"
           }
          },
          "shapedefaults": {
           "line": {
            "color": "#2a3f5f"
           }
          },
          "ternary": {
           "aaxis": {
            "gridcolor": "white",
            "linecolor": "white",
            "ticks": ""
           },
           "baxis": {
            "gridcolor": "white",
            "linecolor": "white",
            "ticks": ""
           },
           "bgcolor": "#E5ECF6",
           "caxis": {
            "gridcolor": "white",
            "linecolor": "white",
            "ticks": ""
           }
          },
          "title": {
           "x": 0.05
          },
          "xaxis": {
           "automargin": true,
           "gridcolor": "white",
           "linecolor": "white",
           "ticks": "",
           "title": {
            "standoff": 15
           },
           "zerolinecolor": "white",
           "zerolinewidth": 2
          },
          "yaxis": {
           "automargin": true,
           "gridcolor": "white",
           "linecolor": "white",
           "ticks": "",
           "title": {
            "standoff": 15
           },
           "zerolinecolor": "white",
           "zerolinewidth": 2
          }
         }
        },
        "title": {
         "text": "Sample from a Normal Distribution"
        },
        "violinmode": "group",
        "width": 600,
        "xaxis": {
         "anchor": "y",
         "domain": [
          0,
          1
         ]
        },
        "yaxis": {
         "anchor": "x",
         "domain": [
          0,
          1
         ],
         "title": {
          "text": "Normal"
         }
        }
       }
      }
     },
     "metadata": {},
     "output_type": "display_data"
    }
   ],
   "source": [
    "fig = px.violin(df, y=\"Normal\",\n",
    "             points=\"all\",\n",
    "             color_discrete_sequence=['purple'],\n",
    "             height = 500, width = 600,\n",
    "             title='Sample from a Normal Distribution')\n",
    "fig.show()"
   ]
  },
  {
   "cell_type": "code",
   "execution_count": 13,
   "metadata": {},
   "outputs": [
    {
     "data": {
      "application/vnd.plotly.v1+json": {
       "config": {
        "plotlyServerURL": "https://plot.ly"
       },
       "data": [
        {
         "alignmentgroup": "True",
         "box": {
          "visible": true
         },
         "hovertemplate": "Normal=%{y}<extra></extra>",
         "legendgroup": "",
         "marker": {
          "color": "purple"
         },
         "name": "",
         "offsetgroup": "",
         "orientation": "v",
         "points": "all",
         "scalegroup": "True",
         "showlegend": false,
         "type": "violin",
         "x0": " ",
         "xaxis": "x",
         "y": [
          3.010603808682812,
          1.3121544655425539,
          1.7802271424528466,
          2.7888574524879317,
          1.5263622107532897,
          2.3558592728821077,
          2.311555537732986,
          3.3839871907634373,
          2.2710187471241805,
          0.3303541797390208,
          2.6843813736829927,
          3.534933076063685,
          -0.03767373720186473,
          3.579119042476065,
          1.7510853434937637,
          1.8127076939814646,
          3.2284573697771197,
          2.4870264356739256,
          1.7305888865358148,
          2.372817064700227,
          2.19856651969668,
          3.6391207917634234,
          2.287364806376417,
          1.150914403339033,
          2.204991805836251,
          2.0829684412518246,
          0.40978685838037276,
          1.6203119143890734,
          2.4949515063415633,
          2.6972579488203863,
          0.17599568632851748,
          2.506848539729748,
          1.9114248802108778,
          2.1870446741923475,
          3.3308967845678485,
          2.5636138356507505,
          0.7490175812738653,
          1.3733359275227022,
          2.3871797715162058,
          1.5719643701111767,
          2.921457157615924,
          3.0925585607364017,
          1.4514636144924986,
          3.2394775659926074,
          3.1579597425318156,
          2.417748179350268,
          1.7041192189310421,
          2.025033862778361,
          1.7183602099602666,
          1.3793846805040957,
          1.323306688885209,
          1.1058488815313012,
          0.2502812049050904,
          1.8500131523924686,
          2.682742469925375,
          2.268509851680112,
          1.9265271653331753,
          2.8364308242197827,
          1.7956152891813326,
          0.9052286785884336,
          1.1291023228559884,
          3.225241405051153,
          2.245842749948661,
          1.4291041273236953,
          0.18617635510565922,
          2.7170897728520638,
          1.6935387268782387,
          2.1799750378577007,
          0.7934230904577297,
          1.79367463492129,
          0.43093319317799494,
          1.5830902276024714,
          1.5997831559871014,
          2.502362696750904,
          1.8345355752439998,
          2.040737048970878,
          2.9265450020420305,
          3.045462495757751,
          2.5237336127988947,
          3.068896200342376,
          0.907083538525794,
          2.4329953603043624,
          2.4863971117204415,
          1.6545411273076016,
          2.3374817031656914,
          3.756062703541987,
          3.734035933341622,
          3.368524584639541,
          3.0054667395372383,
          4.360530868975427,
          0.09991058427758448,
          2.1780132374312258,
          2.2048261665100752,
          2.0067348502550213,
          1.2483156830535895,
          2.7483852656357075,
          2.421829295845416,
          0.5261632948290611,
          1.8805257968538351,
          1.2758751231206473,
          1.2683577270616904,
          0.4704277485452566,
          1.1468797896133192,
          1.9252099674845433,
          1.0825646918101155,
          2.0342377215008316,
          1.044411498371399,
          2.981051093918265,
          2.7203127982103874,
          1.6930350859092225,
          1.7524764294137463,
          3.810839534298835,
          3.888583934384681,
          2.32003478979504,
          1.4067592160407862,
          1.171649832140024,
          2.0007207083426923,
          1.2286100073901574,
          2.2176690260298524,
          2.6837140873633594,
          0.9254090808326294,
          3.9341637170851387,
          2.6769030664023856,
          0.45710819146418324,
          2.6454712965840623,
          2.664518103299492,
          3.369971723490785,
          3.3393181886737366,
          2.2862049422598663,
          2.093984617415128,
          1.9148658443167133,
          0.3558026513546033,
          1.8430772528915946,
          1.3178306093131473,
          2.224227234197765,
          1.9567899236166735,
          2.579219854806172,
          2.3844235895028447,
          0.19732757264320488,
          2.918101625722113,
          3.820986179255341,
          2.096613563763318,
          3.126291204072852,
          2.566077822552188,
          1.0393951916909199,
          3.3265778052213806,
          0.5858630887496423,
          4.317495833520353,
          0.7626858577410018,
          0.01938297648156495,
          1.9212253571191145,
          2.6354373280758114,
          1.4114460182614321,
          1.630104417094486,
          0.6500358511846851,
          1.8825137700568784,
          0.8004636939582765,
          2.031103920139719,
          1.3071595313036741,
          1.9330983919741496,
          3.383868941308177,
          3.6639470810419095,
          0.816995619615847,
          1.8261431990309214,
          3.876522864700474,
          3.341866288789378,
          2.206765478251999,
          1.4561093438745243,
          2.0189448023474807,
          2.000852467422166,
          1.6178136405973467,
          2.907946065552088,
          2.927641711348095,
          3.1556149623167986,
          1.3022958403395815,
          1.1921823517736247,
          0.6443323669347929,
          3.424554047017213,
          3.300193204658897,
          0.3485889602287766,
          1.3516213046614212,
          2.0116952686122995,
          3.034616497621771,
          2.036923533510638,
          2.446289245060777,
          2.7395479873926494,
          3.2100791880568975,
          1.5308557992596081,
          0.7596806590898064,
          1.6761199383566912,
          1.560217305342488,
          3.9451173876363868,
          2.202985372831299,
          0.5146937017177178,
          2.218974306234027,
          1.9061533839337543,
          1.9727189157985043,
          2.2718000990346816,
          1.2291219483068854,
          3.8140553414365472
         ],
         "y0": " ",
         "yaxis": "y"
        }
       ],
       "layout": {
        "height": 500,
        "legend": {
         "tracegroupgap": 0
        },
        "template": {
         "data": {
          "bar": [
           {
            "error_x": {
             "color": "#2a3f5f"
            },
            "error_y": {
             "color": "#2a3f5f"
            },
            "marker": {
             "line": {
              "color": "#E5ECF6",
              "width": 0.5
             },
             "pattern": {
              "fillmode": "overlay",
              "size": 10,
              "solidity": 0.2
             }
            },
            "type": "bar"
           }
          ],
          "barpolar": [
           {
            "marker": {
             "line": {
              "color": "#E5ECF6",
              "width": 0.5
             },
             "pattern": {
              "fillmode": "overlay",
              "size": 10,
              "solidity": 0.2
             }
            },
            "type": "barpolar"
           }
          ],
          "carpet": [
           {
            "aaxis": {
             "endlinecolor": "#2a3f5f",
             "gridcolor": "white",
             "linecolor": "white",
             "minorgridcolor": "white",
             "startlinecolor": "#2a3f5f"
            },
            "baxis": {
             "endlinecolor": "#2a3f5f",
             "gridcolor": "white",
             "linecolor": "white",
             "minorgridcolor": "white",
             "startlinecolor": "#2a3f5f"
            },
            "type": "carpet"
           }
          ],
          "choropleth": [
           {
            "colorbar": {
             "outlinewidth": 0,
             "ticks": ""
            },
            "type": "choropleth"
           }
          ],
          "contour": [
           {
            "colorbar": {
             "outlinewidth": 0,
             "ticks": ""
            },
            "colorscale": [
             [
              0,
              "#0d0887"
             ],
             [
              0.1111111111111111,
              "#46039f"
             ],
             [
              0.2222222222222222,
              "#7201a8"
             ],
             [
              0.3333333333333333,
              "#9c179e"
             ],
             [
              0.4444444444444444,
              "#bd3786"
             ],
             [
              0.5555555555555556,
              "#d8576b"
             ],
             [
              0.6666666666666666,
              "#ed7953"
             ],
             [
              0.7777777777777778,
              "#fb9f3a"
             ],
             [
              0.8888888888888888,
              "#fdca26"
             ],
             [
              1,
              "#f0f921"
             ]
            ],
            "type": "contour"
           }
          ],
          "contourcarpet": [
           {
            "colorbar": {
             "outlinewidth": 0,
             "ticks": ""
            },
            "type": "contourcarpet"
           }
          ],
          "heatmap": [
           {
            "colorbar": {
             "outlinewidth": 0,
             "ticks": ""
            },
            "colorscale": [
             [
              0,
              "#0d0887"
             ],
             [
              0.1111111111111111,
              "#46039f"
             ],
             [
              0.2222222222222222,
              "#7201a8"
             ],
             [
              0.3333333333333333,
              "#9c179e"
             ],
             [
              0.4444444444444444,
              "#bd3786"
             ],
             [
              0.5555555555555556,
              "#d8576b"
             ],
             [
              0.6666666666666666,
              "#ed7953"
             ],
             [
              0.7777777777777778,
              "#fb9f3a"
             ],
             [
              0.8888888888888888,
              "#fdca26"
             ],
             [
              1,
              "#f0f921"
             ]
            ],
            "type": "heatmap"
           }
          ],
          "heatmapgl": [
           {
            "colorbar": {
             "outlinewidth": 0,
             "ticks": ""
            },
            "colorscale": [
             [
              0,
              "#0d0887"
             ],
             [
              0.1111111111111111,
              "#46039f"
             ],
             [
              0.2222222222222222,
              "#7201a8"
             ],
             [
              0.3333333333333333,
              "#9c179e"
             ],
             [
              0.4444444444444444,
              "#bd3786"
             ],
             [
              0.5555555555555556,
              "#d8576b"
             ],
             [
              0.6666666666666666,
              "#ed7953"
             ],
             [
              0.7777777777777778,
              "#fb9f3a"
             ],
             [
              0.8888888888888888,
              "#fdca26"
             ],
             [
              1,
              "#f0f921"
             ]
            ],
            "type": "heatmapgl"
           }
          ],
          "histogram": [
           {
            "marker": {
             "pattern": {
              "fillmode": "overlay",
              "size": 10,
              "solidity": 0.2
             }
            },
            "type": "histogram"
           }
          ],
          "histogram2d": [
           {
            "colorbar": {
             "outlinewidth": 0,
             "ticks": ""
            },
            "colorscale": [
             [
              0,
              "#0d0887"
             ],
             [
              0.1111111111111111,
              "#46039f"
             ],
             [
              0.2222222222222222,
              "#7201a8"
             ],
             [
              0.3333333333333333,
              "#9c179e"
             ],
             [
              0.4444444444444444,
              "#bd3786"
             ],
             [
              0.5555555555555556,
              "#d8576b"
             ],
             [
              0.6666666666666666,
              "#ed7953"
             ],
             [
              0.7777777777777778,
              "#fb9f3a"
             ],
             [
              0.8888888888888888,
              "#fdca26"
             ],
             [
              1,
              "#f0f921"
             ]
            ],
            "type": "histogram2d"
           }
          ],
          "histogram2dcontour": [
           {
            "colorbar": {
             "outlinewidth": 0,
             "ticks": ""
            },
            "colorscale": [
             [
              0,
              "#0d0887"
             ],
             [
              0.1111111111111111,
              "#46039f"
             ],
             [
              0.2222222222222222,
              "#7201a8"
             ],
             [
              0.3333333333333333,
              "#9c179e"
             ],
             [
              0.4444444444444444,
              "#bd3786"
             ],
             [
              0.5555555555555556,
              "#d8576b"
             ],
             [
              0.6666666666666666,
              "#ed7953"
             ],
             [
              0.7777777777777778,
              "#fb9f3a"
             ],
             [
              0.8888888888888888,
              "#fdca26"
             ],
             [
              1,
              "#f0f921"
             ]
            ],
            "type": "histogram2dcontour"
           }
          ],
          "mesh3d": [
           {
            "colorbar": {
             "outlinewidth": 0,
             "ticks": ""
            },
            "type": "mesh3d"
           }
          ],
          "parcoords": [
           {
            "line": {
             "colorbar": {
              "outlinewidth": 0,
              "ticks": ""
             }
            },
            "type": "parcoords"
           }
          ],
          "pie": [
           {
            "automargin": true,
            "type": "pie"
           }
          ],
          "scatter": [
           {
            "fillpattern": {
             "fillmode": "overlay",
             "size": 10,
             "solidity": 0.2
            },
            "type": "scatter"
           }
          ],
          "scatter3d": [
           {
            "line": {
             "colorbar": {
              "outlinewidth": 0,
              "ticks": ""
             }
            },
            "marker": {
             "colorbar": {
              "outlinewidth": 0,
              "ticks": ""
             }
            },
            "type": "scatter3d"
           }
          ],
          "scattercarpet": [
           {
            "marker": {
             "colorbar": {
              "outlinewidth": 0,
              "ticks": ""
             }
            },
            "type": "scattercarpet"
           }
          ],
          "scattergeo": [
           {
            "marker": {
             "colorbar": {
              "outlinewidth": 0,
              "ticks": ""
             }
            },
            "type": "scattergeo"
           }
          ],
          "scattergl": [
           {
            "marker": {
             "colorbar": {
              "outlinewidth": 0,
              "ticks": ""
             }
            },
            "type": "scattergl"
           }
          ],
          "scattermapbox": [
           {
            "marker": {
             "colorbar": {
              "outlinewidth": 0,
              "ticks": ""
             }
            },
            "type": "scattermapbox"
           }
          ],
          "scatterpolar": [
           {
            "marker": {
             "colorbar": {
              "outlinewidth": 0,
              "ticks": ""
             }
            },
            "type": "scatterpolar"
           }
          ],
          "scatterpolargl": [
           {
            "marker": {
             "colorbar": {
              "outlinewidth": 0,
              "ticks": ""
             }
            },
            "type": "scatterpolargl"
           }
          ],
          "scatterternary": [
           {
            "marker": {
             "colorbar": {
              "outlinewidth": 0,
              "ticks": ""
             }
            },
            "type": "scatterternary"
           }
          ],
          "surface": [
           {
            "colorbar": {
             "outlinewidth": 0,
             "ticks": ""
            },
            "colorscale": [
             [
              0,
              "#0d0887"
             ],
             [
              0.1111111111111111,
              "#46039f"
             ],
             [
              0.2222222222222222,
              "#7201a8"
             ],
             [
              0.3333333333333333,
              "#9c179e"
             ],
             [
              0.4444444444444444,
              "#bd3786"
             ],
             [
              0.5555555555555556,
              "#d8576b"
             ],
             [
              0.6666666666666666,
              "#ed7953"
             ],
             [
              0.7777777777777778,
              "#fb9f3a"
             ],
             [
              0.8888888888888888,
              "#fdca26"
             ],
             [
              1,
              "#f0f921"
             ]
            ],
            "type": "surface"
           }
          ],
          "table": [
           {
            "cells": {
             "fill": {
              "color": "#EBF0F8"
             },
             "line": {
              "color": "white"
             }
            },
            "header": {
             "fill": {
              "color": "#C8D4E3"
             },
             "line": {
              "color": "white"
             }
            },
            "type": "table"
           }
          ]
         },
         "layout": {
          "annotationdefaults": {
           "arrowcolor": "#2a3f5f",
           "arrowhead": 0,
           "arrowwidth": 1
          },
          "autotypenumbers": "strict",
          "coloraxis": {
           "colorbar": {
            "outlinewidth": 0,
            "ticks": ""
           }
          },
          "colorscale": {
           "diverging": [
            [
             0,
             "#8e0152"
            ],
            [
             0.1,
             "#c51b7d"
            ],
            [
             0.2,
             "#de77ae"
            ],
            [
             0.3,
             "#f1b6da"
            ],
            [
             0.4,
             "#fde0ef"
            ],
            [
             0.5,
             "#f7f7f7"
            ],
            [
             0.6,
             "#e6f5d0"
            ],
            [
             0.7,
             "#b8e186"
            ],
            [
             0.8,
             "#7fbc41"
            ],
            [
             0.9,
             "#4d9221"
            ],
            [
             1,
             "#276419"
            ]
           ],
           "sequential": [
            [
             0,
             "#0d0887"
            ],
            [
             0.1111111111111111,
             "#46039f"
            ],
            [
             0.2222222222222222,
             "#7201a8"
            ],
            [
             0.3333333333333333,
             "#9c179e"
            ],
            [
             0.4444444444444444,
             "#bd3786"
            ],
            [
             0.5555555555555556,
             "#d8576b"
            ],
            [
             0.6666666666666666,
             "#ed7953"
            ],
            [
             0.7777777777777778,
             "#fb9f3a"
            ],
            [
             0.8888888888888888,
             "#fdca26"
            ],
            [
             1,
             "#f0f921"
            ]
           ],
           "sequentialminus": [
            [
             0,
             "#0d0887"
            ],
            [
             0.1111111111111111,
             "#46039f"
            ],
            [
             0.2222222222222222,
             "#7201a8"
            ],
            [
             0.3333333333333333,
             "#9c179e"
            ],
            [
             0.4444444444444444,
             "#bd3786"
            ],
            [
             0.5555555555555556,
             "#d8576b"
            ],
            [
             0.6666666666666666,
             "#ed7953"
            ],
            [
             0.7777777777777778,
             "#fb9f3a"
            ],
            [
             0.8888888888888888,
             "#fdca26"
            ],
            [
             1,
             "#f0f921"
            ]
           ]
          },
          "colorway": [
           "#636efa",
           "#EF553B",
           "#00cc96",
           "#ab63fa",
           "#FFA15A",
           "#19d3f3",
           "#FF6692",
           "#B6E880",
           "#FF97FF",
           "#FECB52"
          ],
          "font": {
           "color": "#2a3f5f"
          },
          "geo": {
           "bgcolor": "white",
           "lakecolor": "white",
           "landcolor": "#E5ECF6",
           "showlakes": true,
           "showland": true,
           "subunitcolor": "white"
          },
          "hoverlabel": {
           "align": "left"
          },
          "hovermode": "closest",
          "mapbox": {
           "style": "light"
          },
          "paper_bgcolor": "white",
          "plot_bgcolor": "#E5ECF6",
          "polar": {
           "angularaxis": {
            "gridcolor": "white",
            "linecolor": "white",
            "ticks": ""
           },
           "bgcolor": "#E5ECF6",
           "radialaxis": {
            "gridcolor": "white",
            "linecolor": "white",
            "ticks": ""
           }
          },
          "scene": {
           "xaxis": {
            "backgroundcolor": "#E5ECF6",
            "gridcolor": "white",
            "gridwidth": 2,
            "linecolor": "white",
            "showbackground": true,
            "ticks": "",
            "zerolinecolor": "white"
           },
           "yaxis": {
            "backgroundcolor": "#E5ECF6",
            "gridcolor": "white",
            "gridwidth": 2,
            "linecolor": "white",
            "showbackground": true,
            "ticks": "",
            "zerolinecolor": "white"
           },
           "zaxis": {
            "backgroundcolor": "#E5ECF6",
            "gridcolor": "white",
            "gridwidth": 2,
            "linecolor": "white",
            "showbackground": true,
            "ticks": "",
            "zerolinecolor": "white"
           }
          },
          "shapedefaults": {
           "line": {
            "color": "#2a3f5f"
           }
          },
          "ternary": {
           "aaxis": {
            "gridcolor": "white",
            "linecolor": "white",
            "ticks": ""
           },
           "baxis": {
            "gridcolor": "white",
            "linecolor": "white",
            "ticks": ""
           },
           "bgcolor": "#E5ECF6",
           "caxis": {
            "gridcolor": "white",
            "linecolor": "white",
            "ticks": ""
           }
          },
          "title": {
           "x": 0.05
          },
          "xaxis": {
           "automargin": true,
           "gridcolor": "white",
           "linecolor": "white",
           "ticks": "",
           "title": {
            "standoff": 15
           },
           "zerolinecolor": "white",
           "zerolinewidth": 2
          },
          "yaxis": {
           "automargin": true,
           "gridcolor": "white",
           "linecolor": "white",
           "ticks": "",
           "title": {
            "standoff": 15
           },
           "zerolinecolor": "white",
           "zerolinewidth": 2
          }
         }
        },
        "title": {
         "text": "Sample from a Normal Distribution"
        },
        "violinmode": "group",
        "width": 600,
        "xaxis": {
         "anchor": "y",
         "domain": [
          0,
          1
         ]
        },
        "yaxis": {
         "anchor": "x",
         "domain": [
          0,
          1
         ],
         "title": {
          "text": "Normal"
         }
        }
       }
      }
     },
     "metadata": {},
     "output_type": "display_data"
    }
   ],
   "source": [
    "fig = px.violin(df, y=\"Normal\",\n",
    "             points=\"all\",\n",
    "             box=True,\n",
    "             color_discrete_sequence=['purple'],\n",
    "             height = 500, width = 600,\n",
    "             title='Sample from a Normal Distribution')\n",
    "fig.show()"
   ]
  },
  {
   "cell_type": "code",
   "execution_count": 14,
   "metadata": {},
   "outputs": [],
   "source": [
    "df = data2"
   ]
  },
  {
   "cell_type": "code",
   "execution_count": 15,
   "metadata": {},
   "outputs": [
    {
     "data": {
      "text/html": [
       "<div>\n",
       "<style scoped>\n",
       "    .dataframe tbody tr th:only-of-type {\n",
       "        vertical-align: middle;\n",
       "    }\n",
       "\n",
       "    .dataframe tbody tr th {\n",
       "        vertical-align: top;\n",
       "    }\n",
       "\n",
       "    .dataframe thead th {\n",
       "        text-align: right;\n",
       "    }\n",
       "</style>\n",
       "<table border=\"1\" class=\"dataframe\">\n",
       "  <thead>\n",
       "    <tr style=\"text-align: right;\">\n",
       "      <th></th>\n",
       "      <th>Data</th>\n",
       "      <th>Label</th>\n",
       "    </tr>\n",
       "  </thead>\n",
       "  <tbody>\n",
       "    <tr>\n",
       "      <th>0</th>\n",
       "      <td>3.010604</td>\n",
       "      <td>Normal</td>\n",
       "    </tr>\n",
       "    <tr>\n",
       "      <th>1</th>\n",
       "      <td>1.312154</td>\n",
       "      <td>Normal</td>\n",
       "    </tr>\n",
       "    <tr>\n",
       "      <th>2</th>\n",
       "      <td>1.780227</td>\n",
       "      <td>Normal</td>\n",
       "    </tr>\n",
       "    <tr>\n",
       "      <th>3</th>\n",
       "      <td>2.788857</td>\n",
       "      <td>Normal</td>\n",
       "    </tr>\n",
       "    <tr>\n",
       "      <th>4</th>\n",
       "      <td>1.526362</td>\n",
       "      <td>Normal</td>\n",
       "    </tr>\n",
       "  </tbody>\n",
       "</table>\n",
       "</div>"
      ],
      "text/plain": [
       "       Data   Label\n",
       "0  3.010604  Normal\n",
       "1  1.312154  Normal\n",
       "2  1.780227  Normal\n",
       "3  2.788857  Normal\n",
       "4  1.526362  Normal"
      ]
     },
     "execution_count": 15,
     "metadata": {},
     "output_type": "execute_result"
    }
   ],
   "source": [
    "df.head()"
   ]
  },
  {
   "cell_type": "code",
   "execution_count": 16,
   "metadata": {},
   "outputs": [
    {
     "data": {
      "application/vnd.plotly.v1+json": {
       "config": {
        "plotlyServerURL": "https://plot.ly"
       },
       "data": [
        {
         "alignmentgroup": "True",
         "box": {
          "visible": false
         },
         "hovertemplate": "Label=Normal<br>Data=%{y}<extra></extra>",
         "legendgroup": "Normal",
         "marker": {
          "color": "#636efa"
         },
         "name": "Normal",
         "offsetgroup": "Normal",
         "orientation": "v",
         "scalegroup": "True",
         "showlegend": true,
         "type": "violin",
         "x0": " ",
         "xaxis": "x",
         "y": [
          3.010603808682812,
          1.3121544655425539,
          1.7802271424528466,
          2.7888574524879317,
          1.5263622107532897,
          2.3558592728821077,
          2.311555537732986,
          3.3839871907634373,
          2.2710187471241805,
          0.3303541797390208,
          2.6843813736829927,
          3.534933076063685,
          -0.03767373720186473,
          3.579119042476065,
          1.7510853434937637,
          1.8127076939814646,
          3.2284573697771197,
          2.4870264356739256,
          1.7305888865358148,
          2.372817064700227,
          2.19856651969668,
          3.6391207917634234,
          2.287364806376417,
          1.150914403339033,
          2.204991805836251,
          2.0829684412518246,
          0.40978685838037276,
          1.6203119143890734,
          2.4949515063415633,
          2.6972579488203863,
          0.17599568632851748,
          2.506848539729748,
          1.9114248802108778,
          2.1870446741923475,
          3.3308967845678485,
          2.5636138356507505,
          0.7490175812738653,
          1.3733359275227022,
          2.3871797715162058,
          1.5719643701111767,
          2.921457157615924,
          3.0925585607364017,
          1.4514636144924986,
          3.2394775659926074,
          3.1579597425318156,
          2.417748179350268,
          1.7041192189310421,
          2.025033862778361,
          1.7183602099602666,
          1.3793846805040957,
          1.323306688885209,
          1.1058488815313012,
          0.2502812049050904,
          1.8500131523924686,
          2.682742469925375,
          2.268509851680112,
          1.9265271653331753,
          2.8364308242197827,
          1.7956152891813326,
          0.9052286785884336,
          1.1291023228559884,
          3.225241405051153,
          2.245842749948661,
          1.4291041273236953,
          0.18617635510565922,
          2.7170897728520638,
          1.6935387268782387,
          2.1799750378577007,
          0.7934230904577297,
          1.79367463492129,
          0.43093319317799494,
          1.5830902276024714,
          1.5997831559871014,
          2.502362696750904,
          1.8345355752439998,
          2.040737048970878,
          2.9265450020420305,
          3.045462495757751,
          2.5237336127988947,
          3.068896200342376,
          0.907083538525794,
          2.4329953603043624,
          2.4863971117204415,
          1.6545411273076016,
          2.3374817031656914,
          3.756062703541987,
          3.734035933341622,
          3.368524584639541,
          3.0054667395372383,
          4.360530868975427,
          0.09991058427758448,
          2.1780132374312258,
          2.2048261665100752,
          2.0067348502550213,
          1.2483156830535895,
          2.7483852656357075,
          2.421829295845416,
          0.5261632948290611,
          1.8805257968538351,
          1.2758751231206473,
          1.2683577270616904,
          0.4704277485452566,
          1.1468797896133192,
          1.9252099674845433,
          1.0825646918101155,
          2.0342377215008316,
          1.044411498371399,
          2.981051093918265,
          2.7203127982103874,
          1.6930350859092225,
          1.7524764294137463,
          3.810839534298835,
          3.888583934384681,
          2.32003478979504,
          1.4067592160407862,
          1.171649832140024,
          2.0007207083426923,
          1.2286100073901574,
          2.2176690260298524,
          2.6837140873633594,
          0.9254090808326294,
          3.9341637170851387,
          2.6769030664023856,
          0.45710819146418324,
          2.6454712965840623,
          2.664518103299492,
          3.369971723490785,
          3.3393181886737366,
          2.2862049422598663,
          2.093984617415128,
          1.9148658443167133,
          0.3558026513546033,
          1.8430772528915946,
          1.3178306093131473,
          2.224227234197765,
          1.9567899236166735,
          2.579219854806172,
          2.3844235895028447,
          0.19732757264320488,
          2.918101625722113,
          3.820986179255341,
          2.096613563763318,
          3.126291204072852,
          2.566077822552188,
          1.0393951916909199,
          3.3265778052213806,
          0.5858630887496423,
          4.317495833520353,
          0.7626858577410018,
          0.01938297648156495,
          1.9212253571191145,
          2.6354373280758114,
          1.4114460182614321,
          1.630104417094486,
          0.6500358511846851,
          1.8825137700568784,
          0.8004636939582765,
          2.031103920139719,
          1.3071595313036741,
          1.9330983919741496,
          3.383868941308177,
          3.6639470810419095,
          0.816995619615847,
          1.8261431990309214,
          3.876522864700474,
          3.341866288789378,
          2.206765478251999,
          1.4561093438745243,
          2.0189448023474807,
          2.000852467422166,
          1.6178136405973467,
          2.907946065552088,
          2.927641711348095,
          3.1556149623167986,
          1.3022958403395815,
          1.1921823517736247,
          0.6443323669347929,
          3.424554047017213,
          3.300193204658897,
          0.3485889602287766,
          1.3516213046614212,
          2.0116952686122995,
          3.034616497621771,
          2.036923533510638,
          2.446289245060777,
          2.7395479873926494,
          3.2100791880568975,
          1.5308557992596081,
          0.7596806590898064,
          1.6761199383566912,
          1.560217305342488,
          3.9451173876363868,
          2.202985372831299,
          0.5146937017177178,
          2.218974306234027,
          1.9061533839337543,
          1.9727189157985043,
          2.2718000990346816,
          1.2291219483068854,
          3.8140553414365472
         ],
         "y0": " ",
         "yaxis": "y"
        },
        {
         "alignmentgroup": "True",
         "box": {
          "visible": false
         },
         "hovertemplate": "Label=t-Student<br>Data=%{y}<extra></extra>",
         "legendgroup": "t-Student",
         "marker": {
          "color": "#EF553B"
         },
         "name": "t-Student",
         "offsetgroup": "t-Student",
         "orientation": "v",
         "scalegroup": "True",
         "showlegend": true,
         "type": "violin",
         "x0": " ",
         "xaxis": "x",
         "y": [
          -0.8202602283518821,
          -0.2536676920378718,
          1.1273278373839675,
          -1.5080841121493458,
          0.7395601047302559,
          -2.200172094966877,
          0.25732556869237583,
          2.090867523104584,
          0.1120484276034216,
          1.8885735589420085,
          1.1221723666206205,
          1.8098641277131906,
          -0.14107422112144472,
          -0.3053232949456606,
          -4.01955402122601,
          -2.056593107103181,
          2.354639243113555,
          0.20081689490068372,
          -0.6343667470766609,
          0.41427469298748415,
          -2.780507995203985,
          -3.650994399352335,
          -0.2061255462092677,
          1.934182846809448,
          -0.8535673393876995,
          0.8635524439890782,
          -0.2428235209418082,
          2.8031685031885196,
          2.206127426113256,
          -1.5151325135065419,
          -0.1856854903019791,
          -1.1518851541721618,
          -1.7414611670521039,
          1.59339480043395,
          -0.8708516868534092,
          0.5712684489947241,
          0.9667892795686669,
          0.8350656450943209,
          -1.5324624991676696,
          0.3624231652282159,
          0.5398738122383776,
          -2.923087011843296,
          3.778065068298901,
          -0.5547222676041462,
          -5.9154557271616905,
          -1.1577269161852792,
          -0.17103000776942323,
          -0.8944682020403967,
          -3.6441339315963575,
          0.5376530395959431,
          0.5394791057912992,
          -0.17656662380802235,
          0.39861912639974245,
          -1.8369947332127845,
          1.1892562001039917,
          -0.008209024047540212,
          -2.6614090352253026,
          -0.7452747224284282,
          1.3242660744280021,
          -0.34741571214641415,
          0.17702111033779225,
          -1.6746329850910702,
          -1.9427831293993971,
          -1.5935290785140368,
          0.8104668792077646,
          0.3079774154106903,
          -0.06831414452140416,
          0.5588178519305151,
          -1.6112501910076986,
          -1.572907133748086,
          1.8278599318124895,
          1.5416323520205069,
          0.1609694772537766,
          -1.9125100842437939,
          -0.3034973642396956,
          1.2147615952553634,
          1.0235102858660692,
          0.9929748872106674,
          -0.043592431939802306,
          -1.7579134179456597,
          -0.2608001327452418,
          -0.12314853130877261,
          0.8628390722197176,
          1.1914949270219128,
          2.4211258403847267,
          0.268158652301559,
          0.5098182113811517,
          0.17654500226712377,
          -1.8068141746041326,
          -2.525615186517515,
          0.8316776571638296,
          0.6922366837244394,
          -0.0017718442756774037,
          0.45746877363472727,
          -1.6193208756008481,
          -1.2781540557929127,
          2.5086816153973377,
          0.06929029064783965,
          0.4459171923018379,
          0.09956636025450367,
          0.17698061525767583,
          1.6433194103101423,
          0.36506969473013967,
          0.9789706934447545,
          0.8409320580861553,
          0.23798742517932497,
          0.39251629425331946,
          2.280236455034234,
          0.4494455009434147,
          0.0135492753002299,
          -1.3201878383849963,
          -2.2058515920313693,
          1.1416751207538982,
          -0.5358234482356349,
          0.8011614691360157,
          -0.7642766762804655,
          2.453185624263736,
          -0.9313834271449237,
          -0.9075932798209481,
          3.976758754000029,
          -0.6614462118293195,
          -0.44531398980862114,
          0.2899977423646932,
          0.8432448664881182,
          -1.139737592940509,
          -0.028382494187305603,
          0.6969166608468467,
          2.0512960446556545,
          -0.36819304624497423,
          -0.48864045564673037,
          1.3388046981962574,
          -0.23682375990818522,
          -3.268201700628686,
          0.1960200716592405,
          1.1060320606862981,
          2.2875757205792144,
          0.3487872330583768,
          -0.6982697968426259,
          -2.207465483861022,
          -0.27890875362040446,
          -1.022361741073151,
          0.65991408823662,
          0.23725425601596173,
          -0.871252163612778,
          -1.9336355932616751,
          -0.1592481025895306,
          -1.111441135097591,
          0.060762493959616505,
          0.49784434336522754,
          0.46355438640208496,
          1.3549600682466523,
          0.5348684533418335,
          -0.2753715582234346,
          -0.4134070510586952,
          -0.9718054971376677,
          -1.3766848170470691,
          -1.872488436014042,
          -1.0306180937828064,
          -0.5038130172161527,
          1.0978326110132286,
          -0.6977185745628673,
          2.70464917941898,
          2.8724491323731125,
          1.3178304759486033,
          -2.2541769892811754,
          0.19573605783557738,
          0.8853026585544038,
          0.18843007825132635,
          0.5766792059646048,
          -0.8301919738607527,
          -0.8227996405865016,
          1.1892837612755969,
          -0.5750112450684617,
          -0.1506306417249004,
          -1.7739741553353938,
          -1.1924550124852074,
          0.8361399214932671,
          -1.7389630159452942,
          1.0021542064415403,
          -0.12485476358519866,
          0.5163156177090849,
          0.5299502660513163,
          0.1251504144937157,
          -2.2652666288758487,
          1.1454618151280416,
          4.263188634030838,
          -0.8173701294370529,
          -1.235162699592076,
          1.3955296102459895,
          -2.385591357062242,
          -0.6229944074792424,
          -0.4987922927179429,
          0.8812595656129744,
          -0.22878429846276294,
          5.57098639235868,
          2.114860051362123,
          -0.08461002176798713,
          -0.019937003602400905,
          6.730318211573206,
          0.16898049220507297
         ],
         "y0": " ",
         "yaxis": "y"
        }
       ],
       "layout": {
        "height": 500,
        "legend": {
         "title": {
          "text": "Label"
         },
         "tracegroupgap": 0
        },
        "template": {
         "data": {
          "bar": [
           {
            "error_x": {
             "color": "#2a3f5f"
            },
            "error_y": {
             "color": "#2a3f5f"
            },
            "marker": {
             "line": {
              "color": "#E5ECF6",
              "width": 0.5
             },
             "pattern": {
              "fillmode": "overlay",
              "size": 10,
              "solidity": 0.2
             }
            },
            "type": "bar"
           }
          ],
          "barpolar": [
           {
            "marker": {
             "line": {
              "color": "#E5ECF6",
              "width": 0.5
             },
             "pattern": {
              "fillmode": "overlay",
              "size": 10,
              "solidity": 0.2
             }
            },
            "type": "barpolar"
           }
          ],
          "carpet": [
           {
            "aaxis": {
             "endlinecolor": "#2a3f5f",
             "gridcolor": "white",
             "linecolor": "white",
             "minorgridcolor": "white",
             "startlinecolor": "#2a3f5f"
            },
            "baxis": {
             "endlinecolor": "#2a3f5f",
             "gridcolor": "white",
             "linecolor": "white",
             "minorgridcolor": "white",
             "startlinecolor": "#2a3f5f"
            },
            "type": "carpet"
           }
          ],
          "choropleth": [
           {
            "colorbar": {
             "outlinewidth": 0,
             "ticks": ""
            },
            "type": "choropleth"
           }
          ],
          "contour": [
           {
            "colorbar": {
             "outlinewidth": 0,
             "ticks": ""
            },
            "colorscale": [
             [
              0,
              "#0d0887"
             ],
             [
              0.1111111111111111,
              "#46039f"
             ],
             [
              0.2222222222222222,
              "#7201a8"
             ],
             [
              0.3333333333333333,
              "#9c179e"
             ],
             [
              0.4444444444444444,
              "#bd3786"
             ],
             [
              0.5555555555555556,
              "#d8576b"
             ],
             [
              0.6666666666666666,
              "#ed7953"
             ],
             [
              0.7777777777777778,
              "#fb9f3a"
             ],
             [
              0.8888888888888888,
              "#fdca26"
             ],
             [
              1,
              "#f0f921"
             ]
            ],
            "type": "contour"
           }
          ],
          "contourcarpet": [
           {
            "colorbar": {
             "outlinewidth": 0,
             "ticks": ""
            },
            "type": "contourcarpet"
           }
          ],
          "heatmap": [
           {
            "colorbar": {
             "outlinewidth": 0,
             "ticks": ""
            },
            "colorscale": [
             [
              0,
              "#0d0887"
             ],
             [
              0.1111111111111111,
              "#46039f"
             ],
             [
              0.2222222222222222,
              "#7201a8"
             ],
             [
              0.3333333333333333,
              "#9c179e"
             ],
             [
              0.4444444444444444,
              "#bd3786"
             ],
             [
              0.5555555555555556,
              "#d8576b"
             ],
             [
              0.6666666666666666,
              "#ed7953"
             ],
             [
              0.7777777777777778,
              "#fb9f3a"
             ],
             [
              0.8888888888888888,
              "#fdca26"
             ],
             [
              1,
              "#f0f921"
             ]
            ],
            "type": "heatmap"
           }
          ],
          "heatmapgl": [
           {
            "colorbar": {
             "outlinewidth": 0,
             "ticks": ""
            },
            "colorscale": [
             [
              0,
              "#0d0887"
             ],
             [
              0.1111111111111111,
              "#46039f"
             ],
             [
              0.2222222222222222,
              "#7201a8"
             ],
             [
              0.3333333333333333,
              "#9c179e"
             ],
             [
              0.4444444444444444,
              "#bd3786"
             ],
             [
              0.5555555555555556,
              "#d8576b"
             ],
             [
              0.6666666666666666,
              "#ed7953"
             ],
             [
              0.7777777777777778,
              "#fb9f3a"
             ],
             [
              0.8888888888888888,
              "#fdca26"
             ],
             [
              1,
              "#f0f921"
             ]
            ],
            "type": "heatmapgl"
           }
          ],
          "histogram": [
           {
            "marker": {
             "pattern": {
              "fillmode": "overlay",
              "size": 10,
              "solidity": 0.2
             }
            },
            "type": "histogram"
           }
          ],
          "histogram2d": [
           {
            "colorbar": {
             "outlinewidth": 0,
             "ticks": ""
            },
            "colorscale": [
             [
              0,
              "#0d0887"
             ],
             [
              0.1111111111111111,
              "#46039f"
             ],
             [
              0.2222222222222222,
              "#7201a8"
             ],
             [
              0.3333333333333333,
              "#9c179e"
             ],
             [
              0.4444444444444444,
              "#bd3786"
             ],
             [
              0.5555555555555556,
              "#d8576b"
             ],
             [
              0.6666666666666666,
              "#ed7953"
             ],
             [
              0.7777777777777778,
              "#fb9f3a"
             ],
             [
              0.8888888888888888,
              "#fdca26"
             ],
             [
              1,
              "#f0f921"
             ]
            ],
            "type": "histogram2d"
           }
          ],
          "histogram2dcontour": [
           {
            "colorbar": {
             "outlinewidth": 0,
             "ticks": ""
            },
            "colorscale": [
             [
              0,
              "#0d0887"
             ],
             [
              0.1111111111111111,
              "#46039f"
             ],
             [
              0.2222222222222222,
              "#7201a8"
             ],
             [
              0.3333333333333333,
              "#9c179e"
             ],
             [
              0.4444444444444444,
              "#bd3786"
             ],
             [
              0.5555555555555556,
              "#d8576b"
             ],
             [
              0.6666666666666666,
              "#ed7953"
             ],
             [
              0.7777777777777778,
              "#fb9f3a"
             ],
             [
              0.8888888888888888,
              "#fdca26"
             ],
             [
              1,
              "#f0f921"
             ]
            ],
            "type": "histogram2dcontour"
           }
          ],
          "mesh3d": [
           {
            "colorbar": {
             "outlinewidth": 0,
             "ticks": ""
            },
            "type": "mesh3d"
           }
          ],
          "parcoords": [
           {
            "line": {
             "colorbar": {
              "outlinewidth": 0,
              "ticks": ""
             }
            },
            "type": "parcoords"
           }
          ],
          "pie": [
           {
            "automargin": true,
            "type": "pie"
           }
          ],
          "scatter": [
           {
            "fillpattern": {
             "fillmode": "overlay",
             "size": 10,
             "solidity": 0.2
            },
            "type": "scatter"
           }
          ],
          "scatter3d": [
           {
            "line": {
             "colorbar": {
              "outlinewidth": 0,
              "ticks": ""
             }
            },
            "marker": {
             "colorbar": {
              "outlinewidth": 0,
              "ticks": ""
             }
            },
            "type": "scatter3d"
           }
          ],
          "scattercarpet": [
           {
            "marker": {
             "colorbar": {
              "outlinewidth": 0,
              "ticks": ""
             }
            },
            "type": "scattercarpet"
           }
          ],
          "scattergeo": [
           {
            "marker": {
             "colorbar": {
              "outlinewidth": 0,
              "ticks": ""
             }
            },
            "type": "scattergeo"
           }
          ],
          "scattergl": [
           {
            "marker": {
             "colorbar": {
              "outlinewidth": 0,
              "ticks": ""
             }
            },
            "type": "scattergl"
           }
          ],
          "scattermapbox": [
           {
            "marker": {
             "colorbar": {
              "outlinewidth": 0,
              "ticks": ""
             }
            },
            "type": "scattermapbox"
           }
          ],
          "scatterpolar": [
           {
            "marker": {
             "colorbar": {
              "outlinewidth": 0,
              "ticks": ""
             }
            },
            "type": "scatterpolar"
           }
          ],
          "scatterpolargl": [
           {
            "marker": {
             "colorbar": {
              "outlinewidth": 0,
              "ticks": ""
             }
            },
            "type": "scatterpolargl"
           }
          ],
          "scatterternary": [
           {
            "marker": {
             "colorbar": {
              "outlinewidth": 0,
              "ticks": ""
             }
            },
            "type": "scatterternary"
           }
          ],
          "surface": [
           {
            "colorbar": {
             "outlinewidth": 0,
             "ticks": ""
            },
            "colorscale": [
             [
              0,
              "#0d0887"
             ],
             [
              0.1111111111111111,
              "#46039f"
             ],
             [
              0.2222222222222222,
              "#7201a8"
             ],
             [
              0.3333333333333333,
              "#9c179e"
             ],
             [
              0.4444444444444444,
              "#bd3786"
             ],
             [
              0.5555555555555556,
              "#d8576b"
             ],
             [
              0.6666666666666666,
              "#ed7953"
             ],
             [
              0.7777777777777778,
              "#fb9f3a"
             ],
             [
              0.8888888888888888,
              "#fdca26"
             ],
             [
              1,
              "#f0f921"
             ]
            ],
            "type": "surface"
           }
          ],
          "table": [
           {
            "cells": {
             "fill": {
              "color": "#EBF0F8"
             },
             "line": {
              "color": "white"
             }
            },
            "header": {
             "fill": {
              "color": "#C8D4E3"
             },
             "line": {
              "color": "white"
             }
            },
            "type": "table"
           }
          ]
         },
         "layout": {
          "annotationdefaults": {
           "arrowcolor": "#2a3f5f",
           "arrowhead": 0,
           "arrowwidth": 1
          },
          "autotypenumbers": "strict",
          "coloraxis": {
           "colorbar": {
            "outlinewidth": 0,
            "ticks": ""
           }
          },
          "colorscale": {
           "diverging": [
            [
             0,
             "#8e0152"
            ],
            [
             0.1,
             "#c51b7d"
            ],
            [
             0.2,
             "#de77ae"
            ],
            [
             0.3,
             "#f1b6da"
            ],
            [
             0.4,
             "#fde0ef"
            ],
            [
             0.5,
             "#f7f7f7"
            ],
            [
             0.6,
             "#e6f5d0"
            ],
            [
             0.7,
             "#b8e186"
            ],
            [
             0.8,
             "#7fbc41"
            ],
            [
             0.9,
             "#4d9221"
            ],
            [
             1,
             "#276419"
            ]
           ],
           "sequential": [
            [
             0,
             "#0d0887"
            ],
            [
             0.1111111111111111,
             "#46039f"
            ],
            [
             0.2222222222222222,
             "#7201a8"
            ],
            [
             0.3333333333333333,
             "#9c179e"
            ],
            [
             0.4444444444444444,
             "#bd3786"
            ],
            [
             0.5555555555555556,
             "#d8576b"
            ],
            [
             0.6666666666666666,
             "#ed7953"
            ],
            [
             0.7777777777777778,
             "#fb9f3a"
            ],
            [
             0.8888888888888888,
             "#fdca26"
            ],
            [
             1,
             "#f0f921"
            ]
           ],
           "sequentialminus": [
            [
             0,
             "#0d0887"
            ],
            [
             0.1111111111111111,
             "#46039f"
            ],
            [
             0.2222222222222222,
             "#7201a8"
            ],
            [
             0.3333333333333333,
             "#9c179e"
            ],
            [
             0.4444444444444444,
             "#bd3786"
            ],
            [
             0.5555555555555556,
             "#d8576b"
            ],
            [
             0.6666666666666666,
             "#ed7953"
            ],
            [
             0.7777777777777778,
             "#fb9f3a"
            ],
            [
             0.8888888888888888,
             "#fdca26"
            ],
            [
             1,
             "#f0f921"
            ]
           ]
          },
          "colorway": [
           "#636efa",
           "#EF553B",
           "#00cc96",
           "#ab63fa",
           "#FFA15A",
           "#19d3f3",
           "#FF6692",
           "#B6E880",
           "#FF97FF",
           "#FECB52"
          ],
          "font": {
           "color": "#2a3f5f"
          },
          "geo": {
           "bgcolor": "white",
           "lakecolor": "white",
           "landcolor": "#E5ECF6",
           "showlakes": true,
           "showland": true,
           "subunitcolor": "white"
          },
          "hoverlabel": {
           "align": "left"
          },
          "hovermode": "closest",
          "mapbox": {
           "style": "light"
          },
          "paper_bgcolor": "white",
          "plot_bgcolor": "#E5ECF6",
          "polar": {
           "angularaxis": {
            "gridcolor": "white",
            "linecolor": "white",
            "ticks": ""
           },
           "bgcolor": "#E5ECF6",
           "radialaxis": {
            "gridcolor": "white",
            "linecolor": "white",
            "ticks": ""
           }
          },
          "scene": {
           "xaxis": {
            "backgroundcolor": "#E5ECF6",
            "gridcolor": "white",
            "gridwidth": 2,
            "linecolor": "white",
            "showbackground": true,
            "ticks": "",
            "zerolinecolor": "white"
           },
           "yaxis": {
            "backgroundcolor": "#E5ECF6",
            "gridcolor": "white",
            "gridwidth": 2,
            "linecolor": "white",
            "showbackground": true,
            "ticks": "",
            "zerolinecolor": "white"
           },
           "zaxis": {
            "backgroundcolor": "#E5ECF6",
            "gridcolor": "white",
            "gridwidth": 2,
            "linecolor": "white",
            "showbackground": true,
            "ticks": "",
            "zerolinecolor": "white"
           }
          },
          "shapedefaults": {
           "line": {
            "color": "#2a3f5f"
           }
          },
          "ternary": {
           "aaxis": {
            "gridcolor": "white",
            "linecolor": "white",
            "ticks": ""
           },
           "baxis": {
            "gridcolor": "white",
            "linecolor": "white",
            "ticks": ""
           },
           "bgcolor": "#E5ECF6",
           "caxis": {
            "gridcolor": "white",
            "linecolor": "white",
            "ticks": ""
           }
          },
          "title": {
           "x": 0.05
          },
          "xaxis": {
           "automargin": true,
           "gridcolor": "white",
           "linecolor": "white",
           "ticks": "",
           "title": {
            "standoff": 15
           },
           "zerolinecolor": "white",
           "zerolinewidth": 2
          },
          "yaxis": {
           "automargin": true,
           "gridcolor": "white",
           "linecolor": "white",
           "ticks": "",
           "title": {
            "standoff": 15
           },
           "zerolinecolor": "white",
           "zerolinewidth": 2
          }
         }
        },
        "title": {
         "text": "Box Plots"
        },
        "violinmode": "group",
        "width": 800,
        "xaxis": {
         "anchor": "y",
         "domain": [
          0,
          1
         ]
        },
        "yaxis": {
         "anchor": "x",
         "domain": [
          0,
          1
         ],
         "title": {
          "text": "Data"
         }
        }
       }
      }
     },
     "metadata": {},
     "output_type": "display_data"
    }
   ],
   "source": [
    "fig = px.violin(df, y=\"Data\", \n",
    "                color=\"Label\",\n",
    "                height = 500, width = 800,\n",
    "                title='Box Plots')\n",
    "fig.show()"
   ]
  },
  {
   "cell_type": "code",
   "execution_count": 17,
   "metadata": {},
   "outputs": [
    {
     "data": {
      "application/vnd.plotly.v1+json": {
       "config": {
        "plotlyServerURL": "https://plot.ly"
       },
       "data": [
        {
         "alignmentgroup": "True",
         "box": {
          "visible": false
         },
         "hovertemplate": "Label=Normal<br>Data=%{y}<extra></extra>",
         "legendgroup": "Normal",
         "marker": {
          "color": "teal"
         },
         "name": "Normal",
         "offsetgroup": "Normal",
         "orientation": "v",
         "scalegroup": "True",
         "showlegend": true,
         "type": "violin",
         "x0": " ",
         "xaxis": "x",
         "y": [
          3.010603808682812,
          1.3121544655425539,
          1.7802271424528466,
          2.7888574524879317,
          1.5263622107532897,
          2.3558592728821077,
          2.311555537732986,
          3.3839871907634373,
          2.2710187471241805,
          0.3303541797390208,
          2.6843813736829927,
          3.534933076063685,
          -0.03767373720186473,
          3.579119042476065,
          1.7510853434937637,
          1.8127076939814646,
          3.2284573697771197,
          2.4870264356739256,
          1.7305888865358148,
          2.372817064700227,
          2.19856651969668,
          3.6391207917634234,
          2.287364806376417,
          1.150914403339033,
          2.204991805836251,
          2.0829684412518246,
          0.40978685838037276,
          1.6203119143890734,
          2.4949515063415633,
          2.6972579488203863,
          0.17599568632851748,
          2.506848539729748,
          1.9114248802108778,
          2.1870446741923475,
          3.3308967845678485,
          2.5636138356507505,
          0.7490175812738653,
          1.3733359275227022,
          2.3871797715162058,
          1.5719643701111767,
          2.921457157615924,
          3.0925585607364017,
          1.4514636144924986,
          3.2394775659926074,
          3.1579597425318156,
          2.417748179350268,
          1.7041192189310421,
          2.025033862778361,
          1.7183602099602666,
          1.3793846805040957,
          1.323306688885209,
          1.1058488815313012,
          0.2502812049050904,
          1.8500131523924686,
          2.682742469925375,
          2.268509851680112,
          1.9265271653331753,
          2.8364308242197827,
          1.7956152891813326,
          0.9052286785884336,
          1.1291023228559884,
          3.225241405051153,
          2.245842749948661,
          1.4291041273236953,
          0.18617635510565922,
          2.7170897728520638,
          1.6935387268782387,
          2.1799750378577007,
          0.7934230904577297,
          1.79367463492129,
          0.43093319317799494,
          1.5830902276024714,
          1.5997831559871014,
          2.502362696750904,
          1.8345355752439998,
          2.040737048970878,
          2.9265450020420305,
          3.045462495757751,
          2.5237336127988947,
          3.068896200342376,
          0.907083538525794,
          2.4329953603043624,
          2.4863971117204415,
          1.6545411273076016,
          2.3374817031656914,
          3.756062703541987,
          3.734035933341622,
          3.368524584639541,
          3.0054667395372383,
          4.360530868975427,
          0.09991058427758448,
          2.1780132374312258,
          2.2048261665100752,
          2.0067348502550213,
          1.2483156830535895,
          2.7483852656357075,
          2.421829295845416,
          0.5261632948290611,
          1.8805257968538351,
          1.2758751231206473,
          1.2683577270616904,
          0.4704277485452566,
          1.1468797896133192,
          1.9252099674845433,
          1.0825646918101155,
          2.0342377215008316,
          1.044411498371399,
          2.981051093918265,
          2.7203127982103874,
          1.6930350859092225,
          1.7524764294137463,
          3.810839534298835,
          3.888583934384681,
          2.32003478979504,
          1.4067592160407862,
          1.171649832140024,
          2.0007207083426923,
          1.2286100073901574,
          2.2176690260298524,
          2.6837140873633594,
          0.9254090808326294,
          3.9341637170851387,
          2.6769030664023856,
          0.45710819146418324,
          2.6454712965840623,
          2.664518103299492,
          3.369971723490785,
          3.3393181886737366,
          2.2862049422598663,
          2.093984617415128,
          1.9148658443167133,
          0.3558026513546033,
          1.8430772528915946,
          1.3178306093131473,
          2.224227234197765,
          1.9567899236166735,
          2.579219854806172,
          2.3844235895028447,
          0.19732757264320488,
          2.918101625722113,
          3.820986179255341,
          2.096613563763318,
          3.126291204072852,
          2.566077822552188,
          1.0393951916909199,
          3.3265778052213806,
          0.5858630887496423,
          4.317495833520353,
          0.7626858577410018,
          0.01938297648156495,
          1.9212253571191145,
          2.6354373280758114,
          1.4114460182614321,
          1.630104417094486,
          0.6500358511846851,
          1.8825137700568784,
          0.8004636939582765,
          2.031103920139719,
          1.3071595313036741,
          1.9330983919741496,
          3.383868941308177,
          3.6639470810419095,
          0.816995619615847,
          1.8261431990309214,
          3.876522864700474,
          3.341866288789378,
          2.206765478251999,
          1.4561093438745243,
          2.0189448023474807,
          2.000852467422166,
          1.6178136405973467,
          2.907946065552088,
          2.927641711348095,
          3.1556149623167986,
          1.3022958403395815,
          1.1921823517736247,
          0.6443323669347929,
          3.424554047017213,
          3.300193204658897,
          0.3485889602287766,
          1.3516213046614212,
          2.0116952686122995,
          3.034616497621771,
          2.036923533510638,
          2.446289245060777,
          2.7395479873926494,
          3.2100791880568975,
          1.5308557992596081,
          0.7596806590898064,
          1.6761199383566912,
          1.560217305342488,
          3.9451173876363868,
          2.202985372831299,
          0.5146937017177178,
          2.218974306234027,
          1.9061533839337543,
          1.9727189157985043,
          2.2718000990346816,
          1.2291219483068854,
          3.8140553414365472
         ],
         "y0": " ",
         "yaxis": "y"
        },
        {
         "alignmentgroup": "True",
         "box": {
          "visible": false
         },
         "hovertemplate": "Label=t-Student<br>Data=%{y}<extra></extra>",
         "legendgroup": "t-Student",
         "marker": {
          "color": "purple"
         },
         "name": "t-Student",
         "offsetgroup": "t-Student",
         "orientation": "v",
         "scalegroup": "True",
         "showlegend": true,
         "type": "violin",
         "x0": " ",
         "xaxis": "x",
         "y": [
          -0.8202602283518821,
          -0.2536676920378718,
          1.1273278373839675,
          -1.5080841121493458,
          0.7395601047302559,
          -2.200172094966877,
          0.25732556869237583,
          2.090867523104584,
          0.1120484276034216,
          1.8885735589420085,
          1.1221723666206205,
          1.8098641277131906,
          -0.14107422112144472,
          -0.3053232949456606,
          -4.01955402122601,
          -2.056593107103181,
          2.354639243113555,
          0.20081689490068372,
          -0.6343667470766609,
          0.41427469298748415,
          -2.780507995203985,
          -3.650994399352335,
          -0.2061255462092677,
          1.934182846809448,
          -0.8535673393876995,
          0.8635524439890782,
          -0.2428235209418082,
          2.8031685031885196,
          2.206127426113256,
          -1.5151325135065419,
          -0.1856854903019791,
          -1.1518851541721618,
          -1.7414611670521039,
          1.59339480043395,
          -0.8708516868534092,
          0.5712684489947241,
          0.9667892795686669,
          0.8350656450943209,
          -1.5324624991676696,
          0.3624231652282159,
          0.5398738122383776,
          -2.923087011843296,
          3.778065068298901,
          -0.5547222676041462,
          -5.9154557271616905,
          -1.1577269161852792,
          -0.17103000776942323,
          -0.8944682020403967,
          -3.6441339315963575,
          0.5376530395959431,
          0.5394791057912992,
          -0.17656662380802235,
          0.39861912639974245,
          -1.8369947332127845,
          1.1892562001039917,
          -0.008209024047540212,
          -2.6614090352253026,
          -0.7452747224284282,
          1.3242660744280021,
          -0.34741571214641415,
          0.17702111033779225,
          -1.6746329850910702,
          -1.9427831293993971,
          -1.5935290785140368,
          0.8104668792077646,
          0.3079774154106903,
          -0.06831414452140416,
          0.5588178519305151,
          -1.6112501910076986,
          -1.572907133748086,
          1.8278599318124895,
          1.5416323520205069,
          0.1609694772537766,
          -1.9125100842437939,
          -0.3034973642396956,
          1.2147615952553634,
          1.0235102858660692,
          0.9929748872106674,
          -0.043592431939802306,
          -1.7579134179456597,
          -0.2608001327452418,
          -0.12314853130877261,
          0.8628390722197176,
          1.1914949270219128,
          2.4211258403847267,
          0.268158652301559,
          0.5098182113811517,
          0.17654500226712377,
          -1.8068141746041326,
          -2.525615186517515,
          0.8316776571638296,
          0.6922366837244394,
          -0.0017718442756774037,
          0.45746877363472727,
          -1.6193208756008481,
          -1.2781540557929127,
          2.5086816153973377,
          0.06929029064783965,
          0.4459171923018379,
          0.09956636025450367,
          0.17698061525767583,
          1.6433194103101423,
          0.36506969473013967,
          0.9789706934447545,
          0.8409320580861553,
          0.23798742517932497,
          0.39251629425331946,
          2.280236455034234,
          0.4494455009434147,
          0.0135492753002299,
          -1.3201878383849963,
          -2.2058515920313693,
          1.1416751207538982,
          -0.5358234482356349,
          0.8011614691360157,
          -0.7642766762804655,
          2.453185624263736,
          -0.9313834271449237,
          -0.9075932798209481,
          3.976758754000029,
          -0.6614462118293195,
          -0.44531398980862114,
          0.2899977423646932,
          0.8432448664881182,
          -1.139737592940509,
          -0.028382494187305603,
          0.6969166608468467,
          2.0512960446556545,
          -0.36819304624497423,
          -0.48864045564673037,
          1.3388046981962574,
          -0.23682375990818522,
          -3.268201700628686,
          0.1960200716592405,
          1.1060320606862981,
          2.2875757205792144,
          0.3487872330583768,
          -0.6982697968426259,
          -2.207465483861022,
          -0.27890875362040446,
          -1.022361741073151,
          0.65991408823662,
          0.23725425601596173,
          -0.871252163612778,
          -1.9336355932616751,
          -0.1592481025895306,
          -1.111441135097591,
          0.060762493959616505,
          0.49784434336522754,
          0.46355438640208496,
          1.3549600682466523,
          0.5348684533418335,
          -0.2753715582234346,
          -0.4134070510586952,
          -0.9718054971376677,
          -1.3766848170470691,
          -1.872488436014042,
          -1.0306180937828064,
          -0.5038130172161527,
          1.0978326110132286,
          -0.6977185745628673,
          2.70464917941898,
          2.8724491323731125,
          1.3178304759486033,
          -2.2541769892811754,
          0.19573605783557738,
          0.8853026585544038,
          0.18843007825132635,
          0.5766792059646048,
          -0.8301919738607527,
          -0.8227996405865016,
          1.1892837612755969,
          -0.5750112450684617,
          -0.1506306417249004,
          -1.7739741553353938,
          -1.1924550124852074,
          0.8361399214932671,
          -1.7389630159452942,
          1.0021542064415403,
          -0.12485476358519866,
          0.5163156177090849,
          0.5299502660513163,
          0.1251504144937157,
          -2.2652666288758487,
          1.1454618151280416,
          4.263188634030838,
          -0.8173701294370529,
          -1.235162699592076,
          1.3955296102459895,
          -2.385591357062242,
          -0.6229944074792424,
          -0.4987922927179429,
          0.8812595656129744,
          -0.22878429846276294,
          5.57098639235868,
          2.114860051362123,
          -0.08461002176798713,
          -0.019937003602400905,
          6.730318211573206,
          0.16898049220507297
         ],
         "y0": " ",
         "yaxis": "y"
        }
       ],
       "layout": {
        "height": 500,
        "legend": {
         "title": {
          "text": "Label"
         },
         "tracegroupgap": 0
        },
        "template": {
         "data": {
          "bar": [
           {
            "error_x": {
             "color": "#2a3f5f"
            },
            "error_y": {
             "color": "#2a3f5f"
            },
            "marker": {
             "line": {
              "color": "#E5ECF6",
              "width": 0.5
             },
             "pattern": {
              "fillmode": "overlay",
              "size": 10,
              "solidity": 0.2
             }
            },
            "type": "bar"
           }
          ],
          "barpolar": [
           {
            "marker": {
             "line": {
              "color": "#E5ECF6",
              "width": 0.5
             },
             "pattern": {
              "fillmode": "overlay",
              "size": 10,
              "solidity": 0.2
             }
            },
            "type": "barpolar"
           }
          ],
          "carpet": [
           {
            "aaxis": {
             "endlinecolor": "#2a3f5f",
             "gridcolor": "white",
             "linecolor": "white",
             "minorgridcolor": "white",
             "startlinecolor": "#2a3f5f"
            },
            "baxis": {
             "endlinecolor": "#2a3f5f",
             "gridcolor": "white",
             "linecolor": "white",
             "minorgridcolor": "white",
             "startlinecolor": "#2a3f5f"
            },
            "type": "carpet"
           }
          ],
          "choropleth": [
           {
            "colorbar": {
             "outlinewidth": 0,
             "ticks": ""
            },
            "type": "choropleth"
           }
          ],
          "contour": [
           {
            "colorbar": {
             "outlinewidth": 0,
             "ticks": ""
            },
            "colorscale": [
             [
              0,
              "#0d0887"
             ],
             [
              0.1111111111111111,
              "#46039f"
             ],
             [
              0.2222222222222222,
              "#7201a8"
             ],
             [
              0.3333333333333333,
              "#9c179e"
             ],
             [
              0.4444444444444444,
              "#bd3786"
             ],
             [
              0.5555555555555556,
              "#d8576b"
             ],
             [
              0.6666666666666666,
              "#ed7953"
             ],
             [
              0.7777777777777778,
              "#fb9f3a"
             ],
             [
              0.8888888888888888,
              "#fdca26"
             ],
             [
              1,
              "#f0f921"
             ]
            ],
            "type": "contour"
           }
          ],
          "contourcarpet": [
           {
            "colorbar": {
             "outlinewidth": 0,
             "ticks": ""
            },
            "type": "contourcarpet"
           }
          ],
          "heatmap": [
           {
            "colorbar": {
             "outlinewidth": 0,
             "ticks": ""
            },
            "colorscale": [
             [
              0,
              "#0d0887"
             ],
             [
              0.1111111111111111,
              "#46039f"
             ],
             [
              0.2222222222222222,
              "#7201a8"
             ],
             [
              0.3333333333333333,
              "#9c179e"
             ],
             [
              0.4444444444444444,
              "#bd3786"
             ],
             [
              0.5555555555555556,
              "#d8576b"
             ],
             [
              0.6666666666666666,
              "#ed7953"
             ],
             [
              0.7777777777777778,
              "#fb9f3a"
             ],
             [
              0.8888888888888888,
              "#fdca26"
             ],
             [
              1,
              "#f0f921"
             ]
            ],
            "type": "heatmap"
           }
          ],
          "heatmapgl": [
           {
            "colorbar": {
             "outlinewidth": 0,
             "ticks": ""
            },
            "colorscale": [
             [
              0,
              "#0d0887"
             ],
             [
              0.1111111111111111,
              "#46039f"
             ],
             [
              0.2222222222222222,
              "#7201a8"
             ],
             [
              0.3333333333333333,
              "#9c179e"
             ],
             [
              0.4444444444444444,
              "#bd3786"
             ],
             [
              0.5555555555555556,
              "#d8576b"
             ],
             [
              0.6666666666666666,
              "#ed7953"
             ],
             [
              0.7777777777777778,
              "#fb9f3a"
             ],
             [
              0.8888888888888888,
              "#fdca26"
             ],
             [
              1,
              "#f0f921"
             ]
            ],
            "type": "heatmapgl"
           }
          ],
          "histogram": [
           {
            "marker": {
             "pattern": {
              "fillmode": "overlay",
              "size": 10,
              "solidity": 0.2
             }
            },
            "type": "histogram"
           }
          ],
          "histogram2d": [
           {
            "colorbar": {
             "outlinewidth": 0,
             "ticks": ""
            },
            "colorscale": [
             [
              0,
              "#0d0887"
             ],
             [
              0.1111111111111111,
              "#46039f"
             ],
             [
              0.2222222222222222,
              "#7201a8"
             ],
             [
              0.3333333333333333,
              "#9c179e"
             ],
             [
              0.4444444444444444,
              "#bd3786"
             ],
             [
              0.5555555555555556,
              "#d8576b"
             ],
             [
              0.6666666666666666,
              "#ed7953"
             ],
             [
              0.7777777777777778,
              "#fb9f3a"
             ],
             [
              0.8888888888888888,
              "#fdca26"
             ],
             [
              1,
              "#f0f921"
             ]
            ],
            "type": "histogram2d"
           }
          ],
          "histogram2dcontour": [
           {
            "colorbar": {
             "outlinewidth": 0,
             "ticks": ""
            },
            "colorscale": [
             [
              0,
              "#0d0887"
             ],
             [
              0.1111111111111111,
              "#46039f"
             ],
             [
              0.2222222222222222,
              "#7201a8"
             ],
             [
              0.3333333333333333,
              "#9c179e"
             ],
             [
              0.4444444444444444,
              "#bd3786"
             ],
             [
              0.5555555555555556,
              "#d8576b"
             ],
             [
              0.6666666666666666,
              "#ed7953"
             ],
             [
              0.7777777777777778,
              "#fb9f3a"
             ],
             [
              0.8888888888888888,
              "#fdca26"
             ],
             [
              1,
              "#f0f921"
             ]
            ],
            "type": "histogram2dcontour"
           }
          ],
          "mesh3d": [
           {
            "colorbar": {
             "outlinewidth": 0,
             "ticks": ""
            },
            "type": "mesh3d"
           }
          ],
          "parcoords": [
           {
            "line": {
             "colorbar": {
              "outlinewidth": 0,
              "ticks": ""
             }
            },
            "type": "parcoords"
           }
          ],
          "pie": [
           {
            "automargin": true,
            "type": "pie"
           }
          ],
          "scatter": [
           {
            "fillpattern": {
             "fillmode": "overlay",
             "size": 10,
             "solidity": 0.2
            },
            "type": "scatter"
           }
          ],
          "scatter3d": [
           {
            "line": {
             "colorbar": {
              "outlinewidth": 0,
              "ticks": ""
             }
            },
            "marker": {
             "colorbar": {
              "outlinewidth": 0,
              "ticks": ""
             }
            },
            "type": "scatter3d"
           }
          ],
          "scattercarpet": [
           {
            "marker": {
             "colorbar": {
              "outlinewidth": 0,
              "ticks": ""
             }
            },
            "type": "scattercarpet"
           }
          ],
          "scattergeo": [
           {
            "marker": {
             "colorbar": {
              "outlinewidth": 0,
              "ticks": ""
             }
            },
            "type": "scattergeo"
           }
          ],
          "scattergl": [
           {
            "marker": {
             "colorbar": {
              "outlinewidth": 0,
              "ticks": ""
             }
            },
            "type": "scattergl"
           }
          ],
          "scattermapbox": [
           {
            "marker": {
             "colorbar": {
              "outlinewidth": 0,
              "ticks": ""
             }
            },
            "type": "scattermapbox"
           }
          ],
          "scatterpolar": [
           {
            "marker": {
             "colorbar": {
              "outlinewidth": 0,
              "ticks": ""
             }
            },
            "type": "scatterpolar"
           }
          ],
          "scatterpolargl": [
           {
            "marker": {
             "colorbar": {
              "outlinewidth": 0,
              "ticks": ""
             }
            },
            "type": "scatterpolargl"
           }
          ],
          "scatterternary": [
           {
            "marker": {
             "colorbar": {
              "outlinewidth": 0,
              "ticks": ""
             }
            },
            "type": "scatterternary"
           }
          ],
          "surface": [
           {
            "colorbar": {
             "outlinewidth": 0,
             "ticks": ""
            },
            "colorscale": [
             [
              0,
              "#0d0887"
             ],
             [
              0.1111111111111111,
              "#46039f"
             ],
             [
              0.2222222222222222,
              "#7201a8"
             ],
             [
              0.3333333333333333,
              "#9c179e"
             ],
             [
              0.4444444444444444,
              "#bd3786"
             ],
             [
              0.5555555555555556,
              "#d8576b"
             ],
             [
              0.6666666666666666,
              "#ed7953"
             ],
             [
              0.7777777777777778,
              "#fb9f3a"
             ],
             [
              0.8888888888888888,
              "#fdca26"
             ],
             [
              1,
              "#f0f921"
             ]
            ],
            "type": "surface"
           }
          ],
          "table": [
           {
            "cells": {
             "fill": {
              "color": "#EBF0F8"
             },
             "line": {
              "color": "white"
             }
            },
            "header": {
             "fill": {
              "color": "#C8D4E3"
             },
             "line": {
              "color": "white"
             }
            },
            "type": "table"
           }
          ]
         },
         "layout": {
          "annotationdefaults": {
           "arrowcolor": "#2a3f5f",
           "arrowhead": 0,
           "arrowwidth": 1
          },
          "autotypenumbers": "strict",
          "coloraxis": {
           "colorbar": {
            "outlinewidth": 0,
            "ticks": ""
           }
          },
          "colorscale": {
           "diverging": [
            [
             0,
             "#8e0152"
            ],
            [
             0.1,
             "#c51b7d"
            ],
            [
             0.2,
             "#de77ae"
            ],
            [
             0.3,
             "#f1b6da"
            ],
            [
             0.4,
             "#fde0ef"
            ],
            [
             0.5,
             "#f7f7f7"
            ],
            [
             0.6,
             "#e6f5d0"
            ],
            [
             0.7,
             "#b8e186"
            ],
            [
             0.8,
             "#7fbc41"
            ],
            [
             0.9,
             "#4d9221"
            ],
            [
             1,
             "#276419"
            ]
           ],
           "sequential": [
            [
             0,
             "#0d0887"
            ],
            [
             0.1111111111111111,
             "#46039f"
            ],
            [
             0.2222222222222222,
             "#7201a8"
            ],
            [
             0.3333333333333333,
             "#9c179e"
            ],
            [
             0.4444444444444444,
             "#bd3786"
            ],
            [
             0.5555555555555556,
             "#d8576b"
            ],
            [
             0.6666666666666666,
             "#ed7953"
            ],
            [
             0.7777777777777778,
             "#fb9f3a"
            ],
            [
             0.8888888888888888,
             "#fdca26"
            ],
            [
             1,
             "#f0f921"
            ]
           ],
           "sequentialminus": [
            [
             0,
             "#0d0887"
            ],
            [
             0.1111111111111111,
             "#46039f"
            ],
            [
             0.2222222222222222,
             "#7201a8"
            ],
            [
             0.3333333333333333,
             "#9c179e"
            ],
            [
             0.4444444444444444,
             "#bd3786"
            ],
            [
             0.5555555555555556,
             "#d8576b"
            ],
            [
             0.6666666666666666,
             "#ed7953"
            ],
            [
             0.7777777777777778,
             "#fb9f3a"
            ],
            [
             0.8888888888888888,
             "#fdca26"
            ],
            [
             1,
             "#f0f921"
            ]
           ]
          },
          "colorway": [
           "#636efa",
           "#EF553B",
           "#00cc96",
           "#ab63fa",
           "#FFA15A",
           "#19d3f3",
           "#FF6692",
           "#B6E880",
           "#FF97FF",
           "#FECB52"
          ],
          "font": {
           "color": "#2a3f5f"
          },
          "geo": {
           "bgcolor": "white",
           "lakecolor": "white",
           "landcolor": "#E5ECF6",
           "showlakes": true,
           "showland": true,
           "subunitcolor": "white"
          },
          "hoverlabel": {
           "align": "left"
          },
          "hovermode": "closest",
          "mapbox": {
           "style": "light"
          },
          "paper_bgcolor": "white",
          "plot_bgcolor": "#E5ECF6",
          "polar": {
           "angularaxis": {
            "gridcolor": "white",
            "linecolor": "white",
            "ticks": ""
           },
           "bgcolor": "#E5ECF6",
           "radialaxis": {
            "gridcolor": "white",
            "linecolor": "white",
            "ticks": ""
           }
          },
          "scene": {
           "xaxis": {
            "backgroundcolor": "#E5ECF6",
            "gridcolor": "white",
            "gridwidth": 2,
            "linecolor": "white",
            "showbackground": true,
            "ticks": "",
            "zerolinecolor": "white"
           },
           "yaxis": {
            "backgroundcolor": "#E5ECF6",
            "gridcolor": "white",
            "gridwidth": 2,
            "linecolor": "white",
            "showbackground": true,
            "ticks": "",
            "zerolinecolor": "white"
           },
           "zaxis": {
            "backgroundcolor": "#E5ECF6",
            "gridcolor": "white",
            "gridwidth": 2,
            "linecolor": "white",
            "showbackground": true,
            "ticks": "",
            "zerolinecolor": "white"
           }
          },
          "shapedefaults": {
           "line": {
            "color": "#2a3f5f"
           }
          },
          "ternary": {
           "aaxis": {
            "gridcolor": "white",
            "linecolor": "white",
            "ticks": ""
           },
           "baxis": {
            "gridcolor": "white",
            "linecolor": "white",
            "ticks": ""
           },
           "bgcolor": "#E5ECF6",
           "caxis": {
            "gridcolor": "white",
            "linecolor": "white",
            "ticks": ""
           }
          },
          "title": {
           "x": 0.05
          },
          "xaxis": {
           "automargin": true,
           "gridcolor": "white",
           "linecolor": "white",
           "ticks": "",
           "title": {
            "standoff": 15
           },
           "zerolinecolor": "white",
           "zerolinewidth": 2
          },
          "yaxis": {
           "automargin": true,
           "gridcolor": "white",
           "linecolor": "white",
           "ticks": "",
           "title": {
            "standoff": 15
           },
           "zerolinecolor": "white",
           "zerolinewidth": 2
          }
         }
        },
        "title": {
         "text": "Box Plots"
        },
        "violinmode": "group",
        "width": 800,
        "xaxis": {
         "anchor": "y",
         "domain": [
          0,
          1
         ]
        },
        "yaxis": {
         "anchor": "x",
         "domain": [
          0,
          1
         ],
         "title": {
          "text": "Data"
         }
        }
       }
      }
     },
     "metadata": {},
     "output_type": "display_data"
    }
   ],
   "source": [
    "fig = px.violin(df, y=\"Data\", \n",
    "                color=\"Label\",\n",
    "                color_discrete_sequence=['teal', 'purple'],\n",
    "                height = 500, width = 800,\n",
    "                title='Box Plots')\n",
    "fig.show()"
   ]
  },
  {
   "cell_type": "code",
   "execution_count": 18,
   "metadata": {},
   "outputs": [
    {
     "data": {
      "application/vnd.plotly.v1+json": {
       "config": {
        "plotlyServerURL": "https://plot.ly"
       },
       "data": [
        {
         "alignmentgroup": "True",
         "box": {
          "visible": false
         },
         "hovertemplate": "Label=Normal<br>Data=%{y}<extra></extra>",
         "legendgroup": "Normal",
         "marker": {
          "color": "rgb(95, 70, 144)"
         },
         "name": "Normal",
         "offsetgroup": "Normal",
         "orientation": "v",
         "scalegroup": "True",
         "showlegend": true,
         "type": "violin",
         "x0": " ",
         "xaxis": "x",
         "y": [
          3.010603808682812,
          1.3121544655425539,
          1.7802271424528466,
          2.7888574524879317,
          1.5263622107532897,
          2.3558592728821077,
          2.311555537732986,
          3.3839871907634373,
          2.2710187471241805,
          0.3303541797390208,
          2.6843813736829927,
          3.534933076063685,
          -0.03767373720186473,
          3.579119042476065,
          1.7510853434937637,
          1.8127076939814646,
          3.2284573697771197,
          2.4870264356739256,
          1.7305888865358148,
          2.372817064700227,
          2.19856651969668,
          3.6391207917634234,
          2.287364806376417,
          1.150914403339033,
          2.204991805836251,
          2.0829684412518246,
          0.40978685838037276,
          1.6203119143890734,
          2.4949515063415633,
          2.6972579488203863,
          0.17599568632851748,
          2.506848539729748,
          1.9114248802108778,
          2.1870446741923475,
          3.3308967845678485,
          2.5636138356507505,
          0.7490175812738653,
          1.3733359275227022,
          2.3871797715162058,
          1.5719643701111767,
          2.921457157615924,
          3.0925585607364017,
          1.4514636144924986,
          3.2394775659926074,
          3.1579597425318156,
          2.417748179350268,
          1.7041192189310421,
          2.025033862778361,
          1.7183602099602666,
          1.3793846805040957,
          1.323306688885209,
          1.1058488815313012,
          0.2502812049050904,
          1.8500131523924686,
          2.682742469925375,
          2.268509851680112,
          1.9265271653331753,
          2.8364308242197827,
          1.7956152891813326,
          0.9052286785884336,
          1.1291023228559884,
          3.225241405051153,
          2.245842749948661,
          1.4291041273236953,
          0.18617635510565922,
          2.7170897728520638,
          1.6935387268782387,
          2.1799750378577007,
          0.7934230904577297,
          1.79367463492129,
          0.43093319317799494,
          1.5830902276024714,
          1.5997831559871014,
          2.502362696750904,
          1.8345355752439998,
          2.040737048970878,
          2.9265450020420305,
          3.045462495757751,
          2.5237336127988947,
          3.068896200342376,
          0.907083538525794,
          2.4329953603043624,
          2.4863971117204415,
          1.6545411273076016,
          2.3374817031656914,
          3.756062703541987,
          3.734035933341622,
          3.368524584639541,
          3.0054667395372383,
          4.360530868975427,
          0.09991058427758448,
          2.1780132374312258,
          2.2048261665100752,
          2.0067348502550213,
          1.2483156830535895,
          2.7483852656357075,
          2.421829295845416,
          0.5261632948290611,
          1.8805257968538351,
          1.2758751231206473,
          1.2683577270616904,
          0.4704277485452566,
          1.1468797896133192,
          1.9252099674845433,
          1.0825646918101155,
          2.0342377215008316,
          1.044411498371399,
          2.981051093918265,
          2.7203127982103874,
          1.6930350859092225,
          1.7524764294137463,
          3.810839534298835,
          3.888583934384681,
          2.32003478979504,
          1.4067592160407862,
          1.171649832140024,
          2.0007207083426923,
          1.2286100073901574,
          2.2176690260298524,
          2.6837140873633594,
          0.9254090808326294,
          3.9341637170851387,
          2.6769030664023856,
          0.45710819146418324,
          2.6454712965840623,
          2.664518103299492,
          3.369971723490785,
          3.3393181886737366,
          2.2862049422598663,
          2.093984617415128,
          1.9148658443167133,
          0.3558026513546033,
          1.8430772528915946,
          1.3178306093131473,
          2.224227234197765,
          1.9567899236166735,
          2.579219854806172,
          2.3844235895028447,
          0.19732757264320488,
          2.918101625722113,
          3.820986179255341,
          2.096613563763318,
          3.126291204072852,
          2.566077822552188,
          1.0393951916909199,
          3.3265778052213806,
          0.5858630887496423,
          4.317495833520353,
          0.7626858577410018,
          0.01938297648156495,
          1.9212253571191145,
          2.6354373280758114,
          1.4114460182614321,
          1.630104417094486,
          0.6500358511846851,
          1.8825137700568784,
          0.8004636939582765,
          2.031103920139719,
          1.3071595313036741,
          1.9330983919741496,
          3.383868941308177,
          3.6639470810419095,
          0.816995619615847,
          1.8261431990309214,
          3.876522864700474,
          3.341866288789378,
          2.206765478251999,
          1.4561093438745243,
          2.0189448023474807,
          2.000852467422166,
          1.6178136405973467,
          2.907946065552088,
          2.927641711348095,
          3.1556149623167986,
          1.3022958403395815,
          1.1921823517736247,
          0.6443323669347929,
          3.424554047017213,
          3.300193204658897,
          0.3485889602287766,
          1.3516213046614212,
          2.0116952686122995,
          3.034616497621771,
          2.036923533510638,
          2.446289245060777,
          2.7395479873926494,
          3.2100791880568975,
          1.5308557992596081,
          0.7596806590898064,
          1.6761199383566912,
          1.560217305342488,
          3.9451173876363868,
          2.202985372831299,
          0.5146937017177178,
          2.218974306234027,
          1.9061533839337543,
          1.9727189157985043,
          2.2718000990346816,
          1.2291219483068854,
          3.8140553414365472
         ],
         "y0": " ",
         "yaxis": "y"
        },
        {
         "alignmentgroup": "True",
         "box": {
          "visible": false
         },
         "hovertemplate": "Label=t-Student<br>Data=%{y}<extra></extra>",
         "legendgroup": "t-Student",
         "marker": {
          "color": "rgb(29, 105, 150)"
         },
         "name": "t-Student",
         "offsetgroup": "t-Student",
         "orientation": "v",
         "scalegroup": "True",
         "showlegend": true,
         "type": "violin",
         "x0": " ",
         "xaxis": "x",
         "y": [
          -0.8202602283518821,
          -0.2536676920378718,
          1.1273278373839675,
          -1.5080841121493458,
          0.7395601047302559,
          -2.200172094966877,
          0.25732556869237583,
          2.090867523104584,
          0.1120484276034216,
          1.8885735589420085,
          1.1221723666206205,
          1.8098641277131906,
          -0.14107422112144472,
          -0.3053232949456606,
          -4.01955402122601,
          -2.056593107103181,
          2.354639243113555,
          0.20081689490068372,
          -0.6343667470766609,
          0.41427469298748415,
          -2.780507995203985,
          -3.650994399352335,
          -0.2061255462092677,
          1.934182846809448,
          -0.8535673393876995,
          0.8635524439890782,
          -0.2428235209418082,
          2.8031685031885196,
          2.206127426113256,
          -1.5151325135065419,
          -0.1856854903019791,
          -1.1518851541721618,
          -1.7414611670521039,
          1.59339480043395,
          -0.8708516868534092,
          0.5712684489947241,
          0.9667892795686669,
          0.8350656450943209,
          -1.5324624991676696,
          0.3624231652282159,
          0.5398738122383776,
          -2.923087011843296,
          3.778065068298901,
          -0.5547222676041462,
          -5.9154557271616905,
          -1.1577269161852792,
          -0.17103000776942323,
          -0.8944682020403967,
          -3.6441339315963575,
          0.5376530395959431,
          0.5394791057912992,
          -0.17656662380802235,
          0.39861912639974245,
          -1.8369947332127845,
          1.1892562001039917,
          -0.008209024047540212,
          -2.6614090352253026,
          -0.7452747224284282,
          1.3242660744280021,
          -0.34741571214641415,
          0.17702111033779225,
          -1.6746329850910702,
          -1.9427831293993971,
          -1.5935290785140368,
          0.8104668792077646,
          0.3079774154106903,
          -0.06831414452140416,
          0.5588178519305151,
          -1.6112501910076986,
          -1.572907133748086,
          1.8278599318124895,
          1.5416323520205069,
          0.1609694772537766,
          -1.9125100842437939,
          -0.3034973642396956,
          1.2147615952553634,
          1.0235102858660692,
          0.9929748872106674,
          -0.043592431939802306,
          -1.7579134179456597,
          -0.2608001327452418,
          -0.12314853130877261,
          0.8628390722197176,
          1.1914949270219128,
          2.4211258403847267,
          0.268158652301559,
          0.5098182113811517,
          0.17654500226712377,
          -1.8068141746041326,
          -2.525615186517515,
          0.8316776571638296,
          0.6922366837244394,
          -0.0017718442756774037,
          0.45746877363472727,
          -1.6193208756008481,
          -1.2781540557929127,
          2.5086816153973377,
          0.06929029064783965,
          0.4459171923018379,
          0.09956636025450367,
          0.17698061525767583,
          1.6433194103101423,
          0.36506969473013967,
          0.9789706934447545,
          0.8409320580861553,
          0.23798742517932497,
          0.39251629425331946,
          2.280236455034234,
          0.4494455009434147,
          0.0135492753002299,
          -1.3201878383849963,
          -2.2058515920313693,
          1.1416751207538982,
          -0.5358234482356349,
          0.8011614691360157,
          -0.7642766762804655,
          2.453185624263736,
          -0.9313834271449237,
          -0.9075932798209481,
          3.976758754000029,
          -0.6614462118293195,
          -0.44531398980862114,
          0.2899977423646932,
          0.8432448664881182,
          -1.139737592940509,
          -0.028382494187305603,
          0.6969166608468467,
          2.0512960446556545,
          -0.36819304624497423,
          -0.48864045564673037,
          1.3388046981962574,
          -0.23682375990818522,
          -3.268201700628686,
          0.1960200716592405,
          1.1060320606862981,
          2.2875757205792144,
          0.3487872330583768,
          -0.6982697968426259,
          -2.207465483861022,
          -0.27890875362040446,
          -1.022361741073151,
          0.65991408823662,
          0.23725425601596173,
          -0.871252163612778,
          -1.9336355932616751,
          -0.1592481025895306,
          -1.111441135097591,
          0.060762493959616505,
          0.49784434336522754,
          0.46355438640208496,
          1.3549600682466523,
          0.5348684533418335,
          -0.2753715582234346,
          -0.4134070510586952,
          -0.9718054971376677,
          -1.3766848170470691,
          -1.872488436014042,
          -1.0306180937828064,
          -0.5038130172161527,
          1.0978326110132286,
          -0.6977185745628673,
          2.70464917941898,
          2.8724491323731125,
          1.3178304759486033,
          -2.2541769892811754,
          0.19573605783557738,
          0.8853026585544038,
          0.18843007825132635,
          0.5766792059646048,
          -0.8301919738607527,
          -0.8227996405865016,
          1.1892837612755969,
          -0.5750112450684617,
          -0.1506306417249004,
          -1.7739741553353938,
          -1.1924550124852074,
          0.8361399214932671,
          -1.7389630159452942,
          1.0021542064415403,
          -0.12485476358519866,
          0.5163156177090849,
          0.5299502660513163,
          0.1251504144937157,
          -2.2652666288758487,
          1.1454618151280416,
          4.263188634030838,
          -0.8173701294370529,
          -1.235162699592076,
          1.3955296102459895,
          -2.385591357062242,
          -0.6229944074792424,
          -0.4987922927179429,
          0.8812595656129744,
          -0.22878429846276294,
          5.57098639235868,
          2.114860051362123,
          -0.08461002176798713,
          -0.019937003602400905,
          6.730318211573206,
          0.16898049220507297
         ],
         "y0": " ",
         "yaxis": "y"
        }
       ],
       "layout": {
        "height": 500,
        "legend": {
         "title": {
          "text": "Label"
         },
         "tracegroupgap": 0
        },
        "template": {
         "data": {
          "bar": [
           {
            "error_x": {
             "color": "#2a3f5f"
            },
            "error_y": {
             "color": "#2a3f5f"
            },
            "marker": {
             "line": {
              "color": "#E5ECF6",
              "width": 0.5
             },
             "pattern": {
              "fillmode": "overlay",
              "size": 10,
              "solidity": 0.2
             }
            },
            "type": "bar"
           }
          ],
          "barpolar": [
           {
            "marker": {
             "line": {
              "color": "#E5ECF6",
              "width": 0.5
             },
             "pattern": {
              "fillmode": "overlay",
              "size": 10,
              "solidity": 0.2
             }
            },
            "type": "barpolar"
           }
          ],
          "carpet": [
           {
            "aaxis": {
             "endlinecolor": "#2a3f5f",
             "gridcolor": "white",
             "linecolor": "white",
             "minorgridcolor": "white",
             "startlinecolor": "#2a3f5f"
            },
            "baxis": {
             "endlinecolor": "#2a3f5f",
             "gridcolor": "white",
             "linecolor": "white",
             "minorgridcolor": "white",
             "startlinecolor": "#2a3f5f"
            },
            "type": "carpet"
           }
          ],
          "choropleth": [
           {
            "colorbar": {
             "outlinewidth": 0,
             "ticks": ""
            },
            "type": "choropleth"
           }
          ],
          "contour": [
           {
            "colorbar": {
             "outlinewidth": 0,
             "ticks": ""
            },
            "colorscale": [
             [
              0,
              "#0d0887"
             ],
             [
              0.1111111111111111,
              "#46039f"
             ],
             [
              0.2222222222222222,
              "#7201a8"
             ],
             [
              0.3333333333333333,
              "#9c179e"
             ],
             [
              0.4444444444444444,
              "#bd3786"
             ],
             [
              0.5555555555555556,
              "#d8576b"
             ],
             [
              0.6666666666666666,
              "#ed7953"
             ],
             [
              0.7777777777777778,
              "#fb9f3a"
             ],
             [
              0.8888888888888888,
              "#fdca26"
             ],
             [
              1,
              "#f0f921"
             ]
            ],
            "type": "contour"
           }
          ],
          "contourcarpet": [
           {
            "colorbar": {
             "outlinewidth": 0,
             "ticks": ""
            },
            "type": "contourcarpet"
           }
          ],
          "heatmap": [
           {
            "colorbar": {
             "outlinewidth": 0,
             "ticks": ""
            },
            "colorscale": [
             [
              0,
              "#0d0887"
             ],
             [
              0.1111111111111111,
              "#46039f"
             ],
             [
              0.2222222222222222,
              "#7201a8"
             ],
             [
              0.3333333333333333,
              "#9c179e"
             ],
             [
              0.4444444444444444,
              "#bd3786"
             ],
             [
              0.5555555555555556,
              "#d8576b"
             ],
             [
              0.6666666666666666,
              "#ed7953"
             ],
             [
              0.7777777777777778,
              "#fb9f3a"
             ],
             [
              0.8888888888888888,
              "#fdca26"
             ],
             [
              1,
              "#f0f921"
             ]
            ],
            "type": "heatmap"
           }
          ],
          "heatmapgl": [
           {
            "colorbar": {
             "outlinewidth": 0,
             "ticks": ""
            },
            "colorscale": [
             [
              0,
              "#0d0887"
             ],
             [
              0.1111111111111111,
              "#46039f"
             ],
             [
              0.2222222222222222,
              "#7201a8"
             ],
             [
              0.3333333333333333,
              "#9c179e"
             ],
             [
              0.4444444444444444,
              "#bd3786"
             ],
             [
              0.5555555555555556,
              "#d8576b"
             ],
             [
              0.6666666666666666,
              "#ed7953"
             ],
             [
              0.7777777777777778,
              "#fb9f3a"
             ],
             [
              0.8888888888888888,
              "#fdca26"
             ],
             [
              1,
              "#f0f921"
             ]
            ],
            "type": "heatmapgl"
           }
          ],
          "histogram": [
           {
            "marker": {
             "pattern": {
              "fillmode": "overlay",
              "size": 10,
              "solidity": 0.2
             }
            },
            "type": "histogram"
           }
          ],
          "histogram2d": [
           {
            "colorbar": {
             "outlinewidth": 0,
             "ticks": ""
            },
            "colorscale": [
             [
              0,
              "#0d0887"
             ],
             [
              0.1111111111111111,
              "#46039f"
             ],
             [
              0.2222222222222222,
              "#7201a8"
             ],
             [
              0.3333333333333333,
              "#9c179e"
             ],
             [
              0.4444444444444444,
              "#bd3786"
             ],
             [
              0.5555555555555556,
              "#d8576b"
             ],
             [
              0.6666666666666666,
              "#ed7953"
             ],
             [
              0.7777777777777778,
              "#fb9f3a"
             ],
             [
              0.8888888888888888,
              "#fdca26"
             ],
             [
              1,
              "#f0f921"
             ]
            ],
            "type": "histogram2d"
           }
          ],
          "histogram2dcontour": [
           {
            "colorbar": {
             "outlinewidth": 0,
             "ticks": ""
            },
            "colorscale": [
             [
              0,
              "#0d0887"
             ],
             [
              0.1111111111111111,
              "#46039f"
             ],
             [
              0.2222222222222222,
              "#7201a8"
             ],
             [
              0.3333333333333333,
              "#9c179e"
             ],
             [
              0.4444444444444444,
              "#bd3786"
             ],
             [
              0.5555555555555556,
              "#d8576b"
             ],
             [
              0.6666666666666666,
              "#ed7953"
             ],
             [
              0.7777777777777778,
              "#fb9f3a"
             ],
             [
              0.8888888888888888,
              "#fdca26"
             ],
             [
              1,
              "#f0f921"
             ]
            ],
            "type": "histogram2dcontour"
           }
          ],
          "mesh3d": [
           {
            "colorbar": {
             "outlinewidth": 0,
             "ticks": ""
            },
            "type": "mesh3d"
           }
          ],
          "parcoords": [
           {
            "line": {
             "colorbar": {
              "outlinewidth": 0,
              "ticks": ""
             }
            },
            "type": "parcoords"
           }
          ],
          "pie": [
           {
            "automargin": true,
            "type": "pie"
           }
          ],
          "scatter": [
           {
            "fillpattern": {
             "fillmode": "overlay",
             "size": 10,
             "solidity": 0.2
            },
            "type": "scatter"
           }
          ],
          "scatter3d": [
           {
            "line": {
             "colorbar": {
              "outlinewidth": 0,
              "ticks": ""
             }
            },
            "marker": {
             "colorbar": {
              "outlinewidth": 0,
              "ticks": ""
             }
            },
            "type": "scatter3d"
           }
          ],
          "scattercarpet": [
           {
            "marker": {
             "colorbar": {
              "outlinewidth": 0,
              "ticks": ""
             }
            },
            "type": "scattercarpet"
           }
          ],
          "scattergeo": [
           {
            "marker": {
             "colorbar": {
              "outlinewidth": 0,
              "ticks": ""
             }
            },
            "type": "scattergeo"
           }
          ],
          "scattergl": [
           {
            "marker": {
             "colorbar": {
              "outlinewidth": 0,
              "ticks": ""
             }
            },
            "type": "scattergl"
           }
          ],
          "scattermapbox": [
           {
            "marker": {
             "colorbar": {
              "outlinewidth": 0,
              "ticks": ""
             }
            },
            "type": "scattermapbox"
           }
          ],
          "scatterpolar": [
           {
            "marker": {
             "colorbar": {
              "outlinewidth": 0,
              "ticks": ""
             }
            },
            "type": "scatterpolar"
           }
          ],
          "scatterpolargl": [
           {
            "marker": {
             "colorbar": {
              "outlinewidth": 0,
              "ticks": ""
             }
            },
            "type": "scatterpolargl"
           }
          ],
          "scatterternary": [
           {
            "marker": {
             "colorbar": {
              "outlinewidth": 0,
              "ticks": ""
             }
            },
            "type": "scatterternary"
           }
          ],
          "surface": [
           {
            "colorbar": {
             "outlinewidth": 0,
             "ticks": ""
            },
            "colorscale": [
             [
              0,
              "#0d0887"
             ],
             [
              0.1111111111111111,
              "#46039f"
             ],
             [
              0.2222222222222222,
              "#7201a8"
             ],
             [
              0.3333333333333333,
              "#9c179e"
             ],
             [
              0.4444444444444444,
              "#bd3786"
             ],
             [
              0.5555555555555556,
              "#d8576b"
             ],
             [
              0.6666666666666666,
              "#ed7953"
             ],
             [
              0.7777777777777778,
              "#fb9f3a"
             ],
             [
              0.8888888888888888,
              "#fdca26"
             ],
             [
              1,
              "#f0f921"
             ]
            ],
            "type": "surface"
           }
          ],
          "table": [
           {
            "cells": {
             "fill": {
              "color": "#EBF0F8"
             },
             "line": {
              "color": "white"
             }
            },
            "header": {
             "fill": {
              "color": "#C8D4E3"
             },
             "line": {
              "color": "white"
             }
            },
            "type": "table"
           }
          ]
         },
         "layout": {
          "annotationdefaults": {
           "arrowcolor": "#2a3f5f",
           "arrowhead": 0,
           "arrowwidth": 1
          },
          "autotypenumbers": "strict",
          "coloraxis": {
           "colorbar": {
            "outlinewidth": 0,
            "ticks": ""
           }
          },
          "colorscale": {
           "diverging": [
            [
             0,
             "#8e0152"
            ],
            [
             0.1,
             "#c51b7d"
            ],
            [
             0.2,
             "#de77ae"
            ],
            [
             0.3,
             "#f1b6da"
            ],
            [
             0.4,
             "#fde0ef"
            ],
            [
             0.5,
             "#f7f7f7"
            ],
            [
             0.6,
             "#e6f5d0"
            ],
            [
             0.7,
             "#b8e186"
            ],
            [
             0.8,
             "#7fbc41"
            ],
            [
             0.9,
             "#4d9221"
            ],
            [
             1,
             "#276419"
            ]
           ],
           "sequential": [
            [
             0,
             "#0d0887"
            ],
            [
             0.1111111111111111,
             "#46039f"
            ],
            [
             0.2222222222222222,
             "#7201a8"
            ],
            [
             0.3333333333333333,
             "#9c179e"
            ],
            [
             0.4444444444444444,
             "#bd3786"
            ],
            [
             0.5555555555555556,
             "#d8576b"
            ],
            [
             0.6666666666666666,
             "#ed7953"
            ],
            [
             0.7777777777777778,
             "#fb9f3a"
            ],
            [
             0.8888888888888888,
             "#fdca26"
            ],
            [
             1,
             "#f0f921"
            ]
           ],
           "sequentialminus": [
            [
             0,
             "#0d0887"
            ],
            [
             0.1111111111111111,
             "#46039f"
            ],
            [
             0.2222222222222222,
             "#7201a8"
            ],
            [
             0.3333333333333333,
             "#9c179e"
            ],
            [
             0.4444444444444444,
             "#bd3786"
            ],
            [
             0.5555555555555556,
             "#d8576b"
            ],
            [
             0.6666666666666666,
             "#ed7953"
            ],
            [
             0.7777777777777778,
             "#fb9f3a"
            ],
            [
             0.8888888888888888,
             "#fdca26"
            ],
            [
             1,
             "#f0f921"
            ]
           ]
          },
          "colorway": [
           "#636efa",
           "#EF553B",
           "#00cc96",
           "#ab63fa",
           "#FFA15A",
           "#19d3f3",
           "#FF6692",
           "#B6E880",
           "#FF97FF",
           "#FECB52"
          ],
          "font": {
           "color": "#2a3f5f"
          },
          "geo": {
           "bgcolor": "white",
           "lakecolor": "white",
           "landcolor": "#E5ECF6",
           "showlakes": true,
           "showland": true,
           "subunitcolor": "white"
          },
          "hoverlabel": {
           "align": "left"
          },
          "hovermode": "closest",
          "mapbox": {
           "style": "light"
          },
          "paper_bgcolor": "white",
          "plot_bgcolor": "#E5ECF6",
          "polar": {
           "angularaxis": {
            "gridcolor": "white",
            "linecolor": "white",
            "ticks": ""
           },
           "bgcolor": "#E5ECF6",
           "radialaxis": {
            "gridcolor": "white",
            "linecolor": "white",
            "ticks": ""
           }
          },
          "scene": {
           "xaxis": {
            "backgroundcolor": "#E5ECF6",
            "gridcolor": "white",
            "gridwidth": 2,
            "linecolor": "white",
            "showbackground": true,
            "ticks": "",
            "zerolinecolor": "white"
           },
           "yaxis": {
            "backgroundcolor": "#E5ECF6",
            "gridcolor": "white",
            "gridwidth": 2,
            "linecolor": "white",
            "showbackground": true,
            "ticks": "",
            "zerolinecolor": "white"
           },
           "zaxis": {
            "backgroundcolor": "#E5ECF6",
            "gridcolor": "white",
            "gridwidth": 2,
            "linecolor": "white",
            "showbackground": true,
            "ticks": "",
            "zerolinecolor": "white"
           }
          },
          "shapedefaults": {
           "line": {
            "color": "#2a3f5f"
           }
          },
          "ternary": {
           "aaxis": {
            "gridcolor": "white",
            "linecolor": "white",
            "ticks": ""
           },
           "baxis": {
            "gridcolor": "white",
            "linecolor": "white",
            "ticks": ""
           },
           "bgcolor": "#E5ECF6",
           "caxis": {
            "gridcolor": "white",
            "linecolor": "white",
            "ticks": ""
           }
          },
          "title": {
           "x": 0.05
          },
          "xaxis": {
           "automargin": true,
           "gridcolor": "white",
           "linecolor": "white",
           "ticks": "",
           "title": {
            "standoff": 15
           },
           "zerolinecolor": "white",
           "zerolinewidth": 2
          },
          "yaxis": {
           "automargin": true,
           "gridcolor": "white",
           "linecolor": "white",
           "ticks": "",
           "title": {
            "standoff": 15
           },
           "zerolinecolor": "white",
           "zerolinewidth": 2
          }
         }
        },
        "title": {
         "text": "Box Plots"
        },
        "violinmode": "group",
        "width": 800,
        "xaxis": {
         "anchor": "y",
         "domain": [
          0,
          1
         ]
        },
        "yaxis": {
         "anchor": "x",
         "domain": [
          0,
          1
         ],
         "title": {
          "text": "Data"
         }
        }
       }
      }
     },
     "metadata": {},
     "output_type": "display_data"
    }
   ],
   "source": [
    "fig = px.violin(df, y=\"Data\", \n",
    "                color=\"Label\",\n",
    "                color_discrete_sequence=px.colors.qualitative.Prism,\n",
    "                height = 500, width = 800,\n",
    "                title='Box Plots')\n",
    "fig.show()"
   ]
  },
  {
   "cell_type": "code",
   "execution_count": 19,
   "metadata": {},
   "outputs": [
    {
     "data": {
      "application/vnd.plotly.v1+json": {
       "config": {
        "plotlyServerURL": "https://plot.ly"
       },
       "data": [
        {
         "alignmentgroup": "True",
         "box": {
          "visible": false
         },
         "hovertemplate": "Label=Normal<br>Data=%{y}<extra></extra>",
         "legendgroup": "Normal",
         "marker": {
          "color": "teal"
         },
         "name": "Normal",
         "offsetgroup": "Normal",
         "orientation": "v",
         "scalegroup": "True",
         "showlegend": true,
         "type": "violin",
         "x0": " ",
         "xaxis": "x",
         "y": [
          3.010603808682812,
          1.3121544655425539,
          1.7802271424528466,
          2.7888574524879317,
          1.5263622107532897,
          2.3558592728821077,
          2.311555537732986,
          3.3839871907634373,
          2.2710187471241805,
          0.3303541797390208,
          2.6843813736829927,
          3.534933076063685,
          -0.03767373720186473,
          3.579119042476065,
          1.7510853434937637,
          1.8127076939814646,
          3.2284573697771197,
          2.4870264356739256,
          1.7305888865358148,
          2.372817064700227,
          2.19856651969668,
          3.6391207917634234,
          2.287364806376417,
          1.150914403339033,
          2.204991805836251,
          2.0829684412518246,
          0.40978685838037276,
          1.6203119143890734,
          2.4949515063415633,
          2.6972579488203863,
          0.17599568632851748,
          2.506848539729748,
          1.9114248802108778,
          2.1870446741923475,
          3.3308967845678485,
          2.5636138356507505,
          0.7490175812738653,
          1.3733359275227022,
          2.3871797715162058,
          1.5719643701111767,
          2.921457157615924,
          3.0925585607364017,
          1.4514636144924986,
          3.2394775659926074,
          3.1579597425318156,
          2.417748179350268,
          1.7041192189310421,
          2.025033862778361,
          1.7183602099602666,
          1.3793846805040957,
          1.323306688885209,
          1.1058488815313012,
          0.2502812049050904,
          1.8500131523924686,
          2.682742469925375,
          2.268509851680112,
          1.9265271653331753,
          2.8364308242197827,
          1.7956152891813326,
          0.9052286785884336,
          1.1291023228559884,
          3.225241405051153,
          2.245842749948661,
          1.4291041273236953,
          0.18617635510565922,
          2.7170897728520638,
          1.6935387268782387,
          2.1799750378577007,
          0.7934230904577297,
          1.79367463492129,
          0.43093319317799494,
          1.5830902276024714,
          1.5997831559871014,
          2.502362696750904,
          1.8345355752439998,
          2.040737048970878,
          2.9265450020420305,
          3.045462495757751,
          2.5237336127988947,
          3.068896200342376,
          0.907083538525794,
          2.4329953603043624,
          2.4863971117204415,
          1.6545411273076016,
          2.3374817031656914,
          3.756062703541987,
          3.734035933341622,
          3.368524584639541,
          3.0054667395372383,
          4.360530868975427,
          0.09991058427758448,
          2.1780132374312258,
          2.2048261665100752,
          2.0067348502550213,
          1.2483156830535895,
          2.7483852656357075,
          2.421829295845416,
          0.5261632948290611,
          1.8805257968538351,
          1.2758751231206473,
          1.2683577270616904,
          0.4704277485452566,
          1.1468797896133192,
          1.9252099674845433,
          1.0825646918101155,
          2.0342377215008316,
          1.044411498371399,
          2.981051093918265,
          2.7203127982103874,
          1.6930350859092225,
          1.7524764294137463,
          3.810839534298835,
          3.888583934384681,
          2.32003478979504,
          1.4067592160407862,
          1.171649832140024,
          2.0007207083426923,
          1.2286100073901574,
          2.2176690260298524,
          2.6837140873633594,
          0.9254090808326294,
          3.9341637170851387,
          2.6769030664023856,
          0.45710819146418324,
          2.6454712965840623,
          2.664518103299492,
          3.369971723490785,
          3.3393181886737366,
          2.2862049422598663,
          2.093984617415128,
          1.9148658443167133,
          0.3558026513546033,
          1.8430772528915946,
          1.3178306093131473,
          2.224227234197765,
          1.9567899236166735,
          2.579219854806172,
          2.3844235895028447,
          0.19732757264320488,
          2.918101625722113,
          3.820986179255341,
          2.096613563763318,
          3.126291204072852,
          2.566077822552188,
          1.0393951916909199,
          3.3265778052213806,
          0.5858630887496423,
          4.317495833520353,
          0.7626858577410018,
          0.01938297648156495,
          1.9212253571191145,
          2.6354373280758114,
          1.4114460182614321,
          1.630104417094486,
          0.6500358511846851,
          1.8825137700568784,
          0.8004636939582765,
          2.031103920139719,
          1.3071595313036741,
          1.9330983919741496,
          3.383868941308177,
          3.6639470810419095,
          0.816995619615847,
          1.8261431990309214,
          3.876522864700474,
          3.341866288789378,
          2.206765478251999,
          1.4561093438745243,
          2.0189448023474807,
          2.000852467422166,
          1.6178136405973467,
          2.907946065552088,
          2.927641711348095,
          3.1556149623167986,
          1.3022958403395815,
          1.1921823517736247,
          0.6443323669347929,
          3.424554047017213,
          3.300193204658897,
          0.3485889602287766,
          1.3516213046614212,
          2.0116952686122995,
          3.034616497621771,
          2.036923533510638,
          2.446289245060777,
          2.7395479873926494,
          3.2100791880568975,
          1.5308557992596081,
          0.7596806590898064,
          1.6761199383566912,
          1.560217305342488,
          3.9451173876363868,
          2.202985372831299,
          0.5146937017177178,
          2.218974306234027,
          1.9061533839337543,
          1.9727189157985043,
          2.2718000990346816,
          1.2291219483068854,
          3.8140553414365472
         ],
         "y0": " ",
         "yaxis": "y"
        },
        {
         "alignmentgroup": "True",
         "box": {
          "visible": false
         },
         "hovertemplate": "Label=t-Student<br>Data=%{y}<extra></extra>",
         "legendgroup": "t-Student",
         "marker": {
          "color": "purple"
         },
         "name": "t-Student",
         "offsetgroup": "t-Student",
         "orientation": "v",
         "scalegroup": "True",
         "showlegend": true,
         "type": "violin",
         "x0": " ",
         "xaxis": "x",
         "y": [
          -0.8202602283518821,
          -0.2536676920378718,
          1.1273278373839675,
          -1.5080841121493458,
          0.7395601047302559,
          -2.200172094966877,
          0.25732556869237583,
          2.090867523104584,
          0.1120484276034216,
          1.8885735589420085,
          1.1221723666206205,
          1.8098641277131906,
          -0.14107422112144472,
          -0.3053232949456606,
          -4.01955402122601,
          -2.056593107103181,
          2.354639243113555,
          0.20081689490068372,
          -0.6343667470766609,
          0.41427469298748415,
          -2.780507995203985,
          -3.650994399352335,
          -0.2061255462092677,
          1.934182846809448,
          -0.8535673393876995,
          0.8635524439890782,
          -0.2428235209418082,
          2.8031685031885196,
          2.206127426113256,
          -1.5151325135065419,
          -0.1856854903019791,
          -1.1518851541721618,
          -1.7414611670521039,
          1.59339480043395,
          -0.8708516868534092,
          0.5712684489947241,
          0.9667892795686669,
          0.8350656450943209,
          -1.5324624991676696,
          0.3624231652282159,
          0.5398738122383776,
          -2.923087011843296,
          3.778065068298901,
          -0.5547222676041462,
          -5.9154557271616905,
          -1.1577269161852792,
          -0.17103000776942323,
          -0.8944682020403967,
          -3.6441339315963575,
          0.5376530395959431,
          0.5394791057912992,
          -0.17656662380802235,
          0.39861912639974245,
          -1.8369947332127845,
          1.1892562001039917,
          -0.008209024047540212,
          -2.6614090352253026,
          -0.7452747224284282,
          1.3242660744280021,
          -0.34741571214641415,
          0.17702111033779225,
          -1.6746329850910702,
          -1.9427831293993971,
          -1.5935290785140368,
          0.8104668792077646,
          0.3079774154106903,
          -0.06831414452140416,
          0.5588178519305151,
          -1.6112501910076986,
          -1.572907133748086,
          1.8278599318124895,
          1.5416323520205069,
          0.1609694772537766,
          -1.9125100842437939,
          -0.3034973642396956,
          1.2147615952553634,
          1.0235102858660692,
          0.9929748872106674,
          -0.043592431939802306,
          -1.7579134179456597,
          -0.2608001327452418,
          -0.12314853130877261,
          0.8628390722197176,
          1.1914949270219128,
          2.4211258403847267,
          0.268158652301559,
          0.5098182113811517,
          0.17654500226712377,
          -1.8068141746041326,
          -2.525615186517515,
          0.8316776571638296,
          0.6922366837244394,
          -0.0017718442756774037,
          0.45746877363472727,
          -1.6193208756008481,
          -1.2781540557929127,
          2.5086816153973377,
          0.06929029064783965,
          0.4459171923018379,
          0.09956636025450367,
          0.17698061525767583,
          1.6433194103101423,
          0.36506969473013967,
          0.9789706934447545,
          0.8409320580861553,
          0.23798742517932497,
          0.39251629425331946,
          2.280236455034234,
          0.4494455009434147,
          0.0135492753002299,
          -1.3201878383849963,
          -2.2058515920313693,
          1.1416751207538982,
          -0.5358234482356349,
          0.8011614691360157,
          -0.7642766762804655,
          2.453185624263736,
          -0.9313834271449237,
          -0.9075932798209481,
          3.976758754000029,
          -0.6614462118293195,
          -0.44531398980862114,
          0.2899977423646932,
          0.8432448664881182,
          -1.139737592940509,
          -0.028382494187305603,
          0.6969166608468467,
          2.0512960446556545,
          -0.36819304624497423,
          -0.48864045564673037,
          1.3388046981962574,
          -0.23682375990818522,
          -3.268201700628686,
          0.1960200716592405,
          1.1060320606862981,
          2.2875757205792144,
          0.3487872330583768,
          -0.6982697968426259,
          -2.207465483861022,
          -0.27890875362040446,
          -1.022361741073151,
          0.65991408823662,
          0.23725425601596173,
          -0.871252163612778,
          -1.9336355932616751,
          -0.1592481025895306,
          -1.111441135097591,
          0.060762493959616505,
          0.49784434336522754,
          0.46355438640208496,
          1.3549600682466523,
          0.5348684533418335,
          -0.2753715582234346,
          -0.4134070510586952,
          -0.9718054971376677,
          -1.3766848170470691,
          -1.872488436014042,
          -1.0306180937828064,
          -0.5038130172161527,
          1.0978326110132286,
          -0.6977185745628673,
          2.70464917941898,
          2.8724491323731125,
          1.3178304759486033,
          -2.2541769892811754,
          0.19573605783557738,
          0.8853026585544038,
          0.18843007825132635,
          0.5766792059646048,
          -0.8301919738607527,
          -0.8227996405865016,
          1.1892837612755969,
          -0.5750112450684617,
          -0.1506306417249004,
          -1.7739741553353938,
          -1.1924550124852074,
          0.8361399214932671,
          -1.7389630159452942,
          1.0021542064415403,
          -0.12485476358519866,
          0.5163156177090849,
          0.5299502660513163,
          0.1251504144937157,
          -2.2652666288758487,
          1.1454618151280416,
          4.263188634030838,
          -0.8173701294370529,
          -1.235162699592076,
          1.3955296102459895,
          -2.385591357062242,
          -0.6229944074792424,
          -0.4987922927179429,
          0.8812595656129744,
          -0.22878429846276294,
          5.57098639235868,
          2.114860051362123,
          -0.08461002176798713,
          -0.019937003602400905,
          6.730318211573206,
          0.16898049220507297
         ],
         "y0": " ",
         "yaxis": "y"
        }
       ],
       "layout": {
        "height": 500,
        "legend": {
         "title": {
          "text": "Label"
         },
         "tracegroupgap": 0
        },
        "template": {
         "data": {
          "bar": [
           {
            "error_x": {
             "color": "#2a3f5f"
            },
            "error_y": {
             "color": "#2a3f5f"
            },
            "marker": {
             "line": {
              "color": "#E5ECF6",
              "width": 0.5
             },
             "pattern": {
              "fillmode": "overlay",
              "size": 10,
              "solidity": 0.2
             }
            },
            "type": "bar"
           }
          ],
          "barpolar": [
           {
            "marker": {
             "line": {
              "color": "#E5ECF6",
              "width": 0.5
             },
             "pattern": {
              "fillmode": "overlay",
              "size": 10,
              "solidity": 0.2
             }
            },
            "type": "barpolar"
           }
          ],
          "carpet": [
           {
            "aaxis": {
             "endlinecolor": "#2a3f5f",
             "gridcolor": "white",
             "linecolor": "white",
             "minorgridcolor": "white",
             "startlinecolor": "#2a3f5f"
            },
            "baxis": {
             "endlinecolor": "#2a3f5f",
             "gridcolor": "white",
             "linecolor": "white",
             "minorgridcolor": "white",
             "startlinecolor": "#2a3f5f"
            },
            "type": "carpet"
           }
          ],
          "choropleth": [
           {
            "colorbar": {
             "outlinewidth": 0,
             "ticks": ""
            },
            "type": "choropleth"
           }
          ],
          "contour": [
           {
            "colorbar": {
             "outlinewidth": 0,
             "ticks": ""
            },
            "colorscale": [
             [
              0,
              "#0d0887"
             ],
             [
              0.1111111111111111,
              "#46039f"
             ],
             [
              0.2222222222222222,
              "#7201a8"
             ],
             [
              0.3333333333333333,
              "#9c179e"
             ],
             [
              0.4444444444444444,
              "#bd3786"
             ],
             [
              0.5555555555555556,
              "#d8576b"
             ],
             [
              0.6666666666666666,
              "#ed7953"
             ],
             [
              0.7777777777777778,
              "#fb9f3a"
             ],
             [
              0.8888888888888888,
              "#fdca26"
             ],
             [
              1,
              "#f0f921"
             ]
            ],
            "type": "contour"
           }
          ],
          "contourcarpet": [
           {
            "colorbar": {
             "outlinewidth": 0,
             "ticks": ""
            },
            "type": "contourcarpet"
           }
          ],
          "heatmap": [
           {
            "colorbar": {
             "outlinewidth": 0,
             "ticks": ""
            },
            "colorscale": [
             [
              0,
              "#0d0887"
             ],
             [
              0.1111111111111111,
              "#46039f"
             ],
             [
              0.2222222222222222,
              "#7201a8"
             ],
             [
              0.3333333333333333,
              "#9c179e"
             ],
             [
              0.4444444444444444,
              "#bd3786"
             ],
             [
              0.5555555555555556,
              "#d8576b"
             ],
             [
              0.6666666666666666,
              "#ed7953"
             ],
             [
              0.7777777777777778,
              "#fb9f3a"
             ],
             [
              0.8888888888888888,
              "#fdca26"
             ],
             [
              1,
              "#f0f921"
             ]
            ],
            "type": "heatmap"
           }
          ],
          "heatmapgl": [
           {
            "colorbar": {
             "outlinewidth": 0,
             "ticks": ""
            },
            "colorscale": [
             [
              0,
              "#0d0887"
             ],
             [
              0.1111111111111111,
              "#46039f"
             ],
             [
              0.2222222222222222,
              "#7201a8"
             ],
             [
              0.3333333333333333,
              "#9c179e"
             ],
             [
              0.4444444444444444,
              "#bd3786"
             ],
             [
              0.5555555555555556,
              "#d8576b"
             ],
             [
              0.6666666666666666,
              "#ed7953"
             ],
             [
              0.7777777777777778,
              "#fb9f3a"
             ],
             [
              0.8888888888888888,
              "#fdca26"
             ],
             [
              1,
              "#f0f921"
             ]
            ],
            "type": "heatmapgl"
           }
          ],
          "histogram": [
           {
            "marker": {
             "pattern": {
              "fillmode": "overlay",
              "size": 10,
              "solidity": 0.2
             }
            },
            "type": "histogram"
           }
          ],
          "histogram2d": [
           {
            "colorbar": {
             "outlinewidth": 0,
             "ticks": ""
            },
            "colorscale": [
             [
              0,
              "#0d0887"
             ],
             [
              0.1111111111111111,
              "#46039f"
             ],
             [
              0.2222222222222222,
              "#7201a8"
             ],
             [
              0.3333333333333333,
              "#9c179e"
             ],
             [
              0.4444444444444444,
              "#bd3786"
             ],
             [
              0.5555555555555556,
              "#d8576b"
             ],
             [
              0.6666666666666666,
              "#ed7953"
             ],
             [
              0.7777777777777778,
              "#fb9f3a"
             ],
             [
              0.8888888888888888,
              "#fdca26"
             ],
             [
              1,
              "#f0f921"
             ]
            ],
            "type": "histogram2d"
           }
          ],
          "histogram2dcontour": [
           {
            "colorbar": {
             "outlinewidth": 0,
             "ticks": ""
            },
            "colorscale": [
             [
              0,
              "#0d0887"
             ],
             [
              0.1111111111111111,
              "#46039f"
             ],
             [
              0.2222222222222222,
              "#7201a8"
             ],
             [
              0.3333333333333333,
              "#9c179e"
             ],
             [
              0.4444444444444444,
              "#bd3786"
             ],
             [
              0.5555555555555556,
              "#d8576b"
             ],
             [
              0.6666666666666666,
              "#ed7953"
             ],
             [
              0.7777777777777778,
              "#fb9f3a"
             ],
             [
              0.8888888888888888,
              "#fdca26"
             ],
             [
              1,
              "#f0f921"
             ]
            ],
            "type": "histogram2dcontour"
           }
          ],
          "mesh3d": [
           {
            "colorbar": {
             "outlinewidth": 0,
             "ticks": ""
            },
            "type": "mesh3d"
           }
          ],
          "parcoords": [
           {
            "line": {
             "colorbar": {
              "outlinewidth": 0,
              "ticks": ""
             }
            },
            "type": "parcoords"
           }
          ],
          "pie": [
           {
            "automargin": true,
            "type": "pie"
           }
          ],
          "scatter": [
           {
            "fillpattern": {
             "fillmode": "overlay",
             "size": 10,
             "solidity": 0.2
            },
            "type": "scatter"
           }
          ],
          "scatter3d": [
           {
            "line": {
             "colorbar": {
              "outlinewidth": 0,
              "ticks": ""
             }
            },
            "marker": {
             "colorbar": {
              "outlinewidth": 0,
              "ticks": ""
             }
            },
            "type": "scatter3d"
           }
          ],
          "scattercarpet": [
           {
            "marker": {
             "colorbar": {
              "outlinewidth": 0,
              "ticks": ""
             }
            },
            "type": "scattercarpet"
           }
          ],
          "scattergeo": [
           {
            "marker": {
             "colorbar": {
              "outlinewidth": 0,
              "ticks": ""
             }
            },
            "type": "scattergeo"
           }
          ],
          "scattergl": [
           {
            "marker": {
             "colorbar": {
              "outlinewidth": 0,
              "ticks": ""
             }
            },
            "type": "scattergl"
           }
          ],
          "scattermapbox": [
           {
            "marker": {
             "colorbar": {
              "outlinewidth": 0,
              "ticks": ""
             }
            },
            "type": "scattermapbox"
           }
          ],
          "scatterpolar": [
           {
            "marker": {
             "colorbar": {
              "outlinewidth": 0,
              "ticks": ""
             }
            },
            "type": "scatterpolar"
           }
          ],
          "scatterpolargl": [
           {
            "marker": {
             "colorbar": {
              "outlinewidth": 0,
              "ticks": ""
             }
            },
            "type": "scatterpolargl"
           }
          ],
          "scatterternary": [
           {
            "marker": {
             "colorbar": {
              "outlinewidth": 0,
              "ticks": ""
             }
            },
            "type": "scatterternary"
           }
          ],
          "surface": [
           {
            "colorbar": {
             "outlinewidth": 0,
             "ticks": ""
            },
            "colorscale": [
             [
              0,
              "#0d0887"
             ],
             [
              0.1111111111111111,
              "#46039f"
             ],
             [
              0.2222222222222222,
              "#7201a8"
             ],
             [
              0.3333333333333333,
              "#9c179e"
             ],
             [
              0.4444444444444444,
              "#bd3786"
             ],
             [
              0.5555555555555556,
              "#d8576b"
             ],
             [
              0.6666666666666666,
              "#ed7953"
             ],
             [
              0.7777777777777778,
              "#fb9f3a"
             ],
             [
              0.8888888888888888,
              "#fdca26"
             ],
             [
              1,
              "#f0f921"
             ]
            ],
            "type": "surface"
           }
          ],
          "table": [
           {
            "cells": {
             "fill": {
              "color": "#EBF0F8"
             },
             "line": {
              "color": "white"
             }
            },
            "header": {
             "fill": {
              "color": "#C8D4E3"
             },
             "line": {
              "color": "white"
             }
            },
            "type": "table"
           }
          ]
         },
         "layout": {
          "annotationdefaults": {
           "arrowcolor": "#2a3f5f",
           "arrowhead": 0,
           "arrowwidth": 1
          },
          "autotypenumbers": "strict",
          "coloraxis": {
           "colorbar": {
            "outlinewidth": 0,
            "ticks": ""
           }
          },
          "colorscale": {
           "diverging": [
            [
             0,
             "#8e0152"
            ],
            [
             0.1,
             "#c51b7d"
            ],
            [
             0.2,
             "#de77ae"
            ],
            [
             0.3,
             "#f1b6da"
            ],
            [
             0.4,
             "#fde0ef"
            ],
            [
             0.5,
             "#f7f7f7"
            ],
            [
             0.6,
             "#e6f5d0"
            ],
            [
             0.7,
             "#b8e186"
            ],
            [
             0.8,
             "#7fbc41"
            ],
            [
             0.9,
             "#4d9221"
            ],
            [
             1,
             "#276419"
            ]
           ],
           "sequential": [
            [
             0,
             "#0d0887"
            ],
            [
             0.1111111111111111,
             "#46039f"
            ],
            [
             0.2222222222222222,
             "#7201a8"
            ],
            [
             0.3333333333333333,
             "#9c179e"
            ],
            [
             0.4444444444444444,
             "#bd3786"
            ],
            [
             0.5555555555555556,
             "#d8576b"
            ],
            [
             0.6666666666666666,
             "#ed7953"
            ],
            [
             0.7777777777777778,
             "#fb9f3a"
            ],
            [
             0.8888888888888888,
             "#fdca26"
            ],
            [
             1,
             "#f0f921"
            ]
           ],
           "sequentialminus": [
            [
             0,
             "#0d0887"
            ],
            [
             0.1111111111111111,
             "#46039f"
            ],
            [
             0.2222222222222222,
             "#7201a8"
            ],
            [
             0.3333333333333333,
             "#9c179e"
            ],
            [
             0.4444444444444444,
             "#bd3786"
            ],
            [
             0.5555555555555556,
             "#d8576b"
            ],
            [
             0.6666666666666666,
             "#ed7953"
            ],
            [
             0.7777777777777778,
             "#fb9f3a"
            ],
            [
             0.8888888888888888,
             "#fdca26"
            ],
            [
             1,
             "#f0f921"
            ]
           ]
          },
          "colorway": [
           "#636efa",
           "#EF553B",
           "#00cc96",
           "#ab63fa",
           "#FFA15A",
           "#19d3f3",
           "#FF6692",
           "#B6E880",
           "#FF97FF",
           "#FECB52"
          ],
          "font": {
           "color": "#2a3f5f"
          },
          "geo": {
           "bgcolor": "white",
           "lakecolor": "white",
           "landcolor": "#E5ECF6",
           "showlakes": true,
           "showland": true,
           "subunitcolor": "white"
          },
          "hoverlabel": {
           "align": "left"
          },
          "hovermode": "closest",
          "mapbox": {
           "style": "light"
          },
          "paper_bgcolor": "white",
          "plot_bgcolor": "#E5ECF6",
          "polar": {
           "angularaxis": {
            "gridcolor": "white",
            "linecolor": "white",
            "ticks": ""
           },
           "bgcolor": "#E5ECF6",
           "radialaxis": {
            "gridcolor": "white",
            "linecolor": "white",
            "ticks": ""
           }
          },
          "scene": {
           "xaxis": {
            "backgroundcolor": "#E5ECF6",
            "gridcolor": "white",
            "gridwidth": 2,
            "linecolor": "white",
            "showbackground": true,
            "ticks": "",
            "zerolinecolor": "white"
           },
           "yaxis": {
            "backgroundcolor": "#E5ECF6",
            "gridcolor": "white",
            "gridwidth": 2,
            "linecolor": "white",
            "showbackground": true,
            "ticks": "",
            "zerolinecolor": "white"
           },
           "zaxis": {
            "backgroundcolor": "#E5ECF6",
            "gridcolor": "white",
            "gridwidth": 2,
            "linecolor": "white",
            "showbackground": true,
            "ticks": "",
            "zerolinecolor": "white"
           }
          },
          "shapedefaults": {
           "line": {
            "color": "#2a3f5f"
           }
          },
          "ternary": {
           "aaxis": {
            "gridcolor": "white",
            "linecolor": "white",
            "ticks": ""
           },
           "baxis": {
            "gridcolor": "white",
            "linecolor": "white",
            "ticks": ""
           },
           "bgcolor": "#E5ECF6",
           "caxis": {
            "gridcolor": "white",
            "linecolor": "white",
            "ticks": ""
           }
          },
          "title": {
           "x": 0.05
          },
          "xaxis": {
           "automargin": true,
           "gridcolor": "white",
           "linecolor": "white",
           "ticks": "",
           "title": {
            "standoff": 15
           },
           "zerolinecolor": "white",
           "zerolinewidth": 2
          },
          "yaxis": {
           "automargin": true,
           "gridcolor": "white",
           "linecolor": "white",
           "ticks": "",
           "title": {
            "standoff": 15
           },
           "zerolinecolor": "white",
           "zerolinewidth": 2
          }
         }
        },
        "title": {
         "text": "Box Plots"
        },
        "violinmode": "group",
        "width": 800,
        "xaxis": {
         "anchor": "y",
         "domain": [
          0,
          1
         ]
        },
        "yaxis": {
         "anchor": "x",
         "domain": [
          0,
          1
         ],
         "title": {
          "text": "Data"
         }
        }
       }
      }
     },
     "metadata": {},
     "output_type": "display_data"
    }
   ],
   "source": [
    "fig = px.violin(df, y=\"Data\", \n",
    "                color=\"Label\",\n",
    "            #  notched=True,\n",
    "                color_discrete_sequence=['teal', 'purple'],\n",
    "                height = 500, width = 800,\n",
    "                title='Box Plots')\n",
    "fig.show()"
   ]
  },
  {
   "cell_type": "code",
   "execution_count": 20,
   "metadata": {},
   "outputs": [
    {
     "data": {
      "application/vnd.plotly.v1+json": {
       "config": {
        "plotlyServerURL": "https://plot.ly"
       },
       "data": [
        {
         "alignmentgroup": "True",
         "box": {
          "visible": true
         },
         "hovertemplate": "Label=Normal<br>Data=%{y}<extra></extra>",
         "legendgroup": "Normal",
         "marker": {
          "color": "teal"
         },
         "name": "Normal",
         "offsetgroup": "Normal",
         "orientation": "v",
         "scalegroup": "True",
         "showlegend": true,
         "type": "violin",
         "x0": " ",
         "xaxis": "x",
         "y": [
          3.010603808682812,
          1.3121544655425539,
          1.7802271424528466,
          2.7888574524879317,
          1.5263622107532897,
          2.3558592728821077,
          2.311555537732986,
          3.3839871907634373,
          2.2710187471241805,
          0.3303541797390208,
          2.6843813736829927,
          3.534933076063685,
          -0.03767373720186473,
          3.579119042476065,
          1.7510853434937637,
          1.8127076939814646,
          3.2284573697771197,
          2.4870264356739256,
          1.7305888865358148,
          2.372817064700227,
          2.19856651969668,
          3.6391207917634234,
          2.287364806376417,
          1.150914403339033,
          2.204991805836251,
          2.0829684412518246,
          0.40978685838037276,
          1.6203119143890734,
          2.4949515063415633,
          2.6972579488203863,
          0.17599568632851748,
          2.506848539729748,
          1.9114248802108778,
          2.1870446741923475,
          3.3308967845678485,
          2.5636138356507505,
          0.7490175812738653,
          1.3733359275227022,
          2.3871797715162058,
          1.5719643701111767,
          2.921457157615924,
          3.0925585607364017,
          1.4514636144924986,
          3.2394775659926074,
          3.1579597425318156,
          2.417748179350268,
          1.7041192189310421,
          2.025033862778361,
          1.7183602099602666,
          1.3793846805040957,
          1.323306688885209,
          1.1058488815313012,
          0.2502812049050904,
          1.8500131523924686,
          2.682742469925375,
          2.268509851680112,
          1.9265271653331753,
          2.8364308242197827,
          1.7956152891813326,
          0.9052286785884336,
          1.1291023228559884,
          3.225241405051153,
          2.245842749948661,
          1.4291041273236953,
          0.18617635510565922,
          2.7170897728520638,
          1.6935387268782387,
          2.1799750378577007,
          0.7934230904577297,
          1.79367463492129,
          0.43093319317799494,
          1.5830902276024714,
          1.5997831559871014,
          2.502362696750904,
          1.8345355752439998,
          2.040737048970878,
          2.9265450020420305,
          3.045462495757751,
          2.5237336127988947,
          3.068896200342376,
          0.907083538525794,
          2.4329953603043624,
          2.4863971117204415,
          1.6545411273076016,
          2.3374817031656914,
          3.756062703541987,
          3.734035933341622,
          3.368524584639541,
          3.0054667395372383,
          4.360530868975427,
          0.09991058427758448,
          2.1780132374312258,
          2.2048261665100752,
          2.0067348502550213,
          1.2483156830535895,
          2.7483852656357075,
          2.421829295845416,
          0.5261632948290611,
          1.8805257968538351,
          1.2758751231206473,
          1.2683577270616904,
          0.4704277485452566,
          1.1468797896133192,
          1.9252099674845433,
          1.0825646918101155,
          2.0342377215008316,
          1.044411498371399,
          2.981051093918265,
          2.7203127982103874,
          1.6930350859092225,
          1.7524764294137463,
          3.810839534298835,
          3.888583934384681,
          2.32003478979504,
          1.4067592160407862,
          1.171649832140024,
          2.0007207083426923,
          1.2286100073901574,
          2.2176690260298524,
          2.6837140873633594,
          0.9254090808326294,
          3.9341637170851387,
          2.6769030664023856,
          0.45710819146418324,
          2.6454712965840623,
          2.664518103299492,
          3.369971723490785,
          3.3393181886737366,
          2.2862049422598663,
          2.093984617415128,
          1.9148658443167133,
          0.3558026513546033,
          1.8430772528915946,
          1.3178306093131473,
          2.224227234197765,
          1.9567899236166735,
          2.579219854806172,
          2.3844235895028447,
          0.19732757264320488,
          2.918101625722113,
          3.820986179255341,
          2.096613563763318,
          3.126291204072852,
          2.566077822552188,
          1.0393951916909199,
          3.3265778052213806,
          0.5858630887496423,
          4.317495833520353,
          0.7626858577410018,
          0.01938297648156495,
          1.9212253571191145,
          2.6354373280758114,
          1.4114460182614321,
          1.630104417094486,
          0.6500358511846851,
          1.8825137700568784,
          0.8004636939582765,
          2.031103920139719,
          1.3071595313036741,
          1.9330983919741496,
          3.383868941308177,
          3.6639470810419095,
          0.816995619615847,
          1.8261431990309214,
          3.876522864700474,
          3.341866288789378,
          2.206765478251999,
          1.4561093438745243,
          2.0189448023474807,
          2.000852467422166,
          1.6178136405973467,
          2.907946065552088,
          2.927641711348095,
          3.1556149623167986,
          1.3022958403395815,
          1.1921823517736247,
          0.6443323669347929,
          3.424554047017213,
          3.300193204658897,
          0.3485889602287766,
          1.3516213046614212,
          2.0116952686122995,
          3.034616497621771,
          2.036923533510638,
          2.446289245060777,
          2.7395479873926494,
          3.2100791880568975,
          1.5308557992596081,
          0.7596806590898064,
          1.6761199383566912,
          1.560217305342488,
          3.9451173876363868,
          2.202985372831299,
          0.5146937017177178,
          2.218974306234027,
          1.9061533839337543,
          1.9727189157985043,
          2.2718000990346816,
          1.2291219483068854,
          3.8140553414365472
         ],
         "y0": " ",
         "yaxis": "y"
        },
        {
         "alignmentgroup": "True",
         "box": {
          "visible": true
         },
         "hovertemplate": "Label=t-Student<br>Data=%{y}<extra></extra>",
         "legendgroup": "t-Student",
         "marker": {
          "color": "purple"
         },
         "name": "t-Student",
         "offsetgroup": "t-Student",
         "orientation": "v",
         "scalegroup": "True",
         "showlegend": true,
         "type": "violin",
         "x0": " ",
         "xaxis": "x",
         "y": [
          -0.8202602283518821,
          -0.2536676920378718,
          1.1273278373839675,
          -1.5080841121493458,
          0.7395601047302559,
          -2.200172094966877,
          0.25732556869237583,
          2.090867523104584,
          0.1120484276034216,
          1.8885735589420085,
          1.1221723666206205,
          1.8098641277131906,
          -0.14107422112144472,
          -0.3053232949456606,
          -4.01955402122601,
          -2.056593107103181,
          2.354639243113555,
          0.20081689490068372,
          -0.6343667470766609,
          0.41427469298748415,
          -2.780507995203985,
          -3.650994399352335,
          -0.2061255462092677,
          1.934182846809448,
          -0.8535673393876995,
          0.8635524439890782,
          -0.2428235209418082,
          2.8031685031885196,
          2.206127426113256,
          -1.5151325135065419,
          -0.1856854903019791,
          -1.1518851541721618,
          -1.7414611670521039,
          1.59339480043395,
          -0.8708516868534092,
          0.5712684489947241,
          0.9667892795686669,
          0.8350656450943209,
          -1.5324624991676696,
          0.3624231652282159,
          0.5398738122383776,
          -2.923087011843296,
          3.778065068298901,
          -0.5547222676041462,
          -5.9154557271616905,
          -1.1577269161852792,
          -0.17103000776942323,
          -0.8944682020403967,
          -3.6441339315963575,
          0.5376530395959431,
          0.5394791057912992,
          -0.17656662380802235,
          0.39861912639974245,
          -1.8369947332127845,
          1.1892562001039917,
          -0.008209024047540212,
          -2.6614090352253026,
          -0.7452747224284282,
          1.3242660744280021,
          -0.34741571214641415,
          0.17702111033779225,
          -1.6746329850910702,
          -1.9427831293993971,
          -1.5935290785140368,
          0.8104668792077646,
          0.3079774154106903,
          -0.06831414452140416,
          0.5588178519305151,
          -1.6112501910076986,
          -1.572907133748086,
          1.8278599318124895,
          1.5416323520205069,
          0.1609694772537766,
          -1.9125100842437939,
          -0.3034973642396956,
          1.2147615952553634,
          1.0235102858660692,
          0.9929748872106674,
          -0.043592431939802306,
          -1.7579134179456597,
          -0.2608001327452418,
          -0.12314853130877261,
          0.8628390722197176,
          1.1914949270219128,
          2.4211258403847267,
          0.268158652301559,
          0.5098182113811517,
          0.17654500226712377,
          -1.8068141746041326,
          -2.525615186517515,
          0.8316776571638296,
          0.6922366837244394,
          -0.0017718442756774037,
          0.45746877363472727,
          -1.6193208756008481,
          -1.2781540557929127,
          2.5086816153973377,
          0.06929029064783965,
          0.4459171923018379,
          0.09956636025450367,
          0.17698061525767583,
          1.6433194103101423,
          0.36506969473013967,
          0.9789706934447545,
          0.8409320580861553,
          0.23798742517932497,
          0.39251629425331946,
          2.280236455034234,
          0.4494455009434147,
          0.0135492753002299,
          -1.3201878383849963,
          -2.2058515920313693,
          1.1416751207538982,
          -0.5358234482356349,
          0.8011614691360157,
          -0.7642766762804655,
          2.453185624263736,
          -0.9313834271449237,
          -0.9075932798209481,
          3.976758754000029,
          -0.6614462118293195,
          -0.44531398980862114,
          0.2899977423646932,
          0.8432448664881182,
          -1.139737592940509,
          -0.028382494187305603,
          0.6969166608468467,
          2.0512960446556545,
          -0.36819304624497423,
          -0.48864045564673037,
          1.3388046981962574,
          -0.23682375990818522,
          -3.268201700628686,
          0.1960200716592405,
          1.1060320606862981,
          2.2875757205792144,
          0.3487872330583768,
          -0.6982697968426259,
          -2.207465483861022,
          -0.27890875362040446,
          -1.022361741073151,
          0.65991408823662,
          0.23725425601596173,
          -0.871252163612778,
          -1.9336355932616751,
          -0.1592481025895306,
          -1.111441135097591,
          0.060762493959616505,
          0.49784434336522754,
          0.46355438640208496,
          1.3549600682466523,
          0.5348684533418335,
          -0.2753715582234346,
          -0.4134070510586952,
          -0.9718054971376677,
          -1.3766848170470691,
          -1.872488436014042,
          -1.0306180937828064,
          -0.5038130172161527,
          1.0978326110132286,
          -0.6977185745628673,
          2.70464917941898,
          2.8724491323731125,
          1.3178304759486033,
          -2.2541769892811754,
          0.19573605783557738,
          0.8853026585544038,
          0.18843007825132635,
          0.5766792059646048,
          -0.8301919738607527,
          -0.8227996405865016,
          1.1892837612755969,
          -0.5750112450684617,
          -0.1506306417249004,
          -1.7739741553353938,
          -1.1924550124852074,
          0.8361399214932671,
          -1.7389630159452942,
          1.0021542064415403,
          -0.12485476358519866,
          0.5163156177090849,
          0.5299502660513163,
          0.1251504144937157,
          -2.2652666288758487,
          1.1454618151280416,
          4.263188634030838,
          -0.8173701294370529,
          -1.235162699592076,
          1.3955296102459895,
          -2.385591357062242,
          -0.6229944074792424,
          -0.4987922927179429,
          0.8812595656129744,
          -0.22878429846276294,
          5.57098639235868,
          2.114860051362123,
          -0.08461002176798713,
          -0.019937003602400905,
          6.730318211573206,
          0.16898049220507297
         ],
         "y0": " ",
         "yaxis": "y"
        }
       ],
       "layout": {
        "height": 500,
        "legend": {
         "title": {
          "text": "Label"
         },
         "tracegroupgap": 0
        },
        "template": {
         "data": {
          "bar": [
           {
            "error_x": {
             "color": "#2a3f5f"
            },
            "error_y": {
             "color": "#2a3f5f"
            },
            "marker": {
             "line": {
              "color": "#E5ECF6",
              "width": 0.5
             },
             "pattern": {
              "fillmode": "overlay",
              "size": 10,
              "solidity": 0.2
             }
            },
            "type": "bar"
           }
          ],
          "barpolar": [
           {
            "marker": {
             "line": {
              "color": "#E5ECF6",
              "width": 0.5
             },
             "pattern": {
              "fillmode": "overlay",
              "size": 10,
              "solidity": 0.2
             }
            },
            "type": "barpolar"
           }
          ],
          "carpet": [
           {
            "aaxis": {
             "endlinecolor": "#2a3f5f",
             "gridcolor": "white",
             "linecolor": "white",
             "minorgridcolor": "white",
             "startlinecolor": "#2a3f5f"
            },
            "baxis": {
             "endlinecolor": "#2a3f5f",
             "gridcolor": "white",
             "linecolor": "white",
             "minorgridcolor": "white",
             "startlinecolor": "#2a3f5f"
            },
            "type": "carpet"
           }
          ],
          "choropleth": [
           {
            "colorbar": {
             "outlinewidth": 0,
             "ticks": ""
            },
            "type": "choropleth"
           }
          ],
          "contour": [
           {
            "colorbar": {
             "outlinewidth": 0,
             "ticks": ""
            },
            "colorscale": [
             [
              0,
              "#0d0887"
             ],
             [
              0.1111111111111111,
              "#46039f"
             ],
             [
              0.2222222222222222,
              "#7201a8"
             ],
             [
              0.3333333333333333,
              "#9c179e"
             ],
             [
              0.4444444444444444,
              "#bd3786"
             ],
             [
              0.5555555555555556,
              "#d8576b"
             ],
             [
              0.6666666666666666,
              "#ed7953"
             ],
             [
              0.7777777777777778,
              "#fb9f3a"
             ],
             [
              0.8888888888888888,
              "#fdca26"
             ],
             [
              1,
              "#f0f921"
             ]
            ],
            "type": "contour"
           }
          ],
          "contourcarpet": [
           {
            "colorbar": {
             "outlinewidth": 0,
             "ticks": ""
            },
            "type": "contourcarpet"
           }
          ],
          "heatmap": [
           {
            "colorbar": {
             "outlinewidth": 0,
             "ticks": ""
            },
            "colorscale": [
             [
              0,
              "#0d0887"
             ],
             [
              0.1111111111111111,
              "#46039f"
             ],
             [
              0.2222222222222222,
              "#7201a8"
             ],
             [
              0.3333333333333333,
              "#9c179e"
             ],
             [
              0.4444444444444444,
              "#bd3786"
             ],
             [
              0.5555555555555556,
              "#d8576b"
             ],
             [
              0.6666666666666666,
              "#ed7953"
             ],
             [
              0.7777777777777778,
              "#fb9f3a"
             ],
             [
              0.8888888888888888,
              "#fdca26"
             ],
             [
              1,
              "#f0f921"
             ]
            ],
            "type": "heatmap"
           }
          ],
          "heatmapgl": [
           {
            "colorbar": {
             "outlinewidth": 0,
             "ticks": ""
            },
            "colorscale": [
             [
              0,
              "#0d0887"
             ],
             [
              0.1111111111111111,
              "#46039f"
             ],
             [
              0.2222222222222222,
              "#7201a8"
             ],
             [
              0.3333333333333333,
              "#9c179e"
             ],
             [
              0.4444444444444444,
              "#bd3786"
             ],
             [
              0.5555555555555556,
              "#d8576b"
             ],
             [
              0.6666666666666666,
              "#ed7953"
             ],
             [
              0.7777777777777778,
              "#fb9f3a"
             ],
             [
              0.8888888888888888,
              "#fdca26"
             ],
             [
              1,
              "#f0f921"
             ]
            ],
            "type": "heatmapgl"
           }
          ],
          "histogram": [
           {
            "marker": {
             "pattern": {
              "fillmode": "overlay",
              "size": 10,
              "solidity": 0.2
             }
            },
            "type": "histogram"
           }
          ],
          "histogram2d": [
           {
            "colorbar": {
             "outlinewidth": 0,
             "ticks": ""
            },
            "colorscale": [
             [
              0,
              "#0d0887"
             ],
             [
              0.1111111111111111,
              "#46039f"
             ],
             [
              0.2222222222222222,
              "#7201a8"
             ],
             [
              0.3333333333333333,
              "#9c179e"
             ],
             [
              0.4444444444444444,
              "#bd3786"
             ],
             [
              0.5555555555555556,
              "#d8576b"
             ],
             [
              0.6666666666666666,
              "#ed7953"
             ],
             [
              0.7777777777777778,
              "#fb9f3a"
             ],
             [
              0.8888888888888888,
              "#fdca26"
             ],
             [
              1,
              "#f0f921"
             ]
            ],
            "type": "histogram2d"
           }
          ],
          "histogram2dcontour": [
           {
            "colorbar": {
             "outlinewidth": 0,
             "ticks": ""
            },
            "colorscale": [
             [
              0,
              "#0d0887"
             ],
             [
              0.1111111111111111,
              "#46039f"
             ],
             [
              0.2222222222222222,
              "#7201a8"
             ],
             [
              0.3333333333333333,
              "#9c179e"
             ],
             [
              0.4444444444444444,
              "#bd3786"
             ],
             [
              0.5555555555555556,
              "#d8576b"
             ],
             [
              0.6666666666666666,
              "#ed7953"
             ],
             [
              0.7777777777777778,
              "#fb9f3a"
             ],
             [
              0.8888888888888888,
              "#fdca26"
             ],
             [
              1,
              "#f0f921"
             ]
            ],
            "type": "histogram2dcontour"
           }
          ],
          "mesh3d": [
           {
            "colorbar": {
             "outlinewidth": 0,
             "ticks": ""
            },
            "type": "mesh3d"
           }
          ],
          "parcoords": [
           {
            "line": {
             "colorbar": {
              "outlinewidth": 0,
              "ticks": ""
             }
            },
            "type": "parcoords"
           }
          ],
          "pie": [
           {
            "automargin": true,
            "type": "pie"
           }
          ],
          "scatter": [
           {
            "fillpattern": {
             "fillmode": "overlay",
             "size": 10,
             "solidity": 0.2
            },
            "type": "scatter"
           }
          ],
          "scatter3d": [
           {
            "line": {
             "colorbar": {
              "outlinewidth": 0,
              "ticks": ""
             }
            },
            "marker": {
             "colorbar": {
              "outlinewidth": 0,
              "ticks": ""
             }
            },
            "type": "scatter3d"
           }
          ],
          "scattercarpet": [
           {
            "marker": {
             "colorbar": {
              "outlinewidth": 0,
              "ticks": ""
             }
            },
            "type": "scattercarpet"
           }
          ],
          "scattergeo": [
           {
            "marker": {
             "colorbar": {
              "outlinewidth": 0,
              "ticks": ""
             }
            },
            "type": "scattergeo"
           }
          ],
          "scattergl": [
           {
            "marker": {
             "colorbar": {
              "outlinewidth": 0,
              "ticks": ""
             }
            },
            "type": "scattergl"
           }
          ],
          "scattermapbox": [
           {
            "marker": {
             "colorbar": {
              "outlinewidth": 0,
              "ticks": ""
             }
            },
            "type": "scattermapbox"
           }
          ],
          "scatterpolar": [
           {
            "marker": {
             "colorbar": {
              "outlinewidth": 0,
              "ticks": ""
             }
            },
            "type": "scatterpolar"
           }
          ],
          "scatterpolargl": [
           {
            "marker": {
             "colorbar": {
              "outlinewidth": 0,
              "ticks": ""
             }
            },
            "type": "scatterpolargl"
           }
          ],
          "scatterternary": [
           {
            "marker": {
             "colorbar": {
              "outlinewidth": 0,
              "ticks": ""
             }
            },
            "type": "scatterternary"
           }
          ],
          "surface": [
           {
            "colorbar": {
             "outlinewidth": 0,
             "ticks": ""
            },
            "colorscale": [
             [
              0,
              "#0d0887"
             ],
             [
              0.1111111111111111,
              "#46039f"
             ],
             [
              0.2222222222222222,
              "#7201a8"
             ],
             [
              0.3333333333333333,
              "#9c179e"
             ],
             [
              0.4444444444444444,
              "#bd3786"
             ],
             [
              0.5555555555555556,
              "#d8576b"
             ],
             [
              0.6666666666666666,
              "#ed7953"
             ],
             [
              0.7777777777777778,
              "#fb9f3a"
             ],
             [
              0.8888888888888888,
              "#fdca26"
             ],
             [
              1,
              "#f0f921"
             ]
            ],
            "type": "surface"
           }
          ],
          "table": [
           {
            "cells": {
             "fill": {
              "color": "#EBF0F8"
             },
             "line": {
              "color": "white"
             }
            },
            "header": {
             "fill": {
              "color": "#C8D4E3"
             },
             "line": {
              "color": "white"
             }
            },
            "type": "table"
           }
          ]
         },
         "layout": {
          "annotationdefaults": {
           "arrowcolor": "#2a3f5f",
           "arrowhead": 0,
           "arrowwidth": 1
          },
          "autotypenumbers": "strict",
          "coloraxis": {
           "colorbar": {
            "outlinewidth": 0,
            "ticks": ""
           }
          },
          "colorscale": {
           "diverging": [
            [
             0,
             "#8e0152"
            ],
            [
             0.1,
             "#c51b7d"
            ],
            [
             0.2,
             "#de77ae"
            ],
            [
             0.3,
             "#f1b6da"
            ],
            [
             0.4,
             "#fde0ef"
            ],
            [
             0.5,
             "#f7f7f7"
            ],
            [
             0.6,
             "#e6f5d0"
            ],
            [
             0.7,
             "#b8e186"
            ],
            [
             0.8,
             "#7fbc41"
            ],
            [
             0.9,
             "#4d9221"
            ],
            [
             1,
             "#276419"
            ]
           ],
           "sequential": [
            [
             0,
             "#0d0887"
            ],
            [
             0.1111111111111111,
             "#46039f"
            ],
            [
             0.2222222222222222,
             "#7201a8"
            ],
            [
             0.3333333333333333,
             "#9c179e"
            ],
            [
             0.4444444444444444,
             "#bd3786"
            ],
            [
             0.5555555555555556,
             "#d8576b"
            ],
            [
             0.6666666666666666,
             "#ed7953"
            ],
            [
             0.7777777777777778,
             "#fb9f3a"
            ],
            [
             0.8888888888888888,
             "#fdca26"
            ],
            [
             1,
             "#f0f921"
            ]
           ],
           "sequentialminus": [
            [
             0,
             "#0d0887"
            ],
            [
             0.1111111111111111,
             "#46039f"
            ],
            [
             0.2222222222222222,
             "#7201a8"
            ],
            [
             0.3333333333333333,
             "#9c179e"
            ],
            [
             0.4444444444444444,
             "#bd3786"
            ],
            [
             0.5555555555555556,
             "#d8576b"
            ],
            [
             0.6666666666666666,
             "#ed7953"
            ],
            [
             0.7777777777777778,
             "#fb9f3a"
            ],
            [
             0.8888888888888888,
             "#fdca26"
            ],
            [
             1,
             "#f0f921"
            ]
           ]
          },
          "colorway": [
           "#636efa",
           "#EF553B",
           "#00cc96",
           "#ab63fa",
           "#FFA15A",
           "#19d3f3",
           "#FF6692",
           "#B6E880",
           "#FF97FF",
           "#FECB52"
          ],
          "font": {
           "color": "#2a3f5f"
          },
          "geo": {
           "bgcolor": "white",
           "lakecolor": "white",
           "landcolor": "#E5ECF6",
           "showlakes": true,
           "showland": true,
           "subunitcolor": "white"
          },
          "hoverlabel": {
           "align": "left"
          },
          "hovermode": "closest",
          "mapbox": {
           "style": "light"
          },
          "paper_bgcolor": "white",
          "plot_bgcolor": "#E5ECF6",
          "polar": {
           "angularaxis": {
            "gridcolor": "white",
            "linecolor": "white",
            "ticks": ""
           },
           "bgcolor": "#E5ECF6",
           "radialaxis": {
            "gridcolor": "white",
            "linecolor": "white",
            "ticks": ""
           }
          },
          "scene": {
           "xaxis": {
            "backgroundcolor": "#E5ECF6",
            "gridcolor": "white",
            "gridwidth": 2,
            "linecolor": "white",
            "showbackground": true,
            "ticks": "",
            "zerolinecolor": "white"
           },
           "yaxis": {
            "backgroundcolor": "#E5ECF6",
            "gridcolor": "white",
            "gridwidth": 2,
            "linecolor": "white",
            "showbackground": true,
            "ticks": "",
            "zerolinecolor": "white"
           },
           "zaxis": {
            "backgroundcolor": "#E5ECF6",
            "gridcolor": "white",
            "gridwidth": 2,
            "linecolor": "white",
            "showbackground": true,
            "ticks": "",
            "zerolinecolor": "white"
           }
          },
          "shapedefaults": {
           "line": {
            "color": "#2a3f5f"
           }
          },
          "ternary": {
           "aaxis": {
            "gridcolor": "white",
            "linecolor": "white",
            "ticks": ""
           },
           "baxis": {
            "gridcolor": "white",
            "linecolor": "white",
            "ticks": ""
           },
           "bgcolor": "#E5ECF6",
           "caxis": {
            "gridcolor": "white",
            "linecolor": "white",
            "ticks": ""
           }
          },
          "title": {
           "x": 0.05
          },
          "xaxis": {
           "automargin": true,
           "gridcolor": "white",
           "linecolor": "white",
           "ticks": "",
           "title": {
            "standoff": 15
           },
           "zerolinecolor": "white",
           "zerolinewidth": 2
          },
          "yaxis": {
           "automargin": true,
           "gridcolor": "white",
           "linecolor": "white",
           "ticks": "",
           "title": {
            "standoff": 15
           },
           "zerolinecolor": "white",
           "zerolinewidth": 2
          }
         }
        },
        "title": {
         "text": "Box Plots"
        },
        "violinmode": "group",
        "width": 800,
        "xaxis": {
         "anchor": "y",
         "domain": [
          0,
          1
         ]
        },
        "yaxis": {
         "anchor": "x",
         "domain": [
          0,
          1
         ],
         "title": {
          "text": "Data"
         }
        }
       }
      }
     },
     "metadata": {},
     "output_type": "display_data"
    }
   ],
   "source": [
    "fig = px.violin(df, y=\"Data\", \n",
    "                color=\"Label\",\n",
    "                box= True,\n",
    "                color_discrete_sequence=['teal', 'purple'],\n",
    "                height = 500, width = 800,\n",
    "                title='Box Plots')\n",
    "fig.show()"
   ]
  },
  {
   "cell_type": "code",
   "execution_count": 21,
   "metadata": {},
   "outputs": [
    {
     "data": {
      "application/vnd.plotly.v1+json": {
       "config": {
        "plotlyServerURL": "https://plot.ly"
       },
       "data": [
        {
         "alignmentgroup": "True",
         "box": {
          "visible": true
         },
         "hovertemplate": "Label=Normal<br>Data=%{y}<extra></extra>",
         "legendgroup": "Normal",
         "marker": {
          "color": "teal"
         },
         "name": "Normal",
         "offsetgroup": "Normal",
         "orientation": "v",
         "points": "all",
         "scalegroup": "True",
         "showlegend": true,
         "type": "violin",
         "x0": " ",
         "xaxis": "x",
         "y": [
          3.010603808682812,
          1.3121544655425539,
          1.7802271424528466,
          2.7888574524879317,
          1.5263622107532897,
          2.3558592728821077,
          2.311555537732986,
          3.3839871907634373,
          2.2710187471241805,
          0.3303541797390208,
          2.6843813736829927,
          3.534933076063685,
          -0.03767373720186473,
          3.579119042476065,
          1.7510853434937637,
          1.8127076939814646,
          3.2284573697771197,
          2.4870264356739256,
          1.7305888865358148,
          2.372817064700227,
          2.19856651969668,
          3.6391207917634234,
          2.287364806376417,
          1.150914403339033,
          2.204991805836251,
          2.0829684412518246,
          0.40978685838037276,
          1.6203119143890734,
          2.4949515063415633,
          2.6972579488203863,
          0.17599568632851748,
          2.506848539729748,
          1.9114248802108778,
          2.1870446741923475,
          3.3308967845678485,
          2.5636138356507505,
          0.7490175812738653,
          1.3733359275227022,
          2.3871797715162058,
          1.5719643701111767,
          2.921457157615924,
          3.0925585607364017,
          1.4514636144924986,
          3.2394775659926074,
          3.1579597425318156,
          2.417748179350268,
          1.7041192189310421,
          2.025033862778361,
          1.7183602099602666,
          1.3793846805040957,
          1.323306688885209,
          1.1058488815313012,
          0.2502812049050904,
          1.8500131523924686,
          2.682742469925375,
          2.268509851680112,
          1.9265271653331753,
          2.8364308242197827,
          1.7956152891813326,
          0.9052286785884336,
          1.1291023228559884,
          3.225241405051153,
          2.245842749948661,
          1.4291041273236953,
          0.18617635510565922,
          2.7170897728520638,
          1.6935387268782387,
          2.1799750378577007,
          0.7934230904577297,
          1.79367463492129,
          0.43093319317799494,
          1.5830902276024714,
          1.5997831559871014,
          2.502362696750904,
          1.8345355752439998,
          2.040737048970878,
          2.9265450020420305,
          3.045462495757751,
          2.5237336127988947,
          3.068896200342376,
          0.907083538525794,
          2.4329953603043624,
          2.4863971117204415,
          1.6545411273076016,
          2.3374817031656914,
          3.756062703541987,
          3.734035933341622,
          3.368524584639541,
          3.0054667395372383,
          4.360530868975427,
          0.09991058427758448,
          2.1780132374312258,
          2.2048261665100752,
          2.0067348502550213,
          1.2483156830535895,
          2.7483852656357075,
          2.421829295845416,
          0.5261632948290611,
          1.8805257968538351,
          1.2758751231206473,
          1.2683577270616904,
          0.4704277485452566,
          1.1468797896133192,
          1.9252099674845433,
          1.0825646918101155,
          2.0342377215008316,
          1.044411498371399,
          2.981051093918265,
          2.7203127982103874,
          1.6930350859092225,
          1.7524764294137463,
          3.810839534298835,
          3.888583934384681,
          2.32003478979504,
          1.4067592160407862,
          1.171649832140024,
          2.0007207083426923,
          1.2286100073901574,
          2.2176690260298524,
          2.6837140873633594,
          0.9254090808326294,
          3.9341637170851387,
          2.6769030664023856,
          0.45710819146418324,
          2.6454712965840623,
          2.664518103299492,
          3.369971723490785,
          3.3393181886737366,
          2.2862049422598663,
          2.093984617415128,
          1.9148658443167133,
          0.3558026513546033,
          1.8430772528915946,
          1.3178306093131473,
          2.224227234197765,
          1.9567899236166735,
          2.579219854806172,
          2.3844235895028447,
          0.19732757264320488,
          2.918101625722113,
          3.820986179255341,
          2.096613563763318,
          3.126291204072852,
          2.566077822552188,
          1.0393951916909199,
          3.3265778052213806,
          0.5858630887496423,
          4.317495833520353,
          0.7626858577410018,
          0.01938297648156495,
          1.9212253571191145,
          2.6354373280758114,
          1.4114460182614321,
          1.630104417094486,
          0.6500358511846851,
          1.8825137700568784,
          0.8004636939582765,
          2.031103920139719,
          1.3071595313036741,
          1.9330983919741496,
          3.383868941308177,
          3.6639470810419095,
          0.816995619615847,
          1.8261431990309214,
          3.876522864700474,
          3.341866288789378,
          2.206765478251999,
          1.4561093438745243,
          2.0189448023474807,
          2.000852467422166,
          1.6178136405973467,
          2.907946065552088,
          2.927641711348095,
          3.1556149623167986,
          1.3022958403395815,
          1.1921823517736247,
          0.6443323669347929,
          3.424554047017213,
          3.300193204658897,
          0.3485889602287766,
          1.3516213046614212,
          2.0116952686122995,
          3.034616497621771,
          2.036923533510638,
          2.446289245060777,
          2.7395479873926494,
          3.2100791880568975,
          1.5308557992596081,
          0.7596806590898064,
          1.6761199383566912,
          1.560217305342488,
          3.9451173876363868,
          2.202985372831299,
          0.5146937017177178,
          2.218974306234027,
          1.9061533839337543,
          1.9727189157985043,
          2.2718000990346816,
          1.2291219483068854,
          3.8140553414365472
         ],
         "y0": " ",
         "yaxis": "y"
        },
        {
         "alignmentgroup": "True",
         "box": {
          "visible": true
         },
         "hovertemplate": "Label=t-Student<br>Data=%{y}<extra></extra>",
         "legendgroup": "t-Student",
         "marker": {
          "color": "purple"
         },
         "name": "t-Student",
         "offsetgroup": "t-Student",
         "orientation": "v",
         "points": "all",
         "scalegroup": "True",
         "showlegend": true,
         "type": "violin",
         "x0": " ",
         "xaxis": "x",
         "y": [
          -0.8202602283518821,
          -0.2536676920378718,
          1.1273278373839675,
          -1.5080841121493458,
          0.7395601047302559,
          -2.200172094966877,
          0.25732556869237583,
          2.090867523104584,
          0.1120484276034216,
          1.8885735589420085,
          1.1221723666206205,
          1.8098641277131906,
          -0.14107422112144472,
          -0.3053232949456606,
          -4.01955402122601,
          -2.056593107103181,
          2.354639243113555,
          0.20081689490068372,
          -0.6343667470766609,
          0.41427469298748415,
          -2.780507995203985,
          -3.650994399352335,
          -0.2061255462092677,
          1.934182846809448,
          -0.8535673393876995,
          0.8635524439890782,
          -0.2428235209418082,
          2.8031685031885196,
          2.206127426113256,
          -1.5151325135065419,
          -0.1856854903019791,
          -1.1518851541721618,
          -1.7414611670521039,
          1.59339480043395,
          -0.8708516868534092,
          0.5712684489947241,
          0.9667892795686669,
          0.8350656450943209,
          -1.5324624991676696,
          0.3624231652282159,
          0.5398738122383776,
          -2.923087011843296,
          3.778065068298901,
          -0.5547222676041462,
          -5.9154557271616905,
          -1.1577269161852792,
          -0.17103000776942323,
          -0.8944682020403967,
          -3.6441339315963575,
          0.5376530395959431,
          0.5394791057912992,
          -0.17656662380802235,
          0.39861912639974245,
          -1.8369947332127845,
          1.1892562001039917,
          -0.008209024047540212,
          -2.6614090352253026,
          -0.7452747224284282,
          1.3242660744280021,
          -0.34741571214641415,
          0.17702111033779225,
          -1.6746329850910702,
          -1.9427831293993971,
          -1.5935290785140368,
          0.8104668792077646,
          0.3079774154106903,
          -0.06831414452140416,
          0.5588178519305151,
          -1.6112501910076986,
          -1.572907133748086,
          1.8278599318124895,
          1.5416323520205069,
          0.1609694772537766,
          -1.9125100842437939,
          -0.3034973642396956,
          1.2147615952553634,
          1.0235102858660692,
          0.9929748872106674,
          -0.043592431939802306,
          -1.7579134179456597,
          -0.2608001327452418,
          -0.12314853130877261,
          0.8628390722197176,
          1.1914949270219128,
          2.4211258403847267,
          0.268158652301559,
          0.5098182113811517,
          0.17654500226712377,
          -1.8068141746041326,
          -2.525615186517515,
          0.8316776571638296,
          0.6922366837244394,
          -0.0017718442756774037,
          0.45746877363472727,
          -1.6193208756008481,
          -1.2781540557929127,
          2.5086816153973377,
          0.06929029064783965,
          0.4459171923018379,
          0.09956636025450367,
          0.17698061525767583,
          1.6433194103101423,
          0.36506969473013967,
          0.9789706934447545,
          0.8409320580861553,
          0.23798742517932497,
          0.39251629425331946,
          2.280236455034234,
          0.4494455009434147,
          0.0135492753002299,
          -1.3201878383849963,
          -2.2058515920313693,
          1.1416751207538982,
          -0.5358234482356349,
          0.8011614691360157,
          -0.7642766762804655,
          2.453185624263736,
          -0.9313834271449237,
          -0.9075932798209481,
          3.976758754000029,
          -0.6614462118293195,
          -0.44531398980862114,
          0.2899977423646932,
          0.8432448664881182,
          -1.139737592940509,
          -0.028382494187305603,
          0.6969166608468467,
          2.0512960446556545,
          -0.36819304624497423,
          -0.48864045564673037,
          1.3388046981962574,
          -0.23682375990818522,
          -3.268201700628686,
          0.1960200716592405,
          1.1060320606862981,
          2.2875757205792144,
          0.3487872330583768,
          -0.6982697968426259,
          -2.207465483861022,
          -0.27890875362040446,
          -1.022361741073151,
          0.65991408823662,
          0.23725425601596173,
          -0.871252163612778,
          -1.9336355932616751,
          -0.1592481025895306,
          -1.111441135097591,
          0.060762493959616505,
          0.49784434336522754,
          0.46355438640208496,
          1.3549600682466523,
          0.5348684533418335,
          -0.2753715582234346,
          -0.4134070510586952,
          -0.9718054971376677,
          -1.3766848170470691,
          -1.872488436014042,
          -1.0306180937828064,
          -0.5038130172161527,
          1.0978326110132286,
          -0.6977185745628673,
          2.70464917941898,
          2.8724491323731125,
          1.3178304759486033,
          -2.2541769892811754,
          0.19573605783557738,
          0.8853026585544038,
          0.18843007825132635,
          0.5766792059646048,
          -0.8301919738607527,
          -0.8227996405865016,
          1.1892837612755969,
          -0.5750112450684617,
          -0.1506306417249004,
          -1.7739741553353938,
          -1.1924550124852074,
          0.8361399214932671,
          -1.7389630159452942,
          1.0021542064415403,
          -0.12485476358519866,
          0.5163156177090849,
          0.5299502660513163,
          0.1251504144937157,
          -2.2652666288758487,
          1.1454618151280416,
          4.263188634030838,
          -0.8173701294370529,
          -1.235162699592076,
          1.3955296102459895,
          -2.385591357062242,
          -0.6229944074792424,
          -0.4987922927179429,
          0.8812595656129744,
          -0.22878429846276294,
          5.57098639235868,
          2.114860051362123,
          -0.08461002176798713,
          -0.019937003602400905,
          6.730318211573206,
          0.16898049220507297
         ],
         "y0": " ",
         "yaxis": "y"
        }
       ],
       "layout": {
        "height": 500,
        "legend": {
         "title": {
          "text": "Label"
         },
         "tracegroupgap": 0
        },
        "template": {
         "data": {
          "bar": [
           {
            "error_x": {
             "color": "#2a3f5f"
            },
            "error_y": {
             "color": "#2a3f5f"
            },
            "marker": {
             "line": {
              "color": "#E5ECF6",
              "width": 0.5
             },
             "pattern": {
              "fillmode": "overlay",
              "size": 10,
              "solidity": 0.2
             }
            },
            "type": "bar"
           }
          ],
          "barpolar": [
           {
            "marker": {
             "line": {
              "color": "#E5ECF6",
              "width": 0.5
             },
             "pattern": {
              "fillmode": "overlay",
              "size": 10,
              "solidity": 0.2
             }
            },
            "type": "barpolar"
           }
          ],
          "carpet": [
           {
            "aaxis": {
             "endlinecolor": "#2a3f5f",
             "gridcolor": "white",
             "linecolor": "white",
             "minorgridcolor": "white",
             "startlinecolor": "#2a3f5f"
            },
            "baxis": {
             "endlinecolor": "#2a3f5f",
             "gridcolor": "white",
             "linecolor": "white",
             "minorgridcolor": "white",
             "startlinecolor": "#2a3f5f"
            },
            "type": "carpet"
           }
          ],
          "choropleth": [
           {
            "colorbar": {
             "outlinewidth": 0,
             "ticks": ""
            },
            "type": "choropleth"
           }
          ],
          "contour": [
           {
            "colorbar": {
             "outlinewidth": 0,
             "ticks": ""
            },
            "colorscale": [
             [
              0,
              "#0d0887"
             ],
             [
              0.1111111111111111,
              "#46039f"
             ],
             [
              0.2222222222222222,
              "#7201a8"
             ],
             [
              0.3333333333333333,
              "#9c179e"
             ],
             [
              0.4444444444444444,
              "#bd3786"
             ],
             [
              0.5555555555555556,
              "#d8576b"
             ],
             [
              0.6666666666666666,
              "#ed7953"
             ],
             [
              0.7777777777777778,
              "#fb9f3a"
             ],
             [
              0.8888888888888888,
              "#fdca26"
             ],
             [
              1,
              "#f0f921"
             ]
            ],
            "type": "contour"
           }
          ],
          "contourcarpet": [
           {
            "colorbar": {
             "outlinewidth": 0,
             "ticks": ""
            },
            "type": "contourcarpet"
           }
          ],
          "heatmap": [
           {
            "colorbar": {
             "outlinewidth": 0,
             "ticks": ""
            },
            "colorscale": [
             [
              0,
              "#0d0887"
             ],
             [
              0.1111111111111111,
              "#46039f"
             ],
             [
              0.2222222222222222,
              "#7201a8"
             ],
             [
              0.3333333333333333,
              "#9c179e"
             ],
             [
              0.4444444444444444,
              "#bd3786"
             ],
             [
              0.5555555555555556,
              "#d8576b"
             ],
             [
              0.6666666666666666,
              "#ed7953"
             ],
             [
              0.7777777777777778,
              "#fb9f3a"
             ],
             [
              0.8888888888888888,
              "#fdca26"
             ],
             [
              1,
              "#f0f921"
             ]
            ],
            "type": "heatmap"
           }
          ],
          "heatmapgl": [
           {
            "colorbar": {
             "outlinewidth": 0,
             "ticks": ""
            },
            "colorscale": [
             [
              0,
              "#0d0887"
             ],
             [
              0.1111111111111111,
              "#46039f"
             ],
             [
              0.2222222222222222,
              "#7201a8"
             ],
             [
              0.3333333333333333,
              "#9c179e"
             ],
             [
              0.4444444444444444,
              "#bd3786"
             ],
             [
              0.5555555555555556,
              "#d8576b"
             ],
             [
              0.6666666666666666,
              "#ed7953"
             ],
             [
              0.7777777777777778,
              "#fb9f3a"
             ],
             [
              0.8888888888888888,
              "#fdca26"
             ],
             [
              1,
              "#f0f921"
             ]
            ],
            "type": "heatmapgl"
           }
          ],
          "histogram": [
           {
            "marker": {
             "pattern": {
              "fillmode": "overlay",
              "size": 10,
              "solidity": 0.2
             }
            },
            "type": "histogram"
           }
          ],
          "histogram2d": [
           {
            "colorbar": {
             "outlinewidth": 0,
             "ticks": ""
            },
            "colorscale": [
             [
              0,
              "#0d0887"
             ],
             [
              0.1111111111111111,
              "#46039f"
             ],
             [
              0.2222222222222222,
              "#7201a8"
             ],
             [
              0.3333333333333333,
              "#9c179e"
             ],
             [
              0.4444444444444444,
              "#bd3786"
             ],
             [
              0.5555555555555556,
              "#d8576b"
             ],
             [
              0.6666666666666666,
              "#ed7953"
             ],
             [
              0.7777777777777778,
              "#fb9f3a"
             ],
             [
              0.8888888888888888,
              "#fdca26"
             ],
             [
              1,
              "#f0f921"
             ]
            ],
            "type": "histogram2d"
           }
          ],
          "histogram2dcontour": [
           {
            "colorbar": {
             "outlinewidth": 0,
             "ticks": ""
            },
            "colorscale": [
             [
              0,
              "#0d0887"
             ],
             [
              0.1111111111111111,
              "#46039f"
             ],
             [
              0.2222222222222222,
              "#7201a8"
             ],
             [
              0.3333333333333333,
              "#9c179e"
             ],
             [
              0.4444444444444444,
              "#bd3786"
             ],
             [
              0.5555555555555556,
              "#d8576b"
             ],
             [
              0.6666666666666666,
              "#ed7953"
             ],
             [
              0.7777777777777778,
              "#fb9f3a"
             ],
             [
              0.8888888888888888,
              "#fdca26"
             ],
             [
              1,
              "#f0f921"
             ]
            ],
            "type": "histogram2dcontour"
           }
          ],
          "mesh3d": [
           {
            "colorbar": {
             "outlinewidth": 0,
             "ticks": ""
            },
            "type": "mesh3d"
           }
          ],
          "parcoords": [
           {
            "line": {
             "colorbar": {
              "outlinewidth": 0,
              "ticks": ""
             }
            },
            "type": "parcoords"
           }
          ],
          "pie": [
           {
            "automargin": true,
            "type": "pie"
           }
          ],
          "scatter": [
           {
            "fillpattern": {
             "fillmode": "overlay",
             "size": 10,
             "solidity": 0.2
            },
            "type": "scatter"
           }
          ],
          "scatter3d": [
           {
            "line": {
             "colorbar": {
              "outlinewidth": 0,
              "ticks": ""
             }
            },
            "marker": {
             "colorbar": {
              "outlinewidth": 0,
              "ticks": ""
             }
            },
            "type": "scatter3d"
           }
          ],
          "scattercarpet": [
           {
            "marker": {
             "colorbar": {
              "outlinewidth": 0,
              "ticks": ""
             }
            },
            "type": "scattercarpet"
           }
          ],
          "scattergeo": [
           {
            "marker": {
             "colorbar": {
              "outlinewidth": 0,
              "ticks": ""
             }
            },
            "type": "scattergeo"
           }
          ],
          "scattergl": [
           {
            "marker": {
             "colorbar": {
              "outlinewidth": 0,
              "ticks": ""
             }
            },
            "type": "scattergl"
           }
          ],
          "scattermapbox": [
           {
            "marker": {
             "colorbar": {
              "outlinewidth": 0,
              "ticks": ""
             }
            },
            "type": "scattermapbox"
           }
          ],
          "scatterpolar": [
           {
            "marker": {
             "colorbar": {
              "outlinewidth": 0,
              "ticks": ""
             }
            },
            "type": "scatterpolar"
           }
          ],
          "scatterpolargl": [
           {
            "marker": {
             "colorbar": {
              "outlinewidth": 0,
              "ticks": ""
             }
            },
            "type": "scatterpolargl"
           }
          ],
          "scatterternary": [
           {
            "marker": {
             "colorbar": {
              "outlinewidth": 0,
              "ticks": ""
             }
            },
            "type": "scatterternary"
           }
          ],
          "surface": [
           {
            "colorbar": {
             "outlinewidth": 0,
             "ticks": ""
            },
            "colorscale": [
             [
              0,
              "#0d0887"
             ],
             [
              0.1111111111111111,
              "#46039f"
             ],
             [
              0.2222222222222222,
              "#7201a8"
             ],
             [
              0.3333333333333333,
              "#9c179e"
             ],
             [
              0.4444444444444444,
              "#bd3786"
             ],
             [
              0.5555555555555556,
              "#d8576b"
             ],
             [
              0.6666666666666666,
              "#ed7953"
             ],
             [
              0.7777777777777778,
              "#fb9f3a"
             ],
             [
              0.8888888888888888,
              "#fdca26"
             ],
             [
              1,
              "#f0f921"
             ]
            ],
            "type": "surface"
           }
          ],
          "table": [
           {
            "cells": {
             "fill": {
              "color": "#EBF0F8"
             },
             "line": {
              "color": "white"
             }
            },
            "header": {
             "fill": {
              "color": "#C8D4E3"
             },
             "line": {
              "color": "white"
             }
            },
            "type": "table"
           }
          ]
         },
         "layout": {
          "annotationdefaults": {
           "arrowcolor": "#2a3f5f",
           "arrowhead": 0,
           "arrowwidth": 1
          },
          "autotypenumbers": "strict",
          "coloraxis": {
           "colorbar": {
            "outlinewidth": 0,
            "ticks": ""
           }
          },
          "colorscale": {
           "diverging": [
            [
             0,
             "#8e0152"
            ],
            [
             0.1,
             "#c51b7d"
            ],
            [
             0.2,
             "#de77ae"
            ],
            [
             0.3,
             "#f1b6da"
            ],
            [
             0.4,
             "#fde0ef"
            ],
            [
             0.5,
             "#f7f7f7"
            ],
            [
             0.6,
             "#e6f5d0"
            ],
            [
             0.7,
             "#b8e186"
            ],
            [
             0.8,
             "#7fbc41"
            ],
            [
             0.9,
             "#4d9221"
            ],
            [
             1,
             "#276419"
            ]
           ],
           "sequential": [
            [
             0,
             "#0d0887"
            ],
            [
             0.1111111111111111,
             "#46039f"
            ],
            [
             0.2222222222222222,
             "#7201a8"
            ],
            [
             0.3333333333333333,
             "#9c179e"
            ],
            [
             0.4444444444444444,
             "#bd3786"
            ],
            [
             0.5555555555555556,
             "#d8576b"
            ],
            [
             0.6666666666666666,
             "#ed7953"
            ],
            [
             0.7777777777777778,
             "#fb9f3a"
            ],
            [
             0.8888888888888888,
             "#fdca26"
            ],
            [
             1,
             "#f0f921"
            ]
           ],
           "sequentialminus": [
            [
             0,
             "#0d0887"
            ],
            [
             0.1111111111111111,
             "#46039f"
            ],
            [
             0.2222222222222222,
             "#7201a8"
            ],
            [
             0.3333333333333333,
             "#9c179e"
            ],
            [
             0.4444444444444444,
             "#bd3786"
            ],
            [
             0.5555555555555556,
             "#d8576b"
            ],
            [
             0.6666666666666666,
             "#ed7953"
            ],
            [
             0.7777777777777778,
             "#fb9f3a"
            ],
            [
             0.8888888888888888,
             "#fdca26"
            ],
            [
             1,
             "#f0f921"
            ]
           ]
          },
          "colorway": [
           "#636efa",
           "#EF553B",
           "#00cc96",
           "#ab63fa",
           "#FFA15A",
           "#19d3f3",
           "#FF6692",
           "#B6E880",
           "#FF97FF",
           "#FECB52"
          ],
          "font": {
           "color": "#2a3f5f"
          },
          "geo": {
           "bgcolor": "white",
           "lakecolor": "white",
           "landcolor": "#E5ECF6",
           "showlakes": true,
           "showland": true,
           "subunitcolor": "white"
          },
          "hoverlabel": {
           "align": "left"
          },
          "hovermode": "closest",
          "mapbox": {
           "style": "light"
          },
          "paper_bgcolor": "white",
          "plot_bgcolor": "#E5ECF6",
          "polar": {
           "angularaxis": {
            "gridcolor": "white",
            "linecolor": "white",
            "ticks": ""
           },
           "bgcolor": "#E5ECF6",
           "radialaxis": {
            "gridcolor": "white",
            "linecolor": "white",
            "ticks": ""
           }
          },
          "scene": {
           "xaxis": {
            "backgroundcolor": "#E5ECF6",
            "gridcolor": "white",
            "gridwidth": 2,
            "linecolor": "white",
            "showbackground": true,
            "ticks": "",
            "zerolinecolor": "white"
           },
           "yaxis": {
            "backgroundcolor": "#E5ECF6",
            "gridcolor": "white",
            "gridwidth": 2,
            "linecolor": "white",
            "showbackground": true,
            "ticks": "",
            "zerolinecolor": "white"
           },
           "zaxis": {
            "backgroundcolor": "#E5ECF6",
            "gridcolor": "white",
            "gridwidth": 2,
            "linecolor": "white",
            "showbackground": true,
            "ticks": "",
            "zerolinecolor": "white"
           }
          },
          "shapedefaults": {
           "line": {
            "color": "#2a3f5f"
           }
          },
          "ternary": {
           "aaxis": {
            "gridcolor": "white",
            "linecolor": "white",
            "ticks": ""
           },
           "baxis": {
            "gridcolor": "white",
            "linecolor": "white",
            "ticks": ""
           },
           "bgcolor": "#E5ECF6",
           "caxis": {
            "gridcolor": "white",
            "linecolor": "white",
            "ticks": ""
           }
          },
          "title": {
           "x": 0.05
          },
          "xaxis": {
           "automargin": true,
           "gridcolor": "white",
           "linecolor": "white",
           "ticks": "",
           "title": {
            "standoff": 15
           },
           "zerolinecolor": "white",
           "zerolinewidth": 2
          },
          "yaxis": {
           "automargin": true,
           "gridcolor": "white",
           "linecolor": "white",
           "ticks": "",
           "title": {
            "standoff": 15
           },
           "zerolinecolor": "white",
           "zerolinewidth": 2
          }
         }
        },
        "title": {
         "text": "Box Plots"
        },
        "violinmode": "group",
        "width": 800,
        "xaxis": {
         "anchor": "y",
         "domain": [
          0,
          1
         ]
        },
        "yaxis": {
         "anchor": "x",
         "domain": [
          0,
          1
         ],
         "title": {
          "text": "Data"
         }
        }
       }
      }
     },
     "metadata": {},
     "output_type": "display_data"
    }
   ],
   "source": [
    "fig = px.violin(df, y=\"Data\", \n",
    "                color=\"Label\",\n",
    "                points=\"all\",\n",
    "                box=True,\n",
    "                color_discrete_sequence=['teal', 'purple'],\n",
    "                height = 500, width = 800,\n",
    "                title='Box Plots')\n",
    "fig.show()"
   ]
  },
  {
   "cell_type": "code",
   "execution_count": 22,
   "metadata": {},
   "outputs": [
    {
     "data": {
      "application/vnd.plotly.v1+json": {
       "config": {
        "plotlyServerURL": "https://plot.ly"
       },
       "data": [
        {
         "alignmentgroup": "True",
         "box": {
          "visible": false
         },
         "hovertemplate": "Label=Normal<br>Data=%{y}<extra></extra>",
         "legendgroup": "Normal",
         "marker": {
          "color": "teal"
         },
         "name": "Normal",
         "offsetgroup": "Normal",
         "orientation": "v",
         "scalegroup": "True",
         "showlegend": true,
         "type": "violin",
         "x0": " ",
         "xaxis": "x",
         "y": [
          3.010603808682812,
          1.3121544655425539,
          1.7802271424528466,
          2.7888574524879317,
          1.5263622107532897,
          2.3558592728821077,
          2.311555537732986,
          3.3839871907634373,
          2.2710187471241805,
          0.3303541797390208,
          2.6843813736829927,
          3.534933076063685,
          -0.03767373720186473,
          3.579119042476065,
          1.7510853434937637,
          1.8127076939814646,
          3.2284573697771197,
          2.4870264356739256,
          1.7305888865358148,
          2.372817064700227,
          2.19856651969668,
          3.6391207917634234,
          2.287364806376417,
          1.150914403339033,
          2.204991805836251,
          2.0829684412518246,
          0.40978685838037276,
          1.6203119143890734,
          2.4949515063415633,
          2.6972579488203863,
          0.17599568632851748,
          2.506848539729748,
          1.9114248802108778,
          2.1870446741923475,
          3.3308967845678485,
          2.5636138356507505,
          0.7490175812738653,
          1.3733359275227022,
          2.3871797715162058,
          1.5719643701111767,
          2.921457157615924,
          3.0925585607364017,
          1.4514636144924986,
          3.2394775659926074,
          3.1579597425318156,
          2.417748179350268,
          1.7041192189310421,
          2.025033862778361,
          1.7183602099602666,
          1.3793846805040957,
          1.323306688885209,
          1.1058488815313012,
          0.2502812049050904,
          1.8500131523924686,
          2.682742469925375,
          2.268509851680112,
          1.9265271653331753,
          2.8364308242197827,
          1.7956152891813326,
          0.9052286785884336,
          1.1291023228559884,
          3.225241405051153,
          2.245842749948661,
          1.4291041273236953,
          0.18617635510565922,
          2.7170897728520638,
          1.6935387268782387,
          2.1799750378577007,
          0.7934230904577297,
          1.79367463492129,
          0.43093319317799494,
          1.5830902276024714,
          1.5997831559871014,
          2.502362696750904,
          1.8345355752439998,
          2.040737048970878,
          2.9265450020420305,
          3.045462495757751,
          2.5237336127988947,
          3.068896200342376,
          0.907083538525794,
          2.4329953603043624,
          2.4863971117204415,
          1.6545411273076016,
          2.3374817031656914,
          3.756062703541987,
          3.734035933341622,
          3.368524584639541,
          3.0054667395372383,
          4.360530868975427,
          0.09991058427758448,
          2.1780132374312258,
          2.2048261665100752,
          2.0067348502550213,
          1.2483156830535895,
          2.7483852656357075,
          2.421829295845416,
          0.5261632948290611,
          1.8805257968538351,
          1.2758751231206473,
          1.2683577270616904,
          0.4704277485452566,
          1.1468797896133192,
          1.9252099674845433,
          1.0825646918101155,
          2.0342377215008316,
          1.044411498371399,
          2.981051093918265,
          2.7203127982103874,
          1.6930350859092225,
          1.7524764294137463,
          3.810839534298835,
          3.888583934384681,
          2.32003478979504,
          1.4067592160407862,
          1.171649832140024,
          2.0007207083426923,
          1.2286100073901574,
          2.2176690260298524,
          2.6837140873633594,
          0.9254090808326294,
          3.9341637170851387,
          2.6769030664023856,
          0.45710819146418324,
          2.6454712965840623,
          2.664518103299492,
          3.369971723490785,
          3.3393181886737366,
          2.2862049422598663,
          2.093984617415128,
          1.9148658443167133,
          0.3558026513546033,
          1.8430772528915946,
          1.3178306093131473,
          2.224227234197765,
          1.9567899236166735,
          2.579219854806172,
          2.3844235895028447,
          0.19732757264320488,
          2.918101625722113,
          3.820986179255341,
          2.096613563763318,
          3.126291204072852,
          2.566077822552188,
          1.0393951916909199,
          3.3265778052213806,
          0.5858630887496423,
          4.317495833520353,
          0.7626858577410018,
          0.01938297648156495,
          1.9212253571191145,
          2.6354373280758114,
          1.4114460182614321,
          1.630104417094486,
          0.6500358511846851,
          1.8825137700568784,
          0.8004636939582765,
          2.031103920139719,
          1.3071595313036741,
          1.9330983919741496,
          3.383868941308177,
          3.6639470810419095,
          0.816995619615847,
          1.8261431990309214,
          3.876522864700474,
          3.341866288789378,
          2.206765478251999,
          1.4561093438745243,
          2.0189448023474807,
          2.000852467422166,
          1.6178136405973467,
          2.907946065552088,
          2.927641711348095,
          3.1556149623167986,
          1.3022958403395815,
          1.1921823517736247,
          0.6443323669347929,
          3.424554047017213,
          3.300193204658897,
          0.3485889602287766,
          1.3516213046614212,
          2.0116952686122995,
          3.034616497621771,
          2.036923533510638,
          2.446289245060777,
          2.7395479873926494,
          3.2100791880568975,
          1.5308557992596081,
          0.7596806590898064,
          1.6761199383566912,
          1.560217305342488,
          3.9451173876363868,
          2.202985372831299,
          0.5146937017177178,
          2.218974306234027,
          1.9061533839337543,
          1.9727189157985043,
          2.2718000990346816,
          1.2291219483068854,
          3.8140553414365472
         ],
         "y0": " ",
         "yaxis": "y"
        },
        {
         "alignmentgroup": "True",
         "box": {
          "visible": false
         },
         "hovertemplate": "Label=t-Student<br>Data=%{y}<extra></extra>",
         "legendgroup": "t-Student",
         "marker": {
          "color": "purple"
         },
         "name": "t-Student",
         "offsetgroup": "t-Student",
         "orientation": "v",
         "scalegroup": "True",
         "showlegend": true,
         "type": "violin",
         "x0": " ",
         "xaxis": "x",
         "y": [
          -0.8202602283518821,
          -0.2536676920378718,
          1.1273278373839675,
          -1.5080841121493458,
          0.7395601047302559,
          -2.200172094966877,
          0.25732556869237583,
          2.090867523104584,
          0.1120484276034216,
          1.8885735589420085,
          1.1221723666206205,
          1.8098641277131906,
          -0.14107422112144472,
          -0.3053232949456606,
          -4.01955402122601,
          -2.056593107103181,
          2.354639243113555,
          0.20081689490068372,
          -0.6343667470766609,
          0.41427469298748415,
          -2.780507995203985,
          -3.650994399352335,
          -0.2061255462092677,
          1.934182846809448,
          -0.8535673393876995,
          0.8635524439890782,
          -0.2428235209418082,
          2.8031685031885196,
          2.206127426113256,
          -1.5151325135065419,
          -0.1856854903019791,
          -1.1518851541721618,
          -1.7414611670521039,
          1.59339480043395,
          -0.8708516868534092,
          0.5712684489947241,
          0.9667892795686669,
          0.8350656450943209,
          -1.5324624991676696,
          0.3624231652282159,
          0.5398738122383776,
          -2.923087011843296,
          3.778065068298901,
          -0.5547222676041462,
          -5.9154557271616905,
          -1.1577269161852792,
          -0.17103000776942323,
          -0.8944682020403967,
          -3.6441339315963575,
          0.5376530395959431,
          0.5394791057912992,
          -0.17656662380802235,
          0.39861912639974245,
          -1.8369947332127845,
          1.1892562001039917,
          -0.008209024047540212,
          -2.6614090352253026,
          -0.7452747224284282,
          1.3242660744280021,
          -0.34741571214641415,
          0.17702111033779225,
          -1.6746329850910702,
          -1.9427831293993971,
          -1.5935290785140368,
          0.8104668792077646,
          0.3079774154106903,
          -0.06831414452140416,
          0.5588178519305151,
          -1.6112501910076986,
          -1.572907133748086,
          1.8278599318124895,
          1.5416323520205069,
          0.1609694772537766,
          -1.9125100842437939,
          -0.3034973642396956,
          1.2147615952553634,
          1.0235102858660692,
          0.9929748872106674,
          -0.043592431939802306,
          -1.7579134179456597,
          -0.2608001327452418,
          -0.12314853130877261,
          0.8628390722197176,
          1.1914949270219128,
          2.4211258403847267,
          0.268158652301559,
          0.5098182113811517,
          0.17654500226712377,
          -1.8068141746041326,
          -2.525615186517515,
          0.8316776571638296,
          0.6922366837244394,
          -0.0017718442756774037,
          0.45746877363472727,
          -1.6193208756008481,
          -1.2781540557929127,
          2.5086816153973377,
          0.06929029064783965,
          0.4459171923018379,
          0.09956636025450367,
          0.17698061525767583,
          1.6433194103101423,
          0.36506969473013967,
          0.9789706934447545,
          0.8409320580861553,
          0.23798742517932497,
          0.39251629425331946,
          2.280236455034234,
          0.4494455009434147,
          0.0135492753002299,
          -1.3201878383849963,
          -2.2058515920313693,
          1.1416751207538982,
          -0.5358234482356349,
          0.8011614691360157,
          -0.7642766762804655,
          2.453185624263736,
          -0.9313834271449237,
          -0.9075932798209481,
          3.976758754000029,
          -0.6614462118293195,
          -0.44531398980862114,
          0.2899977423646932,
          0.8432448664881182,
          -1.139737592940509,
          -0.028382494187305603,
          0.6969166608468467,
          2.0512960446556545,
          -0.36819304624497423,
          -0.48864045564673037,
          1.3388046981962574,
          -0.23682375990818522,
          -3.268201700628686,
          0.1960200716592405,
          1.1060320606862981,
          2.2875757205792144,
          0.3487872330583768,
          -0.6982697968426259,
          -2.207465483861022,
          -0.27890875362040446,
          -1.022361741073151,
          0.65991408823662,
          0.23725425601596173,
          -0.871252163612778,
          -1.9336355932616751,
          -0.1592481025895306,
          -1.111441135097591,
          0.060762493959616505,
          0.49784434336522754,
          0.46355438640208496,
          1.3549600682466523,
          0.5348684533418335,
          -0.2753715582234346,
          -0.4134070510586952,
          -0.9718054971376677,
          -1.3766848170470691,
          -1.872488436014042,
          -1.0306180937828064,
          -0.5038130172161527,
          1.0978326110132286,
          -0.6977185745628673,
          2.70464917941898,
          2.8724491323731125,
          1.3178304759486033,
          -2.2541769892811754,
          0.19573605783557738,
          0.8853026585544038,
          0.18843007825132635,
          0.5766792059646048,
          -0.8301919738607527,
          -0.8227996405865016,
          1.1892837612755969,
          -0.5750112450684617,
          -0.1506306417249004,
          -1.7739741553353938,
          -1.1924550124852074,
          0.8361399214932671,
          -1.7389630159452942,
          1.0021542064415403,
          -0.12485476358519866,
          0.5163156177090849,
          0.5299502660513163,
          0.1251504144937157,
          -2.2652666288758487,
          1.1454618151280416,
          4.263188634030838,
          -0.8173701294370529,
          -1.235162699592076,
          1.3955296102459895,
          -2.385591357062242,
          -0.6229944074792424,
          -0.4987922927179429,
          0.8812595656129744,
          -0.22878429846276294,
          5.57098639235868,
          2.114860051362123,
          -0.08461002176798713,
          -0.019937003602400905,
          6.730318211573206,
          0.16898049220507297
         ],
         "y0": " ",
         "yaxis": "y"
        }
       ],
       "layout": {
        "height": 500,
        "legend": {
         "title": {
          "text": "Label"
         },
         "tracegroupgap": 0
        },
        "template": {
         "data": {
          "bar": [
           {
            "error_x": {
             "color": "#2a3f5f"
            },
            "error_y": {
             "color": "#2a3f5f"
            },
            "marker": {
             "line": {
              "color": "#E5ECF6",
              "width": 0.5
             },
             "pattern": {
              "fillmode": "overlay",
              "size": 10,
              "solidity": 0.2
             }
            },
            "type": "bar"
           }
          ],
          "barpolar": [
           {
            "marker": {
             "line": {
              "color": "#E5ECF6",
              "width": 0.5
             },
             "pattern": {
              "fillmode": "overlay",
              "size": 10,
              "solidity": 0.2
             }
            },
            "type": "barpolar"
           }
          ],
          "carpet": [
           {
            "aaxis": {
             "endlinecolor": "#2a3f5f",
             "gridcolor": "white",
             "linecolor": "white",
             "minorgridcolor": "white",
             "startlinecolor": "#2a3f5f"
            },
            "baxis": {
             "endlinecolor": "#2a3f5f",
             "gridcolor": "white",
             "linecolor": "white",
             "minorgridcolor": "white",
             "startlinecolor": "#2a3f5f"
            },
            "type": "carpet"
           }
          ],
          "choropleth": [
           {
            "colorbar": {
             "outlinewidth": 0,
             "ticks": ""
            },
            "type": "choropleth"
           }
          ],
          "contour": [
           {
            "colorbar": {
             "outlinewidth": 0,
             "ticks": ""
            },
            "colorscale": [
             [
              0,
              "#0d0887"
             ],
             [
              0.1111111111111111,
              "#46039f"
             ],
             [
              0.2222222222222222,
              "#7201a8"
             ],
             [
              0.3333333333333333,
              "#9c179e"
             ],
             [
              0.4444444444444444,
              "#bd3786"
             ],
             [
              0.5555555555555556,
              "#d8576b"
             ],
             [
              0.6666666666666666,
              "#ed7953"
             ],
             [
              0.7777777777777778,
              "#fb9f3a"
             ],
             [
              0.8888888888888888,
              "#fdca26"
             ],
             [
              1,
              "#f0f921"
             ]
            ],
            "type": "contour"
           }
          ],
          "contourcarpet": [
           {
            "colorbar": {
             "outlinewidth": 0,
             "ticks": ""
            },
            "type": "contourcarpet"
           }
          ],
          "heatmap": [
           {
            "colorbar": {
             "outlinewidth": 0,
             "ticks": ""
            },
            "colorscale": [
             [
              0,
              "#0d0887"
             ],
             [
              0.1111111111111111,
              "#46039f"
             ],
             [
              0.2222222222222222,
              "#7201a8"
             ],
             [
              0.3333333333333333,
              "#9c179e"
             ],
             [
              0.4444444444444444,
              "#bd3786"
             ],
             [
              0.5555555555555556,
              "#d8576b"
             ],
             [
              0.6666666666666666,
              "#ed7953"
             ],
             [
              0.7777777777777778,
              "#fb9f3a"
             ],
             [
              0.8888888888888888,
              "#fdca26"
             ],
             [
              1,
              "#f0f921"
             ]
            ],
            "type": "heatmap"
           }
          ],
          "heatmapgl": [
           {
            "colorbar": {
             "outlinewidth": 0,
             "ticks": ""
            },
            "colorscale": [
             [
              0,
              "#0d0887"
             ],
             [
              0.1111111111111111,
              "#46039f"
             ],
             [
              0.2222222222222222,
              "#7201a8"
             ],
             [
              0.3333333333333333,
              "#9c179e"
             ],
             [
              0.4444444444444444,
              "#bd3786"
             ],
             [
              0.5555555555555556,
              "#d8576b"
             ],
             [
              0.6666666666666666,
              "#ed7953"
             ],
             [
              0.7777777777777778,
              "#fb9f3a"
             ],
             [
              0.8888888888888888,
              "#fdca26"
             ],
             [
              1,
              "#f0f921"
             ]
            ],
            "type": "heatmapgl"
           }
          ],
          "histogram": [
           {
            "marker": {
             "pattern": {
              "fillmode": "overlay",
              "size": 10,
              "solidity": 0.2
             }
            },
            "type": "histogram"
           }
          ],
          "histogram2d": [
           {
            "colorbar": {
             "outlinewidth": 0,
             "ticks": ""
            },
            "colorscale": [
             [
              0,
              "#0d0887"
             ],
             [
              0.1111111111111111,
              "#46039f"
             ],
             [
              0.2222222222222222,
              "#7201a8"
             ],
             [
              0.3333333333333333,
              "#9c179e"
             ],
             [
              0.4444444444444444,
              "#bd3786"
             ],
             [
              0.5555555555555556,
              "#d8576b"
             ],
             [
              0.6666666666666666,
              "#ed7953"
             ],
             [
              0.7777777777777778,
              "#fb9f3a"
             ],
             [
              0.8888888888888888,
              "#fdca26"
             ],
             [
              1,
              "#f0f921"
             ]
            ],
            "type": "histogram2d"
           }
          ],
          "histogram2dcontour": [
           {
            "colorbar": {
             "outlinewidth": 0,
             "ticks": ""
            },
            "colorscale": [
             [
              0,
              "#0d0887"
             ],
             [
              0.1111111111111111,
              "#46039f"
             ],
             [
              0.2222222222222222,
              "#7201a8"
             ],
             [
              0.3333333333333333,
              "#9c179e"
             ],
             [
              0.4444444444444444,
              "#bd3786"
             ],
             [
              0.5555555555555556,
              "#d8576b"
             ],
             [
              0.6666666666666666,
              "#ed7953"
             ],
             [
              0.7777777777777778,
              "#fb9f3a"
             ],
             [
              0.8888888888888888,
              "#fdca26"
             ],
             [
              1,
              "#f0f921"
             ]
            ],
            "type": "histogram2dcontour"
           }
          ],
          "mesh3d": [
           {
            "colorbar": {
             "outlinewidth": 0,
             "ticks": ""
            },
            "type": "mesh3d"
           }
          ],
          "parcoords": [
           {
            "line": {
             "colorbar": {
              "outlinewidth": 0,
              "ticks": ""
             }
            },
            "type": "parcoords"
           }
          ],
          "pie": [
           {
            "automargin": true,
            "type": "pie"
           }
          ],
          "scatter": [
           {
            "fillpattern": {
             "fillmode": "overlay",
             "size": 10,
             "solidity": 0.2
            },
            "type": "scatter"
           }
          ],
          "scatter3d": [
           {
            "line": {
             "colorbar": {
              "outlinewidth": 0,
              "ticks": ""
             }
            },
            "marker": {
             "colorbar": {
              "outlinewidth": 0,
              "ticks": ""
             }
            },
            "type": "scatter3d"
           }
          ],
          "scattercarpet": [
           {
            "marker": {
             "colorbar": {
              "outlinewidth": 0,
              "ticks": ""
             }
            },
            "type": "scattercarpet"
           }
          ],
          "scattergeo": [
           {
            "marker": {
             "colorbar": {
              "outlinewidth": 0,
              "ticks": ""
             }
            },
            "type": "scattergeo"
           }
          ],
          "scattergl": [
           {
            "marker": {
             "colorbar": {
              "outlinewidth": 0,
              "ticks": ""
             }
            },
            "type": "scattergl"
           }
          ],
          "scattermapbox": [
           {
            "marker": {
             "colorbar": {
              "outlinewidth": 0,
              "ticks": ""
             }
            },
            "type": "scattermapbox"
           }
          ],
          "scatterpolar": [
           {
            "marker": {
             "colorbar": {
              "outlinewidth": 0,
              "ticks": ""
             }
            },
            "type": "scatterpolar"
           }
          ],
          "scatterpolargl": [
           {
            "marker": {
             "colorbar": {
              "outlinewidth": 0,
              "ticks": ""
             }
            },
            "type": "scatterpolargl"
           }
          ],
          "scatterternary": [
           {
            "marker": {
             "colorbar": {
              "outlinewidth": 0,
              "ticks": ""
             }
            },
            "type": "scatterternary"
           }
          ],
          "surface": [
           {
            "colorbar": {
             "outlinewidth": 0,
             "ticks": ""
            },
            "colorscale": [
             [
              0,
              "#0d0887"
             ],
             [
              0.1111111111111111,
              "#46039f"
             ],
             [
              0.2222222222222222,
              "#7201a8"
             ],
             [
              0.3333333333333333,
              "#9c179e"
             ],
             [
              0.4444444444444444,
              "#bd3786"
             ],
             [
              0.5555555555555556,
              "#d8576b"
             ],
             [
              0.6666666666666666,
              "#ed7953"
             ],
             [
              0.7777777777777778,
              "#fb9f3a"
             ],
             [
              0.8888888888888888,
              "#fdca26"
             ],
             [
              1,
              "#f0f921"
             ]
            ],
            "type": "surface"
           }
          ],
          "table": [
           {
            "cells": {
             "fill": {
              "color": "#EBF0F8"
             },
             "line": {
              "color": "white"
             }
            },
            "header": {
             "fill": {
              "color": "#C8D4E3"
             },
             "line": {
              "color": "white"
             }
            },
            "type": "table"
           }
          ]
         },
         "layout": {
          "annotationdefaults": {
           "arrowcolor": "#2a3f5f",
           "arrowhead": 0,
           "arrowwidth": 1
          },
          "autotypenumbers": "strict",
          "coloraxis": {
           "colorbar": {
            "outlinewidth": 0,
            "ticks": ""
           }
          },
          "colorscale": {
           "diverging": [
            [
             0,
             "#8e0152"
            ],
            [
             0.1,
             "#c51b7d"
            ],
            [
             0.2,
             "#de77ae"
            ],
            [
             0.3,
             "#f1b6da"
            ],
            [
             0.4,
             "#fde0ef"
            ],
            [
             0.5,
             "#f7f7f7"
            ],
            [
             0.6,
             "#e6f5d0"
            ],
            [
             0.7,
             "#b8e186"
            ],
            [
             0.8,
             "#7fbc41"
            ],
            [
             0.9,
             "#4d9221"
            ],
            [
             1,
             "#276419"
            ]
           ],
           "sequential": [
            [
             0,
             "#0d0887"
            ],
            [
             0.1111111111111111,
             "#46039f"
            ],
            [
             0.2222222222222222,
             "#7201a8"
            ],
            [
             0.3333333333333333,
             "#9c179e"
            ],
            [
             0.4444444444444444,
             "#bd3786"
            ],
            [
             0.5555555555555556,
             "#d8576b"
            ],
            [
             0.6666666666666666,
             "#ed7953"
            ],
            [
             0.7777777777777778,
             "#fb9f3a"
            ],
            [
             0.8888888888888888,
             "#fdca26"
            ],
            [
             1,
             "#f0f921"
            ]
           ],
           "sequentialminus": [
            [
             0,
             "#0d0887"
            ],
            [
             0.1111111111111111,
             "#46039f"
            ],
            [
             0.2222222222222222,
             "#7201a8"
            ],
            [
             0.3333333333333333,
             "#9c179e"
            ],
            [
             0.4444444444444444,
             "#bd3786"
            ],
            [
             0.5555555555555556,
             "#d8576b"
            ],
            [
             0.6666666666666666,
             "#ed7953"
            ],
            [
             0.7777777777777778,
             "#fb9f3a"
            ],
            [
             0.8888888888888888,
             "#fdca26"
            ],
            [
             1,
             "#f0f921"
            ]
           ]
          },
          "colorway": [
           "#636efa",
           "#EF553B",
           "#00cc96",
           "#ab63fa",
           "#FFA15A",
           "#19d3f3",
           "#FF6692",
           "#B6E880",
           "#FF97FF",
           "#FECB52"
          ],
          "font": {
           "color": "#2a3f5f"
          },
          "geo": {
           "bgcolor": "white",
           "lakecolor": "white",
           "landcolor": "#E5ECF6",
           "showlakes": true,
           "showland": true,
           "subunitcolor": "white"
          },
          "hoverlabel": {
           "align": "left"
          },
          "hovermode": "closest",
          "mapbox": {
           "style": "light"
          },
          "paper_bgcolor": "white",
          "plot_bgcolor": "#E5ECF6",
          "polar": {
           "angularaxis": {
            "gridcolor": "white",
            "linecolor": "white",
            "ticks": ""
           },
           "bgcolor": "#E5ECF6",
           "radialaxis": {
            "gridcolor": "white",
            "linecolor": "white",
            "ticks": ""
           }
          },
          "scene": {
           "xaxis": {
            "backgroundcolor": "#E5ECF6",
            "gridcolor": "white",
            "gridwidth": 2,
            "linecolor": "white",
            "showbackground": true,
            "ticks": "",
            "zerolinecolor": "white"
           },
           "yaxis": {
            "backgroundcolor": "#E5ECF6",
            "gridcolor": "white",
            "gridwidth": 2,
            "linecolor": "white",
            "showbackground": true,
            "ticks": "",
            "zerolinecolor": "white"
           },
           "zaxis": {
            "backgroundcolor": "#E5ECF6",
            "gridcolor": "white",
            "gridwidth": 2,
            "linecolor": "white",
            "showbackground": true,
            "ticks": "",
            "zerolinecolor": "white"
           }
          },
          "shapedefaults": {
           "line": {
            "color": "#2a3f5f"
           }
          },
          "ternary": {
           "aaxis": {
            "gridcolor": "white",
            "linecolor": "white",
            "ticks": ""
           },
           "baxis": {
            "gridcolor": "white",
            "linecolor": "white",
            "ticks": ""
           },
           "bgcolor": "#E5ECF6",
           "caxis": {
            "gridcolor": "white",
            "linecolor": "white",
            "ticks": ""
           }
          },
          "title": {
           "x": 0.05
          },
          "xaxis": {
           "automargin": true,
           "gridcolor": "white",
           "linecolor": "white",
           "ticks": "",
           "title": {
            "standoff": 15
           },
           "zerolinecolor": "white",
           "zerolinewidth": 2
          },
          "yaxis": {
           "automargin": true,
           "gridcolor": "white",
           "linecolor": "white",
           "ticks": "",
           "title": {
            "standoff": 15
           },
           "zerolinecolor": "white",
           "zerolinewidth": 2
          }
         }
        },
        "title": {
         "text": "Box Plots"
        },
        "violinmode": "overlay",
        "width": 800,
        "xaxis": {
         "anchor": "y",
         "domain": [
          0,
          1
         ]
        },
        "yaxis": {
         "anchor": "x",
         "domain": [
          0,
          1
         ],
         "title": {
          "text": "Data"
         }
        }
       }
      }
     },
     "metadata": {},
     "output_type": "display_data"
    }
   ],
   "source": [
    "fig = px.violin(df, y=\"Data\", \n",
    "                color=\"Label\",\n",
    "                violinmode=\"overlay\",\n",
    "                color_discrete_sequence=['teal', 'purple'],\n",
    "                height = 500, width = 800,\n",
    "                title='Box Plots')\n",
    "fig.show()"
   ]
  },
  {
   "cell_type": "code",
   "execution_count": null,
   "metadata": {},
   "outputs": [],
   "source": []
  }
 ],
 "metadata": {
  "kernelspec": {
   "display_name": ".venv",
   "language": "python",
   "name": "python3"
  },
  "language_info": {
   "codemirror_mode": {
    "name": "ipython",
    "version": 3
   },
   "file_extension": ".py",
   "mimetype": "text/x-python",
   "name": "python",
   "nbconvert_exporter": "python",
   "pygments_lexer": "ipython3",
   "version": "3.11.4"
  }
 },
 "nbformat": 4,
 "nbformat_minor": 2
}
