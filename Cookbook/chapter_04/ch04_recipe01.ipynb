{
 "cells": [
  {
   "cell_type": "markdown",
   "metadata": {},
   "source": [
    "# Making Histograms"
   ]
  },
  {
   "cell_type": "markdown",
   "metadata": {},
   "source": [
    "A **histogram** is a type of bar chart used to represent the distribution of a data set. It displays data by grouping numerical values into bins or intervals along the x-axis and representing the frequency or count of data points within each bin on the y-axis. This graphical tool helps in visualizing the shape of the data distribution, identifying patterns like skewness, and recognizing whether the data follows a particular distribution (e.g., normal distribution). Histograms are particularly useful when you want to understand the underlying frequency distribution of continuous variables, such as age, income, or temperature.\n",
    "\n",
    "However, histograms are not always the best tool for every type of data. For instance, they are inappropriate for categorical or discrete data, as those types of data don't have a continuous range to be grouped into intervals. For categorical data, bar charts or pie charts are better suited because they show individual categories rather than aggregated ranges. \n",
    "\n",
    "Additionally, histograms can sometimes be misleading if the bin size is not chosen carefully. Too few bins may oversimplify the data, while too many bins can make the data appear overly complex, obscuring the underlying pattern. Thus, histograms should be used when dealing with continuous data and when there is an interest in understanding the overall shape of the data distribution."
   ]
  },
  {
   "cell_type": "markdown",
   "metadata": {},
   "source": [
    "\n",
    "**Density Scale**\n",
    "\n",
    "In addition to representing data with frequencies, histograms can also be displayed on a **density scale**. In a frequency histogram, the height of each bar corresponds to the number of data points that fall within each bin. However, in a density histogram, the y-axis represents the **density**—the relative frequency of data points per unit of the variable on the x-axis. To construct a density histogram, the frequency for each bin is divided by the total number of data points and by the bin width. This scaling ensures that the area under the histogram adds up to 1, which allows it to approximate a probability distribution, making it easier to compare data sets with different sample sizes or different bin widths.\n",
    "\n",
    "Density histograms are particularly useful when you want to focus on the **proportion** of data in each bin rather than the absolute count. They are especially relevant in statistical contexts where data is being compared to theoretical probability distributions, such as the normal distribution. However, like frequency histograms, they are not appropriate for categorical data, and they may also become less interpretable if the bin widths are poorly chosen. When deciding between a frequency or density scale, consider whether you are interested in the raw counts (frequency) or in understanding the shape of the data distribution in relation to probability (density).\n",
    "\n",
    "\n",
    "**Cummulative Form**\n",
    "\n",
    "Histograms can also be displayed in a **cumulative form**, which shows the cumulative frequency or cumulative density of data points up to each bin. Instead of displaying the number (or density) of data points that fall within each individual bin, a cumulative histogram adds up the frequencies or densities from all previous bins, so each bar represents the total count or proportion of data points up to that bin. This provides a visual representation of the cumulative distribution of the data, allowing you to see how data accumulates over its range.\n",
    "\n",
    "Cumulative histograms are particularly useful when you're interested in understanding the proportion of data points below a certain threshold, such as determining what percentage of data falls below a given value. They can also help visualize patterns in how data accumulates, such as identifying points where the rate of accumulation changes, which might indicate outliers, thresholds, or distribution shifts. \n",
    "\n",
    "When using cumulative histograms, it's important to decide whether you want the cumulative version of a **frequency histogram** (where you display cumulative counts) or a **density histogram** (where you display cumulative proportions or probabilities). In both cases, the cumulative plot will always be non-decreasing, as each bin adds the current frequency or density to the total from previous bins.\n",
    "\n",
    "Cumulative histograms are less effective for understanding the distribution shape at a glance compared to regular histograms, as they obscure the exact frequencies within each bin. They are also not suitable for categorical data but work well for continuous data when cumulative trends or thresholds are of interest."
   ]
  },
  {
   "cell_type": "markdown",
   "metadata": {},
   "source": [
    "## Getting ready\n",
    "\n",
    "\n",
    "In addition to `plotly`, `numpy` and `pandas`, make sure the `scipy` Python library avaiable in your Python environment\n",
    "You can install it using the command:"
   ]
  },
  {
   "cell_type": "markdown",
   "metadata": {},
   "source": [
    "```\n",
    "pip install scipy \n",
    "```"
   ]
  },
  {
   "cell_type": "markdown",
   "metadata": {},
   "source": [
    "For this recipe we will create two data sets"
   ]
  },
  {
   "cell_type": "markdown",
   "metadata": {},
   "source": [
    "1. Import the Python modules `numpy`, `pandas`. Import the [`norm`](https://docs.scipy.org/doc/scipy/reference/generated/scipy.stats.norm.html) object from `scipy.stats`. This object will allow us to generate random samples from a normal distribution. This will help us to create data sets to be used in this recipe."
   ]
  },
  {
   "cell_type": "code",
   "execution_count": 1,
   "metadata": {},
   "outputs": [],
   "source": [
    "import numpy as np\n",
    "import pandas as pd\n",
    "from scipy.stats import norm"
   ]
  },
  {
   "cell_type": "markdown",
   "metadata": {},
   "source": [
    "2. Create two data sets to be used in this recipe"
   ]
  },
  {
   "cell_type": "code",
   "execution_count": 2,
   "metadata": {},
   "outputs": [],
   "source": [
    "n = 400\n",
    "sample1 = norm().rvs(n)\n",
    "sample2 = norm(loc=3, scale=0.5).rvs(n)"
   ]
  },
  {
   "cell_type": "code",
   "execution_count": 3,
   "metadata": {},
   "outputs": [],
   "source": [
    "data1 = pd.DataFrame({'Normal': sample1})"
   ]
  },
  {
   "cell_type": "code",
   "execution_count": 4,
   "metadata": {},
   "outputs": [],
   "source": [
    "samples =  np.concatenate( (sample1, sample2))\n",
    "labels = ['Sample 1']*n + ['Sample 2']*n \n",
    "data2 = pd.DataFrame({'Data': samples, 'Label':labels})"
   ]
  },
  {
   "cell_type": "markdown",
   "metadata": {},
   "source": [
    "## How to do it"
   ]
  },
  {
   "cell_type": "markdown",
   "metadata": {},
   "source": [
    "1. Import the `plotly.express` module as `px`"
   ]
  },
  {
   "cell_type": "code",
   "execution_count": 5,
   "metadata": {},
   "outputs": [],
   "source": [
    "import plotly.express as px"
   ]
  },
  {
   "cell_type": "markdown",
   "metadata": {},
   "source": [
    "### One data set"
   ]
  },
  {
   "cell_type": "markdown",
   "metadata": {},
   "source": [
    "1. Make a simple histogram to illustrate the distribution of the data in `data1` using the function `histogram`"
   ]
  },
  {
   "cell_type": "code",
   "execution_count": 6,
   "metadata": {},
   "outputs": [
    {
     "data": {
      "application/vnd.plotly.v1+json": {
       "config": {
        "plotlyServerURL": "https://plot.ly"
       },
       "data": [
        {
         "alignmentgroup": "True",
         "bingroup": "x",
         "hovertemplate": "Normal=%{x}<br>count=%{y}<extra></extra>",
         "legendgroup": "",
         "marker": {
          "color": "#636efa",
          "pattern": {
           "shape": ""
          }
         },
         "name": "",
         "offsetgroup": "",
         "orientation": "v",
         "showlegend": false,
         "type": "histogram",
         "x": [
          0.9922440175022573,
          -0.013192364921534144,
          -0.08643482672406257,
          1.086534493213565,
          -0.4112794626463247,
          3.065581107175467,
          -0.4139257129493315,
          0.49408638158181917,
          1.1553408731626915,
          1.3646587288715153,
          -0.18267585824155091,
          -0.6905925289813665,
          -0.5433696583272913,
          -1.7789681975386755,
          0.7445211791934149,
          -0.3910629368715519,
          -0.27495537015146326,
          0.39647006173481864,
          0.007142940031214655,
          0.08130845730738376,
          -0.8586395533597259,
          -0.5837840025111073,
          -2.0283048539117643,
          0.0868210404957446,
          0.011726565367619167,
          0.6235173814393108,
          0.09149573129017323,
          -0.7121951226567028,
          -0.16914019710741263,
          -0.3560255908978881,
          -3.065838924126337,
          0.5716665177217557,
          -0.14036769043887395,
          -0.8907415201512822,
          -0.7444166949579522,
          0.6183609198862388,
          -0.5668479300900784,
          -0.3902369081743067,
          1.1767267235195067,
          0.5648821653392719,
          2.152881244798071,
          0.028048637925076912,
          -0.37869819908424884,
          -0.1263169711878512,
          -0.20655575897592626,
          -1.06115139837128,
          -0.6438397336356853,
          0.028125718250783745,
          -0.5088759612461716,
          0.893359073935359,
          -0.2859848130190566,
          0.746565012581815,
          0.10407533685062888,
          0.039661758902339736,
          -0.26905016233424606,
          2.044792145713757,
          0.9773968311516065,
          -2.1638546527097837,
          0.603157687665255,
          -1.3710232696760039,
          -1.4985487881066921,
          -0.635168119412796,
          -1.8523927679935528,
          0.7446093861575178,
          1.790500197130094,
          -0.6854078384674978,
          -0.5651893261959818,
          0.9076839167750421,
          -0.5729424152645838,
          -0.2724617554188349,
          1.848647745643187,
          -0.4966958631276866,
          0.7331589706607188,
          -2.7213947925079105,
          2.3113579900982795,
          0.0502576237361418,
          -1.405663329561947,
          1.3543435147418859,
          -1.159805088686849,
          -1.1368591336367126,
          0.2665594172624437,
          0.30094167600171634,
          -0.05975424225132378,
          -0.2659791769346562,
          -0.6759782234501358,
          -0.5144079528466928,
          -1.2802519259698528,
          0.28204035450378634,
          1.7841882003375709,
          -0.5742293003431136,
          0.8631985121026826,
          1.0577261204761375,
          -0.18713478444336487,
          0.17138706931221617,
          1.2817046356415476,
          -0.8395867897432568,
          0.17059155447538074,
          -0.29338176303084057,
          0.4807455180969727,
          -1.1197618280965094,
          -0.21758256850491764,
          0.47807223286284317,
          -0.686414764434861,
          2.402039469267209,
          -1.0019164888574208,
          -0.0602309491768687,
          1.536806829922405,
          -0.03228569289014455,
          0.21407306889458944,
          -0.31586746298314994,
          1.0049821614181516,
          -0.7881320886318622,
          -1.4502839302480446,
          -0.1908107820709176,
          -1.333767347792869,
          -1.3294378712348183,
          -0.5553907196973072,
          -0.918369739840416,
          0.038746640451373195,
          -0.5990398356253983,
          0.6362121021100953,
          0.32748922675461045,
          -0.2822190963094087,
          0.3646414091799714,
          -0.39041994506578825,
          -0.1885723022561982,
          0.7357890227881434,
          -0.9199302538733043,
          0.1776472091072587,
          -0.39063572722475026,
          0.7741443162571909,
          -0.8523263267457808,
          0.8592572949742107,
          0.6188556106703542,
          -1.3873949266588683,
          0.81433304655623,
          0.8553944584957461,
          0.04698847432060194,
          0.29909093259972286,
          -1.3262196085337492,
          0.10232168021264923,
          -1.7066564332559706,
          -0.31019569025117627,
          -1.6050795043947228,
          0.22709410931946222,
          -0.5701045664295864,
          0.4213820468774945,
          -1.610568614042046,
          -0.3506385330660151,
          -1.800866945205892,
          0.5825608925139816,
          -0.16565081938630924,
          -0.9571265040375223,
          0.9779488770382453,
          -1.463458582721687,
          -0.826618956439601,
          1.4063393619956273,
          -0.09468736117199524,
          -0.34422693757133077,
          2.47795694428459,
          -0.2678949229923536,
          -0.19211069973448863,
          0.3267473360125302,
          0.48631983315268557,
          0.287318159944065,
          -0.19366376173130617,
          0.42591253607646645,
          -0.904258022442456,
          0.06150771415127942,
          -0.9588215070723852,
          -0.7295845391821887,
          1.364038428375701,
          -0.5924606896060864,
          -0.9232777472805235,
          -0.4425166023332556,
          0.9334716639745994,
          -2.2557040664766967,
          1.1123651965969956,
          1.0533535884774083,
          -1.3228488965754894,
          0.6170151436153989,
          1.3022228214907963,
          -0.18443326811390678,
          -0.4777942931335947,
          0.797193586171972,
          2.2783995781150814,
          1.2515886746012905,
          0.25012308897225327,
          -0.25081578728117493,
          -0.17111790992430811,
          -0.6958174060931471,
          -2.0408501238115093,
          -0.4017328476551939,
          -0.6844736101263469,
          0.4179689012537265,
          0.14773302828998583,
          -0.3714609886167385,
          0.4097443196174013,
          1.6052966097009098,
          -1.089552682939431,
          -0.1594924648610055,
          -0.4362431182761573,
          0.5757169044424252,
          -1.5517569456236109,
          2.6912510672380634,
          0.7261741072220927,
          -0.0725366123552572,
          1.0632112536916074,
          -0.5274482026370689,
          0.9683331036086136,
          -0.0589885892899716,
          -1.547361928619816,
          0.05147970577367814,
          -1.1935833521342203,
          0.6346331751455601,
          -0.6952408605738849,
          0.2574749301966593,
          -0.28794508009095193,
          0.3055931430038713,
          1.5377551414516173,
          -0.02101896542357186,
          1.7749222204148771,
          0.29328242232783075,
          -0.797538705589144,
          -0.08496676689899221,
          -0.31558541835569537,
          -1.7413248530872203,
          1.5029717991630258,
          0.2678099699102134,
          1.1304236787470152,
          -1.4910303473771636,
          0.44840595716486537,
          -0.1852462401900747,
          1.848012323526967,
          1.7863742517346741,
          -0.5990642951683577,
          -0.031217216154582842,
          -0.41641533343195986,
          -0.5598781869270968,
          -0.49979331409712036,
          1.2012452716700386,
          1.1999512812303772,
          -0.2657662860768825,
          -0.3011377442814745,
          0.9686644074447734,
          0.4889534562476449,
          0.002059059138348558,
          -0.7805596187133934,
          0.598914396816366,
          0.8176499552934805,
          -0.7490842581363188,
          1.0322812622642012,
          -1.4405600126906497,
          -1.1385975436249773,
          1.5781636803028174,
          -1.2513260992164903,
          -0.28477350302821025,
          -0.006187722400097042,
          -0.5351133912294991,
          0.14602643139864477,
          -2.0373447582561193,
          0.5093475025113386,
          -0.2950687916430458,
          1.1167351567647796,
          1.039253416900312,
          1.4083313088940643,
          1.4341467971702635,
          -0.29283429508760744,
          0.8651295503374785,
          0.22770541553408952,
          -1.1211292999907363,
          1.5421216804147273,
          -1.549518541882006,
          -0.21878965305249085,
          -0.33274785192148426,
          0.03839613471772703,
          0.6691599533196944,
          0.3871487248073923,
          0.40387429909665334,
          0.7247588667383599,
          -1.5225091596281835,
          -0.32979659813428497,
          -0.5452025101915784,
          -1.9811733433041465,
          -0.029726569470926757,
          0.9942345359726242,
          -0.07870466325272067,
          -0.5678925125681685,
          0.8352101020083307,
          1.356734340174622,
          0.6633030194828822,
          -1.878109443603396,
          0.4807410466186064,
          -1.7082364189358437,
          0.8034344191799038,
          -1.678042922148036,
          -0.4759946003657392,
          0.29617637280783177,
          -0.22137975269671287,
          0.20086450872531147,
          0.2760979123099737,
          -0.2965164288390808,
          -0.706895447410791,
          1.5502600995179623,
          -0.6366979543722484,
          -0.7945130457311103,
          0.6297315765883358,
          0.4579480253616451,
          0.28517272497515733,
          -0.21868300387992046,
          -0.16787171624831937,
          -0.11256607638564324,
          0.8426374710028974,
          1.3986615685946515,
          -1.090607338985743,
          -0.016303676441252794,
          -0.5134837346286907,
          1.0392470981419613,
          0.12597986836736935,
          0.7959389747964046,
          0.7869391740164042,
          1.180566432155465,
          -0.9087432452984626,
          1.1458975842260783,
          -0.48619113725080226,
          0.4519653102767159,
          -0.12775546706206647,
          -1.4745111163345082,
          0.4623793361305044,
          -1.8414636413615315,
          -0.8998394786238483,
          0.989983007084247,
          0.9209135025235198,
          0.43104015003451956,
          -1.0314835572965813,
          -0.8666704512202311,
          1.990009844956514,
          0.30763458949726985,
          -0.8083996392306123,
          -0.04601070015389032,
          -0.38955858350891004,
          -0.04579387604819479,
          0.7208062267677919,
          -0.5461314091368321,
          -0.07333890568319136,
          -0.6731249797118971,
          -0.9607768099010299,
          1.1946035383803502,
          -1.549483783341268,
          -0.8846384663118005,
          1.0714162135247847,
          1.0456771927635082,
          0.7032503799131992,
          -0.6042849922242488,
          0.37025210605028147,
          0.39945148695539534,
          0.6200164474203527,
          1.0380459280289769,
          0.6166768469337013,
          2.3583535900957595,
          -1.1721536099412537,
          0.2641334560644568,
          -0.1012069240711426,
          -1.295229272890841,
          0.42007471923436257,
          -0.181195570764781,
          1.0045105396837868,
          0.21141981539537366,
          -0.0037609794501674895,
          1.5777213958905867,
          -0.9790455927405601,
          1.2944199497324587,
          -0.6565409915865277,
          0.34335193218477583,
          0.1614128282623339,
          0.19790145866259193,
          -0.7788405447524069,
          -1.174063329845148,
          1.9014311768549739,
          0.14697835100328624,
          0.25235653431769817,
          0.023204414533541416,
          -1.1531764500266515,
          0.16161060654721654,
          -1.7889271051493558,
          -0.6848346571876761,
          -2.899552568970263,
          0.4486961359270778,
          -0.7424220023632888,
          -0.5623112261986121,
          -0.2553903918813048,
          0.6876296207544265,
          1.3407290629783486,
          -2.023458350385798,
          1.0171344481236224,
          -0.3100493795784042,
          -1.5748904444112957,
          0.5659061932500894,
          0.9075931786590923,
          -0.8551233922946476
         ],
         "xaxis": "x",
         "yaxis": "y"
        }
       ],
       "layout": {
        "barmode": "relative",
        "legend": {
         "tracegroupgap": 0
        },
        "margin": {
         "t": 60
        },
        "template": {
         "data": {
          "bar": [
           {
            "error_x": {
             "color": "#2a3f5f"
            },
            "error_y": {
             "color": "#2a3f5f"
            },
            "marker": {
             "line": {
              "color": "#E5ECF6",
              "width": 0.5
             },
             "pattern": {
              "fillmode": "overlay",
              "size": 10,
              "solidity": 0.2
             }
            },
            "type": "bar"
           }
          ],
          "barpolar": [
           {
            "marker": {
             "line": {
              "color": "#E5ECF6",
              "width": 0.5
             },
             "pattern": {
              "fillmode": "overlay",
              "size": 10,
              "solidity": 0.2
             }
            },
            "type": "barpolar"
           }
          ],
          "carpet": [
           {
            "aaxis": {
             "endlinecolor": "#2a3f5f",
             "gridcolor": "white",
             "linecolor": "white",
             "minorgridcolor": "white",
             "startlinecolor": "#2a3f5f"
            },
            "baxis": {
             "endlinecolor": "#2a3f5f",
             "gridcolor": "white",
             "linecolor": "white",
             "minorgridcolor": "white",
             "startlinecolor": "#2a3f5f"
            },
            "type": "carpet"
           }
          ],
          "choropleth": [
           {
            "colorbar": {
             "outlinewidth": 0,
             "ticks": ""
            },
            "type": "choropleth"
           }
          ],
          "contour": [
           {
            "colorbar": {
             "outlinewidth": 0,
             "ticks": ""
            },
            "colorscale": [
             [
              0,
              "#0d0887"
             ],
             [
              0.1111111111111111,
              "#46039f"
             ],
             [
              0.2222222222222222,
              "#7201a8"
             ],
             [
              0.3333333333333333,
              "#9c179e"
             ],
             [
              0.4444444444444444,
              "#bd3786"
             ],
             [
              0.5555555555555556,
              "#d8576b"
             ],
             [
              0.6666666666666666,
              "#ed7953"
             ],
             [
              0.7777777777777778,
              "#fb9f3a"
             ],
             [
              0.8888888888888888,
              "#fdca26"
             ],
             [
              1,
              "#f0f921"
             ]
            ],
            "type": "contour"
           }
          ],
          "contourcarpet": [
           {
            "colorbar": {
             "outlinewidth": 0,
             "ticks": ""
            },
            "type": "contourcarpet"
           }
          ],
          "heatmap": [
           {
            "colorbar": {
             "outlinewidth": 0,
             "ticks": ""
            },
            "colorscale": [
             [
              0,
              "#0d0887"
             ],
             [
              0.1111111111111111,
              "#46039f"
             ],
             [
              0.2222222222222222,
              "#7201a8"
             ],
             [
              0.3333333333333333,
              "#9c179e"
             ],
             [
              0.4444444444444444,
              "#bd3786"
             ],
             [
              0.5555555555555556,
              "#d8576b"
             ],
             [
              0.6666666666666666,
              "#ed7953"
             ],
             [
              0.7777777777777778,
              "#fb9f3a"
             ],
             [
              0.8888888888888888,
              "#fdca26"
             ],
             [
              1,
              "#f0f921"
             ]
            ],
            "type": "heatmap"
           }
          ],
          "heatmapgl": [
           {
            "colorbar": {
             "outlinewidth": 0,
             "ticks": ""
            },
            "colorscale": [
             [
              0,
              "#0d0887"
             ],
             [
              0.1111111111111111,
              "#46039f"
             ],
             [
              0.2222222222222222,
              "#7201a8"
             ],
             [
              0.3333333333333333,
              "#9c179e"
             ],
             [
              0.4444444444444444,
              "#bd3786"
             ],
             [
              0.5555555555555556,
              "#d8576b"
             ],
             [
              0.6666666666666666,
              "#ed7953"
             ],
             [
              0.7777777777777778,
              "#fb9f3a"
             ],
             [
              0.8888888888888888,
              "#fdca26"
             ],
             [
              1,
              "#f0f921"
             ]
            ],
            "type": "heatmapgl"
           }
          ],
          "histogram": [
           {
            "marker": {
             "pattern": {
              "fillmode": "overlay",
              "size": 10,
              "solidity": 0.2
             }
            },
            "type": "histogram"
           }
          ],
          "histogram2d": [
           {
            "colorbar": {
             "outlinewidth": 0,
             "ticks": ""
            },
            "colorscale": [
             [
              0,
              "#0d0887"
             ],
             [
              0.1111111111111111,
              "#46039f"
             ],
             [
              0.2222222222222222,
              "#7201a8"
             ],
             [
              0.3333333333333333,
              "#9c179e"
             ],
             [
              0.4444444444444444,
              "#bd3786"
             ],
             [
              0.5555555555555556,
              "#d8576b"
             ],
             [
              0.6666666666666666,
              "#ed7953"
             ],
             [
              0.7777777777777778,
              "#fb9f3a"
             ],
             [
              0.8888888888888888,
              "#fdca26"
             ],
             [
              1,
              "#f0f921"
             ]
            ],
            "type": "histogram2d"
           }
          ],
          "histogram2dcontour": [
           {
            "colorbar": {
             "outlinewidth": 0,
             "ticks": ""
            },
            "colorscale": [
             [
              0,
              "#0d0887"
             ],
             [
              0.1111111111111111,
              "#46039f"
             ],
             [
              0.2222222222222222,
              "#7201a8"
             ],
             [
              0.3333333333333333,
              "#9c179e"
             ],
             [
              0.4444444444444444,
              "#bd3786"
             ],
             [
              0.5555555555555556,
              "#d8576b"
             ],
             [
              0.6666666666666666,
              "#ed7953"
             ],
             [
              0.7777777777777778,
              "#fb9f3a"
             ],
             [
              0.8888888888888888,
              "#fdca26"
             ],
             [
              1,
              "#f0f921"
             ]
            ],
            "type": "histogram2dcontour"
           }
          ],
          "mesh3d": [
           {
            "colorbar": {
             "outlinewidth": 0,
             "ticks": ""
            },
            "type": "mesh3d"
           }
          ],
          "parcoords": [
           {
            "line": {
             "colorbar": {
              "outlinewidth": 0,
              "ticks": ""
             }
            },
            "type": "parcoords"
           }
          ],
          "pie": [
           {
            "automargin": true,
            "type": "pie"
           }
          ],
          "scatter": [
           {
            "fillpattern": {
             "fillmode": "overlay",
             "size": 10,
             "solidity": 0.2
            },
            "type": "scatter"
           }
          ],
          "scatter3d": [
           {
            "line": {
             "colorbar": {
              "outlinewidth": 0,
              "ticks": ""
             }
            },
            "marker": {
             "colorbar": {
              "outlinewidth": 0,
              "ticks": ""
             }
            },
            "type": "scatter3d"
           }
          ],
          "scattercarpet": [
           {
            "marker": {
             "colorbar": {
              "outlinewidth": 0,
              "ticks": ""
             }
            },
            "type": "scattercarpet"
           }
          ],
          "scattergeo": [
           {
            "marker": {
             "colorbar": {
              "outlinewidth": 0,
              "ticks": ""
             }
            },
            "type": "scattergeo"
           }
          ],
          "scattergl": [
           {
            "marker": {
             "colorbar": {
              "outlinewidth": 0,
              "ticks": ""
             }
            },
            "type": "scattergl"
           }
          ],
          "scattermapbox": [
           {
            "marker": {
             "colorbar": {
              "outlinewidth": 0,
              "ticks": ""
             }
            },
            "type": "scattermapbox"
           }
          ],
          "scatterpolar": [
           {
            "marker": {
             "colorbar": {
              "outlinewidth": 0,
              "ticks": ""
             }
            },
            "type": "scatterpolar"
           }
          ],
          "scatterpolargl": [
           {
            "marker": {
             "colorbar": {
              "outlinewidth": 0,
              "ticks": ""
             }
            },
            "type": "scatterpolargl"
           }
          ],
          "scatterternary": [
           {
            "marker": {
             "colorbar": {
              "outlinewidth": 0,
              "ticks": ""
             }
            },
            "type": "scatterternary"
           }
          ],
          "surface": [
           {
            "colorbar": {
             "outlinewidth": 0,
             "ticks": ""
            },
            "colorscale": [
             [
              0,
              "#0d0887"
             ],
             [
              0.1111111111111111,
              "#46039f"
             ],
             [
              0.2222222222222222,
              "#7201a8"
             ],
             [
              0.3333333333333333,
              "#9c179e"
             ],
             [
              0.4444444444444444,
              "#bd3786"
             ],
             [
              0.5555555555555556,
              "#d8576b"
             ],
             [
              0.6666666666666666,
              "#ed7953"
             ],
             [
              0.7777777777777778,
              "#fb9f3a"
             ],
             [
              0.8888888888888888,
              "#fdca26"
             ],
             [
              1,
              "#f0f921"
             ]
            ],
            "type": "surface"
           }
          ],
          "table": [
           {
            "cells": {
             "fill": {
              "color": "#EBF0F8"
             },
             "line": {
              "color": "white"
             }
            },
            "header": {
             "fill": {
              "color": "#C8D4E3"
             },
             "line": {
              "color": "white"
             }
            },
            "type": "table"
           }
          ]
         },
         "layout": {
          "annotationdefaults": {
           "arrowcolor": "#2a3f5f",
           "arrowhead": 0,
           "arrowwidth": 1
          },
          "autotypenumbers": "strict",
          "coloraxis": {
           "colorbar": {
            "outlinewidth": 0,
            "ticks": ""
           }
          },
          "colorscale": {
           "diverging": [
            [
             0,
             "#8e0152"
            ],
            [
             0.1,
             "#c51b7d"
            ],
            [
             0.2,
             "#de77ae"
            ],
            [
             0.3,
             "#f1b6da"
            ],
            [
             0.4,
             "#fde0ef"
            ],
            [
             0.5,
             "#f7f7f7"
            ],
            [
             0.6,
             "#e6f5d0"
            ],
            [
             0.7,
             "#b8e186"
            ],
            [
             0.8,
             "#7fbc41"
            ],
            [
             0.9,
             "#4d9221"
            ],
            [
             1,
             "#276419"
            ]
           ],
           "sequential": [
            [
             0,
             "#0d0887"
            ],
            [
             0.1111111111111111,
             "#46039f"
            ],
            [
             0.2222222222222222,
             "#7201a8"
            ],
            [
             0.3333333333333333,
             "#9c179e"
            ],
            [
             0.4444444444444444,
             "#bd3786"
            ],
            [
             0.5555555555555556,
             "#d8576b"
            ],
            [
             0.6666666666666666,
             "#ed7953"
            ],
            [
             0.7777777777777778,
             "#fb9f3a"
            ],
            [
             0.8888888888888888,
             "#fdca26"
            ],
            [
             1,
             "#f0f921"
            ]
           ],
           "sequentialminus": [
            [
             0,
             "#0d0887"
            ],
            [
             0.1111111111111111,
             "#46039f"
            ],
            [
             0.2222222222222222,
             "#7201a8"
            ],
            [
             0.3333333333333333,
             "#9c179e"
            ],
            [
             0.4444444444444444,
             "#bd3786"
            ],
            [
             0.5555555555555556,
             "#d8576b"
            ],
            [
             0.6666666666666666,
             "#ed7953"
            ],
            [
             0.7777777777777778,
             "#fb9f3a"
            ],
            [
             0.8888888888888888,
             "#fdca26"
            ],
            [
             1,
             "#f0f921"
            ]
           ]
          },
          "colorway": [
           "#636efa",
           "#EF553B",
           "#00cc96",
           "#ab63fa",
           "#FFA15A",
           "#19d3f3",
           "#FF6692",
           "#B6E880",
           "#FF97FF",
           "#FECB52"
          ],
          "font": {
           "color": "#2a3f5f"
          },
          "geo": {
           "bgcolor": "white",
           "lakecolor": "white",
           "landcolor": "#E5ECF6",
           "showlakes": true,
           "showland": true,
           "subunitcolor": "white"
          },
          "hoverlabel": {
           "align": "left"
          },
          "hovermode": "closest",
          "mapbox": {
           "style": "light"
          },
          "paper_bgcolor": "white",
          "plot_bgcolor": "#E5ECF6",
          "polar": {
           "angularaxis": {
            "gridcolor": "white",
            "linecolor": "white",
            "ticks": ""
           },
           "bgcolor": "#E5ECF6",
           "radialaxis": {
            "gridcolor": "white",
            "linecolor": "white",
            "ticks": ""
           }
          },
          "scene": {
           "xaxis": {
            "backgroundcolor": "#E5ECF6",
            "gridcolor": "white",
            "gridwidth": 2,
            "linecolor": "white",
            "showbackground": true,
            "ticks": "",
            "zerolinecolor": "white"
           },
           "yaxis": {
            "backgroundcolor": "#E5ECF6",
            "gridcolor": "white",
            "gridwidth": 2,
            "linecolor": "white",
            "showbackground": true,
            "ticks": "",
            "zerolinecolor": "white"
           },
           "zaxis": {
            "backgroundcolor": "#E5ECF6",
            "gridcolor": "white",
            "gridwidth": 2,
            "linecolor": "white",
            "showbackground": true,
            "ticks": "",
            "zerolinecolor": "white"
           }
          },
          "shapedefaults": {
           "line": {
            "color": "#2a3f5f"
           }
          },
          "ternary": {
           "aaxis": {
            "gridcolor": "white",
            "linecolor": "white",
            "ticks": ""
           },
           "baxis": {
            "gridcolor": "white",
            "linecolor": "white",
            "ticks": ""
           },
           "bgcolor": "#E5ECF6",
           "caxis": {
            "gridcolor": "white",
            "linecolor": "white",
            "ticks": ""
           }
          },
          "title": {
           "x": 0.05
          },
          "xaxis": {
           "automargin": true,
           "gridcolor": "white",
           "linecolor": "white",
           "ticks": "",
           "title": {
            "standoff": 15
           },
           "zerolinecolor": "white",
           "zerolinewidth": 2
          },
          "yaxis": {
           "automargin": true,
           "gridcolor": "white",
           "linecolor": "white",
           "ticks": "",
           "title": {
            "standoff": 15
           },
           "zerolinecolor": "white",
           "zerolinewidth": 2
          }
         }
        },
        "xaxis": {
         "anchor": "y",
         "domain": [
          0,
          1
         ],
         "title": {
          "text": "Normal"
         }
        },
        "yaxis": {
         "anchor": "x",
         "domain": [
          0,
          1
         ],
         "title": {
          "text": "count"
         }
        }
       }
      }
     },
     "metadata": {},
     "output_type": "display_data"
    }
   ],
   "source": [
    "df = data1\n",
    "fig = px.histogram(df, x=\"Normal\")\n",
    "fig.show()"
   ]
  },
  {
   "cell_type": "markdown",
   "metadata": {},
   "source": [
    "2. Add a title to your chart by passing a string as the input `title` into the function `histogram`\n",
    "3. And customise the size of the figure by using the inputs `height` and `width`. Both have to be integers and correspond to the size of the figure in pixels."
   ]
  },
  {
   "cell_type": "code",
   "execution_count": 7,
   "metadata": {},
   "outputs": [
    {
     "data": {
      "application/vnd.plotly.v1+json": {
       "config": {
        "plotlyServerURL": "https://plot.ly"
       },
       "data": [
        {
         "alignmentgroup": "True",
         "bingroup": "x",
         "hovertemplate": "Normal=%{x}<br>count=%{y}<extra></extra>",
         "legendgroup": "",
         "marker": {
          "color": "#636efa",
          "pattern": {
           "shape": ""
          }
         },
         "name": "",
         "offsetgroup": "",
         "orientation": "v",
         "showlegend": false,
         "type": "histogram",
         "x": [
          0.9922440175022573,
          -0.013192364921534144,
          -0.08643482672406257,
          1.086534493213565,
          -0.4112794626463247,
          3.065581107175467,
          -0.4139257129493315,
          0.49408638158181917,
          1.1553408731626915,
          1.3646587288715153,
          -0.18267585824155091,
          -0.6905925289813665,
          -0.5433696583272913,
          -1.7789681975386755,
          0.7445211791934149,
          -0.3910629368715519,
          -0.27495537015146326,
          0.39647006173481864,
          0.007142940031214655,
          0.08130845730738376,
          -0.8586395533597259,
          -0.5837840025111073,
          -2.0283048539117643,
          0.0868210404957446,
          0.011726565367619167,
          0.6235173814393108,
          0.09149573129017323,
          -0.7121951226567028,
          -0.16914019710741263,
          -0.3560255908978881,
          -3.065838924126337,
          0.5716665177217557,
          -0.14036769043887395,
          -0.8907415201512822,
          -0.7444166949579522,
          0.6183609198862388,
          -0.5668479300900784,
          -0.3902369081743067,
          1.1767267235195067,
          0.5648821653392719,
          2.152881244798071,
          0.028048637925076912,
          -0.37869819908424884,
          -0.1263169711878512,
          -0.20655575897592626,
          -1.06115139837128,
          -0.6438397336356853,
          0.028125718250783745,
          -0.5088759612461716,
          0.893359073935359,
          -0.2859848130190566,
          0.746565012581815,
          0.10407533685062888,
          0.039661758902339736,
          -0.26905016233424606,
          2.044792145713757,
          0.9773968311516065,
          -2.1638546527097837,
          0.603157687665255,
          -1.3710232696760039,
          -1.4985487881066921,
          -0.635168119412796,
          -1.8523927679935528,
          0.7446093861575178,
          1.790500197130094,
          -0.6854078384674978,
          -0.5651893261959818,
          0.9076839167750421,
          -0.5729424152645838,
          -0.2724617554188349,
          1.848647745643187,
          -0.4966958631276866,
          0.7331589706607188,
          -2.7213947925079105,
          2.3113579900982795,
          0.0502576237361418,
          -1.405663329561947,
          1.3543435147418859,
          -1.159805088686849,
          -1.1368591336367126,
          0.2665594172624437,
          0.30094167600171634,
          -0.05975424225132378,
          -0.2659791769346562,
          -0.6759782234501358,
          -0.5144079528466928,
          -1.2802519259698528,
          0.28204035450378634,
          1.7841882003375709,
          -0.5742293003431136,
          0.8631985121026826,
          1.0577261204761375,
          -0.18713478444336487,
          0.17138706931221617,
          1.2817046356415476,
          -0.8395867897432568,
          0.17059155447538074,
          -0.29338176303084057,
          0.4807455180969727,
          -1.1197618280965094,
          -0.21758256850491764,
          0.47807223286284317,
          -0.686414764434861,
          2.402039469267209,
          -1.0019164888574208,
          -0.0602309491768687,
          1.536806829922405,
          -0.03228569289014455,
          0.21407306889458944,
          -0.31586746298314994,
          1.0049821614181516,
          -0.7881320886318622,
          -1.4502839302480446,
          -0.1908107820709176,
          -1.333767347792869,
          -1.3294378712348183,
          -0.5553907196973072,
          -0.918369739840416,
          0.038746640451373195,
          -0.5990398356253983,
          0.6362121021100953,
          0.32748922675461045,
          -0.2822190963094087,
          0.3646414091799714,
          -0.39041994506578825,
          -0.1885723022561982,
          0.7357890227881434,
          -0.9199302538733043,
          0.1776472091072587,
          -0.39063572722475026,
          0.7741443162571909,
          -0.8523263267457808,
          0.8592572949742107,
          0.6188556106703542,
          -1.3873949266588683,
          0.81433304655623,
          0.8553944584957461,
          0.04698847432060194,
          0.29909093259972286,
          -1.3262196085337492,
          0.10232168021264923,
          -1.7066564332559706,
          -0.31019569025117627,
          -1.6050795043947228,
          0.22709410931946222,
          -0.5701045664295864,
          0.4213820468774945,
          -1.610568614042046,
          -0.3506385330660151,
          -1.800866945205892,
          0.5825608925139816,
          -0.16565081938630924,
          -0.9571265040375223,
          0.9779488770382453,
          -1.463458582721687,
          -0.826618956439601,
          1.4063393619956273,
          -0.09468736117199524,
          -0.34422693757133077,
          2.47795694428459,
          -0.2678949229923536,
          -0.19211069973448863,
          0.3267473360125302,
          0.48631983315268557,
          0.287318159944065,
          -0.19366376173130617,
          0.42591253607646645,
          -0.904258022442456,
          0.06150771415127942,
          -0.9588215070723852,
          -0.7295845391821887,
          1.364038428375701,
          -0.5924606896060864,
          -0.9232777472805235,
          -0.4425166023332556,
          0.9334716639745994,
          -2.2557040664766967,
          1.1123651965969956,
          1.0533535884774083,
          -1.3228488965754894,
          0.6170151436153989,
          1.3022228214907963,
          -0.18443326811390678,
          -0.4777942931335947,
          0.797193586171972,
          2.2783995781150814,
          1.2515886746012905,
          0.25012308897225327,
          -0.25081578728117493,
          -0.17111790992430811,
          -0.6958174060931471,
          -2.0408501238115093,
          -0.4017328476551939,
          -0.6844736101263469,
          0.4179689012537265,
          0.14773302828998583,
          -0.3714609886167385,
          0.4097443196174013,
          1.6052966097009098,
          -1.089552682939431,
          -0.1594924648610055,
          -0.4362431182761573,
          0.5757169044424252,
          -1.5517569456236109,
          2.6912510672380634,
          0.7261741072220927,
          -0.0725366123552572,
          1.0632112536916074,
          -0.5274482026370689,
          0.9683331036086136,
          -0.0589885892899716,
          -1.547361928619816,
          0.05147970577367814,
          -1.1935833521342203,
          0.6346331751455601,
          -0.6952408605738849,
          0.2574749301966593,
          -0.28794508009095193,
          0.3055931430038713,
          1.5377551414516173,
          -0.02101896542357186,
          1.7749222204148771,
          0.29328242232783075,
          -0.797538705589144,
          -0.08496676689899221,
          -0.31558541835569537,
          -1.7413248530872203,
          1.5029717991630258,
          0.2678099699102134,
          1.1304236787470152,
          -1.4910303473771636,
          0.44840595716486537,
          -0.1852462401900747,
          1.848012323526967,
          1.7863742517346741,
          -0.5990642951683577,
          -0.031217216154582842,
          -0.41641533343195986,
          -0.5598781869270968,
          -0.49979331409712036,
          1.2012452716700386,
          1.1999512812303772,
          -0.2657662860768825,
          -0.3011377442814745,
          0.9686644074447734,
          0.4889534562476449,
          0.002059059138348558,
          -0.7805596187133934,
          0.598914396816366,
          0.8176499552934805,
          -0.7490842581363188,
          1.0322812622642012,
          -1.4405600126906497,
          -1.1385975436249773,
          1.5781636803028174,
          -1.2513260992164903,
          -0.28477350302821025,
          -0.006187722400097042,
          -0.5351133912294991,
          0.14602643139864477,
          -2.0373447582561193,
          0.5093475025113386,
          -0.2950687916430458,
          1.1167351567647796,
          1.039253416900312,
          1.4083313088940643,
          1.4341467971702635,
          -0.29283429508760744,
          0.8651295503374785,
          0.22770541553408952,
          -1.1211292999907363,
          1.5421216804147273,
          -1.549518541882006,
          -0.21878965305249085,
          -0.33274785192148426,
          0.03839613471772703,
          0.6691599533196944,
          0.3871487248073923,
          0.40387429909665334,
          0.7247588667383599,
          -1.5225091596281835,
          -0.32979659813428497,
          -0.5452025101915784,
          -1.9811733433041465,
          -0.029726569470926757,
          0.9942345359726242,
          -0.07870466325272067,
          -0.5678925125681685,
          0.8352101020083307,
          1.356734340174622,
          0.6633030194828822,
          -1.878109443603396,
          0.4807410466186064,
          -1.7082364189358437,
          0.8034344191799038,
          -1.678042922148036,
          -0.4759946003657392,
          0.29617637280783177,
          -0.22137975269671287,
          0.20086450872531147,
          0.2760979123099737,
          -0.2965164288390808,
          -0.706895447410791,
          1.5502600995179623,
          -0.6366979543722484,
          -0.7945130457311103,
          0.6297315765883358,
          0.4579480253616451,
          0.28517272497515733,
          -0.21868300387992046,
          -0.16787171624831937,
          -0.11256607638564324,
          0.8426374710028974,
          1.3986615685946515,
          -1.090607338985743,
          -0.016303676441252794,
          -0.5134837346286907,
          1.0392470981419613,
          0.12597986836736935,
          0.7959389747964046,
          0.7869391740164042,
          1.180566432155465,
          -0.9087432452984626,
          1.1458975842260783,
          -0.48619113725080226,
          0.4519653102767159,
          -0.12775546706206647,
          -1.4745111163345082,
          0.4623793361305044,
          -1.8414636413615315,
          -0.8998394786238483,
          0.989983007084247,
          0.9209135025235198,
          0.43104015003451956,
          -1.0314835572965813,
          -0.8666704512202311,
          1.990009844956514,
          0.30763458949726985,
          -0.8083996392306123,
          -0.04601070015389032,
          -0.38955858350891004,
          -0.04579387604819479,
          0.7208062267677919,
          -0.5461314091368321,
          -0.07333890568319136,
          -0.6731249797118971,
          -0.9607768099010299,
          1.1946035383803502,
          -1.549483783341268,
          -0.8846384663118005,
          1.0714162135247847,
          1.0456771927635082,
          0.7032503799131992,
          -0.6042849922242488,
          0.37025210605028147,
          0.39945148695539534,
          0.6200164474203527,
          1.0380459280289769,
          0.6166768469337013,
          2.3583535900957595,
          -1.1721536099412537,
          0.2641334560644568,
          -0.1012069240711426,
          -1.295229272890841,
          0.42007471923436257,
          -0.181195570764781,
          1.0045105396837868,
          0.21141981539537366,
          -0.0037609794501674895,
          1.5777213958905867,
          -0.9790455927405601,
          1.2944199497324587,
          -0.6565409915865277,
          0.34335193218477583,
          0.1614128282623339,
          0.19790145866259193,
          -0.7788405447524069,
          -1.174063329845148,
          1.9014311768549739,
          0.14697835100328624,
          0.25235653431769817,
          0.023204414533541416,
          -1.1531764500266515,
          0.16161060654721654,
          -1.7889271051493558,
          -0.6848346571876761,
          -2.899552568970263,
          0.4486961359270778,
          -0.7424220023632888,
          -0.5623112261986121,
          -0.2553903918813048,
          0.6876296207544265,
          1.3407290629783486,
          -2.023458350385798,
          1.0171344481236224,
          -0.3100493795784042,
          -1.5748904444112957,
          0.5659061932500894,
          0.9075931786590923,
          -0.8551233922946476
         ],
         "xaxis": "x",
         "yaxis": "y"
        }
       ],
       "layout": {
        "barmode": "relative",
        "height": 500,
        "legend": {
         "tracegroupgap": 0
        },
        "template": {
         "data": {
          "bar": [
           {
            "error_x": {
             "color": "#2a3f5f"
            },
            "error_y": {
             "color": "#2a3f5f"
            },
            "marker": {
             "line": {
              "color": "#E5ECF6",
              "width": 0.5
             },
             "pattern": {
              "fillmode": "overlay",
              "size": 10,
              "solidity": 0.2
             }
            },
            "type": "bar"
           }
          ],
          "barpolar": [
           {
            "marker": {
             "line": {
              "color": "#E5ECF6",
              "width": 0.5
             },
             "pattern": {
              "fillmode": "overlay",
              "size": 10,
              "solidity": 0.2
             }
            },
            "type": "barpolar"
           }
          ],
          "carpet": [
           {
            "aaxis": {
             "endlinecolor": "#2a3f5f",
             "gridcolor": "white",
             "linecolor": "white",
             "minorgridcolor": "white",
             "startlinecolor": "#2a3f5f"
            },
            "baxis": {
             "endlinecolor": "#2a3f5f",
             "gridcolor": "white",
             "linecolor": "white",
             "minorgridcolor": "white",
             "startlinecolor": "#2a3f5f"
            },
            "type": "carpet"
           }
          ],
          "choropleth": [
           {
            "colorbar": {
             "outlinewidth": 0,
             "ticks": ""
            },
            "type": "choropleth"
           }
          ],
          "contour": [
           {
            "colorbar": {
             "outlinewidth": 0,
             "ticks": ""
            },
            "colorscale": [
             [
              0,
              "#0d0887"
             ],
             [
              0.1111111111111111,
              "#46039f"
             ],
             [
              0.2222222222222222,
              "#7201a8"
             ],
             [
              0.3333333333333333,
              "#9c179e"
             ],
             [
              0.4444444444444444,
              "#bd3786"
             ],
             [
              0.5555555555555556,
              "#d8576b"
             ],
             [
              0.6666666666666666,
              "#ed7953"
             ],
             [
              0.7777777777777778,
              "#fb9f3a"
             ],
             [
              0.8888888888888888,
              "#fdca26"
             ],
             [
              1,
              "#f0f921"
             ]
            ],
            "type": "contour"
           }
          ],
          "contourcarpet": [
           {
            "colorbar": {
             "outlinewidth": 0,
             "ticks": ""
            },
            "type": "contourcarpet"
           }
          ],
          "heatmap": [
           {
            "colorbar": {
             "outlinewidth": 0,
             "ticks": ""
            },
            "colorscale": [
             [
              0,
              "#0d0887"
             ],
             [
              0.1111111111111111,
              "#46039f"
             ],
             [
              0.2222222222222222,
              "#7201a8"
             ],
             [
              0.3333333333333333,
              "#9c179e"
             ],
             [
              0.4444444444444444,
              "#bd3786"
             ],
             [
              0.5555555555555556,
              "#d8576b"
             ],
             [
              0.6666666666666666,
              "#ed7953"
             ],
             [
              0.7777777777777778,
              "#fb9f3a"
             ],
             [
              0.8888888888888888,
              "#fdca26"
             ],
             [
              1,
              "#f0f921"
             ]
            ],
            "type": "heatmap"
           }
          ],
          "heatmapgl": [
           {
            "colorbar": {
             "outlinewidth": 0,
             "ticks": ""
            },
            "colorscale": [
             [
              0,
              "#0d0887"
             ],
             [
              0.1111111111111111,
              "#46039f"
             ],
             [
              0.2222222222222222,
              "#7201a8"
             ],
             [
              0.3333333333333333,
              "#9c179e"
             ],
             [
              0.4444444444444444,
              "#bd3786"
             ],
             [
              0.5555555555555556,
              "#d8576b"
             ],
             [
              0.6666666666666666,
              "#ed7953"
             ],
             [
              0.7777777777777778,
              "#fb9f3a"
             ],
             [
              0.8888888888888888,
              "#fdca26"
             ],
             [
              1,
              "#f0f921"
             ]
            ],
            "type": "heatmapgl"
           }
          ],
          "histogram": [
           {
            "marker": {
             "pattern": {
              "fillmode": "overlay",
              "size": 10,
              "solidity": 0.2
             }
            },
            "type": "histogram"
           }
          ],
          "histogram2d": [
           {
            "colorbar": {
             "outlinewidth": 0,
             "ticks": ""
            },
            "colorscale": [
             [
              0,
              "#0d0887"
             ],
             [
              0.1111111111111111,
              "#46039f"
             ],
             [
              0.2222222222222222,
              "#7201a8"
             ],
             [
              0.3333333333333333,
              "#9c179e"
             ],
             [
              0.4444444444444444,
              "#bd3786"
             ],
             [
              0.5555555555555556,
              "#d8576b"
             ],
             [
              0.6666666666666666,
              "#ed7953"
             ],
             [
              0.7777777777777778,
              "#fb9f3a"
             ],
             [
              0.8888888888888888,
              "#fdca26"
             ],
             [
              1,
              "#f0f921"
             ]
            ],
            "type": "histogram2d"
           }
          ],
          "histogram2dcontour": [
           {
            "colorbar": {
             "outlinewidth": 0,
             "ticks": ""
            },
            "colorscale": [
             [
              0,
              "#0d0887"
             ],
             [
              0.1111111111111111,
              "#46039f"
             ],
             [
              0.2222222222222222,
              "#7201a8"
             ],
             [
              0.3333333333333333,
              "#9c179e"
             ],
             [
              0.4444444444444444,
              "#bd3786"
             ],
             [
              0.5555555555555556,
              "#d8576b"
             ],
             [
              0.6666666666666666,
              "#ed7953"
             ],
             [
              0.7777777777777778,
              "#fb9f3a"
             ],
             [
              0.8888888888888888,
              "#fdca26"
             ],
             [
              1,
              "#f0f921"
             ]
            ],
            "type": "histogram2dcontour"
           }
          ],
          "mesh3d": [
           {
            "colorbar": {
             "outlinewidth": 0,
             "ticks": ""
            },
            "type": "mesh3d"
           }
          ],
          "parcoords": [
           {
            "line": {
             "colorbar": {
              "outlinewidth": 0,
              "ticks": ""
             }
            },
            "type": "parcoords"
           }
          ],
          "pie": [
           {
            "automargin": true,
            "type": "pie"
           }
          ],
          "scatter": [
           {
            "fillpattern": {
             "fillmode": "overlay",
             "size": 10,
             "solidity": 0.2
            },
            "type": "scatter"
           }
          ],
          "scatter3d": [
           {
            "line": {
             "colorbar": {
              "outlinewidth": 0,
              "ticks": ""
             }
            },
            "marker": {
             "colorbar": {
              "outlinewidth": 0,
              "ticks": ""
             }
            },
            "type": "scatter3d"
           }
          ],
          "scattercarpet": [
           {
            "marker": {
             "colorbar": {
              "outlinewidth": 0,
              "ticks": ""
             }
            },
            "type": "scattercarpet"
           }
          ],
          "scattergeo": [
           {
            "marker": {
             "colorbar": {
              "outlinewidth": 0,
              "ticks": ""
             }
            },
            "type": "scattergeo"
           }
          ],
          "scattergl": [
           {
            "marker": {
             "colorbar": {
              "outlinewidth": 0,
              "ticks": ""
             }
            },
            "type": "scattergl"
           }
          ],
          "scattermapbox": [
           {
            "marker": {
             "colorbar": {
              "outlinewidth": 0,
              "ticks": ""
             }
            },
            "type": "scattermapbox"
           }
          ],
          "scatterpolar": [
           {
            "marker": {
             "colorbar": {
              "outlinewidth": 0,
              "ticks": ""
             }
            },
            "type": "scatterpolar"
           }
          ],
          "scatterpolargl": [
           {
            "marker": {
             "colorbar": {
              "outlinewidth": 0,
              "ticks": ""
             }
            },
            "type": "scatterpolargl"
           }
          ],
          "scatterternary": [
           {
            "marker": {
             "colorbar": {
              "outlinewidth": 0,
              "ticks": ""
             }
            },
            "type": "scatterternary"
           }
          ],
          "surface": [
           {
            "colorbar": {
             "outlinewidth": 0,
             "ticks": ""
            },
            "colorscale": [
             [
              0,
              "#0d0887"
             ],
             [
              0.1111111111111111,
              "#46039f"
             ],
             [
              0.2222222222222222,
              "#7201a8"
             ],
             [
              0.3333333333333333,
              "#9c179e"
             ],
             [
              0.4444444444444444,
              "#bd3786"
             ],
             [
              0.5555555555555556,
              "#d8576b"
             ],
             [
              0.6666666666666666,
              "#ed7953"
             ],
             [
              0.7777777777777778,
              "#fb9f3a"
             ],
             [
              0.8888888888888888,
              "#fdca26"
             ],
             [
              1,
              "#f0f921"
             ]
            ],
            "type": "surface"
           }
          ],
          "table": [
           {
            "cells": {
             "fill": {
              "color": "#EBF0F8"
             },
             "line": {
              "color": "white"
             }
            },
            "header": {
             "fill": {
              "color": "#C8D4E3"
             },
             "line": {
              "color": "white"
             }
            },
            "type": "table"
           }
          ]
         },
         "layout": {
          "annotationdefaults": {
           "arrowcolor": "#2a3f5f",
           "arrowhead": 0,
           "arrowwidth": 1
          },
          "autotypenumbers": "strict",
          "coloraxis": {
           "colorbar": {
            "outlinewidth": 0,
            "ticks": ""
           }
          },
          "colorscale": {
           "diverging": [
            [
             0,
             "#8e0152"
            ],
            [
             0.1,
             "#c51b7d"
            ],
            [
             0.2,
             "#de77ae"
            ],
            [
             0.3,
             "#f1b6da"
            ],
            [
             0.4,
             "#fde0ef"
            ],
            [
             0.5,
             "#f7f7f7"
            ],
            [
             0.6,
             "#e6f5d0"
            ],
            [
             0.7,
             "#b8e186"
            ],
            [
             0.8,
             "#7fbc41"
            ],
            [
             0.9,
             "#4d9221"
            ],
            [
             1,
             "#276419"
            ]
           ],
           "sequential": [
            [
             0,
             "#0d0887"
            ],
            [
             0.1111111111111111,
             "#46039f"
            ],
            [
             0.2222222222222222,
             "#7201a8"
            ],
            [
             0.3333333333333333,
             "#9c179e"
            ],
            [
             0.4444444444444444,
             "#bd3786"
            ],
            [
             0.5555555555555556,
             "#d8576b"
            ],
            [
             0.6666666666666666,
             "#ed7953"
            ],
            [
             0.7777777777777778,
             "#fb9f3a"
            ],
            [
             0.8888888888888888,
             "#fdca26"
            ],
            [
             1,
             "#f0f921"
            ]
           ],
           "sequentialminus": [
            [
             0,
             "#0d0887"
            ],
            [
             0.1111111111111111,
             "#46039f"
            ],
            [
             0.2222222222222222,
             "#7201a8"
            ],
            [
             0.3333333333333333,
             "#9c179e"
            ],
            [
             0.4444444444444444,
             "#bd3786"
            ],
            [
             0.5555555555555556,
             "#d8576b"
            ],
            [
             0.6666666666666666,
             "#ed7953"
            ],
            [
             0.7777777777777778,
             "#fb9f3a"
            ],
            [
             0.8888888888888888,
             "#fdca26"
            ],
            [
             1,
             "#f0f921"
            ]
           ]
          },
          "colorway": [
           "#636efa",
           "#EF553B",
           "#00cc96",
           "#ab63fa",
           "#FFA15A",
           "#19d3f3",
           "#FF6692",
           "#B6E880",
           "#FF97FF",
           "#FECB52"
          ],
          "font": {
           "color": "#2a3f5f"
          },
          "geo": {
           "bgcolor": "white",
           "lakecolor": "white",
           "landcolor": "#E5ECF6",
           "showlakes": true,
           "showland": true,
           "subunitcolor": "white"
          },
          "hoverlabel": {
           "align": "left"
          },
          "hovermode": "closest",
          "mapbox": {
           "style": "light"
          },
          "paper_bgcolor": "white",
          "plot_bgcolor": "#E5ECF6",
          "polar": {
           "angularaxis": {
            "gridcolor": "white",
            "linecolor": "white",
            "ticks": ""
           },
           "bgcolor": "#E5ECF6",
           "radialaxis": {
            "gridcolor": "white",
            "linecolor": "white",
            "ticks": ""
           }
          },
          "scene": {
           "xaxis": {
            "backgroundcolor": "#E5ECF6",
            "gridcolor": "white",
            "gridwidth": 2,
            "linecolor": "white",
            "showbackground": true,
            "ticks": "",
            "zerolinecolor": "white"
           },
           "yaxis": {
            "backgroundcolor": "#E5ECF6",
            "gridcolor": "white",
            "gridwidth": 2,
            "linecolor": "white",
            "showbackground": true,
            "ticks": "",
            "zerolinecolor": "white"
           },
           "zaxis": {
            "backgroundcolor": "#E5ECF6",
            "gridcolor": "white",
            "gridwidth": 2,
            "linecolor": "white",
            "showbackground": true,
            "ticks": "",
            "zerolinecolor": "white"
           }
          },
          "shapedefaults": {
           "line": {
            "color": "#2a3f5f"
           }
          },
          "ternary": {
           "aaxis": {
            "gridcolor": "white",
            "linecolor": "white",
            "ticks": ""
           },
           "baxis": {
            "gridcolor": "white",
            "linecolor": "white",
            "ticks": ""
           },
           "bgcolor": "#E5ECF6",
           "caxis": {
            "gridcolor": "white",
            "linecolor": "white",
            "ticks": ""
           }
          },
          "title": {
           "x": 0.05
          },
          "xaxis": {
           "automargin": true,
           "gridcolor": "white",
           "linecolor": "white",
           "ticks": "",
           "title": {
            "standoff": 15
           },
           "zerolinecolor": "white",
           "zerolinewidth": 2
          },
          "yaxis": {
           "automargin": true,
           "gridcolor": "white",
           "linecolor": "white",
           "ticks": "",
           "title": {
            "standoff": 15
           },
           "zerolinecolor": "white",
           "zerolinewidth": 2
          }
         }
        },
        "title": {
         "text": "Sample from a Normal Distribution"
        },
        "width": 800,
        "xaxis": {
         "anchor": "y",
         "domain": [
          0,
          1
         ],
         "title": {
          "text": "Normal"
         }
        },
        "yaxis": {
         "anchor": "x",
         "domain": [
          0,
          1
         ],
         "title": {
          "text": "count"
         }
        }
       }
      }
     },
     "metadata": {},
     "output_type": "display_data"
    }
   ],
   "source": [
    "fig = px.histogram(df, x=\"Normal\", \n",
    "                   height = 500, width = 800,\n",
    "                   title='Sample from a Normal Distribution')\n",
    "fig.show()"
   ]
  },
  {
   "cell_type": "markdown",
   "metadata": {},
   "source": [
    "4. Change the histogram to **density scale** by setting the input `histnorm` as `'probability density'`"
   ]
  },
  {
   "cell_type": "code",
   "execution_count": 8,
   "metadata": {},
   "outputs": [
    {
     "data": {
      "application/vnd.plotly.v1+json": {
       "config": {
        "plotlyServerURL": "https://plot.ly"
       },
       "data": [
        {
         "alignmentgroup": "True",
         "bingroup": "x",
         "histnorm": "probability density",
         "hovertemplate": "Normal=%{x}<br>probability density=%{y}<extra></extra>",
         "legendgroup": "",
         "marker": {
          "color": "#636efa",
          "pattern": {
           "shape": ""
          }
         },
         "name": "",
         "offsetgroup": "",
         "orientation": "v",
         "showlegend": false,
         "type": "histogram",
         "x": [
          0.9922440175022573,
          -0.013192364921534144,
          -0.08643482672406257,
          1.086534493213565,
          -0.4112794626463247,
          3.065581107175467,
          -0.4139257129493315,
          0.49408638158181917,
          1.1553408731626915,
          1.3646587288715153,
          -0.18267585824155091,
          -0.6905925289813665,
          -0.5433696583272913,
          -1.7789681975386755,
          0.7445211791934149,
          -0.3910629368715519,
          -0.27495537015146326,
          0.39647006173481864,
          0.007142940031214655,
          0.08130845730738376,
          -0.8586395533597259,
          -0.5837840025111073,
          -2.0283048539117643,
          0.0868210404957446,
          0.011726565367619167,
          0.6235173814393108,
          0.09149573129017323,
          -0.7121951226567028,
          -0.16914019710741263,
          -0.3560255908978881,
          -3.065838924126337,
          0.5716665177217557,
          -0.14036769043887395,
          -0.8907415201512822,
          -0.7444166949579522,
          0.6183609198862388,
          -0.5668479300900784,
          -0.3902369081743067,
          1.1767267235195067,
          0.5648821653392719,
          2.152881244798071,
          0.028048637925076912,
          -0.37869819908424884,
          -0.1263169711878512,
          -0.20655575897592626,
          -1.06115139837128,
          -0.6438397336356853,
          0.028125718250783745,
          -0.5088759612461716,
          0.893359073935359,
          -0.2859848130190566,
          0.746565012581815,
          0.10407533685062888,
          0.039661758902339736,
          -0.26905016233424606,
          2.044792145713757,
          0.9773968311516065,
          -2.1638546527097837,
          0.603157687665255,
          -1.3710232696760039,
          -1.4985487881066921,
          -0.635168119412796,
          -1.8523927679935528,
          0.7446093861575178,
          1.790500197130094,
          -0.6854078384674978,
          -0.5651893261959818,
          0.9076839167750421,
          -0.5729424152645838,
          -0.2724617554188349,
          1.848647745643187,
          -0.4966958631276866,
          0.7331589706607188,
          -2.7213947925079105,
          2.3113579900982795,
          0.0502576237361418,
          -1.405663329561947,
          1.3543435147418859,
          -1.159805088686849,
          -1.1368591336367126,
          0.2665594172624437,
          0.30094167600171634,
          -0.05975424225132378,
          -0.2659791769346562,
          -0.6759782234501358,
          -0.5144079528466928,
          -1.2802519259698528,
          0.28204035450378634,
          1.7841882003375709,
          -0.5742293003431136,
          0.8631985121026826,
          1.0577261204761375,
          -0.18713478444336487,
          0.17138706931221617,
          1.2817046356415476,
          -0.8395867897432568,
          0.17059155447538074,
          -0.29338176303084057,
          0.4807455180969727,
          -1.1197618280965094,
          -0.21758256850491764,
          0.47807223286284317,
          -0.686414764434861,
          2.402039469267209,
          -1.0019164888574208,
          -0.0602309491768687,
          1.536806829922405,
          -0.03228569289014455,
          0.21407306889458944,
          -0.31586746298314994,
          1.0049821614181516,
          -0.7881320886318622,
          -1.4502839302480446,
          -0.1908107820709176,
          -1.333767347792869,
          -1.3294378712348183,
          -0.5553907196973072,
          -0.918369739840416,
          0.038746640451373195,
          -0.5990398356253983,
          0.6362121021100953,
          0.32748922675461045,
          -0.2822190963094087,
          0.3646414091799714,
          -0.39041994506578825,
          -0.1885723022561982,
          0.7357890227881434,
          -0.9199302538733043,
          0.1776472091072587,
          -0.39063572722475026,
          0.7741443162571909,
          -0.8523263267457808,
          0.8592572949742107,
          0.6188556106703542,
          -1.3873949266588683,
          0.81433304655623,
          0.8553944584957461,
          0.04698847432060194,
          0.29909093259972286,
          -1.3262196085337492,
          0.10232168021264923,
          -1.7066564332559706,
          -0.31019569025117627,
          -1.6050795043947228,
          0.22709410931946222,
          -0.5701045664295864,
          0.4213820468774945,
          -1.610568614042046,
          -0.3506385330660151,
          -1.800866945205892,
          0.5825608925139816,
          -0.16565081938630924,
          -0.9571265040375223,
          0.9779488770382453,
          -1.463458582721687,
          -0.826618956439601,
          1.4063393619956273,
          -0.09468736117199524,
          -0.34422693757133077,
          2.47795694428459,
          -0.2678949229923536,
          -0.19211069973448863,
          0.3267473360125302,
          0.48631983315268557,
          0.287318159944065,
          -0.19366376173130617,
          0.42591253607646645,
          -0.904258022442456,
          0.06150771415127942,
          -0.9588215070723852,
          -0.7295845391821887,
          1.364038428375701,
          -0.5924606896060864,
          -0.9232777472805235,
          -0.4425166023332556,
          0.9334716639745994,
          -2.2557040664766967,
          1.1123651965969956,
          1.0533535884774083,
          -1.3228488965754894,
          0.6170151436153989,
          1.3022228214907963,
          -0.18443326811390678,
          -0.4777942931335947,
          0.797193586171972,
          2.2783995781150814,
          1.2515886746012905,
          0.25012308897225327,
          -0.25081578728117493,
          -0.17111790992430811,
          -0.6958174060931471,
          -2.0408501238115093,
          -0.4017328476551939,
          -0.6844736101263469,
          0.4179689012537265,
          0.14773302828998583,
          -0.3714609886167385,
          0.4097443196174013,
          1.6052966097009098,
          -1.089552682939431,
          -0.1594924648610055,
          -0.4362431182761573,
          0.5757169044424252,
          -1.5517569456236109,
          2.6912510672380634,
          0.7261741072220927,
          -0.0725366123552572,
          1.0632112536916074,
          -0.5274482026370689,
          0.9683331036086136,
          -0.0589885892899716,
          -1.547361928619816,
          0.05147970577367814,
          -1.1935833521342203,
          0.6346331751455601,
          -0.6952408605738849,
          0.2574749301966593,
          -0.28794508009095193,
          0.3055931430038713,
          1.5377551414516173,
          -0.02101896542357186,
          1.7749222204148771,
          0.29328242232783075,
          -0.797538705589144,
          -0.08496676689899221,
          -0.31558541835569537,
          -1.7413248530872203,
          1.5029717991630258,
          0.2678099699102134,
          1.1304236787470152,
          -1.4910303473771636,
          0.44840595716486537,
          -0.1852462401900747,
          1.848012323526967,
          1.7863742517346741,
          -0.5990642951683577,
          -0.031217216154582842,
          -0.41641533343195986,
          -0.5598781869270968,
          -0.49979331409712036,
          1.2012452716700386,
          1.1999512812303772,
          -0.2657662860768825,
          -0.3011377442814745,
          0.9686644074447734,
          0.4889534562476449,
          0.002059059138348558,
          -0.7805596187133934,
          0.598914396816366,
          0.8176499552934805,
          -0.7490842581363188,
          1.0322812622642012,
          -1.4405600126906497,
          -1.1385975436249773,
          1.5781636803028174,
          -1.2513260992164903,
          -0.28477350302821025,
          -0.006187722400097042,
          -0.5351133912294991,
          0.14602643139864477,
          -2.0373447582561193,
          0.5093475025113386,
          -0.2950687916430458,
          1.1167351567647796,
          1.039253416900312,
          1.4083313088940643,
          1.4341467971702635,
          -0.29283429508760744,
          0.8651295503374785,
          0.22770541553408952,
          -1.1211292999907363,
          1.5421216804147273,
          -1.549518541882006,
          -0.21878965305249085,
          -0.33274785192148426,
          0.03839613471772703,
          0.6691599533196944,
          0.3871487248073923,
          0.40387429909665334,
          0.7247588667383599,
          -1.5225091596281835,
          -0.32979659813428497,
          -0.5452025101915784,
          -1.9811733433041465,
          -0.029726569470926757,
          0.9942345359726242,
          -0.07870466325272067,
          -0.5678925125681685,
          0.8352101020083307,
          1.356734340174622,
          0.6633030194828822,
          -1.878109443603396,
          0.4807410466186064,
          -1.7082364189358437,
          0.8034344191799038,
          -1.678042922148036,
          -0.4759946003657392,
          0.29617637280783177,
          -0.22137975269671287,
          0.20086450872531147,
          0.2760979123099737,
          -0.2965164288390808,
          -0.706895447410791,
          1.5502600995179623,
          -0.6366979543722484,
          -0.7945130457311103,
          0.6297315765883358,
          0.4579480253616451,
          0.28517272497515733,
          -0.21868300387992046,
          -0.16787171624831937,
          -0.11256607638564324,
          0.8426374710028974,
          1.3986615685946515,
          -1.090607338985743,
          -0.016303676441252794,
          -0.5134837346286907,
          1.0392470981419613,
          0.12597986836736935,
          0.7959389747964046,
          0.7869391740164042,
          1.180566432155465,
          -0.9087432452984626,
          1.1458975842260783,
          -0.48619113725080226,
          0.4519653102767159,
          -0.12775546706206647,
          -1.4745111163345082,
          0.4623793361305044,
          -1.8414636413615315,
          -0.8998394786238483,
          0.989983007084247,
          0.9209135025235198,
          0.43104015003451956,
          -1.0314835572965813,
          -0.8666704512202311,
          1.990009844956514,
          0.30763458949726985,
          -0.8083996392306123,
          -0.04601070015389032,
          -0.38955858350891004,
          -0.04579387604819479,
          0.7208062267677919,
          -0.5461314091368321,
          -0.07333890568319136,
          -0.6731249797118971,
          -0.9607768099010299,
          1.1946035383803502,
          -1.549483783341268,
          -0.8846384663118005,
          1.0714162135247847,
          1.0456771927635082,
          0.7032503799131992,
          -0.6042849922242488,
          0.37025210605028147,
          0.39945148695539534,
          0.6200164474203527,
          1.0380459280289769,
          0.6166768469337013,
          2.3583535900957595,
          -1.1721536099412537,
          0.2641334560644568,
          -0.1012069240711426,
          -1.295229272890841,
          0.42007471923436257,
          -0.181195570764781,
          1.0045105396837868,
          0.21141981539537366,
          -0.0037609794501674895,
          1.5777213958905867,
          -0.9790455927405601,
          1.2944199497324587,
          -0.6565409915865277,
          0.34335193218477583,
          0.1614128282623339,
          0.19790145866259193,
          -0.7788405447524069,
          -1.174063329845148,
          1.9014311768549739,
          0.14697835100328624,
          0.25235653431769817,
          0.023204414533541416,
          -1.1531764500266515,
          0.16161060654721654,
          -1.7889271051493558,
          -0.6848346571876761,
          -2.899552568970263,
          0.4486961359270778,
          -0.7424220023632888,
          -0.5623112261986121,
          -0.2553903918813048,
          0.6876296207544265,
          1.3407290629783486,
          -2.023458350385798,
          1.0171344481236224,
          -0.3100493795784042,
          -1.5748904444112957,
          0.5659061932500894,
          0.9075931786590923,
          -0.8551233922946476
         ],
         "xaxis": "x",
         "yaxis": "y"
        }
       ],
       "layout": {
        "barmode": "relative",
        "height": 500,
        "legend": {
         "tracegroupgap": 0
        },
        "template": {
         "data": {
          "bar": [
           {
            "error_x": {
             "color": "#2a3f5f"
            },
            "error_y": {
             "color": "#2a3f5f"
            },
            "marker": {
             "line": {
              "color": "#E5ECF6",
              "width": 0.5
             },
             "pattern": {
              "fillmode": "overlay",
              "size": 10,
              "solidity": 0.2
             }
            },
            "type": "bar"
           }
          ],
          "barpolar": [
           {
            "marker": {
             "line": {
              "color": "#E5ECF6",
              "width": 0.5
             },
             "pattern": {
              "fillmode": "overlay",
              "size": 10,
              "solidity": 0.2
             }
            },
            "type": "barpolar"
           }
          ],
          "carpet": [
           {
            "aaxis": {
             "endlinecolor": "#2a3f5f",
             "gridcolor": "white",
             "linecolor": "white",
             "minorgridcolor": "white",
             "startlinecolor": "#2a3f5f"
            },
            "baxis": {
             "endlinecolor": "#2a3f5f",
             "gridcolor": "white",
             "linecolor": "white",
             "minorgridcolor": "white",
             "startlinecolor": "#2a3f5f"
            },
            "type": "carpet"
           }
          ],
          "choropleth": [
           {
            "colorbar": {
             "outlinewidth": 0,
             "ticks": ""
            },
            "type": "choropleth"
           }
          ],
          "contour": [
           {
            "colorbar": {
             "outlinewidth": 0,
             "ticks": ""
            },
            "colorscale": [
             [
              0,
              "#0d0887"
             ],
             [
              0.1111111111111111,
              "#46039f"
             ],
             [
              0.2222222222222222,
              "#7201a8"
             ],
             [
              0.3333333333333333,
              "#9c179e"
             ],
             [
              0.4444444444444444,
              "#bd3786"
             ],
             [
              0.5555555555555556,
              "#d8576b"
             ],
             [
              0.6666666666666666,
              "#ed7953"
             ],
             [
              0.7777777777777778,
              "#fb9f3a"
             ],
             [
              0.8888888888888888,
              "#fdca26"
             ],
             [
              1,
              "#f0f921"
             ]
            ],
            "type": "contour"
           }
          ],
          "contourcarpet": [
           {
            "colorbar": {
             "outlinewidth": 0,
             "ticks": ""
            },
            "type": "contourcarpet"
           }
          ],
          "heatmap": [
           {
            "colorbar": {
             "outlinewidth": 0,
             "ticks": ""
            },
            "colorscale": [
             [
              0,
              "#0d0887"
             ],
             [
              0.1111111111111111,
              "#46039f"
             ],
             [
              0.2222222222222222,
              "#7201a8"
             ],
             [
              0.3333333333333333,
              "#9c179e"
             ],
             [
              0.4444444444444444,
              "#bd3786"
             ],
             [
              0.5555555555555556,
              "#d8576b"
             ],
             [
              0.6666666666666666,
              "#ed7953"
             ],
             [
              0.7777777777777778,
              "#fb9f3a"
             ],
             [
              0.8888888888888888,
              "#fdca26"
             ],
             [
              1,
              "#f0f921"
             ]
            ],
            "type": "heatmap"
           }
          ],
          "heatmapgl": [
           {
            "colorbar": {
             "outlinewidth": 0,
             "ticks": ""
            },
            "colorscale": [
             [
              0,
              "#0d0887"
             ],
             [
              0.1111111111111111,
              "#46039f"
             ],
             [
              0.2222222222222222,
              "#7201a8"
             ],
             [
              0.3333333333333333,
              "#9c179e"
             ],
             [
              0.4444444444444444,
              "#bd3786"
             ],
             [
              0.5555555555555556,
              "#d8576b"
             ],
             [
              0.6666666666666666,
              "#ed7953"
             ],
             [
              0.7777777777777778,
              "#fb9f3a"
             ],
             [
              0.8888888888888888,
              "#fdca26"
             ],
             [
              1,
              "#f0f921"
             ]
            ],
            "type": "heatmapgl"
           }
          ],
          "histogram": [
           {
            "marker": {
             "pattern": {
              "fillmode": "overlay",
              "size": 10,
              "solidity": 0.2
             }
            },
            "type": "histogram"
           }
          ],
          "histogram2d": [
           {
            "colorbar": {
             "outlinewidth": 0,
             "ticks": ""
            },
            "colorscale": [
             [
              0,
              "#0d0887"
             ],
             [
              0.1111111111111111,
              "#46039f"
             ],
             [
              0.2222222222222222,
              "#7201a8"
             ],
             [
              0.3333333333333333,
              "#9c179e"
             ],
             [
              0.4444444444444444,
              "#bd3786"
             ],
             [
              0.5555555555555556,
              "#d8576b"
             ],
             [
              0.6666666666666666,
              "#ed7953"
             ],
             [
              0.7777777777777778,
              "#fb9f3a"
             ],
             [
              0.8888888888888888,
              "#fdca26"
             ],
             [
              1,
              "#f0f921"
             ]
            ],
            "type": "histogram2d"
           }
          ],
          "histogram2dcontour": [
           {
            "colorbar": {
             "outlinewidth": 0,
             "ticks": ""
            },
            "colorscale": [
             [
              0,
              "#0d0887"
             ],
             [
              0.1111111111111111,
              "#46039f"
             ],
             [
              0.2222222222222222,
              "#7201a8"
             ],
             [
              0.3333333333333333,
              "#9c179e"
             ],
             [
              0.4444444444444444,
              "#bd3786"
             ],
             [
              0.5555555555555556,
              "#d8576b"
             ],
             [
              0.6666666666666666,
              "#ed7953"
             ],
             [
              0.7777777777777778,
              "#fb9f3a"
             ],
             [
              0.8888888888888888,
              "#fdca26"
             ],
             [
              1,
              "#f0f921"
             ]
            ],
            "type": "histogram2dcontour"
           }
          ],
          "mesh3d": [
           {
            "colorbar": {
             "outlinewidth": 0,
             "ticks": ""
            },
            "type": "mesh3d"
           }
          ],
          "parcoords": [
           {
            "line": {
             "colorbar": {
              "outlinewidth": 0,
              "ticks": ""
             }
            },
            "type": "parcoords"
           }
          ],
          "pie": [
           {
            "automargin": true,
            "type": "pie"
           }
          ],
          "scatter": [
           {
            "fillpattern": {
             "fillmode": "overlay",
             "size": 10,
             "solidity": 0.2
            },
            "type": "scatter"
           }
          ],
          "scatter3d": [
           {
            "line": {
             "colorbar": {
              "outlinewidth": 0,
              "ticks": ""
             }
            },
            "marker": {
             "colorbar": {
              "outlinewidth": 0,
              "ticks": ""
             }
            },
            "type": "scatter3d"
           }
          ],
          "scattercarpet": [
           {
            "marker": {
             "colorbar": {
              "outlinewidth": 0,
              "ticks": ""
             }
            },
            "type": "scattercarpet"
           }
          ],
          "scattergeo": [
           {
            "marker": {
             "colorbar": {
              "outlinewidth": 0,
              "ticks": ""
             }
            },
            "type": "scattergeo"
           }
          ],
          "scattergl": [
           {
            "marker": {
             "colorbar": {
              "outlinewidth": 0,
              "ticks": ""
             }
            },
            "type": "scattergl"
           }
          ],
          "scattermapbox": [
           {
            "marker": {
             "colorbar": {
              "outlinewidth": 0,
              "ticks": ""
             }
            },
            "type": "scattermapbox"
           }
          ],
          "scatterpolar": [
           {
            "marker": {
             "colorbar": {
              "outlinewidth": 0,
              "ticks": ""
             }
            },
            "type": "scatterpolar"
           }
          ],
          "scatterpolargl": [
           {
            "marker": {
             "colorbar": {
              "outlinewidth": 0,
              "ticks": ""
             }
            },
            "type": "scatterpolargl"
           }
          ],
          "scatterternary": [
           {
            "marker": {
             "colorbar": {
              "outlinewidth": 0,
              "ticks": ""
             }
            },
            "type": "scatterternary"
           }
          ],
          "surface": [
           {
            "colorbar": {
             "outlinewidth": 0,
             "ticks": ""
            },
            "colorscale": [
             [
              0,
              "#0d0887"
             ],
             [
              0.1111111111111111,
              "#46039f"
             ],
             [
              0.2222222222222222,
              "#7201a8"
             ],
             [
              0.3333333333333333,
              "#9c179e"
             ],
             [
              0.4444444444444444,
              "#bd3786"
             ],
             [
              0.5555555555555556,
              "#d8576b"
             ],
             [
              0.6666666666666666,
              "#ed7953"
             ],
             [
              0.7777777777777778,
              "#fb9f3a"
             ],
             [
              0.8888888888888888,
              "#fdca26"
             ],
             [
              1,
              "#f0f921"
             ]
            ],
            "type": "surface"
           }
          ],
          "table": [
           {
            "cells": {
             "fill": {
              "color": "#EBF0F8"
             },
             "line": {
              "color": "white"
             }
            },
            "header": {
             "fill": {
              "color": "#C8D4E3"
             },
             "line": {
              "color": "white"
             }
            },
            "type": "table"
           }
          ]
         },
         "layout": {
          "annotationdefaults": {
           "arrowcolor": "#2a3f5f",
           "arrowhead": 0,
           "arrowwidth": 1
          },
          "autotypenumbers": "strict",
          "coloraxis": {
           "colorbar": {
            "outlinewidth": 0,
            "ticks": ""
           }
          },
          "colorscale": {
           "diverging": [
            [
             0,
             "#8e0152"
            ],
            [
             0.1,
             "#c51b7d"
            ],
            [
             0.2,
             "#de77ae"
            ],
            [
             0.3,
             "#f1b6da"
            ],
            [
             0.4,
             "#fde0ef"
            ],
            [
             0.5,
             "#f7f7f7"
            ],
            [
             0.6,
             "#e6f5d0"
            ],
            [
             0.7,
             "#b8e186"
            ],
            [
             0.8,
             "#7fbc41"
            ],
            [
             0.9,
             "#4d9221"
            ],
            [
             1,
             "#276419"
            ]
           ],
           "sequential": [
            [
             0,
             "#0d0887"
            ],
            [
             0.1111111111111111,
             "#46039f"
            ],
            [
             0.2222222222222222,
             "#7201a8"
            ],
            [
             0.3333333333333333,
             "#9c179e"
            ],
            [
             0.4444444444444444,
             "#bd3786"
            ],
            [
             0.5555555555555556,
             "#d8576b"
            ],
            [
             0.6666666666666666,
             "#ed7953"
            ],
            [
             0.7777777777777778,
             "#fb9f3a"
            ],
            [
             0.8888888888888888,
             "#fdca26"
            ],
            [
             1,
             "#f0f921"
            ]
           ],
           "sequentialminus": [
            [
             0,
             "#0d0887"
            ],
            [
             0.1111111111111111,
             "#46039f"
            ],
            [
             0.2222222222222222,
             "#7201a8"
            ],
            [
             0.3333333333333333,
             "#9c179e"
            ],
            [
             0.4444444444444444,
             "#bd3786"
            ],
            [
             0.5555555555555556,
             "#d8576b"
            ],
            [
             0.6666666666666666,
             "#ed7953"
            ],
            [
             0.7777777777777778,
             "#fb9f3a"
            ],
            [
             0.8888888888888888,
             "#fdca26"
            ],
            [
             1,
             "#f0f921"
            ]
           ]
          },
          "colorway": [
           "#636efa",
           "#EF553B",
           "#00cc96",
           "#ab63fa",
           "#FFA15A",
           "#19d3f3",
           "#FF6692",
           "#B6E880",
           "#FF97FF",
           "#FECB52"
          ],
          "font": {
           "color": "#2a3f5f"
          },
          "geo": {
           "bgcolor": "white",
           "lakecolor": "white",
           "landcolor": "#E5ECF6",
           "showlakes": true,
           "showland": true,
           "subunitcolor": "white"
          },
          "hoverlabel": {
           "align": "left"
          },
          "hovermode": "closest",
          "mapbox": {
           "style": "light"
          },
          "paper_bgcolor": "white",
          "plot_bgcolor": "#E5ECF6",
          "polar": {
           "angularaxis": {
            "gridcolor": "white",
            "linecolor": "white",
            "ticks": ""
           },
           "bgcolor": "#E5ECF6",
           "radialaxis": {
            "gridcolor": "white",
            "linecolor": "white",
            "ticks": ""
           }
          },
          "scene": {
           "xaxis": {
            "backgroundcolor": "#E5ECF6",
            "gridcolor": "white",
            "gridwidth": 2,
            "linecolor": "white",
            "showbackground": true,
            "ticks": "",
            "zerolinecolor": "white"
           },
           "yaxis": {
            "backgroundcolor": "#E5ECF6",
            "gridcolor": "white",
            "gridwidth": 2,
            "linecolor": "white",
            "showbackground": true,
            "ticks": "",
            "zerolinecolor": "white"
           },
           "zaxis": {
            "backgroundcolor": "#E5ECF6",
            "gridcolor": "white",
            "gridwidth": 2,
            "linecolor": "white",
            "showbackground": true,
            "ticks": "",
            "zerolinecolor": "white"
           }
          },
          "shapedefaults": {
           "line": {
            "color": "#2a3f5f"
           }
          },
          "ternary": {
           "aaxis": {
            "gridcolor": "white",
            "linecolor": "white",
            "ticks": ""
           },
           "baxis": {
            "gridcolor": "white",
            "linecolor": "white",
            "ticks": ""
           },
           "bgcolor": "#E5ECF6",
           "caxis": {
            "gridcolor": "white",
            "linecolor": "white",
            "ticks": ""
           }
          },
          "title": {
           "x": 0.05
          },
          "xaxis": {
           "automargin": true,
           "gridcolor": "white",
           "linecolor": "white",
           "ticks": "",
           "title": {
            "standoff": 15
           },
           "zerolinecolor": "white",
           "zerolinewidth": 2
          },
          "yaxis": {
           "automargin": true,
           "gridcolor": "white",
           "linecolor": "white",
           "ticks": "",
           "title": {
            "standoff": 15
           },
           "zerolinecolor": "white",
           "zerolinewidth": 2
          }
         }
        },
        "title": {
         "text": "Sample from a Normal Distribution"
        },
        "width": 800,
        "xaxis": {
         "anchor": "y",
         "domain": [
          0,
          1
         ],
         "title": {
          "text": "Normal"
         }
        },
        "yaxis": {
         "anchor": "x",
         "domain": [
          0,
          1
         ],
         "title": {
          "text": "probability density"
         }
        }
       }
      }
     },
     "metadata": {},
     "output_type": "display_data"
    }
   ],
   "source": [
    "fig = px.histogram(df, x=\"Normal\", \n",
    "                   histnorm='probability density',\n",
    "                   height = 500, width = 800,\n",
    "                   title='Sample from a Normal Distribution')\n",
    "fig.show()"
   ]
  },
  {
   "cell_type": "markdown",
   "metadata": {},
   "source": [
    "5. Customize the number of bins using the input `nbins`. \n",
    "Choosing the number of bins in a histogram is crucial because it directly affects how the data distribution is visualized. If the number of bins is too small, the histogram may oversimplify the data, potentially hiding important details or trends. Conversely, if too many bins are used, the histogram can become overly detailed, making the distribution appear noisy and fragmented, which may obscure the overall pattern. Striking the right balance is essential to accurately represent the underlying distribution of the data."
   ]
  },
  {
   "cell_type": "code",
   "execution_count": 9,
   "metadata": {},
   "outputs": [
    {
     "data": {
      "application/vnd.plotly.v1+json": {
       "config": {
        "plotlyServerURL": "https://plot.ly"
       },
       "data": [
        {
         "alignmentgroup": "True",
         "bingroup": "x",
         "histnorm": "probability density",
         "hovertemplate": "Normal=%{x}<br>probability density=%{y}<extra></extra>",
         "legendgroup": "",
         "marker": {
          "color": "#636efa",
          "pattern": {
           "shape": ""
          }
         },
         "name": "",
         "nbinsx": 25,
         "offsetgroup": "",
         "orientation": "v",
         "showlegend": false,
         "type": "histogram",
         "x": [
          0.9922440175022573,
          -0.013192364921534144,
          -0.08643482672406257,
          1.086534493213565,
          -0.4112794626463247,
          3.065581107175467,
          -0.4139257129493315,
          0.49408638158181917,
          1.1553408731626915,
          1.3646587288715153,
          -0.18267585824155091,
          -0.6905925289813665,
          -0.5433696583272913,
          -1.7789681975386755,
          0.7445211791934149,
          -0.3910629368715519,
          -0.27495537015146326,
          0.39647006173481864,
          0.007142940031214655,
          0.08130845730738376,
          -0.8586395533597259,
          -0.5837840025111073,
          -2.0283048539117643,
          0.0868210404957446,
          0.011726565367619167,
          0.6235173814393108,
          0.09149573129017323,
          -0.7121951226567028,
          -0.16914019710741263,
          -0.3560255908978881,
          -3.065838924126337,
          0.5716665177217557,
          -0.14036769043887395,
          -0.8907415201512822,
          -0.7444166949579522,
          0.6183609198862388,
          -0.5668479300900784,
          -0.3902369081743067,
          1.1767267235195067,
          0.5648821653392719,
          2.152881244798071,
          0.028048637925076912,
          -0.37869819908424884,
          -0.1263169711878512,
          -0.20655575897592626,
          -1.06115139837128,
          -0.6438397336356853,
          0.028125718250783745,
          -0.5088759612461716,
          0.893359073935359,
          -0.2859848130190566,
          0.746565012581815,
          0.10407533685062888,
          0.039661758902339736,
          -0.26905016233424606,
          2.044792145713757,
          0.9773968311516065,
          -2.1638546527097837,
          0.603157687665255,
          -1.3710232696760039,
          -1.4985487881066921,
          -0.635168119412796,
          -1.8523927679935528,
          0.7446093861575178,
          1.790500197130094,
          -0.6854078384674978,
          -0.5651893261959818,
          0.9076839167750421,
          -0.5729424152645838,
          -0.2724617554188349,
          1.848647745643187,
          -0.4966958631276866,
          0.7331589706607188,
          -2.7213947925079105,
          2.3113579900982795,
          0.0502576237361418,
          -1.405663329561947,
          1.3543435147418859,
          -1.159805088686849,
          -1.1368591336367126,
          0.2665594172624437,
          0.30094167600171634,
          -0.05975424225132378,
          -0.2659791769346562,
          -0.6759782234501358,
          -0.5144079528466928,
          -1.2802519259698528,
          0.28204035450378634,
          1.7841882003375709,
          -0.5742293003431136,
          0.8631985121026826,
          1.0577261204761375,
          -0.18713478444336487,
          0.17138706931221617,
          1.2817046356415476,
          -0.8395867897432568,
          0.17059155447538074,
          -0.29338176303084057,
          0.4807455180969727,
          -1.1197618280965094,
          -0.21758256850491764,
          0.47807223286284317,
          -0.686414764434861,
          2.402039469267209,
          -1.0019164888574208,
          -0.0602309491768687,
          1.536806829922405,
          -0.03228569289014455,
          0.21407306889458944,
          -0.31586746298314994,
          1.0049821614181516,
          -0.7881320886318622,
          -1.4502839302480446,
          -0.1908107820709176,
          -1.333767347792869,
          -1.3294378712348183,
          -0.5553907196973072,
          -0.918369739840416,
          0.038746640451373195,
          -0.5990398356253983,
          0.6362121021100953,
          0.32748922675461045,
          -0.2822190963094087,
          0.3646414091799714,
          -0.39041994506578825,
          -0.1885723022561982,
          0.7357890227881434,
          -0.9199302538733043,
          0.1776472091072587,
          -0.39063572722475026,
          0.7741443162571909,
          -0.8523263267457808,
          0.8592572949742107,
          0.6188556106703542,
          -1.3873949266588683,
          0.81433304655623,
          0.8553944584957461,
          0.04698847432060194,
          0.29909093259972286,
          -1.3262196085337492,
          0.10232168021264923,
          -1.7066564332559706,
          -0.31019569025117627,
          -1.6050795043947228,
          0.22709410931946222,
          -0.5701045664295864,
          0.4213820468774945,
          -1.610568614042046,
          -0.3506385330660151,
          -1.800866945205892,
          0.5825608925139816,
          -0.16565081938630924,
          -0.9571265040375223,
          0.9779488770382453,
          -1.463458582721687,
          -0.826618956439601,
          1.4063393619956273,
          -0.09468736117199524,
          -0.34422693757133077,
          2.47795694428459,
          -0.2678949229923536,
          -0.19211069973448863,
          0.3267473360125302,
          0.48631983315268557,
          0.287318159944065,
          -0.19366376173130617,
          0.42591253607646645,
          -0.904258022442456,
          0.06150771415127942,
          -0.9588215070723852,
          -0.7295845391821887,
          1.364038428375701,
          -0.5924606896060864,
          -0.9232777472805235,
          -0.4425166023332556,
          0.9334716639745994,
          -2.2557040664766967,
          1.1123651965969956,
          1.0533535884774083,
          -1.3228488965754894,
          0.6170151436153989,
          1.3022228214907963,
          -0.18443326811390678,
          -0.4777942931335947,
          0.797193586171972,
          2.2783995781150814,
          1.2515886746012905,
          0.25012308897225327,
          -0.25081578728117493,
          -0.17111790992430811,
          -0.6958174060931471,
          -2.0408501238115093,
          -0.4017328476551939,
          -0.6844736101263469,
          0.4179689012537265,
          0.14773302828998583,
          -0.3714609886167385,
          0.4097443196174013,
          1.6052966097009098,
          -1.089552682939431,
          -0.1594924648610055,
          -0.4362431182761573,
          0.5757169044424252,
          -1.5517569456236109,
          2.6912510672380634,
          0.7261741072220927,
          -0.0725366123552572,
          1.0632112536916074,
          -0.5274482026370689,
          0.9683331036086136,
          -0.0589885892899716,
          -1.547361928619816,
          0.05147970577367814,
          -1.1935833521342203,
          0.6346331751455601,
          -0.6952408605738849,
          0.2574749301966593,
          -0.28794508009095193,
          0.3055931430038713,
          1.5377551414516173,
          -0.02101896542357186,
          1.7749222204148771,
          0.29328242232783075,
          -0.797538705589144,
          -0.08496676689899221,
          -0.31558541835569537,
          -1.7413248530872203,
          1.5029717991630258,
          0.2678099699102134,
          1.1304236787470152,
          -1.4910303473771636,
          0.44840595716486537,
          -0.1852462401900747,
          1.848012323526967,
          1.7863742517346741,
          -0.5990642951683577,
          -0.031217216154582842,
          -0.41641533343195986,
          -0.5598781869270968,
          -0.49979331409712036,
          1.2012452716700386,
          1.1999512812303772,
          -0.2657662860768825,
          -0.3011377442814745,
          0.9686644074447734,
          0.4889534562476449,
          0.002059059138348558,
          -0.7805596187133934,
          0.598914396816366,
          0.8176499552934805,
          -0.7490842581363188,
          1.0322812622642012,
          -1.4405600126906497,
          -1.1385975436249773,
          1.5781636803028174,
          -1.2513260992164903,
          -0.28477350302821025,
          -0.006187722400097042,
          -0.5351133912294991,
          0.14602643139864477,
          -2.0373447582561193,
          0.5093475025113386,
          -0.2950687916430458,
          1.1167351567647796,
          1.039253416900312,
          1.4083313088940643,
          1.4341467971702635,
          -0.29283429508760744,
          0.8651295503374785,
          0.22770541553408952,
          -1.1211292999907363,
          1.5421216804147273,
          -1.549518541882006,
          -0.21878965305249085,
          -0.33274785192148426,
          0.03839613471772703,
          0.6691599533196944,
          0.3871487248073923,
          0.40387429909665334,
          0.7247588667383599,
          -1.5225091596281835,
          -0.32979659813428497,
          -0.5452025101915784,
          -1.9811733433041465,
          -0.029726569470926757,
          0.9942345359726242,
          -0.07870466325272067,
          -0.5678925125681685,
          0.8352101020083307,
          1.356734340174622,
          0.6633030194828822,
          -1.878109443603396,
          0.4807410466186064,
          -1.7082364189358437,
          0.8034344191799038,
          -1.678042922148036,
          -0.4759946003657392,
          0.29617637280783177,
          -0.22137975269671287,
          0.20086450872531147,
          0.2760979123099737,
          -0.2965164288390808,
          -0.706895447410791,
          1.5502600995179623,
          -0.6366979543722484,
          -0.7945130457311103,
          0.6297315765883358,
          0.4579480253616451,
          0.28517272497515733,
          -0.21868300387992046,
          -0.16787171624831937,
          -0.11256607638564324,
          0.8426374710028974,
          1.3986615685946515,
          -1.090607338985743,
          -0.016303676441252794,
          -0.5134837346286907,
          1.0392470981419613,
          0.12597986836736935,
          0.7959389747964046,
          0.7869391740164042,
          1.180566432155465,
          -0.9087432452984626,
          1.1458975842260783,
          -0.48619113725080226,
          0.4519653102767159,
          -0.12775546706206647,
          -1.4745111163345082,
          0.4623793361305044,
          -1.8414636413615315,
          -0.8998394786238483,
          0.989983007084247,
          0.9209135025235198,
          0.43104015003451956,
          -1.0314835572965813,
          -0.8666704512202311,
          1.990009844956514,
          0.30763458949726985,
          -0.8083996392306123,
          -0.04601070015389032,
          -0.38955858350891004,
          -0.04579387604819479,
          0.7208062267677919,
          -0.5461314091368321,
          -0.07333890568319136,
          -0.6731249797118971,
          -0.9607768099010299,
          1.1946035383803502,
          -1.549483783341268,
          -0.8846384663118005,
          1.0714162135247847,
          1.0456771927635082,
          0.7032503799131992,
          -0.6042849922242488,
          0.37025210605028147,
          0.39945148695539534,
          0.6200164474203527,
          1.0380459280289769,
          0.6166768469337013,
          2.3583535900957595,
          -1.1721536099412537,
          0.2641334560644568,
          -0.1012069240711426,
          -1.295229272890841,
          0.42007471923436257,
          -0.181195570764781,
          1.0045105396837868,
          0.21141981539537366,
          -0.0037609794501674895,
          1.5777213958905867,
          -0.9790455927405601,
          1.2944199497324587,
          -0.6565409915865277,
          0.34335193218477583,
          0.1614128282623339,
          0.19790145866259193,
          -0.7788405447524069,
          -1.174063329845148,
          1.9014311768549739,
          0.14697835100328624,
          0.25235653431769817,
          0.023204414533541416,
          -1.1531764500266515,
          0.16161060654721654,
          -1.7889271051493558,
          -0.6848346571876761,
          -2.899552568970263,
          0.4486961359270778,
          -0.7424220023632888,
          -0.5623112261986121,
          -0.2553903918813048,
          0.6876296207544265,
          1.3407290629783486,
          -2.023458350385798,
          1.0171344481236224,
          -0.3100493795784042,
          -1.5748904444112957,
          0.5659061932500894,
          0.9075931786590923,
          -0.8551233922946476
         ],
         "xaxis": "x",
         "yaxis": "y"
        }
       ],
       "layout": {
        "barmode": "relative",
        "height": 500,
        "legend": {
         "tracegroupgap": 0
        },
        "template": {
         "data": {
          "bar": [
           {
            "error_x": {
             "color": "#2a3f5f"
            },
            "error_y": {
             "color": "#2a3f5f"
            },
            "marker": {
             "line": {
              "color": "#E5ECF6",
              "width": 0.5
             },
             "pattern": {
              "fillmode": "overlay",
              "size": 10,
              "solidity": 0.2
             }
            },
            "type": "bar"
           }
          ],
          "barpolar": [
           {
            "marker": {
             "line": {
              "color": "#E5ECF6",
              "width": 0.5
             },
             "pattern": {
              "fillmode": "overlay",
              "size": 10,
              "solidity": 0.2
             }
            },
            "type": "barpolar"
           }
          ],
          "carpet": [
           {
            "aaxis": {
             "endlinecolor": "#2a3f5f",
             "gridcolor": "white",
             "linecolor": "white",
             "minorgridcolor": "white",
             "startlinecolor": "#2a3f5f"
            },
            "baxis": {
             "endlinecolor": "#2a3f5f",
             "gridcolor": "white",
             "linecolor": "white",
             "minorgridcolor": "white",
             "startlinecolor": "#2a3f5f"
            },
            "type": "carpet"
           }
          ],
          "choropleth": [
           {
            "colorbar": {
             "outlinewidth": 0,
             "ticks": ""
            },
            "type": "choropleth"
           }
          ],
          "contour": [
           {
            "colorbar": {
             "outlinewidth": 0,
             "ticks": ""
            },
            "colorscale": [
             [
              0,
              "#0d0887"
             ],
             [
              0.1111111111111111,
              "#46039f"
             ],
             [
              0.2222222222222222,
              "#7201a8"
             ],
             [
              0.3333333333333333,
              "#9c179e"
             ],
             [
              0.4444444444444444,
              "#bd3786"
             ],
             [
              0.5555555555555556,
              "#d8576b"
             ],
             [
              0.6666666666666666,
              "#ed7953"
             ],
             [
              0.7777777777777778,
              "#fb9f3a"
             ],
             [
              0.8888888888888888,
              "#fdca26"
             ],
             [
              1,
              "#f0f921"
             ]
            ],
            "type": "contour"
           }
          ],
          "contourcarpet": [
           {
            "colorbar": {
             "outlinewidth": 0,
             "ticks": ""
            },
            "type": "contourcarpet"
           }
          ],
          "heatmap": [
           {
            "colorbar": {
             "outlinewidth": 0,
             "ticks": ""
            },
            "colorscale": [
             [
              0,
              "#0d0887"
             ],
             [
              0.1111111111111111,
              "#46039f"
             ],
             [
              0.2222222222222222,
              "#7201a8"
             ],
             [
              0.3333333333333333,
              "#9c179e"
             ],
             [
              0.4444444444444444,
              "#bd3786"
             ],
             [
              0.5555555555555556,
              "#d8576b"
             ],
             [
              0.6666666666666666,
              "#ed7953"
             ],
             [
              0.7777777777777778,
              "#fb9f3a"
             ],
             [
              0.8888888888888888,
              "#fdca26"
             ],
             [
              1,
              "#f0f921"
             ]
            ],
            "type": "heatmap"
           }
          ],
          "heatmapgl": [
           {
            "colorbar": {
             "outlinewidth": 0,
             "ticks": ""
            },
            "colorscale": [
             [
              0,
              "#0d0887"
             ],
             [
              0.1111111111111111,
              "#46039f"
             ],
             [
              0.2222222222222222,
              "#7201a8"
             ],
             [
              0.3333333333333333,
              "#9c179e"
             ],
             [
              0.4444444444444444,
              "#bd3786"
             ],
             [
              0.5555555555555556,
              "#d8576b"
             ],
             [
              0.6666666666666666,
              "#ed7953"
             ],
             [
              0.7777777777777778,
              "#fb9f3a"
             ],
             [
              0.8888888888888888,
              "#fdca26"
             ],
             [
              1,
              "#f0f921"
             ]
            ],
            "type": "heatmapgl"
           }
          ],
          "histogram": [
           {
            "marker": {
             "pattern": {
              "fillmode": "overlay",
              "size": 10,
              "solidity": 0.2
             }
            },
            "type": "histogram"
           }
          ],
          "histogram2d": [
           {
            "colorbar": {
             "outlinewidth": 0,
             "ticks": ""
            },
            "colorscale": [
             [
              0,
              "#0d0887"
             ],
             [
              0.1111111111111111,
              "#46039f"
             ],
             [
              0.2222222222222222,
              "#7201a8"
             ],
             [
              0.3333333333333333,
              "#9c179e"
             ],
             [
              0.4444444444444444,
              "#bd3786"
             ],
             [
              0.5555555555555556,
              "#d8576b"
             ],
             [
              0.6666666666666666,
              "#ed7953"
             ],
             [
              0.7777777777777778,
              "#fb9f3a"
             ],
             [
              0.8888888888888888,
              "#fdca26"
             ],
             [
              1,
              "#f0f921"
             ]
            ],
            "type": "histogram2d"
           }
          ],
          "histogram2dcontour": [
           {
            "colorbar": {
             "outlinewidth": 0,
             "ticks": ""
            },
            "colorscale": [
             [
              0,
              "#0d0887"
             ],
             [
              0.1111111111111111,
              "#46039f"
             ],
             [
              0.2222222222222222,
              "#7201a8"
             ],
             [
              0.3333333333333333,
              "#9c179e"
             ],
             [
              0.4444444444444444,
              "#bd3786"
             ],
             [
              0.5555555555555556,
              "#d8576b"
             ],
             [
              0.6666666666666666,
              "#ed7953"
             ],
             [
              0.7777777777777778,
              "#fb9f3a"
             ],
             [
              0.8888888888888888,
              "#fdca26"
             ],
             [
              1,
              "#f0f921"
             ]
            ],
            "type": "histogram2dcontour"
           }
          ],
          "mesh3d": [
           {
            "colorbar": {
             "outlinewidth": 0,
             "ticks": ""
            },
            "type": "mesh3d"
           }
          ],
          "parcoords": [
           {
            "line": {
             "colorbar": {
              "outlinewidth": 0,
              "ticks": ""
             }
            },
            "type": "parcoords"
           }
          ],
          "pie": [
           {
            "automargin": true,
            "type": "pie"
           }
          ],
          "scatter": [
           {
            "fillpattern": {
             "fillmode": "overlay",
             "size": 10,
             "solidity": 0.2
            },
            "type": "scatter"
           }
          ],
          "scatter3d": [
           {
            "line": {
             "colorbar": {
              "outlinewidth": 0,
              "ticks": ""
             }
            },
            "marker": {
             "colorbar": {
              "outlinewidth": 0,
              "ticks": ""
             }
            },
            "type": "scatter3d"
           }
          ],
          "scattercarpet": [
           {
            "marker": {
             "colorbar": {
              "outlinewidth": 0,
              "ticks": ""
             }
            },
            "type": "scattercarpet"
           }
          ],
          "scattergeo": [
           {
            "marker": {
             "colorbar": {
              "outlinewidth": 0,
              "ticks": ""
             }
            },
            "type": "scattergeo"
           }
          ],
          "scattergl": [
           {
            "marker": {
             "colorbar": {
              "outlinewidth": 0,
              "ticks": ""
             }
            },
            "type": "scattergl"
           }
          ],
          "scattermapbox": [
           {
            "marker": {
             "colorbar": {
              "outlinewidth": 0,
              "ticks": ""
             }
            },
            "type": "scattermapbox"
           }
          ],
          "scatterpolar": [
           {
            "marker": {
             "colorbar": {
              "outlinewidth": 0,
              "ticks": ""
             }
            },
            "type": "scatterpolar"
           }
          ],
          "scatterpolargl": [
           {
            "marker": {
             "colorbar": {
              "outlinewidth": 0,
              "ticks": ""
             }
            },
            "type": "scatterpolargl"
           }
          ],
          "scatterternary": [
           {
            "marker": {
             "colorbar": {
              "outlinewidth": 0,
              "ticks": ""
             }
            },
            "type": "scatterternary"
           }
          ],
          "surface": [
           {
            "colorbar": {
             "outlinewidth": 0,
             "ticks": ""
            },
            "colorscale": [
             [
              0,
              "#0d0887"
             ],
             [
              0.1111111111111111,
              "#46039f"
             ],
             [
              0.2222222222222222,
              "#7201a8"
             ],
             [
              0.3333333333333333,
              "#9c179e"
             ],
             [
              0.4444444444444444,
              "#bd3786"
             ],
             [
              0.5555555555555556,
              "#d8576b"
             ],
             [
              0.6666666666666666,
              "#ed7953"
             ],
             [
              0.7777777777777778,
              "#fb9f3a"
             ],
             [
              0.8888888888888888,
              "#fdca26"
             ],
             [
              1,
              "#f0f921"
             ]
            ],
            "type": "surface"
           }
          ],
          "table": [
           {
            "cells": {
             "fill": {
              "color": "#EBF0F8"
             },
             "line": {
              "color": "white"
             }
            },
            "header": {
             "fill": {
              "color": "#C8D4E3"
             },
             "line": {
              "color": "white"
             }
            },
            "type": "table"
           }
          ]
         },
         "layout": {
          "annotationdefaults": {
           "arrowcolor": "#2a3f5f",
           "arrowhead": 0,
           "arrowwidth": 1
          },
          "autotypenumbers": "strict",
          "coloraxis": {
           "colorbar": {
            "outlinewidth": 0,
            "ticks": ""
           }
          },
          "colorscale": {
           "diverging": [
            [
             0,
             "#8e0152"
            ],
            [
             0.1,
             "#c51b7d"
            ],
            [
             0.2,
             "#de77ae"
            ],
            [
             0.3,
             "#f1b6da"
            ],
            [
             0.4,
             "#fde0ef"
            ],
            [
             0.5,
             "#f7f7f7"
            ],
            [
             0.6,
             "#e6f5d0"
            ],
            [
             0.7,
             "#b8e186"
            ],
            [
             0.8,
             "#7fbc41"
            ],
            [
             0.9,
             "#4d9221"
            ],
            [
             1,
             "#276419"
            ]
           ],
           "sequential": [
            [
             0,
             "#0d0887"
            ],
            [
             0.1111111111111111,
             "#46039f"
            ],
            [
             0.2222222222222222,
             "#7201a8"
            ],
            [
             0.3333333333333333,
             "#9c179e"
            ],
            [
             0.4444444444444444,
             "#bd3786"
            ],
            [
             0.5555555555555556,
             "#d8576b"
            ],
            [
             0.6666666666666666,
             "#ed7953"
            ],
            [
             0.7777777777777778,
             "#fb9f3a"
            ],
            [
             0.8888888888888888,
             "#fdca26"
            ],
            [
             1,
             "#f0f921"
            ]
           ],
           "sequentialminus": [
            [
             0,
             "#0d0887"
            ],
            [
             0.1111111111111111,
             "#46039f"
            ],
            [
             0.2222222222222222,
             "#7201a8"
            ],
            [
             0.3333333333333333,
             "#9c179e"
            ],
            [
             0.4444444444444444,
             "#bd3786"
            ],
            [
             0.5555555555555556,
             "#d8576b"
            ],
            [
             0.6666666666666666,
             "#ed7953"
            ],
            [
             0.7777777777777778,
             "#fb9f3a"
            ],
            [
             0.8888888888888888,
             "#fdca26"
            ],
            [
             1,
             "#f0f921"
            ]
           ]
          },
          "colorway": [
           "#636efa",
           "#EF553B",
           "#00cc96",
           "#ab63fa",
           "#FFA15A",
           "#19d3f3",
           "#FF6692",
           "#B6E880",
           "#FF97FF",
           "#FECB52"
          ],
          "font": {
           "color": "#2a3f5f"
          },
          "geo": {
           "bgcolor": "white",
           "lakecolor": "white",
           "landcolor": "#E5ECF6",
           "showlakes": true,
           "showland": true,
           "subunitcolor": "white"
          },
          "hoverlabel": {
           "align": "left"
          },
          "hovermode": "closest",
          "mapbox": {
           "style": "light"
          },
          "paper_bgcolor": "white",
          "plot_bgcolor": "#E5ECF6",
          "polar": {
           "angularaxis": {
            "gridcolor": "white",
            "linecolor": "white",
            "ticks": ""
           },
           "bgcolor": "#E5ECF6",
           "radialaxis": {
            "gridcolor": "white",
            "linecolor": "white",
            "ticks": ""
           }
          },
          "scene": {
           "xaxis": {
            "backgroundcolor": "#E5ECF6",
            "gridcolor": "white",
            "gridwidth": 2,
            "linecolor": "white",
            "showbackground": true,
            "ticks": "",
            "zerolinecolor": "white"
           },
           "yaxis": {
            "backgroundcolor": "#E5ECF6",
            "gridcolor": "white",
            "gridwidth": 2,
            "linecolor": "white",
            "showbackground": true,
            "ticks": "",
            "zerolinecolor": "white"
           },
           "zaxis": {
            "backgroundcolor": "#E5ECF6",
            "gridcolor": "white",
            "gridwidth": 2,
            "linecolor": "white",
            "showbackground": true,
            "ticks": "",
            "zerolinecolor": "white"
           }
          },
          "shapedefaults": {
           "line": {
            "color": "#2a3f5f"
           }
          },
          "ternary": {
           "aaxis": {
            "gridcolor": "white",
            "linecolor": "white",
            "ticks": ""
           },
           "baxis": {
            "gridcolor": "white",
            "linecolor": "white",
            "ticks": ""
           },
           "bgcolor": "#E5ECF6",
           "caxis": {
            "gridcolor": "white",
            "linecolor": "white",
            "ticks": ""
           }
          },
          "title": {
           "x": 0.05
          },
          "xaxis": {
           "automargin": true,
           "gridcolor": "white",
           "linecolor": "white",
           "ticks": "",
           "title": {
            "standoff": 15
           },
           "zerolinecolor": "white",
           "zerolinewidth": 2
          },
          "yaxis": {
           "automargin": true,
           "gridcolor": "white",
           "linecolor": "white",
           "ticks": "",
           "title": {
            "standoff": 15
           },
           "zerolinecolor": "white",
           "zerolinewidth": 2
          }
         }
        },
        "title": {
         "text": "Sample from a Normal Distribution"
        },
        "width": 800,
        "xaxis": {
         "anchor": "y",
         "domain": [
          0,
          1
         ],
         "title": {
          "text": "Normal"
         }
        },
        "yaxis": {
         "anchor": "x",
         "domain": [
          0,
          1
         ],
         "title": {
          "text": "probability density"
         }
        }
       }
      }
     },
     "metadata": {},
     "output_type": "display_data"
    }
   ],
   "source": [
    "fig = px.histogram(df, x=\"Normal\", \n",
    "                   nbins=25,\n",
    "                   histnorm='probability density',\n",
    "                   height = 500, width = 800,\n",
    "                   title='Sample from a Normal Distribution')\n",
    "fig.show()"
   ]
  },
  {
   "cell_type": "markdown",
   "metadata": {},
   "source": [
    "6. Customise the color of the bars using the input `color_discrete_sequence` as follows. Note that we have to pass a list of strings, where each string corresponds to a color.  In this case, we pass the color `teal`"
   ]
  },
  {
   "cell_type": "code",
   "execution_count": 10,
   "metadata": {},
   "outputs": [
    {
     "data": {
      "application/vnd.plotly.v1+json": {
       "config": {
        "plotlyServerURL": "https://plot.ly"
       },
       "data": [
        {
         "alignmentgroup": "True",
         "bingroup": "x",
         "histnorm": "probability density",
         "hovertemplate": "Normal=%{x}<br>probability density=%{y}<extra></extra>",
         "legendgroup": "",
         "marker": {
          "color": "teal",
          "pattern": {
           "shape": ""
          }
         },
         "name": "",
         "nbinsx": 25,
         "offsetgroup": "",
         "orientation": "v",
         "showlegend": false,
         "type": "histogram",
         "x": [
          0.9922440175022573,
          -0.013192364921534144,
          -0.08643482672406257,
          1.086534493213565,
          -0.4112794626463247,
          3.065581107175467,
          -0.4139257129493315,
          0.49408638158181917,
          1.1553408731626915,
          1.3646587288715153,
          -0.18267585824155091,
          -0.6905925289813665,
          -0.5433696583272913,
          -1.7789681975386755,
          0.7445211791934149,
          -0.3910629368715519,
          -0.27495537015146326,
          0.39647006173481864,
          0.007142940031214655,
          0.08130845730738376,
          -0.8586395533597259,
          -0.5837840025111073,
          -2.0283048539117643,
          0.0868210404957446,
          0.011726565367619167,
          0.6235173814393108,
          0.09149573129017323,
          -0.7121951226567028,
          -0.16914019710741263,
          -0.3560255908978881,
          -3.065838924126337,
          0.5716665177217557,
          -0.14036769043887395,
          -0.8907415201512822,
          -0.7444166949579522,
          0.6183609198862388,
          -0.5668479300900784,
          -0.3902369081743067,
          1.1767267235195067,
          0.5648821653392719,
          2.152881244798071,
          0.028048637925076912,
          -0.37869819908424884,
          -0.1263169711878512,
          -0.20655575897592626,
          -1.06115139837128,
          -0.6438397336356853,
          0.028125718250783745,
          -0.5088759612461716,
          0.893359073935359,
          -0.2859848130190566,
          0.746565012581815,
          0.10407533685062888,
          0.039661758902339736,
          -0.26905016233424606,
          2.044792145713757,
          0.9773968311516065,
          -2.1638546527097837,
          0.603157687665255,
          -1.3710232696760039,
          -1.4985487881066921,
          -0.635168119412796,
          -1.8523927679935528,
          0.7446093861575178,
          1.790500197130094,
          -0.6854078384674978,
          -0.5651893261959818,
          0.9076839167750421,
          -0.5729424152645838,
          -0.2724617554188349,
          1.848647745643187,
          -0.4966958631276866,
          0.7331589706607188,
          -2.7213947925079105,
          2.3113579900982795,
          0.0502576237361418,
          -1.405663329561947,
          1.3543435147418859,
          -1.159805088686849,
          -1.1368591336367126,
          0.2665594172624437,
          0.30094167600171634,
          -0.05975424225132378,
          -0.2659791769346562,
          -0.6759782234501358,
          -0.5144079528466928,
          -1.2802519259698528,
          0.28204035450378634,
          1.7841882003375709,
          -0.5742293003431136,
          0.8631985121026826,
          1.0577261204761375,
          -0.18713478444336487,
          0.17138706931221617,
          1.2817046356415476,
          -0.8395867897432568,
          0.17059155447538074,
          -0.29338176303084057,
          0.4807455180969727,
          -1.1197618280965094,
          -0.21758256850491764,
          0.47807223286284317,
          -0.686414764434861,
          2.402039469267209,
          -1.0019164888574208,
          -0.0602309491768687,
          1.536806829922405,
          -0.03228569289014455,
          0.21407306889458944,
          -0.31586746298314994,
          1.0049821614181516,
          -0.7881320886318622,
          -1.4502839302480446,
          -0.1908107820709176,
          -1.333767347792869,
          -1.3294378712348183,
          -0.5553907196973072,
          -0.918369739840416,
          0.038746640451373195,
          -0.5990398356253983,
          0.6362121021100953,
          0.32748922675461045,
          -0.2822190963094087,
          0.3646414091799714,
          -0.39041994506578825,
          -0.1885723022561982,
          0.7357890227881434,
          -0.9199302538733043,
          0.1776472091072587,
          -0.39063572722475026,
          0.7741443162571909,
          -0.8523263267457808,
          0.8592572949742107,
          0.6188556106703542,
          -1.3873949266588683,
          0.81433304655623,
          0.8553944584957461,
          0.04698847432060194,
          0.29909093259972286,
          -1.3262196085337492,
          0.10232168021264923,
          -1.7066564332559706,
          -0.31019569025117627,
          -1.6050795043947228,
          0.22709410931946222,
          -0.5701045664295864,
          0.4213820468774945,
          -1.610568614042046,
          -0.3506385330660151,
          -1.800866945205892,
          0.5825608925139816,
          -0.16565081938630924,
          -0.9571265040375223,
          0.9779488770382453,
          -1.463458582721687,
          -0.826618956439601,
          1.4063393619956273,
          -0.09468736117199524,
          -0.34422693757133077,
          2.47795694428459,
          -0.2678949229923536,
          -0.19211069973448863,
          0.3267473360125302,
          0.48631983315268557,
          0.287318159944065,
          -0.19366376173130617,
          0.42591253607646645,
          -0.904258022442456,
          0.06150771415127942,
          -0.9588215070723852,
          -0.7295845391821887,
          1.364038428375701,
          -0.5924606896060864,
          -0.9232777472805235,
          -0.4425166023332556,
          0.9334716639745994,
          -2.2557040664766967,
          1.1123651965969956,
          1.0533535884774083,
          -1.3228488965754894,
          0.6170151436153989,
          1.3022228214907963,
          -0.18443326811390678,
          -0.4777942931335947,
          0.797193586171972,
          2.2783995781150814,
          1.2515886746012905,
          0.25012308897225327,
          -0.25081578728117493,
          -0.17111790992430811,
          -0.6958174060931471,
          -2.0408501238115093,
          -0.4017328476551939,
          -0.6844736101263469,
          0.4179689012537265,
          0.14773302828998583,
          -0.3714609886167385,
          0.4097443196174013,
          1.6052966097009098,
          -1.089552682939431,
          -0.1594924648610055,
          -0.4362431182761573,
          0.5757169044424252,
          -1.5517569456236109,
          2.6912510672380634,
          0.7261741072220927,
          -0.0725366123552572,
          1.0632112536916074,
          -0.5274482026370689,
          0.9683331036086136,
          -0.0589885892899716,
          -1.547361928619816,
          0.05147970577367814,
          -1.1935833521342203,
          0.6346331751455601,
          -0.6952408605738849,
          0.2574749301966593,
          -0.28794508009095193,
          0.3055931430038713,
          1.5377551414516173,
          -0.02101896542357186,
          1.7749222204148771,
          0.29328242232783075,
          -0.797538705589144,
          -0.08496676689899221,
          -0.31558541835569537,
          -1.7413248530872203,
          1.5029717991630258,
          0.2678099699102134,
          1.1304236787470152,
          -1.4910303473771636,
          0.44840595716486537,
          -0.1852462401900747,
          1.848012323526967,
          1.7863742517346741,
          -0.5990642951683577,
          -0.031217216154582842,
          -0.41641533343195986,
          -0.5598781869270968,
          -0.49979331409712036,
          1.2012452716700386,
          1.1999512812303772,
          -0.2657662860768825,
          -0.3011377442814745,
          0.9686644074447734,
          0.4889534562476449,
          0.002059059138348558,
          -0.7805596187133934,
          0.598914396816366,
          0.8176499552934805,
          -0.7490842581363188,
          1.0322812622642012,
          -1.4405600126906497,
          -1.1385975436249773,
          1.5781636803028174,
          -1.2513260992164903,
          -0.28477350302821025,
          -0.006187722400097042,
          -0.5351133912294991,
          0.14602643139864477,
          -2.0373447582561193,
          0.5093475025113386,
          -0.2950687916430458,
          1.1167351567647796,
          1.039253416900312,
          1.4083313088940643,
          1.4341467971702635,
          -0.29283429508760744,
          0.8651295503374785,
          0.22770541553408952,
          -1.1211292999907363,
          1.5421216804147273,
          -1.549518541882006,
          -0.21878965305249085,
          -0.33274785192148426,
          0.03839613471772703,
          0.6691599533196944,
          0.3871487248073923,
          0.40387429909665334,
          0.7247588667383599,
          -1.5225091596281835,
          -0.32979659813428497,
          -0.5452025101915784,
          -1.9811733433041465,
          -0.029726569470926757,
          0.9942345359726242,
          -0.07870466325272067,
          -0.5678925125681685,
          0.8352101020083307,
          1.356734340174622,
          0.6633030194828822,
          -1.878109443603396,
          0.4807410466186064,
          -1.7082364189358437,
          0.8034344191799038,
          -1.678042922148036,
          -0.4759946003657392,
          0.29617637280783177,
          -0.22137975269671287,
          0.20086450872531147,
          0.2760979123099737,
          -0.2965164288390808,
          -0.706895447410791,
          1.5502600995179623,
          -0.6366979543722484,
          -0.7945130457311103,
          0.6297315765883358,
          0.4579480253616451,
          0.28517272497515733,
          -0.21868300387992046,
          -0.16787171624831937,
          -0.11256607638564324,
          0.8426374710028974,
          1.3986615685946515,
          -1.090607338985743,
          -0.016303676441252794,
          -0.5134837346286907,
          1.0392470981419613,
          0.12597986836736935,
          0.7959389747964046,
          0.7869391740164042,
          1.180566432155465,
          -0.9087432452984626,
          1.1458975842260783,
          -0.48619113725080226,
          0.4519653102767159,
          -0.12775546706206647,
          -1.4745111163345082,
          0.4623793361305044,
          -1.8414636413615315,
          -0.8998394786238483,
          0.989983007084247,
          0.9209135025235198,
          0.43104015003451956,
          -1.0314835572965813,
          -0.8666704512202311,
          1.990009844956514,
          0.30763458949726985,
          -0.8083996392306123,
          -0.04601070015389032,
          -0.38955858350891004,
          -0.04579387604819479,
          0.7208062267677919,
          -0.5461314091368321,
          -0.07333890568319136,
          -0.6731249797118971,
          -0.9607768099010299,
          1.1946035383803502,
          -1.549483783341268,
          -0.8846384663118005,
          1.0714162135247847,
          1.0456771927635082,
          0.7032503799131992,
          -0.6042849922242488,
          0.37025210605028147,
          0.39945148695539534,
          0.6200164474203527,
          1.0380459280289769,
          0.6166768469337013,
          2.3583535900957595,
          -1.1721536099412537,
          0.2641334560644568,
          -0.1012069240711426,
          -1.295229272890841,
          0.42007471923436257,
          -0.181195570764781,
          1.0045105396837868,
          0.21141981539537366,
          -0.0037609794501674895,
          1.5777213958905867,
          -0.9790455927405601,
          1.2944199497324587,
          -0.6565409915865277,
          0.34335193218477583,
          0.1614128282623339,
          0.19790145866259193,
          -0.7788405447524069,
          -1.174063329845148,
          1.9014311768549739,
          0.14697835100328624,
          0.25235653431769817,
          0.023204414533541416,
          -1.1531764500266515,
          0.16161060654721654,
          -1.7889271051493558,
          -0.6848346571876761,
          -2.899552568970263,
          0.4486961359270778,
          -0.7424220023632888,
          -0.5623112261986121,
          -0.2553903918813048,
          0.6876296207544265,
          1.3407290629783486,
          -2.023458350385798,
          1.0171344481236224,
          -0.3100493795784042,
          -1.5748904444112957,
          0.5659061932500894,
          0.9075931786590923,
          -0.8551233922946476
         ],
         "xaxis": "x",
         "yaxis": "y"
        }
       ],
       "layout": {
        "barmode": "relative",
        "height": 500,
        "legend": {
         "tracegroupgap": 0
        },
        "template": {
         "data": {
          "bar": [
           {
            "error_x": {
             "color": "#2a3f5f"
            },
            "error_y": {
             "color": "#2a3f5f"
            },
            "marker": {
             "line": {
              "color": "#E5ECF6",
              "width": 0.5
             },
             "pattern": {
              "fillmode": "overlay",
              "size": 10,
              "solidity": 0.2
             }
            },
            "type": "bar"
           }
          ],
          "barpolar": [
           {
            "marker": {
             "line": {
              "color": "#E5ECF6",
              "width": 0.5
             },
             "pattern": {
              "fillmode": "overlay",
              "size": 10,
              "solidity": 0.2
             }
            },
            "type": "barpolar"
           }
          ],
          "carpet": [
           {
            "aaxis": {
             "endlinecolor": "#2a3f5f",
             "gridcolor": "white",
             "linecolor": "white",
             "minorgridcolor": "white",
             "startlinecolor": "#2a3f5f"
            },
            "baxis": {
             "endlinecolor": "#2a3f5f",
             "gridcolor": "white",
             "linecolor": "white",
             "minorgridcolor": "white",
             "startlinecolor": "#2a3f5f"
            },
            "type": "carpet"
           }
          ],
          "choropleth": [
           {
            "colorbar": {
             "outlinewidth": 0,
             "ticks": ""
            },
            "type": "choropleth"
           }
          ],
          "contour": [
           {
            "colorbar": {
             "outlinewidth": 0,
             "ticks": ""
            },
            "colorscale": [
             [
              0,
              "#0d0887"
             ],
             [
              0.1111111111111111,
              "#46039f"
             ],
             [
              0.2222222222222222,
              "#7201a8"
             ],
             [
              0.3333333333333333,
              "#9c179e"
             ],
             [
              0.4444444444444444,
              "#bd3786"
             ],
             [
              0.5555555555555556,
              "#d8576b"
             ],
             [
              0.6666666666666666,
              "#ed7953"
             ],
             [
              0.7777777777777778,
              "#fb9f3a"
             ],
             [
              0.8888888888888888,
              "#fdca26"
             ],
             [
              1,
              "#f0f921"
             ]
            ],
            "type": "contour"
           }
          ],
          "contourcarpet": [
           {
            "colorbar": {
             "outlinewidth": 0,
             "ticks": ""
            },
            "type": "contourcarpet"
           }
          ],
          "heatmap": [
           {
            "colorbar": {
             "outlinewidth": 0,
             "ticks": ""
            },
            "colorscale": [
             [
              0,
              "#0d0887"
             ],
             [
              0.1111111111111111,
              "#46039f"
             ],
             [
              0.2222222222222222,
              "#7201a8"
             ],
             [
              0.3333333333333333,
              "#9c179e"
             ],
             [
              0.4444444444444444,
              "#bd3786"
             ],
             [
              0.5555555555555556,
              "#d8576b"
             ],
             [
              0.6666666666666666,
              "#ed7953"
             ],
             [
              0.7777777777777778,
              "#fb9f3a"
             ],
             [
              0.8888888888888888,
              "#fdca26"
             ],
             [
              1,
              "#f0f921"
             ]
            ],
            "type": "heatmap"
           }
          ],
          "heatmapgl": [
           {
            "colorbar": {
             "outlinewidth": 0,
             "ticks": ""
            },
            "colorscale": [
             [
              0,
              "#0d0887"
             ],
             [
              0.1111111111111111,
              "#46039f"
             ],
             [
              0.2222222222222222,
              "#7201a8"
             ],
             [
              0.3333333333333333,
              "#9c179e"
             ],
             [
              0.4444444444444444,
              "#bd3786"
             ],
             [
              0.5555555555555556,
              "#d8576b"
             ],
             [
              0.6666666666666666,
              "#ed7953"
             ],
             [
              0.7777777777777778,
              "#fb9f3a"
             ],
             [
              0.8888888888888888,
              "#fdca26"
             ],
             [
              1,
              "#f0f921"
             ]
            ],
            "type": "heatmapgl"
           }
          ],
          "histogram": [
           {
            "marker": {
             "pattern": {
              "fillmode": "overlay",
              "size": 10,
              "solidity": 0.2
             }
            },
            "type": "histogram"
           }
          ],
          "histogram2d": [
           {
            "colorbar": {
             "outlinewidth": 0,
             "ticks": ""
            },
            "colorscale": [
             [
              0,
              "#0d0887"
             ],
             [
              0.1111111111111111,
              "#46039f"
             ],
             [
              0.2222222222222222,
              "#7201a8"
             ],
             [
              0.3333333333333333,
              "#9c179e"
             ],
             [
              0.4444444444444444,
              "#bd3786"
             ],
             [
              0.5555555555555556,
              "#d8576b"
             ],
             [
              0.6666666666666666,
              "#ed7953"
             ],
             [
              0.7777777777777778,
              "#fb9f3a"
             ],
             [
              0.8888888888888888,
              "#fdca26"
             ],
             [
              1,
              "#f0f921"
             ]
            ],
            "type": "histogram2d"
           }
          ],
          "histogram2dcontour": [
           {
            "colorbar": {
             "outlinewidth": 0,
             "ticks": ""
            },
            "colorscale": [
             [
              0,
              "#0d0887"
             ],
             [
              0.1111111111111111,
              "#46039f"
             ],
             [
              0.2222222222222222,
              "#7201a8"
             ],
             [
              0.3333333333333333,
              "#9c179e"
             ],
             [
              0.4444444444444444,
              "#bd3786"
             ],
             [
              0.5555555555555556,
              "#d8576b"
             ],
             [
              0.6666666666666666,
              "#ed7953"
             ],
             [
              0.7777777777777778,
              "#fb9f3a"
             ],
             [
              0.8888888888888888,
              "#fdca26"
             ],
             [
              1,
              "#f0f921"
             ]
            ],
            "type": "histogram2dcontour"
           }
          ],
          "mesh3d": [
           {
            "colorbar": {
             "outlinewidth": 0,
             "ticks": ""
            },
            "type": "mesh3d"
           }
          ],
          "parcoords": [
           {
            "line": {
             "colorbar": {
              "outlinewidth": 0,
              "ticks": ""
             }
            },
            "type": "parcoords"
           }
          ],
          "pie": [
           {
            "automargin": true,
            "type": "pie"
           }
          ],
          "scatter": [
           {
            "fillpattern": {
             "fillmode": "overlay",
             "size": 10,
             "solidity": 0.2
            },
            "type": "scatter"
           }
          ],
          "scatter3d": [
           {
            "line": {
             "colorbar": {
              "outlinewidth": 0,
              "ticks": ""
             }
            },
            "marker": {
             "colorbar": {
              "outlinewidth": 0,
              "ticks": ""
             }
            },
            "type": "scatter3d"
           }
          ],
          "scattercarpet": [
           {
            "marker": {
             "colorbar": {
              "outlinewidth": 0,
              "ticks": ""
             }
            },
            "type": "scattercarpet"
           }
          ],
          "scattergeo": [
           {
            "marker": {
             "colorbar": {
              "outlinewidth": 0,
              "ticks": ""
             }
            },
            "type": "scattergeo"
           }
          ],
          "scattergl": [
           {
            "marker": {
             "colorbar": {
              "outlinewidth": 0,
              "ticks": ""
             }
            },
            "type": "scattergl"
           }
          ],
          "scattermapbox": [
           {
            "marker": {
             "colorbar": {
              "outlinewidth": 0,
              "ticks": ""
             }
            },
            "type": "scattermapbox"
           }
          ],
          "scatterpolar": [
           {
            "marker": {
             "colorbar": {
              "outlinewidth": 0,
              "ticks": ""
             }
            },
            "type": "scatterpolar"
           }
          ],
          "scatterpolargl": [
           {
            "marker": {
             "colorbar": {
              "outlinewidth": 0,
              "ticks": ""
             }
            },
            "type": "scatterpolargl"
           }
          ],
          "scatterternary": [
           {
            "marker": {
             "colorbar": {
              "outlinewidth": 0,
              "ticks": ""
             }
            },
            "type": "scatterternary"
           }
          ],
          "surface": [
           {
            "colorbar": {
             "outlinewidth": 0,
             "ticks": ""
            },
            "colorscale": [
             [
              0,
              "#0d0887"
             ],
             [
              0.1111111111111111,
              "#46039f"
             ],
             [
              0.2222222222222222,
              "#7201a8"
             ],
             [
              0.3333333333333333,
              "#9c179e"
             ],
             [
              0.4444444444444444,
              "#bd3786"
             ],
             [
              0.5555555555555556,
              "#d8576b"
             ],
             [
              0.6666666666666666,
              "#ed7953"
             ],
             [
              0.7777777777777778,
              "#fb9f3a"
             ],
             [
              0.8888888888888888,
              "#fdca26"
             ],
             [
              1,
              "#f0f921"
             ]
            ],
            "type": "surface"
           }
          ],
          "table": [
           {
            "cells": {
             "fill": {
              "color": "#EBF0F8"
             },
             "line": {
              "color": "white"
             }
            },
            "header": {
             "fill": {
              "color": "#C8D4E3"
             },
             "line": {
              "color": "white"
             }
            },
            "type": "table"
           }
          ]
         },
         "layout": {
          "annotationdefaults": {
           "arrowcolor": "#2a3f5f",
           "arrowhead": 0,
           "arrowwidth": 1
          },
          "autotypenumbers": "strict",
          "coloraxis": {
           "colorbar": {
            "outlinewidth": 0,
            "ticks": ""
           }
          },
          "colorscale": {
           "diverging": [
            [
             0,
             "#8e0152"
            ],
            [
             0.1,
             "#c51b7d"
            ],
            [
             0.2,
             "#de77ae"
            ],
            [
             0.3,
             "#f1b6da"
            ],
            [
             0.4,
             "#fde0ef"
            ],
            [
             0.5,
             "#f7f7f7"
            ],
            [
             0.6,
             "#e6f5d0"
            ],
            [
             0.7,
             "#b8e186"
            ],
            [
             0.8,
             "#7fbc41"
            ],
            [
             0.9,
             "#4d9221"
            ],
            [
             1,
             "#276419"
            ]
           ],
           "sequential": [
            [
             0,
             "#0d0887"
            ],
            [
             0.1111111111111111,
             "#46039f"
            ],
            [
             0.2222222222222222,
             "#7201a8"
            ],
            [
             0.3333333333333333,
             "#9c179e"
            ],
            [
             0.4444444444444444,
             "#bd3786"
            ],
            [
             0.5555555555555556,
             "#d8576b"
            ],
            [
             0.6666666666666666,
             "#ed7953"
            ],
            [
             0.7777777777777778,
             "#fb9f3a"
            ],
            [
             0.8888888888888888,
             "#fdca26"
            ],
            [
             1,
             "#f0f921"
            ]
           ],
           "sequentialminus": [
            [
             0,
             "#0d0887"
            ],
            [
             0.1111111111111111,
             "#46039f"
            ],
            [
             0.2222222222222222,
             "#7201a8"
            ],
            [
             0.3333333333333333,
             "#9c179e"
            ],
            [
             0.4444444444444444,
             "#bd3786"
            ],
            [
             0.5555555555555556,
             "#d8576b"
            ],
            [
             0.6666666666666666,
             "#ed7953"
            ],
            [
             0.7777777777777778,
             "#fb9f3a"
            ],
            [
             0.8888888888888888,
             "#fdca26"
            ],
            [
             1,
             "#f0f921"
            ]
           ]
          },
          "colorway": [
           "#636efa",
           "#EF553B",
           "#00cc96",
           "#ab63fa",
           "#FFA15A",
           "#19d3f3",
           "#FF6692",
           "#B6E880",
           "#FF97FF",
           "#FECB52"
          ],
          "font": {
           "color": "#2a3f5f"
          },
          "geo": {
           "bgcolor": "white",
           "lakecolor": "white",
           "landcolor": "#E5ECF6",
           "showlakes": true,
           "showland": true,
           "subunitcolor": "white"
          },
          "hoverlabel": {
           "align": "left"
          },
          "hovermode": "closest",
          "mapbox": {
           "style": "light"
          },
          "paper_bgcolor": "white",
          "plot_bgcolor": "#E5ECF6",
          "polar": {
           "angularaxis": {
            "gridcolor": "white",
            "linecolor": "white",
            "ticks": ""
           },
           "bgcolor": "#E5ECF6",
           "radialaxis": {
            "gridcolor": "white",
            "linecolor": "white",
            "ticks": ""
           }
          },
          "scene": {
           "xaxis": {
            "backgroundcolor": "#E5ECF6",
            "gridcolor": "white",
            "gridwidth": 2,
            "linecolor": "white",
            "showbackground": true,
            "ticks": "",
            "zerolinecolor": "white"
           },
           "yaxis": {
            "backgroundcolor": "#E5ECF6",
            "gridcolor": "white",
            "gridwidth": 2,
            "linecolor": "white",
            "showbackground": true,
            "ticks": "",
            "zerolinecolor": "white"
           },
           "zaxis": {
            "backgroundcolor": "#E5ECF6",
            "gridcolor": "white",
            "gridwidth": 2,
            "linecolor": "white",
            "showbackground": true,
            "ticks": "",
            "zerolinecolor": "white"
           }
          },
          "shapedefaults": {
           "line": {
            "color": "#2a3f5f"
           }
          },
          "ternary": {
           "aaxis": {
            "gridcolor": "white",
            "linecolor": "white",
            "ticks": ""
           },
           "baxis": {
            "gridcolor": "white",
            "linecolor": "white",
            "ticks": ""
           },
           "bgcolor": "#E5ECF6",
           "caxis": {
            "gridcolor": "white",
            "linecolor": "white",
            "ticks": ""
           }
          },
          "title": {
           "x": 0.05
          },
          "xaxis": {
           "automargin": true,
           "gridcolor": "white",
           "linecolor": "white",
           "ticks": "",
           "title": {
            "standoff": 15
           },
           "zerolinecolor": "white",
           "zerolinewidth": 2
          },
          "yaxis": {
           "automargin": true,
           "gridcolor": "white",
           "linecolor": "white",
           "ticks": "",
           "title": {
            "standoff": 15
           },
           "zerolinecolor": "white",
           "zerolinewidth": 2
          }
         }
        },
        "title": {
         "text": "Sample from a Normal Distribution"
        },
        "width": 800,
        "xaxis": {
         "anchor": "y",
         "domain": [
          0,
          1
         ],
         "title": {
          "text": "Normal"
         }
        },
        "yaxis": {
         "anchor": "x",
         "domain": [
          0,
          1
         ],
         "title": {
          "text": "probability density"
         }
        }
       }
      }
     },
     "metadata": {},
     "output_type": "display_data"
    }
   ],
   "source": [
    "fig = px.histogram(df, x=\"Normal\", \n",
    "                   color_discrete_sequence=['teal'],\n",
    "                   nbins=25,\n",
    "                   histnorm='probability density',\n",
    "                   height = 500, width = 800,\n",
    "                   title='Sample from a Normal Distribution')\n",
    "fig.show()"
   ]
  },
  {
   "cell_type": "markdown",
   "metadata": {},
   "source": [
    "7. Customise the transparency of the histogram using the input `opacity`. "
   ]
  },
  {
   "cell_type": "code",
   "execution_count": 11,
   "metadata": {},
   "outputs": [
    {
     "data": {
      "application/vnd.plotly.v1+json": {
       "config": {
        "plotlyServerURL": "https://plot.ly"
       },
       "data": [
        {
         "alignmentgroup": "True",
         "bingroup": "x",
         "histnorm": "probability density",
         "hovertemplate": "Normal=%{x}<br>probability density=%{y}<extra></extra>",
         "legendgroup": "",
         "marker": {
          "color": "teal",
          "opacity": 0.75,
          "pattern": {
           "shape": ""
          }
         },
         "name": "",
         "nbinsx": 25,
         "offsetgroup": "",
         "orientation": "v",
         "showlegend": false,
         "type": "histogram",
         "x": [
          0.9922440175022573,
          -0.013192364921534144,
          -0.08643482672406257,
          1.086534493213565,
          -0.4112794626463247,
          3.065581107175467,
          -0.4139257129493315,
          0.49408638158181917,
          1.1553408731626915,
          1.3646587288715153,
          -0.18267585824155091,
          -0.6905925289813665,
          -0.5433696583272913,
          -1.7789681975386755,
          0.7445211791934149,
          -0.3910629368715519,
          -0.27495537015146326,
          0.39647006173481864,
          0.007142940031214655,
          0.08130845730738376,
          -0.8586395533597259,
          -0.5837840025111073,
          -2.0283048539117643,
          0.0868210404957446,
          0.011726565367619167,
          0.6235173814393108,
          0.09149573129017323,
          -0.7121951226567028,
          -0.16914019710741263,
          -0.3560255908978881,
          -3.065838924126337,
          0.5716665177217557,
          -0.14036769043887395,
          -0.8907415201512822,
          -0.7444166949579522,
          0.6183609198862388,
          -0.5668479300900784,
          -0.3902369081743067,
          1.1767267235195067,
          0.5648821653392719,
          2.152881244798071,
          0.028048637925076912,
          -0.37869819908424884,
          -0.1263169711878512,
          -0.20655575897592626,
          -1.06115139837128,
          -0.6438397336356853,
          0.028125718250783745,
          -0.5088759612461716,
          0.893359073935359,
          -0.2859848130190566,
          0.746565012581815,
          0.10407533685062888,
          0.039661758902339736,
          -0.26905016233424606,
          2.044792145713757,
          0.9773968311516065,
          -2.1638546527097837,
          0.603157687665255,
          -1.3710232696760039,
          -1.4985487881066921,
          -0.635168119412796,
          -1.8523927679935528,
          0.7446093861575178,
          1.790500197130094,
          -0.6854078384674978,
          -0.5651893261959818,
          0.9076839167750421,
          -0.5729424152645838,
          -0.2724617554188349,
          1.848647745643187,
          -0.4966958631276866,
          0.7331589706607188,
          -2.7213947925079105,
          2.3113579900982795,
          0.0502576237361418,
          -1.405663329561947,
          1.3543435147418859,
          -1.159805088686849,
          -1.1368591336367126,
          0.2665594172624437,
          0.30094167600171634,
          -0.05975424225132378,
          -0.2659791769346562,
          -0.6759782234501358,
          -0.5144079528466928,
          -1.2802519259698528,
          0.28204035450378634,
          1.7841882003375709,
          -0.5742293003431136,
          0.8631985121026826,
          1.0577261204761375,
          -0.18713478444336487,
          0.17138706931221617,
          1.2817046356415476,
          -0.8395867897432568,
          0.17059155447538074,
          -0.29338176303084057,
          0.4807455180969727,
          -1.1197618280965094,
          -0.21758256850491764,
          0.47807223286284317,
          -0.686414764434861,
          2.402039469267209,
          -1.0019164888574208,
          -0.0602309491768687,
          1.536806829922405,
          -0.03228569289014455,
          0.21407306889458944,
          -0.31586746298314994,
          1.0049821614181516,
          -0.7881320886318622,
          -1.4502839302480446,
          -0.1908107820709176,
          -1.333767347792869,
          -1.3294378712348183,
          -0.5553907196973072,
          -0.918369739840416,
          0.038746640451373195,
          -0.5990398356253983,
          0.6362121021100953,
          0.32748922675461045,
          -0.2822190963094087,
          0.3646414091799714,
          -0.39041994506578825,
          -0.1885723022561982,
          0.7357890227881434,
          -0.9199302538733043,
          0.1776472091072587,
          -0.39063572722475026,
          0.7741443162571909,
          -0.8523263267457808,
          0.8592572949742107,
          0.6188556106703542,
          -1.3873949266588683,
          0.81433304655623,
          0.8553944584957461,
          0.04698847432060194,
          0.29909093259972286,
          -1.3262196085337492,
          0.10232168021264923,
          -1.7066564332559706,
          -0.31019569025117627,
          -1.6050795043947228,
          0.22709410931946222,
          -0.5701045664295864,
          0.4213820468774945,
          -1.610568614042046,
          -0.3506385330660151,
          -1.800866945205892,
          0.5825608925139816,
          -0.16565081938630924,
          -0.9571265040375223,
          0.9779488770382453,
          -1.463458582721687,
          -0.826618956439601,
          1.4063393619956273,
          -0.09468736117199524,
          -0.34422693757133077,
          2.47795694428459,
          -0.2678949229923536,
          -0.19211069973448863,
          0.3267473360125302,
          0.48631983315268557,
          0.287318159944065,
          -0.19366376173130617,
          0.42591253607646645,
          -0.904258022442456,
          0.06150771415127942,
          -0.9588215070723852,
          -0.7295845391821887,
          1.364038428375701,
          -0.5924606896060864,
          -0.9232777472805235,
          -0.4425166023332556,
          0.9334716639745994,
          -2.2557040664766967,
          1.1123651965969956,
          1.0533535884774083,
          -1.3228488965754894,
          0.6170151436153989,
          1.3022228214907963,
          -0.18443326811390678,
          -0.4777942931335947,
          0.797193586171972,
          2.2783995781150814,
          1.2515886746012905,
          0.25012308897225327,
          -0.25081578728117493,
          -0.17111790992430811,
          -0.6958174060931471,
          -2.0408501238115093,
          -0.4017328476551939,
          -0.6844736101263469,
          0.4179689012537265,
          0.14773302828998583,
          -0.3714609886167385,
          0.4097443196174013,
          1.6052966097009098,
          -1.089552682939431,
          -0.1594924648610055,
          -0.4362431182761573,
          0.5757169044424252,
          -1.5517569456236109,
          2.6912510672380634,
          0.7261741072220927,
          -0.0725366123552572,
          1.0632112536916074,
          -0.5274482026370689,
          0.9683331036086136,
          -0.0589885892899716,
          -1.547361928619816,
          0.05147970577367814,
          -1.1935833521342203,
          0.6346331751455601,
          -0.6952408605738849,
          0.2574749301966593,
          -0.28794508009095193,
          0.3055931430038713,
          1.5377551414516173,
          -0.02101896542357186,
          1.7749222204148771,
          0.29328242232783075,
          -0.797538705589144,
          -0.08496676689899221,
          -0.31558541835569537,
          -1.7413248530872203,
          1.5029717991630258,
          0.2678099699102134,
          1.1304236787470152,
          -1.4910303473771636,
          0.44840595716486537,
          -0.1852462401900747,
          1.848012323526967,
          1.7863742517346741,
          -0.5990642951683577,
          -0.031217216154582842,
          -0.41641533343195986,
          -0.5598781869270968,
          -0.49979331409712036,
          1.2012452716700386,
          1.1999512812303772,
          -0.2657662860768825,
          -0.3011377442814745,
          0.9686644074447734,
          0.4889534562476449,
          0.002059059138348558,
          -0.7805596187133934,
          0.598914396816366,
          0.8176499552934805,
          -0.7490842581363188,
          1.0322812622642012,
          -1.4405600126906497,
          -1.1385975436249773,
          1.5781636803028174,
          -1.2513260992164903,
          -0.28477350302821025,
          -0.006187722400097042,
          -0.5351133912294991,
          0.14602643139864477,
          -2.0373447582561193,
          0.5093475025113386,
          -0.2950687916430458,
          1.1167351567647796,
          1.039253416900312,
          1.4083313088940643,
          1.4341467971702635,
          -0.29283429508760744,
          0.8651295503374785,
          0.22770541553408952,
          -1.1211292999907363,
          1.5421216804147273,
          -1.549518541882006,
          -0.21878965305249085,
          -0.33274785192148426,
          0.03839613471772703,
          0.6691599533196944,
          0.3871487248073923,
          0.40387429909665334,
          0.7247588667383599,
          -1.5225091596281835,
          -0.32979659813428497,
          -0.5452025101915784,
          -1.9811733433041465,
          -0.029726569470926757,
          0.9942345359726242,
          -0.07870466325272067,
          -0.5678925125681685,
          0.8352101020083307,
          1.356734340174622,
          0.6633030194828822,
          -1.878109443603396,
          0.4807410466186064,
          -1.7082364189358437,
          0.8034344191799038,
          -1.678042922148036,
          -0.4759946003657392,
          0.29617637280783177,
          -0.22137975269671287,
          0.20086450872531147,
          0.2760979123099737,
          -0.2965164288390808,
          -0.706895447410791,
          1.5502600995179623,
          -0.6366979543722484,
          -0.7945130457311103,
          0.6297315765883358,
          0.4579480253616451,
          0.28517272497515733,
          -0.21868300387992046,
          -0.16787171624831937,
          -0.11256607638564324,
          0.8426374710028974,
          1.3986615685946515,
          -1.090607338985743,
          -0.016303676441252794,
          -0.5134837346286907,
          1.0392470981419613,
          0.12597986836736935,
          0.7959389747964046,
          0.7869391740164042,
          1.180566432155465,
          -0.9087432452984626,
          1.1458975842260783,
          -0.48619113725080226,
          0.4519653102767159,
          -0.12775546706206647,
          -1.4745111163345082,
          0.4623793361305044,
          -1.8414636413615315,
          -0.8998394786238483,
          0.989983007084247,
          0.9209135025235198,
          0.43104015003451956,
          -1.0314835572965813,
          -0.8666704512202311,
          1.990009844956514,
          0.30763458949726985,
          -0.8083996392306123,
          -0.04601070015389032,
          -0.38955858350891004,
          -0.04579387604819479,
          0.7208062267677919,
          -0.5461314091368321,
          -0.07333890568319136,
          -0.6731249797118971,
          -0.9607768099010299,
          1.1946035383803502,
          -1.549483783341268,
          -0.8846384663118005,
          1.0714162135247847,
          1.0456771927635082,
          0.7032503799131992,
          -0.6042849922242488,
          0.37025210605028147,
          0.39945148695539534,
          0.6200164474203527,
          1.0380459280289769,
          0.6166768469337013,
          2.3583535900957595,
          -1.1721536099412537,
          0.2641334560644568,
          -0.1012069240711426,
          -1.295229272890841,
          0.42007471923436257,
          -0.181195570764781,
          1.0045105396837868,
          0.21141981539537366,
          -0.0037609794501674895,
          1.5777213958905867,
          -0.9790455927405601,
          1.2944199497324587,
          -0.6565409915865277,
          0.34335193218477583,
          0.1614128282623339,
          0.19790145866259193,
          -0.7788405447524069,
          -1.174063329845148,
          1.9014311768549739,
          0.14697835100328624,
          0.25235653431769817,
          0.023204414533541416,
          -1.1531764500266515,
          0.16161060654721654,
          -1.7889271051493558,
          -0.6848346571876761,
          -2.899552568970263,
          0.4486961359270778,
          -0.7424220023632888,
          -0.5623112261986121,
          -0.2553903918813048,
          0.6876296207544265,
          1.3407290629783486,
          -2.023458350385798,
          1.0171344481236224,
          -0.3100493795784042,
          -1.5748904444112957,
          0.5659061932500894,
          0.9075931786590923,
          -0.8551233922946476
         ],
         "xaxis": "x",
         "yaxis": "y"
        }
       ],
       "layout": {
        "barmode": "relative",
        "height": 500,
        "legend": {
         "tracegroupgap": 0
        },
        "template": {
         "data": {
          "bar": [
           {
            "error_x": {
             "color": "#2a3f5f"
            },
            "error_y": {
             "color": "#2a3f5f"
            },
            "marker": {
             "line": {
              "color": "#E5ECF6",
              "width": 0.5
             },
             "pattern": {
              "fillmode": "overlay",
              "size": 10,
              "solidity": 0.2
             }
            },
            "type": "bar"
           }
          ],
          "barpolar": [
           {
            "marker": {
             "line": {
              "color": "#E5ECF6",
              "width": 0.5
             },
             "pattern": {
              "fillmode": "overlay",
              "size": 10,
              "solidity": 0.2
             }
            },
            "type": "barpolar"
           }
          ],
          "carpet": [
           {
            "aaxis": {
             "endlinecolor": "#2a3f5f",
             "gridcolor": "white",
             "linecolor": "white",
             "minorgridcolor": "white",
             "startlinecolor": "#2a3f5f"
            },
            "baxis": {
             "endlinecolor": "#2a3f5f",
             "gridcolor": "white",
             "linecolor": "white",
             "minorgridcolor": "white",
             "startlinecolor": "#2a3f5f"
            },
            "type": "carpet"
           }
          ],
          "choropleth": [
           {
            "colorbar": {
             "outlinewidth": 0,
             "ticks": ""
            },
            "type": "choropleth"
           }
          ],
          "contour": [
           {
            "colorbar": {
             "outlinewidth": 0,
             "ticks": ""
            },
            "colorscale": [
             [
              0,
              "#0d0887"
             ],
             [
              0.1111111111111111,
              "#46039f"
             ],
             [
              0.2222222222222222,
              "#7201a8"
             ],
             [
              0.3333333333333333,
              "#9c179e"
             ],
             [
              0.4444444444444444,
              "#bd3786"
             ],
             [
              0.5555555555555556,
              "#d8576b"
             ],
             [
              0.6666666666666666,
              "#ed7953"
             ],
             [
              0.7777777777777778,
              "#fb9f3a"
             ],
             [
              0.8888888888888888,
              "#fdca26"
             ],
             [
              1,
              "#f0f921"
             ]
            ],
            "type": "contour"
           }
          ],
          "contourcarpet": [
           {
            "colorbar": {
             "outlinewidth": 0,
             "ticks": ""
            },
            "type": "contourcarpet"
           }
          ],
          "heatmap": [
           {
            "colorbar": {
             "outlinewidth": 0,
             "ticks": ""
            },
            "colorscale": [
             [
              0,
              "#0d0887"
             ],
             [
              0.1111111111111111,
              "#46039f"
             ],
             [
              0.2222222222222222,
              "#7201a8"
             ],
             [
              0.3333333333333333,
              "#9c179e"
             ],
             [
              0.4444444444444444,
              "#bd3786"
             ],
             [
              0.5555555555555556,
              "#d8576b"
             ],
             [
              0.6666666666666666,
              "#ed7953"
             ],
             [
              0.7777777777777778,
              "#fb9f3a"
             ],
             [
              0.8888888888888888,
              "#fdca26"
             ],
             [
              1,
              "#f0f921"
             ]
            ],
            "type": "heatmap"
           }
          ],
          "heatmapgl": [
           {
            "colorbar": {
             "outlinewidth": 0,
             "ticks": ""
            },
            "colorscale": [
             [
              0,
              "#0d0887"
             ],
             [
              0.1111111111111111,
              "#46039f"
             ],
             [
              0.2222222222222222,
              "#7201a8"
             ],
             [
              0.3333333333333333,
              "#9c179e"
             ],
             [
              0.4444444444444444,
              "#bd3786"
             ],
             [
              0.5555555555555556,
              "#d8576b"
             ],
             [
              0.6666666666666666,
              "#ed7953"
             ],
             [
              0.7777777777777778,
              "#fb9f3a"
             ],
             [
              0.8888888888888888,
              "#fdca26"
             ],
             [
              1,
              "#f0f921"
             ]
            ],
            "type": "heatmapgl"
           }
          ],
          "histogram": [
           {
            "marker": {
             "pattern": {
              "fillmode": "overlay",
              "size": 10,
              "solidity": 0.2
             }
            },
            "type": "histogram"
           }
          ],
          "histogram2d": [
           {
            "colorbar": {
             "outlinewidth": 0,
             "ticks": ""
            },
            "colorscale": [
             [
              0,
              "#0d0887"
             ],
             [
              0.1111111111111111,
              "#46039f"
             ],
             [
              0.2222222222222222,
              "#7201a8"
             ],
             [
              0.3333333333333333,
              "#9c179e"
             ],
             [
              0.4444444444444444,
              "#bd3786"
             ],
             [
              0.5555555555555556,
              "#d8576b"
             ],
             [
              0.6666666666666666,
              "#ed7953"
             ],
             [
              0.7777777777777778,
              "#fb9f3a"
             ],
             [
              0.8888888888888888,
              "#fdca26"
             ],
             [
              1,
              "#f0f921"
             ]
            ],
            "type": "histogram2d"
           }
          ],
          "histogram2dcontour": [
           {
            "colorbar": {
             "outlinewidth": 0,
             "ticks": ""
            },
            "colorscale": [
             [
              0,
              "#0d0887"
             ],
             [
              0.1111111111111111,
              "#46039f"
             ],
             [
              0.2222222222222222,
              "#7201a8"
             ],
             [
              0.3333333333333333,
              "#9c179e"
             ],
             [
              0.4444444444444444,
              "#bd3786"
             ],
             [
              0.5555555555555556,
              "#d8576b"
             ],
             [
              0.6666666666666666,
              "#ed7953"
             ],
             [
              0.7777777777777778,
              "#fb9f3a"
             ],
             [
              0.8888888888888888,
              "#fdca26"
             ],
             [
              1,
              "#f0f921"
             ]
            ],
            "type": "histogram2dcontour"
           }
          ],
          "mesh3d": [
           {
            "colorbar": {
             "outlinewidth": 0,
             "ticks": ""
            },
            "type": "mesh3d"
           }
          ],
          "parcoords": [
           {
            "line": {
             "colorbar": {
              "outlinewidth": 0,
              "ticks": ""
             }
            },
            "type": "parcoords"
           }
          ],
          "pie": [
           {
            "automargin": true,
            "type": "pie"
           }
          ],
          "scatter": [
           {
            "fillpattern": {
             "fillmode": "overlay",
             "size": 10,
             "solidity": 0.2
            },
            "type": "scatter"
           }
          ],
          "scatter3d": [
           {
            "line": {
             "colorbar": {
              "outlinewidth": 0,
              "ticks": ""
             }
            },
            "marker": {
             "colorbar": {
              "outlinewidth": 0,
              "ticks": ""
             }
            },
            "type": "scatter3d"
           }
          ],
          "scattercarpet": [
           {
            "marker": {
             "colorbar": {
              "outlinewidth": 0,
              "ticks": ""
             }
            },
            "type": "scattercarpet"
           }
          ],
          "scattergeo": [
           {
            "marker": {
             "colorbar": {
              "outlinewidth": 0,
              "ticks": ""
             }
            },
            "type": "scattergeo"
           }
          ],
          "scattergl": [
           {
            "marker": {
             "colorbar": {
              "outlinewidth": 0,
              "ticks": ""
             }
            },
            "type": "scattergl"
           }
          ],
          "scattermapbox": [
           {
            "marker": {
             "colorbar": {
              "outlinewidth": 0,
              "ticks": ""
             }
            },
            "type": "scattermapbox"
           }
          ],
          "scatterpolar": [
           {
            "marker": {
             "colorbar": {
              "outlinewidth": 0,
              "ticks": ""
             }
            },
            "type": "scatterpolar"
           }
          ],
          "scatterpolargl": [
           {
            "marker": {
             "colorbar": {
              "outlinewidth": 0,
              "ticks": ""
             }
            },
            "type": "scatterpolargl"
           }
          ],
          "scatterternary": [
           {
            "marker": {
             "colorbar": {
              "outlinewidth": 0,
              "ticks": ""
             }
            },
            "type": "scatterternary"
           }
          ],
          "surface": [
           {
            "colorbar": {
             "outlinewidth": 0,
             "ticks": ""
            },
            "colorscale": [
             [
              0,
              "#0d0887"
             ],
             [
              0.1111111111111111,
              "#46039f"
             ],
             [
              0.2222222222222222,
              "#7201a8"
             ],
             [
              0.3333333333333333,
              "#9c179e"
             ],
             [
              0.4444444444444444,
              "#bd3786"
             ],
             [
              0.5555555555555556,
              "#d8576b"
             ],
             [
              0.6666666666666666,
              "#ed7953"
             ],
             [
              0.7777777777777778,
              "#fb9f3a"
             ],
             [
              0.8888888888888888,
              "#fdca26"
             ],
             [
              1,
              "#f0f921"
             ]
            ],
            "type": "surface"
           }
          ],
          "table": [
           {
            "cells": {
             "fill": {
              "color": "#EBF0F8"
             },
             "line": {
              "color": "white"
             }
            },
            "header": {
             "fill": {
              "color": "#C8D4E3"
             },
             "line": {
              "color": "white"
             }
            },
            "type": "table"
           }
          ]
         },
         "layout": {
          "annotationdefaults": {
           "arrowcolor": "#2a3f5f",
           "arrowhead": 0,
           "arrowwidth": 1
          },
          "autotypenumbers": "strict",
          "coloraxis": {
           "colorbar": {
            "outlinewidth": 0,
            "ticks": ""
           }
          },
          "colorscale": {
           "diverging": [
            [
             0,
             "#8e0152"
            ],
            [
             0.1,
             "#c51b7d"
            ],
            [
             0.2,
             "#de77ae"
            ],
            [
             0.3,
             "#f1b6da"
            ],
            [
             0.4,
             "#fde0ef"
            ],
            [
             0.5,
             "#f7f7f7"
            ],
            [
             0.6,
             "#e6f5d0"
            ],
            [
             0.7,
             "#b8e186"
            ],
            [
             0.8,
             "#7fbc41"
            ],
            [
             0.9,
             "#4d9221"
            ],
            [
             1,
             "#276419"
            ]
           ],
           "sequential": [
            [
             0,
             "#0d0887"
            ],
            [
             0.1111111111111111,
             "#46039f"
            ],
            [
             0.2222222222222222,
             "#7201a8"
            ],
            [
             0.3333333333333333,
             "#9c179e"
            ],
            [
             0.4444444444444444,
             "#bd3786"
            ],
            [
             0.5555555555555556,
             "#d8576b"
            ],
            [
             0.6666666666666666,
             "#ed7953"
            ],
            [
             0.7777777777777778,
             "#fb9f3a"
            ],
            [
             0.8888888888888888,
             "#fdca26"
            ],
            [
             1,
             "#f0f921"
            ]
           ],
           "sequentialminus": [
            [
             0,
             "#0d0887"
            ],
            [
             0.1111111111111111,
             "#46039f"
            ],
            [
             0.2222222222222222,
             "#7201a8"
            ],
            [
             0.3333333333333333,
             "#9c179e"
            ],
            [
             0.4444444444444444,
             "#bd3786"
            ],
            [
             0.5555555555555556,
             "#d8576b"
            ],
            [
             0.6666666666666666,
             "#ed7953"
            ],
            [
             0.7777777777777778,
             "#fb9f3a"
            ],
            [
             0.8888888888888888,
             "#fdca26"
            ],
            [
             1,
             "#f0f921"
            ]
           ]
          },
          "colorway": [
           "#636efa",
           "#EF553B",
           "#00cc96",
           "#ab63fa",
           "#FFA15A",
           "#19d3f3",
           "#FF6692",
           "#B6E880",
           "#FF97FF",
           "#FECB52"
          ],
          "font": {
           "color": "#2a3f5f"
          },
          "geo": {
           "bgcolor": "white",
           "lakecolor": "white",
           "landcolor": "#E5ECF6",
           "showlakes": true,
           "showland": true,
           "subunitcolor": "white"
          },
          "hoverlabel": {
           "align": "left"
          },
          "hovermode": "closest",
          "mapbox": {
           "style": "light"
          },
          "paper_bgcolor": "white",
          "plot_bgcolor": "#E5ECF6",
          "polar": {
           "angularaxis": {
            "gridcolor": "white",
            "linecolor": "white",
            "ticks": ""
           },
           "bgcolor": "#E5ECF6",
           "radialaxis": {
            "gridcolor": "white",
            "linecolor": "white",
            "ticks": ""
           }
          },
          "scene": {
           "xaxis": {
            "backgroundcolor": "#E5ECF6",
            "gridcolor": "white",
            "gridwidth": 2,
            "linecolor": "white",
            "showbackground": true,
            "ticks": "",
            "zerolinecolor": "white"
           },
           "yaxis": {
            "backgroundcolor": "#E5ECF6",
            "gridcolor": "white",
            "gridwidth": 2,
            "linecolor": "white",
            "showbackground": true,
            "ticks": "",
            "zerolinecolor": "white"
           },
           "zaxis": {
            "backgroundcolor": "#E5ECF6",
            "gridcolor": "white",
            "gridwidth": 2,
            "linecolor": "white",
            "showbackground": true,
            "ticks": "",
            "zerolinecolor": "white"
           }
          },
          "shapedefaults": {
           "line": {
            "color": "#2a3f5f"
           }
          },
          "ternary": {
           "aaxis": {
            "gridcolor": "white",
            "linecolor": "white",
            "ticks": ""
           },
           "baxis": {
            "gridcolor": "white",
            "linecolor": "white",
            "ticks": ""
           },
           "bgcolor": "#E5ECF6",
           "caxis": {
            "gridcolor": "white",
            "linecolor": "white",
            "ticks": ""
           }
          },
          "title": {
           "x": 0.05
          },
          "xaxis": {
           "automargin": true,
           "gridcolor": "white",
           "linecolor": "white",
           "ticks": "",
           "title": {
            "standoff": 15
           },
           "zerolinecolor": "white",
           "zerolinewidth": 2
          },
          "yaxis": {
           "automargin": true,
           "gridcolor": "white",
           "linecolor": "white",
           "ticks": "",
           "title": {
            "standoff": 15
           },
           "zerolinecolor": "white",
           "zerolinewidth": 2
          }
         }
        },
        "title": {
         "text": "Sample from a Normal Distribution"
        },
        "width": 800,
        "xaxis": {
         "anchor": "y",
         "domain": [
          0,
          1
         ],
         "title": {
          "text": "Normal"
         }
        },
        "yaxis": {
         "anchor": "x",
         "domain": [
          0,
          1
         ],
         "title": {
          "text": "probability density"
         }
        }
       }
      }
     },
     "metadata": {},
     "output_type": "display_data"
    }
   ],
   "source": [
    "fig = px.histogram(df, x=\"Normal\", \n",
    "                   opacity=0.75,\n",
    "                   color_discrete_sequence=['teal'],\n",
    "                   nbins=25,\n",
    "                   histnorm='probability density',\n",
    "                   height = 500, width = 800,\n",
    "                   title='Sample from a Normal Distribution')\n",
    "fig.show()"
   ]
  },
  {
   "cell_type": "markdown",
   "metadata": {},
   "source": [
    "8. Snow the histogram in **cummulative form** by setting the input `cummulative` as `True`"
   ]
  },
  {
   "cell_type": "code",
   "execution_count": 12,
   "metadata": {},
   "outputs": [
    {
     "data": {
      "application/vnd.plotly.v1+json": {
       "config": {
        "plotlyServerURL": "https://plot.ly"
       },
       "data": [
        {
         "alignmentgroup": "True",
         "bingroup": "x",
         "cumulative": {
          "enabled": true
         },
         "histnorm": "probability density",
         "hovertemplate": "Normal=%{x}<br>probability density=%{y}<extra></extra>",
         "legendgroup": "",
         "marker": {
          "color": "teal",
          "opacity": 0.75,
          "pattern": {
           "shape": ""
          }
         },
         "name": "",
         "nbinsx": 25,
         "offsetgroup": "",
         "orientation": "v",
         "showlegend": false,
         "type": "histogram",
         "x": [
          0.9922440175022573,
          -0.013192364921534144,
          -0.08643482672406257,
          1.086534493213565,
          -0.4112794626463247,
          3.065581107175467,
          -0.4139257129493315,
          0.49408638158181917,
          1.1553408731626915,
          1.3646587288715153,
          -0.18267585824155091,
          -0.6905925289813665,
          -0.5433696583272913,
          -1.7789681975386755,
          0.7445211791934149,
          -0.3910629368715519,
          -0.27495537015146326,
          0.39647006173481864,
          0.007142940031214655,
          0.08130845730738376,
          -0.8586395533597259,
          -0.5837840025111073,
          -2.0283048539117643,
          0.0868210404957446,
          0.011726565367619167,
          0.6235173814393108,
          0.09149573129017323,
          -0.7121951226567028,
          -0.16914019710741263,
          -0.3560255908978881,
          -3.065838924126337,
          0.5716665177217557,
          -0.14036769043887395,
          -0.8907415201512822,
          -0.7444166949579522,
          0.6183609198862388,
          -0.5668479300900784,
          -0.3902369081743067,
          1.1767267235195067,
          0.5648821653392719,
          2.152881244798071,
          0.028048637925076912,
          -0.37869819908424884,
          -0.1263169711878512,
          -0.20655575897592626,
          -1.06115139837128,
          -0.6438397336356853,
          0.028125718250783745,
          -0.5088759612461716,
          0.893359073935359,
          -0.2859848130190566,
          0.746565012581815,
          0.10407533685062888,
          0.039661758902339736,
          -0.26905016233424606,
          2.044792145713757,
          0.9773968311516065,
          -2.1638546527097837,
          0.603157687665255,
          -1.3710232696760039,
          -1.4985487881066921,
          -0.635168119412796,
          -1.8523927679935528,
          0.7446093861575178,
          1.790500197130094,
          -0.6854078384674978,
          -0.5651893261959818,
          0.9076839167750421,
          -0.5729424152645838,
          -0.2724617554188349,
          1.848647745643187,
          -0.4966958631276866,
          0.7331589706607188,
          -2.7213947925079105,
          2.3113579900982795,
          0.0502576237361418,
          -1.405663329561947,
          1.3543435147418859,
          -1.159805088686849,
          -1.1368591336367126,
          0.2665594172624437,
          0.30094167600171634,
          -0.05975424225132378,
          -0.2659791769346562,
          -0.6759782234501358,
          -0.5144079528466928,
          -1.2802519259698528,
          0.28204035450378634,
          1.7841882003375709,
          -0.5742293003431136,
          0.8631985121026826,
          1.0577261204761375,
          -0.18713478444336487,
          0.17138706931221617,
          1.2817046356415476,
          -0.8395867897432568,
          0.17059155447538074,
          -0.29338176303084057,
          0.4807455180969727,
          -1.1197618280965094,
          -0.21758256850491764,
          0.47807223286284317,
          -0.686414764434861,
          2.402039469267209,
          -1.0019164888574208,
          -0.0602309491768687,
          1.536806829922405,
          -0.03228569289014455,
          0.21407306889458944,
          -0.31586746298314994,
          1.0049821614181516,
          -0.7881320886318622,
          -1.4502839302480446,
          -0.1908107820709176,
          -1.333767347792869,
          -1.3294378712348183,
          -0.5553907196973072,
          -0.918369739840416,
          0.038746640451373195,
          -0.5990398356253983,
          0.6362121021100953,
          0.32748922675461045,
          -0.2822190963094087,
          0.3646414091799714,
          -0.39041994506578825,
          -0.1885723022561982,
          0.7357890227881434,
          -0.9199302538733043,
          0.1776472091072587,
          -0.39063572722475026,
          0.7741443162571909,
          -0.8523263267457808,
          0.8592572949742107,
          0.6188556106703542,
          -1.3873949266588683,
          0.81433304655623,
          0.8553944584957461,
          0.04698847432060194,
          0.29909093259972286,
          -1.3262196085337492,
          0.10232168021264923,
          -1.7066564332559706,
          -0.31019569025117627,
          -1.6050795043947228,
          0.22709410931946222,
          -0.5701045664295864,
          0.4213820468774945,
          -1.610568614042046,
          -0.3506385330660151,
          -1.800866945205892,
          0.5825608925139816,
          -0.16565081938630924,
          -0.9571265040375223,
          0.9779488770382453,
          -1.463458582721687,
          -0.826618956439601,
          1.4063393619956273,
          -0.09468736117199524,
          -0.34422693757133077,
          2.47795694428459,
          -0.2678949229923536,
          -0.19211069973448863,
          0.3267473360125302,
          0.48631983315268557,
          0.287318159944065,
          -0.19366376173130617,
          0.42591253607646645,
          -0.904258022442456,
          0.06150771415127942,
          -0.9588215070723852,
          -0.7295845391821887,
          1.364038428375701,
          -0.5924606896060864,
          -0.9232777472805235,
          -0.4425166023332556,
          0.9334716639745994,
          -2.2557040664766967,
          1.1123651965969956,
          1.0533535884774083,
          -1.3228488965754894,
          0.6170151436153989,
          1.3022228214907963,
          -0.18443326811390678,
          -0.4777942931335947,
          0.797193586171972,
          2.2783995781150814,
          1.2515886746012905,
          0.25012308897225327,
          -0.25081578728117493,
          -0.17111790992430811,
          -0.6958174060931471,
          -2.0408501238115093,
          -0.4017328476551939,
          -0.6844736101263469,
          0.4179689012537265,
          0.14773302828998583,
          -0.3714609886167385,
          0.4097443196174013,
          1.6052966097009098,
          -1.089552682939431,
          -0.1594924648610055,
          -0.4362431182761573,
          0.5757169044424252,
          -1.5517569456236109,
          2.6912510672380634,
          0.7261741072220927,
          -0.0725366123552572,
          1.0632112536916074,
          -0.5274482026370689,
          0.9683331036086136,
          -0.0589885892899716,
          -1.547361928619816,
          0.05147970577367814,
          -1.1935833521342203,
          0.6346331751455601,
          -0.6952408605738849,
          0.2574749301966593,
          -0.28794508009095193,
          0.3055931430038713,
          1.5377551414516173,
          -0.02101896542357186,
          1.7749222204148771,
          0.29328242232783075,
          -0.797538705589144,
          -0.08496676689899221,
          -0.31558541835569537,
          -1.7413248530872203,
          1.5029717991630258,
          0.2678099699102134,
          1.1304236787470152,
          -1.4910303473771636,
          0.44840595716486537,
          -0.1852462401900747,
          1.848012323526967,
          1.7863742517346741,
          -0.5990642951683577,
          -0.031217216154582842,
          -0.41641533343195986,
          -0.5598781869270968,
          -0.49979331409712036,
          1.2012452716700386,
          1.1999512812303772,
          -0.2657662860768825,
          -0.3011377442814745,
          0.9686644074447734,
          0.4889534562476449,
          0.002059059138348558,
          -0.7805596187133934,
          0.598914396816366,
          0.8176499552934805,
          -0.7490842581363188,
          1.0322812622642012,
          -1.4405600126906497,
          -1.1385975436249773,
          1.5781636803028174,
          -1.2513260992164903,
          -0.28477350302821025,
          -0.006187722400097042,
          -0.5351133912294991,
          0.14602643139864477,
          -2.0373447582561193,
          0.5093475025113386,
          -0.2950687916430458,
          1.1167351567647796,
          1.039253416900312,
          1.4083313088940643,
          1.4341467971702635,
          -0.29283429508760744,
          0.8651295503374785,
          0.22770541553408952,
          -1.1211292999907363,
          1.5421216804147273,
          -1.549518541882006,
          -0.21878965305249085,
          -0.33274785192148426,
          0.03839613471772703,
          0.6691599533196944,
          0.3871487248073923,
          0.40387429909665334,
          0.7247588667383599,
          -1.5225091596281835,
          -0.32979659813428497,
          -0.5452025101915784,
          -1.9811733433041465,
          -0.029726569470926757,
          0.9942345359726242,
          -0.07870466325272067,
          -0.5678925125681685,
          0.8352101020083307,
          1.356734340174622,
          0.6633030194828822,
          -1.878109443603396,
          0.4807410466186064,
          -1.7082364189358437,
          0.8034344191799038,
          -1.678042922148036,
          -0.4759946003657392,
          0.29617637280783177,
          -0.22137975269671287,
          0.20086450872531147,
          0.2760979123099737,
          -0.2965164288390808,
          -0.706895447410791,
          1.5502600995179623,
          -0.6366979543722484,
          -0.7945130457311103,
          0.6297315765883358,
          0.4579480253616451,
          0.28517272497515733,
          -0.21868300387992046,
          -0.16787171624831937,
          -0.11256607638564324,
          0.8426374710028974,
          1.3986615685946515,
          -1.090607338985743,
          -0.016303676441252794,
          -0.5134837346286907,
          1.0392470981419613,
          0.12597986836736935,
          0.7959389747964046,
          0.7869391740164042,
          1.180566432155465,
          -0.9087432452984626,
          1.1458975842260783,
          -0.48619113725080226,
          0.4519653102767159,
          -0.12775546706206647,
          -1.4745111163345082,
          0.4623793361305044,
          -1.8414636413615315,
          -0.8998394786238483,
          0.989983007084247,
          0.9209135025235198,
          0.43104015003451956,
          -1.0314835572965813,
          -0.8666704512202311,
          1.990009844956514,
          0.30763458949726985,
          -0.8083996392306123,
          -0.04601070015389032,
          -0.38955858350891004,
          -0.04579387604819479,
          0.7208062267677919,
          -0.5461314091368321,
          -0.07333890568319136,
          -0.6731249797118971,
          -0.9607768099010299,
          1.1946035383803502,
          -1.549483783341268,
          -0.8846384663118005,
          1.0714162135247847,
          1.0456771927635082,
          0.7032503799131992,
          -0.6042849922242488,
          0.37025210605028147,
          0.39945148695539534,
          0.6200164474203527,
          1.0380459280289769,
          0.6166768469337013,
          2.3583535900957595,
          -1.1721536099412537,
          0.2641334560644568,
          -0.1012069240711426,
          -1.295229272890841,
          0.42007471923436257,
          -0.181195570764781,
          1.0045105396837868,
          0.21141981539537366,
          -0.0037609794501674895,
          1.5777213958905867,
          -0.9790455927405601,
          1.2944199497324587,
          -0.6565409915865277,
          0.34335193218477583,
          0.1614128282623339,
          0.19790145866259193,
          -0.7788405447524069,
          -1.174063329845148,
          1.9014311768549739,
          0.14697835100328624,
          0.25235653431769817,
          0.023204414533541416,
          -1.1531764500266515,
          0.16161060654721654,
          -1.7889271051493558,
          -0.6848346571876761,
          -2.899552568970263,
          0.4486961359270778,
          -0.7424220023632888,
          -0.5623112261986121,
          -0.2553903918813048,
          0.6876296207544265,
          1.3407290629783486,
          -2.023458350385798,
          1.0171344481236224,
          -0.3100493795784042,
          -1.5748904444112957,
          0.5659061932500894,
          0.9075931786590923,
          -0.8551233922946476
         ],
         "xaxis": "x",
         "yaxis": "y"
        }
       ],
       "layout": {
        "barmode": "relative",
        "height": 500,
        "legend": {
         "tracegroupgap": 0
        },
        "template": {
         "data": {
          "bar": [
           {
            "error_x": {
             "color": "#2a3f5f"
            },
            "error_y": {
             "color": "#2a3f5f"
            },
            "marker": {
             "line": {
              "color": "#E5ECF6",
              "width": 0.5
             },
             "pattern": {
              "fillmode": "overlay",
              "size": 10,
              "solidity": 0.2
             }
            },
            "type": "bar"
           }
          ],
          "barpolar": [
           {
            "marker": {
             "line": {
              "color": "#E5ECF6",
              "width": 0.5
             },
             "pattern": {
              "fillmode": "overlay",
              "size": 10,
              "solidity": 0.2
             }
            },
            "type": "barpolar"
           }
          ],
          "carpet": [
           {
            "aaxis": {
             "endlinecolor": "#2a3f5f",
             "gridcolor": "white",
             "linecolor": "white",
             "minorgridcolor": "white",
             "startlinecolor": "#2a3f5f"
            },
            "baxis": {
             "endlinecolor": "#2a3f5f",
             "gridcolor": "white",
             "linecolor": "white",
             "minorgridcolor": "white",
             "startlinecolor": "#2a3f5f"
            },
            "type": "carpet"
           }
          ],
          "choropleth": [
           {
            "colorbar": {
             "outlinewidth": 0,
             "ticks": ""
            },
            "type": "choropleth"
           }
          ],
          "contour": [
           {
            "colorbar": {
             "outlinewidth": 0,
             "ticks": ""
            },
            "colorscale": [
             [
              0,
              "#0d0887"
             ],
             [
              0.1111111111111111,
              "#46039f"
             ],
             [
              0.2222222222222222,
              "#7201a8"
             ],
             [
              0.3333333333333333,
              "#9c179e"
             ],
             [
              0.4444444444444444,
              "#bd3786"
             ],
             [
              0.5555555555555556,
              "#d8576b"
             ],
             [
              0.6666666666666666,
              "#ed7953"
             ],
             [
              0.7777777777777778,
              "#fb9f3a"
             ],
             [
              0.8888888888888888,
              "#fdca26"
             ],
             [
              1,
              "#f0f921"
             ]
            ],
            "type": "contour"
           }
          ],
          "contourcarpet": [
           {
            "colorbar": {
             "outlinewidth": 0,
             "ticks": ""
            },
            "type": "contourcarpet"
           }
          ],
          "heatmap": [
           {
            "colorbar": {
             "outlinewidth": 0,
             "ticks": ""
            },
            "colorscale": [
             [
              0,
              "#0d0887"
             ],
             [
              0.1111111111111111,
              "#46039f"
             ],
             [
              0.2222222222222222,
              "#7201a8"
             ],
             [
              0.3333333333333333,
              "#9c179e"
             ],
             [
              0.4444444444444444,
              "#bd3786"
             ],
             [
              0.5555555555555556,
              "#d8576b"
             ],
             [
              0.6666666666666666,
              "#ed7953"
             ],
             [
              0.7777777777777778,
              "#fb9f3a"
             ],
             [
              0.8888888888888888,
              "#fdca26"
             ],
             [
              1,
              "#f0f921"
             ]
            ],
            "type": "heatmap"
           }
          ],
          "heatmapgl": [
           {
            "colorbar": {
             "outlinewidth": 0,
             "ticks": ""
            },
            "colorscale": [
             [
              0,
              "#0d0887"
             ],
             [
              0.1111111111111111,
              "#46039f"
             ],
             [
              0.2222222222222222,
              "#7201a8"
             ],
             [
              0.3333333333333333,
              "#9c179e"
             ],
             [
              0.4444444444444444,
              "#bd3786"
             ],
             [
              0.5555555555555556,
              "#d8576b"
             ],
             [
              0.6666666666666666,
              "#ed7953"
             ],
             [
              0.7777777777777778,
              "#fb9f3a"
             ],
             [
              0.8888888888888888,
              "#fdca26"
             ],
             [
              1,
              "#f0f921"
             ]
            ],
            "type": "heatmapgl"
           }
          ],
          "histogram": [
           {
            "marker": {
             "pattern": {
              "fillmode": "overlay",
              "size": 10,
              "solidity": 0.2
             }
            },
            "type": "histogram"
           }
          ],
          "histogram2d": [
           {
            "colorbar": {
             "outlinewidth": 0,
             "ticks": ""
            },
            "colorscale": [
             [
              0,
              "#0d0887"
             ],
             [
              0.1111111111111111,
              "#46039f"
             ],
             [
              0.2222222222222222,
              "#7201a8"
             ],
             [
              0.3333333333333333,
              "#9c179e"
             ],
             [
              0.4444444444444444,
              "#bd3786"
             ],
             [
              0.5555555555555556,
              "#d8576b"
             ],
             [
              0.6666666666666666,
              "#ed7953"
             ],
             [
              0.7777777777777778,
              "#fb9f3a"
             ],
             [
              0.8888888888888888,
              "#fdca26"
             ],
             [
              1,
              "#f0f921"
             ]
            ],
            "type": "histogram2d"
           }
          ],
          "histogram2dcontour": [
           {
            "colorbar": {
             "outlinewidth": 0,
             "ticks": ""
            },
            "colorscale": [
             [
              0,
              "#0d0887"
             ],
             [
              0.1111111111111111,
              "#46039f"
             ],
             [
              0.2222222222222222,
              "#7201a8"
             ],
             [
              0.3333333333333333,
              "#9c179e"
             ],
             [
              0.4444444444444444,
              "#bd3786"
             ],
             [
              0.5555555555555556,
              "#d8576b"
             ],
             [
              0.6666666666666666,
              "#ed7953"
             ],
             [
              0.7777777777777778,
              "#fb9f3a"
             ],
             [
              0.8888888888888888,
              "#fdca26"
             ],
             [
              1,
              "#f0f921"
             ]
            ],
            "type": "histogram2dcontour"
           }
          ],
          "mesh3d": [
           {
            "colorbar": {
             "outlinewidth": 0,
             "ticks": ""
            },
            "type": "mesh3d"
           }
          ],
          "parcoords": [
           {
            "line": {
             "colorbar": {
              "outlinewidth": 0,
              "ticks": ""
             }
            },
            "type": "parcoords"
           }
          ],
          "pie": [
           {
            "automargin": true,
            "type": "pie"
           }
          ],
          "scatter": [
           {
            "fillpattern": {
             "fillmode": "overlay",
             "size": 10,
             "solidity": 0.2
            },
            "type": "scatter"
           }
          ],
          "scatter3d": [
           {
            "line": {
             "colorbar": {
              "outlinewidth": 0,
              "ticks": ""
             }
            },
            "marker": {
             "colorbar": {
              "outlinewidth": 0,
              "ticks": ""
             }
            },
            "type": "scatter3d"
           }
          ],
          "scattercarpet": [
           {
            "marker": {
             "colorbar": {
              "outlinewidth": 0,
              "ticks": ""
             }
            },
            "type": "scattercarpet"
           }
          ],
          "scattergeo": [
           {
            "marker": {
             "colorbar": {
              "outlinewidth": 0,
              "ticks": ""
             }
            },
            "type": "scattergeo"
           }
          ],
          "scattergl": [
           {
            "marker": {
             "colorbar": {
              "outlinewidth": 0,
              "ticks": ""
             }
            },
            "type": "scattergl"
           }
          ],
          "scattermapbox": [
           {
            "marker": {
             "colorbar": {
              "outlinewidth": 0,
              "ticks": ""
             }
            },
            "type": "scattermapbox"
           }
          ],
          "scatterpolar": [
           {
            "marker": {
             "colorbar": {
              "outlinewidth": 0,
              "ticks": ""
             }
            },
            "type": "scatterpolar"
           }
          ],
          "scatterpolargl": [
           {
            "marker": {
             "colorbar": {
              "outlinewidth": 0,
              "ticks": ""
             }
            },
            "type": "scatterpolargl"
           }
          ],
          "scatterternary": [
           {
            "marker": {
             "colorbar": {
              "outlinewidth": 0,
              "ticks": ""
             }
            },
            "type": "scatterternary"
           }
          ],
          "surface": [
           {
            "colorbar": {
             "outlinewidth": 0,
             "ticks": ""
            },
            "colorscale": [
             [
              0,
              "#0d0887"
             ],
             [
              0.1111111111111111,
              "#46039f"
             ],
             [
              0.2222222222222222,
              "#7201a8"
             ],
             [
              0.3333333333333333,
              "#9c179e"
             ],
             [
              0.4444444444444444,
              "#bd3786"
             ],
             [
              0.5555555555555556,
              "#d8576b"
             ],
             [
              0.6666666666666666,
              "#ed7953"
             ],
             [
              0.7777777777777778,
              "#fb9f3a"
             ],
             [
              0.8888888888888888,
              "#fdca26"
             ],
             [
              1,
              "#f0f921"
             ]
            ],
            "type": "surface"
           }
          ],
          "table": [
           {
            "cells": {
             "fill": {
              "color": "#EBF0F8"
             },
             "line": {
              "color": "white"
             }
            },
            "header": {
             "fill": {
              "color": "#C8D4E3"
             },
             "line": {
              "color": "white"
             }
            },
            "type": "table"
           }
          ]
         },
         "layout": {
          "annotationdefaults": {
           "arrowcolor": "#2a3f5f",
           "arrowhead": 0,
           "arrowwidth": 1
          },
          "autotypenumbers": "strict",
          "coloraxis": {
           "colorbar": {
            "outlinewidth": 0,
            "ticks": ""
           }
          },
          "colorscale": {
           "diverging": [
            [
             0,
             "#8e0152"
            ],
            [
             0.1,
             "#c51b7d"
            ],
            [
             0.2,
             "#de77ae"
            ],
            [
             0.3,
             "#f1b6da"
            ],
            [
             0.4,
             "#fde0ef"
            ],
            [
             0.5,
             "#f7f7f7"
            ],
            [
             0.6,
             "#e6f5d0"
            ],
            [
             0.7,
             "#b8e186"
            ],
            [
             0.8,
             "#7fbc41"
            ],
            [
             0.9,
             "#4d9221"
            ],
            [
             1,
             "#276419"
            ]
           ],
           "sequential": [
            [
             0,
             "#0d0887"
            ],
            [
             0.1111111111111111,
             "#46039f"
            ],
            [
             0.2222222222222222,
             "#7201a8"
            ],
            [
             0.3333333333333333,
             "#9c179e"
            ],
            [
             0.4444444444444444,
             "#bd3786"
            ],
            [
             0.5555555555555556,
             "#d8576b"
            ],
            [
             0.6666666666666666,
             "#ed7953"
            ],
            [
             0.7777777777777778,
             "#fb9f3a"
            ],
            [
             0.8888888888888888,
             "#fdca26"
            ],
            [
             1,
             "#f0f921"
            ]
           ],
           "sequentialminus": [
            [
             0,
             "#0d0887"
            ],
            [
             0.1111111111111111,
             "#46039f"
            ],
            [
             0.2222222222222222,
             "#7201a8"
            ],
            [
             0.3333333333333333,
             "#9c179e"
            ],
            [
             0.4444444444444444,
             "#bd3786"
            ],
            [
             0.5555555555555556,
             "#d8576b"
            ],
            [
             0.6666666666666666,
             "#ed7953"
            ],
            [
             0.7777777777777778,
             "#fb9f3a"
            ],
            [
             0.8888888888888888,
             "#fdca26"
            ],
            [
             1,
             "#f0f921"
            ]
           ]
          },
          "colorway": [
           "#636efa",
           "#EF553B",
           "#00cc96",
           "#ab63fa",
           "#FFA15A",
           "#19d3f3",
           "#FF6692",
           "#B6E880",
           "#FF97FF",
           "#FECB52"
          ],
          "font": {
           "color": "#2a3f5f"
          },
          "geo": {
           "bgcolor": "white",
           "lakecolor": "white",
           "landcolor": "#E5ECF6",
           "showlakes": true,
           "showland": true,
           "subunitcolor": "white"
          },
          "hoverlabel": {
           "align": "left"
          },
          "hovermode": "closest",
          "mapbox": {
           "style": "light"
          },
          "paper_bgcolor": "white",
          "plot_bgcolor": "#E5ECF6",
          "polar": {
           "angularaxis": {
            "gridcolor": "white",
            "linecolor": "white",
            "ticks": ""
           },
           "bgcolor": "#E5ECF6",
           "radialaxis": {
            "gridcolor": "white",
            "linecolor": "white",
            "ticks": ""
           }
          },
          "scene": {
           "xaxis": {
            "backgroundcolor": "#E5ECF6",
            "gridcolor": "white",
            "gridwidth": 2,
            "linecolor": "white",
            "showbackground": true,
            "ticks": "",
            "zerolinecolor": "white"
           },
           "yaxis": {
            "backgroundcolor": "#E5ECF6",
            "gridcolor": "white",
            "gridwidth": 2,
            "linecolor": "white",
            "showbackground": true,
            "ticks": "",
            "zerolinecolor": "white"
           },
           "zaxis": {
            "backgroundcolor": "#E5ECF6",
            "gridcolor": "white",
            "gridwidth": 2,
            "linecolor": "white",
            "showbackground": true,
            "ticks": "",
            "zerolinecolor": "white"
           }
          },
          "shapedefaults": {
           "line": {
            "color": "#2a3f5f"
           }
          },
          "ternary": {
           "aaxis": {
            "gridcolor": "white",
            "linecolor": "white",
            "ticks": ""
           },
           "baxis": {
            "gridcolor": "white",
            "linecolor": "white",
            "ticks": ""
           },
           "bgcolor": "#E5ECF6",
           "caxis": {
            "gridcolor": "white",
            "linecolor": "white",
            "ticks": ""
           }
          },
          "title": {
           "x": 0.05
          },
          "xaxis": {
           "automargin": true,
           "gridcolor": "white",
           "linecolor": "white",
           "ticks": "",
           "title": {
            "standoff": 15
           },
           "zerolinecolor": "white",
           "zerolinewidth": 2
          },
          "yaxis": {
           "automargin": true,
           "gridcolor": "white",
           "linecolor": "white",
           "ticks": "",
           "title": {
            "standoff": 15
           },
           "zerolinecolor": "white",
           "zerolinewidth": 2
          }
         }
        },
        "title": {
         "text": "Sample from a Normal Distribution"
        },
        "width": 800,
        "xaxis": {
         "anchor": "y",
         "domain": [
          0,
          1
         ],
         "title": {
          "text": "Normal"
         }
        },
        "yaxis": {
         "anchor": "x",
         "domain": [
          0,
          1
         ],
         "title": {
          "text": "probability density"
         }
        }
       }
      }
     },
     "metadata": {},
     "output_type": "display_data"
    }
   ],
   "source": [
    "fig = px.histogram(df, x=\"Normal\", \n",
    "                   cumulative=True,\n",
    "                   opacity=0.75,\n",
    "                   color_discrete_sequence=['teal'],\n",
    "                   nbins=25,\n",
    "                   histnorm='probability density',\n",
    "                   height = 500, width = 800,\n",
    "                   title='Sample from a Normal Distribution')\n",
    "fig.show()"
   ]
  },
  {
   "cell_type": "markdown",
   "metadata": {},
   "source": [
    "### Multiple data sets"
   ]
  },
  {
   "cell_type": "markdown",
   "metadata": {},
   "source": [
    "Now we are going to use the data set `data2`"
   ]
  },
  {
   "cell_type": "code",
   "execution_count": 13,
   "metadata": {},
   "outputs": [],
   "source": [
    "df = data2"
   ]
  },
  {
   "cell_type": "markdown",
   "metadata": {},
   "source": [
    "1. To make a  histogram illustrating multiple distributions we follow the same ingredients as before calling the function `histrogram`  as before but importantly we have to pass the input `color` to differentiate the distributions\n"
   ]
  },
  {
   "cell_type": "code",
   "execution_count": 14,
   "metadata": {},
   "outputs": [
    {
     "data": {
      "application/vnd.plotly.v1+json": {
       "config": {
        "plotlyServerURL": "https://plot.ly"
       },
       "data": [
        {
         "alignmentgroup": "True",
         "bingroup": "x",
         "histnorm": "probability density",
         "hovertemplate": "Label=Sample 1<br>Data=%{x}<br>probability density=%{y}<extra></extra>",
         "legendgroup": "Sample 1",
         "marker": {
          "color": "#636efa",
          "opacity": 0.75,
          "pattern": {
           "shape": ""
          }
         },
         "name": "Sample 1",
         "nbinsx": 25,
         "offsetgroup": "Sample 1",
         "orientation": "v",
         "showlegend": true,
         "type": "histogram",
         "x": [
          0.9922440175022573,
          -0.013192364921534144,
          -0.08643482672406257,
          1.086534493213565,
          -0.4112794626463247,
          3.065581107175467,
          -0.4139257129493315,
          0.49408638158181917,
          1.1553408731626915,
          1.3646587288715153,
          -0.18267585824155091,
          -0.6905925289813665,
          -0.5433696583272913,
          -1.7789681975386755,
          0.7445211791934149,
          -0.3910629368715519,
          -0.27495537015146326,
          0.39647006173481864,
          0.007142940031214655,
          0.08130845730738376,
          -0.8586395533597259,
          -0.5837840025111073,
          -2.0283048539117643,
          0.0868210404957446,
          0.011726565367619167,
          0.6235173814393108,
          0.09149573129017323,
          -0.7121951226567028,
          -0.16914019710741263,
          -0.3560255908978881,
          -3.065838924126337,
          0.5716665177217557,
          -0.14036769043887395,
          -0.8907415201512822,
          -0.7444166949579522,
          0.6183609198862388,
          -0.5668479300900784,
          -0.3902369081743067,
          1.1767267235195067,
          0.5648821653392719,
          2.152881244798071,
          0.028048637925076912,
          -0.37869819908424884,
          -0.1263169711878512,
          -0.20655575897592626,
          -1.06115139837128,
          -0.6438397336356853,
          0.028125718250783745,
          -0.5088759612461716,
          0.893359073935359,
          -0.2859848130190566,
          0.746565012581815,
          0.10407533685062888,
          0.039661758902339736,
          -0.26905016233424606,
          2.044792145713757,
          0.9773968311516065,
          -2.1638546527097837,
          0.603157687665255,
          -1.3710232696760039,
          -1.4985487881066921,
          -0.635168119412796,
          -1.8523927679935528,
          0.7446093861575178,
          1.790500197130094,
          -0.6854078384674978,
          -0.5651893261959818,
          0.9076839167750421,
          -0.5729424152645838,
          -0.2724617554188349,
          1.848647745643187,
          -0.4966958631276866,
          0.7331589706607188,
          -2.7213947925079105,
          2.3113579900982795,
          0.0502576237361418,
          -1.405663329561947,
          1.3543435147418859,
          -1.159805088686849,
          -1.1368591336367126,
          0.2665594172624437,
          0.30094167600171634,
          -0.05975424225132378,
          -0.2659791769346562,
          -0.6759782234501358,
          -0.5144079528466928,
          -1.2802519259698528,
          0.28204035450378634,
          1.7841882003375709,
          -0.5742293003431136,
          0.8631985121026826,
          1.0577261204761375,
          -0.18713478444336487,
          0.17138706931221617,
          1.2817046356415476,
          -0.8395867897432568,
          0.17059155447538074,
          -0.29338176303084057,
          0.4807455180969727,
          -1.1197618280965094,
          -0.21758256850491764,
          0.47807223286284317,
          -0.686414764434861,
          2.402039469267209,
          -1.0019164888574208,
          -0.0602309491768687,
          1.536806829922405,
          -0.03228569289014455,
          0.21407306889458944,
          -0.31586746298314994,
          1.0049821614181516,
          -0.7881320886318622,
          -1.4502839302480446,
          -0.1908107820709176,
          -1.333767347792869,
          -1.3294378712348183,
          -0.5553907196973072,
          -0.918369739840416,
          0.038746640451373195,
          -0.5990398356253983,
          0.6362121021100953,
          0.32748922675461045,
          -0.2822190963094087,
          0.3646414091799714,
          -0.39041994506578825,
          -0.1885723022561982,
          0.7357890227881434,
          -0.9199302538733043,
          0.1776472091072587,
          -0.39063572722475026,
          0.7741443162571909,
          -0.8523263267457808,
          0.8592572949742107,
          0.6188556106703542,
          -1.3873949266588683,
          0.81433304655623,
          0.8553944584957461,
          0.04698847432060194,
          0.29909093259972286,
          -1.3262196085337492,
          0.10232168021264923,
          -1.7066564332559706,
          -0.31019569025117627,
          -1.6050795043947228,
          0.22709410931946222,
          -0.5701045664295864,
          0.4213820468774945,
          -1.610568614042046,
          -0.3506385330660151,
          -1.800866945205892,
          0.5825608925139816,
          -0.16565081938630924,
          -0.9571265040375223,
          0.9779488770382453,
          -1.463458582721687,
          -0.826618956439601,
          1.4063393619956273,
          -0.09468736117199524,
          -0.34422693757133077,
          2.47795694428459,
          -0.2678949229923536,
          -0.19211069973448863,
          0.3267473360125302,
          0.48631983315268557,
          0.287318159944065,
          -0.19366376173130617,
          0.42591253607646645,
          -0.904258022442456,
          0.06150771415127942,
          -0.9588215070723852,
          -0.7295845391821887,
          1.364038428375701,
          -0.5924606896060864,
          -0.9232777472805235,
          -0.4425166023332556,
          0.9334716639745994,
          -2.2557040664766967,
          1.1123651965969956,
          1.0533535884774083,
          -1.3228488965754894,
          0.6170151436153989,
          1.3022228214907963,
          -0.18443326811390678,
          -0.4777942931335947,
          0.797193586171972,
          2.2783995781150814,
          1.2515886746012905,
          0.25012308897225327,
          -0.25081578728117493,
          -0.17111790992430811,
          -0.6958174060931471,
          -2.0408501238115093,
          -0.4017328476551939,
          -0.6844736101263469,
          0.4179689012537265,
          0.14773302828998583,
          -0.3714609886167385,
          0.4097443196174013,
          1.6052966097009098,
          -1.089552682939431,
          -0.1594924648610055,
          -0.4362431182761573,
          0.5757169044424252,
          -1.5517569456236109,
          2.6912510672380634,
          0.7261741072220927,
          -0.0725366123552572,
          1.0632112536916074,
          -0.5274482026370689,
          0.9683331036086136,
          -0.0589885892899716,
          -1.547361928619816,
          0.05147970577367814,
          -1.1935833521342203,
          0.6346331751455601,
          -0.6952408605738849,
          0.2574749301966593,
          -0.28794508009095193,
          0.3055931430038713,
          1.5377551414516173,
          -0.02101896542357186,
          1.7749222204148771,
          0.29328242232783075,
          -0.797538705589144,
          -0.08496676689899221,
          -0.31558541835569537,
          -1.7413248530872203,
          1.5029717991630258,
          0.2678099699102134,
          1.1304236787470152,
          -1.4910303473771636,
          0.44840595716486537,
          -0.1852462401900747,
          1.848012323526967,
          1.7863742517346741,
          -0.5990642951683577,
          -0.031217216154582842,
          -0.41641533343195986,
          -0.5598781869270968,
          -0.49979331409712036,
          1.2012452716700386,
          1.1999512812303772,
          -0.2657662860768825,
          -0.3011377442814745,
          0.9686644074447734,
          0.4889534562476449,
          0.002059059138348558,
          -0.7805596187133934,
          0.598914396816366,
          0.8176499552934805,
          -0.7490842581363188,
          1.0322812622642012,
          -1.4405600126906497,
          -1.1385975436249773,
          1.5781636803028174,
          -1.2513260992164903,
          -0.28477350302821025,
          -0.006187722400097042,
          -0.5351133912294991,
          0.14602643139864477,
          -2.0373447582561193,
          0.5093475025113386,
          -0.2950687916430458,
          1.1167351567647796,
          1.039253416900312,
          1.4083313088940643,
          1.4341467971702635,
          -0.29283429508760744,
          0.8651295503374785,
          0.22770541553408952,
          -1.1211292999907363,
          1.5421216804147273,
          -1.549518541882006,
          -0.21878965305249085,
          -0.33274785192148426,
          0.03839613471772703,
          0.6691599533196944,
          0.3871487248073923,
          0.40387429909665334,
          0.7247588667383599,
          -1.5225091596281835,
          -0.32979659813428497,
          -0.5452025101915784,
          -1.9811733433041465,
          -0.029726569470926757,
          0.9942345359726242,
          -0.07870466325272067,
          -0.5678925125681685,
          0.8352101020083307,
          1.356734340174622,
          0.6633030194828822,
          -1.878109443603396,
          0.4807410466186064,
          -1.7082364189358437,
          0.8034344191799038,
          -1.678042922148036,
          -0.4759946003657392,
          0.29617637280783177,
          -0.22137975269671287,
          0.20086450872531147,
          0.2760979123099737,
          -0.2965164288390808,
          -0.706895447410791,
          1.5502600995179623,
          -0.6366979543722484,
          -0.7945130457311103,
          0.6297315765883358,
          0.4579480253616451,
          0.28517272497515733,
          -0.21868300387992046,
          -0.16787171624831937,
          -0.11256607638564324,
          0.8426374710028974,
          1.3986615685946515,
          -1.090607338985743,
          -0.016303676441252794,
          -0.5134837346286907,
          1.0392470981419613,
          0.12597986836736935,
          0.7959389747964046,
          0.7869391740164042,
          1.180566432155465,
          -0.9087432452984626,
          1.1458975842260783,
          -0.48619113725080226,
          0.4519653102767159,
          -0.12775546706206647,
          -1.4745111163345082,
          0.4623793361305044,
          -1.8414636413615315,
          -0.8998394786238483,
          0.989983007084247,
          0.9209135025235198,
          0.43104015003451956,
          -1.0314835572965813,
          -0.8666704512202311,
          1.990009844956514,
          0.30763458949726985,
          -0.8083996392306123,
          -0.04601070015389032,
          -0.38955858350891004,
          -0.04579387604819479,
          0.7208062267677919,
          -0.5461314091368321,
          -0.07333890568319136,
          -0.6731249797118971,
          -0.9607768099010299,
          1.1946035383803502,
          -1.549483783341268,
          -0.8846384663118005,
          1.0714162135247847,
          1.0456771927635082,
          0.7032503799131992,
          -0.6042849922242488,
          0.37025210605028147,
          0.39945148695539534,
          0.6200164474203527,
          1.0380459280289769,
          0.6166768469337013,
          2.3583535900957595,
          -1.1721536099412537,
          0.2641334560644568,
          -0.1012069240711426,
          -1.295229272890841,
          0.42007471923436257,
          -0.181195570764781,
          1.0045105396837868,
          0.21141981539537366,
          -0.0037609794501674895,
          1.5777213958905867,
          -0.9790455927405601,
          1.2944199497324587,
          -0.6565409915865277,
          0.34335193218477583,
          0.1614128282623339,
          0.19790145866259193,
          -0.7788405447524069,
          -1.174063329845148,
          1.9014311768549739,
          0.14697835100328624,
          0.25235653431769817,
          0.023204414533541416,
          -1.1531764500266515,
          0.16161060654721654,
          -1.7889271051493558,
          -0.6848346571876761,
          -2.899552568970263,
          0.4486961359270778,
          -0.7424220023632888,
          -0.5623112261986121,
          -0.2553903918813048,
          0.6876296207544265,
          1.3407290629783486,
          -2.023458350385798,
          1.0171344481236224,
          -0.3100493795784042,
          -1.5748904444112957,
          0.5659061932500894,
          0.9075931786590923,
          -0.8551233922946476
         ],
         "xaxis": "x",
         "yaxis": "y"
        },
        {
         "alignmentgroup": "True",
         "bingroup": "x",
         "histnorm": "probability density",
         "hovertemplate": "Label=Sample 2<br>Data=%{x}<br>probability density=%{y}<extra></extra>",
         "legendgroup": "Sample 2",
         "marker": {
          "color": "#EF553B",
          "opacity": 0.75,
          "pattern": {
           "shape": ""
          }
         },
         "name": "Sample 2",
         "nbinsx": 25,
         "offsetgroup": "Sample 2",
         "orientation": "v",
         "showlegend": true,
         "type": "histogram",
         "x": [
          3.5981980106223332,
          2.270245300100679,
          2.8352267530953346,
          2.6915235806656397,
          3.1734735398897103,
          3.648718816882238,
          2.1094686137196126,
          3.9886128223427493,
          3.291219029373245,
          3.114913508587121,
          3.0328868534253397,
          3.381274381041143,
          2.5297322654366834,
          2.874293904486577,
          2.3785266526257027,
          3.0932340775731837,
          2.4532560938735264,
          3.6628475986858087,
          3.9773762311252305,
          2.885556006783459,
          3.1897495487473733,
          3.5492026542731825,
          3.439784550759337,
          3.249081927792684,
          3.575404925478714,
          3.557928332510933,
          2.7632094108369136,
          3.2446139750532703,
          3.117351622553663,
          2.7730554638758163,
          3.742989466081303,
          3.475128967613334,
          2.4566109014038986,
          3.496901250868657,
          3.0890870734141562,
          3.007448936902856,
          3.384770259505657,
          3.239982146379134,
          3.0753967967134304,
          3.207458920654546,
          3.335600948849381,
          2.759533720308085,
          2.1622477405530507,
          2.7049782092834342,
          2.6604069107675015,
          3.340441289499288,
          2.5560269136763547,
          2.650274101658425,
          2.4144607765021107,
          1.5738198675207578,
          2.696934810614227,
          3.4998124889909645,
          2.071840127400535,
          4.133490588448546,
          4.374287521100312,
          3.5246760532490313,
          3.3570797950834512,
          3.4107934486865576,
          3.275743432026396,
          2.8081763038536884,
          2.9988370709969736,
          2.05822854256497,
          3.7830723078066293,
          2.942423805014566,
          2.593668220628424,
          3.772790392795293,
          2.8911155024551998,
          2.4927663081854012,
          3.3213665554226197,
          3.0286656060016877,
          3.568302976196795,
          3.3748029550728753,
          2.6426798189009304,
          2.7319896510636643,
          3.353141489221213,
          2.69457430413195,
          2.1223636948225706,
          2.734450660485974,
          4.487801699262283,
          3.048723384950952,
          3.1888632725167856,
          3.244226923979268,
          3.3219487454085654,
          2.6553916946555396,
          3.313420715663399,
          2.8359396129126586,
          2.4607837542976556,
          3.6649037569719365,
          2.8429299999580318,
          3.3735923374467696,
          3.723615707775733,
          3.1247730404296954,
          2.9365406544390877,
          2.539364455321969,
          3.1905166043403645,
          3.0623998910771517,
          2.37006506306206,
          2.9432910231847402,
          3.7382127812064945,
          2.4571205987676934,
          2.4110990165516415,
          2.773893968818518,
          3.3595965901927296,
          2.5199356572807035,
          3.2221940411009014,
          2.9046027367961575,
          3.3969827145204126,
          3.020870552544475,
          3.129256526028834,
          3.276488516920863,
          2.912373984106013,
          2.417499989820128,
          3.5291073674854565,
          2.9413579373128393,
          3.4722605532252526,
          3.0681018427210183,
          2.6637225369479127,
          3.3338067727808944,
          3.4785896038159563,
          3.6951067859219537,
          2.705093322498632,
          3.383703597248856,
          3.084157434557607,
          3.5214961674980203,
          3.6483171640046796,
          3.4529156363724245,
          2.652734840711252,
          2.8961491841416693,
          2.5918121170486996,
          2.374059088789797,
          2.8014429474386353,
          2.8552118746700574,
          2.8515499231614263,
          2.8183300517922163,
          2.737359984855421,
          2.733372877336999,
          3.7064614424989935,
          2.4539781437761827,
          3.98712021662982,
          2.735792172151408,
          2.561528863952417,
          2.5496249173231544,
          2.8157189468923045,
          3.8326183718213285,
          3.2977496957150128,
          2.8823022348481264,
          3.446280646915251,
          3.1205065751776524,
          2.4094031432100094,
          2.5993787656501737,
          2.8308434854628657,
          3.16309244394212,
          2.8306443114319917,
          3.459932347808063,
          3.455341615938163,
          2.8153505638949987,
          2.132897328279482,
          2.7962348409737965,
          2.870485355862974,
          3.1037457788469025,
          2.51613511925917,
          3.828102255564956,
          2.5231061300439377,
          3.079342750055819,
          2.7328604363705793,
          2.553778298184933,
          2.465836955660687,
          3.7754120051251396,
          3.693304752641028,
          2.458818091812545,
          2.7518628793517754,
          2.8346166662024084,
          3.2897946902623914,
          2.449964016762451,
          3.063213880503179,
          2.6820082371449834,
          3.254342417085467,
          3.0960097339349484,
          3.191175959885738,
          3.4235005242418293,
          3.0846699218827793,
          2.8210361113546316,
          3.3760267436532203,
          2.702853145912921,
          3.281449665363011,
          3.347456751777003,
          2.6637732460994012,
          2.66081796618928,
          3.353924032418008,
          3.163167402536636,
          3.529214226835173,
          3.087062741542046,
          3.0870666269967786,
          3.300677279150344,
          3.0811960765838746,
          3.7490511189202063,
          3.73224429164553,
          2.868478297151242,
          2.617570819418422,
          2.3542649296183025,
          2.4808481110780694,
          1.9569872064251013,
          3.104891901239055,
          2.8710568467668076,
          3.3218763437156573,
          3.329290952275029,
          2.2530161131363,
          3.2939796870831093,
          2.13735267886958,
          3.0824713585212313,
          3.383160942516369,
          3.4500820467952282,
          2.5581525932478044,
          2.2212571982272973,
          2.539026400138504,
          3.1131411685639,
          2.481792603129708,
          3.459048140076328,
          3.1894899044929095,
          3.49690168313426,
          3.909724870267799,
          2.818113772442467,
          3.146552430687141,
          2.878383737503861,
          2.834881612384729,
          3.726020743692028,
          3.4843573066490356,
          3.3551354729461123,
          3.3932646305978937,
          2.734037718010231,
          2.953178421650062,
          3.2239621757806436,
          2.87381511726855,
          2.3417994733282224,
          4.188938045322334,
          3.519834163319265,
          3.338283418828107,
          3.0950633197438724,
          2.8617131317978552,
          3.1579427939070652,
          2.6252781956531184,
          2.964504322751434,
          3.0188679616295526,
          3.3774335701960654,
          2.1567365771079117,
          1.8201251573728165,
          2.5668377663736694,
          2.697296002204767,
          2.67299351804162,
          2.9749907074390642,
          3.69038148786654,
          3.0479259878786125,
          3.096685785480862,
          3.2750076385816644,
          3.2471718263953124,
          3.25326935686529,
          2.8339487383183126,
          3.569641985666804,
          2.6048177169830486,
          3.2430005025495023,
          2.628149310930213,
          3.728698974343323,
          3.08070903446116,
          2.030199377459482,
          2.6750208186528965,
          3.269088353288835,
          2.4009004260020825,
          3.4348567529729794,
          4.168001487090093,
          3.6218685063021394,
          3.399968935158531,
          3.2720458556905854,
          2.86839568818097,
          2.9901308156877198,
          2.7943191210358114,
          3.350735240457807,
          3.5475974328951576,
          3.197931802476881,
          2.354925080664972,
          2.9249640232066008,
          2.914325657924022,
          2.078892909085839,
          3.0620857188017374,
          2.3420309571540203,
          2.5797482716495495,
          2.8096151244079475,
          3.2405103702120823,
          3.8113194513150184,
          2.5277361452085705,
          3.0274388357896296,
          3.6445911457171274,
          3.2707329404343466,
          2.768925037468489,
          3.159367484984267,
          2.652580480824744,
          2.7828182325150284,
          2.4286299319508524,
          3.16917417655469,
          2.433001393242171,
          2.3393921941344575,
          3.2947916911925863,
          2.0369082582458056,
          3.671374093442716,
          3.9052004710653385,
          3.045781173349723,
          3.0157681403813337,
          2.504593224918601,
          3.8304588832862914,
          2.590394113484947,
          3.1953745720174838,
          3.304259048624715,
          2.902778961546808,
          2.8753242525419416,
          2.5777374843753487,
          3.206250742993432,
          1.9893120241071283,
          2.8106516099466528,
          3.678949282584097,
          1.9345858956688584,
          3.9379314785045616,
          4.135669777631834,
          3.295490863819142,
          3.117758858108391,
          2.369490475899651,
          2.7696300064024575,
          1.8904170293371831,
          2.915028439771948,
          3.8806396476854865,
          3.087318330408864,
          2.539625181231531,
          2.855942559563048,
          2.311291518495648,
          2.712068415119748,
          3.1395001010412016,
          3.3038859373641727,
          3.482357242414101,
          3.468607153956318,
          2.999299249113333,
          2.0553666469139253,
          2.9942821863579407,
          2.5554491551389313,
          3.0549666693454247,
          2.849215223280165,
          2.9148431001247603,
          3.2758185550043737,
          2.2611394752011935,
          2.7839163022078823,
          3.687643785787331,
          2.6455380447583514,
          2.9680456815249445,
          2.8873841239939186,
          3.790838169402031,
          3.1513789777272785,
          3.088019541035307,
          4.056884468969646,
          3.9508348645901905,
          3.0723390007627605,
          2.8045388625188847,
          3.252268634500525,
          3.378624604958671,
          3.11637497742208,
          2.6754728277928943,
          3.675551204762098,
          3.0511739108435427,
          3.219060067489474,
          2.3803913855492493,
          3.081538549117559,
          2.2771426535906025,
          3.6362225728515125,
          2.9580144271527966,
          3.704559049090986,
          2.9772421471500334,
          2.657541846363756,
          2.540755436091614,
          2.5302751983883907,
          2.1801741660653526,
          3.4133598660872857,
          3.353800275952909,
          2.508606776643428,
          1.9429375378036868,
          3.403888187216799,
          3.0363230791081484,
          2.9558665720725408,
          3.77897140452914,
          2.4272166994882474,
          2.897056706925374,
          4.097567188057741,
          3.4267710383758203,
          3.170356021627936,
          3.564471044034923,
          2.248644361947243,
          3.138268100605961,
          2.92605730444555,
          2.9606055990234728,
          2.543048184817249,
          2.829579965659179,
          3.2390403144662923,
          2.8458951161425805,
          3.275364881389705,
          2.20115592692566
         ],
         "xaxis": "x",
         "yaxis": "y"
        }
       ],
       "layout": {
        "barmode": "relative",
        "height": 500,
        "legend": {
         "title": {
          "text": "Label"
         },
         "tracegroupgap": 0
        },
        "template": {
         "data": {
          "bar": [
           {
            "error_x": {
             "color": "#2a3f5f"
            },
            "error_y": {
             "color": "#2a3f5f"
            },
            "marker": {
             "line": {
              "color": "#E5ECF6",
              "width": 0.5
             },
             "pattern": {
              "fillmode": "overlay",
              "size": 10,
              "solidity": 0.2
             }
            },
            "type": "bar"
           }
          ],
          "barpolar": [
           {
            "marker": {
             "line": {
              "color": "#E5ECF6",
              "width": 0.5
             },
             "pattern": {
              "fillmode": "overlay",
              "size": 10,
              "solidity": 0.2
             }
            },
            "type": "barpolar"
           }
          ],
          "carpet": [
           {
            "aaxis": {
             "endlinecolor": "#2a3f5f",
             "gridcolor": "white",
             "linecolor": "white",
             "minorgridcolor": "white",
             "startlinecolor": "#2a3f5f"
            },
            "baxis": {
             "endlinecolor": "#2a3f5f",
             "gridcolor": "white",
             "linecolor": "white",
             "minorgridcolor": "white",
             "startlinecolor": "#2a3f5f"
            },
            "type": "carpet"
           }
          ],
          "choropleth": [
           {
            "colorbar": {
             "outlinewidth": 0,
             "ticks": ""
            },
            "type": "choropleth"
           }
          ],
          "contour": [
           {
            "colorbar": {
             "outlinewidth": 0,
             "ticks": ""
            },
            "colorscale": [
             [
              0,
              "#0d0887"
             ],
             [
              0.1111111111111111,
              "#46039f"
             ],
             [
              0.2222222222222222,
              "#7201a8"
             ],
             [
              0.3333333333333333,
              "#9c179e"
             ],
             [
              0.4444444444444444,
              "#bd3786"
             ],
             [
              0.5555555555555556,
              "#d8576b"
             ],
             [
              0.6666666666666666,
              "#ed7953"
             ],
             [
              0.7777777777777778,
              "#fb9f3a"
             ],
             [
              0.8888888888888888,
              "#fdca26"
             ],
             [
              1,
              "#f0f921"
             ]
            ],
            "type": "contour"
           }
          ],
          "contourcarpet": [
           {
            "colorbar": {
             "outlinewidth": 0,
             "ticks": ""
            },
            "type": "contourcarpet"
           }
          ],
          "heatmap": [
           {
            "colorbar": {
             "outlinewidth": 0,
             "ticks": ""
            },
            "colorscale": [
             [
              0,
              "#0d0887"
             ],
             [
              0.1111111111111111,
              "#46039f"
             ],
             [
              0.2222222222222222,
              "#7201a8"
             ],
             [
              0.3333333333333333,
              "#9c179e"
             ],
             [
              0.4444444444444444,
              "#bd3786"
             ],
             [
              0.5555555555555556,
              "#d8576b"
             ],
             [
              0.6666666666666666,
              "#ed7953"
             ],
             [
              0.7777777777777778,
              "#fb9f3a"
             ],
             [
              0.8888888888888888,
              "#fdca26"
             ],
             [
              1,
              "#f0f921"
             ]
            ],
            "type": "heatmap"
           }
          ],
          "heatmapgl": [
           {
            "colorbar": {
             "outlinewidth": 0,
             "ticks": ""
            },
            "colorscale": [
             [
              0,
              "#0d0887"
             ],
             [
              0.1111111111111111,
              "#46039f"
             ],
             [
              0.2222222222222222,
              "#7201a8"
             ],
             [
              0.3333333333333333,
              "#9c179e"
             ],
             [
              0.4444444444444444,
              "#bd3786"
             ],
             [
              0.5555555555555556,
              "#d8576b"
             ],
             [
              0.6666666666666666,
              "#ed7953"
             ],
             [
              0.7777777777777778,
              "#fb9f3a"
             ],
             [
              0.8888888888888888,
              "#fdca26"
             ],
             [
              1,
              "#f0f921"
             ]
            ],
            "type": "heatmapgl"
           }
          ],
          "histogram": [
           {
            "marker": {
             "pattern": {
              "fillmode": "overlay",
              "size": 10,
              "solidity": 0.2
             }
            },
            "type": "histogram"
           }
          ],
          "histogram2d": [
           {
            "colorbar": {
             "outlinewidth": 0,
             "ticks": ""
            },
            "colorscale": [
             [
              0,
              "#0d0887"
             ],
             [
              0.1111111111111111,
              "#46039f"
             ],
             [
              0.2222222222222222,
              "#7201a8"
             ],
             [
              0.3333333333333333,
              "#9c179e"
             ],
             [
              0.4444444444444444,
              "#bd3786"
             ],
             [
              0.5555555555555556,
              "#d8576b"
             ],
             [
              0.6666666666666666,
              "#ed7953"
             ],
             [
              0.7777777777777778,
              "#fb9f3a"
             ],
             [
              0.8888888888888888,
              "#fdca26"
             ],
             [
              1,
              "#f0f921"
             ]
            ],
            "type": "histogram2d"
           }
          ],
          "histogram2dcontour": [
           {
            "colorbar": {
             "outlinewidth": 0,
             "ticks": ""
            },
            "colorscale": [
             [
              0,
              "#0d0887"
             ],
             [
              0.1111111111111111,
              "#46039f"
             ],
             [
              0.2222222222222222,
              "#7201a8"
             ],
             [
              0.3333333333333333,
              "#9c179e"
             ],
             [
              0.4444444444444444,
              "#bd3786"
             ],
             [
              0.5555555555555556,
              "#d8576b"
             ],
             [
              0.6666666666666666,
              "#ed7953"
             ],
             [
              0.7777777777777778,
              "#fb9f3a"
             ],
             [
              0.8888888888888888,
              "#fdca26"
             ],
             [
              1,
              "#f0f921"
             ]
            ],
            "type": "histogram2dcontour"
           }
          ],
          "mesh3d": [
           {
            "colorbar": {
             "outlinewidth": 0,
             "ticks": ""
            },
            "type": "mesh3d"
           }
          ],
          "parcoords": [
           {
            "line": {
             "colorbar": {
              "outlinewidth": 0,
              "ticks": ""
             }
            },
            "type": "parcoords"
           }
          ],
          "pie": [
           {
            "automargin": true,
            "type": "pie"
           }
          ],
          "scatter": [
           {
            "fillpattern": {
             "fillmode": "overlay",
             "size": 10,
             "solidity": 0.2
            },
            "type": "scatter"
           }
          ],
          "scatter3d": [
           {
            "line": {
             "colorbar": {
              "outlinewidth": 0,
              "ticks": ""
             }
            },
            "marker": {
             "colorbar": {
              "outlinewidth": 0,
              "ticks": ""
             }
            },
            "type": "scatter3d"
           }
          ],
          "scattercarpet": [
           {
            "marker": {
             "colorbar": {
              "outlinewidth": 0,
              "ticks": ""
             }
            },
            "type": "scattercarpet"
           }
          ],
          "scattergeo": [
           {
            "marker": {
             "colorbar": {
              "outlinewidth": 0,
              "ticks": ""
             }
            },
            "type": "scattergeo"
           }
          ],
          "scattergl": [
           {
            "marker": {
             "colorbar": {
              "outlinewidth": 0,
              "ticks": ""
             }
            },
            "type": "scattergl"
           }
          ],
          "scattermapbox": [
           {
            "marker": {
             "colorbar": {
              "outlinewidth": 0,
              "ticks": ""
             }
            },
            "type": "scattermapbox"
           }
          ],
          "scatterpolar": [
           {
            "marker": {
             "colorbar": {
              "outlinewidth": 0,
              "ticks": ""
             }
            },
            "type": "scatterpolar"
           }
          ],
          "scatterpolargl": [
           {
            "marker": {
             "colorbar": {
              "outlinewidth": 0,
              "ticks": ""
             }
            },
            "type": "scatterpolargl"
           }
          ],
          "scatterternary": [
           {
            "marker": {
             "colorbar": {
              "outlinewidth": 0,
              "ticks": ""
             }
            },
            "type": "scatterternary"
           }
          ],
          "surface": [
           {
            "colorbar": {
             "outlinewidth": 0,
             "ticks": ""
            },
            "colorscale": [
             [
              0,
              "#0d0887"
             ],
             [
              0.1111111111111111,
              "#46039f"
             ],
             [
              0.2222222222222222,
              "#7201a8"
             ],
             [
              0.3333333333333333,
              "#9c179e"
             ],
             [
              0.4444444444444444,
              "#bd3786"
             ],
             [
              0.5555555555555556,
              "#d8576b"
             ],
             [
              0.6666666666666666,
              "#ed7953"
             ],
             [
              0.7777777777777778,
              "#fb9f3a"
             ],
             [
              0.8888888888888888,
              "#fdca26"
             ],
             [
              1,
              "#f0f921"
             ]
            ],
            "type": "surface"
           }
          ],
          "table": [
           {
            "cells": {
             "fill": {
              "color": "#EBF0F8"
             },
             "line": {
              "color": "white"
             }
            },
            "header": {
             "fill": {
              "color": "#C8D4E3"
             },
             "line": {
              "color": "white"
             }
            },
            "type": "table"
           }
          ]
         },
         "layout": {
          "annotationdefaults": {
           "arrowcolor": "#2a3f5f",
           "arrowhead": 0,
           "arrowwidth": 1
          },
          "autotypenumbers": "strict",
          "coloraxis": {
           "colorbar": {
            "outlinewidth": 0,
            "ticks": ""
           }
          },
          "colorscale": {
           "diverging": [
            [
             0,
             "#8e0152"
            ],
            [
             0.1,
             "#c51b7d"
            ],
            [
             0.2,
             "#de77ae"
            ],
            [
             0.3,
             "#f1b6da"
            ],
            [
             0.4,
             "#fde0ef"
            ],
            [
             0.5,
             "#f7f7f7"
            ],
            [
             0.6,
             "#e6f5d0"
            ],
            [
             0.7,
             "#b8e186"
            ],
            [
             0.8,
             "#7fbc41"
            ],
            [
             0.9,
             "#4d9221"
            ],
            [
             1,
             "#276419"
            ]
           ],
           "sequential": [
            [
             0,
             "#0d0887"
            ],
            [
             0.1111111111111111,
             "#46039f"
            ],
            [
             0.2222222222222222,
             "#7201a8"
            ],
            [
             0.3333333333333333,
             "#9c179e"
            ],
            [
             0.4444444444444444,
             "#bd3786"
            ],
            [
             0.5555555555555556,
             "#d8576b"
            ],
            [
             0.6666666666666666,
             "#ed7953"
            ],
            [
             0.7777777777777778,
             "#fb9f3a"
            ],
            [
             0.8888888888888888,
             "#fdca26"
            ],
            [
             1,
             "#f0f921"
            ]
           ],
           "sequentialminus": [
            [
             0,
             "#0d0887"
            ],
            [
             0.1111111111111111,
             "#46039f"
            ],
            [
             0.2222222222222222,
             "#7201a8"
            ],
            [
             0.3333333333333333,
             "#9c179e"
            ],
            [
             0.4444444444444444,
             "#bd3786"
            ],
            [
             0.5555555555555556,
             "#d8576b"
            ],
            [
             0.6666666666666666,
             "#ed7953"
            ],
            [
             0.7777777777777778,
             "#fb9f3a"
            ],
            [
             0.8888888888888888,
             "#fdca26"
            ],
            [
             1,
             "#f0f921"
            ]
           ]
          },
          "colorway": [
           "#636efa",
           "#EF553B",
           "#00cc96",
           "#ab63fa",
           "#FFA15A",
           "#19d3f3",
           "#FF6692",
           "#B6E880",
           "#FF97FF",
           "#FECB52"
          ],
          "font": {
           "color": "#2a3f5f"
          },
          "geo": {
           "bgcolor": "white",
           "lakecolor": "white",
           "landcolor": "#E5ECF6",
           "showlakes": true,
           "showland": true,
           "subunitcolor": "white"
          },
          "hoverlabel": {
           "align": "left"
          },
          "hovermode": "closest",
          "mapbox": {
           "style": "light"
          },
          "paper_bgcolor": "white",
          "plot_bgcolor": "#E5ECF6",
          "polar": {
           "angularaxis": {
            "gridcolor": "white",
            "linecolor": "white",
            "ticks": ""
           },
           "bgcolor": "#E5ECF6",
           "radialaxis": {
            "gridcolor": "white",
            "linecolor": "white",
            "ticks": ""
           }
          },
          "scene": {
           "xaxis": {
            "backgroundcolor": "#E5ECF6",
            "gridcolor": "white",
            "gridwidth": 2,
            "linecolor": "white",
            "showbackground": true,
            "ticks": "",
            "zerolinecolor": "white"
           },
           "yaxis": {
            "backgroundcolor": "#E5ECF6",
            "gridcolor": "white",
            "gridwidth": 2,
            "linecolor": "white",
            "showbackground": true,
            "ticks": "",
            "zerolinecolor": "white"
           },
           "zaxis": {
            "backgroundcolor": "#E5ECF6",
            "gridcolor": "white",
            "gridwidth": 2,
            "linecolor": "white",
            "showbackground": true,
            "ticks": "",
            "zerolinecolor": "white"
           }
          },
          "shapedefaults": {
           "line": {
            "color": "#2a3f5f"
           }
          },
          "ternary": {
           "aaxis": {
            "gridcolor": "white",
            "linecolor": "white",
            "ticks": ""
           },
           "baxis": {
            "gridcolor": "white",
            "linecolor": "white",
            "ticks": ""
           },
           "bgcolor": "#E5ECF6",
           "caxis": {
            "gridcolor": "white",
            "linecolor": "white",
            "ticks": ""
           }
          },
          "title": {
           "x": 0.05
          },
          "xaxis": {
           "automargin": true,
           "gridcolor": "white",
           "linecolor": "white",
           "ticks": "",
           "title": {
            "standoff": 15
           },
           "zerolinecolor": "white",
           "zerolinewidth": 2
          },
          "yaxis": {
           "automargin": true,
           "gridcolor": "white",
           "linecolor": "white",
           "ticks": "",
           "title": {
            "standoff": 15
           },
           "zerolinecolor": "white",
           "zerolinewidth": 2
          }
         }
        },
        "title": {
         "text": "Sample from a Normal Distribution"
        },
        "width": 800,
        "xaxis": {
         "anchor": "y",
         "domain": [
          0,
          1
         ],
         "title": {
          "text": "Data"
         }
        },
        "yaxis": {
         "anchor": "x",
         "domain": [
          0,
          1
         ],
         "title": {
          "text": "probability density"
         }
        }
       }
      }
     },
     "metadata": {},
     "output_type": "display_data"
    }
   ],
   "source": [
    "fig = px.histogram(df, x='Data',\n",
    "                   color='Label', \n",
    "                   opacity=0.75,\n",
    "                   nbins=25,\n",
    "                   histnorm='probability density',\n",
    "                   height = 500, width = 800,\n",
    "                   title='Sample from a Normal Distribution')\n",
    "fig.show()"
   ]
  },
  {
   "cell_type": "markdown",
   "metadata": {},
   "source": [
    "2. Set the input `barmode` as `'overlay'` This is particularly important when showing several distributions which overlay on the same chart "
   ]
  },
  {
   "cell_type": "code",
   "execution_count": 15,
   "metadata": {},
   "outputs": [
    {
     "data": {
      "application/vnd.plotly.v1+json": {
       "config": {
        "plotlyServerURL": "https://plot.ly"
       },
       "data": [
        {
         "alignmentgroup": "True",
         "bingroup": "x",
         "histnorm": "probability density",
         "hovertemplate": "Label=Sample 1<br>Data=%{x}<br>probability density=%{y}<extra></extra>",
         "legendgroup": "Sample 1",
         "marker": {
          "color": "#636efa",
          "opacity": 0.75,
          "pattern": {
           "shape": ""
          }
         },
         "name": "Sample 1",
         "nbinsx": 25,
         "offsetgroup": "Sample 1",
         "orientation": "v",
         "showlegend": true,
         "type": "histogram",
         "x": [
          0.9922440175022573,
          -0.013192364921534144,
          -0.08643482672406257,
          1.086534493213565,
          -0.4112794626463247,
          3.065581107175467,
          -0.4139257129493315,
          0.49408638158181917,
          1.1553408731626915,
          1.3646587288715153,
          -0.18267585824155091,
          -0.6905925289813665,
          -0.5433696583272913,
          -1.7789681975386755,
          0.7445211791934149,
          -0.3910629368715519,
          -0.27495537015146326,
          0.39647006173481864,
          0.007142940031214655,
          0.08130845730738376,
          -0.8586395533597259,
          -0.5837840025111073,
          -2.0283048539117643,
          0.0868210404957446,
          0.011726565367619167,
          0.6235173814393108,
          0.09149573129017323,
          -0.7121951226567028,
          -0.16914019710741263,
          -0.3560255908978881,
          -3.065838924126337,
          0.5716665177217557,
          -0.14036769043887395,
          -0.8907415201512822,
          -0.7444166949579522,
          0.6183609198862388,
          -0.5668479300900784,
          -0.3902369081743067,
          1.1767267235195067,
          0.5648821653392719,
          2.152881244798071,
          0.028048637925076912,
          -0.37869819908424884,
          -0.1263169711878512,
          -0.20655575897592626,
          -1.06115139837128,
          -0.6438397336356853,
          0.028125718250783745,
          -0.5088759612461716,
          0.893359073935359,
          -0.2859848130190566,
          0.746565012581815,
          0.10407533685062888,
          0.039661758902339736,
          -0.26905016233424606,
          2.044792145713757,
          0.9773968311516065,
          -2.1638546527097837,
          0.603157687665255,
          -1.3710232696760039,
          -1.4985487881066921,
          -0.635168119412796,
          -1.8523927679935528,
          0.7446093861575178,
          1.790500197130094,
          -0.6854078384674978,
          -0.5651893261959818,
          0.9076839167750421,
          -0.5729424152645838,
          -0.2724617554188349,
          1.848647745643187,
          -0.4966958631276866,
          0.7331589706607188,
          -2.7213947925079105,
          2.3113579900982795,
          0.0502576237361418,
          -1.405663329561947,
          1.3543435147418859,
          -1.159805088686849,
          -1.1368591336367126,
          0.2665594172624437,
          0.30094167600171634,
          -0.05975424225132378,
          -0.2659791769346562,
          -0.6759782234501358,
          -0.5144079528466928,
          -1.2802519259698528,
          0.28204035450378634,
          1.7841882003375709,
          -0.5742293003431136,
          0.8631985121026826,
          1.0577261204761375,
          -0.18713478444336487,
          0.17138706931221617,
          1.2817046356415476,
          -0.8395867897432568,
          0.17059155447538074,
          -0.29338176303084057,
          0.4807455180969727,
          -1.1197618280965094,
          -0.21758256850491764,
          0.47807223286284317,
          -0.686414764434861,
          2.402039469267209,
          -1.0019164888574208,
          -0.0602309491768687,
          1.536806829922405,
          -0.03228569289014455,
          0.21407306889458944,
          -0.31586746298314994,
          1.0049821614181516,
          -0.7881320886318622,
          -1.4502839302480446,
          -0.1908107820709176,
          -1.333767347792869,
          -1.3294378712348183,
          -0.5553907196973072,
          -0.918369739840416,
          0.038746640451373195,
          -0.5990398356253983,
          0.6362121021100953,
          0.32748922675461045,
          -0.2822190963094087,
          0.3646414091799714,
          -0.39041994506578825,
          -0.1885723022561982,
          0.7357890227881434,
          -0.9199302538733043,
          0.1776472091072587,
          -0.39063572722475026,
          0.7741443162571909,
          -0.8523263267457808,
          0.8592572949742107,
          0.6188556106703542,
          -1.3873949266588683,
          0.81433304655623,
          0.8553944584957461,
          0.04698847432060194,
          0.29909093259972286,
          -1.3262196085337492,
          0.10232168021264923,
          -1.7066564332559706,
          -0.31019569025117627,
          -1.6050795043947228,
          0.22709410931946222,
          -0.5701045664295864,
          0.4213820468774945,
          -1.610568614042046,
          -0.3506385330660151,
          -1.800866945205892,
          0.5825608925139816,
          -0.16565081938630924,
          -0.9571265040375223,
          0.9779488770382453,
          -1.463458582721687,
          -0.826618956439601,
          1.4063393619956273,
          -0.09468736117199524,
          -0.34422693757133077,
          2.47795694428459,
          -0.2678949229923536,
          -0.19211069973448863,
          0.3267473360125302,
          0.48631983315268557,
          0.287318159944065,
          -0.19366376173130617,
          0.42591253607646645,
          -0.904258022442456,
          0.06150771415127942,
          -0.9588215070723852,
          -0.7295845391821887,
          1.364038428375701,
          -0.5924606896060864,
          -0.9232777472805235,
          -0.4425166023332556,
          0.9334716639745994,
          -2.2557040664766967,
          1.1123651965969956,
          1.0533535884774083,
          -1.3228488965754894,
          0.6170151436153989,
          1.3022228214907963,
          -0.18443326811390678,
          -0.4777942931335947,
          0.797193586171972,
          2.2783995781150814,
          1.2515886746012905,
          0.25012308897225327,
          -0.25081578728117493,
          -0.17111790992430811,
          -0.6958174060931471,
          -2.0408501238115093,
          -0.4017328476551939,
          -0.6844736101263469,
          0.4179689012537265,
          0.14773302828998583,
          -0.3714609886167385,
          0.4097443196174013,
          1.6052966097009098,
          -1.089552682939431,
          -0.1594924648610055,
          -0.4362431182761573,
          0.5757169044424252,
          -1.5517569456236109,
          2.6912510672380634,
          0.7261741072220927,
          -0.0725366123552572,
          1.0632112536916074,
          -0.5274482026370689,
          0.9683331036086136,
          -0.0589885892899716,
          -1.547361928619816,
          0.05147970577367814,
          -1.1935833521342203,
          0.6346331751455601,
          -0.6952408605738849,
          0.2574749301966593,
          -0.28794508009095193,
          0.3055931430038713,
          1.5377551414516173,
          -0.02101896542357186,
          1.7749222204148771,
          0.29328242232783075,
          -0.797538705589144,
          -0.08496676689899221,
          -0.31558541835569537,
          -1.7413248530872203,
          1.5029717991630258,
          0.2678099699102134,
          1.1304236787470152,
          -1.4910303473771636,
          0.44840595716486537,
          -0.1852462401900747,
          1.848012323526967,
          1.7863742517346741,
          -0.5990642951683577,
          -0.031217216154582842,
          -0.41641533343195986,
          -0.5598781869270968,
          -0.49979331409712036,
          1.2012452716700386,
          1.1999512812303772,
          -0.2657662860768825,
          -0.3011377442814745,
          0.9686644074447734,
          0.4889534562476449,
          0.002059059138348558,
          -0.7805596187133934,
          0.598914396816366,
          0.8176499552934805,
          -0.7490842581363188,
          1.0322812622642012,
          -1.4405600126906497,
          -1.1385975436249773,
          1.5781636803028174,
          -1.2513260992164903,
          -0.28477350302821025,
          -0.006187722400097042,
          -0.5351133912294991,
          0.14602643139864477,
          -2.0373447582561193,
          0.5093475025113386,
          -0.2950687916430458,
          1.1167351567647796,
          1.039253416900312,
          1.4083313088940643,
          1.4341467971702635,
          -0.29283429508760744,
          0.8651295503374785,
          0.22770541553408952,
          -1.1211292999907363,
          1.5421216804147273,
          -1.549518541882006,
          -0.21878965305249085,
          -0.33274785192148426,
          0.03839613471772703,
          0.6691599533196944,
          0.3871487248073923,
          0.40387429909665334,
          0.7247588667383599,
          -1.5225091596281835,
          -0.32979659813428497,
          -0.5452025101915784,
          -1.9811733433041465,
          -0.029726569470926757,
          0.9942345359726242,
          -0.07870466325272067,
          -0.5678925125681685,
          0.8352101020083307,
          1.356734340174622,
          0.6633030194828822,
          -1.878109443603396,
          0.4807410466186064,
          -1.7082364189358437,
          0.8034344191799038,
          -1.678042922148036,
          -0.4759946003657392,
          0.29617637280783177,
          -0.22137975269671287,
          0.20086450872531147,
          0.2760979123099737,
          -0.2965164288390808,
          -0.706895447410791,
          1.5502600995179623,
          -0.6366979543722484,
          -0.7945130457311103,
          0.6297315765883358,
          0.4579480253616451,
          0.28517272497515733,
          -0.21868300387992046,
          -0.16787171624831937,
          -0.11256607638564324,
          0.8426374710028974,
          1.3986615685946515,
          -1.090607338985743,
          -0.016303676441252794,
          -0.5134837346286907,
          1.0392470981419613,
          0.12597986836736935,
          0.7959389747964046,
          0.7869391740164042,
          1.180566432155465,
          -0.9087432452984626,
          1.1458975842260783,
          -0.48619113725080226,
          0.4519653102767159,
          -0.12775546706206647,
          -1.4745111163345082,
          0.4623793361305044,
          -1.8414636413615315,
          -0.8998394786238483,
          0.989983007084247,
          0.9209135025235198,
          0.43104015003451956,
          -1.0314835572965813,
          -0.8666704512202311,
          1.990009844956514,
          0.30763458949726985,
          -0.8083996392306123,
          -0.04601070015389032,
          -0.38955858350891004,
          -0.04579387604819479,
          0.7208062267677919,
          -0.5461314091368321,
          -0.07333890568319136,
          -0.6731249797118971,
          -0.9607768099010299,
          1.1946035383803502,
          -1.549483783341268,
          -0.8846384663118005,
          1.0714162135247847,
          1.0456771927635082,
          0.7032503799131992,
          -0.6042849922242488,
          0.37025210605028147,
          0.39945148695539534,
          0.6200164474203527,
          1.0380459280289769,
          0.6166768469337013,
          2.3583535900957595,
          -1.1721536099412537,
          0.2641334560644568,
          -0.1012069240711426,
          -1.295229272890841,
          0.42007471923436257,
          -0.181195570764781,
          1.0045105396837868,
          0.21141981539537366,
          -0.0037609794501674895,
          1.5777213958905867,
          -0.9790455927405601,
          1.2944199497324587,
          -0.6565409915865277,
          0.34335193218477583,
          0.1614128282623339,
          0.19790145866259193,
          -0.7788405447524069,
          -1.174063329845148,
          1.9014311768549739,
          0.14697835100328624,
          0.25235653431769817,
          0.023204414533541416,
          -1.1531764500266515,
          0.16161060654721654,
          -1.7889271051493558,
          -0.6848346571876761,
          -2.899552568970263,
          0.4486961359270778,
          -0.7424220023632888,
          -0.5623112261986121,
          -0.2553903918813048,
          0.6876296207544265,
          1.3407290629783486,
          -2.023458350385798,
          1.0171344481236224,
          -0.3100493795784042,
          -1.5748904444112957,
          0.5659061932500894,
          0.9075931786590923,
          -0.8551233922946476
         ],
         "xaxis": "x",
         "yaxis": "y"
        },
        {
         "alignmentgroup": "True",
         "bingroup": "x",
         "histnorm": "probability density",
         "hovertemplate": "Label=Sample 2<br>Data=%{x}<br>probability density=%{y}<extra></extra>",
         "legendgroup": "Sample 2",
         "marker": {
          "color": "#EF553B",
          "opacity": 0.75,
          "pattern": {
           "shape": ""
          }
         },
         "name": "Sample 2",
         "nbinsx": 25,
         "offsetgroup": "Sample 2",
         "orientation": "v",
         "showlegend": true,
         "type": "histogram",
         "x": [
          3.5981980106223332,
          2.270245300100679,
          2.8352267530953346,
          2.6915235806656397,
          3.1734735398897103,
          3.648718816882238,
          2.1094686137196126,
          3.9886128223427493,
          3.291219029373245,
          3.114913508587121,
          3.0328868534253397,
          3.381274381041143,
          2.5297322654366834,
          2.874293904486577,
          2.3785266526257027,
          3.0932340775731837,
          2.4532560938735264,
          3.6628475986858087,
          3.9773762311252305,
          2.885556006783459,
          3.1897495487473733,
          3.5492026542731825,
          3.439784550759337,
          3.249081927792684,
          3.575404925478714,
          3.557928332510933,
          2.7632094108369136,
          3.2446139750532703,
          3.117351622553663,
          2.7730554638758163,
          3.742989466081303,
          3.475128967613334,
          2.4566109014038986,
          3.496901250868657,
          3.0890870734141562,
          3.007448936902856,
          3.384770259505657,
          3.239982146379134,
          3.0753967967134304,
          3.207458920654546,
          3.335600948849381,
          2.759533720308085,
          2.1622477405530507,
          2.7049782092834342,
          2.6604069107675015,
          3.340441289499288,
          2.5560269136763547,
          2.650274101658425,
          2.4144607765021107,
          1.5738198675207578,
          2.696934810614227,
          3.4998124889909645,
          2.071840127400535,
          4.133490588448546,
          4.374287521100312,
          3.5246760532490313,
          3.3570797950834512,
          3.4107934486865576,
          3.275743432026396,
          2.8081763038536884,
          2.9988370709969736,
          2.05822854256497,
          3.7830723078066293,
          2.942423805014566,
          2.593668220628424,
          3.772790392795293,
          2.8911155024551998,
          2.4927663081854012,
          3.3213665554226197,
          3.0286656060016877,
          3.568302976196795,
          3.3748029550728753,
          2.6426798189009304,
          2.7319896510636643,
          3.353141489221213,
          2.69457430413195,
          2.1223636948225706,
          2.734450660485974,
          4.487801699262283,
          3.048723384950952,
          3.1888632725167856,
          3.244226923979268,
          3.3219487454085654,
          2.6553916946555396,
          3.313420715663399,
          2.8359396129126586,
          2.4607837542976556,
          3.6649037569719365,
          2.8429299999580318,
          3.3735923374467696,
          3.723615707775733,
          3.1247730404296954,
          2.9365406544390877,
          2.539364455321969,
          3.1905166043403645,
          3.0623998910771517,
          2.37006506306206,
          2.9432910231847402,
          3.7382127812064945,
          2.4571205987676934,
          2.4110990165516415,
          2.773893968818518,
          3.3595965901927296,
          2.5199356572807035,
          3.2221940411009014,
          2.9046027367961575,
          3.3969827145204126,
          3.020870552544475,
          3.129256526028834,
          3.276488516920863,
          2.912373984106013,
          2.417499989820128,
          3.5291073674854565,
          2.9413579373128393,
          3.4722605532252526,
          3.0681018427210183,
          2.6637225369479127,
          3.3338067727808944,
          3.4785896038159563,
          3.6951067859219537,
          2.705093322498632,
          3.383703597248856,
          3.084157434557607,
          3.5214961674980203,
          3.6483171640046796,
          3.4529156363724245,
          2.652734840711252,
          2.8961491841416693,
          2.5918121170486996,
          2.374059088789797,
          2.8014429474386353,
          2.8552118746700574,
          2.8515499231614263,
          2.8183300517922163,
          2.737359984855421,
          2.733372877336999,
          3.7064614424989935,
          2.4539781437761827,
          3.98712021662982,
          2.735792172151408,
          2.561528863952417,
          2.5496249173231544,
          2.8157189468923045,
          3.8326183718213285,
          3.2977496957150128,
          2.8823022348481264,
          3.446280646915251,
          3.1205065751776524,
          2.4094031432100094,
          2.5993787656501737,
          2.8308434854628657,
          3.16309244394212,
          2.8306443114319917,
          3.459932347808063,
          3.455341615938163,
          2.8153505638949987,
          2.132897328279482,
          2.7962348409737965,
          2.870485355862974,
          3.1037457788469025,
          2.51613511925917,
          3.828102255564956,
          2.5231061300439377,
          3.079342750055819,
          2.7328604363705793,
          2.553778298184933,
          2.465836955660687,
          3.7754120051251396,
          3.693304752641028,
          2.458818091812545,
          2.7518628793517754,
          2.8346166662024084,
          3.2897946902623914,
          2.449964016762451,
          3.063213880503179,
          2.6820082371449834,
          3.254342417085467,
          3.0960097339349484,
          3.191175959885738,
          3.4235005242418293,
          3.0846699218827793,
          2.8210361113546316,
          3.3760267436532203,
          2.702853145912921,
          3.281449665363011,
          3.347456751777003,
          2.6637732460994012,
          2.66081796618928,
          3.353924032418008,
          3.163167402536636,
          3.529214226835173,
          3.087062741542046,
          3.0870666269967786,
          3.300677279150344,
          3.0811960765838746,
          3.7490511189202063,
          3.73224429164553,
          2.868478297151242,
          2.617570819418422,
          2.3542649296183025,
          2.4808481110780694,
          1.9569872064251013,
          3.104891901239055,
          2.8710568467668076,
          3.3218763437156573,
          3.329290952275029,
          2.2530161131363,
          3.2939796870831093,
          2.13735267886958,
          3.0824713585212313,
          3.383160942516369,
          3.4500820467952282,
          2.5581525932478044,
          2.2212571982272973,
          2.539026400138504,
          3.1131411685639,
          2.481792603129708,
          3.459048140076328,
          3.1894899044929095,
          3.49690168313426,
          3.909724870267799,
          2.818113772442467,
          3.146552430687141,
          2.878383737503861,
          2.834881612384729,
          3.726020743692028,
          3.4843573066490356,
          3.3551354729461123,
          3.3932646305978937,
          2.734037718010231,
          2.953178421650062,
          3.2239621757806436,
          2.87381511726855,
          2.3417994733282224,
          4.188938045322334,
          3.519834163319265,
          3.338283418828107,
          3.0950633197438724,
          2.8617131317978552,
          3.1579427939070652,
          2.6252781956531184,
          2.964504322751434,
          3.0188679616295526,
          3.3774335701960654,
          2.1567365771079117,
          1.8201251573728165,
          2.5668377663736694,
          2.697296002204767,
          2.67299351804162,
          2.9749907074390642,
          3.69038148786654,
          3.0479259878786125,
          3.096685785480862,
          3.2750076385816644,
          3.2471718263953124,
          3.25326935686529,
          2.8339487383183126,
          3.569641985666804,
          2.6048177169830486,
          3.2430005025495023,
          2.628149310930213,
          3.728698974343323,
          3.08070903446116,
          2.030199377459482,
          2.6750208186528965,
          3.269088353288835,
          2.4009004260020825,
          3.4348567529729794,
          4.168001487090093,
          3.6218685063021394,
          3.399968935158531,
          3.2720458556905854,
          2.86839568818097,
          2.9901308156877198,
          2.7943191210358114,
          3.350735240457807,
          3.5475974328951576,
          3.197931802476881,
          2.354925080664972,
          2.9249640232066008,
          2.914325657924022,
          2.078892909085839,
          3.0620857188017374,
          2.3420309571540203,
          2.5797482716495495,
          2.8096151244079475,
          3.2405103702120823,
          3.8113194513150184,
          2.5277361452085705,
          3.0274388357896296,
          3.6445911457171274,
          3.2707329404343466,
          2.768925037468489,
          3.159367484984267,
          2.652580480824744,
          2.7828182325150284,
          2.4286299319508524,
          3.16917417655469,
          2.433001393242171,
          2.3393921941344575,
          3.2947916911925863,
          2.0369082582458056,
          3.671374093442716,
          3.9052004710653385,
          3.045781173349723,
          3.0157681403813337,
          2.504593224918601,
          3.8304588832862914,
          2.590394113484947,
          3.1953745720174838,
          3.304259048624715,
          2.902778961546808,
          2.8753242525419416,
          2.5777374843753487,
          3.206250742993432,
          1.9893120241071283,
          2.8106516099466528,
          3.678949282584097,
          1.9345858956688584,
          3.9379314785045616,
          4.135669777631834,
          3.295490863819142,
          3.117758858108391,
          2.369490475899651,
          2.7696300064024575,
          1.8904170293371831,
          2.915028439771948,
          3.8806396476854865,
          3.087318330408864,
          2.539625181231531,
          2.855942559563048,
          2.311291518495648,
          2.712068415119748,
          3.1395001010412016,
          3.3038859373641727,
          3.482357242414101,
          3.468607153956318,
          2.999299249113333,
          2.0553666469139253,
          2.9942821863579407,
          2.5554491551389313,
          3.0549666693454247,
          2.849215223280165,
          2.9148431001247603,
          3.2758185550043737,
          2.2611394752011935,
          2.7839163022078823,
          3.687643785787331,
          2.6455380447583514,
          2.9680456815249445,
          2.8873841239939186,
          3.790838169402031,
          3.1513789777272785,
          3.088019541035307,
          4.056884468969646,
          3.9508348645901905,
          3.0723390007627605,
          2.8045388625188847,
          3.252268634500525,
          3.378624604958671,
          3.11637497742208,
          2.6754728277928943,
          3.675551204762098,
          3.0511739108435427,
          3.219060067489474,
          2.3803913855492493,
          3.081538549117559,
          2.2771426535906025,
          3.6362225728515125,
          2.9580144271527966,
          3.704559049090986,
          2.9772421471500334,
          2.657541846363756,
          2.540755436091614,
          2.5302751983883907,
          2.1801741660653526,
          3.4133598660872857,
          3.353800275952909,
          2.508606776643428,
          1.9429375378036868,
          3.403888187216799,
          3.0363230791081484,
          2.9558665720725408,
          3.77897140452914,
          2.4272166994882474,
          2.897056706925374,
          4.097567188057741,
          3.4267710383758203,
          3.170356021627936,
          3.564471044034923,
          2.248644361947243,
          3.138268100605961,
          2.92605730444555,
          2.9606055990234728,
          2.543048184817249,
          2.829579965659179,
          3.2390403144662923,
          2.8458951161425805,
          3.275364881389705,
          2.20115592692566
         ],
         "xaxis": "x",
         "yaxis": "y"
        }
       ],
       "layout": {
        "barmode": "overlay",
        "height": 500,
        "legend": {
         "title": {
          "text": "Label"
         },
         "tracegroupgap": 0
        },
        "template": {
         "data": {
          "bar": [
           {
            "error_x": {
             "color": "#2a3f5f"
            },
            "error_y": {
             "color": "#2a3f5f"
            },
            "marker": {
             "line": {
              "color": "#E5ECF6",
              "width": 0.5
             },
             "pattern": {
              "fillmode": "overlay",
              "size": 10,
              "solidity": 0.2
             }
            },
            "type": "bar"
           }
          ],
          "barpolar": [
           {
            "marker": {
             "line": {
              "color": "#E5ECF6",
              "width": 0.5
             },
             "pattern": {
              "fillmode": "overlay",
              "size": 10,
              "solidity": 0.2
             }
            },
            "type": "barpolar"
           }
          ],
          "carpet": [
           {
            "aaxis": {
             "endlinecolor": "#2a3f5f",
             "gridcolor": "white",
             "linecolor": "white",
             "minorgridcolor": "white",
             "startlinecolor": "#2a3f5f"
            },
            "baxis": {
             "endlinecolor": "#2a3f5f",
             "gridcolor": "white",
             "linecolor": "white",
             "minorgridcolor": "white",
             "startlinecolor": "#2a3f5f"
            },
            "type": "carpet"
           }
          ],
          "choropleth": [
           {
            "colorbar": {
             "outlinewidth": 0,
             "ticks": ""
            },
            "type": "choropleth"
           }
          ],
          "contour": [
           {
            "colorbar": {
             "outlinewidth": 0,
             "ticks": ""
            },
            "colorscale": [
             [
              0,
              "#0d0887"
             ],
             [
              0.1111111111111111,
              "#46039f"
             ],
             [
              0.2222222222222222,
              "#7201a8"
             ],
             [
              0.3333333333333333,
              "#9c179e"
             ],
             [
              0.4444444444444444,
              "#bd3786"
             ],
             [
              0.5555555555555556,
              "#d8576b"
             ],
             [
              0.6666666666666666,
              "#ed7953"
             ],
             [
              0.7777777777777778,
              "#fb9f3a"
             ],
             [
              0.8888888888888888,
              "#fdca26"
             ],
             [
              1,
              "#f0f921"
             ]
            ],
            "type": "contour"
           }
          ],
          "contourcarpet": [
           {
            "colorbar": {
             "outlinewidth": 0,
             "ticks": ""
            },
            "type": "contourcarpet"
           }
          ],
          "heatmap": [
           {
            "colorbar": {
             "outlinewidth": 0,
             "ticks": ""
            },
            "colorscale": [
             [
              0,
              "#0d0887"
             ],
             [
              0.1111111111111111,
              "#46039f"
             ],
             [
              0.2222222222222222,
              "#7201a8"
             ],
             [
              0.3333333333333333,
              "#9c179e"
             ],
             [
              0.4444444444444444,
              "#bd3786"
             ],
             [
              0.5555555555555556,
              "#d8576b"
             ],
             [
              0.6666666666666666,
              "#ed7953"
             ],
             [
              0.7777777777777778,
              "#fb9f3a"
             ],
             [
              0.8888888888888888,
              "#fdca26"
             ],
             [
              1,
              "#f0f921"
             ]
            ],
            "type": "heatmap"
           }
          ],
          "heatmapgl": [
           {
            "colorbar": {
             "outlinewidth": 0,
             "ticks": ""
            },
            "colorscale": [
             [
              0,
              "#0d0887"
             ],
             [
              0.1111111111111111,
              "#46039f"
             ],
             [
              0.2222222222222222,
              "#7201a8"
             ],
             [
              0.3333333333333333,
              "#9c179e"
             ],
             [
              0.4444444444444444,
              "#bd3786"
             ],
             [
              0.5555555555555556,
              "#d8576b"
             ],
             [
              0.6666666666666666,
              "#ed7953"
             ],
             [
              0.7777777777777778,
              "#fb9f3a"
             ],
             [
              0.8888888888888888,
              "#fdca26"
             ],
             [
              1,
              "#f0f921"
             ]
            ],
            "type": "heatmapgl"
           }
          ],
          "histogram": [
           {
            "marker": {
             "pattern": {
              "fillmode": "overlay",
              "size": 10,
              "solidity": 0.2
             }
            },
            "type": "histogram"
           }
          ],
          "histogram2d": [
           {
            "colorbar": {
             "outlinewidth": 0,
             "ticks": ""
            },
            "colorscale": [
             [
              0,
              "#0d0887"
             ],
             [
              0.1111111111111111,
              "#46039f"
             ],
             [
              0.2222222222222222,
              "#7201a8"
             ],
             [
              0.3333333333333333,
              "#9c179e"
             ],
             [
              0.4444444444444444,
              "#bd3786"
             ],
             [
              0.5555555555555556,
              "#d8576b"
             ],
             [
              0.6666666666666666,
              "#ed7953"
             ],
             [
              0.7777777777777778,
              "#fb9f3a"
             ],
             [
              0.8888888888888888,
              "#fdca26"
             ],
             [
              1,
              "#f0f921"
             ]
            ],
            "type": "histogram2d"
           }
          ],
          "histogram2dcontour": [
           {
            "colorbar": {
             "outlinewidth": 0,
             "ticks": ""
            },
            "colorscale": [
             [
              0,
              "#0d0887"
             ],
             [
              0.1111111111111111,
              "#46039f"
             ],
             [
              0.2222222222222222,
              "#7201a8"
             ],
             [
              0.3333333333333333,
              "#9c179e"
             ],
             [
              0.4444444444444444,
              "#bd3786"
             ],
             [
              0.5555555555555556,
              "#d8576b"
             ],
             [
              0.6666666666666666,
              "#ed7953"
             ],
             [
              0.7777777777777778,
              "#fb9f3a"
             ],
             [
              0.8888888888888888,
              "#fdca26"
             ],
             [
              1,
              "#f0f921"
             ]
            ],
            "type": "histogram2dcontour"
           }
          ],
          "mesh3d": [
           {
            "colorbar": {
             "outlinewidth": 0,
             "ticks": ""
            },
            "type": "mesh3d"
           }
          ],
          "parcoords": [
           {
            "line": {
             "colorbar": {
              "outlinewidth": 0,
              "ticks": ""
             }
            },
            "type": "parcoords"
           }
          ],
          "pie": [
           {
            "automargin": true,
            "type": "pie"
           }
          ],
          "scatter": [
           {
            "fillpattern": {
             "fillmode": "overlay",
             "size": 10,
             "solidity": 0.2
            },
            "type": "scatter"
           }
          ],
          "scatter3d": [
           {
            "line": {
             "colorbar": {
              "outlinewidth": 0,
              "ticks": ""
             }
            },
            "marker": {
             "colorbar": {
              "outlinewidth": 0,
              "ticks": ""
             }
            },
            "type": "scatter3d"
           }
          ],
          "scattercarpet": [
           {
            "marker": {
             "colorbar": {
              "outlinewidth": 0,
              "ticks": ""
             }
            },
            "type": "scattercarpet"
           }
          ],
          "scattergeo": [
           {
            "marker": {
             "colorbar": {
              "outlinewidth": 0,
              "ticks": ""
             }
            },
            "type": "scattergeo"
           }
          ],
          "scattergl": [
           {
            "marker": {
             "colorbar": {
              "outlinewidth": 0,
              "ticks": ""
             }
            },
            "type": "scattergl"
           }
          ],
          "scattermapbox": [
           {
            "marker": {
             "colorbar": {
              "outlinewidth": 0,
              "ticks": ""
             }
            },
            "type": "scattermapbox"
           }
          ],
          "scatterpolar": [
           {
            "marker": {
             "colorbar": {
              "outlinewidth": 0,
              "ticks": ""
             }
            },
            "type": "scatterpolar"
           }
          ],
          "scatterpolargl": [
           {
            "marker": {
             "colorbar": {
              "outlinewidth": 0,
              "ticks": ""
             }
            },
            "type": "scatterpolargl"
           }
          ],
          "scatterternary": [
           {
            "marker": {
             "colorbar": {
              "outlinewidth": 0,
              "ticks": ""
             }
            },
            "type": "scatterternary"
           }
          ],
          "surface": [
           {
            "colorbar": {
             "outlinewidth": 0,
             "ticks": ""
            },
            "colorscale": [
             [
              0,
              "#0d0887"
             ],
             [
              0.1111111111111111,
              "#46039f"
             ],
             [
              0.2222222222222222,
              "#7201a8"
             ],
             [
              0.3333333333333333,
              "#9c179e"
             ],
             [
              0.4444444444444444,
              "#bd3786"
             ],
             [
              0.5555555555555556,
              "#d8576b"
             ],
             [
              0.6666666666666666,
              "#ed7953"
             ],
             [
              0.7777777777777778,
              "#fb9f3a"
             ],
             [
              0.8888888888888888,
              "#fdca26"
             ],
             [
              1,
              "#f0f921"
             ]
            ],
            "type": "surface"
           }
          ],
          "table": [
           {
            "cells": {
             "fill": {
              "color": "#EBF0F8"
             },
             "line": {
              "color": "white"
             }
            },
            "header": {
             "fill": {
              "color": "#C8D4E3"
             },
             "line": {
              "color": "white"
             }
            },
            "type": "table"
           }
          ]
         },
         "layout": {
          "annotationdefaults": {
           "arrowcolor": "#2a3f5f",
           "arrowhead": 0,
           "arrowwidth": 1
          },
          "autotypenumbers": "strict",
          "coloraxis": {
           "colorbar": {
            "outlinewidth": 0,
            "ticks": ""
           }
          },
          "colorscale": {
           "diverging": [
            [
             0,
             "#8e0152"
            ],
            [
             0.1,
             "#c51b7d"
            ],
            [
             0.2,
             "#de77ae"
            ],
            [
             0.3,
             "#f1b6da"
            ],
            [
             0.4,
             "#fde0ef"
            ],
            [
             0.5,
             "#f7f7f7"
            ],
            [
             0.6,
             "#e6f5d0"
            ],
            [
             0.7,
             "#b8e186"
            ],
            [
             0.8,
             "#7fbc41"
            ],
            [
             0.9,
             "#4d9221"
            ],
            [
             1,
             "#276419"
            ]
           ],
           "sequential": [
            [
             0,
             "#0d0887"
            ],
            [
             0.1111111111111111,
             "#46039f"
            ],
            [
             0.2222222222222222,
             "#7201a8"
            ],
            [
             0.3333333333333333,
             "#9c179e"
            ],
            [
             0.4444444444444444,
             "#bd3786"
            ],
            [
             0.5555555555555556,
             "#d8576b"
            ],
            [
             0.6666666666666666,
             "#ed7953"
            ],
            [
             0.7777777777777778,
             "#fb9f3a"
            ],
            [
             0.8888888888888888,
             "#fdca26"
            ],
            [
             1,
             "#f0f921"
            ]
           ],
           "sequentialminus": [
            [
             0,
             "#0d0887"
            ],
            [
             0.1111111111111111,
             "#46039f"
            ],
            [
             0.2222222222222222,
             "#7201a8"
            ],
            [
             0.3333333333333333,
             "#9c179e"
            ],
            [
             0.4444444444444444,
             "#bd3786"
            ],
            [
             0.5555555555555556,
             "#d8576b"
            ],
            [
             0.6666666666666666,
             "#ed7953"
            ],
            [
             0.7777777777777778,
             "#fb9f3a"
            ],
            [
             0.8888888888888888,
             "#fdca26"
            ],
            [
             1,
             "#f0f921"
            ]
           ]
          },
          "colorway": [
           "#636efa",
           "#EF553B",
           "#00cc96",
           "#ab63fa",
           "#FFA15A",
           "#19d3f3",
           "#FF6692",
           "#B6E880",
           "#FF97FF",
           "#FECB52"
          ],
          "font": {
           "color": "#2a3f5f"
          },
          "geo": {
           "bgcolor": "white",
           "lakecolor": "white",
           "landcolor": "#E5ECF6",
           "showlakes": true,
           "showland": true,
           "subunitcolor": "white"
          },
          "hoverlabel": {
           "align": "left"
          },
          "hovermode": "closest",
          "mapbox": {
           "style": "light"
          },
          "paper_bgcolor": "white",
          "plot_bgcolor": "#E5ECF6",
          "polar": {
           "angularaxis": {
            "gridcolor": "white",
            "linecolor": "white",
            "ticks": ""
           },
           "bgcolor": "#E5ECF6",
           "radialaxis": {
            "gridcolor": "white",
            "linecolor": "white",
            "ticks": ""
           }
          },
          "scene": {
           "xaxis": {
            "backgroundcolor": "#E5ECF6",
            "gridcolor": "white",
            "gridwidth": 2,
            "linecolor": "white",
            "showbackground": true,
            "ticks": "",
            "zerolinecolor": "white"
           },
           "yaxis": {
            "backgroundcolor": "#E5ECF6",
            "gridcolor": "white",
            "gridwidth": 2,
            "linecolor": "white",
            "showbackground": true,
            "ticks": "",
            "zerolinecolor": "white"
           },
           "zaxis": {
            "backgroundcolor": "#E5ECF6",
            "gridcolor": "white",
            "gridwidth": 2,
            "linecolor": "white",
            "showbackground": true,
            "ticks": "",
            "zerolinecolor": "white"
           }
          },
          "shapedefaults": {
           "line": {
            "color": "#2a3f5f"
           }
          },
          "ternary": {
           "aaxis": {
            "gridcolor": "white",
            "linecolor": "white",
            "ticks": ""
           },
           "baxis": {
            "gridcolor": "white",
            "linecolor": "white",
            "ticks": ""
           },
           "bgcolor": "#E5ECF6",
           "caxis": {
            "gridcolor": "white",
            "linecolor": "white",
            "ticks": ""
           }
          },
          "title": {
           "x": 0.05
          },
          "xaxis": {
           "automargin": true,
           "gridcolor": "white",
           "linecolor": "white",
           "ticks": "",
           "title": {
            "standoff": 15
           },
           "zerolinecolor": "white",
           "zerolinewidth": 2
          },
          "yaxis": {
           "automargin": true,
           "gridcolor": "white",
           "linecolor": "white",
           "ticks": "",
           "title": {
            "standoff": 15
           },
           "zerolinecolor": "white",
           "zerolinewidth": 2
          }
         }
        },
        "title": {
         "text": "Sample from a Normal Distribution"
        },
        "width": 800,
        "xaxis": {
         "anchor": "y",
         "domain": [
          0,
          1
         ],
         "title": {
          "text": "Data"
         }
        },
        "yaxis": {
         "anchor": "x",
         "domain": [
          0,
          1
         ],
         "title": {
          "text": "probability density"
         }
        }
       }
      }
     },
     "metadata": {},
     "output_type": "display_data"
    }
   ],
   "source": [
    "fig = px.histogram(df, x='Data',\n",
    "                   color='Label', \n",
    "                   barmode=\"overlay\",\n",
    "                   opacity=0.75,\n",
    "                   nbins=25,\n",
    "                   histnorm='probability density',\n",
    "                   height = 500, width = 800,\n",
    "                   title='Sample from a Normal Distribution')\n",
    "fig.show()"
   ]
  },
  {
   "cell_type": "markdown",
   "metadata": {},
   "source": [
    "3. Customise the color of the histograms using the input `color_discrete_sequence`"
   ]
  },
  {
   "cell_type": "code",
   "execution_count": 16,
   "metadata": {},
   "outputs": [
    {
     "data": {
      "application/vnd.plotly.v1+json": {
       "config": {
        "plotlyServerURL": "https://plot.ly"
       },
       "data": [
        {
         "alignmentgroup": "True",
         "bingroup": "x",
         "histnorm": "probability density",
         "hovertemplate": "Label=Sample 1<br>Data=%{x}<br>probability density=%{y}<extra></extra>",
         "legendgroup": "Sample 1",
         "marker": {
          "color": "teal",
          "opacity": 0.75,
          "pattern": {
           "shape": ""
          }
         },
         "name": "Sample 1",
         "nbinsx": 25,
         "offsetgroup": "Sample 1",
         "orientation": "v",
         "showlegend": true,
         "type": "histogram",
         "x": [
          0.9922440175022573,
          -0.013192364921534144,
          -0.08643482672406257,
          1.086534493213565,
          -0.4112794626463247,
          3.065581107175467,
          -0.4139257129493315,
          0.49408638158181917,
          1.1553408731626915,
          1.3646587288715153,
          -0.18267585824155091,
          -0.6905925289813665,
          -0.5433696583272913,
          -1.7789681975386755,
          0.7445211791934149,
          -0.3910629368715519,
          -0.27495537015146326,
          0.39647006173481864,
          0.007142940031214655,
          0.08130845730738376,
          -0.8586395533597259,
          -0.5837840025111073,
          -2.0283048539117643,
          0.0868210404957446,
          0.011726565367619167,
          0.6235173814393108,
          0.09149573129017323,
          -0.7121951226567028,
          -0.16914019710741263,
          -0.3560255908978881,
          -3.065838924126337,
          0.5716665177217557,
          -0.14036769043887395,
          -0.8907415201512822,
          -0.7444166949579522,
          0.6183609198862388,
          -0.5668479300900784,
          -0.3902369081743067,
          1.1767267235195067,
          0.5648821653392719,
          2.152881244798071,
          0.028048637925076912,
          -0.37869819908424884,
          -0.1263169711878512,
          -0.20655575897592626,
          -1.06115139837128,
          -0.6438397336356853,
          0.028125718250783745,
          -0.5088759612461716,
          0.893359073935359,
          -0.2859848130190566,
          0.746565012581815,
          0.10407533685062888,
          0.039661758902339736,
          -0.26905016233424606,
          2.044792145713757,
          0.9773968311516065,
          -2.1638546527097837,
          0.603157687665255,
          -1.3710232696760039,
          -1.4985487881066921,
          -0.635168119412796,
          -1.8523927679935528,
          0.7446093861575178,
          1.790500197130094,
          -0.6854078384674978,
          -0.5651893261959818,
          0.9076839167750421,
          -0.5729424152645838,
          -0.2724617554188349,
          1.848647745643187,
          -0.4966958631276866,
          0.7331589706607188,
          -2.7213947925079105,
          2.3113579900982795,
          0.0502576237361418,
          -1.405663329561947,
          1.3543435147418859,
          -1.159805088686849,
          -1.1368591336367126,
          0.2665594172624437,
          0.30094167600171634,
          -0.05975424225132378,
          -0.2659791769346562,
          -0.6759782234501358,
          -0.5144079528466928,
          -1.2802519259698528,
          0.28204035450378634,
          1.7841882003375709,
          -0.5742293003431136,
          0.8631985121026826,
          1.0577261204761375,
          -0.18713478444336487,
          0.17138706931221617,
          1.2817046356415476,
          -0.8395867897432568,
          0.17059155447538074,
          -0.29338176303084057,
          0.4807455180969727,
          -1.1197618280965094,
          -0.21758256850491764,
          0.47807223286284317,
          -0.686414764434861,
          2.402039469267209,
          -1.0019164888574208,
          -0.0602309491768687,
          1.536806829922405,
          -0.03228569289014455,
          0.21407306889458944,
          -0.31586746298314994,
          1.0049821614181516,
          -0.7881320886318622,
          -1.4502839302480446,
          -0.1908107820709176,
          -1.333767347792869,
          -1.3294378712348183,
          -0.5553907196973072,
          -0.918369739840416,
          0.038746640451373195,
          -0.5990398356253983,
          0.6362121021100953,
          0.32748922675461045,
          -0.2822190963094087,
          0.3646414091799714,
          -0.39041994506578825,
          -0.1885723022561982,
          0.7357890227881434,
          -0.9199302538733043,
          0.1776472091072587,
          -0.39063572722475026,
          0.7741443162571909,
          -0.8523263267457808,
          0.8592572949742107,
          0.6188556106703542,
          -1.3873949266588683,
          0.81433304655623,
          0.8553944584957461,
          0.04698847432060194,
          0.29909093259972286,
          -1.3262196085337492,
          0.10232168021264923,
          -1.7066564332559706,
          -0.31019569025117627,
          -1.6050795043947228,
          0.22709410931946222,
          -0.5701045664295864,
          0.4213820468774945,
          -1.610568614042046,
          -0.3506385330660151,
          -1.800866945205892,
          0.5825608925139816,
          -0.16565081938630924,
          -0.9571265040375223,
          0.9779488770382453,
          -1.463458582721687,
          -0.826618956439601,
          1.4063393619956273,
          -0.09468736117199524,
          -0.34422693757133077,
          2.47795694428459,
          -0.2678949229923536,
          -0.19211069973448863,
          0.3267473360125302,
          0.48631983315268557,
          0.287318159944065,
          -0.19366376173130617,
          0.42591253607646645,
          -0.904258022442456,
          0.06150771415127942,
          -0.9588215070723852,
          -0.7295845391821887,
          1.364038428375701,
          -0.5924606896060864,
          -0.9232777472805235,
          -0.4425166023332556,
          0.9334716639745994,
          -2.2557040664766967,
          1.1123651965969956,
          1.0533535884774083,
          -1.3228488965754894,
          0.6170151436153989,
          1.3022228214907963,
          -0.18443326811390678,
          -0.4777942931335947,
          0.797193586171972,
          2.2783995781150814,
          1.2515886746012905,
          0.25012308897225327,
          -0.25081578728117493,
          -0.17111790992430811,
          -0.6958174060931471,
          -2.0408501238115093,
          -0.4017328476551939,
          -0.6844736101263469,
          0.4179689012537265,
          0.14773302828998583,
          -0.3714609886167385,
          0.4097443196174013,
          1.6052966097009098,
          -1.089552682939431,
          -0.1594924648610055,
          -0.4362431182761573,
          0.5757169044424252,
          -1.5517569456236109,
          2.6912510672380634,
          0.7261741072220927,
          -0.0725366123552572,
          1.0632112536916074,
          -0.5274482026370689,
          0.9683331036086136,
          -0.0589885892899716,
          -1.547361928619816,
          0.05147970577367814,
          -1.1935833521342203,
          0.6346331751455601,
          -0.6952408605738849,
          0.2574749301966593,
          -0.28794508009095193,
          0.3055931430038713,
          1.5377551414516173,
          -0.02101896542357186,
          1.7749222204148771,
          0.29328242232783075,
          -0.797538705589144,
          -0.08496676689899221,
          -0.31558541835569537,
          -1.7413248530872203,
          1.5029717991630258,
          0.2678099699102134,
          1.1304236787470152,
          -1.4910303473771636,
          0.44840595716486537,
          -0.1852462401900747,
          1.848012323526967,
          1.7863742517346741,
          -0.5990642951683577,
          -0.031217216154582842,
          -0.41641533343195986,
          -0.5598781869270968,
          -0.49979331409712036,
          1.2012452716700386,
          1.1999512812303772,
          -0.2657662860768825,
          -0.3011377442814745,
          0.9686644074447734,
          0.4889534562476449,
          0.002059059138348558,
          -0.7805596187133934,
          0.598914396816366,
          0.8176499552934805,
          -0.7490842581363188,
          1.0322812622642012,
          -1.4405600126906497,
          -1.1385975436249773,
          1.5781636803028174,
          -1.2513260992164903,
          -0.28477350302821025,
          -0.006187722400097042,
          -0.5351133912294991,
          0.14602643139864477,
          -2.0373447582561193,
          0.5093475025113386,
          -0.2950687916430458,
          1.1167351567647796,
          1.039253416900312,
          1.4083313088940643,
          1.4341467971702635,
          -0.29283429508760744,
          0.8651295503374785,
          0.22770541553408952,
          -1.1211292999907363,
          1.5421216804147273,
          -1.549518541882006,
          -0.21878965305249085,
          -0.33274785192148426,
          0.03839613471772703,
          0.6691599533196944,
          0.3871487248073923,
          0.40387429909665334,
          0.7247588667383599,
          -1.5225091596281835,
          -0.32979659813428497,
          -0.5452025101915784,
          -1.9811733433041465,
          -0.029726569470926757,
          0.9942345359726242,
          -0.07870466325272067,
          -0.5678925125681685,
          0.8352101020083307,
          1.356734340174622,
          0.6633030194828822,
          -1.878109443603396,
          0.4807410466186064,
          -1.7082364189358437,
          0.8034344191799038,
          -1.678042922148036,
          -0.4759946003657392,
          0.29617637280783177,
          -0.22137975269671287,
          0.20086450872531147,
          0.2760979123099737,
          -0.2965164288390808,
          -0.706895447410791,
          1.5502600995179623,
          -0.6366979543722484,
          -0.7945130457311103,
          0.6297315765883358,
          0.4579480253616451,
          0.28517272497515733,
          -0.21868300387992046,
          -0.16787171624831937,
          -0.11256607638564324,
          0.8426374710028974,
          1.3986615685946515,
          -1.090607338985743,
          -0.016303676441252794,
          -0.5134837346286907,
          1.0392470981419613,
          0.12597986836736935,
          0.7959389747964046,
          0.7869391740164042,
          1.180566432155465,
          -0.9087432452984626,
          1.1458975842260783,
          -0.48619113725080226,
          0.4519653102767159,
          -0.12775546706206647,
          -1.4745111163345082,
          0.4623793361305044,
          -1.8414636413615315,
          -0.8998394786238483,
          0.989983007084247,
          0.9209135025235198,
          0.43104015003451956,
          -1.0314835572965813,
          -0.8666704512202311,
          1.990009844956514,
          0.30763458949726985,
          -0.8083996392306123,
          -0.04601070015389032,
          -0.38955858350891004,
          -0.04579387604819479,
          0.7208062267677919,
          -0.5461314091368321,
          -0.07333890568319136,
          -0.6731249797118971,
          -0.9607768099010299,
          1.1946035383803502,
          -1.549483783341268,
          -0.8846384663118005,
          1.0714162135247847,
          1.0456771927635082,
          0.7032503799131992,
          -0.6042849922242488,
          0.37025210605028147,
          0.39945148695539534,
          0.6200164474203527,
          1.0380459280289769,
          0.6166768469337013,
          2.3583535900957595,
          -1.1721536099412537,
          0.2641334560644568,
          -0.1012069240711426,
          -1.295229272890841,
          0.42007471923436257,
          -0.181195570764781,
          1.0045105396837868,
          0.21141981539537366,
          -0.0037609794501674895,
          1.5777213958905867,
          -0.9790455927405601,
          1.2944199497324587,
          -0.6565409915865277,
          0.34335193218477583,
          0.1614128282623339,
          0.19790145866259193,
          -0.7788405447524069,
          -1.174063329845148,
          1.9014311768549739,
          0.14697835100328624,
          0.25235653431769817,
          0.023204414533541416,
          -1.1531764500266515,
          0.16161060654721654,
          -1.7889271051493558,
          -0.6848346571876761,
          -2.899552568970263,
          0.4486961359270778,
          -0.7424220023632888,
          -0.5623112261986121,
          -0.2553903918813048,
          0.6876296207544265,
          1.3407290629783486,
          -2.023458350385798,
          1.0171344481236224,
          -0.3100493795784042,
          -1.5748904444112957,
          0.5659061932500894,
          0.9075931786590923,
          -0.8551233922946476
         ],
         "xaxis": "x",
         "yaxis": "y"
        },
        {
         "alignmentgroup": "True",
         "bingroup": "x",
         "histnorm": "probability density",
         "hovertemplate": "Label=Sample 2<br>Data=%{x}<br>probability density=%{y}<extra></extra>",
         "legendgroup": "Sample 2",
         "marker": {
          "color": "pink",
          "opacity": 0.75,
          "pattern": {
           "shape": ""
          }
         },
         "name": "Sample 2",
         "nbinsx": 25,
         "offsetgroup": "Sample 2",
         "orientation": "v",
         "showlegend": true,
         "type": "histogram",
         "x": [
          3.5981980106223332,
          2.270245300100679,
          2.8352267530953346,
          2.6915235806656397,
          3.1734735398897103,
          3.648718816882238,
          2.1094686137196126,
          3.9886128223427493,
          3.291219029373245,
          3.114913508587121,
          3.0328868534253397,
          3.381274381041143,
          2.5297322654366834,
          2.874293904486577,
          2.3785266526257027,
          3.0932340775731837,
          2.4532560938735264,
          3.6628475986858087,
          3.9773762311252305,
          2.885556006783459,
          3.1897495487473733,
          3.5492026542731825,
          3.439784550759337,
          3.249081927792684,
          3.575404925478714,
          3.557928332510933,
          2.7632094108369136,
          3.2446139750532703,
          3.117351622553663,
          2.7730554638758163,
          3.742989466081303,
          3.475128967613334,
          2.4566109014038986,
          3.496901250868657,
          3.0890870734141562,
          3.007448936902856,
          3.384770259505657,
          3.239982146379134,
          3.0753967967134304,
          3.207458920654546,
          3.335600948849381,
          2.759533720308085,
          2.1622477405530507,
          2.7049782092834342,
          2.6604069107675015,
          3.340441289499288,
          2.5560269136763547,
          2.650274101658425,
          2.4144607765021107,
          1.5738198675207578,
          2.696934810614227,
          3.4998124889909645,
          2.071840127400535,
          4.133490588448546,
          4.374287521100312,
          3.5246760532490313,
          3.3570797950834512,
          3.4107934486865576,
          3.275743432026396,
          2.8081763038536884,
          2.9988370709969736,
          2.05822854256497,
          3.7830723078066293,
          2.942423805014566,
          2.593668220628424,
          3.772790392795293,
          2.8911155024551998,
          2.4927663081854012,
          3.3213665554226197,
          3.0286656060016877,
          3.568302976196795,
          3.3748029550728753,
          2.6426798189009304,
          2.7319896510636643,
          3.353141489221213,
          2.69457430413195,
          2.1223636948225706,
          2.734450660485974,
          4.487801699262283,
          3.048723384950952,
          3.1888632725167856,
          3.244226923979268,
          3.3219487454085654,
          2.6553916946555396,
          3.313420715663399,
          2.8359396129126586,
          2.4607837542976556,
          3.6649037569719365,
          2.8429299999580318,
          3.3735923374467696,
          3.723615707775733,
          3.1247730404296954,
          2.9365406544390877,
          2.539364455321969,
          3.1905166043403645,
          3.0623998910771517,
          2.37006506306206,
          2.9432910231847402,
          3.7382127812064945,
          2.4571205987676934,
          2.4110990165516415,
          2.773893968818518,
          3.3595965901927296,
          2.5199356572807035,
          3.2221940411009014,
          2.9046027367961575,
          3.3969827145204126,
          3.020870552544475,
          3.129256526028834,
          3.276488516920863,
          2.912373984106013,
          2.417499989820128,
          3.5291073674854565,
          2.9413579373128393,
          3.4722605532252526,
          3.0681018427210183,
          2.6637225369479127,
          3.3338067727808944,
          3.4785896038159563,
          3.6951067859219537,
          2.705093322498632,
          3.383703597248856,
          3.084157434557607,
          3.5214961674980203,
          3.6483171640046796,
          3.4529156363724245,
          2.652734840711252,
          2.8961491841416693,
          2.5918121170486996,
          2.374059088789797,
          2.8014429474386353,
          2.8552118746700574,
          2.8515499231614263,
          2.8183300517922163,
          2.737359984855421,
          2.733372877336999,
          3.7064614424989935,
          2.4539781437761827,
          3.98712021662982,
          2.735792172151408,
          2.561528863952417,
          2.5496249173231544,
          2.8157189468923045,
          3.8326183718213285,
          3.2977496957150128,
          2.8823022348481264,
          3.446280646915251,
          3.1205065751776524,
          2.4094031432100094,
          2.5993787656501737,
          2.8308434854628657,
          3.16309244394212,
          2.8306443114319917,
          3.459932347808063,
          3.455341615938163,
          2.8153505638949987,
          2.132897328279482,
          2.7962348409737965,
          2.870485355862974,
          3.1037457788469025,
          2.51613511925917,
          3.828102255564956,
          2.5231061300439377,
          3.079342750055819,
          2.7328604363705793,
          2.553778298184933,
          2.465836955660687,
          3.7754120051251396,
          3.693304752641028,
          2.458818091812545,
          2.7518628793517754,
          2.8346166662024084,
          3.2897946902623914,
          2.449964016762451,
          3.063213880503179,
          2.6820082371449834,
          3.254342417085467,
          3.0960097339349484,
          3.191175959885738,
          3.4235005242418293,
          3.0846699218827793,
          2.8210361113546316,
          3.3760267436532203,
          2.702853145912921,
          3.281449665363011,
          3.347456751777003,
          2.6637732460994012,
          2.66081796618928,
          3.353924032418008,
          3.163167402536636,
          3.529214226835173,
          3.087062741542046,
          3.0870666269967786,
          3.300677279150344,
          3.0811960765838746,
          3.7490511189202063,
          3.73224429164553,
          2.868478297151242,
          2.617570819418422,
          2.3542649296183025,
          2.4808481110780694,
          1.9569872064251013,
          3.104891901239055,
          2.8710568467668076,
          3.3218763437156573,
          3.329290952275029,
          2.2530161131363,
          3.2939796870831093,
          2.13735267886958,
          3.0824713585212313,
          3.383160942516369,
          3.4500820467952282,
          2.5581525932478044,
          2.2212571982272973,
          2.539026400138504,
          3.1131411685639,
          2.481792603129708,
          3.459048140076328,
          3.1894899044929095,
          3.49690168313426,
          3.909724870267799,
          2.818113772442467,
          3.146552430687141,
          2.878383737503861,
          2.834881612384729,
          3.726020743692028,
          3.4843573066490356,
          3.3551354729461123,
          3.3932646305978937,
          2.734037718010231,
          2.953178421650062,
          3.2239621757806436,
          2.87381511726855,
          2.3417994733282224,
          4.188938045322334,
          3.519834163319265,
          3.338283418828107,
          3.0950633197438724,
          2.8617131317978552,
          3.1579427939070652,
          2.6252781956531184,
          2.964504322751434,
          3.0188679616295526,
          3.3774335701960654,
          2.1567365771079117,
          1.8201251573728165,
          2.5668377663736694,
          2.697296002204767,
          2.67299351804162,
          2.9749907074390642,
          3.69038148786654,
          3.0479259878786125,
          3.096685785480862,
          3.2750076385816644,
          3.2471718263953124,
          3.25326935686529,
          2.8339487383183126,
          3.569641985666804,
          2.6048177169830486,
          3.2430005025495023,
          2.628149310930213,
          3.728698974343323,
          3.08070903446116,
          2.030199377459482,
          2.6750208186528965,
          3.269088353288835,
          2.4009004260020825,
          3.4348567529729794,
          4.168001487090093,
          3.6218685063021394,
          3.399968935158531,
          3.2720458556905854,
          2.86839568818097,
          2.9901308156877198,
          2.7943191210358114,
          3.350735240457807,
          3.5475974328951576,
          3.197931802476881,
          2.354925080664972,
          2.9249640232066008,
          2.914325657924022,
          2.078892909085839,
          3.0620857188017374,
          2.3420309571540203,
          2.5797482716495495,
          2.8096151244079475,
          3.2405103702120823,
          3.8113194513150184,
          2.5277361452085705,
          3.0274388357896296,
          3.6445911457171274,
          3.2707329404343466,
          2.768925037468489,
          3.159367484984267,
          2.652580480824744,
          2.7828182325150284,
          2.4286299319508524,
          3.16917417655469,
          2.433001393242171,
          2.3393921941344575,
          3.2947916911925863,
          2.0369082582458056,
          3.671374093442716,
          3.9052004710653385,
          3.045781173349723,
          3.0157681403813337,
          2.504593224918601,
          3.8304588832862914,
          2.590394113484947,
          3.1953745720174838,
          3.304259048624715,
          2.902778961546808,
          2.8753242525419416,
          2.5777374843753487,
          3.206250742993432,
          1.9893120241071283,
          2.8106516099466528,
          3.678949282584097,
          1.9345858956688584,
          3.9379314785045616,
          4.135669777631834,
          3.295490863819142,
          3.117758858108391,
          2.369490475899651,
          2.7696300064024575,
          1.8904170293371831,
          2.915028439771948,
          3.8806396476854865,
          3.087318330408864,
          2.539625181231531,
          2.855942559563048,
          2.311291518495648,
          2.712068415119748,
          3.1395001010412016,
          3.3038859373641727,
          3.482357242414101,
          3.468607153956318,
          2.999299249113333,
          2.0553666469139253,
          2.9942821863579407,
          2.5554491551389313,
          3.0549666693454247,
          2.849215223280165,
          2.9148431001247603,
          3.2758185550043737,
          2.2611394752011935,
          2.7839163022078823,
          3.687643785787331,
          2.6455380447583514,
          2.9680456815249445,
          2.8873841239939186,
          3.790838169402031,
          3.1513789777272785,
          3.088019541035307,
          4.056884468969646,
          3.9508348645901905,
          3.0723390007627605,
          2.8045388625188847,
          3.252268634500525,
          3.378624604958671,
          3.11637497742208,
          2.6754728277928943,
          3.675551204762098,
          3.0511739108435427,
          3.219060067489474,
          2.3803913855492493,
          3.081538549117559,
          2.2771426535906025,
          3.6362225728515125,
          2.9580144271527966,
          3.704559049090986,
          2.9772421471500334,
          2.657541846363756,
          2.540755436091614,
          2.5302751983883907,
          2.1801741660653526,
          3.4133598660872857,
          3.353800275952909,
          2.508606776643428,
          1.9429375378036868,
          3.403888187216799,
          3.0363230791081484,
          2.9558665720725408,
          3.77897140452914,
          2.4272166994882474,
          2.897056706925374,
          4.097567188057741,
          3.4267710383758203,
          3.170356021627936,
          3.564471044034923,
          2.248644361947243,
          3.138268100605961,
          2.92605730444555,
          2.9606055990234728,
          2.543048184817249,
          2.829579965659179,
          3.2390403144662923,
          2.8458951161425805,
          3.275364881389705,
          2.20115592692566
         ],
         "xaxis": "x",
         "yaxis": "y"
        }
       ],
       "layout": {
        "barmode": "overlay",
        "height": 500,
        "legend": {
         "title": {
          "text": "Label"
         },
         "tracegroupgap": 0
        },
        "template": {
         "data": {
          "bar": [
           {
            "error_x": {
             "color": "#2a3f5f"
            },
            "error_y": {
             "color": "#2a3f5f"
            },
            "marker": {
             "line": {
              "color": "#E5ECF6",
              "width": 0.5
             },
             "pattern": {
              "fillmode": "overlay",
              "size": 10,
              "solidity": 0.2
             }
            },
            "type": "bar"
           }
          ],
          "barpolar": [
           {
            "marker": {
             "line": {
              "color": "#E5ECF6",
              "width": 0.5
             },
             "pattern": {
              "fillmode": "overlay",
              "size": 10,
              "solidity": 0.2
             }
            },
            "type": "barpolar"
           }
          ],
          "carpet": [
           {
            "aaxis": {
             "endlinecolor": "#2a3f5f",
             "gridcolor": "white",
             "linecolor": "white",
             "minorgridcolor": "white",
             "startlinecolor": "#2a3f5f"
            },
            "baxis": {
             "endlinecolor": "#2a3f5f",
             "gridcolor": "white",
             "linecolor": "white",
             "minorgridcolor": "white",
             "startlinecolor": "#2a3f5f"
            },
            "type": "carpet"
           }
          ],
          "choropleth": [
           {
            "colorbar": {
             "outlinewidth": 0,
             "ticks": ""
            },
            "type": "choropleth"
           }
          ],
          "contour": [
           {
            "colorbar": {
             "outlinewidth": 0,
             "ticks": ""
            },
            "colorscale": [
             [
              0,
              "#0d0887"
             ],
             [
              0.1111111111111111,
              "#46039f"
             ],
             [
              0.2222222222222222,
              "#7201a8"
             ],
             [
              0.3333333333333333,
              "#9c179e"
             ],
             [
              0.4444444444444444,
              "#bd3786"
             ],
             [
              0.5555555555555556,
              "#d8576b"
             ],
             [
              0.6666666666666666,
              "#ed7953"
             ],
             [
              0.7777777777777778,
              "#fb9f3a"
             ],
             [
              0.8888888888888888,
              "#fdca26"
             ],
             [
              1,
              "#f0f921"
             ]
            ],
            "type": "contour"
           }
          ],
          "contourcarpet": [
           {
            "colorbar": {
             "outlinewidth": 0,
             "ticks": ""
            },
            "type": "contourcarpet"
           }
          ],
          "heatmap": [
           {
            "colorbar": {
             "outlinewidth": 0,
             "ticks": ""
            },
            "colorscale": [
             [
              0,
              "#0d0887"
             ],
             [
              0.1111111111111111,
              "#46039f"
             ],
             [
              0.2222222222222222,
              "#7201a8"
             ],
             [
              0.3333333333333333,
              "#9c179e"
             ],
             [
              0.4444444444444444,
              "#bd3786"
             ],
             [
              0.5555555555555556,
              "#d8576b"
             ],
             [
              0.6666666666666666,
              "#ed7953"
             ],
             [
              0.7777777777777778,
              "#fb9f3a"
             ],
             [
              0.8888888888888888,
              "#fdca26"
             ],
             [
              1,
              "#f0f921"
             ]
            ],
            "type": "heatmap"
           }
          ],
          "heatmapgl": [
           {
            "colorbar": {
             "outlinewidth": 0,
             "ticks": ""
            },
            "colorscale": [
             [
              0,
              "#0d0887"
             ],
             [
              0.1111111111111111,
              "#46039f"
             ],
             [
              0.2222222222222222,
              "#7201a8"
             ],
             [
              0.3333333333333333,
              "#9c179e"
             ],
             [
              0.4444444444444444,
              "#bd3786"
             ],
             [
              0.5555555555555556,
              "#d8576b"
             ],
             [
              0.6666666666666666,
              "#ed7953"
             ],
             [
              0.7777777777777778,
              "#fb9f3a"
             ],
             [
              0.8888888888888888,
              "#fdca26"
             ],
             [
              1,
              "#f0f921"
             ]
            ],
            "type": "heatmapgl"
           }
          ],
          "histogram": [
           {
            "marker": {
             "pattern": {
              "fillmode": "overlay",
              "size": 10,
              "solidity": 0.2
             }
            },
            "type": "histogram"
           }
          ],
          "histogram2d": [
           {
            "colorbar": {
             "outlinewidth": 0,
             "ticks": ""
            },
            "colorscale": [
             [
              0,
              "#0d0887"
             ],
             [
              0.1111111111111111,
              "#46039f"
             ],
             [
              0.2222222222222222,
              "#7201a8"
             ],
             [
              0.3333333333333333,
              "#9c179e"
             ],
             [
              0.4444444444444444,
              "#bd3786"
             ],
             [
              0.5555555555555556,
              "#d8576b"
             ],
             [
              0.6666666666666666,
              "#ed7953"
             ],
             [
              0.7777777777777778,
              "#fb9f3a"
             ],
             [
              0.8888888888888888,
              "#fdca26"
             ],
             [
              1,
              "#f0f921"
             ]
            ],
            "type": "histogram2d"
           }
          ],
          "histogram2dcontour": [
           {
            "colorbar": {
             "outlinewidth": 0,
             "ticks": ""
            },
            "colorscale": [
             [
              0,
              "#0d0887"
             ],
             [
              0.1111111111111111,
              "#46039f"
             ],
             [
              0.2222222222222222,
              "#7201a8"
             ],
             [
              0.3333333333333333,
              "#9c179e"
             ],
             [
              0.4444444444444444,
              "#bd3786"
             ],
             [
              0.5555555555555556,
              "#d8576b"
             ],
             [
              0.6666666666666666,
              "#ed7953"
             ],
             [
              0.7777777777777778,
              "#fb9f3a"
             ],
             [
              0.8888888888888888,
              "#fdca26"
             ],
             [
              1,
              "#f0f921"
             ]
            ],
            "type": "histogram2dcontour"
           }
          ],
          "mesh3d": [
           {
            "colorbar": {
             "outlinewidth": 0,
             "ticks": ""
            },
            "type": "mesh3d"
           }
          ],
          "parcoords": [
           {
            "line": {
             "colorbar": {
              "outlinewidth": 0,
              "ticks": ""
             }
            },
            "type": "parcoords"
           }
          ],
          "pie": [
           {
            "automargin": true,
            "type": "pie"
           }
          ],
          "scatter": [
           {
            "fillpattern": {
             "fillmode": "overlay",
             "size": 10,
             "solidity": 0.2
            },
            "type": "scatter"
           }
          ],
          "scatter3d": [
           {
            "line": {
             "colorbar": {
              "outlinewidth": 0,
              "ticks": ""
             }
            },
            "marker": {
             "colorbar": {
              "outlinewidth": 0,
              "ticks": ""
             }
            },
            "type": "scatter3d"
           }
          ],
          "scattercarpet": [
           {
            "marker": {
             "colorbar": {
              "outlinewidth": 0,
              "ticks": ""
             }
            },
            "type": "scattercarpet"
           }
          ],
          "scattergeo": [
           {
            "marker": {
             "colorbar": {
              "outlinewidth": 0,
              "ticks": ""
             }
            },
            "type": "scattergeo"
           }
          ],
          "scattergl": [
           {
            "marker": {
             "colorbar": {
              "outlinewidth": 0,
              "ticks": ""
             }
            },
            "type": "scattergl"
           }
          ],
          "scattermapbox": [
           {
            "marker": {
             "colorbar": {
              "outlinewidth": 0,
              "ticks": ""
             }
            },
            "type": "scattermapbox"
           }
          ],
          "scatterpolar": [
           {
            "marker": {
             "colorbar": {
              "outlinewidth": 0,
              "ticks": ""
             }
            },
            "type": "scatterpolar"
           }
          ],
          "scatterpolargl": [
           {
            "marker": {
             "colorbar": {
              "outlinewidth": 0,
              "ticks": ""
             }
            },
            "type": "scatterpolargl"
           }
          ],
          "scatterternary": [
           {
            "marker": {
             "colorbar": {
              "outlinewidth": 0,
              "ticks": ""
             }
            },
            "type": "scatterternary"
           }
          ],
          "surface": [
           {
            "colorbar": {
             "outlinewidth": 0,
             "ticks": ""
            },
            "colorscale": [
             [
              0,
              "#0d0887"
             ],
             [
              0.1111111111111111,
              "#46039f"
             ],
             [
              0.2222222222222222,
              "#7201a8"
             ],
             [
              0.3333333333333333,
              "#9c179e"
             ],
             [
              0.4444444444444444,
              "#bd3786"
             ],
             [
              0.5555555555555556,
              "#d8576b"
             ],
             [
              0.6666666666666666,
              "#ed7953"
             ],
             [
              0.7777777777777778,
              "#fb9f3a"
             ],
             [
              0.8888888888888888,
              "#fdca26"
             ],
             [
              1,
              "#f0f921"
             ]
            ],
            "type": "surface"
           }
          ],
          "table": [
           {
            "cells": {
             "fill": {
              "color": "#EBF0F8"
             },
             "line": {
              "color": "white"
             }
            },
            "header": {
             "fill": {
              "color": "#C8D4E3"
             },
             "line": {
              "color": "white"
             }
            },
            "type": "table"
           }
          ]
         },
         "layout": {
          "annotationdefaults": {
           "arrowcolor": "#2a3f5f",
           "arrowhead": 0,
           "arrowwidth": 1
          },
          "autotypenumbers": "strict",
          "coloraxis": {
           "colorbar": {
            "outlinewidth": 0,
            "ticks": ""
           }
          },
          "colorscale": {
           "diverging": [
            [
             0,
             "#8e0152"
            ],
            [
             0.1,
             "#c51b7d"
            ],
            [
             0.2,
             "#de77ae"
            ],
            [
             0.3,
             "#f1b6da"
            ],
            [
             0.4,
             "#fde0ef"
            ],
            [
             0.5,
             "#f7f7f7"
            ],
            [
             0.6,
             "#e6f5d0"
            ],
            [
             0.7,
             "#b8e186"
            ],
            [
             0.8,
             "#7fbc41"
            ],
            [
             0.9,
             "#4d9221"
            ],
            [
             1,
             "#276419"
            ]
           ],
           "sequential": [
            [
             0,
             "#0d0887"
            ],
            [
             0.1111111111111111,
             "#46039f"
            ],
            [
             0.2222222222222222,
             "#7201a8"
            ],
            [
             0.3333333333333333,
             "#9c179e"
            ],
            [
             0.4444444444444444,
             "#bd3786"
            ],
            [
             0.5555555555555556,
             "#d8576b"
            ],
            [
             0.6666666666666666,
             "#ed7953"
            ],
            [
             0.7777777777777778,
             "#fb9f3a"
            ],
            [
             0.8888888888888888,
             "#fdca26"
            ],
            [
             1,
             "#f0f921"
            ]
           ],
           "sequentialminus": [
            [
             0,
             "#0d0887"
            ],
            [
             0.1111111111111111,
             "#46039f"
            ],
            [
             0.2222222222222222,
             "#7201a8"
            ],
            [
             0.3333333333333333,
             "#9c179e"
            ],
            [
             0.4444444444444444,
             "#bd3786"
            ],
            [
             0.5555555555555556,
             "#d8576b"
            ],
            [
             0.6666666666666666,
             "#ed7953"
            ],
            [
             0.7777777777777778,
             "#fb9f3a"
            ],
            [
             0.8888888888888888,
             "#fdca26"
            ],
            [
             1,
             "#f0f921"
            ]
           ]
          },
          "colorway": [
           "#636efa",
           "#EF553B",
           "#00cc96",
           "#ab63fa",
           "#FFA15A",
           "#19d3f3",
           "#FF6692",
           "#B6E880",
           "#FF97FF",
           "#FECB52"
          ],
          "font": {
           "color": "#2a3f5f"
          },
          "geo": {
           "bgcolor": "white",
           "lakecolor": "white",
           "landcolor": "#E5ECF6",
           "showlakes": true,
           "showland": true,
           "subunitcolor": "white"
          },
          "hoverlabel": {
           "align": "left"
          },
          "hovermode": "closest",
          "mapbox": {
           "style": "light"
          },
          "paper_bgcolor": "white",
          "plot_bgcolor": "#E5ECF6",
          "polar": {
           "angularaxis": {
            "gridcolor": "white",
            "linecolor": "white",
            "ticks": ""
           },
           "bgcolor": "#E5ECF6",
           "radialaxis": {
            "gridcolor": "white",
            "linecolor": "white",
            "ticks": ""
           }
          },
          "scene": {
           "xaxis": {
            "backgroundcolor": "#E5ECF6",
            "gridcolor": "white",
            "gridwidth": 2,
            "linecolor": "white",
            "showbackground": true,
            "ticks": "",
            "zerolinecolor": "white"
           },
           "yaxis": {
            "backgroundcolor": "#E5ECF6",
            "gridcolor": "white",
            "gridwidth": 2,
            "linecolor": "white",
            "showbackground": true,
            "ticks": "",
            "zerolinecolor": "white"
           },
           "zaxis": {
            "backgroundcolor": "#E5ECF6",
            "gridcolor": "white",
            "gridwidth": 2,
            "linecolor": "white",
            "showbackground": true,
            "ticks": "",
            "zerolinecolor": "white"
           }
          },
          "shapedefaults": {
           "line": {
            "color": "#2a3f5f"
           }
          },
          "ternary": {
           "aaxis": {
            "gridcolor": "white",
            "linecolor": "white",
            "ticks": ""
           },
           "baxis": {
            "gridcolor": "white",
            "linecolor": "white",
            "ticks": ""
           },
           "bgcolor": "#E5ECF6",
           "caxis": {
            "gridcolor": "white",
            "linecolor": "white",
            "ticks": ""
           }
          },
          "title": {
           "x": 0.05
          },
          "xaxis": {
           "automargin": true,
           "gridcolor": "white",
           "linecolor": "white",
           "ticks": "",
           "title": {
            "standoff": 15
           },
           "zerolinecolor": "white",
           "zerolinewidth": 2
          },
          "yaxis": {
           "automargin": true,
           "gridcolor": "white",
           "linecolor": "white",
           "ticks": "",
           "title": {
            "standoff": 15
           },
           "zerolinecolor": "white",
           "zerolinewidth": 2
          }
         }
        },
        "title": {
         "text": "Sample from a Normal Distribution"
        },
        "width": 800,
        "xaxis": {
         "anchor": "y",
         "domain": [
          0,
          1
         ],
         "title": {
          "text": "Data"
         }
        },
        "yaxis": {
         "anchor": "x",
         "domain": [
          0,
          1
         ],
         "title": {
          "text": "probability density"
         }
        }
       }
      }
     },
     "metadata": {},
     "output_type": "display_data"
    }
   ],
   "source": [
    "fig = px.histogram(df, x='Data',\n",
    "                   color='Label', \n",
    "                   opacity=0.75,\n",
    "                   barmode=\"overlay\",\n",
    "                   color_discrete_sequence=['teal', 'pink'],\n",
    "                   nbins=25,\n",
    "                   histnorm='probability density',\n",
    "                   height = 500, width = 800,\n",
    "                   title='Sample from a Normal Distribution')\n",
    "fig.show()"
   ]
  },
  {
   "cell_type": "code",
   "execution_count": 17,
   "metadata": {},
   "outputs": [
    {
     "data": {
      "application/vnd.plotly.v1+json": {
       "config": {
        "plotlyServerURL": "https://plot.ly"
       },
       "data": [
        {
         "alignmentgroup": "True",
         "bingroup": "x",
         "histnorm": "probability density",
         "hovertemplate": "Label=Sample 1<br>Data=%{x}<br>probability density=%{y}<extra></extra>",
         "legendgroup": "Sample 1",
         "marker": {
          "color": "rgb(95, 70, 144)",
          "opacity": 0.5,
          "pattern": {
           "shape": ""
          }
         },
         "name": "Sample 1",
         "nbinsx": 25,
         "offsetgroup": "Sample 1",
         "orientation": "v",
         "showlegend": true,
         "type": "histogram",
         "x": [
          0.9922440175022573,
          -0.013192364921534144,
          -0.08643482672406257,
          1.086534493213565,
          -0.4112794626463247,
          3.065581107175467,
          -0.4139257129493315,
          0.49408638158181917,
          1.1553408731626915,
          1.3646587288715153,
          -0.18267585824155091,
          -0.6905925289813665,
          -0.5433696583272913,
          -1.7789681975386755,
          0.7445211791934149,
          -0.3910629368715519,
          -0.27495537015146326,
          0.39647006173481864,
          0.007142940031214655,
          0.08130845730738376,
          -0.8586395533597259,
          -0.5837840025111073,
          -2.0283048539117643,
          0.0868210404957446,
          0.011726565367619167,
          0.6235173814393108,
          0.09149573129017323,
          -0.7121951226567028,
          -0.16914019710741263,
          -0.3560255908978881,
          -3.065838924126337,
          0.5716665177217557,
          -0.14036769043887395,
          -0.8907415201512822,
          -0.7444166949579522,
          0.6183609198862388,
          -0.5668479300900784,
          -0.3902369081743067,
          1.1767267235195067,
          0.5648821653392719,
          2.152881244798071,
          0.028048637925076912,
          -0.37869819908424884,
          -0.1263169711878512,
          -0.20655575897592626,
          -1.06115139837128,
          -0.6438397336356853,
          0.028125718250783745,
          -0.5088759612461716,
          0.893359073935359,
          -0.2859848130190566,
          0.746565012581815,
          0.10407533685062888,
          0.039661758902339736,
          -0.26905016233424606,
          2.044792145713757,
          0.9773968311516065,
          -2.1638546527097837,
          0.603157687665255,
          -1.3710232696760039,
          -1.4985487881066921,
          -0.635168119412796,
          -1.8523927679935528,
          0.7446093861575178,
          1.790500197130094,
          -0.6854078384674978,
          -0.5651893261959818,
          0.9076839167750421,
          -0.5729424152645838,
          -0.2724617554188349,
          1.848647745643187,
          -0.4966958631276866,
          0.7331589706607188,
          -2.7213947925079105,
          2.3113579900982795,
          0.0502576237361418,
          -1.405663329561947,
          1.3543435147418859,
          -1.159805088686849,
          -1.1368591336367126,
          0.2665594172624437,
          0.30094167600171634,
          -0.05975424225132378,
          -0.2659791769346562,
          -0.6759782234501358,
          -0.5144079528466928,
          -1.2802519259698528,
          0.28204035450378634,
          1.7841882003375709,
          -0.5742293003431136,
          0.8631985121026826,
          1.0577261204761375,
          -0.18713478444336487,
          0.17138706931221617,
          1.2817046356415476,
          -0.8395867897432568,
          0.17059155447538074,
          -0.29338176303084057,
          0.4807455180969727,
          -1.1197618280965094,
          -0.21758256850491764,
          0.47807223286284317,
          -0.686414764434861,
          2.402039469267209,
          -1.0019164888574208,
          -0.0602309491768687,
          1.536806829922405,
          -0.03228569289014455,
          0.21407306889458944,
          -0.31586746298314994,
          1.0049821614181516,
          -0.7881320886318622,
          -1.4502839302480446,
          -0.1908107820709176,
          -1.333767347792869,
          -1.3294378712348183,
          -0.5553907196973072,
          -0.918369739840416,
          0.038746640451373195,
          -0.5990398356253983,
          0.6362121021100953,
          0.32748922675461045,
          -0.2822190963094087,
          0.3646414091799714,
          -0.39041994506578825,
          -0.1885723022561982,
          0.7357890227881434,
          -0.9199302538733043,
          0.1776472091072587,
          -0.39063572722475026,
          0.7741443162571909,
          -0.8523263267457808,
          0.8592572949742107,
          0.6188556106703542,
          -1.3873949266588683,
          0.81433304655623,
          0.8553944584957461,
          0.04698847432060194,
          0.29909093259972286,
          -1.3262196085337492,
          0.10232168021264923,
          -1.7066564332559706,
          -0.31019569025117627,
          -1.6050795043947228,
          0.22709410931946222,
          -0.5701045664295864,
          0.4213820468774945,
          -1.610568614042046,
          -0.3506385330660151,
          -1.800866945205892,
          0.5825608925139816,
          -0.16565081938630924,
          -0.9571265040375223,
          0.9779488770382453,
          -1.463458582721687,
          -0.826618956439601,
          1.4063393619956273,
          -0.09468736117199524,
          -0.34422693757133077,
          2.47795694428459,
          -0.2678949229923536,
          -0.19211069973448863,
          0.3267473360125302,
          0.48631983315268557,
          0.287318159944065,
          -0.19366376173130617,
          0.42591253607646645,
          -0.904258022442456,
          0.06150771415127942,
          -0.9588215070723852,
          -0.7295845391821887,
          1.364038428375701,
          -0.5924606896060864,
          -0.9232777472805235,
          -0.4425166023332556,
          0.9334716639745994,
          -2.2557040664766967,
          1.1123651965969956,
          1.0533535884774083,
          -1.3228488965754894,
          0.6170151436153989,
          1.3022228214907963,
          -0.18443326811390678,
          -0.4777942931335947,
          0.797193586171972,
          2.2783995781150814,
          1.2515886746012905,
          0.25012308897225327,
          -0.25081578728117493,
          -0.17111790992430811,
          -0.6958174060931471,
          -2.0408501238115093,
          -0.4017328476551939,
          -0.6844736101263469,
          0.4179689012537265,
          0.14773302828998583,
          -0.3714609886167385,
          0.4097443196174013,
          1.6052966097009098,
          -1.089552682939431,
          -0.1594924648610055,
          -0.4362431182761573,
          0.5757169044424252,
          -1.5517569456236109,
          2.6912510672380634,
          0.7261741072220927,
          -0.0725366123552572,
          1.0632112536916074,
          -0.5274482026370689,
          0.9683331036086136,
          -0.0589885892899716,
          -1.547361928619816,
          0.05147970577367814,
          -1.1935833521342203,
          0.6346331751455601,
          -0.6952408605738849,
          0.2574749301966593,
          -0.28794508009095193,
          0.3055931430038713,
          1.5377551414516173,
          -0.02101896542357186,
          1.7749222204148771,
          0.29328242232783075,
          -0.797538705589144,
          -0.08496676689899221,
          -0.31558541835569537,
          -1.7413248530872203,
          1.5029717991630258,
          0.2678099699102134,
          1.1304236787470152,
          -1.4910303473771636,
          0.44840595716486537,
          -0.1852462401900747,
          1.848012323526967,
          1.7863742517346741,
          -0.5990642951683577,
          -0.031217216154582842,
          -0.41641533343195986,
          -0.5598781869270968,
          -0.49979331409712036,
          1.2012452716700386,
          1.1999512812303772,
          -0.2657662860768825,
          -0.3011377442814745,
          0.9686644074447734,
          0.4889534562476449,
          0.002059059138348558,
          -0.7805596187133934,
          0.598914396816366,
          0.8176499552934805,
          -0.7490842581363188,
          1.0322812622642012,
          -1.4405600126906497,
          -1.1385975436249773,
          1.5781636803028174,
          -1.2513260992164903,
          -0.28477350302821025,
          -0.006187722400097042,
          -0.5351133912294991,
          0.14602643139864477,
          -2.0373447582561193,
          0.5093475025113386,
          -0.2950687916430458,
          1.1167351567647796,
          1.039253416900312,
          1.4083313088940643,
          1.4341467971702635,
          -0.29283429508760744,
          0.8651295503374785,
          0.22770541553408952,
          -1.1211292999907363,
          1.5421216804147273,
          -1.549518541882006,
          -0.21878965305249085,
          -0.33274785192148426,
          0.03839613471772703,
          0.6691599533196944,
          0.3871487248073923,
          0.40387429909665334,
          0.7247588667383599,
          -1.5225091596281835,
          -0.32979659813428497,
          -0.5452025101915784,
          -1.9811733433041465,
          -0.029726569470926757,
          0.9942345359726242,
          -0.07870466325272067,
          -0.5678925125681685,
          0.8352101020083307,
          1.356734340174622,
          0.6633030194828822,
          -1.878109443603396,
          0.4807410466186064,
          -1.7082364189358437,
          0.8034344191799038,
          -1.678042922148036,
          -0.4759946003657392,
          0.29617637280783177,
          -0.22137975269671287,
          0.20086450872531147,
          0.2760979123099737,
          -0.2965164288390808,
          -0.706895447410791,
          1.5502600995179623,
          -0.6366979543722484,
          -0.7945130457311103,
          0.6297315765883358,
          0.4579480253616451,
          0.28517272497515733,
          -0.21868300387992046,
          -0.16787171624831937,
          -0.11256607638564324,
          0.8426374710028974,
          1.3986615685946515,
          -1.090607338985743,
          -0.016303676441252794,
          -0.5134837346286907,
          1.0392470981419613,
          0.12597986836736935,
          0.7959389747964046,
          0.7869391740164042,
          1.180566432155465,
          -0.9087432452984626,
          1.1458975842260783,
          -0.48619113725080226,
          0.4519653102767159,
          -0.12775546706206647,
          -1.4745111163345082,
          0.4623793361305044,
          -1.8414636413615315,
          -0.8998394786238483,
          0.989983007084247,
          0.9209135025235198,
          0.43104015003451956,
          -1.0314835572965813,
          -0.8666704512202311,
          1.990009844956514,
          0.30763458949726985,
          -0.8083996392306123,
          -0.04601070015389032,
          -0.38955858350891004,
          -0.04579387604819479,
          0.7208062267677919,
          -0.5461314091368321,
          -0.07333890568319136,
          -0.6731249797118971,
          -0.9607768099010299,
          1.1946035383803502,
          -1.549483783341268,
          -0.8846384663118005,
          1.0714162135247847,
          1.0456771927635082,
          0.7032503799131992,
          -0.6042849922242488,
          0.37025210605028147,
          0.39945148695539534,
          0.6200164474203527,
          1.0380459280289769,
          0.6166768469337013,
          2.3583535900957595,
          -1.1721536099412537,
          0.2641334560644568,
          -0.1012069240711426,
          -1.295229272890841,
          0.42007471923436257,
          -0.181195570764781,
          1.0045105396837868,
          0.21141981539537366,
          -0.0037609794501674895,
          1.5777213958905867,
          -0.9790455927405601,
          1.2944199497324587,
          -0.6565409915865277,
          0.34335193218477583,
          0.1614128282623339,
          0.19790145866259193,
          -0.7788405447524069,
          -1.174063329845148,
          1.9014311768549739,
          0.14697835100328624,
          0.25235653431769817,
          0.023204414533541416,
          -1.1531764500266515,
          0.16161060654721654,
          -1.7889271051493558,
          -0.6848346571876761,
          -2.899552568970263,
          0.4486961359270778,
          -0.7424220023632888,
          -0.5623112261986121,
          -0.2553903918813048,
          0.6876296207544265,
          1.3407290629783486,
          -2.023458350385798,
          1.0171344481236224,
          -0.3100493795784042,
          -1.5748904444112957,
          0.5659061932500894,
          0.9075931786590923,
          -0.8551233922946476
         ],
         "xaxis": "x",
         "yaxis": "y"
        },
        {
         "alignmentgroup": "True",
         "bingroup": "x",
         "histnorm": "probability density",
         "hovertemplate": "Label=Sample 2<br>Data=%{x}<br>probability density=%{y}<extra></extra>",
         "legendgroup": "Sample 2",
         "marker": {
          "color": "rgb(29, 105, 150)",
          "opacity": 0.5,
          "pattern": {
           "shape": ""
          }
         },
         "name": "Sample 2",
         "nbinsx": 25,
         "offsetgroup": "Sample 2",
         "orientation": "v",
         "showlegend": true,
         "type": "histogram",
         "x": [
          3.5981980106223332,
          2.270245300100679,
          2.8352267530953346,
          2.6915235806656397,
          3.1734735398897103,
          3.648718816882238,
          2.1094686137196126,
          3.9886128223427493,
          3.291219029373245,
          3.114913508587121,
          3.0328868534253397,
          3.381274381041143,
          2.5297322654366834,
          2.874293904486577,
          2.3785266526257027,
          3.0932340775731837,
          2.4532560938735264,
          3.6628475986858087,
          3.9773762311252305,
          2.885556006783459,
          3.1897495487473733,
          3.5492026542731825,
          3.439784550759337,
          3.249081927792684,
          3.575404925478714,
          3.557928332510933,
          2.7632094108369136,
          3.2446139750532703,
          3.117351622553663,
          2.7730554638758163,
          3.742989466081303,
          3.475128967613334,
          2.4566109014038986,
          3.496901250868657,
          3.0890870734141562,
          3.007448936902856,
          3.384770259505657,
          3.239982146379134,
          3.0753967967134304,
          3.207458920654546,
          3.335600948849381,
          2.759533720308085,
          2.1622477405530507,
          2.7049782092834342,
          2.6604069107675015,
          3.340441289499288,
          2.5560269136763547,
          2.650274101658425,
          2.4144607765021107,
          1.5738198675207578,
          2.696934810614227,
          3.4998124889909645,
          2.071840127400535,
          4.133490588448546,
          4.374287521100312,
          3.5246760532490313,
          3.3570797950834512,
          3.4107934486865576,
          3.275743432026396,
          2.8081763038536884,
          2.9988370709969736,
          2.05822854256497,
          3.7830723078066293,
          2.942423805014566,
          2.593668220628424,
          3.772790392795293,
          2.8911155024551998,
          2.4927663081854012,
          3.3213665554226197,
          3.0286656060016877,
          3.568302976196795,
          3.3748029550728753,
          2.6426798189009304,
          2.7319896510636643,
          3.353141489221213,
          2.69457430413195,
          2.1223636948225706,
          2.734450660485974,
          4.487801699262283,
          3.048723384950952,
          3.1888632725167856,
          3.244226923979268,
          3.3219487454085654,
          2.6553916946555396,
          3.313420715663399,
          2.8359396129126586,
          2.4607837542976556,
          3.6649037569719365,
          2.8429299999580318,
          3.3735923374467696,
          3.723615707775733,
          3.1247730404296954,
          2.9365406544390877,
          2.539364455321969,
          3.1905166043403645,
          3.0623998910771517,
          2.37006506306206,
          2.9432910231847402,
          3.7382127812064945,
          2.4571205987676934,
          2.4110990165516415,
          2.773893968818518,
          3.3595965901927296,
          2.5199356572807035,
          3.2221940411009014,
          2.9046027367961575,
          3.3969827145204126,
          3.020870552544475,
          3.129256526028834,
          3.276488516920863,
          2.912373984106013,
          2.417499989820128,
          3.5291073674854565,
          2.9413579373128393,
          3.4722605532252526,
          3.0681018427210183,
          2.6637225369479127,
          3.3338067727808944,
          3.4785896038159563,
          3.6951067859219537,
          2.705093322498632,
          3.383703597248856,
          3.084157434557607,
          3.5214961674980203,
          3.6483171640046796,
          3.4529156363724245,
          2.652734840711252,
          2.8961491841416693,
          2.5918121170486996,
          2.374059088789797,
          2.8014429474386353,
          2.8552118746700574,
          2.8515499231614263,
          2.8183300517922163,
          2.737359984855421,
          2.733372877336999,
          3.7064614424989935,
          2.4539781437761827,
          3.98712021662982,
          2.735792172151408,
          2.561528863952417,
          2.5496249173231544,
          2.8157189468923045,
          3.8326183718213285,
          3.2977496957150128,
          2.8823022348481264,
          3.446280646915251,
          3.1205065751776524,
          2.4094031432100094,
          2.5993787656501737,
          2.8308434854628657,
          3.16309244394212,
          2.8306443114319917,
          3.459932347808063,
          3.455341615938163,
          2.8153505638949987,
          2.132897328279482,
          2.7962348409737965,
          2.870485355862974,
          3.1037457788469025,
          2.51613511925917,
          3.828102255564956,
          2.5231061300439377,
          3.079342750055819,
          2.7328604363705793,
          2.553778298184933,
          2.465836955660687,
          3.7754120051251396,
          3.693304752641028,
          2.458818091812545,
          2.7518628793517754,
          2.8346166662024084,
          3.2897946902623914,
          2.449964016762451,
          3.063213880503179,
          2.6820082371449834,
          3.254342417085467,
          3.0960097339349484,
          3.191175959885738,
          3.4235005242418293,
          3.0846699218827793,
          2.8210361113546316,
          3.3760267436532203,
          2.702853145912921,
          3.281449665363011,
          3.347456751777003,
          2.6637732460994012,
          2.66081796618928,
          3.353924032418008,
          3.163167402536636,
          3.529214226835173,
          3.087062741542046,
          3.0870666269967786,
          3.300677279150344,
          3.0811960765838746,
          3.7490511189202063,
          3.73224429164553,
          2.868478297151242,
          2.617570819418422,
          2.3542649296183025,
          2.4808481110780694,
          1.9569872064251013,
          3.104891901239055,
          2.8710568467668076,
          3.3218763437156573,
          3.329290952275029,
          2.2530161131363,
          3.2939796870831093,
          2.13735267886958,
          3.0824713585212313,
          3.383160942516369,
          3.4500820467952282,
          2.5581525932478044,
          2.2212571982272973,
          2.539026400138504,
          3.1131411685639,
          2.481792603129708,
          3.459048140076328,
          3.1894899044929095,
          3.49690168313426,
          3.909724870267799,
          2.818113772442467,
          3.146552430687141,
          2.878383737503861,
          2.834881612384729,
          3.726020743692028,
          3.4843573066490356,
          3.3551354729461123,
          3.3932646305978937,
          2.734037718010231,
          2.953178421650062,
          3.2239621757806436,
          2.87381511726855,
          2.3417994733282224,
          4.188938045322334,
          3.519834163319265,
          3.338283418828107,
          3.0950633197438724,
          2.8617131317978552,
          3.1579427939070652,
          2.6252781956531184,
          2.964504322751434,
          3.0188679616295526,
          3.3774335701960654,
          2.1567365771079117,
          1.8201251573728165,
          2.5668377663736694,
          2.697296002204767,
          2.67299351804162,
          2.9749907074390642,
          3.69038148786654,
          3.0479259878786125,
          3.096685785480862,
          3.2750076385816644,
          3.2471718263953124,
          3.25326935686529,
          2.8339487383183126,
          3.569641985666804,
          2.6048177169830486,
          3.2430005025495023,
          2.628149310930213,
          3.728698974343323,
          3.08070903446116,
          2.030199377459482,
          2.6750208186528965,
          3.269088353288835,
          2.4009004260020825,
          3.4348567529729794,
          4.168001487090093,
          3.6218685063021394,
          3.399968935158531,
          3.2720458556905854,
          2.86839568818097,
          2.9901308156877198,
          2.7943191210358114,
          3.350735240457807,
          3.5475974328951576,
          3.197931802476881,
          2.354925080664972,
          2.9249640232066008,
          2.914325657924022,
          2.078892909085839,
          3.0620857188017374,
          2.3420309571540203,
          2.5797482716495495,
          2.8096151244079475,
          3.2405103702120823,
          3.8113194513150184,
          2.5277361452085705,
          3.0274388357896296,
          3.6445911457171274,
          3.2707329404343466,
          2.768925037468489,
          3.159367484984267,
          2.652580480824744,
          2.7828182325150284,
          2.4286299319508524,
          3.16917417655469,
          2.433001393242171,
          2.3393921941344575,
          3.2947916911925863,
          2.0369082582458056,
          3.671374093442716,
          3.9052004710653385,
          3.045781173349723,
          3.0157681403813337,
          2.504593224918601,
          3.8304588832862914,
          2.590394113484947,
          3.1953745720174838,
          3.304259048624715,
          2.902778961546808,
          2.8753242525419416,
          2.5777374843753487,
          3.206250742993432,
          1.9893120241071283,
          2.8106516099466528,
          3.678949282584097,
          1.9345858956688584,
          3.9379314785045616,
          4.135669777631834,
          3.295490863819142,
          3.117758858108391,
          2.369490475899651,
          2.7696300064024575,
          1.8904170293371831,
          2.915028439771948,
          3.8806396476854865,
          3.087318330408864,
          2.539625181231531,
          2.855942559563048,
          2.311291518495648,
          2.712068415119748,
          3.1395001010412016,
          3.3038859373641727,
          3.482357242414101,
          3.468607153956318,
          2.999299249113333,
          2.0553666469139253,
          2.9942821863579407,
          2.5554491551389313,
          3.0549666693454247,
          2.849215223280165,
          2.9148431001247603,
          3.2758185550043737,
          2.2611394752011935,
          2.7839163022078823,
          3.687643785787331,
          2.6455380447583514,
          2.9680456815249445,
          2.8873841239939186,
          3.790838169402031,
          3.1513789777272785,
          3.088019541035307,
          4.056884468969646,
          3.9508348645901905,
          3.0723390007627605,
          2.8045388625188847,
          3.252268634500525,
          3.378624604958671,
          3.11637497742208,
          2.6754728277928943,
          3.675551204762098,
          3.0511739108435427,
          3.219060067489474,
          2.3803913855492493,
          3.081538549117559,
          2.2771426535906025,
          3.6362225728515125,
          2.9580144271527966,
          3.704559049090986,
          2.9772421471500334,
          2.657541846363756,
          2.540755436091614,
          2.5302751983883907,
          2.1801741660653526,
          3.4133598660872857,
          3.353800275952909,
          2.508606776643428,
          1.9429375378036868,
          3.403888187216799,
          3.0363230791081484,
          2.9558665720725408,
          3.77897140452914,
          2.4272166994882474,
          2.897056706925374,
          4.097567188057741,
          3.4267710383758203,
          3.170356021627936,
          3.564471044034923,
          2.248644361947243,
          3.138268100605961,
          2.92605730444555,
          2.9606055990234728,
          2.543048184817249,
          2.829579965659179,
          3.2390403144662923,
          2.8458951161425805,
          3.275364881389705,
          2.20115592692566
         ],
         "xaxis": "x",
         "yaxis": "y"
        }
       ],
       "layout": {
        "barmode": "overlay",
        "height": 500,
        "legend": {
         "title": {
          "text": "Label"
         },
         "tracegroupgap": 0
        },
        "template": {
         "data": {
          "bar": [
           {
            "error_x": {
             "color": "#2a3f5f"
            },
            "error_y": {
             "color": "#2a3f5f"
            },
            "marker": {
             "line": {
              "color": "#E5ECF6",
              "width": 0.5
             },
             "pattern": {
              "fillmode": "overlay",
              "size": 10,
              "solidity": 0.2
             }
            },
            "type": "bar"
           }
          ],
          "barpolar": [
           {
            "marker": {
             "line": {
              "color": "#E5ECF6",
              "width": 0.5
             },
             "pattern": {
              "fillmode": "overlay",
              "size": 10,
              "solidity": 0.2
             }
            },
            "type": "barpolar"
           }
          ],
          "carpet": [
           {
            "aaxis": {
             "endlinecolor": "#2a3f5f",
             "gridcolor": "white",
             "linecolor": "white",
             "minorgridcolor": "white",
             "startlinecolor": "#2a3f5f"
            },
            "baxis": {
             "endlinecolor": "#2a3f5f",
             "gridcolor": "white",
             "linecolor": "white",
             "minorgridcolor": "white",
             "startlinecolor": "#2a3f5f"
            },
            "type": "carpet"
           }
          ],
          "choropleth": [
           {
            "colorbar": {
             "outlinewidth": 0,
             "ticks": ""
            },
            "type": "choropleth"
           }
          ],
          "contour": [
           {
            "colorbar": {
             "outlinewidth": 0,
             "ticks": ""
            },
            "colorscale": [
             [
              0,
              "#0d0887"
             ],
             [
              0.1111111111111111,
              "#46039f"
             ],
             [
              0.2222222222222222,
              "#7201a8"
             ],
             [
              0.3333333333333333,
              "#9c179e"
             ],
             [
              0.4444444444444444,
              "#bd3786"
             ],
             [
              0.5555555555555556,
              "#d8576b"
             ],
             [
              0.6666666666666666,
              "#ed7953"
             ],
             [
              0.7777777777777778,
              "#fb9f3a"
             ],
             [
              0.8888888888888888,
              "#fdca26"
             ],
             [
              1,
              "#f0f921"
             ]
            ],
            "type": "contour"
           }
          ],
          "contourcarpet": [
           {
            "colorbar": {
             "outlinewidth": 0,
             "ticks": ""
            },
            "type": "contourcarpet"
           }
          ],
          "heatmap": [
           {
            "colorbar": {
             "outlinewidth": 0,
             "ticks": ""
            },
            "colorscale": [
             [
              0,
              "#0d0887"
             ],
             [
              0.1111111111111111,
              "#46039f"
             ],
             [
              0.2222222222222222,
              "#7201a8"
             ],
             [
              0.3333333333333333,
              "#9c179e"
             ],
             [
              0.4444444444444444,
              "#bd3786"
             ],
             [
              0.5555555555555556,
              "#d8576b"
             ],
             [
              0.6666666666666666,
              "#ed7953"
             ],
             [
              0.7777777777777778,
              "#fb9f3a"
             ],
             [
              0.8888888888888888,
              "#fdca26"
             ],
             [
              1,
              "#f0f921"
             ]
            ],
            "type": "heatmap"
           }
          ],
          "heatmapgl": [
           {
            "colorbar": {
             "outlinewidth": 0,
             "ticks": ""
            },
            "colorscale": [
             [
              0,
              "#0d0887"
             ],
             [
              0.1111111111111111,
              "#46039f"
             ],
             [
              0.2222222222222222,
              "#7201a8"
             ],
             [
              0.3333333333333333,
              "#9c179e"
             ],
             [
              0.4444444444444444,
              "#bd3786"
             ],
             [
              0.5555555555555556,
              "#d8576b"
             ],
             [
              0.6666666666666666,
              "#ed7953"
             ],
             [
              0.7777777777777778,
              "#fb9f3a"
             ],
             [
              0.8888888888888888,
              "#fdca26"
             ],
             [
              1,
              "#f0f921"
             ]
            ],
            "type": "heatmapgl"
           }
          ],
          "histogram": [
           {
            "marker": {
             "pattern": {
              "fillmode": "overlay",
              "size": 10,
              "solidity": 0.2
             }
            },
            "type": "histogram"
           }
          ],
          "histogram2d": [
           {
            "colorbar": {
             "outlinewidth": 0,
             "ticks": ""
            },
            "colorscale": [
             [
              0,
              "#0d0887"
             ],
             [
              0.1111111111111111,
              "#46039f"
             ],
             [
              0.2222222222222222,
              "#7201a8"
             ],
             [
              0.3333333333333333,
              "#9c179e"
             ],
             [
              0.4444444444444444,
              "#bd3786"
             ],
             [
              0.5555555555555556,
              "#d8576b"
             ],
             [
              0.6666666666666666,
              "#ed7953"
             ],
             [
              0.7777777777777778,
              "#fb9f3a"
             ],
             [
              0.8888888888888888,
              "#fdca26"
             ],
             [
              1,
              "#f0f921"
             ]
            ],
            "type": "histogram2d"
           }
          ],
          "histogram2dcontour": [
           {
            "colorbar": {
             "outlinewidth": 0,
             "ticks": ""
            },
            "colorscale": [
             [
              0,
              "#0d0887"
             ],
             [
              0.1111111111111111,
              "#46039f"
             ],
             [
              0.2222222222222222,
              "#7201a8"
             ],
             [
              0.3333333333333333,
              "#9c179e"
             ],
             [
              0.4444444444444444,
              "#bd3786"
             ],
             [
              0.5555555555555556,
              "#d8576b"
             ],
             [
              0.6666666666666666,
              "#ed7953"
             ],
             [
              0.7777777777777778,
              "#fb9f3a"
             ],
             [
              0.8888888888888888,
              "#fdca26"
             ],
             [
              1,
              "#f0f921"
             ]
            ],
            "type": "histogram2dcontour"
           }
          ],
          "mesh3d": [
           {
            "colorbar": {
             "outlinewidth": 0,
             "ticks": ""
            },
            "type": "mesh3d"
           }
          ],
          "parcoords": [
           {
            "line": {
             "colorbar": {
              "outlinewidth": 0,
              "ticks": ""
             }
            },
            "type": "parcoords"
           }
          ],
          "pie": [
           {
            "automargin": true,
            "type": "pie"
           }
          ],
          "scatter": [
           {
            "fillpattern": {
             "fillmode": "overlay",
             "size": 10,
             "solidity": 0.2
            },
            "type": "scatter"
           }
          ],
          "scatter3d": [
           {
            "line": {
             "colorbar": {
              "outlinewidth": 0,
              "ticks": ""
             }
            },
            "marker": {
             "colorbar": {
              "outlinewidth": 0,
              "ticks": ""
             }
            },
            "type": "scatter3d"
           }
          ],
          "scattercarpet": [
           {
            "marker": {
             "colorbar": {
              "outlinewidth": 0,
              "ticks": ""
             }
            },
            "type": "scattercarpet"
           }
          ],
          "scattergeo": [
           {
            "marker": {
             "colorbar": {
              "outlinewidth": 0,
              "ticks": ""
             }
            },
            "type": "scattergeo"
           }
          ],
          "scattergl": [
           {
            "marker": {
             "colorbar": {
              "outlinewidth": 0,
              "ticks": ""
             }
            },
            "type": "scattergl"
           }
          ],
          "scattermapbox": [
           {
            "marker": {
             "colorbar": {
              "outlinewidth": 0,
              "ticks": ""
             }
            },
            "type": "scattermapbox"
           }
          ],
          "scatterpolar": [
           {
            "marker": {
             "colorbar": {
              "outlinewidth": 0,
              "ticks": ""
             }
            },
            "type": "scatterpolar"
           }
          ],
          "scatterpolargl": [
           {
            "marker": {
             "colorbar": {
              "outlinewidth": 0,
              "ticks": ""
             }
            },
            "type": "scatterpolargl"
           }
          ],
          "scatterternary": [
           {
            "marker": {
             "colorbar": {
              "outlinewidth": 0,
              "ticks": ""
             }
            },
            "type": "scatterternary"
           }
          ],
          "surface": [
           {
            "colorbar": {
             "outlinewidth": 0,
             "ticks": ""
            },
            "colorscale": [
             [
              0,
              "#0d0887"
             ],
             [
              0.1111111111111111,
              "#46039f"
             ],
             [
              0.2222222222222222,
              "#7201a8"
             ],
             [
              0.3333333333333333,
              "#9c179e"
             ],
             [
              0.4444444444444444,
              "#bd3786"
             ],
             [
              0.5555555555555556,
              "#d8576b"
             ],
             [
              0.6666666666666666,
              "#ed7953"
             ],
             [
              0.7777777777777778,
              "#fb9f3a"
             ],
             [
              0.8888888888888888,
              "#fdca26"
             ],
             [
              1,
              "#f0f921"
             ]
            ],
            "type": "surface"
           }
          ],
          "table": [
           {
            "cells": {
             "fill": {
              "color": "#EBF0F8"
             },
             "line": {
              "color": "white"
             }
            },
            "header": {
             "fill": {
              "color": "#C8D4E3"
             },
             "line": {
              "color": "white"
             }
            },
            "type": "table"
           }
          ]
         },
         "layout": {
          "annotationdefaults": {
           "arrowcolor": "#2a3f5f",
           "arrowhead": 0,
           "arrowwidth": 1
          },
          "autotypenumbers": "strict",
          "coloraxis": {
           "colorbar": {
            "outlinewidth": 0,
            "ticks": ""
           }
          },
          "colorscale": {
           "diverging": [
            [
             0,
             "#8e0152"
            ],
            [
             0.1,
             "#c51b7d"
            ],
            [
             0.2,
             "#de77ae"
            ],
            [
             0.3,
             "#f1b6da"
            ],
            [
             0.4,
             "#fde0ef"
            ],
            [
             0.5,
             "#f7f7f7"
            ],
            [
             0.6,
             "#e6f5d0"
            ],
            [
             0.7,
             "#b8e186"
            ],
            [
             0.8,
             "#7fbc41"
            ],
            [
             0.9,
             "#4d9221"
            ],
            [
             1,
             "#276419"
            ]
           ],
           "sequential": [
            [
             0,
             "#0d0887"
            ],
            [
             0.1111111111111111,
             "#46039f"
            ],
            [
             0.2222222222222222,
             "#7201a8"
            ],
            [
             0.3333333333333333,
             "#9c179e"
            ],
            [
             0.4444444444444444,
             "#bd3786"
            ],
            [
             0.5555555555555556,
             "#d8576b"
            ],
            [
             0.6666666666666666,
             "#ed7953"
            ],
            [
             0.7777777777777778,
             "#fb9f3a"
            ],
            [
             0.8888888888888888,
             "#fdca26"
            ],
            [
             1,
             "#f0f921"
            ]
           ],
           "sequentialminus": [
            [
             0,
             "#0d0887"
            ],
            [
             0.1111111111111111,
             "#46039f"
            ],
            [
             0.2222222222222222,
             "#7201a8"
            ],
            [
             0.3333333333333333,
             "#9c179e"
            ],
            [
             0.4444444444444444,
             "#bd3786"
            ],
            [
             0.5555555555555556,
             "#d8576b"
            ],
            [
             0.6666666666666666,
             "#ed7953"
            ],
            [
             0.7777777777777778,
             "#fb9f3a"
            ],
            [
             0.8888888888888888,
             "#fdca26"
            ],
            [
             1,
             "#f0f921"
            ]
           ]
          },
          "colorway": [
           "#636efa",
           "#EF553B",
           "#00cc96",
           "#ab63fa",
           "#FFA15A",
           "#19d3f3",
           "#FF6692",
           "#B6E880",
           "#FF97FF",
           "#FECB52"
          ],
          "font": {
           "color": "#2a3f5f"
          },
          "geo": {
           "bgcolor": "white",
           "lakecolor": "white",
           "landcolor": "#E5ECF6",
           "showlakes": true,
           "showland": true,
           "subunitcolor": "white"
          },
          "hoverlabel": {
           "align": "left"
          },
          "hovermode": "closest",
          "mapbox": {
           "style": "light"
          },
          "paper_bgcolor": "white",
          "plot_bgcolor": "#E5ECF6",
          "polar": {
           "angularaxis": {
            "gridcolor": "white",
            "linecolor": "white",
            "ticks": ""
           },
           "bgcolor": "#E5ECF6",
           "radialaxis": {
            "gridcolor": "white",
            "linecolor": "white",
            "ticks": ""
           }
          },
          "scene": {
           "xaxis": {
            "backgroundcolor": "#E5ECF6",
            "gridcolor": "white",
            "gridwidth": 2,
            "linecolor": "white",
            "showbackground": true,
            "ticks": "",
            "zerolinecolor": "white"
           },
           "yaxis": {
            "backgroundcolor": "#E5ECF6",
            "gridcolor": "white",
            "gridwidth": 2,
            "linecolor": "white",
            "showbackground": true,
            "ticks": "",
            "zerolinecolor": "white"
           },
           "zaxis": {
            "backgroundcolor": "#E5ECF6",
            "gridcolor": "white",
            "gridwidth": 2,
            "linecolor": "white",
            "showbackground": true,
            "ticks": "",
            "zerolinecolor": "white"
           }
          },
          "shapedefaults": {
           "line": {
            "color": "#2a3f5f"
           }
          },
          "ternary": {
           "aaxis": {
            "gridcolor": "white",
            "linecolor": "white",
            "ticks": ""
           },
           "baxis": {
            "gridcolor": "white",
            "linecolor": "white",
            "ticks": ""
           },
           "bgcolor": "#E5ECF6",
           "caxis": {
            "gridcolor": "white",
            "linecolor": "white",
            "ticks": ""
           }
          },
          "title": {
           "x": 0.05
          },
          "xaxis": {
           "automargin": true,
           "gridcolor": "white",
           "linecolor": "white",
           "ticks": "",
           "title": {
            "standoff": 15
           },
           "zerolinecolor": "white",
           "zerolinewidth": 2
          },
          "yaxis": {
           "automargin": true,
           "gridcolor": "white",
           "linecolor": "white",
           "ticks": "",
           "title": {
            "standoff": 15
           },
           "zerolinecolor": "white",
           "zerolinewidth": 2
          }
         }
        },
        "title": {
         "text": "Sample from a Normal Distribution"
        },
        "width": 800,
        "xaxis": {
         "anchor": "y",
         "domain": [
          0,
          1
         ],
         "title": {
          "text": "Data"
         }
        },
        "yaxis": {
         "anchor": "x",
         "domain": [
          0,
          1
         ],
         "title": {
          "text": "probability density"
         }
        }
       }
      }
     },
     "metadata": {},
     "output_type": "display_data"
    }
   ],
   "source": [
    "fig = px.histogram(df, x='Data',\n",
    "                   color='Label', \n",
    "                   barmode=\"overlay\",\n",
    "                   opacity=0.5,\n",
    "                   color_discrete_sequence=px.colors.qualitative.Prism,\n",
    "                   nbins=25,\n",
    "                   histnorm='probability density',\n",
    "                   height = 500, width = 800,\n",
    "                   title='Sample from a Normal Distribution')\n",
    "fig.show()"
   ]
  }
 ],
 "metadata": {
  "kernelspec": {
   "display_name": ".venv",
   "language": "python",
   "name": "python3"
  },
  "language_info": {
   "codemirror_mode": {
    "name": "ipython",
    "version": 3
   },
   "file_extension": ".py",
   "mimetype": "text/x-python",
   "name": "python",
   "nbconvert_exporter": "python",
   "pygments_lexer": "ipython3",
   "version": "3.11.4"
  }
 },
 "nbformat": 4,
 "nbformat_minor": 2
}
