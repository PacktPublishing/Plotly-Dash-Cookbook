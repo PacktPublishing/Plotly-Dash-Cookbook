{
 "cells": [
  {
   "cell_type": "markdown",
   "metadata": {},
   "source": [
    "# Making a scatter with a trend line"
   ]
  },
  {
   "cell_type": "markdown",
   "metadata": {},
   "source": [
    "Combining a scatter plot with a trend line creates a powerful visual tool for analyzing relationships between variables while also illustrating overall trends in the data. In a scatter plot, individual data points are plotted based on their values for two variables, providing insight into the correlation or distribution of those variables. When a trend line is added, it helps to summarize the overall direction of the data, showing whether there is a positive, negative, or no correlation between the variables. Trend lines can also help identify outliers or anomalies in the data that might not be immediately noticeable from just the scatter plot.\n",
    "\n",
    "This combination is particularly useful when you want to see both the individual data points and the general pattern they form. For example, in regression analysis, a scatter plot with a trend line can visually depict how well a model fits the data, making it valuable in fields like economics, science, or marketing when examining relationships between variables (e.g., advertising spend vs. sales). \n",
    "\n",
    "However, these charts are less useful when there is little to no relationship between variables, as the trend line may be misleading or not informative. Additionally, with a large amount of data or heavily clustered points, the scatter plot can become crowded, making it difficult to interpret the results or spot individual data points clearly."
   ]
  },
  {
   "cell_type": "markdown",
   "metadata": {},
   "source": [
    "## Getting ready\n",
    "\n",
    "\n",
    "In addition to `plotly`, `numpy` and `pandas`, make sure the following Python libraries avaiable in your Python environment\n",
    "\n",
    "-  `statsmodels` \n",
    "-  `scipy`\n",
    "\n",
    "You can install it using the command:"
   ]
  },
  {
   "cell_type": "markdown",
   "metadata": {},
   "source": [
    "```\n",
    "pip install statsmodels, scipy \n",
    "```"
   ]
  },
  {
   "cell_type": "markdown",
   "metadata": {},
   "source": [
    "Import the Python modules `numpy`, `pandas` , "
   ]
  },
  {
   "cell_type": "markdown",
   "metadata": {},
   "source": [
    "Import the [`norm`](https://docs.scipy.org/doc/scipy/reference/generated/scipy.stats.norm.html) object from `scipy.stats`. This object will allow us to generate random samples from a normal distribution. This will help us to create data sets to be used in this recipe."
   ]
  },
  {
   "cell_type": "code",
   "execution_count": 2,
   "metadata": {},
   "outputs": [],
   "source": [
    "import numpy as np\n",
    "import pandas as pd\n",
    "from scipy.stats import norm"
   ]
  },
  {
   "cell_type": "markdown",
   "metadata": {},
   "source": [
    "Create two data sets to be used in this recipe:\n",
    "\n",
    "- `data1` : which contains two variables, `x` and `y`, with a linear relationship\n",
    "- `data2` : which contains two variables, `x` and `y`, with a non-linear relationship"
   ]
  },
  {
   "cell_type": "code",
   "execution_count": 3,
   "metadata": {},
   "outputs": [],
   "source": [
    "n = 200\n",
    "x = np.linspace(0, 15, n)\n",
    "epsilon = norm().rvs(n)\n",
    "sigma = 2\n",
    "y = 2*x + sigma*epsilon\n",
    "data1 = pd.DataFrame({'x':x, 'y':y})"
   ]
  },
  {
   "cell_type": "code",
   "execution_count": 4,
   "metadata": {},
   "outputs": [],
   "source": [
    "n = 200\n",
    "x = np.linspace(0, 15, n)\n",
    "epsilon = norm(loc=20, scale=100).rvs(n)\n",
    "y = 0.5*x**3 + epsilon -10\n",
    "data2 = pd.DataFrame({'x':x, 'y':y})"
   ]
  },
  {
   "cell_type": "markdown",
   "metadata": {},
   "source": [
    "## How to do it"
   ]
  },
  {
   "cell_type": "markdown",
   "metadata": {},
   "source": [
    "1. Import the `plotly.express` module as `px`"
   ]
  },
  {
   "cell_type": "code",
   "execution_count": 5,
   "metadata": {},
   "outputs": [],
   "source": [
    "import plotly.express as px"
   ]
  },
  {
   "cell_type": "markdown",
   "metadata": {},
   "source": [
    "2. Make a simple scatter plot to illustrate the points in the `data1` data set using the function `scatter`"
   ]
  },
  {
   "cell_type": "code",
   "execution_count": 7,
   "metadata": {},
   "outputs": [
    {
     "data": {
      "application/vnd.plotly.v1+json": {
       "config": {
        "plotlyServerURL": "https://plot.ly"
       },
       "data": [
        {
         "hovertemplate": "x=%{x}<br>y=%{y}<extra></extra>",
         "legendgroup": "",
         "marker": {
          "color": "#636efa",
          "symbol": "circle"
         },
         "mode": "markers",
         "name": "",
         "orientation": "v",
         "showlegend": false,
         "type": "scatter",
         "x": [
          0,
          0.07537688442211055,
          0.1507537688442211,
          0.22613065326633164,
          0.3015075376884422,
          0.37688442211055273,
          0.4522613065326633,
          0.5276381909547738,
          0.6030150753768844,
          0.6783919597989949,
          0.7537688442211055,
          0.829145728643216,
          0.9045226130653266,
          0.9798994974874371,
          1.0552763819095476,
          1.1306532663316582,
          1.2060301507537687,
          1.2814070351758793,
          1.3567839195979898,
          1.4321608040201004,
          1.507537688442211,
          1.5829145728643215,
          1.658291457286432,
          1.7336683417085426,
          1.809045226130653,
          1.8844221105527637,
          1.9597989949748742,
          2.0351758793969847,
          2.1105527638190953,
          2.185929648241206,
          2.2613065326633164,
          2.336683417085427,
          2.4120603015075375,
          2.487437185929648,
          2.5628140703517586,
          2.638190954773869,
          2.7135678391959797,
          2.78894472361809,
          2.8643216080402008,
          2.9396984924623113,
          3.015075376884422,
          3.0904522613065324,
          3.165829145728643,
          3.2412060301507535,
          3.316582914572864,
          3.3919597989949746,
          3.467336683417085,
          3.5427135678391957,
          3.618090452261306,
          3.6934673366834168,
          3.7688442211055273,
          3.844221105527638,
          3.9195979899497484,
          3.994974874371859,
          4.0703517587939695,
          4.14572864321608,
          4.221105527638191,
          4.296482412060302,
          4.371859296482412,
          4.447236180904522,
          4.522613065326633,
          4.597989949748744,
          4.673366834170854,
          4.748743718592964,
          4.824120603015075,
          4.899497487437186,
          4.974874371859296,
          5.050251256281406,
          5.125628140703517,
          5.201005025125628,
          5.276381909547738,
          5.351758793969848,
          5.427135678391959,
          5.50251256281407,
          5.57788944723618,
          5.6532663316582905,
          5.7286432160804015,
          5.8040201005025125,
          5.879396984924623,
          5.954773869346733,
          6.030150753768844,
          6.105527638190955,
          6.180904522613065,
          6.256281407035175,
          6.331658291457286,
          6.407035175879397,
          6.482412060301507,
          6.557788944723617,
          6.633165829145728,
          6.708542713567839,
          6.783919597989949,
          6.859296482412059,
          6.93467336683417,
          7.010050251256281,
          7.085427135678391,
          7.160804020100501,
          7.236180904522612,
          7.311557788944723,
          7.3869346733668335,
          7.462311557788944,
          7.537688442211055,
          7.613065326633166,
          7.688442211055276,
          7.763819095477386,
          7.839195979899497,
          7.914572864321608,
          7.989949748743718,
          8.065326633165828,
          8.140703517587939,
          8.21608040201005,
          8.29145728643216,
          8.36683417085427,
          8.442211055276381,
          8.517587939698492,
          8.592964824120603,
          8.668341708542712,
          8.743718592964823,
          8.819095477386934,
          8.894472361809044,
          8.969849246231155,
          9.045226130653266,
          9.120603015075377,
          9.195979899497488,
          9.271356783919597,
          9.346733668341708,
          9.422110552763819,
          9.497487437185928,
          9.572864321608039,
          9.64824120603015,
          9.72361809045226,
          9.798994974874372,
          9.874371859296481,
          9.949748743718592,
          10.025125628140703,
          10.100502512562812,
          10.175879396984923,
          10.251256281407034,
          10.326633165829145,
          10.402010050251256,
          10.477386934673365,
          10.552763819095476,
          10.628140703517587,
          10.703517587939697,
          10.778894472361808,
          10.854271356783919,
          10.92964824120603,
          11.00502512562814,
          11.08040201005025,
          11.15577889447236,
          11.231155778894472,
          11.306532663316581,
          11.381909547738692,
          11.457286432160803,
          11.532663316582914,
          11.608040201005025,
          11.683417085427134,
          11.758793969849245,
          11.834170854271356,
          11.909547738693465,
          11.984924623115576,
          12.060301507537687,
          12.135678391959798,
          12.21105527638191,
          12.286432160804019,
          12.36180904522613,
          12.43718592964824,
          12.51256281407035,
          12.58793969849246,
          12.663316582914572,
          12.738693467336683,
          12.814070351758794,
          12.889447236180903,
          12.964824120603014,
          13.040201005025125,
          13.115577889447234,
          13.190954773869345,
          13.266331658291456,
          13.341708542713567,
          13.417085427135678,
          13.492462311557787,
          13.567839195979898,
          13.64321608040201,
          13.718592964824118,
          13.79396984924623,
          13.86934673366834,
          13.944723618090451,
          14.020100502512562,
          14.095477386934672,
          14.170854271356783,
          14.246231155778894,
          14.321608040201003,
          14.396984924623114,
          14.472361809045225,
          14.547738693467336,
          14.623115577889447,
          14.698492462311556,
          14.773869346733667,
          14.849246231155778,
          14.924623115577887,
          15
         ],
         "xaxis": "x",
         "y": [
          0.04523867161289187,
          1.8712585287651358,
          1.047281134472959,
          4.101716482364727,
          -1.6179236657347023,
          0.801179470830729,
          -1.3397887883184567,
          -0.6825446673170932,
          0.10182823343640313,
          0.8576179711666565,
          1.2077596065903047,
          0.22723462571247977,
          -0.9729804688718509,
          1.6945719126895784,
          0.24344068589671175,
          4.157482112591779,
          5.196819399579889,
          1.995165507744172,
          3.321871551559506,
          3.363347260138217,
          2.712271900864919,
          1.447436300862086,
          3.3937099292582094,
          3.4890372952616406,
          -0.6446760313267532,
          4.392790841905638,
          2.9870576860826064,
          -0.5498538180224264,
          2.349386145725485,
          6.7033001479921515,
          3.899649585949559,
          7.450953117665265,
          4.47698646843323,
          6.832499878796543,
          6.868373483602253,
          0.9716365762176418,
          7.134228811353488,
          1.82429326995141,
          7.438918148097923,
          6.661190738300007,
          7.67351257469989,
          4.605561883089255,
          3.6714379182536483,
          7.279486742455456,
          8.539553940093782,
          5.6493011470228005,
          4.726401344388412,
          6.1284466450099355,
          7.680768493993518,
          6.676828182348126,
          9.991733961836381,
          8.206322132916432,
          7.632267773066449,
          4.803935787308694,
          7.660945444218204,
          5.799549259788298,
          7.877785651495782,
          9.757470147320396,
          9.938125399363642,
          8.332816627505714,
          9.377913574484277,
          9.18440057185563,
          8.121589038895848,
          9.797609038879488,
          12.246165929234566,
          7.24515053604742,
          9.022940467401623,
          10.164053464905779,
          10.915778186023713,
          12.821416410449485,
          10.169039612283154,
          10.354389038288113,
          9.751198843133462,
          10.981841857284854,
          10.156336826157077,
          10.340388428221107,
          10.00537018146317,
          8.916828581265191,
          11.707209401998801,
          12.665764619313153,
          8.756531443097613,
          10.336001209079416,
          13.127044094695794,
          14.848163895750904,
          8.24962154806385,
          16.320680930200243,
          14.825450651995975,
          10.900201941448474,
          13.123885020111755,
          13.962256981175347,
          11.092206477577168,
          15.674588502493993,
          15.160310718722583,
          17.27258343721574,
          14.908107236713677,
          15.124980290552422,
          16.846771055836538,
          17.5624597081755,
          12.725192533106862,
          14.756318444452605,
          15.174831777422785,
          14.259939374613964,
          13.557684230308372,
          14.90244551735282,
          18.269153398072266,
          14.883481900081554,
          15.631544281969123,
          17.665888905394752,
          17.09301899498572,
          16.6002165837024,
          15.52304400111041,
          16.785685787037412,
          16.148555199593183,
          16.054563710789402,
          14.48422879978982,
          16.37291464164197,
          17.23413438027667,
          15.523851645035807,
          14.191872865288467,
          17.46521901780584,
          16.954020364860416,
          18.37379073300872,
          15.71375765188192,
          20.120730073470362,
          19.39525918727681,
          19.143712530336167,
          17.0640710456113,
          17.122136933985566,
          21.023778367188402,
          17.591194623038106,
          24.051662509933887,
          18.808710670343924,
          22.173474224522984,
          20.050185331612077,
          20.49832310573528,
          21.013453351798447,
          22.22695603008738,
          20.355515408989355,
          19.6046597120662,
          19.960771131335672,
          18.921881705804566,
          21.83149497364292,
          21.142235670972198,
          18.223298236058337,
          22.280591641072483,
          26.17229378576145,
          23.197964425045285,
          17.953697688083206,
          21.177447806372943,
          21.444205419821635,
          22.789346630604516,
          25.188901455790166,
          26.81899708656291,
          22.303118353800976,
          23.652121353015055,
          20.186237576839147,
          22.3924805757657,
          21.57324930894781,
          24.06525584417382,
          25.19057564626406,
          24.10505720811497,
          24.738194278324297,
          22.097905359362827,
          22.660978013181204,
          27.75855203993125,
          24.123712460199965,
          26.52164870198596,
          26.20316585327438,
          24.62267715684125,
          26.504661394615283,
          25.335925095429953,
          25.948143526866573,
          25.661383553321837,
          25.76932325597964,
          24.04784370926775,
          26.96683833224836,
          28.77209828906205,
          23.900900237420906,
          28.179151820934138,
          24.49218466126347,
          26.261864341564376,
          28.709260033104293,
          30.103914449368858,
          26.99901741623637,
          26.10955878221573,
          32.55499135925805,
          24.044439715862804,
          33.34656226444864,
          28.810473845887493,
          31.363745216830164,
          28.0714901480074,
          28.29991165710155,
          28.48644035348643,
          29.17927605546845,
          31.394137471648687,
          28.865931110006855,
          29.15749998640091,
          29.4804647631604,
          31.49675703468665,
          30.316744820401777
         ],
         "yaxis": "y"
        }
       ],
       "layout": {
        "height": 600,
        "legend": {
         "tracegroupgap": 0
        },
        "template": {
         "data": {
          "bar": [
           {
            "error_x": {
             "color": "#2a3f5f"
            },
            "error_y": {
             "color": "#2a3f5f"
            },
            "marker": {
             "line": {
              "color": "#E5ECF6",
              "width": 0.5
             },
             "pattern": {
              "fillmode": "overlay",
              "size": 10,
              "solidity": 0.2
             }
            },
            "type": "bar"
           }
          ],
          "barpolar": [
           {
            "marker": {
             "line": {
              "color": "#E5ECF6",
              "width": 0.5
             },
             "pattern": {
              "fillmode": "overlay",
              "size": 10,
              "solidity": 0.2
             }
            },
            "type": "barpolar"
           }
          ],
          "carpet": [
           {
            "aaxis": {
             "endlinecolor": "#2a3f5f",
             "gridcolor": "white",
             "linecolor": "white",
             "minorgridcolor": "white",
             "startlinecolor": "#2a3f5f"
            },
            "baxis": {
             "endlinecolor": "#2a3f5f",
             "gridcolor": "white",
             "linecolor": "white",
             "minorgridcolor": "white",
             "startlinecolor": "#2a3f5f"
            },
            "type": "carpet"
           }
          ],
          "choropleth": [
           {
            "colorbar": {
             "outlinewidth": 0,
             "ticks": ""
            },
            "type": "choropleth"
           }
          ],
          "contour": [
           {
            "colorbar": {
             "outlinewidth": 0,
             "ticks": ""
            },
            "colorscale": [
             [
              0,
              "#0d0887"
             ],
             [
              0.1111111111111111,
              "#46039f"
             ],
             [
              0.2222222222222222,
              "#7201a8"
             ],
             [
              0.3333333333333333,
              "#9c179e"
             ],
             [
              0.4444444444444444,
              "#bd3786"
             ],
             [
              0.5555555555555556,
              "#d8576b"
             ],
             [
              0.6666666666666666,
              "#ed7953"
             ],
             [
              0.7777777777777778,
              "#fb9f3a"
             ],
             [
              0.8888888888888888,
              "#fdca26"
             ],
             [
              1,
              "#f0f921"
             ]
            ],
            "type": "contour"
           }
          ],
          "contourcarpet": [
           {
            "colorbar": {
             "outlinewidth": 0,
             "ticks": ""
            },
            "type": "contourcarpet"
           }
          ],
          "heatmap": [
           {
            "colorbar": {
             "outlinewidth": 0,
             "ticks": ""
            },
            "colorscale": [
             [
              0,
              "#0d0887"
             ],
             [
              0.1111111111111111,
              "#46039f"
             ],
             [
              0.2222222222222222,
              "#7201a8"
             ],
             [
              0.3333333333333333,
              "#9c179e"
             ],
             [
              0.4444444444444444,
              "#bd3786"
             ],
             [
              0.5555555555555556,
              "#d8576b"
             ],
             [
              0.6666666666666666,
              "#ed7953"
             ],
             [
              0.7777777777777778,
              "#fb9f3a"
             ],
             [
              0.8888888888888888,
              "#fdca26"
             ],
             [
              1,
              "#f0f921"
             ]
            ],
            "type": "heatmap"
           }
          ],
          "heatmapgl": [
           {
            "colorbar": {
             "outlinewidth": 0,
             "ticks": ""
            },
            "colorscale": [
             [
              0,
              "#0d0887"
             ],
             [
              0.1111111111111111,
              "#46039f"
             ],
             [
              0.2222222222222222,
              "#7201a8"
             ],
             [
              0.3333333333333333,
              "#9c179e"
             ],
             [
              0.4444444444444444,
              "#bd3786"
             ],
             [
              0.5555555555555556,
              "#d8576b"
             ],
             [
              0.6666666666666666,
              "#ed7953"
             ],
             [
              0.7777777777777778,
              "#fb9f3a"
             ],
             [
              0.8888888888888888,
              "#fdca26"
             ],
             [
              1,
              "#f0f921"
             ]
            ],
            "type": "heatmapgl"
           }
          ],
          "histogram": [
           {
            "marker": {
             "pattern": {
              "fillmode": "overlay",
              "size": 10,
              "solidity": 0.2
             }
            },
            "type": "histogram"
           }
          ],
          "histogram2d": [
           {
            "colorbar": {
             "outlinewidth": 0,
             "ticks": ""
            },
            "colorscale": [
             [
              0,
              "#0d0887"
             ],
             [
              0.1111111111111111,
              "#46039f"
             ],
             [
              0.2222222222222222,
              "#7201a8"
             ],
             [
              0.3333333333333333,
              "#9c179e"
             ],
             [
              0.4444444444444444,
              "#bd3786"
             ],
             [
              0.5555555555555556,
              "#d8576b"
             ],
             [
              0.6666666666666666,
              "#ed7953"
             ],
             [
              0.7777777777777778,
              "#fb9f3a"
             ],
             [
              0.8888888888888888,
              "#fdca26"
             ],
             [
              1,
              "#f0f921"
             ]
            ],
            "type": "histogram2d"
           }
          ],
          "histogram2dcontour": [
           {
            "colorbar": {
             "outlinewidth": 0,
             "ticks": ""
            },
            "colorscale": [
             [
              0,
              "#0d0887"
             ],
             [
              0.1111111111111111,
              "#46039f"
             ],
             [
              0.2222222222222222,
              "#7201a8"
             ],
             [
              0.3333333333333333,
              "#9c179e"
             ],
             [
              0.4444444444444444,
              "#bd3786"
             ],
             [
              0.5555555555555556,
              "#d8576b"
             ],
             [
              0.6666666666666666,
              "#ed7953"
             ],
             [
              0.7777777777777778,
              "#fb9f3a"
             ],
             [
              0.8888888888888888,
              "#fdca26"
             ],
             [
              1,
              "#f0f921"
             ]
            ],
            "type": "histogram2dcontour"
           }
          ],
          "mesh3d": [
           {
            "colorbar": {
             "outlinewidth": 0,
             "ticks": ""
            },
            "type": "mesh3d"
           }
          ],
          "parcoords": [
           {
            "line": {
             "colorbar": {
              "outlinewidth": 0,
              "ticks": ""
             }
            },
            "type": "parcoords"
           }
          ],
          "pie": [
           {
            "automargin": true,
            "type": "pie"
           }
          ],
          "scatter": [
           {
            "fillpattern": {
             "fillmode": "overlay",
             "size": 10,
             "solidity": 0.2
            },
            "type": "scatter"
           }
          ],
          "scatter3d": [
           {
            "line": {
             "colorbar": {
              "outlinewidth": 0,
              "ticks": ""
             }
            },
            "marker": {
             "colorbar": {
              "outlinewidth": 0,
              "ticks": ""
             }
            },
            "type": "scatter3d"
           }
          ],
          "scattercarpet": [
           {
            "marker": {
             "colorbar": {
              "outlinewidth": 0,
              "ticks": ""
             }
            },
            "type": "scattercarpet"
           }
          ],
          "scattergeo": [
           {
            "marker": {
             "colorbar": {
              "outlinewidth": 0,
              "ticks": ""
             }
            },
            "type": "scattergeo"
           }
          ],
          "scattergl": [
           {
            "marker": {
             "colorbar": {
              "outlinewidth": 0,
              "ticks": ""
             }
            },
            "type": "scattergl"
           }
          ],
          "scattermapbox": [
           {
            "marker": {
             "colorbar": {
              "outlinewidth": 0,
              "ticks": ""
             }
            },
            "type": "scattermapbox"
           }
          ],
          "scatterpolar": [
           {
            "marker": {
             "colorbar": {
              "outlinewidth": 0,
              "ticks": ""
             }
            },
            "type": "scatterpolar"
           }
          ],
          "scatterpolargl": [
           {
            "marker": {
             "colorbar": {
              "outlinewidth": 0,
              "ticks": ""
             }
            },
            "type": "scatterpolargl"
           }
          ],
          "scatterternary": [
           {
            "marker": {
             "colorbar": {
              "outlinewidth": 0,
              "ticks": ""
             }
            },
            "type": "scatterternary"
           }
          ],
          "surface": [
           {
            "colorbar": {
             "outlinewidth": 0,
             "ticks": ""
            },
            "colorscale": [
             [
              0,
              "#0d0887"
             ],
             [
              0.1111111111111111,
              "#46039f"
             ],
             [
              0.2222222222222222,
              "#7201a8"
             ],
             [
              0.3333333333333333,
              "#9c179e"
             ],
             [
              0.4444444444444444,
              "#bd3786"
             ],
             [
              0.5555555555555556,
              "#d8576b"
             ],
             [
              0.6666666666666666,
              "#ed7953"
             ],
             [
              0.7777777777777778,
              "#fb9f3a"
             ],
             [
              0.8888888888888888,
              "#fdca26"
             ],
             [
              1,
              "#f0f921"
             ]
            ],
            "type": "surface"
           }
          ],
          "table": [
           {
            "cells": {
             "fill": {
              "color": "#EBF0F8"
             },
             "line": {
              "color": "white"
             }
            },
            "header": {
             "fill": {
              "color": "#C8D4E3"
             },
             "line": {
              "color": "white"
             }
            },
            "type": "table"
           }
          ]
         },
         "layout": {
          "annotationdefaults": {
           "arrowcolor": "#2a3f5f",
           "arrowhead": 0,
           "arrowwidth": 1
          },
          "autotypenumbers": "strict",
          "coloraxis": {
           "colorbar": {
            "outlinewidth": 0,
            "ticks": ""
           }
          },
          "colorscale": {
           "diverging": [
            [
             0,
             "#8e0152"
            ],
            [
             0.1,
             "#c51b7d"
            ],
            [
             0.2,
             "#de77ae"
            ],
            [
             0.3,
             "#f1b6da"
            ],
            [
             0.4,
             "#fde0ef"
            ],
            [
             0.5,
             "#f7f7f7"
            ],
            [
             0.6,
             "#e6f5d0"
            ],
            [
             0.7,
             "#b8e186"
            ],
            [
             0.8,
             "#7fbc41"
            ],
            [
             0.9,
             "#4d9221"
            ],
            [
             1,
             "#276419"
            ]
           ],
           "sequential": [
            [
             0,
             "#0d0887"
            ],
            [
             0.1111111111111111,
             "#46039f"
            ],
            [
             0.2222222222222222,
             "#7201a8"
            ],
            [
             0.3333333333333333,
             "#9c179e"
            ],
            [
             0.4444444444444444,
             "#bd3786"
            ],
            [
             0.5555555555555556,
             "#d8576b"
            ],
            [
             0.6666666666666666,
             "#ed7953"
            ],
            [
             0.7777777777777778,
             "#fb9f3a"
            ],
            [
             0.8888888888888888,
             "#fdca26"
            ],
            [
             1,
             "#f0f921"
            ]
           ],
           "sequentialminus": [
            [
             0,
             "#0d0887"
            ],
            [
             0.1111111111111111,
             "#46039f"
            ],
            [
             0.2222222222222222,
             "#7201a8"
            ],
            [
             0.3333333333333333,
             "#9c179e"
            ],
            [
             0.4444444444444444,
             "#bd3786"
            ],
            [
             0.5555555555555556,
             "#d8576b"
            ],
            [
             0.6666666666666666,
             "#ed7953"
            ],
            [
             0.7777777777777778,
             "#fb9f3a"
            ],
            [
             0.8888888888888888,
             "#fdca26"
            ],
            [
             1,
             "#f0f921"
            ]
           ]
          },
          "colorway": [
           "#636efa",
           "#EF553B",
           "#00cc96",
           "#ab63fa",
           "#FFA15A",
           "#19d3f3",
           "#FF6692",
           "#B6E880",
           "#FF97FF",
           "#FECB52"
          ],
          "font": {
           "color": "#2a3f5f"
          },
          "geo": {
           "bgcolor": "white",
           "lakecolor": "white",
           "landcolor": "#E5ECF6",
           "showlakes": true,
           "showland": true,
           "subunitcolor": "white"
          },
          "hoverlabel": {
           "align": "left"
          },
          "hovermode": "closest",
          "mapbox": {
           "style": "light"
          },
          "paper_bgcolor": "white",
          "plot_bgcolor": "#E5ECF6",
          "polar": {
           "angularaxis": {
            "gridcolor": "white",
            "linecolor": "white",
            "ticks": ""
           },
           "bgcolor": "#E5ECF6",
           "radialaxis": {
            "gridcolor": "white",
            "linecolor": "white",
            "ticks": ""
           }
          },
          "scene": {
           "xaxis": {
            "backgroundcolor": "#E5ECF6",
            "gridcolor": "white",
            "gridwidth": 2,
            "linecolor": "white",
            "showbackground": true,
            "ticks": "",
            "zerolinecolor": "white"
           },
           "yaxis": {
            "backgroundcolor": "#E5ECF6",
            "gridcolor": "white",
            "gridwidth": 2,
            "linecolor": "white",
            "showbackground": true,
            "ticks": "",
            "zerolinecolor": "white"
           },
           "zaxis": {
            "backgroundcolor": "#E5ECF6",
            "gridcolor": "white",
            "gridwidth": 2,
            "linecolor": "white",
            "showbackground": true,
            "ticks": "",
            "zerolinecolor": "white"
           }
          },
          "shapedefaults": {
           "line": {
            "color": "#2a3f5f"
           }
          },
          "ternary": {
           "aaxis": {
            "gridcolor": "white",
            "linecolor": "white",
            "ticks": ""
           },
           "baxis": {
            "gridcolor": "white",
            "linecolor": "white",
            "ticks": ""
           },
           "bgcolor": "#E5ECF6",
           "caxis": {
            "gridcolor": "white",
            "linecolor": "white",
            "ticks": ""
           }
          },
          "title": {
           "x": 0.05
          },
          "xaxis": {
           "automargin": true,
           "gridcolor": "white",
           "linecolor": "white",
           "ticks": "",
           "title": {
            "standoff": 15
           },
           "zerolinecolor": "white",
           "zerolinewidth": 2
          },
          "yaxis": {
           "automargin": true,
           "gridcolor": "white",
           "linecolor": "white",
           "ticks": "",
           "title": {
            "standoff": 15
           },
           "zerolinecolor": "white",
           "zerolinewidth": 2
          }
         }
        },
        "title": {
         "text": "Just a simple scatter"
        },
        "width": 800,
        "xaxis": {
         "anchor": "y",
         "domain": [
          0,
          1
         ],
         "title": {
          "text": "x"
         }
        },
        "yaxis": {
         "anchor": "x",
         "domain": [
          0,
          1
         ],
         "title": {
          "text": "y"
         }
        }
       }
      }
     },
     "metadata": {},
     "output_type": "display_data"
    }
   ],
   "source": [
    "df = data1\n",
    "fig = px.scatter(df, x='x', y ='y', \n",
    "                 height=600, width=800,\n",
    "                 title='Just a simple scatter')\n",
    "fig.show()"
   ]
  },
  {
   "cell_type": "markdown",
   "metadata": {},
   "source": [
    "We can observe that there is a linear relationship between the variables! "
   ]
  },
  {
   "cell_type": "markdown",
   "metadata": {},
   "source": [
    "### Linear Trend"
   ]
  },
  {
   "cell_type": "markdown",
   "metadata": {},
   "source": [
    "3. Add a line that captures the linear relationship in the data. To do this,  simply add the argument `trendline` and pass the string `ols`.  This will draw the line determined by the Ordinary Least Squares regression (OLS) method."
   ]
  },
  {
   "cell_type": "code",
   "execution_count": 8,
   "metadata": {},
   "outputs": [
    {
     "data": {
      "application/vnd.plotly.v1+json": {
       "config": {
        "plotlyServerURL": "https://plot.ly"
       },
       "data": [
        {
         "hovertemplate": "x=%{x}<br>y=%{y}<extra></extra>",
         "legendgroup": "",
         "marker": {
          "color": "#636efa",
          "symbol": "circle"
         },
         "mode": "markers",
         "name": "",
         "orientation": "v",
         "showlegend": false,
         "type": "scatter",
         "x": [
          0,
          0.07537688442211055,
          0.1507537688442211,
          0.22613065326633164,
          0.3015075376884422,
          0.37688442211055273,
          0.4522613065326633,
          0.5276381909547738,
          0.6030150753768844,
          0.6783919597989949,
          0.7537688442211055,
          0.829145728643216,
          0.9045226130653266,
          0.9798994974874371,
          1.0552763819095476,
          1.1306532663316582,
          1.2060301507537687,
          1.2814070351758793,
          1.3567839195979898,
          1.4321608040201004,
          1.507537688442211,
          1.5829145728643215,
          1.658291457286432,
          1.7336683417085426,
          1.809045226130653,
          1.8844221105527637,
          1.9597989949748742,
          2.0351758793969847,
          2.1105527638190953,
          2.185929648241206,
          2.2613065326633164,
          2.336683417085427,
          2.4120603015075375,
          2.487437185929648,
          2.5628140703517586,
          2.638190954773869,
          2.7135678391959797,
          2.78894472361809,
          2.8643216080402008,
          2.9396984924623113,
          3.015075376884422,
          3.0904522613065324,
          3.165829145728643,
          3.2412060301507535,
          3.316582914572864,
          3.3919597989949746,
          3.467336683417085,
          3.5427135678391957,
          3.618090452261306,
          3.6934673366834168,
          3.7688442211055273,
          3.844221105527638,
          3.9195979899497484,
          3.994974874371859,
          4.0703517587939695,
          4.14572864321608,
          4.221105527638191,
          4.296482412060302,
          4.371859296482412,
          4.447236180904522,
          4.522613065326633,
          4.597989949748744,
          4.673366834170854,
          4.748743718592964,
          4.824120603015075,
          4.899497487437186,
          4.974874371859296,
          5.050251256281406,
          5.125628140703517,
          5.201005025125628,
          5.276381909547738,
          5.351758793969848,
          5.427135678391959,
          5.50251256281407,
          5.57788944723618,
          5.6532663316582905,
          5.7286432160804015,
          5.8040201005025125,
          5.879396984924623,
          5.954773869346733,
          6.030150753768844,
          6.105527638190955,
          6.180904522613065,
          6.256281407035175,
          6.331658291457286,
          6.407035175879397,
          6.482412060301507,
          6.557788944723617,
          6.633165829145728,
          6.708542713567839,
          6.783919597989949,
          6.859296482412059,
          6.93467336683417,
          7.010050251256281,
          7.085427135678391,
          7.160804020100501,
          7.236180904522612,
          7.311557788944723,
          7.3869346733668335,
          7.462311557788944,
          7.537688442211055,
          7.613065326633166,
          7.688442211055276,
          7.763819095477386,
          7.839195979899497,
          7.914572864321608,
          7.989949748743718,
          8.065326633165828,
          8.140703517587939,
          8.21608040201005,
          8.29145728643216,
          8.36683417085427,
          8.442211055276381,
          8.517587939698492,
          8.592964824120603,
          8.668341708542712,
          8.743718592964823,
          8.819095477386934,
          8.894472361809044,
          8.969849246231155,
          9.045226130653266,
          9.120603015075377,
          9.195979899497488,
          9.271356783919597,
          9.346733668341708,
          9.422110552763819,
          9.497487437185928,
          9.572864321608039,
          9.64824120603015,
          9.72361809045226,
          9.798994974874372,
          9.874371859296481,
          9.949748743718592,
          10.025125628140703,
          10.100502512562812,
          10.175879396984923,
          10.251256281407034,
          10.326633165829145,
          10.402010050251256,
          10.477386934673365,
          10.552763819095476,
          10.628140703517587,
          10.703517587939697,
          10.778894472361808,
          10.854271356783919,
          10.92964824120603,
          11.00502512562814,
          11.08040201005025,
          11.15577889447236,
          11.231155778894472,
          11.306532663316581,
          11.381909547738692,
          11.457286432160803,
          11.532663316582914,
          11.608040201005025,
          11.683417085427134,
          11.758793969849245,
          11.834170854271356,
          11.909547738693465,
          11.984924623115576,
          12.060301507537687,
          12.135678391959798,
          12.21105527638191,
          12.286432160804019,
          12.36180904522613,
          12.43718592964824,
          12.51256281407035,
          12.58793969849246,
          12.663316582914572,
          12.738693467336683,
          12.814070351758794,
          12.889447236180903,
          12.964824120603014,
          13.040201005025125,
          13.115577889447234,
          13.190954773869345,
          13.266331658291456,
          13.341708542713567,
          13.417085427135678,
          13.492462311557787,
          13.567839195979898,
          13.64321608040201,
          13.718592964824118,
          13.79396984924623,
          13.86934673366834,
          13.944723618090451,
          14.020100502512562,
          14.095477386934672,
          14.170854271356783,
          14.246231155778894,
          14.321608040201003,
          14.396984924623114,
          14.472361809045225,
          14.547738693467336,
          14.623115577889447,
          14.698492462311556,
          14.773869346733667,
          14.849246231155778,
          14.924623115577887,
          15
         ],
         "xaxis": "x",
         "y": [
          0.04523867161289187,
          1.8712585287651358,
          1.047281134472959,
          4.101716482364727,
          -1.6179236657347023,
          0.801179470830729,
          -1.3397887883184567,
          -0.6825446673170932,
          0.10182823343640313,
          0.8576179711666565,
          1.2077596065903047,
          0.22723462571247977,
          -0.9729804688718509,
          1.6945719126895784,
          0.24344068589671175,
          4.157482112591779,
          5.196819399579889,
          1.995165507744172,
          3.321871551559506,
          3.363347260138217,
          2.712271900864919,
          1.447436300862086,
          3.3937099292582094,
          3.4890372952616406,
          -0.6446760313267532,
          4.392790841905638,
          2.9870576860826064,
          -0.5498538180224264,
          2.349386145725485,
          6.7033001479921515,
          3.899649585949559,
          7.450953117665265,
          4.47698646843323,
          6.832499878796543,
          6.868373483602253,
          0.9716365762176418,
          7.134228811353488,
          1.82429326995141,
          7.438918148097923,
          6.661190738300007,
          7.67351257469989,
          4.605561883089255,
          3.6714379182536483,
          7.279486742455456,
          8.539553940093782,
          5.6493011470228005,
          4.726401344388412,
          6.1284466450099355,
          7.680768493993518,
          6.676828182348126,
          9.991733961836381,
          8.206322132916432,
          7.632267773066449,
          4.803935787308694,
          7.660945444218204,
          5.799549259788298,
          7.877785651495782,
          9.757470147320396,
          9.938125399363642,
          8.332816627505714,
          9.377913574484277,
          9.18440057185563,
          8.121589038895848,
          9.797609038879488,
          12.246165929234566,
          7.24515053604742,
          9.022940467401623,
          10.164053464905779,
          10.915778186023713,
          12.821416410449485,
          10.169039612283154,
          10.354389038288113,
          9.751198843133462,
          10.981841857284854,
          10.156336826157077,
          10.340388428221107,
          10.00537018146317,
          8.916828581265191,
          11.707209401998801,
          12.665764619313153,
          8.756531443097613,
          10.336001209079416,
          13.127044094695794,
          14.848163895750904,
          8.24962154806385,
          16.320680930200243,
          14.825450651995975,
          10.900201941448474,
          13.123885020111755,
          13.962256981175347,
          11.092206477577168,
          15.674588502493993,
          15.160310718722583,
          17.27258343721574,
          14.908107236713677,
          15.124980290552422,
          16.846771055836538,
          17.5624597081755,
          12.725192533106862,
          14.756318444452605,
          15.174831777422785,
          14.259939374613964,
          13.557684230308372,
          14.90244551735282,
          18.269153398072266,
          14.883481900081554,
          15.631544281969123,
          17.665888905394752,
          17.09301899498572,
          16.6002165837024,
          15.52304400111041,
          16.785685787037412,
          16.148555199593183,
          16.054563710789402,
          14.48422879978982,
          16.37291464164197,
          17.23413438027667,
          15.523851645035807,
          14.191872865288467,
          17.46521901780584,
          16.954020364860416,
          18.37379073300872,
          15.71375765188192,
          20.120730073470362,
          19.39525918727681,
          19.143712530336167,
          17.0640710456113,
          17.122136933985566,
          21.023778367188402,
          17.591194623038106,
          24.051662509933887,
          18.808710670343924,
          22.173474224522984,
          20.050185331612077,
          20.49832310573528,
          21.013453351798447,
          22.22695603008738,
          20.355515408989355,
          19.6046597120662,
          19.960771131335672,
          18.921881705804566,
          21.83149497364292,
          21.142235670972198,
          18.223298236058337,
          22.280591641072483,
          26.17229378576145,
          23.197964425045285,
          17.953697688083206,
          21.177447806372943,
          21.444205419821635,
          22.789346630604516,
          25.188901455790166,
          26.81899708656291,
          22.303118353800976,
          23.652121353015055,
          20.186237576839147,
          22.3924805757657,
          21.57324930894781,
          24.06525584417382,
          25.19057564626406,
          24.10505720811497,
          24.738194278324297,
          22.097905359362827,
          22.660978013181204,
          27.75855203993125,
          24.123712460199965,
          26.52164870198596,
          26.20316585327438,
          24.62267715684125,
          26.504661394615283,
          25.335925095429953,
          25.948143526866573,
          25.661383553321837,
          25.76932325597964,
          24.04784370926775,
          26.96683833224836,
          28.77209828906205,
          23.900900237420906,
          28.179151820934138,
          24.49218466126347,
          26.261864341564376,
          28.709260033104293,
          30.103914449368858,
          26.99901741623637,
          26.10955878221573,
          32.55499135925805,
          24.044439715862804,
          33.34656226444864,
          28.810473845887493,
          31.363745216830164,
          28.0714901480074,
          28.29991165710155,
          28.48644035348643,
          29.17927605546845,
          31.394137471648687,
          28.865931110006855,
          29.15749998640091,
          29.4804647631604,
          31.49675703468665,
          30.316744820401777
         ],
         "yaxis": "y"
        },
        {
         "hovertemplate": "<b>OLS trendline</b><br>y = 2.03851 * x + -0.415623<br>R<sup>2</sup>=0.958253<br><br>x=%{x}<br>y=%{y} <b>(trend)</b><extra></extra>",
         "legendgroup": "",
         "marker": {
          "color": "#636efa",
          "symbol": "circle"
         },
         "mode": "lines",
         "name": "",
         "showlegend": false,
         "type": "scatter",
         "x": [
          0,
          0.07537688442211055,
          0.1507537688442211,
          0.22613065326633164,
          0.3015075376884422,
          0.37688442211055273,
          0.4522613065326633,
          0.5276381909547738,
          0.6030150753768844,
          0.6783919597989949,
          0.7537688442211055,
          0.829145728643216,
          0.9045226130653266,
          0.9798994974874371,
          1.0552763819095476,
          1.1306532663316582,
          1.2060301507537687,
          1.2814070351758793,
          1.3567839195979898,
          1.4321608040201004,
          1.507537688442211,
          1.5829145728643215,
          1.658291457286432,
          1.7336683417085426,
          1.809045226130653,
          1.8844221105527637,
          1.9597989949748742,
          2.0351758793969847,
          2.1105527638190953,
          2.185929648241206,
          2.2613065326633164,
          2.336683417085427,
          2.4120603015075375,
          2.487437185929648,
          2.5628140703517586,
          2.638190954773869,
          2.7135678391959797,
          2.78894472361809,
          2.8643216080402008,
          2.9396984924623113,
          3.015075376884422,
          3.0904522613065324,
          3.165829145728643,
          3.2412060301507535,
          3.316582914572864,
          3.3919597989949746,
          3.467336683417085,
          3.5427135678391957,
          3.618090452261306,
          3.6934673366834168,
          3.7688442211055273,
          3.844221105527638,
          3.9195979899497484,
          3.994974874371859,
          4.0703517587939695,
          4.14572864321608,
          4.221105527638191,
          4.296482412060302,
          4.371859296482412,
          4.447236180904522,
          4.522613065326633,
          4.597989949748744,
          4.673366834170854,
          4.748743718592964,
          4.824120603015075,
          4.899497487437186,
          4.974874371859296,
          5.050251256281406,
          5.125628140703517,
          5.201005025125628,
          5.276381909547738,
          5.351758793969848,
          5.427135678391959,
          5.50251256281407,
          5.57788944723618,
          5.6532663316582905,
          5.7286432160804015,
          5.8040201005025125,
          5.879396984924623,
          5.954773869346733,
          6.030150753768844,
          6.105527638190955,
          6.180904522613065,
          6.256281407035175,
          6.331658291457286,
          6.407035175879397,
          6.482412060301507,
          6.557788944723617,
          6.633165829145728,
          6.708542713567839,
          6.783919597989949,
          6.859296482412059,
          6.93467336683417,
          7.010050251256281,
          7.085427135678391,
          7.160804020100501,
          7.236180904522612,
          7.311557788944723,
          7.3869346733668335,
          7.462311557788944,
          7.537688442211055,
          7.613065326633166,
          7.688442211055276,
          7.763819095477386,
          7.839195979899497,
          7.914572864321608,
          7.989949748743718,
          8.065326633165828,
          8.140703517587939,
          8.21608040201005,
          8.29145728643216,
          8.36683417085427,
          8.442211055276381,
          8.517587939698492,
          8.592964824120603,
          8.668341708542712,
          8.743718592964823,
          8.819095477386934,
          8.894472361809044,
          8.969849246231155,
          9.045226130653266,
          9.120603015075377,
          9.195979899497488,
          9.271356783919597,
          9.346733668341708,
          9.422110552763819,
          9.497487437185928,
          9.572864321608039,
          9.64824120603015,
          9.72361809045226,
          9.798994974874372,
          9.874371859296481,
          9.949748743718592,
          10.025125628140703,
          10.100502512562812,
          10.175879396984923,
          10.251256281407034,
          10.326633165829145,
          10.402010050251256,
          10.477386934673365,
          10.552763819095476,
          10.628140703517587,
          10.703517587939697,
          10.778894472361808,
          10.854271356783919,
          10.92964824120603,
          11.00502512562814,
          11.08040201005025,
          11.15577889447236,
          11.231155778894472,
          11.306532663316581,
          11.381909547738692,
          11.457286432160803,
          11.532663316582914,
          11.608040201005025,
          11.683417085427134,
          11.758793969849245,
          11.834170854271356,
          11.909547738693465,
          11.984924623115576,
          12.060301507537687,
          12.135678391959798,
          12.21105527638191,
          12.286432160804019,
          12.36180904522613,
          12.43718592964824,
          12.51256281407035,
          12.58793969849246,
          12.663316582914572,
          12.738693467336683,
          12.814070351758794,
          12.889447236180903,
          12.964824120603014,
          13.040201005025125,
          13.115577889447234,
          13.190954773869345,
          13.266331658291456,
          13.341708542713567,
          13.417085427135678,
          13.492462311557787,
          13.567839195979898,
          13.64321608040201,
          13.718592964824118,
          13.79396984924623,
          13.86934673366834,
          13.944723618090451,
          14.020100502512562,
          14.095477386934672,
          14.170854271356783,
          14.246231155778894,
          14.321608040201003,
          14.396984924623114,
          14.472361809045225,
          14.547738693467336,
          14.623115577889447,
          14.698492462311556,
          14.773869346733667,
          14.849246231155778,
          14.924623115577887,
          15
         ],
         "xaxis": "x",
         "y": [
          -0.415622669592451,
          -0.26196578764767076,
          -0.10830890570289059,
          0.045347976241889576,
          0.1990048581866698,
          0.35266174013145,
          0.5063186220762301,
          0.6599755040210105,
          0.8136323859657906,
          0.9672892679105707,
          1.120946149855351,
          1.2746030318001311,
          1.4282599137449112,
          1.5819167956896916,
          1.735573677634472,
          1.889230559579252,
          2.042887441524032,
          2.196544323468812,
          2.350201205413592,
          2.5038580873583722,
          2.6575149693031532,
          2.8111718512479333,
          2.9648287331927135,
          3.1184856151374936,
          3.2721424970822737,
          3.425799379027054,
          3.579456260971834,
          3.733113142916614,
          3.886770024861395,
          4.040426906806175,
          4.194083788750955,
          4.347740670695735,
          4.501397552640515,
          4.6550544345852956,
          4.808711316530076,
          4.962368198474856,
          5.116025080419636,
          5.269681962364416,
          5.423338844309196,
          5.576995726253977,
          5.730652608198757,
          5.884309490143537,
          6.037966372088317,
          6.1916232540330975,
          6.345280135977878,
          6.498937017922658,
          6.652593899867438,
          6.806250781812218,
          6.959907663756998,
          7.113564545701778,
          7.267221427646559,
          7.420878309591339,
          7.574535191536119,
          7.728192073480899,
          7.881848955425679,
          8.035505837370458,
          8.18916271931524,
          8.34281960126002,
          8.4964764832048,
          8.650133365149578,
          8.80379024709436,
          8.95744712903914,
          9.11110401098392,
          9.264760892928699,
          9.41841777487348,
          9.57207465681826,
          9.725731538763041,
          9.879388420707821,
          10.033045302652601,
          10.186702184597383,
          10.340359066542161,
          10.494015948486942,
          10.647672830431722,
          10.801329712376504,
          10.954986594321282,
          11.108643476266062,
          11.262300358210842,
          11.415957240155624,
          11.569614122100404,
          11.723271004045182,
          11.876927885989964,
          12.030584767934744,
          12.184241649879525,
          12.337898531824303,
          12.491555413769085,
          12.645212295713865,
          12.798869177658645,
          12.952526059603423,
          13.106182941548205,
          13.259839823492987,
          13.413496705437765,
          13.567153587382546,
          13.720810469327326,
          13.874467351272108,
          14.028124233216886,
          14.181781115161666,
          14.335437997106446,
          14.489094879051228,
          14.642751760996006,
          14.796408642940786,
          14.950065524885568,
          15.103722406830348,
          15.257379288775129,
          15.411036170719907,
          15.564693052664689,
          15.71834993460947,
          15.872006816554247,
          16.025663698499027,
          16.179320580443807,
          16.33297746238859,
          16.486634344333368,
          16.640291226278148,
          16.79394810822293,
          16.94760499016771,
          17.10126187211249,
          17.254918754057268,
          17.408575636002052,
          17.562232517946832,
          17.71588939989161,
          17.86954628183639,
          18.023203163781172,
          18.176860045725952,
          18.330516927670732,
          18.484173809615513,
          18.637830691560293,
          18.791487573505073,
          18.94514445544985,
          19.098801337394633,
          19.252458219339413,
          19.406115101284193,
          19.559771983228973,
          19.713428865173753,
          19.867085747118534,
          20.020742629063314,
          20.174399511008094,
          20.328056392952874,
          20.481713274897654,
          20.635370156842434,
          20.789027038787218,
          20.942683920731994,
          21.096340802676774,
          21.249997684621555,
          21.403654566566335,
          21.557311448511115,
          21.710968330455895,
          21.86462521240068,
          22.01828209434546,
          22.171938976290235,
          22.325595858235015,
          22.4792527401798,
          22.632909622124576,
          22.786566504069356,
          22.940223386014136,
          23.09388026795892,
          23.2475371499037,
          23.401194031848476,
          23.55485091379326,
          23.70850779573804,
          23.862164677682816,
          24.015821559627597,
          24.16947844157238,
          24.32313532351716,
          24.47679220546194,
          24.630449087406717,
          24.7841059693515,
          24.93776285129628,
          25.091419733241057,
          25.24507661518584,
          25.39873349713062,
          25.5523903790754,
          25.70604726102018,
          25.85970414296496,
          26.01336102490974,
          26.16701790685452,
          26.3206747887993,
          26.474331670744082,
          26.627988552688862,
          26.781645434633642,
          26.935302316578426,
          27.088959198523202,
          27.242616080467982,
          27.396272962412763,
          27.549929844357543,
          27.703586726302323,
          27.857243608247103,
          28.010900490191883,
          28.164557372136667,
          28.318214254081443,
          28.471871136026223,
          28.625528017971007,
          28.779184899915784,
          28.932841781860564,
          29.086498663805344,
          29.240155545750127,
          29.393812427694908,
          29.547469309639684,
          29.701126191584464,
          29.854783073529248,
          30.008439955474024,
          30.162096837418808
         ],
         "yaxis": "y"
        }
       ],
       "layout": {
        "height": 600,
        "legend": {
         "tracegroupgap": 0
        },
        "template": {
         "data": {
          "bar": [
           {
            "error_x": {
             "color": "#2a3f5f"
            },
            "error_y": {
             "color": "#2a3f5f"
            },
            "marker": {
             "line": {
              "color": "#E5ECF6",
              "width": 0.5
             },
             "pattern": {
              "fillmode": "overlay",
              "size": 10,
              "solidity": 0.2
             }
            },
            "type": "bar"
           }
          ],
          "barpolar": [
           {
            "marker": {
             "line": {
              "color": "#E5ECF6",
              "width": 0.5
             },
             "pattern": {
              "fillmode": "overlay",
              "size": 10,
              "solidity": 0.2
             }
            },
            "type": "barpolar"
           }
          ],
          "carpet": [
           {
            "aaxis": {
             "endlinecolor": "#2a3f5f",
             "gridcolor": "white",
             "linecolor": "white",
             "minorgridcolor": "white",
             "startlinecolor": "#2a3f5f"
            },
            "baxis": {
             "endlinecolor": "#2a3f5f",
             "gridcolor": "white",
             "linecolor": "white",
             "minorgridcolor": "white",
             "startlinecolor": "#2a3f5f"
            },
            "type": "carpet"
           }
          ],
          "choropleth": [
           {
            "colorbar": {
             "outlinewidth": 0,
             "ticks": ""
            },
            "type": "choropleth"
           }
          ],
          "contour": [
           {
            "colorbar": {
             "outlinewidth": 0,
             "ticks": ""
            },
            "colorscale": [
             [
              0,
              "#0d0887"
             ],
             [
              0.1111111111111111,
              "#46039f"
             ],
             [
              0.2222222222222222,
              "#7201a8"
             ],
             [
              0.3333333333333333,
              "#9c179e"
             ],
             [
              0.4444444444444444,
              "#bd3786"
             ],
             [
              0.5555555555555556,
              "#d8576b"
             ],
             [
              0.6666666666666666,
              "#ed7953"
             ],
             [
              0.7777777777777778,
              "#fb9f3a"
             ],
             [
              0.8888888888888888,
              "#fdca26"
             ],
             [
              1,
              "#f0f921"
             ]
            ],
            "type": "contour"
           }
          ],
          "contourcarpet": [
           {
            "colorbar": {
             "outlinewidth": 0,
             "ticks": ""
            },
            "type": "contourcarpet"
           }
          ],
          "heatmap": [
           {
            "colorbar": {
             "outlinewidth": 0,
             "ticks": ""
            },
            "colorscale": [
             [
              0,
              "#0d0887"
             ],
             [
              0.1111111111111111,
              "#46039f"
             ],
             [
              0.2222222222222222,
              "#7201a8"
             ],
             [
              0.3333333333333333,
              "#9c179e"
             ],
             [
              0.4444444444444444,
              "#bd3786"
             ],
             [
              0.5555555555555556,
              "#d8576b"
             ],
             [
              0.6666666666666666,
              "#ed7953"
             ],
             [
              0.7777777777777778,
              "#fb9f3a"
             ],
             [
              0.8888888888888888,
              "#fdca26"
             ],
             [
              1,
              "#f0f921"
             ]
            ],
            "type": "heatmap"
           }
          ],
          "heatmapgl": [
           {
            "colorbar": {
             "outlinewidth": 0,
             "ticks": ""
            },
            "colorscale": [
             [
              0,
              "#0d0887"
             ],
             [
              0.1111111111111111,
              "#46039f"
             ],
             [
              0.2222222222222222,
              "#7201a8"
             ],
             [
              0.3333333333333333,
              "#9c179e"
             ],
             [
              0.4444444444444444,
              "#bd3786"
             ],
             [
              0.5555555555555556,
              "#d8576b"
             ],
             [
              0.6666666666666666,
              "#ed7953"
             ],
             [
              0.7777777777777778,
              "#fb9f3a"
             ],
             [
              0.8888888888888888,
              "#fdca26"
             ],
             [
              1,
              "#f0f921"
             ]
            ],
            "type": "heatmapgl"
           }
          ],
          "histogram": [
           {
            "marker": {
             "pattern": {
              "fillmode": "overlay",
              "size": 10,
              "solidity": 0.2
             }
            },
            "type": "histogram"
           }
          ],
          "histogram2d": [
           {
            "colorbar": {
             "outlinewidth": 0,
             "ticks": ""
            },
            "colorscale": [
             [
              0,
              "#0d0887"
             ],
             [
              0.1111111111111111,
              "#46039f"
             ],
             [
              0.2222222222222222,
              "#7201a8"
             ],
             [
              0.3333333333333333,
              "#9c179e"
             ],
             [
              0.4444444444444444,
              "#bd3786"
             ],
             [
              0.5555555555555556,
              "#d8576b"
             ],
             [
              0.6666666666666666,
              "#ed7953"
             ],
             [
              0.7777777777777778,
              "#fb9f3a"
             ],
             [
              0.8888888888888888,
              "#fdca26"
             ],
             [
              1,
              "#f0f921"
             ]
            ],
            "type": "histogram2d"
           }
          ],
          "histogram2dcontour": [
           {
            "colorbar": {
             "outlinewidth": 0,
             "ticks": ""
            },
            "colorscale": [
             [
              0,
              "#0d0887"
             ],
             [
              0.1111111111111111,
              "#46039f"
             ],
             [
              0.2222222222222222,
              "#7201a8"
             ],
             [
              0.3333333333333333,
              "#9c179e"
             ],
             [
              0.4444444444444444,
              "#bd3786"
             ],
             [
              0.5555555555555556,
              "#d8576b"
             ],
             [
              0.6666666666666666,
              "#ed7953"
             ],
             [
              0.7777777777777778,
              "#fb9f3a"
             ],
             [
              0.8888888888888888,
              "#fdca26"
             ],
             [
              1,
              "#f0f921"
             ]
            ],
            "type": "histogram2dcontour"
           }
          ],
          "mesh3d": [
           {
            "colorbar": {
             "outlinewidth": 0,
             "ticks": ""
            },
            "type": "mesh3d"
           }
          ],
          "parcoords": [
           {
            "line": {
             "colorbar": {
              "outlinewidth": 0,
              "ticks": ""
             }
            },
            "type": "parcoords"
           }
          ],
          "pie": [
           {
            "automargin": true,
            "type": "pie"
           }
          ],
          "scatter": [
           {
            "fillpattern": {
             "fillmode": "overlay",
             "size": 10,
             "solidity": 0.2
            },
            "type": "scatter"
           }
          ],
          "scatter3d": [
           {
            "line": {
             "colorbar": {
              "outlinewidth": 0,
              "ticks": ""
             }
            },
            "marker": {
             "colorbar": {
              "outlinewidth": 0,
              "ticks": ""
             }
            },
            "type": "scatter3d"
           }
          ],
          "scattercarpet": [
           {
            "marker": {
             "colorbar": {
              "outlinewidth": 0,
              "ticks": ""
             }
            },
            "type": "scattercarpet"
           }
          ],
          "scattergeo": [
           {
            "marker": {
             "colorbar": {
              "outlinewidth": 0,
              "ticks": ""
             }
            },
            "type": "scattergeo"
           }
          ],
          "scattergl": [
           {
            "marker": {
             "colorbar": {
              "outlinewidth": 0,
              "ticks": ""
             }
            },
            "type": "scattergl"
           }
          ],
          "scattermapbox": [
           {
            "marker": {
             "colorbar": {
              "outlinewidth": 0,
              "ticks": ""
             }
            },
            "type": "scattermapbox"
           }
          ],
          "scatterpolar": [
           {
            "marker": {
             "colorbar": {
              "outlinewidth": 0,
              "ticks": ""
             }
            },
            "type": "scatterpolar"
           }
          ],
          "scatterpolargl": [
           {
            "marker": {
             "colorbar": {
              "outlinewidth": 0,
              "ticks": ""
             }
            },
            "type": "scatterpolargl"
           }
          ],
          "scatterternary": [
           {
            "marker": {
             "colorbar": {
              "outlinewidth": 0,
              "ticks": ""
             }
            },
            "type": "scatterternary"
           }
          ],
          "surface": [
           {
            "colorbar": {
             "outlinewidth": 0,
             "ticks": ""
            },
            "colorscale": [
             [
              0,
              "#0d0887"
             ],
             [
              0.1111111111111111,
              "#46039f"
             ],
             [
              0.2222222222222222,
              "#7201a8"
             ],
             [
              0.3333333333333333,
              "#9c179e"
             ],
             [
              0.4444444444444444,
              "#bd3786"
             ],
             [
              0.5555555555555556,
              "#d8576b"
             ],
             [
              0.6666666666666666,
              "#ed7953"
             ],
             [
              0.7777777777777778,
              "#fb9f3a"
             ],
             [
              0.8888888888888888,
              "#fdca26"
             ],
             [
              1,
              "#f0f921"
             ]
            ],
            "type": "surface"
           }
          ],
          "table": [
           {
            "cells": {
             "fill": {
              "color": "#EBF0F8"
             },
             "line": {
              "color": "white"
             }
            },
            "header": {
             "fill": {
              "color": "#C8D4E3"
             },
             "line": {
              "color": "white"
             }
            },
            "type": "table"
           }
          ]
         },
         "layout": {
          "annotationdefaults": {
           "arrowcolor": "#2a3f5f",
           "arrowhead": 0,
           "arrowwidth": 1
          },
          "autotypenumbers": "strict",
          "coloraxis": {
           "colorbar": {
            "outlinewidth": 0,
            "ticks": ""
           }
          },
          "colorscale": {
           "diverging": [
            [
             0,
             "#8e0152"
            ],
            [
             0.1,
             "#c51b7d"
            ],
            [
             0.2,
             "#de77ae"
            ],
            [
             0.3,
             "#f1b6da"
            ],
            [
             0.4,
             "#fde0ef"
            ],
            [
             0.5,
             "#f7f7f7"
            ],
            [
             0.6,
             "#e6f5d0"
            ],
            [
             0.7,
             "#b8e186"
            ],
            [
             0.8,
             "#7fbc41"
            ],
            [
             0.9,
             "#4d9221"
            ],
            [
             1,
             "#276419"
            ]
           ],
           "sequential": [
            [
             0,
             "#0d0887"
            ],
            [
             0.1111111111111111,
             "#46039f"
            ],
            [
             0.2222222222222222,
             "#7201a8"
            ],
            [
             0.3333333333333333,
             "#9c179e"
            ],
            [
             0.4444444444444444,
             "#bd3786"
            ],
            [
             0.5555555555555556,
             "#d8576b"
            ],
            [
             0.6666666666666666,
             "#ed7953"
            ],
            [
             0.7777777777777778,
             "#fb9f3a"
            ],
            [
             0.8888888888888888,
             "#fdca26"
            ],
            [
             1,
             "#f0f921"
            ]
           ],
           "sequentialminus": [
            [
             0,
             "#0d0887"
            ],
            [
             0.1111111111111111,
             "#46039f"
            ],
            [
             0.2222222222222222,
             "#7201a8"
            ],
            [
             0.3333333333333333,
             "#9c179e"
            ],
            [
             0.4444444444444444,
             "#bd3786"
            ],
            [
             0.5555555555555556,
             "#d8576b"
            ],
            [
             0.6666666666666666,
             "#ed7953"
            ],
            [
             0.7777777777777778,
             "#fb9f3a"
            ],
            [
             0.8888888888888888,
             "#fdca26"
            ],
            [
             1,
             "#f0f921"
            ]
           ]
          },
          "colorway": [
           "#636efa",
           "#EF553B",
           "#00cc96",
           "#ab63fa",
           "#FFA15A",
           "#19d3f3",
           "#FF6692",
           "#B6E880",
           "#FF97FF",
           "#FECB52"
          ],
          "font": {
           "color": "#2a3f5f"
          },
          "geo": {
           "bgcolor": "white",
           "lakecolor": "white",
           "landcolor": "#E5ECF6",
           "showlakes": true,
           "showland": true,
           "subunitcolor": "white"
          },
          "hoverlabel": {
           "align": "left"
          },
          "hovermode": "closest",
          "mapbox": {
           "style": "light"
          },
          "paper_bgcolor": "white",
          "plot_bgcolor": "#E5ECF6",
          "polar": {
           "angularaxis": {
            "gridcolor": "white",
            "linecolor": "white",
            "ticks": ""
           },
           "bgcolor": "#E5ECF6",
           "radialaxis": {
            "gridcolor": "white",
            "linecolor": "white",
            "ticks": ""
           }
          },
          "scene": {
           "xaxis": {
            "backgroundcolor": "#E5ECF6",
            "gridcolor": "white",
            "gridwidth": 2,
            "linecolor": "white",
            "showbackground": true,
            "ticks": "",
            "zerolinecolor": "white"
           },
           "yaxis": {
            "backgroundcolor": "#E5ECF6",
            "gridcolor": "white",
            "gridwidth": 2,
            "linecolor": "white",
            "showbackground": true,
            "ticks": "",
            "zerolinecolor": "white"
           },
           "zaxis": {
            "backgroundcolor": "#E5ECF6",
            "gridcolor": "white",
            "gridwidth": 2,
            "linecolor": "white",
            "showbackground": true,
            "ticks": "",
            "zerolinecolor": "white"
           }
          },
          "shapedefaults": {
           "line": {
            "color": "#2a3f5f"
           }
          },
          "ternary": {
           "aaxis": {
            "gridcolor": "white",
            "linecolor": "white",
            "ticks": ""
           },
           "baxis": {
            "gridcolor": "white",
            "linecolor": "white",
            "ticks": ""
           },
           "bgcolor": "#E5ECF6",
           "caxis": {
            "gridcolor": "white",
            "linecolor": "white",
            "ticks": ""
           }
          },
          "title": {
           "x": 0.05
          },
          "xaxis": {
           "automargin": true,
           "gridcolor": "white",
           "linecolor": "white",
           "ticks": "",
           "title": {
            "standoff": 15
           },
           "zerolinecolor": "white",
           "zerolinewidth": 2
          },
          "yaxis": {
           "automargin": true,
           "gridcolor": "white",
           "linecolor": "white",
           "ticks": "",
           "title": {
            "standoff": 15
           },
           "zerolinecolor": "white",
           "zerolinewidth": 2
          }
         }
        },
        "title": {
         "text": "Scatter with OLS trend line"
        },
        "width": 800,
        "xaxis": {
         "anchor": "y",
         "domain": [
          0,
          1
         ],
         "title": {
          "text": "x"
         }
        },
        "yaxis": {
         "anchor": "x",
         "domain": [
          0,
          1
         ],
         "title": {
          "text": "y"
         }
        }
       }
      }
     },
     "metadata": {},
     "output_type": "display_data"
    }
   ],
   "source": [
    "fig = px.scatter(df, x='x', y ='y', \n",
    "                 trendline=\"ols\",\n",
    "                 height=600, width=800,\n",
    "                 title='Scatter with OLS trend line')\n",
    "fig.show()"
   ]
  },
  {
   "cell_type": "markdown",
   "metadata": {},
   "source": [
    "4. Change the color of the trend line by using `trendline_color_overrride`"
   ]
  },
  {
   "cell_type": "code",
   "execution_count": 9,
   "metadata": {},
   "outputs": [
    {
     "data": {
      "application/vnd.plotly.v1+json": {
       "config": {
        "plotlyServerURL": "https://plot.ly"
       },
       "data": [
        {
         "hovertemplate": "x=%{x}<br>y=%{y}<extra></extra>",
         "legendgroup": "",
         "marker": {
          "color": "#636efa",
          "symbol": "circle"
         },
         "mode": "markers",
         "name": "",
         "orientation": "v",
         "showlegend": false,
         "type": "scatter",
         "x": [
          0,
          0.07537688442211055,
          0.1507537688442211,
          0.22613065326633164,
          0.3015075376884422,
          0.37688442211055273,
          0.4522613065326633,
          0.5276381909547738,
          0.6030150753768844,
          0.6783919597989949,
          0.7537688442211055,
          0.829145728643216,
          0.9045226130653266,
          0.9798994974874371,
          1.0552763819095476,
          1.1306532663316582,
          1.2060301507537687,
          1.2814070351758793,
          1.3567839195979898,
          1.4321608040201004,
          1.507537688442211,
          1.5829145728643215,
          1.658291457286432,
          1.7336683417085426,
          1.809045226130653,
          1.8844221105527637,
          1.9597989949748742,
          2.0351758793969847,
          2.1105527638190953,
          2.185929648241206,
          2.2613065326633164,
          2.336683417085427,
          2.4120603015075375,
          2.487437185929648,
          2.5628140703517586,
          2.638190954773869,
          2.7135678391959797,
          2.78894472361809,
          2.8643216080402008,
          2.9396984924623113,
          3.015075376884422,
          3.0904522613065324,
          3.165829145728643,
          3.2412060301507535,
          3.316582914572864,
          3.3919597989949746,
          3.467336683417085,
          3.5427135678391957,
          3.618090452261306,
          3.6934673366834168,
          3.7688442211055273,
          3.844221105527638,
          3.9195979899497484,
          3.994974874371859,
          4.0703517587939695,
          4.14572864321608,
          4.221105527638191,
          4.296482412060302,
          4.371859296482412,
          4.447236180904522,
          4.522613065326633,
          4.597989949748744,
          4.673366834170854,
          4.748743718592964,
          4.824120603015075,
          4.899497487437186,
          4.974874371859296,
          5.050251256281406,
          5.125628140703517,
          5.201005025125628,
          5.276381909547738,
          5.351758793969848,
          5.427135678391959,
          5.50251256281407,
          5.57788944723618,
          5.6532663316582905,
          5.7286432160804015,
          5.8040201005025125,
          5.879396984924623,
          5.954773869346733,
          6.030150753768844,
          6.105527638190955,
          6.180904522613065,
          6.256281407035175,
          6.331658291457286,
          6.407035175879397,
          6.482412060301507,
          6.557788944723617,
          6.633165829145728,
          6.708542713567839,
          6.783919597989949,
          6.859296482412059,
          6.93467336683417,
          7.010050251256281,
          7.085427135678391,
          7.160804020100501,
          7.236180904522612,
          7.311557788944723,
          7.3869346733668335,
          7.462311557788944,
          7.537688442211055,
          7.613065326633166,
          7.688442211055276,
          7.763819095477386,
          7.839195979899497,
          7.914572864321608,
          7.989949748743718,
          8.065326633165828,
          8.140703517587939,
          8.21608040201005,
          8.29145728643216,
          8.36683417085427,
          8.442211055276381,
          8.517587939698492,
          8.592964824120603,
          8.668341708542712,
          8.743718592964823,
          8.819095477386934,
          8.894472361809044,
          8.969849246231155,
          9.045226130653266,
          9.120603015075377,
          9.195979899497488,
          9.271356783919597,
          9.346733668341708,
          9.422110552763819,
          9.497487437185928,
          9.572864321608039,
          9.64824120603015,
          9.72361809045226,
          9.798994974874372,
          9.874371859296481,
          9.949748743718592,
          10.025125628140703,
          10.100502512562812,
          10.175879396984923,
          10.251256281407034,
          10.326633165829145,
          10.402010050251256,
          10.477386934673365,
          10.552763819095476,
          10.628140703517587,
          10.703517587939697,
          10.778894472361808,
          10.854271356783919,
          10.92964824120603,
          11.00502512562814,
          11.08040201005025,
          11.15577889447236,
          11.231155778894472,
          11.306532663316581,
          11.381909547738692,
          11.457286432160803,
          11.532663316582914,
          11.608040201005025,
          11.683417085427134,
          11.758793969849245,
          11.834170854271356,
          11.909547738693465,
          11.984924623115576,
          12.060301507537687,
          12.135678391959798,
          12.21105527638191,
          12.286432160804019,
          12.36180904522613,
          12.43718592964824,
          12.51256281407035,
          12.58793969849246,
          12.663316582914572,
          12.738693467336683,
          12.814070351758794,
          12.889447236180903,
          12.964824120603014,
          13.040201005025125,
          13.115577889447234,
          13.190954773869345,
          13.266331658291456,
          13.341708542713567,
          13.417085427135678,
          13.492462311557787,
          13.567839195979898,
          13.64321608040201,
          13.718592964824118,
          13.79396984924623,
          13.86934673366834,
          13.944723618090451,
          14.020100502512562,
          14.095477386934672,
          14.170854271356783,
          14.246231155778894,
          14.321608040201003,
          14.396984924623114,
          14.472361809045225,
          14.547738693467336,
          14.623115577889447,
          14.698492462311556,
          14.773869346733667,
          14.849246231155778,
          14.924623115577887,
          15
         ],
         "xaxis": "x",
         "y": [
          0.04523867161289187,
          1.8712585287651358,
          1.047281134472959,
          4.101716482364727,
          -1.6179236657347023,
          0.801179470830729,
          -1.3397887883184567,
          -0.6825446673170932,
          0.10182823343640313,
          0.8576179711666565,
          1.2077596065903047,
          0.22723462571247977,
          -0.9729804688718509,
          1.6945719126895784,
          0.24344068589671175,
          4.157482112591779,
          5.196819399579889,
          1.995165507744172,
          3.321871551559506,
          3.363347260138217,
          2.712271900864919,
          1.447436300862086,
          3.3937099292582094,
          3.4890372952616406,
          -0.6446760313267532,
          4.392790841905638,
          2.9870576860826064,
          -0.5498538180224264,
          2.349386145725485,
          6.7033001479921515,
          3.899649585949559,
          7.450953117665265,
          4.47698646843323,
          6.832499878796543,
          6.868373483602253,
          0.9716365762176418,
          7.134228811353488,
          1.82429326995141,
          7.438918148097923,
          6.661190738300007,
          7.67351257469989,
          4.605561883089255,
          3.6714379182536483,
          7.279486742455456,
          8.539553940093782,
          5.6493011470228005,
          4.726401344388412,
          6.1284466450099355,
          7.680768493993518,
          6.676828182348126,
          9.991733961836381,
          8.206322132916432,
          7.632267773066449,
          4.803935787308694,
          7.660945444218204,
          5.799549259788298,
          7.877785651495782,
          9.757470147320396,
          9.938125399363642,
          8.332816627505714,
          9.377913574484277,
          9.18440057185563,
          8.121589038895848,
          9.797609038879488,
          12.246165929234566,
          7.24515053604742,
          9.022940467401623,
          10.164053464905779,
          10.915778186023713,
          12.821416410449485,
          10.169039612283154,
          10.354389038288113,
          9.751198843133462,
          10.981841857284854,
          10.156336826157077,
          10.340388428221107,
          10.00537018146317,
          8.916828581265191,
          11.707209401998801,
          12.665764619313153,
          8.756531443097613,
          10.336001209079416,
          13.127044094695794,
          14.848163895750904,
          8.24962154806385,
          16.320680930200243,
          14.825450651995975,
          10.900201941448474,
          13.123885020111755,
          13.962256981175347,
          11.092206477577168,
          15.674588502493993,
          15.160310718722583,
          17.27258343721574,
          14.908107236713677,
          15.124980290552422,
          16.846771055836538,
          17.5624597081755,
          12.725192533106862,
          14.756318444452605,
          15.174831777422785,
          14.259939374613964,
          13.557684230308372,
          14.90244551735282,
          18.269153398072266,
          14.883481900081554,
          15.631544281969123,
          17.665888905394752,
          17.09301899498572,
          16.6002165837024,
          15.52304400111041,
          16.785685787037412,
          16.148555199593183,
          16.054563710789402,
          14.48422879978982,
          16.37291464164197,
          17.23413438027667,
          15.523851645035807,
          14.191872865288467,
          17.46521901780584,
          16.954020364860416,
          18.37379073300872,
          15.71375765188192,
          20.120730073470362,
          19.39525918727681,
          19.143712530336167,
          17.0640710456113,
          17.122136933985566,
          21.023778367188402,
          17.591194623038106,
          24.051662509933887,
          18.808710670343924,
          22.173474224522984,
          20.050185331612077,
          20.49832310573528,
          21.013453351798447,
          22.22695603008738,
          20.355515408989355,
          19.6046597120662,
          19.960771131335672,
          18.921881705804566,
          21.83149497364292,
          21.142235670972198,
          18.223298236058337,
          22.280591641072483,
          26.17229378576145,
          23.197964425045285,
          17.953697688083206,
          21.177447806372943,
          21.444205419821635,
          22.789346630604516,
          25.188901455790166,
          26.81899708656291,
          22.303118353800976,
          23.652121353015055,
          20.186237576839147,
          22.3924805757657,
          21.57324930894781,
          24.06525584417382,
          25.19057564626406,
          24.10505720811497,
          24.738194278324297,
          22.097905359362827,
          22.660978013181204,
          27.75855203993125,
          24.123712460199965,
          26.52164870198596,
          26.20316585327438,
          24.62267715684125,
          26.504661394615283,
          25.335925095429953,
          25.948143526866573,
          25.661383553321837,
          25.76932325597964,
          24.04784370926775,
          26.96683833224836,
          28.77209828906205,
          23.900900237420906,
          28.179151820934138,
          24.49218466126347,
          26.261864341564376,
          28.709260033104293,
          30.103914449368858,
          26.99901741623637,
          26.10955878221573,
          32.55499135925805,
          24.044439715862804,
          33.34656226444864,
          28.810473845887493,
          31.363745216830164,
          28.0714901480074,
          28.29991165710155,
          28.48644035348643,
          29.17927605546845,
          31.394137471648687,
          28.865931110006855,
          29.15749998640091,
          29.4804647631604,
          31.49675703468665,
          30.316744820401777
         ],
         "yaxis": "y"
        },
        {
         "hovertemplate": "<b>OLS trendline</b><br>y = 2.03851 * x + -0.415623<br>R<sup>2</sup>=0.958253<br><br>x=%{x}<br>y=%{y} <b>(trend)</b><extra></extra>",
         "legendgroup": "",
         "line": {
          "color": "red"
         },
         "marker": {
          "color": "#636efa",
          "symbol": "circle"
         },
         "mode": "lines",
         "name": "",
         "showlegend": false,
         "type": "scatter",
         "x": [
          0,
          0.07537688442211055,
          0.1507537688442211,
          0.22613065326633164,
          0.3015075376884422,
          0.37688442211055273,
          0.4522613065326633,
          0.5276381909547738,
          0.6030150753768844,
          0.6783919597989949,
          0.7537688442211055,
          0.829145728643216,
          0.9045226130653266,
          0.9798994974874371,
          1.0552763819095476,
          1.1306532663316582,
          1.2060301507537687,
          1.2814070351758793,
          1.3567839195979898,
          1.4321608040201004,
          1.507537688442211,
          1.5829145728643215,
          1.658291457286432,
          1.7336683417085426,
          1.809045226130653,
          1.8844221105527637,
          1.9597989949748742,
          2.0351758793969847,
          2.1105527638190953,
          2.185929648241206,
          2.2613065326633164,
          2.336683417085427,
          2.4120603015075375,
          2.487437185929648,
          2.5628140703517586,
          2.638190954773869,
          2.7135678391959797,
          2.78894472361809,
          2.8643216080402008,
          2.9396984924623113,
          3.015075376884422,
          3.0904522613065324,
          3.165829145728643,
          3.2412060301507535,
          3.316582914572864,
          3.3919597989949746,
          3.467336683417085,
          3.5427135678391957,
          3.618090452261306,
          3.6934673366834168,
          3.7688442211055273,
          3.844221105527638,
          3.9195979899497484,
          3.994974874371859,
          4.0703517587939695,
          4.14572864321608,
          4.221105527638191,
          4.296482412060302,
          4.371859296482412,
          4.447236180904522,
          4.522613065326633,
          4.597989949748744,
          4.673366834170854,
          4.748743718592964,
          4.824120603015075,
          4.899497487437186,
          4.974874371859296,
          5.050251256281406,
          5.125628140703517,
          5.201005025125628,
          5.276381909547738,
          5.351758793969848,
          5.427135678391959,
          5.50251256281407,
          5.57788944723618,
          5.6532663316582905,
          5.7286432160804015,
          5.8040201005025125,
          5.879396984924623,
          5.954773869346733,
          6.030150753768844,
          6.105527638190955,
          6.180904522613065,
          6.256281407035175,
          6.331658291457286,
          6.407035175879397,
          6.482412060301507,
          6.557788944723617,
          6.633165829145728,
          6.708542713567839,
          6.783919597989949,
          6.859296482412059,
          6.93467336683417,
          7.010050251256281,
          7.085427135678391,
          7.160804020100501,
          7.236180904522612,
          7.311557788944723,
          7.3869346733668335,
          7.462311557788944,
          7.537688442211055,
          7.613065326633166,
          7.688442211055276,
          7.763819095477386,
          7.839195979899497,
          7.914572864321608,
          7.989949748743718,
          8.065326633165828,
          8.140703517587939,
          8.21608040201005,
          8.29145728643216,
          8.36683417085427,
          8.442211055276381,
          8.517587939698492,
          8.592964824120603,
          8.668341708542712,
          8.743718592964823,
          8.819095477386934,
          8.894472361809044,
          8.969849246231155,
          9.045226130653266,
          9.120603015075377,
          9.195979899497488,
          9.271356783919597,
          9.346733668341708,
          9.422110552763819,
          9.497487437185928,
          9.572864321608039,
          9.64824120603015,
          9.72361809045226,
          9.798994974874372,
          9.874371859296481,
          9.949748743718592,
          10.025125628140703,
          10.100502512562812,
          10.175879396984923,
          10.251256281407034,
          10.326633165829145,
          10.402010050251256,
          10.477386934673365,
          10.552763819095476,
          10.628140703517587,
          10.703517587939697,
          10.778894472361808,
          10.854271356783919,
          10.92964824120603,
          11.00502512562814,
          11.08040201005025,
          11.15577889447236,
          11.231155778894472,
          11.306532663316581,
          11.381909547738692,
          11.457286432160803,
          11.532663316582914,
          11.608040201005025,
          11.683417085427134,
          11.758793969849245,
          11.834170854271356,
          11.909547738693465,
          11.984924623115576,
          12.060301507537687,
          12.135678391959798,
          12.21105527638191,
          12.286432160804019,
          12.36180904522613,
          12.43718592964824,
          12.51256281407035,
          12.58793969849246,
          12.663316582914572,
          12.738693467336683,
          12.814070351758794,
          12.889447236180903,
          12.964824120603014,
          13.040201005025125,
          13.115577889447234,
          13.190954773869345,
          13.266331658291456,
          13.341708542713567,
          13.417085427135678,
          13.492462311557787,
          13.567839195979898,
          13.64321608040201,
          13.718592964824118,
          13.79396984924623,
          13.86934673366834,
          13.944723618090451,
          14.020100502512562,
          14.095477386934672,
          14.170854271356783,
          14.246231155778894,
          14.321608040201003,
          14.396984924623114,
          14.472361809045225,
          14.547738693467336,
          14.623115577889447,
          14.698492462311556,
          14.773869346733667,
          14.849246231155778,
          14.924623115577887,
          15
         ],
         "xaxis": "x",
         "y": [
          -0.415622669592451,
          -0.26196578764767076,
          -0.10830890570289059,
          0.045347976241889576,
          0.1990048581866698,
          0.35266174013145,
          0.5063186220762301,
          0.6599755040210105,
          0.8136323859657906,
          0.9672892679105707,
          1.120946149855351,
          1.2746030318001311,
          1.4282599137449112,
          1.5819167956896916,
          1.735573677634472,
          1.889230559579252,
          2.042887441524032,
          2.196544323468812,
          2.350201205413592,
          2.5038580873583722,
          2.6575149693031532,
          2.8111718512479333,
          2.9648287331927135,
          3.1184856151374936,
          3.2721424970822737,
          3.425799379027054,
          3.579456260971834,
          3.733113142916614,
          3.886770024861395,
          4.040426906806175,
          4.194083788750955,
          4.347740670695735,
          4.501397552640515,
          4.6550544345852956,
          4.808711316530076,
          4.962368198474856,
          5.116025080419636,
          5.269681962364416,
          5.423338844309196,
          5.576995726253977,
          5.730652608198757,
          5.884309490143537,
          6.037966372088317,
          6.1916232540330975,
          6.345280135977878,
          6.498937017922658,
          6.652593899867438,
          6.806250781812218,
          6.959907663756998,
          7.113564545701778,
          7.267221427646559,
          7.420878309591339,
          7.574535191536119,
          7.728192073480899,
          7.881848955425679,
          8.035505837370458,
          8.18916271931524,
          8.34281960126002,
          8.4964764832048,
          8.650133365149578,
          8.80379024709436,
          8.95744712903914,
          9.11110401098392,
          9.264760892928699,
          9.41841777487348,
          9.57207465681826,
          9.725731538763041,
          9.879388420707821,
          10.033045302652601,
          10.186702184597383,
          10.340359066542161,
          10.494015948486942,
          10.647672830431722,
          10.801329712376504,
          10.954986594321282,
          11.108643476266062,
          11.262300358210842,
          11.415957240155624,
          11.569614122100404,
          11.723271004045182,
          11.876927885989964,
          12.030584767934744,
          12.184241649879525,
          12.337898531824303,
          12.491555413769085,
          12.645212295713865,
          12.798869177658645,
          12.952526059603423,
          13.106182941548205,
          13.259839823492987,
          13.413496705437765,
          13.567153587382546,
          13.720810469327326,
          13.874467351272108,
          14.028124233216886,
          14.181781115161666,
          14.335437997106446,
          14.489094879051228,
          14.642751760996006,
          14.796408642940786,
          14.950065524885568,
          15.103722406830348,
          15.257379288775129,
          15.411036170719907,
          15.564693052664689,
          15.71834993460947,
          15.872006816554247,
          16.025663698499027,
          16.179320580443807,
          16.33297746238859,
          16.486634344333368,
          16.640291226278148,
          16.79394810822293,
          16.94760499016771,
          17.10126187211249,
          17.254918754057268,
          17.408575636002052,
          17.562232517946832,
          17.71588939989161,
          17.86954628183639,
          18.023203163781172,
          18.176860045725952,
          18.330516927670732,
          18.484173809615513,
          18.637830691560293,
          18.791487573505073,
          18.94514445544985,
          19.098801337394633,
          19.252458219339413,
          19.406115101284193,
          19.559771983228973,
          19.713428865173753,
          19.867085747118534,
          20.020742629063314,
          20.174399511008094,
          20.328056392952874,
          20.481713274897654,
          20.635370156842434,
          20.789027038787218,
          20.942683920731994,
          21.096340802676774,
          21.249997684621555,
          21.403654566566335,
          21.557311448511115,
          21.710968330455895,
          21.86462521240068,
          22.01828209434546,
          22.171938976290235,
          22.325595858235015,
          22.4792527401798,
          22.632909622124576,
          22.786566504069356,
          22.940223386014136,
          23.09388026795892,
          23.2475371499037,
          23.401194031848476,
          23.55485091379326,
          23.70850779573804,
          23.862164677682816,
          24.015821559627597,
          24.16947844157238,
          24.32313532351716,
          24.47679220546194,
          24.630449087406717,
          24.7841059693515,
          24.93776285129628,
          25.091419733241057,
          25.24507661518584,
          25.39873349713062,
          25.5523903790754,
          25.70604726102018,
          25.85970414296496,
          26.01336102490974,
          26.16701790685452,
          26.3206747887993,
          26.474331670744082,
          26.627988552688862,
          26.781645434633642,
          26.935302316578426,
          27.088959198523202,
          27.242616080467982,
          27.396272962412763,
          27.549929844357543,
          27.703586726302323,
          27.857243608247103,
          28.010900490191883,
          28.164557372136667,
          28.318214254081443,
          28.471871136026223,
          28.625528017971007,
          28.779184899915784,
          28.932841781860564,
          29.086498663805344,
          29.240155545750127,
          29.393812427694908,
          29.547469309639684,
          29.701126191584464,
          29.854783073529248,
          30.008439955474024,
          30.162096837418808
         ],
         "yaxis": "y"
        }
       ],
       "layout": {
        "height": 600,
        "legend": {
         "tracegroupgap": 0
        },
        "template": {
         "data": {
          "bar": [
           {
            "error_x": {
             "color": "#2a3f5f"
            },
            "error_y": {
             "color": "#2a3f5f"
            },
            "marker": {
             "line": {
              "color": "#E5ECF6",
              "width": 0.5
             },
             "pattern": {
              "fillmode": "overlay",
              "size": 10,
              "solidity": 0.2
             }
            },
            "type": "bar"
           }
          ],
          "barpolar": [
           {
            "marker": {
             "line": {
              "color": "#E5ECF6",
              "width": 0.5
             },
             "pattern": {
              "fillmode": "overlay",
              "size": 10,
              "solidity": 0.2
             }
            },
            "type": "barpolar"
           }
          ],
          "carpet": [
           {
            "aaxis": {
             "endlinecolor": "#2a3f5f",
             "gridcolor": "white",
             "linecolor": "white",
             "minorgridcolor": "white",
             "startlinecolor": "#2a3f5f"
            },
            "baxis": {
             "endlinecolor": "#2a3f5f",
             "gridcolor": "white",
             "linecolor": "white",
             "minorgridcolor": "white",
             "startlinecolor": "#2a3f5f"
            },
            "type": "carpet"
           }
          ],
          "choropleth": [
           {
            "colorbar": {
             "outlinewidth": 0,
             "ticks": ""
            },
            "type": "choropleth"
           }
          ],
          "contour": [
           {
            "colorbar": {
             "outlinewidth": 0,
             "ticks": ""
            },
            "colorscale": [
             [
              0,
              "#0d0887"
             ],
             [
              0.1111111111111111,
              "#46039f"
             ],
             [
              0.2222222222222222,
              "#7201a8"
             ],
             [
              0.3333333333333333,
              "#9c179e"
             ],
             [
              0.4444444444444444,
              "#bd3786"
             ],
             [
              0.5555555555555556,
              "#d8576b"
             ],
             [
              0.6666666666666666,
              "#ed7953"
             ],
             [
              0.7777777777777778,
              "#fb9f3a"
             ],
             [
              0.8888888888888888,
              "#fdca26"
             ],
             [
              1,
              "#f0f921"
             ]
            ],
            "type": "contour"
           }
          ],
          "contourcarpet": [
           {
            "colorbar": {
             "outlinewidth": 0,
             "ticks": ""
            },
            "type": "contourcarpet"
           }
          ],
          "heatmap": [
           {
            "colorbar": {
             "outlinewidth": 0,
             "ticks": ""
            },
            "colorscale": [
             [
              0,
              "#0d0887"
             ],
             [
              0.1111111111111111,
              "#46039f"
             ],
             [
              0.2222222222222222,
              "#7201a8"
             ],
             [
              0.3333333333333333,
              "#9c179e"
             ],
             [
              0.4444444444444444,
              "#bd3786"
             ],
             [
              0.5555555555555556,
              "#d8576b"
             ],
             [
              0.6666666666666666,
              "#ed7953"
             ],
             [
              0.7777777777777778,
              "#fb9f3a"
             ],
             [
              0.8888888888888888,
              "#fdca26"
             ],
             [
              1,
              "#f0f921"
             ]
            ],
            "type": "heatmap"
           }
          ],
          "heatmapgl": [
           {
            "colorbar": {
             "outlinewidth": 0,
             "ticks": ""
            },
            "colorscale": [
             [
              0,
              "#0d0887"
             ],
             [
              0.1111111111111111,
              "#46039f"
             ],
             [
              0.2222222222222222,
              "#7201a8"
             ],
             [
              0.3333333333333333,
              "#9c179e"
             ],
             [
              0.4444444444444444,
              "#bd3786"
             ],
             [
              0.5555555555555556,
              "#d8576b"
             ],
             [
              0.6666666666666666,
              "#ed7953"
             ],
             [
              0.7777777777777778,
              "#fb9f3a"
             ],
             [
              0.8888888888888888,
              "#fdca26"
             ],
             [
              1,
              "#f0f921"
             ]
            ],
            "type": "heatmapgl"
           }
          ],
          "histogram": [
           {
            "marker": {
             "pattern": {
              "fillmode": "overlay",
              "size": 10,
              "solidity": 0.2
             }
            },
            "type": "histogram"
           }
          ],
          "histogram2d": [
           {
            "colorbar": {
             "outlinewidth": 0,
             "ticks": ""
            },
            "colorscale": [
             [
              0,
              "#0d0887"
             ],
             [
              0.1111111111111111,
              "#46039f"
             ],
             [
              0.2222222222222222,
              "#7201a8"
             ],
             [
              0.3333333333333333,
              "#9c179e"
             ],
             [
              0.4444444444444444,
              "#bd3786"
             ],
             [
              0.5555555555555556,
              "#d8576b"
             ],
             [
              0.6666666666666666,
              "#ed7953"
             ],
             [
              0.7777777777777778,
              "#fb9f3a"
             ],
             [
              0.8888888888888888,
              "#fdca26"
             ],
             [
              1,
              "#f0f921"
             ]
            ],
            "type": "histogram2d"
           }
          ],
          "histogram2dcontour": [
           {
            "colorbar": {
             "outlinewidth": 0,
             "ticks": ""
            },
            "colorscale": [
             [
              0,
              "#0d0887"
             ],
             [
              0.1111111111111111,
              "#46039f"
             ],
             [
              0.2222222222222222,
              "#7201a8"
             ],
             [
              0.3333333333333333,
              "#9c179e"
             ],
             [
              0.4444444444444444,
              "#bd3786"
             ],
             [
              0.5555555555555556,
              "#d8576b"
             ],
             [
              0.6666666666666666,
              "#ed7953"
             ],
             [
              0.7777777777777778,
              "#fb9f3a"
             ],
             [
              0.8888888888888888,
              "#fdca26"
             ],
             [
              1,
              "#f0f921"
             ]
            ],
            "type": "histogram2dcontour"
           }
          ],
          "mesh3d": [
           {
            "colorbar": {
             "outlinewidth": 0,
             "ticks": ""
            },
            "type": "mesh3d"
           }
          ],
          "parcoords": [
           {
            "line": {
             "colorbar": {
              "outlinewidth": 0,
              "ticks": ""
             }
            },
            "type": "parcoords"
           }
          ],
          "pie": [
           {
            "automargin": true,
            "type": "pie"
           }
          ],
          "scatter": [
           {
            "fillpattern": {
             "fillmode": "overlay",
             "size": 10,
             "solidity": 0.2
            },
            "type": "scatter"
           }
          ],
          "scatter3d": [
           {
            "line": {
             "colorbar": {
              "outlinewidth": 0,
              "ticks": ""
             }
            },
            "marker": {
             "colorbar": {
              "outlinewidth": 0,
              "ticks": ""
             }
            },
            "type": "scatter3d"
           }
          ],
          "scattercarpet": [
           {
            "marker": {
             "colorbar": {
              "outlinewidth": 0,
              "ticks": ""
             }
            },
            "type": "scattercarpet"
           }
          ],
          "scattergeo": [
           {
            "marker": {
             "colorbar": {
              "outlinewidth": 0,
              "ticks": ""
             }
            },
            "type": "scattergeo"
           }
          ],
          "scattergl": [
           {
            "marker": {
             "colorbar": {
              "outlinewidth": 0,
              "ticks": ""
             }
            },
            "type": "scattergl"
           }
          ],
          "scattermapbox": [
           {
            "marker": {
             "colorbar": {
              "outlinewidth": 0,
              "ticks": ""
             }
            },
            "type": "scattermapbox"
           }
          ],
          "scatterpolar": [
           {
            "marker": {
             "colorbar": {
              "outlinewidth": 0,
              "ticks": ""
             }
            },
            "type": "scatterpolar"
           }
          ],
          "scatterpolargl": [
           {
            "marker": {
             "colorbar": {
              "outlinewidth": 0,
              "ticks": ""
             }
            },
            "type": "scatterpolargl"
           }
          ],
          "scatterternary": [
           {
            "marker": {
             "colorbar": {
              "outlinewidth": 0,
              "ticks": ""
             }
            },
            "type": "scatterternary"
           }
          ],
          "surface": [
           {
            "colorbar": {
             "outlinewidth": 0,
             "ticks": ""
            },
            "colorscale": [
             [
              0,
              "#0d0887"
             ],
             [
              0.1111111111111111,
              "#46039f"
             ],
             [
              0.2222222222222222,
              "#7201a8"
             ],
             [
              0.3333333333333333,
              "#9c179e"
             ],
             [
              0.4444444444444444,
              "#bd3786"
             ],
             [
              0.5555555555555556,
              "#d8576b"
             ],
             [
              0.6666666666666666,
              "#ed7953"
             ],
             [
              0.7777777777777778,
              "#fb9f3a"
             ],
             [
              0.8888888888888888,
              "#fdca26"
             ],
             [
              1,
              "#f0f921"
             ]
            ],
            "type": "surface"
           }
          ],
          "table": [
           {
            "cells": {
             "fill": {
              "color": "#EBF0F8"
             },
             "line": {
              "color": "white"
             }
            },
            "header": {
             "fill": {
              "color": "#C8D4E3"
             },
             "line": {
              "color": "white"
             }
            },
            "type": "table"
           }
          ]
         },
         "layout": {
          "annotationdefaults": {
           "arrowcolor": "#2a3f5f",
           "arrowhead": 0,
           "arrowwidth": 1
          },
          "autotypenumbers": "strict",
          "coloraxis": {
           "colorbar": {
            "outlinewidth": 0,
            "ticks": ""
           }
          },
          "colorscale": {
           "diverging": [
            [
             0,
             "#8e0152"
            ],
            [
             0.1,
             "#c51b7d"
            ],
            [
             0.2,
             "#de77ae"
            ],
            [
             0.3,
             "#f1b6da"
            ],
            [
             0.4,
             "#fde0ef"
            ],
            [
             0.5,
             "#f7f7f7"
            ],
            [
             0.6,
             "#e6f5d0"
            ],
            [
             0.7,
             "#b8e186"
            ],
            [
             0.8,
             "#7fbc41"
            ],
            [
             0.9,
             "#4d9221"
            ],
            [
             1,
             "#276419"
            ]
           ],
           "sequential": [
            [
             0,
             "#0d0887"
            ],
            [
             0.1111111111111111,
             "#46039f"
            ],
            [
             0.2222222222222222,
             "#7201a8"
            ],
            [
             0.3333333333333333,
             "#9c179e"
            ],
            [
             0.4444444444444444,
             "#bd3786"
            ],
            [
             0.5555555555555556,
             "#d8576b"
            ],
            [
             0.6666666666666666,
             "#ed7953"
            ],
            [
             0.7777777777777778,
             "#fb9f3a"
            ],
            [
             0.8888888888888888,
             "#fdca26"
            ],
            [
             1,
             "#f0f921"
            ]
           ],
           "sequentialminus": [
            [
             0,
             "#0d0887"
            ],
            [
             0.1111111111111111,
             "#46039f"
            ],
            [
             0.2222222222222222,
             "#7201a8"
            ],
            [
             0.3333333333333333,
             "#9c179e"
            ],
            [
             0.4444444444444444,
             "#bd3786"
            ],
            [
             0.5555555555555556,
             "#d8576b"
            ],
            [
             0.6666666666666666,
             "#ed7953"
            ],
            [
             0.7777777777777778,
             "#fb9f3a"
            ],
            [
             0.8888888888888888,
             "#fdca26"
            ],
            [
             1,
             "#f0f921"
            ]
           ]
          },
          "colorway": [
           "#636efa",
           "#EF553B",
           "#00cc96",
           "#ab63fa",
           "#FFA15A",
           "#19d3f3",
           "#FF6692",
           "#B6E880",
           "#FF97FF",
           "#FECB52"
          ],
          "font": {
           "color": "#2a3f5f"
          },
          "geo": {
           "bgcolor": "white",
           "lakecolor": "white",
           "landcolor": "#E5ECF6",
           "showlakes": true,
           "showland": true,
           "subunitcolor": "white"
          },
          "hoverlabel": {
           "align": "left"
          },
          "hovermode": "closest",
          "mapbox": {
           "style": "light"
          },
          "paper_bgcolor": "white",
          "plot_bgcolor": "#E5ECF6",
          "polar": {
           "angularaxis": {
            "gridcolor": "white",
            "linecolor": "white",
            "ticks": ""
           },
           "bgcolor": "#E5ECF6",
           "radialaxis": {
            "gridcolor": "white",
            "linecolor": "white",
            "ticks": ""
           }
          },
          "scene": {
           "xaxis": {
            "backgroundcolor": "#E5ECF6",
            "gridcolor": "white",
            "gridwidth": 2,
            "linecolor": "white",
            "showbackground": true,
            "ticks": "",
            "zerolinecolor": "white"
           },
           "yaxis": {
            "backgroundcolor": "#E5ECF6",
            "gridcolor": "white",
            "gridwidth": 2,
            "linecolor": "white",
            "showbackground": true,
            "ticks": "",
            "zerolinecolor": "white"
           },
           "zaxis": {
            "backgroundcolor": "#E5ECF6",
            "gridcolor": "white",
            "gridwidth": 2,
            "linecolor": "white",
            "showbackground": true,
            "ticks": "",
            "zerolinecolor": "white"
           }
          },
          "shapedefaults": {
           "line": {
            "color": "#2a3f5f"
           }
          },
          "ternary": {
           "aaxis": {
            "gridcolor": "white",
            "linecolor": "white",
            "ticks": ""
           },
           "baxis": {
            "gridcolor": "white",
            "linecolor": "white",
            "ticks": ""
           },
           "bgcolor": "#E5ECF6",
           "caxis": {
            "gridcolor": "white",
            "linecolor": "white",
            "ticks": ""
           }
          },
          "title": {
           "x": 0.05
          },
          "xaxis": {
           "automargin": true,
           "gridcolor": "white",
           "linecolor": "white",
           "ticks": "",
           "title": {
            "standoff": 15
           },
           "zerolinecolor": "white",
           "zerolinewidth": 2
          },
          "yaxis": {
           "automargin": true,
           "gridcolor": "white",
           "linecolor": "white",
           "ticks": "",
           "title": {
            "standoff": 15
           },
           "zerolinecolor": "white",
           "zerolinewidth": 2
          }
         }
        },
        "title": {
         "text": "Scatter with OLS trend line"
        },
        "width": 800,
        "xaxis": {
         "anchor": "y",
         "domain": [
          0,
          1
         ],
         "title": {
          "text": "x"
         }
        },
        "yaxis": {
         "anchor": "x",
         "domain": [
          0,
          1
         ],
         "title": {
          "text": "y"
         }
        }
       }
      }
     },
     "metadata": {},
     "output_type": "display_data"
    }
   ],
   "source": [
    "fig = px.scatter(df, x='x', y ='y', \n",
    "                 trendline_color_override=\"red\",\n",
    "                 trendline=\"ols\", \n",
    "                 height=600, width=800,\n",
    "                 title='Scatter with OLS trend line')\n",
    "fig.show()"
   ]
  },
  {
   "cell_type": "markdown",
   "metadata": {},
   "source": [
    "5. Retrieve the results of the OLS algorithm by using the `plotly` function `get_trendline_result` and passing your figure object."
   ]
  },
  {
   "cell_type": "code",
   "execution_count": 10,
   "metadata": {},
   "outputs": [
    {
     "data": {
      "text/html": [
       "<div>\n",
       "<style scoped>\n",
       "    .dataframe tbody tr th:only-of-type {\n",
       "        vertical-align: middle;\n",
       "    }\n",
       "\n",
       "    .dataframe tbody tr th {\n",
       "        vertical-align: top;\n",
       "    }\n",
       "\n",
       "    .dataframe thead th {\n",
       "        text-align: right;\n",
       "    }\n",
       "</style>\n",
       "<table border=\"1\" class=\"dataframe\">\n",
       "  <thead>\n",
       "    <tr style=\"text-align: right;\">\n",
       "      <th></th>\n",
       "      <th>px_fit_results</th>\n",
       "    </tr>\n",
       "  </thead>\n",
       "  <tbody>\n",
       "    <tr>\n",
       "      <th>0</th>\n",
       "      <td>&lt;statsmodels.regression.linear_model.Regressio...</td>\n",
       "    </tr>\n",
       "  </tbody>\n",
       "</table>\n",
       "</div>"
      ],
      "text/plain": [
       "                                      px_fit_results\n",
       "0  <statsmodels.regression.linear_model.Regressio..."
      ]
     },
     "execution_count": 10,
     "metadata": {},
     "output_type": "execute_result"
    }
   ],
   "source": [
    "results_table = px.get_trendline_results(fig)\n",
    "results_table"
   ]
  },
  {
   "cell_type": "markdown",
   "metadata": {},
   "source": [
    "Let's check wha type of object this returns"
   ]
  },
  {
   "cell_type": "code",
   "execution_count": 11,
   "metadata": {},
   "outputs": [
    {
     "data": {
      "text/plain": [
       "pandas.core.frame.DataFrame"
      ]
     },
     "execution_count": 11,
     "metadata": {},
     "output_type": "execute_result"
    }
   ],
   "source": [
    "type(results_table)"
   ]
  },
  {
   "cell_type": "markdown",
   "metadata": {},
   "source": [
    "It is a pandas `DataFrame`"
   ]
  },
  {
   "cell_type": "markdown",
   "metadata": {},
   "source": [
    "6. Extract the object containing the results from the `DataFrame`. This is a `statsmodels.regression.linear_model.RegressionResultsWrapper` object"
   ]
  },
  {
   "cell_type": "code",
   "execution_count": 12,
   "metadata": {},
   "outputs": [
    {
     "data": {
      "text/plain": [
       "<statsmodels.regression.linear_model.RegressionResultsWrapper at 0x116d7ea10>"
      ]
     },
     "execution_count": 12,
     "metadata": {},
     "output_type": "execute_result"
    }
   ],
   "source": [
    "results = results_table['px_fit_results'][0]\n",
    "results"
   ]
  },
  {
   "cell_type": "code",
   "execution_count": 13,
   "metadata": {},
   "outputs": [
    {
     "data": {
      "text/plain": [
       "statsmodels.regression.linear_model.RegressionResultsWrapper"
      ]
     },
     "execution_count": 13,
     "metadata": {},
     "output_type": "execute_result"
    }
   ],
   "source": [
    "type(results)"
   ]
  },
  {
   "cell_type": "markdown",
   "metadata": {},
   "source": [
    "7. Get the full details on the regression by using the method `summary` from the `results` object. This method returns a `DataFrame`"
   ]
  },
  {
   "cell_type": "code",
   "execution_count": 14,
   "metadata": {},
   "outputs": [
    {
     "data": {
      "text/html": [
       "<table class=\"simpletable\">\n",
       "<caption>OLS Regression Results</caption>\n",
       "<tr>\n",
       "  <th>Dep. Variable:</th>            <td>y</td>        <th>  R-squared:         </th> <td>   0.958</td> \n",
       "</tr>\n",
       "<tr>\n",
       "  <th>Model:</th>                   <td>OLS</td>       <th>  Adj. R-squared:    </th> <td>   0.958</td> \n",
       "</tr>\n",
       "<tr>\n",
       "  <th>Method:</th>             <td>Least Squares</td>  <th>  F-statistic:       </th> <td>   4545.</td> \n",
       "</tr>\n",
       "<tr>\n",
       "  <th>Date:</th>             <td>Sat, 07 Sep 2024</td> <th>  Prob (F-statistic):</th> <td>1.60e-138</td>\n",
       "</tr>\n",
       "<tr>\n",
       "  <th>Time:</th>                 <td>22:21:35</td>     <th>  Log-Likelihood:    </th> <td> -407.00</td> \n",
       "</tr>\n",
       "<tr>\n",
       "  <th>No. Observations:</th>      <td>   200</td>      <th>  AIC:               </th> <td>   818.0</td> \n",
       "</tr>\n",
       "<tr>\n",
       "  <th>Df Residuals:</th>          <td>   198</td>      <th>  BIC:               </th> <td>   824.6</td> \n",
       "</tr>\n",
       "<tr>\n",
       "  <th>Df Model:</th>              <td>     1</td>      <th>                     </th>     <td> </td>    \n",
       "</tr>\n",
       "<tr>\n",
       "  <th>Covariance Type:</th>      <td>nonrobust</td>    <th>                     </th>     <td> </td>    \n",
       "</tr>\n",
       "</table>\n",
       "<table class=\"simpletable\">\n",
       "<tr>\n",
       "    <td></td>       <th>coef</th>     <th>std err</th>      <th>t</th>      <th>P>|t|</th>  <th>[0.025</th>    <th>0.975]</th>  \n",
       "</tr>\n",
       "<tr>\n",
       "  <th>const</th> <td>   -0.4156</td> <td>    0.262</td> <td>   -1.585</td> <td> 0.115</td> <td>   -0.933</td> <td>    0.101</td>\n",
       "</tr>\n",
       "<tr>\n",
       "  <th>x1</th>    <td>    2.0385</td> <td>    0.030</td> <td>   67.416</td> <td> 0.000</td> <td>    1.979</td> <td>    2.098</td>\n",
       "</tr>\n",
       "</table>\n",
       "<table class=\"simpletable\">\n",
       "<tr>\n",
       "  <th>Omnibus:</th>       <td> 0.358</td> <th>  Durbin-Watson:     </th> <td>   2.195</td>\n",
       "</tr>\n",
       "<tr>\n",
       "  <th>Prob(Omnibus):</th> <td> 0.836</td> <th>  Jarque-Bera (JB):  </th> <td>   0.334</td>\n",
       "</tr>\n",
       "<tr>\n",
       "  <th>Skew:</th>          <td> 0.098</td> <th>  Prob(JB):          </th> <td>   0.846</td>\n",
       "</tr>\n",
       "<tr>\n",
       "  <th>Kurtosis:</th>      <td> 2.962</td> <th>  Cond. No.          </th> <td>    17.4</td>\n",
       "</tr>\n",
       "</table><br/><br/>Notes:<br/>[1] Standard Errors assume that the covariance matrix of the errors is correctly specified."
      ],
      "text/latex": [
       "\\begin{center}\n",
       "\\begin{tabular}{lclc}\n",
       "\\toprule\n",
       "\\textbf{Dep. Variable:}    &        y         & \\textbf{  R-squared:         } &     0.958   \\\\\n",
       "\\textbf{Model:}            &       OLS        & \\textbf{  Adj. R-squared:    } &     0.958   \\\\\n",
       "\\textbf{Method:}           &  Least Squares   & \\textbf{  F-statistic:       } &     4545.   \\\\\n",
       "\\textbf{Date:}             & Sat, 07 Sep 2024 & \\textbf{  Prob (F-statistic):} & 1.60e-138   \\\\\n",
       "\\textbf{Time:}             &     22:21:35     & \\textbf{  Log-Likelihood:    } &   -407.00   \\\\\n",
       "\\textbf{No. Observations:} &         200      & \\textbf{  AIC:               } &     818.0   \\\\\n",
       "\\textbf{Df Residuals:}     &         198      & \\textbf{  BIC:               } &     824.6   \\\\\n",
       "\\textbf{Df Model:}         &           1      & \\textbf{                     } &             \\\\\n",
       "\\textbf{Covariance Type:}  &    nonrobust     & \\textbf{                     } &             \\\\\n",
       "\\bottomrule\n",
       "\\end{tabular}\n",
       "\\begin{tabular}{lcccccc}\n",
       "               & \\textbf{coef} & \\textbf{std err} & \\textbf{t} & \\textbf{P$> |$t$|$} & \\textbf{[0.025} & \\textbf{0.975]}  \\\\\n",
       "\\midrule\n",
       "\\textbf{const} &      -0.4156  &        0.262     &    -1.585  &         0.115        &       -0.933    &        0.101     \\\\\n",
       "\\textbf{x1}    &       2.0385  &        0.030     &    67.416  &         0.000        &        1.979    &        2.098     \\\\\n",
       "\\bottomrule\n",
       "\\end{tabular}\n",
       "\\begin{tabular}{lclc}\n",
       "\\textbf{Omnibus:}       &  0.358 & \\textbf{  Durbin-Watson:     } &    2.195  \\\\\n",
       "\\textbf{Prob(Omnibus):} &  0.836 & \\textbf{  Jarque-Bera (JB):  } &    0.334  \\\\\n",
       "\\textbf{Skew:}          &  0.098 & \\textbf{  Prob(JB):          } &    0.846  \\\\\n",
       "\\textbf{Kurtosis:}      &  2.962 & \\textbf{  Cond. No.          } &     17.4  \\\\\n",
       "\\bottomrule\n",
       "\\end{tabular}\n",
       "%\\caption{OLS Regression Results}\n",
       "\\end{center}\n",
       "\n",
       "Notes: \\newline\n",
       " [1] Standard Errors assume that the covariance matrix of the errors is correctly specified."
      ],
      "text/plain": [
       "<class 'statsmodels.iolib.summary.Summary'>\n",
       "\"\"\"\n",
       "                            OLS Regression Results                            \n",
       "==============================================================================\n",
       "Dep. Variable:                      y   R-squared:                       0.958\n",
       "Model:                            OLS   Adj. R-squared:                  0.958\n",
       "Method:                 Least Squares   F-statistic:                     4545.\n",
       "Date:                Sat, 07 Sep 2024   Prob (F-statistic):          1.60e-138\n",
       "Time:                        22:21:35   Log-Likelihood:                -407.00\n",
       "No. Observations:                 200   AIC:                             818.0\n",
       "Df Residuals:                     198   BIC:                             824.6\n",
       "Df Model:                           1                                         \n",
       "Covariance Type:            nonrobust                                         \n",
       "==============================================================================\n",
       "                 coef    std err          t      P>|t|      [0.025      0.975]\n",
       "------------------------------------------------------------------------------\n",
       "const         -0.4156      0.262     -1.585      0.115      -0.933       0.101\n",
       "x1             2.0385      0.030     67.416      0.000       1.979       2.098\n",
       "==============================================================================\n",
       "Omnibus:                        0.358   Durbin-Watson:                   2.195\n",
       "Prob(Omnibus):                  0.836   Jarque-Bera (JB):                0.334\n",
       "Skew:                           0.098   Prob(JB):                        0.846\n",
       "Kurtosis:                       2.962   Cond. No.                         17.4\n",
       "==============================================================================\n",
       "\n",
       "Notes:\n",
       "[1] Standard Errors assume that the covariance matrix of the errors is correctly specified.\n",
       "\"\"\""
      ]
     },
     "execution_count": 14,
     "metadata": {},
     "output_type": "execute_result"
    }
   ],
   "source": [
    "results.summary()"
   ]
  },
  {
   "cell_type": "markdown",
   "metadata": {},
   "source": [
    "Note that there is a similar method namee `summary2`. This also returns a `DataFrame` with a summary. However, this is a **experimental** version and as such it must be used with caution. "
   ]
  },
  {
   "cell_type": "markdown",
   "metadata": {},
   "source": [
    "### Non-Linear Trend"
   ]
  },
  {
   "cell_type": "markdown",
   "metadata": {},
   "source": [
    "1. Make a scatter plot to illustrate the points in the `data2` data set. Include the OLS regression line to contrast it against the data. It is clear that the data does not show a linear relationship"
   ]
  },
  {
   "cell_type": "code",
   "execution_count": 17,
   "metadata": {},
   "outputs": [
    {
     "data": {
      "application/vnd.plotly.v1+json": {
       "config": {
        "plotlyServerURL": "https://plot.ly"
       },
       "data": [
        {
         "hovertemplate": "x=%{x}<br>y=%{y}<extra></extra>",
         "legendgroup": "",
         "marker": {
          "color": "#636efa",
          "symbol": "circle"
         },
         "mode": "markers",
         "name": "",
         "orientation": "v",
         "showlegend": false,
         "type": "scatter",
         "x": [
          0,
          0.07537688442211055,
          0.1507537688442211,
          0.22613065326633164,
          0.3015075376884422,
          0.37688442211055273,
          0.4522613065326633,
          0.5276381909547738,
          0.6030150753768844,
          0.6783919597989949,
          0.7537688442211055,
          0.829145728643216,
          0.9045226130653266,
          0.9798994974874371,
          1.0552763819095476,
          1.1306532663316582,
          1.2060301507537687,
          1.2814070351758793,
          1.3567839195979898,
          1.4321608040201004,
          1.507537688442211,
          1.5829145728643215,
          1.658291457286432,
          1.7336683417085426,
          1.809045226130653,
          1.8844221105527637,
          1.9597989949748742,
          2.0351758793969847,
          2.1105527638190953,
          2.185929648241206,
          2.2613065326633164,
          2.336683417085427,
          2.4120603015075375,
          2.487437185929648,
          2.5628140703517586,
          2.638190954773869,
          2.7135678391959797,
          2.78894472361809,
          2.8643216080402008,
          2.9396984924623113,
          3.015075376884422,
          3.0904522613065324,
          3.165829145728643,
          3.2412060301507535,
          3.316582914572864,
          3.3919597989949746,
          3.467336683417085,
          3.5427135678391957,
          3.618090452261306,
          3.6934673366834168,
          3.7688442211055273,
          3.844221105527638,
          3.9195979899497484,
          3.994974874371859,
          4.0703517587939695,
          4.14572864321608,
          4.221105527638191,
          4.296482412060302,
          4.371859296482412,
          4.447236180904522,
          4.522613065326633,
          4.597989949748744,
          4.673366834170854,
          4.748743718592964,
          4.824120603015075,
          4.899497487437186,
          4.974874371859296,
          5.050251256281406,
          5.125628140703517,
          5.201005025125628,
          5.276381909547738,
          5.351758793969848,
          5.427135678391959,
          5.50251256281407,
          5.57788944723618,
          5.6532663316582905,
          5.7286432160804015,
          5.8040201005025125,
          5.879396984924623,
          5.954773869346733,
          6.030150753768844,
          6.105527638190955,
          6.180904522613065,
          6.256281407035175,
          6.331658291457286,
          6.407035175879397,
          6.482412060301507,
          6.557788944723617,
          6.633165829145728,
          6.708542713567839,
          6.783919597989949,
          6.859296482412059,
          6.93467336683417,
          7.010050251256281,
          7.085427135678391,
          7.160804020100501,
          7.236180904522612,
          7.311557788944723,
          7.3869346733668335,
          7.462311557788944,
          7.537688442211055,
          7.613065326633166,
          7.688442211055276,
          7.763819095477386,
          7.839195979899497,
          7.914572864321608,
          7.989949748743718,
          8.065326633165828,
          8.140703517587939,
          8.21608040201005,
          8.29145728643216,
          8.36683417085427,
          8.442211055276381,
          8.517587939698492,
          8.592964824120603,
          8.668341708542712,
          8.743718592964823,
          8.819095477386934,
          8.894472361809044,
          8.969849246231155,
          9.045226130653266,
          9.120603015075377,
          9.195979899497488,
          9.271356783919597,
          9.346733668341708,
          9.422110552763819,
          9.497487437185928,
          9.572864321608039,
          9.64824120603015,
          9.72361809045226,
          9.798994974874372,
          9.874371859296481,
          9.949748743718592,
          10.025125628140703,
          10.100502512562812,
          10.175879396984923,
          10.251256281407034,
          10.326633165829145,
          10.402010050251256,
          10.477386934673365,
          10.552763819095476,
          10.628140703517587,
          10.703517587939697,
          10.778894472361808,
          10.854271356783919,
          10.92964824120603,
          11.00502512562814,
          11.08040201005025,
          11.15577889447236,
          11.231155778894472,
          11.306532663316581,
          11.381909547738692,
          11.457286432160803,
          11.532663316582914,
          11.608040201005025,
          11.683417085427134,
          11.758793969849245,
          11.834170854271356,
          11.909547738693465,
          11.984924623115576,
          12.060301507537687,
          12.135678391959798,
          12.21105527638191,
          12.286432160804019,
          12.36180904522613,
          12.43718592964824,
          12.51256281407035,
          12.58793969849246,
          12.663316582914572,
          12.738693467336683,
          12.814070351758794,
          12.889447236180903,
          12.964824120603014,
          13.040201005025125,
          13.115577889447234,
          13.190954773869345,
          13.266331658291456,
          13.341708542713567,
          13.417085427135678,
          13.492462311557787,
          13.567839195979898,
          13.64321608040201,
          13.718592964824118,
          13.79396984924623,
          13.86934673366834,
          13.944723618090451,
          14.020100502512562,
          14.095477386934672,
          14.170854271356783,
          14.246231155778894,
          14.321608040201003,
          14.396984924623114,
          14.472361809045225,
          14.547738693467336,
          14.623115577889447,
          14.698492462311556,
          14.773869346733667,
          14.849246231155778,
          14.924623115577887,
          15
         ],
         "xaxis": "x",
         "y": [
          -62.46873501275043,
          82.41897373401474,
          38.345054959655634,
          17.430171744885765,
          -97.39095155179338,
          101.55031107424827,
          10.983699587276075,
          -37.8497728619311,
          -19.805323647241885,
          71.66522869016937,
          40.812713469701706,
          25.653715067471182,
          58.544736312381204,
          -27.735536913059985,
          -112.27389955349395,
          -133.83668928379024,
          -10.993729402085863,
          86.12756490640724,
          55.62233459340294,
          48.01859523695695,
          98.88861034533426,
          238.46398796602242,
          147.17471186597814,
          202.80857524369935,
          -61.543752932661675,
          59.45299929690282,
          46.2268406101225,
          184.07079397125287,
          15.37905429542015,
          51.42760938524582,
          188.65638298902877,
          66.01691996484904,
          58.57684228294451,
          108.99318663886866,
          77.17709611159809,
          -101.62080463815363,
          131.82122258323884,
          -100.12854762571676,
          -122.11715172584105,
          -111.48654815882443,
          130.80610632673537,
          136.1368756955161,
          71.7871767240858,
          64.61573224761428,
          158.68154537490824,
          -66.344182370683,
          161.5654553261845,
          -79.79860974800404,
          50.909352787536484,
          64.44155204124661,
          -66.71184873007881,
          183.58123594709198,
          -67.98231289976009,
          -160.94942751851636,
          60.41184815732521,
          73.50402815792685,
          -12.316244131961277,
          283.606804402689,
          -0.5440119147284008,
          27.946735045445266,
          -25.33911179516535,
          142.51927317648386,
          53.66772510403913,
          97.34036745063854,
          53.82055588706629,
          -15.711474329845466,
          6.298637012278718,
          133.47119536821256,
          17.725850839435154,
          -25.375718169858857,
          266.1467309991243,
          60.29387198868122,
          215.00576996864925,
          59.80467373956398,
          -0.10511008358490415,
          48.17508923995059,
          232.46393422275884,
          16.90392131898483,
          26.83172712834643,
          372.09057482293986,
          57.14624085283455,
          -35.12032830089234,
          133.55783440515992,
          192.16097136748795,
          188.88939975680563,
          164.88425424511144,
          148.06102361647604,
          128.53841859579953,
          86.95759447386712,
          64.03770011670423,
          8.492630840338308,
          329.42410106951553,
          283.1874490928811,
          242.20428765806267,
          14.553193271583808,
          183.8117241102891,
          181.83713424737755,
          246.58347599750869,
          202.97973435994956,
          238.9832700837312,
          68.66583599441995,
          320.6252948230617,
          233.96342185780722,
          172.65687815328948,
          200.5023791590191,
          383.42566323308887,
          253.3375374635416,
          274.48417488263624,
          93.74050610138556,
          124.08766107381138,
          370.1017907702572,
          103.46022811260636,
          276.77380771590737,
          160.13324665704081,
          378.5119810644884,
          208.31460514596262,
          306.6132080781653,
          279.9244669672741,
          400.1903363011711,
          324.18372258207603,
          504.9883718744451,
          661.0002189477174,
          382.1837043871305,
          462.3943497506415,
          518.9721894389254,
          432.8821337260508,
          520.1849435179215,
          407.93694060036444,
          524.206743096778,
          362.2377323679424,
          537.8649490717376,
          374.19130245643805,
          513.9580659374104,
          529.1388814473407,
          621.9219085321984,
          476.752106588226,
          611.0460906240445,
          625.0643479803539,
          519.1632379874949,
          563.0251240117301,
          706.9374798560041,
          635.45894621665,
          541.5692668197423,
          435.87494663051626,
          723.8779466447565,
          717.8800977252195,
          863.8013202101765,
          667.0873749553824,
          848.8539012784747,
          788.7057852389114,
          773.6825729008058,
          756.9778284875471,
          821.0290278305376,
          796.7272631820249,
          739.2214887546168,
          760.9418858064557,
          702.0602758599741,
          671.5354152856448,
          906.6825237831937,
          872.5136011752662,
          771.0604997864724,
          944.8061504249953,
          942.2117332573796,
          934.489662594655,
          916.0356961004627,
          1083.408800123386,
          1109.9815976605591,
          1066.9691493725413,
          1011.2223509550115,
          1138.0407155017951,
          1026.6537824753793,
          1069.4951309007247,
          1104.2229108277782,
          1017.8084011029619,
          1009.4346069058114,
          1155.3275786425643,
          1131.2070609648852,
          1219.0631804746317,
          1111.283584331903,
          1226.5670933871913,
          1357.002672244721,
          1290.3847513352732,
          1400.1680132014483,
          1256.09646952847,
          1331.879887559209,
          1361.6580576553333,
          1368.6949132164414,
          1244.101166294731,
          1605.7304781119988,
          1515.7000376143483,
          1435.1096053334622,
          1387.7877851561605,
          1525.9479436711906,
          1485.2155963912398,
          1721.09218493076,
          1443.2295235532677,
          1604.0018108265408,
          1603.8141046490528,
          1747.7417964595518,
          1557.2054297375312
         ],
         "yaxis": "y"
        },
        {
         "hovertemplate": "<b>OLS trendline</b><br>y = 99.4907 * x + -310.332<br>R<sup>2</sup>=0.799182<br><br>x=%{x}<br>y=%{y} <b>(trend)</b><extra></extra>",
         "legendgroup": "",
         "line": {
          "color": "red"
         },
         "marker": {
          "color": "#636efa",
          "symbol": "circle"
         },
         "mode": "lines",
         "name": "",
         "showlegend": false,
         "type": "scatter",
         "x": [
          0,
          0.07537688442211055,
          0.1507537688442211,
          0.22613065326633164,
          0.3015075376884422,
          0.37688442211055273,
          0.4522613065326633,
          0.5276381909547738,
          0.6030150753768844,
          0.6783919597989949,
          0.7537688442211055,
          0.829145728643216,
          0.9045226130653266,
          0.9798994974874371,
          1.0552763819095476,
          1.1306532663316582,
          1.2060301507537687,
          1.2814070351758793,
          1.3567839195979898,
          1.4321608040201004,
          1.507537688442211,
          1.5829145728643215,
          1.658291457286432,
          1.7336683417085426,
          1.809045226130653,
          1.8844221105527637,
          1.9597989949748742,
          2.0351758793969847,
          2.1105527638190953,
          2.185929648241206,
          2.2613065326633164,
          2.336683417085427,
          2.4120603015075375,
          2.487437185929648,
          2.5628140703517586,
          2.638190954773869,
          2.7135678391959797,
          2.78894472361809,
          2.8643216080402008,
          2.9396984924623113,
          3.015075376884422,
          3.0904522613065324,
          3.165829145728643,
          3.2412060301507535,
          3.316582914572864,
          3.3919597989949746,
          3.467336683417085,
          3.5427135678391957,
          3.618090452261306,
          3.6934673366834168,
          3.7688442211055273,
          3.844221105527638,
          3.9195979899497484,
          3.994974874371859,
          4.0703517587939695,
          4.14572864321608,
          4.221105527638191,
          4.296482412060302,
          4.371859296482412,
          4.447236180904522,
          4.522613065326633,
          4.597989949748744,
          4.673366834170854,
          4.748743718592964,
          4.824120603015075,
          4.899497487437186,
          4.974874371859296,
          5.050251256281406,
          5.125628140703517,
          5.201005025125628,
          5.276381909547738,
          5.351758793969848,
          5.427135678391959,
          5.50251256281407,
          5.57788944723618,
          5.6532663316582905,
          5.7286432160804015,
          5.8040201005025125,
          5.879396984924623,
          5.954773869346733,
          6.030150753768844,
          6.105527638190955,
          6.180904522613065,
          6.256281407035175,
          6.331658291457286,
          6.407035175879397,
          6.482412060301507,
          6.557788944723617,
          6.633165829145728,
          6.708542713567839,
          6.783919597989949,
          6.859296482412059,
          6.93467336683417,
          7.010050251256281,
          7.085427135678391,
          7.160804020100501,
          7.236180904522612,
          7.311557788944723,
          7.3869346733668335,
          7.462311557788944,
          7.537688442211055,
          7.613065326633166,
          7.688442211055276,
          7.763819095477386,
          7.839195979899497,
          7.914572864321608,
          7.989949748743718,
          8.065326633165828,
          8.140703517587939,
          8.21608040201005,
          8.29145728643216,
          8.36683417085427,
          8.442211055276381,
          8.517587939698492,
          8.592964824120603,
          8.668341708542712,
          8.743718592964823,
          8.819095477386934,
          8.894472361809044,
          8.969849246231155,
          9.045226130653266,
          9.120603015075377,
          9.195979899497488,
          9.271356783919597,
          9.346733668341708,
          9.422110552763819,
          9.497487437185928,
          9.572864321608039,
          9.64824120603015,
          9.72361809045226,
          9.798994974874372,
          9.874371859296481,
          9.949748743718592,
          10.025125628140703,
          10.100502512562812,
          10.175879396984923,
          10.251256281407034,
          10.326633165829145,
          10.402010050251256,
          10.477386934673365,
          10.552763819095476,
          10.628140703517587,
          10.703517587939697,
          10.778894472361808,
          10.854271356783919,
          10.92964824120603,
          11.00502512562814,
          11.08040201005025,
          11.15577889447236,
          11.231155778894472,
          11.306532663316581,
          11.381909547738692,
          11.457286432160803,
          11.532663316582914,
          11.608040201005025,
          11.683417085427134,
          11.758793969849245,
          11.834170854271356,
          11.909547738693465,
          11.984924623115576,
          12.060301507537687,
          12.135678391959798,
          12.21105527638191,
          12.286432160804019,
          12.36180904522613,
          12.43718592964824,
          12.51256281407035,
          12.58793969849246,
          12.663316582914572,
          12.738693467336683,
          12.814070351758794,
          12.889447236180903,
          12.964824120603014,
          13.040201005025125,
          13.115577889447234,
          13.190954773869345,
          13.266331658291456,
          13.341708542713567,
          13.417085427135678,
          13.492462311557787,
          13.567839195979898,
          13.64321608040201,
          13.718592964824118,
          13.79396984924623,
          13.86934673366834,
          13.944723618090451,
          14.020100502512562,
          14.095477386934672,
          14.170854271356783,
          14.246231155778894,
          14.321608040201003,
          14.396984924623114,
          14.472361809045225,
          14.547738693467336,
          14.623115577889447,
          14.698492462311556,
          14.773869346733667,
          14.849246231155778,
          14.924623115577887,
          15
         ],
         "xaxis": "x",
         "y": [
          -310.3315184291283,
          -302.83222257332426,
          -295.3329267175202,
          -287.83363086171613,
          -280.33433500591207,
          -272.835039150108,
          -265.33574329430394,
          -257.8364474384999,
          -250.3371515826958,
          -242.83785572689175,
          -235.33855987108768,
          -227.83926401528362,
          -220.33996815947955,
          -212.8406723036755,
          -205.34137644787143,
          -197.84208059206736,
          -190.3427847362633,
          -182.84348888045923,
          -175.34419302465514,
          -167.84489716885108,
          -160.345601313047,
          -152.84630545724295,
          -145.34700960143888,
          -137.84771374563482,
          -130.34841788983076,
          -122.84912203402669,
          -115.34982617822263,
          -107.85053032241856,
          -100.3512344666145,
          -92.85193861081044,
          -85.35264275500637,
          -77.85334689920231,
          -70.35405104339824,
          -62.85475518759418,
          -55.355459331790115,
          -47.85616347598602,
          -40.35686762018196,
          -32.857571764377894,
          -25.35827590857383,
          -17.858980052769766,
          -10.359684196965702,
          -2.860388341161638,
          4.638907514642426,
          12.13820337044649,
          19.637499226250554,
          27.13679508205462,
          34.63609093785868,
          42.13538679366275,
          49.63468264946681,
          57.133978505270875,
          64.63327436107494,
          72.132570216879,
          79.63186607268307,
          87.13116192848713,
          94.6304577842912,
          102.1297536400952,
          109.62904949589932,
          117.12834535170344,
          124.62764120750745,
          132.12693706331146,
          139.62623291911558,
          147.1255287749197,
          154.6248246307237,
          162.12412048652772,
          169.62341634233184,
          177.12271219813596,
          184.62200805393996,
          192.12130390974397,
          199.6205997655481,
          207.11989562135216,
          214.61919147715628,
          222.11848733296029,
          229.6177831887644,
          237.1170790445684,
          244.61637490037253,
          252.11567075617654,
          259.61496661198066,
          267.1142624677848,
          274.6135583235888,
          282.1128541793928,
          289.6121500351969,
          297.11144589100104,
          304.61074174680505,
          312.11003760260905,
          319.6093334584132,
          327.1086293142173,
          334.6079251700213,
          342.1072210258253,
          349.60651688162943,
          357.10581273743355,
          364.60510859323756,
          372.10440444904157,
          379.6037003048457,
          387.1029961606498,
          394.6022920164538,
          402.1015878722578,
          409.60088372806194,
          417.10017958386607,
          424.5994754396701,
          432.0987712954741,
          439.5980671512782,
          447.0973630070823,
          454.59665886288633,
          462.09595471869034,
          469.59525057449446,
          477.0945464302986,
          484.5938422861026,
          492.0931381419066,
          499.5924339977107,
          507.09172985351483,
          514.5910257093187,
          522.0903215651228,
          529.589617420927,
          537.0889132767311,
          544.5882091325352,
          552.0875049883391,
          559.5868008441432,
          567.0860966999473,
          574.5853925557512,
          582.0846884115554,
          589.5839842673595,
          597.0832801231636,
          604.5825759789677,
          612.0818718347716,
          619.5811676905757,
          627.0804635463799,
          634.5797594021838,
          642.0790552579879,
          649.578351113792,
          657.0776469695961,
          664.5769428254002,
          672.0762386812041,
          679.5755345370083,
          687.0748303928124,
          694.5741262486163,
          702.0734221044204,
          709.5727179602245,
          717.0720138160285,
          724.5713096718326,
          732.0706055276368,
          739.5699013834409,
          747.069197239245,
          754.5684930950489,
          762.067788950853,
          769.5670848066571,
          777.0663806624613,
          784.5656765182651,
          792.0649723740693,
          799.5642682298734,
          807.0635640856775,
          814.5628599414814,
          822.0621557972855,
          829.5614516530896,
          837.0607475088938,
          844.5600433646979,
          852.0593392205018,
          859.5586350763059,
          867.05793093211,
          874.5572267879139,
          882.056522643718,
          889.5558184995222,
          897.0551143553263,
          904.5544102111304,
          912.0537060669343,
          919.5530019227384,
          927.0522977785425,
          934.5515936343464,
          942.0508894901506,
          949.5501853459547,
          957.0494812017588,
          964.5487770575629,
          972.0480729133668,
          979.5473687691709,
          987.046664624975,
          994.545960480779,
          1002.0452563365831,
          1009.5445521923872,
          1017.0438480481913,
          1024.5431439039953,
          1032.0424397597994,
          1039.5417356156036,
          1047.0410314714077,
          1054.5403273272113,
          1062.0396231830155,
          1069.5389190388196,
          1077.0382148946237,
          1084.5375107504278,
          1092.036806606232,
          1099.536102462036,
          1107.0353983178402,
          1114.5346941736439,
          1122.033990029448,
          1129.533285885252,
          1137.0325817410562,
          1144.5318775968603,
          1152.0311734526645,
          1159.5304693084686,
          1167.0297651642727,
          1174.5290610200764,
          1182.028356875881
         ],
         "yaxis": "y"
        }
       ],
       "layout": {
        "height": 600,
        "legend": {
         "tracegroupgap": 0
        },
        "template": {
         "data": {
          "bar": [
           {
            "error_x": {
             "color": "#2a3f5f"
            },
            "error_y": {
             "color": "#2a3f5f"
            },
            "marker": {
             "line": {
              "color": "#E5ECF6",
              "width": 0.5
             },
             "pattern": {
              "fillmode": "overlay",
              "size": 10,
              "solidity": 0.2
             }
            },
            "type": "bar"
           }
          ],
          "barpolar": [
           {
            "marker": {
             "line": {
              "color": "#E5ECF6",
              "width": 0.5
             },
             "pattern": {
              "fillmode": "overlay",
              "size": 10,
              "solidity": 0.2
             }
            },
            "type": "barpolar"
           }
          ],
          "carpet": [
           {
            "aaxis": {
             "endlinecolor": "#2a3f5f",
             "gridcolor": "white",
             "linecolor": "white",
             "minorgridcolor": "white",
             "startlinecolor": "#2a3f5f"
            },
            "baxis": {
             "endlinecolor": "#2a3f5f",
             "gridcolor": "white",
             "linecolor": "white",
             "minorgridcolor": "white",
             "startlinecolor": "#2a3f5f"
            },
            "type": "carpet"
           }
          ],
          "choropleth": [
           {
            "colorbar": {
             "outlinewidth": 0,
             "ticks": ""
            },
            "type": "choropleth"
           }
          ],
          "contour": [
           {
            "colorbar": {
             "outlinewidth": 0,
             "ticks": ""
            },
            "colorscale": [
             [
              0,
              "#0d0887"
             ],
             [
              0.1111111111111111,
              "#46039f"
             ],
             [
              0.2222222222222222,
              "#7201a8"
             ],
             [
              0.3333333333333333,
              "#9c179e"
             ],
             [
              0.4444444444444444,
              "#bd3786"
             ],
             [
              0.5555555555555556,
              "#d8576b"
             ],
             [
              0.6666666666666666,
              "#ed7953"
             ],
             [
              0.7777777777777778,
              "#fb9f3a"
             ],
             [
              0.8888888888888888,
              "#fdca26"
             ],
             [
              1,
              "#f0f921"
             ]
            ],
            "type": "contour"
           }
          ],
          "contourcarpet": [
           {
            "colorbar": {
             "outlinewidth": 0,
             "ticks": ""
            },
            "type": "contourcarpet"
           }
          ],
          "heatmap": [
           {
            "colorbar": {
             "outlinewidth": 0,
             "ticks": ""
            },
            "colorscale": [
             [
              0,
              "#0d0887"
             ],
             [
              0.1111111111111111,
              "#46039f"
             ],
             [
              0.2222222222222222,
              "#7201a8"
             ],
             [
              0.3333333333333333,
              "#9c179e"
             ],
             [
              0.4444444444444444,
              "#bd3786"
             ],
             [
              0.5555555555555556,
              "#d8576b"
             ],
             [
              0.6666666666666666,
              "#ed7953"
             ],
             [
              0.7777777777777778,
              "#fb9f3a"
             ],
             [
              0.8888888888888888,
              "#fdca26"
             ],
             [
              1,
              "#f0f921"
             ]
            ],
            "type": "heatmap"
           }
          ],
          "heatmapgl": [
           {
            "colorbar": {
             "outlinewidth": 0,
             "ticks": ""
            },
            "colorscale": [
             [
              0,
              "#0d0887"
             ],
             [
              0.1111111111111111,
              "#46039f"
             ],
             [
              0.2222222222222222,
              "#7201a8"
             ],
             [
              0.3333333333333333,
              "#9c179e"
             ],
             [
              0.4444444444444444,
              "#bd3786"
             ],
             [
              0.5555555555555556,
              "#d8576b"
             ],
             [
              0.6666666666666666,
              "#ed7953"
             ],
             [
              0.7777777777777778,
              "#fb9f3a"
             ],
             [
              0.8888888888888888,
              "#fdca26"
             ],
             [
              1,
              "#f0f921"
             ]
            ],
            "type": "heatmapgl"
           }
          ],
          "histogram": [
           {
            "marker": {
             "pattern": {
              "fillmode": "overlay",
              "size": 10,
              "solidity": 0.2
             }
            },
            "type": "histogram"
           }
          ],
          "histogram2d": [
           {
            "colorbar": {
             "outlinewidth": 0,
             "ticks": ""
            },
            "colorscale": [
             [
              0,
              "#0d0887"
             ],
             [
              0.1111111111111111,
              "#46039f"
             ],
             [
              0.2222222222222222,
              "#7201a8"
             ],
             [
              0.3333333333333333,
              "#9c179e"
             ],
             [
              0.4444444444444444,
              "#bd3786"
             ],
             [
              0.5555555555555556,
              "#d8576b"
             ],
             [
              0.6666666666666666,
              "#ed7953"
             ],
             [
              0.7777777777777778,
              "#fb9f3a"
             ],
             [
              0.8888888888888888,
              "#fdca26"
             ],
             [
              1,
              "#f0f921"
             ]
            ],
            "type": "histogram2d"
           }
          ],
          "histogram2dcontour": [
           {
            "colorbar": {
             "outlinewidth": 0,
             "ticks": ""
            },
            "colorscale": [
             [
              0,
              "#0d0887"
             ],
             [
              0.1111111111111111,
              "#46039f"
             ],
             [
              0.2222222222222222,
              "#7201a8"
             ],
             [
              0.3333333333333333,
              "#9c179e"
             ],
             [
              0.4444444444444444,
              "#bd3786"
             ],
             [
              0.5555555555555556,
              "#d8576b"
             ],
             [
              0.6666666666666666,
              "#ed7953"
             ],
             [
              0.7777777777777778,
              "#fb9f3a"
             ],
             [
              0.8888888888888888,
              "#fdca26"
             ],
             [
              1,
              "#f0f921"
             ]
            ],
            "type": "histogram2dcontour"
           }
          ],
          "mesh3d": [
           {
            "colorbar": {
             "outlinewidth": 0,
             "ticks": ""
            },
            "type": "mesh3d"
           }
          ],
          "parcoords": [
           {
            "line": {
             "colorbar": {
              "outlinewidth": 0,
              "ticks": ""
             }
            },
            "type": "parcoords"
           }
          ],
          "pie": [
           {
            "automargin": true,
            "type": "pie"
           }
          ],
          "scatter": [
           {
            "fillpattern": {
             "fillmode": "overlay",
             "size": 10,
             "solidity": 0.2
            },
            "type": "scatter"
           }
          ],
          "scatter3d": [
           {
            "line": {
             "colorbar": {
              "outlinewidth": 0,
              "ticks": ""
             }
            },
            "marker": {
             "colorbar": {
              "outlinewidth": 0,
              "ticks": ""
             }
            },
            "type": "scatter3d"
           }
          ],
          "scattercarpet": [
           {
            "marker": {
             "colorbar": {
              "outlinewidth": 0,
              "ticks": ""
             }
            },
            "type": "scattercarpet"
           }
          ],
          "scattergeo": [
           {
            "marker": {
             "colorbar": {
              "outlinewidth": 0,
              "ticks": ""
             }
            },
            "type": "scattergeo"
           }
          ],
          "scattergl": [
           {
            "marker": {
             "colorbar": {
              "outlinewidth": 0,
              "ticks": ""
             }
            },
            "type": "scattergl"
           }
          ],
          "scattermapbox": [
           {
            "marker": {
             "colorbar": {
              "outlinewidth": 0,
              "ticks": ""
             }
            },
            "type": "scattermapbox"
           }
          ],
          "scatterpolar": [
           {
            "marker": {
             "colorbar": {
              "outlinewidth": 0,
              "ticks": ""
             }
            },
            "type": "scatterpolar"
           }
          ],
          "scatterpolargl": [
           {
            "marker": {
             "colorbar": {
              "outlinewidth": 0,
              "ticks": ""
             }
            },
            "type": "scatterpolargl"
           }
          ],
          "scatterternary": [
           {
            "marker": {
             "colorbar": {
              "outlinewidth": 0,
              "ticks": ""
             }
            },
            "type": "scatterternary"
           }
          ],
          "surface": [
           {
            "colorbar": {
             "outlinewidth": 0,
             "ticks": ""
            },
            "colorscale": [
             [
              0,
              "#0d0887"
             ],
             [
              0.1111111111111111,
              "#46039f"
             ],
             [
              0.2222222222222222,
              "#7201a8"
             ],
             [
              0.3333333333333333,
              "#9c179e"
             ],
             [
              0.4444444444444444,
              "#bd3786"
             ],
             [
              0.5555555555555556,
              "#d8576b"
             ],
             [
              0.6666666666666666,
              "#ed7953"
             ],
             [
              0.7777777777777778,
              "#fb9f3a"
             ],
             [
              0.8888888888888888,
              "#fdca26"
             ],
             [
              1,
              "#f0f921"
             ]
            ],
            "type": "surface"
           }
          ],
          "table": [
           {
            "cells": {
             "fill": {
              "color": "#EBF0F8"
             },
             "line": {
              "color": "white"
             }
            },
            "header": {
             "fill": {
              "color": "#C8D4E3"
             },
             "line": {
              "color": "white"
             }
            },
            "type": "table"
           }
          ]
         },
         "layout": {
          "annotationdefaults": {
           "arrowcolor": "#2a3f5f",
           "arrowhead": 0,
           "arrowwidth": 1
          },
          "autotypenumbers": "strict",
          "coloraxis": {
           "colorbar": {
            "outlinewidth": 0,
            "ticks": ""
           }
          },
          "colorscale": {
           "diverging": [
            [
             0,
             "#8e0152"
            ],
            [
             0.1,
             "#c51b7d"
            ],
            [
             0.2,
             "#de77ae"
            ],
            [
             0.3,
             "#f1b6da"
            ],
            [
             0.4,
             "#fde0ef"
            ],
            [
             0.5,
             "#f7f7f7"
            ],
            [
             0.6,
             "#e6f5d0"
            ],
            [
             0.7,
             "#b8e186"
            ],
            [
             0.8,
             "#7fbc41"
            ],
            [
             0.9,
             "#4d9221"
            ],
            [
             1,
             "#276419"
            ]
           ],
           "sequential": [
            [
             0,
             "#0d0887"
            ],
            [
             0.1111111111111111,
             "#46039f"
            ],
            [
             0.2222222222222222,
             "#7201a8"
            ],
            [
             0.3333333333333333,
             "#9c179e"
            ],
            [
             0.4444444444444444,
             "#bd3786"
            ],
            [
             0.5555555555555556,
             "#d8576b"
            ],
            [
             0.6666666666666666,
             "#ed7953"
            ],
            [
             0.7777777777777778,
             "#fb9f3a"
            ],
            [
             0.8888888888888888,
             "#fdca26"
            ],
            [
             1,
             "#f0f921"
            ]
           ],
           "sequentialminus": [
            [
             0,
             "#0d0887"
            ],
            [
             0.1111111111111111,
             "#46039f"
            ],
            [
             0.2222222222222222,
             "#7201a8"
            ],
            [
             0.3333333333333333,
             "#9c179e"
            ],
            [
             0.4444444444444444,
             "#bd3786"
            ],
            [
             0.5555555555555556,
             "#d8576b"
            ],
            [
             0.6666666666666666,
             "#ed7953"
            ],
            [
             0.7777777777777778,
             "#fb9f3a"
            ],
            [
             0.8888888888888888,
             "#fdca26"
            ],
            [
             1,
             "#f0f921"
            ]
           ]
          },
          "colorway": [
           "#636efa",
           "#EF553B",
           "#00cc96",
           "#ab63fa",
           "#FFA15A",
           "#19d3f3",
           "#FF6692",
           "#B6E880",
           "#FF97FF",
           "#FECB52"
          ],
          "font": {
           "color": "#2a3f5f"
          },
          "geo": {
           "bgcolor": "white",
           "lakecolor": "white",
           "landcolor": "#E5ECF6",
           "showlakes": true,
           "showland": true,
           "subunitcolor": "white"
          },
          "hoverlabel": {
           "align": "left"
          },
          "hovermode": "closest",
          "mapbox": {
           "style": "light"
          },
          "paper_bgcolor": "white",
          "plot_bgcolor": "#E5ECF6",
          "polar": {
           "angularaxis": {
            "gridcolor": "white",
            "linecolor": "white",
            "ticks": ""
           },
           "bgcolor": "#E5ECF6",
           "radialaxis": {
            "gridcolor": "white",
            "linecolor": "white",
            "ticks": ""
           }
          },
          "scene": {
           "xaxis": {
            "backgroundcolor": "#E5ECF6",
            "gridcolor": "white",
            "gridwidth": 2,
            "linecolor": "white",
            "showbackground": true,
            "ticks": "",
            "zerolinecolor": "white"
           },
           "yaxis": {
            "backgroundcolor": "#E5ECF6",
            "gridcolor": "white",
            "gridwidth": 2,
            "linecolor": "white",
            "showbackground": true,
            "ticks": "",
            "zerolinecolor": "white"
           },
           "zaxis": {
            "backgroundcolor": "#E5ECF6",
            "gridcolor": "white",
            "gridwidth": 2,
            "linecolor": "white",
            "showbackground": true,
            "ticks": "",
            "zerolinecolor": "white"
           }
          },
          "shapedefaults": {
           "line": {
            "color": "#2a3f5f"
           }
          },
          "ternary": {
           "aaxis": {
            "gridcolor": "white",
            "linecolor": "white",
            "ticks": ""
           },
           "baxis": {
            "gridcolor": "white",
            "linecolor": "white",
            "ticks": ""
           },
           "bgcolor": "#E5ECF6",
           "caxis": {
            "gridcolor": "white",
            "linecolor": "white",
            "ticks": ""
           }
          },
          "title": {
           "x": 0.05
          },
          "xaxis": {
           "automargin": true,
           "gridcolor": "white",
           "linecolor": "white",
           "ticks": "",
           "title": {
            "standoff": 15
           },
           "zerolinecolor": "white",
           "zerolinewidth": 2
          },
          "yaxis": {
           "automargin": true,
           "gridcolor": "white",
           "linecolor": "white",
           "ticks": "",
           "title": {
            "standoff": 15
           },
           "zerolinecolor": "white",
           "zerolinewidth": 2
          }
         }
        },
        "title": {
         "text": "Scatter with OLS trend line"
        },
        "width": 800,
        "xaxis": {
         "anchor": "y",
         "domain": [
          0,
          1
         ],
         "title": {
          "text": "x"
         }
        },
        "yaxis": {
         "anchor": "x",
         "domain": [
          0,
          1
         ],
         "title": {
          "text": "y"
         }
        }
       }
      }
     },
     "metadata": {},
     "output_type": "display_data"
    }
   ],
   "source": [
    "df = data2\n",
    "fig = px.scatter(df, x='x', y ='y', \n",
    "                 trendline=\"ols\", \n",
    "                 trendline_color_override=\"red\",\n",
    "                 height=600, width=800,\n",
    "                 title='Scatter with OLS trend line')\n",
    "fig.show()"
   ]
  },
  {
   "cell_type": "markdown",
   "metadata": {},
   "source": [
    "2. Import the `statsmodels.formula.api` as `smf`. This will help us to set a non-linear model based on the data in `data2`"
   ]
  },
  {
   "cell_type": "code",
   "execution_count": 18,
   "metadata": {},
   "outputs": [],
   "source": [
    "import statsmodels.formula.api as smf"
   ]
  },
  {
   "cell_type": "markdown",
   "metadata": {},
   "source": [
    "3. Fit a OLS non-linear model to the data by using the `smf.ols` and passing\n",
    "\n",
    "- `formula` This is a sring which specifies the non-linear curve that we want to fit. In this case we are going to fit a cubic polynomial\n",
    "- `data` The `DataFrame` with the data set to be fitted"
   ]
  },
  {
   "cell_type": "code",
   "execution_count": 19,
   "metadata": {},
   "outputs": [],
   "source": [
    "model = smf.ols(formula='y ~ I(x**3)', data = df).fit()"
   ]
  },
  {
   "cell_type": "code",
   "execution_count": 25,
   "metadata": {},
   "outputs": [],
   "source": [
    "predicted = model.predict(df.x)"
   ]
  },
  {
   "cell_type": "markdown",
   "metadata": {},
   "source": [
    "4. Plot the scatter together with the curve given by the fitted polynomial evaluated in the `x` variable"
   ]
  },
  {
   "cell_type": "code",
   "execution_count": 26,
   "metadata": {},
   "outputs": [
    {
     "data": {
      "application/vnd.plotly.v1+json": {
       "config": {
        "plotlyServerURL": "https://plot.ly"
       },
       "data": [
        {
         "hovertemplate": "x=%{x}<br>y=%{y}<extra></extra>",
         "legendgroup": "",
         "marker": {
          "color": "#636efa",
          "symbol": "circle"
         },
         "mode": "markers",
         "name": "",
         "orientation": "v",
         "showlegend": false,
         "type": "scatter",
         "x": [
          0,
          0.07537688442211055,
          0.1507537688442211,
          0.22613065326633164,
          0.3015075376884422,
          0.37688442211055273,
          0.4522613065326633,
          0.5276381909547738,
          0.6030150753768844,
          0.6783919597989949,
          0.7537688442211055,
          0.829145728643216,
          0.9045226130653266,
          0.9798994974874371,
          1.0552763819095476,
          1.1306532663316582,
          1.2060301507537687,
          1.2814070351758793,
          1.3567839195979898,
          1.4321608040201004,
          1.507537688442211,
          1.5829145728643215,
          1.658291457286432,
          1.7336683417085426,
          1.809045226130653,
          1.8844221105527637,
          1.9597989949748742,
          2.0351758793969847,
          2.1105527638190953,
          2.185929648241206,
          2.2613065326633164,
          2.336683417085427,
          2.4120603015075375,
          2.487437185929648,
          2.5628140703517586,
          2.638190954773869,
          2.7135678391959797,
          2.78894472361809,
          2.8643216080402008,
          2.9396984924623113,
          3.015075376884422,
          3.0904522613065324,
          3.165829145728643,
          3.2412060301507535,
          3.316582914572864,
          3.3919597989949746,
          3.467336683417085,
          3.5427135678391957,
          3.618090452261306,
          3.6934673366834168,
          3.7688442211055273,
          3.844221105527638,
          3.9195979899497484,
          3.994974874371859,
          4.0703517587939695,
          4.14572864321608,
          4.221105527638191,
          4.296482412060302,
          4.371859296482412,
          4.447236180904522,
          4.522613065326633,
          4.597989949748744,
          4.673366834170854,
          4.748743718592964,
          4.824120603015075,
          4.899497487437186,
          4.974874371859296,
          5.050251256281406,
          5.125628140703517,
          5.201005025125628,
          5.276381909547738,
          5.351758793969848,
          5.427135678391959,
          5.50251256281407,
          5.57788944723618,
          5.6532663316582905,
          5.7286432160804015,
          5.8040201005025125,
          5.879396984924623,
          5.954773869346733,
          6.030150753768844,
          6.105527638190955,
          6.180904522613065,
          6.256281407035175,
          6.331658291457286,
          6.407035175879397,
          6.482412060301507,
          6.557788944723617,
          6.633165829145728,
          6.708542713567839,
          6.783919597989949,
          6.859296482412059,
          6.93467336683417,
          7.010050251256281,
          7.085427135678391,
          7.160804020100501,
          7.236180904522612,
          7.311557788944723,
          7.3869346733668335,
          7.462311557788944,
          7.537688442211055,
          7.613065326633166,
          7.688442211055276,
          7.763819095477386,
          7.839195979899497,
          7.914572864321608,
          7.989949748743718,
          8.065326633165828,
          8.140703517587939,
          8.21608040201005,
          8.29145728643216,
          8.36683417085427,
          8.442211055276381,
          8.517587939698492,
          8.592964824120603,
          8.668341708542712,
          8.743718592964823,
          8.819095477386934,
          8.894472361809044,
          8.969849246231155,
          9.045226130653266,
          9.120603015075377,
          9.195979899497488,
          9.271356783919597,
          9.346733668341708,
          9.422110552763819,
          9.497487437185928,
          9.572864321608039,
          9.64824120603015,
          9.72361809045226,
          9.798994974874372,
          9.874371859296481,
          9.949748743718592,
          10.025125628140703,
          10.100502512562812,
          10.175879396984923,
          10.251256281407034,
          10.326633165829145,
          10.402010050251256,
          10.477386934673365,
          10.552763819095476,
          10.628140703517587,
          10.703517587939697,
          10.778894472361808,
          10.854271356783919,
          10.92964824120603,
          11.00502512562814,
          11.08040201005025,
          11.15577889447236,
          11.231155778894472,
          11.306532663316581,
          11.381909547738692,
          11.457286432160803,
          11.532663316582914,
          11.608040201005025,
          11.683417085427134,
          11.758793969849245,
          11.834170854271356,
          11.909547738693465,
          11.984924623115576,
          12.060301507537687,
          12.135678391959798,
          12.21105527638191,
          12.286432160804019,
          12.36180904522613,
          12.43718592964824,
          12.51256281407035,
          12.58793969849246,
          12.663316582914572,
          12.738693467336683,
          12.814070351758794,
          12.889447236180903,
          12.964824120603014,
          13.040201005025125,
          13.115577889447234,
          13.190954773869345,
          13.266331658291456,
          13.341708542713567,
          13.417085427135678,
          13.492462311557787,
          13.567839195979898,
          13.64321608040201,
          13.718592964824118,
          13.79396984924623,
          13.86934673366834,
          13.944723618090451,
          14.020100502512562,
          14.095477386934672,
          14.170854271356783,
          14.246231155778894,
          14.321608040201003,
          14.396984924623114,
          14.472361809045225,
          14.547738693467336,
          14.623115577889447,
          14.698492462311556,
          14.773869346733667,
          14.849246231155778,
          14.924623115577887,
          15
         ],
         "xaxis": "x",
         "y": [
          -62.46873501275043,
          82.41897373401474,
          38.345054959655634,
          17.430171744885765,
          -97.39095155179338,
          101.55031107424827,
          10.983699587276075,
          -37.8497728619311,
          -19.805323647241885,
          71.66522869016937,
          40.812713469701706,
          25.653715067471182,
          58.544736312381204,
          -27.735536913059985,
          -112.27389955349395,
          -133.83668928379024,
          -10.993729402085863,
          86.12756490640724,
          55.62233459340294,
          48.01859523695695,
          98.88861034533426,
          238.46398796602242,
          147.17471186597814,
          202.80857524369935,
          -61.543752932661675,
          59.45299929690282,
          46.2268406101225,
          184.07079397125287,
          15.37905429542015,
          51.42760938524582,
          188.65638298902877,
          66.01691996484904,
          58.57684228294451,
          108.99318663886866,
          77.17709611159809,
          -101.62080463815363,
          131.82122258323884,
          -100.12854762571676,
          -122.11715172584105,
          -111.48654815882443,
          130.80610632673537,
          136.1368756955161,
          71.7871767240858,
          64.61573224761428,
          158.68154537490824,
          -66.344182370683,
          161.5654553261845,
          -79.79860974800404,
          50.909352787536484,
          64.44155204124661,
          -66.71184873007881,
          183.58123594709198,
          -67.98231289976009,
          -160.94942751851636,
          60.41184815732521,
          73.50402815792685,
          -12.316244131961277,
          283.606804402689,
          -0.5440119147284008,
          27.946735045445266,
          -25.33911179516535,
          142.51927317648386,
          53.66772510403913,
          97.34036745063854,
          53.82055588706629,
          -15.711474329845466,
          6.298637012278718,
          133.47119536821256,
          17.725850839435154,
          -25.375718169858857,
          266.1467309991243,
          60.29387198868122,
          215.00576996864925,
          59.80467373956398,
          -0.10511008358490415,
          48.17508923995059,
          232.46393422275884,
          16.90392131898483,
          26.83172712834643,
          372.09057482293986,
          57.14624085283455,
          -35.12032830089234,
          133.55783440515992,
          192.16097136748795,
          188.88939975680563,
          164.88425424511144,
          148.06102361647604,
          128.53841859579953,
          86.95759447386712,
          64.03770011670423,
          8.492630840338308,
          329.42410106951553,
          283.1874490928811,
          242.20428765806267,
          14.553193271583808,
          183.8117241102891,
          181.83713424737755,
          246.58347599750869,
          202.97973435994956,
          238.9832700837312,
          68.66583599441995,
          320.6252948230617,
          233.96342185780722,
          172.65687815328948,
          200.5023791590191,
          383.42566323308887,
          253.3375374635416,
          274.48417488263624,
          93.74050610138556,
          124.08766107381138,
          370.1017907702572,
          103.46022811260636,
          276.77380771590737,
          160.13324665704081,
          378.5119810644884,
          208.31460514596262,
          306.6132080781653,
          279.9244669672741,
          400.1903363011711,
          324.18372258207603,
          504.9883718744451,
          661.0002189477174,
          382.1837043871305,
          462.3943497506415,
          518.9721894389254,
          432.8821337260508,
          520.1849435179215,
          407.93694060036444,
          524.206743096778,
          362.2377323679424,
          537.8649490717376,
          374.19130245643805,
          513.9580659374104,
          529.1388814473407,
          621.9219085321984,
          476.752106588226,
          611.0460906240445,
          625.0643479803539,
          519.1632379874949,
          563.0251240117301,
          706.9374798560041,
          635.45894621665,
          541.5692668197423,
          435.87494663051626,
          723.8779466447565,
          717.8800977252195,
          863.8013202101765,
          667.0873749553824,
          848.8539012784747,
          788.7057852389114,
          773.6825729008058,
          756.9778284875471,
          821.0290278305376,
          796.7272631820249,
          739.2214887546168,
          760.9418858064557,
          702.0602758599741,
          671.5354152856448,
          906.6825237831937,
          872.5136011752662,
          771.0604997864724,
          944.8061504249953,
          942.2117332573796,
          934.489662594655,
          916.0356961004627,
          1083.408800123386,
          1109.9815976605591,
          1066.9691493725413,
          1011.2223509550115,
          1138.0407155017951,
          1026.6537824753793,
          1069.4951309007247,
          1104.2229108277782,
          1017.8084011029619,
          1009.4346069058114,
          1155.3275786425643,
          1131.2070609648852,
          1219.0631804746317,
          1111.283584331903,
          1226.5670933871913,
          1357.002672244721,
          1290.3847513352732,
          1400.1680132014483,
          1256.09646952847,
          1331.879887559209,
          1361.6580576553333,
          1368.6949132164414,
          1244.101166294731,
          1605.7304781119988,
          1515.7000376143483,
          1435.1096053334622,
          1387.7877851561605,
          1525.9479436711906,
          1485.2155963912398,
          1721.09218493076,
          1443.2295235532677,
          1604.0018108265408,
          1603.8141046490528,
          1747.7417964595518,
          1557.2054297375312
         ],
         "yaxis": "y"
        },
        {
         "name": "Fitted Polynomial",
         "type": "scatter",
         "x": [
          0,
          0.07537688442211055,
          0.1507537688442211,
          0.22613065326633164,
          0.3015075376884422,
          0.37688442211055273,
          0.4522613065326633,
          0.5276381909547738,
          0.6030150753768844,
          0.6783919597989949,
          0.7537688442211055,
          0.829145728643216,
          0.9045226130653266,
          0.9798994974874371,
          1.0552763819095476,
          1.1306532663316582,
          1.2060301507537687,
          1.2814070351758793,
          1.3567839195979898,
          1.4321608040201004,
          1.507537688442211,
          1.5829145728643215,
          1.658291457286432,
          1.7336683417085426,
          1.809045226130653,
          1.8844221105527637,
          1.9597989949748742,
          2.0351758793969847,
          2.1105527638190953,
          2.185929648241206,
          2.2613065326633164,
          2.336683417085427,
          2.4120603015075375,
          2.487437185929648,
          2.5628140703517586,
          2.638190954773869,
          2.7135678391959797,
          2.78894472361809,
          2.8643216080402008,
          2.9396984924623113,
          3.015075376884422,
          3.0904522613065324,
          3.165829145728643,
          3.2412060301507535,
          3.316582914572864,
          3.3919597989949746,
          3.467336683417085,
          3.5427135678391957,
          3.618090452261306,
          3.6934673366834168,
          3.7688442211055273,
          3.844221105527638,
          3.9195979899497484,
          3.994974874371859,
          4.0703517587939695,
          4.14572864321608,
          4.221105527638191,
          4.296482412060302,
          4.371859296482412,
          4.447236180904522,
          4.522613065326633,
          4.597989949748744,
          4.673366834170854,
          4.748743718592964,
          4.824120603015075,
          4.899497487437186,
          4.974874371859296,
          5.050251256281406,
          5.125628140703517,
          5.201005025125628,
          5.276381909547738,
          5.351758793969848,
          5.427135678391959,
          5.50251256281407,
          5.57788944723618,
          5.6532663316582905,
          5.7286432160804015,
          5.8040201005025125,
          5.879396984924623,
          5.954773869346733,
          6.030150753768844,
          6.105527638190955,
          6.180904522613065,
          6.256281407035175,
          6.331658291457286,
          6.407035175879397,
          6.482412060301507,
          6.557788944723617,
          6.633165829145728,
          6.708542713567839,
          6.783919597989949,
          6.859296482412059,
          6.93467336683417,
          7.010050251256281,
          7.085427135678391,
          7.160804020100501,
          7.236180904522612,
          7.311557788944723,
          7.3869346733668335,
          7.462311557788944,
          7.537688442211055,
          7.613065326633166,
          7.688442211055276,
          7.763819095477386,
          7.839195979899497,
          7.914572864321608,
          7.989949748743718,
          8.065326633165828,
          8.140703517587939,
          8.21608040201005,
          8.29145728643216,
          8.36683417085427,
          8.442211055276381,
          8.517587939698492,
          8.592964824120603,
          8.668341708542712,
          8.743718592964823,
          8.819095477386934,
          8.894472361809044,
          8.969849246231155,
          9.045226130653266,
          9.120603015075377,
          9.195979899497488,
          9.271356783919597,
          9.346733668341708,
          9.422110552763819,
          9.497487437185928,
          9.572864321608039,
          9.64824120603015,
          9.72361809045226,
          9.798994974874372,
          9.874371859296481,
          9.949748743718592,
          10.025125628140703,
          10.100502512562812,
          10.175879396984923,
          10.251256281407034,
          10.326633165829145,
          10.402010050251256,
          10.477386934673365,
          10.552763819095476,
          10.628140703517587,
          10.703517587939697,
          10.778894472361808,
          10.854271356783919,
          10.92964824120603,
          11.00502512562814,
          11.08040201005025,
          11.15577889447236,
          11.231155778894472,
          11.306532663316581,
          11.381909547738692,
          11.457286432160803,
          11.532663316582914,
          11.608040201005025,
          11.683417085427134,
          11.758793969849245,
          11.834170854271356,
          11.909547738693465,
          11.984924623115576,
          12.060301507537687,
          12.135678391959798,
          12.21105527638191,
          12.286432160804019,
          12.36180904522613,
          12.43718592964824,
          12.51256281407035,
          12.58793969849246,
          12.663316582914572,
          12.738693467336683,
          12.814070351758794,
          12.889447236180903,
          12.964824120603014,
          13.040201005025125,
          13.115577889447234,
          13.190954773869345,
          13.266331658291456,
          13.341708542713567,
          13.417085427135678,
          13.492462311557787,
          13.567839195979898,
          13.64321608040201,
          13.718592964824118,
          13.79396984924623,
          13.86934673366834,
          13.944723618090451,
          14.020100502512562,
          14.095477386934672,
          14.170854271356783,
          14.246231155778894,
          14.321608040201003,
          14.396984924623114,
          14.472361809045225,
          14.547738693467336,
          14.623115577889447,
          14.698492462311556,
          14.773869346733667,
          14.849246231155778,
          14.924623115577887,
          15
         ],
         "y": [
          17.875903090696696,
          17.876114182596464,
          17.87759182589483,
          17.881602571990392,
          17.889412972281754,
          17.902289578167508,
          17.921498941046263,
          17.948307612316608,
          17.983982143377148,
          18.029789085626483,
          18.086994990463207,
          18.15686640928592,
          18.240669893493227,
          18.33967199448372,
          18.455139263656,
          18.58833825240867,
          18.740535512140323,
          18.91299759424956,
          19.106991050134983,
          19.32378243119519,
          19.564638288828778,
          19.83082517443435,
          20.1236096394105,
          20.44425823515583,
          20.794037513068936,
          21.174214024548423,
          21.586054320992886,
          22.030824953800924,
          22.509792474371135,
          23.02422343410212,
          23.57538438439248,
          24.16454187664081,
          24.79296246224571,
          25.461912692605786,
          26.172659119119622,
          26.926468293185835,
          27.72460676620301,
          28.568341089569753,
          29.45893781468466,
          30.397663492946332,
          31.385784675753367,
          32.424567914504365,
          33.51527976059793,
          34.65918676543265,
          35.85755548040713,
          37.11165245691997,
          38.42274424636976,
          39.792097400155114,
          41.22097846967463,
          42.71065400632689,
          44.26239056151051,
          45.87745468662408,
          47.55711293306621,
          49.30263185223548,
          51.115277995530505,
          52.996317914349866,
          54.947018160092206,
          56.96864528415609,
          59.06246583794009,
          61.22974637284285,
          63.471753440262965,
          65.78975359159904,
          68.18501337824961,
          70.65879935161334,
          73.21237806308883,
          75.84701606407467,
          78.5639799059694,
          81.36453614017168,
          84.24995131808012,
          87.22149199109332,
          90.2804247106098,
          93.42801602802822,
          96.6655324947472,
          99.99424066216534,
          103.41540708168115,
          106.9302983046933,
          110.54018088260041,
          114.24632136680106,
          118.04998630869379,
          121.95244225967726,
          125.95495577115007,
          130.05879339451081,
          134.26522168115807,
          138.5755071824904,
          142.99091644990654,
          147.512716034805,
          152.14217248858432,
          156.88055236264313,
          161.72912220838015,
          166.68914857719386,
          171.76189802048287,
          176.94863708964579,
          182.2506323360812,
          187.66915031118782,
          193.2054575663641,
          198.8608206530086,
          204.63650612252013,
          210.53378052629716,
          216.55391041573824,
          222.69816234224203,
          228.96780285720718,
          235.36409851203229,
          241.8883158581158,
          248.5417214468564,
          255.32558182965278,
          262.24116355790346,
          269.289733183007,
          276.47255725636194,
          283.79090232936716,
          291.2460349534211,
          298.83922167992205,
          306.57172906026915,
          314.44482364586077,
          322.45977198809544,
          330.61784063837183,
          338.9202961480883,
          347.3684050686438,
          355.9634339514369,
          364.7066493478659,
          373.5993178093297,
          382.64270588722684,
          391.83808013295584,
          401.18670709791536,
          410.6898533335037,
          420.34878539112,
          430.16476982216255,
          440.1390731780298,
          450.2729620101207,
          460.56770286983374,
          471.02456230856745,
          481.6448068777204,
          492.429703128691,
          503.38051761287835,
          514.4985168816808,
          525.7849674864966,
          537.2411359787249,
          548.8682889097641,
          560.6676928310129,
          572.6406142938697,
          584.7883198497329,
          597.1120760500015,
          609.6131494460742,
          622.292806589349,
          635.152314031225,
          648.1929383231007,
          661.415946016375,
          674.8226036624459,
          688.414177812712,
          702.1919350185724,
          716.1571418314255,
          730.3110648026695,
          744.6549704837038,
          759.1901254259265,
          773.9177961807362,
          788.8392492995316,
          803.955751333711,
          819.2685688346735,
          834.7789683538175,
          850.4882164425412,
          866.3975796522438,
          882.5083245343237,
          898.8217176401796,
          915.3390255212098,
          932.0615147288127,
          948.9904518143877,
          966.1271033293328,
          983.4727358250465,
          1001.0286158529279,
          1018.7960099643756,
          1036.7761847107874,
          1054.9704066435631,
          1073.3799423141,
          1092.0060582737976,
          1110.8500210740542,
          1129.913097266268,
          1149.1965534018389,
          1168.7016560321645,
          1188.4296717086434,
          1208.381866982674,
          1228.5595084056554,
          1248.963862528986,
          1269.5961959040646,
          1290.4577750822893,
          1311.5498666150593,
          1332.8737370537729,
          1354.430652949829,
          1376.2218808546256,
          1398.2486873195612,
          1420.5123388960358,
          1443.0141021354464,
          1465.7552435891919,
          1488.7370298086719,
          1511.9607273452843,
          1535.4276027504277,
          1559.1389225755006,
          1583.0959533719013,
          1607.299961691029,
          1631.7522140842827,
          1656.4539771030595,
          1681.40651729876
         ]
        }
       ],
       "layout": {
        "height": 600,
        "legend": {
         "tracegroupgap": 0
        },
        "template": {
         "data": {
          "bar": [
           {
            "error_x": {
             "color": "#2a3f5f"
            },
            "error_y": {
             "color": "#2a3f5f"
            },
            "marker": {
             "line": {
              "color": "#E5ECF6",
              "width": 0.5
             },
             "pattern": {
              "fillmode": "overlay",
              "size": 10,
              "solidity": 0.2
             }
            },
            "type": "bar"
           }
          ],
          "barpolar": [
           {
            "marker": {
             "line": {
              "color": "#E5ECF6",
              "width": 0.5
             },
             "pattern": {
              "fillmode": "overlay",
              "size": 10,
              "solidity": 0.2
             }
            },
            "type": "barpolar"
           }
          ],
          "carpet": [
           {
            "aaxis": {
             "endlinecolor": "#2a3f5f",
             "gridcolor": "white",
             "linecolor": "white",
             "minorgridcolor": "white",
             "startlinecolor": "#2a3f5f"
            },
            "baxis": {
             "endlinecolor": "#2a3f5f",
             "gridcolor": "white",
             "linecolor": "white",
             "minorgridcolor": "white",
             "startlinecolor": "#2a3f5f"
            },
            "type": "carpet"
           }
          ],
          "choropleth": [
           {
            "colorbar": {
             "outlinewidth": 0,
             "ticks": ""
            },
            "type": "choropleth"
           }
          ],
          "contour": [
           {
            "colorbar": {
             "outlinewidth": 0,
             "ticks": ""
            },
            "colorscale": [
             [
              0,
              "#0d0887"
             ],
             [
              0.1111111111111111,
              "#46039f"
             ],
             [
              0.2222222222222222,
              "#7201a8"
             ],
             [
              0.3333333333333333,
              "#9c179e"
             ],
             [
              0.4444444444444444,
              "#bd3786"
             ],
             [
              0.5555555555555556,
              "#d8576b"
             ],
             [
              0.6666666666666666,
              "#ed7953"
             ],
             [
              0.7777777777777778,
              "#fb9f3a"
             ],
             [
              0.8888888888888888,
              "#fdca26"
             ],
             [
              1,
              "#f0f921"
             ]
            ],
            "type": "contour"
           }
          ],
          "contourcarpet": [
           {
            "colorbar": {
             "outlinewidth": 0,
             "ticks": ""
            },
            "type": "contourcarpet"
           }
          ],
          "heatmap": [
           {
            "colorbar": {
             "outlinewidth": 0,
             "ticks": ""
            },
            "colorscale": [
             [
              0,
              "#0d0887"
             ],
             [
              0.1111111111111111,
              "#46039f"
             ],
             [
              0.2222222222222222,
              "#7201a8"
             ],
             [
              0.3333333333333333,
              "#9c179e"
             ],
             [
              0.4444444444444444,
              "#bd3786"
             ],
             [
              0.5555555555555556,
              "#d8576b"
             ],
             [
              0.6666666666666666,
              "#ed7953"
             ],
             [
              0.7777777777777778,
              "#fb9f3a"
             ],
             [
              0.8888888888888888,
              "#fdca26"
             ],
             [
              1,
              "#f0f921"
             ]
            ],
            "type": "heatmap"
           }
          ],
          "heatmapgl": [
           {
            "colorbar": {
             "outlinewidth": 0,
             "ticks": ""
            },
            "colorscale": [
             [
              0,
              "#0d0887"
             ],
             [
              0.1111111111111111,
              "#46039f"
             ],
             [
              0.2222222222222222,
              "#7201a8"
             ],
             [
              0.3333333333333333,
              "#9c179e"
             ],
             [
              0.4444444444444444,
              "#bd3786"
             ],
             [
              0.5555555555555556,
              "#d8576b"
             ],
             [
              0.6666666666666666,
              "#ed7953"
             ],
             [
              0.7777777777777778,
              "#fb9f3a"
             ],
             [
              0.8888888888888888,
              "#fdca26"
             ],
             [
              1,
              "#f0f921"
             ]
            ],
            "type": "heatmapgl"
           }
          ],
          "histogram": [
           {
            "marker": {
             "pattern": {
              "fillmode": "overlay",
              "size": 10,
              "solidity": 0.2
             }
            },
            "type": "histogram"
           }
          ],
          "histogram2d": [
           {
            "colorbar": {
             "outlinewidth": 0,
             "ticks": ""
            },
            "colorscale": [
             [
              0,
              "#0d0887"
             ],
             [
              0.1111111111111111,
              "#46039f"
             ],
             [
              0.2222222222222222,
              "#7201a8"
             ],
             [
              0.3333333333333333,
              "#9c179e"
             ],
             [
              0.4444444444444444,
              "#bd3786"
             ],
             [
              0.5555555555555556,
              "#d8576b"
             ],
             [
              0.6666666666666666,
              "#ed7953"
             ],
             [
              0.7777777777777778,
              "#fb9f3a"
             ],
             [
              0.8888888888888888,
              "#fdca26"
             ],
             [
              1,
              "#f0f921"
             ]
            ],
            "type": "histogram2d"
           }
          ],
          "histogram2dcontour": [
           {
            "colorbar": {
             "outlinewidth": 0,
             "ticks": ""
            },
            "colorscale": [
             [
              0,
              "#0d0887"
             ],
             [
              0.1111111111111111,
              "#46039f"
             ],
             [
              0.2222222222222222,
              "#7201a8"
             ],
             [
              0.3333333333333333,
              "#9c179e"
             ],
             [
              0.4444444444444444,
              "#bd3786"
             ],
             [
              0.5555555555555556,
              "#d8576b"
             ],
             [
              0.6666666666666666,
              "#ed7953"
             ],
             [
              0.7777777777777778,
              "#fb9f3a"
             ],
             [
              0.8888888888888888,
              "#fdca26"
             ],
             [
              1,
              "#f0f921"
             ]
            ],
            "type": "histogram2dcontour"
           }
          ],
          "mesh3d": [
           {
            "colorbar": {
             "outlinewidth": 0,
             "ticks": ""
            },
            "type": "mesh3d"
           }
          ],
          "parcoords": [
           {
            "line": {
             "colorbar": {
              "outlinewidth": 0,
              "ticks": ""
             }
            },
            "type": "parcoords"
           }
          ],
          "pie": [
           {
            "automargin": true,
            "type": "pie"
           }
          ],
          "scatter": [
           {
            "fillpattern": {
             "fillmode": "overlay",
             "size": 10,
             "solidity": 0.2
            },
            "type": "scatter"
           }
          ],
          "scatter3d": [
           {
            "line": {
             "colorbar": {
              "outlinewidth": 0,
              "ticks": ""
             }
            },
            "marker": {
             "colorbar": {
              "outlinewidth": 0,
              "ticks": ""
             }
            },
            "type": "scatter3d"
           }
          ],
          "scattercarpet": [
           {
            "marker": {
             "colorbar": {
              "outlinewidth": 0,
              "ticks": ""
             }
            },
            "type": "scattercarpet"
           }
          ],
          "scattergeo": [
           {
            "marker": {
             "colorbar": {
              "outlinewidth": 0,
              "ticks": ""
             }
            },
            "type": "scattergeo"
           }
          ],
          "scattergl": [
           {
            "marker": {
             "colorbar": {
              "outlinewidth": 0,
              "ticks": ""
             }
            },
            "type": "scattergl"
           }
          ],
          "scattermapbox": [
           {
            "marker": {
             "colorbar": {
              "outlinewidth": 0,
              "ticks": ""
             }
            },
            "type": "scattermapbox"
           }
          ],
          "scatterpolar": [
           {
            "marker": {
             "colorbar": {
              "outlinewidth": 0,
              "ticks": ""
             }
            },
            "type": "scatterpolar"
           }
          ],
          "scatterpolargl": [
           {
            "marker": {
             "colorbar": {
              "outlinewidth": 0,
              "ticks": ""
             }
            },
            "type": "scatterpolargl"
           }
          ],
          "scatterternary": [
           {
            "marker": {
             "colorbar": {
              "outlinewidth": 0,
              "ticks": ""
             }
            },
            "type": "scatterternary"
           }
          ],
          "surface": [
           {
            "colorbar": {
             "outlinewidth": 0,
             "ticks": ""
            },
            "colorscale": [
             [
              0,
              "#0d0887"
             ],
             [
              0.1111111111111111,
              "#46039f"
             ],
             [
              0.2222222222222222,
              "#7201a8"
             ],
             [
              0.3333333333333333,
              "#9c179e"
             ],
             [
              0.4444444444444444,
              "#bd3786"
             ],
             [
              0.5555555555555556,
              "#d8576b"
             ],
             [
              0.6666666666666666,
              "#ed7953"
             ],
             [
              0.7777777777777778,
              "#fb9f3a"
             ],
             [
              0.8888888888888888,
              "#fdca26"
             ],
             [
              1,
              "#f0f921"
             ]
            ],
            "type": "surface"
           }
          ],
          "table": [
           {
            "cells": {
             "fill": {
              "color": "#EBF0F8"
             },
             "line": {
              "color": "white"
             }
            },
            "header": {
             "fill": {
              "color": "#C8D4E3"
             },
             "line": {
              "color": "white"
             }
            },
            "type": "table"
           }
          ]
         },
         "layout": {
          "annotationdefaults": {
           "arrowcolor": "#2a3f5f",
           "arrowhead": 0,
           "arrowwidth": 1
          },
          "autotypenumbers": "strict",
          "coloraxis": {
           "colorbar": {
            "outlinewidth": 0,
            "ticks": ""
           }
          },
          "colorscale": {
           "diverging": [
            [
             0,
             "#8e0152"
            ],
            [
             0.1,
             "#c51b7d"
            ],
            [
             0.2,
             "#de77ae"
            ],
            [
             0.3,
             "#f1b6da"
            ],
            [
             0.4,
             "#fde0ef"
            ],
            [
             0.5,
             "#f7f7f7"
            ],
            [
             0.6,
             "#e6f5d0"
            ],
            [
             0.7,
             "#b8e186"
            ],
            [
             0.8,
             "#7fbc41"
            ],
            [
             0.9,
             "#4d9221"
            ],
            [
             1,
             "#276419"
            ]
           ],
           "sequential": [
            [
             0,
             "#0d0887"
            ],
            [
             0.1111111111111111,
             "#46039f"
            ],
            [
             0.2222222222222222,
             "#7201a8"
            ],
            [
             0.3333333333333333,
             "#9c179e"
            ],
            [
             0.4444444444444444,
             "#bd3786"
            ],
            [
             0.5555555555555556,
             "#d8576b"
            ],
            [
             0.6666666666666666,
             "#ed7953"
            ],
            [
             0.7777777777777778,
             "#fb9f3a"
            ],
            [
             0.8888888888888888,
             "#fdca26"
            ],
            [
             1,
             "#f0f921"
            ]
           ],
           "sequentialminus": [
            [
             0,
             "#0d0887"
            ],
            [
             0.1111111111111111,
             "#46039f"
            ],
            [
             0.2222222222222222,
             "#7201a8"
            ],
            [
             0.3333333333333333,
             "#9c179e"
            ],
            [
             0.4444444444444444,
             "#bd3786"
            ],
            [
             0.5555555555555556,
             "#d8576b"
            ],
            [
             0.6666666666666666,
             "#ed7953"
            ],
            [
             0.7777777777777778,
             "#fb9f3a"
            ],
            [
             0.8888888888888888,
             "#fdca26"
            ],
            [
             1,
             "#f0f921"
            ]
           ]
          },
          "colorway": [
           "#636efa",
           "#EF553B",
           "#00cc96",
           "#ab63fa",
           "#FFA15A",
           "#19d3f3",
           "#FF6692",
           "#B6E880",
           "#FF97FF",
           "#FECB52"
          ],
          "font": {
           "color": "#2a3f5f"
          },
          "geo": {
           "bgcolor": "white",
           "lakecolor": "white",
           "landcolor": "#E5ECF6",
           "showlakes": true,
           "showland": true,
           "subunitcolor": "white"
          },
          "hoverlabel": {
           "align": "left"
          },
          "hovermode": "closest",
          "mapbox": {
           "style": "light"
          },
          "paper_bgcolor": "white",
          "plot_bgcolor": "#E5ECF6",
          "polar": {
           "angularaxis": {
            "gridcolor": "white",
            "linecolor": "white",
            "ticks": ""
           },
           "bgcolor": "#E5ECF6",
           "radialaxis": {
            "gridcolor": "white",
            "linecolor": "white",
            "ticks": ""
           }
          },
          "scene": {
           "xaxis": {
            "backgroundcolor": "#E5ECF6",
            "gridcolor": "white",
            "gridwidth": 2,
            "linecolor": "white",
            "showbackground": true,
            "ticks": "",
            "zerolinecolor": "white"
           },
           "yaxis": {
            "backgroundcolor": "#E5ECF6",
            "gridcolor": "white",
            "gridwidth": 2,
            "linecolor": "white",
            "showbackground": true,
            "ticks": "",
            "zerolinecolor": "white"
           },
           "zaxis": {
            "backgroundcolor": "#E5ECF6",
            "gridcolor": "white",
            "gridwidth": 2,
            "linecolor": "white",
            "showbackground": true,
            "ticks": "",
            "zerolinecolor": "white"
           }
          },
          "shapedefaults": {
           "line": {
            "color": "#2a3f5f"
           }
          },
          "ternary": {
           "aaxis": {
            "gridcolor": "white",
            "linecolor": "white",
            "ticks": ""
           },
           "baxis": {
            "gridcolor": "white",
            "linecolor": "white",
            "ticks": ""
           },
           "bgcolor": "#E5ECF6",
           "caxis": {
            "gridcolor": "white",
            "linecolor": "white",
            "ticks": ""
           }
          },
          "title": {
           "x": 0.05
          },
          "xaxis": {
           "automargin": true,
           "gridcolor": "white",
           "linecolor": "white",
           "ticks": "",
           "title": {
            "standoff": 15
           },
           "zerolinecolor": "white",
           "zerolinewidth": 2
          },
          "yaxis": {
           "automargin": true,
           "gridcolor": "white",
           "linecolor": "white",
           "ticks": "",
           "title": {
            "standoff": 15
           },
           "zerolinecolor": "white",
           "zerolinewidth": 2
          }
         }
        },
        "title": {
         "text": "Scatter + Fitted Polynomial"
        },
        "width": 800,
        "xaxis": {
         "anchor": "y",
         "domain": [
          0,
          1
         ],
         "title": {
          "text": "x"
         }
        },
        "yaxis": {
         "anchor": "x",
         "domain": [
          0,
          1
         ],
         "title": {
          "text": "y"
         }
        }
       }
      }
     },
     "metadata": {},
     "output_type": "display_data"
    }
   ],
   "source": [
    "fig = px.scatter(df, x='x', y ='y',\n",
    "                 height=600, width=800,\n",
    "                 title='Scatter + Fitted Polynomial')\n",
    "fig.add_scatter(x=df.x, y =predicted, name=\"Fitted Polynomial\")\n",
    "fig.show()"
   ]
  },
  {
   "cell_type": "markdown",
   "metadata": {},
   "source": [
    "5. Get the full details of the model by using the method `summary`"
   ]
  },
  {
   "cell_type": "code",
   "execution_count": 27,
   "metadata": {},
   "outputs": [
    {
     "data": {
      "text/html": [
       "<table class=\"simpletable\">\n",
       "<caption>OLS Regression Results</caption>\n",
       "<tr>\n",
       "  <th>Dep. Variable:</th>            <td>y</td>        <th>  R-squared:         </th> <td>   0.962</td> \n",
       "</tr>\n",
       "<tr>\n",
       "  <th>Model:</th>                   <td>OLS</td>       <th>  Adj. R-squared:    </th> <td>   0.962</td> \n",
       "</tr>\n",
       "<tr>\n",
       "  <th>Method:</th>             <td>Least Squares</td>  <th>  F-statistic:       </th> <td>   4988.</td> \n",
       "</tr>\n",
       "<tr>\n",
       "  <th>Date:</th>             <td>Sat, 07 Sep 2024</td> <th>  Prob (F-statistic):</th> <td>2.32e-142</td>\n",
       "</tr>\n",
       "<tr>\n",
       "  <th>Time:</th>                 <td>22:26:21</td>     <th>  Log-Likelihood:    </th> <td> -1193.8</td> \n",
       "</tr>\n",
       "<tr>\n",
       "  <th>No. Observations:</th>      <td>   200</td>      <th>  AIC:               </th> <td>   2392.</td> \n",
       "</tr>\n",
       "<tr>\n",
       "  <th>Df Residuals:</th>          <td>   198</td>      <th>  BIC:               </th> <td>   2398.</td> \n",
       "</tr>\n",
       "<tr>\n",
       "  <th>Df Model:</th>              <td>     1</td>      <th>                     </th>     <td> </td>    \n",
       "</tr>\n",
       "<tr>\n",
       "  <th>Covariance Type:</th>      <td>nonrobust</td>    <th>                     </th>     <td> </td>    \n",
       "</tr>\n",
       "</table>\n",
       "<table class=\"simpletable\">\n",
       "<tr>\n",
       "      <td></td>         <th>coef</th>     <th>std err</th>      <th>t</th>      <th>P>|t|</th>  <th>[0.025</th>    <th>0.975]</th>  \n",
       "</tr>\n",
       "<tr>\n",
       "  <th>Intercept</th> <td>   17.8759</td> <td>    8.959</td> <td>    1.995</td> <td> 0.047</td> <td>    0.209</td> <td>   35.543</td>\n",
       "</tr>\n",
       "<tr>\n",
       "  <th>I(x ** 3)</th> <td>    0.4929</td> <td>    0.007</td> <td>   70.623</td> <td> 0.000</td> <td>    0.479</td> <td>    0.507</td>\n",
       "</tr>\n",
       "</table>\n",
       "<table class=\"simpletable\">\n",
       "<tr>\n",
       "  <th>Omnibus:</th>       <td> 0.679</td> <th>  Durbin-Watson:     </th> <td>   2.032</td>\n",
       "</tr>\n",
       "<tr>\n",
       "  <th>Prob(Omnibus):</th> <td> 0.712</td> <th>  Jarque-Bera (JB):  </th> <td>   0.808</td>\n",
       "</tr>\n",
       "<tr>\n",
       "  <th>Skew:</th>          <td> 0.113</td> <th>  Prob(JB):          </th> <td>   0.668</td>\n",
       "</tr>\n",
       "<tr>\n",
       "  <th>Kurtosis:</th>      <td> 2.785</td> <th>  Cond. No.          </th> <td>1.71e+03</td>\n",
       "</tr>\n",
       "</table><br/><br/>Notes:<br/>[1] Standard Errors assume that the covariance matrix of the errors is correctly specified.<br/>[2] The condition number is large, 1.71e+03. This might indicate that there are<br/>strong multicollinearity or other numerical problems."
      ],
      "text/latex": [
       "\\begin{center}\n",
       "\\begin{tabular}{lclc}\n",
       "\\toprule\n",
       "\\textbf{Dep. Variable:}    &        y         & \\textbf{  R-squared:         } &     0.962   \\\\\n",
       "\\textbf{Model:}            &       OLS        & \\textbf{  Adj. R-squared:    } &     0.962   \\\\\n",
       "\\textbf{Method:}           &  Least Squares   & \\textbf{  F-statistic:       } &     4988.   \\\\\n",
       "\\textbf{Date:}             & Sat, 07 Sep 2024 & \\textbf{  Prob (F-statistic):} & 2.32e-142   \\\\\n",
       "\\textbf{Time:}             &     22:26:21     & \\textbf{  Log-Likelihood:    } &   -1193.8   \\\\\n",
       "\\textbf{No. Observations:} &         200      & \\textbf{  AIC:               } &     2392.   \\\\\n",
       "\\textbf{Df Residuals:}     &         198      & \\textbf{  BIC:               } &     2398.   \\\\\n",
       "\\textbf{Df Model:}         &           1      & \\textbf{                     } &             \\\\\n",
       "\\textbf{Covariance Type:}  &    nonrobust     & \\textbf{                     } &             \\\\\n",
       "\\bottomrule\n",
       "\\end{tabular}\n",
       "\\begin{tabular}{lcccccc}\n",
       "                   & \\textbf{coef} & \\textbf{std err} & \\textbf{t} & \\textbf{P$> |$t$|$} & \\textbf{[0.025} & \\textbf{0.975]}  \\\\\n",
       "\\midrule\n",
       "\\textbf{Intercept} &      17.8759  &        8.959     &     1.995  &         0.047        &        0.209    &       35.543     \\\\\n",
       "\\textbf{I(x ** 3)} &       0.4929  &        0.007     &    70.623  &         0.000        &        0.479    &        0.507     \\\\\n",
       "\\bottomrule\n",
       "\\end{tabular}\n",
       "\\begin{tabular}{lclc}\n",
       "\\textbf{Omnibus:}       &  0.679 & \\textbf{  Durbin-Watson:     } &    2.032  \\\\\n",
       "\\textbf{Prob(Omnibus):} &  0.712 & \\textbf{  Jarque-Bera (JB):  } &    0.808  \\\\\n",
       "\\textbf{Skew:}          &  0.113 & \\textbf{  Prob(JB):          } &    0.668  \\\\\n",
       "\\textbf{Kurtosis:}      &  2.785 & \\textbf{  Cond. No.          } & 1.71e+03  \\\\\n",
       "\\bottomrule\n",
       "\\end{tabular}\n",
       "%\\caption{OLS Regression Results}\n",
       "\\end{center}\n",
       "\n",
       "Notes: \\newline\n",
       " [1] Standard Errors assume that the covariance matrix of the errors is correctly specified. \\newline\n",
       " [2] The condition number is large, 1.71e+03. This might indicate that there are \\newline\n",
       " strong multicollinearity or other numerical problems."
      ],
      "text/plain": [
       "<class 'statsmodels.iolib.summary.Summary'>\n",
       "\"\"\"\n",
       "                            OLS Regression Results                            \n",
       "==============================================================================\n",
       "Dep. Variable:                      y   R-squared:                       0.962\n",
       "Model:                            OLS   Adj. R-squared:                  0.962\n",
       "Method:                 Least Squares   F-statistic:                     4988.\n",
       "Date:                Sat, 07 Sep 2024   Prob (F-statistic):          2.32e-142\n",
       "Time:                        22:26:21   Log-Likelihood:                -1193.8\n",
       "No. Observations:                 200   AIC:                             2392.\n",
       "Df Residuals:                     198   BIC:                             2398.\n",
       "Df Model:                           1                                         \n",
       "Covariance Type:            nonrobust                                         \n",
       "==============================================================================\n",
       "                 coef    std err          t      P>|t|      [0.025      0.975]\n",
       "------------------------------------------------------------------------------\n",
       "Intercept     17.8759      8.959      1.995      0.047       0.209      35.543\n",
       "I(x ** 3)      0.4929      0.007     70.623      0.000       0.479       0.507\n",
       "==============================================================================\n",
       "Omnibus:                        0.679   Durbin-Watson:                   2.032\n",
       "Prob(Omnibus):                  0.712   Jarque-Bera (JB):                0.808\n",
       "Skew:                           0.113   Prob(JB):                        0.668\n",
       "Kurtosis:                       2.785   Cond. No.                     1.71e+03\n",
       "==============================================================================\n",
       "\n",
       "Notes:\n",
       "[1] Standard Errors assume that the covariance matrix of the errors is correctly specified.\n",
       "[2] The condition number is large, 1.71e+03. This might indicate that there are\n",
       "strong multicollinearity or other numerical problems.\n",
       "\"\"\""
      ]
     },
     "execution_count": 27,
     "metadata": {},
     "output_type": "execute_result"
    }
   ],
   "source": [
    "model.summary()"
   ]
  }
 ],
 "metadata": {
  "kernelspec": {
   "display_name": ".venv",
   "language": "python",
   "name": "python3"
  },
  "language_info": {
   "codemirror_mode": {
    "name": "ipython",
    "version": 3
   },
   "file_extension": ".py",
   "mimetype": "text/x-python",
   "name": "python",
   "nbconvert_exporter": "python",
   "pygments_lexer": "ipython3",
   "version": "3.11.4"
  }
 },
 "nbformat": 4,
 "nbformat_minor": 2
}
