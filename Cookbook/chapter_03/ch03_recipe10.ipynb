{
 "cells": [
  {
   "cell_type": "markdown",
   "metadata": {},
   "source": [
    "# Making Area Charts"
   ]
  },
  {
   "cell_type": "markdown",
   "metadata": {},
   "source": [
    "An **area chart** is a type of graph that visually represents quantitative data over time or across categories, using filled areas below a line. It's similar to a line chart, but the area between the line and the x-axis is shaded, emphasizing the magnitude of the data points. This shaded area helps to highlight the volume or cumulative totals of the dataset. Area charts are particularly useful for displaying trends, comparing multiple data series, or showing how a part contributes to a whole over time. They can also be stacked to display multiple datasets, making it easier to compare several categories simultaneously.\n",
    "\n",
    "Area charts are useful when you want to show how different segments contribute to a total and how this total changes over time. For example, they are commonly used in financial reports to track revenue sources or in scientific studies to display changes in variables like temperature or population.\n",
    "\n",
    "However, area charts are not always the best choice, especially when precise comparisons between data points are needed. The stacked areas can become hard to differentiate, making it difficult to discern small differences between data series. Additionally, when too many layers or data series are included, the chart can become cluttered, reducing clarity. This can lead to visual distortion, especially when overlapping areas obscure smaller trends or patterns."
   ]
  },
  {
   "cell_type": "markdown",
   "metadata": {},
   "source": [
    "## Getting ready"
   ]
  },
  {
   "cell_type": "code",
   "execution_count": 1,
   "metadata": {},
   "outputs": [],
   "source": [
    "import pandas as pd"
   ]
  },
  {
   "cell_type": "code",
   "execution_count": 2,
   "metadata": {},
   "outputs": [
    {
     "data": {
      "text/html": [
       "<div>\n",
       "<style scoped>\n",
       "    .dataframe tbody tr th:only-of-type {\n",
       "        vertical-align: middle;\n",
       "    }\n",
       "\n",
       "    .dataframe tbody tr th {\n",
       "        vertical-align: top;\n",
       "    }\n",
       "\n",
       "    .dataframe thead th {\n",
       "        text-align: right;\n",
       "    }\n",
       "</style>\n",
       "<table border=\"1\" class=\"dataframe\">\n",
       "  <thead>\n",
       "    <tr style=\"text-align: right;\">\n",
       "      <th></th>\n",
       "      <th>Entity</th>\n",
       "      <th>Code</th>\n",
       "      <th>Year</th>\n",
       "      <th>Electricity from renewables - TWh (adapted for visualization of chart elec-fossil-nuclear-renewables)</th>\n",
       "      <th>Electricity from nuclear - TWh (adapted for visualization of chart elec-fossil-nuclear-renewables)</th>\n",
       "      <th>Electricity from fossil fuels - TWh (adapted for visualization of chart elec-fossil-nuclear-renewables)</th>\n",
       "    </tr>\n",
       "  </thead>\n",
       "  <tbody>\n",
       "    <tr>\n",
       "      <th>0</th>\n",
       "      <td>ASEAN (Ember)</td>\n",
       "      <td>NaN</td>\n",
       "      <td>2000</td>\n",
       "      <td>73.25</td>\n",
       "      <td>0.0</td>\n",
       "      <td>305.36</td>\n",
       "    </tr>\n",
       "    <tr>\n",
       "      <th>1</th>\n",
       "      <td>ASEAN (Ember)</td>\n",
       "      <td>NaN</td>\n",
       "      <td>2001</td>\n",
       "      <td>77.19</td>\n",
       "      <td>0.0</td>\n",
       "      <td>327.66</td>\n",
       "    </tr>\n",
       "    <tr>\n",
       "      <th>2</th>\n",
       "      <td>ASEAN (Ember)</td>\n",
       "      <td>NaN</td>\n",
       "      <td>2002</td>\n",
       "      <td>76.52</td>\n",
       "      <td>0.0</td>\n",
       "      <td>356.67</td>\n",
       "    </tr>\n",
       "    <tr>\n",
       "      <th>3</th>\n",
       "      <td>ASEAN (Ember)</td>\n",
       "      <td>NaN</td>\n",
       "      <td>2003</td>\n",
       "      <td>76.40</td>\n",
       "      <td>0.0</td>\n",
       "      <td>381.84</td>\n",
       "    </tr>\n",
       "    <tr>\n",
       "      <th>4</th>\n",
       "      <td>ASEAN (Ember)</td>\n",
       "      <td>NaN</td>\n",
       "      <td>2004</td>\n",
       "      <td>77.96</td>\n",
       "      <td>0.0</td>\n",
       "      <td>418.60</td>\n",
       "    </tr>\n",
       "  </tbody>\n",
       "</table>\n",
       "</div>"
      ],
      "text/plain": [
       "          Entity Code  Year  \\\n",
       "0  ASEAN (Ember)  NaN  2000   \n",
       "1  ASEAN (Ember)  NaN  2001   \n",
       "2  ASEAN (Ember)  NaN  2002   \n",
       "3  ASEAN (Ember)  NaN  2003   \n",
       "4  ASEAN (Ember)  NaN  2004   \n",
       "\n",
       "   Electricity from renewables - TWh (adapted for visualization of chart elec-fossil-nuclear-renewables)  \\\n",
       "0                                              73.25                                                       \n",
       "1                                              77.19                                                       \n",
       "2                                              76.52                                                       \n",
       "3                                              76.40                                                       \n",
       "4                                              77.96                                                       \n",
       "\n",
       "   Electricity from nuclear - TWh (adapted for visualization of chart elec-fossil-nuclear-renewables)  \\\n",
       "0                                                0.0                                                    \n",
       "1                                                0.0                                                    \n",
       "2                                                0.0                                                    \n",
       "3                                                0.0                                                    \n",
       "4                                                0.0                                                    \n",
       "\n",
       "   Electricity from fossil fuels - TWh (adapted for visualization of chart elec-fossil-nuclear-renewables)  \n",
       "0                                             305.36                                                        \n",
       "1                                             327.66                                                        \n",
       "2                                             356.67                                                        \n",
       "3                                             381.84                                                        \n",
       "4                                             418.60                                                        "
      ]
     },
     "execution_count": 2,
     "metadata": {},
     "output_type": "execute_result"
    }
   ],
   "source": [
    "data = pd.read_csv('data/data_recipe10.csv')\n",
    "data.head()"
   ]
  },
  {
   "cell_type": "code",
   "execution_count": 3,
   "metadata": {},
   "outputs": [],
   "source": [
    "data = data[data.Entity == 'World'].reset_index(drop=True)"
   ]
  },
  {
   "cell_type": "code",
   "execution_count": 4,
   "metadata": {},
   "outputs": [],
   "source": [
    "data.columns = ['Entity', 'Code', 'Year', 'Renewable', 'Nuclear', 'Fossil']"
   ]
  },
  {
   "cell_type": "code",
   "execution_count": 5,
   "metadata": {},
   "outputs": [],
   "source": [
    "data1 = data.melt(id_vars=['Year', 'Entity', 'Code'])"
   ]
  },
  {
   "cell_type": "markdown",
   "metadata": {},
   "source": [
    "## How to do it"
   ]
  },
  {
   "cell_type": "code",
   "execution_count": 6,
   "metadata": {},
   "outputs": [],
   "source": [
    "import plotly.express as px"
   ]
  },
  {
   "cell_type": "code",
   "execution_count": 7,
   "metadata": {},
   "outputs": [],
   "source": [
    "df = data1"
   ]
  },
  {
   "cell_type": "code",
   "execution_count": 8,
   "metadata": {},
   "outputs": [
    {
     "data": {
      "text/html": [
       "<div>\n",
       "<style scoped>\n",
       "    .dataframe tbody tr th:only-of-type {\n",
       "        vertical-align: middle;\n",
       "    }\n",
       "\n",
       "    .dataframe tbody tr th {\n",
       "        vertical-align: top;\n",
       "    }\n",
       "\n",
       "    .dataframe thead th {\n",
       "        text-align: right;\n",
       "    }\n",
       "</style>\n",
       "<table border=\"1\" class=\"dataframe\">\n",
       "  <thead>\n",
       "    <tr style=\"text-align: right;\">\n",
       "      <th></th>\n",
       "      <th>Year</th>\n",
       "      <th>Entity</th>\n",
       "      <th>Code</th>\n",
       "      <th>variable</th>\n",
       "      <th>value</th>\n",
       "    </tr>\n",
       "  </thead>\n",
       "  <tbody>\n",
       "    <tr>\n",
       "      <th>0</th>\n",
       "      <td>1985</td>\n",
       "      <td>World</td>\n",
       "      <td>OWID_WRL</td>\n",
       "      <td>Renewable</td>\n",
       "      <td>2058.0222</td>\n",
       "    </tr>\n",
       "    <tr>\n",
       "      <th>1</th>\n",
       "      <td>1986</td>\n",
       "      <td>World</td>\n",
       "      <td>OWID_WRL</td>\n",
       "      <td>Renewable</td>\n",
       "      <td>2091.6704</td>\n",
       "    </tr>\n",
       "    <tr>\n",
       "      <th>2</th>\n",
       "      <td>1987</td>\n",
       "      <td>World</td>\n",
       "      <td>OWID_WRL</td>\n",
       "      <td>Renewable</td>\n",
       "      <td>2124.9146</td>\n",
       "    </tr>\n",
       "    <tr>\n",
       "      <th>3</th>\n",
       "      <td>1988</td>\n",
       "      <td>World</td>\n",
       "      <td>OWID_WRL</td>\n",
       "      <td>Renewable</td>\n",
       "      <td>2192.8516</td>\n",
       "    </tr>\n",
       "    <tr>\n",
       "      <th>4</th>\n",
       "      <td>1989</td>\n",
       "      <td>World</td>\n",
       "      <td>OWID_WRL</td>\n",
       "      <td>Renewable</td>\n",
       "      <td>2195.1711</td>\n",
       "    </tr>\n",
       "  </tbody>\n",
       "</table>\n",
       "</div>"
      ],
      "text/plain": [
       "   Year Entity      Code   variable      value\n",
       "0  1985  World  OWID_WRL  Renewable  2058.0222\n",
       "1  1986  World  OWID_WRL  Renewable  2091.6704\n",
       "2  1987  World  OWID_WRL  Renewable  2124.9146\n",
       "3  1988  World  OWID_WRL  Renewable  2192.8516\n",
       "4  1989  World  OWID_WRL  Renewable  2195.1711"
      ]
     },
     "execution_count": 8,
     "metadata": {},
     "output_type": "execute_result"
    }
   ],
   "source": [
    "df.head()"
   ]
  },
  {
   "cell_type": "code",
   "execution_count": 9,
   "metadata": {},
   "outputs": [
    {
     "data": {
      "text/html": [
       "<div>\n",
       "<style scoped>\n",
       "    .dataframe tbody tr th:only-of-type {\n",
       "        vertical-align: middle;\n",
       "    }\n",
       "\n",
       "    .dataframe tbody tr th {\n",
       "        vertical-align: top;\n",
       "    }\n",
       "\n",
       "    .dataframe thead th {\n",
       "        text-align: right;\n",
       "    }\n",
       "</style>\n",
       "<table border=\"1\" class=\"dataframe\">\n",
       "  <thead>\n",
       "    <tr style=\"text-align: right;\">\n",
       "      <th></th>\n",
       "      <th>Year</th>\n",
       "      <th>Entity</th>\n",
       "      <th>Code</th>\n",
       "      <th>variable</th>\n",
       "      <th>value</th>\n",
       "    </tr>\n",
       "  </thead>\n",
       "  <tbody>\n",
       "    <tr>\n",
       "      <th>0</th>\n",
       "      <td>1985</td>\n",
       "      <td>World</td>\n",
       "      <td>OWID_WRL</td>\n",
       "      <td>Renewable</td>\n",
       "      <td>2058.0222</td>\n",
       "    </tr>\n",
       "    <tr>\n",
       "      <th>39</th>\n",
       "      <td>1985</td>\n",
       "      <td>World</td>\n",
       "      <td>OWID_WRL</td>\n",
       "      <td>Nuclear</td>\n",
       "      <td>1488.9216</td>\n",
       "    </tr>\n",
       "    <tr>\n",
       "      <th>78</th>\n",
       "      <td>1985</td>\n",
       "      <td>World</td>\n",
       "      <td>OWID_WRL</td>\n",
       "      <td>Fossil</td>\n",
       "      <td>6285.4736</td>\n",
       "    </tr>\n",
       "  </tbody>\n",
       "</table>\n",
       "</div>"
      ],
      "text/plain": [
       "    Year Entity      Code   variable      value\n",
       "0   1985  World  OWID_WRL  Renewable  2058.0222\n",
       "39  1985  World  OWID_WRL    Nuclear  1488.9216\n",
       "78  1985  World  OWID_WRL     Fossil  6285.4736"
      ]
     },
     "execution_count": 9,
     "metadata": {},
     "output_type": "execute_result"
    }
   ],
   "source": [
    "df[df.Year==1985]"
   ]
  },
  {
   "cell_type": "code",
   "execution_count": 10,
   "metadata": {},
   "outputs": [
    {
     "data": {
      "application/vnd.plotly.v1+json": {
       "config": {
        "plotlyServerURL": "https://plot.ly"
       },
       "data": [
        {
         "fillpattern": {
          "shape": ""
         },
         "hovertemplate": "variable=Renewable<br>Year=%{x}<br>value=%{y}<extra></extra>",
         "legendgroup": "Renewable",
         "line": {
          "color": "#636efa"
         },
         "marker": {
          "symbol": "circle"
         },
         "mode": "lines",
         "name": "Renewable",
         "orientation": "v",
         "showlegend": true,
         "stackgroup": "1",
         "type": "scatter",
         "x": [
          1985,
          1986,
          1987,
          1988,
          1989,
          1990,
          1991,
          1992,
          1993,
          1994,
          1995,
          1996,
          1997,
          1998,
          1999,
          2000,
          2001,
          2002,
          2003,
          2004,
          2005,
          2006,
          2007,
          2008,
          2009,
          2010,
          2011,
          2012,
          2013,
          2014,
          2015,
          2016,
          2017,
          2018,
          2019,
          2020,
          2021,
          2022,
          2023
         ],
         "xaxis": "x",
         "y": [
          2058.0222,
          2091.6704,
          2124.9146,
          2192.8516,
          2195.1711,
          2279.8643,
          2335.3965,
          2344.6736,
          2483.061,
          2504.311,
          2638.9414,
          2677.4333,
          2735.5457,
          2765.892,
          2799.2485,
          2858.4,
          2795.97,
          2873.26,
          2899.25,
          3129.16,
          3279.51,
          3432.46,
          3540.47,
          3798.13,
          3879.24,
          4191.63,
          4394.13,
          4721.16,
          5025.8,
          5285.56,
          5519.22,
          5858.55,
          6234.46,
          6647.13,
          7010.63,
          7483.8,
          7927.13,
          8484.63,
          8913.9
         ],
         "yaxis": "y"
        },
        {
         "fillpattern": {
          "shape": ""
         },
         "hovertemplate": "variable=Nuclear<br>Year=%{x}<br>value=%{y}<extra></extra>",
         "legendgroup": "Nuclear",
         "line": {
          "color": "#EF553B"
         },
         "marker": {
          "symbol": "circle"
         },
         "mode": "lines",
         "name": "Nuclear",
         "orientation": "v",
         "showlegend": true,
         "stackgroup": "1",
         "type": "scatter",
         "x": [
          1985,
          1986,
          1987,
          1988,
          1989,
          1990,
          1991,
          1992,
          1993,
          1994,
          1995,
          1996,
          1997,
          1998,
          1999,
          2000,
          2001,
          2002,
          2003,
          2004,
          2005,
          2006,
          2007,
          2008,
          2009,
          2010,
          2011,
          2012,
          2013,
          2014,
          2015,
          2016,
          2017,
          2018,
          2019,
          2020,
          2021,
          2022,
          2023
         ],
         "xaxis": "x",
         "y": [
          1488.9216,
          1594.7357,
          1734.7332,
          1891.2493,
          1945.0106,
          2000.596,
          2096.3098,
          2112.223,
          2184.9646,
          2225.9788,
          2322.5298,
          2406.615,
          2390.0642,
          2431.1948,
          2523.7056,
          2540.46,
          2613.17,
          2654.78,
          2601.05,
          2719.41,
          2726.97,
          2761.59,
          2703.49,
          2694.72,
          2656.76,
          2725.91,
          2610.34,
          2432.22,
          2448.52,
          2498.73,
          2532.93,
          2571.05,
          2594.23,
          2658.7,
          2754.08,
          2648.37,
          2762.24,
          2639.68,
          2685.74
         ],
         "yaxis": "y"
        },
        {
         "fillpattern": {
          "shape": ""
         },
         "hovertemplate": "variable=Fossil<br>Year=%{x}<br>value=%{y}<extra></extra>",
         "legendgroup": "Fossil",
         "line": {
          "color": "#00cc96"
         },
         "marker": {
          "symbol": "circle"
         },
         "mode": "lines",
         "name": "Fossil",
         "orientation": "v",
         "showlegend": true,
         "stackgroup": "1",
         "type": "scatter",
         "x": [
          1985,
          1986,
          1987,
          1988,
          1989,
          1990,
          1991,
          1992,
          1993,
          1994,
          1995,
          1996,
          1997,
          1998,
          1999,
          2000,
          2001,
          2002,
          2003,
          2004,
          2005,
          2006,
          2007,
          2008,
          2009,
          2010,
          2011,
          2012,
          2013,
          2014,
          2015,
          2016,
          2017,
          2018,
          2019,
          2020,
          2021,
          2022,
          2023
         ],
         "xaxis": "x",
         "y": [
          6285.4736,
          6439.9746,
          6757.7617,
          6998.179,
          7455.736,
          7614.993,
          7722.592,
          7807.883,
          7858.686,
          8119.1626,
          8335.322,
          8627.022,
          8911.184,
          9214.535,
          9498.733,
          9878.1,
          10090.26,
          10520.97,
          11126.3,
          11564.24,
          12126.32,
          12644.06,
          13468.19,
          13607.04,
          13405.4,
          14345.73,
          14952.61,
          15362.46,
          15681.07,
          15965.13,
          15953.64,
          16233.18,
          16574.46,
          17094,
          17006.52,
          16522.65,
          17480.51,
          17719.19,
          17879.41
         ],
         "yaxis": "y"
        }
       ],
       "layout": {
        "legend": {
         "title": {
          "text": "variable"
         },
         "tracegroupgap": 0
        },
        "template": {
         "data": {
          "bar": [
           {
            "error_x": {
             "color": "#2a3f5f"
            },
            "error_y": {
             "color": "#2a3f5f"
            },
            "marker": {
             "line": {
              "color": "#E5ECF6",
              "width": 0.5
             },
             "pattern": {
              "fillmode": "overlay",
              "size": 10,
              "solidity": 0.2
             }
            },
            "type": "bar"
           }
          ],
          "barpolar": [
           {
            "marker": {
             "line": {
              "color": "#E5ECF6",
              "width": 0.5
             },
             "pattern": {
              "fillmode": "overlay",
              "size": 10,
              "solidity": 0.2
             }
            },
            "type": "barpolar"
           }
          ],
          "carpet": [
           {
            "aaxis": {
             "endlinecolor": "#2a3f5f",
             "gridcolor": "white",
             "linecolor": "white",
             "minorgridcolor": "white",
             "startlinecolor": "#2a3f5f"
            },
            "baxis": {
             "endlinecolor": "#2a3f5f",
             "gridcolor": "white",
             "linecolor": "white",
             "minorgridcolor": "white",
             "startlinecolor": "#2a3f5f"
            },
            "type": "carpet"
           }
          ],
          "choropleth": [
           {
            "colorbar": {
             "outlinewidth": 0,
             "ticks": ""
            },
            "type": "choropleth"
           }
          ],
          "contour": [
           {
            "colorbar": {
             "outlinewidth": 0,
             "ticks": ""
            },
            "colorscale": [
             [
              0,
              "#0d0887"
             ],
             [
              0.1111111111111111,
              "#46039f"
             ],
             [
              0.2222222222222222,
              "#7201a8"
             ],
             [
              0.3333333333333333,
              "#9c179e"
             ],
             [
              0.4444444444444444,
              "#bd3786"
             ],
             [
              0.5555555555555556,
              "#d8576b"
             ],
             [
              0.6666666666666666,
              "#ed7953"
             ],
             [
              0.7777777777777778,
              "#fb9f3a"
             ],
             [
              0.8888888888888888,
              "#fdca26"
             ],
             [
              1,
              "#f0f921"
             ]
            ],
            "type": "contour"
           }
          ],
          "contourcarpet": [
           {
            "colorbar": {
             "outlinewidth": 0,
             "ticks": ""
            },
            "type": "contourcarpet"
           }
          ],
          "heatmap": [
           {
            "colorbar": {
             "outlinewidth": 0,
             "ticks": ""
            },
            "colorscale": [
             [
              0,
              "#0d0887"
             ],
             [
              0.1111111111111111,
              "#46039f"
             ],
             [
              0.2222222222222222,
              "#7201a8"
             ],
             [
              0.3333333333333333,
              "#9c179e"
             ],
             [
              0.4444444444444444,
              "#bd3786"
             ],
             [
              0.5555555555555556,
              "#d8576b"
             ],
             [
              0.6666666666666666,
              "#ed7953"
             ],
             [
              0.7777777777777778,
              "#fb9f3a"
             ],
             [
              0.8888888888888888,
              "#fdca26"
             ],
             [
              1,
              "#f0f921"
             ]
            ],
            "type": "heatmap"
           }
          ],
          "heatmapgl": [
           {
            "colorbar": {
             "outlinewidth": 0,
             "ticks": ""
            },
            "colorscale": [
             [
              0,
              "#0d0887"
             ],
             [
              0.1111111111111111,
              "#46039f"
             ],
             [
              0.2222222222222222,
              "#7201a8"
             ],
             [
              0.3333333333333333,
              "#9c179e"
             ],
             [
              0.4444444444444444,
              "#bd3786"
             ],
             [
              0.5555555555555556,
              "#d8576b"
             ],
             [
              0.6666666666666666,
              "#ed7953"
             ],
             [
              0.7777777777777778,
              "#fb9f3a"
             ],
             [
              0.8888888888888888,
              "#fdca26"
             ],
             [
              1,
              "#f0f921"
             ]
            ],
            "type": "heatmapgl"
           }
          ],
          "histogram": [
           {
            "marker": {
             "pattern": {
              "fillmode": "overlay",
              "size": 10,
              "solidity": 0.2
             }
            },
            "type": "histogram"
           }
          ],
          "histogram2d": [
           {
            "colorbar": {
             "outlinewidth": 0,
             "ticks": ""
            },
            "colorscale": [
             [
              0,
              "#0d0887"
             ],
             [
              0.1111111111111111,
              "#46039f"
             ],
             [
              0.2222222222222222,
              "#7201a8"
             ],
             [
              0.3333333333333333,
              "#9c179e"
             ],
             [
              0.4444444444444444,
              "#bd3786"
             ],
             [
              0.5555555555555556,
              "#d8576b"
             ],
             [
              0.6666666666666666,
              "#ed7953"
             ],
             [
              0.7777777777777778,
              "#fb9f3a"
             ],
             [
              0.8888888888888888,
              "#fdca26"
             ],
             [
              1,
              "#f0f921"
             ]
            ],
            "type": "histogram2d"
           }
          ],
          "histogram2dcontour": [
           {
            "colorbar": {
             "outlinewidth": 0,
             "ticks": ""
            },
            "colorscale": [
             [
              0,
              "#0d0887"
             ],
             [
              0.1111111111111111,
              "#46039f"
             ],
             [
              0.2222222222222222,
              "#7201a8"
             ],
             [
              0.3333333333333333,
              "#9c179e"
             ],
             [
              0.4444444444444444,
              "#bd3786"
             ],
             [
              0.5555555555555556,
              "#d8576b"
             ],
             [
              0.6666666666666666,
              "#ed7953"
             ],
             [
              0.7777777777777778,
              "#fb9f3a"
             ],
             [
              0.8888888888888888,
              "#fdca26"
             ],
             [
              1,
              "#f0f921"
             ]
            ],
            "type": "histogram2dcontour"
           }
          ],
          "mesh3d": [
           {
            "colorbar": {
             "outlinewidth": 0,
             "ticks": ""
            },
            "type": "mesh3d"
           }
          ],
          "parcoords": [
           {
            "line": {
             "colorbar": {
              "outlinewidth": 0,
              "ticks": ""
             }
            },
            "type": "parcoords"
           }
          ],
          "pie": [
           {
            "automargin": true,
            "type": "pie"
           }
          ],
          "scatter": [
           {
            "fillpattern": {
             "fillmode": "overlay",
             "size": 10,
             "solidity": 0.2
            },
            "type": "scatter"
           }
          ],
          "scatter3d": [
           {
            "line": {
             "colorbar": {
              "outlinewidth": 0,
              "ticks": ""
             }
            },
            "marker": {
             "colorbar": {
              "outlinewidth": 0,
              "ticks": ""
             }
            },
            "type": "scatter3d"
           }
          ],
          "scattercarpet": [
           {
            "marker": {
             "colorbar": {
              "outlinewidth": 0,
              "ticks": ""
             }
            },
            "type": "scattercarpet"
           }
          ],
          "scattergeo": [
           {
            "marker": {
             "colorbar": {
              "outlinewidth": 0,
              "ticks": ""
             }
            },
            "type": "scattergeo"
           }
          ],
          "scattergl": [
           {
            "marker": {
             "colorbar": {
              "outlinewidth": 0,
              "ticks": ""
             }
            },
            "type": "scattergl"
           }
          ],
          "scattermapbox": [
           {
            "marker": {
             "colorbar": {
              "outlinewidth": 0,
              "ticks": ""
             }
            },
            "type": "scattermapbox"
           }
          ],
          "scatterpolar": [
           {
            "marker": {
             "colorbar": {
              "outlinewidth": 0,
              "ticks": ""
             }
            },
            "type": "scatterpolar"
           }
          ],
          "scatterpolargl": [
           {
            "marker": {
             "colorbar": {
              "outlinewidth": 0,
              "ticks": ""
             }
            },
            "type": "scatterpolargl"
           }
          ],
          "scatterternary": [
           {
            "marker": {
             "colorbar": {
              "outlinewidth": 0,
              "ticks": ""
             }
            },
            "type": "scatterternary"
           }
          ],
          "surface": [
           {
            "colorbar": {
             "outlinewidth": 0,
             "ticks": ""
            },
            "colorscale": [
             [
              0,
              "#0d0887"
             ],
             [
              0.1111111111111111,
              "#46039f"
             ],
             [
              0.2222222222222222,
              "#7201a8"
             ],
             [
              0.3333333333333333,
              "#9c179e"
             ],
             [
              0.4444444444444444,
              "#bd3786"
             ],
             [
              0.5555555555555556,
              "#d8576b"
             ],
             [
              0.6666666666666666,
              "#ed7953"
             ],
             [
              0.7777777777777778,
              "#fb9f3a"
             ],
             [
              0.8888888888888888,
              "#fdca26"
             ],
             [
              1,
              "#f0f921"
             ]
            ],
            "type": "surface"
           }
          ],
          "table": [
           {
            "cells": {
             "fill": {
              "color": "#EBF0F8"
             },
             "line": {
              "color": "white"
             }
            },
            "header": {
             "fill": {
              "color": "#C8D4E3"
             },
             "line": {
              "color": "white"
             }
            },
            "type": "table"
           }
          ]
         },
         "layout": {
          "annotationdefaults": {
           "arrowcolor": "#2a3f5f",
           "arrowhead": 0,
           "arrowwidth": 1
          },
          "autotypenumbers": "strict",
          "coloraxis": {
           "colorbar": {
            "outlinewidth": 0,
            "ticks": ""
           }
          },
          "colorscale": {
           "diverging": [
            [
             0,
             "#8e0152"
            ],
            [
             0.1,
             "#c51b7d"
            ],
            [
             0.2,
             "#de77ae"
            ],
            [
             0.3,
             "#f1b6da"
            ],
            [
             0.4,
             "#fde0ef"
            ],
            [
             0.5,
             "#f7f7f7"
            ],
            [
             0.6,
             "#e6f5d0"
            ],
            [
             0.7,
             "#b8e186"
            ],
            [
             0.8,
             "#7fbc41"
            ],
            [
             0.9,
             "#4d9221"
            ],
            [
             1,
             "#276419"
            ]
           ],
           "sequential": [
            [
             0,
             "#0d0887"
            ],
            [
             0.1111111111111111,
             "#46039f"
            ],
            [
             0.2222222222222222,
             "#7201a8"
            ],
            [
             0.3333333333333333,
             "#9c179e"
            ],
            [
             0.4444444444444444,
             "#bd3786"
            ],
            [
             0.5555555555555556,
             "#d8576b"
            ],
            [
             0.6666666666666666,
             "#ed7953"
            ],
            [
             0.7777777777777778,
             "#fb9f3a"
            ],
            [
             0.8888888888888888,
             "#fdca26"
            ],
            [
             1,
             "#f0f921"
            ]
           ],
           "sequentialminus": [
            [
             0,
             "#0d0887"
            ],
            [
             0.1111111111111111,
             "#46039f"
            ],
            [
             0.2222222222222222,
             "#7201a8"
            ],
            [
             0.3333333333333333,
             "#9c179e"
            ],
            [
             0.4444444444444444,
             "#bd3786"
            ],
            [
             0.5555555555555556,
             "#d8576b"
            ],
            [
             0.6666666666666666,
             "#ed7953"
            ],
            [
             0.7777777777777778,
             "#fb9f3a"
            ],
            [
             0.8888888888888888,
             "#fdca26"
            ],
            [
             1,
             "#f0f921"
            ]
           ]
          },
          "colorway": [
           "#636efa",
           "#EF553B",
           "#00cc96",
           "#ab63fa",
           "#FFA15A",
           "#19d3f3",
           "#FF6692",
           "#B6E880",
           "#FF97FF",
           "#FECB52"
          ],
          "font": {
           "color": "#2a3f5f"
          },
          "geo": {
           "bgcolor": "white",
           "lakecolor": "white",
           "landcolor": "#E5ECF6",
           "showlakes": true,
           "showland": true,
           "subunitcolor": "white"
          },
          "hoverlabel": {
           "align": "left"
          },
          "hovermode": "closest",
          "mapbox": {
           "style": "light"
          },
          "paper_bgcolor": "white",
          "plot_bgcolor": "#E5ECF6",
          "polar": {
           "angularaxis": {
            "gridcolor": "white",
            "linecolor": "white",
            "ticks": ""
           },
           "bgcolor": "#E5ECF6",
           "radialaxis": {
            "gridcolor": "white",
            "linecolor": "white",
            "ticks": ""
           }
          },
          "scene": {
           "xaxis": {
            "backgroundcolor": "#E5ECF6",
            "gridcolor": "white",
            "gridwidth": 2,
            "linecolor": "white",
            "showbackground": true,
            "ticks": "",
            "zerolinecolor": "white"
           },
           "yaxis": {
            "backgroundcolor": "#E5ECF6",
            "gridcolor": "white",
            "gridwidth": 2,
            "linecolor": "white",
            "showbackground": true,
            "ticks": "",
            "zerolinecolor": "white"
           },
           "zaxis": {
            "backgroundcolor": "#E5ECF6",
            "gridcolor": "white",
            "gridwidth": 2,
            "linecolor": "white",
            "showbackground": true,
            "ticks": "",
            "zerolinecolor": "white"
           }
          },
          "shapedefaults": {
           "line": {
            "color": "#2a3f5f"
           }
          },
          "ternary": {
           "aaxis": {
            "gridcolor": "white",
            "linecolor": "white",
            "ticks": ""
           },
           "baxis": {
            "gridcolor": "white",
            "linecolor": "white",
            "ticks": ""
           },
           "bgcolor": "#E5ECF6",
           "caxis": {
            "gridcolor": "white",
            "linecolor": "white",
            "ticks": ""
           }
          },
          "title": {
           "x": 0.05
          },
          "xaxis": {
           "automargin": true,
           "gridcolor": "white",
           "linecolor": "white",
           "ticks": "",
           "title": {
            "standoff": 15
           },
           "zerolinecolor": "white",
           "zerolinewidth": 2
          },
          "yaxis": {
           "automargin": true,
           "gridcolor": "white",
           "linecolor": "white",
           "ticks": "",
           "title": {
            "standoff": 15
           },
           "zerolinecolor": "white",
           "zerolinewidth": 2
          }
         }
        },
        "title": {
         "text": "Electricity production from fossil fuels, nuclear and renewables, World"
        },
        "xaxis": {
         "anchor": "y",
         "domain": [
          0,
          1
         ],
         "title": {
          "text": "Year"
         }
        },
        "yaxis": {
         "anchor": "x",
         "domain": [
          0,
          1
         ],
         "title": {
          "text": "value"
         }
        }
       }
      }
     },
     "metadata": {},
     "output_type": "display_data"
    }
   ],
   "source": [
    "fig = px.area(df, x='Year', y='value', color='variable',\n",
    "             title = 'Electricity production from fossil fuels, nuclear and renewables, World')\n",
    "fig.show()"
   ]
  },
  {
   "cell_type": "code",
   "execution_count": 11,
   "metadata": {},
   "outputs": [
    {
     "data": {
      "application/vnd.plotly.v1+json": {
       "config": {
        "plotlyServerURL": "https://plot.ly"
       },
       "data": [
        {
         "fillpattern": {
          "shape": ""
         },
         "hovertemplate": "variable=Renewable<br>Year=%{x}<br>value=%{y}<extra></extra>",
         "legendgroup": "Renewable",
         "line": {
          "color": "#636efa"
         },
         "marker": {
          "symbol": "circle"
         },
         "mode": "lines",
         "name": "Renewable",
         "orientation": "v",
         "showlegend": true,
         "stackgroup": "1",
         "type": "scatter",
         "x": [
          1985,
          1986,
          1987,
          1988,
          1989,
          1990,
          1991,
          1992,
          1993,
          1994,
          1995,
          1996,
          1997,
          1998,
          1999,
          2000,
          2001,
          2002,
          2003,
          2004,
          2005,
          2006,
          2007,
          2008,
          2009,
          2010,
          2011,
          2012,
          2013,
          2014,
          2015,
          2016,
          2017,
          2018,
          2019,
          2020,
          2021,
          2022,
          2023
         ],
         "xaxis": "x",
         "y": [
          2058.0222,
          2091.6704,
          2124.9146,
          2192.8516,
          2195.1711,
          2279.8643,
          2335.3965,
          2344.6736,
          2483.061,
          2504.311,
          2638.9414,
          2677.4333,
          2735.5457,
          2765.892,
          2799.2485,
          2858.4,
          2795.97,
          2873.26,
          2899.25,
          3129.16,
          3279.51,
          3432.46,
          3540.47,
          3798.13,
          3879.24,
          4191.63,
          4394.13,
          4721.16,
          5025.8,
          5285.56,
          5519.22,
          5858.55,
          6234.46,
          6647.13,
          7010.63,
          7483.8,
          7927.13,
          8484.63,
          8913.9
         ],
         "yaxis": "y"
        },
        {
         "fillpattern": {
          "shape": ""
         },
         "hovertemplate": "variable=Nuclear<br>Year=%{x}<br>value=%{y}<extra></extra>",
         "legendgroup": "Nuclear",
         "line": {
          "color": "#EF553B"
         },
         "marker": {
          "symbol": "circle"
         },
         "mode": "lines",
         "name": "Nuclear",
         "orientation": "v",
         "showlegend": true,
         "stackgroup": "1",
         "type": "scatter",
         "x": [
          1985,
          1986,
          1987,
          1988,
          1989,
          1990,
          1991,
          1992,
          1993,
          1994,
          1995,
          1996,
          1997,
          1998,
          1999,
          2000,
          2001,
          2002,
          2003,
          2004,
          2005,
          2006,
          2007,
          2008,
          2009,
          2010,
          2011,
          2012,
          2013,
          2014,
          2015,
          2016,
          2017,
          2018,
          2019,
          2020,
          2021,
          2022,
          2023
         ],
         "xaxis": "x",
         "y": [
          1488.9216,
          1594.7357,
          1734.7332,
          1891.2493,
          1945.0106,
          2000.596,
          2096.3098,
          2112.223,
          2184.9646,
          2225.9788,
          2322.5298,
          2406.615,
          2390.0642,
          2431.1948,
          2523.7056,
          2540.46,
          2613.17,
          2654.78,
          2601.05,
          2719.41,
          2726.97,
          2761.59,
          2703.49,
          2694.72,
          2656.76,
          2725.91,
          2610.34,
          2432.22,
          2448.52,
          2498.73,
          2532.93,
          2571.05,
          2594.23,
          2658.7,
          2754.08,
          2648.37,
          2762.24,
          2639.68,
          2685.74
         ],
         "yaxis": "y"
        },
        {
         "fillpattern": {
          "shape": ""
         },
         "hovertemplate": "variable=Fossil<br>Year=%{x}<br>value=%{y}<extra></extra>",
         "legendgroup": "Fossil",
         "line": {
          "color": "#00cc96"
         },
         "marker": {
          "symbol": "circle"
         },
         "mode": "lines",
         "name": "Fossil",
         "orientation": "v",
         "showlegend": true,
         "stackgroup": "1",
         "type": "scatter",
         "x": [
          1985,
          1986,
          1987,
          1988,
          1989,
          1990,
          1991,
          1992,
          1993,
          1994,
          1995,
          1996,
          1997,
          1998,
          1999,
          2000,
          2001,
          2002,
          2003,
          2004,
          2005,
          2006,
          2007,
          2008,
          2009,
          2010,
          2011,
          2012,
          2013,
          2014,
          2015,
          2016,
          2017,
          2018,
          2019,
          2020,
          2021,
          2022,
          2023
         ],
         "xaxis": "x",
         "y": [
          6285.4736,
          6439.9746,
          6757.7617,
          6998.179,
          7455.736,
          7614.993,
          7722.592,
          7807.883,
          7858.686,
          8119.1626,
          8335.322,
          8627.022,
          8911.184,
          9214.535,
          9498.733,
          9878.1,
          10090.26,
          10520.97,
          11126.3,
          11564.24,
          12126.32,
          12644.06,
          13468.19,
          13607.04,
          13405.4,
          14345.73,
          14952.61,
          15362.46,
          15681.07,
          15965.13,
          15953.64,
          16233.18,
          16574.46,
          17094,
          17006.52,
          16522.65,
          17480.51,
          17719.19,
          17879.41
         ],
         "yaxis": "y"
        }
       ],
       "layout": {
        "height": 500,
        "legend": {
         "title": {
          "text": "variable"
         },
         "tracegroupgap": 0
        },
        "template": {
         "data": {
          "bar": [
           {
            "error_x": {
             "color": "#2a3f5f"
            },
            "error_y": {
             "color": "#2a3f5f"
            },
            "marker": {
             "line": {
              "color": "#E5ECF6",
              "width": 0.5
             },
             "pattern": {
              "fillmode": "overlay",
              "size": 10,
              "solidity": 0.2
             }
            },
            "type": "bar"
           }
          ],
          "barpolar": [
           {
            "marker": {
             "line": {
              "color": "#E5ECF6",
              "width": 0.5
             },
             "pattern": {
              "fillmode": "overlay",
              "size": 10,
              "solidity": 0.2
             }
            },
            "type": "barpolar"
           }
          ],
          "carpet": [
           {
            "aaxis": {
             "endlinecolor": "#2a3f5f",
             "gridcolor": "white",
             "linecolor": "white",
             "minorgridcolor": "white",
             "startlinecolor": "#2a3f5f"
            },
            "baxis": {
             "endlinecolor": "#2a3f5f",
             "gridcolor": "white",
             "linecolor": "white",
             "minorgridcolor": "white",
             "startlinecolor": "#2a3f5f"
            },
            "type": "carpet"
           }
          ],
          "choropleth": [
           {
            "colorbar": {
             "outlinewidth": 0,
             "ticks": ""
            },
            "type": "choropleth"
           }
          ],
          "contour": [
           {
            "colorbar": {
             "outlinewidth": 0,
             "ticks": ""
            },
            "colorscale": [
             [
              0,
              "#0d0887"
             ],
             [
              0.1111111111111111,
              "#46039f"
             ],
             [
              0.2222222222222222,
              "#7201a8"
             ],
             [
              0.3333333333333333,
              "#9c179e"
             ],
             [
              0.4444444444444444,
              "#bd3786"
             ],
             [
              0.5555555555555556,
              "#d8576b"
             ],
             [
              0.6666666666666666,
              "#ed7953"
             ],
             [
              0.7777777777777778,
              "#fb9f3a"
             ],
             [
              0.8888888888888888,
              "#fdca26"
             ],
             [
              1,
              "#f0f921"
             ]
            ],
            "type": "contour"
           }
          ],
          "contourcarpet": [
           {
            "colorbar": {
             "outlinewidth": 0,
             "ticks": ""
            },
            "type": "contourcarpet"
           }
          ],
          "heatmap": [
           {
            "colorbar": {
             "outlinewidth": 0,
             "ticks": ""
            },
            "colorscale": [
             [
              0,
              "#0d0887"
             ],
             [
              0.1111111111111111,
              "#46039f"
             ],
             [
              0.2222222222222222,
              "#7201a8"
             ],
             [
              0.3333333333333333,
              "#9c179e"
             ],
             [
              0.4444444444444444,
              "#bd3786"
             ],
             [
              0.5555555555555556,
              "#d8576b"
             ],
             [
              0.6666666666666666,
              "#ed7953"
             ],
             [
              0.7777777777777778,
              "#fb9f3a"
             ],
             [
              0.8888888888888888,
              "#fdca26"
             ],
             [
              1,
              "#f0f921"
             ]
            ],
            "type": "heatmap"
           }
          ],
          "heatmapgl": [
           {
            "colorbar": {
             "outlinewidth": 0,
             "ticks": ""
            },
            "colorscale": [
             [
              0,
              "#0d0887"
             ],
             [
              0.1111111111111111,
              "#46039f"
             ],
             [
              0.2222222222222222,
              "#7201a8"
             ],
             [
              0.3333333333333333,
              "#9c179e"
             ],
             [
              0.4444444444444444,
              "#bd3786"
             ],
             [
              0.5555555555555556,
              "#d8576b"
             ],
             [
              0.6666666666666666,
              "#ed7953"
             ],
             [
              0.7777777777777778,
              "#fb9f3a"
             ],
             [
              0.8888888888888888,
              "#fdca26"
             ],
             [
              1,
              "#f0f921"
             ]
            ],
            "type": "heatmapgl"
           }
          ],
          "histogram": [
           {
            "marker": {
             "pattern": {
              "fillmode": "overlay",
              "size": 10,
              "solidity": 0.2
             }
            },
            "type": "histogram"
           }
          ],
          "histogram2d": [
           {
            "colorbar": {
             "outlinewidth": 0,
             "ticks": ""
            },
            "colorscale": [
             [
              0,
              "#0d0887"
             ],
             [
              0.1111111111111111,
              "#46039f"
             ],
             [
              0.2222222222222222,
              "#7201a8"
             ],
             [
              0.3333333333333333,
              "#9c179e"
             ],
             [
              0.4444444444444444,
              "#bd3786"
             ],
             [
              0.5555555555555556,
              "#d8576b"
             ],
             [
              0.6666666666666666,
              "#ed7953"
             ],
             [
              0.7777777777777778,
              "#fb9f3a"
             ],
             [
              0.8888888888888888,
              "#fdca26"
             ],
             [
              1,
              "#f0f921"
             ]
            ],
            "type": "histogram2d"
           }
          ],
          "histogram2dcontour": [
           {
            "colorbar": {
             "outlinewidth": 0,
             "ticks": ""
            },
            "colorscale": [
             [
              0,
              "#0d0887"
             ],
             [
              0.1111111111111111,
              "#46039f"
             ],
             [
              0.2222222222222222,
              "#7201a8"
             ],
             [
              0.3333333333333333,
              "#9c179e"
             ],
             [
              0.4444444444444444,
              "#bd3786"
             ],
             [
              0.5555555555555556,
              "#d8576b"
             ],
             [
              0.6666666666666666,
              "#ed7953"
             ],
             [
              0.7777777777777778,
              "#fb9f3a"
             ],
             [
              0.8888888888888888,
              "#fdca26"
             ],
             [
              1,
              "#f0f921"
             ]
            ],
            "type": "histogram2dcontour"
           }
          ],
          "mesh3d": [
           {
            "colorbar": {
             "outlinewidth": 0,
             "ticks": ""
            },
            "type": "mesh3d"
           }
          ],
          "parcoords": [
           {
            "line": {
             "colorbar": {
              "outlinewidth": 0,
              "ticks": ""
             }
            },
            "type": "parcoords"
           }
          ],
          "pie": [
           {
            "automargin": true,
            "type": "pie"
           }
          ],
          "scatter": [
           {
            "fillpattern": {
             "fillmode": "overlay",
             "size": 10,
             "solidity": 0.2
            },
            "type": "scatter"
           }
          ],
          "scatter3d": [
           {
            "line": {
             "colorbar": {
              "outlinewidth": 0,
              "ticks": ""
             }
            },
            "marker": {
             "colorbar": {
              "outlinewidth": 0,
              "ticks": ""
             }
            },
            "type": "scatter3d"
           }
          ],
          "scattercarpet": [
           {
            "marker": {
             "colorbar": {
              "outlinewidth": 0,
              "ticks": ""
             }
            },
            "type": "scattercarpet"
           }
          ],
          "scattergeo": [
           {
            "marker": {
             "colorbar": {
              "outlinewidth": 0,
              "ticks": ""
             }
            },
            "type": "scattergeo"
           }
          ],
          "scattergl": [
           {
            "marker": {
             "colorbar": {
              "outlinewidth": 0,
              "ticks": ""
             }
            },
            "type": "scattergl"
           }
          ],
          "scattermapbox": [
           {
            "marker": {
             "colorbar": {
              "outlinewidth": 0,
              "ticks": ""
             }
            },
            "type": "scattermapbox"
           }
          ],
          "scatterpolar": [
           {
            "marker": {
             "colorbar": {
              "outlinewidth": 0,
              "ticks": ""
             }
            },
            "type": "scatterpolar"
           }
          ],
          "scatterpolargl": [
           {
            "marker": {
             "colorbar": {
              "outlinewidth": 0,
              "ticks": ""
             }
            },
            "type": "scatterpolargl"
           }
          ],
          "scatterternary": [
           {
            "marker": {
             "colorbar": {
              "outlinewidth": 0,
              "ticks": ""
             }
            },
            "type": "scatterternary"
           }
          ],
          "surface": [
           {
            "colorbar": {
             "outlinewidth": 0,
             "ticks": ""
            },
            "colorscale": [
             [
              0,
              "#0d0887"
             ],
             [
              0.1111111111111111,
              "#46039f"
             ],
             [
              0.2222222222222222,
              "#7201a8"
             ],
             [
              0.3333333333333333,
              "#9c179e"
             ],
             [
              0.4444444444444444,
              "#bd3786"
             ],
             [
              0.5555555555555556,
              "#d8576b"
             ],
             [
              0.6666666666666666,
              "#ed7953"
             ],
             [
              0.7777777777777778,
              "#fb9f3a"
             ],
             [
              0.8888888888888888,
              "#fdca26"
             ],
             [
              1,
              "#f0f921"
             ]
            ],
            "type": "surface"
           }
          ],
          "table": [
           {
            "cells": {
             "fill": {
              "color": "#EBF0F8"
             },
             "line": {
              "color": "white"
             }
            },
            "header": {
             "fill": {
              "color": "#C8D4E3"
             },
             "line": {
              "color": "white"
             }
            },
            "type": "table"
           }
          ]
         },
         "layout": {
          "annotationdefaults": {
           "arrowcolor": "#2a3f5f",
           "arrowhead": 0,
           "arrowwidth": 1
          },
          "autotypenumbers": "strict",
          "coloraxis": {
           "colorbar": {
            "outlinewidth": 0,
            "ticks": ""
           }
          },
          "colorscale": {
           "diverging": [
            [
             0,
             "#8e0152"
            ],
            [
             0.1,
             "#c51b7d"
            ],
            [
             0.2,
             "#de77ae"
            ],
            [
             0.3,
             "#f1b6da"
            ],
            [
             0.4,
             "#fde0ef"
            ],
            [
             0.5,
             "#f7f7f7"
            ],
            [
             0.6,
             "#e6f5d0"
            ],
            [
             0.7,
             "#b8e186"
            ],
            [
             0.8,
             "#7fbc41"
            ],
            [
             0.9,
             "#4d9221"
            ],
            [
             1,
             "#276419"
            ]
           ],
           "sequential": [
            [
             0,
             "#0d0887"
            ],
            [
             0.1111111111111111,
             "#46039f"
            ],
            [
             0.2222222222222222,
             "#7201a8"
            ],
            [
             0.3333333333333333,
             "#9c179e"
            ],
            [
             0.4444444444444444,
             "#bd3786"
            ],
            [
             0.5555555555555556,
             "#d8576b"
            ],
            [
             0.6666666666666666,
             "#ed7953"
            ],
            [
             0.7777777777777778,
             "#fb9f3a"
            ],
            [
             0.8888888888888888,
             "#fdca26"
            ],
            [
             1,
             "#f0f921"
            ]
           ],
           "sequentialminus": [
            [
             0,
             "#0d0887"
            ],
            [
             0.1111111111111111,
             "#46039f"
            ],
            [
             0.2222222222222222,
             "#7201a8"
            ],
            [
             0.3333333333333333,
             "#9c179e"
            ],
            [
             0.4444444444444444,
             "#bd3786"
            ],
            [
             0.5555555555555556,
             "#d8576b"
            ],
            [
             0.6666666666666666,
             "#ed7953"
            ],
            [
             0.7777777777777778,
             "#fb9f3a"
            ],
            [
             0.8888888888888888,
             "#fdca26"
            ],
            [
             1,
             "#f0f921"
            ]
           ]
          },
          "colorway": [
           "#636efa",
           "#EF553B",
           "#00cc96",
           "#ab63fa",
           "#FFA15A",
           "#19d3f3",
           "#FF6692",
           "#B6E880",
           "#FF97FF",
           "#FECB52"
          ],
          "font": {
           "color": "#2a3f5f"
          },
          "geo": {
           "bgcolor": "white",
           "lakecolor": "white",
           "landcolor": "#E5ECF6",
           "showlakes": true,
           "showland": true,
           "subunitcolor": "white"
          },
          "hoverlabel": {
           "align": "left"
          },
          "hovermode": "closest",
          "mapbox": {
           "style": "light"
          },
          "paper_bgcolor": "white",
          "plot_bgcolor": "#E5ECF6",
          "polar": {
           "angularaxis": {
            "gridcolor": "white",
            "linecolor": "white",
            "ticks": ""
           },
           "bgcolor": "#E5ECF6",
           "radialaxis": {
            "gridcolor": "white",
            "linecolor": "white",
            "ticks": ""
           }
          },
          "scene": {
           "xaxis": {
            "backgroundcolor": "#E5ECF6",
            "gridcolor": "white",
            "gridwidth": 2,
            "linecolor": "white",
            "showbackground": true,
            "ticks": "",
            "zerolinecolor": "white"
           },
           "yaxis": {
            "backgroundcolor": "#E5ECF6",
            "gridcolor": "white",
            "gridwidth": 2,
            "linecolor": "white",
            "showbackground": true,
            "ticks": "",
            "zerolinecolor": "white"
           },
           "zaxis": {
            "backgroundcolor": "#E5ECF6",
            "gridcolor": "white",
            "gridwidth": 2,
            "linecolor": "white",
            "showbackground": true,
            "ticks": "",
            "zerolinecolor": "white"
           }
          },
          "shapedefaults": {
           "line": {
            "color": "#2a3f5f"
           }
          },
          "ternary": {
           "aaxis": {
            "gridcolor": "white",
            "linecolor": "white",
            "ticks": ""
           },
           "baxis": {
            "gridcolor": "white",
            "linecolor": "white",
            "ticks": ""
           },
           "bgcolor": "#E5ECF6",
           "caxis": {
            "gridcolor": "white",
            "linecolor": "white",
            "ticks": ""
           }
          },
          "title": {
           "x": 0.05
          },
          "xaxis": {
           "automargin": true,
           "gridcolor": "white",
           "linecolor": "white",
           "ticks": "",
           "title": {
            "standoff": 15
           },
           "zerolinecolor": "white",
           "zerolinewidth": 2
          },
          "yaxis": {
           "automargin": true,
           "gridcolor": "white",
           "linecolor": "white",
           "ticks": "",
           "title": {
            "standoff": 15
           },
           "zerolinecolor": "white",
           "zerolinewidth": 2
          }
         }
        },
        "title": {
         "text": "Electricity production from fossil fuels, nuclear and renewables, World"
        },
        "width": 800,
        "xaxis": {
         "anchor": "y",
         "domain": [
          0,
          1
         ],
         "title": {
          "text": "Year"
         }
        },
        "yaxis": {
         "anchor": "x",
         "domain": [
          0,
          1
         ],
         "title": {
          "text": "value"
         }
        }
       }
      }
     },
     "metadata": {},
     "output_type": "display_data"
    }
   ],
   "source": [
    "fig = px.area(df, x='Year', y='value', color='variable',\n",
    "              height = 500, width = 800,\n",
    "             title = 'Electricity production from fossil fuels, nuclear and renewables, World')\n",
    "fig.show()"
   ]
  },
  {
   "cell_type": "code",
   "execution_count": 12,
   "metadata": {},
   "outputs": [
    {
     "data": {
      "application/vnd.plotly.v1+json": {
       "config": {
        "plotlyServerURL": "https://plot.ly"
       },
       "data": [
        {
         "fillpattern": {
          "shape": ""
         },
         "hovertemplate": "variable=Renewable<br>Year=%{x}<br>value=%{y}<extra></extra>",
         "legendgroup": "Renewable",
         "line": {
          "color": "rgb(95, 70, 144)"
         },
         "marker": {
          "symbol": "circle"
         },
         "mode": "lines",
         "name": "Renewable",
         "orientation": "v",
         "showlegend": true,
         "stackgroup": "1",
         "type": "scatter",
         "x": [
          1985,
          1986,
          1987,
          1988,
          1989,
          1990,
          1991,
          1992,
          1993,
          1994,
          1995,
          1996,
          1997,
          1998,
          1999,
          2000,
          2001,
          2002,
          2003,
          2004,
          2005,
          2006,
          2007,
          2008,
          2009,
          2010,
          2011,
          2012,
          2013,
          2014,
          2015,
          2016,
          2017,
          2018,
          2019,
          2020,
          2021,
          2022,
          2023
         ],
         "xaxis": "x",
         "y": [
          2058.0222,
          2091.6704,
          2124.9146,
          2192.8516,
          2195.1711,
          2279.8643,
          2335.3965,
          2344.6736,
          2483.061,
          2504.311,
          2638.9414,
          2677.4333,
          2735.5457,
          2765.892,
          2799.2485,
          2858.4,
          2795.97,
          2873.26,
          2899.25,
          3129.16,
          3279.51,
          3432.46,
          3540.47,
          3798.13,
          3879.24,
          4191.63,
          4394.13,
          4721.16,
          5025.8,
          5285.56,
          5519.22,
          5858.55,
          6234.46,
          6647.13,
          7010.63,
          7483.8,
          7927.13,
          8484.63,
          8913.9
         ],
         "yaxis": "y"
        },
        {
         "fillpattern": {
          "shape": ""
         },
         "hovertemplate": "variable=Nuclear<br>Year=%{x}<br>value=%{y}<extra></extra>",
         "legendgroup": "Nuclear",
         "line": {
          "color": "rgb(29, 105, 150)"
         },
         "marker": {
          "symbol": "circle"
         },
         "mode": "lines",
         "name": "Nuclear",
         "orientation": "v",
         "showlegend": true,
         "stackgroup": "1",
         "type": "scatter",
         "x": [
          1985,
          1986,
          1987,
          1988,
          1989,
          1990,
          1991,
          1992,
          1993,
          1994,
          1995,
          1996,
          1997,
          1998,
          1999,
          2000,
          2001,
          2002,
          2003,
          2004,
          2005,
          2006,
          2007,
          2008,
          2009,
          2010,
          2011,
          2012,
          2013,
          2014,
          2015,
          2016,
          2017,
          2018,
          2019,
          2020,
          2021,
          2022,
          2023
         ],
         "xaxis": "x",
         "y": [
          1488.9216,
          1594.7357,
          1734.7332,
          1891.2493,
          1945.0106,
          2000.596,
          2096.3098,
          2112.223,
          2184.9646,
          2225.9788,
          2322.5298,
          2406.615,
          2390.0642,
          2431.1948,
          2523.7056,
          2540.46,
          2613.17,
          2654.78,
          2601.05,
          2719.41,
          2726.97,
          2761.59,
          2703.49,
          2694.72,
          2656.76,
          2725.91,
          2610.34,
          2432.22,
          2448.52,
          2498.73,
          2532.93,
          2571.05,
          2594.23,
          2658.7,
          2754.08,
          2648.37,
          2762.24,
          2639.68,
          2685.74
         ],
         "yaxis": "y"
        },
        {
         "fillpattern": {
          "shape": ""
         },
         "hovertemplate": "variable=Fossil<br>Year=%{x}<br>value=%{y}<extra></extra>",
         "legendgroup": "Fossil",
         "line": {
          "color": "rgb(56, 166, 165)"
         },
         "marker": {
          "symbol": "circle"
         },
         "mode": "lines",
         "name": "Fossil",
         "orientation": "v",
         "showlegend": true,
         "stackgroup": "1",
         "type": "scatter",
         "x": [
          1985,
          1986,
          1987,
          1988,
          1989,
          1990,
          1991,
          1992,
          1993,
          1994,
          1995,
          1996,
          1997,
          1998,
          1999,
          2000,
          2001,
          2002,
          2003,
          2004,
          2005,
          2006,
          2007,
          2008,
          2009,
          2010,
          2011,
          2012,
          2013,
          2014,
          2015,
          2016,
          2017,
          2018,
          2019,
          2020,
          2021,
          2022,
          2023
         ],
         "xaxis": "x",
         "y": [
          6285.4736,
          6439.9746,
          6757.7617,
          6998.179,
          7455.736,
          7614.993,
          7722.592,
          7807.883,
          7858.686,
          8119.1626,
          8335.322,
          8627.022,
          8911.184,
          9214.535,
          9498.733,
          9878.1,
          10090.26,
          10520.97,
          11126.3,
          11564.24,
          12126.32,
          12644.06,
          13468.19,
          13607.04,
          13405.4,
          14345.73,
          14952.61,
          15362.46,
          15681.07,
          15965.13,
          15953.64,
          16233.18,
          16574.46,
          17094,
          17006.52,
          16522.65,
          17480.51,
          17719.19,
          17879.41
         ],
         "yaxis": "y"
        }
       ],
       "layout": {
        "height": 500,
        "legend": {
         "title": {
          "text": "variable"
         },
         "tracegroupgap": 0
        },
        "template": {
         "data": {
          "bar": [
           {
            "error_x": {
             "color": "#2a3f5f"
            },
            "error_y": {
             "color": "#2a3f5f"
            },
            "marker": {
             "line": {
              "color": "#E5ECF6",
              "width": 0.5
             },
             "pattern": {
              "fillmode": "overlay",
              "size": 10,
              "solidity": 0.2
             }
            },
            "type": "bar"
           }
          ],
          "barpolar": [
           {
            "marker": {
             "line": {
              "color": "#E5ECF6",
              "width": 0.5
             },
             "pattern": {
              "fillmode": "overlay",
              "size": 10,
              "solidity": 0.2
             }
            },
            "type": "barpolar"
           }
          ],
          "carpet": [
           {
            "aaxis": {
             "endlinecolor": "#2a3f5f",
             "gridcolor": "white",
             "linecolor": "white",
             "minorgridcolor": "white",
             "startlinecolor": "#2a3f5f"
            },
            "baxis": {
             "endlinecolor": "#2a3f5f",
             "gridcolor": "white",
             "linecolor": "white",
             "minorgridcolor": "white",
             "startlinecolor": "#2a3f5f"
            },
            "type": "carpet"
           }
          ],
          "choropleth": [
           {
            "colorbar": {
             "outlinewidth": 0,
             "ticks": ""
            },
            "type": "choropleth"
           }
          ],
          "contour": [
           {
            "colorbar": {
             "outlinewidth": 0,
             "ticks": ""
            },
            "colorscale": [
             [
              0,
              "#0d0887"
             ],
             [
              0.1111111111111111,
              "#46039f"
             ],
             [
              0.2222222222222222,
              "#7201a8"
             ],
             [
              0.3333333333333333,
              "#9c179e"
             ],
             [
              0.4444444444444444,
              "#bd3786"
             ],
             [
              0.5555555555555556,
              "#d8576b"
             ],
             [
              0.6666666666666666,
              "#ed7953"
             ],
             [
              0.7777777777777778,
              "#fb9f3a"
             ],
             [
              0.8888888888888888,
              "#fdca26"
             ],
             [
              1,
              "#f0f921"
             ]
            ],
            "type": "contour"
           }
          ],
          "contourcarpet": [
           {
            "colorbar": {
             "outlinewidth": 0,
             "ticks": ""
            },
            "type": "contourcarpet"
           }
          ],
          "heatmap": [
           {
            "colorbar": {
             "outlinewidth": 0,
             "ticks": ""
            },
            "colorscale": [
             [
              0,
              "#0d0887"
             ],
             [
              0.1111111111111111,
              "#46039f"
             ],
             [
              0.2222222222222222,
              "#7201a8"
             ],
             [
              0.3333333333333333,
              "#9c179e"
             ],
             [
              0.4444444444444444,
              "#bd3786"
             ],
             [
              0.5555555555555556,
              "#d8576b"
             ],
             [
              0.6666666666666666,
              "#ed7953"
             ],
             [
              0.7777777777777778,
              "#fb9f3a"
             ],
             [
              0.8888888888888888,
              "#fdca26"
             ],
             [
              1,
              "#f0f921"
             ]
            ],
            "type": "heatmap"
           }
          ],
          "heatmapgl": [
           {
            "colorbar": {
             "outlinewidth": 0,
             "ticks": ""
            },
            "colorscale": [
             [
              0,
              "#0d0887"
             ],
             [
              0.1111111111111111,
              "#46039f"
             ],
             [
              0.2222222222222222,
              "#7201a8"
             ],
             [
              0.3333333333333333,
              "#9c179e"
             ],
             [
              0.4444444444444444,
              "#bd3786"
             ],
             [
              0.5555555555555556,
              "#d8576b"
             ],
             [
              0.6666666666666666,
              "#ed7953"
             ],
             [
              0.7777777777777778,
              "#fb9f3a"
             ],
             [
              0.8888888888888888,
              "#fdca26"
             ],
             [
              1,
              "#f0f921"
             ]
            ],
            "type": "heatmapgl"
           }
          ],
          "histogram": [
           {
            "marker": {
             "pattern": {
              "fillmode": "overlay",
              "size": 10,
              "solidity": 0.2
             }
            },
            "type": "histogram"
           }
          ],
          "histogram2d": [
           {
            "colorbar": {
             "outlinewidth": 0,
             "ticks": ""
            },
            "colorscale": [
             [
              0,
              "#0d0887"
             ],
             [
              0.1111111111111111,
              "#46039f"
             ],
             [
              0.2222222222222222,
              "#7201a8"
             ],
             [
              0.3333333333333333,
              "#9c179e"
             ],
             [
              0.4444444444444444,
              "#bd3786"
             ],
             [
              0.5555555555555556,
              "#d8576b"
             ],
             [
              0.6666666666666666,
              "#ed7953"
             ],
             [
              0.7777777777777778,
              "#fb9f3a"
             ],
             [
              0.8888888888888888,
              "#fdca26"
             ],
             [
              1,
              "#f0f921"
             ]
            ],
            "type": "histogram2d"
           }
          ],
          "histogram2dcontour": [
           {
            "colorbar": {
             "outlinewidth": 0,
             "ticks": ""
            },
            "colorscale": [
             [
              0,
              "#0d0887"
             ],
             [
              0.1111111111111111,
              "#46039f"
             ],
             [
              0.2222222222222222,
              "#7201a8"
             ],
             [
              0.3333333333333333,
              "#9c179e"
             ],
             [
              0.4444444444444444,
              "#bd3786"
             ],
             [
              0.5555555555555556,
              "#d8576b"
             ],
             [
              0.6666666666666666,
              "#ed7953"
             ],
             [
              0.7777777777777778,
              "#fb9f3a"
             ],
             [
              0.8888888888888888,
              "#fdca26"
             ],
             [
              1,
              "#f0f921"
             ]
            ],
            "type": "histogram2dcontour"
           }
          ],
          "mesh3d": [
           {
            "colorbar": {
             "outlinewidth": 0,
             "ticks": ""
            },
            "type": "mesh3d"
           }
          ],
          "parcoords": [
           {
            "line": {
             "colorbar": {
              "outlinewidth": 0,
              "ticks": ""
             }
            },
            "type": "parcoords"
           }
          ],
          "pie": [
           {
            "automargin": true,
            "type": "pie"
           }
          ],
          "scatter": [
           {
            "fillpattern": {
             "fillmode": "overlay",
             "size": 10,
             "solidity": 0.2
            },
            "type": "scatter"
           }
          ],
          "scatter3d": [
           {
            "line": {
             "colorbar": {
              "outlinewidth": 0,
              "ticks": ""
             }
            },
            "marker": {
             "colorbar": {
              "outlinewidth": 0,
              "ticks": ""
             }
            },
            "type": "scatter3d"
           }
          ],
          "scattercarpet": [
           {
            "marker": {
             "colorbar": {
              "outlinewidth": 0,
              "ticks": ""
             }
            },
            "type": "scattercarpet"
           }
          ],
          "scattergeo": [
           {
            "marker": {
             "colorbar": {
              "outlinewidth": 0,
              "ticks": ""
             }
            },
            "type": "scattergeo"
           }
          ],
          "scattergl": [
           {
            "marker": {
             "colorbar": {
              "outlinewidth": 0,
              "ticks": ""
             }
            },
            "type": "scattergl"
           }
          ],
          "scattermapbox": [
           {
            "marker": {
             "colorbar": {
              "outlinewidth": 0,
              "ticks": ""
             }
            },
            "type": "scattermapbox"
           }
          ],
          "scatterpolar": [
           {
            "marker": {
             "colorbar": {
              "outlinewidth": 0,
              "ticks": ""
             }
            },
            "type": "scatterpolar"
           }
          ],
          "scatterpolargl": [
           {
            "marker": {
             "colorbar": {
              "outlinewidth": 0,
              "ticks": ""
             }
            },
            "type": "scatterpolargl"
           }
          ],
          "scatterternary": [
           {
            "marker": {
             "colorbar": {
              "outlinewidth": 0,
              "ticks": ""
             }
            },
            "type": "scatterternary"
           }
          ],
          "surface": [
           {
            "colorbar": {
             "outlinewidth": 0,
             "ticks": ""
            },
            "colorscale": [
             [
              0,
              "#0d0887"
             ],
             [
              0.1111111111111111,
              "#46039f"
             ],
             [
              0.2222222222222222,
              "#7201a8"
             ],
             [
              0.3333333333333333,
              "#9c179e"
             ],
             [
              0.4444444444444444,
              "#bd3786"
             ],
             [
              0.5555555555555556,
              "#d8576b"
             ],
             [
              0.6666666666666666,
              "#ed7953"
             ],
             [
              0.7777777777777778,
              "#fb9f3a"
             ],
             [
              0.8888888888888888,
              "#fdca26"
             ],
             [
              1,
              "#f0f921"
             ]
            ],
            "type": "surface"
           }
          ],
          "table": [
           {
            "cells": {
             "fill": {
              "color": "#EBF0F8"
             },
             "line": {
              "color": "white"
             }
            },
            "header": {
             "fill": {
              "color": "#C8D4E3"
             },
             "line": {
              "color": "white"
             }
            },
            "type": "table"
           }
          ]
         },
         "layout": {
          "annotationdefaults": {
           "arrowcolor": "#2a3f5f",
           "arrowhead": 0,
           "arrowwidth": 1
          },
          "autotypenumbers": "strict",
          "coloraxis": {
           "colorbar": {
            "outlinewidth": 0,
            "ticks": ""
           }
          },
          "colorscale": {
           "diverging": [
            [
             0,
             "#8e0152"
            ],
            [
             0.1,
             "#c51b7d"
            ],
            [
             0.2,
             "#de77ae"
            ],
            [
             0.3,
             "#f1b6da"
            ],
            [
             0.4,
             "#fde0ef"
            ],
            [
             0.5,
             "#f7f7f7"
            ],
            [
             0.6,
             "#e6f5d0"
            ],
            [
             0.7,
             "#b8e186"
            ],
            [
             0.8,
             "#7fbc41"
            ],
            [
             0.9,
             "#4d9221"
            ],
            [
             1,
             "#276419"
            ]
           ],
           "sequential": [
            [
             0,
             "#0d0887"
            ],
            [
             0.1111111111111111,
             "#46039f"
            ],
            [
             0.2222222222222222,
             "#7201a8"
            ],
            [
             0.3333333333333333,
             "#9c179e"
            ],
            [
             0.4444444444444444,
             "#bd3786"
            ],
            [
             0.5555555555555556,
             "#d8576b"
            ],
            [
             0.6666666666666666,
             "#ed7953"
            ],
            [
             0.7777777777777778,
             "#fb9f3a"
            ],
            [
             0.8888888888888888,
             "#fdca26"
            ],
            [
             1,
             "#f0f921"
            ]
           ],
           "sequentialminus": [
            [
             0,
             "#0d0887"
            ],
            [
             0.1111111111111111,
             "#46039f"
            ],
            [
             0.2222222222222222,
             "#7201a8"
            ],
            [
             0.3333333333333333,
             "#9c179e"
            ],
            [
             0.4444444444444444,
             "#bd3786"
            ],
            [
             0.5555555555555556,
             "#d8576b"
            ],
            [
             0.6666666666666666,
             "#ed7953"
            ],
            [
             0.7777777777777778,
             "#fb9f3a"
            ],
            [
             0.8888888888888888,
             "#fdca26"
            ],
            [
             1,
             "#f0f921"
            ]
           ]
          },
          "colorway": [
           "#636efa",
           "#EF553B",
           "#00cc96",
           "#ab63fa",
           "#FFA15A",
           "#19d3f3",
           "#FF6692",
           "#B6E880",
           "#FF97FF",
           "#FECB52"
          ],
          "font": {
           "color": "#2a3f5f"
          },
          "geo": {
           "bgcolor": "white",
           "lakecolor": "white",
           "landcolor": "#E5ECF6",
           "showlakes": true,
           "showland": true,
           "subunitcolor": "white"
          },
          "hoverlabel": {
           "align": "left"
          },
          "hovermode": "closest",
          "mapbox": {
           "style": "light"
          },
          "paper_bgcolor": "white",
          "plot_bgcolor": "#E5ECF6",
          "polar": {
           "angularaxis": {
            "gridcolor": "white",
            "linecolor": "white",
            "ticks": ""
           },
           "bgcolor": "#E5ECF6",
           "radialaxis": {
            "gridcolor": "white",
            "linecolor": "white",
            "ticks": ""
           }
          },
          "scene": {
           "xaxis": {
            "backgroundcolor": "#E5ECF6",
            "gridcolor": "white",
            "gridwidth": 2,
            "linecolor": "white",
            "showbackground": true,
            "ticks": "",
            "zerolinecolor": "white"
           },
           "yaxis": {
            "backgroundcolor": "#E5ECF6",
            "gridcolor": "white",
            "gridwidth": 2,
            "linecolor": "white",
            "showbackground": true,
            "ticks": "",
            "zerolinecolor": "white"
           },
           "zaxis": {
            "backgroundcolor": "#E5ECF6",
            "gridcolor": "white",
            "gridwidth": 2,
            "linecolor": "white",
            "showbackground": true,
            "ticks": "",
            "zerolinecolor": "white"
           }
          },
          "shapedefaults": {
           "line": {
            "color": "#2a3f5f"
           }
          },
          "ternary": {
           "aaxis": {
            "gridcolor": "white",
            "linecolor": "white",
            "ticks": ""
           },
           "baxis": {
            "gridcolor": "white",
            "linecolor": "white",
            "ticks": ""
           },
           "bgcolor": "#E5ECF6",
           "caxis": {
            "gridcolor": "white",
            "linecolor": "white",
            "ticks": ""
           }
          },
          "title": {
           "x": 0.05
          },
          "xaxis": {
           "automargin": true,
           "gridcolor": "white",
           "linecolor": "white",
           "ticks": "",
           "title": {
            "standoff": 15
           },
           "zerolinecolor": "white",
           "zerolinewidth": 2
          },
          "yaxis": {
           "automargin": true,
           "gridcolor": "white",
           "linecolor": "white",
           "ticks": "",
           "title": {
            "standoff": 15
           },
           "zerolinecolor": "white",
           "zerolinewidth": 2
          }
         }
        },
        "title": {
         "text": "Electricity production from fossil fuels, nuclear and renewables, World"
        },
        "width": 800,
        "xaxis": {
         "anchor": "y",
         "domain": [
          0,
          1
         ],
         "title": {
          "text": "Year"
         }
        },
        "yaxis": {
         "anchor": "x",
         "domain": [
          0,
          1
         ],
         "title": {
          "text": "value"
         }
        }
       }
      }
     },
     "metadata": {},
     "output_type": "display_data"
    }
   ],
   "source": [
    "\n",
    "fig = px.area(df, x='Year', y='value', color='variable',\n",
    "              height = 500, width = 800,\n",
    "              color_discrete_sequence= px.colors.qualitative.Prism,\n",
    "              title = 'Electricity production from fossil fuels, nuclear and renewables, World')\n",
    "fig.show()"
   ]
  },
  {
   "cell_type": "code",
   "execution_count": 13,
   "metadata": {},
   "outputs": [
    {
     "data": {
      "application/vnd.plotly.v1+json": {
       "config": {
        "plotlyServerURL": "https://plot.ly"
       },
       "data": [
        {
         "fillpattern": {
          "shape": ""
         },
         "hovertemplate": "variable=Renewable<br>Year=%{x}<br>value=%{y}<extra></extra>",
         "legendgroup": "Renewable",
         "line": {
          "color": "rgb(120,0,100)"
         },
         "marker": {
          "symbol": "circle"
         },
         "mode": "lines",
         "name": "Renewable",
         "orientation": "v",
         "showlegend": true,
         "stackgroup": "1",
         "type": "scatter",
         "x": [
          1985,
          1986,
          1987,
          1988,
          1989,
          1990,
          1991,
          1992,
          1993,
          1994,
          1995,
          1996,
          1997,
          1998,
          1999,
          2000,
          2001,
          2002,
          2003,
          2004,
          2005,
          2006,
          2007,
          2008,
          2009,
          2010,
          2011,
          2012,
          2013,
          2014,
          2015,
          2016,
          2017,
          2018,
          2019,
          2020,
          2021,
          2022,
          2023
         ],
         "xaxis": "x",
         "y": [
          2058.0222,
          2091.6704,
          2124.9146,
          2192.8516,
          2195.1711,
          2279.8643,
          2335.3965,
          2344.6736,
          2483.061,
          2504.311,
          2638.9414,
          2677.4333,
          2735.5457,
          2765.892,
          2799.2485,
          2858.4,
          2795.97,
          2873.26,
          2899.25,
          3129.16,
          3279.51,
          3432.46,
          3540.47,
          3798.13,
          3879.24,
          4191.63,
          4394.13,
          4721.16,
          5025.8,
          5285.56,
          5519.22,
          5858.55,
          6234.46,
          6647.13,
          7010.63,
          7483.8,
          7927.13,
          8484.63,
          8913.9
         ],
         "yaxis": "y"
        },
        {
         "fillpattern": {
          "shape": ""
         },
         "hovertemplate": "variable=Nuclear<br>Year=%{x}<br>value=%{y}<extra></extra>",
         "legendgroup": "Nuclear",
         "line": {
          "color": "rgb(30,0,100)"
         },
         "marker": {
          "symbol": "circle"
         },
         "mode": "lines",
         "name": "Nuclear",
         "orientation": "v",
         "showlegend": true,
         "stackgroup": "1",
         "type": "scatter",
         "x": [
          1985,
          1986,
          1987,
          1988,
          1989,
          1990,
          1991,
          1992,
          1993,
          1994,
          1995,
          1996,
          1997,
          1998,
          1999,
          2000,
          2001,
          2002,
          2003,
          2004,
          2005,
          2006,
          2007,
          2008,
          2009,
          2010,
          2011,
          2012,
          2013,
          2014,
          2015,
          2016,
          2017,
          2018,
          2019,
          2020,
          2021,
          2022,
          2023
         ],
         "xaxis": "x",
         "y": [
          1488.9216,
          1594.7357,
          1734.7332,
          1891.2493,
          1945.0106,
          2000.596,
          2096.3098,
          2112.223,
          2184.9646,
          2225.9788,
          2322.5298,
          2406.615,
          2390.0642,
          2431.1948,
          2523.7056,
          2540.46,
          2613.17,
          2654.78,
          2601.05,
          2719.41,
          2726.97,
          2761.59,
          2703.49,
          2694.72,
          2656.76,
          2725.91,
          2610.34,
          2432.22,
          2448.52,
          2498.73,
          2532.93,
          2571.05,
          2594.23,
          2658.7,
          2754.08,
          2648.37,
          2762.24,
          2639.68,
          2685.74
         ],
         "yaxis": "y"
        },
        {
         "fillpattern": {
          "shape": ""
         },
         "hovertemplate": "variable=Fossil<br>Year=%{x}<br>value=%{y}<extra></extra>",
         "legendgroup": "Fossil",
         "line": {
          "color": "rgb(0,0,0)"
         },
         "marker": {
          "symbol": "circle"
         },
         "mode": "lines",
         "name": "Fossil",
         "orientation": "v",
         "showlegend": true,
         "stackgroup": "1",
         "type": "scatter",
         "x": [
          1985,
          1986,
          1987,
          1988,
          1989,
          1990,
          1991,
          1992,
          1993,
          1994,
          1995,
          1996,
          1997,
          1998,
          1999,
          2000,
          2001,
          2002,
          2003,
          2004,
          2005,
          2006,
          2007,
          2008,
          2009,
          2010,
          2011,
          2012,
          2013,
          2014,
          2015,
          2016,
          2017,
          2018,
          2019,
          2020,
          2021,
          2022,
          2023
         ],
         "xaxis": "x",
         "y": [
          6285.4736,
          6439.9746,
          6757.7617,
          6998.179,
          7455.736,
          7614.993,
          7722.592,
          7807.883,
          7858.686,
          8119.1626,
          8335.322,
          8627.022,
          8911.184,
          9214.535,
          9498.733,
          9878.1,
          10090.26,
          10520.97,
          11126.3,
          11564.24,
          12126.32,
          12644.06,
          13468.19,
          13607.04,
          13405.4,
          14345.73,
          14952.61,
          15362.46,
          15681.07,
          15965.13,
          15953.64,
          16233.18,
          16574.46,
          17094,
          17006.52,
          16522.65,
          17480.51,
          17719.19,
          17879.41
         ],
         "yaxis": "y"
        }
       ],
       "layout": {
        "height": 500,
        "legend": {
         "title": {
          "text": "variable"
         },
         "tracegroupgap": 0
        },
        "template": {
         "data": {
          "bar": [
           {
            "error_x": {
             "color": "#2a3f5f"
            },
            "error_y": {
             "color": "#2a3f5f"
            },
            "marker": {
             "line": {
              "color": "#E5ECF6",
              "width": 0.5
             },
             "pattern": {
              "fillmode": "overlay",
              "size": 10,
              "solidity": 0.2
             }
            },
            "type": "bar"
           }
          ],
          "barpolar": [
           {
            "marker": {
             "line": {
              "color": "#E5ECF6",
              "width": 0.5
             },
             "pattern": {
              "fillmode": "overlay",
              "size": 10,
              "solidity": 0.2
             }
            },
            "type": "barpolar"
           }
          ],
          "carpet": [
           {
            "aaxis": {
             "endlinecolor": "#2a3f5f",
             "gridcolor": "white",
             "linecolor": "white",
             "minorgridcolor": "white",
             "startlinecolor": "#2a3f5f"
            },
            "baxis": {
             "endlinecolor": "#2a3f5f",
             "gridcolor": "white",
             "linecolor": "white",
             "minorgridcolor": "white",
             "startlinecolor": "#2a3f5f"
            },
            "type": "carpet"
           }
          ],
          "choropleth": [
           {
            "colorbar": {
             "outlinewidth": 0,
             "ticks": ""
            },
            "type": "choropleth"
           }
          ],
          "contour": [
           {
            "colorbar": {
             "outlinewidth": 0,
             "ticks": ""
            },
            "colorscale": [
             [
              0,
              "#0d0887"
             ],
             [
              0.1111111111111111,
              "#46039f"
             ],
             [
              0.2222222222222222,
              "#7201a8"
             ],
             [
              0.3333333333333333,
              "#9c179e"
             ],
             [
              0.4444444444444444,
              "#bd3786"
             ],
             [
              0.5555555555555556,
              "#d8576b"
             ],
             [
              0.6666666666666666,
              "#ed7953"
             ],
             [
              0.7777777777777778,
              "#fb9f3a"
             ],
             [
              0.8888888888888888,
              "#fdca26"
             ],
             [
              1,
              "#f0f921"
             ]
            ],
            "type": "contour"
           }
          ],
          "contourcarpet": [
           {
            "colorbar": {
             "outlinewidth": 0,
             "ticks": ""
            },
            "type": "contourcarpet"
           }
          ],
          "heatmap": [
           {
            "colorbar": {
             "outlinewidth": 0,
             "ticks": ""
            },
            "colorscale": [
             [
              0,
              "#0d0887"
             ],
             [
              0.1111111111111111,
              "#46039f"
             ],
             [
              0.2222222222222222,
              "#7201a8"
             ],
             [
              0.3333333333333333,
              "#9c179e"
             ],
             [
              0.4444444444444444,
              "#bd3786"
             ],
             [
              0.5555555555555556,
              "#d8576b"
             ],
             [
              0.6666666666666666,
              "#ed7953"
             ],
             [
              0.7777777777777778,
              "#fb9f3a"
             ],
             [
              0.8888888888888888,
              "#fdca26"
             ],
             [
              1,
              "#f0f921"
             ]
            ],
            "type": "heatmap"
           }
          ],
          "heatmapgl": [
           {
            "colorbar": {
             "outlinewidth": 0,
             "ticks": ""
            },
            "colorscale": [
             [
              0,
              "#0d0887"
             ],
             [
              0.1111111111111111,
              "#46039f"
             ],
             [
              0.2222222222222222,
              "#7201a8"
             ],
             [
              0.3333333333333333,
              "#9c179e"
             ],
             [
              0.4444444444444444,
              "#bd3786"
             ],
             [
              0.5555555555555556,
              "#d8576b"
             ],
             [
              0.6666666666666666,
              "#ed7953"
             ],
             [
              0.7777777777777778,
              "#fb9f3a"
             ],
             [
              0.8888888888888888,
              "#fdca26"
             ],
             [
              1,
              "#f0f921"
             ]
            ],
            "type": "heatmapgl"
           }
          ],
          "histogram": [
           {
            "marker": {
             "pattern": {
              "fillmode": "overlay",
              "size": 10,
              "solidity": 0.2
             }
            },
            "type": "histogram"
           }
          ],
          "histogram2d": [
           {
            "colorbar": {
             "outlinewidth": 0,
             "ticks": ""
            },
            "colorscale": [
             [
              0,
              "#0d0887"
             ],
             [
              0.1111111111111111,
              "#46039f"
             ],
             [
              0.2222222222222222,
              "#7201a8"
             ],
             [
              0.3333333333333333,
              "#9c179e"
             ],
             [
              0.4444444444444444,
              "#bd3786"
             ],
             [
              0.5555555555555556,
              "#d8576b"
             ],
             [
              0.6666666666666666,
              "#ed7953"
             ],
             [
              0.7777777777777778,
              "#fb9f3a"
             ],
             [
              0.8888888888888888,
              "#fdca26"
             ],
             [
              1,
              "#f0f921"
             ]
            ],
            "type": "histogram2d"
           }
          ],
          "histogram2dcontour": [
           {
            "colorbar": {
             "outlinewidth": 0,
             "ticks": ""
            },
            "colorscale": [
             [
              0,
              "#0d0887"
             ],
             [
              0.1111111111111111,
              "#46039f"
             ],
             [
              0.2222222222222222,
              "#7201a8"
             ],
             [
              0.3333333333333333,
              "#9c179e"
             ],
             [
              0.4444444444444444,
              "#bd3786"
             ],
             [
              0.5555555555555556,
              "#d8576b"
             ],
             [
              0.6666666666666666,
              "#ed7953"
             ],
             [
              0.7777777777777778,
              "#fb9f3a"
             ],
             [
              0.8888888888888888,
              "#fdca26"
             ],
             [
              1,
              "#f0f921"
             ]
            ],
            "type": "histogram2dcontour"
           }
          ],
          "mesh3d": [
           {
            "colorbar": {
             "outlinewidth": 0,
             "ticks": ""
            },
            "type": "mesh3d"
           }
          ],
          "parcoords": [
           {
            "line": {
             "colorbar": {
              "outlinewidth": 0,
              "ticks": ""
             }
            },
            "type": "parcoords"
           }
          ],
          "pie": [
           {
            "automargin": true,
            "type": "pie"
           }
          ],
          "scatter": [
           {
            "fillpattern": {
             "fillmode": "overlay",
             "size": 10,
             "solidity": 0.2
            },
            "type": "scatter"
           }
          ],
          "scatter3d": [
           {
            "line": {
             "colorbar": {
              "outlinewidth": 0,
              "ticks": ""
             }
            },
            "marker": {
             "colorbar": {
              "outlinewidth": 0,
              "ticks": ""
             }
            },
            "type": "scatter3d"
           }
          ],
          "scattercarpet": [
           {
            "marker": {
             "colorbar": {
              "outlinewidth": 0,
              "ticks": ""
             }
            },
            "type": "scattercarpet"
           }
          ],
          "scattergeo": [
           {
            "marker": {
             "colorbar": {
              "outlinewidth": 0,
              "ticks": ""
             }
            },
            "type": "scattergeo"
           }
          ],
          "scattergl": [
           {
            "marker": {
             "colorbar": {
              "outlinewidth": 0,
              "ticks": ""
             }
            },
            "type": "scattergl"
           }
          ],
          "scattermapbox": [
           {
            "marker": {
             "colorbar": {
              "outlinewidth": 0,
              "ticks": ""
             }
            },
            "type": "scattermapbox"
           }
          ],
          "scatterpolar": [
           {
            "marker": {
             "colorbar": {
              "outlinewidth": 0,
              "ticks": ""
             }
            },
            "type": "scatterpolar"
           }
          ],
          "scatterpolargl": [
           {
            "marker": {
             "colorbar": {
              "outlinewidth": 0,
              "ticks": ""
             }
            },
            "type": "scatterpolargl"
           }
          ],
          "scatterternary": [
           {
            "marker": {
             "colorbar": {
              "outlinewidth": 0,
              "ticks": ""
             }
            },
            "type": "scatterternary"
           }
          ],
          "surface": [
           {
            "colorbar": {
             "outlinewidth": 0,
             "ticks": ""
            },
            "colorscale": [
             [
              0,
              "#0d0887"
             ],
             [
              0.1111111111111111,
              "#46039f"
             ],
             [
              0.2222222222222222,
              "#7201a8"
             ],
             [
              0.3333333333333333,
              "#9c179e"
             ],
             [
              0.4444444444444444,
              "#bd3786"
             ],
             [
              0.5555555555555556,
              "#d8576b"
             ],
             [
              0.6666666666666666,
              "#ed7953"
             ],
             [
              0.7777777777777778,
              "#fb9f3a"
             ],
             [
              0.8888888888888888,
              "#fdca26"
             ],
             [
              1,
              "#f0f921"
             ]
            ],
            "type": "surface"
           }
          ],
          "table": [
           {
            "cells": {
             "fill": {
              "color": "#EBF0F8"
             },
             "line": {
              "color": "white"
             }
            },
            "header": {
             "fill": {
              "color": "#C8D4E3"
             },
             "line": {
              "color": "white"
             }
            },
            "type": "table"
           }
          ]
         },
         "layout": {
          "annotationdefaults": {
           "arrowcolor": "#2a3f5f",
           "arrowhead": 0,
           "arrowwidth": 1
          },
          "autotypenumbers": "strict",
          "coloraxis": {
           "colorbar": {
            "outlinewidth": 0,
            "ticks": ""
           }
          },
          "colorscale": {
           "diverging": [
            [
             0,
             "#8e0152"
            ],
            [
             0.1,
             "#c51b7d"
            ],
            [
             0.2,
             "#de77ae"
            ],
            [
             0.3,
             "#f1b6da"
            ],
            [
             0.4,
             "#fde0ef"
            ],
            [
             0.5,
             "#f7f7f7"
            ],
            [
             0.6,
             "#e6f5d0"
            ],
            [
             0.7,
             "#b8e186"
            ],
            [
             0.8,
             "#7fbc41"
            ],
            [
             0.9,
             "#4d9221"
            ],
            [
             1,
             "#276419"
            ]
           ],
           "sequential": [
            [
             0,
             "#0d0887"
            ],
            [
             0.1111111111111111,
             "#46039f"
            ],
            [
             0.2222222222222222,
             "#7201a8"
            ],
            [
             0.3333333333333333,
             "#9c179e"
            ],
            [
             0.4444444444444444,
             "#bd3786"
            ],
            [
             0.5555555555555556,
             "#d8576b"
            ],
            [
             0.6666666666666666,
             "#ed7953"
            ],
            [
             0.7777777777777778,
             "#fb9f3a"
            ],
            [
             0.8888888888888888,
             "#fdca26"
            ],
            [
             1,
             "#f0f921"
            ]
           ],
           "sequentialminus": [
            [
             0,
             "#0d0887"
            ],
            [
             0.1111111111111111,
             "#46039f"
            ],
            [
             0.2222222222222222,
             "#7201a8"
            ],
            [
             0.3333333333333333,
             "#9c179e"
            ],
            [
             0.4444444444444444,
             "#bd3786"
            ],
            [
             0.5555555555555556,
             "#d8576b"
            ],
            [
             0.6666666666666666,
             "#ed7953"
            ],
            [
             0.7777777777777778,
             "#fb9f3a"
            ],
            [
             0.8888888888888888,
             "#fdca26"
            ],
            [
             1,
             "#f0f921"
            ]
           ]
          },
          "colorway": [
           "#636efa",
           "#EF553B",
           "#00cc96",
           "#ab63fa",
           "#FFA15A",
           "#19d3f3",
           "#FF6692",
           "#B6E880",
           "#FF97FF",
           "#FECB52"
          ],
          "font": {
           "color": "#2a3f5f"
          },
          "geo": {
           "bgcolor": "white",
           "lakecolor": "white",
           "landcolor": "#E5ECF6",
           "showlakes": true,
           "showland": true,
           "subunitcolor": "white"
          },
          "hoverlabel": {
           "align": "left"
          },
          "hovermode": "closest",
          "mapbox": {
           "style": "light"
          },
          "paper_bgcolor": "white",
          "plot_bgcolor": "#E5ECF6",
          "polar": {
           "angularaxis": {
            "gridcolor": "white",
            "linecolor": "white",
            "ticks": ""
           },
           "bgcolor": "#E5ECF6",
           "radialaxis": {
            "gridcolor": "white",
            "linecolor": "white",
            "ticks": ""
           }
          },
          "scene": {
           "xaxis": {
            "backgroundcolor": "#E5ECF6",
            "gridcolor": "white",
            "gridwidth": 2,
            "linecolor": "white",
            "showbackground": true,
            "ticks": "",
            "zerolinecolor": "white"
           },
           "yaxis": {
            "backgroundcolor": "#E5ECF6",
            "gridcolor": "white",
            "gridwidth": 2,
            "linecolor": "white",
            "showbackground": true,
            "ticks": "",
            "zerolinecolor": "white"
           },
           "zaxis": {
            "backgroundcolor": "#E5ECF6",
            "gridcolor": "white",
            "gridwidth": 2,
            "linecolor": "white",
            "showbackground": true,
            "ticks": "",
            "zerolinecolor": "white"
           }
          },
          "shapedefaults": {
           "line": {
            "color": "#2a3f5f"
           }
          },
          "ternary": {
           "aaxis": {
            "gridcolor": "white",
            "linecolor": "white",
            "ticks": ""
           },
           "baxis": {
            "gridcolor": "white",
            "linecolor": "white",
            "ticks": ""
           },
           "bgcolor": "#E5ECF6",
           "caxis": {
            "gridcolor": "white",
            "linecolor": "white",
            "ticks": ""
           }
          },
          "title": {
           "x": 0.05
          },
          "xaxis": {
           "automargin": true,
           "gridcolor": "white",
           "linecolor": "white",
           "ticks": "",
           "title": {
            "standoff": 15
           },
           "zerolinecolor": "white",
           "zerolinewidth": 2
          },
          "yaxis": {
           "automargin": true,
           "gridcolor": "white",
           "linecolor": "white",
           "ticks": "",
           "title": {
            "standoff": 15
           },
           "zerolinecolor": "white",
           "zerolinewidth": 2
          }
         }
        },
        "title": {
         "text": "Electricity production from fossil fuels, nuclear and renewables, World"
        },
        "width": 800,
        "xaxis": {
         "anchor": "y",
         "domain": [
          0,
          1
         ],
         "title": {
          "text": "Year"
         }
        },
        "yaxis": {
         "anchor": "x",
         "domain": [
          0,
          1
         ],
         "title": {
          "text": "value"
         }
        }
       }
      }
     },
     "metadata": {},
     "output_type": "display_data"
    }
   ],
   "source": [
    "fig = px.area(df, x='Year', y='value', color='variable',\n",
    "              height = 500, width = 800,\n",
    "              color_discrete_sequence=['rgb(120,0,100)', 'rgb(30,0,100)','rgb(0,0,0)'],\n",
    "              title = 'Electricity production from fossil fuels, nuclear and renewables, World')\n",
    "fig.show()"
   ]
  },
  {
   "cell_type": "code",
   "execution_count": 14,
   "metadata": {},
   "outputs": [
    {
     "data": {
      "text/html": [
       "<div>\n",
       "<style scoped>\n",
       "    .dataframe tbody tr th:only-of-type {\n",
       "        vertical-align: middle;\n",
       "    }\n",
       "\n",
       "    .dataframe tbody tr th {\n",
       "        vertical-align: top;\n",
       "    }\n",
       "\n",
       "    .dataframe thead th {\n",
       "        text-align: right;\n",
       "    }\n",
       "</style>\n",
       "<table border=\"1\" class=\"dataframe\">\n",
       "  <thead>\n",
       "    <tr style=\"text-align: right;\">\n",
       "      <th></th>\n",
       "      <th>Entity</th>\n",
       "      <th>Code</th>\n",
       "      <th>Year</th>\n",
       "      <th>Renewable</th>\n",
       "      <th>Nuclear</th>\n",
       "      <th>Fossil</th>\n",
       "      <th>year</th>\n",
       "    </tr>\n",
       "  </thead>\n",
       "  <tbody>\n",
       "    <tr>\n",
       "      <th>0</th>\n",
       "      <td>World</td>\n",
       "      <td>OWID_WRL</td>\n",
       "      <td>1985</td>\n",
       "      <td>2058.0222</td>\n",
       "      <td>1488.9216</td>\n",
       "      <td>6285.4736</td>\n",
       "      <td>1985-01-01</td>\n",
       "    </tr>\n",
       "    <tr>\n",
       "      <th>1</th>\n",
       "      <td>World</td>\n",
       "      <td>OWID_WRL</td>\n",
       "      <td>1986</td>\n",
       "      <td>2091.6704</td>\n",
       "      <td>1594.7357</td>\n",
       "      <td>6439.9746</td>\n",
       "      <td>1986-01-01</td>\n",
       "    </tr>\n",
       "    <tr>\n",
       "      <th>2</th>\n",
       "      <td>World</td>\n",
       "      <td>OWID_WRL</td>\n",
       "      <td>1987</td>\n",
       "      <td>2124.9146</td>\n",
       "      <td>1734.7332</td>\n",
       "      <td>6757.7617</td>\n",
       "      <td>1987-01-01</td>\n",
       "    </tr>\n",
       "    <tr>\n",
       "      <th>3</th>\n",
       "      <td>World</td>\n",
       "      <td>OWID_WRL</td>\n",
       "      <td>1988</td>\n",
       "      <td>2192.8516</td>\n",
       "      <td>1891.2493</td>\n",
       "      <td>6998.1790</td>\n",
       "      <td>1988-01-01</td>\n",
       "    </tr>\n",
       "    <tr>\n",
       "      <th>4</th>\n",
       "      <td>World</td>\n",
       "      <td>OWID_WRL</td>\n",
       "      <td>1989</td>\n",
       "      <td>2195.1711</td>\n",
       "      <td>1945.0106</td>\n",
       "      <td>7455.7360</td>\n",
       "      <td>1989-01-01</td>\n",
       "    </tr>\n",
       "  </tbody>\n",
       "</table>\n",
       "</div>"
      ],
      "text/plain": [
       "  Entity      Code  Year  Renewable    Nuclear     Fossil       year\n",
       "0  World  OWID_WRL  1985  2058.0222  1488.9216  6285.4736 1985-01-01\n",
       "1  World  OWID_WRL  1986  2091.6704  1594.7357  6439.9746 1986-01-01\n",
       "2  World  OWID_WRL  1987  2124.9146  1734.7332  6757.7617 1987-01-01\n",
       "3  World  OWID_WRL  1988  2192.8516  1891.2493  6998.1790 1988-01-01\n",
       "4  World  OWID_WRL  1989  2195.1711  1945.0106  7455.7360 1989-01-01"
      ]
     },
     "execution_count": 14,
     "metadata": {},
     "output_type": "execute_result"
    }
   ],
   "source": [
    "data2 = data\n",
    "data2['year'] = pd.to_datetime(data2['Year'], format='%Y')\n",
    "data2.head()"
   ]
  },
  {
   "cell_type": "code",
   "execution_count": 15,
   "metadata": {},
   "outputs": [],
   "source": [
    "import numpy as np"
   ]
  },
  {
   "cell_type": "code",
   "execution_count": 16,
   "metadata": {},
   "outputs": [],
   "source": [
    "# new datastructure for animation\n",
    "start=10\n",
    "stop = len(data2) \n",
    "step = 1\n",
    "df_animation = pd.DataFrame() # container for df with new datastructure\n",
    "for i in np.arange(start, stop, step):\n",
    "    dfa = data2.head(i).copy()\n",
    "    frame = dfa['Year'].values[-1]\n",
    "    # frame = i\n",
    "    # print(frame)\n",
    "    dfa['frame']=frame\n",
    "    df_animation = pd.concat([df_animation, dfa])\n"
   ]
  },
  {
   "cell_type": "code",
   "execution_count": 17,
   "metadata": {},
   "outputs": [
    {
     "data": {
      "text/html": [
       "<div>\n",
       "<style scoped>\n",
       "    .dataframe tbody tr th:only-of-type {\n",
       "        vertical-align: middle;\n",
       "    }\n",
       "\n",
       "    .dataframe tbody tr th {\n",
       "        vertical-align: top;\n",
       "    }\n",
       "\n",
       "    .dataframe thead th {\n",
       "        text-align: right;\n",
       "    }\n",
       "</style>\n",
       "<table border=\"1\" class=\"dataframe\">\n",
       "  <thead>\n",
       "    <tr style=\"text-align: right;\">\n",
       "      <th></th>\n",
       "      <th>Entity</th>\n",
       "      <th>Code</th>\n",
       "      <th>Year</th>\n",
       "      <th>Renewable</th>\n",
       "      <th>Nuclear</th>\n",
       "      <th>Fossil</th>\n",
       "      <th>year</th>\n",
       "      <th>frame</th>\n",
       "    </tr>\n",
       "  </thead>\n",
       "  <tbody>\n",
       "    <tr>\n",
       "      <th>0</th>\n",
       "      <td>World</td>\n",
       "      <td>OWID_WRL</td>\n",
       "      <td>1985</td>\n",
       "      <td>2058.0222</td>\n",
       "      <td>1488.9216</td>\n",
       "      <td>6285.4736</td>\n",
       "      <td>1985-01-01</td>\n",
       "      <td>1994</td>\n",
       "    </tr>\n",
       "    <tr>\n",
       "      <th>1</th>\n",
       "      <td>World</td>\n",
       "      <td>OWID_WRL</td>\n",
       "      <td>1986</td>\n",
       "      <td>2091.6704</td>\n",
       "      <td>1594.7357</td>\n",
       "      <td>6439.9746</td>\n",
       "      <td>1986-01-01</td>\n",
       "      <td>1994</td>\n",
       "    </tr>\n",
       "    <tr>\n",
       "      <th>2</th>\n",
       "      <td>World</td>\n",
       "      <td>OWID_WRL</td>\n",
       "      <td>1987</td>\n",
       "      <td>2124.9146</td>\n",
       "      <td>1734.7332</td>\n",
       "      <td>6757.7617</td>\n",
       "      <td>1987-01-01</td>\n",
       "      <td>1994</td>\n",
       "    </tr>\n",
       "    <tr>\n",
       "      <th>3</th>\n",
       "      <td>World</td>\n",
       "      <td>OWID_WRL</td>\n",
       "      <td>1988</td>\n",
       "      <td>2192.8516</td>\n",
       "      <td>1891.2493</td>\n",
       "      <td>6998.1790</td>\n",
       "      <td>1988-01-01</td>\n",
       "      <td>1994</td>\n",
       "    </tr>\n",
       "    <tr>\n",
       "      <th>4</th>\n",
       "      <td>World</td>\n",
       "      <td>OWID_WRL</td>\n",
       "      <td>1989</td>\n",
       "      <td>2195.1711</td>\n",
       "      <td>1945.0106</td>\n",
       "      <td>7455.7360</td>\n",
       "      <td>1989-01-01</td>\n",
       "      <td>1994</td>\n",
       "    </tr>\n",
       "  </tbody>\n",
       "</table>\n",
       "</div>"
      ],
      "text/plain": [
       "  Entity      Code  Year  Renewable    Nuclear     Fossil       year  frame\n",
       "0  World  OWID_WRL  1985  2058.0222  1488.9216  6285.4736 1985-01-01   1994\n",
       "1  World  OWID_WRL  1986  2091.6704  1594.7357  6439.9746 1986-01-01   1994\n",
       "2  World  OWID_WRL  1987  2124.9146  1734.7332  6757.7617 1987-01-01   1994\n",
       "3  World  OWID_WRL  1988  2192.8516  1891.2493  6998.1790 1988-01-01   1994\n",
       "4  World  OWID_WRL  1989  2195.1711  1945.0106  7455.7360 1989-01-01   1994"
      ]
     },
     "execution_count": 17,
     "metadata": {},
     "output_type": "execute_result"
    }
   ],
   "source": [
    "df_animation.head()"
   ]
  },
  {
   "cell_type": "code",
   "execution_count": 18,
   "metadata": {},
   "outputs": [
    {
     "data": {
      "application/vnd.plotly.v1+json": {
       "config": {
        "plotlyServerURL": "https://plot.ly"
       },
       "data": [
        {
         "fillpattern": {
          "shape": ""
         },
         "hovertemplate": "variable=Renewable<br>frame=1994<br>year=%{x}<br>value=%{y}<extra></extra>",
         "legendgroup": "Renewable",
         "line": {
          "color": "rgb(120,0,100)"
         },
         "marker": {
          "symbol": "circle"
         },
         "mode": "lines",
         "name": "Renewable",
         "orientation": "v",
         "showlegend": true,
         "stackgroup": "1",
         "type": "scatter",
         "x": [
          "1985-01-01T00:00:00",
          "1986-01-01T00:00:00",
          "1987-01-01T00:00:00",
          "1988-01-01T00:00:00",
          "1989-01-01T00:00:00",
          "1990-01-01T00:00:00",
          "1991-01-01T00:00:00",
          "1992-01-01T00:00:00",
          "1993-01-01T00:00:00",
          "1994-01-01T00:00:00"
         ],
         "xaxis": "x",
         "y": [
          2058.0222,
          2091.6704,
          2124.9146,
          2192.8516,
          2195.1711,
          2279.8643,
          2335.3965,
          2344.6736,
          2483.061,
          2504.311
         ],
         "yaxis": "y"
        }
       ],
       "frames": [
        {
         "data": [
          {
           "fillpattern": {
            "shape": ""
           },
           "hovertemplate": "variable=Renewable<br>frame=1994<br>year=%{x}<br>value=%{y}<extra></extra>",
           "legendgroup": "Renewable",
           "line": {
            "color": "rgb(120,0,100)"
           },
           "marker": {
            "symbol": "circle"
           },
           "mode": "lines",
           "name": "Renewable",
           "orientation": "v",
           "showlegend": true,
           "stackgroup": "1",
           "type": "scatter",
           "x": [
            "1985-01-01T00:00:00",
            "1986-01-01T00:00:00",
            "1987-01-01T00:00:00",
            "1988-01-01T00:00:00",
            "1989-01-01T00:00:00",
            "1990-01-01T00:00:00",
            "1991-01-01T00:00:00",
            "1992-01-01T00:00:00",
            "1993-01-01T00:00:00",
            "1994-01-01T00:00:00"
           ],
           "xaxis": "x",
           "y": [
            2058.0222,
            2091.6704,
            2124.9146,
            2192.8516,
            2195.1711,
            2279.8643,
            2335.3965,
            2344.6736,
            2483.061,
            2504.311
           ],
           "yaxis": "y"
          }
         ],
         "name": "1994"
        },
        {
         "data": [
          {
           "fillpattern": {
            "shape": ""
           },
           "hovertemplate": "variable=Renewable<br>frame=1995<br>year=%{x}<br>value=%{y}<extra></extra>",
           "legendgroup": "Renewable",
           "line": {
            "color": "rgb(120,0,100)"
           },
           "marker": {
            "symbol": "circle"
           },
           "mode": "lines",
           "name": "Renewable",
           "orientation": "v",
           "showlegend": true,
           "stackgroup": "1",
           "type": "scatter",
           "x": [
            "1985-01-01T00:00:00",
            "1986-01-01T00:00:00",
            "1987-01-01T00:00:00",
            "1988-01-01T00:00:00",
            "1989-01-01T00:00:00",
            "1990-01-01T00:00:00",
            "1991-01-01T00:00:00",
            "1992-01-01T00:00:00",
            "1993-01-01T00:00:00",
            "1994-01-01T00:00:00",
            "1995-01-01T00:00:00"
           ],
           "xaxis": "x",
           "y": [
            2058.0222,
            2091.6704,
            2124.9146,
            2192.8516,
            2195.1711,
            2279.8643,
            2335.3965,
            2344.6736,
            2483.061,
            2504.311,
            2638.9414
           ],
           "yaxis": "y"
          }
         ],
         "name": "1995"
        },
        {
         "data": [
          {
           "fillpattern": {
            "shape": ""
           },
           "hovertemplate": "variable=Renewable<br>frame=1996<br>year=%{x}<br>value=%{y}<extra></extra>",
           "legendgroup": "Renewable",
           "line": {
            "color": "rgb(120,0,100)"
           },
           "marker": {
            "symbol": "circle"
           },
           "mode": "lines",
           "name": "Renewable",
           "orientation": "v",
           "showlegend": true,
           "stackgroup": "1",
           "type": "scatter",
           "x": [
            "1985-01-01T00:00:00",
            "1986-01-01T00:00:00",
            "1987-01-01T00:00:00",
            "1988-01-01T00:00:00",
            "1989-01-01T00:00:00",
            "1990-01-01T00:00:00",
            "1991-01-01T00:00:00",
            "1992-01-01T00:00:00",
            "1993-01-01T00:00:00",
            "1994-01-01T00:00:00",
            "1995-01-01T00:00:00",
            "1996-01-01T00:00:00"
           ],
           "xaxis": "x",
           "y": [
            2058.0222,
            2091.6704,
            2124.9146,
            2192.8516,
            2195.1711,
            2279.8643,
            2335.3965,
            2344.6736,
            2483.061,
            2504.311,
            2638.9414,
            2677.4333
           ],
           "yaxis": "y"
          }
         ],
         "name": "1996"
        },
        {
         "data": [
          {
           "fillpattern": {
            "shape": ""
           },
           "hovertemplate": "variable=Renewable<br>frame=1997<br>year=%{x}<br>value=%{y}<extra></extra>",
           "legendgroup": "Renewable",
           "line": {
            "color": "rgb(120,0,100)"
           },
           "marker": {
            "symbol": "circle"
           },
           "mode": "lines",
           "name": "Renewable",
           "orientation": "v",
           "showlegend": true,
           "stackgroup": "1",
           "type": "scatter",
           "x": [
            "1985-01-01T00:00:00",
            "1986-01-01T00:00:00",
            "1987-01-01T00:00:00",
            "1988-01-01T00:00:00",
            "1989-01-01T00:00:00",
            "1990-01-01T00:00:00",
            "1991-01-01T00:00:00",
            "1992-01-01T00:00:00",
            "1993-01-01T00:00:00",
            "1994-01-01T00:00:00",
            "1995-01-01T00:00:00",
            "1996-01-01T00:00:00",
            "1997-01-01T00:00:00"
           ],
           "xaxis": "x",
           "y": [
            2058.0222,
            2091.6704,
            2124.9146,
            2192.8516,
            2195.1711,
            2279.8643,
            2335.3965,
            2344.6736,
            2483.061,
            2504.311,
            2638.9414,
            2677.4333,
            2735.5457
           ],
           "yaxis": "y"
          }
         ],
         "name": "1997"
        },
        {
         "data": [
          {
           "fillpattern": {
            "shape": ""
           },
           "hovertemplate": "variable=Renewable<br>frame=1998<br>year=%{x}<br>value=%{y}<extra></extra>",
           "legendgroup": "Renewable",
           "line": {
            "color": "rgb(120,0,100)"
           },
           "marker": {
            "symbol": "circle"
           },
           "mode": "lines",
           "name": "Renewable",
           "orientation": "v",
           "showlegend": true,
           "stackgroup": "1",
           "type": "scatter",
           "x": [
            "1985-01-01T00:00:00",
            "1986-01-01T00:00:00",
            "1987-01-01T00:00:00",
            "1988-01-01T00:00:00",
            "1989-01-01T00:00:00",
            "1990-01-01T00:00:00",
            "1991-01-01T00:00:00",
            "1992-01-01T00:00:00",
            "1993-01-01T00:00:00",
            "1994-01-01T00:00:00",
            "1995-01-01T00:00:00",
            "1996-01-01T00:00:00",
            "1997-01-01T00:00:00",
            "1998-01-01T00:00:00"
           ],
           "xaxis": "x",
           "y": [
            2058.0222,
            2091.6704,
            2124.9146,
            2192.8516,
            2195.1711,
            2279.8643,
            2335.3965,
            2344.6736,
            2483.061,
            2504.311,
            2638.9414,
            2677.4333,
            2735.5457,
            2765.892
           ],
           "yaxis": "y"
          }
         ],
         "name": "1998"
        },
        {
         "data": [
          {
           "fillpattern": {
            "shape": ""
           },
           "hovertemplate": "variable=Renewable<br>frame=1999<br>year=%{x}<br>value=%{y}<extra></extra>",
           "legendgroup": "Renewable",
           "line": {
            "color": "rgb(120,0,100)"
           },
           "marker": {
            "symbol": "circle"
           },
           "mode": "lines",
           "name": "Renewable",
           "orientation": "v",
           "showlegend": true,
           "stackgroup": "1",
           "type": "scatter",
           "x": [
            "1985-01-01T00:00:00",
            "1986-01-01T00:00:00",
            "1987-01-01T00:00:00",
            "1988-01-01T00:00:00",
            "1989-01-01T00:00:00",
            "1990-01-01T00:00:00",
            "1991-01-01T00:00:00",
            "1992-01-01T00:00:00",
            "1993-01-01T00:00:00",
            "1994-01-01T00:00:00",
            "1995-01-01T00:00:00",
            "1996-01-01T00:00:00",
            "1997-01-01T00:00:00",
            "1998-01-01T00:00:00",
            "1999-01-01T00:00:00"
           ],
           "xaxis": "x",
           "y": [
            2058.0222,
            2091.6704,
            2124.9146,
            2192.8516,
            2195.1711,
            2279.8643,
            2335.3965,
            2344.6736,
            2483.061,
            2504.311,
            2638.9414,
            2677.4333,
            2735.5457,
            2765.892,
            2799.2485
           ],
           "yaxis": "y"
          }
         ],
         "name": "1999"
        },
        {
         "data": [
          {
           "fillpattern": {
            "shape": ""
           },
           "hovertemplate": "variable=Renewable<br>frame=2000<br>year=%{x}<br>value=%{y}<extra></extra>",
           "legendgroup": "Renewable",
           "line": {
            "color": "rgb(120,0,100)"
           },
           "marker": {
            "symbol": "circle"
           },
           "mode": "lines",
           "name": "Renewable",
           "orientation": "v",
           "showlegend": true,
           "stackgroup": "1",
           "type": "scatter",
           "x": [
            "1985-01-01T00:00:00",
            "1986-01-01T00:00:00",
            "1987-01-01T00:00:00",
            "1988-01-01T00:00:00",
            "1989-01-01T00:00:00",
            "1990-01-01T00:00:00",
            "1991-01-01T00:00:00",
            "1992-01-01T00:00:00",
            "1993-01-01T00:00:00",
            "1994-01-01T00:00:00",
            "1995-01-01T00:00:00",
            "1996-01-01T00:00:00",
            "1997-01-01T00:00:00",
            "1998-01-01T00:00:00",
            "1999-01-01T00:00:00",
            "2000-01-01T00:00:00"
           ],
           "xaxis": "x",
           "y": [
            2058.0222,
            2091.6704,
            2124.9146,
            2192.8516,
            2195.1711,
            2279.8643,
            2335.3965,
            2344.6736,
            2483.061,
            2504.311,
            2638.9414,
            2677.4333,
            2735.5457,
            2765.892,
            2799.2485,
            2858.4
           ],
           "yaxis": "y"
          }
         ],
         "name": "2000"
        },
        {
         "data": [
          {
           "fillpattern": {
            "shape": ""
           },
           "hovertemplate": "variable=Renewable<br>frame=2001<br>year=%{x}<br>value=%{y}<extra></extra>",
           "legendgroup": "Renewable",
           "line": {
            "color": "rgb(120,0,100)"
           },
           "marker": {
            "symbol": "circle"
           },
           "mode": "lines",
           "name": "Renewable",
           "orientation": "v",
           "showlegend": true,
           "stackgroup": "1",
           "type": "scatter",
           "x": [
            "1985-01-01T00:00:00",
            "1986-01-01T00:00:00",
            "1987-01-01T00:00:00",
            "1988-01-01T00:00:00",
            "1989-01-01T00:00:00",
            "1990-01-01T00:00:00",
            "1991-01-01T00:00:00",
            "1992-01-01T00:00:00",
            "1993-01-01T00:00:00",
            "1994-01-01T00:00:00",
            "1995-01-01T00:00:00",
            "1996-01-01T00:00:00",
            "1997-01-01T00:00:00",
            "1998-01-01T00:00:00",
            "1999-01-01T00:00:00",
            "2000-01-01T00:00:00",
            "2001-01-01T00:00:00"
           ],
           "xaxis": "x",
           "y": [
            2058.0222,
            2091.6704,
            2124.9146,
            2192.8516,
            2195.1711,
            2279.8643,
            2335.3965,
            2344.6736,
            2483.061,
            2504.311,
            2638.9414,
            2677.4333,
            2735.5457,
            2765.892,
            2799.2485,
            2858.4,
            2795.97
           ],
           "yaxis": "y"
          }
         ],
         "name": "2001"
        },
        {
         "data": [
          {
           "fillpattern": {
            "shape": ""
           },
           "hovertemplate": "variable=Renewable<br>frame=2002<br>year=%{x}<br>value=%{y}<extra></extra>",
           "legendgroup": "Renewable",
           "line": {
            "color": "rgb(120,0,100)"
           },
           "marker": {
            "symbol": "circle"
           },
           "mode": "lines",
           "name": "Renewable",
           "orientation": "v",
           "showlegend": true,
           "stackgroup": "1",
           "type": "scatter",
           "x": [
            "1985-01-01T00:00:00",
            "1986-01-01T00:00:00",
            "1987-01-01T00:00:00",
            "1988-01-01T00:00:00",
            "1989-01-01T00:00:00",
            "1990-01-01T00:00:00",
            "1991-01-01T00:00:00",
            "1992-01-01T00:00:00",
            "1993-01-01T00:00:00",
            "1994-01-01T00:00:00",
            "1995-01-01T00:00:00",
            "1996-01-01T00:00:00",
            "1997-01-01T00:00:00",
            "1998-01-01T00:00:00",
            "1999-01-01T00:00:00",
            "2000-01-01T00:00:00",
            "2001-01-01T00:00:00",
            "2002-01-01T00:00:00"
           ],
           "xaxis": "x",
           "y": [
            2058.0222,
            2091.6704,
            2124.9146,
            2192.8516,
            2195.1711,
            2279.8643,
            2335.3965,
            2344.6736,
            2483.061,
            2504.311,
            2638.9414,
            2677.4333,
            2735.5457,
            2765.892,
            2799.2485,
            2858.4,
            2795.97,
            2873.26
           ],
           "yaxis": "y"
          }
         ],
         "name": "2002"
        },
        {
         "data": [
          {
           "fillpattern": {
            "shape": ""
           },
           "hovertemplate": "variable=Renewable<br>frame=2003<br>year=%{x}<br>value=%{y}<extra></extra>",
           "legendgroup": "Renewable",
           "line": {
            "color": "rgb(120,0,100)"
           },
           "marker": {
            "symbol": "circle"
           },
           "mode": "lines",
           "name": "Renewable",
           "orientation": "v",
           "showlegend": true,
           "stackgroup": "1",
           "type": "scatter",
           "x": [
            "1985-01-01T00:00:00",
            "1986-01-01T00:00:00",
            "1987-01-01T00:00:00",
            "1988-01-01T00:00:00",
            "1989-01-01T00:00:00",
            "1990-01-01T00:00:00",
            "1991-01-01T00:00:00",
            "1992-01-01T00:00:00",
            "1993-01-01T00:00:00",
            "1994-01-01T00:00:00",
            "1995-01-01T00:00:00",
            "1996-01-01T00:00:00",
            "1997-01-01T00:00:00",
            "1998-01-01T00:00:00",
            "1999-01-01T00:00:00",
            "2000-01-01T00:00:00",
            "2001-01-01T00:00:00",
            "2002-01-01T00:00:00",
            "2003-01-01T00:00:00"
           ],
           "xaxis": "x",
           "y": [
            2058.0222,
            2091.6704,
            2124.9146,
            2192.8516,
            2195.1711,
            2279.8643,
            2335.3965,
            2344.6736,
            2483.061,
            2504.311,
            2638.9414,
            2677.4333,
            2735.5457,
            2765.892,
            2799.2485,
            2858.4,
            2795.97,
            2873.26,
            2899.25
           ],
           "yaxis": "y"
          }
         ],
         "name": "2003"
        },
        {
         "data": [
          {
           "fillpattern": {
            "shape": ""
           },
           "hovertemplate": "variable=Renewable<br>frame=2004<br>year=%{x}<br>value=%{y}<extra></extra>",
           "legendgroup": "Renewable",
           "line": {
            "color": "rgb(120,0,100)"
           },
           "marker": {
            "symbol": "circle"
           },
           "mode": "lines",
           "name": "Renewable",
           "orientation": "v",
           "showlegend": true,
           "stackgroup": "1",
           "type": "scatter",
           "x": [
            "1985-01-01T00:00:00",
            "1986-01-01T00:00:00",
            "1987-01-01T00:00:00",
            "1988-01-01T00:00:00",
            "1989-01-01T00:00:00",
            "1990-01-01T00:00:00",
            "1991-01-01T00:00:00",
            "1992-01-01T00:00:00",
            "1993-01-01T00:00:00",
            "1994-01-01T00:00:00",
            "1995-01-01T00:00:00",
            "1996-01-01T00:00:00",
            "1997-01-01T00:00:00",
            "1998-01-01T00:00:00",
            "1999-01-01T00:00:00",
            "2000-01-01T00:00:00",
            "2001-01-01T00:00:00",
            "2002-01-01T00:00:00",
            "2003-01-01T00:00:00",
            "2004-01-01T00:00:00"
           ],
           "xaxis": "x",
           "y": [
            2058.0222,
            2091.6704,
            2124.9146,
            2192.8516,
            2195.1711,
            2279.8643,
            2335.3965,
            2344.6736,
            2483.061,
            2504.311,
            2638.9414,
            2677.4333,
            2735.5457,
            2765.892,
            2799.2485,
            2858.4,
            2795.97,
            2873.26,
            2899.25,
            3129.16
           ],
           "yaxis": "y"
          }
         ],
         "name": "2004"
        },
        {
         "data": [
          {
           "fillpattern": {
            "shape": ""
           },
           "hovertemplate": "variable=Renewable<br>frame=2005<br>year=%{x}<br>value=%{y}<extra></extra>",
           "legendgroup": "Renewable",
           "line": {
            "color": "rgb(120,0,100)"
           },
           "marker": {
            "symbol": "circle"
           },
           "mode": "lines",
           "name": "Renewable",
           "orientation": "v",
           "showlegend": true,
           "stackgroup": "1",
           "type": "scatter",
           "x": [
            "1985-01-01T00:00:00",
            "1986-01-01T00:00:00",
            "1987-01-01T00:00:00",
            "1988-01-01T00:00:00",
            "1989-01-01T00:00:00",
            "1990-01-01T00:00:00",
            "1991-01-01T00:00:00",
            "1992-01-01T00:00:00",
            "1993-01-01T00:00:00",
            "1994-01-01T00:00:00",
            "1995-01-01T00:00:00",
            "1996-01-01T00:00:00",
            "1997-01-01T00:00:00",
            "1998-01-01T00:00:00",
            "1999-01-01T00:00:00",
            "2000-01-01T00:00:00",
            "2001-01-01T00:00:00",
            "2002-01-01T00:00:00",
            "2003-01-01T00:00:00",
            "2004-01-01T00:00:00",
            "2005-01-01T00:00:00"
           ],
           "xaxis": "x",
           "y": [
            2058.0222,
            2091.6704,
            2124.9146,
            2192.8516,
            2195.1711,
            2279.8643,
            2335.3965,
            2344.6736,
            2483.061,
            2504.311,
            2638.9414,
            2677.4333,
            2735.5457,
            2765.892,
            2799.2485,
            2858.4,
            2795.97,
            2873.26,
            2899.25,
            3129.16,
            3279.51
           ],
           "yaxis": "y"
          }
         ],
         "name": "2005"
        },
        {
         "data": [
          {
           "fillpattern": {
            "shape": ""
           },
           "hovertemplate": "variable=Renewable<br>frame=2006<br>year=%{x}<br>value=%{y}<extra></extra>",
           "legendgroup": "Renewable",
           "line": {
            "color": "rgb(120,0,100)"
           },
           "marker": {
            "symbol": "circle"
           },
           "mode": "lines",
           "name": "Renewable",
           "orientation": "v",
           "showlegend": true,
           "stackgroup": "1",
           "type": "scatter",
           "x": [
            "1985-01-01T00:00:00",
            "1986-01-01T00:00:00",
            "1987-01-01T00:00:00",
            "1988-01-01T00:00:00",
            "1989-01-01T00:00:00",
            "1990-01-01T00:00:00",
            "1991-01-01T00:00:00",
            "1992-01-01T00:00:00",
            "1993-01-01T00:00:00",
            "1994-01-01T00:00:00",
            "1995-01-01T00:00:00",
            "1996-01-01T00:00:00",
            "1997-01-01T00:00:00",
            "1998-01-01T00:00:00",
            "1999-01-01T00:00:00",
            "2000-01-01T00:00:00",
            "2001-01-01T00:00:00",
            "2002-01-01T00:00:00",
            "2003-01-01T00:00:00",
            "2004-01-01T00:00:00",
            "2005-01-01T00:00:00",
            "2006-01-01T00:00:00"
           ],
           "xaxis": "x",
           "y": [
            2058.0222,
            2091.6704,
            2124.9146,
            2192.8516,
            2195.1711,
            2279.8643,
            2335.3965,
            2344.6736,
            2483.061,
            2504.311,
            2638.9414,
            2677.4333,
            2735.5457,
            2765.892,
            2799.2485,
            2858.4,
            2795.97,
            2873.26,
            2899.25,
            3129.16,
            3279.51,
            3432.46
           ],
           "yaxis": "y"
          }
         ],
         "name": "2006"
        },
        {
         "data": [
          {
           "fillpattern": {
            "shape": ""
           },
           "hovertemplate": "variable=Renewable<br>frame=2007<br>year=%{x}<br>value=%{y}<extra></extra>",
           "legendgroup": "Renewable",
           "line": {
            "color": "rgb(120,0,100)"
           },
           "marker": {
            "symbol": "circle"
           },
           "mode": "lines",
           "name": "Renewable",
           "orientation": "v",
           "showlegend": true,
           "stackgroup": "1",
           "type": "scatter",
           "x": [
            "1985-01-01T00:00:00",
            "1986-01-01T00:00:00",
            "1987-01-01T00:00:00",
            "1988-01-01T00:00:00",
            "1989-01-01T00:00:00",
            "1990-01-01T00:00:00",
            "1991-01-01T00:00:00",
            "1992-01-01T00:00:00",
            "1993-01-01T00:00:00",
            "1994-01-01T00:00:00",
            "1995-01-01T00:00:00",
            "1996-01-01T00:00:00",
            "1997-01-01T00:00:00",
            "1998-01-01T00:00:00",
            "1999-01-01T00:00:00",
            "2000-01-01T00:00:00",
            "2001-01-01T00:00:00",
            "2002-01-01T00:00:00",
            "2003-01-01T00:00:00",
            "2004-01-01T00:00:00",
            "2005-01-01T00:00:00",
            "2006-01-01T00:00:00",
            "2007-01-01T00:00:00"
           ],
           "xaxis": "x",
           "y": [
            2058.0222,
            2091.6704,
            2124.9146,
            2192.8516,
            2195.1711,
            2279.8643,
            2335.3965,
            2344.6736,
            2483.061,
            2504.311,
            2638.9414,
            2677.4333,
            2735.5457,
            2765.892,
            2799.2485,
            2858.4,
            2795.97,
            2873.26,
            2899.25,
            3129.16,
            3279.51,
            3432.46,
            3540.47
           ],
           "yaxis": "y"
          }
         ],
         "name": "2007"
        },
        {
         "data": [
          {
           "fillpattern": {
            "shape": ""
           },
           "hovertemplate": "variable=Renewable<br>frame=2008<br>year=%{x}<br>value=%{y}<extra></extra>",
           "legendgroup": "Renewable",
           "line": {
            "color": "rgb(120,0,100)"
           },
           "marker": {
            "symbol": "circle"
           },
           "mode": "lines",
           "name": "Renewable",
           "orientation": "v",
           "showlegend": true,
           "stackgroup": "1",
           "type": "scatter",
           "x": [
            "1985-01-01T00:00:00",
            "1986-01-01T00:00:00",
            "1987-01-01T00:00:00",
            "1988-01-01T00:00:00",
            "1989-01-01T00:00:00",
            "1990-01-01T00:00:00",
            "1991-01-01T00:00:00",
            "1992-01-01T00:00:00",
            "1993-01-01T00:00:00",
            "1994-01-01T00:00:00",
            "1995-01-01T00:00:00",
            "1996-01-01T00:00:00",
            "1997-01-01T00:00:00",
            "1998-01-01T00:00:00",
            "1999-01-01T00:00:00",
            "2000-01-01T00:00:00",
            "2001-01-01T00:00:00",
            "2002-01-01T00:00:00",
            "2003-01-01T00:00:00",
            "2004-01-01T00:00:00",
            "2005-01-01T00:00:00",
            "2006-01-01T00:00:00",
            "2007-01-01T00:00:00",
            "2008-01-01T00:00:00"
           ],
           "xaxis": "x",
           "y": [
            2058.0222,
            2091.6704,
            2124.9146,
            2192.8516,
            2195.1711,
            2279.8643,
            2335.3965,
            2344.6736,
            2483.061,
            2504.311,
            2638.9414,
            2677.4333,
            2735.5457,
            2765.892,
            2799.2485,
            2858.4,
            2795.97,
            2873.26,
            2899.25,
            3129.16,
            3279.51,
            3432.46,
            3540.47,
            3798.13
           ],
           "yaxis": "y"
          }
         ],
         "name": "2008"
        },
        {
         "data": [
          {
           "fillpattern": {
            "shape": ""
           },
           "hovertemplate": "variable=Renewable<br>frame=2009<br>year=%{x}<br>value=%{y}<extra></extra>",
           "legendgroup": "Renewable",
           "line": {
            "color": "rgb(120,0,100)"
           },
           "marker": {
            "symbol": "circle"
           },
           "mode": "lines",
           "name": "Renewable",
           "orientation": "v",
           "showlegend": true,
           "stackgroup": "1",
           "type": "scatter",
           "x": [
            "1985-01-01T00:00:00",
            "1986-01-01T00:00:00",
            "1987-01-01T00:00:00",
            "1988-01-01T00:00:00",
            "1989-01-01T00:00:00",
            "1990-01-01T00:00:00",
            "1991-01-01T00:00:00",
            "1992-01-01T00:00:00",
            "1993-01-01T00:00:00",
            "1994-01-01T00:00:00",
            "1995-01-01T00:00:00",
            "1996-01-01T00:00:00",
            "1997-01-01T00:00:00",
            "1998-01-01T00:00:00",
            "1999-01-01T00:00:00",
            "2000-01-01T00:00:00",
            "2001-01-01T00:00:00",
            "2002-01-01T00:00:00",
            "2003-01-01T00:00:00",
            "2004-01-01T00:00:00",
            "2005-01-01T00:00:00",
            "2006-01-01T00:00:00",
            "2007-01-01T00:00:00",
            "2008-01-01T00:00:00",
            "2009-01-01T00:00:00"
           ],
           "xaxis": "x",
           "y": [
            2058.0222,
            2091.6704,
            2124.9146,
            2192.8516,
            2195.1711,
            2279.8643,
            2335.3965,
            2344.6736,
            2483.061,
            2504.311,
            2638.9414,
            2677.4333,
            2735.5457,
            2765.892,
            2799.2485,
            2858.4,
            2795.97,
            2873.26,
            2899.25,
            3129.16,
            3279.51,
            3432.46,
            3540.47,
            3798.13,
            3879.24
           ],
           "yaxis": "y"
          }
         ],
         "name": "2009"
        },
        {
         "data": [
          {
           "fillpattern": {
            "shape": ""
           },
           "hovertemplate": "variable=Renewable<br>frame=2010<br>year=%{x}<br>value=%{y}<extra></extra>",
           "legendgroup": "Renewable",
           "line": {
            "color": "rgb(120,0,100)"
           },
           "marker": {
            "symbol": "circle"
           },
           "mode": "lines",
           "name": "Renewable",
           "orientation": "v",
           "showlegend": true,
           "stackgroup": "1",
           "type": "scatter",
           "x": [
            "1985-01-01T00:00:00",
            "1986-01-01T00:00:00",
            "1987-01-01T00:00:00",
            "1988-01-01T00:00:00",
            "1989-01-01T00:00:00",
            "1990-01-01T00:00:00",
            "1991-01-01T00:00:00",
            "1992-01-01T00:00:00",
            "1993-01-01T00:00:00",
            "1994-01-01T00:00:00",
            "1995-01-01T00:00:00",
            "1996-01-01T00:00:00",
            "1997-01-01T00:00:00",
            "1998-01-01T00:00:00",
            "1999-01-01T00:00:00",
            "2000-01-01T00:00:00",
            "2001-01-01T00:00:00",
            "2002-01-01T00:00:00",
            "2003-01-01T00:00:00",
            "2004-01-01T00:00:00",
            "2005-01-01T00:00:00",
            "2006-01-01T00:00:00",
            "2007-01-01T00:00:00",
            "2008-01-01T00:00:00",
            "2009-01-01T00:00:00",
            "2010-01-01T00:00:00"
           ],
           "xaxis": "x",
           "y": [
            2058.0222,
            2091.6704,
            2124.9146,
            2192.8516,
            2195.1711,
            2279.8643,
            2335.3965,
            2344.6736,
            2483.061,
            2504.311,
            2638.9414,
            2677.4333,
            2735.5457,
            2765.892,
            2799.2485,
            2858.4,
            2795.97,
            2873.26,
            2899.25,
            3129.16,
            3279.51,
            3432.46,
            3540.47,
            3798.13,
            3879.24,
            4191.63
           ],
           "yaxis": "y"
          }
         ],
         "name": "2010"
        },
        {
         "data": [
          {
           "fillpattern": {
            "shape": ""
           },
           "hovertemplate": "variable=Renewable<br>frame=2011<br>year=%{x}<br>value=%{y}<extra></extra>",
           "legendgroup": "Renewable",
           "line": {
            "color": "rgb(120,0,100)"
           },
           "marker": {
            "symbol": "circle"
           },
           "mode": "lines",
           "name": "Renewable",
           "orientation": "v",
           "showlegend": true,
           "stackgroup": "1",
           "type": "scatter",
           "x": [
            "1985-01-01T00:00:00",
            "1986-01-01T00:00:00",
            "1987-01-01T00:00:00",
            "1988-01-01T00:00:00",
            "1989-01-01T00:00:00",
            "1990-01-01T00:00:00",
            "1991-01-01T00:00:00",
            "1992-01-01T00:00:00",
            "1993-01-01T00:00:00",
            "1994-01-01T00:00:00",
            "1995-01-01T00:00:00",
            "1996-01-01T00:00:00",
            "1997-01-01T00:00:00",
            "1998-01-01T00:00:00",
            "1999-01-01T00:00:00",
            "2000-01-01T00:00:00",
            "2001-01-01T00:00:00",
            "2002-01-01T00:00:00",
            "2003-01-01T00:00:00",
            "2004-01-01T00:00:00",
            "2005-01-01T00:00:00",
            "2006-01-01T00:00:00",
            "2007-01-01T00:00:00",
            "2008-01-01T00:00:00",
            "2009-01-01T00:00:00",
            "2010-01-01T00:00:00",
            "2011-01-01T00:00:00"
           ],
           "xaxis": "x",
           "y": [
            2058.0222,
            2091.6704,
            2124.9146,
            2192.8516,
            2195.1711,
            2279.8643,
            2335.3965,
            2344.6736,
            2483.061,
            2504.311,
            2638.9414,
            2677.4333,
            2735.5457,
            2765.892,
            2799.2485,
            2858.4,
            2795.97,
            2873.26,
            2899.25,
            3129.16,
            3279.51,
            3432.46,
            3540.47,
            3798.13,
            3879.24,
            4191.63,
            4394.13
           ],
           "yaxis": "y"
          }
         ],
         "name": "2011"
        },
        {
         "data": [
          {
           "fillpattern": {
            "shape": ""
           },
           "hovertemplate": "variable=Renewable<br>frame=2012<br>year=%{x}<br>value=%{y}<extra></extra>",
           "legendgroup": "Renewable",
           "line": {
            "color": "rgb(120,0,100)"
           },
           "marker": {
            "symbol": "circle"
           },
           "mode": "lines",
           "name": "Renewable",
           "orientation": "v",
           "showlegend": true,
           "stackgroup": "1",
           "type": "scatter",
           "x": [
            "1985-01-01T00:00:00",
            "1986-01-01T00:00:00",
            "1987-01-01T00:00:00",
            "1988-01-01T00:00:00",
            "1989-01-01T00:00:00",
            "1990-01-01T00:00:00",
            "1991-01-01T00:00:00",
            "1992-01-01T00:00:00",
            "1993-01-01T00:00:00",
            "1994-01-01T00:00:00",
            "1995-01-01T00:00:00",
            "1996-01-01T00:00:00",
            "1997-01-01T00:00:00",
            "1998-01-01T00:00:00",
            "1999-01-01T00:00:00",
            "2000-01-01T00:00:00",
            "2001-01-01T00:00:00",
            "2002-01-01T00:00:00",
            "2003-01-01T00:00:00",
            "2004-01-01T00:00:00",
            "2005-01-01T00:00:00",
            "2006-01-01T00:00:00",
            "2007-01-01T00:00:00",
            "2008-01-01T00:00:00",
            "2009-01-01T00:00:00",
            "2010-01-01T00:00:00",
            "2011-01-01T00:00:00",
            "2012-01-01T00:00:00"
           ],
           "xaxis": "x",
           "y": [
            2058.0222,
            2091.6704,
            2124.9146,
            2192.8516,
            2195.1711,
            2279.8643,
            2335.3965,
            2344.6736,
            2483.061,
            2504.311,
            2638.9414,
            2677.4333,
            2735.5457,
            2765.892,
            2799.2485,
            2858.4,
            2795.97,
            2873.26,
            2899.25,
            3129.16,
            3279.51,
            3432.46,
            3540.47,
            3798.13,
            3879.24,
            4191.63,
            4394.13,
            4721.16
           ],
           "yaxis": "y"
          }
         ],
         "name": "2012"
        },
        {
         "data": [
          {
           "fillpattern": {
            "shape": ""
           },
           "hovertemplate": "variable=Renewable<br>frame=2013<br>year=%{x}<br>value=%{y}<extra></extra>",
           "legendgroup": "Renewable",
           "line": {
            "color": "rgb(120,0,100)"
           },
           "marker": {
            "symbol": "circle"
           },
           "mode": "lines",
           "name": "Renewable",
           "orientation": "v",
           "showlegend": true,
           "stackgroup": "1",
           "type": "scatter",
           "x": [
            "1985-01-01T00:00:00",
            "1986-01-01T00:00:00",
            "1987-01-01T00:00:00",
            "1988-01-01T00:00:00",
            "1989-01-01T00:00:00",
            "1990-01-01T00:00:00",
            "1991-01-01T00:00:00",
            "1992-01-01T00:00:00",
            "1993-01-01T00:00:00",
            "1994-01-01T00:00:00",
            "1995-01-01T00:00:00",
            "1996-01-01T00:00:00",
            "1997-01-01T00:00:00",
            "1998-01-01T00:00:00",
            "1999-01-01T00:00:00",
            "2000-01-01T00:00:00",
            "2001-01-01T00:00:00",
            "2002-01-01T00:00:00",
            "2003-01-01T00:00:00",
            "2004-01-01T00:00:00",
            "2005-01-01T00:00:00",
            "2006-01-01T00:00:00",
            "2007-01-01T00:00:00",
            "2008-01-01T00:00:00",
            "2009-01-01T00:00:00",
            "2010-01-01T00:00:00",
            "2011-01-01T00:00:00",
            "2012-01-01T00:00:00",
            "2013-01-01T00:00:00"
           ],
           "xaxis": "x",
           "y": [
            2058.0222,
            2091.6704,
            2124.9146,
            2192.8516,
            2195.1711,
            2279.8643,
            2335.3965,
            2344.6736,
            2483.061,
            2504.311,
            2638.9414,
            2677.4333,
            2735.5457,
            2765.892,
            2799.2485,
            2858.4,
            2795.97,
            2873.26,
            2899.25,
            3129.16,
            3279.51,
            3432.46,
            3540.47,
            3798.13,
            3879.24,
            4191.63,
            4394.13,
            4721.16,
            5025.8
           ],
           "yaxis": "y"
          }
         ],
         "name": "2013"
        },
        {
         "data": [
          {
           "fillpattern": {
            "shape": ""
           },
           "hovertemplate": "variable=Renewable<br>frame=2014<br>year=%{x}<br>value=%{y}<extra></extra>",
           "legendgroup": "Renewable",
           "line": {
            "color": "rgb(120,0,100)"
           },
           "marker": {
            "symbol": "circle"
           },
           "mode": "lines",
           "name": "Renewable",
           "orientation": "v",
           "showlegend": true,
           "stackgroup": "1",
           "type": "scatter",
           "x": [
            "1985-01-01T00:00:00",
            "1986-01-01T00:00:00",
            "1987-01-01T00:00:00",
            "1988-01-01T00:00:00",
            "1989-01-01T00:00:00",
            "1990-01-01T00:00:00",
            "1991-01-01T00:00:00",
            "1992-01-01T00:00:00",
            "1993-01-01T00:00:00",
            "1994-01-01T00:00:00",
            "1995-01-01T00:00:00",
            "1996-01-01T00:00:00",
            "1997-01-01T00:00:00",
            "1998-01-01T00:00:00",
            "1999-01-01T00:00:00",
            "2000-01-01T00:00:00",
            "2001-01-01T00:00:00",
            "2002-01-01T00:00:00",
            "2003-01-01T00:00:00",
            "2004-01-01T00:00:00",
            "2005-01-01T00:00:00",
            "2006-01-01T00:00:00",
            "2007-01-01T00:00:00",
            "2008-01-01T00:00:00",
            "2009-01-01T00:00:00",
            "2010-01-01T00:00:00",
            "2011-01-01T00:00:00",
            "2012-01-01T00:00:00",
            "2013-01-01T00:00:00",
            "2014-01-01T00:00:00"
           ],
           "xaxis": "x",
           "y": [
            2058.0222,
            2091.6704,
            2124.9146,
            2192.8516,
            2195.1711,
            2279.8643,
            2335.3965,
            2344.6736,
            2483.061,
            2504.311,
            2638.9414,
            2677.4333,
            2735.5457,
            2765.892,
            2799.2485,
            2858.4,
            2795.97,
            2873.26,
            2899.25,
            3129.16,
            3279.51,
            3432.46,
            3540.47,
            3798.13,
            3879.24,
            4191.63,
            4394.13,
            4721.16,
            5025.8,
            5285.56
           ],
           "yaxis": "y"
          }
         ],
         "name": "2014"
        },
        {
         "data": [
          {
           "fillpattern": {
            "shape": ""
           },
           "hovertemplate": "variable=Renewable<br>frame=2015<br>year=%{x}<br>value=%{y}<extra></extra>",
           "legendgroup": "Renewable",
           "line": {
            "color": "rgb(120,0,100)"
           },
           "marker": {
            "symbol": "circle"
           },
           "mode": "lines",
           "name": "Renewable",
           "orientation": "v",
           "showlegend": true,
           "stackgroup": "1",
           "type": "scatter",
           "x": [
            "1985-01-01T00:00:00",
            "1986-01-01T00:00:00",
            "1987-01-01T00:00:00",
            "1988-01-01T00:00:00",
            "1989-01-01T00:00:00",
            "1990-01-01T00:00:00",
            "1991-01-01T00:00:00",
            "1992-01-01T00:00:00",
            "1993-01-01T00:00:00",
            "1994-01-01T00:00:00",
            "1995-01-01T00:00:00",
            "1996-01-01T00:00:00",
            "1997-01-01T00:00:00",
            "1998-01-01T00:00:00",
            "1999-01-01T00:00:00",
            "2000-01-01T00:00:00",
            "2001-01-01T00:00:00",
            "2002-01-01T00:00:00",
            "2003-01-01T00:00:00",
            "2004-01-01T00:00:00",
            "2005-01-01T00:00:00",
            "2006-01-01T00:00:00",
            "2007-01-01T00:00:00",
            "2008-01-01T00:00:00",
            "2009-01-01T00:00:00",
            "2010-01-01T00:00:00",
            "2011-01-01T00:00:00",
            "2012-01-01T00:00:00",
            "2013-01-01T00:00:00",
            "2014-01-01T00:00:00",
            "2015-01-01T00:00:00"
           ],
           "xaxis": "x",
           "y": [
            2058.0222,
            2091.6704,
            2124.9146,
            2192.8516,
            2195.1711,
            2279.8643,
            2335.3965,
            2344.6736,
            2483.061,
            2504.311,
            2638.9414,
            2677.4333,
            2735.5457,
            2765.892,
            2799.2485,
            2858.4,
            2795.97,
            2873.26,
            2899.25,
            3129.16,
            3279.51,
            3432.46,
            3540.47,
            3798.13,
            3879.24,
            4191.63,
            4394.13,
            4721.16,
            5025.8,
            5285.56,
            5519.22
           ],
           "yaxis": "y"
          }
         ],
         "name": "2015"
        },
        {
         "data": [
          {
           "fillpattern": {
            "shape": ""
           },
           "hovertemplate": "variable=Renewable<br>frame=2016<br>year=%{x}<br>value=%{y}<extra></extra>",
           "legendgroup": "Renewable",
           "line": {
            "color": "rgb(120,0,100)"
           },
           "marker": {
            "symbol": "circle"
           },
           "mode": "lines",
           "name": "Renewable",
           "orientation": "v",
           "showlegend": true,
           "stackgroup": "1",
           "type": "scatter",
           "x": [
            "1985-01-01T00:00:00",
            "1986-01-01T00:00:00",
            "1987-01-01T00:00:00",
            "1988-01-01T00:00:00",
            "1989-01-01T00:00:00",
            "1990-01-01T00:00:00",
            "1991-01-01T00:00:00",
            "1992-01-01T00:00:00",
            "1993-01-01T00:00:00",
            "1994-01-01T00:00:00",
            "1995-01-01T00:00:00",
            "1996-01-01T00:00:00",
            "1997-01-01T00:00:00",
            "1998-01-01T00:00:00",
            "1999-01-01T00:00:00",
            "2000-01-01T00:00:00",
            "2001-01-01T00:00:00",
            "2002-01-01T00:00:00",
            "2003-01-01T00:00:00",
            "2004-01-01T00:00:00",
            "2005-01-01T00:00:00",
            "2006-01-01T00:00:00",
            "2007-01-01T00:00:00",
            "2008-01-01T00:00:00",
            "2009-01-01T00:00:00",
            "2010-01-01T00:00:00",
            "2011-01-01T00:00:00",
            "2012-01-01T00:00:00",
            "2013-01-01T00:00:00",
            "2014-01-01T00:00:00",
            "2015-01-01T00:00:00",
            "2016-01-01T00:00:00"
           ],
           "xaxis": "x",
           "y": [
            2058.0222,
            2091.6704,
            2124.9146,
            2192.8516,
            2195.1711,
            2279.8643,
            2335.3965,
            2344.6736,
            2483.061,
            2504.311,
            2638.9414,
            2677.4333,
            2735.5457,
            2765.892,
            2799.2485,
            2858.4,
            2795.97,
            2873.26,
            2899.25,
            3129.16,
            3279.51,
            3432.46,
            3540.47,
            3798.13,
            3879.24,
            4191.63,
            4394.13,
            4721.16,
            5025.8,
            5285.56,
            5519.22,
            5858.55
           ],
           "yaxis": "y"
          }
         ],
         "name": "2016"
        },
        {
         "data": [
          {
           "fillpattern": {
            "shape": ""
           },
           "hovertemplate": "variable=Renewable<br>frame=2017<br>year=%{x}<br>value=%{y}<extra></extra>",
           "legendgroup": "Renewable",
           "line": {
            "color": "rgb(120,0,100)"
           },
           "marker": {
            "symbol": "circle"
           },
           "mode": "lines",
           "name": "Renewable",
           "orientation": "v",
           "showlegend": true,
           "stackgroup": "1",
           "type": "scatter",
           "x": [
            "1985-01-01T00:00:00",
            "1986-01-01T00:00:00",
            "1987-01-01T00:00:00",
            "1988-01-01T00:00:00",
            "1989-01-01T00:00:00",
            "1990-01-01T00:00:00",
            "1991-01-01T00:00:00",
            "1992-01-01T00:00:00",
            "1993-01-01T00:00:00",
            "1994-01-01T00:00:00",
            "1995-01-01T00:00:00",
            "1996-01-01T00:00:00",
            "1997-01-01T00:00:00",
            "1998-01-01T00:00:00",
            "1999-01-01T00:00:00",
            "2000-01-01T00:00:00",
            "2001-01-01T00:00:00",
            "2002-01-01T00:00:00",
            "2003-01-01T00:00:00",
            "2004-01-01T00:00:00",
            "2005-01-01T00:00:00",
            "2006-01-01T00:00:00",
            "2007-01-01T00:00:00",
            "2008-01-01T00:00:00",
            "2009-01-01T00:00:00",
            "2010-01-01T00:00:00",
            "2011-01-01T00:00:00",
            "2012-01-01T00:00:00",
            "2013-01-01T00:00:00",
            "2014-01-01T00:00:00",
            "2015-01-01T00:00:00",
            "2016-01-01T00:00:00",
            "2017-01-01T00:00:00"
           ],
           "xaxis": "x",
           "y": [
            2058.0222,
            2091.6704,
            2124.9146,
            2192.8516,
            2195.1711,
            2279.8643,
            2335.3965,
            2344.6736,
            2483.061,
            2504.311,
            2638.9414,
            2677.4333,
            2735.5457,
            2765.892,
            2799.2485,
            2858.4,
            2795.97,
            2873.26,
            2899.25,
            3129.16,
            3279.51,
            3432.46,
            3540.47,
            3798.13,
            3879.24,
            4191.63,
            4394.13,
            4721.16,
            5025.8,
            5285.56,
            5519.22,
            5858.55,
            6234.46
           ],
           "yaxis": "y"
          }
         ],
         "name": "2017"
        },
        {
         "data": [
          {
           "fillpattern": {
            "shape": ""
           },
           "hovertemplate": "variable=Renewable<br>frame=2018<br>year=%{x}<br>value=%{y}<extra></extra>",
           "legendgroup": "Renewable",
           "line": {
            "color": "rgb(120,0,100)"
           },
           "marker": {
            "symbol": "circle"
           },
           "mode": "lines",
           "name": "Renewable",
           "orientation": "v",
           "showlegend": true,
           "stackgroup": "1",
           "type": "scatter",
           "x": [
            "1985-01-01T00:00:00",
            "1986-01-01T00:00:00",
            "1987-01-01T00:00:00",
            "1988-01-01T00:00:00",
            "1989-01-01T00:00:00",
            "1990-01-01T00:00:00",
            "1991-01-01T00:00:00",
            "1992-01-01T00:00:00",
            "1993-01-01T00:00:00",
            "1994-01-01T00:00:00",
            "1995-01-01T00:00:00",
            "1996-01-01T00:00:00",
            "1997-01-01T00:00:00",
            "1998-01-01T00:00:00",
            "1999-01-01T00:00:00",
            "2000-01-01T00:00:00",
            "2001-01-01T00:00:00",
            "2002-01-01T00:00:00",
            "2003-01-01T00:00:00",
            "2004-01-01T00:00:00",
            "2005-01-01T00:00:00",
            "2006-01-01T00:00:00",
            "2007-01-01T00:00:00",
            "2008-01-01T00:00:00",
            "2009-01-01T00:00:00",
            "2010-01-01T00:00:00",
            "2011-01-01T00:00:00",
            "2012-01-01T00:00:00",
            "2013-01-01T00:00:00",
            "2014-01-01T00:00:00",
            "2015-01-01T00:00:00",
            "2016-01-01T00:00:00",
            "2017-01-01T00:00:00",
            "2018-01-01T00:00:00"
           ],
           "xaxis": "x",
           "y": [
            2058.0222,
            2091.6704,
            2124.9146,
            2192.8516,
            2195.1711,
            2279.8643,
            2335.3965,
            2344.6736,
            2483.061,
            2504.311,
            2638.9414,
            2677.4333,
            2735.5457,
            2765.892,
            2799.2485,
            2858.4,
            2795.97,
            2873.26,
            2899.25,
            3129.16,
            3279.51,
            3432.46,
            3540.47,
            3798.13,
            3879.24,
            4191.63,
            4394.13,
            4721.16,
            5025.8,
            5285.56,
            5519.22,
            5858.55,
            6234.46,
            6647.13
           ],
           "yaxis": "y"
          }
         ],
         "name": "2018"
        },
        {
         "data": [
          {
           "fillpattern": {
            "shape": ""
           },
           "hovertemplate": "variable=Renewable<br>frame=2019<br>year=%{x}<br>value=%{y}<extra></extra>",
           "legendgroup": "Renewable",
           "line": {
            "color": "rgb(120,0,100)"
           },
           "marker": {
            "symbol": "circle"
           },
           "mode": "lines",
           "name": "Renewable",
           "orientation": "v",
           "showlegend": true,
           "stackgroup": "1",
           "type": "scatter",
           "x": [
            "1985-01-01T00:00:00",
            "1986-01-01T00:00:00",
            "1987-01-01T00:00:00",
            "1988-01-01T00:00:00",
            "1989-01-01T00:00:00",
            "1990-01-01T00:00:00",
            "1991-01-01T00:00:00",
            "1992-01-01T00:00:00",
            "1993-01-01T00:00:00",
            "1994-01-01T00:00:00",
            "1995-01-01T00:00:00",
            "1996-01-01T00:00:00",
            "1997-01-01T00:00:00",
            "1998-01-01T00:00:00",
            "1999-01-01T00:00:00",
            "2000-01-01T00:00:00",
            "2001-01-01T00:00:00",
            "2002-01-01T00:00:00",
            "2003-01-01T00:00:00",
            "2004-01-01T00:00:00",
            "2005-01-01T00:00:00",
            "2006-01-01T00:00:00",
            "2007-01-01T00:00:00",
            "2008-01-01T00:00:00",
            "2009-01-01T00:00:00",
            "2010-01-01T00:00:00",
            "2011-01-01T00:00:00",
            "2012-01-01T00:00:00",
            "2013-01-01T00:00:00",
            "2014-01-01T00:00:00",
            "2015-01-01T00:00:00",
            "2016-01-01T00:00:00",
            "2017-01-01T00:00:00",
            "2018-01-01T00:00:00",
            "2019-01-01T00:00:00"
           ],
           "xaxis": "x",
           "y": [
            2058.0222,
            2091.6704,
            2124.9146,
            2192.8516,
            2195.1711,
            2279.8643,
            2335.3965,
            2344.6736,
            2483.061,
            2504.311,
            2638.9414,
            2677.4333,
            2735.5457,
            2765.892,
            2799.2485,
            2858.4,
            2795.97,
            2873.26,
            2899.25,
            3129.16,
            3279.51,
            3432.46,
            3540.47,
            3798.13,
            3879.24,
            4191.63,
            4394.13,
            4721.16,
            5025.8,
            5285.56,
            5519.22,
            5858.55,
            6234.46,
            6647.13,
            7010.63
           ],
           "yaxis": "y"
          }
         ],
         "name": "2019"
        },
        {
         "data": [
          {
           "fillpattern": {
            "shape": ""
           },
           "hovertemplate": "variable=Renewable<br>frame=2020<br>year=%{x}<br>value=%{y}<extra></extra>",
           "legendgroup": "Renewable",
           "line": {
            "color": "rgb(120,0,100)"
           },
           "marker": {
            "symbol": "circle"
           },
           "mode": "lines",
           "name": "Renewable",
           "orientation": "v",
           "showlegend": true,
           "stackgroup": "1",
           "type": "scatter",
           "x": [
            "1985-01-01T00:00:00",
            "1986-01-01T00:00:00",
            "1987-01-01T00:00:00",
            "1988-01-01T00:00:00",
            "1989-01-01T00:00:00",
            "1990-01-01T00:00:00",
            "1991-01-01T00:00:00",
            "1992-01-01T00:00:00",
            "1993-01-01T00:00:00",
            "1994-01-01T00:00:00",
            "1995-01-01T00:00:00",
            "1996-01-01T00:00:00",
            "1997-01-01T00:00:00",
            "1998-01-01T00:00:00",
            "1999-01-01T00:00:00",
            "2000-01-01T00:00:00",
            "2001-01-01T00:00:00",
            "2002-01-01T00:00:00",
            "2003-01-01T00:00:00",
            "2004-01-01T00:00:00",
            "2005-01-01T00:00:00",
            "2006-01-01T00:00:00",
            "2007-01-01T00:00:00",
            "2008-01-01T00:00:00",
            "2009-01-01T00:00:00",
            "2010-01-01T00:00:00",
            "2011-01-01T00:00:00",
            "2012-01-01T00:00:00",
            "2013-01-01T00:00:00",
            "2014-01-01T00:00:00",
            "2015-01-01T00:00:00",
            "2016-01-01T00:00:00",
            "2017-01-01T00:00:00",
            "2018-01-01T00:00:00",
            "2019-01-01T00:00:00",
            "2020-01-01T00:00:00"
           ],
           "xaxis": "x",
           "y": [
            2058.0222,
            2091.6704,
            2124.9146,
            2192.8516,
            2195.1711,
            2279.8643,
            2335.3965,
            2344.6736,
            2483.061,
            2504.311,
            2638.9414,
            2677.4333,
            2735.5457,
            2765.892,
            2799.2485,
            2858.4,
            2795.97,
            2873.26,
            2899.25,
            3129.16,
            3279.51,
            3432.46,
            3540.47,
            3798.13,
            3879.24,
            4191.63,
            4394.13,
            4721.16,
            5025.8,
            5285.56,
            5519.22,
            5858.55,
            6234.46,
            6647.13,
            7010.63,
            7483.8
           ],
           "yaxis": "y"
          }
         ],
         "name": "2020"
        },
        {
         "data": [
          {
           "fillpattern": {
            "shape": ""
           },
           "hovertemplate": "variable=Renewable<br>frame=2021<br>year=%{x}<br>value=%{y}<extra></extra>",
           "legendgroup": "Renewable",
           "line": {
            "color": "rgb(120,0,100)"
           },
           "marker": {
            "symbol": "circle"
           },
           "mode": "lines",
           "name": "Renewable",
           "orientation": "v",
           "showlegend": true,
           "stackgroup": "1",
           "type": "scatter",
           "x": [
            "1985-01-01T00:00:00",
            "1986-01-01T00:00:00",
            "1987-01-01T00:00:00",
            "1988-01-01T00:00:00",
            "1989-01-01T00:00:00",
            "1990-01-01T00:00:00",
            "1991-01-01T00:00:00",
            "1992-01-01T00:00:00",
            "1993-01-01T00:00:00",
            "1994-01-01T00:00:00",
            "1995-01-01T00:00:00",
            "1996-01-01T00:00:00",
            "1997-01-01T00:00:00",
            "1998-01-01T00:00:00",
            "1999-01-01T00:00:00",
            "2000-01-01T00:00:00",
            "2001-01-01T00:00:00",
            "2002-01-01T00:00:00",
            "2003-01-01T00:00:00",
            "2004-01-01T00:00:00",
            "2005-01-01T00:00:00",
            "2006-01-01T00:00:00",
            "2007-01-01T00:00:00",
            "2008-01-01T00:00:00",
            "2009-01-01T00:00:00",
            "2010-01-01T00:00:00",
            "2011-01-01T00:00:00",
            "2012-01-01T00:00:00",
            "2013-01-01T00:00:00",
            "2014-01-01T00:00:00",
            "2015-01-01T00:00:00",
            "2016-01-01T00:00:00",
            "2017-01-01T00:00:00",
            "2018-01-01T00:00:00",
            "2019-01-01T00:00:00",
            "2020-01-01T00:00:00",
            "2021-01-01T00:00:00"
           ],
           "xaxis": "x",
           "y": [
            2058.0222,
            2091.6704,
            2124.9146,
            2192.8516,
            2195.1711,
            2279.8643,
            2335.3965,
            2344.6736,
            2483.061,
            2504.311,
            2638.9414,
            2677.4333,
            2735.5457,
            2765.892,
            2799.2485,
            2858.4,
            2795.97,
            2873.26,
            2899.25,
            3129.16,
            3279.51,
            3432.46,
            3540.47,
            3798.13,
            3879.24,
            4191.63,
            4394.13,
            4721.16,
            5025.8,
            5285.56,
            5519.22,
            5858.55,
            6234.46,
            6647.13,
            7010.63,
            7483.8,
            7927.13
           ],
           "yaxis": "y"
          }
         ],
         "name": "2021"
        },
        {
         "data": [
          {
           "fillpattern": {
            "shape": ""
           },
           "hovertemplate": "variable=Renewable<br>frame=2022<br>year=%{x}<br>value=%{y}<extra></extra>",
           "legendgroup": "Renewable",
           "line": {
            "color": "rgb(120,0,100)"
           },
           "marker": {
            "symbol": "circle"
           },
           "mode": "lines",
           "name": "Renewable",
           "orientation": "v",
           "showlegend": true,
           "stackgroup": "1",
           "type": "scatter",
           "x": [
            "1985-01-01T00:00:00",
            "1986-01-01T00:00:00",
            "1987-01-01T00:00:00",
            "1988-01-01T00:00:00",
            "1989-01-01T00:00:00",
            "1990-01-01T00:00:00",
            "1991-01-01T00:00:00",
            "1992-01-01T00:00:00",
            "1993-01-01T00:00:00",
            "1994-01-01T00:00:00",
            "1995-01-01T00:00:00",
            "1996-01-01T00:00:00",
            "1997-01-01T00:00:00",
            "1998-01-01T00:00:00",
            "1999-01-01T00:00:00",
            "2000-01-01T00:00:00",
            "2001-01-01T00:00:00",
            "2002-01-01T00:00:00",
            "2003-01-01T00:00:00",
            "2004-01-01T00:00:00",
            "2005-01-01T00:00:00",
            "2006-01-01T00:00:00",
            "2007-01-01T00:00:00",
            "2008-01-01T00:00:00",
            "2009-01-01T00:00:00",
            "2010-01-01T00:00:00",
            "2011-01-01T00:00:00",
            "2012-01-01T00:00:00",
            "2013-01-01T00:00:00",
            "2014-01-01T00:00:00",
            "2015-01-01T00:00:00",
            "2016-01-01T00:00:00",
            "2017-01-01T00:00:00",
            "2018-01-01T00:00:00",
            "2019-01-01T00:00:00",
            "2020-01-01T00:00:00",
            "2021-01-01T00:00:00",
            "2022-01-01T00:00:00"
           ],
           "xaxis": "x",
           "y": [
            2058.0222,
            2091.6704,
            2124.9146,
            2192.8516,
            2195.1711,
            2279.8643,
            2335.3965,
            2344.6736,
            2483.061,
            2504.311,
            2638.9414,
            2677.4333,
            2735.5457,
            2765.892,
            2799.2485,
            2858.4,
            2795.97,
            2873.26,
            2899.25,
            3129.16,
            3279.51,
            3432.46,
            3540.47,
            3798.13,
            3879.24,
            4191.63,
            4394.13,
            4721.16,
            5025.8,
            5285.56,
            5519.22,
            5858.55,
            6234.46,
            6647.13,
            7010.63,
            7483.8,
            7927.13,
            8484.63
           ],
           "yaxis": "y"
          }
         ],
         "name": "2022"
        }
       ],
       "layout": {
        "height": 500,
        "legend": {
         "title": {
          "text": "variable"
         },
         "tracegroupgap": 0
        },
        "sliders": [
         {
          "active": 0,
          "currentvalue": {
           "prefix": "frame="
          },
          "len": 0.9,
          "pad": {
           "b": 10,
           "t": 60
          },
          "steps": [
           {
            "args": [
             [
              "1994"
             ],
             {
              "frame": {
               "duration": 0,
               "redraw": false
              },
              "fromcurrent": true,
              "mode": "immediate",
              "transition": {
               "duration": 0,
               "easing": "linear"
              }
             }
            ],
            "label": "1994",
            "method": "animate"
           },
           {
            "args": [
             [
              "1995"
             ],
             {
              "frame": {
               "duration": 0,
               "redraw": false
              },
              "fromcurrent": true,
              "mode": "immediate",
              "transition": {
               "duration": 0,
               "easing": "linear"
              }
             }
            ],
            "label": "1995",
            "method": "animate"
           },
           {
            "args": [
             [
              "1996"
             ],
             {
              "frame": {
               "duration": 0,
               "redraw": false
              },
              "fromcurrent": true,
              "mode": "immediate",
              "transition": {
               "duration": 0,
               "easing": "linear"
              }
             }
            ],
            "label": "1996",
            "method": "animate"
           },
           {
            "args": [
             [
              "1997"
             ],
             {
              "frame": {
               "duration": 0,
               "redraw": false
              },
              "fromcurrent": true,
              "mode": "immediate",
              "transition": {
               "duration": 0,
               "easing": "linear"
              }
             }
            ],
            "label": "1997",
            "method": "animate"
           },
           {
            "args": [
             [
              "1998"
             ],
             {
              "frame": {
               "duration": 0,
               "redraw": false
              },
              "fromcurrent": true,
              "mode": "immediate",
              "transition": {
               "duration": 0,
               "easing": "linear"
              }
             }
            ],
            "label": "1998",
            "method": "animate"
           },
           {
            "args": [
             [
              "1999"
             ],
             {
              "frame": {
               "duration": 0,
               "redraw": false
              },
              "fromcurrent": true,
              "mode": "immediate",
              "transition": {
               "duration": 0,
               "easing": "linear"
              }
             }
            ],
            "label": "1999",
            "method": "animate"
           },
           {
            "args": [
             [
              "2000"
             ],
             {
              "frame": {
               "duration": 0,
               "redraw": false
              },
              "fromcurrent": true,
              "mode": "immediate",
              "transition": {
               "duration": 0,
               "easing": "linear"
              }
             }
            ],
            "label": "2000",
            "method": "animate"
           },
           {
            "args": [
             [
              "2001"
             ],
             {
              "frame": {
               "duration": 0,
               "redraw": false
              },
              "fromcurrent": true,
              "mode": "immediate",
              "transition": {
               "duration": 0,
               "easing": "linear"
              }
             }
            ],
            "label": "2001",
            "method": "animate"
           },
           {
            "args": [
             [
              "2002"
             ],
             {
              "frame": {
               "duration": 0,
               "redraw": false
              },
              "fromcurrent": true,
              "mode": "immediate",
              "transition": {
               "duration": 0,
               "easing": "linear"
              }
             }
            ],
            "label": "2002",
            "method": "animate"
           },
           {
            "args": [
             [
              "2003"
             ],
             {
              "frame": {
               "duration": 0,
               "redraw": false
              },
              "fromcurrent": true,
              "mode": "immediate",
              "transition": {
               "duration": 0,
               "easing": "linear"
              }
             }
            ],
            "label": "2003",
            "method": "animate"
           },
           {
            "args": [
             [
              "2004"
             ],
             {
              "frame": {
               "duration": 0,
               "redraw": false
              },
              "fromcurrent": true,
              "mode": "immediate",
              "transition": {
               "duration": 0,
               "easing": "linear"
              }
             }
            ],
            "label": "2004",
            "method": "animate"
           },
           {
            "args": [
             [
              "2005"
             ],
             {
              "frame": {
               "duration": 0,
               "redraw": false
              },
              "fromcurrent": true,
              "mode": "immediate",
              "transition": {
               "duration": 0,
               "easing": "linear"
              }
             }
            ],
            "label": "2005",
            "method": "animate"
           },
           {
            "args": [
             [
              "2006"
             ],
             {
              "frame": {
               "duration": 0,
               "redraw": false
              },
              "fromcurrent": true,
              "mode": "immediate",
              "transition": {
               "duration": 0,
               "easing": "linear"
              }
             }
            ],
            "label": "2006",
            "method": "animate"
           },
           {
            "args": [
             [
              "2007"
             ],
             {
              "frame": {
               "duration": 0,
               "redraw": false
              },
              "fromcurrent": true,
              "mode": "immediate",
              "transition": {
               "duration": 0,
               "easing": "linear"
              }
             }
            ],
            "label": "2007",
            "method": "animate"
           },
           {
            "args": [
             [
              "2008"
             ],
             {
              "frame": {
               "duration": 0,
               "redraw": false
              },
              "fromcurrent": true,
              "mode": "immediate",
              "transition": {
               "duration": 0,
               "easing": "linear"
              }
             }
            ],
            "label": "2008",
            "method": "animate"
           },
           {
            "args": [
             [
              "2009"
             ],
             {
              "frame": {
               "duration": 0,
               "redraw": false
              },
              "fromcurrent": true,
              "mode": "immediate",
              "transition": {
               "duration": 0,
               "easing": "linear"
              }
             }
            ],
            "label": "2009",
            "method": "animate"
           },
           {
            "args": [
             [
              "2010"
             ],
             {
              "frame": {
               "duration": 0,
               "redraw": false
              },
              "fromcurrent": true,
              "mode": "immediate",
              "transition": {
               "duration": 0,
               "easing": "linear"
              }
             }
            ],
            "label": "2010",
            "method": "animate"
           },
           {
            "args": [
             [
              "2011"
             ],
             {
              "frame": {
               "duration": 0,
               "redraw": false
              },
              "fromcurrent": true,
              "mode": "immediate",
              "transition": {
               "duration": 0,
               "easing": "linear"
              }
             }
            ],
            "label": "2011",
            "method": "animate"
           },
           {
            "args": [
             [
              "2012"
             ],
             {
              "frame": {
               "duration": 0,
               "redraw": false
              },
              "fromcurrent": true,
              "mode": "immediate",
              "transition": {
               "duration": 0,
               "easing": "linear"
              }
             }
            ],
            "label": "2012",
            "method": "animate"
           },
           {
            "args": [
             [
              "2013"
             ],
             {
              "frame": {
               "duration": 0,
               "redraw": false
              },
              "fromcurrent": true,
              "mode": "immediate",
              "transition": {
               "duration": 0,
               "easing": "linear"
              }
             }
            ],
            "label": "2013",
            "method": "animate"
           },
           {
            "args": [
             [
              "2014"
             ],
             {
              "frame": {
               "duration": 0,
               "redraw": false
              },
              "fromcurrent": true,
              "mode": "immediate",
              "transition": {
               "duration": 0,
               "easing": "linear"
              }
             }
            ],
            "label": "2014",
            "method": "animate"
           },
           {
            "args": [
             [
              "2015"
             ],
             {
              "frame": {
               "duration": 0,
               "redraw": false
              },
              "fromcurrent": true,
              "mode": "immediate",
              "transition": {
               "duration": 0,
               "easing": "linear"
              }
             }
            ],
            "label": "2015",
            "method": "animate"
           },
           {
            "args": [
             [
              "2016"
             ],
             {
              "frame": {
               "duration": 0,
               "redraw": false
              },
              "fromcurrent": true,
              "mode": "immediate",
              "transition": {
               "duration": 0,
               "easing": "linear"
              }
             }
            ],
            "label": "2016",
            "method": "animate"
           },
           {
            "args": [
             [
              "2017"
             ],
             {
              "frame": {
               "duration": 0,
               "redraw": false
              },
              "fromcurrent": true,
              "mode": "immediate",
              "transition": {
               "duration": 0,
               "easing": "linear"
              }
             }
            ],
            "label": "2017",
            "method": "animate"
           },
           {
            "args": [
             [
              "2018"
             ],
             {
              "frame": {
               "duration": 0,
               "redraw": false
              },
              "fromcurrent": true,
              "mode": "immediate",
              "transition": {
               "duration": 0,
               "easing": "linear"
              }
             }
            ],
            "label": "2018",
            "method": "animate"
           },
           {
            "args": [
             [
              "2019"
             ],
             {
              "frame": {
               "duration": 0,
               "redraw": false
              },
              "fromcurrent": true,
              "mode": "immediate",
              "transition": {
               "duration": 0,
               "easing": "linear"
              }
             }
            ],
            "label": "2019",
            "method": "animate"
           },
           {
            "args": [
             [
              "2020"
             ],
             {
              "frame": {
               "duration": 0,
               "redraw": false
              },
              "fromcurrent": true,
              "mode": "immediate",
              "transition": {
               "duration": 0,
               "easing": "linear"
              }
             }
            ],
            "label": "2020",
            "method": "animate"
           },
           {
            "args": [
             [
              "2021"
             ],
             {
              "frame": {
               "duration": 0,
               "redraw": false
              },
              "fromcurrent": true,
              "mode": "immediate",
              "transition": {
               "duration": 0,
               "easing": "linear"
              }
             }
            ],
            "label": "2021",
            "method": "animate"
           },
           {
            "args": [
             [
              "2022"
             ],
             {
              "frame": {
               "duration": 0,
               "redraw": false
              },
              "fromcurrent": true,
              "mode": "immediate",
              "transition": {
               "duration": 0,
               "easing": "linear"
              }
             }
            ],
            "label": "2022",
            "method": "animate"
           }
          ],
          "x": 0.1,
          "xanchor": "left",
          "y": 0,
          "yanchor": "top"
         }
        ],
        "template": {
         "data": {
          "bar": [
           {
            "error_x": {
             "color": "#2a3f5f"
            },
            "error_y": {
             "color": "#2a3f5f"
            },
            "marker": {
             "line": {
              "color": "#E5ECF6",
              "width": 0.5
             },
             "pattern": {
              "fillmode": "overlay",
              "size": 10,
              "solidity": 0.2
             }
            },
            "type": "bar"
           }
          ],
          "barpolar": [
           {
            "marker": {
             "line": {
              "color": "#E5ECF6",
              "width": 0.5
             },
             "pattern": {
              "fillmode": "overlay",
              "size": 10,
              "solidity": 0.2
             }
            },
            "type": "barpolar"
           }
          ],
          "carpet": [
           {
            "aaxis": {
             "endlinecolor": "#2a3f5f",
             "gridcolor": "white",
             "linecolor": "white",
             "minorgridcolor": "white",
             "startlinecolor": "#2a3f5f"
            },
            "baxis": {
             "endlinecolor": "#2a3f5f",
             "gridcolor": "white",
             "linecolor": "white",
             "minorgridcolor": "white",
             "startlinecolor": "#2a3f5f"
            },
            "type": "carpet"
           }
          ],
          "choropleth": [
           {
            "colorbar": {
             "outlinewidth": 0,
             "ticks": ""
            },
            "type": "choropleth"
           }
          ],
          "contour": [
           {
            "colorbar": {
             "outlinewidth": 0,
             "ticks": ""
            },
            "colorscale": [
             [
              0,
              "#0d0887"
             ],
             [
              0.1111111111111111,
              "#46039f"
             ],
             [
              0.2222222222222222,
              "#7201a8"
             ],
             [
              0.3333333333333333,
              "#9c179e"
             ],
             [
              0.4444444444444444,
              "#bd3786"
             ],
             [
              0.5555555555555556,
              "#d8576b"
             ],
             [
              0.6666666666666666,
              "#ed7953"
             ],
             [
              0.7777777777777778,
              "#fb9f3a"
             ],
             [
              0.8888888888888888,
              "#fdca26"
             ],
             [
              1,
              "#f0f921"
             ]
            ],
            "type": "contour"
           }
          ],
          "contourcarpet": [
           {
            "colorbar": {
             "outlinewidth": 0,
             "ticks": ""
            },
            "type": "contourcarpet"
           }
          ],
          "heatmap": [
           {
            "colorbar": {
             "outlinewidth": 0,
             "ticks": ""
            },
            "colorscale": [
             [
              0,
              "#0d0887"
             ],
             [
              0.1111111111111111,
              "#46039f"
             ],
             [
              0.2222222222222222,
              "#7201a8"
             ],
             [
              0.3333333333333333,
              "#9c179e"
             ],
             [
              0.4444444444444444,
              "#bd3786"
             ],
             [
              0.5555555555555556,
              "#d8576b"
             ],
             [
              0.6666666666666666,
              "#ed7953"
             ],
             [
              0.7777777777777778,
              "#fb9f3a"
             ],
             [
              0.8888888888888888,
              "#fdca26"
             ],
             [
              1,
              "#f0f921"
             ]
            ],
            "type": "heatmap"
           }
          ],
          "heatmapgl": [
           {
            "colorbar": {
             "outlinewidth": 0,
             "ticks": ""
            },
            "colorscale": [
             [
              0,
              "#0d0887"
             ],
             [
              0.1111111111111111,
              "#46039f"
             ],
             [
              0.2222222222222222,
              "#7201a8"
             ],
             [
              0.3333333333333333,
              "#9c179e"
             ],
             [
              0.4444444444444444,
              "#bd3786"
             ],
             [
              0.5555555555555556,
              "#d8576b"
             ],
             [
              0.6666666666666666,
              "#ed7953"
             ],
             [
              0.7777777777777778,
              "#fb9f3a"
             ],
             [
              0.8888888888888888,
              "#fdca26"
             ],
             [
              1,
              "#f0f921"
             ]
            ],
            "type": "heatmapgl"
           }
          ],
          "histogram": [
           {
            "marker": {
             "pattern": {
              "fillmode": "overlay",
              "size": 10,
              "solidity": 0.2
             }
            },
            "type": "histogram"
           }
          ],
          "histogram2d": [
           {
            "colorbar": {
             "outlinewidth": 0,
             "ticks": ""
            },
            "colorscale": [
             [
              0,
              "#0d0887"
             ],
             [
              0.1111111111111111,
              "#46039f"
             ],
             [
              0.2222222222222222,
              "#7201a8"
             ],
             [
              0.3333333333333333,
              "#9c179e"
             ],
             [
              0.4444444444444444,
              "#bd3786"
             ],
             [
              0.5555555555555556,
              "#d8576b"
             ],
             [
              0.6666666666666666,
              "#ed7953"
             ],
             [
              0.7777777777777778,
              "#fb9f3a"
             ],
             [
              0.8888888888888888,
              "#fdca26"
             ],
             [
              1,
              "#f0f921"
             ]
            ],
            "type": "histogram2d"
           }
          ],
          "histogram2dcontour": [
           {
            "colorbar": {
             "outlinewidth": 0,
             "ticks": ""
            },
            "colorscale": [
             [
              0,
              "#0d0887"
             ],
             [
              0.1111111111111111,
              "#46039f"
             ],
             [
              0.2222222222222222,
              "#7201a8"
             ],
             [
              0.3333333333333333,
              "#9c179e"
             ],
             [
              0.4444444444444444,
              "#bd3786"
             ],
             [
              0.5555555555555556,
              "#d8576b"
             ],
             [
              0.6666666666666666,
              "#ed7953"
             ],
             [
              0.7777777777777778,
              "#fb9f3a"
             ],
             [
              0.8888888888888888,
              "#fdca26"
             ],
             [
              1,
              "#f0f921"
             ]
            ],
            "type": "histogram2dcontour"
           }
          ],
          "mesh3d": [
           {
            "colorbar": {
             "outlinewidth": 0,
             "ticks": ""
            },
            "type": "mesh3d"
           }
          ],
          "parcoords": [
           {
            "line": {
             "colorbar": {
              "outlinewidth": 0,
              "ticks": ""
             }
            },
            "type": "parcoords"
           }
          ],
          "pie": [
           {
            "automargin": true,
            "type": "pie"
           }
          ],
          "scatter": [
           {
            "fillpattern": {
             "fillmode": "overlay",
             "size": 10,
             "solidity": 0.2
            },
            "type": "scatter"
           }
          ],
          "scatter3d": [
           {
            "line": {
             "colorbar": {
              "outlinewidth": 0,
              "ticks": ""
             }
            },
            "marker": {
             "colorbar": {
              "outlinewidth": 0,
              "ticks": ""
             }
            },
            "type": "scatter3d"
           }
          ],
          "scattercarpet": [
           {
            "marker": {
             "colorbar": {
              "outlinewidth": 0,
              "ticks": ""
             }
            },
            "type": "scattercarpet"
           }
          ],
          "scattergeo": [
           {
            "marker": {
             "colorbar": {
              "outlinewidth": 0,
              "ticks": ""
             }
            },
            "type": "scattergeo"
           }
          ],
          "scattergl": [
           {
            "marker": {
             "colorbar": {
              "outlinewidth": 0,
              "ticks": ""
             }
            },
            "type": "scattergl"
           }
          ],
          "scattermapbox": [
           {
            "marker": {
             "colorbar": {
              "outlinewidth": 0,
              "ticks": ""
             }
            },
            "type": "scattermapbox"
           }
          ],
          "scatterpolar": [
           {
            "marker": {
             "colorbar": {
              "outlinewidth": 0,
              "ticks": ""
             }
            },
            "type": "scatterpolar"
           }
          ],
          "scatterpolargl": [
           {
            "marker": {
             "colorbar": {
              "outlinewidth": 0,
              "ticks": ""
             }
            },
            "type": "scatterpolargl"
           }
          ],
          "scatterternary": [
           {
            "marker": {
             "colorbar": {
              "outlinewidth": 0,
              "ticks": ""
             }
            },
            "type": "scatterternary"
           }
          ],
          "surface": [
           {
            "colorbar": {
             "outlinewidth": 0,
             "ticks": ""
            },
            "colorscale": [
             [
              0,
              "#0d0887"
             ],
             [
              0.1111111111111111,
              "#46039f"
             ],
             [
              0.2222222222222222,
              "#7201a8"
             ],
             [
              0.3333333333333333,
              "#9c179e"
             ],
             [
              0.4444444444444444,
              "#bd3786"
             ],
             [
              0.5555555555555556,
              "#d8576b"
             ],
             [
              0.6666666666666666,
              "#ed7953"
             ],
             [
              0.7777777777777778,
              "#fb9f3a"
             ],
             [
              0.8888888888888888,
              "#fdca26"
             ],
             [
              1,
              "#f0f921"
             ]
            ],
            "type": "surface"
           }
          ],
          "table": [
           {
            "cells": {
             "fill": {
              "color": "#EBF0F8"
             },
             "line": {
              "color": "white"
             }
            },
            "header": {
             "fill": {
              "color": "#C8D4E3"
             },
             "line": {
              "color": "white"
             }
            },
            "type": "table"
           }
          ]
         },
         "layout": {
          "annotationdefaults": {
           "arrowcolor": "#2a3f5f",
           "arrowhead": 0,
           "arrowwidth": 1
          },
          "autotypenumbers": "strict",
          "coloraxis": {
           "colorbar": {
            "outlinewidth": 0,
            "ticks": ""
           }
          },
          "colorscale": {
           "diverging": [
            [
             0,
             "#8e0152"
            ],
            [
             0.1,
             "#c51b7d"
            ],
            [
             0.2,
             "#de77ae"
            ],
            [
             0.3,
             "#f1b6da"
            ],
            [
             0.4,
             "#fde0ef"
            ],
            [
             0.5,
             "#f7f7f7"
            ],
            [
             0.6,
             "#e6f5d0"
            ],
            [
             0.7,
             "#b8e186"
            ],
            [
             0.8,
             "#7fbc41"
            ],
            [
             0.9,
             "#4d9221"
            ],
            [
             1,
             "#276419"
            ]
           ],
           "sequential": [
            [
             0,
             "#0d0887"
            ],
            [
             0.1111111111111111,
             "#46039f"
            ],
            [
             0.2222222222222222,
             "#7201a8"
            ],
            [
             0.3333333333333333,
             "#9c179e"
            ],
            [
             0.4444444444444444,
             "#bd3786"
            ],
            [
             0.5555555555555556,
             "#d8576b"
            ],
            [
             0.6666666666666666,
             "#ed7953"
            ],
            [
             0.7777777777777778,
             "#fb9f3a"
            ],
            [
             0.8888888888888888,
             "#fdca26"
            ],
            [
             1,
             "#f0f921"
            ]
           ],
           "sequentialminus": [
            [
             0,
             "#0d0887"
            ],
            [
             0.1111111111111111,
             "#46039f"
            ],
            [
             0.2222222222222222,
             "#7201a8"
            ],
            [
             0.3333333333333333,
             "#9c179e"
            ],
            [
             0.4444444444444444,
             "#bd3786"
            ],
            [
             0.5555555555555556,
             "#d8576b"
            ],
            [
             0.6666666666666666,
             "#ed7953"
            ],
            [
             0.7777777777777778,
             "#fb9f3a"
            ],
            [
             0.8888888888888888,
             "#fdca26"
            ],
            [
             1,
             "#f0f921"
            ]
           ]
          },
          "colorway": [
           "#636efa",
           "#EF553B",
           "#00cc96",
           "#ab63fa",
           "#FFA15A",
           "#19d3f3",
           "#FF6692",
           "#B6E880",
           "#FF97FF",
           "#FECB52"
          ],
          "font": {
           "color": "#2a3f5f"
          },
          "geo": {
           "bgcolor": "white",
           "lakecolor": "white",
           "landcolor": "#E5ECF6",
           "showlakes": true,
           "showland": true,
           "subunitcolor": "white"
          },
          "hoverlabel": {
           "align": "left"
          },
          "hovermode": "closest",
          "mapbox": {
           "style": "light"
          },
          "paper_bgcolor": "white",
          "plot_bgcolor": "#E5ECF6",
          "polar": {
           "angularaxis": {
            "gridcolor": "white",
            "linecolor": "white",
            "ticks": ""
           },
           "bgcolor": "#E5ECF6",
           "radialaxis": {
            "gridcolor": "white",
            "linecolor": "white",
            "ticks": ""
           }
          },
          "scene": {
           "xaxis": {
            "backgroundcolor": "#E5ECF6",
            "gridcolor": "white",
            "gridwidth": 2,
            "linecolor": "white",
            "showbackground": true,
            "ticks": "",
            "zerolinecolor": "white"
           },
           "yaxis": {
            "backgroundcolor": "#E5ECF6",
            "gridcolor": "white",
            "gridwidth": 2,
            "linecolor": "white",
            "showbackground": true,
            "ticks": "",
            "zerolinecolor": "white"
           },
           "zaxis": {
            "backgroundcolor": "#E5ECF6",
            "gridcolor": "white",
            "gridwidth": 2,
            "linecolor": "white",
            "showbackground": true,
            "ticks": "",
            "zerolinecolor": "white"
           }
          },
          "shapedefaults": {
           "line": {
            "color": "#2a3f5f"
           }
          },
          "ternary": {
           "aaxis": {
            "gridcolor": "white",
            "linecolor": "white",
            "ticks": ""
           },
           "baxis": {
            "gridcolor": "white",
            "linecolor": "white",
            "ticks": ""
           },
           "bgcolor": "#E5ECF6",
           "caxis": {
            "gridcolor": "white",
            "linecolor": "white",
            "ticks": ""
           }
          },
          "title": {
           "x": 0.05
          },
          "xaxis": {
           "automargin": true,
           "gridcolor": "white",
           "linecolor": "white",
           "ticks": "",
           "title": {
            "standoff": 15
           },
           "zerolinecolor": "white",
           "zerolinewidth": 2
          },
          "yaxis": {
           "automargin": true,
           "gridcolor": "white",
           "linecolor": "white",
           "ticks": "",
           "title": {
            "standoff": 15
           },
           "zerolinecolor": "white",
           "zerolinewidth": 2
          }
         }
        },
        "title": {
         "text": "Electricity production from fossil fuels, nuclear and renewables, World"
        },
        "updatemenus": [
         {
          "buttons": [
           {
            "args": [
             null,
             {
              "frame": {
               "duration": 500,
               "redraw": true
              },
              "fromcurrent": true,
              "mode": "immediate",
              "transition": {
               "duration": 500,
               "easing": "linear"
              }
             }
            ],
            "label": "&#9654;",
            "method": "animate"
           },
           {
            "args": [
             [
              null
             ],
             {
              "frame": {
               "duration": 0,
               "redraw": false
              },
              "fromcurrent": true,
              "mode": "immediate",
              "transition": {
               "duration": 0,
               "easing": "linear"
              }
             }
            ],
            "label": "&#9724;",
            "method": "animate"
           }
          ],
          "direction": "left",
          "pad": {
           "r": 10,
           "t": 70
          },
          "showactive": false,
          "type": "buttons",
          "x": 0.1,
          "xanchor": "right",
          "y": 0,
          "yanchor": "top"
         }
        ],
        "width": 800,
        "xaxis": {
         "anchor": "y",
         "domain": [
          0,
          1
         ],
         "title": {
          "text": "year"
         }
        },
        "yaxis": {
         "anchor": "x",
         "domain": [
          0,
          1
         ],
         "title": {
          "text": "value"
         }
        }
       }
      }
     },
     "metadata": {},
     "output_type": "display_data"
    }
   ],
   "source": [
    "fig = px.area(df_animation, x=\"year\", y=[ 'Renewable'],\n",
    "              height = 500, width = 800,\n",
    "              animation_frame=\"frame\",\n",
    "            #   animation_group=\"Year\",\n",
    "              color_discrete_sequence=['rgb(120,0,100)', 'rgb(30,0,100)','rgb(0,0,0)'],\n",
    "              title = 'Electricity production from fossil fuels, nuclear and renewables, World')\n",
    "\n",
    "fig.layout.updatemenus[0].buttons[0]['args'][1]['frame']['redraw'] = True\n",
    "fig.show()"
   ]
  },
  {
   "cell_type": "code",
   "execution_count": 28,
   "metadata": {},
   "outputs": [
    {
     "data": {
      "application/vnd.plotly.v1+json": {
       "config": {
        "plotlyServerURL": "https://plot.ly"
       },
       "data": [
        {
         "fillpattern": {
          "shape": ""
         },
         "hovertemplate": "variable=Renewable<br>frame=1994<br>year=%{x}<br>value=%{y}<extra></extra>",
         "legendgroup": "Renewable",
         "line": {
          "color": "rgb(120,0,100)"
         },
         "marker": {
          "symbol": "circle"
         },
         "mode": "lines",
         "name": "Renewable",
         "orientation": "v",
         "showlegend": true,
         "stackgroup": "1",
         "type": "scatter",
         "x": [
          "1985-01-01T00:00:00",
          "1986-01-01T00:00:00",
          "1987-01-01T00:00:00",
          "1988-01-01T00:00:00",
          "1989-01-01T00:00:00",
          "1990-01-01T00:00:00",
          "1991-01-01T00:00:00",
          "1992-01-01T00:00:00",
          "1993-01-01T00:00:00",
          "1994-01-01T00:00:00"
         ],
         "xaxis": "x",
         "y": [
          2058.0222,
          2091.6704,
          2124.9146,
          2192.8516,
          2195.1711,
          2279.8643,
          2335.3965,
          2344.6736,
          2483.061,
          2504.311
         ],
         "yaxis": "y"
        },
        {
         "fillpattern": {
          "shape": ""
         },
         "hovertemplate": "variable=Nuclear<br>frame=1994<br>year=%{x}<br>value=%{y}<extra></extra>",
         "legendgroup": "Nuclear",
         "line": {
          "color": "rgb(30,0,100)"
         },
         "marker": {
          "symbol": "circle"
         },
         "mode": "lines",
         "name": "Nuclear",
         "orientation": "v",
         "showlegend": true,
         "stackgroup": "1",
         "type": "scatter",
         "x": [
          "1985-01-01T00:00:00",
          "1986-01-01T00:00:00",
          "1987-01-01T00:00:00",
          "1988-01-01T00:00:00",
          "1989-01-01T00:00:00",
          "1990-01-01T00:00:00",
          "1991-01-01T00:00:00",
          "1992-01-01T00:00:00",
          "1993-01-01T00:00:00",
          "1994-01-01T00:00:00"
         ],
         "xaxis": "x",
         "y": [
          1488.9216,
          1594.7357,
          1734.7332,
          1891.2493,
          1945.0106,
          2000.596,
          2096.3098,
          2112.223,
          2184.9646,
          2225.9788
         ],
         "yaxis": "y"
        },
        {
         "fillpattern": {
          "shape": ""
         },
         "hovertemplate": "variable=Fossil<br>frame=1994<br>year=%{x}<br>value=%{y}<extra></extra>",
         "legendgroup": "Fossil",
         "line": {
          "color": "rgb(0,0,0)"
         },
         "marker": {
          "symbol": "circle"
         },
         "mode": "lines",
         "name": "Fossil",
         "orientation": "v",
         "showlegend": true,
         "stackgroup": "1",
         "type": "scatter",
         "x": [
          "1985-01-01T00:00:00",
          "1986-01-01T00:00:00",
          "1987-01-01T00:00:00",
          "1988-01-01T00:00:00",
          "1989-01-01T00:00:00",
          "1990-01-01T00:00:00",
          "1991-01-01T00:00:00",
          "1992-01-01T00:00:00",
          "1993-01-01T00:00:00",
          "1994-01-01T00:00:00"
         ],
         "xaxis": "x",
         "y": [
          6285.4736,
          6439.9746,
          6757.7617,
          6998.179,
          7455.736,
          7614.993,
          7722.592,
          7807.883,
          7858.686,
          8119.1626
         ],
         "yaxis": "y"
        }
       ],
       "frames": [
        {
         "data": [
          {
           "fillpattern": {
            "shape": ""
           },
           "hovertemplate": "variable=Renewable<br>frame=1994<br>year=%{x}<br>value=%{y}<extra></extra>",
           "legendgroup": "Renewable",
           "line": {
            "color": "rgb(120,0,100)"
           },
           "marker": {
            "symbol": "circle"
           },
           "mode": "lines",
           "name": "Renewable",
           "orientation": "v",
           "showlegend": true,
           "stackgroup": "1",
           "type": "scatter",
           "x": [
            "1985-01-01T00:00:00",
            "1986-01-01T00:00:00",
            "1987-01-01T00:00:00",
            "1988-01-01T00:00:00",
            "1989-01-01T00:00:00",
            "1990-01-01T00:00:00",
            "1991-01-01T00:00:00",
            "1992-01-01T00:00:00",
            "1993-01-01T00:00:00",
            "1994-01-01T00:00:00"
           ],
           "xaxis": "x",
           "y": [
            2058.0222,
            2091.6704,
            2124.9146,
            2192.8516,
            2195.1711,
            2279.8643,
            2335.3965,
            2344.6736,
            2483.061,
            2504.311
           ],
           "yaxis": "y"
          },
          {
           "fillpattern": {
            "shape": ""
           },
           "hovertemplate": "variable=Nuclear<br>frame=1994<br>year=%{x}<br>value=%{y}<extra></extra>",
           "legendgroup": "Nuclear",
           "line": {
            "color": "rgb(30,0,100)"
           },
           "marker": {
            "symbol": "circle"
           },
           "mode": "lines",
           "name": "Nuclear",
           "orientation": "v",
           "showlegend": true,
           "stackgroup": "1",
           "type": "scatter",
           "x": [
            "1985-01-01T00:00:00",
            "1986-01-01T00:00:00",
            "1987-01-01T00:00:00",
            "1988-01-01T00:00:00",
            "1989-01-01T00:00:00",
            "1990-01-01T00:00:00",
            "1991-01-01T00:00:00",
            "1992-01-01T00:00:00",
            "1993-01-01T00:00:00",
            "1994-01-01T00:00:00"
           ],
           "xaxis": "x",
           "y": [
            1488.9216,
            1594.7357,
            1734.7332,
            1891.2493,
            1945.0106,
            2000.596,
            2096.3098,
            2112.223,
            2184.9646,
            2225.9788
           ],
           "yaxis": "y"
          },
          {
           "fillpattern": {
            "shape": ""
           },
           "hovertemplate": "variable=Fossil<br>frame=1994<br>year=%{x}<br>value=%{y}<extra></extra>",
           "legendgroup": "Fossil",
           "line": {
            "color": "rgb(0,0,0)"
           },
           "marker": {
            "symbol": "circle"
           },
           "mode": "lines",
           "name": "Fossil",
           "orientation": "v",
           "showlegend": true,
           "stackgroup": "1",
           "type": "scatter",
           "x": [
            "1985-01-01T00:00:00",
            "1986-01-01T00:00:00",
            "1987-01-01T00:00:00",
            "1988-01-01T00:00:00",
            "1989-01-01T00:00:00",
            "1990-01-01T00:00:00",
            "1991-01-01T00:00:00",
            "1992-01-01T00:00:00",
            "1993-01-01T00:00:00",
            "1994-01-01T00:00:00"
           ],
           "xaxis": "x",
           "y": [
            6285.4736,
            6439.9746,
            6757.7617,
            6998.179,
            7455.736,
            7614.993,
            7722.592,
            7807.883,
            7858.686,
            8119.1626
           ],
           "yaxis": "y"
          }
         ],
         "name": "1994"
        },
        {
         "data": [
          {
           "fillpattern": {
            "shape": ""
           },
           "hovertemplate": "variable=Renewable<br>frame=1995<br>year=%{x}<br>value=%{y}<extra></extra>",
           "legendgroup": "Renewable",
           "line": {
            "color": "rgb(120,0,100)"
           },
           "marker": {
            "symbol": "circle"
           },
           "mode": "lines",
           "name": "Renewable",
           "orientation": "v",
           "showlegend": true,
           "stackgroup": "1",
           "type": "scatter",
           "x": [
            "1985-01-01T00:00:00",
            "1986-01-01T00:00:00",
            "1987-01-01T00:00:00",
            "1988-01-01T00:00:00",
            "1989-01-01T00:00:00",
            "1990-01-01T00:00:00",
            "1991-01-01T00:00:00",
            "1992-01-01T00:00:00",
            "1993-01-01T00:00:00",
            "1994-01-01T00:00:00",
            "1995-01-01T00:00:00"
           ],
           "xaxis": "x",
           "y": [
            2058.0222,
            2091.6704,
            2124.9146,
            2192.8516,
            2195.1711,
            2279.8643,
            2335.3965,
            2344.6736,
            2483.061,
            2504.311,
            2638.9414
           ],
           "yaxis": "y"
          },
          {
           "fillpattern": {
            "shape": ""
           },
           "hovertemplate": "variable=Nuclear<br>frame=1995<br>year=%{x}<br>value=%{y}<extra></extra>",
           "legendgroup": "Nuclear",
           "line": {
            "color": "rgb(30,0,100)"
           },
           "marker": {
            "symbol": "circle"
           },
           "mode": "lines",
           "name": "Nuclear",
           "orientation": "v",
           "showlegend": true,
           "stackgroup": "1",
           "type": "scatter",
           "x": [
            "1985-01-01T00:00:00",
            "1986-01-01T00:00:00",
            "1987-01-01T00:00:00",
            "1988-01-01T00:00:00",
            "1989-01-01T00:00:00",
            "1990-01-01T00:00:00",
            "1991-01-01T00:00:00",
            "1992-01-01T00:00:00",
            "1993-01-01T00:00:00",
            "1994-01-01T00:00:00",
            "1995-01-01T00:00:00"
           ],
           "xaxis": "x",
           "y": [
            1488.9216,
            1594.7357,
            1734.7332,
            1891.2493,
            1945.0106,
            2000.596,
            2096.3098,
            2112.223,
            2184.9646,
            2225.9788,
            2322.5298
           ],
           "yaxis": "y"
          },
          {
           "fillpattern": {
            "shape": ""
           },
           "hovertemplate": "variable=Fossil<br>frame=1995<br>year=%{x}<br>value=%{y}<extra></extra>",
           "legendgroup": "Fossil",
           "line": {
            "color": "rgb(0,0,0)"
           },
           "marker": {
            "symbol": "circle"
           },
           "mode": "lines",
           "name": "Fossil",
           "orientation": "v",
           "showlegend": true,
           "stackgroup": "1",
           "type": "scatter",
           "x": [
            "1985-01-01T00:00:00",
            "1986-01-01T00:00:00",
            "1987-01-01T00:00:00",
            "1988-01-01T00:00:00",
            "1989-01-01T00:00:00",
            "1990-01-01T00:00:00",
            "1991-01-01T00:00:00",
            "1992-01-01T00:00:00",
            "1993-01-01T00:00:00",
            "1994-01-01T00:00:00",
            "1995-01-01T00:00:00"
           ],
           "xaxis": "x",
           "y": [
            6285.4736,
            6439.9746,
            6757.7617,
            6998.179,
            7455.736,
            7614.993,
            7722.592,
            7807.883,
            7858.686,
            8119.1626,
            8335.322
           ],
           "yaxis": "y"
          }
         ],
         "name": "1995"
        },
        {
         "data": [
          {
           "fillpattern": {
            "shape": ""
           },
           "hovertemplate": "variable=Renewable<br>frame=1996<br>year=%{x}<br>value=%{y}<extra></extra>",
           "legendgroup": "Renewable",
           "line": {
            "color": "rgb(120,0,100)"
           },
           "marker": {
            "symbol": "circle"
           },
           "mode": "lines",
           "name": "Renewable",
           "orientation": "v",
           "showlegend": true,
           "stackgroup": "1",
           "type": "scatter",
           "x": [
            "1985-01-01T00:00:00",
            "1986-01-01T00:00:00",
            "1987-01-01T00:00:00",
            "1988-01-01T00:00:00",
            "1989-01-01T00:00:00",
            "1990-01-01T00:00:00",
            "1991-01-01T00:00:00",
            "1992-01-01T00:00:00",
            "1993-01-01T00:00:00",
            "1994-01-01T00:00:00",
            "1995-01-01T00:00:00",
            "1996-01-01T00:00:00"
           ],
           "xaxis": "x",
           "y": [
            2058.0222,
            2091.6704,
            2124.9146,
            2192.8516,
            2195.1711,
            2279.8643,
            2335.3965,
            2344.6736,
            2483.061,
            2504.311,
            2638.9414,
            2677.4333
           ],
           "yaxis": "y"
          },
          {
           "fillpattern": {
            "shape": ""
           },
           "hovertemplate": "variable=Nuclear<br>frame=1996<br>year=%{x}<br>value=%{y}<extra></extra>",
           "legendgroup": "Nuclear",
           "line": {
            "color": "rgb(30,0,100)"
           },
           "marker": {
            "symbol": "circle"
           },
           "mode": "lines",
           "name": "Nuclear",
           "orientation": "v",
           "showlegend": true,
           "stackgroup": "1",
           "type": "scatter",
           "x": [
            "1985-01-01T00:00:00",
            "1986-01-01T00:00:00",
            "1987-01-01T00:00:00",
            "1988-01-01T00:00:00",
            "1989-01-01T00:00:00",
            "1990-01-01T00:00:00",
            "1991-01-01T00:00:00",
            "1992-01-01T00:00:00",
            "1993-01-01T00:00:00",
            "1994-01-01T00:00:00",
            "1995-01-01T00:00:00",
            "1996-01-01T00:00:00"
           ],
           "xaxis": "x",
           "y": [
            1488.9216,
            1594.7357,
            1734.7332,
            1891.2493,
            1945.0106,
            2000.596,
            2096.3098,
            2112.223,
            2184.9646,
            2225.9788,
            2322.5298,
            2406.615
           ],
           "yaxis": "y"
          },
          {
           "fillpattern": {
            "shape": ""
           },
           "hovertemplate": "variable=Fossil<br>frame=1996<br>year=%{x}<br>value=%{y}<extra></extra>",
           "legendgroup": "Fossil",
           "line": {
            "color": "rgb(0,0,0)"
           },
           "marker": {
            "symbol": "circle"
           },
           "mode": "lines",
           "name": "Fossil",
           "orientation": "v",
           "showlegend": true,
           "stackgroup": "1",
           "type": "scatter",
           "x": [
            "1985-01-01T00:00:00",
            "1986-01-01T00:00:00",
            "1987-01-01T00:00:00",
            "1988-01-01T00:00:00",
            "1989-01-01T00:00:00",
            "1990-01-01T00:00:00",
            "1991-01-01T00:00:00",
            "1992-01-01T00:00:00",
            "1993-01-01T00:00:00",
            "1994-01-01T00:00:00",
            "1995-01-01T00:00:00",
            "1996-01-01T00:00:00"
           ],
           "xaxis": "x",
           "y": [
            6285.4736,
            6439.9746,
            6757.7617,
            6998.179,
            7455.736,
            7614.993,
            7722.592,
            7807.883,
            7858.686,
            8119.1626,
            8335.322,
            8627.022
           ],
           "yaxis": "y"
          }
         ],
         "name": "1996"
        },
        {
         "data": [
          {
           "fillpattern": {
            "shape": ""
           },
           "hovertemplate": "variable=Renewable<br>frame=1997<br>year=%{x}<br>value=%{y}<extra></extra>",
           "legendgroup": "Renewable",
           "line": {
            "color": "rgb(120,0,100)"
           },
           "marker": {
            "symbol": "circle"
           },
           "mode": "lines",
           "name": "Renewable",
           "orientation": "v",
           "showlegend": true,
           "stackgroup": "1",
           "type": "scatter",
           "x": [
            "1985-01-01T00:00:00",
            "1986-01-01T00:00:00",
            "1987-01-01T00:00:00",
            "1988-01-01T00:00:00",
            "1989-01-01T00:00:00",
            "1990-01-01T00:00:00",
            "1991-01-01T00:00:00",
            "1992-01-01T00:00:00",
            "1993-01-01T00:00:00",
            "1994-01-01T00:00:00",
            "1995-01-01T00:00:00",
            "1996-01-01T00:00:00",
            "1997-01-01T00:00:00"
           ],
           "xaxis": "x",
           "y": [
            2058.0222,
            2091.6704,
            2124.9146,
            2192.8516,
            2195.1711,
            2279.8643,
            2335.3965,
            2344.6736,
            2483.061,
            2504.311,
            2638.9414,
            2677.4333,
            2735.5457
           ],
           "yaxis": "y"
          },
          {
           "fillpattern": {
            "shape": ""
           },
           "hovertemplate": "variable=Nuclear<br>frame=1997<br>year=%{x}<br>value=%{y}<extra></extra>",
           "legendgroup": "Nuclear",
           "line": {
            "color": "rgb(30,0,100)"
           },
           "marker": {
            "symbol": "circle"
           },
           "mode": "lines",
           "name": "Nuclear",
           "orientation": "v",
           "showlegend": true,
           "stackgroup": "1",
           "type": "scatter",
           "x": [
            "1985-01-01T00:00:00",
            "1986-01-01T00:00:00",
            "1987-01-01T00:00:00",
            "1988-01-01T00:00:00",
            "1989-01-01T00:00:00",
            "1990-01-01T00:00:00",
            "1991-01-01T00:00:00",
            "1992-01-01T00:00:00",
            "1993-01-01T00:00:00",
            "1994-01-01T00:00:00",
            "1995-01-01T00:00:00",
            "1996-01-01T00:00:00",
            "1997-01-01T00:00:00"
           ],
           "xaxis": "x",
           "y": [
            1488.9216,
            1594.7357,
            1734.7332,
            1891.2493,
            1945.0106,
            2000.596,
            2096.3098,
            2112.223,
            2184.9646,
            2225.9788,
            2322.5298,
            2406.615,
            2390.0642
           ],
           "yaxis": "y"
          },
          {
           "fillpattern": {
            "shape": ""
           },
           "hovertemplate": "variable=Fossil<br>frame=1997<br>year=%{x}<br>value=%{y}<extra></extra>",
           "legendgroup": "Fossil",
           "line": {
            "color": "rgb(0,0,0)"
           },
           "marker": {
            "symbol": "circle"
           },
           "mode": "lines",
           "name": "Fossil",
           "orientation": "v",
           "showlegend": true,
           "stackgroup": "1",
           "type": "scatter",
           "x": [
            "1985-01-01T00:00:00",
            "1986-01-01T00:00:00",
            "1987-01-01T00:00:00",
            "1988-01-01T00:00:00",
            "1989-01-01T00:00:00",
            "1990-01-01T00:00:00",
            "1991-01-01T00:00:00",
            "1992-01-01T00:00:00",
            "1993-01-01T00:00:00",
            "1994-01-01T00:00:00",
            "1995-01-01T00:00:00",
            "1996-01-01T00:00:00",
            "1997-01-01T00:00:00"
           ],
           "xaxis": "x",
           "y": [
            6285.4736,
            6439.9746,
            6757.7617,
            6998.179,
            7455.736,
            7614.993,
            7722.592,
            7807.883,
            7858.686,
            8119.1626,
            8335.322,
            8627.022,
            8911.184
           ],
           "yaxis": "y"
          }
         ],
         "name": "1997"
        },
        {
         "data": [
          {
           "fillpattern": {
            "shape": ""
           },
           "hovertemplate": "variable=Renewable<br>frame=1998<br>year=%{x}<br>value=%{y}<extra></extra>",
           "legendgroup": "Renewable",
           "line": {
            "color": "rgb(120,0,100)"
           },
           "marker": {
            "symbol": "circle"
           },
           "mode": "lines",
           "name": "Renewable",
           "orientation": "v",
           "showlegend": true,
           "stackgroup": "1",
           "type": "scatter",
           "x": [
            "1985-01-01T00:00:00",
            "1986-01-01T00:00:00",
            "1987-01-01T00:00:00",
            "1988-01-01T00:00:00",
            "1989-01-01T00:00:00",
            "1990-01-01T00:00:00",
            "1991-01-01T00:00:00",
            "1992-01-01T00:00:00",
            "1993-01-01T00:00:00",
            "1994-01-01T00:00:00",
            "1995-01-01T00:00:00",
            "1996-01-01T00:00:00",
            "1997-01-01T00:00:00",
            "1998-01-01T00:00:00"
           ],
           "xaxis": "x",
           "y": [
            2058.0222,
            2091.6704,
            2124.9146,
            2192.8516,
            2195.1711,
            2279.8643,
            2335.3965,
            2344.6736,
            2483.061,
            2504.311,
            2638.9414,
            2677.4333,
            2735.5457,
            2765.892
           ],
           "yaxis": "y"
          },
          {
           "fillpattern": {
            "shape": ""
           },
           "hovertemplate": "variable=Nuclear<br>frame=1998<br>year=%{x}<br>value=%{y}<extra></extra>",
           "legendgroup": "Nuclear",
           "line": {
            "color": "rgb(30,0,100)"
           },
           "marker": {
            "symbol": "circle"
           },
           "mode": "lines",
           "name": "Nuclear",
           "orientation": "v",
           "showlegend": true,
           "stackgroup": "1",
           "type": "scatter",
           "x": [
            "1985-01-01T00:00:00",
            "1986-01-01T00:00:00",
            "1987-01-01T00:00:00",
            "1988-01-01T00:00:00",
            "1989-01-01T00:00:00",
            "1990-01-01T00:00:00",
            "1991-01-01T00:00:00",
            "1992-01-01T00:00:00",
            "1993-01-01T00:00:00",
            "1994-01-01T00:00:00",
            "1995-01-01T00:00:00",
            "1996-01-01T00:00:00",
            "1997-01-01T00:00:00",
            "1998-01-01T00:00:00"
           ],
           "xaxis": "x",
           "y": [
            1488.9216,
            1594.7357,
            1734.7332,
            1891.2493,
            1945.0106,
            2000.596,
            2096.3098,
            2112.223,
            2184.9646,
            2225.9788,
            2322.5298,
            2406.615,
            2390.0642,
            2431.1948
           ],
           "yaxis": "y"
          },
          {
           "fillpattern": {
            "shape": ""
           },
           "hovertemplate": "variable=Fossil<br>frame=1998<br>year=%{x}<br>value=%{y}<extra></extra>",
           "legendgroup": "Fossil",
           "line": {
            "color": "rgb(0,0,0)"
           },
           "marker": {
            "symbol": "circle"
           },
           "mode": "lines",
           "name": "Fossil",
           "orientation": "v",
           "showlegend": true,
           "stackgroup": "1",
           "type": "scatter",
           "x": [
            "1985-01-01T00:00:00",
            "1986-01-01T00:00:00",
            "1987-01-01T00:00:00",
            "1988-01-01T00:00:00",
            "1989-01-01T00:00:00",
            "1990-01-01T00:00:00",
            "1991-01-01T00:00:00",
            "1992-01-01T00:00:00",
            "1993-01-01T00:00:00",
            "1994-01-01T00:00:00",
            "1995-01-01T00:00:00",
            "1996-01-01T00:00:00",
            "1997-01-01T00:00:00",
            "1998-01-01T00:00:00"
           ],
           "xaxis": "x",
           "y": [
            6285.4736,
            6439.9746,
            6757.7617,
            6998.179,
            7455.736,
            7614.993,
            7722.592,
            7807.883,
            7858.686,
            8119.1626,
            8335.322,
            8627.022,
            8911.184,
            9214.535
           ],
           "yaxis": "y"
          }
         ],
         "name": "1998"
        },
        {
         "data": [
          {
           "fillpattern": {
            "shape": ""
           },
           "hovertemplate": "variable=Renewable<br>frame=1999<br>year=%{x}<br>value=%{y}<extra></extra>",
           "legendgroup": "Renewable",
           "line": {
            "color": "rgb(120,0,100)"
           },
           "marker": {
            "symbol": "circle"
           },
           "mode": "lines",
           "name": "Renewable",
           "orientation": "v",
           "showlegend": true,
           "stackgroup": "1",
           "type": "scatter",
           "x": [
            "1985-01-01T00:00:00",
            "1986-01-01T00:00:00",
            "1987-01-01T00:00:00",
            "1988-01-01T00:00:00",
            "1989-01-01T00:00:00",
            "1990-01-01T00:00:00",
            "1991-01-01T00:00:00",
            "1992-01-01T00:00:00",
            "1993-01-01T00:00:00",
            "1994-01-01T00:00:00",
            "1995-01-01T00:00:00",
            "1996-01-01T00:00:00",
            "1997-01-01T00:00:00",
            "1998-01-01T00:00:00",
            "1999-01-01T00:00:00"
           ],
           "xaxis": "x",
           "y": [
            2058.0222,
            2091.6704,
            2124.9146,
            2192.8516,
            2195.1711,
            2279.8643,
            2335.3965,
            2344.6736,
            2483.061,
            2504.311,
            2638.9414,
            2677.4333,
            2735.5457,
            2765.892,
            2799.2485
           ],
           "yaxis": "y"
          },
          {
           "fillpattern": {
            "shape": ""
           },
           "hovertemplate": "variable=Nuclear<br>frame=1999<br>year=%{x}<br>value=%{y}<extra></extra>",
           "legendgroup": "Nuclear",
           "line": {
            "color": "rgb(30,0,100)"
           },
           "marker": {
            "symbol": "circle"
           },
           "mode": "lines",
           "name": "Nuclear",
           "orientation": "v",
           "showlegend": true,
           "stackgroup": "1",
           "type": "scatter",
           "x": [
            "1985-01-01T00:00:00",
            "1986-01-01T00:00:00",
            "1987-01-01T00:00:00",
            "1988-01-01T00:00:00",
            "1989-01-01T00:00:00",
            "1990-01-01T00:00:00",
            "1991-01-01T00:00:00",
            "1992-01-01T00:00:00",
            "1993-01-01T00:00:00",
            "1994-01-01T00:00:00",
            "1995-01-01T00:00:00",
            "1996-01-01T00:00:00",
            "1997-01-01T00:00:00",
            "1998-01-01T00:00:00",
            "1999-01-01T00:00:00"
           ],
           "xaxis": "x",
           "y": [
            1488.9216,
            1594.7357,
            1734.7332,
            1891.2493,
            1945.0106,
            2000.596,
            2096.3098,
            2112.223,
            2184.9646,
            2225.9788,
            2322.5298,
            2406.615,
            2390.0642,
            2431.1948,
            2523.7056
           ],
           "yaxis": "y"
          },
          {
           "fillpattern": {
            "shape": ""
           },
           "hovertemplate": "variable=Fossil<br>frame=1999<br>year=%{x}<br>value=%{y}<extra></extra>",
           "legendgroup": "Fossil",
           "line": {
            "color": "rgb(0,0,0)"
           },
           "marker": {
            "symbol": "circle"
           },
           "mode": "lines",
           "name": "Fossil",
           "orientation": "v",
           "showlegend": true,
           "stackgroup": "1",
           "type": "scatter",
           "x": [
            "1985-01-01T00:00:00",
            "1986-01-01T00:00:00",
            "1987-01-01T00:00:00",
            "1988-01-01T00:00:00",
            "1989-01-01T00:00:00",
            "1990-01-01T00:00:00",
            "1991-01-01T00:00:00",
            "1992-01-01T00:00:00",
            "1993-01-01T00:00:00",
            "1994-01-01T00:00:00",
            "1995-01-01T00:00:00",
            "1996-01-01T00:00:00",
            "1997-01-01T00:00:00",
            "1998-01-01T00:00:00",
            "1999-01-01T00:00:00"
           ],
           "xaxis": "x",
           "y": [
            6285.4736,
            6439.9746,
            6757.7617,
            6998.179,
            7455.736,
            7614.993,
            7722.592,
            7807.883,
            7858.686,
            8119.1626,
            8335.322,
            8627.022,
            8911.184,
            9214.535,
            9498.733
           ],
           "yaxis": "y"
          }
         ],
         "name": "1999"
        },
        {
         "data": [
          {
           "fillpattern": {
            "shape": ""
           },
           "hovertemplate": "variable=Renewable<br>frame=2000<br>year=%{x}<br>value=%{y}<extra></extra>",
           "legendgroup": "Renewable",
           "line": {
            "color": "rgb(120,0,100)"
           },
           "marker": {
            "symbol": "circle"
           },
           "mode": "lines",
           "name": "Renewable",
           "orientation": "v",
           "showlegend": true,
           "stackgroup": "1",
           "type": "scatter",
           "x": [
            "1985-01-01T00:00:00",
            "1986-01-01T00:00:00",
            "1987-01-01T00:00:00",
            "1988-01-01T00:00:00",
            "1989-01-01T00:00:00",
            "1990-01-01T00:00:00",
            "1991-01-01T00:00:00",
            "1992-01-01T00:00:00",
            "1993-01-01T00:00:00",
            "1994-01-01T00:00:00",
            "1995-01-01T00:00:00",
            "1996-01-01T00:00:00",
            "1997-01-01T00:00:00",
            "1998-01-01T00:00:00",
            "1999-01-01T00:00:00",
            "2000-01-01T00:00:00"
           ],
           "xaxis": "x",
           "y": [
            2058.0222,
            2091.6704,
            2124.9146,
            2192.8516,
            2195.1711,
            2279.8643,
            2335.3965,
            2344.6736,
            2483.061,
            2504.311,
            2638.9414,
            2677.4333,
            2735.5457,
            2765.892,
            2799.2485,
            2858.4
           ],
           "yaxis": "y"
          },
          {
           "fillpattern": {
            "shape": ""
           },
           "hovertemplate": "variable=Nuclear<br>frame=2000<br>year=%{x}<br>value=%{y}<extra></extra>",
           "legendgroup": "Nuclear",
           "line": {
            "color": "rgb(30,0,100)"
           },
           "marker": {
            "symbol": "circle"
           },
           "mode": "lines",
           "name": "Nuclear",
           "orientation": "v",
           "showlegend": true,
           "stackgroup": "1",
           "type": "scatter",
           "x": [
            "1985-01-01T00:00:00",
            "1986-01-01T00:00:00",
            "1987-01-01T00:00:00",
            "1988-01-01T00:00:00",
            "1989-01-01T00:00:00",
            "1990-01-01T00:00:00",
            "1991-01-01T00:00:00",
            "1992-01-01T00:00:00",
            "1993-01-01T00:00:00",
            "1994-01-01T00:00:00",
            "1995-01-01T00:00:00",
            "1996-01-01T00:00:00",
            "1997-01-01T00:00:00",
            "1998-01-01T00:00:00",
            "1999-01-01T00:00:00",
            "2000-01-01T00:00:00"
           ],
           "xaxis": "x",
           "y": [
            1488.9216,
            1594.7357,
            1734.7332,
            1891.2493,
            1945.0106,
            2000.596,
            2096.3098,
            2112.223,
            2184.9646,
            2225.9788,
            2322.5298,
            2406.615,
            2390.0642,
            2431.1948,
            2523.7056,
            2540.46
           ],
           "yaxis": "y"
          },
          {
           "fillpattern": {
            "shape": ""
           },
           "hovertemplate": "variable=Fossil<br>frame=2000<br>year=%{x}<br>value=%{y}<extra></extra>",
           "legendgroup": "Fossil",
           "line": {
            "color": "rgb(0,0,0)"
           },
           "marker": {
            "symbol": "circle"
           },
           "mode": "lines",
           "name": "Fossil",
           "orientation": "v",
           "showlegend": true,
           "stackgroup": "1",
           "type": "scatter",
           "x": [
            "1985-01-01T00:00:00",
            "1986-01-01T00:00:00",
            "1987-01-01T00:00:00",
            "1988-01-01T00:00:00",
            "1989-01-01T00:00:00",
            "1990-01-01T00:00:00",
            "1991-01-01T00:00:00",
            "1992-01-01T00:00:00",
            "1993-01-01T00:00:00",
            "1994-01-01T00:00:00",
            "1995-01-01T00:00:00",
            "1996-01-01T00:00:00",
            "1997-01-01T00:00:00",
            "1998-01-01T00:00:00",
            "1999-01-01T00:00:00",
            "2000-01-01T00:00:00"
           ],
           "xaxis": "x",
           "y": [
            6285.4736,
            6439.9746,
            6757.7617,
            6998.179,
            7455.736,
            7614.993,
            7722.592,
            7807.883,
            7858.686,
            8119.1626,
            8335.322,
            8627.022,
            8911.184,
            9214.535,
            9498.733,
            9878.1
           ],
           "yaxis": "y"
          }
         ],
         "name": "2000"
        },
        {
         "data": [
          {
           "fillpattern": {
            "shape": ""
           },
           "hovertemplate": "variable=Renewable<br>frame=2001<br>year=%{x}<br>value=%{y}<extra></extra>",
           "legendgroup": "Renewable",
           "line": {
            "color": "rgb(120,0,100)"
           },
           "marker": {
            "symbol": "circle"
           },
           "mode": "lines",
           "name": "Renewable",
           "orientation": "v",
           "showlegend": true,
           "stackgroup": "1",
           "type": "scatter",
           "x": [
            "1985-01-01T00:00:00",
            "1986-01-01T00:00:00",
            "1987-01-01T00:00:00",
            "1988-01-01T00:00:00",
            "1989-01-01T00:00:00",
            "1990-01-01T00:00:00",
            "1991-01-01T00:00:00",
            "1992-01-01T00:00:00",
            "1993-01-01T00:00:00",
            "1994-01-01T00:00:00",
            "1995-01-01T00:00:00",
            "1996-01-01T00:00:00",
            "1997-01-01T00:00:00",
            "1998-01-01T00:00:00",
            "1999-01-01T00:00:00",
            "2000-01-01T00:00:00",
            "2001-01-01T00:00:00"
           ],
           "xaxis": "x",
           "y": [
            2058.0222,
            2091.6704,
            2124.9146,
            2192.8516,
            2195.1711,
            2279.8643,
            2335.3965,
            2344.6736,
            2483.061,
            2504.311,
            2638.9414,
            2677.4333,
            2735.5457,
            2765.892,
            2799.2485,
            2858.4,
            2795.97
           ],
           "yaxis": "y"
          },
          {
           "fillpattern": {
            "shape": ""
           },
           "hovertemplate": "variable=Nuclear<br>frame=2001<br>year=%{x}<br>value=%{y}<extra></extra>",
           "legendgroup": "Nuclear",
           "line": {
            "color": "rgb(30,0,100)"
           },
           "marker": {
            "symbol": "circle"
           },
           "mode": "lines",
           "name": "Nuclear",
           "orientation": "v",
           "showlegend": true,
           "stackgroup": "1",
           "type": "scatter",
           "x": [
            "1985-01-01T00:00:00",
            "1986-01-01T00:00:00",
            "1987-01-01T00:00:00",
            "1988-01-01T00:00:00",
            "1989-01-01T00:00:00",
            "1990-01-01T00:00:00",
            "1991-01-01T00:00:00",
            "1992-01-01T00:00:00",
            "1993-01-01T00:00:00",
            "1994-01-01T00:00:00",
            "1995-01-01T00:00:00",
            "1996-01-01T00:00:00",
            "1997-01-01T00:00:00",
            "1998-01-01T00:00:00",
            "1999-01-01T00:00:00",
            "2000-01-01T00:00:00",
            "2001-01-01T00:00:00"
           ],
           "xaxis": "x",
           "y": [
            1488.9216,
            1594.7357,
            1734.7332,
            1891.2493,
            1945.0106,
            2000.596,
            2096.3098,
            2112.223,
            2184.9646,
            2225.9788,
            2322.5298,
            2406.615,
            2390.0642,
            2431.1948,
            2523.7056,
            2540.46,
            2613.17
           ],
           "yaxis": "y"
          },
          {
           "fillpattern": {
            "shape": ""
           },
           "hovertemplate": "variable=Fossil<br>frame=2001<br>year=%{x}<br>value=%{y}<extra></extra>",
           "legendgroup": "Fossil",
           "line": {
            "color": "rgb(0,0,0)"
           },
           "marker": {
            "symbol": "circle"
           },
           "mode": "lines",
           "name": "Fossil",
           "orientation": "v",
           "showlegend": true,
           "stackgroup": "1",
           "type": "scatter",
           "x": [
            "1985-01-01T00:00:00",
            "1986-01-01T00:00:00",
            "1987-01-01T00:00:00",
            "1988-01-01T00:00:00",
            "1989-01-01T00:00:00",
            "1990-01-01T00:00:00",
            "1991-01-01T00:00:00",
            "1992-01-01T00:00:00",
            "1993-01-01T00:00:00",
            "1994-01-01T00:00:00",
            "1995-01-01T00:00:00",
            "1996-01-01T00:00:00",
            "1997-01-01T00:00:00",
            "1998-01-01T00:00:00",
            "1999-01-01T00:00:00",
            "2000-01-01T00:00:00",
            "2001-01-01T00:00:00"
           ],
           "xaxis": "x",
           "y": [
            6285.4736,
            6439.9746,
            6757.7617,
            6998.179,
            7455.736,
            7614.993,
            7722.592,
            7807.883,
            7858.686,
            8119.1626,
            8335.322,
            8627.022,
            8911.184,
            9214.535,
            9498.733,
            9878.1,
            10090.26
           ],
           "yaxis": "y"
          }
         ],
         "name": "2001"
        },
        {
         "data": [
          {
           "fillpattern": {
            "shape": ""
           },
           "hovertemplate": "variable=Renewable<br>frame=2002<br>year=%{x}<br>value=%{y}<extra></extra>",
           "legendgroup": "Renewable",
           "line": {
            "color": "rgb(120,0,100)"
           },
           "marker": {
            "symbol": "circle"
           },
           "mode": "lines",
           "name": "Renewable",
           "orientation": "v",
           "showlegend": true,
           "stackgroup": "1",
           "type": "scatter",
           "x": [
            "1985-01-01T00:00:00",
            "1986-01-01T00:00:00",
            "1987-01-01T00:00:00",
            "1988-01-01T00:00:00",
            "1989-01-01T00:00:00",
            "1990-01-01T00:00:00",
            "1991-01-01T00:00:00",
            "1992-01-01T00:00:00",
            "1993-01-01T00:00:00",
            "1994-01-01T00:00:00",
            "1995-01-01T00:00:00",
            "1996-01-01T00:00:00",
            "1997-01-01T00:00:00",
            "1998-01-01T00:00:00",
            "1999-01-01T00:00:00",
            "2000-01-01T00:00:00",
            "2001-01-01T00:00:00",
            "2002-01-01T00:00:00"
           ],
           "xaxis": "x",
           "y": [
            2058.0222,
            2091.6704,
            2124.9146,
            2192.8516,
            2195.1711,
            2279.8643,
            2335.3965,
            2344.6736,
            2483.061,
            2504.311,
            2638.9414,
            2677.4333,
            2735.5457,
            2765.892,
            2799.2485,
            2858.4,
            2795.97,
            2873.26
           ],
           "yaxis": "y"
          },
          {
           "fillpattern": {
            "shape": ""
           },
           "hovertemplate": "variable=Nuclear<br>frame=2002<br>year=%{x}<br>value=%{y}<extra></extra>",
           "legendgroup": "Nuclear",
           "line": {
            "color": "rgb(30,0,100)"
           },
           "marker": {
            "symbol": "circle"
           },
           "mode": "lines",
           "name": "Nuclear",
           "orientation": "v",
           "showlegend": true,
           "stackgroup": "1",
           "type": "scatter",
           "x": [
            "1985-01-01T00:00:00",
            "1986-01-01T00:00:00",
            "1987-01-01T00:00:00",
            "1988-01-01T00:00:00",
            "1989-01-01T00:00:00",
            "1990-01-01T00:00:00",
            "1991-01-01T00:00:00",
            "1992-01-01T00:00:00",
            "1993-01-01T00:00:00",
            "1994-01-01T00:00:00",
            "1995-01-01T00:00:00",
            "1996-01-01T00:00:00",
            "1997-01-01T00:00:00",
            "1998-01-01T00:00:00",
            "1999-01-01T00:00:00",
            "2000-01-01T00:00:00",
            "2001-01-01T00:00:00",
            "2002-01-01T00:00:00"
           ],
           "xaxis": "x",
           "y": [
            1488.9216,
            1594.7357,
            1734.7332,
            1891.2493,
            1945.0106,
            2000.596,
            2096.3098,
            2112.223,
            2184.9646,
            2225.9788,
            2322.5298,
            2406.615,
            2390.0642,
            2431.1948,
            2523.7056,
            2540.46,
            2613.17,
            2654.78
           ],
           "yaxis": "y"
          },
          {
           "fillpattern": {
            "shape": ""
           },
           "hovertemplate": "variable=Fossil<br>frame=2002<br>year=%{x}<br>value=%{y}<extra></extra>",
           "legendgroup": "Fossil",
           "line": {
            "color": "rgb(0,0,0)"
           },
           "marker": {
            "symbol": "circle"
           },
           "mode": "lines",
           "name": "Fossil",
           "orientation": "v",
           "showlegend": true,
           "stackgroup": "1",
           "type": "scatter",
           "x": [
            "1985-01-01T00:00:00",
            "1986-01-01T00:00:00",
            "1987-01-01T00:00:00",
            "1988-01-01T00:00:00",
            "1989-01-01T00:00:00",
            "1990-01-01T00:00:00",
            "1991-01-01T00:00:00",
            "1992-01-01T00:00:00",
            "1993-01-01T00:00:00",
            "1994-01-01T00:00:00",
            "1995-01-01T00:00:00",
            "1996-01-01T00:00:00",
            "1997-01-01T00:00:00",
            "1998-01-01T00:00:00",
            "1999-01-01T00:00:00",
            "2000-01-01T00:00:00",
            "2001-01-01T00:00:00",
            "2002-01-01T00:00:00"
           ],
           "xaxis": "x",
           "y": [
            6285.4736,
            6439.9746,
            6757.7617,
            6998.179,
            7455.736,
            7614.993,
            7722.592,
            7807.883,
            7858.686,
            8119.1626,
            8335.322,
            8627.022,
            8911.184,
            9214.535,
            9498.733,
            9878.1,
            10090.26,
            10520.97
           ],
           "yaxis": "y"
          }
         ],
         "name": "2002"
        },
        {
         "data": [
          {
           "fillpattern": {
            "shape": ""
           },
           "hovertemplate": "variable=Renewable<br>frame=2003<br>year=%{x}<br>value=%{y}<extra></extra>",
           "legendgroup": "Renewable",
           "line": {
            "color": "rgb(120,0,100)"
           },
           "marker": {
            "symbol": "circle"
           },
           "mode": "lines",
           "name": "Renewable",
           "orientation": "v",
           "showlegend": true,
           "stackgroup": "1",
           "type": "scatter",
           "x": [
            "1985-01-01T00:00:00",
            "1986-01-01T00:00:00",
            "1987-01-01T00:00:00",
            "1988-01-01T00:00:00",
            "1989-01-01T00:00:00",
            "1990-01-01T00:00:00",
            "1991-01-01T00:00:00",
            "1992-01-01T00:00:00",
            "1993-01-01T00:00:00",
            "1994-01-01T00:00:00",
            "1995-01-01T00:00:00",
            "1996-01-01T00:00:00",
            "1997-01-01T00:00:00",
            "1998-01-01T00:00:00",
            "1999-01-01T00:00:00",
            "2000-01-01T00:00:00",
            "2001-01-01T00:00:00",
            "2002-01-01T00:00:00",
            "2003-01-01T00:00:00"
           ],
           "xaxis": "x",
           "y": [
            2058.0222,
            2091.6704,
            2124.9146,
            2192.8516,
            2195.1711,
            2279.8643,
            2335.3965,
            2344.6736,
            2483.061,
            2504.311,
            2638.9414,
            2677.4333,
            2735.5457,
            2765.892,
            2799.2485,
            2858.4,
            2795.97,
            2873.26,
            2899.25
           ],
           "yaxis": "y"
          },
          {
           "fillpattern": {
            "shape": ""
           },
           "hovertemplate": "variable=Nuclear<br>frame=2003<br>year=%{x}<br>value=%{y}<extra></extra>",
           "legendgroup": "Nuclear",
           "line": {
            "color": "rgb(30,0,100)"
           },
           "marker": {
            "symbol": "circle"
           },
           "mode": "lines",
           "name": "Nuclear",
           "orientation": "v",
           "showlegend": true,
           "stackgroup": "1",
           "type": "scatter",
           "x": [
            "1985-01-01T00:00:00",
            "1986-01-01T00:00:00",
            "1987-01-01T00:00:00",
            "1988-01-01T00:00:00",
            "1989-01-01T00:00:00",
            "1990-01-01T00:00:00",
            "1991-01-01T00:00:00",
            "1992-01-01T00:00:00",
            "1993-01-01T00:00:00",
            "1994-01-01T00:00:00",
            "1995-01-01T00:00:00",
            "1996-01-01T00:00:00",
            "1997-01-01T00:00:00",
            "1998-01-01T00:00:00",
            "1999-01-01T00:00:00",
            "2000-01-01T00:00:00",
            "2001-01-01T00:00:00",
            "2002-01-01T00:00:00",
            "2003-01-01T00:00:00"
           ],
           "xaxis": "x",
           "y": [
            1488.9216,
            1594.7357,
            1734.7332,
            1891.2493,
            1945.0106,
            2000.596,
            2096.3098,
            2112.223,
            2184.9646,
            2225.9788,
            2322.5298,
            2406.615,
            2390.0642,
            2431.1948,
            2523.7056,
            2540.46,
            2613.17,
            2654.78,
            2601.05
           ],
           "yaxis": "y"
          },
          {
           "fillpattern": {
            "shape": ""
           },
           "hovertemplate": "variable=Fossil<br>frame=2003<br>year=%{x}<br>value=%{y}<extra></extra>",
           "legendgroup": "Fossil",
           "line": {
            "color": "rgb(0,0,0)"
           },
           "marker": {
            "symbol": "circle"
           },
           "mode": "lines",
           "name": "Fossil",
           "orientation": "v",
           "showlegend": true,
           "stackgroup": "1",
           "type": "scatter",
           "x": [
            "1985-01-01T00:00:00",
            "1986-01-01T00:00:00",
            "1987-01-01T00:00:00",
            "1988-01-01T00:00:00",
            "1989-01-01T00:00:00",
            "1990-01-01T00:00:00",
            "1991-01-01T00:00:00",
            "1992-01-01T00:00:00",
            "1993-01-01T00:00:00",
            "1994-01-01T00:00:00",
            "1995-01-01T00:00:00",
            "1996-01-01T00:00:00",
            "1997-01-01T00:00:00",
            "1998-01-01T00:00:00",
            "1999-01-01T00:00:00",
            "2000-01-01T00:00:00",
            "2001-01-01T00:00:00",
            "2002-01-01T00:00:00",
            "2003-01-01T00:00:00"
           ],
           "xaxis": "x",
           "y": [
            6285.4736,
            6439.9746,
            6757.7617,
            6998.179,
            7455.736,
            7614.993,
            7722.592,
            7807.883,
            7858.686,
            8119.1626,
            8335.322,
            8627.022,
            8911.184,
            9214.535,
            9498.733,
            9878.1,
            10090.26,
            10520.97,
            11126.3
           ],
           "yaxis": "y"
          }
         ],
         "name": "2003"
        },
        {
         "data": [
          {
           "fillpattern": {
            "shape": ""
           },
           "hovertemplate": "variable=Renewable<br>frame=2004<br>year=%{x}<br>value=%{y}<extra></extra>",
           "legendgroup": "Renewable",
           "line": {
            "color": "rgb(120,0,100)"
           },
           "marker": {
            "symbol": "circle"
           },
           "mode": "lines",
           "name": "Renewable",
           "orientation": "v",
           "showlegend": true,
           "stackgroup": "1",
           "type": "scatter",
           "x": [
            "1985-01-01T00:00:00",
            "1986-01-01T00:00:00",
            "1987-01-01T00:00:00",
            "1988-01-01T00:00:00",
            "1989-01-01T00:00:00",
            "1990-01-01T00:00:00",
            "1991-01-01T00:00:00",
            "1992-01-01T00:00:00",
            "1993-01-01T00:00:00",
            "1994-01-01T00:00:00",
            "1995-01-01T00:00:00",
            "1996-01-01T00:00:00",
            "1997-01-01T00:00:00",
            "1998-01-01T00:00:00",
            "1999-01-01T00:00:00",
            "2000-01-01T00:00:00",
            "2001-01-01T00:00:00",
            "2002-01-01T00:00:00",
            "2003-01-01T00:00:00",
            "2004-01-01T00:00:00"
           ],
           "xaxis": "x",
           "y": [
            2058.0222,
            2091.6704,
            2124.9146,
            2192.8516,
            2195.1711,
            2279.8643,
            2335.3965,
            2344.6736,
            2483.061,
            2504.311,
            2638.9414,
            2677.4333,
            2735.5457,
            2765.892,
            2799.2485,
            2858.4,
            2795.97,
            2873.26,
            2899.25,
            3129.16
           ],
           "yaxis": "y"
          },
          {
           "fillpattern": {
            "shape": ""
           },
           "hovertemplate": "variable=Nuclear<br>frame=2004<br>year=%{x}<br>value=%{y}<extra></extra>",
           "legendgroup": "Nuclear",
           "line": {
            "color": "rgb(30,0,100)"
           },
           "marker": {
            "symbol": "circle"
           },
           "mode": "lines",
           "name": "Nuclear",
           "orientation": "v",
           "showlegend": true,
           "stackgroup": "1",
           "type": "scatter",
           "x": [
            "1985-01-01T00:00:00",
            "1986-01-01T00:00:00",
            "1987-01-01T00:00:00",
            "1988-01-01T00:00:00",
            "1989-01-01T00:00:00",
            "1990-01-01T00:00:00",
            "1991-01-01T00:00:00",
            "1992-01-01T00:00:00",
            "1993-01-01T00:00:00",
            "1994-01-01T00:00:00",
            "1995-01-01T00:00:00",
            "1996-01-01T00:00:00",
            "1997-01-01T00:00:00",
            "1998-01-01T00:00:00",
            "1999-01-01T00:00:00",
            "2000-01-01T00:00:00",
            "2001-01-01T00:00:00",
            "2002-01-01T00:00:00",
            "2003-01-01T00:00:00",
            "2004-01-01T00:00:00"
           ],
           "xaxis": "x",
           "y": [
            1488.9216,
            1594.7357,
            1734.7332,
            1891.2493,
            1945.0106,
            2000.596,
            2096.3098,
            2112.223,
            2184.9646,
            2225.9788,
            2322.5298,
            2406.615,
            2390.0642,
            2431.1948,
            2523.7056,
            2540.46,
            2613.17,
            2654.78,
            2601.05,
            2719.41
           ],
           "yaxis": "y"
          },
          {
           "fillpattern": {
            "shape": ""
           },
           "hovertemplate": "variable=Fossil<br>frame=2004<br>year=%{x}<br>value=%{y}<extra></extra>",
           "legendgroup": "Fossil",
           "line": {
            "color": "rgb(0,0,0)"
           },
           "marker": {
            "symbol": "circle"
           },
           "mode": "lines",
           "name": "Fossil",
           "orientation": "v",
           "showlegend": true,
           "stackgroup": "1",
           "type": "scatter",
           "x": [
            "1985-01-01T00:00:00",
            "1986-01-01T00:00:00",
            "1987-01-01T00:00:00",
            "1988-01-01T00:00:00",
            "1989-01-01T00:00:00",
            "1990-01-01T00:00:00",
            "1991-01-01T00:00:00",
            "1992-01-01T00:00:00",
            "1993-01-01T00:00:00",
            "1994-01-01T00:00:00",
            "1995-01-01T00:00:00",
            "1996-01-01T00:00:00",
            "1997-01-01T00:00:00",
            "1998-01-01T00:00:00",
            "1999-01-01T00:00:00",
            "2000-01-01T00:00:00",
            "2001-01-01T00:00:00",
            "2002-01-01T00:00:00",
            "2003-01-01T00:00:00",
            "2004-01-01T00:00:00"
           ],
           "xaxis": "x",
           "y": [
            6285.4736,
            6439.9746,
            6757.7617,
            6998.179,
            7455.736,
            7614.993,
            7722.592,
            7807.883,
            7858.686,
            8119.1626,
            8335.322,
            8627.022,
            8911.184,
            9214.535,
            9498.733,
            9878.1,
            10090.26,
            10520.97,
            11126.3,
            11564.24
           ],
           "yaxis": "y"
          }
         ],
         "name": "2004"
        },
        {
         "data": [
          {
           "fillpattern": {
            "shape": ""
           },
           "hovertemplate": "variable=Renewable<br>frame=2005<br>year=%{x}<br>value=%{y}<extra></extra>",
           "legendgroup": "Renewable",
           "line": {
            "color": "rgb(120,0,100)"
           },
           "marker": {
            "symbol": "circle"
           },
           "mode": "lines",
           "name": "Renewable",
           "orientation": "v",
           "showlegend": true,
           "stackgroup": "1",
           "type": "scatter",
           "x": [
            "1985-01-01T00:00:00",
            "1986-01-01T00:00:00",
            "1987-01-01T00:00:00",
            "1988-01-01T00:00:00",
            "1989-01-01T00:00:00",
            "1990-01-01T00:00:00",
            "1991-01-01T00:00:00",
            "1992-01-01T00:00:00",
            "1993-01-01T00:00:00",
            "1994-01-01T00:00:00",
            "1995-01-01T00:00:00",
            "1996-01-01T00:00:00",
            "1997-01-01T00:00:00",
            "1998-01-01T00:00:00",
            "1999-01-01T00:00:00",
            "2000-01-01T00:00:00",
            "2001-01-01T00:00:00",
            "2002-01-01T00:00:00",
            "2003-01-01T00:00:00",
            "2004-01-01T00:00:00",
            "2005-01-01T00:00:00"
           ],
           "xaxis": "x",
           "y": [
            2058.0222,
            2091.6704,
            2124.9146,
            2192.8516,
            2195.1711,
            2279.8643,
            2335.3965,
            2344.6736,
            2483.061,
            2504.311,
            2638.9414,
            2677.4333,
            2735.5457,
            2765.892,
            2799.2485,
            2858.4,
            2795.97,
            2873.26,
            2899.25,
            3129.16,
            3279.51
           ],
           "yaxis": "y"
          },
          {
           "fillpattern": {
            "shape": ""
           },
           "hovertemplate": "variable=Nuclear<br>frame=2005<br>year=%{x}<br>value=%{y}<extra></extra>",
           "legendgroup": "Nuclear",
           "line": {
            "color": "rgb(30,0,100)"
           },
           "marker": {
            "symbol": "circle"
           },
           "mode": "lines",
           "name": "Nuclear",
           "orientation": "v",
           "showlegend": true,
           "stackgroup": "1",
           "type": "scatter",
           "x": [
            "1985-01-01T00:00:00",
            "1986-01-01T00:00:00",
            "1987-01-01T00:00:00",
            "1988-01-01T00:00:00",
            "1989-01-01T00:00:00",
            "1990-01-01T00:00:00",
            "1991-01-01T00:00:00",
            "1992-01-01T00:00:00",
            "1993-01-01T00:00:00",
            "1994-01-01T00:00:00",
            "1995-01-01T00:00:00",
            "1996-01-01T00:00:00",
            "1997-01-01T00:00:00",
            "1998-01-01T00:00:00",
            "1999-01-01T00:00:00",
            "2000-01-01T00:00:00",
            "2001-01-01T00:00:00",
            "2002-01-01T00:00:00",
            "2003-01-01T00:00:00",
            "2004-01-01T00:00:00",
            "2005-01-01T00:00:00"
           ],
           "xaxis": "x",
           "y": [
            1488.9216,
            1594.7357,
            1734.7332,
            1891.2493,
            1945.0106,
            2000.596,
            2096.3098,
            2112.223,
            2184.9646,
            2225.9788,
            2322.5298,
            2406.615,
            2390.0642,
            2431.1948,
            2523.7056,
            2540.46,
            2613.17,
            2654.78,
            2601.05,
            2719.41,
            2726.97
           ],
           "yaxis": "y"
          },
          {
           "fillpattern": {
            "shape": ""
           },
           "hovertemplate": "variable=Fossil<br>frame=2005<br>year=%{x}<br>value=%{y}<extra></extra>",
           "legendgroup": "Fossil",
           "line": {
            "color": "rgb(0,0,0)"
           },
           "marker": {
            "symbol": "circle"
           },
           "mode": "lines",
           "name": "Fossil",
           "orientation": "v",
           "showlegend": true,
           "stackgroup": "1",
           "type": "scatter",
           "x": [
            "1985-01-01T00:00:00",
            "1986-01-01T00:00:00",
            "1987-01-01T00:00:00",
            "1988-01-01T00:00:00",
            "1989-01-01T00:00:00",
            "1990-01-01T00:00:00",
            "1991-01-01T00:00:00",
            "1992-01-01T00:00:00",
            "1993-01-01T00:00:00",
            "1994-01-01T00:00:00",
            "1995-01-01T00:00:00",
            "1996-01-01T00:00:00",
            "1997-01-01T00:00:00",
            "1998-01-01T00:00:00",
            "1999-01-01T00:00:00",
            "2000-01-01T00:00:00",
            "2001-01-01T00:00:00",
            "2002-01-01T00:00:00",
            "2003-01-01T00:00:00",
            "2004-01-01T00:00:00",
            "2005-01-01T00:00:00"
           ],
           "xaxis": "x",
           "y": [
            6285.4736,
            6439.9746,
            6757.7617,
            6998.179,
            7455.736,
            7614.993,
            7722.592,
            7807.883,
            7858.686,
            8119.1626,
            8335.322,
            8627.022,
            8911.184,
            9214.535,
            9498.733,
            9878.1,
            10090.26,
            10520.97,
            11126.3,
            11564.24,
            12126.32
           ],
           "yaxis": "y"
          }
         ],
         "name": "2005"
        },
        {
         "data": [
          {
           "fillpattern": {
            "shape": ""
           },
           "hovertemplate": "variable=Renewable<br>frame=2006<br>year=%{x}<br>value=%{y}<extra></extra>",
           "legendgroup": "Renewable",
           "line": {
            "color": "rgb(120,0,100)"
           },
           "marker": {
            "symbol": "circle"
           },
           "mode": "lines",
           "name": "Renewable",
           "orientation": "v",
           "showlegend": true,
           "stackgroup": "1",
           "type": "scatter",
           "x": [
            "1985-01-01T00:00:00",
            "1986-01-01T00:00:00",
            "1987-01-01T00:00:00",
            "1988-01-01T00:00:00",
            "1989-01-01T00:00:00",
            "1990-01-01T00:00:00",
            "1991-01-01T00:00:00",
            "1992-01-01T00:00:00",
            "1993-01-01T00:00:00",
            "1994-01-01T00:00:00",
            "1995-01-01T00:00:00",
            "1996-01-01T00:00:00",
            "1997-01-01T00:00:00",
            "1998-01-01T00:00:00",
            "1999-01-01T00:00:00",
            "2000-01-01T00:00:00",
            "2001-01-01T00:00:00",
            "2002-01-01T00:00:00",
            "2003-01-01T00:00:00",
            "2004-01-01T00:00:00",
            "2005-01-01T00:00:00",
            "2006-01-01T00:00:00"
           ],
           "xaxis": "x",
           "y": [
            2058.0222,
            2091.6704,
            2124.9146,
            2192.8516,
            2195.1711,
            2279.8643,
            2335.3965,
            2344.6736,
            2483.061,
            2504.311,
            2638.9414,
            2677.4333,
            2735.5457,
            2765.892,
            2799.2485,
            2858.4,
            2795.97,
            2873.26,
            2899.25,
            3129.16,
            3279.51,
            3432.46
           ],
           "yaxis": "y"
          },
          {
           "fillpattern": {
            "shape": ""
           },
           "hovertemplate": "variable=Nuclear<br>frame=2006<br>year=%{x}<br>value=%{y}<extra></extra>",
           "legendgroup": "Nuclear",
           "line": {
            "color": "rgb(30,0,100)"
           },
           "marker": {
            "symbol": "circle"
           },
           "mode": "lines",
           "name": "Nuclear",
           "orientation": "v",
           "showlegend": true,
           "stackgroup": "1",
           "type": "scatter",
           "x": [
            "1985-01-01T00:00:00",
            "1986-01-01T00:00:00",
            "1987-01-01T00:00:00",
            "1988-01-01T00:00:00",
            "1989-01-01T00:00:00",
            "1990-01-01T00:00:00",
            "1991-01-01T00:00:00",
            "1992-01-01T00:00:00",
            "1993-01-01T00:00:00",
            "1994-01-01T00:00:00",
            "1995-01-01T00:00:00",
            "1996-01-01T00:00:00",
            "1997-01-01T00:00:00",
            "1998-01-01T00:00:00",
            "1999-01-01T00:00:00",
            "2000-01-01T00:00:00",
            "2001-01-01T00:00:00",
            "2002-01-01T00:00:00",
            "2003-01-01T00:00:00",
            "2004-01-01T00:00:00",
            "2005-01-01T00:00:00",
            "2006-01-01T00:00:00"
           ],
           "xaxis": "x",
           "y": [
            1488.9216,
            1594.7357,
            1734.7332,
            1891.2493,
            1945.0106,
            2000.596,
            2096.3098,
            2112.223,
            2184.9646,
            2225.9788,
            2322.5298,
            2406.615,
            2390.0642,
            2431.1948,
            2523.7056,
            2540.46,
            2613.17,
            2654.78,
            2601.05,
            2719.41,
            2726.97,
            2761.59
           ],
           "yaxis": "y"
          },
          {
           "fillpattern": {
            "shape": ""
           },
           "hovertemplate": "variable=Fossil<br>frame=2006<br>year=%{x}<br>value=%{y}<extra></extra>",
           "legendgroup": "Fossil",
           "line": {
            "color": "rgb(0,0,0)"
           },
           "marker": {
            "symbol": "circle"
           },
           "mode": "lines",
           "name": "Fossil",
           "orientation": "v",
           "showlegend": true,
           "stackgroup": "1",
           "type": "scatter",
           "x": [
            "1985-01-01T00:00:00",
            "1986-01-01T00:00:00",
            "1987-01-01T00:00:00",
            "1988-01-01T00:00:00",
            "1989-01-01T00:00:00",
            "1990-01-01T00:00:00",
            "1991-01-01T00:00:00",
            "1992-01-01T00:00:00",
            "1993-01-01T00:00:00",
            "1994-01-01T00:00:00",
            "1995-01-01T00:00:00",
            "1996-01-01T00:00:00",
            "1997-01-01T00:00:00",
            "1998-01-01T00:00:00",
            "1999-01-01T00:00:00",
            "2000-01-01T00:00:00",
            "2001-01-01T00:00:00",
            "2002-01-01T00:00:00",
            "2003-01-01T00:00:00",
            "2004-01-01T00:00:00",
            "2005-01-01T00:00:00",
            "2006-01-01T00:00:00"
           ],
           "xaxis": "x",
           "y": [
            6285.4736,
            6439.9746,
            6757.7617,
            6998.179,
            7455.736,
            7614.993,
            7722.592,
            7807.883,
            7858.686,
            8119.1626,
            8335.322,
            8627.022,
            8911.184,
            9214.535,
            9498.733,
            9878.1,
            10090.26,
            10520.97,
            11126.3,
            11564.24,
            12126.32,
            12644.06
           ],
           "yaxis": "y"
          }
         ],
         "name": "2006"
        },
        {
         "data": [
          {
           "fillpattern": {
            "shape": ""
           },
           "hovertemplate": "variable=Renewable<br>frame=2007<br>year=%{x}<br>value=%{y}<extra></extra>",
           "legendgroup": "Renewable",
           "line": {
            "color": "rgb(120,0,100)"
           },
           "marker": {
            "symbol": "circle"
           },
           "mode": "lines",
           "name": "Renewable",
           "orientation": "v",
           "showlegend": true,
           "stackgroup": "1",
           "type": "scatter",
           "x": [
            "1985-01-01T00:00:00",
            "1986-01-01T00:00:00",
            "1987-01-01T00:00:00",
            "1988-01-01T00:00:00",
            "1989-01-01T00:00:00",
            "1990-01-01T00:00:00",
            "1991-01-01T00:00:00",
            "1992-01-01T00:00:00",
            "1993-01-01T00:00:00",
            "1994-01-01T00:00:00",
            "1995-01-01T00:00:00",
            "1996-01-01T00:00:00",
            "1997-01-01T00:00:00",
            "1998-01-01T00:00:00",
            "1999-01-01T00:00:00",
            "2000-01-01T00:00:00",
            "2001-01-01T00:00:00",
            "2002-01-01T00:00:00",
            "2003-01-01T00:00:00",
            "2004-01-01T00:00:00",
            "2005-01-01T00:00:00",
            "2006-01-01T00:00:00",
            "2007-01-01T00:00:00"
           ],
           "xaxis": "x",
           "y": [
            2058.0222,
            2091.6704,
            2124.9146,
            2192.8516,
            2195.1711,
            2279.8643,
            2335.3965,
            2344.6736,
            2483.061,
            2504.311,
            2638.9414,
            2677.4333,
            2735.5457,
            2765.892,
            2799.2485,
            2858.4,
            2795.97,
            2873.26,
            2899.25,
            3129.16,
            3279.51,
            3432.46,
            3540.47
           ],
           "yaxis": "y"
          },
          {
           "fillpattern": {
            "shape": ""
           },
           "hovertemplate": "variable=Nuclear<br>frame=2007<br>year=%{x}<br>value=%{y}<extra></extra>",
           "legendgroup": "Nuclear",
           "line": {
            "color": "rgb(30,0,100)"
           },
           "marker": {
            "symbol": "circle"
           },
           "mode": "lines",
           "name": "Nuclear",
           "orientation": "v",
           "showlegend": true,
           "stackgroup": "1",
           "type": "scatter",
           "x": [
            "1985-01-01T00:00:00",
            "1986-01-01T00:00:00",
            "1987-01-01T00:00:00",
            "1988-01-01T00:00:00",
            "1989-01-01T00:00:00",
            "1990-01-01T00:00:00",
            "1991-01-01T00:00:00",
            "1992-01-01T00:00:00",
            "1993-01-01T00:00:00",
            "1994-01-01T00:00:00",
            "1995-01-01T00:00:00",
            "1996-01-01T00:00:00",
            "1997-01-01T00:00:00",
            "1998-01-01T00:00:00",
            "1999-01-01T00:00:00",
            "2000-01-01T00:00:00",
            "2001-01-01T00:00:00",
            "2002-01-01T00:00:00",
            "2003-01-01T00:00:00",
            "2004-01-01T00:00:00",
            "2005-01-01T00:00:00",
            "2006-01-01T00:00:00",
            "2007-01-01T00:00:00"
           ],
           "xaxis": "x",
           "y": [
            1488.9216,
            1594.7357,
            1734.7332,
            1891.2493,
            1945.0106,
            2000.596,
            2096.3098,
            2112.223,
            2184.9646,
            2225.9788,
            2322.5298,
            2406.615,
            2390.0642,
            2431.1948,
            2523.7056,
            2540.46,
            2613.17,
            2654.78,
            2601.05,
            2719.41,
            2726.97,
            2761.59,
            2703.49
           ],
           "yaxis": "y"
          },
          {
           "fillpattern": {
            "shape": ""
           },
           "hovertemplate": "variable=Fossil<br>frame=2007<br>year=%{x}<br>value=%{y}<extra></extra>",
           "legendgroup": "Fossil",
           "line": {
            "color": "rgb(0,0,0)"
           },
           "marker": {
            "symbol": "circle"
           },
           "mode": "lines",
           "name": "Fossil",
           "orientation": "v",
           "showlegend": true,
           "stackgroup": "1",
           "type": "scatter",
           "x": [
            "1985-01-01T00:00:00",
            "1986-01-01T00:00:00",
            "1987-01-01T00:00:00",
            "1988-01-01T00:00:00",
            "1989-01-01T00:00:00",
            "1990-01-01T00:00:00",
            "1991-01-01T00:00:00",
            "1992-01-01T00:00:00",
            "1993-01-01T00:00:00",
            "1994-01-01T00:00:00",
            "1995-01-01T00:00:00",
            "1996-01-01T00:00:00",
            "1997-01-01T00:00:00",
            "1998-01-01T00:00:00",
            "1999-01-01T00:00:00",
            "2000-01-01T00:00:00",
            "2001-01-01T00:00:00",
            "2002-01-01T00:00:00",
            "2003-01-01T00:00:00",
            "2004-01-01T00:00:00",
            "2005-01-01T00:00:00",
            "2006-01-01T00:00:00",
            "2007-01-01T00:00:00"
           ],
           "xaxis": "x",
           "y": [
            6285.4736,
            6439.9746,
            6757.7617,
            6998.179,
            7455.736,
            7614.993,
            7722.592,
            7807.883,
            7858.686,
            8119.1626,
            8335.322,
            8627.022,
            8911.184,
            9214.535,
            9498.733,
            9878.1,
            10090.26,
            10520.97,
            11126.3,
            11564.24,
            12126.32,
            12644.06,
            13468.19
           ],
           "yaxis": "y"
          }
         ],
         "name": "2007"
        },
        {
         "data": [
          {
           "fillpattern": {
            "shape": ""
           },
           "hovertemplate": "variable=Renewable<br>frame=2008<br>year=%{x}<br>value=%{y}<extra></extra>",
           "legendgroup": "Renewable",
           "line": {
            "color": "rgb(120,0,100)"
           },
           "marker": {
            "symbol": "circle"
           },
           "mode": "lines",
           "name": "Renewable",
           "orientation": "v",
           "showlegend": true,
           "stackgroup": "1",
           "type": "scatter",
           "x": [
            "1985-01-01T00:00:00",
            "1986-01-01T00:00:00",
            "1987-01-01T00:00:00",
            "1988-01-01T00:00:00",
            "1989-01-01T00:00:00",
            "1990-01-01T00:00:00",
            "1991-01-01T00:00:00",
            "1992-01-01T00:00:00",
            "1993-01-01T00:00:00",
            "1994-01-01T00:00:00",
            "1995-01-01T00:00:00",
            "1996-01-01T00:00:00",
            "1997-01-01T00:00:00",
            "1998-01-01T00:00:00",
            "1999-01-01T00:00:00",
            "2000-01-01T00:00:00",
            "2001-01-01T00:00:00",
            "2002-01-01T00:00:00",
            "2003-01-01T00:00:00",
            "2004-01-01T00:00:00",
            "2005-01-01T00:00:00",
            "2006-01-01T00:00:00",
            "2007-01-01T00:00:00",
            "2008-01-01T00:00:00"
           ],
           "xaxis": "x",
           "y": [
            2058.0222,
            2091.6704,
            2124.9146,
            2192.8516,
            2195.1711,
            2279.8643,
            2335.3965,
            2344.6736,
            2483.061,
            2504.311,
            2638.9414,
            2677.4333,
            2735.5457,
            2765.892,
            2799.2485,
            2858.4,
            2795.97,
            2873.26,
            2899.25,
            3129.16,
            3279.51,
            3432.46,
            3540.47,
            3798.13
           ],
           "yaxis": "y"
          },
          {
           "fillpattern": {
            "shape": ""
           },
           "hovertemplate": "variable=Nuclear<br>frame=2008<br>year=%{x}<br>value=%{y}<extra></extra>",
           "legendgroup": "Nuclear",
           "line": {
            "color": "rgb(30,0,100)"
           },
           "marker": {
            "symbol": "circle"
           },
           "mode": "lines",
           "name": "Nuclear",
           "orientation": "v",
           "showlegend": true,
           "stackgroup": "1",
           "type": "scatter",
           "x": [
            "1985-01-01T00:00:00",
            "1986-01-01T00:00:00",
            "1987-01-01T00:00:00",
            "1988-01-01T00:00:00",
            "1989-01-01T00:00:00",
            "1990-01-01T00:00:00",
            "1991-01-01T00:00:00",
            "1992-01-01T00:00:00",
            "1993-01-01T00:00:00",
            "1994-01-01T00:00:00",
            "1995-01-01T00:00:00",
            "1996-01-01T00:00:00",
            "1997-01-01T00:00:00",
            "1998-01-01T00:00:00",
            "1999-01-01T00:00:00",
            "2000-01-01T00:00:00",
            "2001-01-01T00:00:00",
            "2002-01-01T00:00:00",
            "2003-01-01T00:00:00",
            "2004-01-01T00:00:00",
            "2005-01-01T00:00:00",
            "2006-01-01T00:00:00",
            "2007-01-01T00:00:00",
            "2008-01-01T00:00:00"
           ],
           "xaxis": "x",
           "y": [
            1488.9216,
            1594.7357,
            1734.7332,
            1891.2493,
            1945.0106,
            2000.596,
            2096.3098,
            2112.223,
            2184.9646,
            2225.9788,
            2322.5298,
            2406.615,
            2390.0642,
            2431.1948,
            2523.7056,
            2540.46,
            2613.17,
            2654.78,
            2601.05,
            2719.41,
            2726.97,
            2761.59,
            2703.49,
            2694.72
           ],
           "yaxis": "y"
          },
          {
           "fillpattern": {
            "shape": ""
           },
           "hovertemplate": "variable=Fossil<br>frame=2008<br>year=%{x}<br>value=%{y}<extra></extra>",
           "legendgroup": "Fossil",
           "line": {
            "color": "rgb(0,0,0)"
           },
           "marker": {
            "symbol": "circle"
           },
           "mode": "lines",
           "name": "Fossil",
           "orientation": "v",
           "showlegend": true,
           "stackgroup": "1",
           "type": "scatter",
           "x": [
            "1985-01-01T00:00:00",
            "1986-01-01T00:00:00",
            "1987-01-01T00:00:00",
            "1988-01-01T00:00:00",
            "1989-01-01T00:00:00",
            "1990-01-01T00:00:00",
            "1991-01-01T00:00:00",
            "1992-01-01T00:00:00",
            "1993-01-01T00:00:00",
            "1994-01-01T00:00:00",
            "1995-01-01T00:00:00",
            "1996-01-01T00:00:00",
            "1997-01-01T00:00:00",
            "1998-01-01T00:00:00",
            "1999-01-01T00:00:00",
            "2000-01-01T00:00:00",
            "2001-01-01T00:00:00",
            "2002-01-01T00:00:00",
            "2003-01-01T00:00:00",
            "2004-01-01T00:00:00",
            "2005-01-01T00:00:00",
            "2006-01-01T00:00:00",
            "2007-01-01T00:00:00",
            "2008-01-01T00:00:00"
           ],
           "xaxis": "x",
           "y": [
            6285.4736,
            6439.9746,
            6757.7617,
            6998.179,
            7455.736,
            7614.993,
            7722.592,
            7807.883,
            7858.686,
            8119.1626,
            8335.322,
            8627.022,
            8911.184,
            9214.535,
            9498.733,
            9878.1,
            10090.26,
            10520.97,
            11126.3,
            11564.24,
            12126.32,
            12644.06,
            13468.19,
            13607.04
           ],
           "yaxis": "y"
          }
         ],
         "name": "2008"
        },
        {
         "data": [
          {
           "fillpattern": {
            "shape": ""
           },
           "hovertemplate": "variable=Renewable<br>frame=2009<br>year=%{x}<br>value=%{y}<extra></extra>",
           "legendgroup": "Renewable",
           "line": {
            "color": "rgb(120,0,100)"
           },
           "marker": {
            "symbol": "circle"
           },
           "mode": "lines",
           "name": "Renewable",
           "orientation": "v",
           "showlegend": true,
           "stackgroup": "1",
           "type": "scatter",
           "x": [
            "1985-01-01T00:00:00",
            "1986-01-01T00:00:00",
            "1987-01-01T00:00:00",
            "1988-01-01T00:00:00",
            "1989-01-01T00:00:00",
            "1990-01-01T00:00:00",
            "1991-01-01T00:00:00",
            "1992-01-01T00:00:00",
            "1993-01-01T00:00:00",
            "1994-01-01T00:00:00",
            "1995-01-01T00:00:00",
            "1996-01-01T00:00:00",
            "1997-01-01T00:00:00",
            "1998-01-01T00:00:00",
            "1999-01-01T00:00:00",
            "2000-01-01T00:00:00",
            "2001-01-01T00:00:00",
            "2002-01-01T00:00:00",
            "2003-01-01T00:00:00",
            "2004-01-01T00:00:00",
            "2005-01-01T00:00:00",
            "2006-01-01T00:00:00",
            "2007-01-01T00:00:00",
            "2008-01-01T00:00:00",
            "2009-01-01T00:00:00"
           ],
           "xaxis": "x",
           "y": [
            2058.0222,
            2091.6704,
            2124.9146,
            2192.8516,
            2195.1711,
            2279.8643,
            2335.3965,
            2344.6736,
            2483.061,
            2504.311,
            2638.9414,
            2677.4333,
            2735.5457,
            2765.892,
            2799.2485,
            2858.4,
            2795.97,
            2873.26,
            2899.25,
            3129.16,
            3279.51,
            3432.46,
            3540.47,
            3798.13,
            3879.24
           ],
           "yaxis": "y"
          },
          {
           "fillpattern": {
            "shape": ""
           },
           "hovertemplate": "variable=Nuclear<br>frame=2009<br>year=%{x}<br>value=%{y}<extra></extra>",
           "legendgroup": "Nuclear",
           "line": {
            "color": "rgb(30,0,100)"
           },
           "marker": {
            "symbol": "circle"
           },
           "mode": "lines",
           "name": "Nuclear",
           "orientation": "v",
           "showlegend": true,
           "stackgroup": "1",
           "type": "scatter",
           "x": [
            "1985-01-01T00:00:00",
            "1986-01-01T00:00:00",
            "1987-01-01T00:00:00",
            "1988-01-01T00:00:00",
            "1989-01-01T00:00:00",
            "1990-01-01T00:00:00",
            "1991-01-01T00:00:00",
            "1992-01-01T00:00:00",
            "1993-01-01T00:00:00",
            "1994-01-01T00:00:00",
            "1995-01-01T00:00:00",
            "1996-01-01T00:00:00",
            "1997-01-01T00:00:00",
            "1998-01-01T00:00:00",
            "1999-01-01T00:00:00",
            "2000-01-01T00:00:00",
            "2001-01-01T00:00:00",
            "2002-01-01T00:00:00",
            "2003-01-01T00:00:00",
            "2004-01-01T00:00:00",
            "2005-01-01T00:00:00",
            "2006-01-01T00:00:00",
            "2007-01-01T00:00:00",
            "2008-01-01T00:00:00",
            "2009-01-01T00:00:00"
           ],
           "xaxis": "x",
           "y": [
            1488.9216,
            1594.7357,
            1734.7332,
            1891.2493,
            1945.0106,
            2000.596,
            2096.3098,
            2112.223,
            2184.9646,
            2225.9788,
            2322.5298,
            2406.615,
            2390.0642,
            2431.1948,
            2523.7056,
            2540.46,
            2613.17,
            2654.78,
            2601.05,
            2719.41,
            2726.97,
            2761.59,
            2703.49,
            2694.72,
            2656.76
           ],
           "yaxis": "y"
          },
          {
           "fillpattern": {
            "shape": ""
           },
           "hovertemplate": "variable=Fossil<br>frame=2009<br>year=%{x}<br>value=%{y}<extra></extra>",
           "legendgroup": "Fossil",
           "line": {
            "color": "rgb(0,0,0)"
           },
           "marker": {
            "symbol": "circle"
           },
           "mode": "lines",
           "name": "Fossil",
           "orientation": "v",
           "showlegend": true,
           "stackgroup": "1",
           "type": "scatter",
           "x": [
            "1985-01-01T00:00:00",
            "1986-01-01T00:00:00",
            "1987-01-01T00:00:00",
            "1988-01-01T00:00:00",
            "1989-01-01T00:00:00",
            "1990-01-01T00:00:00",
            "1991-01-01T00:00:00",
            "1992-01-01T00:00:00",
            "1993-01-01T00:00:00",
            "1994-01-01T00:00:00",
            "1995-01-01T00:00:00",
            "1996-01-01T00:00:00",
            "1997-01-01T00:00:00",
            "1998-01-01T00:00:00",
            "1999-01-01T00:00:00",
            "2000-01-01T00:00:00",
            "2001-01-01T00:00:00",
            "2002-01-01T00:00:00",
            "2003-01-01T00:00:00",
            "2004-01-01T00:00:00",
            "2005-01-01T00:00:00",
            "2006-01-01T00:00:00",
            "2007-01-01T00:00:00",
            "2008-01-01T00:00:00",
            "2009-01-01T00:00:00"
           ],
           "xaxis": "x",
           "y": [
            6285.4736,
            6439.9746,
            6757.7617,
            6998.179,
            7455.736,
            7614.993,
            7722.592,
            7807.883,
            7858.686,
            8119.1626,
            8335.322,
            8627.022,
            8911.184,
            9214.535,
            9498.733,
            9878.1,
            10090.26,
            10520.97,
            11126.3,
            11564.24,
            12126.32,
            12644.06,
            13468.19,
            13607.04,
            13405.4
           ],
           "yaxis": "y"
          }
         ],
         "name": "2009"
        },
        {
         "data": [
          {
           "fillpattern": {
            "shape": ""
           },
           "hovertemplate": "variable=Renewable<br>frame=2010<br>year=%{x}<br>value=%{y}<extra></extra>",
           "legendgroup": "Renewable",
           "line": {
            "color": "rgb(120,0,100)"
           },
           "marker": {
            "symbol": "circle"
           },
           "mode": "lines",
           "name": "Renewable",
           "orientation": "v",
           "showlegend": true,
           "stackgroup": "1",
           "type": "scatter",
           "x": [
            "1985-01-01T00:00:00",
            "1986-01-01T00:00:00",
            "1987-01-01T00:00:00",
            "1988-01-01T00:00:00",
            "1989-01-01T00:00:00",
            "1990-01-01T00:00:00",
            "1991-01-01T00:00:00",
            "1992-01-01T00:00:00",
            "1993-01-01T00:00:00",
            "1994-01-01T00:00:00",
            "1995-01-01T00:00:00",
            "1996-01-01T00:00:00",
            "1997-01-01T00:00:00",
            "1998-01-01T00:00:00",
            "1999-01-01T00:00:00",
            "2000-01-01T00:00:00",
            "2001-01-01T00:00:00",
            "2002-01-01T00:00:00",
            "2003-01-01T00:00:00",
            "2004-01-01T00:00:00",
            "2005-01-01T00:00:00",
            "2006-01-01T00:00:00",
            "2007-01-01T00:00:00",
            "2008-01-01T00:00:00",
            "2009-01-01T00:00:00",
            "2010-01-01T00:00:00"
           ],
           "xaxis": "x",
           "y": [
            2058.0222,
            2091.6704,
            2124.9146,
            2192.8516,
            2195.1711,
            2279.8643,
            2335.3965,
            2344.6736,
            2483.061,
            2504.311,
            2638.9414,
            2677.4333,
            2735.5457,
            2765.892,
            2799.2485,
            2858.4,
            2795.97,
            2873.26,
            2899.25,
            3129.16,
            3279.51,
            3432.46,
            3540.47,
            3798.13,
            3879.24,
            4191.63
           ],
           "yaxis": "y"
          },
          {
           "fillpattern": {
            "shape": ""
           },
           "hovertemplate": "variable=Nuclear<br>frame=2010<br>year=%{x}<br>value=%{y}<extra></extra>",
           "legendgroup": "Nuclear",
           "line": {
            "color": "rgb(30,0,100)"
           },
           "marker": {
            "symbol": "circle"
           },
           "mode": "lines",
           "name": "Nuclear",
           "orientation": "v",
           "showlegend": true,
           "stackgroup": "1",
           "type": "scatter",
           "x": [
            "1985-01-01T00:00:00",
            "1986-01-01T00:00:00",
            "1987-01-01T00:00:00",
            "1988-01-01T00:00:00",
            "1989-01-01T00:00:00",
            "1990-01-01T00:00:00",
            "1991-01-01T00:00:00",
            "1992-01-01T00:00:00",
            "1993-01-01T00:00:00",
            "1994-01-01T00:00:00",
            "1995-01-01T00:00:00",
            "1996-01-01T00:00:00",
            "1997-01-01T00:00:00",
            "1998-01-01T00:00:00",
            "1999-01-01T00:00:00",
            "2000-01-01T00:00:00",
            "2001-01-01T00:00:00",
            "2002-01-01T00:00:00",
            "2003-01-01T00:00:00",
            "2004-01-01T00:00:00",
            "2005-01-01T00:00:00",
            "2006-01-01T00:00:00",
            "2007-01-01T00:00:00",
            "2008-01-01T00:00:00",
            "2009-01-01T00:00:00",
            "2010-01-01T00:00:00"
           ],
           "xaxis": "x",
           "y": [
            1488.9216,
            1594.7357,
            1734.7332,
            1891.2493,
            1945.0106,
            2000.596,
            2096.3098,
            2112.223,
            2184.9646,
            2225.9788,
            2322.5298,
            2406.615,
            2390.0642,
            2431.1948,
            2523.7056,
            2540.46,
            2613.17,
            2654.78,
            2601.05,
            2719.41,
            2726.97,
            2761.59,
            2703.49,
            2694.72,
            2656.76,
            2725.91
           ],
           "yaxis": "y"
          },
          {
           "fillpattern": {
            "shape": ""
           },
           "hovertemplate": "variable=Fossil<br>frame=2010<br>year=%{x}<br>value=%{y}<extra></extra>",
           "legendgroup": "Fossil",
           "line": {
            "color": "rgb(0,0,0)"
           },
           "marker": {
            "symbol": "circle"
           },
           "mode": "lines",
           "name": "Fossil",
           "orientation": "v",
           "showlegend": true,
           "stackgroup": "1",
           "type": "scatter",
           "x": [
            "1985-01-01T00:00:00",
            "1986-01-01T00:00:00",
            "1987-01-01T00:00:00",
            "1988-01-01T00:00:00",
            "1989-01-01T00:00:00",
            "1990-01-01T00:00:00",
            "1991-01-01T00:00:00",
            "1992-01-01T00:00:00",
            "1993-01-01T00:00:00",
            "1994-01-01T00:00:00",
            "1995-01-01T00:00:00",
            "1996-01-01T00:00:00",
            "1997-01-01T00:00:00",
            "1998-01-01T00:00:00",
            "1999-01-01T00:00:00",
            "2000-01-01T00:00:00",
            "2001-01-01T00:00:00",
            "2002-01-01T00:00:00",
            "2003-01-01T00:00:00",
            "2004-01-01T00:00:00",
            "2005-01-01T00:00:00",
            "2006-01-01T00:00:00",
            "2007-01-01T00:00:00",
            "2008-01-01T00:00:00",
            "2009-01-01T00:00:00",
            "2010-01-01T00:00:00"
           ],
           "xaxis": "x",
           "y": [
            6285.4736,
            6439.9746,
            6757.7617,
            6998.179,
            7455.736,
            7614.993,
            7722.592,
            7807.883,
            7858.686,
            8119.1626,
            8335.322,
            8627.022,
            8911.184,
            9214.535,
            9498.733,
            9878.1,
            10090.26,
            10520.97,
            11126.3,
            11564.24,
            12126.32,
            12644.06,
            13468.19,
            13607.04,
            13405.4,
            14345.73
           ],
           "yaxis": "y"
          }
         ],
         "name": "2010"
        },
        {
         "data": [
          {
           "fillpattern": {
            "shape": ""
           },
           "hovertemplate": "variable=Renewable<br>frame=2011<br>year=%{x}<br>value=%{y}<extra></extra>",
           "legendgroup": "Renewable",
           "line": {
            "color": "rgb(120,0,100)"
           },
           "marker": {
            "symbol": "circle"
           },
           "mode": "lines",
           "name": "Renewable",
           "orientation": "v",
           "showlegend": true,
           "stackgroup": "1",
           "type": "scatter",
           "x": [
            "1985-01-01T00:00:00",
            "1986-01-01T00:00:00",
            "1987-01-01T00:00:00",
            "1988-01-01T00:00:00",
            "1989-01-01T00:00:00",
            "1990-01-01T00:00:00",
            "1991-01-01T00:00:00",
            "1992-01-01T00:00:00",
            "1993-01-01T00:00:00",
            "1994-01-01T00:00:00",
            "1995-01-01T00:00:00",
            "1996-01-01T00:00:00",
            "1997-01-01T00:00:00",
            "1998-01-01T00:00:00",
            "1999-01-01T00:00:00",
            "2000-01-01T00:00:00",
            "2001-01-01T00:00:00",
            "2002-01-01T00:00:00",
            "2003-01-01T00:00:00",
            "2004-01-01T00:00:00",
            "2005-01-01T00:00:00",
            "2006-01-01T00:00:00",
            "2007-01-01T00:00:00",
            "2008-01-01T00:00:00",
            "2009-01-01T00:00:00",
            "2010-01-01T00:00:00",
            "2011-01-01T00:00:00"
           ],
           "xaxis": "x",
           "y": [
            2058.0222,
            2091.6704,
            2124.9146,
            2192.8516,
            2195.1711,
            2279.8643,
            2335.3965,
            2344.6736,
            2483.061,
            2504.311,
            2638.9414,
            2677.4333,
            2735.5457,
            2765.892,
            2799.2485,
            2858.4,
            2795.97,
            2873.26,
            2899.25,
            3129.16,
            3279.51,
            3432.46,
            3540.47,
            3798.13,
            3879.24,
            4191.63,
            4394.13
           ],
           "yaxis": "y"
          },
          {
           "fillpattern": {
            "shape": ""
           },
           "hovertemplate": "variable=Nuclear<br>frame=2011<br>year=%{x}<br>value=%{y}<extra></extra>",
           "legendgroup": "Nuclear",
           "line": {
            "color": "rgb(30,0,100)"
           },
           "marker": {
            "symbol": "circle"
           },
           "mode": "lines",
           "name": "Nuclear",
           "orientation": "v",
           "showlegend": true,
           "stackgroup": "1",
           "type": "scatter",
           "x": [
            "1985-01-01T00:00:00",
            "1986-01-01T00:00:00",
            "1987-01-01T00:00:00",
            "1988-01-01T00:00:00",
            "1989-01-01T00:00:00",
            "1990-01-01T00:00:00",
            "1991-01-01T00:00:00",
            "1992-01-01T00:00:00",
            "1993-01-01T00:00:00",
            "1994-01-01T00:00:00",
            "1995-01-01T00:00:00",
            "1996-01-01T00:00:00",
            "1997-01-01T00:00:00",
            "1998-01-01T00:00:00",
            "1999-01-01T00:00:00",
            "2000-01-01T00:00:00",
            "2001-01-01T00:00:00",
            "2002-01-01T00:00:00",
            "2003-01-01T00:00:00",
            "2004-01-01T00:00:00",
            "2005-01-01T00:00:00",
            "2006-01-01T00:00:00",
            "2007-01-01T00:00:00",
            "2008-01-01T00:00:00",
            "2009-01-01T00:00:00",
            "2010-01-01T00:00:00",
            "2011-01-01T00:00:00"
           ],
           "xaxis": "x",
           "y": [
            1488.9216,
            1594.7357,
            1734.7332,
            1891.2493,
            1945.0106,
            2000.596,
            2096.3098,
            2112.223,
            2184.9646,
            2225.9788,
            2322.5298,
            2406.615,
            2390.0642,
            2431.1948,
            2523.7056,
            2540.46,
            2613.17,
            2654.78,
            2601.05,
            2719.41,
            2726.97,
            2761.59,
            2703.49,
            2694.72,
            2656.76,
            2725.91,
            2610.34
           ],
           "yaxis": "y"
          },
          {
           "fillpattern": {
            "shape": ""
           },
           "hovertemplate": "variable=Fossil<br>frame=2011<br>year=%{x}<br>value=%{y}<extra></extra>",
           "legendgroup": "Fossil",
           "line": {
            "color": "rgb(0,0,0)"
           },
           "marker": {
            "symbol": "circle"
           },
           "mode": "lines",
           "name": "Fossil",
           "orientation": "v",
           "showlegend": true,
           "stackgroup": "1",
           "type": "scatter",
           "x": [
            "1985-01-01T00:00:00",
            "1986-01-01T00:00:00",
            "1987-01-01T00:00:00",
            "1988-01-01T00:00:00",
            "1989-01-01T00:00:00",
            "1990-01-01T00:00:00",
            "1991-01-01T00:00:00",
            "1992-01-01T00:00:00",
            "1993-01-01T00:00:00",
            "1994-01-01T00:00:00",
            "1995-01-01T00:00:00",
            "1996-01-01T00:00:00",
            "1997-01-01T00:00:00",
            "1998-01-01T00:00:00",
            "1999-01-01T00:00:00",
            "2000-01-01T00:00:00",
            "2001-01-01T00:00:00",
            "2002-01-01T00:00:00",
            "2003-01-01T00:00:00",
            "2004-01-01T00:00:00",
            "2005-01-01T00:00:00",
            "2006-01-01T00:00:00",
            "2007-01-01T00:00:00",
            "2008-01-01T00:00:00",
            "2009-01-01T00:00:00",
            "2010-01-01T00:00:00",
            "2011-01-01T00:00:00"
           ],
           "xaxis": "x",
           "y": [
            6285.4736,
            6439.9746,
            6757.7617,
            6998.179,
            7455.736,
            7614.993,
            7722.592,
            7807.883,
            7858.686,
            8119.1626,
            8335.322,
            8627.022,
            8911.184,
            9214.535,
            9498.733,
            9878.1,
            10090.26,
            10520.97,
            11126.3,
            11564.24,
            12126.32,
            12644.06,
            13468.19,
            13607.04,
            13405.4,
            14345.73,
            14952.61
           ],
           "yaxis": "y"
          }
         ],
         "name": "2011"
        },
        {
         "data": [
          {
           "fillpattern": {
            "shape": ""
           },
           "hovertemplate": "variable=Renewable<br>frame=2012<br>year=%{x}<br>value=%{y}<extra></extra>",
           "legendgroup": "Renewable",
           "line": {
            "color": "rgb(120,0,100)"
           },
           "marker": {
            "symbol": "circle"
           },
           "mode": "lines",
           "name": "Renewable",
           "orientation": "v",
           "showlegend": true,
           "stackgroup": "1",
           "type": "scatter",
           "x": [
            "1985-01-01T00:00:00",
            "1986-01-01T00:00:00",
            "1987-01-01T00:00:00",
            "1988-01-01T00:00:00",
            "1989-01-01T00:00:00",
            "1990-01-01T00:00:00",
            "1991-01-01T00:00:00",
            "1992-01-01T00:00:00",
            "1993-01-01T00:00:00",
            "1994-01-01T00:00:00",
            "1995-01-01T00:00:00",
            "1996-01-01T00:00:00",
            "1997-01-01T00:00:00",
            "1998-01-01T00:00:00",
            "1999-01-01T00:00:00",
            "2000-01-01T00:00:00",
            "2001-01-01T00:00:00",
            "2002-01-01T00:00:00",
            "2003-01-01T00:00:00",
            "2004-01-01T00:00:00",
            "2005-01-01T00:00:00",
            "2006-01-01T00:00:00",
            "2007-01-01T00:00:00",
            "2008-01-01T00:00:00",
            "2009-01-01T00:00:00",
            "2010-01-01T00:00:00",
            "2011-01-01T00:00:00",
            "2012-01-01T00:00:00"
           ],
           "xaxis": "x",
           "y": [
            2058.0222,
            2091.6704,
            2124.9146,
            2192.8516,
            2195.1711,
            2279.8643,
            2335.3965,
            2344.6736,
            2483.061,
            2504.311,
            2638.9414,
            2677.4333,
            2735.5457,
            2765.892,
            2799.2485,
            2858.4,
            2795.97,
            2873.26,
            2899.25,
            3129.16,
            3279.51,
            3432.46,
            3540.47,
            3798.13,
            3879.24,
            4191.63,
            4394.13,
            4721.16
           ],
           "yaxis": "y"
          },
          {
           "fillpattern": {
            "shape": ""
           },
           "hovertemplate": "variable=Nuclear<br>frame=2012<br>year=%{x}<br>value=%{y}<extra></extra>",
           "legendgroup": "Nuclear",
           "line": {
            "color": "rgb(30,0,100)"
           },
           "marker": {
            "symbol": "circle"
           },
           "mode": "lines",
           "name": "Nuclear",
           "orientation": "v",
           "showlegend": true,
           "stackgroup": "1",
           "type": "scatter",
           "x": [
            "1985-01-01T00:00:00",
            "1986-01-01T00:00:00",
            "1987-01-01T00:00:00",
            "1988-01-01T00:00:00",
            "1989-01-01T00:00:00",
            "1990-01-01T00:00:00",
            "1991-01-01T00:00:00",
            "1992-01-01T00:00:00",
            "1993-01-01T00:00:00",
            "1994-01-01T00:00:00",
            "1995-01-01T00:00:00",
            "1996-01-01T00:00:00",
            "1997-01-01T00:00:00",
            "1998-01-01T00:00:00",
            "1999-01-01T00:00:00",
            "2000-01-01T00:00:00",
            "2001-01-01T00:00:00",
            "2002-01-01T00:00:00",
            "2003-01-01T00:00:00",
            "2004-01-01T00:00:00",
            "2005-01-01T00:00:00",
            "2006-01-01T00:00:00",
            "2007-01-01T00:00:00",
            "2008-01-01T00:00:00",
            "2009-01-01T00:00:00",
            "2010-01-01T00:00:00",
            "2011-01-01T00:00:00",
            "2012-01-01T00:00:00"
           ],
           "xaxis": "x",
           "y": [
            1488.9216,
            1594.7357,
            1734.7332,
            1891.2493,
            1945.0106,
            2000.596,
            2096.3098,
            2112.223,
            2184.9646,
            2225.9788,
            2322.5298,
            2406.615,
            2390.0642,
            2431.1948,
            2523.7056,
            2540.46,
            2613.17,
            2654.78,
            2601.05,
            2719.41,
            2726.97,
            2761.59,
            2703.49,
            2694.72,
            2656.76,
            2725.91,
            2610.34,
            2432.22
           ],
           "yaxis": "y"
          },
          {
           "fillpattern": {
            "shape": ""
           },
           "hovertemplate": "variable=Fossil<br>frame=2012<br>year=%{x}<br>value=%{y}<extra></extra>",
           "legendgroup": "Fossil",
           "line": {
            "color": "rgb(0,0,0)"
           },
           "marker": {
            "symbol": "circle"
           },
           "mode": "lines",
           "name": "Fossil",
           "orientation": "v",
           "showlegend": true,
           "stackgroup": "1",
           "type": "scatter",
           "x": [
            "1985-01-01T00:00:00",
            "1986-01-01T00:00:00",
            "1987-01-01T00:00:00",
            "1988-01-01T00:00:00",
            "1989-01-01T00:00:00",
            "1990-01-01T00:00:00",
            "1991-01-01T00:00:00",
            "1992-01-01T00:00:00",
            "1993-01-01T00:00:00",
            "1994-01-01T00:00:00",
            "1995-01-01T00:00:00",
            "1996-01-01T00:00:00",
            "1997-01-01T00:00:00",
            "1998-01-01T00:00:00",
            "1999-01-01T00:00:00",
            "2000-01-01T00:00:00",
            "2001-01-01T00:00:00",
            "2002-01-01T00:00:00",
            "2003-01-01T00:00:00",
            "2004-01-01T00:00:00",
            "2005-01-01T00:00:00",
            "2006-01-01T00:00:00",
            "2007-01-01T00:00:00",
            "2008-01-01T00:00:00",
            "2009-01-01T00:00:00",
            "2010-01-01T00:00:00",
            "2011-01-01T00:00:00",
            "2012-01-01T00:00:00"
           ],
           "xaxis": "x",
           "y": [
            6285.4736,
            6439.9746,
            6757.7617,
            6998.179,
            7455.736,
            7614.993,
            7722.592,
            7807.883,
            7858.686,
            8119.1626,
            8335.322,
            8627.022,
            8911.184,
            9214.535,
            9498.733,
            9878.1,
            10090.26,
            10520.97,
            11126.3,
            11564.24,
            12126.32,
            12644.06,
            13468.19,
            13607.04,
            13405.4,
            14345.73,
            14952.61,
            15362.46
           ],
           "yaxis": "y"
          }
         ],
         "name": "2012"
        },
        {
         "data": [
          {
           "fillpattern": {
            "shape": ""
           },
           "hovertemplate": "variable=Renewable<br>frame=2013<br>year=%{x}<br>value=%{y}<extra></extra>",
           "legendgroup": "Renewable",
           "line": {
            "color": "rgb(120,0,100)"
           },
           "marker": {
            "symbol": "circle"
           },
           "mode": "lines",
           "name": "Renewable",
           "orientation": "v",
           "showlegend": true,
           "stackgroup": "1",
           "type": "scatter",
           "x": [
            "1985-01-01T00:00:00",
            "1986-01-01T00:00:00",
            "1987-01-01T00:00:00",
            "1988-01-01T00:00:00",
            "1989-01-01T00:00:00",
            "1990-01-01T00:00:00",
            "1991-01-01T00:00:00",
            "1992-01-01T00:00:00",
            "1993-01-01T00:00:00",
            "1994-01-01T00:00:00",
            "1995-01-01T00:00:00",
            "1996-01-01T00:00:00",
            "1997-01-01T00:00:00",
            "1998-01-01T00:00:00",
            "1999-01-01T00:00:00",
            "2000-01-01T00:00:00",
            "2001-01-01T00:00:00",
            "2002-01-01T00:00:00",
            "2003-01-01T00:00:00",
            "2004-01-01T00:00:00",
            "2005-01-01T00:00:00",
            "2006-01-01T00:00:00",
            "2007-01-01T00:00:00",
            "2008-01-01T00:00:00",
            "2009-01-01T00:00:00",
            "2010-01-01T00:00:00",
            "2011-01-01T00:00:00",
            "2012-01-01T00:00:00",
            "2013-01-01T00:00:00"
           ],
           "xaxis": "x",
           "y": [
            2058.0222,
            2091.6704,
            2124.9146,
            2192.8516,
            2195.1711,
            2279.8643,
            2335.3965,
            2344.6736,
            2483.061,
            2504.311,
            2638.9414,
            2677.4333,
            2735.5457,
            2765.892,
            2799.2485,
            2858.4,
            2795.97,
            2873.26,
            2899.25,
            3129.16,
            3279.51,
            3432.46,
            3540.47,
            3798.13,
            3879.24,
            4191.63,
            4394.13,
            4721.16,
            5025.8
           ],
           "yaxis": "y"
          },
          {
           "fillpattern": {
            "shape": ""
           },
           "hovertemplate": "variable=Nuclear<br>frame=2013<br>year=%{x}<br>value=%{y}<extra></extra>",
           "legendgroup": "Nuclear",
           "line": {
            "color": "rgb(30,0,100)"
           },
           "marker": {
            "symbol": "circle"
           },
           "mode": "lines",
           "name": "Nuclear",
           "orientation": "v",
           "showlegend": true,
           "stackgroup": "1",
           "type": "scatter",
           "x": [
            "1985-01-01T00:00:00",
            "1986-01-01T00:00:00",
            "1987-01-01T00:00:00",
            "1988-01-01T00:00:00",
            "1989-01-01T00:00:00",
            "1990-01-01T00:00:00",
            "1991-01-01T00:00:00",
            "1992-01-01T00:00:00",
            "1993-01-01T00:00:00",
            "1994-01-01T00:00:00",
            "1995-01-01T00:00:00",
            "1996-01-01T00:00:00",
            "1997-01-01T00:00:00",
            "1998-01-01T00:00:00",
            "1999-01-01T00:00:00",
            "2000-01-01T00:00:00",
            "2001-01-01T00:00:00",
            "2002-01-01T00:00:00",
            "2003-01-01T00:00:00",
            "2004-01-01T00:00:00",
            "2005-01-01T00:00:00",
            "2006-01-01T00:00:00",
            "2007-01-01T00:00:00",
            "2008-01-01T00:00:00",
            "2009-01-01T00:00:00",
            "2010-01-01T00:00:00",
            "2011-01-01T00:00:00",
            "2012-01-01T00:00:00",
            "2013-01-01T00:00:00"
           ],
           "xaxis": "x",
           "y": [
            1488.9216,
            1594.7357,
            1734.7332,
            1891.2493,
            1945.0106,
            2000.596,
            2096.3098,
            2112.223,
            2184.9646,
            2225.9788,
            2322.5298,
            2406.615,
            2390.0642,
            2431.1948,
            2523.7056,
            2540.46,
            2613.17,
            2654.78,
            2601.05,
            2719.41,
            2726.97,
            2761.59,
            2703.49,
            2694.72,
            2656.76,
            2725.91,
            2610.34,
            2432.22,
            2448.52
           ],
           "yaxis": "y"
          },
          {
           "fillpattern": {
            "shape": ""
           },
           "hovertemplate": "variable=Fossil<br>frame=2013<br>year=%{x}<br>value=%{y}<extra></extra>",
           "legendgroup": "Fossil",
           "line": {
            "color": "rgb(0,0,0)"
           },
           "marker": {
            "symbol": "circle"
           },
           "mode": "lines",
           "name": "Fossil",
           "orientation": "v",
           "showlegend": true,
           "stackgroup": "1",
           "type": "scatter",
           "x": [
            "1985-01-01T00:00:00",
            "1986-01-01T00:00:00",
            "1987-01-01T00:00:00",
            "1988-01-01T00:00:00",
            "1989-01-01T00:00:00",
            "1990-01-01T00:00:00",
            "1991-01-01T00:00:00",
            "1992-01-01T00:00:00",
            "1993-01-01T00:00:00",
            "1994-01-01T00:00:00",
            "1995-01-01T00:00:00",
            "1996-01-01T00:00:00",
            "1997-01-01T00:00:00",
            "1998-01-01T00:00:00",
            "1999-01-01T00:00:00",
            "2000-01-01T00:00:00",
            "2001-01-01T00:00:00",
            "2002-01-01T00:00:00",
            "2003-01-01T00:00:00",
            "2004-01-01T00:00:00",
            "2005-01-01T00:00:00",
            "2006-01-01T00:00:00",
            "2007-01-01T00:00:00",
            "2008-01-01T00:00:00",
            "2009-01-01T00:00:00",
            "2010-01-01T00:00:00",
            "2011-01-01T00:00:00",
            "2012-01-01T00:00:00",
            "2013-01-01T00:00:00"
           ],
           "xaxis": "x",
           "y": [
            6285.4736,
            6439.9746,
            6757.7617,
            6998.179,
            7455.736,
            7614.993,
            7722.592,
            7807.883,
            7858.686,
            8119.1626,
            8335.322,
            8627.022,
            8911.184,
            9214.535,
            9498.733,
            9878.1,
            10090.26,
            10520.97,
            11126.3,
            11564.24,
            12126.32,
            12644.06,
            13468.19,
            13607.04,
            13405.4,
            14345.73,
            14952.61,
            15362.46,
            15681.07
           ],
           "yaxis": "y"
          }
         ],
         "name": "2013"
        },
        {
         "data": [
          {
           "fillpattern": {
            "shape": ""
           },
           "hovertemplate": "variable=Renewable<br>frame=2014<br>year=%{x}<br>value=%{y}<extra></extra>",
           "legendgroup": "Renewable",
           "line": {
            "color": "rgb(120,0,100)"
           },
           "marker": {
            "symbol": "circle"
           },
           "mode": "lines",
           "name": "Renewable",
           "orientation": "v",
           "showlegend": true,
           "stackgroup": "1",
           "type": "scatter",
           "x": [
            "1985-01-01T00:00:00",
            "1986-01-01T00:00:00",
            "1987-01-01T00:00:00",
            "1988-01-01T00:00:00",
            "1989-01-01T00:00:00",
            "1990-01-01T00:00:00",
            "1991-01-01T00:00:00",
            "1992-01-01T00:00:00",
            "1993-01-01T00:00:00",
            "1994-01-01T00:00:00",
            "1995-01-01T00:00:00",
            "1996-01-01T00:00:00",
            "1997-01-01T00:00:00",
            "1998-01-01T00:00:00",
            "1999-01-01T00:00:00",
            "2000-01-01T00:00:00",
            "2001-01-01T00:00:00",
            "2002-01-01T00:00:00",
            "2003-01-01T00:00:00",
            "2004-01-01T00:00:00",
            "2005-01-01T00:00:00",
            "2006-01-01T00:00:00",
            "2007-01-01T00:00:00",
            "2008-01-01T00:00:00",
            "2009-01-01T00:00:00",
            "2010-01-01T00:00:00",
            "2011-01-01T00:00:00",
            "2012-01-01T00:00:00",
            "2013-01-01T00:00:00",
            "2014-01-01T00:00:00"
           ],
           "xaxis": "x",
           "y": [
            2058.0222,
            2091.6704,
            2124.9146,
            2192.8516,
            2195.1711,
            2279.8643,
            2335.3965,
            2344.6736,
            2483.061,
            2504.311,
            2638.9414,
            2677.4333,
            2735.5457,
            2765.892,
            2799.2485,
            2858.4,
            2795.97,
            2873.26,
            2899.25,
            3129.16,
            3279.51,
            3432.46,
            3540.47,
            3798.13,
            3879.24,
            4191.63,
            4394.13,
            4721.16,
            5025.8,
            5285.56
           ],
           "yaxis": "y"
          },
          {
           "fillpattern": {
            "shape": ""
           },
           "hovertemplate": "variable=Nuclear<br>frame=2014<br>year=%{x}<br>value=%{y}<extra></extra>",
           "legendgroup": "Nuclear",
           "line": {
            "color": "rgb(30,0,100)"
           },
           "marker": {
            "symbol": "circle"
           },
           "mode": "lines",
           "name": "Nuclear",
           "orientation": "v",
           "showlegend": true,
           "stackgroup": "1",
           "type": "scatter",
           "x": [
            "1985-01-01T00:00:00",
            "1986-01-01T00:00:00",
            "1987-01-01T00:00:00",
            "1988-01-01T00:00:00",
            "1989-01-01T00:00:00",
            "1990-01-01T00:00:00",
            "1991-01-01T00:00:00",
            "1992-01-01T00:00:00",
            "1993-01-01T00:00:00",
            "1994-01-01T00:00:00",
            "1995-01-01T00:00:00",
            "1996-01-01T00:00:00",
            "1997-01-01T00:00:00",
            "1998-01-01T00:00:00",
            "1999-01-01T00:00:00",
            "2000-01-01T00:00:00",
            "2001-01-01T00:00:00",
            "2002-01-01T00:00:00",
            "2003-01-01T00:00:00",
            "2004-01-01T00:00:00",
            "2005-01-01T00:00:00",
            "2006-01-01T00:00:00",
            "2007-01-01T00:00:00",
            "2008-01-01T00:00:00",
            "2009-01-01T00:00:00",
            "2010-01-01T00:00:00",
            "2011-01-01T00:00:00",
            "2012-01-01T00:00:00",
            "2013-01-01T00:00:00",
            "2014-01-01T00:00:00"
           ],
           "xaxis": "x",
           "y": [
            1488.9216,
            1594.7357,
            1734.7332,
            1891.2493,
            1945.0106,
            2000.596,
            2096.3098,
            2112.223,
            2184.9646,
            2225.9788,
            2322.5298,
            2406.615,
            2390.0642,
            2431.1948,
            2523.7056,
            2540.46,
            2613.17,
            2654.78,
            2601.05,
            2719.41,
            2726.97,
            2761.59,
            2703.49,
            2694.72,
            2656.76,
            2725.91,
            2610.34,
            2432.22,
            2448.52,
            2498.73
           ],
           "yaxis": "y"
          },
          {
           "fillpattern": {
            "shape": ""
           },
           "hovertemplate": "variable=Fossil<br>frame=2014<br>year=%{x}<br>value=%{y}<extra></extra>",
           "legendgroup": "Fossil",
           "line": {
            "color": "rgb(0,0,0)"
           },
           "marker": {
            "symbol": "circle"
           },
           "mode": "lines",
           "name": "Fossil",
           "orientation": "v",
           "showlegend": true,
           "stackgroup": "1",
           "type": "scatter",
           "x": [
            "1985-01-01T00:00:00",
            "1986-01-01T00:00:00",
            "1987-01-01T00:00:00",
            "1988-01-01T00:00:00",
            "1989-01-01T00:00:00",
            "1990-01-01T00:00:00",
            "1991-01-01T00:00:00",
            "1992-01-01T00:00:00",
            "1993-01-01T00:00:00",
            "1994-01-01T00:00:00",
            "1995-01-01T00:00:00",
            "1996-01-01T00:00:00",
            "1997-01-01T00:00:00",
            "1998-01-01T00:00:00",
            "1999-01-01T00:00:00",
            "2000-01-01T00:00:00",
            "2001-01-01T00:00:00",
            "2002-01-01T00:00:00",
            "2003-01-01T00:00:00",
            "2004-01-01T00:00:00",
            "2005-01-01T00:00:00",
            "2006-01-01T00:00:00",
            "2007-01-01T00:00:00",
            "2008-01-01T00:00:00",
            "2009-01-01T00:00:00",
            "2010-01-01T00:00:00",
            "2011-01-01T00:00:00",
            "2012-01-01T00:00:00",
            "2013-01-01T00:00:00",
            "2014-01-01T00:00:00"
           ],
           "xaxis": "x",
           "y": [
            6285.4736,
            6439.9746,
            6757.7617,
            6998.179,
            7455.736,
            7614.993,
            7722.592,
            7807.883,
            7858.686,
            8119.1626,
            8335.322,
            8627.022,
            8911.184,
            9214.535,
            9498.733,
            9878.1,
            10090.26,
            10520.97,
            11126.3,
            11564.24,
            12126.32,
            12644.06,
            13468.19,
            13607.04,
            13405.4,
            14345.73,
            14952.61,
            15362.46,
            15681.07,
            15965.13
           ],
           "yaxis": "y"
          }
         ],
         "name": "2014"
        },
        {
         "data": [
          {
           "fillpattern": {
            "shape": ""
           },
           "hovertemplate": "variable=Renewable<br>frame=2015<br>year=%{x}<br>value=%{y}<extra></extra>",
           "legendgroup": "Renewable",
           "line": {
            "color": "rgb(120,0,100)"
           },
           "marker": {
            "symbol": "circle"
           },
           "mode": "lines",
           "name": "Renewable",
           "orientation": "v",
           "showlegend": true,
           "stackgroup": "1",
           "type": "scatter",
           "x": [
            "1985-01-01T00:00:00",
            "1986-01-01T00:00:00",
            "1987-01-01T00:00:00",
            "1988-01-01T00:00:00",
            "1989-01-01T00:00:00",
            "1990-01-01T00:00:00",
            "1991-01-01T00:00:00",
            "1992-01-01T00:00:00",
            "1993-01-01T00:00:00",
            "1994-01-01T00:00:00",
            "1995-01-01T00:00:00",
            "1996-01-01T00:00:00",
            "1997-01-01T00:00:00",
            "1998-01-01T00:00:00",
            "1999-01-01T00:00:00",
            "2000-01-01T00:00:00",
            "2001-01-01T00:00:00",
            "2002-01-01T00:00:00",
            "2003-01-01T00:00:00",
            "2004-01-01T00:00:00",
            "2005-01-01T00:00:00",
            "2006-01-01T00:00:00",
            "2007-01-01T00:00:00",
            "2008-01-01T00:00:00",
            "2009-01-01T00:00:00",
            "2010-01-01T00:00:00",
            "2011-01-01T00:00:00",
            "2012-01-01T00:00:00",
            "2013-01-01T00:00:00",
            "2014-01-01T00:00:00",
            "2015-01-01T00:00:00"
           ],
           "xaxis": "x",
           "y": [
            2058.0222,
            2091.6704,
            2124.9146,
            2192.8516,
            2195.1711,
            2279.8643,
            2335.3965,
            2344.6736,
            2483.061,
            2504.311,
            2638.9414,
            2677.4333,
            2735.5457,
            2765.892,
            2799.2485,
            2858.4,
            2795.97,
            2873.26,
            2899.25,
            3129.16,
            3279.51,
            3432.46,
            3540.47,
            3798.13,
            3879.24,
            4191.63,
            4394.13,
            4721.16,
            5025.8,
            5285.56,
            5519.22
           ],
           "yaxis": "y"
          },
          {
           "fillpattern": {
            "shape": ""
           },
           "hovertemplate": "variable=Nuclear<br>frame=2015<br>year=%{x}<br>value=%{y}<extra></extra>",
           "legendgroup": "Nuclear",
           "line": {
            "color": "rgb(30,0,100)"
           },
           "marker": {
            "symbol": "circle"
           },
           "mode": "lines",
           "name": "Nuclear",
           "orientation": "v",
           "showlegend": true,
           "stackgroup": "1",
           "type": "scatter",
           "x": [
            "1985-01-01T00:00:00",
            "1986-01-01T00:00:00",
            "1987-01-01T00:00:00",
            "1988-01-01T00:00:00",
            "1989-01-01T00:00:00",
            "1990-01-01T00:00:00",
            "1991-01-01T00:00:00",
            "1992-01-01T00:00:00",
            "1993-01-01T00:00:00",
            "1994-01-01T00:00:00",
            "1995-01-01T00:00:00",
            "1996-01-01T00:00:00",
            "1997-01-01T00:00:00",
            "1998-01-01T00:00:00",
            "1999-01-01T00:00:00",
            "2000-01-01T00:00:00",
            "2001-01-01T00:00:00",
            "2002-01-01T00:00:00",
            "2003-01-01T00:00:00",
            "2004-01-01T00:00:00",
            "2005-01-01T00:00:00",
            "2006-01-01T00:00:00",
            "2007-01-01T00:00:00",
            "2008-01-01T00:00:00",
            "2009-01-01T00:00:00",
            "2010-01-01T00:00:00",
            "2011-01-01T00:00:00",
            "2012-01-01T00:00:00",
            "2013-01-01T00:00:00",
            "2014-01-01T00:00:00",
            "2015-01-01T00:00:00"
           ],
           "xaxis": "x",
           "y": [
            1488.9216,
            1594.7357,
            1734.7332,
            1891.2493,
            1945.0106,
            2000.596,
            2096.3098,
            2112.223,
            2184.9646,
            2225.9788,
            2322.5298,
            2406.615,
            2390.0642,
            2431.1948,
            2523.7056,
            2540.46,
            2613.17,
            2654.78,
            2601.05,
            2719.41,
            2726.97,
            2761.59,
            2703.49,
            2694.72,
            2656.76,
            2725.91,
            2610.34,
            2432.22,
            2448.52,
            2498.73,
            2532.93
           ],
           "yaxis": "y"
          },
          {
           "fillpattern": {
            "shape": ""
           },
           "hovertemplate": "variable=Fossil<br>frame=2015<br>year=%{x}<br>value=%{y}<extra></extra>",
           "legendgroup": "Fossil",
           "line": {
            "color": "rgb(0,0,0)"
           },
           "marker": {
            "symbol": "circle"
           },
           "mode": "lines",
           "name": "Fossil",
           "orientation": "v",
           "showlegend": true,
           "stackgroup": "1",
           "type": "scatter",
           "x": [
            "1985-01-01T00:00:00",
            "1986-01-01T00:00:00",
            "1987-01-01T00:00:00",
            "1988-01-01T00:00:00",
            "1989-01-01T00:00:00",
            "1990-01-01T00:00:00",
            "1991-01-01T00:00:00",
            "1992-01-01T00:00:00",
            "1993-01-01T00:00:00",
            "1994-01-01T00:00:00",
            "1995-01-01T00:00:00",
            "1996-01-01T00:00:00",
            "1997-01-01T00:00:00",
            "1998-01-01T00:00:00",
            "1999-01-01T00:00:00",
            "2000-01-01T00:00:00",
            "2001-01-01T00:00:00",
            "2002-01-01T00:00:00",
            "2003-01-01T00:00:00",
            "2004-01-01T00:00:00",
            "2005-01-01T00:00:00",
            "2006-01-01T00:00:00",
            "2007-01-01T00:00:00",
            "2008-01-01T00:00:00",
            "2009-01-01T00:00:00",
            "2010-01-01T00:00:00",
            "2011-01-01T00:00:00",
            "2012-01-01T00:00:00",
            "2013-01-01T00:00:00",
            "2014-01-01T00:00:00",
            "2015-01-01T00:00:00"
           ],
           "xaxis": "x",
           "y": [
            6285.4736,
            6439.9746,
            6757.7617,
            6998.179,
            7455.736,
            7614.993,
            7722.592,
            7807.883,
            7858.686,
            8119.1626,
            8335.322,
            8627.022,
            8911.184,
            9214.535,
            9498.733,
            9878.1,
            10090.26,
            10520.97,
            11126.3,
            11564.24,
            12126.32,
            12644.06,
            13468.19,
            13607.04,
            13405.4,
            14345.73,
            14952.61,
            15362.46,
            15681.07,
            15965.13,
            15953.64
           ],
           "yaxis": "y"
          }
         ],
         "name": "2015"
        },
        {
         "data": [
          {
           "fillpattern": {
            "shape": ""
           },
           "hovertemplate": "variable=Renewable<br>frame=2016<br>year=%{x}<br>value=%{y}<extra></extra>",
           "legendgroup": "Renewable",
           "line": {
            "color": "rgb(120,0,100)"
           },
           "marker": {
            "symbol": "circle"
           },
           "mode": "lines",
           "name": "Renewable",
           "orientation": "v",
           "showlegend": true,
           "stackgroup": "1",
           "type": "scatter",
           "x": [
            "1985-01-01T00:00:00",
            "1986-01-01T00:00:00",
            "1987-01-01T00:00:00",
            "1988-01-01T00:00:00",
            "1989-01-01T00:00:00",
            "1990-01-01T00:00:00",
            "1991-01-01T00:00:00",
            "1992-01-01T00:00:00",
            "1993-01-01T00:00:00",
            "1994-01-01T00:00:00",
            "1995-01-01T00:00:00",
            "1996-01-01T00:00:00",
            "1997-01-01T00:00:00",
            "1998-01-01T00:00:00",
            "1999-01-01T00:00:00",
            "2000-01-01T00:00:00",
            "2001-01-01T00:00:00",
            "2002-01-01T00:00:00",
            "2003-01-01T00:00:00",
            "2004-01-01T00:00:00",
            "2005-01-01T00:00:00",
            "2006-01-01T00:00:00",
            "2007-01-01T00:00:00",
            "2008-01-01T00:00:00",
            "2009-01-01T00:00:00",
            "2010-01-01T00:00:00",
            "2011-01-01T00:00:00",
            "2012-01-01T00:00:00",
            "2013-01-01T00:00:00",
            "2014-01-01T00:00:00",
            "2015-01-01T00:00:00",
            "2016-01-01T00:00:00"
           ],
           "xaxis": "x",
           "y": [
            2058.0222,
            2091.6704,
            2124.9146,
            2192.8516,
            2195.1711,
            2279.8643,
            2335.3965,
            2344.6736,
            2483.061,
            2504.311,
            2638.9414,
            2677.4333,
            2735.5457,
            2765.892,
            2799.2485,
            2858.4,
            2795.97,
            2873.26,
            2899.25,
            3129.16,
            3279.51,
            3432.46,
            3540.47,
            3798.13,
            3879.24,
            4191.63,
            4394.13,
            4721.16,
            5025.8,
            5285.56,
            5519.22,
            5858.55
           ],
           "yaxis": "y"
          },
          {
           "fillpattern": {
            "shape": ""
           },
           "hovertemplate": "variable=Nuclear<br>frame=2016<br>year=%{x}<br>value=%{y}<extra></extra>",
           "legendgroup": "Nuclear",
           "line": {
            "color": "rgb(30,0,100)"
           },
           "marker": {
            "symbol": "circle"
           },
           "mode": "lines",
           "name": "Nuclear",
           "orientation": "v",
           "showlegend": true,
           "stackgroup": "1",
           "type": "scatter",
           "x": [
            "1985-01-01T00:00:00",
            "1986-01-01T00:00:00",
            "1987-01-01T00:00:00",
            "1988-01-01T00:00:00",
            "1989-01-01T00:00:00",
            "1990-01-01T00:00:00",
            "1991-01-01T00:00:00",
            "1992-01-01T00:00:00",
            "1993-01-01T00:00:00",
            "1994-01-01T00:00:00",
            "1995-01-01T00:00:00",
            "1996-01-01T00:00:00",
            "1997-01-01T00:00:00",
            "1998-01-01T00:00:00",
            "1999-01-01T00:00:00",
            "2000-01-01T00:00:00",
            "2001-01-01T00:00:00",
            "2002-01-01T00:00:00",
            "2003-01-01T00:00:00",
            "2004-01-01T00:00:00",
            "2005-01-01T00:00:00",
            "2006-01-01T00:00:00",
            "2007-01-01T00:00:00",
            "2008-01-01T00:00:00",
            "2009-01-01T00:00:00",
            "2010-01-01T00:00:00",
            "2011-01-01T00:00:00",
            "2012-01-01T00:00:00",
            "2013-01-01T00:00:00",
            "2014-01-01T00:00:00",
            "2015-01-01T00:00:00",
            "2016-01-01T00:00:00"
           ],
           "xaxis": "x",
           "y": [
            1488.9216,
            1594.7357,
            1734.7332,
            1891.2493,
            1945.0106,
            2000.596,
            2096.3098,
            2112.223,
            2184.9646,
            2225.9788,
            2322.5298,
            2406.615,
            2390.0642,
            2431.1948,
            2523.7056,
            2540.46,
            2613.17,
            2654.78,
            2601.05,
            2719.41,
            2726.97,
            2761.59,
            2703.49,
            2694.72,
            2656.76,
            2725.91,
            2610.34,
            2432.22,
            2448.52,
            2498.73,
            2532.93,
            2571.05
           ],
           "yaxis": "y"
          },
          {
           "fillpattern": {
            "shape": ""
           },
           "hovertemplate": "variable=Fossil<br>frame=2016<br>year=%{x}<br>value=%{y}<extra></extra>",
           "legendgroup": "Fossil",
           "line": {
            "color": "rgb(0,0,0)"
           },
           "marker": {
            "symbol": "circle"
           },
           "mode": "lines",
           "name": "Fossil",
           "orientation": "v",
           "showlegend": true,
           "stackgroup": "1",
           "type": "scatter",
           "x": [
            "1985-01-01T00:00:00",
            "1986-01-01T00:00:00",
            "1987-01-01T00:00:00",
            "1988-01-01T00:00:00",
            "1989-01-01T00:00:00",
            "1990-01-01T00:00:00",
            "1991-01-01T00:00:00",
            "1992-01-01T00:00:00",
            "1993-01-01T00:00:00",
            "1994-01-01T00:00:00",
            "1995-01-01T00:00:00",
            "1996-01-01T00:00:00",
            "1997-01-01T00:00:00",
            "1998-01-01T00:00:00",
            "1999-01-01T00:00:00",
            "2000-01-01T00:00:00",
            "2001-01-01T00:00:00",
            "2002-01-01T00:00:00",
            "2003-01-01T00:00:00",
            "2004-01-01T00:00:00",
            "2005-01-01T00:00:00",
            "2006-01-01T00:00:00",
            "2007-01-01T00:00:00",
            "2008-01-01T00:00:00",
            "2009-01-01T00:00:00",
            "2010-01-01T00:00:00",
            "2011-01-01T00:00:00",
            "2012-01-01T00:00:00",
            "2013-01-01T00:00:00",
            "2014-01-01T00:00:00",
            "2015-01-01T00:00:00",
            "2016-01-01T00:00:00"
           ],
           "xaxis": "x",
           "y": [
            6285.4736,
            6439.9746,
            6757.7617,
            6998.179,
            7455.736,
            7614.993,
            7722.592,
            7807.883,
            7858.686,
            8119.1626,
            8335.322,
            8627.022,
            8911.184,
            9214.535,
            9498.733,
            9878.1,
            10090.26,
            10520.97,
            11126.3,
            11564.24,
            12126.32,
            12644.06,
            13468.19,
            13607.04,
            13405.4,
            14345.73,
            14952.61,
            15362.46,
            15681.07,
            15965.13,
            15953.64,
            16233.18
           ],
           "yaxis": "y"
          }
         ],
         "name": "2016"
        },
        {
         "data": [
          {
           "fillpattern": {
            "shape": ""
           },
           "hovertemplate": "variable=Renewable<br>frame=2017<br>year=%{x}<br>value=%{y}<extra></extra>",
           "legendgroup": "Renewable",
           "line": {
            "color": "rgb(120,0,100)"
           },
           "marker": {
            "symbol": "circle"
           },
           "mode": "lines",
           "name": "Renewable",
           "orientation": "v",
           "showlegend": true,
           "stackgroup": "1",
           "type": "scatter",
           "x": [
            "1985-01-01T00:00:00",
            "1986-01-01T00:00:00",
            "1987-01-01T00:00:00",
            "1988-01-01T00:00:00",
            "1989-01-01T00:00:00",
            "1990-01-01T00:00:00",
            "1991-01-01T00:00:00",
            "1992-01-01T00:00:00",
            "1993-01-01T00:00:00",
            "1994-01-01T00:00:00",
            "1995-01-01T00:00:00",
            "1996-01-01T00:00:00",
            "1997-01-01T00:00:00",
            "1998-01-01T00:00:00",
            "1999-01-01T00:00:00",
            "2000-01-01T00:00:00",
            "2001-01-01T00:00:00",
            "2002-01-01T00:00:00",
            "2003-01-01T00:00:00",
            "2004-01-01T00:00:00",
            "2005-01-01T00:00:00",
            "2006-01-01T00:00:00",
            "2007-01-01T00:00:00",
            "2008-01-01T00:00:00",
            "2009-01-01T00:00:00",
            "2010-01-01T00:00:00",
            "2011-01-01T00:00:00",
            "2012-01-01T00:00:00",
            "2013-01-01T00:00:00",
            "2014-01-01T00:00:00",
            "2015-01-01T00:00:00",
            "2016-01-01T00:00:00",
            "2017-01-01T00:00:00"
           ],
           "xaxis": "x",
           "y": [
            2058.0222,
            2091.6704,
            2124.9146,
            2192.8516,
            2195.1711,
            2279.8643,
            2335.3965,
            2344.6736,
            2483.061,
            2504.311,
            2638.9414,
            2677.4333,
            2735.5457,
            2765.892,
            2799.2485,
            2858.4,
            2795.97,
            2873.26,
            2899.25,
            3129.16,
            3279.51,
            3432.46,
            3540.47,
            3798.13,
            3879.24,
            4191.63,
            4394.13,
            4721.16,
            5025.8,
            5285.56,
            5519.22,
            5858.55,
            6234.46
           ],
           "yaxis": "y"
          },
          {
           "fillpattern": {
            "shape": ""
           },
           "hovertemplate": "variable=Nuclear<br>frame=2017<br>year=%{x}<br>value=%{y}<extra></extra>",
           "legendgroup": "Nuclear",
           "line": {
            "color": "rgb(30,0,100)"
           },
           "marker": {
            "symbol": "circle"
           },
           "mode": "lines",
           "name": "Nuclear",
           "orientation": "v",
           "showlegend": true,
           "stackgroup": "1",
           "type": "scatter",
           "x": [
            "1985-01-01T00:00:00",
            "1986-01-01T00:00:00",
            "1987-01-01T00:00:00",
            "1988-01-01T00:00:00",
            "1989-01-01T00:00:00",
            "1990-01-01T00:00:00",
            "1991-01-01T00:00:00",
            "1992-01-01T00:00:00",
            "1993-01-01T00:00:00",
            "1994-01-01T00:00:00",
            "1995-01-01T00:00:00",
            "1996-01-01T00:00:00",
            "1997-01-01T00:00:00",
            "1998-01-01T00:00:00",
            "1999-01-01T00:00:00",
            "2000-01-01T00:00:00",
            "2001-01-01T00:00:00",
            "2002-01-01T00:00:00",
            "2003-01-01T00:00:00",
            "2004-01-01T00:00:00",
            "2005-01-01T00:00:00",
            "2006-01-01T00:00:00",
            "2007-01-01T00:00:00",
            "2008-01-01T00:00:00",
            "2009-01-01T00:00:00",
            "2010-01-01T00:00:00",
            "2011-01-01T00:00:00",
            "2012-01-01T00:00:00",
            "2013-01-01T00:00:00",
            "2014-01-01T00:00:00",
            "2015-01-01T00:00:00",
            "2016-01-01T00:00:00",
            "2017-01-01T00:00:00"
           ],
           "xaxis": "x",
           "y": [
            1488.9216,
            1594.7357,
            1734.7332,
            1891.2493,
            1945.0106,
            2000.596,
            2096.3098,
            2112.223,
            2184.9646,
            2225.9788,
            2322.5298,
            2406.615,
            2390.0642,
            2431.1948,
            2523.7056,
            2540.46,
            2613.17,
            2654.78,
            2601.05,
            2719.41,
            2726.97,
            2761.59,
            2703.49,
            2694.72,
            2656.76,
            2725.91,
            2610.34,
            2432.22,
            2448.52,
            2498.73,
            2532.93,
            2571.05,
            2594.23
           ],
           "yaxis": "y"
          },
          {
           "fillpattern": {
            "shape": ""
           },
           "hovertemplate": "variable=Fossil<br>frame=2017<br>year=%{x}<br>value=%{y}<extra></extra>",
           "legendgroup": "Fossil",
           "line": {
            "color": "rgb(0,0,0)"
           },
           "marker": {
            "symbol": "circle"
           },
           "mode": "lines",
           "name": "Fossil",
           "orientation": "v",
           "showlegend": true,
           "stackgroup": "1",
           "type": "scatter",
           "x": [
            "1985-01-01T00:00:00",
            "1986-01-01T00:00:00",
            "1987-01-01T00:00:00",
            "1988-01-01T00:00:00",
            "1989-01-01T00:00:00",
            "1990-01-01T00:00:00",
            "1991-01-01T00:00:00",
            "1992-01-01T00:00:00",
            "1993-01-01T00:00:00",
            "1994-01-01T00:00:00",
            "1995-01-01T00:00:00",
            "1996-01-01T00:00:00",
            "1997-01-01T00:00:00",
            "1998-01-01T00:00:00",
            "1999-01-01T00:00:00",
            "2000-01-01T00:00:00",
            "2001-01-01T00:00:00",
            "2002-01-01T00:00:00",
            "2003-01-01T00:00:00",
            "2004-01-01T00:00:00",
            "2005-01-01T00:00:00",
            "2006-01-01T00:00:00",
            "2007-01-01T00:00:00",
            "2008-01-01T00:00:00",
            "2009-01-01T00:00:00",
            "2010-01-01T00:00:00",
            "2011-01-01T00:00:00",
            "2012-01-01T00:00:00",
            "2013-01-01T00:00:00",
            "2014-01-01T00:00:00",
            "2015-01-01T00:00:00",
            "2016-01-01T00:00:00",
            "2017-01-01T00:00:00"
           ],
           "xaxis": "x",
           "y": [
            6285.4736,
            6439.9746,
            6757.7617,
            6998.179,
            7455.736,
            7614.993,
            7722.592,
            7807.883,
            7858.686,
            8119.1626,
            8335.322,
            8627.022,
            8911.184,
            9214.535,
            9498.733,
            9878.1,
            10090.26,
            10520.97,
            11126.3,
            11564.24,
            12126.32,
            12644.06,
            13468.19,
            13607.04,
            13405.4,
            14345.73,
            14952.61,
            15362.46,
            15681.07,
            15965.13,
            15953.64,
            16233.18,
            16574.46
           ],
           "yaxis": "y"
          }
         ],
         "name": "2017"
        },
        {
         "data": [
          {
           "fillpattern": {
            "shape": ""
           },
           "hovertemplate": "variable=Renewable<br>frame=2018<br>year=%{x}<br>value=%{y}<extra></extra>",
           "legendgroup": "Renewable",
           "line": {
            "color": "rgb(120,0,100)"
           },
           "marker": {
            "symbol": "circle"
           },
           "mode": "lines",
           "name": "Renewable",
           "orientation": "v",
           "showlegend": true,
           "stackgroup": "1",
           "type": "scatter",
           "x": [
            "1985-01-01T00:00:00",
            "1986-01-01T00:00:00",
            "1987-01-01T00:00:00",
            "1988-01-01T00:00:00",
            "1989-01-01T00:00:00",
            "1990-01-01T00:00:00",
            "1991-01-01T00:00:00",
            "1992-01-01T00:00:00",
            "1993-01-01T00:00:00",
            "1994-01-01T00:00:00",
            "1995-01-01T00:00:00",
            "1996-01-01T00:00:00",
            "1997-01-01T00:00:00",
            "1998-01-01T00:00:00",
            "1999-01-01T00:00:00",
            "2000-01-01T00:00:00",
            "2001-01-01T00:00:00",
            "2002-01-01T00:00:00",
            "2003-01-01T00:00:00",
            "2004-01-01T00:00:00",
            "2005-01-01T00:00:00",
            "2006-01-01T00:00:00",
            "2007-01-01T00:00:00",
            "2008-01-01T00:00:00",
            "2009-01-01T00:00:00",
            "2010-01-01T00:00:00",
            "2011-01-01T00:00:00",
            "2012-01-01T00:00:00",
            "2013-01-01T00:00:00",
            "2014-01-01T00:00:00",
            "2015-01-01T00:00:00",
            "2016-01-01T00:00:00",
            "2017-01-01T00:00:00",
            "2018-01-01T00:00:00"
           ],
           "xaxis": "x",
           "y": [
            2058.0222,
            2091.6704,
            2124.9146,
            2192.8516,
            2195.1711,
            2279.8643,
            2335.3965,
            2344.6736,
            2483.061,
            2504.311,
            2638.9414,
            2677.4333,
            2735.5457,
            2765.892,
            2799.2485,
            2858.4,
            2795.97,
            2873.26,
            2899.25,
            3129.16,
            3279.51,
            3432.46,
            3540.47,
            3798.13,
            3879.24,
            4191.63,
            4394.13,
            4721.16,
            5025.8,
            5285.56,
            5519.22,
            5858.55,
            6234.46,
            6647.13
           ],
           "yaxis": "y"
          },
          {
           "fillpattern": {
            "shape": ""
           },
           "hovertemplate": "variable=Nuclear<br>frame=2018<br>year=%{x}<br>value=%{y}<extra></extra>",
           "legendgroup": "Nuclear",
           "line": {
            "color": "rgb(30,0,100)"
           },
           "marker": {
            "symbol": "circle"
           },
           "mode": "lines",
           "name": "Nuclear",
           "orientation": "v",
           "showlegend": true,
           "stackgroup": "1",
           "type": "scatter",
           "x": [
            "1985-01-01T00:00:00",
            "1986-01-01T00:00:00",
            "1987-01-01T00:00:00",
            "1988-01-01T00:00:00",
            "1989-01-01T00:00:00",
            "1990-01-01T00:00:00",
            "1991-01-01T00:00:00",
            "1992-01-01T00:00:00",
            "1993-01-01T00:00:00",
            "1994-01-01T00:00:00",
            "1995-01-01T00:00:00",
            "1996-01-01T00:00:00",
            "1997-01-01T00:00:00",
            "1998-01-01T00:00:00",
            "1999-01-01T00:00:00",
            "2000-01-01T00:00:00",
            "2001-01-01T00:00:00",
            "2002-01-01T00:00:00",
            "2003-01-01T00:00:00",
            "2004-01-01T00:00:00",
            "2005-01-01T00:00:00",
            "2006-01-01T00:00:00",
            "2007-01-01T00:00:00",
            "2008-01-01T00:00:00",
            "2009-01-01T00:00:00",
            "2010-01-01T00:00:00",
            "2011-01-01T00:00:00",
            "2012-01-01T00:00:00",
            "2013-01-01T00:00:00",
            "2014-01-01T00:00:00",
            "2015-01-01T00:00:00",
            "2016-01-01T00:00:00",
            "2017-01-01T00:00:00",
            "2018-01-01T00:00:00"
           ],
           "xaxis": "x",
           "y": [
            1488.9216,
            1594.7357,
            1734.7332,
            1891.2493,
            1945.0106,
            2000.596,
            2096.3098,
            2112.223,
            2184.9646,
            2225.9788,
            2322.5298,
            2406.615,
            2390.0642,
            2431.1948,
            2523.7056,
            2540.46,
            2613.17,
            2654.78,
            2601.05,
            2719.41,
            2726.97,
            2761.59,
            2703.49,
            2694.72,
            2656.76,
            2725.91,
            2610.34,
            2432.22,
            2448.52,
            2498.73,
            2532.93,
            2571.05,
            2594.23,
            2658.7
           ],
           "yaxis": "y"
          },
          {
           "fillpattern": {
            "shape": ""
           },
           "hovertemplate": "variable=Fossil<br>frame=2018<br>year=%{x}<br>value=%{y}<extra></extra>",
           "legendgroup": "Fossil",
           "line": {
            "color": "rgb(0,0,0)"
           },
           "marker": {
            "symbol": "circle"
           },
           "mode": "lines",
           "name": "Fossil",
           "orientation": "v",
           "showlegend": true,
           "stackgroup": "1",
           "type": "scatter",
           "x": [
            "1985-01-01T00:00:00",
            "1986-01-01T00:00:00",
            "1987-01-01T00:00:00",
            "1988-01-01T00:00:00",
            "1989-01-01T00:00:00",
            "1990-01-01T00:00:00",
            "1991-01-01T00:00:00",
            "1992-01-01T00:00:00",
            "1993-01-01T00:00:00",
            "1994-01-01T00:00:00",
            "1995-01-01T00:00:00",
            "1996-01-01T00:00:00",
            "1997-01-01T00:00:00",
            "1998-01-01T00:00:00",
            "1999-01-01T00:00:00",
            "2000-01-01T00:00:00",
            "2001-01-01T00:00:00",
            "2002-01-01T00:00:00",
            "2003-01-01T00:00:00",
            "2004-01-01T00:00:00",
            "2005-01-01T00:00:00",
            "2006-01-01T00:00:00",
            "2007-01-01T00:00:00",
            "2008-01-01T00:00:00",
            "2009-01-01T00:00:00",
            "2010-01-01T00:00:00",
            "2011-01-01T00:00:00",
            "2012-01-01T00:00:00",
            "2013-01-01T00:00:00",
            "2014-01-01T00:00:00",
            "2015-01-01T00:00:00",
            "2016-01-01T00:00:00",
            "2017-01-01T00:00:00",
            "2018-01-01T00:00:00"
           ],
           "xaxis": "x",
           "y": [
            6285.4736,
            6439.9746,
            6757.7617,
            6998.179,
            7455.736,
            7614.993,
            7722.592,
            7807.883,
            7858.686,
            8119.1626,
            8335.322,
            8627.022,
            8911.184,
            9214.535,
            9498.733,
            9878.1,
            10090.26,
            10520.97,
            11126.3,
            11564.24,
            12126.32,
            12644.06,
            13468.19,
            13607.04,
            13405.4,
            14345.73,
            14952.61,
            15362.46,
            15681.07,
            15965.13,
            15953.64,
            16233.18,
            16574.46,
            17094
           ],
           "yaxis": "y"
          }
         ],
         "name": "2018"
        },
        {
         "data": [
          {
           "fillpattern": {
            "shape": ""
           },
           "hovertemplate": "variable=Renewable<br>frame=2019<br>year=%{x}<br>value=%{y}<extra></extra>",
           "legendgroup": "Renewable",
           "line": {
            "color": "rgb(120,0,100)"
           },
           "marker": {
            "symbol": "circle"
           },
           "mode": "lines",
           "name": "Renewable",
           "orientation": "v",
           "showlegend": true,
           "stackgroup": "1",
           "type": "scatter",
           "x": [
            "1985-01-01T00:00:00",
            "1986-01-01T00:00:00",
            "1987-01-01T00:00:00",
            "1988-01-01T00:00:00",
            "1989-01-01T00:00:00",
            "1990-01-01T00:00:00",
            "1991-01-01T00:00:00",
            "1992-01-01T00:00:00",
            "1993-01-01T00:00:00",
            "1994-01-01T00:00:00",
            "1995-01-01T00:00:00",
            "1996-01-01T00:00:00",
            "1997-01-01T00:00:00",
            "1998-01-01T00:00:00",
            "1999-01-01T00:00:00",
            "2000-01-01T00:00:00",
            "2001-01-01T00:00:00",
            "2002-01-01T00:00:00",
            "2003-01-01T00:00:00",
            "2004-01-01T00:00:00",
            "2005-01-01T00:00:00",
            "2006-01-01T00:00:00",
            "2007-01-01T00:00:00",
            "2008-01-01T00:00:00",
            "2009-01-01T00:00:00",
            "2010-01-01T00:00:00",
            "2011-01-01T00:00:00",
            "2012-01-01T00:00:00",
            "2013-01-01T00:00:00",
            "2014-01-01T00:00:00",
            "2015-01-01T00:00:00",
            "2016-01-01T00:00:00",
            "2017-01-01T00:00:00",
            "2018-01-01T00:00:00",
            "2019-01-01T00:00:00"
           ],
           "xaxis": "x",
           "y": [
            2058.0222,
            2091.6704,
            2124.9146,
            2192.8516,
            2195.1711,
            2279.8643,
            2335.3965,
            2344.6736,
            2483.061,
            2504.311,
            2638.9414,
            2677.4333,
            2735.5457,
            2765.892,
            2799.2485,
            2858.4,
            2795.97,
            2873.26,
            2899.25,
            3129.16,
            3279.51,
            3432.46,
            3540.47,
            3798.13,
            3879.24,
            4191.63,
            4394.13,
            4721.16,
            5025.8,
            5285.56,
            5519.22,
            5858.55,
            6234.46,
            6647.13,
            7010.63
           ],
           "yaxis": "y"
          },
          {
           "fillpattern": {
            "shape": ""
           },
           "hovertemplate": "variable=Nuclear<br>frame=2019<br>year=%{x}<br>value=%{y}<extra></extra>",
           "legendgroup": "Nuclear",
           "line": {
            "color": "rgb(30,0,100)"
           },
           "marker": {
            "symbol": "circle"
           },
           "mode": "lines",
           "name": "Nuclear",
           "orientation": "v",
           "showlegend": true,
           "stackgroup": "1",
           "type": "scatter",
           "x": [
            "1985-01-01T00:00:00",
            "1986-01-01T00:00:00",
            "1987-01-01T00:00:00",
            "1988-01-01T00:00:00",
            "1989-01-01T00:00:00",
            "1990-01-01T00:00:00",
            "1991-01-01T00:00:00",
            "1992-01-01T00:00:00",
            "1993-01-01T00:00:00",
            "1994-01-01T00:00:00",
            "1995-01-01T00:00:00",
            "1996-01-01T00:00:00",
            "1997-01-01T00:00:00",
            "1998-01-01T00:00:00",
            "1999-01-01T00:00:00",
            "2000-01-01T00:00:00",
            "2001-01-01T00:00:00",
            "2002-01-01T00:00:00",
            "2003-01-01T00:00:00",
            "2004-01-01T00:00:00",
            "2005-01-01T00:00:00",
            "2006-01-01T00:00:00",
            "2007-01-01T00:00:00",
            "2008-01-01T00:00:00",
            "2009-01-01T00:00:00",
            "2010-01-01T00:00:00",
            "2011-01-01T00:00:00",
            "2012-01-01T00:00:00",
            "2013-01-01T00:00:00",
            "2014-01-01T00:00:00",
            "2015-01-01T00:00:00",
            "2016-01-01T00:00:00",
            "2017-01-01T00:00:00",
            "2018-01-01T00:00:00",
            "2019-01-01T00:00:00"
           ],
           "xaxis": "x",
           "y": [
            1488.9216,
            1594.7357,
            1734.7332,
            1891.2493,
            1945.0106,
            2000.596,
            2096.3098,
            2112.223,
            2184.9646,
            2225.9788,
            2322.5298,
            2406.615,
            2390.0642,
            2431.1948,
            2523.7056,
            2540.46,
            2613.17,
            2654.78,
            2601.05,
            2719.41,
            2726.97,
            2761.59,
            2703.49,
            2694.72,
            2656.76,
            2725.91,
            2610.34,
            2432.22,
            2448.52,
            2498.73,
            2532.93,
            2571.05,
            2594.23,
            2658.7,
            2754.08
           ],
           "yaxis": "y"
          },
          {
           "fillpattern": {
            "shape": ""
           },
           "hovertemplate": "variable=Fossil<br>frame=2019<br>year=%{x}<br>value=%{y}<extra></extra>",
           "legendgroup": "Fossil",
           "line": {
            "color": "rgb(0,0,0)"
           },
           "marker": {
            "symbol": "circle"
           },
           "mode": "lines",
           "name": "Fossil",
           "orientation": "v",
           "showlegend": true,
           "stackgroup": "1",
           "type": "scatter",
           "x": [
            "1985-01-01T00:00:00",
            "1986-01-01T00:00:00",
            "1987-01-01T00:00:00",
            "1988-01-01T00:00:00",
            "1989-01-01T00:00:00",
            "1990-01-01T00:00:00",
            "1991-01-01T00:00:00",
            "1992-01-01T00:00:00",
            "1993-01-01T00:00:00",
            "1994-01-01T00:00:00",
            "1995-01-01T00:00:00",
            "1996-01-01T00:00:00",
            "1997-01-01T00:00:00",
            "1998-01-01T00:00:00",
            "1999-01-01T00:00:00",
            "2000-01-01T00:00:00",
            "2001-01-01T00:00:00",
            "2002-01-01T00:00:00",
            "2003-01-01T00:00:00",
            "2004-01-01T00:00:00",
            "2005-01-01T00:00:00",
            "2006-01-01T00:00:00",
            "2007-01-01T00:00:00",
            "2008-01-01T00:00:00",
            "2009-01-01T00:00:00",
            "2010-01-01T00:00:00",
            "2011-01-01T00:00:00",
            "2012-01-01T00:00:00",
            "2013-01-01T00:00:00",
            "2014-01-01T00:00:00",
            "2015-01-01T00:00:00",
            "2016-01-01T00:00:00",
            "2017-01-01T00:00:00",
            "2018-01-01T00:00:00",
            "2019-01-01T00:00:00"
           ],
           "xaxis": "x",
           "y": [
            6285.4736,
            6439.9746,
            6757.7617,
            6998.179,
            7455.736,
            7614.993,
            7722.592,
            7807.883,
            7858.686,
            8119.1626,
            8335.322,
            8627.022,
            8911.184,
            9214.535,
            9498.733,
            9878.1,
            10090.26,
            10520.97,
            11126.3,
            11564.24,
            12126.32,
            12644.06,
            13468.19,
            13607.04,
            13405.4,
            14345.73,
            14952.61,
            15362.46,
            15681.07,
            15965.13,
            15953.64,
            16233.18,
            16574.46,
            17094,
            17006.52
           ],
           "yaxis": "y"
          }
         ],
         "name": "2019"
        },
        {
         "data": [
          {
           "fillpattern": {
            "shape": ""
           },
           "hovertemplate": "variable=Renewable<br>frame=2020<br>year=%{x}<br>value=%{y}<extra></extra>",
           "legendgroup": "Renewable",
           "line": {
            "color": "rgb(120,0,100)"
           },
           "marker": {
            "symbol": "circle"
           },
           "mode": "lines",
           "name": "Renewable",
           "orientation": "v",
           "showlegend": true,
           "stackgroup": "1",
           "type": "scatter",
           "x": [
            "1985-01-01T00:00:00",
            "1986-01-01T00:00:00",
            "1987-01-01T00:00:00",
            "1988-01-01T00:00:00",
            "1989-01-01T00:00:00",
            "1990-01-01T00:00:00",
            "1991-01-01T00:00:00",
            "1992-01-01T00:00:00",
            "1993-01-01T00:00:00",
            "1994-01-01T00:00:00",
            "1995-01-01T00:00:00",
            "1996-01-01T00:00:00",
            "1997-01-01T00:00:00",
            "1998-01-01T00:00:00",
            "1999-01-01T00:00:00",
            "2000-01-01T00:00:00",
            "2001-01-01T00:00:00",
            "2002-01-01T00:00:00",
            "2003-01-01T00:00:00",
            "2004-01-01T00:00:00",
            "2005-01-01T00:00:00",
            "2006-01-01T00:00:00",
            "2007-01-01T00:00:00",
            "2008-01-01T00:00:00",
            "2009-01-01T00:00:00",
            "2010-01-01T00:00:00",
            "2011-01-01T00:00:00",
            "2012-01-01T00:00:00",
            "2013-01-01T00:00:00",
            "2014-01-01T00:00:00",
            "2015-01-01T00:00:00",
            "2016-01-01T00:00:00",
            "2017-01-01T00:00:00",
            "2018-01-01T00:00:00",
            "2019-01-01T00:00:00",
            "2020-01-01T00:00:00"
           ],
           "xaxis": "x",
           "y": [
            2058.0222,
            2091.6704,
            2124.9146,
            2192.8516,
            2195.1711,
            2279.8643,
            2335.3965,
            2344.6736,
            2483.061,
            2504.311,
            2638.9414,
            2677.4333,
            2735.5457,
            2765.892,
            2799.2485,
            2858.4,
            2795.97,
            2873.26,
            2899.25,
            3129.16,
            3279.51,
            3432.46,
            3540.47,
            3798.13,
            3879.24,
            4191.63,
            4394.13,
            4721.16,
            5025.8,
            5285.56,
            5519.22,
            5858.55,
            6234.46,
            6647.13,
            7010.63,
            7483.8
           ],
           "yaxis": "y"
          },
          {
           "fillpattern": {
            "shape": ""
           },
           "hovertemplate": "variable=Nuclear<br>frame=2020<br>year=%{x}<br>value=%{y}<extra></extra>",
           "legendgroup": "Nuclear",
           "line": {
            "color": "rgb(30,0,100)"
           },
           "marker": {
            "symbol": "circle"
           },
           "mode": "lines",
           "name": "Nuclear",
           "orientation": "v",
           "showlegend": true,
           "stackgroup": "1",
           "type": "scatter",
           "x": [
            "1985-01-01T00:00:00",
            "1986-01-01T00:00:00",
            "1987-01-01T00:00:00",
            "1988-01-01T00:00:00",
            "1989-01-01T00:00:00",
            "1990-01-01T00:00:00",
            "1991-01-01T00:00:00",
            "1992-01-01T00:00:00",
            "1993-01-01T00:00:00",
            "1994-01-01T00:00:00",
            "1995-01-01T00:00:00",
            "1996-01-01T00:00:00",
            "1997-01-01T00:00:00",
            "1998-01-01T00:00:00",
            "1999-01-01T00:00:00",
            "2000-01-01T00:00:00",
            "2001-01-01T00:00:00",
            "2002-01-01T00:00:00",
            "2003-01-01T00:00:00",
            "2004-01-01T00:00:00",
            "2005-01-01T00:00:00",
            "2006-01-01T00:00:00",
            "2007-01-01T00:00:00",
            "2008-01-01T00:00:00",
            "2009-01-01T00:00:00",
            "2010-01-01T00:00:00",
            "2011-01-01T00:00:00",
            "2012-01-01T00:00:00",
            "2013-01-01T00:00:00",
            "2014-01-01T00:00:00",
            "2015-01-01T00:00:00",
            "2016-01-01T00:00:00",
            "2017-01-01T00:00:00",
            "2018-01-01T00:00:00",
            "2019-01-01T00:00:00",
            "2020-01-01T00:00:00"
           ],
           "xaxis": "x",
           "y": [
            1488.9216,
            1594.7357,
            1734.7332,
            1891.2493,
            1945.0106,
            2000.596,
            2096.3098,
            2112.223,
            2184.9646,
            2225.9788,
            2322.5298,
            2406.615,
            2390.0642,
            2431.1948,
            2523.7056,
            2540.46,
            2613.17,
            2654.78,
            2601.05,
            2719.41,
            2726.97,
            2761.59,
            2703.49,
            2694.72,
            2656.76,
            2725.91,
            2610.34,
            2432.22,
            2448.52,
            2498.73,
            2532.93,
            2571.05,
            2594.23,
            2658.7,
            2754.08,
            2648.37
           ],
           "yaxis": "y"
          },
          {
           "fillpattern": {
            "shape": ""
           },
           "hovertemplate": "variable=Fossil<br>frame=2020<br>year=%{x}<br>value=%{y}<extra></extra>",
           "legendgroup": "Fossil",
           "line": {
            "color": "rgb(0,0,0)"
           },
           "marker": {
            "symbol": "circle"
           },
           "mode": "lines",
           "name": "Fossil",
           "orientation": "v",
           "showlegend": true,
           "stackgroup": "1",
           "type": "scatter",
           "x": [
            "1985-01-01T00:00:00",
            "1986-01-01T00:00:00",
            "1987-01-01T00:00:00",
            "1988-01-01T00:00:00",
            "1989-01-01T00:00:00",
            "1990-01-01T00:00:00",
            "1991-01-01T00:00:00",
            "1992-01-01T00:00:00",
            "1993-01-01T00:00:00",
            "1994-01-01T00:00:00",
            "1995-01-01T00:00:00",
            "1996-01-01T00:00:00",
            "1997-01-01T00:00:00",
            "1998-01-01T00:00:00",
            "1999-01-01T00:00:00",
            "2000-01-01T00:00:00",
            "2001-01-01T00:00:00",
            "2002-01-01T00:00:00",
            "2003-01-01T00:00:00",
            "2004-01-01T00:00:00",
            "2005-01-01T00:00:00",
            "2006-01-01T00:00:00",
            "2007-01-01T00:00:00",
            "2008-01-01T00:00:00",
            "2009-01-01T00:00:00",
            "2010-01-01T00:00:00",
            "2011-01-01T00:00:00",
            "2012-01-01T00:00:00",
            "2013-01-01T00:00:00",
            "2014-01-01T00:00:00",
            "2015-01-01T00:00:00",
            "2016-01-01T00:00:00",
            "2017-01-01T00:00:00",
            "2018-01-01T00:00:00",
            "2019-01-01T00:00:00",
            "2020-01-01T00:00:00"
           ],
           "xaxis": "x",
           "y": [
            6285.4736,
            6439.9746,
            6757.7617,
            6998.179,
            7455.736,
            7614.993,
            7722.592,
            7807.883,
            7858.686,
            8119.1626,
            8335.322,
            8627.022,
            8911.184,
            9214.535,
            9498.733,
            9878.1,
            10090.26,
            10520.97,
            11126.3,
            11564.24,
            12126.32,
            12644.06,
            13468.19,
            13607.04,
            13405.4,
            14345.73,
            14952.61,
            15362.46,
            15681.07,
            15965.13,
            15953.64,
            16233.18,
            16574.46,
            17094,
            17006.52,
            16522.65
           ],
           "yaxis": "y"
          }
         ],
         "name": "2020"
        },
        {
         "data": [
          {
           "fillpattern": {
            "shape": ""
           },
           "hovertemplate": "variable=Renewable<br>frame=2021<br>year=%{x}<br>value=%{y}<extra></extra>",
           "legendgroup": "Renewable",
           "line": {
            "color": "rgb(120,0,100)"
           },
           "marker": {
            "symbol": "circle"
           },
           "mode": "lines",
           "name": "Renewable",
           "orientation": "v",
           "showlegend": true,
           "stackgroup": "1",
           "type": "scatter",
           "x": [
            "1985-01-01T00:00:00",
            "1986-01-01T00:00:00",
            "1987-01-01T00:00:00",
            "1988-01-01T00:00:00",
            "1989-01-01T00:00:00",
            "1990-01-01T00:00:00",
            "1991-01-01T00:00:00",
            "1992-01-01T00:00:00",
            "1993-01-01T00:00:00",
            "1994-01-01T00:00:00",
            "1995-01-01T00:00:00",
            "1996-01-01T00:00:00",
            "1997-01-01T00:00:00",
            "1998-01-01T00:00:00",
            "1999-01-01T00:00:00",
            "2000-01-01T00:00:00",
            "2001-01-01T00:00:00",
            "2002-01-01T00:00:00",
            "2003-01-01T00:00:00",
            "2004-01-01T00:00:00",
            "2005-01-01T00:00:00",
            "2006-01-01T00:00:00",
            "2007-01-01T00:00:00",
            "2008-01-01T00:00:00",
            "2009-01-01T00:00:00",
            "2010-01-01T00:00:00",
            "2011-01-01T00:00:00",
            "2012-01-01T00:00:00",
            "2013-01-01T00:00:00",
            "2014-01-01T00:00:00",
            "2015-01-01T00:00:00",
            "2016-01-01T00:00:00",
            "2017-01-01T00:00:00",
            "2018-01-01T00:00:00",
            "2019-01-01T00:00:00",
            "2020-01-01T00:00:00",
            "2021-01-01T00:00:00"
           ],
           "xaxis": "x",
           "y": [
            2058.0222,
            2091.6704,
            2124.9146,
            2192.8516,
            2195.1711,
            2279.8643,
            2335.3965,
            2344.6736,
            2483.061,
            2504.311,
            2638.9414,
            2677.4333,
            2735.5457,
            2765.892,
            2799.2485,
            2858.4,
            2795.97,
            2873.26,
            2899.25,
            3129.16,
            3279.51,
            3432.46,
            3540.47,
            3798.13,
            3879.24,
            4191.63,
            4394.13,
            4721.16,
            5025.8,
            5285.56,
            5519.22,
            5858.55,
            6234.46,
            6647.13,
            7010.63,
            7483.8,
            7927.13
           ],
           "yaxis": "y"
          },
          {
           "fillpattern": {
            "shape": ""
           },
           "hovertemplate": "variable=Nuclear<br>frame=2021<br>year=%{x}<br>value=%{y}<extra></extra>",
           "legendgroup": "Nuclear",
           "line": {
            "color": "rgb(30,0,100)"
           },
           "marker": {
            "symbol": "circle"
           },
           "mode": "lines",
           "name": "Nuclear",
           "orientation": "v",
           "showlegend": true,
           "stackgroup": "1",
           "type": "scatter",
           "x": [
            "1985-01-01T00:00:00",
            "1986-01-01T00:00:00",
            "1987-01-01T00:00:00",
            "1988-01-01T00:00:00",
            "1989-01-01T00:00:00",
            "1990-01-01T00:00:00",
            "1991-01-01T00:00:00",
            "1992-01-01T00:00:00",
            "1993-01-01T00:00:00",
            "1994-01-01T00:00:00",
            "1995-01-01T00:00:00",
            "1996-01-01T00:00:00",
            "1997-01-01T00:00:00",
            "1998-01-01T00:00:00",
            "1999-01-01T00:00:00",
            "2000-01-01T00:00:00",
            "2001-01-01T00:00:00",
            "2002-01-01T00:00:00",
            "2003-01-01T00:00:00",
            "2004-01-01T00:00:00",
            "2005-01-01T00:00:00",
            "2006-01-01T00:00:00",
            "2007-01-01T00:00:00",
            "2008-01-01T00:00:00",
            "2009-01-01T00:00:00",
            "2010-01-01T00:00:00",
            "2011-01-01T00:00:00",
            "2012-01-01T00:00:00",
            "2013-01-01T00:00:00",
            "2014-01-01T00:00:00",
            "2015-01-01T00:00:00",
            "2016-01-01T00:00:00",
            "2017-01-01T00:00:00",
            "2018-01-01T00:00:00",
            "2019-01-01T00:00:00",
            "2020-01-01T00:00:00",
            "2021-01-01T00:00:00"
           ],
           "xaxis": "x",
           "y": [
            1488.9216,
            1594.7357,
            1734.7332,
            1891.2493,
            1945.0106,
            2000.596,
            2096.3098,
            2112.223,
            2184.9646,
            2225.9788,
            2322.5298,
            2406.615,
            2390.0642,
            2431.1948,
            2523.7056,
            2540.46,
            2613.17,
            2654.78,
            2601.05,
            2719.41,
            2726.97,
            2761.59,
            2703.49,
            2694.72,
            2656.76,
            2725.91,
            2610.34,
            2432.22,
            2448.52,
            2498.73,
            2532.93,
            2571.05,
            2594.23,
            2658.7,
            2754.08,
            2648.37,
            2762.24
           ],
           "yaxis": "y"
          },
          {
           "fillpattern": {
            "shape": ""
           },
           "hovertemplate": "variable=Fossil<br>frame=2021<br>year=%{x}<br>value=%{y}<extra></extra>",
           "legendgroup": "Fossil",
           "line": {
            "color": "rgb(0,0,0)"
           },
           "marker": {
            "symbol": "circle"
           },
           "mode": "lines",
           "name": "Fossil",
           "orientation": "v",
           "showlegend": true,
           "stackgroup": "1",
           "type": "scatter",
           "x": [
            "1985-01-01T00:00:00",
            "1986-01-01T00:00:00",
            "1987-01-01T00:00:00",
            "1988-01-01T00:00:00",
            "1989-01-01T00:00:00",
            "1990-01-01T00:00:00",
            "1991-01-01T00:00:00",
            "1992-01-01T00:00:00",
            "1993-01-01T00:00:00",
            "1994-01-01T00:00:00",
            "1995-01-01T00:00:00",
            "1996-01-01T00:00:00",
            "1997-01-01T00:00:00",
            "1998-01-01T00:00:00",
            "1999-01-01T00:00:00",
            "2000-01-01T00:00:00",
            "2001-01-01T00:00:00",
            "2002-01-01T00:00:00",
            "2003-01-01T00:00:00",
            "2004-01-01T00:00:00",
            "2005-01-01T00:00:00",
            "2006-01-01T00:00:00",
            "2007-01-01T00:00:00",
            "2008-01-01T00:00:00",
            "2009-01-01T00:00:00",
            "2010-01-01T00:00:00",
            "2011-01-01T00:00:00",
            "2012-01-01T00:00:00",
            "2013-01-01T00:00:00",
            "2014-01-01T00:00:00",
            "2015-01-01T00:00:00",
            "2016-01-01T00:00:00",
            "2017-01-01T00:00:00",
            "2018-01-01T00:00:00",
            "2019-01-01T00:00:00",
            "2020-01-01T00:00:00",
            "2021-01-01T00:00:00"
           ],
           "xaxis": "x",
           "y": [
            6285.4736,
            6439.9746,
            6757.7617,
            6998.179,
            7455.736,
            7614.993,
            7722.592,
            7807.883,
            7858.686,
            8119.1626,
            8335.322,
            8627.022,
            8911.184,
            9214.535,
            9498.733,
            9878.1,
            10090.26,
            10520.97,
            11126.3,
            11564.24,
            12126.32,
            12644.06,
            13468.19,
            13607.04,
            13405.4,
            14345.73,
            14952.61,
            15362.46,
            15681.07,
            15965.13,
            15953.64,
            16233.18,
            16574.46,
            17094,
            17006.52,
            16522.65,
            17480.51
           ],
           "yaxis": "y"
          }
         ],
         "name": "2021"
        },
        {
         "data": [
          {
           "fillpattern": {
            "shape": ""
           },
           "hovertemplate": "variable=Renewable<br>frame=2022<br>year=%{x}<br>value=%{y}<extra></extra>",
           "legendgroup": "Renewable",
           "line": {
            "color": "rgb(120,0,100)"
           },
           "marker": {
            "symbol": "circle"
           },
           "mode": "lines",
           "name": "Renewable",
           "orientation": "v",
           "showlegend": true,
           "stackgroup": "1",
           "type": "scatter",
           "x": [
            "1985-01-01T00:00:00",
            "1986-01-01T00:00:00",
            "1987-01-01T00:00:00",
            "1988-01-01T00:00:00",
            "1989-01-01T00:00:00",
            "1990-01-01T00:00:00",
            "1991-01-01T00:00:00",
            "1992-01-01T00:00:00",
            "1993-01-01T00:00:00",
            "1994-01-01T00:00:00",
            "1995-01-01T00:00:00",
            "1996-01-01T00:00:00",
            "1997-01-01T00:00:00",
            "1998-01-01T00:00:00",
            "1999-01-01T00:00:00",
            "2000-01-01T00:00:00",
            "2001-01-01T00:00:00",
            "2002-01-01T00:00:00",
            "2003-01-01T00:00:00",
            "2004-01-01T00:00:00",
            "2005-01-01T00:00:00",
            "2006-01-01T00:00:00",
            "2007-01-01T00:00:00",
            "2008-01-01T00:00:00",
            "2009-01-01T00:00:00",
            "2010-01-01T00:00:00",
            "2011-01-01T00:00:00",
            "2012-01-01T00:00:00",
            "2013-01-01T00:00:00",
            "2014-01-01T00:00:00",
            "2015-01-01T00:00:00",
            "2016-01-01T00:00:00",
            "2017-01-01T00:00:00",
            "2018-01-01T00:00:00",
            "2019-01-01T00:00:00",
            "2020-01-01T00:00:00",
            "2021-01-01T00:00:00",
            "2022-01-01T00:00:00"
           ],
           "xaxis": "x",
           "y": [
            2058.0222,
            2091.6704,
            2124.9146,
            2192.8516,
            2195.1711,
            2279.8643,
            2335.3965,
            2344.6736,
            2483.061,
            2504.311,
            2638.9414,
            2677.4333,
            2735.5457,
            2765.892,
            2799.2485,
            2858.4,
            2795.97,
            2873.26,
            2899.25,
            3129.16,
            3279.51,
            3432.46,
            3540.47,
            3798.13,
            3879.24,
            4191.63,
            4394.13,
            4721.16,
            5025.8,
            5285.56,
            5519.22,
            5858.55,
            6234.46,
            6647.13,
            7010.63,
            7483.8,
            7927.13,
            8484.63
           ],
           "yaxis": "y"
          },
          {
           "fillpattern": {
            "shape": ""
           },
           "hovertemplate": "variable=Nuclear<br>frame=2022<br>year=%{x}<br>value=%{y}<extra></extra>",
           "legendgroup": "Nuclear",
           "line": {
            "color": "rgb(30,0,100)"
           },
           "marker": {
            "symbol": "circle"
           },
           "mode": "lines",
           "name": "Nuclear",
           "orientation": "v",
           "showlegend": true,
           "stackgroup": "1",
           "type": "scatter",
           "x": [
            "1985-01-01T00:00:00",
            "1986-01-01T00:00:00",
            "1987-01-01T00:00:00",
            "1988-01-01T00:00:00",
            "1989-01-01T00:00:00",
            "1990-01-01T00:00:00",
            "1991-01-01T00:00:00",
            "1992-01-01T00:00:00",
            "1993-01-01T00:00:00",
            "1994-01-01T00:00:00",
            "1995-01-01T00:00:00",
            "1996-01-01T00:00:00",
            "1997-01-01T00:00:00",
            "1998-01-01T00:00:00",
            "1999-01-01T00:00:00",
            "2000-01-01T00:00:00",
            "2001-01-01T00:00:00",
            "2002-01-01T00:00:00",
            "2003-01-01T00:00:00",
            "2004-01-01T00:00:00",
            "2005-01-01T00:00:00",
            "2006-01-01T00:00:00",
            "2007-01-01T00:00:00",
            "2008-01-01T00:00:00",
            "2009-01-01T00:00:00",
            "2010-01-01T00:00:00",
            "2011-01-01T00:00:00",
            "2012-01-01T00:00:00",
            "2013-01-01T00:00:00",
            "2014-01-01T00:00:00",
            "2015-01-01T00:00:00",
            "2016-01-01T00:00:00",
            "2017-01-01T00:00:00",
            "2018-01-01T00:00:00",
            "2019-01-01T00:00:00",
            "2020-01-01T00:00:00",
            "2021-01-01T00:00:00",
            "2022-01-01T00:00:00"
           ],
           "xaxis": "x",
           "y": [
            1488.9216,
            1594.7357,
            1734.7332,
            1891.2493,
            1945.0106,
            2000.596,
            2096.3098,
            2112.223,
            2184.9646,
            2225.9788,
            2322.5298,
            2406.615,
            2390.0642,
            2431.1948,
            2523.7056,
            2540.46,
            2613.17,
            2654.78,
            2601.05,
            2719.41,
            2726.97,
            2761.59,
            2703.49,
            2694.72,
            2656.76,
            2725.91,
            2610.34,
            2432.22,
            2448.52,
            2498.73,
            2532.93,
            2571.05,
            2594.23,
            2658.7,
            2754.08,
            2648.37,
            2762.24,
            2639.68
           ],
           "yaxis": "y"
          },
          {
           "fillpattern": {
            "shape": ""
           },
           "hovertemplate": "variable=Fossil<br>frame=2022<br>year=%{x}<br>value=%{y}<extra></extra>",
           "legendgroup": "Fossil",
           "line": {
            "color": "rgb(0,0,0)"
           },
           "marker": {
            "symbol": "circle"
           },
           "mode": "lines",
           "name": "Fossil",
           "orientation": "v",
           "showlegend": true,
           "stackgroup": "1",
           "type": "scatter",
           "x": [
            "1985-01-01T00:00:00",
            "1986-01-01T00:00:00",
            "1987-01-01T00:00:00",
            "1988-01-01T00:00:00",
            "1989-01-01T00:00:00",
            "1990-01-01T00:00:00",
            "1991-01-01T00:00:00",
            "1992-01-01T00:00:00",
            "1993-01-01T00:00:00",
            "1994-01-01T00:00:00",
            "1995-01-01T00:00:00",
            "1996-01-01T00:00:00",
            "1997-01-01T00:00:00",
            "1998-01-01T00:00:00",
            "1999-01-01T00:00:00",
            "2000-01-01T00:00:00",
            "2001-01-01T00:00:00",
            "2002-01-01T00:00:00",
            "2003-01-01T00:00:00",
            "2004-01-01T00:00:00",
            "2005-01-01T00:00:00",
            "2006-01-01T00:00:00",
            "2007-01-01T00:00:00",
            "2008-01-01T00:00:00",
            "2009-01-01T00:00:00",
            "2010-01-01T00:00:00",
            "2011-01-01T00:00:00",
            "2012-01-01T00:00:00",
            "2013-01-01T00:00:00",
            "2014-01-01T00:00:00",
            "2015-01-01T00:00:00",
            "2016-01-01T00:00:00",
            "2017-01-01T00:00:00",
            "2018-01-01T00:00:00",
            "2019-01-01T00:00:00",
            "2020-01-01T00:00:00",
            "2021-01-01T00:00:00",
            "2022-01-01T00:00:00"
           ],
           "xaxis": "x",
           "y": [
            6285.4736,
            6439.9746,
            6757.7617,
            6998.179,
            7455.736,
            7614.993,
            7722.592,
            7807.883,
            7858.686,
            8119.1626,
            8335.322,
            8627.022,
            8911.184,
            9214.535,
            9498.733,
            9878.1,
            10090.26,
            10520.97,
            11126.3,
            11564.24,
            12126.32,
            12644.06,
            13468.19,
            13607.04,
            13405.4,
            14345.73,
            14952.61,
            15362.46,
            15681.07,
            15965.13,
            15953.64,
            16233.18,
            16574.46,
            17094,
            17006.52,
            16522.65,
            17480.51,
            17719.19
           ],
           "yaxis": "y"
          }
         ],
         "name": "2022"
        }
       ],
       "layout": {
        "height": 500,
        "legend": {
         "title": {
          "text": "variable"
         },
         "tracegroupgap": 0
        },
        "sliders": [
         {
          "active": 0,
          "currentvalue": {
           "prefix": "frame="
          },
          "len": 0.9,
          "pad": {
           "b": 10,
           "t": 60
          },
          "steps": [
           {
            "args": [
             [
              "1994"
             ],
             {
              "frame": {
               "duration": 0,
               "redraw": false
              },
              "fromcurrent": true,
              "mode": "immediate",
              "transition": {
               "duration": 0,
               "easing": "linear"
              }
             }
            ],
            "label": "1994",
            "method": "animate"
           },
           {
            "args": [
             [
              "1995"
             ],
             {
              "frame": {
               "duration": 0,
               "redraw": false
              },
              "fromcurrent": true,
              "mode": "immediate",
              "transition": {
               "duration": 0,
               "easing": "linear"
              }
             }
            ],
            "label": "1995",
            "method": "animate"
           },
           {
            "args": [
             [
              "1996"
             ],
             {
              "frame": {
               "duration": 0,
               "redraw": false
              },
              "fromcurrent": true,
              "mode": "immediate",
              "transition": {
               "duration": 0,
               "easing": "linear"
              }
             }
            ],
            "label": "1996",
            "method": "animate"
           },
           {
            "args": [
             [
              "1997"
             ],
             {
              "frame": {
               "duration": 0,
               "redraw": false
              },
              "fromcurrent": true,
              "mode": "immediate",
              "transition": {
               "duration": 0,
               "easing": "linear"
              }
             }
            ],
            "label": "1997",
            "method": "animate"
           },
           {
            "args": [
             [
              "1998"
             ],
             {
              "frame": {
               "duration": 0,
               "redraw": false
              },
              "fromcurrent": true,
              "mode": "immediate",
              "transition": {
               "duration": 0,
               "easing": "linear"
              }
             }
            ],
            "label": "1998",
            "method": "animate"
           },
           {
            "args": [
             [
              "1999"
             ],
             {
              "frame": {
               "duration": 0,
               "redraw": false
              },
              "fromcurrent": true,
              "mode": "immediate",
              "transition": {
               "duration": 0,
               "easing": "linear"
              }
             }
            ],
            "label": "1999",
            "method": "animate"
           },
           {
            "args": [
             [
              "2000"
             ],
             {
              "frame": {
               "duration": 0,
               "redraw": false
              },
              "fromcurrent": true,
              "mode": "immediate",
              "transition": {
               "duration": 0,
               "easing": "linear"
              }
             }
            ],
            "label": "2000",
            "method": "animate"
           },
           {
            "args": [
             [
              "2001"
             ],
             {
              "frame": {
               "duration": 0,
               "redraw": false
              },
              "fromcurrent": true,
              "mode": "immediate",
              "transition": {
               "duration": 0,
               "easing": "linear"
              }
             }
            ],
            "label": "2001",
            "method": "animate"
           },
           {
            "args": [
             [
              "2002"
             ],
             {
              "frame": {
               "duration": 0,
               "redraw": false
              },
              "fromcurrent": true,
              "mode": "immediate",
              "transition": {
               "duration": 0,
               "easing": "linear"
              }
             }
            ],
            "label": "2002",
            "method": "animate"
           },
           {
            "args": [
             [
              "2003"
             ],
             {
              "frame": {
               "duration": 0,
               "redraw": false
              },
              "fromcurrent": true,
              "mode": "immediate",
              "transition": {
               "duration": 0,
               "easing": "linear"
              }
             }
            ],
            "label": "2003",
            "method": "animate"
           },
           {
            "args": [
             [
              "2004"
             ],
             {
              "frame": {
               "duration": 0,
               "redraw": false
              },
              "fromcurrent": true,
              "mode": "immediate",
              "transition": {
               "duration": 0,
               "easing": "linear"
              }
             }
            ],
            "label": "2004",
            "method": "animate"
           },
           {
            "args": [
             [
              "2005"
             ],
             {
              "frame": {
               "duration": 0,
               "redraw": false
              },
              "fromcurrent": true,
              "mode": "immediate",
              "transition": {
               "duration": 0,
               "easing": "linear"
              }
             }
            ],
            "label": "2005",
            "method": "animate"
           },
           {
            "args": [
             [
              "2006"
             ],
             {
              "frame": {
               "duration": 0,
               "redraw": false
              },
              "fromcurrent": true,
              "mode": "immediate",
              "transition": {
               "duration": 0,
               "easing": "linear"
              }
             }
            ],
            "label": "2006",
            "method": "animate"
           },
           {
            "args": [
             [
              "2007"
             ],
             {
              "frame": {
               "duration": 0,
               "redraw": false
              },
              "fromcurrent": true,
              "mode": "immediate",
              "transition": {
               "duration": 0,
               "easing": "linear"
              }
             }
            ],
            "label": "2007",
            "method": "animate"
           },
           {
            "args": [
             [
              "2008"
             ],
             {
              "frame": {
               "duration": 0,
               "redraw": false
              },
              "fromcurrent": true,
              "mode": "immediate",
              "transition": {
               "duration": 0,
               "easing": "linear"
              }
             }
            ],
            "label": "2008",
            "method": "animate"
           },
           {
            "args": [
             [
              "2009"
             ],
             {
              "frame": {
               "duration": 0,
               "redraw": false
              },
              "fromcurrent": true,
              "mode": "immediate",
              "transition": {
               "duration": 0,
               "easing": "linear"
              }
             }
            ],
            "label": "2009",
            "method": "animate"
           },
           {
            "args": [
             [
              "2010"
             ],
             {
              "frame": {
               "duration": 0,
               "redraw": false
              },
              "fromcurrent": true,
              "mode": "immediate",
              "transition": {
               "duration": 0,
               "easing": "linear"
              }
             }
            ],
            "label": "2010",
            "method": "animate"
           },
           {
            "args": [
             [
              "2011"
             ],
             {
              "frame": {
               "duration": 0,
               "redraw": false
              },
              "fromcurrent": true,
              "mode": "immediate",
              "transition": {
               "duration": 0,
               "easing": "linear"
              }
             }
            ],
            "label": "2011",
            "method": "animate"
           },
           {
            "args": [
             [
              "2012"
             ],
             {
              "frame": {
               "duration": 0,
               "redraw": false
              },
              "fromcurrent": true,
              "mode": "immediate",
              "transition": {
               "duration": 0,
               "easing": "linear"
              }
             }
            ],
            "label": "2012",
            "method": "animate"
           },
           {
            "args": [
             [
              "2013"
             ],
             {
              "frame": {
               "duration": 0,
               "redraw": false
              },
              "fromcurrent": true,
              "mode": "immediate",
              "transition": {
               "duration": 0,
               "easing": "linear"
              }
             }
            ],
            "label": "2013",
            "method": "animate"
           },
           {
            "args": [
             [
              "2014"
             ],
             {
              "frame": {
               "duration": 0,
               "redraw": false
              },
              "fromcurrent": true,
              "mode": "immediate",
              "transition": {
               "duration": 0,
               "easing": "linear"
              }
             }
            ],
            "label": "2014",
            "method": "animate"
           },
           {
            "args": [
             [
              "2015"
             ],
             {
              "frame": {
               "duration": 0,
               "redraw": false
              },
              "fromcurrent": true,
              "mode": "immediate",
              "transition": {
               "duration": 0,
               "easing": "linear"
              }
             }
            ],
            "label": "2015",
            "method": "animate"
           },
           {
            "args": [
             [
              "2016"
             ],
             {
              "frame": {
               "duration": 0,
               "redraw": false
              },
              "fromcurrent": true,
              "mode": "immediate",
              "transition": {
               "duration": 0,
               "easing": "linear"
              }
             }
            ],
            "label": "2016",
            "method": "animate"
           },
           {
            "args": [
             [
              "2017"
             ],
             {
              "frame": {
               "duration": 0,
               "redraw": false
              },
              "fromcurrent": true,
              "mode": "immediate",
              "transition": {
               "duration": 0,
               "easing": "linear"
              }
             }
            ],
            "label": "2017",
            "method": "animate"
           },
           {
            "args": [
             [
              "2018"
             ],
             {
              "frame": {
               "duration": 0,
               "redraw": false
              },
              "fromcurrent": true,
              "mode": "immediate",
              "transition": {
               "duration": 0,
               "easing": "linear"
              }
             }
            ],
            "label": "2018",
            "method": "animate"
           },
           {
            "args": [
             [
              "2019"
             ],
             {
              "frame": {
               "duration": 0,
               "redraw": false
              },
              "fromcurrent": true,
              "mode": "immediate",
              "transition": {
               "duration": 0,
               "easing": "linear"
              }
             }
            ],
            "label": "2019",
            "method": "animate"
           },
           {
            "args": [
             [
              "2020"
             ],
             {
              "frame": {
               "duration": 0,
               "redraw": false
              },
              "fromcurrent": true,
              "mode": "immediate",
              "transition": {
               "duration": 0,
               "easing": "linear"
              }
             }
            ],
            "label": "2020",
            "method": "animate"
           },
           {
            "args": [
             [
              "2021"
             ],
             {
              "frame": {
               "duration": 0,
               "redraw": false
              },
              "fromcurrent": true,
              "mode": "immediate",
              "transition": {
               "duration": 0,
               "easing": "linear"
              }
             }
            ],
            "label": "2021",
            "method": "animate"
           },
           {
            "args": [
             [
              "2022"
             ],
             {
              "frame": {
               "duration": 0,
               "redraw": false
              },
              "fromcurrent": true,
              "mode": "immediate",
              "transition": {
               "duration": 0,
               "easing": "linear"
              }
             }
            ],
            "label": "2022",
            "method": "animate"
           }
          ],
          "x": 0.1,
          "xanchor": "left",
          "y": 0,
          "yanchor": "top"
         }
        ],
        "template": {
         "data": {
          "bar": [
           {
            "error_x": {
             "color": "#2a3f5f"
            },
            "error_y": {
             "color": "#2a3f5f"
            },
            "marker": {
             "line": {
              "color": "#E5ECF6",
              "width": 0.5
             },
             "pattern": {
              "fillmode": "overlay",
              "size": 10,
              "solidity": 0.2
             }
            },
            "type": "bar"
           }
          ],
          "barpolar": [
           {
            "marker": {
             "line": {
              "color": "#E5ECF6",
              "width": 0.5
             },
             "pattern": {
              "fillmode": "overlay",
              "size": 10,
              "solidity": 0.2
             }
            },
            "type": "barpolar"
           }
          ],
          "carpet": [
           {
            "aaxis": {
             "endlinecolor": "#2a3f5f",
             "gridcolor": "white",
             "linecolor": "white",
             "minorgridcolor": "white",
             "startlinecolor": "#2a3f5f"
            },
            "baxis": {
             "endlinecolor": "#2a3f5f",
             "gridcolor": "white",
             "linecolor": "white",
             "minorgridcolor": "white",
             "startlinecolor": "#2a3f5f"
            },
            "type": "carpet"
           }
          ],
          "choropleth": [
           {
            "colorbar": {
             "outlinewidth": 0,
             "ticks": ""
            },
            "type": "choropleth"
           }
          ],
          "contour": [
           {
            "colorbar": {
             "outlinewidth": 0,
             "ticks": ""
            },
            "colorscale": [
             [
              0,
              "#0d0887"
             ],
             [
              0.1111111111111111,
              "#46039f"
             ],
             [
              0.2222222222222222,
              "#7201a8"
             ],
             [
              0.3333333333333333,
              "#9c179e"
             ],
             [
              0.4444444444444444,
              "#bd3786"
             ],
             [
              0.5555555555555556,
              "#d8576b"
             ],
             [
              0.6666666666666666,
              "#ed7953"
             ],
             [
              0.7777777777777778,
              "#fb9f3a"
             ],
             [
              0.8888888888888888,
              "#fdca26"
             ],
             [
              1,
              "#f0f921"
             ]
            ],
            "type": "contour"
           }
          ],
          "contourcarpet": [
           {
            "colorbar": {
             "outlinewidth": 0,
             "ticks": ""
            },
            "type": "contourcarpet"
           }
          ],
          "heatmap": [
           {
            "colorbar": {
             "outlinewidth": 0,
             "ticks": ""
            },
            "colorscale": [
             [
              0,
              "#0d0887"
             ],
             [
              0.1111111111111111,
              "#46039f"
             ],
             [
              0.2222222222222222,
              "#7201a8"
             ],
             [
              0.3333333333333333,
              "#9c179e"
             ],
             [
              0.4444444444444444,
              "#bd3786"
             ],
             [
              0.5555555555555556,
              "#d8576b"
             ],
             [
              0.6666666666666666,
              "#ed7953"
             ],
             [
              0.7777777777777778,
              "#fb9f3a"
             ],
             [
              0.8888888888888888,
              "#fdca26"
             ],
             [
              1,
              "#f0f921"
             ]
            ],
            "type": "heatmap"
           }
          ],
          "heatmapgl": [
           {
            "colorbar": {
             "outlinewidth": 0,
             "ticks": ""
            },
            "colorscale": [
             [
              0,
              "#0d0887"
             ],
             [
              0.1111111111111111,
              "#46039f"
             ],
             [
              0.2222222222222222,
              "#7201a8"
             ],
             [
              0.3333333333333333,
              "#9c179e"
             ],
             [
              0.4444444444444444,
              "#bd3786"
             ],
             [
              0.5555555555555556,
              "#d8576b"
             ],
             [
              0.6666666666666666,
              "#ed7953"
             ],
             [
              0.7777777777777778,
              "#fb9f3a"
             ],
             [
              0.8888888888888888,
              "#fdca26"
             ],
             [
              1,
              "#f0f921"
             ]
            ],
            "type": "heatmapgl"
           }
          ],
          "histogram": [
           {
            "marker": {
             "pattern": {
              "fillmode": "overlay",
              "size": 10,
              "solidity": 0.2
             }
            },
            "type": "histogram"
           }
          ],
          "histogram2d": [
           {
            "colorbar": {
             "outlinewidth": 0,
             "ticks": ""
            },
            "colorscale": [
             [
              0,
              "#0d0887"
             ],
             [
              0.1111111111111111,
              "#46039f"
             ],
             [
              0.2222222222222222,
              "#7201a8"
             ],
             [
              0.3333333333333333,
              "#9c179e"
             ],
             [
              0.4444444444444444,
              "#bd3786"
             ],
             [
              0.5555555555555556,
              "#d8576b"
             ],
             [
              0.6666666666666666,
              "#ed7953"
             ],
             [
              0.7777777777777778,
              "#fb9f3a"
             ],
             [
              0.8888888888888888,
              "#fdca26"
             ],
             [
              1,
              "#f0f921"
             ]
            ],
            "type": "histogram2d"
           }
          ],
          "histogram2dcontour": [
           {
            "colorbar": {
             "outlinewidth": 0,
             "ticks": ""
            },
            "colorscale": [
             [
              0,
              "#0d0887"
             ],
             [
              0.1111111111111111,
              "#46039f"
             ],
             [
              0.2222222222222222,
              "#7201a8"
             ],
             [
              0.3333333333333333,
              "#9c179e"
             ],
             [
              0.4444444444444444,
              "#bd3786"
             ],
             [
              0.5555555555555556,
              "#d8576b"
             ],
             [
              0.6666666666666666,
              "#ed7953"
             ],
             [
              0.7777777777777778,
              "#fb9f3a"
             ],
             [
              0.8888888888888888,
              "#fdca26"
             ],
             [
              1,
              "#f0f921"
             ]
            ],
            "type": "histogram2dcontour"
           }
          ],
          "mesh3d": [
           {
            "colorbar": {
             "outlinewidth": 0,
             "ticks": ""
            },
            "type": "mesh3d"
           }
          ],
          "parcoords": [
           {
            "line": {
             "colorbar": {
              "outlinewidth": 0,
              "ticks": ""
             }
            },
            "type": "parcoords"
           }
          ],
          "pie": [
           {
            "automargin": true,
            "type": "pie"
           }
          ],
          "scatter": [
           {
            "fillpattern": {
             "fillmode": "overlay",
             "size": 10,
             "solidity": 0.2
            },
            "type": "scatter"
           }
          ],
          "scatter3d": [
           {
            "line": {
             "colorbar": {
              "outlinewidth": 0,
              "ticks": ""
             }
            },
            "marker": {
             "colorbar": {
              "outlinewidth": 0,
              "ticks": ""
             }
            },
            "type": "scatter3d"
           }
          ],
          "scattercarpet": [
           {
            "marker": {
             "colorbar": {
              "outlinewidth": 0,
              "ticks": ""
             }
            },
            "type": "scattercarpet"
           }
          ],
          "scattergeo": [
           {
            "marker": {
             "colorbar": {
              "outlinewidth": 0,
              "ticks": ""
             }
            },
            "type": "scattergeo"
           }
          ],
          "scattergl": [
           {
            "marker": {
             "colorbar": {
              "outlinewidth": 0,
              "ticks": ""
             }
            },
            "type": "scattergl"
           }
          ],
          "scattermapbox": [
           {
            "marker": {
             "colorbar": {
              "outlinewidth": 0,
              "ticks": ""
             }
            },
            "type": "scattermapbox"
           }
          ],
          "scatterpolar": [
           {
            "marker": {
             "colorbar": {
              "outlinewidth": 0,
              "ticks": ""
             }
            },
            "type": "scatterpolar"
           }
          ],
          "scatterpolargl": [
           {
            "marker": {
             "colorbar": {
              "outlinewidth": 0,
              "ticks": ""
             }
            },
            "type": "scatterpolargl"
           }
          ],
          "scatterternary": [
           {
            "marker": {
             "colorbar": {
              "outlinewidth": 0,
              "ticks": ""
             }
            },
            "type": "scatterternary"
           }
          ],
          "surface": [
           {
            "colorbar": {
             "outlinewidth": 0,
             "ticks": ""
            },
            "colorscale": [
             [
              0,
              "#0d0887"
             ],
             [
              0.1111111111111111,
              "#46039f"
             ],
             [
              0.2222222222222222,
              "#7201a8"
             ],
             [
              0.3333333333333333,
              "#9c179e"
             ],
             [
              0.4444444444444444,
              "#bd3786"
             ],
             [
              0.5555555555555556,
              "#d8576b"
             ],
             [
              0.6666666666666666,
              "#ed7953"
             ],
             [
              0.7777777777777778,
              "#fb9f3a"
             ],
             [
              0.8888888888888888,
              "#fdca26"
             ],
             [
              1,
              "#f0f921"
             ]
            ],
            "type": "surface"
           }
          ],
          "table": [
           {
            "cells": {
             "fill": {
              "color": "#EBF0F8"
             },
             "line": {
              "color": "white"
             }
            },
            "header": {
             "fill": {
              "color": "#C8D4E3"
             },
             "line": {
              "color": "white"
             }
            },
            "type": "table"
           }
          ]
         },
         "layout": {
          "annotationdefaults": {
           "arrowcolor": "#2a3f5f",
           "arrowhead": 0,
           "arrowwidth": 1
          },
          "autotypenumbers": "strict",
          "coloraxis": {
           "colorbar": {
            "outlinewidth": 0,
            "ticks": ""
           }
          },
          "colorscale": {
           "diverging": [
            [
             0,
             "#8e0152"
            ],
            [
             0.1,
             "#c51b7d"
            ],
            [
             0.2,
             "#de77ae"
            ],
            [
             0.3,
             "#f1b6da"
            ],
            [
             0.4,
             "#fde0ef"
            ],
            [
             0.5,
             "#f7f7f7"
            ],
            [
             0.6,
             "#e6f5d0"
            ],
            [
             0.7,
             "#b8e186"
            ],
            [
             0.8,
             "#7fbc41"
            ],
            [
             0.9,
             "#4d9221"
            ],
            [
             1,
             "#276419"
            ]
           ],
           "sequential": [
            [
             0,
             "#0d0887"
            ],
            [
             0.1111111111111111,
             "#46039f"
            ],
            [
             0.2222222222222222,
             "#7201a8"
            ],
            [
             0.3333333333333333,
             "#9c179e"
            ],
            [
             0.4444444444444444,
             "#bd3786"
            ],
            [
             0.5555555555555556,
             "#d8576b"
            ],
            [
             0.6666666666666666,
             "#ed7953"
            ],
            [
             0.7777777777777778,
             "#fb9f3a"
            ],
            [
             0.8888888888888888,
             "#fdca26"
            ],
            [
             1,
             "#f0f921"
            ]
           ],
           "sequentialminus": [
            [
             0,
             "#0d0887"
            ],
            [
             0.1111111111111111,
             "#46039f"
            ],
            [
             0.2222222222222222,
             "#7201a8"
            ],
            [
             0.3333333333333333,
             "#9c179e"
            ],
            [
             0.4444444444444444,
             "#bd3786"
            ],
            [
             0.5555555555555556,
             "#d8576b"
            ],
            [
             0.6666666666666666,
             "#ed7953"
            ],
            [
             0.7777777777777778,
             "#fb9f3a"
            ],
            [
             0.8888888888888888,
             "#fdca26"
            ],
            [
             1,
             "#f0f921"
            ]
           ]
          },
          "colorway": [
           "#636efa",
           "#EF553B",
           "#00cc96",
           "#ab63fa",
           "#FFA15A",
           "#19d3f3",
           "#FF6692",
           "#B6E880",
           "#FF97FF",
           "#FECB52"
          ],
          "font": {
           "color": "#2a3f5f"
          },
          "geo": {
           "bgcolor": "white",
           "lakecolor": "white",
           "landcolor": "#E5ECF6",
           "showlakes": true,
           "showland": true,
           "subunitcolor": "white"
          },
          "hoverlabel": {
           "align": "left"
          },
          "hovermode": "closest",
          "mapbox": {
           "style": "light"
          },
          "paper_bgcolor": "white",
          "plot_bgcolor": "#E5ECF6",
          "polar": {
           "angularaxis": {
            "gridcolor": "white",
            "linecolor": "white",
            "ticks": ""
           },
           "bgcolor": "#E5ECF6",
           "radialaxis": {
            "gridcolor": "white",
            "linecolor": "white",
            "ticks": ""
           }
          },
          "scene": {
           "xaxis": {
            "backgroundcolor": "#E5ECF6",
            "gridcolor": "white",
            "gridwidth": 2,
            "linecolor": "white",
            "showbackground": true,
            "ticks": "",
            "zerolinecolor": "white"
           },
           "yaxis": {
            "backgroundcolor": "#E5ECF6",
            "gridcolor": "white",
            "gridwidth": 2,
            "linecolor": "white",
            "showbackground": true,
            "ticks": "",
            "zerolinecolor": "white"
           },
           "zaxis": {
            "backgroundcolor": "#E5ECF6",
            "gridcolor": "white",
            "gridwidth": 2,
            "linecolor": "white",
            "showbackground": true,
            "ticks": "",
            "zerolinecolor": "white"
           }
          },
          "shapedefaults": {
           "line": {
            "color": "#2a3f5f"
           }
          },
          "ternary": {
           "aaxis": {
            "gridcolor": "white",
            "linecolor": "white",
            "ticks": ""
           },
           "baxis": {
            "gridcolor": "white",
            "linecolor": "white",
            "ticks": ""
           },
           "bgcolor": "#E5ECF6",
           "caxis": {
            "gridcolor": "white",
            "linecolor": "white",
            "ticks": ""
           }
          },
          "title": {
           "x": 0.05
          },
          "xaxis": {
           "automargin": true,
           "gridcolor": "white",
           "linecolor": "white",
           "ticks": "",
           "title": {
            "standoff": 15
           },
           "zerolinecolor": "white",
           "zerolinewidth": 2
          },
          "yaxis": {
           "automargin": true,
           "gridcolor": "white",
           "linecolor": "white",
           "ticks": "",
           "title": {
            "standoff": 15
           },
           "zerolinecolor": "white",
           "zerolinewidth": 2
          }
         }
        },
        "title": {
         "text": "Electricity production from fossil fuels, nuclear and renewables, World"
        },
        "updatemenus": [
         {
          "buttons": [
           {
            "args": [
             null,
             {
              "frame": {
               "duration": 500,
               "redraw": true
              },
              "fromcurrent": true,
              "mode": "immediate",
              "transition": {
               "duration": 500,
               "easing": "linear"
              }
             }
            ],
            "label": "&#9654;",
            "method": "animate"
           },
           {
            "args": [
             [
              null
             ],
             {
              "frame": {
               "duration": 0,
               "redraw": false
              },
              "fromcurrent": true,
              "mode": "immediate",
              "transition": {
               "duration": 0,
               "easing": "linear"
              }
             }
            ],
            "label": "&#9724;",
            "method": "animate"
           }
          ],
          "direction": "left",
          "pad": {
           "r": 10,
           "t": 70
          },
          "showactive": false,
          "type": "buttons",
          "x": 0.1,
          "xanchor": "right",
          "y": 0,
          "yanchor": "top"
         }
        ],
        "width": 800,
        "xaxis": {
         "anchor": "y",
         "domain": [
          0,
          1
         ],
         "title": {
          "text": "year"
         }
        },
        "yaxis": {
         "anchor": "x",
         "domain": [
          0,
          1
         ],
         "title": {
          "text": "value"
         }
        }
       }
      }
     },
     "metadata": {},
     "output_type": "display_data"
    }
   ],
   "source": [
    "fig = px.area(df_animation, x=\"year\", y=[ 'Renewable', 'Nuclear', 'Fossil'],\n",
    "              height = 500, width = 800,\n",
    "              animation_frame=\"frame\",\n",
    "            #   animation_group=\"Year\",\n",
    "              color_discrete_sequence=['rgb(120,0,100)', 'rgb(30,0,100)','rgb(0,0,0)'],\n",
    "              title = 'Electricity production from fossil fuels, nuclear and renewables, World')\n",
    "\n",
    "fig.layout.updatemenus[0].buttons[0]['args'][1]['frame']['redraw'] = True\n",
    "fig.show()"
   ]
  },
  {
   "cell_type": "markdown",
   "metadata": {},
   "source": [
    "Current Animation Limitations and Caveats\n",
    "Animations are designed to work well when each row of input is present across all animation frames, and when categorical values mapped to symbol, color and facet are constant across frames. Animations may be misleading or inconsistent if these constraints are not met.\n",
    "Although Plotly Express supports animation for many chart and map types, smooth inter-frame transitions are today only possible for scatter and bar\n",
    "Plotly Express will not automatically compute the union of all x/y/color ranges, so these must be specified manually to avoid scale jumps across frames"
   ]
  },
  {
   "cell_type": "code",
   "execution_count": 29,
   "metadata": {},
   "outputs": [
    {
     "data": {
      "application/vnd.plotly.v1+json": {
       "config": {
        "plotlyServerURL": "https://plot.ly"
       },
       "data": [
        {
         "hovertemplate": "variable=Renewable<br>frame=1994<br>year=%{x}<br>value=%{y}<extra></extra>",
         "legendgroup": "Renewable",
         "line": {
          "color": "#636efa",
          "dash": "solid"
         },
         "marker": {
          "symbol": "circle"
         },
         "mode": "lines",
         "name": "Renewable",
         "orientation": "v",
         "showlegend": true,
         "type": "scatter",
         "x": [
          "1985-01-01T00:00:00",
          "1986-01-01T00:00:00",
          "1987-01-01T00:00:00",
          "1988-01-01T00:00:00",
          "1989-01-01T00:00:00",
          "1990-01-01T00:00:00",
          "1991-01-01T00:00:00",
          "1992-01-01T00:00:00",
          "1993-01-01T00:00:00",
          "1994-01-01T00:00:00"
         ],
         "xaxis": "x",
         "y": [
          2058.0222,
          2091.6704,
          2124.9146,
          2192.8516,
          2195.1711,
          2279.8643,
          2335.3965,
          2344.6736,
          2483.061,
          2504.311
         ],
         "yaxis": "y"
        },
        {
         "hovertemplate": "variable=Nuclear<br>frame=1994<br>year=%{x}<br>value=%{y}<extra></extra>",
         "legendgroup": "Nuclear",
         "line": {
          "color": "#EF553B",
          "dash": "solid"
         },
         "marker": {
          "symbol": "circle"
         },
         "mode": "lines",
         "name": "Nuclear",
         "orientation": "v",
         "showlegend": true,
         "type": "scatter",
         "x": [
          "1985-01-01T00:00:00",
          "1986-01-01T00:00:00",
          "1987-01-01T00:00:00",
          "1988-01-01T00:00:00",
          "1989-01-01T00:00:00",
          "1990-01-01T00:00:00",
          "1991-01-01T00:00:00",
          "1992-01-01T00:00:00",
          "1993-01-01T00:00:00",
          "1994-01-01T00:00:00"
         ],
         "xaxis": "x",
         "y": [
          1488.9216,
          1594.7357,
          1734.7332,
          1891.2493,
          1945.0106,
          2000.596,
          2096.3098,
          2112.223,
          2184.9646,
          2225.9788
         ],
         "yaxis": "y"
        },
        {
         "hovertemplate": "variable=Fossil<br>frame=1994<br>year=%{x}<br>value=%{y}<extra></extra>",
         "legendgroup": "Fossil",
         "line": {
          "color": "#00cc96",
          "dash": "solid"
         },
         "marker": {
          "symbol": "circle"
         },
         "mode": "lines",
         "name": "Fossil",
         "orientation": "v",
         "showlegend": true,
         "type": "scatter",
         "x": [
          "1985-01-01T00:00:00",
          "1986-01-01T00:00:00",
          "1987-01-01T00:00:00",
          "1988-01-01T00:00:00",
          "1989-01-01T00:00:00",
          "1990-01-01T00:00:00",
          "1991-01-01T00:00:00",
          "1992-01-01T00:00:00",
          "1993-01-01T00:00:00",
          "1994-01-01T00:00:00"
         ],
         "xaxis": "x",
         "y": [
          6285.4736,
          6439.9746,
          6757.7617,
          6998.179,
          7455.736,
          7614.993,
          7722.592,
          7807.883,
          7858.686,
          8119.1626
         ],
         "yaxis": "y"
        }
       ],
       "frames": [
        {
         "data": [
          {
           "hovertemplate": "variable=Renewable<br>frame=1994<br>year=%{x}<br>value=%{y}<extra></extra>",
           "legendgroup": "Renewable",
           "line": {
            "color": "#636efa",
            "dash": "solid"
           },
           "marker": {
            "symbol": "circle"
           },
           "mode": "lines",
           "name": "Renewable",
           "orientation": "v",
           "showlegend": true,
           "type": "scatter",
           "x": [
            "1985-01-01T00:00:00",
            "1986-01-01T00:00:00",
            "1987-01-01T00:00:00",
            "1988-01-01T00:00:00",
            "1989-01-01T00:00:00",
            "1990-01-01T00:00:00",
            "1991-01-01T00:00:00",
            "1992-01-01T00:00:00",
            "1993-01-01T00:00:00",
            "1994-01-01T00:00:00"
           ],
           "xaxis": "x",
           "y": [
            2058.0222,
            2091.6704,
            2124.9146,
            2192.8516,
            2195.1711,
            2279.8643,
            2335.3965,
            2344.6736,
            2483.061,
            2504.311
           ],
           "yaxis": "y"
          },
          {
           "hovertemplate": "variable=Nuclear<br>frame=1994<br>year=%{x}<br>value=%{y}<extra></extra>",
           "legendgroup": "Nuclear",
           "line": {
            "color": "#EF553B",
            "dash": "solid"
           },
           "marker": {
            "symbol": "circle"
           },
           "mode": "lines",
           "name": "Nuclear",
           "orientation": "v",
           "showlegend": true,
           "type": "scatter",
           "x": [
            "1985-01-01T00:00:00",
            "1986-01-01T00:00:00",
            "1987-01-01T00:00:00",
            "1988-01-01T00:00:00",
            "1989-01-01T00:00:00",
            "1990-01-01T00:00:00",
            "1991-01-01T00:00:00",
            "1992-01-01T00:00:00",
            "1993-01-01T00:00:00",
            "1994-01-01T00:00:00"
           ],
           "xaxis": "x",
           "y": [
            1488.9216,
            1594.7357,
            1734.7332,
            1891.2493,
            1945.0106,
            2000.596,
            2096.3098,
            2112.223,
            2184.9646,
            2225.9788
           ],
           "yaxis": "y"
          },
          {
           "hovertemplate": "variable=Fossil<br>frame=1994<br>year=%{x}<br>value=%{y}<extra></extra>",
           "legendgroup": "Fossil",
           "line": {
            "color": "#00cc96",
            "dash": "solid"
           },
           "marker": {
            "symbol": "circle"
           },
           "mode": "lines",
           "name": "Fossil",
           "orientation": "v",
           "showlegend": true,
           "type": "scatter",
           "x": [
            "1985-01-01T00:00:00",
            "1986-01-01T00:00:00",
            "1987-01-01T00:00:00",
            "1988-01-01T00:00:00",
            "1989-01-01T00:00:00",
            "1990-01-01T00:00:00",
            "1991-01-01T00:00:00",
            "1992-01-01T00:00:00",
            "1993-01-01T00:00:00",
            "1994-01-01T00:00:00"
           ],
           "xaxis": "x",
           "y": [
            6285.4736,
            6439.9746,
            6757.7617,
            6998.179,
            7455.736,
            7614.993,
            7722.592,
            7807.883,
            7858.686,
            8119.1626
           ],
           "yaxis": "y"
          }
         ],
         "name": "1994"
        },
        {
         "data": [
          {
           "hovertemplate": "variable=Renewable<br>frame=1995<br>year=%{x}<br>value=%{y}<extra></extra>",
           "legendgroup": "Renewable",
           "line": {
            "color": "#636efa",
            "dash": "solid"
           },
           "marker": {
            "symbol": "circle"
           },
           "mode": "lines",
           "name": "Renewable",
           "orientation": "v",
           "showlegend": true,
           "type": "scatter",
           "x": [
            "1985-01-01T00:00:00",
            "1986-01-01T00:00:00",
            "1987-01-01T00:00:00",
            "1988-01-01T00:00:00",
            "1989-01-01T00:00:00",
            "1990-01-01T00:00:00",
            "1991-01-01T00:00:00",
            "1992-01-01T00:00:00",
            "1993-01-01T00:00:00",
            "1994-01-01T00:00:00",
            "1995-01-01T00:00:00"
           ],
           "xaxis": "x",
           "y": [
            2058.0222,
            2091.6704,
            2124.9146,
            2192.8516,
            2195.1711,
            2279.8643,
            2335.3965,
            2344.6736,
            2483.061,
            2504.311,
            2638.9414
           ],
           "yaxis": "y"
          },
          {
           "hovertemplate": "variable=Nuclear<br>frame=1995<br>year=%{x}<br>value=%{y}<extra></extra>",
           "legendgroup": "Nuclear",
           "line": {
            "color": "#EF553B",
            "dash": "solid"
           },
           "marker": {
            "symbol": "circle"
           },
           "mode": "lines",
           "name": "Nuclear",
           "orientation": "v",
           "showlegend": true,
           "type": "scatter",
           "x": [
            "1985-01-01T00:00:00",
            "1986-01-01T00:00:00",
            "1987-01-01T00:00:00",
            "1988-01-01T00:00:00",
            "1989-01-01T00:00:00",
            "1990-01-01T00:00:00",
            "1991-01-01T00:00:00",
            "1992-01-01T00:00:00",
            "1993-01-01T00:00:00",
            "1994-01-01T00:00:00",
            "1995-01-01T00:00:00"
           ],
           "xaxis": "x",
           "y": [
            1488.9216,
            1594.7357,
            1734.7332,
            1891.2493,
            1945.0106,
            2000.596,
            2096.3098,
            2112.223,
            2184.9646,
            2225.9788,
            2322.5298
           ],
           "yaxis": "y"
          },
          {
           "hovertemplate": "variable=Fossil<br>frame=1995<br>year=%{x}<br>value=%{y}<extra></extra>",
           "legendgroup": "Fossil",
           "line": {
            "color": "#00cc96",
            "dash": "solid"
           },
           "marker": {
            "symbol": "circle"
           },
           "mode": "lines",
           "name": "Fossil",
           "orientation": "v",
           "showlegend": true,
           "type": "scatter",
           "x": [
            "1985-01-01T00:00:00",
            "1986-01-01T00:00:00",
            "1987-01-01T00:00:00",
            "1988-01-01T00:00:00",
            "1989-01-01T00:00:00",
            "1990-01-01T00:00:00",
            "1991-01-01T00:00:00",
            "1992-01-01T00:00:00",
            "1993-01-01T00:00:00",
            "1994-01-01T00:00:00",
            "1995-01-01T00:00:00"
           ],
           "xaxis": "x",
           "y": [
            6285.4736,
            6439.9746,
            6757.7617,
            6998.179,
            7455.736,
            7614.993,
            7722.592,
            7807.883,
            7858.686,
            8119.1626,
            8335.322
           ],
           "yaxis": "y"
          }
         ],
         "name": "1995"
        },
        {
         "data": [
          {
           "hovertemplate": "variable=Renewable<br>frame=1996<br>year=%{x}<br>value=%{y}<extra></extra>",
           "legendgroup": "Renewable",
           "line": {
            "color": "#636efa",
            "dash": "solid"
           },
           "marker": {
            "symbol": "circle"
           },
           "mode": "lines",
           "name": "Renewable",
           "orientation": "v",
           "showlegend": true,
           "type": "scatter",
           "x": [
            "1985-01-01T00:00:00",
            "1986-01-01T00:00:00",
            "1987-01-01T00:00:00",
            "1988-01-01T00:00:00",
            "1989-01-01T00:00:00",
            "1990-01-01T00:00:00",
            "1991-01-01T00:00:00",
            "1992-01-01T00:00:00",
            "1993-01-01T00:00:00",
            "1994-01-01T00:00:00",
            "1995-01-01T00:00:00",
            "1996-01-01T00:00:00"
           ],
           "xaxis": "x",
           "y": [
            2058.0222,
            2091.6704,
            2124.9146,
            2192.8516,
            2195.1711,
            2279.8643,
            2335.3965,
            2344.6736,
            2483.061,
            2504.311,
            2638.9414,
            2677.4333
           ],
           "yaxis": "y"
          },
          {
           "hovertemplate": "variable=Nuclear<br>frame=1996<br>year=%{x}<br>value=%{y}<extra></extra>",
           "legendgroup": "Nuclear",
           "line": {
            "color": "#EF553B",
            "dash": "solid"
           },
           "marker": {
            "symbol": "circle"
           },
           "mode": "lines",
           "name": "Nuclear",
           "orientation": "v",
           "showlegend": true,
           "type": "scatter",
           "x": [
            "1985-01-01T00:00:00",
            "1986-01-01T00:00:00",
            "1987-01-01T00:00:00",
            "1988-01-01T00:00:00",
            "1989-01-01T00:00:00",
            "1990-01-01T00:00:00",
            "1991-01-01T00:00:00",
            "1992-01-01T00:00:00",
            "1993-01-01T00:00:00",
            "1994-01-01T00:00:00",
            "1995-01-01T00:00:00",
            "1996-01-01T00:00:00"
           ],
           "xaxis": "x",
           "y": [
            1488.9216,
            1594.7357,
            1734.7332,
            1891.2493,
            1945.0106,
            2000.596,
            2096.3098,
            2112.223,
            2184.9646,
            2225.9788,
            2322.5298,
            2406.615
           ],
           "yaxis": "y"
          },
          {
           "hovertemplate": "variable=Fossil<br>frame=1996<br>year=%{x}<br>value=%{y}<extra></extra>",
           "legendgroup": "Fossil",
           "line": {
            "color": "#00cc96",
            "dash": "solid"
           },
           "marker": {
            "symbol": "circle"
           },
           "mode": "lines",
           "name": "Fossil",
           "orientation": "v",
           "showlegend": true,
           "type": "scatter",
           "x": [
            "1985-01-01T00:00:00",
            "1986-01-01T00:00:00",
            "1987-01-01T00:00:00",
            "1988-01-01T00:00:00",
            "1989-01-01T00:00:00",
            "1990-01-01T00:00:00",
            "1991-01-01T00:00:00",
            "1992-01-01T00:00:00",
            "1993-01-01T00:00:00",
            "1994-01-01T00:00:00",
            "1995-01-01T00:00:00",
            "1996-01-01T00:00:00"
           ],
           "xaxis": "x",
           "y": [
            6285.4736,
            6439.9746,
            6757.7617,
            6998.179,
            7455.736,
            7614.993,
            7722.592,
            7807.883,
            7858.686,
            8119.1626,
            8335.322,
            8627.022
           ],
           "yaxis": "y"
          }
         ],
         "name": "1996"
        },
        {
         "data": [
          {
           "hovertemplate": "variable=Renewable<br>frame=1997<br>year=%{x}<br>value=%{y}<extra></extra>",
           "legendgroup": "Renewable",
           "line": {
            "color": "#636efa",
            "dash": "solid"
           },
           "marker": {
            "symbol": "circle"
           },
           "mode": "lines",
           "name": "Renewable",
           "orientation": "v",
           "showlegend": true,
           "type": "scatter",
           "x": [
            "1985-01-01T00:00:00",
            "1986-01-01T00:00:00",
            "1987-01-01T00:00:00",
            "1988-01-01T00:00:00",
            "1989-01-01T00:00:00",
            "1990-01-01T00:00:00",
            "1991-01-01T00:00:00",
            "1992-01-01T00:00:00",
            "1993-01-01T00:00:00",
            "1994-01-01T00:00:00",
            "1995-01-01T00:00:00",
            "1996-01-01T00:00:00",
            "1997-01-01T00:00:00"
           ],
           "xaxis": "x",
           "y": [
            2058.0222,
            2091.6704,
            2124.9146,
            2192.8516,
            2195.1711,
            2279.8643,
            2335.3965,
            2344.6736,
            2483.061,
            2504.311,
            2638.9414,
            2677.4333,
            2735.5457
           ],
           "yaxis": "y"
          },
          {
           "hovertemplate": "variable=Nuclear<br>frame=1997<br>year=%{x}<br>value=%{y}<extra></extra>",
           "legendgroup": "Nuclear",
           "line": {
            "color": "#EF553B",
            "dash": "solid"
           },
           "marker": {
            "symbol": "circle"
           },
           "mode": "lines",
           "name": "Nuclear",
           "orientation": "v",
           "showlegend": true,
           "type": "scatter",
           "x": [
            "1985-01-01T00:00:00",
            "1986-01-01T00:00:00",
            "1987-01-01T00:00:00",
            "1988-01-01T00:00:00",
            "1989-01-01T00:00:00",
            "1990-01-01T00:00:00",
            "1991-01-01T00:00:00",
            "1992-01-01T00:00:00",
            "1993-01-01T00:00:00",
            "1994-01-01T00:00:00",
            "1995-01-01T00:00:00",
            "1996-01-01T00:00:00",
            "1997-01-01T00:00:00"
           ],
           "xaxis": "x",
           "y": [
            1488.9216,
            1594.7357,
            1734.7332,
            1891.2493,
            1945.0106,
            2000.596,
            2096.3098,
            2112.223,
            2184.9646,
            2225.9788,
            2322.5298,
            2406.615,
            2390.0642
           ],
           "yaxis": "y"
          },
          {
           "hovertemplate": "variable=Fossil<br>frame=1997<br>year=%{x}<br>value=%{y}<extra></extra>",
           "legendgroup": "Fossil",
           "line": {
            "color": "#00cc96",
            "dash": "solid"
           },
           "marker": {
            "symbol": "circle"
           },
           "mode": "lines",
           "name": "Fossil",
           "orientation": "v",
           "showlegend": true,
           "type": "scatter",
           "x": [
            "1985-01-01T00:00:00",
            "1986-01-01T00:00:00",
            "1987-01-01T00:00:00",
            "1988-01-01T00:00:00",
            "1989-01-01T00:00:00",
            "1990-01-01T00:00:00",
            "1991-01-01T00:00:00",
            "1992-01-01T00:00:00",
            "1993-01-01T00:00:00",
            "1994-01-01T00:00:00",
            "1995-01-01T00:00:00",
            "1996-01-01T00:00:00",
            "1997-01-01T00:00:00"
           ],
           "xaxis": "x",
           "y": [
            6285.4736,
            6439.9746,
            6757.7617,
            6998.179,
            7455.736,
            7614.993,
            7722.592,
            7807.883,
            7858.686,
            8119.1626,
            8335.322,
            8627.022,
            8911.184
           ],
           "yaxis": "y"
          }
         ],
         "name": "1997"
        },
        {
         "data": [
          {
           "hovertemplate": "variable=Renewable<br>frame=1998<br>year=%{x}<br>value=%{y}<extra></extra>",
           "legendgroup": "Renewable",
           "line": {
            "color": "#636efa",
            "dash": "solid"
           },
           "marker": {
            "symbol": "circle"
           },
           "mode": "lines",
           "name": "Renewable",
           "orientation": "v",
           "showlegend": true,
           "type": "scatter",
           "x": [
            "1985-01-01T00:00:00",
            "1986-01-01T00:00:00",
            "1987-01-01T00:00:00",
            "1988-01-01T00:00:00",
            "1989-01-01T00:00:00",
            "1990-01-01T00:00:00",
            "1991-01-01T00:00:00",
            "1992-01-01T00:00:00",
            "1993-01-01T00:00:00",
            "1994-01-01T00:00:00",
            "1995-01-01T00:00:00",
            "1996-01-01T00:00:00",
            "1997-01-01T00:00:00",
            "1998-01-01T00:00:00"
           ],
           "xaxis": "x",
           "y": [
            2058.0222,
            2091.6704,
            2124.9146,
            2192.8516,
            2195.1711,
            2279.8643,
            2335.3965,
            2344.6736,
            2483.061,
            2504.311,
            2638.9414,
            2677.4333,
            2735.5457,
            2765.892
           ],
           "yaxis": "y"
          },
          {
           "hovertemplate": "variable=Nuclear<br>frame=1998<br>year=%{x}<br>value=%{y}<extra></extra>",
           "legendgroup": "Nuclear",
           "line": {
            "color": "#EF553B",
            "dash": "solid"
           },
           "marker": {
            "symbol": "circle"
           },
           "mode": "lines",
           "name": "Nuclear",
           "orientation": "v",
           "showlegend": true,
           "type": "scatter",
           "x": [
            "1985-01-01T00:00:00",
            "1986-01-01T00:00:00",
            "1987-01-01T00:00:00",
            "1988-01-01T00:00:00",
            "1989-01-01T00:00:00",
            "1990-01-01T00:00:00",
            "1991-01-01T00:00:00",
            "1992-01-01T00:00:00",
            "1993-01-01T00:00:00",
            "1994-01-01T00:00:00",
            "1995-01-01T00:00:00",
            "1996-01-01T00:00:00",
            "1997-01-01T00:00:00",
            "1998-01-01T00:00:00"
           ],
           "xaxis": "x",
           "y": [
            1488.9216,
            1594.7357,
            1734.7332,
            1891.2493,
            1945.0106,
            2000.596,
            2096.3098,
            2112.223,
            2184.9646,
            2225.9788,
            2322.5298,
            2406.615,
            2390.0642,
            2431.1948
           ],
           "yaxis": "y"
          },
          {
           "hovertemplate": "variable=Fossil<br>frame=1998<br>year=%{x}<br>value=%{y}<extra></extra>",
           "legendgroup": "Fossil",
           "line": {
            "color": "#00cc96",
            "dash": "solid"
           },
           "marker": {
            "symbol": "circle"
           },
           "mode": "lines",
           "name": "Fossil",
           "orientation": "v",
           "showlegend": true,
           "type": "scatter",
           "x": [
            "1985-01-01T00:00:00",
            "1986-01-01T00:00:00",
            "1987-01-01T00:00:00",
            "1988-01-01T00:00:00",
            "1989-01-01T00:00:00",
            "1990-01-01T00:00:00",
            "1991-01-01T00:00:00",
            "1992-01-01T00:00:00",
            "1993-01-01T00:00:00",
            "1994-01-01T00:00:00",
            "1995-01-01T00:00:00",
            "1996-01-01T00:00:00",
            "1997-01-01T00:00:00",
            "1998-01-01T00:00:00"
           ],
           "xaxis": "x",
           "y": [
            6285.4736,
            6439.9746,
            6757.7617,
            6998.179,
            7455.736,
            7614.993,
            7722.592,
            7807.883,
            7858.686,
            8119.1626,
            8335.322,
            8627.022,
            8911.184,
            9214.535
           ],
           "yaxis": "y"
          }
         ],
         "name": "1998"
        },
        {
         "data": [
          {
           "hovertemplate": "variable=Renewable<br>frame=1999<br>year=%{x}<br>value=%{y}<extra></extra>",
           "legendgroup": "Renewable",
           "line": {
            "color": "#636efa",
            "dash": "solid"
           },
           "marker": {
            "symbol": "circle"
           },
           "mode": "lines",
           "name": "Renewable",
           "orientation": "v",
           "showlegend": true,
           "type": "scatter",
           "x": [
            "1985-01-01T00:00:00",
            "1986-01-01T00:00:00",
            "1987-01-01T00:00:00",
            "1988-01-01T00:00:00",
            "1989-01-01T00:00:00",
            "1990-01-01T00:00:00",
            "1991-01-01T00:00:00",
            "1992-01-01T00:00:00",
            "1993-01-01T00:00:00",
            "1994-01-01T00:00:00",
            "1995-01-01T00:00:00",
            "1996-01-01T00:00:00",
            "1997-01-01T00:00:00",
            "1998-01-01T00:00:00",
            "1999-01-01T00:00:00"
           ],
           "xaxis": "x",
           "y": [
            2058.0222,
            2091.6704,
            2124.9146,
            2192.8516,
            2195.1711,
            2279.8643,
            2335.3965,
            2344.6736,
            2483.061,
            2504.311,
            2638.9414,
            2677.4333,
            2735.5457,
            2765.892,
            2799.2485
           ],
           "yaxis": "y"
          },
          {
           "hovertemplate": "variable=Nuclear<br>frame=1999<br>year=%{x}<br>value=%{y}<extra></extra>",
           "legendgroup": "Nuclear",
           "line": {
            "color": "#EF553B",
            "dash": "solid"
           },
           "marker": {
            "symbol": "circle"
           },
           "mode": "lines",
           "name": "Nuclear",
           "orientation": "v",
           "showlegend": true,
           "type": "scatter",
           "x": [
            "1985-01-01T00:00:00",
            "1986-01-01T00:00:00",
            "1987-01-01T00:00:00",
            "1988-01-01T00:00:00",
            "1989-01-01T00:00:00",
            "1990-01-01T00:00:00",
            "1991-01-01T00:00:00",
            "1992-01-01T00:00:00",
            "1993-01-01T00:00:00",
            "1994-01-01T00:00:00",
            "1995-01-01T00:00:00",
            "1996-01-01T00:00:00",
            "1997-01-01T00:00:00",
            "1998-01-01T00:00:00",
            "1999-01-01T00:00:00"
           ],
           "xaxis": "x",
           "y": [
            1488.9216,
            1594.7357,
            1734.7332,
            1891.2493,
            1945.0106,
            2000.596,
            2096.3098,
            2112.223,
            2184.9646,
            2225.9788,
            2322.5298,
            2406.615,
            2390.0642,
            2431.1948,
            2523.7056
           ],
           "yaxis": "y"
          },
          {
           "hovertemplate": "variable=Fossil<br>frame=1999<br>year=%{x}<br>value=%{y}<extra></extra>",
           "legendgroup": "Fossil",
           "line": {
            "color": "#00cc96",
            "dash": "solid"
           },
           "marker": {
            "symbol": "circle"
           },
           "mode": "lines",
           "name": "Fossil",
           "orientation": "v",
           "showlegend": true,
           "type": "scatter",
           "x": [
            "1985-01-01T00:00:00",
            "1986-01-01T00:00:00",
            "1987-01-01T00:00:00",
            "1988-01-01T00:00:00",
            "1989-01-01T00:00:00",
            "1990-01-01T00:00:00",
            "1991-01-01T00:00:00",
            "1992-01-01T00:00:00",
            "1993-01-01T00:00:00",
            "1994-01-01T00:00:00",
            "1995-01-01T00:00:00",
            "1996-01-01T00:00:00",
            "1997-01-01T00:00:00",
            "1998-01-01T00:00:00",
            "1999-01-01T00:00:00"
           ],
           "xaxis": "x",
           "y": [
            6285.4736,
            6439.9746,
            6757.7617,
            6998.179,
            7455.736,
            7614.993,
            7722.592,
            7807.883,
            7858.686,
            8119.1626,
            8335.322,
            8627.022,
            8911.184,
            9214.535,
            9498.733
           ],
           "yaxis": "y"
          }
         ],
         "name": "1999"
        },
        {
         "data": [
          {
           "hovertemplate": "variable=Renewable<br>frame=2000<br>year=%{x}<br>value=%{y}<extra></extra>",
           "legendgroup": "Renewable",
           "line": {
            "color": "#636efa",
            "dash": "solid"
           },
           "marker": {
            "symbol": "circle"
           },
           "mode": "lines",
           "name": "Renewable",
           "orientation": "v",
           "showlegend": true,
           "type": "scatter",
           "x": [
            "1985-01-01T00:00:00",
            "1986-01-01T00:00:00",
            "1987-01-01T00:00:00",
            "1988-01-01T00:00:00",
            "1989-01-01T00:00:00",
            "1990-01-01T00:00:00",
            "1991-01-01T00:00:00",
            "1992-01-01T00:00:00",
            "1993-01-01T00:00:00",
            "1994-01-01T00:00:00",
            "1995-01-01T00:00:00",
            "1996-01-01T00:00:00",
            "1997-01-01T00:00:00",
            "1998-01-01T00:00:00",
            "1999-01-01T00:00:00",
            "2000-01-01T00:00:00"
           ],
           "xaxis": "x",
           "y": [
            2058.0222,
            2091.6704,
            2124.9146,
            2192.8516,
            2195.1711,
            2279.8643,
            2335.3965,
            2344.6736,
            2483.061,
            2504.311,
            2638.9414,
            2677.4333,
            2735.5457,
            2765.892,
            2799.2485,
            2858.4
           ],
           "yaxis": "y"
          },
          {
           "hovertemplate": "variable=Nuclear<br>frame=2000<br>year=%{x}<br>value=%{y}<extra></extra>",
           "legendgroup": "Nuclear",
           "line": {
            "color": "#EF553B",
            "dash": "solid"
           },
           "marker": {
            "symbol": "circle"
           },
           "mode": "lines",
           "name": "Nuclear",
           "orientation": "v",
           "showlegend": true,
           "type": "scatter",
           "x": [
            "1985-01-01T00:00:00",
            "1986-01-01T00:00:00",
            "1987-01-01T00:00:00",
            "1988-01-01T00:00:00",
            "1989-01-01T00:00:00",
            "1990-01-01T00:00:00",
            "1991-01-01T00:00:00",
            "1992-01-01T00:00:00",
            "1993-01-01T00:00:00",
            "1994-01-01T00:00:00",
            "1995-01-01T00:00:00",
            "1996-01-01T00:00:00",
            "1997-01-01T00:00:00",
            "1998-01-01T00:00:00",
            "1999-01-01T00:00:00",
            "2000-01-01T00:00:00"
           ],
           "xaxis": "x",
           "y": [
            1488.9216,
            1594.7357,
            1734.7332,
            1891.2493,
            1945.0106,
            2000.596,
            2096.3098,
            2112.223,
            2184.9646,
            2225.9788,
            2322.5298,
            2406.615,
            2390.0642,
            2431.1948,
            2523.7056,
            2540.46
           ],
           "yaxis": "y"
          },
          {
           "hovertemplate": "variable=Fossil<br>frame=2000<br>year=%{x}<br>value=%{y}<extra></extra>",
           "legendgroup": "Fossil",
           "line": {
            "color": "#00cc96",
            "dash": "solid"
           },
           "marker": {
            "symbol": "circle"
           },
           "mode": "lines",
           "name": "Fossil",
           "orientation": "v",
           "showlegend": true,
           "type": "scatter",
           "x": [
            "1985-01-01T00:00:00",
            "1986-01-01T00:00:00",
            "1987-01-01T00:00:00",
            "1988-01-01T00:00:00",
            "1989-01-01T00:00:00",
            "1990-01-01T00:00:00",
            "1991-01-01T00:00:00",
            "1992-01-01T00:00:00",
            "1993-01-01T00:00:00",
            "1994-01-01T00:00:00",
            "1995-01-01T00:00:00",
            "1996-01-01T00:00:00",
            "1997-01-01T00:00:00",
            "1998-01-01T00:00:00",
            "1999-01-01T00:00:00",
            "2000-01-01T00:00:00"
           ],
           "xaxis": "x",
           "y": [
            6285.4736,
            6439.9746,
            6757.7617,
            6998.179,
            7455.736,
            7614.993,
            7722.592,
            7807.883,
            7858.686,
            8119.1626,
            8335.322,
            8627.022,
            8911.184,
            9214.535,
            9498.733,
            9878.1
           ],
           "yaxis": "y"
          }
         ],
         "name": "2000"
        },
        {
         "data": [
          {
           "hovertemplate": "variable=Renewable<br>frame=2001<br>year=%{x}<br>value=%{y}<extra></extra>",
           "legendgroup": "Renewable",
           "line": {
            "color": "#636efa",
            "dash": "solid"
           },
           "marker": {
            "symbol": "circle"
           },
           "mode": "lines",
           "name": "Renewable",
           "orientation": "v",
           "showlegend": true,
           "type": "scatter",
           "x": [
            "1985-01-01T00:00:00",
            "1986-01-01T00:00:00",
            "1987-01-01T00:00:00",
            "1988-01-01T00:00:00",
            "1989-01-01T00:00:00",
            "1990-01-01T00:00:00",
            "1991-01-01T00:00:00",
            "1992-01-01T00:00:00",
            "1993-01-01T00:00:00",
            "1994-01-01T00:00:00",
            "1995-01-01T00:00:00",
            "1996-01-01T00:00:00",
            "1997-01-01T00:00:00",
            "1998-01-01T00:00:00",
            "1999-01-01T00:00:00",
            "2000-01-01T00:00:00",
            "2001-01-01T00:00:00"
           ],
           "xaxis": "x",
           "y": [
            2058.0222,
            2091.6704,
            2124.9146,
            2192.8516,
            2195.1711,
            2279.8643,
            2335.3965,
            2344.6736,
            2483.061,
            2504.311,
            2638.9414,
            2677.4333,
            2735.5457,
            2765.892,
            2799.2485,
            2858.4,
            2795.97
           ],
           "yaxis": "y"
          },
          {
           "hovertemplate": "variable=Nuclear<br>frame=2001<br>year=%{x}<br>value=%{y}<extra></extra>",
           "legendgroup": "Nuclear",
           "line": {
            "color": "#EF553B",
            "dash": "solid"
           },
           "marker": {
            "symbol": "circle"
           },
           "mode": "lines",
           "name": "Nuclear",
           "orientation": "v",
           "showlegend": true,
           "type": "scatter",
           "x": [
            "1985-01-01T00:00:00",
            "1986-01-01T00:00:00",
            "1987-01-01T00:00:00",
            "1988-01-01T00:00:00",
            "1989-01-01T00:00:00",
            "1990-01-01T00:00:00",
            "1991-01-01T00:00:00",
            "1992-01-01T00:00:00",
            "1993-01-01T00:00:00",
            "1994-01-01T00:00:00",
            "1995-01-01T00:00:00",
            "1996-01-01T00:00:00",
            "1997-01-01T00:00:00",
            "1998-01-01T00:00:00",
            "1999-01-01T00:00:00",
            "2000-01-01T00:00:00",
            "2001-01-01T00:00:00"
           ],
           "xaxis": "x",
           "y": [
            1488.9216,
            1594.7357,
            1734.7332,
            1891.2493,
            1945.0106,
            2000.596,
            2096.3098,
            2112.223,
            2184.9646,
            2225.9788,
            2322.5298,
            2406.615,
            2390.0642,
            2431.1948,
            2523.7056,
            2540.46,
            2613.17
           ],
           "yaxis": "y"
          },
          {
           "hovertemplate": "variable=Fossil<br>frame=2001<br>year=%{x}<br>value=%{y}<extra></extra>",
           "legendgroup": "Fossil",
           "line": {
            "color": "#00cc96",
            "dash": "solid"
           },
           "marker": {
            "symbol": "circle"
           },
           "mode": "lines",
           "name": "Fossil",
           "orientation": "v",
           "showlegend": true,
           "type": "scatter",
           "x": [
            "1985-01-01T00:00:00",
            "1986-01-01T00:00:00",
            "1987-01-01T00:00:00",
            "1988-01-01T00:00:00",
            "1989-01-01T00:00:00",
            "1990-01-01T00:00:00",
            "1991-01-01T00:00:00",
            "1992-01-01T00:00:00",
            "1993-01-01T00:00:00",
            "1994-01-01T00:00:00",
            "1995-01-01T00:00:00",
            "1996-01-01T00:00:00",
            "1997-01-01T00:00:00",
            "1998-01-01T00:00:00",
            "1999-01-01T00:00:00",
            "2000-01-01T00:00:00",
            "2001-01-01T00:00:00"
           ],
           "xaxis": "x",
           "y": [
            6285.4736,
            6439.9746,
            6757.7617,
            6998.179,
            7455.736,
            7614.993,
            7722.592,
            7807.883,
            7858.686,
            8119.1626,
            8335.322,
            8627.022,
            8911.184,
            9214.535,
            9498.733,
            9878.1,
            10090.26
           ],
           "yaxis": "y"
          }
         ],
         "name": "2001"
        },
        {
         "data": [
          {
           "hovertemplate": "variable=Renewable<br>frame=2002<br>year=%{x}<br>value=%{y}<extra></extra>",
           "legendgroup": "Renewable",
           "line": {
            "color": "#636efa",
            "dash": "solid"
           },
           "marker": {
            "symbol": "circle"
           },
           "mode": "lines",
           "name": "Renewable",
           "orientation": "v",
           "showlegend": true,
           "type": "scatter",
           "x": [
            "1985-01-01T00:00:00",
            "1986-01-01T00:00:00",
            "1987-01-01T00:00:00",
            "1988-01-01T00:00:00",
            "1989-01-01T00:00:00",
            "1990-01-01T00:00:00",
            "1991-01-01T00:00:00",
            "1992-01-01T00:00:00",
            "1993-01-01T00:00:00",
            "1994-01-01T00:00:00",
            "1995-01-01T00:00:00",
            "1996-01-01T00:00:00",
            "1997-01-01T00:00:00",
            "1998-01-01T00:00:00",
            "1999-01-01T00:00:00",
            "2000-01-01T00:00:00",
            "2001-01-01T00:00:00",
            "2002-01-01T00:00:00"
           ],
           "xaxis": "x",
           "y": [
            2058.0222,
            2091.6704,
            2124.9146,
            2192.8516,
            2195.1711,
            2279.8643,
            2335.3965,
            2344.6736,
            2483.061,
            2504.311,
            2638.9414,
            2677.4333,
            2735.5457,
            2765.892,
            2799.2485,
            2858.4,
            2795.97,
            2873.26
           ],
           "yaxis": "y"
          },
          {
           "hovertemplate": "variable=Nuclear<br>frame=2002<br>year=%{x}<br>value=%{y}<extra></extra>",
           "legendgroup": "Nuclear",
           "line": {
            "color": "#EF553B",
            "dash": "solid"
           },
           "marker": {
            "symbol": "circle"
           },
           "mode": "lines",
           "name": "Nuclear",
           "orientation": "v",
           "showlegend": true,
           "type": "scatter",
           "x": [
            "1985-01-01T00:00:00",
            "1986-01-01T00:00:00",
            "1987-01-01T00:00:00",
            "1988-01-01T00:00:00",
            "1989-01-01T00:00:00",
            "1990-01-01T00:00:00",
            "1991-01-01T00:00:00",
            "1992-01-01T00:00:00",
            "1993-01-01T00:00:00",
            "1994-01-01T00:00:00",
            "1995-01-01T00:00:00",
            "1996-01-01T00:00:00",
            "1997-01-01T00:00:00",
            "1998-01-01T00:00:00",
            "1999-01-01T00:00:00",
            "2000-01-01T00:00:00",
            "2001-01-01T00:00:00",
            "2002-01-01T00:00:00"
           ],
           "xaxis": "x",
           "y": [
            1488.9216,
            1594.7357,
            1734.7332,
            1891.2493,
            1945.0106,
            2000.596,
            2096.3098,
            2112.223,
            2184.9646,
            2225.9788,
            2322.5298,
            2406.615,
            2390.0642,
            2431.1948,
            2523.7056,
            2540.46,
            2613.17,
            2654.78
           ],
           "yaxis": "y"
          },
          {
           "hovertemplate": "variable=Fossil<br>frame=2002<br>year=%{x}<br>value=%{y}<extra></extra>",
           "legendgroup": "Fossil",
           "line": {
            "color": "#00cc96",
            "dash": "solid"
           },
           "marker": {
            "symbol": "circle"
           },
           "mode": "lines",
           "name": "Fossil",
           "orientation": "v",
           "showlegend": true,
           "type": "scatter",
           "x": [
            "1985-01-01T00:00:00",
            "1986-01-01T00:00:00",
            "1987-01-01T00:00:00",
            "1988-01-01T00:00:00",
            "1989-01-01T00:00:00",
            "1990-01-01T00:00:00",
            "1991-01-01T00:00:00",
            "1992-01-01T00:00:00",
            "1993-01-01T00:00:00",
            "1994-01-01T00:00:00",
            "1995-01-01T00:00:00",
            "1996-01-01T00:00:00",
            "1997-01-01T00:00:00",
            "1998-01-01T00:00:00",
            "1999-01-01T00:00:00",
            "2000-01-01T00:00:00",
            "2001-01-01T00:00:00",
            "2002-01-01T00:00:00"
           ],
           "xaxis": "x",
           "y": [
            6285.4736,
            6439.9746,
            6757.7617,
            6998.179,
            7455.736,
            7614.993,
            7722.592,
            7807.883,
            7858.686,
            8119.1626,
            8335.322,
            8627.022,
            8911.184,
            9214.535,
            9498.733,
            9878.1,
            10090.26,
            10520.97
           ],
           "yaxis": "y"
          }
         ],
         "name": "2002"
        },
        {
         "data": [
          {
           "hovertemplate": "variable=Renewable<br>frame=2003<br>year=%{x}<br>value=%{y}<extra></extra>",
           "legendgroup": "Renewable",
           "line": {
            "color": "#636efa",
            "dash": "solid"
           },
           "marker": {
            "symbol": "circle"
           },
           "mode": "lines",
           "name": "Renewable",
           "orientation": "v",
           "showlegend": true,
           "type": "scatter",
           "x": [
            "1985-01-01T00:00:00",
            "1986-01-01T00:00:00",
            "1987-01-01T00:00:00",
            "1988-01-01T00:00:00",
            "1989-01-01T00:00:00",
            "1990-01-01T00:00:00",
            "1991-01-01T00:00:00",
            "1992-01-01T00:00:00",
            "1993-01-01T00:00:00",
            "1994-01-01T00:00:00",
            "1995-01-01T00:00:00",
            "1996-01-01T00:00:00",
            "1997-01-01T00:00:00",
            "1998-01-01T00:00:00",
            "1999-01-01T00:00:00",
            "2000-01-01T00:00:00",
            "2001-01-01T00:00:00",
            "2002-01-01T00:00:00",
            "2003-01-01T00:00:00"
           ],
           "xaxis": "x",
           "y": [
            2058.0222,
            2091.6704,
            2124.9146,
            2192.8516,
            2195.1711,
            2279.8643,
            2335.3965,
            2344.6736,
            2483.061,
            2504.311,
            2638.9414,
            2677.4333,
            2735.5457,
            2765.892,
            2799.2485,
            2858.4,
            2795.97,
            2873.26,
            2899.25
           ],
           "yaxis": "y"
          },
          {
           "hovertemplate": "variable=Nuclear<br>frame=2003<br>year=%{x}<br>value=%{y}<extra></extra>",
           "legendgroup": "Nuclear",
           "line": {
            "color": "#EF553B",
            "dash": "solid"
           },
           "marker": {
            "symbol": "circle"
           },
           "mode": "lines",
           "name": "Nuclear",
           "orientation": "v",
           "showlegend": true,
           "type": "scatter",
           "x": [
            "1985-01-01T00:00:00",
            "1986-01-01T00:00:00",
            "1987-01-01T00:00:00",
            "1988-01-01T00:00:00",
            "1989-01-01T00:00:00",
            "1990-01-01T00:00:00",
            "1991-01-01T00:00:00",
            "1992-01-01T00:00:00",
            "1993-01-01T00:00:00",
            "1994-01-01T00:00:00",
            "1995-01-01T00:00:00",
            "1996-01-01T00:00:00",
            "1997-01-01T00:00:00",
            "1998-01-01T00:00:00",
            "1999-01-01T00:00:00",
            "2000-01-01T00:00:00",
            "2001-01-01T00:00:00",
            "2002-01-01T00:00:00",
            "2003-01-01T00:00:00"
           ],
           "xaxis": "x",
           "y": [
            1488.9216,
            1594.7357,
            1734.7332,
            1891.2493,
            1945.0106,
            2000.596,
            2096.3098,
            2112.223,
            2184.9646,
            2225.9788,
            2322.5298,
            2406.615,
            2390.0642,
            2431.1948,
            2523.7056,
            2540.46,
            2613.17,
            2654.78,
            2601.05
           ],
           "yaxis": "y"
          },
          {
           "hovertemplate": "variable=Fossil<br>frame=2003<br>year=%{x}<br>value=%{y}<extra></extra>",
           "legendgroup": "Fossil",
           "line": {
            "color": "#00cc96",
            "dash": "solid"
           },
           "marker": {
            "symbol": "circle"
           },
           "mode": "lines",
           "name": "Fossil",
           "orientation": "v",
           "showlegend": true,
           "type": "scatter",
           "x": [
            "1985-01-01T00:00:00",
            "1986-01-01T00:00:00",
            "1987-01-01T00:00:00",
            "1988-01-01T00:00:00",
            "1989-01-01T00:00:00",
            "1990-01-01T00:00:00",
            "1991-01-01T00:00:00",
            "1992-01-01T00:00:00",
            "1993-01-01T00:00:00",
            "1994-01-01T00:00:00",
            "1995-01-01T00:00:00",
            "1996-01-01T00:00:00",
            "1997-01-01T00:00:00",
            "1998-01-01T00:00:00",
            "1999-01-01T00:00:00",
            "2000-01-01T00:00:00",
            "2001-01-01T00:00:00",
            "2002-01-01T00:00:00",
            "2003-01-01T00:00:00"
           ],
           "xaxis": "x",
           "y": [
            6285.4736,
            6439.9746,
            6757.7617,
            6998.179,
            7455.736,
            7614.993,
            7722.592,
            7807.883,
            7858.686,
            8119.1626,
            8335.322,
            8627.022,
            8911.184,
            9214.535,
            9498.733,
            9878.1,
            10090.26,
            10520.97,
            11126.3
           ],
           "yaxis": "y"
          }
         ],
         "name": "2003"
        },
        {
         "data": [
          {
           "hovertemplate": "variable=Renewable<br>frame=2004<br>year=%{x}<br>value=%{y}<extra></extra>",
           "legendgroup": "Renewable",
           "line": {
            "color": "#636efa",
            "dash": "solid"
           },
           "marker": {
            "symbol": "circle"
           },
           "mode": "lines",
           "name": "Renewable",
           "orientation": "v",
           "showlegend": true,
           "type": "scatter",
           "x": [
            "1985-01-01T00:00:00",
            "1986-01-01T00:00:00",
            "1987-01-01T00:00:00",
            "1988-01-01T00:00:00",
            "1989-01-01T00:00:00",
            "1990-01-01T00:00:00",
            "1991-01-01T00:00:00",
            "1992-01-01T00:00:00",
            "1993-01-01T00:00:00",
            "1994-01-01T00:00:00",
            "1995-01-01T00:00:00",
            "1996-01-01T00:00:00",
            "1997-01-01T00:00:00",
            "1998-01-01T00:00:00",
            "1999-01-01T00:00:00",
            "2000-01-01T00:00:00",
            "2001-01-01T00:00:00",
            "2002-01-01T00:00:00",
            "2003-01-01T00:00:00",
            "2004-01-01T00:00:00"
           ],
           "xaxis": "x",
           "y": [
            2058.0222,
            2091.6704,
            2124.9146,
            2192.8516,
            2195.1711,
            2279.8643,
            2335.3965,
            2344.6736,
            2483.061,
            2504.311,
            2638.9414,
            2677.4333,
            2735.5457,
            2765.892,
            2799.2485,
            2858.4,
            2795.97,
            2873.26,
            2899.25,
            3129.16
           ],
           "yaxis": "y"
          },
          {
           "hovertemplate": "variable=Nuclear<br>frame=2004<br>year=%{x}<br>value=%{y}<extra></extra>",
           "legendgroup": "Nuclear",
           "line": {
            "color": "#EF553B",
            "dash": "solid"
           },
           "marker": {
            "symbol": "circle"
           },
           "mode": "lines",
           "name": "Nuclear",
           "orientation": "v",
           "showlegend": true,
           "type": "scatter",
           "x": [
            "1985-01-01T00:00:00",
            "1986-01-01T00:00:00",
            "1987-01-01T00:00:00",
            "1988-01-01T00:00:00",
            "1989-01-01T00:00:00",
            "1990-01-01T00:00:00",
            "1991-01-01T00:00:00",
            "1992-01-01T00:00:00",
            "1993-01-01T00:00:00",
            "1994-01-01T00:00:00",
            "1995-01-01T00:00:00",
            "1996-01-01T00:00:00",
            "1997-01-01T00:00:00",
            "1998-01-01T00:00:00",
            "1999-01-01T00:00:00",
            "2000-01-01T00:00:00",
            "2001-01-01T00:00:00",
            "2002-01-01T00:00:00",
            "2003-01-01T00:00:00",
            "2004-01-01T00:00:00"
           ],
           "xaxis": "x",
           "y": [
            1488.9216,
            1594.7357,
            1734.7332,
            1891.2493,
            1945.0106,
            2000.596,
            2096.3098,
            2112.223,
            2184.9646,
            2225.9788,
            2322.5298,
            2406.615,
            2390.0642,
            2431.1948,
            2523.7056,
            2540.46,
            2613.17,
            2654.78,
            2601.05,
            2719.41
           ],
           "yaxis": "y"
          },
          {
           "hovertemplate": "variable=Fossil<br>frame=2004<br>year=%{x}<br>value=%{y}<extra></extra>",
           "legendgroup": "Fossil",
           "line": {
            "color": "#00cc96",
            "dash": "solid"
           },
           "marker": {
            "symbol": "circle"
           },
           "mode": "lines",
           "name": "Fossil",
           "orientation": "v",
           "showlegend": true,
           "type": "scatter",
           "x": [
            "1985-01-01T00:00:00",
            "1986-01-01T00:00:00",
            "1987-01-01T00:00:00",
            "1988-01-01T00:00:00",
            "1989-01-01T00:00:00",
            "1990-01-01T00:00:00",
            "1991-01-01T00:00:00",
            "1992-01-01T00:00:00",
            "1993-01-01T00:00:00",
            "1994-01-01T00:00:00",
            "1995-01-01T00:00:00",
            "1996-01-01T00:00:00",
            "1997-01-01T00:00:00",
            "1998-01-01T00:00:00",
            "1999-01-01T00:00:00",
            "2000-01-01T00:00:00",
            "2001-01-01T00:00:00",
            "2002-01-01T00:00:00",
            "2003-01-01T00:00:00",
            "2004-01-01T00:00:00"
           ],
           "xaxis": "x",
           "y": [
            6285.4736,
            6439.9746,
            6757.7617,
            6998.179,
            7455.736,
            7614.993,
            7722.592,
            7807.883,
            7858.686,
            8119.1626,
            8335.322,
            8627.022,
            8911.184,
            9214.535,
            9498.733,
            9878.1,
            10090.26,
            10520.97,
            11126.3,
            11564.24
           ],
           "yaxis": "y"
          }
         ],
         "name": "2004"
        },
        {
         "data": [
          {
           "hovertemplate": "variable=Renewable<br>frame=2005<br>year=%{x}<br>value=%{y}<extra></extra>",
           "legendgroup": "Renewable",
           "line": {
            "color": "#636efa",
            "dash": "solid"
           },
           "marker": {
            "symbol": "circle"
           },
           "mode": "lines",
           "name": "Renewable",
           "orientation": "v",
           "showlegend": true,
           "type": "scatter",
           "x": [
            "1985-01-01T00:00:00",
            "1986-01-01T00:00:00",
            "1987-01-01T00:00:00",
            "1988-01-01T00:00:00",
            "1989-01-01T00:00:00",
            "1990-01-01T00:00:00",
            "1991-01-01T00:00:00",
            "1992-01-01T00:00:00",
            "1993-01-01T00:00:00",
            "1994-01-01T00:00:00",
            "1995-01-01T00:00:00",
            "1996-01-01T00:00:00",
            "1997-01-01T00:00:00",
            "1998-01-01T00:00:00",
            "1999-01-01T00:00:00",
            "2000-01-01T00:00:00",
            "2001-01-01T00:00:00",
            "2002-01-01T00:00:00",
            "2003-01-01T00:00:00",
            "2004-01-01T00:00:00",
            "2005-01-01T00:00:00"
           ],
           "xaxis": "x",
           "y": [
            2058.0222,
            2091.6704,
            2124.9146,
            2192.8516,
            2195.1711,
            2279.8643,
            2335.3965,
            2344.6736,
            2483.061,
            2504.311,
            2638.9414,
            2677.4333,
            2735.5457,
            2765.892,
            2799.2485,
            2858.4,
            2795.97,
            2873.26,
            2899.25,
            3129.16,
            3279.51
           ],
           "yaxis": "y"
          },
          {
           "hovertemplate": "variable=Nuclear<br>frame=2005<br>year=%{x}<br>value=%{y}<extra></extra>",
           "legendgroup": "Nuclear",
           "line": {
            "color": "#EF553B",
            "dash": "solid"
           },
           "marker": {
            "symbol": "circle"
           },
           "mode": "lines",
           "name": "Nuclear",
           "orientation": "v",
           "showlegend": true,
           "type": "scatter",
           "x": [
            "1985-01-01T00:00:00",
            "1986-01-01T00:00:00",
            "1987-01-01T00:00:00",
            "1988-01-01T00:00:00",
            "1989-01-01T00:00:00",
            "1990-01-01T00:00:00",
            "1991-01-01T00:00:00",
            "1992-01-01T00:00:00",
            "1993-01-01T00:00:00",
            "1994-01-01T00:00:00",
            "1995-01-01T00:00:00",
            "1996-01-01T00:00:00",
            "1997-01-01T00:00:00",
            "1998-01-01T00:00:00",
            "1999-01-01T00:00:00",
            "2000-01-01T00:00:00",
            "2001-01-01T00:00:00",
            "2002-01-01T00:00:00",
            "2003-01-01T00:00:00",
            "2004-01-01T00:00:00",
            "2005-01-01T00:00:00"
           ],
           "xaxis": "x",
           "y": [
            1488.9216,
            1594.7357,
            1734.7332,
            1891.2493,
            1945.0106,
            2000.596,
            2096.3098,
            2112.223,
            2184.9646,
            2225.9788,
            2322.5298,
            2406.615,
            2390.0642,
            2431.1948,
            2523.7056,
            2540.46,
            2613.17,
            2654.78,
            2601.05,
            2719.41,
            2726.97
           ],
           "yaxis": "y"
          },
          {
           "hovertemplate": "variable=Fossil<br>frame=2005<br>year=%{x}<br>value=%{y}<extra></extra>",
           "legendgroup": "Fossil",
           "line": {
            "color": "#00cc96",
            "dash": "solid"
           },
           "marker": {
            "symbol": "circle"
           },
           "mode": "lines",
           "name": "Fossil",
           "orientation": "v",
           "showlegend": true,
           "type": "scatter",
           "x": [
            "1985-01-01T00:00:00",
            "1986-01-01T00:00:00",
            "1987-01-01T00:00:00",
            "1988-01-01T00:00:00",
            "1989-01-01T00:00:00",
            "1990-01-01T00:00:00",
            "1991-01-01T00:00:00",
            "1992-01-01T00:00:00",
            "1993-01-01T00:00:00",
            "1994-01-01T00:00:00",
            "1995-01-01T00:00:00",
            "1996-01-01T00:00:00",
            "1997-01-01T00:00:00",
            "1998-01-01T00:00:00",
            "1999-01-01T00:00:00",
            "2000-01-01T00:00:00",
            "2001-01-01T00:00:00",
            "2002-01-01T00:00:00",
            "2003-01-01T00:00:00",
            "2004-01-01T00:00:00",
            "2005-01-01T00:00:00"
           ],
           "xaxis": "x",
           "y": [
            6285.4736,
            6439.9746,
            6757.7617,
            6998.179,
            7455.736,
            7614.993,
            7722.592,
            7807.883,
            7858.686,
            8119.1626,
            8335.322,
            8627.022,
            8911.184,
            9214.535,
            9498.733,
            9878.1,
            10090.26,
            10520.97,
            11126.3,
            11564.24,
            12126.32
           ],
           "yaxis": "y"
          }
         ],
         "name": "2005"
        },
        {
         "data": [
          {
           "hovertemplate": "variable=Renewable<br>frame=2006<br>year=%{x}<br>value=%{y}<extra></extra>",
           "legendgroup": "Renewable",
           "line": {
            "color": "#636efa",
            "dash": "solid"
           },
           "marker": {
            "symbol": "circle"
           },
           "mode": "lines",
           "name": "Renewable",
           "orientation": "v",
           "showlegend": true,
           "type": "scatter",
           "x": [
            "1985-01-01T00:00:00",
            "1986-01-01T00:00:00",
            "1987-01-01T00:00:00",
            "1988-01-01T00:00:00",
            "1989-01-01T00:00:00",
            "1990-01-01T00:00:00",
            "1991-01-01T00:00:00",
            "1992-01-01T00:00:00",
            "1993-01-01T00:00:00",
            "1994-01-01T00:00:00",
            "1995-01-01T00:00:00",
            "1996-01-01T00:00:00",
            "1997-01-01T00:00:00",
            "1998-01-01T00:00:00",
            "1999-01-01T00:00:00",
            "2000-01-01T00:00:00",
            "2001-01-01T00:00:00",
            "2002-01-01T00:00:00",
            "2003-01-01T00:00:00",
            "2004-01-01T00:00:00",
            "2005-01-01T00:00:00",
            "2006-01-01T00:00:00"
           ],
           "xaxis": "x",
           "y": [
            2058.0222,
            2091.6704,
            2124.9146,
            2192.8516,
            2195.1711,
            2279.8643,
            2335.3965,
            2344.6736,
            2483.061,
            2504.311,
            2638.9414,
            2677.4333,
            2735.5457,
            2765.892,
            2799.2485,
            2858.4,
            2795.97,
            2873.26,
            2899.25,
            3129.16,
            3279.51,
            3432.46
           ],
           "yaxis": "y"
          },
          {
           "hovertemplate": "variable=Nuclear<br>frame=2006<br>year=%{x}<br>value=%{y}<extra></extra>",
           "legendgroup": "Nuclear",
           "line": {
            "color": "#EF553B",
            "dash": "solid"
           },
           "marker": {
            "symbol": "circle"
           },
           "mode": "lines",
           "name": "Nuclear",
           "orientation": "v",
           "showlegend": true,
           "type": "scatter",
           "x": [
            "1985-01-01T00:00:00",
            "1986-01-01T00:00:00",
            "1987-01-01T00:00:00",
            "1988-01-01T00:00:00",
            "1989-01-01T00:00:00",
            "1990-01-01T00:00:00",
            "1991-01-01T00:00:00",
            "1992-01-01T00:00:00",
            "1993-01-01T00:00:00",
            "1994-01-01T00:00:00",
            "1995-01-01T00:00:00",
            "1996-01-01T00:00:00",
            "1997-01-01T00:00:00",
            "1998-01-01T00:00:00",
            "1999-01-01T00:00:00",
            "2000-01-01T00:00:00",
            "2001-01-01T00:00:00",
            "2002-01-01T00:00:00",
            "2003-01-01T00:00:00",
            "2004-01-01T00:00:00",
            "2005-01-01T00:00:00",
            "2006-01-01T00:00:00"
           ],
           "xaxis": "x",
           "y": [
            1488.9216,
            1594.7357,
            1734.7332,
            1891.2493,
            1945.0106,
            2000.596,
            2096.3098,
            2112.223,
            2184.9646,
            2225.9788,
            2322.5298,
            2406.615,
            2390.0642,
            2431.1948,
            2523.7056,
            2540.46,
            2613.17,
            2654.78,
            2601.05,
            2719.41,
            2726.97,
            2761.59
           ],
           "yaxis": "y"
          },
          {
           "hovertemplate": "variable=Fossil<br>frame=2006<br>year=%{x}<br>value=%{y}<extra></extra>",
           "legendgroup": "Fossil",
           "line": {
            "color": "#00cc96",
            "dash": "solid"
           },
           "marker": {
            "symbol": "circle"
           },
           "mode": "lines",
           "name": "Fossil",
           "orientation": "v",
           "showlegend": true,
           "type": "scatter",
           "x": [
            "1985-01-01T00:00:00",
            "1986-01-01T00:00:00",
            "1987-01-01T00:00:00",
            "1988-01-01T00:00:00",
            "1989-01-01T00:00:00",
            "1990-01-01T00:00:00",
            "1991-01-01T00:00:00",
            "1992-01-01T00:00:00",
            "1993-01-01T00:00:00",
            "1994-01-01T00:00:00",
            "1995-01-01T00:00:00",
            "1996-01-01T00:00:00",
            "1997-01-01T00:00:00",
            "1998-01-01T00:00:00",
            "1999-01-01T00:00:00",
            "2000-01-01T00:00:00",
            "2001-01-01T00:00:00",
            "2002-01-01T00:00:00",
            "2003-01-01T00:00:00",
            "2004-01-01T00:00:00",
            "2005-01-01T00:00:00",
            "2006-01-01T00:00:00"
           ],
           "xaxis": "x",
           "y": [
            6285.4736,
            6439.9746,
            6757.7617,
            6998.179,
            7455.736,
            7614.993,
            7722.592,
            7807.883,
            7858.686,
            8119.1626,
            8335.322,
            8627.022,
            8911.184,
            9214.535,
            9498.733,
            9878.1,
            10090.26,
            10520.97,
            11126.3,
            11564.24,
            12126.32,
            12644.06
           ],
           "yaxis": "y"
          }
         ],
         "name": "2006"
        },
        {
         "data": [
          {
           "hovertemplate": "variable=Renewable<br>frame=2007<br>year=%{x}<br>value=%{y}<extra></extra>",
           "legendgroup": "Renewable",
           "line": {
            "color": "#636efa",
            "dash": "solid"
           },
           "marker": {
            "symbol": "circle"
           },
           "mode": "lines",
           "name": "Renewable",
           "orientation": "v",
           "showlegend": true,
           "type": "scatter",
           "x": [
            "1985-01-01T00:00:00",
            "1986-01-01T00:00:00",
            "1987-01-01T00:00:00",
            "1988-01-01T00:00:00",
            "1989-01-01T00:00:00",
            "1990-01-01T00:00:00",
            "1991-01-01T00:00:00",
            "1992-01-01T00:00:00",
            "1993-01-01T00:00:00",
            "1994-01-01T00:00:00",
            "1995-01-01T00:00:00",
            "1996-01-01T00:00:00",
            "1997-01-01T00:00:00",
            "1998-01-01T00:00:00",
            "1999-01-01T00:00:00",
            "2000-01-01T00:00:00",
            "2001-01-01T00:00:00",
            "2002-01-01T00:00:00",
            "2003-01-01T00:00:00",
            "2004-01-01T00:00:00",
            "2005-01-01T00:00:00",
            "2006-01-01T00:00:00",
            "2007-01-01T00:00:00"
           ],
           "xaxis": "x",
           "y": [
            2058.0222,
            2091.6704,
            2124.9146,
            2192.8516,
            2195.1711,
            2279.8643,
            2335.3965,
            2344.6736,
            2483.061,
            2504.311,
            2638.9414,
            2677.4333,
            2735.5457,
            2765.892,
            2799.2485,
            2858.4,
            2795.97,
            2873.26,
            2899.25,
            3129.16,
            3279.51,
            3432.46,
            3540.47
           ],
           "yaxis": "y"
          },
          {
           "hovertemplate": "variable=Nuclear<br>frame=2007<br>year=%{x}<br>value=%{y}<extra></extra>",
           "legendgroup": "Nuclear",
           "line": {
            "color": "#EF553B",
            "dash": "solid"
           },
           "marker": {
            "symbol": "circle"
           },
           "mode": "lines",
           "name": "Nuclear",
           "orientation": "v",
           "showlegend": true,
           "type": "scatter",
           "x": [
            "1985-01-01T00:00:00",
            "1986-01-01T00:00:00",
            "1987-01-01T00:00:00",
            "1988-01-01T00:00:00",
            "1989-01-01T00:00:00",
            "1990-01-01T00:00:00",
            "1991-01-01T00:00:00",
            "1992-01-01T00:00:00",
            "1993-01-01T00:00:00",
            "1994-01-01T00:00:00",
            "1995-01-01T00:00:00",
            "1996-01-01T00:00:00",
            "1997-01-01T00:00:00",
            "1998-01-01T00:00:00",
            "1999-01-01T00:00:00",
            "2000-01-01T00:00:00",
            "2001-01-01T00:00:00",
            "2002-01-01T00:00:00",
            "2003-01-01T00:00:00",
            "2004-01-01T00:00:00",
            "2005-01-01T00:00:00",
            "2006-01-01T00:00:00",
            "2007-01-01T00:00:00"
           ],
           "xaxis": "x",
           "y": [
            1488.9216,
            1594.7357,
            1734.7332,
            1891.2493,
            1945.0106,
            2000.596,
            2096.3098,
            2112.223,
            2184.9646,
            2225.9788,
            2322.5298,
            2406.615,
            2390.0642,
            2431.1948,
            2523.7056,
            2540.46,
            2613.17,
            2654.78,
            2601.05,
            2719.41,
            2726.97,
            2761.59,
            2703.49
           ],
           "yaxis": "y"
          },
          {
           "hovertemplate": "variable=Fossil<br>frame=2007<br>year=%{x}<br>value=%{y}<extra></extra>",
           "legendgroup": "Fossil",
           "line": {
            "color": "#00cc96",
            "dash": "solid"
           },
           "marker": {
            "symbol": "circle"
           },
           "mode": "lines",
           "name": "Fossil",
           "orientation": "v",
           "showlegend": true,
           "type": "scatter",
           "x": [
            "1985-01-01T00:00:00",
            "1986-01-01T00:00:00",
            "1987-01-01T00:00:00",
            "1988-01-01T00:00:00",
            "1989-01-01T00:00:00",
            "1990-01-01T00:00:00",
            "1991-01-01T00:00:00",
            "1992-01-01T00:00:00",
            "1993-01-01T00:00:00",
            "1994-01-01T00:00:00",
            "1995-01-01T00:00:00",
            "1996-01-01T00:00:00",
            "1997-01-01T00:00:00",
            "1998-01-01T00:00:00",
            "1999-01-01T00:00:00",
            "2000-01-01T00:00:00",
            "2001-01-01T00:00:00",
            "2002-01-01T00:00:00",
            "2003-01-01T00:00:00",
            "2004-01-01T00:00:00",
            "2005-01-01T00:00:00",
            "2006-01-01T00:00:00",
            "2007-01-01T00:00:00"
           ],
           "xaxis": "x",
           "y": [
            6285.4736,
            6439.9746,
            6757.7617,
            6998.179,
            7455.736,
            7614.993,
            7722.592,
            7807.883,
            7858.686,
            8119.1626,
            8335.322,
            8627.022,
            8911.184,
            9214.535,
            9498.733,
            9878.1,
            10090.26,
            10520.97,
            11126.3,
            11564.24,
            12126.32,
            12644.06,
            13468.19
           ],
           "yaxis": "y"
          }
         ],
         "name": "2007"
        },
        {
         "data": [
          {
           "hovertemplate": "variable=Renewable<br>frame=2008<br>year=%{x}<br>value=%{y}<extra></extra>",
           "legendgroup": "Renewable",
           "line": {
            "color": "#636efa",
            "dash": "solid"
           },
           "marker": {
            "symbol": "circle"
           },
           "mode": "lines",
           "name": "Renewable",
           "orientation": "v",
           "showlegend": true,
           "type": "scatter",
           "x": [
            "1985-01-01T00:00:00",
            "1986-01-01T00:00:00",
            "1987-01-01T00:00:00",
            "1988-01-01T00:00:00",
            "1989-01-01T00:00:00",
            "1990-01-01T00:00:00",
            "1991-01-01T00:00:00",
            "1992-01-01T00:00:00",
            "1993-01-01T00:00:00",
            "1994-01-01T00:00:00",
            "1995-01-01T00:00:00",
            "1996-01-01T00:00:00",
            "1997-01-01T00:00:00",
            "1998-01-01T00:00:00",
            "1999-01-01T00:00:00",
            "2000-01-01T00:00:00",
            "2001-01-01T00:00:00",
            "2002-01-01T00:00:00",
            "2003-01-01T00:00:00",
            "2004-01-01T00:00:00",
            "2005-01-01T00:00:00",
            "2006-01-01T00:00:00",
            "2007-01-01T00:00:00",
            "2008-01-01T00:00:00"
           ],
           "xaxis": "x",
           "y": [
            2058.0222,
            2091.6704,
            2124.9146,
            2192.8516,
            2195.1711,
            2279.8643,
            2335.3965,
            2344.6736,
            2483.061,
            2504.311,
            2638.9414,
            2677.4333,
            2735.5457,
            2765.892,
            2799.2485,
            2858.4,
            2795.97,
            2873.26,
            2899.25,
            3129.16,
            3279.51,
            3432.46,
            3540.47,
            3798.13
           ],
           "yaxis": "y"
          },
          {
           "hovertemplate": "variable=Nuclear<br>frame=2008<br>year=%{x}<br>value=%{y}<extra></extra>",
           "legendgroup": "Nuclear",
           "line": {
            "color": "#EF553B",
            "dash": "solid"
           },
           "marker": {
            "symbol": "circle"
           },
           "mode": "lines",
           "name": "Nuclear",
           "orientation": "v",
           "showlegend": true,
           "type": "scatter",
           "x": [
            "1985-01-01T00:00:00",
            "1986-01-01T00:00:00",
            "1987-01-01T00:00:00",
            "1988-01-01T00:00:00",
            "1989-01-01T00:00:00",
            "1990-01-01T00:00:00",
            "1991-01-01T00:00:00",
            "1992-01-01T00:00:00",
            "1993-01-01T00:00:00",
            "1994-01-01T00:00:00",
            "1995-01-01T00:00:00",
            "1996-01-01T00:00:00",
            "1997-01-01T00:00:00",
            "1998-01-01T00:00:00",
            "1999-01-01T00:00:00",
            "2000-01-01T00:00:00",
            "2001-01-01T00:00:00",
            "2002-01-01T00:00:00",
            "2003-01-01T00:00:00",
            "2004-01-01T00:00:00",
            "2005-01-01T00:00:00",
            "2006-01-01T00:00:00",
            "2007-01-01T00:00:00",
            "2008-01-01T00:00:00"
           ],
           "xaxis": "x",
           "y": [
            1488.9216,
            1594.7357,
            1734.7332,
            1891.2493,
            1945.0106,
            2000.596,
            2096.3098,
            2112.223,
            2184.9646,
            2225.9788,
            2322.5298,
            2406.615,
            2390.0642,
            2431.1948,
            2523.7056,
            2540.46,
            2613.17,
            2654.78,
            2601.05,
            2719.41,
            2726.97,
            2761.59,
            2703.49,
            2694.72
           ],
           "yaxis": "y"
          },
          {
           "hovertemplate": "variable=Fossil<br>frame=2008<br>year=%{x}<br>value=%{y}<extra></extra>",
           "legendgroup": "Fossil",
           "line": {
            "color": "#00cc96",
            "dash": "solid"
           },
           "marker": {
            "symbol": "circle"
           },
           "mode": "lines",
           "name": "Fossil",
           "orientation": "v",
           "showlegend": true,
           "type": "scatter",
           "x": [
            "1985-01-01T00:00:00",
            "1986-01-01T00:00:00",
            "1987-01-01T00:00:00",
            "1988-01-01T00:00:00",
            "1989-01-01T00:00:00",
            "1990-01-01T00:00:00",
            "1991-01-01T00:00:00",
            "1992-01-01T00:00:00",
            "1993-01-01T00:00:00",
            "1994-01-01T00:00:00",
            "1995-01-01T00:00:00",
            "1996-01-01T00:00:00",
            "1997-01-01T00:00:00",
            "1998-01-01T00:00:00",
            "1999-01-01T00:00:00",
            "2000-01-01T00:00:00",
            "2001-01-01T00:00:00",
            "2002-01-01T00:00:00",
            "2003-01-01T00:00:00",
            "2004-01-01T00:00:00",
            "2005-01-01T00:00:00",
            "2006-01-01T00:00:00",
            "2007-01-01T00:00:00",
            "2008-01-01T00:00:00"
           ],
           "xaxis": "x",
           "y": [
            6285.4736,
            6439.9746,
            6757.7617,
            6998.179,
            7455.736,
            7614.993,
            7722.592,
            7807.883,
            7858.686,
            8119.1626,
            8335.322,
            8627.022,
            8911.184,
            9214.535,
            9498.733,
            9878.1,
            10090.26,
            10520.97,
            11126.3,
            11564.24,
            12126.32,
            12644.06,
            13468.19,
            13607.04
           ],
           "yaxis": "y"
          }
         ],
         "name": "2008"
        },
        {
         "data": [
          {
           "hovertemplate": "variable=Renewable<br>frame=2009<br>year=%{x}<br>value=%{y}<extra></extra>",
           "legendgroup": "Renewable",
           "line": {
            "color": "#636efa",
            "dash": "solid"
           },
           "marker": {
            "symbol": "circle"
           },
           "mode": "lines",
           "name": "Renewable",
           "orientation": "v",
           "showlegend": true,
           "type": "scatter",
           "x": [
            "1985-01-01T00:00:00",
            "1986-01-01T00:00:00",
            "1987-01-01T00:00:00",
            "1988-01-01T00:00:00",
            "1989-01-01T00:00:00",
            "1990-01-01T00:00:00",
            "1991-01-01T00:00:00",
            "1992-01-01T00:00:00",
            "1993-01-01T00:00:00",
            "1994-01-01T00:00:00",
            "1995-01-01T00:00:00",
            "1996-01-01T00:00:00",
            "1997-01-01T00:00:00",
            "1998-01-01T00:00:00",
            "1999-01-01T00:00:00",
            "2000-01-01T00:00:00",
            "2001-01-01T00:00:00",
            "2002-01-01T00:00:00",
            "2003-01-01T00:00:00",
            "2004-01-01T00:00:00",
            "2005-01-01T00:00:00",
            "2006-01-01T00:00:00",
            "2007-01-01T00:00:00",
            "2008-01-01T00:00:00",
            "2009-01-01T00:00:00"
           ],
           "xaxis": "x",
           "y": [
            2058.0222,
            2091.6704,
            2124.9146,
            2192.8516,
            2195.1711,
            2279.8643,
            2335.3965,
            2344.6736,
            2483.061,
            2504.311,
            2638.9414,
            2677.4333,
            2735.5457,
            2765.892,
            2799.2485,
            2858.4,
            2795.97,
            2873.26,
            2899.25,
            3129.16,
            3279.51,
            3432.46,
            3540.47,
            3798.13,
            3879.24
           ],
           "yaxis": "y"
          },
          {
           "hovertemplate": "variable=Nuclear<br>frame=2009<br>year=%{x}<br>value=%{y}<extra></extra>",
           "legendgroup": "Nuclear",
           "line": {
            "color": "#EF553B",
            "dash": "solid"
           },
           "marker": {
            "symbol": "circle"
           },
           "mode": "lines",
           "name": "Nuclear",
           "orientation": "v",
           "showlegend": true,
           "type": "scatter",
           "x": [
            "1985-01-01T00:00:00",
            "1986-01-01T00:00:00",
            "1987-01-01T00:00:00",
            "1988-01-01T00:00:00",
            "1989-01-01T00:00:00",
            "1990-01-01T00:00:00",
            "1991-01-01T00:00:00",
            "1992-01-01T00:00:00",
            "1993-01-01T00:00:00",
            "1994-01-01T00:00:00",
            "1995-01-01T00:00:00",
            "1996-01-01T00:00:00",
            "1997-01-01T00:00:00",
            "1998-01-01T00:00:00",
            "1999-01-01T00:00:00",
            "2000-01-01T00:00:00",
            "2001-01-01T00:00:00",
            "2002-01-01T00:00:00",
            "2003-01-01T00:00:00",
            "2004-01-01T00:00:00",
            "2005-01-01T00:00:00",
            "2006-01-01T00:00:00",
            "2007-01-01T00:00:00",
            "2008-01-01T00:00:00",
            "2009-01-01T00:00:00"
           ],
           "xaxis": "x",
           "y": [
            1488.9216,
            1594.7357,
            1734.7332,
            1891.2493,
            1945.0106,
            2000.596,
            2096.3098,
            2112.223,
            2184.9646,
            2225.9788,
            2322.5298,
            2406.615,
            2390.0642,
            2431.1948,
            2523.7056,
            2540.46,
            2613.17,
            2654.78,
            2601.05,
            2719.41,
            2726.97,
            2761.59,
            2703.49,
            2694.72,
            2656.76
           ],
           "yaxis": "y"
          },
          {
           "hovertemplate": "variable=Fossil<br>frame=2009<br>year=%{x}<br>value=%{y}<extra></extra>",
           "legendgroup": "Fossil",
           "line": {
            "color": "#00cc96",
            "dash": "solid"
           },
           "marker": {
            "symbol": "circle"
           },
           "mode": "lines",
           "name": "Fossil",
           "orientation": "v",
           "showlegend": true,
           "type": "scatter",
           "x": [
            "1985-01-01T00:00:00",
            "1986-01-01T00:00:00",
            "1987-01-01T00:00:00",
            "1988-01-01T00:00:00",
            "1989-01-01T00:00:00",
            "1990-01-01T00:00:00",
            "1991-01-01T00:00:00",
            "1992-01-01T00:00:00",
            "1993-01-01T00:00:00",
            "1994-01-01T00:00:00",
            "1995-01-01T00:00:00",
            "1996-01-01T00:00:00",
            "1997-01-01T00:00:00",
            "1998-01-01T00:00:00",
            "1999-01-01T00:00:00",
            "2000-01-01T00:00:00",
            "2001-01-01T00:00:00",
            "2002-01-01T00:00:00",
            "2003-01-01T00:00:00",
            "2004-01-01T00:00:00",
            "2005-01-01T00:00:00",
            "2006-01-01T00:00:00",
            "2007-01-01T00:00:00",
            "2008-01-01T00:00:00",
            "2009-01-01T00:00:00"
           ],
           "xaxis": "x",
           "y": [
            6285.4736,
            6439.9746,
            6757.7617,
            6998.179,
            7455.736,
            7614.993,
            7722.592,
            7807.883,
            7858.686,
            8119.1626,
            8335.322,
            8627.022,
            8911.184,
            9214.535,
            9498.733,
            9878.1,
            10090.26,
            10520.97,
            11126.3,
            11564.24,
            12126.32,
            12644.06,
            13468.19,
            13607.04,
            13405.4
           ],
           "yaxis": "y"
          }
         ],
         "name": "2009"
        },
        {
         "data": [
          {
           "hovertemplate": "variable=Renewable<br>frame=2010<br>year=%{x}<br>value=%{y}<extra></extra>",
           "legendgroup": "Renewable",
           "line": {
            "color": "#636efa",
            "dash": "solid"
           },
           "marker": {
            "symbol": "circle"
           },
           "mode": "lines",
           "name": "Renewable",
           "orientation": "v",
           "showlegend": true,
           "type": "scatter",
           "x": [
            "1985-01-01T00:00:00",
            "1986-01-01T00:00:00",
            "1987-01-01T00:00:00",
            "1988-01-01T00:00:00",
            "1989-01-01T00:00:00",
            "1990-01-01T00:00:00",
            "1991-01-01T00:00:00",
            "1992-01-01T00:00:00",
            "1993-01-01T00:00:00",
            "1994-01-01T00:00:00",
            "1995-01-01T00:00:00",
            "1996-01-01T00:00:00",
            "1997-01-01T00:00:00",
            "1998-01-01T00:00:00",
            "1999-01-01T00:00:00",
            "2000-01-01T00:00:00",
            "2001-01-01T00:00:00",
            "2002-01-01T00:00:00",
            "2003-01-01T00:00:00",
            "2004-01-01T00:00:00",
            "2005-01-01T00:00:00",
            "2006-01-01T00:00:00",
            "2007-01-01T00:00:00",
            "2008-01-01T00:00:00",
            "2009-01-01T00:00:00",
            "2010-01-01T00:00:00"
           ],
           "xaxis": "x",
           "y": [
            2058.0222,
            2091.6704,
            2124.9146,
            2192.8516,
            2195.1711,
            2279.8643,
            2335.3965,
            2344.6736,
            2483.061,
            2504.311,
            2638.9414,
            2677.4333,
            2735.5457,
            2765.892,
            2799.2485,
            2858.4,
            2795.97,
            2873.26,
            2899.25,
            3129.16,
            3279.51,
            3432.46,
            3540.47,
            3798.13,
            3879.24,
            4191.63
           ],
           "yaxis": "y"
          },
          {
           "hovertemplate": "variable=Nuclear<br>frame=2010<br>year=%{x}<br>value=%{y}<extra></extra>",
           "legendgroup": "Nuclear",
           "line": {
            "color": "#EF553B",
            "dash": "solid"
           },
           "marker": {
            "symbol": "circle"
           },
           "mode": "lines",
           "name": "Nuclear",
           "orientation": "v",
           "showlegend": true,
           "type": "scatter",
           "x": [
            "1985-01-01T00:00:00",
            "1986-01-01T00:00:00",
            "1987-01-01T00:00:00",
            "1988-01-01T00:00:00",
            "1989-01-01T00:00:00",
            "1990-01-01T00:00:00",
            "1991-01-01T00:00:00",
            "1992-01-01T00:00:00",
            "1993-01-01T00:00:00",
            "1994-01-01T00:00:00",
            "1995-01-01T00:00:00",
            "1996-01-01T00:00:00",
            "1997-01-01T00:00:00",
            "1998-01-01T00:00:00",
            "1999-01-01T00:00:00",
            "2000-01-01T00:00:00",
            "2001-01-01T00:00:00",
            "2002-01-01T00:00:00",
            "2003-01-01T00:00:00",
            "2004-01-01T00:00:00",
            "2005-01-01T00:00:00",
            "2006-01-01T00:00:00",
            "2007-01-01T00:00:00",
            "2008-01-01T00:00:00",
            "2009-01-01T00:00:00",
            "2010-01-01T00:00:00"
           ],
           "xaxis": "x",
           "y": [
            1488.9216,
            1594.7357,
            1734.7332,
            1891.2493,
            1945.0106,
            2000.596,
            2096.3098,
            2112.223,
            2184.9646,
            2225.9788,
            2322.5298,
            2406.615,
            2390.0642,
            2431.1948,
            2523.7056,
            2540.46,
            2613.17,
            2654.78,
            2601.05,
            2719.41,
            2726.97,
            2761.59,
            2703.49,
            2694.72,
            2656.76,
            2725.91
           ],
           "yaxis": "y"
          },
          {
           "hovertemplate": "variable=Fossil<br>frame=2010<br>year=%{x}<br>value=%{y}<extra></extra>",
           "legendgroup": "Fossil",
           "line": {
            "color": "#00cc96",
            "dash": "solid"
           },
           "marker": {
            "symbol": "circle"
           },
           "mode": "lines",
           "name": "Fossil",
           "orientation": "v",
           "showlegend": true,
           "type": "scatter",
           "x": [
            "1985-01-01T00:00:00",
            "1986-01-01T00:00:00",
            "1987-01-01T00:00:00",
            "1988-01-01T00:00:00",
            "1989-01-01T00:00:00",
            "1990-01-01T00:00:00",
            "1991-01-01T00:00:00",
            "1992-01-01T00:00:00",
            "1993-01-01T00:00:00",
            "1994-01-01T00:00:00",
            "1995-01-01T00:00:00",
            "1996-01-01T00:00:00",
            "1997-01-01T00:00:00",
            "1998-01-01T00:00:00",
            "1999-01-01T00:00:00",
            "2000-01-01T00:00:00",
            "2001-01-01T00:00:00",
            "2002-01-01T00:00:00",
            "2003-01-01T00:00:00",
            "2004-01-01T00:00:00",
            "2005-01-01T00:00:00",
            "2006-01-01T00:00:00",
            "2007-01-01T00:00:00",
            "2008-01-01T00:00:00",
            "2009-01-01T00:00:00",
            "2010-01-01T00:00:00"
           ],
           "xaxis": "x",
           "y": [
            6285.4736,
            6439.9746,
            6757.7617,
            6998.179,
            7455.736,
            7614.993,
            7722.592,
            7807.883,
            7858.686,
            8119.1626,
            8335.322,
            8627.022,
            8911.184,
            9214.535,
            9498.733,
            9878.1,
            10090.26,
            10520.97,
            11126.3,
            11564.24,
            12126.32,
            12644.06,
            13468.19,
            13607.04,
            13405.4,
            14345.73
           ],
           "yaxis": "y"
          }
         ],
         "name": "2010"
        },
        {
         "data": [
          {
           "hovertemplate": "variable=Renewable<br>frame=2011<br>year=%{x}<br>value=%{y}<extra></extra>",
           "legendgroup": "Renewable",
           "line": {
            "color": "#636efa",
            "dash": "solid"
           },
           "marker": {
            "symbol": "circle"
           },
           "mode": "lines",
           "name": "Renewable",
           "orientation": "v",
           "showlegend": true,
           "type": "scatter",
           "x": [
            "1985-01-01T00:00:00",
            "1986-01-01T00:00:00",
            "1987-01-01T00:00:00",
            "1988-01-01T00:00:00",
            "1989-01-01T00:00:00",
            "1990-01-01T00:00:00",
            "1991-01-01T00:00:00",
            "1992-01-01T00:00:00",
            "1993-01-01T00:00:00",
            "1994-01-01T00:00:00",
            "1995-01-01T00:00:00",
            "1996-01-01T00:00:00",
            "1997-01-01T00:00:00",
            "1998-01-01T00:00:00",
            "1999-01-01T00:00:00",
            "2000-01-01T00:00:00",
            "2001-01-01T00:00:00",
            "2002-01-01T00:00:00",
            "2003-01-01T00:00:00",
            "2004-01-01T00:00:00",
            "2005-01-01T00:00:00",
            "2006-01-01T00:00:00",
            "2007-01-01T00:00:00",
            "2008-01-01T00:00:00",
            "2009-01-01T00:00:00",
            "2010-01-01T00:00:00",
            "2011-01-01T00:00:00"
           ],
           "xaxis": "x",
           "y": [
            2058.0222,
            2091.6704,
            2124.9146,
            2192.8516,
            2195.1711,
            2279.8643,
            2335.3965,
            2344.6736,
            2483.061,
            2504.311,
            2638.9414,
            2677.4333,
            2735.5457,
            2765.892,
            2799.2485,
            2858.4,
            2795.97,
            2873.26,
            2899.25,
            3129.16,
            3279.51,
            3432.46,
            3540.47,
            3798.13,
            3879.24,
            4191.63,
            4394.13
           ],
           "yaxis": "y"
          },
          {
           "hovertemplate": "variable=Nuclear<br>frame=2011<br>year=%{x}<br>value=%{y}<extra></extra>",
           "legendgroup": "Nuclear",
           "line": {
            "color": "#EF553B",
            "dash": "solid"
           },
           "marker": {
            "symbol": "circle"
           },
           "mode": "lines",
           "name": "Nuclear",
           "orientation": "v",
           "showlegend": true,
           "type": "scatter",
           "x": [
            "1985-01-01T00:00:00",
            "1986-01-01T00:00:00",
            "1987-01-01T00:00:00",
            "1988-01-01T00:00:00",
            "1989-01-01T00:00:00",
            "1990-01-01T00:00:00",
            "1991-01-01T00:00:00",
            "1992-01-01T00:00:00",
            "1993-01-01T00:00:00",
            "1994-01-01T00:00:00",
            "1995-01-01T00:00:00",
            "1996-01-01T00:00:00",
            "1997-01-01T00:00:00",
            "1998-01-01T00:00:00",
            "1999-01-01T00:00:00",
            "2000-01-01T00:00:00",
            "2001-01-01T00:00:00",
            "2002-01-01T00:00:00",
            "2003-01-01T00:00:00",
            "2004-01-01T00:00:00",
            "2005-01-01T00:00:00",
            "2006-01-01T00:00:00",
            "2007-01-01T00:00:00",
            "2008-01-01T00:00:00",
            "2009-01-01T00:00:00",
            "2010-01-01T00:00:00",
            "2011-01-01T00:00:00"
           ],
           "xaxis": "x",
           "y": [
            1488.9216,
            1594.7357,
            1734.7332,
            1891.2493,
            1945.0106,
            2000.596,
            2096.3098,
            2112.223,
            2184.9646,
            2225.9788,
            2322.5298,
            2406.615,
            2390.0642,
            2431.1948,
            2523.7056,
            2540.46,
            2613.17,
            2654.78,
            2601.05,
            2719.41,
            2726.97,
            2761.59,
            2703.49,
            2694.72,
            2656.76,
            2725.91,
            2610.34
           ],
           "yaxis": "y"
          },
          {
           "hovertemplate": "variable=Fossil<br>frame=2011<br>year=%{x}<br>value=%{y}<extra></extra>",
           "legendgroup": "Fossil",
           "line": {
            "color": "#00cc96",
            "dash": "solid"
           },
           "marker": {
            "symbol": "circle"
           },
           "mode": "lines",
           "name": "Fossil",
           "orientation": "v",
           "showlegend": true,
           "type": "scatter",
           "x": [
            "1985-01-01T00:00:00",
            "1986-01-01T00:00:00",
            "1987-01-01T00:00:00",
            "1988-01-01T00:00:00",
            "1989-01-01T00:00:00",
            "1990-01-01T00:00:00",
            "1991-01-01T00:00:00",
            "1992-01-01T00:00:00",
            "1993-01-01T00:00:00",
            "1994-01-01T00:00:00",
            "1995-01-01T00:00:00",
            "1996-01-01T00:00:00",
            "1997-01-01T00:00:00",
            "1998-01-01T00:00:00",
            "1999-01-01T00:00:00",
            "2000-01-01T00:00:00",
            "2001-01-01T00:00:00",
            "2002-01-01T00:00:00",
            "2003-01-01T00:00:00",
            "2004-01-01T00:00:00",
            "2005-01-01T00:00:00",
            "2006-01-01T00:00:00",
            "2007-01-01T00:00:00",
            "2008-01-01T00:00:00",
            "2009-01-01T00:00:00",
            "2010-01-01T00:00:00",
            "2011-01-01T00:00:00"
           ],
           "xaxis": "x",
           "y": [
            6285.4736,
            6439.9746,
            6757.7617,
            6998.179,
            7455.736,
            7614.993,
            7722.592,
            7807.883,
            7858.686,
            8119.1626,
            8335.322,
            8627.022,
            8911.184,
            9214.535,
            9498.733,
            9878.1,
            10090.26,
            10520.97,
            11126.3,
            11564.24,
            12126.32,
            12644.06,
            13468.19,
            13607.04,
            13405.4,
            14345.73,
            14952.61
           ],
           "yaxis": "y"
          }
         ],
         "name": "2011"
        },
        {
         "data": [
          {
           "hovertemplate": "variable=Renewable<br>frame=2012<br>year=%{x}<br>value=%{y}<extra></extra>",
           "legendgroup": "Renewable",
           "line": {
            "color": "#636efa",
            "dash": "solid"
           },
           "marker": {
            "symbol": "circle"
           },
           "mode": "lines",
           "name": "Renewable",
           "orientation": "v",
           "showlegend": true,
           "type": "scatter",
           "x": [
            "1985-01-01T00:00:00",
            "1986-01-01T00:00:00",
            "1987-01-01T00:00:00",
            "1988-01-01T00:00:00",
            "1989-01-01T00:00:00",
            "1990-01-01T00:00:00",
            "1991-01-01T00:00:00",
            "1992-01-01T00:00:00",
            "1993-01-01T00:00:00",
            "1994-01-01T00:00:00",
            "1995-01-01T00:00:00",
            "1996-01-01T00:00:00",
            "1997-01-01T00:00:00",
            "1998-01-01T00:00:00",
            "1999-01-01T00:00:00",
            "2000-01-01T00:00:00",
            "2001-01-01T00:00:00",
            "2002-01-01T00:00:00",
            "2003-01-01T00:00:00",
            "2004-01-01T00:00:00",
            "2005-01-01T00:00:00",
            "2006-01-01T00:00:00",
            "2007-01-01T00:00:00",
            "2008-01-01T00:00:00",
            "2009-01-01T00:00:00",
            "2010-01-01T00:00:00",
            "2011-01-01T00:00:00",
            "2012-01-01T00:00:00"
           ],
           "xaxis": "x",
           "y": [
            2058.0222,
            2091.6704,
            2124.9146,
            2192.8516,
            2195.1711,
            2279.8643,
            2335.3965,
            2344.6736,
            2483.061,
            2504.311,
            2638.9414,
            2677.4333,
            2735.5457,
            2765.892,
            2799.2485,
            2858.4,
            2795.97,
            2873.26,
            2899.25,
            3129.16,
            3279.51,
            3432.46,
            3540.47,
            3798.13,
            3879.24,
            4191.63,
            4394.13,
            4721.16
           ],
           "yaxis": "y"
          },
          {
           "hovertemplate": "variable=Nuclear<br>frame=2012<br>year=%{x}<br>value=%{y}<extra></extra>",
           "legendgroup": "Nuclear",
           "line": {
            "color": "#EF553B",
            "dash": "solid"
           },
           "marker": {
            "symbol": "circle"
           },
           "mode": "lines",
           "name": "Nuclear",
           "orientation": "v",
           "showlegend": true,
           "type": "scatter",
           "x": [
            "1985-01-01T00:00:00",
            "1986-01-01T00:00:00",
            "1987-01-01T00:00:00",
            "1988-01-01T00:00:00",
            "1989-01-01T00:00:00",
            "1990-01-01T00:00:00",
            "1991-01-01T00:00:00",
            "1992-01-01T00:00:00",
            "1993-01-01T00:00:00",
            "1994-01-01T00:00:00",
            "1995-01-01T00:00:00",
            "1996-01-01T00:00:00",
            "1997-01-01T00:00:00",
            "1998-01-01T00:00:00",
            "1999-01-01T00:00:00",
            "2000-01-01T00:00:00",
            "2001-01-01T00:00:00",
            "2002-01-01T00:00:00",
            "2003-01-01T00:00:00",
            "2004-01-01T00:00:00",
            "2005-01-01T00:00:00",
            "2006-01-01T00:00:00",
            "2007-01-01T00:00:00",
            "2008-01-01T00:00:00",
            "2009-01-01T00:00:00",
            "2010-01-01T00:00:00",
            "2011-01-01T00:00:00",
            "2012-01-01T00:00:00"
           ],
           "xaxis": "x",
           "y": [
            1488.9216,
            1594.7357,
            1734.7332,
            1891.2493,
            1945.0106,
            2000.596,
            2096.3098,
            2112.223,
            2184.9646,
            2225.9788,
            2322.5298,
            2406.615,
            2390.0642,
            2431.1948,
            2523.7056,
            2540.46,
            2613.17,
            2654.78,
            2601.05,
            2719.41,
            2726.97,
            2761.59,
            2703.49,
            2694.72,
            2656.76,
            2725.91,
            2610.34,
            2432.22
           ],
           "yaxis": "y"
          },
          {
           "hovertemplate": "variable=Fossil<br>frame=2012<br>year=%{x}<br>value=%{y}<extra></extra>",
           "legendgroup": "Fossil",
           "line": {
            "color": "#00cc96",
            "dash": "solid"
           },
           "marker": {
            "symbol": "circle"
           },
           "mode": "lines",
           "name": "Fossil",
           "orientation": "v",
           "showlegend": true,
           "type": "scatter",
           "x": [
            "1985-01-01T00:00:00",
            "1986-01-01T00:00:00",
            "1987-01-01T00:00:00",
            "1988-01-01T00:00:00",
            "1989-01-01T00:00:00",
            "1990-01-01T00:00:00",
            "1991-01-01T00:00:00",
            "1992-01-01T00:00:00",
            "1993-01-01T00:00:00",
            "1994-01-01T00:00:00",
            "1995-01-01T00:00:00",
            "1996-01-01T00:00:00",
            "1997-01-01T00:00:00",
            "1998-01-01T00:00:00",
            "1999-01-01T00:00:00",
            "2000-01-01T00:00:00",
            "2001-01-01T00:00:00",
            "2002-01-01T00:00:00",
            "2003-01-01T00:00:00",
            "2004-01-01T00:00:00",
            "2005-01-01T00:00:00",
            "2006-01-01T00:00:00",
            "2007-01-01T00:00:00",
            "2008-01-01T00:00:00",
            "2009-01-01T00:00:00",
            "2010-01-01T00:00:00",
            "2011-01-01T00:00:00",
            "2012-01-01T00:00:00"
           ],
           "xaxis": "x",
           "y": [
            6285.4736,
            6439.9746,
            6757.7617,
            6998.179,
            7455.736,
            7614.993,
            7722.592,
            7807.883,
            7858.686,
            8119.1626,
            8335.322,
            8627.022,
            8911.184,
            9214.535,
            9498.733,
            9878.1,
            10090.26,
            10520.97,
            11126.3,
            11564.24,
            12126.32,
            12644.06,
            13468.19,
            13607.04,
            13405.4,
            14345.73,
            14952.61,
            15362.46
           ],
           "yaxis": "y"
          }
         ],
         "name": "2012"
        },
        {
         "data": [
          {
           "hovertemplate": "variable=Renewable<br>frame=2013<br>year=%{x}<br>value=%{y}<extra></extra>",
           "legendgroup": "Renewable",
           "line": {
            "color": "#636efa",
            "dash": "solid"
           },
           "marker": {
            "symbol": "circle"
           },
           "mode": "lines",
           "name": "Renewable",
           "orientation": "v",
           "showlegend": true,
           "type": "scatter",
           "x": [
            "1985-01-01T00:00:00",
            "1986-01-01T00:00:00",
            "1987-01-01T00:00:00",
            "1988-01-01T00:00:00",
            "1989-01-01T00:00:00",
            "1990-01-01T00:00:00",
            "1991-01-01T00:00:00",
            "1992-01-01T00:00:00",
            "1993-01-01T00:00:00",
            "1994-01-01T00:00:00",
            "1995-01-01T00:00:00",
            "1996-01-01T00:00:00",
            "1997-01-01T00:00:00",
            "1998-01-01T00:00:00",
            "1999-01-01T00:00:00",
            "2000-01-01T00:00:00",
            "2001-01-01T00:00:00",
            "2002-01-01T00:00:00",
            "2003-01-01T00:00:00",
            "2004-01-01T00:00:00",
            "2005-01-01T00:00:00",
            "2006-01-01T00:00:00",
            "2007-01-01T00:00:00",
            "2008-01-01T00:00:00",
            "2009-01-01T00:00:00",
            "2010-01-01T00:00:00",
            "2011-01-01T00:00:00",
            "2012-01-01T00:00:00",
            "2013-01-01T00:00:00"
           ],
           "xaxis": "x",
           "y": [
            2058.0222,
            2091.6704,
            2124.9146,
            2192.8516,
            2195.1711,
            2279.8643,
            2335.3965,
            2344.6736,
            2483.061,
            2504.311,
            2638.9414,
            2677.4333,
            2735.5457,
            2765.892,
            2799.2485,
            2858.4,
            2795.97,
            2873.26,
            2899.25,
            3129.16,
            3279.51,
            3432.46,
            3540.47,
            3798.13,
            3879.24,
            4191.63,
            4394.13,
            4721.16,
            5025.8
           ],
           "yaxis": "y"
          },
          {
           "hovertemplate": "variable=Nuclear<br>frame=2013<br>year=%{x}<br>value=%{y}<extra></extra>",
           "legendgroup": "Nuclear",
           "line": {
            "color": "#EF553B",
            "dash": "solid"
           },
           "marker": {
            "symbol": "circle"
           },
           "mode": "lines",
           "name": "Nuclear",
           "orientation": "v",
           "showlegend": true,
           "type": "scatter",
           "x": [
            "1985-01-01T00:00:00",
            "1986-01-01T00:00:00",
            "1987-01-01T00:00:00",
            "1988-01-01T00:00:00",
            "1989-01-01T00:00:00",
            "1990-01-01T00:00:00",
            "1991-01-01T00:00:00",
            "1992-01-01T00:00:00",
            "1993-01-01T00:00:00",
            "1994-01-01T00:00:00",
            "1995-01-01T00:00:00",
            "1996-01-01T00:00:00",
            "1997-01-01T00:00:00",
            "1998-01-01T00:00:00",
            "1999-01-01T00:00:00",
            "2000-01-01T00:00:00",
            "2001-01-01T00:00:00",
            "2002-01-01T00:00:00",
            "2003-01-01T00:00:00",
            "2004-01-01T00:00:00",
            "2005-01-01T00:00:00",
            "2006-01-01T00:00:00",
            "2007-01-01T00:00:00",
            "2008-01-01T00:00:00",
            "2009-01-01T00:00:00",
            "2010-01-01T00:00:00",
            "2011-01-01T00:00:00",
            "2012-01-01T00:00:00",
            "2013-01-01T00:00:00"
           ],
           "xaxis": "x",
           "y": [
            1488.9216,
            1594.7357,
            1734.7332,
            1891.2493,
            1945.0106,
            2000.596,
            2096.3098,
            2112.223,
            2184.9646,
            2225.9788,
            2322.5298,
            2406.615,
            2390.0642,
            2431.1948,
            2523.7056,
            2540.46,
            2613.17,
            2654.78,
            2601.05,
            2719.41,
            2726.97,
            2761.59,
            2703.49,
            2694.72,
            2656.76,
            2725.91,
            2610.34,
            2432.22,
            2448.52
           ],
           "yaxis": "y"
          },
          {
           "hovertemplate": "variable=Fossil<br>frame=2013<br>year=%{x}<br>value=%{y}<extra></extra>",
           "legendgroup": "Fossil",
           "line": {
            "color": "#00cc96",
            "dash": "solid"
           },
           "marker": {
            "symbol": "circle"
           },
           "mode": "lines",
           "name": "Fossil",
           "orientation": "v",
           "showlegend": true,
           "type": "scatter",
           "x": [
            "1985-01-01T00:00:00",
            "1986-01-01T00:00:00",
            "1987-01-01T00:00:00",
            "1988-01-01T00:00:00",
            "1989-01-01T00:00:00",
            "1990-01-01T00:00:00",
            "1991-01-01T00:00:00",
            "1992-01-01T00:00:00",
            "1993-01-01T00:00:00",
            "1994-01-01T00:00:00",
            "1995-01-01T00:00:00",
            "1996-01-01T00:00:00",
            "1997-01-01T00:00:00",
            "1998-01-01T00:00:00",
            "1999-01-01T00:00:00",
            "2000-01-01T00:00:00",
            "2001-01-01T00:00:00",
            "2002-01-01T00:00:00",
            "2003-01-01T00:00:00",
            "2004-01-01T00:00:00",
            "2005-01-01T00:00:00",
            "2006-01-01T00:00:00",
            "2007-01-01T00:00:00",
            "2008-01-01T00:00:00",
            "2009-01-01T00:00:00",
            "2010-01-01T00:00:00",
            "2011-01-01T00:00:00",
            "2012-01-01T00:00:00",
            "2013-01-01T00:00:00"
           ],
           "xaxis": "x",
           "y": [
            6285.4736,
            6439.9746,
            6757.7617,
            6998.179,
            7455.736,
            7614.993,
            7722.592,
            7807.883,
            7858.686,
            8119.1626,
            8335.322,
            8627.022,
            8911.184,
            9214.535,
            9498.733,
            9878.1,
            10090.26,
            10520.97,
            11126.3,
            11564.24,
            12126.32,
            12644.06,
            13468.19,
            13607.04,
            13405.4,
            14345.73,
            14952.61,
            15362.46,
            15681.07
           ],
           "yaxis": "y"
          }
         ],
         "name": "2013"
        },
        {
         "data": [
          {
           "hovertemplate": "variable=Renewable<br>frame=2014<br>year=%{x}<br>value=%{y}<extra></extra>",
           "legendgroup": "Renewable",
           "line": {
            "color": "#636efa",
            "dash": "solid"
           },
           "marker": {
            "symbol": "circle"
           },
           "mode": "lines",
           "name": "Renewable",
           "orientation": "v",
           "showlegend": true,
           "type": "scatter",
           "x": [
            "1985-01-01T00:00:00",
            "1986-01-01T00:00:00",
            "1987-01-01T00:00:00",
            "1988-01-01T00:00:00",
            "1989-01-01T00:00:00",
            "1990-01-01T00:00:00",
            "1991-01-01T00:00:00",
            "1992-01-01T00:00:00",
            "1993-01-01T00:00:00",
            "1994-01-01T00:00:00",
            "1995-01-01T00:00:00",
            "1996-01-01T00:00:00",
            "1997-01-01T00:00:00",
            "1998-01-01T00:00:00",
            "1999-01-01T00:00:00",
            "2000-01-01T00:00:00",
            "2001-01-01T00:00:00",
            "2002-01-01T00:00:00",
            "2003-01-01T00:00:00",
            "2004-01-01T00:00:00",
            "2005-01-01T00:00:00",
            "2006-01-01T00:00:00",
            "2007-01-01T00:00:00",
            "2008-01-01T00:00:00",
            "2009-01-01T00:00:00",
            "2010-01-01T00:00:00",
            "2011-01-01T00:00:00",
            "2012-01-01T00:00:00",
            "2013-01-01T00:00:00",
            "2014-01-01T00:00:00"
           ],
           "xaxis": "x",
           "y": [
            2058.0222,
            2091.6704,
            2124.9146,
            2192.8516,
            2195.1711,
            2279.8643,
            2335.3965,
            2344.6736,
            2483.061,
            2504.311,
            2638.9414,
            2677.4333,
            2735.5457,
            2765.892,
            2799.2485,
            2858.4,
            2795.97,
            2873.26,
            2899.25,
            3129.16,
            3279.51,
            3432.46,
            3540.47,
            3798.13,
            3879.24,
            4191.63,
            4394.13,
            4721.16,
            5025.8,
            5285.56
           ],
           "yaxis": "y"
          },
          {
           "hovertemplate": "variable=Nuclear<br>frame=2014<br>year=%{x}<br>value=%{y}<extra></extra>",
           "legendgroup": "Nuclear",
           "line": {
            "color": "#EF553B",
            "dash": "solid"
           },
           "marker": {
            "symbol": "circle"
           },
           "mode": "lines",
           "name": "Nuclear",
           "orientation": "v",
           "showlegend": true,
           "type": "scatter",
           "x": [
            "1985-01-01T00:00:00",
            "1986-01-01T00:00:00",
            "1987-01-01T00:00:00",
            "1988-01-01T00:00:00",
            "1989-01-01T00:00:00",
            "1990-01-01T00:00:00",
            "1991-01-01T00:00:00",
            "1992-01-01T00:00:00",
            "1993-01-01T00:00:00",
            "1994-01-01T00:00:00",
            "1995-01-01T00:00:00",
            "1996-01-01T00:00:00",
            "1997-01-01T00:00:00",
            "1998-01-01T00:00:00",
            "1999-01-01T00:00:00",
            "2000-01-01T00:00:00",
            "2001-01-01T00:00:00",
            "2002-01-01T00:00:00",
            "2003-01-01T00:00:00",
            "2004-01-01T00:00:00",
            "2005-01-01T00:00:00",
            "2006-01-01T00:00:00",
            "2007-01-01T00:00:00",
            "2008-01-01T00:00:00",
            "2009-01-01T00:00:00",
            "2010-01-01T00:00:00",
            "2011-01-01T00:00:00",
            "2012-01-01T00:00:00",
            "2013-01-01T00:00:00",
            "2014-01-01T00:00:00"
           ],
           "xaxis": "x",
           "y": [
            1488.9216,
            1594.7357,
            1734.7332,
            1891.2493,
            1945.0106,
            2000.596,
            2096.3098,
            2112.223,
            2184.9646,
            2225.9788,
            2322.5298,
            2406.615,
            2390.0642,
            2431.1948,
            2523.7056,
            2540.46,
            2613.17,
            2654.78,
            2601.05,
            2719.41,
            2726.97,
            2761.59,
            2703.49,
            2694.72,
            2656.76,
            2725.91,
            2610.34,
            2432.22,
            2448.52,
            2498.73
           ],
           "yaxis": "y"
          },
          {
           "hovertemplate": "variable=Fossil<br>frame=2014<br>year=%{x}<br>value=%{y}<extra></extra>",
           "legendgroup": "Fossil",
           "line": {
            "color": "#00cc96",
            "dash": "solid"
           },
           "marker": {
            "symbol": "circle"
           },
           "mode": "lines",
           "name": "Fossil",
           "orientation": "v",
           "showlegend": true,
           "type": "scatter",
           "x": [
            "1985-01-01T00:00:00",
            "1986-01-01T00:00:00",
            "1987-01-01T00:00:00",
            "1988-01-01T00:00:00",
            "1989-01-01T00:00:00",
            "1990-01-01T00:00:00",
            "1991-01-01T00:00:00",
            "1992-01-01T00:00:00",
            "1993-01-01T00:00:00",
            "1994-01-01T00:00:00",
            "1995-01-01T00:00:00",
            "1996-01-01T00:00:00",
            "1997-01-01T00:00:00",
            "1998-01-01T00:00:00",
            "1999-01-01T00:00:00",
            "2000-01-01T00:00:00",
            "2001-01-01T00:00:00",
            "2002-01-01T00:00:00",
            "2003-01-01T00:00:00",
            "2004-01-01T00:00:00",
            "2005-01-01T00:00:00",
            "2006-01-01T00:00:00",
            "2007-01-01T00:00:00",
            "2008-01-01T00:00:00",
            "2009-01-01T00:00:00",
            "2010-01-01T00:00:00",
            "2011-01-01T00:00:00",
            "2012-01-01T00:00:00",
            "2013-01-01T00:00:00",
            "2014-01-01T00:00:00"
           ],
           "xaxis": "x",
           "y": [
            6285.4736,
            6439.9746,
            6757.7617,
            6998.179,
            7455.736,
            7614.993,
            7722.592,
            7807.883,
            7858.686,
            8119.1626,
            8335.322,
            8627.022,
            8911.184,
            9214.535,
            9498.733,
            9878.1,
            10090.26,
            10520.97,
            11126.3,
            11564.24,
            12126.32,
            12644.06,
            13468.19,
            13607.04,
            13405.4,
            14345.73,
            14952.61,
            15362.46,
            15681.07,
            15965.13
           ],
           "yaxis": "y"
          }
         ],
         "name": "2014"
        },
        {
         "data": [
          {
           "hovertemplate": "variable=Renewable<br>frame=2015<br>year=%{x}<br>value=%{y}<extra></extra>",
           "legendgroup": "Renewable",
           "line": {
            "color": "#636efa",
            "dash": "solid"
           },
           "marker": {
            "symbol": "circle"
           },
           "mode": "lines",
           "name": "Renewable",
           "orientation": "v",
           "showlegend": true,
           "type": "scatter",
           "x": [
            "1985-01-01T00:00:00",
            "1986-01-01T00:00:00",
            "1987-01-01T00:00:00",
            "1988-01-01T00:00:00",
            "1989-01-01T00:00:00",
            "1990-01-01T00:00:00",
            "1991-01-01T00:00:00",
            "1992-01-01T00:00:00",
            "1993-01-01T00:00:00",
            "1994-01-01T00:00:00",
            "1995-01-01T00:00:00",
            "1996-01-01T00:00:00",
            "1997-01-01T00:00:00",
            "1998-01-01T00:00:00",
            "1999-01-01T00:00:00",
            "2000-01-01T00:00:00",
            "2001-01-01T00:00:00",
            "2002-01-01T00:00:00",
            "2003-01-01T00:00:00",
            "2004-01-01T00:00:00",
            "2005-01-01T00:00:00",
            "2006-01-01T00:00:00",
            "2007-01-01T00:00:00",
            "2008-01-01T00:00:00",
            "2009-01-01T00:00:00",
            "2010-01-01T00:00:00",
            "2011-01-01T00:00:00",
            "2012-01-01T00:00:00",
            "2013-01-01T00:00:00",
            "2014-01-01T00:00:00",
            "2015-01-01T00:00:00"
           ],
           "xaxis": "x",
           "y": [
            2058.0222,
            2091.6704,
            2124.9146,
            2192.8516,
            2195.1711,
            2279.8643,
            2335.3965,
            2344.6736,
            2483.061,
            2504.311,
            2638.9414,
            2677.4333,
            2735.5457,
            2765.892,
            2799.2485,
            2858.4,
            2795.97,
            2873.26,
            2899.25,
            3129.16,
            3279.51,
            3432.46,
            3540.47,
            3798.13,
            3879.24,
            4191.63,
            4394.13,
            4721.16,
            5025.8,
            5285.56,
            5519.22
           ],
           "yaxis": "y"
          },
          {
           "hovertemplate": "variable=Nuclear<br>frame=2015<br>year=%{x}<br>value=%{y}<extra></extra>",
           "legendgroup": "Nuclear",
           "line": {
            "color": "#EF553B",
            "dash": "solid"
           },
           "marker": {
            "symbol": "circle"
           },
           "mode": "lines",
           "name": "Nuclear",
           "orientation": "v",
           "showlegend": true,
           "type": "scatter",
           "x": [
            "1985-01-01T00:00:00",
            "1986-01-01T00:00:00",
            "1987-01-01T00:00:00",
            "1988-01-01T00:00:00",
            "1989-01-01T00:00:00",
            "1990-01-01T00:00:00",
            "1991-01-01T00:00:00",
            "1992-01-01T00:00:00",
            "1993-01-01T00:00:00",
            "1994-01-01T00:00:00",
            "1995-01-01T00:00:00",
            "1996-01-01T00:00:00",
            "1997-01-01T00:00:00",
            "1998-01-01T00:00:00",
            "1999-01-01T00:00:00",
            "2000-01-01T00:00:00",
            "2001-01-01T00:00:00",
            "2002-01-01T00:00:00",
            "2003-01-01T00:00:00",
            "2004-01-01T00:00:00",
            "2005-01-01T00:00:00",
            "2006-01-01T00:00:00",
            "2007-01-01T00:00:00",
            "2008-01-01T00:00:00",
            "2009-01-01T00:00:00",
            "2010-01-01T00:00:00",
            "2011-01-01T00:00:00",
            "2012-01-01T00:00:00",
            "2013-01-01T00:00:00",
            "2014-01-01T00:00:00",
            "2015-01-01T00:00:00"
           ],
           "xaxis": "x",
           "y": [
            1488.9216,
            1594.7357,
            1734.7332,
            1891.2493,
            1945.0106,
            2000.596,
            2096.3098,
            2112.223,
            2184.9646,
            2225.9788,
            2322.5298,
            2406.615,
            2390.0642,
            2431.1948,
            2523.7056,
            2540.46,
            2613.17,
            2654.78,
            2601.05,
            2719.41,
            2726.97,
            2761.59,
            2703.49,
            2694.72,
            2656.76,
            2725.91,
            2610.34,
            2432.22,
            2448.52,
            2498.73,
            2532.93
           ],
           "yaxis": "y"
          },
          {
           "hovertemplate": "variable=Fossil<br>frame=2015<br>year=%{x}<br>value=%{y}<extra></extra>",
           "legendgroup": "Fossil",
           "line": {
            "color": "#00cc96",
            "dash": "solid"
           },
           "marker": {
            "symbol": "circle"
           },
           "mode": "lines",
           "name": "Fossil",
           "orientation": "v",
           "showlegend": true,
           "type": "scatter",
           "x": [
            "1985-01-01T00:00:00",
            "1986-01-01T00:00:00",
            "1987-01-01T00:00:00",
            "1988-01-01T00:00:00",
            "1989-01-01T00:00:00",
            "1990-01-01T00:00:00",
            "1991-01-01T00:00:00",
            "1992-01-01T00:00:00",
            "1993-01-01T00:00:00",
            "1994-01-01T00:00:00",
            "1995-01-01T00:00:00",
            "1996-01-01T00:00:00",
            "1997-01-01T00:00:00",
            "1998-01-01T00:00:00",
            "1999-01-01T00:00:00",
            "2000-01-01T00:00:00",
            "2001-01-01T00:00:00",
            "2002-01-01T00:00:00",
            "2003-01-01T00:00:00",
            "2004-01-01T00:00:00",
            "2005-01-01T00:00:00",
            "2006-01-01T00:00:00",
            "2007-01-01T00:00:00",
            "2008-01-01T00:00:00",
            "2009-01-01T00:00:00",
            "2010-01-01T00:00:00",
            "2011-01-01T00:00:00",
            "2012-01-01T00:00:00",
            "2013-01-01T00:00:00",
            "2014-01-01T00:00:00",
            "2015-01-01T00:00:00"
           ],
           "xaxis": "x",
           "y": [
            6285.4736,
            6439.9746,
            6757.7617,
            6998.179,
            7455.736,
            7614.993,
            7722.592,
            7807.883,
            7858.686,
            8119.1626,
            8335.322,
            8627.022,
            8911.184,
            9214.535,
            9498.733,
            9878.1,
            10090.26,
            10520.97,
            11126.3,
            11564.24,
            12126.32,
            12644.06,
            13468.19,
            13607.04,
            13405.4,
            14345.73,
            14952.61,
            15362.46,
            15681.07,
            15965.13,
            15953.64
           ],
           "yaxis": "y"
          }
         ],
         "name": "2015"
        },
        {
         "data": [
          {
           "hovertemplate": "variable=Renewable<br>frame=2016<br>year=%{x}<br>value=%{y}<extra></extra>",
           "legendgroup": "Renewable",
           "line": {
            "color": "#636efa",
            "dash": "solid"
           },
           "marker": {
            "symbol": "circle"
           },
           "mode": "lines",
           "name": "Renewable",
           "orientation": "v",
           "showlegend": true,
           "type": "scatter",
           "x": [
            "1985-01-01T00:00:00",
            "1986-01-01T00:00:00",
            "1987-01-01T00:00:00",
            "1988-01-01T00:00:00",
            "1989-01-01T00:00:00",
            "1990-01-01T00:00:00",
            "1991-01-01T00:00:00",
            "1992-01-01T00:00:00",
            "1993-01-01T00:00:00",
            "1994-01-01T00:00:00",
            "1995-01-01T00:00:00",
            "1996-01-01T00:00:00",
            "1997-01-01T00:00:00",
            "1998-01-01T00:00:00",
            "1999-01-01T00:00:00",
            "2000-01-01T00:00:00",
            "2001-01-01T00:00:00",
            "2002-01-01T00:00:00",
            "2003-01-01T00:00:00",
            "2004-01-01T00:00:00",
            "2005-01-01T00:00:00",
            "2006-01-01T00:00:00",
            "2007-01-01T00:00:00",
            "2008-01-01T00:00:00",
            "2009-01-01T00:00:00",
            "2010-01-01T00:00:00",
            "2011-01-01T00:00:00",
            "2012-01-01T00:00:00",
            "2013-01-01T00:00:00",
            "2014-01-01T00:00:00",
            "2015-01-01T00:00:00",
            "2016-01-01T00:00:00"
           ],
           "xaxis": "x",
           "y": [
            2058.0222,
            2091.6704,
            2124.9146,
            2192.8516,
            2195.1711,
            2279.8643,
            2335.3965,
            2344.6736,
            2483.061,
            2504.311,
            2638.9414,
            2677.4333,
            2735.5457,
            2765.892,
            2799.2485,
            2858.4,
            2795.97,
            2873.26,
            2899.25,
            3129.16,
            3279.51,
            3432.46,
            3540.47,
            3798.13,
            3879.24,
            4191.63,
            4394.13,
            4721.16,
            5025.8,
            5285.56,
            5519.22,
            5858.55
           ],
           "yaxis": "y"
          },
          {
           "hovertemplate": "variable=Nuclear<br>frame=2016<br>year=%{x}<br>value=%{y}<extra></extra>",
           "legendgroup": "Nuclear",
           "line": {
            "color": "#EF553B",
            "dash": "solid"
           },
           "marker": {
            "symbol": "circle"
           },
           "mode": "lines",
           "name": "Nuclear",
           "orientation": "v",
           "showlegend": true,
           "type": "scatter",
           "x": [
            "1985-01-01T00:00:00",
            "1986-01-01T00:00:00",
            "1987-01-01T00:00:00",
            "1988-01-01T00:00:00",
            "1989-01-01T00:00:00",
            "1990-01-01T00:00:00",
            "1991-01-01T00:00:00",
            "1992-01-01T00:00:00",
            "1993-01-01T00:00:00",
            "1994-01-01T00:00:00",
            "1995-01-01T00:00:00",
            "1996-01-01T00:00:00",
            "1997-01-01T00:00:00",
            "1998-01-01T00:00:00",
            "1999-01-01T00:00:00",
            "2000-01-01T00:00:00",
            "2001-01-01T00:00:00",
            "2002-01-01T00:00:00",
            "2003-01-01T00:00:00",
            "2004-01-01T00:00:00",
            "2005-01-01T00:00:00",
            "2006-01-01T00:00:00",
            "2007-01-01T00:00:00",
            "2008-01-01T00:00:00",
            "2009-01-01T00:00:00",
            "2010-01-01T00:00:00",
            "2011-01-01T00:00:00",
            "2012-01-01T00:00:00",
            "2013-01-01T00:00:00",
            "2014-01-01T00:00:00",
            "2015-01-01T00:00:00",
            "2016-01-01T00:00:00"
           ],
           "xaxis": "x",
           "y": [
            1488.9216,
            1594.7357,
            1734.7332,
            1891.2493,
            1945.0106,
            2000.596,
            2096.3098,
            2112.223,
            2184.9646,
            2225.9788,
            2322.5298,
            2406.615,
            2390.0642,
            2431.1948,
            2523.7056,
            2540.46,
            2613.17,
            2654.78,
            2601.05,
            2719.41,
            2726.97,
            2761.59,
            2703.49,
            2694.72,
            2656.76,
            2725.91,
            2610.34,
            2432.22,
            2448.52,
            2498.73,
            2532.93,
            2571.05
           ],
           "yaxis": "y"
          },
          {
           "hovertemplate": "variable=Fossil<br>frame=2016<br>year=%{x}<br>value=%{y}<extra></extra>",
           "legendgroup": "Fossil",
           "line": {
            "color": "#00cc96",
            "dash": "solid"
           },
           "marker": {
            "symbol": "circle"
           },
           "mode": "lines",
           "name": "Fossil",
           "orientation": "v",
           "showlegend": true,
           "type": "scatter",
           "x": [
            "1985-01-01T00:00:00",
            "1986-01-01T00:00:00",
            "1987-01-01T00:00:00",
            "1988-01-01T00:00:00",
            "1989-01-01T00:00:00",
            "1990-01-01T00:00:00",
            "1991-01-01T00:00:00",
            "1992-01-01T00:00:00",
            "1993-01-01T00:00:00",
            "1994-01-01T00:00:00",
            "1995-01-01T00:00:00",
            "1996-01-01T00:00:00",
            "1997-01-01T00:00:00",
            "1998-01-01T00:00:00",
            "1999-01-01T00:00:00",
            "2000-01-01T00:00:00",
            "2001-01-01T00:00:00",
            "2002-01-01T00:00:00",
            "2003-01-01T00:00:00",
            "2004-01-01T00:00:00",
            "2005-01-01T00:00:00",
            "2006-01-01T00:00:00",
            "2007-01-01T00:00:00",
            "2008-01-01T00:00:00",
            "2009-01-01T00:00:00",
            "2010-01-01T00:00:00",
            "2011-01-01T00:00:00",
            "2012-01-01T00:00:00",
            "2013-01-01T00:00:00",
            "2014-01-01T00:00:00",
            "2015-01-01T00:00:00",
            "2016-01-01T00:00:00"
           ],
           "xaxis": "x",
           "y": [
            6285.4736,
            6439.9746,
            6757.7617,
            6998.179,
            7455.736,
            7614.993,
            7722.592,
            7807.883,
            7858.686,
            8119.1626,
            8335.322,
            8627.022,
            8911.184,
            9214.535,
            9498.733,
            9878.1,
            10090.26,
            10520.97,
            11126.3,
            11564.24,
            12126.32,
            12644.06,
            13468.19,
            13607.04,
            13405.4,
            14345.73,
            14952.61,
            15362.46,
            15681.07,
            15965.13,
            15953.64,
            16233.18
           ],
           "yaxis": "y"
          }
         ],
         "name": "2016"
        },
        {
         "data": [
          {
           "hovertemplate": "variable=Renewable<br>frame=2017<br>year=%{x}<br>value=%{y}<extra></extra>",
           "legendgroup": "Renewable",
           "line": {
            "color": "#636efa",
            "dash": "solid"
           },
           "marker": {
            "symbol": "circle"
           },
           "mode": "lines",
           "name": "Renewable",
           "orientation": "v",
           "showlegend": true,
           "type": "scatter",
           "x": [
            "1985-01-01T00:00:00",
            "1986-01-01T00:00:00",
            "1987-01-01T00:00:00",
            "1988-01-01T00:00:00",
            "1989-01-01T00:00:00",
            "1990-01-01T00:00:00",
            "1991-01-01T00:00:00",
            "1992-01-01T00:00:00",
            "1993-01-01T00:00:00",
            "1994-01-01T00:00:00",
            "1995-01-01T00:00:00",
            "1996-01-01T00:00:00",
            "1997-01-01T00:00:00",
            "1998-01-01T00:00:00",
            "1999-01-01T00:00:00",
            "2000-01-01T00:00:00",
            "2001-01-01T00:00:00",
            "2002-01-01T00:00:00",
            "2003-01-01T00:00:00",
            "2004-01-01T00:00:00",
            "2005-01-01T00:00:00",
            "2006-01-01T00:00:00",
            "2007-01-01T00:00:00",
            "2008-01-01T00:00:00",
            "2009-01-01T00:00:00",
            "2010-01-01T00:00:00",
            "2011-01-01T00:00:00",
            "2012-01-01T00:00:00",
            "2013-01-01T00:00:00",
            "2014-01-01T00:00:00",
            "2015-01-01T00:00:00",
            "2016-01-01T00:00:00",
            "2017-01-01T00:00:00"
           ],
           "xaxis": "x",
           "y": [
            2058.0222,
            2091.6704,
            2124.9146,
            2192.8516,
            2195.1711,
            2279.8643,
            2335.3965,
            2344.6736,
            2483.061,
            2504.311,
            2638.9414,
            2677.4333,
            2735.5457,
            2765.892,
            2799.2485,
            2858.4,
            2795.97,
            2873.26,
            2899.25,
            3129.16,
            3279.51,
            3432.46,
            3540.47,
            3798.13,
            3879.24,
            4191.63,
            4394.13,
            4721.16,
            5025.8,
            5285.56,
            5519.22,
            5858.55,
            6234.46
           ],
           "yaxis": "y"
          },
          {
           "hovertemplate": "variable=Nuclear<br>frame=2017<br>year=%{x}<br>value=%{y}<extra></extra>",
           "legendgroup": "Nuclear",
           "line": {
            "color": "#EF553B",
            "dash": "solid"
           },
           "marker": {
            "symbol": "circle"
           },
           "mode": "lines",
           "name": "Nuclear",
           "orientation": "v",
           "showlegend": true,
           "type": "scatter",
           "x": [
            "1985-01-01T00:00:00",
            "1986-01-01T00:00:00",
            "1987-01-01T00:00:00",
            "1988-01-01T00:00:00",
            "1989-01-01T00:00:00",
            "1990-01-01T00:00:00",
            "1991-01-01T00:00:00",
            "1992-01-01T00:00:00",
            "1993-01-01T00:00:00",
            "1994-01-01T00:00:00",
            "1995-01-01T00:00:00",
            "1996-01-01T00:00:00",
            "1997-01-01T00:00:00",
            "1998-01-01T00:00:00",
            "1999-01-01T00:00:00",
            "2000-01-01T00:00:00",
            "2001-01-01T00:00:00",
            "2002-01-01T00:00:00",
            "2003-01-01T00:00:00",
            "2004-01-01T00:00:00",
            "2005-01-01T00:00:00",
            "2006-01-01T00:00:00",
            "2007-01-01T00:00:00",
            "2008-01-01T00:00:00",
            "2009-01-01T00:00:00",
            "2010-01-01T00:00:00",
            "2011-01-01T00:00:00",
            "2012-01-01T00:00:00",
            "2013-01-01T00:00:00",
            "2014-01-01T00:00:00",
            "2015-01-01T00:00:00",
            "2016-01-01T00:00:00",
            "2017-01-01T00:00:00"
           ],
           "xaxis": "x",
           "y": [
            1488.9216,
            1594.7357,
            1734.7332,
            1891.2493,
            1945.0106,
            2000.596,
            2096.3098,
            2112.223,
            2184.9646,
            2225.9788,
            2322.5298,
            2406.615,
            2390.0642,
            2431.1948,
            2523.7056,
            2540.46,
            2613.17,
            2654.78,
            2601.05,
            2719.41,
            2726.97,
            2761.59,
            2703.49,
            2694.72,
            2656.76,
            2725.91,
            2610.34,
            2432.22,
            2448.52,
            2498.73,
            2532.93,
            2571.05,
            2594.23
           ],
           "yaxis": "y"
          },
          {
           "hovertemplate": "variable=Fossil<br>frame=2017<br>year=%{x}<br>value=%{y}<extra></extra>",
           "legendgroup": "Fossil",
           "line": {
            "color": "#00cc96",
            "dash": "solid"
           },
           "marker": {
            "symbol": "circle"
           },
           "mode": "lines",
           "name": "Fossil",
           "orientation": "v",
           "showlegend": true,
           "type": "scatter",
           "x": [
            "1985-01-01T00:00:00",
            "1986-01-01T00:00:00",
            "1987-01-01T00:00:00",
            "1988-01-01T00:00:00",
            "1989-01-01T00:00:00",
            "1990-01-01T00:00:00",
            "1991-01-01T00:00:00",
            "1992-01-01T00:00:00",
            "1993-01-01T00:00:00",
            "1994-01-01T00:00:00",
            "1995-01-01T00:00:00",
            "1996-01-01T00:00:00",
            "1997-01-01T00:00:00",
            "1998-01-01T00:00:00",
            "1999-01-01T00:00:00",
            "2000-01-01T00:00:00",
            "2001-01-01T00:00:00",
            "2002-01-01T00:00:00",
            "2003-01-01T00:00:00",
            "2004-01-01T00:00:00",
            "2005-01-01T00:00:00",
            "2006-01-01T00:00:00",
            "2007-01-01T00:00:00",
            "2008-01-01T00:00:00",
            "2009-01-01T00:00:00",
            "2010-01-01T00:00:00",
            "2011-01-01T00:00:00",
            "2012-01-01T00:00:00",
            "2013-01-01T00:00:00",
            "2014-01-01T00:00:00",
            "2015-01-01T00:00:00",
            "2016-01-01T00:00:00",
            "2017-01-01T00:00:00"
           ],
           "xaxis": "x",
           "y": [
            6285.4736,
            6439.9746,
            6757.7617,
            6998.179,
            7455.736,
            7614.993,
            7722.592,
            7807.883,
            7858.686,
            8119.1626,
            8335.322,
            8627.022,
            8911.184,
            9214.535,
            9498.733,
            9878.1,
            10090.26,
            10520.97,
            11126.3,
            11564.24,
            12126.32,
            12644.06,
            13468.19,
            13607.04,
            13405.4,
            14345.73,
            14952.61,
            15362.46,
            15681.07,
            15965.13,
            15953.64,
            16233.18,
            16574.46
           ],
           "yaxis": "y"
          }
         ],
         "name": "2017"
        },
        {
         "data": [
          {
           "hovertemplate": "variable=Renewable<br>frame=2018<br>year=%{x}<br>value=%{y}<extra></extra>",
           "legendgroup": "Renewable",
           "line": {
            "color": "#636efa",
            "dash": "solid"
           },
           "marker": {
            "symbol": "circle"
           },
           "mode": "lines",
           "name": "Renewable",
           "orientation": "v",
           "showlegend": true,
           "type": "scatter",
           "x": [
            "1985-01-01T00:00:00",
            "1986-01-01T00:00:00",
            "1987-01-01T00:00:00",
            "1988-01-01T00:00:00",
            "1989-01-01T00:00:00",
            "1990-01-01T00:00:00",
            "1991-01-01T00:00:00",
            "1992-01-01T00:00:00",
            "1993-01-01T00:00:00",
            "1994-01-01T00:00:00",
            "1995-01-01T00:00:00",
            "1996-01-01T00:00:00",
            "1997-01-01T00:00:00",
            "1998-01-01T00:00:00",
            "1999-01-01T00:00:00",
            "2000-01-01T00:00:00",
            "2001-01-01T00:00:00",
            "2002-01-01T00:00:00",
            "2003-01-01T00:00:00",
            "2004-01-01T00:00:00",
            "2005-01-01T00:00:00",
            "2006-01-01T00:00:00",
            "2007-01-01T00:00:00",
            "2008-01-01T00:00:00",
            "2009-01-01T00:00:00",
            "2010-01-01T00:00:00",
            "2011-01-01T00:00:00",
            "2012-01-01T00:00:00",
            "2013-01-01T00:00:00",
            "2014-01-01T00:00:00",
            "2015-01-01T00:00:00",
            "2016-01-01T00:00:00",
            "2017-01-01T00:00:00",
            "2018-01-01T00:00:00"
           ],
           "xaxis": "x",
           "y": [
            2058.0222,
            2091.6704,
            2124.9146,
            2192.8516,
            2195.1711,
            2279.8643,
            2335.3965,
            2344.6736,
            2483.061,
            2504.311,
            2638.9414,
            2677.4333,
            2735.5457,
            2765.892,
            2799.2485,
            2858.4,
            2795.97,
            2873.26,
            2899.25,
            3129.16,
            3279.51,
            3432.46,
            3540.47,
            3798.13,
            3879.24,
            4191.63,
            4394.13,
            4721.16,
            5025.8,
            5285.56,
            5519.22,
            5858.55,
            6234.46,
            6647.13
           ],
           "yaxis": "y"
          },
          {
           "hovertemplate": "variable=Nuclear<br>frame=2018<br>year=%{x}<br>value=%{y}<extra></extra>",
           "legendgroup": "Nuclear",
           "line": {
            "color": "#EF553B",
            "dash": "solid"
           },
           "marker": {
            "symbol": "circle"
           },
           "mode": "lines",
           "name": "Nuclear",
           "orientation": "v",
           "showlegend": true,
           "type": "scatter",
           "x": [
            "1985-01-01T00:00:00",
            "1986-01-01T00:00:00",
            "1987-01-01T00:00:00",
            "1988-01-01T00:00:00",
            "1989-01-01T00:00:00",
            "1990-01-01T00:00:00",
            "1991-01-01T00:00:00",
            "1992-01-01T00:00:00",
            "1993-01-01T00:00:00",
            "1994-01-01T00:00:00",
            "1995-01-01T00:00:00",
            "1996-01-01T00:00:00",
            "1997-01-01T00:00:00",
            "1998-01-01T00:00:00",
            "1999-01-01T00:00:00",
            "2000-01-01T00:00:00",
            "2001-01-01T00:00:00",
            "2002-01-01T00:00:00",
            "2003-01-01T00:00:00",
            "2004-01-01T00:00:00",
            "2005-01-01T00:00:00",
            "2006-01-01T00:00:00",
            "2007-01-01T00:00:00",
            "2008-01-01T00:00:00",
            "2009-01-01T00:00:00",
            "2010-01-01T00:00:00",
            "2011-01-01T00:00:00",
            "2012-01-01T00:00:00",
            "2013-01-01T00:00:00",
            "2014-01-01T00:00:00",
            "2015-01-01T00:00:00",
            "2016-01-01T00:00:00",
            "2017-01-01T00:00:00",
            "2018-01-01T00:00:00"
           ],
           "xaxis": "x",
           "y": [
            1488.9216,
            1594.7357,
            1734.7332,
            1891.2493,
            1945.0106,
            2000.596,
            2096.3098,
            2112.223,
            2184.9646,
            2225.9788,
            2322.5298,
            2406.615,
            2390.0642,
            2431.1948,
            2523.7056,
            2540.46,
            2613.17,
            2654.78,
            2601.05,
            2719.41,
            2726.97,
            2761.59,
            2703.49,
            2694.72,
            2656.76,
            2725.91,
            2610.34,
            2432.22,
            2448.52,
            2498.73,
            2532.93,
            2571.05,
            2594.23,
            2658.7
           ],
           "yaxis": "y"
          },
          {
           "hovertemplate": "variable=Fossil<br>frame=2018<br>year=%{x}<br>value=%{y}<extra></extra>",
           "legendgroup": "Fossil",
           "line": {
            "color": "#00cc96",
            "dash": "solid"
           },
           "marker": {
            "symbol": "circle"
           },
           "mode": "lines",
           "name": "Fossil",
           "orientation": "v",
           "showlegend": true,
           "type": "scatter",
           "x": [
            "1985-01-01T00:00:00",
            "1986-01-01T00:00:00",
            "1987-01-01T00:00:00",
            "1988-01-01T00:00:00",
            "1989-01-01T00:00:00",
            "1990-01-01T00:00:00",
            "1991-01-01T00:00:00",
            "1992-01-01T00:00:00",
            "1993-01-01T00:00:00",
            "1994-01-01T00:00:00",
            "1995-01-01T00:00:00",
            "1996-01-01T00:00:00",
            "1997-01-01T00:00:00",
            "1998-01-01T00:00:00",
            "1999-01-01T00:00:00",
            "2000-01-01T00:00:00",
            "2001-01-01T00:00:00",
            "2002-01-01T00:00:00",
            "2003-01-01T00:00:00",
            "2004-01-01T00:00:00",
            "2005-01-01T00:00:00",
            "2006-01-01T00:00:00",
            "2007-01-01T00:00:00",
            "2008-01-01T00:00:00",
            "2009-01-01T00:00:00",
            "2010-01-01T00:00:00",
            "2011-01-01T00:00:00",
            "2012-01-01T00:00:00",
            "2013-01-01T00:00:00",
            "2014-01-01T00:00:00",
            "2015-01-01T00:00:00",
            "2016-01-01T00:00:00",
            "2017-01-01T00:00:00",
            "2018-01-01T00:00:00"
           ],
           "xaxis": "x",
           "y": [
            6285.4736,
            6439.9746,
            6757.7617,
            6998.179,
            7455.736,
            7614.993,
            7722.592,
            7807.883,
            7858.686,
            8119.1626,
            8335.322,
            8627.022,
            8911.184,
            9214.535,
            9498.733,
            9878.1,
            10090.26,
            10520.97,
            11126.3,
            11564.24,
            12126.32,
            12644.06,
            13468.19,
            13607.04,
            13405.4,
            14345.73,
            14952.61,
            15362.46,
            15681.07,
            15965.13,
            15953.64,
            16233.18,
            16574.46,
            17094
           ],
           "yaxis": "y"
          }
         ],
         "name": "2018"
        },
        {
         "data": [
          {
           "hovertemplate": "variable=Renewable<br>frame=2019<br>year=%{x}<br>value=%{y}<extra></extra>",
           "legendgroup": "Renewable",
           "line": {
            "color": "#636efa",
            "dash": "solid"
           },
           "marker": {
            "symbol": "circle"
           },
           "mode": "lines",
           "name": "Renewable",
           "orientation": "v",
           "showlegend": true,
           "type": "scatter",
           "x": [
            "1985-01-01T00:00:00",
            "1986-01-01T00:00:00",
            "1987-01-01T00:00:00",
            "1988-01-01T00:00:00",
            "1989-01-01T00:00:00",
            "1990-01-01T00:00:00",
            "1991-01-01T00:00:00",
            "1992-01-01T00:00:00",
            "1993-01-01T00:00:00",
            "1994-01-01T00:00:00",
            "1995-01-01T00:00:00",
            "1996-01-01T00:00:00",
            "1997-01-01T00:00:00",
            "1998-01-01T00:00:00",
            "1999-01-01T00:00:00",
            "2000-01-01T00:00:00",
            "2001-01-01T00:00:00",
            "2002-01-01T00:00:00",
            "2003-01-01T00:00:00",
            "2004-01-01T00:00:00",
            "2005-01-01T00:00:00",
            "2006-01-01T00:00:00",
            "2007-01-01T00:00:00",
            "2008-01-01T00:00:00",
            "2009-01-01T00:00:00",
            "2010-01-01T00:00:00",
            "2011-01-01T00:00:00",
            "2012-01-01T00:00:00",
            "2013-01-01T00:00:00",
            "2014-01-01T00:00:00",
            "2015-01-01T00:00:00",
            "2016-01-01T00:00:00",
            "2017-01-01T00:00:00",
            "2018-01-01T00:00:00",
            "2019-01-01T00:00:00"
           ],
           "xaxis": "x",
           "y": [
            2058.0222,
            2091.6704,
            2124.9146,
            2192.8516,
            2195.1711,
            2279.8643,
            2335.3965,
            2344.6736,
            2483.061,
            2504.311,
            2638.9414,
            2677.4333,
            2735.5457,
            2765.892,
            2799.2485,
            2858.4,
            2795.97,
            2873.26,
            2899.25,
            3129.16,
            3279.51,
            3432.46,
            3540.47,
            3798.13,
            3879.24,
            4191.63,
            4394.13,
            4721.16,
            5025.8,
            5285.56,
            5519.22,
            5858.55,
            6234.46,
            6647.13,
            7010.63
           ],
           "yaxis": "y"
          },
          {
           "hovertemplate": "variable=Nuclear<br>frame=2019<br>year=%{x}<br>value=%{y}<extra></extra>",
           "legendgroup": "Nuclear",
           "line": {
            "color": "#EF553B",
            "dash": "solid"
           },
           "marker": {
            "symbol": "circle"
           },
           "mode": "lines",
           "name": "Nuclear",
           "orientation": "v",
           "showlegend": true,
           "type": "scatter",
           "x": [
            "1985-01-01T00:00:00",
            "1986-01-01T00:00:00",
            "1987-01-01T00:00:00",
            "1988-01-01T00:00:00",
            "1989-01-01T00:00:00",
            "1990-01-01T00:00:00",
            "1991-01-01T00:00:00",
            "1992-01-01T00:00:00",
            "1993-01-01T00:00:00",
            "1994-01-01T00:00:00",
            "1995-01-01T00:00:00",
            "1996-01-01T00:00:00",
            "1997-01-01T00:00:00",
            "1998-01-01T00:00:00",
            "1999-01-01T00:00:00",
            "2000-01-01T00:00:00",
            "2001-01-01T00:00:00",
            "2002-01-01T00:00:00",
            "2003-01-01T00:00:00",
            "2004-01-01T00:00:00",
            "2005-01-01T00:00:00",
            "2006-01-01T00:00:00",
            "2007-01-01T00:00:00",
            "2008-01-01T00:00:00",
            "2009-01-01T00:00:00",
            "2010-01-01T00:00:00",
            "2011-01-01T00:00:00",
            "2012-01-01T00:00:00",
            "2013-01-01T00:00:00",
            "2014-01-01T00:00:00",
            "2015-01-01T00:00:00",
            "2016-01-01T00:00:00",
            "2017-01-01T00:00:00",
            "2018-01-01T00:00:00",
            "2019-01-01T00:00:00"
           ],
           "xaxis": "x",
           "y": [
            1488.9216,
            1594.7357,
            1734.7332,
            1891.2493,
            1945.0106,
            2000.596,
            2096.3098,
            2112.223,
            2184.9646,
            2225.9788,
            2322.5298,
            2406.615,
            2390.0642,
            2431.1948,
            2523.7056,
            2540.46,
            2613.17,
            2654.78,
            2601.05,
            2719.41,
            2726.97,
            2761.59,
            2703.49,
            2694.72,
            2656.76,
            2725.91,
            2610.34,
            2432.22,
            2448.52,
            2498.73,
            2532.93,
            2571.05,
            2594.23,
            2658.7,
            2754.08
           ],
           "yaxis": "y"
          },
          {
           "hovertemplate": "variable=Fossil<br>frame=2019<br>year=%{x}<br>value=%{y}<extra></extra>",
           "legendgroup": "Fossil",
           "line": {
            "color": "#00cc96",
            "dash": "solid"
           },
           "marker": {
            "symbol": "circle"
           },
           "mode": "lines",
           "name": "Fossil",
           "orientation": "v",
           "showlegend": true,
           "type": "scatter",
           "x": [
            "1985-01-01T00:00:00",
            "1986-01-01T00:00:00",
            "1987-01-01T00:00:00",
            "1988-01-01T00:00:00",
            "1989-01-01T00:00:00",
            "1990-01-01T00:00:00",
            "1991-01-01T00:00:00",
            "1992-01-01T00:00:00",
            "1993-01-01T00:00:00",
            "1994-01-01T00:00:00",
            "1995-01-01T00:00:00",
            "1996-01-01T00:00:00",
            "1997-01-01T00:00:00",
            "1998-01-01T00:00:00",
            "1999-01-01T00:00:00",
            "2000-01-01T00:00:00",
            "2001-01-01T00:00:00",
            "2002-01-01T00:00:00",
            "2003-01-01T00:00:00",
            "2004-01-01T00:00:00",
            "2005-01-01T00:00:00",
            "2006-01-01T00:00:00",
            "2007-01-01T00:00:00",
            "2008-01-01T00:00:00",
            "2009-01-01T00:00:00",
            "2010-01-01T00:00:00",
            "2011-01-01T00:00:00",
            "2012-01-01T00:00:00",
            "2013-01-01T00:00:00",
            "2014-01-01T00:00:00",
            "2015-01-01T00:00:00",
            "2016-01-01T00:00:00",
            "2017-01-01T00:00:00",
            "2018-01-01T00:00:00",
            "2019-01-01T00:00:00"
           ],
           "xaxis": "x",
           "y": [
            6285.4736,
            6439.9746,
            6757.7617,
            6998.179,
            7455.736,
            7614.993,
            7722.592,
            7807.883,
            7858.686,
            8119.1626,
            8335.322,
            8627.022,
            8911.184,
            9214.535,
            9498.733,
            9878.1,
            10090.26,
            10520.97,
            11126.3,
            11564.24,
            12126.32,
            12644.06,
            13468.19,
            13607.04,
            13405.4,
            14345.73,
            14952.61,
            15362.46,
            15681.07,
            15965.13,
            15953.64,
            16233.18,
            16574.46,
            17094,
            17006.52
           ],
           "yaxis": "y"
          }
         ],
         "name": "2019"
        },
        {
         "data": [
          {
           "hovertemplate": "variable=Renewable<br>frame=2020<br>year=%{x}<br>value=%{y}<extra></extra>",
           "legendgroup": "Renewable",
           "line": {
            "color": "#636efa",
            "dash": "solid"
           },
           "marker": {
            "symbol": "circle"
           },
           "mode": "lines",
           "name": "Renewable",
           "orientation": "v",
           "showlegend": true,
           "type": "scatter",
           "x": [
            "1985-01-01T00:00:00",
            "1986-01-01T00:00:00",
            "1987-01-01T00:00:00",
            "1988-01-01T00:00:00",
            "1989-01-01T00:00:00",
            "1990-01-01T00:00:00",
            "1991-01-01T00:00:00",
            "1992-01-01T00:00:00",
            "1993-01-01T00:00:00",
            "1994-01-01T00:00:00",
            "1995-01-01T00:00:00",
            "1996-01-01T00:00:00",
            "1997-01-01T00:00:00",
            "1998-01-01T00:00:00",
            "1999-01-01T00:00:00",
            "2000-01-01T00:00:00",
            "2001-01-01T00:00:00",
            "2002-01-01T00:00:00",
            "2003-01-01T00:00:00",
            "2004-01-01T00:00:00",
            "2005-01-01T00:00:00",
            "2006-01-01T00:00:00",
            "2007-01-01T00:00:00",
            "2008-01-01T00:00:00",
            "2009-01-01T00:00:00",
            "2010-01-01T00:00:00",
            "2011-01-01T00:00:00",
            "2012-01-01T00:00:00",
            "2013-01-01T00:00:00",
            "2014-01-01T00:00:00",
            "2015-01-01T00:00:00",
            "2016-01-01T00:00:00",
            "2017-01-01T00:00:00",
            "2018-01-01T00:00:00",
            "2019-01-01T00:00:00",
            "2020-01-01T00:00:00"
           ],
           "xaxis": "x",
           "y": [
            2058.0222,
            2091.6704,
            2124.9146,
            2192.8516,
            2195.1711,
            2279.8643,
            2335.3965,
            2344.6736,
            2483.061,
            2504.311,
            2638.9414,
            2677.4333,
            2735.5457,
            2765.892,
            2799.2485,
            2858.4,
            2795.97,
            2873.26,
            2899.25,
            3129.16,
            3279.51,
            3432.46,
            3540.47,
            3798.13,
            3879.24,
            4191.63,
            4394.13,
            4721.16,
            5025.8,
            5285.56,
            5519.22,
            5858.55,
            6234.46,
            6647.13,
            7010.63,
            7483.8
           ],
           "yaxis": "y"
          },
          {
           "hovertemplate": "variable=Nuclear<br>frame=2020<br>year=%{x}<br>value=%{y}<extra></extra>",
           "legendgroup": "Nuclear",
           "line": {
            "color": "#EF553B",
            "dash": "solid"
           },
           "marker": {
            "symbol": "circle"
           },
           "mode": "lines",
           "name": "Nuclear",
           "orientation": "v",
           "showlegend": true,
           "type": "scatter",
           "x": [
            "1985-01-01T00:00:00",
            "1986-01-01T00:00:00",
            "1987-01-01T00:00:00",
            "1988-01-01T00:00:00",
            "1989-01-01T00:00:00",
            "1990-01-01T00:00:00",
            "1991-01-01T00:00:00",
            "1992-01-01T00:00:00",
            "1993-01-01T00:00:00",
            "1994-01-01T00:00:00",
            "1995-01-01T00:00:00",
            "1996-01-01T00:00:00",
            "1997-01-01T00:00:00",
            "1998-01-01T00:00:00",
            "1999-01-01T00:00:00",
            "2000-01-01T00:00:00",
            "2001-01-01T00:00:00",
            "2002-01-01T00:00:00",
            "2003-01-01T00:00:00",
            "2004-01-01T00:00:00",
            "2005-01-01T00:00:00",
            "2006-01-01T00:00:00",
            "2007-01-01T00:00:00",
            "2008-01-01T00:00:00",
            "2009-01-01T00:00:00",
            "2010-01-01T00:00:00",
            "2011-01-01T00:00:00",
            "2012-01-01T00:00:00",
            "2013-01-01T00:00:00",
            "2014-01-01T00:00:00",
            "2015-01-01T00:00:00",
            "2016-01-01T00:00:00",
            "2017-01-01T00:00:00",
            "2018-01-01T00:00:00",
            "2019-01-01T00:00:00",
            "2020-01-01T00:00:00"
           ],
           "xaxis": "x",
           "y": [
            1488.9216,
            1594.7357,
            1734.7332,
            1891.2493,
            1945.0106,
            2000.596,
            2096.3098,
            2112.223,
            2184.9646,
            2225.9788,
            2322.5298,
            2406.615,
            2390.0642,
            2431.1948,
            2523.7056,
            2540.46,
            2613.17,
            2654.78,
            2601.05,
            2719.41,
            2726.97,
            2761.59,
            2703.49,
            2694.72,
            2656.76,
            2725.91,
            2610.34,
            2432.22,
            2448.52,
            2498.73,
            2532.93,
            2571.05,
            2594.23,
            2658.7,
            2754.08,
            2648.37
           ],
           "yaxis": "y"
          },
          {
           "hovertemplate": "variable=Fossil<br>frame=2020<br>year=%{x}<br>value=%{y}<extra></extra>",
           "legendgroup": "Fossil",
           "line": {
            "color": "#00cc96",
            "dash": "solid"
           },
           "marker": {
            "symbol": "circle"
           },
           "mode": "lines",
           "name": "Fossil",
           "orientation": "v",
           "showlegend": true,
           "type": "scatter",
           "x": [
            "1985-01-01T00:00:00",
            "1986-01-01T00:00:00",
            "1987-01-01T00:00:00",
            "1988-01-01T00:00:00",
            "1989-01-01T00:00:00",
            "1990-01-01T00:00:00",
            "1991-01-01T00:00:00",
            "1992-01-01T00:00:00",
            "1993-01-01T00:00:00",
            "1994-01-01T00:00:00",
            "1995-01-01T00:00:00",
            "1996-01-01T00:00:00",
            "1997-01-01T00:00:00",
            "1998-01-01T00:00:00",
            "1999-01-01T00:00:00",
            "2000-01-01T00:00:00",
            "2001-01-01T00:00:00",
            "2002-01-01T00:00:00",
            "2003-01-01T00:00:00",
            "2004-01-01T00:00:00",
            "2005-01-01T00:00:00",
            "2006-01-01T00:00:00",
            "2007-01-01T00:00:00",
            "2008-01-01T00:00:00",
            "2009-01-01T00:00:00",
            "2010-01-01T00:00:00",
            "2011-01-01T00:00:00",
            "2012-01-01T00:00:00",
            "2013-01-01T00:00:00",
            "2014-01-01T00:00:00",
            "2015-01-01T00:00:00",
            "2016-01-01T00:00:00",
            "2017-01-01T00:00:00",
            "2018-01-01T00:00:00",
            "2019-01-01T00:00:00",
            "2020-01-01T00:00:00"
           ],
           "xaxis": "x",
           "y": [
            6285.4736,
            6439.9746,
            6757.7617,
            6998.179,
            7455.736,
            7614.993,
            7722.592,
            7807.883,
            7858.686,
            8119.1626,
            8335.322,
            8627.022,
            8911.184,
            9214.535,
            9498.733,
            9878.1,
            10090.26,
            10520.97,
            11126.3,
            11564.24,
            12126.32,
            12644.06,
            13468.19,
            13607.04,
            13405.4,
            14345.73,
            14952.61,
            15362.46,
            15681.07,
            15965.13,
            15953.64,
            16233.18,
            16574.46,
            17094,
            17006.52,
            16522.65
           ],
           "yaxis": "y"
          }
         ],
         "name": "2020"
        },
        {
         "data": [
          {
           "hovertemplate": "variable=Renewable<br>frame=2021<br>year=%{x}<br>value=%{y}<extra></extra>",
           "legendgroup": "Renewable",
           "line": {
            "color": "#636efa",
            "dash": "solid"
           },
           "marker": {
            "symbol": "circle"
           },
           "mode": "lines",
           "name": "Renewable",
           "orientation": "v",
           "showlegend": true,
           "type": "scatter",
           "x": [
            "1985-01-01T00:00:00",
            "1986-01-01T00:00:00",
            "1987-01-01T00:00:00",
            "1988-01-01T00:00:00",
            "1989-01-01T00:00:00",
            "1990-01-01T00:00:00",
            "1991-01-01T00:00:00",
            "1992-01-01T00:00:00",
            "1993-01-01T00:00:00",
            "1994-01-01T00:00:00",
            "1995-01-01T00:00:00",
            "1996-01-01T00:00:00",
            "1997-01-01T00:00:00",
            "1998-01-01T00:00:00",
            "1999-01-01T00:00:00",
            "2000-01-01T00:00:00",
            "2001-01-01T00:00:00",
            "2002-01-01T00:00:00",
            "2003-01-01T00:00:00",
            "2004-01-01T00:00:00",
            "2005-01-01T00:00:00",
            "2006-01-01T00:00:00",
            "2007-01-01T00:00:00",
            "2008-01-01T00:00:00",
            "2009-01-01T00:00:00",
            "2010-01-01T00:00:00",
            "2011-01-01T00:00:00",
            "2012-01-01T00:00:00",
            "2013-01-01T00:00:00",
            "2014-01-01T00:00:00",
            "2015-01-01T00:00:00",
            "2016-01-01T00:00:00",
            "2017-01-01T00:00:00",
            "2018-01-01T00:00:00",
            "2019-01-01T00:00:00",
            "2020-01-01T00:00:00",
            "2021-01-01T00:00:00"
           ],
           "xaxis": "x",
           "y": [
            2058.0222,
            2091.6704,
            2124.9146,
            2192.8516,
            2195.1711,
            2279.8643,
            2335.3965,
            2344.6736,
            2483.061,
            2504.311,
            2638.9414,
            2677.4333,
            2735.5457,
            2765.892,
            2799.2485,
            2858.4,
            2795.97,
            2873.26,
            2899.25,
            3129.16,
            3279.51,
            3432.46,
            3540.47,
            3798.13,
            3879.24,
            4191.63,
            4394.13,
            4721.16,
            5025.8,
            5285.56,
            5519.22,
            5858.55,
            6234.46,
            6647.13,
            7010.63,
            7483.8,
            7927.13
           ],
           "yaxis": "y"
          },
          {
           "hovertemplate": "variable=Nuclear<br>frame=2021<br>year=%{x}<br>value=%{y}<extra></extra>",
           "legendgroup": "Nuclear",
           "line": {
            "color": "#EF553B",
            "dash": "solid"
           },
           "marker": {
            "symbol": "circle"
           },
           "mode": "lines",
           "name": "Nuclear",
           "orientation": "v",
           "showlegend": true,
           "type": "scatter",
           "x": [
            "1985-01-01T00:00:00",
            "1986-01-01T00:00:00",
            "1987-01-01T00:00:00",
            "1988-01-01T00:00:00",
            "1989-01-01T00:00:00",
            "1990-01-01T00:00:00",
            "1991-01-01T00:00:00",
            "1992-01-01T00:00:00",
            "1993-01-01T00:00:00",
            "1994-01-01T00:00:00",
            "1995-01-01T00:00:00",
            "1996-01-01T00:00:00",
            "1997-01-01T00:00:00",
            "1998-01-01T00:00:00",
            "1999-01-01T00:00:00",
            "2000-01-01T00:00:00",
            "2001-01-01T00:00:00",
            "2002-01-01T00:00:00",
            "2003-01-01T00:00:00",
            "2004-01-01T00:00:00",
            "2005-01-01T00:00:00",
            "2006-01-01T00:00:00",
            "2007-01-01T00:00:00",
            "2008-01-01T00:00:00",
            "2009-01-01T00:00:00",
            "2010-01-01T00:00:00",
            "2011-01-01T00:00:00",
            "2012-01-01T00:00:00",
            "2013-01-01T00:00:00",
            "2014-01-01T00:00:00",
            "2015-01-01T00:00:00",
            "2016-01-01T00:00:00",
            "2017-01-01T00:00:00",
            "2018-01-01T00:00:00",
            "2019-01-01T00:00:00",
            "2020-01-01T00:00:00",
            "2021-01-01T00:00:00"
           ],
           "xaxis": "x",
           "y": [
            1488.9216,
            1594.7357,
            1734.7332,
            1891.2493,
            1945.0106,
            2000.596,
            2096.3098,
            2112.223,
            2184.9646,
            2225.9788,
            2322.5298,
            2406.615,
            2390.0642,
            2431.1948,
            2523.7056,
            2540.46,
            2613.17,
            2654.78,
            2601.05,
            2719.41,
            2726.97,
            2761.59,
            2703.49,
            2694.72,
            2656.76,
            2725.91,
            2610.34,
            2432.22,
            2448.52,
            2498.73,
            2532.93,
            2571.05,
            2594.23,
            2658.7,
            2754.08,
            2648.37,
            2762.24
           ],
           "yaxis": "y"
          },
          {
           "hovertemplate": "variable=Fossil<br>frame=2021<br>year=%{x}<br>value=%{y}<extra></extra>",
           "legendgroup": "Fossil",
           "line": {
            "color": "#00cc96",
            "dash": "solid"
           },
           "marker": {
            "symbol": "circle"
           },
           "mode": "lines",
           "name": "Fossil",
           "orientation": "v",
           "showlegend": true,
           "type": "scatter",
           "x": [
            "1985-01-01T00:00:00",
            "1986-01-01T00:00:00",
            "1987-01-01T00:00:00",
            "1988-01-01T00:00:00",
            "1989-01-01T00:00:00",
            "1990-01-01T00:00:00",
            "1991-01-01T00:00:00",
            "1992-01-01T00:00:00",
            "1993-01-01T00:00:00",
            "1994-01-01T00:00:00",
            "1995-01-01T00:00:00",
            "1996-01-01T00:00:00",
            "1997-01-01T00:00:00",
            "1998-01-01T00:00:00",
            "1999-01-01T00:00:00",
            "2000-01-01T00:00:00",
            "2001-01-01T00:00:00",
            "2002-01-01T00:00:00",
            "2003-01-01T00:00:00",
            "2004-01-01T00:00:00",
            "2005-01-01T00:00:00",
            "2006-01-01T00:00:00",
            "2007-01-01T00:00:00",
            "2008-01-01T00:00:00",
            "2009-01-01T00:00:00",
            "2010-01-01T00:00:00",
            "2011-01-01T00:00:00",
            "2012-01-01T00:00:00",
            "2013-01-01T00:00:00",
            "2014-01-01T00:00:00",
            "2015-01-01T00:00:00",
            "2016-01-01T00:00:00",
            "2017-01-01T00:00:00",
            "2018-01-01T00:00:00",
            "2019-01-01T00:00:00",
            "2020-01-01T00:00:00",
            "2021-01-01T00:00:00"
           ],
           "xaxis": "x",
           "y": [
            6285.4736,
            6439.9746,
            6757.7617,
            6998.179,
            7455.736,
            7614.993,
            7722.592,
            7807.883,
            7858.686,
            8119.1626,
            8335.322,
            8627.022,
            8911.184,
            9214.535,
            9498.733,
            9878.1,
            10090.26,
            10520.97,
            11126.3,
            11564.24,
            12126.32,
            12644.06,
            13468.19,
            13607.04,
            13405.4,
            14345.73,
            14952.61,
            15362.46,
            15681.07,
            15965.13,
            15953.64,
            16233.18,
            16574.46,
            17094,
            17006.52,
            16522.65,
            17480.51
           ],
           "yaxis": "y"
          }
         ],
         "name": "2021"
        },
        {
         "data": [
          {
           "hovertemplate": "variable=Renewable<br>frame=2022<br>year=%{x}<br>value=%{y}<extra></extra>",
           "legendgroup": "Renewable",
           "line": {
            "color": "#636efa",
            "dash": "solid"
           },
           "marker": {
            "symbol": "circle"
           },
           "mode": "lines",
           "name": "Renewable",
           "orientation": "v",
           "showlegend": true,
           "type": "scatter",
           "x": [
            "1985-01-01T00:00:00",
            "1986-01-01T00:00:00",
            "1987-01-01T00:00:00",
            "1988-01-01T00:00:00",
            "1989-01-01T00:00:00",
            "1990-01-01T00:00:00",
            "1991-01-01T00:00:00",
            "1992-01-01T00:00:00",
            "1993-01-01T00:00:00",
            "1994-01-01T00:00:00",
            "1995-01-01T00:00:00",
            "1996-01-01T00:00:00",
            "1997-01-01T00:00:00",
            "1998-01-01T00:00:00",
            "1999-01-01T00:00:00",
            "2000-01-01T00:00:00",
            "2001-01-01T00:00:00",
            "2002-01-01T00:00:00",
            "2003-01-01T00:00:00",
            "2004-01-01T00:00:00",
            "2005-01-01T00:00:00",
            "2006-01-01T00:00:00",
            "2007-01-01T00:00:00",
            "2008-01-01T00:00:00",
            "2009-01-01T00:00:00",
            "2010-01-01T00:00:00",
            "2011-01-01T00:00:00",
            "2012-01-01T00:00:00",
            "2013-01-01T00:00:00",
            "2014-01-01T00:00:00",
            "2015-01-01T00:00:00",
            "2016-01-01T00:00:00",
            "2017-01-01T00:00:00",
            "2018-01-01T00:00:00",
            "2019-01-01T00:00:00",
            "2020-01-01T00:00:00",
            "2021-01-01T00:00:00",
            "2022-01-01T00:00:00"
           ],
           "xaxis": "x",
           "y": [
            2058.0222,
            2091.6704,
            2124.9146,
            2192.8516,
            2195.1711,
            2279.8643,
            2335.3965,
            2344.6736,
            2483.061,
            2504.311,
            2638.9414,
            2677.4333,
            2735.5457,
            2765.892,
            2799.2485,
            2858.4,
            2795.97,
            2873.26,
            2899.25,
            3129.16,
            3279.51,
            3432.46,
            3540.47,
            3798.13,
            3879.24,
            4191.63,
            4394.13,
            4721.16,
            5025.8,
            5285.56,
            5519.22,
            5858.55,
            6234.46,
            6647.13,
            7010.63,
            7483.8,
            7927.13,
            8484.63
           ],
           "yaxis": "y"
          },
          {
           "hovertemplate": "variable=Nuclear<br>frame=2022<br>year=%{x}<br>value=%{y}<extra></extra>",
           "legendgroup": "Nuclear",
           "line": {
            "color": "#EF553B",
            "dash": "solid"
           },
           "marker": {
            "symbol": "circle"
           },
           "mode": "lines",
           "name": "Nuclear",
           "orientation": "v",
           "showlegend": true,
           "type": "scatter",
           "x": [
            "1985-01-01T00:00:00",
            "1986-01-01T00:00:00",
            "1987-01-01T00:00:00",
            "1988-01-01T00:00:00",
            "1989-01-01T00:00:00",
            "1990-01-01T00:00:00",
            "1991-01-01T00:00:00",
            "1992-01-01T00:00:00",
            "1993-01-01T00:00:00",
            "1994-01-01T00:00:00",
            "1995-01-01T00:00:00",
            "1996-01-01T00:00:00",
            "1997-01-01T00:00:00",
            "1998-01-01T00:00:00",
            "1999-01-01T00:00:00",
            "2000-01-01T00:00:00",
            "2001-01-01T00:00:00",
            "2002-01-01T00:00:00",
            "2003-01-01T00:00:00",
            "2004-01-01T00:00:00",
            "2005-01-01T00:00:00",
            "2006-01-01T00:00:00",
            "2007-01-01T00:00:00",
            "2008-01-01T00:00:00",
            "2009-01-01T00:00:00",
            "2010-01-01T00:00:00",
            "2011-01-01T00:00:00",
            "2012-01-01T00:00:00",
            "2013-01-01T00:00:00",
            "2014-01-01T00:00:00",
            "2015-01-01T00:00:00",
            "2016-01-01T00:00:00",
            "2017-01-01T00:00:00",
            "2018-01-01T00:00:00",
            "2019-01-01T00:00:00",
            "2020-01-01T00:00:00",
            "2021-01-01T00:00:00",
            "2022-01-01T00:00:00"
           ],
           "xaxis": "x",
           "y": [
            1488.9216,
            1594.7357,
            1734.7332,
            1891.2493,
            1945.0106,
            2000.596,
            2096.3098,
            2112.223,
            2184.9646,
            2225.9788,
            2322.5298,
            2406.615,
            2390.0642,
            2431.1948,
            2523.7056,
            2540.46,
            2613.17,
            2654.78,
            2601.05,
            2719.41,
            2726.97,
            2761.59,
            2703.49,
            2694.72,
            2656.76,
            2725.91,
            2610.34,
            2432.22,
            2448.52,
            2498.73,
            2532.93,
            2571.05,
            2594.23,
            2658.7,
            2754.08,
            2648.37,
            2762.24,
            2639.68
           ],
           "yaxis": "y"
          },
          {
           "hovertemplate": "variable=Fossil<br>frame=2022<br>year=%{x}<br>value=%{y}<extra></extra>",
           "legendgroup": "Fossil",
           "line": {
            "color": "#00cc96",
            "dash": "solid"
           },
           "marker": {
            "symbol": "circle"
           },
           "mode": "lines",
           "name": "Fossil",
           "orientation": "v",
           "showlegend": true,
           "type": "scatter",
           "x": [
            "1985-01-01T00:00:00",
            "1986-01-01T00:00:00",
            "1987-01-01T00:00:00",
            "1988-01-01T00:00:00",
            "1989-01-01T00:00:00",
            "1990-01-01T00:00:00",
            "1991-01-01T00:00:00",
            "1992-01-01T00:00:00",
            "1993-01-01T00:00:00",
            "1994-01-01T00:00:00",
            "1995-01-01T00:00:00",
            "1996-01-01T00:00:00",
            "1997-01-01T00:00:00",
            "1998-01-01T00:00:00",
            "1999-01-01T00:00:00",
            "2000-01-01T00:00:00",
            "2001-01-01T00:00:00",
            "2002-01-01T00:00:00",
            "2003-01-01T00:00:00",
            "2004-01-01T00:00:00",
            "2005-01-01T00:00:00",
            "2006-01-01T00:00:00",
            "2007-01-01T00:00:00",
            "2008-01-01T00:00:00",
            "2009-01-01T00:00:00",
            "2010-01-01T00:00:00",
            "2011-01-01T00:00:00",
            "2012-01-01T00:00:00",
            "2013-01-01T00:00:00",
            "2014-01-01T00:00:00",
            "2015-01-01T00:00:00",
            "2016-01-01T00:00:00",
            "2017-01-01T00:00:00",
            "2018-01-01T00:00:00",
            "2019-01-01T00:00:00",
            "2020-01-01T00:00:00",
            "2021-01-01T00:00:00",
            "2022-01-01T00:00:00"
           ],
           "xaxis": "x",
           "y": [
            6285.4736,
            6439.9746,
            6757.7617,
            6998.179,
            7455.736,
            7614.993,
            7722.592,
            7807.883,
            7858.686,
            8119.1626,
            8335.322,
            8627.022,
            8911.184,
            9214.535,
            9498.733,
            9878.1,
            10090.26,
            10520.97,
            11126.3,
            11564.24,
            12126.32,
            12644.06,
            13468.19,
            13607.04,
            13405.4,
            14345.73,
            14952.61,
            15362.46,
            15681.07,
            15965.13,
            15953.64,
            16233.18,
            16574.46,
            17094,
            17006.52,
            16522.65,
            17480.51,
            17719.19
           ],
           "yaxis": "y"
          }
         ],
         "name": "2022"
        }
       ],
       "layout": {
        "height": 500,
        "legend": {
         "title": {
          "text": "variable"
         },
         "tracegroupgap": 0
        },
        "sliders": [
         {
          "active": 0,
          "currentvalue": {
           "prefix": "frame="
          },
          "len": 0.9,
          "pad": {
           "b": 10,
           "t": 60
          },
          "steps": [
           {
            "args": [
             [
              "1994"
             ],
             {
              "frame": {
               "duration": 0,
               "redraw": false
              },
              "fromcurrent": true,
              "mode": "immediate",
              "transition": {
               "duration": 0,
               "easing": "linear"
              }
             }
            ],
            "label": "1994",
            "method": "animate"
           },
           {
            "args": [
             [
              "1995"
             ],
             {
              "frame": {
               "duration": 0,
               "redraw": false
              },
              "fromcurrent": true,
              "mode": "immediate",
              "transition": {
               "duration": 0,
               "easing": "linear"
              }
             }
            ],
            "label": "1995",
            "method": "animate"
           },
           {
            "args": [
             [
              "1996"
             ],
             {
              "frame": {
               "duration": 0,
               "redraw": false
              },
              "fromcurrent": true,
              "mode": "immediate",
              "transition": {
               "duration": 0,
               "easing": "linear"
              }
             }
            ],
            "label": "1996",
            "method": "animate"
           },
           {
            "args": [
             [
              "1997"
             ],
             {
              "frame": {
               "duration": 0,
               "redraw": false
              },
              "fromcurrent": true,
              "mode": "immediate",
              "transition": {
               "duration": 0,
               "easing": "linear"
              }
             }
            ],
            "label": "1997",
            "method": "animate"
           },
           {
            "args": [
             [
              "1998"
             ],
             {
              "frame": {
               "duration": 0,
               "redraw": false
              },
              "fromcurrent": true,
              "mode": "immediate",
              "transition": {
               "duration": 0,
               "easing": "linear"
              }
             }
            ],
            "label": "1998",
            "method": "animate"
           },
           {
            "args": [
             [
              "1999"
             ],
             {
              "frame": {
               "duration": 0,
               "redraw": false
              },
              "fromcurrent": true,
              "mode": "immediate",
              "transition": {
               "duration": 0,
               "easing": "linear"
              }
             }
            ],
            "label": "1999",
            "method": "animate"
           },
           {
            "args": [
             [
              "2000"
             ],
             {
              "frame": {
               "duration": 0,
               "redraw": false
              },
              "fromcurrent": true,
              "mode": "immediate",
              "transition": {
               "duration": 0,
               "easing": "linear"
              }
             }
            ],
            "label": "2000",
            "method": "animate"
           },
           {
            "args": [
             [
              "2001"
             ],
             {
              "frame": {
               "duration": 0,
               "redraw": false
              },
              "fromcurrent": true,
              "mode": "immediate",
              "transition": {
               "duration": 0,
               "easing": "linear"
              }
             }
            ],
            "label": "2001",
            "method": "animate"
           },
           {
            "args": [
             [
              "2002"
             ],
             {
              "frame": {
               "duration": 0,
               "redraw": false
              },
              "fromcurrent": true,
              "mode": "immediate",
              "transition": {
               "duration": 0,
               "easing": "linear"
              }
             }
            ],
            "label": "2002",
            "method": "animate"
           },
           {
            "args": [
             [
              "2003"
             ],
             {
              "frame": {
               "duration": 0,
               "redraw": false
              },
              "fromcurrent": true,
              "mode": "immediate",
              "transition": {
               "duration": 0,
               "easing": "linear"
              }
             }
            ],
            "label": "2003",
            "method": "animate"
           },
           {
            "args": [
             [
              "2004"
             ],
             {
              "frame": {
               "duration": 0,
               "redraw": false
              },
              "fromcurrent": true,
              "mode": "immediate",
              "transition": {
               "duration": 0,
               "easing": "linear"
              }
             }
            ],
            "label": "2004",
            "method": "animate"
           },
           {
            "args": [
             [
              "2005"
             ],
             {
              "frame": {
               "duration": 0,
               "redraw": false
              },
              "fromcurrent": true,
              "mode": "immediate",
              "transition": {
               "duration": 0,
               "easing": "linear"
              }
             }
            ],
            "label": "2005",
            "method": "animate"
           },
           {
            "args": [
             [
              "2006"
             ],
             {
              "frame": {
               "duration": 0,
               "redraw": false
              },
              "fromcurrent": true,
              "mode": "immediate",
              "transition": {
               "duration": 0,
               "easing": "linear"
              }
             }
            ],
            "label": "2006",
            "method": "animate"
           },
           {
            "args": [
             [
              "2007"
             ],
             {
              "frame": {
               "duration": 0,
               "redraw": false
              },
              "fromcurrent": true,
              "mode": "immediate",
              "transition": {
               "duration": 0,
               "easing": "linear"
              }
             }
            ],
            "label": "2007",
            "method": "animate"
           },
           {
            "args": [
             [
              "2008"
             ],
             {
              "frame": {
               "duration": 0,
               "redraw": false
              },
              "fromcurrent": true,
              "mode": "immediate",
              "transition": {
               "duration": 0,
               "easing": "linear"
              }
             }
            ],
            "label": "2008",
            "method": "animate"
           },
           {
            "args": [
             [
              "2009"
             ],
             {
              "frame": {
               "duration": 0,
               "redraw": false
              },
              "fromcurrent": true,
              "mode": "immediate",
              "transition": {
               "duration": 0,
               "easing": "linear"
              }
             }
            ],
            "label": "2009",
            "method": "animate"
           },
           {
            "args": [
             [
              "2010"
             ],
             {
              "frame": {
               "duration": 0,
               "redraw": false
              },
              "fromcurrent": true,
              "mode": "immediate",
              "transition": {
               "duration": 0,
               "easing": "linear"
              }
             }
            ],
            "label": "2010",
            "method": "animate"
           },
           {
            "args": [
             [
              "2011"
             ],
             {
              "frame": {
               "duration": 0,
               "redraw": false
              },
              "fromcurrent": true,
              "mode": "immediate",
              "transition": {
               "duration": 0,
               "easing": "linear"
              }
             }
            ],
            "label": "2011",
            "method": "animate"
           },
           {
            "args": [
             [
              "2012"
             ],
             {
              "frame": {
               "duration": 0,
               "redraw": false
              },
              "fromcurrent": true,
              "mode": "immediate",
              "transition": {
               "duration": 0,
               "easing": "linear"
              }
             }
            ],
            "label": "2012",
            "method": "animate"
           },
           {
            "args": [
             [
              "2013"
             ],
             {
              "frame": {
               "duration": 0,
               "redraw": false
              },
              "fromcurrent": true,
              "mode": "immediate",
              "transition": {
               "duration": 0,
               "easing": "linear"
              }
             }
            ],
            "label": "2013",
            "method": "animate"
           },
           {
            "args": [
             [
              "2014"
             ],
             {
              "frame": {
               "duration": 0,
               "redraw": false
              },
              "fromcurrent": true,
              "mode": "immediate",
              "transition": {
               "duration": 0,
               "easing": "linear"
              }
             }
            ],
            "label": "2014",
            "method": "animate"
           },
           {
            "args": [
             [
              "2015"
             ],
             {
              "frame": {
               "duration": 0,
               "redraw": false
              },
              "fromcurrent": true,
              "mode": "immediate",
              "transition": {
               "duration": 0,
               "easing": "linear"
              }
             }
            ],
            "label": "2015",
            "method": "animate"
           },
           {
            "args": [
             [
              "2016"
             ],
             {
              "frame": {
               "duration": 0,
               "redraw": false
              },
              "fromcurrent": true,
              "mode": "immediate",
              "transition": {
               "duration": 0,
               "easing": "linear"
              }
             }
            ],
            "label": "2016",
            "method": "animate"
           },
           {
            "args": [
             [
              "2017"
             ],
             {
              "frame": {
               "duration": 0,
               "redraw": false
              },
              "fromcurrent": true,
              "mode": "immediate",
              "transition": {
               "duration": 0,
               "easing": "linear"
              }
             }
            ],
            "label": "2017",
            "method": "animate"
           },
           {
            "args": [
             [
              "2018"
             ],
             {
              "frame": {
               "duration": 0,
               "redraw": false
              },
              "fromcurrent": true,
              "mode": "immediate",
              "transition": {
               "duration": 0,
               "easing": "linear"
              }
             }
            ],
            "label": "2018",
            "method": "animate"
           },
           {
            "args": [
             [
              "2019"
             ],
             {
              "frame": {
               "duration": 0,
               "redraw": false
              },
              "fromcurrent": true,
              "mode": "immediate",
              "transition": {
               "duration": 0,
               "easing": "linear"
              }
             }
            ],
            "label": "2019",
            "method": "animate"
           },
           {
            "args": [
             [
              "2020"
             ],
             {
              "frame": {
               "duration": 0,
               "redraw": false
              },
              "fromcurrent": true,
              "mode": "immediate",
              "transition": {
               "duration": 0,
               "easing": "linear"
              }
             }
            ],
            "label": "2020",
            "method": "animate"
           },
           {
            "args": [
             [
              "2021"
             ],
             {
              "frame": {
               "duration": 0,
               "redraw": false
              },
              "fromcurrent": true,
              "mode": "immediate",
              "transition": {
               "duration": 0,
               "easing": "linear"
              }
             }
            ],
            "label": "2021",
            "method": "animate"
           },
           {
            "args": [
             [
              "2022"
             ],
             {
              "frame": {
               "duration": 0,
               "redraw": false
              },
              "fromcurrent": true,
              "mode": "immediate",
              "transition": {
               "duration": 0,
               "easing": "linear"
              }
             }
            ],
            "label": "2022",
            "method": "animate"
           }
          ],
          "x": 0.1,
          "xanchor": "left",
          "y": 0,
          "yanchor": "top"
         }
        ],
        "template": {
         "data": {
          "bar": [
           {
            "error_x": {
             "color": "#2a3f5f"
            },
            "error_y": {
             "color": "#2a3f5f"
            },
            "marker": {
             "line": {
              "color": "#E5ECF6",
              "width": 0.5
             },
             "pattern": {
              "fillmode": "overlay",
              "size": 10,
              "solidity": 0.2
             }
            },
            "type": "bar"
           }
          ],
          "barpolar": [
           {
            "marker": {
             "line": {
              "color": "#E5ECF6",
              "width": 0.5
             },
             "pattern": {
              "fillmode": "overlay",
              "size": 10,
              "solidity": 0.2
             }
            },
            "type": "barpolar"
           }
          ],
          "carpet": [
           {
            "aaxis": {
             "endlinecolor": "#2a3f5f",
             "gridcolor": "white",
             "linecolor": "white",
             "minorgridcolor": "white",
             "startlinecolor": "#2a3f5f"
            },
            "baxis": {
             "endlinecolor": "#2a3f5f",
             "gridcolor": "white",
             "linecolor": "white",
             "minorgridcolor": "white",
             "startlinecolor": "#2a3f5f"
            },
            "type": "carpet"
           }
          ],
          "choropleth": [
           {
            "colorbar": {
             "outlinewidth": 0,
             "ticks": ""
            },
            "type": "choropleth"
           }
          ],
          "contour": [
           {
            "colorbar": {
             "outlinewidth": 0,
             "ticks": ""
            },
            "colorscale": [
             [
              0,
              "#0d0887"
             ],
             [
              0.1111111111111111,
              "#46039f"
             ],
             [
              0.2222222222222222,
              "#7201a8"
             ],
             [
              0.3333333333333333,
              "#9c179e"
             ],
             [
              0.4444444444444444,
              "#bd3786"
             ],
             [
              0.5555555555555556,
              "#d8576b"
             ],
             [
              0.6666666666666666,
              "#ed7953"
             ],
             [
              0.7777777777777778,
              "#fb9f3a"
             ],
             [
              0.8888888888888888,
              "#fdca26"
             ],
             [
              1,
              "#f0f921"
             ]
            ],
            "type": "contour"
           }
          ],
          "contourcarpet": [
           {
            "colorbar": {
             "outlinewidth": 0,
             "ticks": ""
            },
            "type": "contourcarpet"
           }
          ],
          "heatmap": [
           {
            "colorbar": {
             "outlinewidth": 0,
             "ticks": ""
            },
            "colorscale": [
             [
              0,
              "#0d0887"
             ],
             [
              0.1111111111111111,
              "#46039f"
             ],
             [
              0.2222222222222222,
              "#7201a8"
             ],
             [
              0.3333333333333333,
              "#9c179e"
             ],
             [
              0.4444444444444444,
              "#bd3786"
             ],
             [
              0.5555555555555556,
              "#d8576b"
             ],
             [
              0.6666666666666666,
              "#ed7953"
             ],
             [
              0.7777777777777778,
              "#fb9f3a"
             ],
             [
              0.8888888888888888,
              "#fdca26"
             ],
             [
              1,
              "#f0f921"
             ]
            ],
            "type": "heatmap"
           }
          ],
          "heatmapgl": [
           {
            "colorbar": {
             "outlinewidth": 0,
             "ticks": ""
            },
            "colorscale": [
             [
              0,
              "#0d0887"
             ],
             [
              0.1111111111111111,
              "#46039f"
             ],
             [
              0.2222222222222222,
              "#7201a8"
             ],
             [
              0.3333333333333333,
              "#9c179e"
             ],
             [
              0.4444444444444444,
              "#bd3786"
             ],
             [
              0.5555555555555556,
              "#d8576b"
             ],
             [
              0.6666666666666666,
              "#ed7953"
             ],
             [
              0.7777777777777778,
              "#fb9f3a"
             ],
             [
              0.8888888888888888,
              "#fdca26"
             ],
             [
              1,
              "#f0f921"
             ]
            ],
            "type": "heatmapgl"
           }
          ],
          "histogram": [
           {
            "marker": {
             "pattern": {
              "fillmode": "overlay",
              "size": 10,
              "solidity": 0.2
             }
            },
            "type": "histogram"
           }
          ],
          "histogram2d": [
           {
            "colorbar": {
             "outlinewidth": 0,
             "ticks": ""
            },
            "colorscale": [
             [
              0,
              "#0d0887"
             ],
             [
              0.1111111111111111,
              "#46039f"
             ],
             [
              0.2222222222222222,
              "#7201a8"
             ],
             [
              0.3333333333333333,
              "#9c179e"
             ],
             [
              0.4444444444444444,
              "#bd3786"
             ],
             [
              0.5555555555555556,
              "#d8576b"
             ],
             [
              0.6666666666666666,
              "#ed7953"
             ],
             [
              0.7777777777777778,
              "#fb9f3a"
             ],
             [
              0.8888888888888888,
              "#fdca26"
             ],
             [
              1,
              "#f0f921"
             ]
            ],
            "type": "histogram2d"
           }
          ],
          "histogram2dcontour": [
           {
            "colorbar": {
             "outlinewidth": 0,
             "ticks": ""
            },
            "colorscale": [
             [
              0,
              "#0d0887"
             ],
             [
              0.1111111111111111,
              "#46039f"
             ],
             [
              0.2222222222222222,
              "#7201a8"
             ],
             [
              0.3333333333333333,
              "#9c179e"
             ],
             [
              0.4444444444444444,
              "#bd3786"
             ],
             [
              0.5555555555555556,
              "#d8576b"
             ],
             [
              0.6666666666666666,
              "#ed7953"
             ],
             [
              0.7777777777777778,
              "#fb9f3a"
             ],
             [
              0.8888888888888888,
              "#fdca26"
             ],
             [
              1,
              "#f0f921"
             ]
            ],
            "type": "histogram2dcontour"
           }
          ],
          "mesh3d": [
           {
            "colorbar": {
             "outlinewidth": 0,
             "ticks": ""
            },
            "type": "mesh3d"
           }
          ],
          "parcoords": [
           {
            "line": {
             "colorbar": {
              "outlinewidth": 0,
              "ticks": ""
             }
            },
            "type": "parcoords"
           }
          ],
          "pie": [
           {
            "automargin": true,
            "type": "pie"
           }
          ],
          "scatter": [
           {
            "fillpattern": {
             "fillmode": "overlay",
             "size": 10,
             "solidity": 0.2
            },
            "type": "scatter"
           }
          ],
          "scatter3d": [
           {
            "line": {
             "colorbar": {
              "outlinewidth": 0,
              "ticks": ""
             }
            },
            "marker": {
             "colorbar": {
              "outlinewidth": 0,
              "ticks": ""
             }
            },
            "type": "scatter3d"
           }
          ],
          "scattercarpet": [
           {
            "marker": {
             "colorbar": {
              "outlinewidth": 0,
              "ticks": ""
             }
            },
            "type": "scattercarpet"
           }
          ],
          "scattergeo": [
           {
            "marker": {
             "colorbar": {
              "outlinewidth": 0,
              "ticks": ""
             }
            },
            "type": "scattergeo"
           }
          ],
          "scattergl": [
           {
            "marker": {
             "colorbar": {
              "outlinewidth": 0,
              "ticks": ""
             }
            },
            "type": "scattergl"
           }
          ],
          "scattermapbox": [
           {
            "marker": {
             "colorbar": {
              "outlinewidth": 0,
              "ticks": ""
             }
            },
            "type": "scattermapbox"
           }
          ],
          "scatterpolar": [
           {
            "marker": {
             "colorbar": {
              "outlinewidth": 0,
              "ticks": ""
             }
            },
            "type": "scatterpolar"
           }
          ],
          "scatterpolargl": [
           {
            "marker": {
             "colorbar": {
              "outlinewidth": 0,
              "ticks": ""
             }
            },
            "type": "scatterpolargl"
           }
          ],
          "scatterternary": [
           {
            "marker": {
             "colorbar": {
              "outlinewidth": 0,
              "ticks": ""
             }
            },
            "type": "scatterternary"
           }
          ],
          "surface": [
           {
            "colorbar": {
             "outlinewidth": 0,
             "ticks": ""
            },
            "colorscale": [
             [
              0,
              "#0d0887"
             ],
             [
              0.1111111111111111,
              "#46039f"
             ],
             [
              0.2222222222222222,
              "#7201a8"
             ],
             [
              0.3333333333333333,
              "#9c179e"
             ],
             [
              0.4444444444444444,
              "#bd3786"
             ],
             [
              0.5555555555555556,
              "#d8576b"
             ],
             [
              0.6666666666666666,
              "#ed7953"
             ],
             [
              0.7777777777777778,
              "#fb9f3a"
             ],
             [
              0.8888888888888888,
              "#fdca26"
             ],
             [
              1,
              "#f0f921"
             ]
            ],
            "type": "surface"
           }
          ],
          "table": [
           {
            "cells": {
             "fill": {
              "color": "#EBF0F8"
             },
             "line": {
              "color": "white"
             }
            },
            "header": {
             "fill": {
              "color": "#C8D4E3"
             },
             "line": {
              "color": "white"
             }
            },
            "type": "table"
           }
          ]
         },
         "layout": {
          "annotationdefaults": {
           "arrowcolor": "#2a3f5f",
           "arrowhead": 0,
           "arrowwidth": 1
          },
          "autotypenumbers": "strict",
          "coloraxis": {
           "colorbar": {
            "outlinewidth": 0,
            "ticks": ""
           }
          },
          "colorscale": {
           "diverging": [
            [
             0,
             "#8e0152"
            ],
            [
             0.1,
             "#c51b7d"
            ],
            [
             0.2,
             "#de77ae"
            ],
            [
             0.3,
             "#f1b6da"
            ],
            [
             0.4,
             "#fde0ef"
            ],
            [
             0.5,
             "#f7f7f7"
            ],
            [
             0.6,
             "#e6f5d0"
            ],
            [
             0.7,
             "#b8e186"
            ],
            [
             0.8,
             "#7fbc41"
            ],
            [
             0.9,
             "#4d9221"
            ],
            [
             1,
             "#276419"
            ]
           ],
           "sequential": [
            [
             0,
             "#0d0887"
            ],
            [
             0.1111111111111111,
             "#46039f"
            ],
            [
             0.2222222222222222,
             "#7201a8"
            ],
            [
             0.3333333333333333,
             "#9c179e"
            ],
            [
             0.4444444444444444,
             "#bd3786"
            ],
            [
             0.5555555555555556,
             "#d8576b"
            ],
            [
             0.6666666666666666,
             "#ed7953"
            ],
            [
             0.7777777777777778,
             "#fb9f3a"
            ],
            [
             0.8888888888888888,
             "#fdca26"
            ],
            [
             1,
             "#f0f921"
            ]
           ],
           "sequentialminus": [
            [
             0,
             "#0d0887"
            ],
            [
             0.1111111111111111,
             "#46039f"
            ],
            [
             0.2222222222222222,
             "#7201a8"
            ],
            [
             0.3333333333333333,
             "#9c179e"
            ],
            [
             0.4444444444444444,
             "#bd3786"
            ],
            [
             0.5555555555555556,
             "#d8576b"
            ],
            [
             0.6666666666666666,
             "#ed7953"
            ],
            [
             0.7777777777777778,
             "#fb9f3a"
            ],
            [
             0.8888888888888888,
             "#fdca26"
            ],
            [
             1,
             "#f0f921"
            ]
           ]
          },
          "colorway": [
           "#636efa",
           "#EF553B",
           "#00cc96",
           "#ab63fa",
           "#FFA15A",
           "#19d3f3",
           "#FF6692",
           "#B6E880",
           "#FF97FF",
           "#FECB52"
          ],
          "font": {
           "color": "#2a3f5f"
          },
          "geo": {
           "bgcolor": "white",
           "lakecolor": "white",
           "landcolor": "#E5ECF6",
           "showlakes": true,
           "showland": true,
           "subunitcolor": "white"
          },
          "hoverlabel": {
           "align": "left"
          },
          "hovermode": "closest",
          "mapbox": {
           "style": "light"
          },
          "paper_bgcolor": "white",
          "plot_bgcolor": "#E5ECF6",
          "polar": {
           "angularaxis": {
            "gridcolor": "white",
            "linecolor": "white",
            "ticks": ""
           },
           "bgcolor": "#E5ECF6",
           "radialaxis": {
            "gridcolor": "white",
            "linecolor": "white",
            "ticks": ""
           }
          },
          "scene": {
           "xaxis": {
            "backgroundcolor": "#E5ECF6",
            "gridcolor": "white",
            "gridwidth": 2,
            "linecolor": "white",
            "showbackground": true,
            "ticks": "",
            "zerolinecolor": "white"
           },
           "yaxis": {
            "backgroundcolor": "#E5ECF6",
            "gridcolor": "white",
            "gridwidth": 2,
            "linecolor": "white",
            "showbackground": true,
            "ticks": "",
            "zerolinecolor": "white"
           },
           "zaxis": {
            "backgroundcolor": "#E5ECF6",
            "gridcolor": "white",
            "gridwidth": 2,
            "linecolor": "white",
            "showbackground": true,
            "ticks": "",
            "zerolinecolor": "white"
           }
          },
          "shapedefaults": {
           "line": {
            "color": "#2a3f5f"
           }
          },
          "ternary": {
           "aaxis": {
            "gridcolor": "white",
            "linecolor": "white",
            "ticks": ""
           },
           "baxis": {
            "gridcolor": "white",
            "linecolor": "white",
            "ticks": ""
           },
           "bgcolor": "#E5ECF6",
           "caxis": {
            "gridcolor": "white",
            "linecolor": "white",
            "ticks": ""
           }
          },
          "title": {
           "x": 0.05
          },
          "xaxis": {
           "automargin": true,
           "gridcolor": "white",
           "linecolor": "white",
           "ticks": "",
           "title": {
            "standoff": 15
           },
           "zerolinecolor": "white",
           "zerolinewidth": 2
          },
          "yaxis": {
           "automargin": true,
           "gridcolor": "white",
           "linecolor": "white",
           "ticks": "",
           "title": {
            "standoff": 15
           },
           "zerolinecolor": "white",
           "zerolinewidth": 2
          }
         }
        },
        "title": {
         "text": "Electricity production from fossil fuels, nuclear and renewables, World"
        },
        "updatemenus": [
         {
          "buttons": [
           {
            "args": [
             null,
             {
              "frame": {
               "duration": 500,
               "redraw": true
              },
              "fromcurrent": true,
              "mode": "immediate",
              "transition": {
               "duration": 500,
               "easing": "linear"
              }
             }
            ],
            "label": "&#9654;",
            "method": "animate"
           },
           {
            "args": [
             [
              null
             ],
             {
              "frame": {
               "duration": 0,
               "redraw": false
              },
              "fromcurrent": true,
              "mode": "immediate",
              "transition": {
               "duration": 0,
               "easing": "linear"
              }
             }
            ],
            "label": "&#9724;",
            "method": "animate"
           }
          ],
          "direction": "left",
          "pad": {
           "r": 10,
           "t": 70
          },
          "showactive": false,
          "type": "buttons",
          "x": 0.1,
          "xanchor": "right",
          "y": 0,
          "yanchor": "top"
         }
        ],
        "width": 800,
        "xaxis": {
         "anchor": "y",
         "domain": [
          0,
          1
         ],
         "title": {
          "text": "year"
         }
        },
        "yaxis": {
         "anchor": "x",
         "domain": [
          0,
          1
         ],
         "title": {
          "text": "value"
         }
        }
       }
      }
     },
     "metadata": {},
     "output_type": "display_data"
    }
   ],
   "source": [
    "fig = px.line(df_animation, x=\"year\", y=[ 'Renewable', 'Nuclear', 'Fossil',  ],\n",
    "              height = 500, width = 800,\n",
    "              animation_frame=\"frame\",\n",
    "            #   animation_group=\"Year\",\n",
    "              # color_discrete_sequence=['rgb(120,0,100)', 'rgb(30,0,100)','rgb(0,0,0)'],\n",
    "              title = 'Electricity production from fossil fuels, nuclear and renewables, World')\n",
    "\n",
    "fig.layout.updatemenus[0].buttons[0]['args'][1]['frame']['redraw'] = True\n",
    "fig.show()"
   ]
  },
  {
   "cell_type": "code",
   "execution_count": null,
   "metadata": {},
   "outputs": [],
   "source": []
  }
 ],
 "metadata": {
  "kernelspec": {
   "display_name": ".venv",
   "language": "python",
   "name": "python3"
  },
  "language_info": {
   "codemirror_mode": {
    "name": "ipython",
    "version": 3
   },
   "file_extension": ".py",
   "mimetype": "text/x-python",
   "name": "python",
   "nbconvert_exporter": "python",
   "pygments_lexer": "ipython3",
   "version": "3.11.4"
  }
 },
 "nbformat": 4,
 "nbformat_minor": 2
}
