{
 "cells": [
  {
   "cell_type": "markdown",
   "metadata": {},
   "source": [
    "# Making Dot Plots"
   ]
  },
  {
   "cell_type": "markdown",
   "metadata": {},
   "source": [
    "A Dot Plot, also known as a Cleveland Dot Plot, is a simple yet effective data visualization tool that displays quantitative data for various categories. It is most commonly used for comparing numerical values across two categories when you want to prioritize readability and avoid the clutter of other chart types.\n",
    "\n",
    "They are typically used as an alternative to bar charts. Instead of bars, dot plots use points (dots) aligned to show data values. Each dot represents a data point, and its position along an axis corresponds to a numerical value.\n",
    "\n",
    "Dot plots are often associated with William S. Cleveland, a statistician who popularised this form of data visualization in the context of exploratory data analysis. Cleveland’s work emphasised the value of simple, clear, and interpretable visualizations."
   ]
  },
  {
   "cell_type": "markdown",
   "metadata": {},
   "source": [
    "## Getting ready"
   ]
  },
  {
   "cell_type": "markdown",
   "metadata": {},
   "source": [
    "To create the data set for this recipe, we need to read a `csv` file and filter some of its data"
   ]
  },
  {
   "cell_type": "code",
   "execution_count": null,
   "metadata": {},
   "outputs": [],
   "source": [
    "import pandas as pd"
   ]
  },
  {
   "cell_type": "code",
   "execution_count": null,
   "metadata": {},
   "outputs": [],
   "source": [
    "data = pd.read_csv('data/data_recipe05.csv')\n",
    "data = data[['Reference area', 'Time period', 'Sex', 'Value', 'Country ISO3']]\n",
    "data = data[data['Sex']!='Total']"
   ]
  },
  {
   "cell_type": "code",
   "execution_count": null,
   "metadata": {},
   "outputs": [],
   "source": [
    "data.head()"
   ]
  },
  {
   "cell_type": "markdown",
   "metadata": {},
   "source": [
    "## How to do it"
   ]
  },
  {
   "cell_type": "markdown",
   "metadata": {},
   "source": [
    "### Using `plotly Express`"
   ]
  },
  {
   "cell_type": "markdown",
   "metadata": {},
   "source": [
    "1. Import the `plotly.express` module as `px`"
   ]
  },
  {
   "cell_type": "code",
   "execution_count": null,
   "metadata": {},
   "outputs": [],
   "source": [
    "import plotly.express as px"
   ]
  },
  {
   "cell_type": "code",
   "execution_count": null,
   "metadata": {},
   "outputs": [],
   "source": [
    "df = data"
   ]
  },
  {
   "cell_type": "markdown",
   "metadata": {},
   "source": [
    "2. Start by making a simple scatter plot using the function `scatter`. We are going to differentiate the two categories (Female and Male) using the inputs `color` and `symbol` both set to the relevant column, in this case `Sex`.\n"
   ]
  },
  {
   "cell_type": "code",
   "execution_count": null,
   "metadata": {},
   "outputs": [],
   "source": [
    "fig = px.scatter(df, x=\"Country ISO3\", y=\"Value\", \n",
    "                 color=\"Sex\", symbol=\"Sex\",\n",
    "                 title=\"Women as a share of all 16-24 year-olds who can program\"\n",
    "                )\n",
    "fig.show()"
   ]
  },
  {
   "cell_type": "markdown",
   "metadata": {},
   "source": [
    "2. Add a title to your chart by passing a string as the input `title`"
   ]
  },
  {
   "cell_type": "code",
   "execution_count": null,
   "metadata": {},
   "outputs": [],
   "source": [
    "fig = px.scatter(df, x=\"Country ISO3\", y=\"Value\", \n",
    "                 color=\"Sex\", symbol=\"Sex\",\n",
    "                )\n",
    "fig.show()"
   ]
  },
  {
   "cell_type": "markdown",
   "metadata": {},
   "source": [
    "3. Customise the size of the figure by using the inputs `height` and `width`. Both have to be integers and correspond to the size of the figure in pixels."
   ]
  },
  {
   "cell_type": "code",
   "execution_count": null,
   "metadata": {},
   "outputs": [],
   "source": [
    "fig = px.scatter(df, x=\"Country ISO3\", y=\"Value\", \n",
    "                 color=\"Sex\",\n",
    "                 symbol=\"Sex\",\n",
    "                 title=\"Women as a share of all 16-24 year-olds who can program\",\n",
    "                 width=900, height=500\n",
    "                )\n",
    "fig.show()"
   ]
  },
  {
   "cell_type": "markdown",
   "metadata": {},
   "source": [
    "4. Customise the colors used in the scatter by using the input `color_discrete_sequence`"
   ]
  },
  {
   "cell_type": "code",
   "execution_count": null,
   "metadata": {},
   "outputs": [],
   "source": [
    "fig = px.scatter(df, x=\"Country ISO3\", y=\"Value\", \n",
    "                 color=\"Sex\",\n",
    "                 symbol=\"Sex\",\n",
    "                 color_discrete_sequence = px.colors.qualitative.Set1,\n",
    "                 title=\"Women as a share of all 16-24 year-olds who can program\",\n",
    "                 width=900, height=500\n",
    "                )\n",
    "fig.show()"
   ]
  },
  {
   "cell_type": "markdown",
   "metadata": {},
   "source": [
    "Alternatively, you can specify the colors by using `color_discrete_map`. This allows you to pass a dictionary to map each category into a particular color."
   ]
  },
  {
   "cell_type": "code",
   "execution_count": null,
   "metadata": {},
   "outputs": [],
   "source": [
    "fig = px.scatter(df, x=\"Country ISO3\", y=\"Value\", \n",
    "                 color=\"Sex\",\n",
    "                 symbol=\"Sex\",\n",
    "                 color_discrete_map = {'Female':'purple', 'Male':'Green'},\n",
    "                 title=\"Women as a share of all 16-24 year-olds who can program\",\n",
    "                 width=900, height=500\n",
    "                )\n",
    "fig.show()"
   ]
  },
  {
   "cell_type": "markdown",
   "metadata": {},
   "source": [
    "Note: You don't have to specify all the categories available in the mapping. For example, in the following snippet we only set the color for the category 'Female' and left the rest to `plotly`"
   ]
  },
  {
   "cell_type": "code",
   "execution_count": null,
   "metadata": {},
   "outputs": [],
   "source": [
    "fig = px.scatter(df, x=\"Country ISO3\", y=\"Value\", \n",
    "                 color=\"Sex\",\n",
    "                 symbol=\"Sex\",\n",
    "                 color_discrete_map = {'Female':'purple'},\n",
    "                 title=\"Women as a share of all 16-24 year-olds who can program\",\n",
    "                 width=900, height=500\n",
    "                )\n",
    "fig.show()"
   ]
  },
  {
   "cell_type": "markdown",
   "metadata": {},
   "source": [
    "5. Change the orientation of the x-axis text by calling the Figure method `update_xaxis` and passing a dictionary with the `value` -90 into the key `tickangle`. This has the effect of rotating the text by -90 degrees."
   ]
  },
  {
   "cell_type": "code",
   "execution_count": null,
   "metadata": {},
   "outputs": [],
   "source": [
    "fig = px.scatter(df, x=\"Country ISO3\", y=\"Value\", \n",
    "                 color=\"Sex\",\n",
    "                 symbol=\"Sex\",\n",
    "                 color_discrete_map = {'Female':'purple', 'Male':'Green'},\n",
    "                 title=\"Women as a share of all 16-24 year-olds who can program\",\n",
    "                 width=900, height=500\n",
    "                )\n",
    "fig.update_xaxes({'tickangle':-90})\n",
    "fig.show()\n",
    "\n"
   ]
  },
  {
   "cell_type": "markdown",
   "metadata": {},
   "source": [
    "We can get the same effect by using the Figure method `update_layout` as follows:"
   ]
  },
  {
   "cell_type": "code",
   "execution_count": null,
   "metadata": {},
   "outputs": [],
   "source": [
    "fig = px.scatter(df, x=\"Country ISO3\", y=\"Value\", \n",
    "                 color=\"Sex\",\n",
    "                 symbol=\"Sex\",\n",
    "                 color_discrete_map = {'Female':'purple', 'Male':'Green'},\n",
    "                 title=\"Women as a share of all 16-24 year-olds who can program\",\n",
    "                 width=900, height=500\n",
    "                )\n",
    "fig.update_layout(xaxis={'tickangle':-90})\n",
    "fig.show()"
   ]
  },
  {
   "cell_type": "markdown",
   "metadata": {},
   "source": [
    "### Using `plotly Go`"
   ]
  },
  {
   "cell_type": "markdown",
   "metadata": {},
   "source": [
    "1. Import the Plotly Graph Objects library as `go`"
   ]
  },
  {
   "cell_type": "code",
   "execution_count": null,
   "metadata": {},
   "outputs": [],
   "source": [
    "import plotly.graph_objects as go"
   ]
  },
  {
   "cell_type": "markdown",
   "metadata": {},
   "source": [
    "1. Define a blank figue using the method `Figure`"
   ]
  },
  {
   "cell_type": "code",
   "execution_count": null,
   "metadata": {},
   "outputs": [],
   "source": [
    "fig = go.Figure()\n",
    "fig.show()"
   ]
  },
  {
   "cell_type": "markdown",
   "metadata": {},
   "source": [
    "2. Use the method `update_layout` to add a title and customise the figure size, using the inputs\n",
    "- `title`\n",
    "- `width` and `height`\n",
    "respectivelyl."
   ]
  },
  {
   "cell_type": "code",
   "execution_count": null,
   "metadata": {},
   "outputs": [],
   "source": [
    "fig = go.Figure()\n",
    "\n",
    "fig.update_layout(title=\"Female/Male as a share of all 16-24 year-olds who can program\", \n",
    "                width=900, height=500)\n",
    "\n",
    "fig.show()"
   ]
  },
  {
   "cell_type": "markdown",
   "metadata": {},
   "source": [
    "3. Loop over the unique values in the column which define the `x` values, in this case `Country ISO3`.\n",
    "For each value: Get the subset of the data matching each value. Then, extract the values corresponding to each category (in this case 'Female', 'Male'). Add a trace for each of these extracts, by calling `go.Scatter`.\n",
    "\n",
    "Notes:\n",
    "\n",
    "-  We specify the markers  by passina a dictionary as the `marker` input. This allows you great customisation of the symbols.\n",
    "-  We call the method `update_layout` and pass `showlegend=False`. This prevents the legend to appear next to the chart. In this case, we will have too many labels (one per each trace) resulting on an overcrowded figure. So, we hide them."
   ]
  },
  {
   "cell_type": "code",
   "execution_count": null,
   "metadata": {},
   "outputs": [],
   "source": [
    "fig = go.Figure()\n",
    "\n",
    "for country in df[\"Country ISO3\"].unique():\n",
    "    subset = df[df[\"Country ISO3\"] == country]\n",
    "    female = subset[subset[\"Sex\"] == \"Female\"]\n",
    "    male = subset[subset[\"Sex\"] == \"Male\"]\n",
    "    \n",
    "    fig.add_trace(go.Scatter(x=female[\"Country ISO3\"], y=female[\"Value\"],\n",
    "                        marker = dict(color=\"purple\",\n",
    "                                      symbol=\"circle\",\n",
    "                                      size=7)\n",
    "                        ))\n",
    "    fig.add_trace(go.Scatter(x=male[\"Country ISO3\"], y=male[\"Value\"],\n",
    "                        marker = dict(color=\"green\",\n",
    "                                      symbol=\"diamond\",\n",
    "                                      size=7,\n",
    "                                      )\n",
    "                        ))\n",
    "    \n",
    "fig.update_layout(title=\"Female/Male as a share of all 16-24 year-olds who can program\",\n",
    "                  width=900, height=500)\n",
    "\n",
    "fig.update_layout(showlegend=False)\n",
    "\n",
    "fig.show()\n"
   ]
  },
  {
   "cell_type": "markdown",
   "metadata": {},
   "source": [
    "4. Rotate the x-axis text by using the Figure method `update_layout` as we did before"
   ]
  },
  {
   "cell_type": "code",
   "execution_count": null,
   "metadata": {},
   "outputs": [],
   "source": [
    "fig = go.Figure()\n",
    "\n",
    "for country in df[\"Country ISO3\"].unique():\n",
    "    subset = df[df[\"Country ISO3\"] == country]\n",
    "    female = subset[subset[\"Sex\"] == \"Female\"]\n",
    "    male = subset[subset[\"Sex\"] == \"Male\"]\n",
    "    \n",
    "    fig.add_trace(go.Scatter(x=subset[\"Country ISO3\"], y=subset[\"Value\"],\n",
    "                            marker = dict(color=\"gray\"\n",
    "                                          )\n",
    "                            ))\n",
    "    fig.add_trace(go.Scatter(x=female[\"Country ISO3\"], y=female[\"Value\"],\n",
    "                        marker = dict(color=\"purple\",\n",
    "                                      symbol=\"circle\",\n",
    "                                      size=7)\n",
    "                        ))\n",
    "    fig.add_trace(go.Scatter(x=male[\"Country ISO3\"], y=male[\"Value\"],\n",
    "                        marker = dict(color=\"green\",\n",
    "                                      symbol=\"diamond\",\n",
    "                                      size=7,\n",
    "                                      )\n",
    "                        ))\n",
    "\n",
    "fig.update_layout(title=\"Female/Male as a share of all 16-24 year-olds who can program\", \n",
    "                  xaxis={'tickangle':-90},\n",
    "                  width=900, height=500,\n",
    "                  showlegend=False)\n",
    "\n",
    "fig.show()"
   ]
  }
 ],
 "metadata": {
  "kernelspec": {
   "display_name": ".venv",
   "language": "python",
   "name": "python3"
  },
  "language_info": {
   "codemirror_mode": {
    "name": "ipython",
    "version": 3
   },
   "file_extension": ".py",
   "mimetype": "text/x-python",
   "name": "python",
   "nbconvert_exporter": "python",
   "pygments_lexer": "ipython3",
   "version": "3.11.4"
  }
 },
 "nbformat": 4,
 "nbformat_minor": 2
}
